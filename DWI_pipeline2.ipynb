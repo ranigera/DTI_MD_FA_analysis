{
 "cells": [
  {
   "cell_type": "markdown",
   "metadata": {},
   "source": [
    "# Analyze DTI"
   ]
  },
  {
   "cell_type": "markdown",
   "metadata": {},
   "source": [
    "Convert ANTs H5 warp files to fsl format\n",
    "I used the c(3): \n",
    "https://www.jiscmail.ac.uk/cgi-bin/webadmin?A2=fsl;c21935f9.1901\n",
    "\n",
    " /Users/ranigera/Downloads/Convert3DGUI.app/Contents/bin/c3d_affine_tool -ref sub-175_desc-preproc_T1w.nii.gz -src sub-175_first_processed_B0_before.nii.gz sub-175_first_processed_B0_reg_to_native_T1_before.mat -fsl2ras -oitk ANTS_ref_T1.txt\n",
    "\n",
    "\n",
    "antsApplyTransforms -i sub-175_first_processed_B0_before.nii.gz -r ${FSLDIR}/data/standard/MNI152_T1_2mm.nii.gz -o B0_in_mni_fromT1regFINAL.nii.gz -t sub-175_from-T1w_to-MNI152NLin2009cAsym_mode-image_xfm.h5 -t ANTS_ref_T1.txt \n",
    "\n"
   ]
  },
  {
   "cell_type": "code",
   "execution_count": 3,
   "metadata": {},
   "outputs": [],
   "source": [
    "# import packages\n",
    "# -----------------------------------------------------------------------------\n",
    "# import pip\n",
    "# pip.main(['install', 'seaborn']) \n",
    "import pandas as pd\n",
    "import numpy as np\n",
    "#import matplotlib.pyplot as plt\n",
    "#import seaborn as sns\n",
    "import os\n",
    "import glob\n",
    "import subprocess\n",
    "import sys\n",
    "import json\n",
    "import platform\n",
    "import socket"
   ]
  },
  {
   "cell_type": "code",
   "execution_count": 4,
   "metadata": {},
   "outputs": [],
   "source": [
    "# parameters\n",
    "# -----------------------------------------------------------------------------\n",
    "MANUALLY_EXCLUDE_SUBJECTS = []\n",
    "\n",
    "running_on = 'server' if 'Linux' in platform.system() else 'my_mac'\n",
    "\n",
    "if running_on == 'my_mac':\n",
    "    data_path = '/Users/ranigera/Dropbox/DTI_tests'\n",
    "    preproc_path = '/Users/ranigera/Dropbox/DTI_tests/preproc'\n",
    "    dti_path = '/Users/ranigera/Dropbox/DTI_tests/dti'\n",
    "    stats_path = '/Users/ranigera/Dropbox/DTI_tests/stats'\n",
    "    models_path = stats_path + '/models'\n",
    "    launch_files_path = '/Users/ranigera/Dropbox/DTI_analysis/launch_files'\n",
    "else:\n",
    "    data_path = '/export2/DATA/HIS/HIS_server/BIDS'\n",
    "    preproc_path = '/export2/DATA/HIS/HIS_server/analysis/dwi_data/preproc'\n",
    "    dti_path = '/export2/DATA/HIS/HIS_server/analysis/dwi_data/dti'\n",
    "    stats_path = '/export2/DATA/HIS/HIS_server/analysis/dwi_data/stats'\n",
    "    models_path = stats_path + '/models'\n",
    "    launch_files_path = '/export2/DATA/HIS/HIS_server/codes_dwi/launch_files'\n",
    "    behav_data_path = '/export2/DATA/HIS/HIS_server/analysis/behavior_analysis_output/my_databases/txt_data'\n",
    "\n",
    "fmriPrepAnatomyDerivatives_path = data_path + '/derivatives/fmriprep'\n",
    "\n",
    "expectedVolums = {\n",
    "    'AP': 69,\n",
    "    'PA' : 7,\n",
    "    }\n",
    "expectedB0s_indxs = {\n",
    "    'AP_before': [0, 1, 18, 35, 52],\n",
    "    'PA_before': [0, 2, 3, 4, 5, 6],\n",
    "    'AP_after': [0, 1, 18, 35, 52],\n",
    "    'PA_after': [0, 2, 3, 4, 5, 6]\n",
    "    }\n",
    "\n",
    "n_cores_TOPUP = 2\n",
    "\n",
    "# setting EDDY stuff:\n",
    "EDDY_command = 'eddy_openmp' if running_on == 'server' else 'eddy' # for the boost server\n",
    "EDDY_command = 'eddy_cuda10.2' if running_on == 'server' else 'eddy' # for the cheshire server\n",
    "ssh_command_for_cheshire_server = 'ssh shirangera@cheshire.tau.ac.il' if 'boost' in socket.gethostname() else ''\n",
    "\n",
    "n_expected_EDDY_output_files = 13\n",
    "n_cores_EDDY = 4 # relevant only for running using files (currently disabled as I run it on cheshire's GPU)\n",
    "\n",
    "n_expected_DTIFIT_output_files = 10\n",
    "\n",
    "masks_paths = {\n",
    "    'Caudate': '/export2/DATA/HIS/HIS_server/DTI_assitance_files/masks/Harvard-Oxford/CaudateHead_Y-larger-than-1-mask.nii.gz',\n",
    "    'Putamen': '/export2/DATA/HIS/HIS_server/DTI_assitance_files/masks/Harvard-Oxford/Putamen-mask.nii.gz',\n",
    "    'vmPFC':   '/export2/DATA/HIS/HIS_server/DTI_assitance_files/masks/Harvard-Oxford/vmPFC-mask.nii.gz',\n",
    "}"
   ]
  },
  {
   "cell_type": "code",
   "execution_count": 5,
   "metadata": {},
   "outputs": [],
   "source": [
    "# Define functions\n",
    "# -----------------------------------------------------------------------------\n",
    "def createSubjectScansBaseNames(subjFolder, data_path):\n",
    "    sub = int(subjFolder.split(\"-\",1)[1])\n",
    "    group = '1day' if sub < 200 else '3day'\n",
    "    last_sess = group[0]\n",
    "    DWI_path_before = os.path.join(data_path, subjFolder, 'ses-1/dwi/')\n",
    "    DWI_path_after = os.path.join(data_path, subjFolder, f'ses-{last_sess}/dwi/')\n",
    "    scansBaseNames = {\n",
    "        'AP_before': f'{os.path.join(DWI_path_before, \"sub-\" + str(sub) + \"_ses-1_acq-ap_run-01_dwi\")}',\n",
    "        'PA_before' : f'{os.path.join(DWI_path_before, \"sub-\" + str(sub) + \"_ses-1_acq-pa_run-01_dwi\")}',\n",
    "        'AP_after' : f'{os.path.join(DWI_path_after, \"sub-\" + str(sub) + \"_ses-\" + last_sess + \"_acq-ap_run-02_dwi\")}',\n",
    "        'PA_after' : f'{os.path.join(DWI_path_after, \"sub-\" + str(sub) + \"_ses-\" + last_sess + \"_acq-pa_run-02_dwi\")}'\n",
    "        }\n",
    "    return scansBaseNames\n",
    "\n",
    "def get_sub_B0_files(subjFolder, scansBaseNames, B0s_indxs):\n",
    "    sub_B0s_files = []\n",
    "    for scan in scansBaseNames.keys():\n",
    "        for B0ind in B0s_indxs[scan]:\n",
    "            B0_file_name = os.path.join(preproc_path, subjFolder, subjFolder + '_' + scan + \"_b0_volInd-\" + str(B0ind) + \".nii.gz\")\n",
    "            sub_B0s_files.append(B0_file_name)\n",
    "    return sub_B0s_files\n"
   ]
  },
  {
   "cell_type": "code",
   "execution_count": 6,
   "metadata": {},
   "outputs": [
    {
     "name": "stdout",
     "output_type": "stream",
     "text": [
      ">> Get sub folders\n"
     ]
    }
   ],
   "source": [
    "# Get folders and remove excluded subjects\n",
    "# -----------------------------------------------------------------------------\n",
    "print('>> Get sub folders')\n",
    "subjFolders = [el for el in os.listdir(data_path) if 'sub' in el]\n",
    "\n",
    "if running_on == 'my_mac':\n",
    "    print('>> Get exclusion list')\n",
    "    with open('/Users/ranigera/Google_Drive_TAU/Experiments/HIS_STUDY/Analysis/codes/paths_and_vars.py') as txtFile:\n",
    "        txt = txtFile.read()\n",
    "    participantsToExclude = [int(el) for el in txt.split('participantsToExclude = [')[1].split(']')[0].replace('\\n','').replace('\\n','').replace(\"'\",\"\").split(',')]\n",
    "\n",
    "    print('>> Remove sub folders of excluded participants in case they are there')\n",
    "    subjFolders = [el for el in subjFolders if int(el.split('-')[1]) not in participantsToExclude]\n",
    "\n",
    "if MANUALLY_EXCLUDE_SUBJECTS:\n",
    "    subjFolders = [el for el in subjFolders if int(el.split('-')[1]) not in MANUALLY_EXCLUDE_SUBJECTS]\n",
    "    \n",
    "subjFolders.sort()"
   ]
  },
  {
   "cell_type": "markdown",
   "metadata": {},
   "source": [
    "## Check for missing scans or wrong phase encoding directions for ALL SUBJECTS "
   ]
  },
  {
   "cell_type": "code",
   "execution_count": 7,
   "metadata": {},
   "outputs": [
    {
     "name": "stdout",
     "output_type": "stream",
     "text": [
      ">> Verify that all the scans exist and that the phase encoding directions are as they should.\n",
      " *** There is a problem with the scanning directions: /export2/DATA/HIS/HIS_server/BIDS/sub-110/ses-1/dwi/sub-110_ses-1_acq-pa_run-01_dwi.json is defined as j-.\n",
      " *** There is a problem with the scanning directions: /export2/DATA/HIS/HIS_server/BIDS/sub-110/ses-1/dwi/sub-110_ses-1_acq-pa_run-02_dwi.json is defined as j-.\n",
      " *** There is a problem with the scanning directions: /export2/DATA/HIS/HIS_server/BIDS/sub-204/ses-3/dwi/sub-204_ses-3_acq-pa_run-02_dwi.json is defined as j-.\n",
      " *** There is a problem with the scanning directions: /export2/DATA/HIS/HIS_server/BIDS/sub-207/ses-1/dwi/sub-207_ses-1_acq-pa_run-01_dwi.json is defined as j-.\n",
      " *** There is a problem with the scanning directions: /export2/DATA/HIS/HIS_server/BIDS/sub-209/ses-1/dwi/sub-209_ses-1_acq-pa_run-01_dwi.json is defined as j-.\n",
      " *** Scan not found: /export2/DATA/HIS/HIS_server/BIDS/sub-255/ses-1/dwi/sub-255_ses-1_acq-pa_run-01_dwi.json\n",
      " *** Scan not found: /export2/DATA/HIS/HIS_server/BIDS/sub-259/ses-3/dwi/sub-259_ses-3_acq-ap_run-02_dwi.json\n",
      " *** Scan not found: /export2/DATA/HIS/HIS_server/BIDS/sub-259/ses-3/dwi/sub-259_ses-3_acq-pa_run-02_dwi.json\n"
     ]
    }
   ],
   "source": [
    "print ('>> Verify that all the scans exist and that the phase encoding directions are as they should.')\n",
    "subjectsWithAProblem = []\n",
    "for subjFolder in subjFolders:\n",
    "    sub = int(subjFolder.split(\"-\",1)[1])\n",
    "    scansBaseNames = createSubjectScansBaseNames(subjFolder, data_path)\n",
    "    for scan in scansBaseNames.keys():\n",
    "        # print(scansBaseNames[scan] + '.json')\n",
    "        # print(scanData['PhaseEncodingDirection'])\n",
    "        if not os.path.exists(scansBaseNames[scan] + '.json'):\n",
    "            subjectsWithAProblem.append(sub)\n",
    "            print(' *** Scan not found: ' + scansBaseNames[scan] + '.json')\n",
    "            continue\n",
    "        with open(scansBaseNames[scan] + '.json') as json_file:        \n",
    "            scanData = json.load(json_file)\n",
    "            if ('acq-ap_' in scansBaseNames[scan] and scanData['PhaseEncodingDirection'] != 'j-') or \\\n",
    "                ('acq-pa_' in scansBaseNames[scan] and scanData['PhaseEncodingDirection'] != 'j'):\n",
    "                subjectsWithAProblem.append(sub)\n",
    "                print(' *** There is a problem with the scanning directions: ' + scansBaseNames[scan] + '.json is defined as ' + scanData['PhaseEncodingDirection'] + '.')\n",
    "                continue\n",
    "\n",
    "subjectsWithAProblem = list(set(subjectsWithAProblem))\n",
    "subjectsWithAProblem.sort()"
   ]
  },
  {
   "cell_type": "code",
   "execution_count": 8,
   "metadata": {},
   "outputs": [
    {
     "name": "stdout",
     "output_type": "stream",
     "text": [
      ">> Remove subjects with a problem and sort the list\n"
     ]
    }
   ],
   "source": [
    "# Remove subjects with a problem\n",
    "# -----------------------------------------------------------------------------\n",
    "print('>> Remove subjects with a problem and sort the list')\n",
    "subjFolders =[el for el in subjFolders if int(el.split('-')[1]) not in subjectsWithAProblem]\n",
    "subjFolders.sort()"
   ]
  },
  {
   "cell_type": "markdown",
   "metadata": {},
   "source": [
    "## Get b0 volume indices and perform bval & bvec QA"
   ]
  },
  {
   "cell_type": "code",
   "execution_count": 9,
   "metadata": {},
   "outputs": [
    {
     "name": "stdout",
     "output_type": "stream",
     "text": [
      "> Verify that data points in the bval files is as expected.\n",
      "> Verify that data points in the bvec files is as expected.\n",
      "> Extract B0s:\n",
      "> Verify that b0 quantity and indices are as expected.\n",
      "> Verify that data points in the bval files is as expected.\n",
      "> Verify that data points in the bvec files is as expected.\n",
      "> Extract B0s:\n",
      "> Verify that b0 quantity and indices are as expected.\n",
      "> Verify that data points in the bval files is as expected.\n",
      "> Verify that data points in the bvec files is as expected.\n",
      "> Extract B0s:\n",
      "> Verify that b0 quantity and indices are as expected.\n",
      "> Verify that data points in the bval files is as expected.\n",
      "> Verify that data points in the bvec files is as expected.\n",
      "> Extract B0s:\n",
      "> Verify that b0 quantity and indices are as expected.\n",
      "> Verify that data points in the bval files is as expected.\n",
      "> Verify that data points in the bvec files is as expected.\n",
      "> Extract B0s:\n",
      "> Verify that b0 quantity and indices are as expected.\n",
      "> Verify that data points in the bval files is as expected.\n",
      "> Verify that data points in the bvec files is as expected.\n",
      "> Extract B0s:\n",
      "> Verify that b0 quantity and indices are as expected.\n",
      "> Verify that data points in the bval files is as expected.\n",
      "> Verify that data points in the bvec files is as expected.\n",
      "> Extract B0s:\n",
      "> Verify that b0 quantity and indices are as expected.\n",
      "> Verify that data points in the bval files is as expected.\n",
      "> Verify that data points in the bvec files is as expected.\n",
      "> Extract B0s:\n",
      "> Verify that b0 quantity and indices are as expected.\n",
      "> Verify that data points in the bval files is as expected.\n",
      "> Verify that data points in the bvec files is as expected.\n",
      "> Extract B0s:\n",
      "> Verify that b0 quantity and indices are as expected.\n",
      "> Verify that data points in the bval files is as expected.\n",
      "> Verify that data points in the bvec files is as expected.\n",
      "> Extract B0s:\n",
      "> Verify that b0 quantity and indices are as expected.\n",
      "> Verify that data points in the bval files is as expected.\n",
      "> Verify that data points in the bvec files is as expected.\n",
      "> Extract B0s:\n",
      "> Verify that b0 quantity and indices are as expected.\n",
      "> Verify that data points in the bval files is as expected.\n",
      "> Verify that data points in the bvec files is as expected.\n",
      "> Extract B0s:\n",
      "> Verify that b0 quantity and indices are as expected.\n",
      "> Verify that data points in the bval files is as expected.\n",
      "> Verify that data points in the bvec files is as expected.\n",
      "> Extract B0s:\n",
      "> Verify that b0 quantity and indices are as expected.\n",
      "> Verify that data points in the bval files is as expected.\n",
      "> Verify that data points in the bvec files is as expected.\n",
      "> Extract B0s:\n",
      "> Verify that b0 quantity and indices are as expected.\n",
      "> Verify that data points in the bval files is as expected.\n",
      "> Verify that data points in the bvec files is as expected.\n",
      "> Extract B0s:\n",
      "> Verify that b0 quantity and indices are as expected.\n",
      "> Verify that data points in the bval files is as expected.\n",
      "> Verify that data points in the bvec files is as expected.\n",
      "> Extract B0s:\n",
      "> Verify that b0 quantity and indices are as expected.\n",
      "> Verify that data points in the bval files is as expected.\n",
      "> Verify that data points in the bvec files is as expected.\n",
      "> Extract B0s:\n",
      "> Verify that b0 quantity and indices are as expected.\n",
      "> Verify that data points in the bval files is as expected.\n",
      "> Verify that data points in the bvec files is as expected.\n",
      "> Extract B0s:\n",
      "> Verify that b0 quantity and indices are as expected.\n",
      "> Verify that data points in the bval files is as expected.\n",
      "> Verify that data points in the bvec files is as expected.\n",
      "> Extract B0s:\n",
      "> Verify that b0 quantity and indices are as expected.\n",
      "> Verify that data points in the bval files is as expected.\n",
      "> Verify that data points in the bvec files is as expected.\n",
      "> Extract B0s:\n",
      "> Verify that b0 quantity and indices are as expected.\n",
      "> Verify that data points in the bval files is as expected.\n",
      "> Verify that data points in the bvec files is as expected.\n",
      "> Extract B0s:\n",
      "> Verify that b0 quantity and indices are as expected.\n",
      "> Verify that data points in the bval files is as expected.\n",
      "> Verify that data points in the bvec files is as expected.\n",
      "> Extract B0s:\n",
      "> Verify that b0 quantity and indices are as expected.\n",
      "> Verify that data points in the bval files is as expected.\n",
      "> Verify that data points in the bvec files is as expected.\n",
      "> Extract B0s:\n",
      "> Verify that b0 quantity and indices are as expected.\n",
      "> Verify that data points in the bval files is as expected.\n",
      "> Verify that data points in the bvec files is as expected.\n",
      "> Extract B0s:\n",
      "> Verify that b0 quantity and indices are as expected.\n",
      "> Verify that data points in the bval files is as expected.\n",
      "> Verify that data points in the bvec files is as expected.\n",
      "> Extract B0s:\n",
      "> Verify that b0 quantity and indices are as expected.\n",
      "> Verify that data points in the bval files is as expected.\n",
      "> Verify that data points in the bvec files is as expected.\n",
      "> Extract B0s:\n",
      "> Verify that b0 quantity and indices are as expected.\n",
      "> Verify that data points in the bval files is as expected.\n",
      "> Verify that data points in the bvec files is as expected.\n",
      "> Extract B0s:\n",
      "> Verify that b0 quantity and indices are as expected.\n",
      "> Verify that data points in the bval files is as expected.\n",
      "> Verify that data points in the bvec files is as expected.\n",
      "> Extract B0s:\n",
      "> Verify that b0 quantity and indices are as expected.\n",
      "> Verify that data points in the bval files is as expected.\n",
      "> Verify that data points in the bvec files is as expected.\n",
      "> Extract B0s:\n",
      "> Verify that b0 quantity and indices are as expected.\n",
      "> Verify that data points in the bval files is as expected.\n",
      "> Verify that data points in the bvec files is as expected.\n",
      "> Extract B0s:\n",
      "> Verify that b0 quantity and indices are as expected.\n",
      "> Verify that data points in the bval files is as expected.\n",
      "> Verify that data points in the bvec files is as expected.\n",
      "> Extract B0s:\n",
      "> Verify that b0 quantity and indices are as expected.\n",
      "> Verify that data points in the bval files is as expected.\n",
      "> Verify that data points in the bvec files is as expected.\n",
      "> Extract B0s:\n",
      "> Verify that b0 quantity and indices are as expected.\n",
      "> Verify that data points in the bval files is as expected.\n",
      "> Verify that data points in the bvec files is as expected.\n",
      "> Extract B0s:\n",
      "> Verify that b0 quantity and indices are as expected.\n",
      "> Verify that data points in the bval files is as expected.\n",
      "> Verify that data points in the bvec files is as expected.\n",
      "> Extract B0s:\n",
      "> Verify that b0 quantity and indices are as expected.\n",
      "> Verify that data points in the bval files is as expected.\n",
      "> Verify that data points in the bvec files is as expected.\n",
      "> Extract B0s:\n",
      "> Verify that b0 quantity and indices are as expected.\n",
      "> Verify that data points in the bval files is as expected.\n",
      "> Verify that data points in the bvec files is as expected.\n",
      "> Extract B0s:\n",
      "> Verify that b0 quantity and indices are as expected.\n",
      "> Verify that data points in the bval files is as expected.\n",
      "> Verify that data points in the bvec files is as expected.\n",
      "> Extract B0s:\n",
      "> Verify that b0 quantity and indices are as expected.\n",
      "> Verify that data points in the bval files is as expected.\n",
      "> Verify that data points in the bvec files is as expected.\n",
      "> Extract B0s:\n",
      "> Verify that b0 quantity and indices are as expected.\n",
      "> Verify that data points in the bval files is as expected.\n",
      "> Verify that data points in the bvec files is as expected.\n",
      "> Extract B0s:\n",
      "> Verify that b0 quantity and indices are as expected.\n",
      "> Verify that data points in the bval files is as expected.\n",
      "> Verify that data points in the bvec files is as expected.\n",
      "> Extract B0s:\n",
      "> Verify that b0 quantity and indices are as expected.\n",
      "> Verify that data points in the bval files is as expected.\n",
      "> Verify that data points in the bvec files is as expected.\n",
      "> Extract B0s:\n",
      "> Verify that b0 quantity and indices are as expected.\n",
      "> Verify that data points in the bval files is as expected.\n",
      "> Verify that data points in the bvec files is as expected.\n",
      "> Extract B0s:\n",
      "> Verify that b0 quantity and indices are as expected.\n",
      "> Verify that data points in the bval files is as expected.\n",
      "> Verify that data points in the bvec files is as expected.\n",
      "> Extract B0s:\n",
      "> Verify that b0 quantity and indices are as expected.\n",
      "> Verify that data points in the bval files is as expected.\n",
      "> Verify that data points in the bvec files is as expected.\n",
      "> Extract B0s:\n",
      "> Verify that b0 quantity and indices are as expected.\n",
      "> Verify that data points in the bval files is as expected.\n",
      "> Verify that data points in the bvec files is as expected.\n",
      "> Extract B0s:\n",
      "> Verify that b0 quantity and indices are as expected.\n",
      "> Verify that data points in the bval files is as expected.\n",
      "> Verify that data points in the bvec files is as expected.\n",
      "> Extract B0s:\n",
      "> Verify that b0 quantity and indices are as expected.\n",
      "> Verify that data points in the bval files is as expected.\n",
      "> Verify that data points in the bvec files is as expected.\n",
      "> Extract B0s:\n",
      "> Verify that b0 quantity and indices are as expected.\n",
      "> Verify that data points in the bval files is as expected.\n",
      "> Verify that data points in the bvec files is as expected.\n",
      "> Extract B0s:\n",
      "> Verify that b0 quantity and indices are as expected.\n",
      "> Verify that data points in the bval files is as expected.\n",
      "> Verify that data points in the bvec files is as expected.\n",
      "> Extract B0s:\n",
      "> Verify that b0 quantity and indices are as expected.\n",
      "> Verify that data points in the bval files is as expected.\n",
      "> Verify that data points in the bvec files is as expected.\n",
      "> Extract B0s:\n",
      "> Verify that b0 quantity and indices are as expected.\n",
      "> Verify that data points in the bval files is as expected.\n",
      "> Verify that data points in the bvec files is as expected.\n",
      "> Extract B0s:\n",
      "> Verify that b0 quantity and indices are as expected.\n",
      "> Verify that data points in the bval files is as expected.\n",
      "> Verify that data points in the bvec files is as expected.\n",
      "> Extract B0s:\n",
      "> Verify that b0 quantity and indices are as expected.\n",
      "> Verify that data points in the bval files is as expected.\n",
      "> Verify that data points in the bvec files is as expected.\n",
      "> Extract B0s:\n",
      "> Verify that b0 quantity and indices are as expected.\n",
      "> Verify that data points in the bval files is as expected.\n",
      "> Verify that data points in the bvec files is as expected.\n",
      "> Extract B0s:\n",
      "> Verify that b0 quantity and indices are as expected.\n",
      "> Verify that data points in the bval files is as expected.\n",
      "> Verify that data points in the bvec files is as expected.\n",
      "> Extract B0s:\n",
      "> Verify that b0 quantity and indices are as expected.\n",
      "> Verify that data points in the bval files is as expected.\n",
      "> Verify that data points in the bvec files is as expected.\n",
      "> Extract B0s:\n",
      "> Verify that b0 quantity and indices are as expected.\n",
      "> Verify that data points in the bval files is as expected.\n",
      "> Verify that data points in the bvec files is as expected.\n",
      "> Extract B0s:\n",
      "> Verify that b0 quantity and indices are as expected.\n",
      "> Verify that data points in the bval files is as expected.\n",
      "> Verify that data points in the bvec files is as expected.\n",
      "> Extract B0s:\n",
      "> Verify that b0 quantity and indices are as expected.\n",
      "> Verify that data points in the bval files is as expected.\n",
      "> Verify that data points in the bvec files is as expected.\n",
      "> Extract B0s:\n",
      "> Verify that b0 quantity and indices are as expected.\n",
      "> Verify that data points in the bval files is as expected.\n",
      "> Verify that data points in the bvec files is as expected.\n",
      "> Extract B0s:\n",
      "> Verify that b0 quantity and indices are as expected.\n",
      "> Verify that data points in the bval files is as expected.\n",
      "> Verify that data points in the bvec files is as expected.\n",
      "> Extract B0s:\n",
      "> Verify that b0 quantity and indices are as expected.\n",
      "> Verify that data points in the bval files is as expected.\n",
      "> Verify that data points in the bvec files is as expected.\n",
      "> Extract B0s:\n",
      "> Verify that b0 quantity and indices are as expected.\n",
      "> Verify that data points in the bval files is as expected.\n",
      "> Verify that data points in the bvec files is as expected.\n",
      "> Extract B0s:\n",
      "> Verify that b0 quantity and indices are as expected.\n",
      "> Verify that data points in the bval files is as expected.\n",
      "> Verify that data points in the bvec files is as expected.\n",
      "> Extract B0s:\n",
      "> Verify that b0 quantity and indices are as expected.\n",
      "> Verify that data points in the bval files is as expected.\n",
      "> Verify that data points in the bvec files is as expected.\n",
      "> Extract B0s:\n",
      "> Verify that b0 quantity and indices are as expected.\n",
      "> Verify that data points in the bval files is as expected.\n",
      "> Verify that data points in the bvec files is as expected.\n",
      "> Extract B0s:\n",
      "> Verify that b0 quantity and indices are as expected.\n",
      "> Verify that data points in the bval files is as expected.\n",
      "> Verify that data points in the bvec files is as expected.\n",
      "> Extract B0s:\n",
      "> Verify that b0 quantity and indices are as expected.\n",
      "> Verify that data points in the bval files is as expected.\n",
      "> Verify that data points in the bvec files is as expected.\n",
      "> Extract B0s:\n",
      "> Verify that b0 quantity and indices are as expected.\n",
      "> Verify that data points in the bval files is as expected.\n",
      "> Verify that data points in the bvec files is as expected.\n",
      "> Extract B0s:\n",
      "> Verify that b0 quantity and indices are as expected.\n",
      "> Verify that data points in the bval files is as expected.\n",
      "> Verify that data points in the bvec files is as expected.\n",
      "> Extract B0s:\n",
      "> Verify that b0 quantity and indices are as expected.\n",
      "> Verify that data points in the bval files is as expected.\n",
      "> Verify that data points in the bvec files is as expected.\n",
      "> Extract B0s:\n",
      "> Verify that b0 quantity and indices are as expected.\n",
      "> Verify that data points in the bval files is as expected.\n",
      "> Verify that data points in the bvec files is as expected.\n",
      "> Extract B0s:\n",
      "> Verify that b0 quantity and indices are as expected.\n",
      "> Verify that data points in the bval files is as expected.\n",
      "> Verify that data points in the bvec files is as expected.\n",
      "> Extract B0s:\n",
      "> Verify that b0 quantity and indices are as expected.\n",
      "> Verify that data points in the bval files is as expected.\n",
      "> Verify that data points in the bvec files is as expected.\n",
      "> Extract B0s:\n",
      "> Verify that b0 quantity and indices are as expected.\n",
      "> Verify that data points in the bval files is as expected.\n",
      "> Verify that data points in the bvec files is as expected.\n",
      "> Extract B0s:\n",
      "> Verify that b0 quantity and indices are as expected.\n",
      "> Verify that data points in the bval files is as expected.\n",
      "> Verify that data points in the bvec files is as expected.\n",
      "> Extract B0s:\n",
      "> Verify that b0 quantity and indices are as expected.\n",
      "> Verify that data points in the bval files is as expected.\n",
      "> Verify that data points in the bvec files is as expected.\n",
      "> Extract B0s:\n",
      "> Verify that b0 quantity and indices are as expected.\n",
      "> Verify that data points in the bval files is as expected.\n",
      "> Verify that data points in the bvec files is as expected.\n",
      "> Extract B0s:\n",
      "> Verify that b0 quantity and indices are as expected.\n",
      "> Verify that data points in the bval files is as expected.\n",
      "> Verify that data points in the bvec files is as expected.\n",
      "> Extract B0s:\n",
      "> Verify that b0 quantity and indices are as expected.\n",
      "> Verify that data points in the bval files is as expected.\n",
      "> Verify that data points in the bvec files is as expected.\n",
      "> Extract B0s:\n",
      "> Verify that b0 quantity and indices are as expected.\n",
      "> Verify that data points in the bval files is as expected.\n",
      "> Verify that data points in the bvec files is as expected.\n",
      "> Extract B0s:\n",
      "> Verify that b0 quantity and indices are as expected.\n",
      "> Verify that data points in the bval files is as expected.\n",
      "> Verify that data points in the bvec files is as expected.\n",
      "> Extract B0s:\n",
      "> Verify that b0 quantity and indices are as expected.\n",
      "> Verify that data points in the bval files is as expected.\n",
      "> Verify that data points in the bvec files is as expected.\n",
      "> Extract B0s:\n",
      "> Verify that b0 quantity and indices are as expected.\n",
      "> Verify that data points in the bval files is as expected.\n",
      "> Verify that data points in the bvec files is as expected.\n",
      "> Extract B0s:\n",
      "> Verify that b0 quantity and indices are as expected.\n",
      "> Verify that data points in the bval files is as expected.\n",
      "> Verify that data points in the bvec files is as expected.\n",
      "> Extract B0s:\n",
      "> Verify that b0 quantity and indices are as expected.\n",
      "> Verify that data points in the bval files is as expected.\n",
      "> Verify that data points in the bvec files is as expected.\n",
      "> Extract B0s:\n",
      "> Verify that b0 quantity and indices are as expected.\n",
      "> Verify that data points in the bval files is as expected.\n",
      "> Verify that data points in the bvec files is as expected.\n",
      "> Extract B0s:\n",
      "> Verify that b0 quantity and indices are as expected.\n",
      "> Verify that data points in the bval files is as expected.\n",
      "> Verify that data points in the bvec files is as expected.\n",
      "> Extract B0s:\n",
      "> Verify that b0 quantity and indices are as expected.\n",
      "> Verify that data points in the bval files is as expected.\n",
      "> Verify that data points in the bvec files is as expected.\n",
      "> Extract B0s:\n",
      "> Verify that b0 quantity and indices are as expected.\n",
      "> Verify that data points in the bval files is as expected.\n",
      "> Verify that data points in the bvec files is as expected.\n",
      "> Extract B0s:\n",
      "> Verify that b0 quantity and indices are as expected.\n",
      "> Verify that data points in the bval files is as expected.\n",
      "> Verify that data points in the bvec files is as expected.\n",
      "> Extract B0s:\n",
      "> Verify that b0 quantity and indices are as expected.\n",
      "> Verify that data points in the bval files is as expected.\n",
      "> Verify that data points in the bvec files is as expected.\n",
      "> Extract B0s:\n",
      "> Verify that b0 quantity and indices are as expected.\n",
      "> Verify that data points in the bval files is as expected.\n",
      "> Verify that data points in the bvec files is as expected.\n",
      "> Extract B0s:\n",
      "> Verify that b0 quantity and indices are as expected.\n",
      "> Verify that data points in the bval files is as expected.\n",
      "> Verify that data points in the bvec files is as expected.\n",
      "> Extract B0s:\n",
      "> Verify that b0 quantity and indices are as expected.\n",
      "> Verify that data points in the bval files is as expected.\n",
      "> Verify that data points in the bvec files is as expected.\n",
      "> Extract B0s:\n",
      "> Verify that b0 quantity and indices are as expected.\n"
     ]
    }
   ],
   "source": [
    "\n",
    "for subjFolder in subjFolders:\n",
    "    scansBaseNames = createSubjectScansBaseNames(subjFolder, data_path)\n",
    "    print('> Verify that data points in the bval files is as expected.')\n",
    "    if pd.read_csv(scansBaseNames['AP_before'] + '.bval', header=None, sep=' ').T.shape[0] != expectedVolums['AP'] or \\\n",
    "        pd.read_csv(scansBaseNames['PA_before'] + '.bval', header=None, sep=' ').T.shape[0] != expectedVolums['PA'] or \\\n",
    "        pd.read_csv(scansBaseNames['AP_after'] + '.bval', header=None, sep=' ').T.shape[0] != expectedVolums['AP'] or \\\n",
    "        pd.read_csv(scansBaseNames['PA_after'] + '.bval', header=None, sep=' ').T.shape[0] != expectedVolums['PA']:\n",
    "            print(f' *** The number of data points in the bval for one of the scans for subjetc {sub} is not as expected.')\n",
    "            raise Exception(f'The number of data points in the bval for one of the scans for subjetc {sub} is not as expected.')\n",
    "\n",
    "    print('> Verify that data points in the bvec files is as expected.')\n",
    "    if pd.read_csv(scansBaseNames['AP_before'] + '.bvec', header=None, sep=' ').T.shape[0] != expectedVolums['AP'] or \\\n",
    "        pd.read_csv(scansBaseNames['PA_before'] + '.bvec', header=None, sep=' ').T.shape[0] != expectedVolums['PA'] or \\\n",
    "        pd.read_csv(scansBaseNames['AP_after'] + '.bvec', header=None, sep=' ').T.shape[0] != expectedVolums['AP'] or \\\n",
    "        pd.read_csv(scansBaseNames['PA_after'] + '.bvec', header=None, sep=' ').T.shape[0] != expectedVolums['PA']:\n",
    "            print(f' *** The number of data points in the bvec for one of the scans for subjetc {sub} is not as expected.')\n",
    "            raise ValueError(f'The number of data points in the bvec for one of the scans for subjetc ' + str(sub) + ' is not as expected.')\n",
    "\n",
    "    print('> Extract B0s:')\n",
    "    B0s_indxs = {}\n",
    "    for scan in scansBaseNames.keys():\n",
    "        B0s=pd.read_csv(scansBaseNames[scan] + '.bval', header=None, sep=' ').T\n",
    "        B0s.columns = ['bval']\n",
    "        B0s_indxs[scan] = list(B0s[B0s.bval < 20].index)\n",
    "\n",
    "    print('> Verify that b0 quantity and indices are as expected.')\n",
    "    if B0s_indxs != expectedB0s_indxs:\n",
    "        print(f' *** The indices of the b0s for one of the scans for subjetc {sub} are not as expected.')\n",
    "        raise ValueError(f'The indices of the b0s for one of the scans for subjetc ' + str(sub) + ' are not as expected.')\n"
   ]
  },
  {
   "cell_type": "markdown",
   "metadata": {},
   "source": [
    "## Preprocessing"
   ]
  },
  {
   "cell_type": "markdown",
   "metadata": {},
   "source": [
    "#### Create pre-processing folder"
   ]
  },
  {
   "cell_type": "code",
   "execution_count": 10,
   "metadata": {},
   "outputs": [
    {
     "name": "stdout",
     "output_type": "stream",
     "text": [
      "> Create preprocessing folders\n"
     ]
    }
   ],
   "source": [
    "print('> Create preprocessing folders')\n",
    "for subjFolder in subjFolders:\n",
    "    try:\n",
    "        os.makedirs(os.path.join(preproc_path, subjFolder), exist_ok=False)\n",
    "        print('>> Created folder: ' + os.path.join(preproc_path, subjFolder))\n",
    "    except:\n",
    "        pass"
   ]
  },
  {
   "cell_type": "markdown",
   "metadata": {},
   "source": [
    "### (1) TOPUP\n",
    "* A tool for estimating and correcting susceptibility induced distortions"
   ]
  },
  {
   "cell_type": "markdown",
   "metadata": {},
   "source": [
    "#### Extract B0 volumes"
   ]
  },
  {
   "cell_type": "code",
   "execution_count": 10,
   "metadata": {},
   "outputs": [
    {
     "name": "stdout",
     "output_type": "stream",
     "text": [
      "> Extract B0s (using the fslroi):\n",
      ">> COMPLETED.\n"
     ]
    }
   ],
   "source": [
    "print('> Extract B0s (using the fslroi):')\n",
    "for subjFolder in subjFolders:\n",
    "    scansBaseNames = createSubjectScansBaseNames(subjFolder, data_path)\n",
    "    for scan in scansBaseNames.keys():\n",
    "        for B0ind in B0s_indxs[scan]:\n",
    "            B0_file_name = os.path.join(preproc_path, subjFolder, subjFolder + '_' + scan + \"_b0_volInd-\" + str(B0ind) + \".nii.gz\")\n",
    "            if not os.path.isfile(f\"{B0_file_name}\"):\n",
    "                print(f'>> runs: fslroi {scansBaseNames[scan]}.nii.gz {B0_file_name} {B0ind} 1')\n",
    "                os.system(f'fslroi {scansBaseNames[scan]}.nii.gz {B0_file_name} {B0ind} 1')\n",
    "print(f\">> COMPLETED.\")"
   ]
  },
  {
   "cell_type": "markdown",
   "metadata": {},
   "source": [
    "#### Merge B0 volumes for TOPUP"
   ]
  },
  {
   "cell_type": "code",
   "execution_count": 11,
   "metadata": {},
   "outputs": [
    {
     "name": "stdout",
     "output_type": "stream",
     "text": [
      "> Merge B0s for each session (using the fslmerge):\n",
      ">> COMPLETED.\n"
     ]
    }
   ],
   "source": [
    "print('> Merge B0s for each session (using the fslmerge):')\n",
    "#print([scan for scan in sub_B0s_files if 'AP_before' in scan])\n",
    "#print([scan for scan in sub_B0s_files if 'PA_before' in scan])\n",
    "for subjFolder in subjFolders:\n",
    "    # get the sub_B0s_files for the current subject:\n",
    "    scansBaseNames = createSubjectScansBaseNames(subjFolder, data_path)\n",
    "    sub_B0s_files = get_sub_B0_files(subjFolder, scansBaseNames, B0s_indxs)\n",
    "    # merge the B0s for the current subject for each time (before/after):\n",
    "    for time in ['before', 'after']:\n",
    "        output_base_name = f'{os.path.join(preproc_path, subjFolder,subjFolder)}_AP_PA_{time}_b0s'\n",
    "        if not os.path.isfile(f\"{output_base_name}.nii.gz\"):\n",
    "            print(f'>> runs: fslmerge -t {output_base_name}' + ' ' + ' '.join([scan for scan in sub_B0s_files if f'AP_{time}' in scan]) + ' ' + ' '.join([scan for scan in sub_B0s_files if f'PA_{time}' in scan]))\n",
    "            os.system(f'fslmerge -t {output_base_name}' + ' ' + ' '.join([scan for scan in sub_B0s_files if f'AP_{time}' in scan]) + ' ' + ' '.join([scan for scan in sub_B0s_files if f'PA_{time}' in scan]))\n",
    "print(f\">> COMPLETED.\")"
   ]
  },
  {
   "cell_type": "markdown",
   "metadata": {},
   "source": [
    "#### Generate the acqparams.txt files"
   ]
  },
  {
   "cell_type": "code",
   "execution_count": 12,
   "metadata": {},
   "outputs": [
    {
     "name": "stdout",
     "output_type": "stream",
     "text": [
      "> Create the acqparams.txt files (one per session [before and after])\n",
      ">> COMPLETED.\n"
     ]
    }
   ],
   "source": [
    "print('> Create the acqparams.txt files (one per session [''before'' and ''after''])')\n",
    "\n",
    "for subjFolder in subjFolders:\n",
    "    # get the sub_B0s_files for the current subject:\n",
    "    scansBaseNames = createSubjectScansBaseNames(subjFolder, data_path)\n",
    "    sub_B0s_files = get_sub_B0_files(subjFolder, scansBaseNames, B0s_indxs)\n",
    "\n",
    "    # first get the totalReadoutTime from the json files\n",
    "    total_readout_time = {}\n",
    "    for scanBaseName in scansBaseNames.keys():\n",
    "        with open(scansBaseNames[scanBaseName] + '.json') as json_file:        \n",
    "            scanData = json.load(json_file)\n",
    "            total_readout_time[scanBaseName] = scanData['TotalReadoutTime']\n",
    "\n",
    "    for time in ['before', 'after']:\n",
    "        acqPars=[f'0 -1 0 {total_readout_time[f\"AP_{time}\"]}' for scan in sub_B0s_files if f'AP_{time}' in scan] + [f'0 1 0 {total_readout_time[f\"PA_{time}\"]}' for scan in sub_B0s_files if f'PA_{time}' in scan]\n",
    "        # write a list of strings to a file (one string per line):\n",
    "        with open(os.path.join(preproc_path, subjFolder, subjFolder + f'_{time}_acqparams.txt'), 'w') as f:\n",
    "            for item in acqPars:\n",
    "                f.write(\"%s\\n\" % item)\n",
    "print(f\">> COMPLETED.\")"
   ]
  },
  {
   "cell_type": "markdown",
   "metadata": {},
   "source": [
    "#### Run TOPUP"
   ]
  },
  {
   "cell_type": "markdown",
   "metadata": {},
   "source": [
    "Create TOPUP launch files"
   ]
  },
  {
   "cell_type": "code",
   "execution_count": 13,
   "metadata": {},
   "outputs": [
    {
     "name": "stdout",
     "output_type": "stream",
     "text": [
      "> Create the TOPUP launch files (one per subject [before and after] together)\n",
      ">> COMPLETED.\n"
     ]
    }
   ],
   "source": [
    "print('> Create the TOPUP launch files (one per subject [''before'' and ''after''] together)')\n",
    "for subjFolder in subjFolders:\n",
    "\n",
    "    launch_file = os.path.join(launch_files_path, 'TOPUP_' + subjFolder + '_launch.txt')\n",
    "    \n",
    "    if not os.path.isfile(launch_file):\n",
    "        with open(launch_file, 'w') as f:\n",
    "            for time in ['before', 'after']:\n",
    "                    print(f\">> This command was written to {launch_file}:\\ntopup --imain={os.path.join(preproc_path, subjFolder,subjFolder)}_AP_PA_{time}_b0s \\\\\\n\\\n",
    "                            --datain={os.path.join(preproc_path, subjFolder, subjFolder + f'_{time}_acqparams.txt')} \\\\\\n\\\n",
    "                            --config=b02b0.cnf \\\\\\n\\\n",
    "                            --out={os.path.join(preproc_path, subjFolder,'topup_' + subjFolder)}_AP_PA_{time}_b0s \\\\\\n\\\n",
    "                            --iout={os.path.join(preproc_path, subjFolder,'topup_' + subjFolder)}_AP_PA_{time}_b0s_iout \\\\\\n\\\n",
    "                            --fout={os.path.join(preproc_path, subjFolder,'topup_' + subjFolder)}_AP_PA_{time}_b0s_fout \\n\\\n",
    "                        \")\n",
    "                    f.write(f\"topup --imain={os.path.join(preproc_path, subjFolder,subjFolder)}_AP_PA_{time}_b0s --datain={os.path.join(preproc_path, subjFolder, subjFolder + f'_{time}_acqparams.txt')} --config=b02b0.cnf --out={os.path.join(preproc_path, subjFolder,'topup_' + subjFolder)}_AP_PA_{time}_b0s --iout={os.path.join(preproc_path, subjFolder,'topup_' + subjFolder)}_AP_PA_{time}_b0s_iout --fout={os.path.join(preproc_path, subjFolder,'topup_' + subjFolder)}_AP_PA_{time}_b0s_fout\\n\")\n",
    "print(f\">> COMPLETED.\")"
   ]
  },
  {
   "cell_type": "markdown",
   "metadata": {},
   "source": [
    "Run TOPUP launch files"
   ]
  },
  {
   "cell_type": "code",
   "execution_count": 16,
   "metadata": {},
   "outputs": [
    {
     "name": "stdout",
     "output_type": "stream",
     "text": [
      "> Run the TOPUP launch files (one per subject [before and after] together)\n",
      ">> COMPLETED.\n"
     ]
    }
   ],
   "source": [
    "print('> Run the TOPUP launch files (one per subject [''before'' and ''after''] together)')\n",
    "\n",
    "for subjFolder in subjFolders:\n",
    "\n",
    "    launch_file = os.path.join(launch_files_path, 'TOPUP_' + subjFolder + '_launch.txt')\n",
    "\n",
    "    # check if all expected output files exist:\n",
    "    expected_TOPUP_out_files_exist = []\n",
    "    for time in ['before', 'after']:\n",
    "        expected_TOPUP_out_files_exist += [os.path.isfile(f\"{os.path.join(preproc_path, subjFolder,'topup_' + subjFolder)}_AP_PA_{time}_b0s_fieldcoef.nii.gz\"),\n",
    "                                        os.path.isfile(f\"{os.path.join(preproc_path, subjFolder,'topup_' + subjFolder)}_AP_PA_{time}_b0s_fout.nii.gz\"),\n",
    "                                        os.path.isfile(f\"{os.path.join(preproc_path, subjFolder,'topup_' + subjFolder)}_AP_PA_{time}_b0s_iout.nii.gz\"),\n",
    "                                        os.path.isfile(f\"{os.path.join(preproc_path, subjFolder,'topup_' + subjFolder)}_AP_PA_{time}_b0s_movpar.txt\")]\n",
    "\n",
    "    # Run the launch file if not all output files present:\n",
    "    if not all(expected_TOPUP_out_files_exist):\n",
    "                print(f\">> Running: launch -s {launch_file} -j schonberglab -p {n_cores_TOPUP} -r inf\")\n",
    "                os.system(f\"launch -s {launch_file} -j schonberglab -p {n_cores_TOPUP} -r inf\")         \n",
    "                \n",
    "print(f\">> COMPLETED.\")"
   ]
  },
  {
   "cell_type": "markdown",
   "metadata": {},
   "source": [
    "### (2) EDDY\n",
    "* A tool for correcting Eddy currents (and motion)"
   ]
  },
  {
   "cell_type": "markdown",
   "metadata": {},
   "source": [
    "#### Average TOPUP corrected (unwarped) B0 volums (the .iout file)"
   ]
  },
  {
   "cell_type": "code",
   "execution_count": 17,
   "metadata": {},
   "outputs": [
    {
     "name": "stdout",
     "output_type": "stream",
     "text": [
      ">> Average TOPUP corrected (unwarped) B0 volums (the .iout file). - runs seperately for each time [''before'' and ''after'']\n",
      ">> COMPLETED.\n"
     ]
    }
   ],
   "source": [
    "print(f\">> Average TOPUP corrected (unwarped) B0 volums (the .iout file). - runs seperately for each time [''before'' and ''after'']\")\n",
    "for subjFolder in subjFolders:\n",
    "      for time in ['before', 'after']:\n",
    "            output_file_name = f\"{os.path.join(preproc_path, subjFolder,'topup_' + subjFolder)}_AP_PA_{time}_b0s_iout_avg.nii.gz\"\n",
    "            if not os.path.isfile(f\"{output_file_name}\"):\n",
    "                  print(f\">> runs: fslmaths {os.path.join(preproc_path, subjFolder,'topup_' + subjFolder)}_AP_PA_{time}_b0s_iout -Tmean {output_file_name}\")\n",
    "                  os.system(f\"fslmaths {os.path.join(preproc_path, subjFolder,'topup_' + subjFolder)}_AP_PA_{time}_b0s_iout -Tmean {output_file_name}\")\n",
    "print(f\">> COMPLETED.\")"
   ]
  },
  {
   "cell_type": "markdown",
   "metadata": {},
   "source": [
    "#### Run BET on the averaged B0s volume"
   ]
  },
  {
   "cell_type": "code",
   "execution_count": 18,
   "metadata": {},
   "outputs": [
    {
     "name": "stdout",
     "output_type": "stream",
     "text": [
      ">> Extarct the brain form the averaged B0s volume - runs seperately for each time [''before'' and ''after'']\n",
      ">> COMPLETED.\n"
     ]
    }
   ],
   "source": [
    "print(f\">> Extarct the brain form the averaged B0s volume - runs seperately for each time [''before'' and ''after'']\")\n",
    "for subjFolder in subjFolders:\n",
    "      for time in ['before', 'after']:\n",
    "            output_base_name = f\"{os.path.join(preproc_path, subjFolder,'topup_' + subjFolder)}_AP_PA_{time}_b0s_iout_avg_brain\"\n",
    "            if not os.path.isfile(f\"{output_base_name}.nii.gz\") or not os.path.isfile(f\"{output_base_name}_mask.nii.gz\"):\n",
    "                  print(f\">> runs: bet {os.path.join(preproc_path, subjFolder,'topup_' + subjFolder)}_AP_PA_{time}_b0s_iout_avg {output_base_name} -m -f 0.2\")\n",
    "                  os.system(f\"bet {os.path.join(preproc_path, subjFolder,'topup_' + subjFolder)}_AP_PA_{time}_b0s_iout_avg {output_base_name} -m -f 0.2\")\n",
    "print(f\">> COMPLETED.\")"
   ]
  },
  {
   "cell_type": "markdown",
   "metadata": {},
   "source": [
    "#### Create index.txt file\n",
    "This file maps the volumes in the main DTI data to the relevant line in the acqparams.txt and in the movpar.txt (assessed movement parameters from TOPUP) files\n",
    "* details in: https://www.youtube.com/watch?v=1T1cRnX7MpA"
   ]
  },
  {
   "cell_type": "code",
   "execution_count": 19,
   "metadata": {},
   "outputs": [
    {
     "name": "stdout",
     "output_type": "stream",
     "text": [
      ">> create an index.txt file for each subject for each time [before and after] for the EDDY\n",
      ">> COMPLETED.\n"
     ]
    }
   ],
   "source": [
    "print(f\">> create an index.txt file for each subject for each time [before and after] for the EDDY\")\n",
    "for subjFolder in subjFolders:\n",
    "    for time in ['before', 'after']:\n",
    "        ind_to_write = 1\n",
    "        with open(os.path.join(preproc_path, subjFolder, f'{time}_index.txt'), 'w') as f:\n",
    "            for i in range(expectedVolums['AP']):   \n",
    "                if i > 0 and i in expectedB0s_indxs[f'AP_{time}']:\n",
    "                    ind_to_write += 1\n",
    "                f.write(\"%s\\n\" %ind_to_write)\n",
    "print('>> COMPLETED.')\n"
   ]
  },
  {
   "cell_type": "markdown",
   "metadata": {},
   "source": [
    "#### Run EDDY\n",
    "* Correct for eddy currents and subject movement (and taking to account the suceptibility field calculated by TOPUP)"
   ]
  },
  {
   "cell_type": "code",
   "execution_count": 20,
   "metadata": {},
   "outputs": [
    {
     "name": "stdout",
     "output_type": "stream",
     "text": [
      "> Run EDDY using cheshire server GPU (one per subject per time [before and after])\n",
      ">> COMPLETED.\n"
     ]
    }
   ],
   "source": [
    "print('> Run EDDY using cheshire server GPU (one per subject per time [''before'' and ''after''])')\n",
    "# files_to_run_each_time = 200\n",
    "# counter=1\n",
    "for subjFolder in subjFolders:\n",
    "    # if int(subjFolder.split('-')[1])<265:\n",
    "    #     continue\n",
    "\n",
    "    # # Stop executing more:\n",
    "    # if counter > files_to_run_each_time:\n",
    "    #     break\n",
    "\n",
    "    scansBaseNames = createSubjectScansBaseNames(subjFolder, data_path)\n",
    "\n",
    "    # check if all expected output files exist:\n",
    "    for time in ['before', 'after']:\n",
    "        \n",
    "        eddy_output_files = glob.glob(os.path.join(preproc_path, subjFolder, f'eddy_unwarped_images_{subjFolder}_{time}*')) # get files in a directory\n",
    "        expected_EDDY_out_files_exist = len(list(set(eddy_output_files))) >= n_expected_EDDY_output_files # check that the number of unique EDDY files is as expected\n",
    "\n",
    "        # Run the launch file if not all output files present:\n",
    "        if not expected_EDDY_out_files_exist:\n",
    "            eddy_command_to_run = f\"{ssh_command_for_cheshire_server} {EDDY_command} --imain={scansBaseNames[f'AP_{time}']}.nii.gz \\\\\\n\\\n",
    "                --mask={os.path.join(preproc_path, subjFolder,'topup_' + subjFolder)}_AP_PA_{time}_b0s_iout_avg_brain_mask \\\\\\n\\\n",
    "                --index={os.path.join(preproc_path, subjFolder, time + '_index.txt')}\\\\\\n\\\n",
    "                --acqp={os.path.join(preproc_path, subjFolder, subjFolder + '_' + time + '_acqparams.txt')} \\\\\\n\\\n",
    "                --bvecs={scansBaseNames[f'AP_{time}']}.bvec \\\\\\n\\\n",
    "                --bvals={scansBaseNames[f'AP_{time}']}.bval \\\\\\n\\\n",
    "                --topup={os.path.join(preproc_path, subjFolder,'topup_' + subjFolder)}_AP_PA_{time}_b0s \\\\\\n\\\n",
    "                --out={os.path.join(preproc_path, subjFolder,'eddy_unwarped_images_' + subjFolder)}_{time} \\\\\\n\\\n",
    "                --verbose\\\n",
    "            \"\n",
    "            print(f'\">> Running this command on cheshire:\\n{eddy_command_to_run}\\n')\n",
    "            os.system(eddy_command_to_run)\n",
    "            # counter+=1\n",
    "\n",
    "print(f\">> COMPLETED.\")"
   ]
  },
  {
   "cell_type": "markdown",
   "metadata": {},
   "source": [
    "Create EDDY launch files [Currently not in use]"
   ]
  },
  {
   "cell_type": "code",
   "execution_count": 21,
   "metadata": {},
   "outputs": [],
   "source": [
    "# print('> Create the EDDY launch files (one per subject [''before'' and ''after''] together)')\n",
    "# for subjFolder in subjFolders:\n",
    "\n",
    "#     scansBaseNames = createSubjectScansBaseNames(subjFolder, data_path)\n",
    "#     launch_file = os.path.join(launch_files_path, 'EDDY_' + subjFolder + '_launch.txt')\n",
    "\n",
    "#     if not os.path.isfile(launch_file):\n",
    "#         with open(launch_file, 'w') as f:\n",
    "#             for time in ['before', 'after']:\n",
    "#                 print(f\">> This command was written to {launch_file}:\\n{EDDY_command} --imain={scansBaseNames[f'AP_{time}']}.nii.gz \\\\\\n\\\n",
    "#                     --mask={os.path.join(preproc_path, subjFolder,'topup_' + subjFolder)}_AP_PA_{time}_b0s_iout_avg_brain_mask \\\\\\n\\\n",
    "#                     --index={os.path.join(preproc_path, subjFolder, time + '_index.txt')}\\\\\\n\\\n",
    "#                     --acqp={os.path.join(preproc_path, subjFolder, subjFolder + '_' + time + '_acqparams.txt')} \\\\\\n\\\n",
    "#                     --bvecs={scansBaseNames[f'AP_{time}']}.bvec \\\\\\n\\\n",
    "#                     --bvals={scansBaseNames[f'AP_{time}']}.bval \\\\\\n\\\n",
    "#                     --topup={os.path.join(preproc_path, subjFolder,'topup_' + subjFolder)}_AP_PA_{time}_b0s \\\\\\n\\\n",
    "#                     --out={os.path.join(preproc_path, subjFolder,'eddy_unwarped_images_' + subjFolder)}_{time} \\\\\\n\\\n",
    "#                     --verbose \\n\\\n",
    "#                 \")\n",
    "#                 #f.write(f\"{EDDY_command} --imain={scansBaseNames[f'AP_{time}']}.nii.gz --mask={os.path.join(preproc_path, subjFolder,'topup_' + subjFolder)}_AP_PA_{time}_b0s_iout_avg_brain_mask --index={os.path.join(preproc_path, subjFolder, time + '_index.txt')} --acqp={os.path.join(preproc_path, subjFolder, subjFolder + '_' + time + '_acqparams.txt')} --bvecs={scansBaseNames[f'AP_{time}']}.bvec --bvals={scansBaseNames[f'AP_{time}']}.bval --topup={os.path.join(preproc_path, subjFolder,'topup_' + subjFolder)}_AP_PA_{time}_b0s --out={os.path.join(preproc_path, subjFolder,'eddy_unwarped_images_' + subjFolder)}_{time} --verbose\\n\")\n",
    "# print(f\">> COMPLETED.\")"
   ]
  },
  {
   "cell_type": "markdown",
   "metadata": {},
   "source": [
    "Run EDDY launch files  [Currently not in use]"
   ]
  },
  {
   "cell_type": "code",
   "execution_count": 22,
   "metadata": {},
   "outputs": [],
   "source": [
    "# print('> Run the EDDY launch files (one per subject [''before'' and ''after''] together)')\n",
    "# for subjFolder in subjFolders:\n",
    "\n",
    "#     launch_file = os.path.join(launch_files_path, 'EDDY_' + subjFolder + '_launch.txt')\n",
    "\n",
    "#     # check if all expected output files exist:\n",
    "#     expected_EDDY_out_files_exist = []\n",
    "#     for time in ['before', 'after']:\n",
    "#         eddy_output_files = glob.glob(os.path.join(preproc_path, subjFolder, f'eddy_unwarped_images_{subjFolder}_{time}*')) # get files in a directory\n",
    "#         expected_EDDY_out_files_exist.append(len(list(set(eddy_output_files))) == n_expected_EDDY_output_files) # check that the number of unique EDDY files is as expected\n",
    "\n",
    "#     # Run the launch file if not all output files present:\n",
    "#     if not all(expected_EDDY_out_files_exist):\n",
    "#                 print(f\">> Running: launch -s {launch_file} -j schonberglab -p {n_cores_EDDY} -r inf\")\n",
    "#                 #os.system(f\">> Running: launch -s {launch_file} -j schonberglab -p {n_cores_EDDY} -r inf\")\n",
    "# print(f\">> COMPLETED.\")"
   ]
  },
  {
   "cell_type": "markdown",
   "metadata": {},
   "source": [
    "#### Run EDDY QC"
   ]
  },
  {
   "cell_type": "code",
   "execution_count": 23,
   "metadata": {},
   "outputs": [],
   "source": [
    "for subjFolder in subjFolders:\n",
    "    # get the sub_B0s_files for the current subject:\n",
    "    scansBaseNames = createSubjectScansBaseNames(subjFolder, data_path)\n",
    "\n",
    "    for time in ['before', 'after']:\n",
    "        if not os.path.isdir(os.path.join(preproc_path, subjFolder, f'eddy_unwarped_images_{subjFolder}_{time}.qc')):\n",
    "            print(f\"eddy_quad {os.path.join(preproc_path, subjFolder, f'eddy_unwarped_images_{subjFolder}_{time}')} \\\\\\n\\\n",
    "                -idx {os.path.join(preproc_path, subjFolder, f'{time}_index.txt')} \\\\\\n\\\n",
    "                -par {os.path.join(preproc_path, subjFolder, subjFolder  + f'_{time}_acqparams.txt')} \\\\\\n\\\n",
    "                -m   {os.path.join(preproc_path, subjFolder, f'topup_{subjFolder}_AP_PA_{time}_b0s_iout_avg_brain_mask.nii.gz')} \\\\\\n\\\n",
    "                -b   {scansBaseNames[f'AP_{time}'] + '.bval'}\\\n",
    "                \")\n",
    "            os.system(f\"eddy_quad {os.path.join(preproc_path, subjFolder, f'eddy_unwarped_images_{subjFolder}_{time}')} \\\\\\n\\\n",
    "                -idx {os.path.join(preproc_path, subjFolder, f'{time}_index.txt')} \\\\\\n\\\n",
    "                -par {os.path.join(preproc_path, subjFolder, subjFolder  + f'_{time}_acqparams.txt')} \\\\\\n\\\n",
    "                -m   {os.path.join(preproc_path, subjFolder, f'topup_{subjFolder}_AP_PA_{time}_b0s_iout_avg_brain_mask.nii.gz')} \\\\\\n\\\n",
    "                -b   {scansBaseNames[f'AP_{time}'] + '.bval'}\\\n",
    "                \")\n",
    "\n",
    "\n",
    "\n"
   ]
  },
  {
   "cell_type": "code",
   "execution_count": 374,
   "metadata": {},
   "outputs": [
    {
     "data": {
      "text/plain": [
       "0"
      ]
     },
     "execution_count": 374,
     "metadata": {},
     "output_type": "execute_result"
    }
   ],
   "source": [
    "# Run eddiy squad (group eddy QC):\n",
    "all_qc_dirs = glob.glob(os.path.join(preproc_path, '*', f'eddy_unwarped_images_*_*.qc'))\n",
    "all_qc_dirs.sort()\n",
    "#write the list of eddy QC folders into a text file:\n",
    "with open(os.path.join(preproc_path, 'eddy_QC_folders.txt'), 'w') as f:\n",
    "    for item in all_qc_dirs:\n",
    "        f.write(\"%s\\n\" % item)\n",
    "\n",
    "# run eddy quad\n",
    "os.system(f\"eddy_squad {os.path.join(preproc_path, 'eddy_QC_folders.txt')} -o {os.path.join(preproc_path, 'eddy_squad')}\")"
   ]
  },
  {
   "cell_type": "markdown",
   "metadata": {},
   "source": [
    "## DTI modelling"
   ]
  },
  {
   "cell_type": "markdown",
   "metadata": {},
   "source": [
    "#### Create the DTI folders"
   ]
  },
  {
   "cell_type": "code",
   "execution_count": 24,
   "metadata": {},
   "outputs": [
    {
     "name": "stdout",
     "output_type": "stream",
     "text": [
      "> Create DTI folders\n"
     ]
    }
   ],
   "source": [
    "print('> Create DTI folders')\n",
    "for subjFolder in subjFolders:\n",
    "    try:\n",
    "        os.makedirs(os.path.join(dti_path, subjFolder), exist_ok=False)\n",
    "        print('>> Created folder: ' + os.path.join(dti_path, subjFolder))\n",
    "    except:\n",
    "        pass"
   ]
  },
  {
   "cell_type": "code",
   "execution_count": 25,
   "metadata": {},
   "outputs": [
    {
     "name": "stdout",
     "output_type": "stream",
     "text": [
      "> Run DTIFIT (one per subject per time [before and after])\n"
     ]
    }
   ],
   "source": [
    "print('> Run DTIFIT (one per subject per time [''before'' and ''after''])')\n",
    "# files_to_run_each_time = 200\n",
    "# counter=1\n",
    "for subjFolder in subjFolders:\n",
    "\n",
    "    scansBaseNames = createSubjectScansBaseNames(subjFolder, data_path)\n",
    "\n",
    "    # check if all expected output files exist:\n",
    "    for time in ['before', 'after']:\n",
    "        \n",
    "        dtifit_output_files = glob.glob(os.path.join(dti_path, subjFolder, f'dti_{subjFolder}_{time}*')) # get files in a directory\n",
    "        expected_DTIFIT_out_files_exist = len(list(set(dtifit_output_files))) >= n_expected_DTIFIT_output_files # check that the number of unique EDDY files is as expected\n",
    "\n",
    "        # Run the launch file if not all output files present:\n",
    "        if not expected_DTIFIT_out_files_exist:\n",
    "            dtifit_command = f\"dtifit --data={os.path.join(preproc_path, subjFolder, f'eddy_unwarped_images_{subjFolder}_{time}')} \\\\\\n\\\n",
    "                        --mask={os.path.join(preproc_path, subjFolder, f'topup_{subjFolder}_AP_PA_{time}_b0s_iout_avg_brain_mask')} \\\\\\n\\\n",
    "                        --bvecs={scansBaseNames[f'AP_{time}'] + '.bvec'} \\\\\\n\\\n",
    "                        --bvals={scansBaseNames[f'AP_{time}'] + '.bval'} \\\\\\n\\\n",
    "                        --out={os.path.join(dti_path, subjFolder, f'dti_{subjFolder}_{time}')}\"\n",
    "\n",
    "            print(dtifit_command)\n",
    "            os.system(dtifit_command)\n",
    "\n"
   ]
  },
  {
   "cell_type": "markdown",
   "metadata": {},
   "source": [
    "# *-*-*-*-*-*-*-*-*-*-*-*-*-*-*-*-*-*-*-*-*-*-*-*-*-*"
   ]
  },
  {
   "cell_type": "markdown",
   "metadata": {},
   "source": [
    "### Gather subject folders again based on the dti folders!\n",
    "Make sure that before that you ran DWI_pipeline_noTOPUPpipeline.ipynb to include subject without TOPUP"
   ]
  },
  {
   "cell_type": "code",
   "execution_count": 11,
   "metadata": {},
   "outputs": [
    {
     "name": "stdout",
     "output_type": "stream",
     "text": [
      ">> Get sub folders from the DTI map folder\n"
     ]
    }
   ],
   "source": [
    "print('>> Get sub folders from the DTI map folder')\n",
    "subjFoldersDTI = [el for el in os.listdir(dti_path) if 'sub' in el]\n",
    "subjFoldersDTI.sort()"
   ]
  },
  {
   "cell_type": "code",
   "execution_count": 12,
   "metadata": {},
   "outputs": [
    {
     "data": {
      "text/plain": [
       "121"
      ]
     },
     "execution_count": 12,
     "metadata": {},
     "output_type": "execute_result"
    }
   ],
   "source": [
    "len(subjFoldersDTI)"
   ]
  },
  {
   "cell_type": "markdown",
   "metadata": {},
   "source": [
    "# *-*-*-*-*-*-*-*-*-*-*-*-*-*-*-*-*-*-*-*-*-*-*-*-*-*"
   ]
  },
  {
   "cell_type": "markdown",
   "metadata": {},
   "source": [
    "## Registration to MNI space"
   ]
  },
  {
   "cell_type": "markdown",
   "metadata": {},
   "source": [
    "#### Create folders for the preprocessed anatomical data (from fMRIprep)"
   ]
  },
  {
   "cell_type": "code",
   "execution_count": 29,
   "metadata": {},
   "outputs": [
    {
     "name": "stdout",
     "output_type": "stream",
     "text": [
      "> Create registration folders\n"
     ]
    }
   ],
   "source": [
    "print('> Create registration folders')\n",
    "for subjFolder in subjFoldersDTI:\n",
    "    try:\n",
    "        os.makedirs(os.path.join(dti_path, subjFolder, 'reg'), exist_ok=False)\n",
    "        print('>> Created folder: ' + os.path.join(dti_path, subjFolder, 'reg'))\n",
    "    except:\n",
    "        pass"
   ]
  },
  {
   "cell_type": "code",
   "execution_count": 30,
   "metadata": {},
   "outputs": [
    {
     "name": "stdout",
     "output_type": "stream",
     "text": [
      "> Copy relevant files to the registration folders (T1 processed, related mask, and WM segmentation file\n"
     ]
    }
   ],
   "source": [
    "print('> Copy relevant files to the registration folders (T1 processed, related mask, and WM segmentation file')\n",
    "for subjFolder in subjFoldersDTI:\n",
    "    anatFilesToCopy = [\n",
    "        os.path.join(fmriPrepAnatomyDerivatives_path, subjFolder, 'anat', f'{subjFolder}_desc-preproc_T1w.nii.gz'), \n",
    "        os.path.join(fmriPrepAnatomyDerivatives_path, subjFolder, 'anat', f'{subjFolder}_desc-brain_mask.nii.gz'), \n",
    "        os.path.join(fmriPrepAnatomyDerivatives_path, subjFolder, 'anat', f'{subjFolder}_label-WM_probseg.nii.gz')\n",
    "    ]\n",
    "    \n",
    "    for file in anatFilesToCopy:\n",
    "        if not os.path.exists(os.path.join(dti_path, subjFolder, 'reg', os.path.split(file)[-1])):\n",
    "            print(f\"cp {file} {os.path.join(dti_path, subjFolder, 'reg')}\")\n",
    "            os.system(f\"cp {file} {os.path.join(dti_path, subjFolder, 'reg')}\")\n",
    "    "
   ]
  },
  {
   "cell_type": "code",
   "execution_count": 31,
   "metadata": {},
   "outputs": [
    {
     "name": "stdout",
     "output_type": "stream",
     "text": [
      "> Extract the T1w brain\n",
      ">> COMPLETED.\n"
     ]
    }
   ],
   "source": [
    "print('> Extract the T1w brain')\n",
    "for subjFolder in subjFoldersDTI:\n",
    "    sub_T1 = f\"{os.path.join(dti_path, subjFolder, 'reg', f'{subjFolder}_desc-preproc_T1w.nii.gz')}\"\n",
    "    sub_T1_mask = f\"{os.path.join(dti_path, subjFolder, 'reg', f'{subjFolder}_desc-brain_mask.nii.gz')}\"\n",
    "    extracted_brain = f\"{os.path.join(dti_path, subjFolder, 'reg', f'{subjFolder}_desc-preproc_T1w_brain.nii.gz')}\"\n",
    "    if not os.path.exists(extracted_brain):\n",
    "        print(f\"fslmaths {sub_T1} -mul {sub_T1_mask} {extracted_brain}\")\n",
    "        os.system(f\"fslmaths {sub_T1} -mul {sub_T1_mask} {extracted_brain}\")\n",
    "print(f\">> COMPLETED.\")\n"
   ]
  },
  {
   "cell_type": "code",
   "execution_count": 32,
   "metadata": {},
   "outputs": [
    {
     "name": "stdout",
     "output_type": "stream",
     "text": [
      "> Extract the first (B0 volume form the eddy_output to use for the native space registration (this volume is the reference volume for the motion correction and thus everything is aligned to it.\n",
      ">> COMPLETED.\n"
     ]
    }
   ],
   "source": [
    "print('> Extract the first (B0 volume form the eddy_output to use for the native space registration (this volume is the reference volume for the motion correction and thus everything is aligned to it.')\n",
    "for subjFolder in subjFoldersDTI:\n",
    "    for time in ['before', 'after']:\n",
    "        fileToCreate = f\"{subjFolder}_first_processed_B0_{time}.nii.gz\"\n",
    "        if not os.path.exists(os.path.join(dti_path, subjFolder, 'reg', fileToCreate)):\n",
    "            print(f\"fslroi {os.path.join(preproc_path, subjFolder, f'eddy_unwarped_images_{subjFolder}_{time}.nii.gz')} {os.path.join(dti_path, subjFolder, 'reg', fileToCreate)} 0 1\")\n",
    "            os.system(f\"fslroi {os.path.join(preproc_path, subjFolder, f'eddy_unwarped_images_{subjFolder}_{time}.nii.gz')} {os.path.join(dti_path, subjFolder, 'reg', fileToCreate)} 0 1\")\n",
    "\n",
    "print(f\">> COMPLETED.\")"
   ]
  },
  {
   "cell_type": "markdown",
   "metadata": {},
   "source": [
    "#### Register the first (processed) B0 to the preprocessed T1w in native space (using epi_reg)"
   ]
  },
  {
   "cell_type": "markdown",
   "metadata": {},
   "source": [
    "This includes:\n",
    "1) using epi_reg on a B0 imgae to the native T1 space.\n",
    "2) register the T1w to MNI [by running flirt and then fnirt]. * note that fnirt runs on the secnd cell as flirt need to be completed first"
   ]
  },
  {
   "cell_type": "code",
   "execution_count": 33,
   "metadata": {},
   "outputs": [
    {
     "name": "stdout",
     "output_type": "stream",
     "text": [
      "> Execute EPI_REG and FLIRT (create launch files and run them)\n",
      ">> COMPLETED.\n"
     ]
    }
   ],
   "source": [
    "print('> Execute EPI_REG and FLIRT (create launch files and run them)')\n",
    "for subjFolder in subjFoldersDTI:\n",
    "    for time in ['before', 'after']:\n",
    "        if not os.path.exists(os.path.join(dti_path, subjFolder, 'reg', f'{subjFolder}_first_processed_B0_reg_to_native_T1_{time}.nii.gz')):\n",
    "            launch_file_EPI_TO_REG = os.path.join(launch_files_path, 'EPI_REG_' + subjFolder + '_' + time + '_launch.txt')\n",
    "            print(\n",
    "                f\"epi_reg -v --epi={os.path.join(dti_path, subjFolder, 'reg', f'{subjFolder}_first_processed_B0_{time}.nii.gz')} \\\\\\n\\\n",
    "                --t1={os.path.join(dti_path, subjFolder, 'reg', f'{subjFolder}_desc-preproc_T1w.nii.gz')} \\\\\\n\\\n",
    "                --t1brain={os.path.join(dti_path, subjFolder, 'reg', f'{subjFolder}_desc-preproc_T1w_brain.nii.gz')} \\\\\\n\\\n",
    "                --out={os.path.join(dti_path, subjFolder, 'reg', f'{subjFolder}_first_processed_B0_reg_to_native_T1_{time}')}\\n\"\n",
    "                #I removed this from the command (letting it create WM_seg on its own): --wmseg={os.path.join(dti_path, subjFolder, 'reg', f'{subjFolder}_label-WM_probseg.nii.gz')} \\\\\\n\\\n",
    "            )\n",
    "            epi_reg_command_to_run = f\"epi_reg -v --epi={os.path.join(dti_path, subjFolder, 'reg', f'{subjFolder}_first_processed_B0_{time}.nii.gz')} --t1={os.path.join(dti_path, subjFolder, 'reg', f'{subjFolder}_desc-preproc_T1w.nii.gz')} --t1brain={os.path.join(dti_path, subjFolder, 'reg', f'{subjFolder}_desc-preproc_T1w_brain.nii.gz')} --out={os.path.join(dti_path, subjFolder, 'reg', f'{subjFolder}_first_processed_B0_reg_to_native_T1_{time}')}\\n\"\n",
    "            #I removed this from the command (letting it create WM_seg on its own): --wmseg={os.path.join(dti_path, subjFolder, 'reg', f'{subjFolder}_label-WM_probseg.nii.gz')} \\\\\\n\\\n",
    "    \n",
    "            with open(launch_file_EPI_TO_REG, 'w') as f:\n",
    "                 f.write(epi_reg_command_to_run)\n",
    "            os.system(f\"launch -s {launch_file_EPI_TO_REG} -j schonberglab -p {n_cores_TOPUP} -r inf\")    \n",
    "\n",
    "    if not os.path.exists(os.path.join(dti_path, subjFolder, 'reg', f'{subjFolder}_affine_T1_transf.mat')):\n",
    "        launch_file_FLIRT = os.path.join(launch_files_path, 'FLIRT_FNIRT_' + subjFolder + '_launch.txt')\n",
    "        flirt_command_to_run = f\"flirt -ref ${{FSLDIR}}/data/standard/MNI152_T1_2mm_brain -in {os.path.join(dti_path, subjFolder, 'reg', f'{subjFolder}_desc-preproc_T1w_brain.nii.gz')} -omat {os.path.join(dti_path, subjFolder, 'reg', f'{subjFolder}_affine_T1_transf.mat')}\\n\"\n",
    "        print(flirt_command_to_run)\n",
    "\n",
    "        with open(launch_file_FLIRT, 'w') as f2:\n",
    "            f2.write(flirt_command_to_run)\n",
    "        os.system(f\"launch -s {launch_file_FLIRT} -j schonberglab -p {n_cores_TOPUP} -r inf\")    \n",
    "\n",
    "\n",
    "print(f\">> COMPLETED.\")\n",
    "\n"
   ]
  },
  {
   "cell_type": "code",
   "execution_count": 34,
   "metadata": {},
   "outputs": [
    {
     "name": "stdout",
     "output_type": "stream",
     "text": [
      "> FNIRT (needs to be run after the flirt completed\n",
      ">> COMPLETED.\n"
     ]
    }
   ],
   "source": [
    "print('> FNIRT (needs to be run after the flirt completed')\n",
    "for subjFolder in subjFoldersDTI:\n",
    "\n",
    "    if not os.path.exists(os.path.join(dti_path, subjFolder, 'reg', f'{subjFolder}_nonlinear_T1_transf.nii.gz')):\n",
    "        launch_file_FNIRT = os.path.join(launch_files_path, 'FLIRT_FNIRT_' + subjFolder + '_launch.txt')\n",
    "        fnirt_command_to_run = f\"fnirt -v --in={os.path.join(dti_path, subjFolder, 'reg', f'{subjFolder}_desc-preproc_T1w.nii.gz')} --aff={os.path.join(dti_path, subjFolder, 'reg', f'{subjFolder}_affine_T1_transf.mat')} --cout={os.path.join(dti_path, subjFolder, 'reg', f'{subjFolder}_nonlinear_T1_transf')} --config=T1_2_MNI152_2mm\\n\"\n",
    "        print(fnirt_command_to_run)\n",
    "\n",
    "        with open(launch_file_FNIRT, 'w') as f2:\n",
    "            f2.write(fnirt_command_to_run)\n",
    "        os.system(f\"launch -s {launch_file_FNIRT} -j schonberglab -p {n_cores_TOPUP} -r inf\")    \n",
    "\n",
    "\n",
    "print(f\">> COMPLETED.\")"
   ]
  },
  {
   "cell_type": "markdown",
   "metadata": {},
   "source": [
    "#### Apply all transofrmation to take all the relevant maps to a common space (MNI)"
   ]
  },
  {
   "cell_type": "code",
   "execution_count": 35,
   "metadata": {},
   "outputs": [
    {
     "name": "stdout",
     "output_type": "stream",
     "text": [
      "> Apply the transformation on the MD and FA maps\n"
     ]
    }
   ],
   "source": [
    "print('> Apply the transformation on the MD and FA maps')\n",
    "for subjFolder in subjFoldersDTI:\n",
    "    for time in ['before', 'after']:\n",
    "        if not os.path.exists(os.path.join(stats_path, 'MD', f'{subjFolder}_in-MNI_MD_{time}.nii.gz')) \\\n",
    "        or not os.path.exists(os.path.join(stats_path, 'FA', f'{subjFolder}_in-MNI_FA_{time}.nii.gz')):\n",
    "            launch_file_APPLYWARP = os.path.join(launch_files_path, 'APPLYWARP_' + subjFolder + '_' + time + '_launch.txt')\n",
    "\n",
    "            with open(launch_file_APPLYWARP, 'w') as f:\n",
    "                for map_type in ['MD','FA']:\n",
    "                    applywarp_command_to_run = f\"applywarp -v --ref=${{FSLDIR}}/data/standard/MNI152_T1_2mm --in={os.path.join(dti_path, subjFolder, f'dti_{subjFolder}_{time}_{map_type}.nii.gz')} --warp={os.path.join(dti_path, subjFolder, 'reg', f'{subjFolder}_nonlinear_T1_transf')} --premat={os.path.join(dti_path, subjFolder, 'reg', f'{subjFolder}_first_processed_B0_reg_to_native_T1_{time}.mat')} --out={os.path.join(stats_path, map_type, f'{subjFolder}_in-MNI_{map_type}_{time}')}\\n\"\n",
    "                    print(applywarp_command_to_run)\n",
    "                    f.write(applywarp_command_to_run)\n",
    "            os.system(f\"launch -s {launch_file_APPLYWARP} -j schonberglab -p {n_cores_TOPUP} -r inf\")    \n"
   ]
  },
  {
   "cell_type": "code",
   "execution_count": 379,
   "metadata": {},
   "outputs": [
    {
     "name": "stdout",
     "output_type": "stream",
     "text": [
      "> Apply the transformation on the T1 and B0 maps\n",
      "applywarp -v --ref=${FSLDIR}/data/standard/MNI152_T1_2mm --in=/export2/DATA/HIS/HIS_server/analysis/dwi_data/dti/sub-103/reg/sub-103_first_processed_B0_before.nii.gz --warp=/export2/DATA/HIS/HIS_server/analysis/dwi_data/dti/sub-103/reg/sub-103_nonlinear_T1_transf --premat=/export2/DATA/HIS/HIS_server/analysis/dwi_data/dti/sub-103/reg/sub-103_first_processed_B0_reg_to_native_T1_before.mat --out=/export2/DATA/HIS/HIS_server/analysis/dwi_data/stats/MD/sub-103_first_B0_in-MNI_before\n",
      "\n",
      "applywarp -v --ref=${FSLDIR}/data/standard/MNI152_T1_2mm --in=/export2/DATA/HIS/HIS_server/analysis/dwi_data/dti/sub-103/reg/sub-103_first_processed_B0_after.nii.gz --warp=/export2/DATA/HIS/HIS_server/analysis/dwi_data/dti/sub-103/reg/sub-103_nonlinear_T1_transf --premat=/export2/DATA/HIS/HIS_server/analysis/dwi_data/dti/sub-103/reg/sub-103_first_processed_B0_reg_to_native_T1_after.mat --out=/export2/DATA/HIS/HIS_server/analysis/dwi_data/stats/MD/sub-103_first_B0_in-MNI_after\n",
      "\n",
      "applywarp -v --ref=${FSLDIR}/data/standard/MNI152_T1_2mm --in=/export2/DATA/HIS/HIS_server/analysis/dwi_data/dti/sub-104/reg/sub-104_first_processed_B0_before.nii.gz --warp=/export2/DATA/HIS/HIS_server/analysis/dwi_data/dti/sub-104/reg/sub-104_nonlinear_T1_transf --premat=/export2/DATA/HIS/HIS_server/analysis/dwi_data/dti/sub-104/reg/sub-104_first_processed_B0_reg_to_native_T1_before.mat --out=/export2/DATA/HIS/HIS_server/analysis/dwi_data/stats/MD/sub-104_first_B0_in-MNI_before\n",
      "\n",
      "applywarp -v --ref=${FSLDIR}/data/standard/MNI152_T1_2mm --in=/export2/DATA/HIS/HIS_server/analysis/dwi_data/dti/sub-104/reg/sub-104_first_processed_B0_after.nii.gz --warp=/export2/DATA/HIS/HIS_server/analysis/dwi_data/dti/sub-104/reg/sub-104_nonlinear_T1_transf --premat=/export2/DATA/HIS/HIS_server/analysis/dwi_data/dti/sub-104/reg/sub-104_first_processed_B0_reg_to_native_T1_after.mat --out=/export2/DATA/HIS/HIS_server/analysis/dwi_data/stats/MD/sub-104_first_B0_in-MNI_after\n",
      "\n",
      "applywarp -v --ref=${FSLDIR}/data/standard/MNI152_T1_2mm --in=/export2/DATA/HIS/HIS_server/analysis/dwi_data/dti/sub-106/reg/sub-106_first_processed_B0_before.nii.gz --warp=/export2/DATA/HIS/HIS_server/analysis/dwi_data/dti/sub-106/reg/sub-106_nonlinear_T1_transf --premat=/export2/DATA/HIS/HIS_server/analysis/dwi_data/dti/sub-106/reg/sub-106_first_processed_B0_reg_to_native_T1_before.mat --out=/export2/DATA/HIS/HIS_server/analysis/dwi_data/stats/MD/sub-106_first_B0_in-MNI_before\n",
      "\n",
      "applywarp -v --ref=${FSLDIR}/data/standard/MNI152_T1_2mm --in=/export2/DATA/HIS/HIS_server/analysis/dwi_data/dti/sub-106/reg/sub-106_first_processed_B0_after.nii.gz --warp=/export2/DATA/HIS/HIS_server/analysis/dwi_data/dti/sub-106/reg/sub-106_nonlinear_T1_transf --premat=/export2/DATA/HIS/HIS_server/analysis/dwi_data/dti/sub-106/reg/sub-106_first_processed_B0_reg_to_native_T1_after.mat --out=/export2/DATA/HIS/HIS_server/analysis/dwi_data/stats/MD/sub-106_first_B0_in-MNI_after\n",
      "\n",
      "applywarp -v --ref=${FSLDIR}/data/standard/MNI152_T1_2mm --in=/export2/DATA/HIS/HIS_server/analysis/dwi_data/dti/sub-107/reg/sub-107_first_processed_B0_before.nii.gz --warp=/export2/DATA/HIS/HIS_server/analysis/dwi_data/dti/sub-107/reg/sub-107_nonlinear_T1_transf --premat=/export2/DATA/HIS/HIS_server/analysis/dwi_data/dti/sub-107/reg/sub-107_first_processed_B0_reg_to_native_T1_before.mat --out=/export2/DATA/HIS/HIS_server/analysis/dwi_data/stats/MD/sub-107_first_B0_in-MNI_before\n",
      "\n",
      "applywarp -v --ref=${FSLDIR}/data/standard/MNI152_T1_2mm --in=/export2/DATA/HIS/HIS_server/analysis/dwi_data/dti/sub-107/reg/sub-107_first_processed_B0_after.nii.gz --warp=/export2/DATA/HIS/HIS_server/analysis/dwi_data/dti/sub-107/reg/sub-107_nonlinear_T1_transf --premat=/export2/DATA/HIS/HIS_server/analysis/dwi_data/dti/sub-107/reg/sub-107_first_processed_B0_reg_to_native_T1_after.mat --out=/export2/DATA/HIS/HIS_server/analysis/dwi_data/stats/MD/sub-107_first_B0_in-MNI_after\n",
      "\n",
      "applywarp -v --ref=${FSLDIR}/data/standard/MNI152_T1_2mm --in=/export2/DATA/HIS/HIS_server/analysis/dwi_data/dti/sub-108/reg/sub-108_first_processed_B0_before.nii.gz --warp=/export2/DATA/HIS/HIS_server/analysis/dwi_data/dti/sub-108/reg/sub-108_nonlinear_T1_transf --premat=/export2/DATA/HIS/HIS_server/analysis/dwi_data/dti/sub-108/reg/sub-108_first_processed_B0_reg_to_native_T1_before.mat --out=/export2/DATA/HIS/HIS_server/analysis/dwi_data/stats/MD/sub-108_first_B0_in-MNI_before\n",
      "\n",
      "applywarp -v --ref=${FSLDIR}/data/standard/MNI152_T1_2mm --in=/export2/DATA/HIS/HIS_server/analysis/dwi_data/dti/sub-108/reg/sub-108_first_processed_B0_after.nii.gz --warp=/export2/DATA/HIS/HIS_server/analysis/dwi_data/dti/sub-108/reg/sub-108_nonlinear_T1_transf --premat=/export2/DATA/HIS/HIS_server/analysis/dwi_data/dti/sub-108/reg/sub-108_first_processed_B0_reg_to_native_T1_after.mat --out=/export2/DATA/HIS/HIS_server/analysis/dwi_data/stats/MD/sub-108_first_B0_in-MNI_after\n",
      "\n",
      "applywarp -v --ref=${FSLDIR}/data/standard/MNI152_T1_2mm --in=/export2/DATA/HIS/HIS_server/analysis/dwi_data/dti/sub-110/reg/sub-110_first_processed_B0_before.nii.gz --warp=/export2/DATA/HIS/HIS_server/analysis/dwi_data/dti/sub-110/reg/sub-110_nonlinear_T1_transf --premat=/export2/DATA/HIS/HIS_server/analysis/dwi_data/dti/sub-110/reg/sub-110_first_processed_B0_reg_to_native_T1_before.mat --out=/export2/DATA/HIS/HIS_server/analysis/dwi_data/stats/MD/sub-110_first_B0_in-MNI_before\n",
      "\n",
      "applywarp -v --ref=${FSLDIR}/data/standard/MNI152_T1_2mm --in=/export2/DATA/HIS/HIS_server/analysis/dwi_data/dti/sub-110/reg/sub-110_first_processed_B0_after.nii.gz --warp=/export2/DATA/HIS/HIS_server/analysis/dwi_data/dti/sub-110/reg/sub-110_nonlinear_T1_transf --premat=/export2/DATA/HIS/HIS_server/analysis/dwi_data/dti/sub-110/reg/sub-110_first_processed_B0_reg_to_native_T1_after.mat --out=/export2/DATA/HIS/HIS_server/analysis/dwi_data/stats/MD/sub-110_first_B0_in-MNI_after\n",
      "\n",
      "applywarp -v --ref=${FSLDIR}/data/standard/MNI152_T1_2mm --in=/export2/DATA/HIS/HIS_server/analysis/dwi_data/dti/sub-113/reg/sub-113_first_processed_B0_before.nii.gz --warp=/export2/DATA/HIS/HIS_server/analysis/dwi_data/dti/sub-113/reg/sub-113_nonlinear_T1_transf --premat=/export2/DATA/HIS/HIS_server/analysis/dwi_data/dti/sub-113/reg/sub-113_first_processed_B0_reg_to_native_T1_before.mat --out=/export2/DATA/HIS/HIS_server/analysis/dwi_data/stats/MD/sub-113_first_B0_in-MNI_before\n",
      "\n",
      "applywarp -v --ref=${FSLDIR}/data/standard/MNI152_T1_2mm --in=/export2/DATA/HIS/HIS_server/analysis/dwi_data/dti/sub-113/reg/sub-113_first_processed_B0_after.nii.gz --warp=/export2/DATA/HIS/HIS_server/analysis/dwi_data/dti/sub-113/reg/sub-113_nonlinear_T1_transf --premat=/export2/DATA/HIS/HIS_server/analysis/dwi_data/dti/sub-113/reg/sub-113_first_processed_B0_reg_to_native_T1_after.mat --out=/export2/DATA/HIS/HIS_server/analysis/dwi_data/stats/MD/sub-113_first_B0_in-MNI_after\n",
      "\n",
      "applywarp -v --ref=${FSLDIR}/data/standard/MNI152_T1_2mm --in=/export2/DATA/HIS/HIS_server/analysis/dwi_data/dti/sub-114/reg/sub-114_first_processed_B0_before.nii.gz --warp=/export2/DATA/HIS/HIS_server/analysis/dwi_data/dti/sub-114/reg/sub-114_nonlinear_T1_transf --premat=/export2/DATA/HIS/HIS_server/analysis/dwi_data/dti/sub-114/reg/sub-114_first_processed_B0_reg_to_native_T1_before.mat --out=/export2/DATA/HIS/HIS_server/analysis/dwi_data/stats/MD/sub-114_first_B0_in-MNI_before\n",
      "\n",
      "applywarp -v --ref=${FSLDIR}/data/standard/MNI152_T1_2mm --in=/export2/DATA/HIS/HIS_server/analysis/dwi_data/dti/sub-114/reg/sub-114_first_processed_B0_after.nii.gz --warp=/export2/DATA/HIS/HIS_server/analysis/dwi_data/dti/sub-114/reg/sub-114_nonlinear_T1_transf --premat=/export2/DATA/HIS/HIS_server/analysis/dwi_data/dti/sub-114/reg/sub-114_first_processed_B0_reg_to_native_T1_after.mat --out=/export2/DATA/HIS/HIS_server/analysis/dwi_data/stats/MD/sub-114_first_B0_in-MNI_after\n",
      "\n",
      "applywarp -v --ref=${FSLDIR}/data/standard/MNI152_T1_2mm --in=/export2/DATA/HIS/HIS_server/analysis/dwi_data/dti/sub-115/reg/sub-115_first_processed_B0_before.nii.gz --warp=/export2/DATA/HIS/HIS_server/analysis/dwi_data/dti/sub-115/reg/sub-115_nonlinear_T1_transf --premat=/export2/DATA/HIS/HIS_server/analysis/dwi_data/dti/sub-115/reg/sub-115_first_processed_B0_reg_to_native_T1_before.mat --out=/export2/DATA/HIS/HIS_server/analysis/dwi_data/stats/MD/sub-115_first_B0_in-MNI_before\n",
      "\n",
      "applywarp -v --ref=${FSLDIR}/data/standard/MNI152_T1_2mm --in=/export2/DATA/HIS/HIS_server/analysis/dwi_data/dti/sub-115/reg/sub-115_first_processed_B0_after.nii.gz --warp=/export2/DATA/HIS/HIS_server/analysis/dwi_data/dti/sub-115/reg/sub-115_nonlinear_T1_transf --premat=/export2/DATA/HIS/HIS_server/analysis/dwi_data/dti/sub-115/reg/sub-115_first_processed_B0_reg_to_native_T1_after.mat --out=/export2/DATA/HIS/HIS_server/analysis/dwi_data/stats/MD/sub-115_first_B0_in-MNI_after\n",
      "\n",
      "applywarp -v --ref=${FSLDIR}/data/standard/MNI152_T1_2mm --in=/export2/DATA/HIS/HIS_server/analysis/dwi_data/dti/sub-117/reg/sub-117_first_processed_B0_before.nii.gz --warp=/export2/DATA/HIS/HIS_server/analysis/dwi_data/dti/sub-117/reg/sub-117_nonlinear_T1_transf --premat=/export2/DATA/HIS/HIS_server/analysis/dwi_data/dti/sub-117/reg/sub-117_first_processed_B0_reg_to_native_T1_before.mat --out=/export2/DATA/HIS/HIS_server/analysis/dwi_data/stats/MD/sub-117_first_B0_in-MNI_before\n",
      "\n",
      "applywarp -v --ref=${FSLDIR}/data/standard/MNI152_T1_2mm --in=/export2/DATA/HIS/HIS_server/analysis/dwi_data/dti/sub-117/reg/sub-117_first_processed_B0_after.nii.gz --warp=/export2/DATA/HIS/HIS_server/analysis/dwi_data/dti/sub-117/reg/sub-117_nonlinear_T1_transf --premat=/export2/DATA/HIS/HIS_server/analysis/dwi_data/dti/sub-117/reg/sub-117_first_processed_B0_reg_to_native_T1_after.mat --out=/export2/DATA/HIS/HIS_server/analysis/dwi_data/stats/MD/sub-117_first_B0_in-MNI_after\n",
      "\n",
      "applywarp -v --ref=${FSLDIR}/data/standard/MNI152_T1_2mm --in=/export2/DATA/HIS/HIS_server/analysis/dwi_data/dti/sub-118/reg/sub-118_first_processed_B0_before.nii.gz --warp=/export2/DATA/HIS/HIS_server/analysis/dwi_data/dti/sub-118/reg/sub-118_nonlinear_T1_transf --premat=/export2/DATA/HIS/HIS_server/analysis/dwi_data/dti/sub-118/reg/sub-118_first_processed_B0_reg_to_native_T1_before.mat --out=/export2/DATA/HIS/HIS_server/analysis/dwi_data/stats/MD/sub-118_first_B0_in-MNI_before\n",
      "\n",
      "applywarp -v --ref=${FSLDIR}/data/standard/MNI152_T1_2mm --in=/export2/DATA/HIS/HIS_server/analysis/dwi_data/dti/sub-118/reg/sub-118_first_processed_B0_after.nii.gz --warp=/export2/DATA/HIS/HIS_server/analysis/dwi_data/dti/sub-118/reg/sub-118_nonlinear_T1_transf --premat=/export2/DATA/HIS/HIS_server/analysis/dwi_data/dti/sub-118/reg/sub-118_first_processed_B0_reg_to_native_T1_after.mat --out=/export2/DATA/HIS/HIS_server/analysis/dwi_data/stats/MD/sub-118_first_B0_in-MNI_after\n",
      "\n",
      "applywarp -v --ref=${FSLDIR}/data/standard/MNI152_T1_2mm --in=/export2/DATA/HIS/HIS_server/analysis/dwi_data/dti/sub-119/reg/sub-119_first_processed_B0_before.nii.gz --warp=/export2/DATA/HIS/HIS_server/analysis/dwi_data/dti/sub-119/reg/sub-119_nonlinear_T1_transf --premat=/export2/DATA/HIS/HIS_server/analysis/dwi_data/dti/sub-119/reg/sub-119_first_processed_B0_reg_to_native_T1_before.mat --out=/export2/DATA/HIS/HIS_server/analysis/dwi_data/stats/MD/sub-119_first_B0_in-MNI_before\n",
      "\n",
      "applywarp -v --ref=${FSLDIR}/data/standard/MNI152_T1_2mm --in=/export2/DATA/HIS/HIS_server/analysis/dwi_data/dti/sub-119/reg/sub-119_first_processed_B0_after.nii.gz --warp=/export2/DATA/HIS/HIS_server/analysis/dwi_data/dti/sub-119/reg/sub-119_nonlinear_T1_transf --premat=/export2/DATA/HIS/HIS_server/analysis/dwi_data/dti/sub-119/reg/sub-119_first_processed_B0_reg_to_native_T1_after.mat --out=/export2/DATA/HIS/HIS_server/analysis/dwi_data/stats/MD/sub-119_first_B0_in-MNI_after\n",
      "\n",
      "applywarp -v --ref=${FSLDIR}/data/standard/MNI152_T1_2mm --in=/export2/DATA/HIS/HIS_server/analysis/dwi_data/dti/sub-120/reg/sub-120_first_processed_B0_before.nii.gz --warp=/export2/DATA/HIS/HIS_server/analysis/dwi_data/dti/sub-120/reg/sub-120_nonlinear_T1_transf --premat=/export2/DATA/HIS/HIS_server/analysis/dwi_data/dti/sub-120/reg/sub-120_first_processed_B0_reg_to_native_T1_before.mat --out=/export2/DATA/HIS/HIS_server/analysis/dwi_data/stats/MD/sub-120_first_B0_in-MNI_before\n",
      "\n",
      "applywarp -v --ref=${FSLDIR}/data/standard/MNI152_T1_2mm --in=/export2/DATA/HIS/HIS_server/analysis/dwi_data/dti/sub-120/reg/sub-120_first_processed_B0_after.nii.gz --warp=/export2/DATA/HIS/HIS_server/analysis/dwi_data/dti/sub-120/reg/sub-120_nonlinear_T1_transf --premat=/export2/DATA/HIS/HIS_server/analysis/dwi_data/dti/sub-120/reg/sub-120_first_processed_B0_reg_to_native_T1_after.mat --out=/export2/DATA/HIS/HIS_server/analysis/dwi_data/stats/MD/sub-120_first_B0_in-MNI_after\n",
      "\n",
      "applywarp -v --ref=${FSLDIR}/data/standard/MNI152_T1_2mm --in=/export2/DATA/HIS/HIS_server/analysis/dwi_data/dti/sub-121/reg/sub-121_first_processed_B0_before.nii.gz --warp=/export2/DATA/HIS/HIS_server/analysis/dwi_data/dti/sub-121/reg/sub-121_nonlinear_T1_transf --premat=/export2/DATA/HIS/HIS_server/analysis/dwi_data/dti/sub-121/reg/sub-121_first_processed_B0_reg_to_native_T1_before.mat --out=/export2/DATA/HIS/HIS_server/analysis/dwi_data/stats/MD/sub-121_first_B0_in-MNI_before\n",
      "\n",
      "applywarp -v --ref=${FSLDIR}/data/standard/MNI152_T1_2mm --in=/export2/DATA/HIS/HIS_server/analysis/dwi_data/dti/sub-121/reg/sub-121_first_processed_B0_after.nii.gz --warp=/export2/DATA/HIS/HIS_server/analysis/dwi_data/dti/sub-121/reg/sub-121_nonlinear_T1_transf --premat=/export2/DATA/HIS/HIS_server/analysis/dwi_data/dti/sub-121/reg/sub-121_first_processed_B0_reg_to_native_T1_after.mat --out=/export2/DATA/HIS/HIS_server/analysis/dwi_data/stats/MD/sub-121_first_B0_in-MNI_after\n",
      "\n",
      "applywarp -v --ref=${FSLDIR}/data/standard/MNI152_T1_2mm --in=/export2/DATA/HIS/HIS_server/analysis/dwi_data/dti/sub-122/reg/sub-122_first_processed_B0_before.nii.gz --warp=/export2/DATA/HIS/HIS_server/analysis/dwi_data/dti/sub-122/reg/sub-122_nonlinear_T1_transf --premat=/export2/DATA/HIS/HIS_server/analysis/dwi_data/dti/sub-122/reg/sub-122_first_processed_B0_reg_to_native_T1_before.mat --out=/export2/DATA/HIS/HIS_server/analysis/dwi_data/stats/MD/sub-122_first_B0_in-MNI_before\n",
      "\n",
      "applywarp -v --ref=${FSLDIR}/data/standard/MNI152_T1_2mm --in=/export2/DATA/HIS/HIS_server/analysis/dwi_data/dti/sub-122/reg/sub-122_first_processed_B0_after.nii.gz --warp=/export2/DATA/HIS/HIS_server/analysis/dwi_data/dti/sub-122/reg/sub-122_nonlinear_T1_transf --premat=/export2/DATA/HIS/HIS_server/analysis/dwi_data/dti/sub-122/reg/sub-122_first_processed_B0_reg_to_native_T1_after.mat --out=/export2/DATA/HIS/HIS_server/analysis/dwi_data/stats/MD/sub-122_first_B0_in-MNI_after\n",
      "\n",
      "applywarp -v --ref=${FSLDIR}/data/standard/MNI152_T1_2mm --in=/export2/DATA/HIS/HIS_server/analysis/dwi_data/dti/sub-124/reg/sub-124_first_processed_B0_before.nii.gz --warp=/export2/DATA/HIS/HIS_server/analysis/dwi_data/dti/sub-124/reg/sub-124_nonlinear_T1_transf --premat=/export2/DATA/HIS/HIS_server/analysis/dwi_data/dti/sub-124/reg/sub-124_first_processed_B0_reg_to_native_T1_before.mat --out=/export2/DATA/HIS/HIS_server/analysis/dwi_data/stats/MD/sub-124_first_B0_in-MNI_before\n",
      "\n",
      "applywarp -v --ref=${FSLDIR}/data/standard/MNI152_T1_2mm --in=/export2/DATA/HIS/HIS_server/analysis/dwi_data/dti/sub-124/reg/sub-124_first_processed_B0_after.nii.gz --warp=/export2/DATA/HIS/HIS_server/analysis/dwi_data/dti/sub-124/reg/sub-124_nonlinear_T1_transf --premat=/export2/DATA/HIS/HIS_server/analysis/dwi_data/dti/sub-124/reg/sub-124_first_processed_B0_reg_to_native_T1_after.mat --out=/export2/DATA/HIS/HIS_server/analysis/dwi_data/stats/MD/sub-124_first_B0_in-MNI_after\n",
      "\n",
      "applywarp -v --ref=${FSLDIR}/data/standard/MNI152_T1_2mm --in=/export2/DATA/HIS/HIS_server/analysis/dwi_data/dti/sub-126/reg/sub-126_first_processed_B0_before.nii.gz --warp=/export2/DATA/HIS/HIS_server/analysis/dwi_data/dti/sub-126/reg/sub-126_nonlinear_T1_transf --premat=/export2/DATA/HIS/HIS_server/analysis/dwi_data/dti/sub-126/reg/sub-126_first_processed_B0_reg_to_native_T1_before.mat --out=/export2/DATA/HIS/HIS_server/analysis/dwi_data/stats/MD/sub-126_first_B0_in-MNI_before\n",
      "\n",
      "applywarp -v --ref=${FSLDIR}/data/standard/MNI152_T1_2mm --in=/export2/DATA/HIS/HIS_server/analysis/dwi_data/dti/sub-126/reg/sub-126_first_processed_B0_after.nii.gz --warp=/export2/DATA/HIS/HIS_server/analysis/dwi_data/dti/sub-126/reg/sub-126_nonlinear_T1_transf --premat=/export2/DATA/HIS/HIS_server/analysis/dwi_data/dti/sub-126/reg/sub-126_first_processed_B0_reg_to_native_T1_after.mat --out=/export2/DATA/HIS/HIS_server/analysis/dwi_data/stats/MD/sub-126_first_B0_in-MNI_after\n",
      "\n",
      "applywarp -v --ref=${FSLDIR}/data/standard/MNI152_T1_2mm --in=/export2/DATA/HIS/HIS_server/analysis/dwi_data/dti/sub-127/reg/sub-127_first_processed_B0_before.nii.gz --warp=/export2/DATA/HIS/HIS_server/analysis/dwi_data/dti/sub-127/reg/sub-127_nonlinear_T1_transf --premat=/export2/DATA/HIS/HIS_server/analysis/dwi_data/dti/sub-127/reg/sub-127_first_processed_B0_reg_to_native_T1_before.mat --out=/export2/DATA/HIS/HIS_server/analysis/dwi_data/stats/MD/sub-127_first_B0_in-MNI_before\n",
      "\n",
      "applywarp -v --ref=${FSLDIR}/data/standard/MNI152_T1_2mm --in=/export2/DATA/HIS/HIS_server/analysis/dwi_data/dti/sub-127/reg/sub-127_first_processed_B0_after.nii.gz --warp=/export2/DATA/HIS/HIS_server/analysis/dwi_data/dti/sub-127/reg/sub-127_nonlinear_T1_transf --premat=/export2/DATA/HIS/HIS_server/analysis/dwi_data/dti/sub-127/reg/sub-127_first_processed_B0_reg_to_native_T1_after.mat --out=/export2/DATA/HIS/HIS_server/analysis/dwi_data/stats/MD/sub-127_first_B0_in-MNI_after\n",
      "\n",
      "applywarp -v --ref=${FSLDIR}/data/standard/MNI152_T1_2mm --in=/export2/DATA/HIS/HIS_server/analysis/dwi_data/dti/sub-128/reg/sub-128_first_processed_B0_before.nii.gz --warp=/export2/DATA/HIS/HIS_server/analysis/dwi_data/dti/sub-128/reg/sub-128_nonlinear_T1_transf --premat=/export2/DATA/HIS/HIS_server/analysis/dwi_data/dti/sub-128/reg/sub-128_first_processed_B0_reg_to_native_T1_before.mat --out=/export2/DATA/HIS/HIS_server/analysis/dwi_data/stats/MD/sub-128_first_B0_in-MNI_before\n",
      "\n",
      "applywarp -v --ref=${FSLDIR}/data/standard/MNI152_T1_2mm --in=/export2/DATA/HIS/HIS_server/analysis/dwi_data/dti/sub-128/reg/sub-128_first_processed_B0_after.nii.gz --warp=/export2/DATA/HIS/HIS_server/analysis/dwi_data/dti/sub-128/reg/sub-128_nonlinear_T1_transf --premat=/export2/DATA/HIS/HIS_server/analysis/dwi_data/dti/sub-128/reg/sub-128_first_processed_B0_reg_to_native_T1_after.mat --out=/export2/DATA/HIS/HIS_server/analysis/dwi_data/stats/MD/sub-128_first_B0_in-MNI_after\n",
      "\n",
      "applywarp -v --ref=${FSLDIR}/data/standard/MNI152_T1_2mm --in=/export2/DATA/HIS/HIS_server/analysis/dwi_data/dti/sub-129/reg/sub-129_first_processed_B0_before.nii.gz --warp=/export2/DATA/HIS/HIS_server/analysis/dwi_data/dti/sub-129/reg/sub-129_nonlinear_T1_transf --premat=/export2/DATA/HIS/HIS_server/analysis/dwi_data/dti/sub-129/reg/sub-129_first_processed_B0_reg_to_native_T1_before.mat --out=/export2/DATA/HIS/HIS_server/analysis/dwi_data/stats/MD/sub-129_first_B0_in-MNI_before\n",
      "\n",
      "applywarp -v --ref=${FSLDIR}/data/standard/MNI152_T1_2mm --in=/export2/DATA/HIS/HIS_server/analysis/dwi_data/dti/sub-129/reg/sub-129_first_processed_B0_after.nii.gz --warp=/export2/DATA/HIS/HIS_server/analysis/dwi_data/dti/sub-129/reg/sub-129_nonlinear_T1_transf --premat=/export2/DATA/HIS/HIS_server/analysis/dwi_data/dti/sub-129/reg/sub-129_first_processed_B0_reg_to_native_T1_after.mat --out=/export2/DATA/HIS/HIS_server/analysis/dwi_data/stats/MD/sub-129_first_B0_in-MNI_after\n",
      "\n",
      "applywarp -v --ref=${FSLDIR}/data/standard/MNI152_T1_2mm --in=/export2/DATA/HIS/HIS_server/analysis/dwi_data/dti/sub-130/reg/sub-130_first_processed_B0_before.nii.gz --warp=/export2/DATA/HIS/HIS_server/analysis/dwi_data/dti/sub-130/reg/sub-130_nonlinear_T1_transf --premat=/export2/DATA/HIS/HIS_server/analysis/dwi_data/dti/sub-130/reg/sub-130_first_processed_B0_reg_to_native_T1_before.mat --out=/export2/DATA/HIS/HIS_server/analysis/dwi_data/stats/MD/sub-130_first_B0_in-MNI_before\n",
      "\n",
      "applywarp -v --ref=${FSLDIR}/data/standard/MNI152_T1_2mm --in=/export2/DATA/HIS/HIS_server/analysis/dwi_data/dti/sub-130/reg/sub-130_first_processed_B0_after.nii.gz --warp=/export2/DATA/HIS/HIS_server/analysis/dwi_data/dti/sub-130/reg/sub-130_nonlinear_T1_transf --premat=/export2/DATA/HIS/HIS_server/analysis/dwi_data/dti/sub-130/reg/sub-130_first_processed_B0_reg_to_native_T1_after.mat --out=/export2/DATA/HIS/HIS_server/analysis/dwi_data/stats/MD/sub-130_first_B0_in-MNI_after\n",
      "\n",
      "applywarp -v --ref=${FSLDIR}/data/standard/MNI152_T1_2mm --in=/export2/DATA/HIS/HIS_server/analysis/dwi_data/dti/sub-131/reg/sub-131_first_processed_B0_before.nii.gz --warp=/export2/DATA/HIS/HIS_server/analysis/dwi_data/dti/sub-131/reg/sub-131_nonlinear_T1_transf --premat=/export2/DATA/HIS/HIS_server/analysis/dwi_data/dti/sub-131/reg/sub-131_first_processed_B0_reg_to_native_T1_before.mat --out=/export2/DATA/HIS/HIS_server/analysis/dwi_data/stats/MD/sub-131_first_B0_in-MNI_before\n",
      "\n",
      "applywarp -v --ref=${FSLDIR}/data/standard/MNI152_T1_2mm --in=/export2/DATA/HIS/HIS_server/analysis/dwi_data/dti/sub-131/reg/sub-131_first_processed_B0_after.nii.gz --warp=/export2/DATA/HIS/HIS_server/analysis/dwi_data/dti/sub-131/reg/sub-131_nonlinear_T1_transf --premat=/export2/DATA/HIS/HIS_server/analysis/dwi_data/dti/sub-131/reg/sub-131_first_processed_B0_reg_to_native_T1_after.mat --out=/export2/DATA/HIS/HIS_server/analysis/dwi_data/stats/MD/sub-131_first_B0_in-MNI_after\n",
      "\n",
      "applywarp -v --ref=${FSLDIR}/data/standard/MNI152_T1_2mm --in=/export2/DATA/HIS/HIS_server/analysis/dwi_data/dti/sub-133/reg/sub-133_first_processed_B0_before.nii.gz --warp=/export2/DATA/HIS/HIS_server/analysis/dwi_data/dti/sub-133/reg/sub-133_nonlinear_T1_transf --premat=/export2/DATA/HIS/HIS_server/analysis/dwi_data/dti/sub-133/reg/sub-133_first_processed_B0_reg_to_native_T1_before.mat --out=/export2/DATA/HIS/HIS_server/analysis/dwi_data/stats/MD/sub-133_first_B0_in-MNI_before\n",
      "\n",
      "applywarp -v --ref=${FSLDIR}/data/standard/MNI152_T1_2mm --in=/export2/DATA/HIS/HIS_server/analysis/dwi_data/dti/sub-133/reg/sub-133_first_processed_B0_after.nii.gz --warp=/export2/DATA/HIS/HIS_server/analysis/dwi_data/dti/sub-133/reg/sub-133_nonlinear_T1_transf --premat=/export2/DATA/HIS/HIS_server/analysis/dwi_data/dti/sub-133/reg/sub-133_first_processed_B0_reg_to_native_T1_after.mat --out=/export2/DATA/HIS/HIS_server/analysis/dwi_data/stats/MD/sub-133_first_B0_in-MNI_after\n",
      "\n",
      "applywarp -v --ref=${FSLDIR}/data/standard/MNI152_T1_2mm --in=/export2/DATA/HIS/HIS_server/analysis/dwi_data/dti/sub-135/reg/sub-135_first_processed_B0_before.nii.gz --warp=/export2/DATA/HIS/HIS_server/analysis/dwi_data/dti/sub-135/reg/sub-135_nonlinear_T1_transf --premat=/export2/DATA/HIS/HIS_server/analysis/dwi_data/dti/sub-135/reg/sub-135_first_processed_B0_reg_to_native_T1_before.mat --out=/export2/DATA/HIS/HIS_server/analysis/dwi_data/stats/MD/sub-135_first_B0_in-MNI_before\n",
      "\n",
      "applywarp -v --ref=${FSLDIR}/data/standard/MNI152_T1_2mm --in=/export2/DATA/HIS/HIS_server/analysis/dwi_data/dti/sub-135/reg/sub-135_first_processed_B0_after.nii.gz --warp=/export2/DATA/HIS/HIS_server/analysis/dwi_data/dti/sub-135/reg/sub-135_nonlinear_T1_transf --premat=/export2/DATA/HIS/HIS_server/analysis/dwi_data/dti/sub-135/reg/sub-135_first_processed_B0_reg_to_native_T1_after.mat --out=/export2/DATA/HIS/HIS_server/analysis/dwi_data/stats/MD/sub-135_first_B0_in-MNI_after\n",
      "\n",
      "applywarp -v --ref=${FSLDIR}/data/standard/MNI152_T1_2mm --in=/export2/DATA/HIS/HIS_server/analysis/dwi_data/dti/sub-137/reg/sub-137_first_processed_B0_before.nii.gz --warp=/export2/DATA/HIS/HIS_server/analysis/dwi_data/dti/sub-137/reg/sub-137_nonlinear_T1_transf --premat=/export2/DATA/HIS/HIS_server/analysis/dwi_data/dti/sub-137/reg/sub-137_first_processed_B0_reg_to_native_T1_before.mat --out=/export2/DATA/HIS/HIS_server/analysis/dwi_data/stats/MD/sub-137_first_B0_in-MNI_before\n",
      "\n",
      "applywarp -v --ref=${FSLDIR}/data/standard/MNI152_T1_2mm --in=/export2/DATA/HIS/HIS_server/analysis/dwi_data/dti/sub-137/reg/sub-137_first_processed_B0_after.nii.gz --warp=/export2/DATA/HIS/HIS_server/analysis/dwi_data/dti/sub-137/reg/sub-137_nonlinear_T1_transf --premat=/export2/DATA/HIS/HIS_server/analysis/dwi_data/dti/sub-137/reg/sub-137_first_processed_B0_reg_to_native_T1_after.mat --out=/export2/DATA/HIS/HIS_server/analysis/dwi_data/stats/MD/sub-137_first_B0_in-MNI_after\n",
      "\n",
      "applywarp -v --ref=${FSLDIR}/data/standard/MNI152_T1_2mm --in=/export2/DATA/HIS/HIS_server/analysis/dwi_data/dti/sub-138/reg/sub-138_first_processed_B0_before.nii.gz --warp=/export2/DATA/HIS/HIS_server/analysis/dwi_data/dti/sub-138/reg/sub-138_nonlinear_T1_transf --premat=/export2/DATA/HIS/HIS_server/analysis/dwi_data/dti/sub-138/reg/sub-138_first_processed_B0_reg_to_native_T1_before.mat --out=/export2/DATA/HIS/HIS_server/analysis/dwi_data/stats/MD/sub-138_first_B0_in-MNI_before\n",
      "\n",
      "applywarp -v --ref=${FSLDIR}/data/standard/MNI152_T1_2mm --in=/export2/DATA/HIS/HIS_server/analysis/dwi_data/dti/sub-138/reg/sub-138_first_processed_B0_after.nii.gz --warp=/export2/DATA/HIS/HIS_server/analysis/dwi_data/dti/sub-138/reg/sub-138_nonlinear_T1_transf --premat=/export2/DATA/HIS/HIS_server/analysis/dwi_data/dti/sub-138/reg/sub-138_first_processed_B0_reg_to_native_T1_after.mat --out=/export2/DATA/HIS/HIS_server/analysis/dwi_data/stats/MD/sub-138_first_B0_in-MNI_after\n",
      "\n",
      "applywarp -v --ref=${FSLDIR}/data/standard/MNI152_T1_2mm --in=/export2/DATA/HIS/HIS_server/analysis/dwi_data/dti/sub-139/reg/sub-139_first_processed_B0_before.nii.gz --warp=/export2/DATA/HIS/HIS_server/analysis/dwi_data/dti/sub-139/reg/sub-139_nonlinear_T1_transf --premat=/export2/DATA/HIS/HIS_server/analysis/dwi_data/dti/sub-139/reg/sub-139_first_processed_B0_reg_to_native_T1_before.mat --out=/export2/DATA/HIS/HIS_server/analysis/dwi_data/stats/MD/sub-139_first_B0_in-MNI_before\n",
      "\n",
      "applywarp -v --ref=${FSLDIR}/data/standard/MNI152_T1_2mm --in=/export2/DATA/HIS/HIS_server/analysis/dwi_data/dti/sub-139/reg/sub-139_first_processed_B0_after.nii.gz --warp=/export2/DATA/HIS/HIS_server/analysis/dwi_data/dti/sub-139/reg/sub-139_nonlinear_T1_transf --premat=/export2/DATA/HIS/HIS_server/analysis/dwi_data/dti/sub-139/reg/sub-139_first_processed_B0_reg_to_native_T1_after.mat --out=/export2/DATA/HIS/HIS_server/analysis/dwi_data/stats/MD/sub-139_first_B0_in-MNI_after\n",
      "\n",
      "applywarp -v --ref=${FSLDIR}/data/standard/MNI152_T1_2mm --in=/export2/DATA/HIS/HIS_server/analysis/dwi_data/dti/sub-140/reg/sub-140_first_processed_B0_before.nii.gz --warp=/export2/DATA/HIS/HIS_server/analysis/dwi_data/dti/sub-140/reg/sub-140_nonlinear_T1_transf --premat=/export2/DATA/HIS/HIS_server/analysis/dwi_data/dti/sub-140/reg/sub-140_first_processed_B0_reg_to_native_T1_before.mat --out=/export2/DATA/HIS/HIS_server/analysis/dwi_data/stats/MD/sub-140_first_B0_in-MNI_before\n",
      "\n",
      "applywarp -v --ref=${FSLDIR}/data/standard/MNI152_T1_2mm --in=/export2/DATA/HIS/HIS_server/analysis/dwi_data/dti/sub-140/reg/sub-140_first_processed_B0_after.nii.gz --warp=/export2/DATA/HIS/HIS_server/analysis/dwi_data/dti/sub-140/reg/sub-140_nonlinear_T1_transf --premat=/export2/DATA/HIS/HIS_server/analysis/dwi_data/dti/sub-140/reg/sub-140_first_processed_B0_reg_to_native_T1_after.mat --out=/export2/DATA/HIS/HIS_server/analysis/dwi_data/stats/MD/sub-140_first_B0_in-MNI_after\n",
      "\n",
      "applywarp -v --ref=${FSLDIR}/data/standard/MNI152_T1_2mm --in=/export2/DATA/HIS/HIS_server/analysis/dwi_data/dti/sub-141/reg/sub-141_first_processed_B0_before.nii.gz --warp=/export2/DATA/HIS/HIS_server/analysis/dwi_data/dti/sub-141/reg/sub-141_nonlinear_T1_transf --premat=/export2/DATA/HIS/HIS_server/analysis/dwi_data/dti/sub-141/reg/sub-141_first_processed_B0_reg_to_native_T1_before.mat --out=/export2/DATA/HIS/HIS_server/analysis/dwi_data/stats/MD/sub-141_first_B0_in-MNI_before\n",
      "\n",
      "applywarp -v --ref=${FSLDIR}/data/standard/MNI152_T1_2mm --in=/export2/DATA/HIS/HIS_server/analysis/dwi_data/dti/sub-141/reg/sub-141_first_processed_B0_after.nii.gz --warp=/export2/DATA/HIS/HIS_server/analysis/dwi_data/dti/sub-141/reg/sub-141_nonlinear_T1_transf --premat=/export2/DATA/HIS/HIS_server/analysis/dwi_data/dti/sub-141/reg/sub-141_first_processed_B0_reg_to_native_T1_after.mat --out=/export2/DATA/HIS/HIS_server/analysis/dwi_data/stats/MD/sub-141_first_B0_in-MNI_after\n",
      "\n",
      "applywarp -v --ref=${FSLDIR}/data/standard/MNI152_T1_2mm --in=/export2/DATA/HIS/HIS_server/analysis/dwi_data/dti/sub-142/reg/sub-142_first_processed_B0_before.nii.gz --warp=/export2/DATA/HIS/HIS_server/analysis/dwi_data/dti/sub-142/reg/sub-142_nonlinear_T1_transf --premat=/export2/DATA/HIS/HIS_server/analysis/dwi_data/dti/sub-142/reg/sub-142_first_processed_B0_reg_to_native_T1_before.mat --out=/export2/DATA/HIS/HIS_server/analysis/dwi_data/stats/MD/sub-142_first_B0_in-MNI_before\n",
      "\n",
      "applywarp -v --ref=${FSLDIR}/data/standard/MNI152_T1_2mm --in=/export2/DATA/HIS/HIS_server/analysis/dwi_data/dti/sub-142/reg/sub-142_first_processed_B0_after.nii.gz --warp=/export2/DATA/HIS/HIS_server/analysis/dwi_data/dti/sub-142/reg/sub-142_nonlinear_T1_transf --premat=/export2/DATA/HIS/HIS_server/analysis/dwi_data/dti/sub-142/reg/sub-142_first_processed_B0_reg_to_native_T1_after.mat --out=/export2/DATA/HIS/HIS_server/analysis/dwi_data/stats/MD/sub-142_first_B0_in-MNI_after\n",
      "\n",
      "applywarp -v --ref=${FSLDIR}/data/standard/MNI152_T1_2mm --in=/export2/DATA/HIS/HIS_server/analysis/dwi_data/dti/sub-143/reg/sub-143_first_processed_B0_before.nii.gz --warp=/export2/DATA/HIS/HIS_server/analysis/dwi_data/dti/sub-143/reg/sub-143_nonlinear_T1_transf --premat=/export2/DATA/HIS/HIS_server/analysis/dwi_data/dti/sub-143/reg/sub-143_first_processed_B0_reg_to_native_T1_before.mat --out=/export2/DATA/HIS/HIS_server/analysis/dwi_data/stats/MD/sub-143_first_B0_in-MNI_before\n",
      "\n",
      "applywarp -v --ref=${FSLDIR}/data/standard/MNI152_T1_2mm --in=/export2/DATA/HIS/HIS_server/analysis/dwi_data/dti/sub-143/reg/sub-143_first_processed_B0_after.nii.gz --warp=/export2/DATA/HIS/HIS_server/analysis/dwi_data/dti/sub-143/reg/sub-143_nonlinear_T1_transf --premat=/export2/DATA/HIS/HIS_server/analysis/dwi_data/dti/sub-143/reg/sub-143_first_processed_B0_reg_to_native_T1_after.mat --out=/export2/DATA/HIS/HIS_server/analysis/dwi_data/stats/MD/sub-143_first_B0_in-MNI_after\n",
      "\n",
      "applywarp -v --ref=${FSLDIR}/data/standard/MNI152_T1_2mm --in=/export2/DATA/HIS/HIS_server/analysis/dwi_data/dti/sub-144/reg/sub-144_first_processed_B0_before.nii.gz --warp=/export2/DATA/HIS/HIS_server/analysis/dwi_data/dti/sub-144/reg/sub-144_nonlinear_T1_transf --premat=/export2/DATA/HIS/HIS_server/analysis/dwi_data/dti/sub-144/reg/sub-144_first_processed_B0_reg_to_native_T1_before.mat --out=/export2/DATA/HIS/HIS_server/analysis/dwi_data/stats/MD/sub-144_first_B0_in-MNI_before\n",
      "\n",
      "applywarp -v --ref=${FSLDIR}/data/standard/MNI152_T1_2mm --in=/export2/DATA/HIS/HIS_server/analysis/dwi_data/dti/sub-144/reg/sub-144_first_processed_B0_after.nii.gz --warp=/export2/DATA/HIS/HIS_server/analysis/dwi_data/dti/sub-144/reg/sub-144_nonlinear_T1_transf --premat=/export2/DATA/HIS/HIS_server/analysis/dwi_data/dti/sub-144/reg/sub-144_first_processed_B0_reg_to_native_T1_after.mat --out=/export2/DATA/HIS/HIS_server/analysis/dwi_data/stats/MD/sub-144_first_B0_in-MNI_after\n",
      "\n",
      "applywarp -v --ref=${FSLDIR}/data/standard/MNI152_T1_2mm --in=/export2/DATA/HIS/HIS_server/analysis/dwi_data/dti/sub-145/reg/sub-145_first_processed_B0_before.nii.gz --warp=/export2/DATA/HIS/HIS_server/analysis/dwi_data/dti/sub-145/reg/sub-145_nonlinear_T1_transf --premat=/export2/DATA/HIS/HIS_server/analysis/dwi_data/dti/sub-145/reg/sub-145_first_processed_B0_reg_to_native_T1_before.mat --out=/export2/DATA/HIS/HIS_server/analysis/dwi_data/stats/MD/sub-145_first_B0_in-MNI_before\n",
      "\n",
      "applywarp -v --ref=${FSLDIR}/data/standard/MNI152_T1_2mm --in=/export2/DATA/HIS/HIS_server/analysis/dwi_data/dti/sub-145/reg/sub-145_first_processed_B0_after.nii.gz --warp=/export2/DATA/HIS/HIS_server/analysis/dwi_data/dti/sub-145/reg/sub-145_nonlinear_T1_transf --premat=/export2/DATA/HIS/HIS_server/analysis/dwi_data/dti/sub-145/reg/sub-145_first_processed_B0_reg_to_native_T1_after.mat --out=/export2/DATA/HIS/HIS_server/analysis/dwi_data/stats/MD/sub-145_first_B0_in-MNI_after\n",
      "\n",
      "applywarp -v --ref=${FSLDIR}/data/standard/MNI152_T1_2mm --in=/export2/DATA/HIS/HIS_server/analysis/dwi_data/dti/sub-146/reg/sub-146_first_processed_B0_before.nii.gz --warp=/export2/DATA/HIS/HIS_server/analysis/dwi_data/dti/sub-146/reg/sub-146_nonlinear_T1_transf --premat=/export2/DATA/HIS/HIS_server/analysis/dwi_data/dti/sub-146/reg/sub-146_first_processed_B0_reg_to_native_T1_before.mat --out=/export2/DATA/HIS/HIS_server/analysis/dwi_data/stats/MD/sub-146_first_B0_in-MNI_before\n",
      "\n",
      "applywarp -v --ref=${FSLDIR}/data/standard/MNI152_T1_2mm --in=/export2/DATA/HIS/HIS_server/analysis/dwi_data/dti/sub-146/reg/sub-146_first_processed_B0_after.nii.gz --warp=/export2/DATA/HIS/HIS_server/analysis/dwi_data/dti/sub-146/reg/sub-146_nonlinear_T1_transf --premat=/export2/DATA/HIS/HIS_server/analysis/dwi_data/dti/sub-146/reg/sub-146_first_processed_B0_reg_to_native_T1_after.mat --out=/export2/DATA/HIS/HIS_server/analysis/dwi_data/stats/MD/sub-146_first_B0_in-MNI_after\n",
      "\n",
      "applywarp -v --ref=${FSLDIR}/data/standard/MNI152_T1_2mm --in=/export2/DATA/HIS/HIS_server/analysis/dwi_data/dti/sub-147/reg/sub-147_first_processed_B0_before.nii.gz --warp=/export2/DATA/HIS/HIS_server/analysis/dwi_data/dti/sub-147/reg/sub-147_nonlinear_T1_transf --premat=/export2/DATA/HIS/HIS_server/analysis/dwi_data/dti/sub-147/reg/sub-147_first_processed_B0_reg_to_native_T1_before.mat --out=/export2/DATA/HIS/HIS_server/analysis/dwi_data/stats/MD/sub-147_first_B0_in-MNI_before\n",
      "\n",
      "applywarp -v --ref=${FSLDIR}/data/standard/MNI152_T1_2mm --in=/export2/DATA/HIS/HIS_server/analysis/dwi_data/dti/sub-147/reg/sub-147_first_processed_B0_after.nii.gz --warp=/export2/DATA/HIS/HIS_server/analysis/dwi_data/dti/sub-147/reg/sub-147_nonlinear_T1_transf --premat=/export2/DATA/HIS/HIS_server/analysis/dwi_data/dti/sub-147/reg/sub-147_first_processed_B0_reg_to_native_T1_after.mat --out=/export2/DATA/HIS/HIS_server/analysis/dwi_data/stats/MD/sub-147_first_B0_in-MNI_after\n",
      "\n",
      "applywarp -v --ref=${FSLDIR}/data/standard/MNI152_T1_2mm --in=/export2/DATA/HIS/HIS_server/analysis/dwi_data/dti/sub-148/reg/sub-148_first_processed_B0_before.nii.gz --warp=/export2/DATA/HIS/HIS_server/analysis/dwi_data/dti/sub-148/reg/sub-148_nonlinear_T1_transf --premat=/export2/DATA/HIS/HIS_server/analysis/dwi_data/dti/sub-148/reg/sub-148_first_processed_B0_reg_to_native_T1_before.mat --out=/export2/DATA/HIS/HIS_server/analysis/dwi_data/stats/MD/sub-148_first_B0_in-MNI_before\n",
      "\n",
      "applywarp -v --ref=${FSLDIR}/data/standard/MNI152_T1_2mm --in=/export2/DATA/HIS/HIS_server/analysis/dwi_data/dti/sub-148/reg/sub-148_first_processed_B0_after.nii.gz --warp=/export2/DATA/HIS/HIS_server/analysis/dwi_data/dti/sub-148/reg/sub-148_nonlinear_T1_transf --premat=/export2/DATA/HIS/HIS_server/analysis/dwi_data/dti/sub-148/reg/sub-148_first_processed_B0_reg_to_native_T1_after.mat --out=/export2/DATA/HIS/HIS_server/analysis/dwi_data/stats/MD/sub-148_first_B0_in-MNI_after\n",
      "\n",
      "applywarp -v --ref=${FSLDIR}/data/standard/MNI152_T1_2mm --in=/export2/DATA/HIS/HIS_server/analysis/dwi_data/dti/sub-149/reg/sub-149_first_processed_B0_before.nii.gz --warp=/export2/DATA/HIS/HIS_server/analysis/dwi_data/dti/sub-149/reg/sub-149_nonlinear_T1_transf --premat=/export2/DATA/HIS/HIS_server/analysis/dwi_data/dti/sub-149/reg/sub-149_first_processed_B0_reg_to_native_T1_before.mat --out=/export2/DATA/HIS/HIS_server/analysis/dwi_data/stats/MD/sub-149_first_B0_in-MNI_before\n",
      "\n",
      "applywarp -v --ref=${FSLDIR}/data/standard/MNI152_T1_2mm --in=/export2/DATA/HIS/HIS_server/analysis/dwi_data/dti/sub-149/reg/sub-149_first_processed_B0_after.nii.gz --warp=/export2/DATA/HIS/HIS_server/analysis/dwi_data/dti/sub-149/reg/sub-149_nonlinear_T1_transf --premat=/export2/DATA/HIS/HIS_server/analysis/dwi_data/dti/sub-149/reg/sub-149_first_processed_B0_reg_to_native_T1_after.mat --out=/export2/DATA/HIS/HIS_server/analysis/dwi_data/stats/MD/sub-149_first_B0_in-MNI_after\n",
      "\n",
      "applywarp -v --ref=${FSLDIR}/data/standard/MNI152_T1_2mm --in=/export2/DATA/HIS/HIS_server/analysis/dwi_data/dti/sub-150/reg/sub-150_first_processed_B0_before.nii.gz --warp=/export2/DATA/HIS/HIS_server/analysis/dwi_data/dti/sub-150/reg/sub-150_nonlinear_T1_transf --premat=/export2/DATA/HIS/HIS_server/analysis/dwi_data/dti/sub-150/reg/sub-150_first_processed_B0_reg_to_native_T1_before.mat --out=/export2/DATA/HIS/HIS_server/analysis/dwi_data/stats/MD/sub-150_first_B0_in-MNI_before\n",
      "\n",
      "applywarp -v --ref=${FSLDIR}/data/standard/MNI152_T1_2mm --in=/export2/DATA/HIS/HIS_server/analysis/dwi_data/dti/sub-150/reg/sub-150_first_processed_B0_after.nii.gz --warp=/export2/DATA/HIS/HIS_server/analysis/dwi_data/dti/sub-150/reg/sub-150_nonlinear_T1_transf --premat=/export2/DATA/HIS/HIS_server/analysis/dwi_data/dti/sub-150/reg/sub-150_first_processed_B0_reg_to_native_T1_after.mat --out=/export2/DATA/HIS/HIS_server/analysis/dwi_data/stats/MD/sub-150_first_B0_in-MNI_after\n",
      "\n",
      "applywarp -v --ref=${FSLDIR}/data/standard/MNI152_T1_2mm --in=/export2/DATA/HIS/HIS_server/analysis/dwi_data/dti/sub-151/reg/sub-151_first_processed_B0_before.nii.gz --warp=/export2/DATA/HIS/HIS_server/analysis/dwi_data/dti/sub-151/reg/sub-151_nonlinear_T1_transf --premat=/export2/DATA/HIS/HIS_server/analysis/dwi_data/dti/sub-151/reg/sub-151_first_processed_B0_reg_to_native_T1_before.mat --out=/export2/DATA/HIS/HIS_server/analysis/dwi_data/stats/MD/sub-151_first_B0_in-MNI_before\n",
      "\n",
      "applywarp -v --ref=${FSLDIR}/data/standard/MNI152_T1_2mm --in=/export2/DATA/HIS/HIS_server/analysis/dwi_data/dti/sub-151/reg/sub-151_first_processed_B0_after.nii.gz --warp=/export2/DATA/HIS/HIS_server/analysis/dwi_data/dti/sub-151/reg/sub-151_nonlinear_T1_transf --premat=/export2/DATA/HIS/HIS_server/analysis/dwi_data/dti/sub-151/reg/sub-151_first_processed_B0_reg_to_native_T1_after.mat --out=/export2/DATA/HIS/HIS_server/analysis/dwi_data/stats/MD/sub-151_first_B0_in-MNI_after\n",
      "\n",
      "applywarp -v --ref=${FSLDIR}/data/standard/MNI152_T1_2mm --in=/export2/DATA/HIS/HIS_server/analysis/dwi_data/dti/sub-152/reg/sub-152_first_processed_B0_before.nii.gz --warp=/export2/DATA/HIS/HIS_server/analysis/dwi_data/dti/sub-152/reg/sub-152_nonlinear_T1_transf --premat=/export2/DATA/HIS/HIS_server/analysis/dwi_data/dti/sub-152/reg/sub-152_first_processed_B0_reg_to_native_T1_before.mat --out=/export2/DATA/HIS/HIS_server/analysis/dwi_data/stats/MD/sub-152_first_B0_in-MNI_before\n",
      "\n",
      "applywarp -v --ref=${FSLDIR}/data/standard/MNI152_T1_2mm --in=/export2/DATA/HIS/HIS_server/analysis/dwi_data/dti/sub-152/reg/sub-152_first_processed_B0_after.nii.gz --warp=/export2/DATA/HIS/HIS_server/analysis/dwi_data/dti/sub-152/reg/sub-152_nonlinear_T1_transf --premat=/export2/DATA/HIS/HIS_server/analysis/dwi_data/dti/sub-152/reg/sub-152_first_processed_B0_reg_to_native_T1_after.mat --out=/export2/DATA/HIS/HIS_server/analysis/dwi_data/stats/MD/sub-152_first_B0_in-MNI_after\n",
      "\n",
      "applywarp -v --ref=${FSLDIR}/data/standard/MNI152_T1_2mm --in=/export2/DATA/HIS/HIS_server/analysis/dwi_data/dti/sub-153/reg/sub-153_first_processed_B0_before.nii.gz --warp=/export2/DATA/HIS/HIS_server/analysis/dwi_data/dti/sub-153/reg/sub-153_nonlinear_T1_transf --premat=/export2/DATA/HIS/HIS_server/analysis/dwi_data/dti/sub-153/reg/sub-153_first_processed_B0_reg_to_native_T1_before.mat --out=/export2/DATA/HIS/HIS_server/analysis/dwi_data/stats/MD/sub-153_first_B0_in-MNI_before\n",
      "\n",
      "applywarp -v --ref=${FSLDIR}/data/standard/MNI152_T1_2mm --in=/export2/DATA/HIS/HIS_server/analysis/dwi_data/dti/sub-153/reg/sub-153_first_processed_B0_after.nii.gz --warp=/export2/DATA/HIS/HIS_server/analysis/dwi_data/dti/sub-153/reg/sub-153_nonlinear_T1_transf --premat=/export2/DATA/HIS/HIS_server/analysis/dwi_data/dti/sub-153/reg/sub-153_first_processed_B0_reg_to_native_T1_after.mat --out=/export2/DATA/HIS/HIS_server/analysis/dwi_data/stats/MD/sub-153_first_B0_in-MNI_after\n",
      "\n",
      "applywarp -v --ref=${FSLDIR}/data/standard/MNI152_T1_2mm --in=/export2/DATA/HIS/HIS_server/analysis/dwi_data/dti/sub-154/reg/sub-154_first_processed_B0_before.nii.gz --warp=/export2/DATA/HIS/HIS_server/analysis/dwi_data/dti/sub-154/reg/sub-154_nonlinear_T1_transf --premat=/export2/DATA/HIS/HIS_server/analysis/dwi_data/dti/sub-154/reg/sub-154_first_processed_B0_reg_to_native_T1_before.mat --out=/export2/DATA/HIS/HIS_server/analysis/dwi_data/stats/MD/sub-154_first_B0_in-MNI_before\n",
      "\n",
      "applywarp -v --ref=${FSLDIR}/data/standard/MNI152_T1_2mm --in=/export2/DATA/HIS/HIS_server/analysis/dwi_data/dti/sub-154/reg/sub-154_first_processed_B0_after.nii.gz --warp=/export2/DATA/HIS/HIS_server/analysis/dwi_data/dti/sub-154/reg/sub-154_nonlinear_T1_transf --premat=/export2/DATA/HIS/HIS_server/analysis/dwi_data/dti/sub-154/reg/sub-154_first_processed_B0_reg_to_native_T1_after.mat --out=/export2/DATA/HIS/HIS_server/analysis/dwi_data/stats/MD/sub-154_first_B0_in-MNI_after\n",
      "\n",
      "applywarp -v --ref=${FSLDIR}/data/standard/MNI152_T1_2mm --in=/export2/DATA/HIS/HIS_server/analysis/dwi_data/dti/sub-155/reg/sub-155_first_processed_B0_before.nii.gz --warp=/export2/DATA/HIS/HIS_server/analysis/dwi_data/dti/sub-155/reg/sub-155_nonlinear_T1_transf --premat=/export2/DATA/HIS/HIS_server/analysis/dwi_data/dti/sub-155/reg/sub-155_first_processed_B0_reg_to_native_T1_before.mat --out=/export2/DATA/HIS/HIS_server/analysis/dwi_data/stats/MD/sub-155_first_B0_in-MNI_before\n",
      "\n",
      "applywarp -v --ref=${FSLDIR}/data/standard/MNI152_T1_2mm --in=/export2/DATA/HIS/HIS_server/analysis/dwi_data/dti/sub-155/reg/sub-155_first_processed_B0_after.nii.gz --warp=/export2/DATA/HIS/HIS_server/analysis/dwi_data/dti/sub-155/reg/sub-155_nonlinear_T1_transf --premat=/export2/DATA/HIS/HIS_server/analysis/dwi_data/dti/sub-155/reg/sub-155_first_processed_B0_reg_to_native_T1_after.mat --out=/export2/DATA/HIS/HIS_server/analysis/dwi_data/stats/MD/sub-155_first_B0_in-MNI_after\n",
      "\n",
      "applywarp -v --ref=${FSLDIR}/data/standard/MNI152_T1_2mm --in=/export2/DATA/HIS/HIS_server/analysis/dwi_data/dti/sub-156/reg/sub-156_first_processed_B0_before.nii.gz --warp=/export2/DATA/HIS/HIS_server/analysis/dwi_data/dti/sub-156/reg/sub-156_nonlinear_T1_transf --premat=/export2/DATA/HIS/HIS_server/analysis/dwi_data/dti/sub-156/reg/sub-156_first_processed_B0_reg_to_native_T1_before.mat --out=/export2/DATA/HIS/HIS_server/analysis/dwi_data/stats/MD/sub-156_first_B0_in-MNI_before\n",
      "\n",
      "applywarp -v --ref=${FSLDIR}/data/standard/MNI152_T1_2mm --in=/export2/DATA/HIS/HIS_server/analysis/dwi_data/dti/sub-156/reg/sub-156_first_processed_B0_after.nii.gz --warp=/export2/DATA/HIS/HIS_server/analysis/dwi_data/dti/sub-156/reg/sub-156_nonlinear_T1_transf --premat=/export2/DATA/HIS/HIS_server/analysis/dwi_data/dti/sub-156/reg/sub-156_first_processed_B0_reg_to_native_T1_after.mat --out=/export2/DATA/HIS/HIS_server/analysis/dwi_data/stats/MD/sub-156_first_B0_in-MNI_after\n",
      "\n",
      "applywarp -v --ref=${FSLDIR}/data/standard/MNI152_T1_2mm --in=/export2/DATA/HIS/HIS_server/analysis/dwi_data/dti/sub-157/reg/sub-157_first_processed_B0_before.nii.gz --warp=/export2/DATA/HIS/HIS_server/analysis/dwi_data/dti/sub-157/reg/sub-157_nonlinear_T1_transf --premat=/export2/DATA/HIS/HIS_server/analysis/dwi_data/dti/sub-157/reg/sub-157_first_processed_B0_reg_to_native_T1_before.mat --out=/export2/DATA/HIS/HIS_server/analysis/dwi_data/stats/MD/sub-157_first_B0_in-MNI_before\n",
      "\n",
      "applywarp -v --ref=${FSLDIR}/data/standard/MNI152_T1_2mm --in=/export2/DATA/HIS/HIS_server/analysis/dwi_data/dti/sub-157/reg/sub-157_first_processed_B0_after.nii.gz --warp=/export2/DATA/HIS/HIS_server/analysis/dwi_data/dti/sub-157/reg/sub-157_nonlinear_T1_transf --premat=/export2/DATA/HIS/HIS_server/analysis/dwi_data/dti/sub-157/reg/sub-157_first_processed_B0_reg_to_native_T1_after.mat --out=/export2/DATA/HIS/HIS_server/analysis/dwi_data/stats/MD/sub-157_first_B0_in-MNI_after\n",
      "\n",
      "applywarp -v --ref=${FSLDIR}/data/standard/MNI152_T1_2mm --in=/export2/DATA/HIS/HIS_server/analysis/dwi_data/dti/sub-158/reg/sub-158_first_processed_B0_before.nii.gz --warp=/export2/DATA/HIS/HIS_server/analysis/dwi_data/dti/sub-158/reg/sub-158_nonlinear_T1_transf --premat=/export2/DATA/HIS/HIS_server/analysis/dwi_data/dti/sub-158/reg/sub-158_first_processed_B0_reg_to_native_T1_before.mat --out=/export2/DATA/HIS/HIS_server/analysis/dwi_data/stats/MD/sub-158_first_B0_in-MNI_before\n",
      "\n",
      "applywarp -v --ref=${FSLDIR}/data/standard/MNI152_T1_2mm --in=/export2/DATA/HIS/HIS_server/analysis/dwi_data/dti/sub-158/reg/sub-158_first_processed_B0_after.nii.gz --warp=/export2/DATA/HIS/HIS_server/analysis/dwi_data/dti/sub-158/reg/sub-158_nonlinear_T1_transf --premat=/export2/DATA/HIS/HIS_server/analysis/dwi_data/dti/sub-158/reg/sub-158_first_processed_B0_reg_to_native_T1_after.mat --out=/export2/DATA/HIS/HIS_server/analysis/dwi_data/stats/MD/sub-158_first_B0_in-MNI_after\n",
      "\n",
      "applywarp -v --ref=${FSLDIR}/data/standard/MNI152_T1_2mm --in=/export2/DATA/HIS/HIS_server/analysis/dwi_data/dti/sub-159/reg/sub-159_first_processed_B0_before.nii.gz --warp=/export2/DATA/HIS/HIS_server/analysis/dwi_data/dti/sub-159/reg/sub-159_nonlinear_T1_transf --premat=/export2/DATA/HIS/HIS_server/analysis/dwi_data/dti/sub-159/reg/sub-159_first_processed_B0_reg_to_native_T1_before.mat --out=/export2/DATA/HIS/HIS_server/analysis/dwi_data/stats/MD/sub-159_first_B0_in-MNI_before\n",
      "\n",
      "applywarp -v --ref=${FSLDIR}/data/standard/MNI152_T1_2mm --in=/export2/DATA/HIS/HIS_server/analysis/dwi_data/dti/sub-159/reg/sub-159_first_processed_B0_after.nii.gz --warp=/export2/DATA/HIS/HIS_server/analysis/dwi_data/dti/sub-159/reg/sub-159_nonlinear_T1_transf --premat=/export2/DATA/HIS/HIS_server/analysis/dwi_data/dti/sub-159/reg/sub-159_first_processed_B0_reg_to_native_T1_after.mat --out=/export2/DATA/HIS/HIS_server/analysis/dwi_data/stats/MD/sub-159_first_B0_in-MNI_after\n",
      "\n",
      "applywarp -v --ref=${FSLDIR}/data/standard/MNI152_T1_2mm --in=/export2/DATA/HIS/HIS_server/analysis/dwi_data/dti/sub-160/reg/sub-160_first_processed_B0_before.nii.gz --warp=/export2/DATA/HIS/HIS_server/analysis/dwi_data/dti/sub-160/reg/sub-160_nonlinear_T1_transf --premat=/export2/DATA/HIS/HIS_server/analysis/dwi_data/dti/sub-160/reg/sub-160_first_processed_B0_reg_to_native_T1_before.mat --out=/export2/DATA/HIS/HIS_server/analysis/dwi_data/stats/MD/sub-160_first_B0_in-MNI_before\n",
      "\n",
      "applywarp -v --ref=${FSLDIR}/data/standard/MNI152_T1_2mm --in=/export2/DATA/HIS/HIS_server/analysis/dwi_data/dti/sub-160/reg/sub-160_first_processed_B0_after.nii.gz --warp=/export2/DATA/HIS/HIS_server/analysis/dwi_data/dti/sub-160/reg/sub-160_nonlinear_T1_transf --premat=/export2/DATA/HIS/HIS_server/analysis/dwi_data/dti/sub-160/reg/sub-160_first_processed_B0_reg_to_native_T1_after.mat --out=/export2/DATA/HIS/HIS_server/analysis/dwi_data/stats/MD/sub-160_first_B0_in-MNI_after\n",
      "\n",
      "applywarp -v --ref=${FSLDIR}/data/standard/MNI152_T1_2mm --in=/export2/DATA/HIS/HIS_server/analysis/dwi_data/dti/sub-161/reg/sub-161_first_processed_B0_before.nii.gz --warp=/export2/DATA/HIS/HIS_server/analysis/dwi_data/dti/sub-161/reg/sub-161_nonlinear_T1_transf --premat=/export2/DATA/HIS/HIS_server/analysis/dwi_data/dti/sub-161/reg/sub-161_first_processed_B0_reg_to_native_T1_before.mat --out=/export2/DATA/HIS/HIS_server/analysis/dwi_data/stats/MD/sub-161_first_B0_in-MNI_before\n",
      "\n",
      "applywarp -v --ref=${FSLDIR}/data/standard/MNI152_T1_2mm --in=/export2/DATA/HIS/HIS_server/analysis/dwi_data/dti/sub-161/reg/sub-161_first_processed_B0_after.nii.gz --warp=/export2/DATA/HIS/HIS_server/analysis/dwi_data/dti/sub-161/reg/sub-161_nonlinear_T1_transf --premat=/export2/DATA/HIS/HIS_server/analysis/dwi_data/dti/sub-161/reg/sub-161_first_processed_B0_reg_to_native_T1_after.mat --out=/export2/DATA/HIS/HIS_server/analysis/dwi_data/stats/MD/sub-161_first_B0_in-MNI_after\n",
      "\n",
      "applywarp -v --ref=${FSLDIR}/data/standard/MNI152_T1_2mm --in=/export2/DATA/HIS/HIS_server/analysis/dwi_data/dti/sub-162/reg/sub-162_first_processed_B0_before.nii.gz --warp=/export2/DATA/HIS/HIS_server/analysis/dwi_data/dti/sub-162/reg/sub-162_nonlinear_T1_transf --premat=/export2/DATA/HIS/HIS_server/analysis/dwi_data/dti/sub-162/reg/sub-162_first_processed_B0_reg_to_native_T1_before.mat --out=/export2/DATA/HIS/HIS_server/analysis/dwi_data/stats/MD/sub-162_first_B0_in-MNI_before\n",
      "\n",
      "applywarp -v --ref=${FSLDIR}/data/standard/MNI152_T1_2mm --in=/export2/DATA/HIS/HIS_server/analysis/dwi_data/dti/sub-162/reg/sub-162_first_processed_B0_after.nii.gz --warp=/export2/DATA/HIS/HIS_server/analysis/dwi_data/dti/sub-162/reg/sub-162_nonlinear_T1_transf --premat=/export2/DATA/HIS/HIS_server/analysis/dwi_data/dti/sub-162/reg/sub-162_first_processed_B0_reg_to_native_T1_after.mat --out=/export2/DATA/HIS/HIS_server/analysis/dwi_data/stats/MD/sub-162_first_B0_in-MNI_after\n",
      "\n",
      "applywarp -v --ref=${FSLDIR}/data/standard/MNI152_T1_2mm --in=/export2/DATA/HIS/HIS_server/analysis/dwi_data/dti/sub-163/reg/sub-163_first_processed_B0_before.nii.gz --warp=/export2/DATA/HIS/HIS_server/analysis/dwi_data/dti/sub-163/reg/sub-163_nonlinear_T1_transf --premat=/export2/DATA/HIS/HIS_server/analysis/dwi_data/dti/sub-163/reg/sub-163_first_processed_B0_reg_to_native_T1_before.mat --out=/export2/DATA/HIS/HIS_server/analysis/dwi_data/stats/MD/sub-163_first_B0_in-MNI_before\n",
      "\n",
      "applywarp -v --ref=${FSLDIR}/data/standard/MNI152_T1_2mm --in=/export2/DATA/HIS/HIS_server/analysis/dwi_data/dti/sub-163/reg/sub-163_first_processed_B0_after.nii.gz --warp=/export2/DATA/HIS/HIS_server/analysis/dwi_data/dti/sub-163/reg/sub-163_nonlinear_T1_transf --premat=/export2/DATA/HIS/HIS_server/analysis/dwi_data/dti/sub-163/reg/sub-163_first_processed_B0_reg_to_native_T1_after.mat --out=/export2/DATA/HIS/HIS_server/analysis/dwi_data/stats/MD/sub-163_first_B0_in-MNI_after\n",
      "\n",
      "applywarp -v --ref=${FSLDIR}/data/standard/MNI152_T1_2mm --in=/export2/DATA/HIS/HIS_server/analysis/dwi_data/dti/sub-164/reg/sub-164_first_processed_B0_before.nii.gz --warp=/export2/DATA/HIS/HIS_server/analysis/dwi_data/dti/sub-164/reg/sub-164_nonlinear_T1_transf --premat=/export2/DATA/HIS/HIS_server/analysis/dwi_data/dti/sub-164/reg/sub-164_first_processed_B0_reg_to_native_T1_before.mat --out=/export2/DATA/HIS/HIS_server/analysis/dwi_data/stats/MD/sub-164_first_B0_in-MNI_before\n",
      "\n",
      "applywarp -v --ref=${FSLDIR}/data/standard/MNI152_T1_2mm --in=/export2/DATA/HIS/HIS_server/analysis/dwi_data/dti/sub-164/reg/sub-164_first_processed_B0_after.nii.gz --warp=/export2/DATA/HIS/HIS_server/analysis/dwi_data/dti/sub-164/reg/sub-164_nonlinear_T1_transf --premat=/export2/DATA/HIS/HIS_server/analysis/dwi_data/dti/sub-164/reg/sub-164_first_processed_B0_reg_to_native_T1_after.mat --out=/export2/DATA/HIS/HIS_server/analysis/dwi_data/stats/MD/sub-164_first_B0_in-MNI_after\n",
      "\n",
      "applywarp -v --ref=${FSLDIR}/data/standard/MNI152_T1_2mm --in=/export2/DATA/HIS/HIS_server/analysis/dwi_data/dti/sub-166/reg/sub-166_first_processed_B0_before.nii.gz --warp=/export2/DATA/HIS/HIS_server/analysis/dwi_data/dti/sub-166/reg/sub-166_nonlinear_T1_transf --premat=/export2/DATA/HIS/HIS_server/analysis/dwi_data/dti/sub-166/reg/sub-166_first_processed_B0_reg_to_native_T1_before.mat --out=/export2/DATA/HIS/HIS_server/analysis/dwi_data/stats/MD/sub-166_first_B0_in-MNI_before\n",
      "\n",
      "applywarp -v --ref=${FSLDIR}/data/standard/MNI152_T1_2mm --in=/export2/DATA/HIS/HIS_server/analysis/dwi_data/dti/sub-166/reg/sub-166_first_processed_B0_after.nii.gz --warp=/export2/DATA/HIS/HIS_server/analysis/dwi_data/dti/sub-166/reg/sub-166_nonlinear_T1_transf --premat=/export2/DATA/HIS/HIS_server/analysis/dwi_data/dti/sub-166/reg/sub-166_first_processed_B0_reg_to_native_T1_after.mat --out=/export2/DATA/HIS/HIS_server/analysis/dwi_data/stats/MD/sub-166_first_B0_in-MNI_after\n",
      "\n",
      "applywarp -v --ref=${FSLDIR}/data/standard/MNI152_T1_2mm --in=/export2/DATA/HIS/HIS_server/analysis/dwi_data/dti/sub-167/reg/sub-167_first_processed_B0_before.nii.gz --warp=/export2/DATA/HIS/HIS_server/analysis/dwi_data/dti/sub-167/reg/sub-167_nonlinear_T1_transf --premat=/export2/DATA/HIS/HIS_server/analysis/dwi_data/dti/sub-167/reg/sub-167_first_processed_B0_reg_to_native_T1_before.mat --out=/export2/DATA/HIS/HIS_server/analysis/dwi_data/stats/MD/sub-167_first_B0_in-MNI_before\n",
      "\n",
      "applywarp -v --ref=${FSLDIR}/data/standard/MNI152_T1_2mm --in=/export2/DATA/HIS/HIS_server/analysis/dwi_data/dti/sub-167/reg/sub-167_first_processed_B0_after.nii.gz --warp=/export2/DATA/HIS/HIS_server/analysis/dwi_data/dti/sub-167/reg/sub-167_nonlinear_T1_transf --premat=/export2/DATA/HIS/HIS_server/analysis/dwi_data/dti/sub-167/reg/sub-167_first_processed_B0_reg_to_native_T1_after.mat --out=/export2/DATA/HIS/HIS_server/analysis/dwi_data/stats/MD/sub-167_first_B0_in-MNI_after\n",
      "\n",
      "applywarp -v --ref=${FSLDIR}/data/standard/MNI152_T1_2mm --in=/export2/DATA/HIS/HIS_server/analysis/dwi_data/dti/sub-168/reg/sub-168_first_processed_B0_before.nii.gz --warp=/export2/DATA/HIS/HIS_server/analysis/dwi_data/dti/sub-168/reg/sub-168_nonlinear_T1_transf --premat=/export2/DATA/HIS/HIS_server/analysis/dwi_data/dti/sub-168/reg/sub-168_first_processed_B0_reg_to_native_T1_before.mat --out=/export2/DATA/HIS/HIS_server/analysis/dwi_data/stats/MD/sub-168_first_B0_in-MNI_before\n",
      "\n",
      "applywarp -v --ref=${FSLDIR}/data/standard/MNI152_T1_2mm --in=/export2/DATA/HIS/HIS_server/analysis/dwi_data/dti/sub-168/reg/sub-168_first_processed_B0_after.nii.gz --warp=/export2/DATA/HIS/HIS_server/analysis/dwi_data/dti/sub-168/reg/sub-168_nonlinear_T1_transf --premat=/export2/DATA/HIS/HIS_server/analysis/dwi_data/dti/sub-168/reg/sub-168_first_processed_B0_reg_to_native_T1_after.mat --out=/export2/DATA/HIS/HIS_server/analysis/dwi_data/stats/MD/sub-168_first_B0_in-MNI_after\n",
      "\n",
      "applywarp -v --ref=${FSLDIR}/data/standard/MNI152_T1_2mm --in=/export2/DATA/HIS/HIS_server/analysis/dwi_data/dti/sub-169/reg/sub-169_first_processed_B0_before.nii.gz --warp=/export2/DATA/HIS/HIS_server/analysis/dwi_data/dti/sub-169/reg/sub-169_nonlinear_T1_transf --premat=/export2/DATA/HIS/HIS_server/analysis/dwi_data/dti/sub-169/reg/sub-169_first_processed_B0_reg_to_native_T1_before.mat --out=/export2/DATA/HIS/HIS_server/analysis/dwi_data/stats/MD/sub-169_first_B0_in-MNI_before\n",
      "\n",
      "applywarp -v --ref=${FSLDIR}/data/standard/MNI152_T1_2mm --in=/export2/DATA/HIS/HIS_server/analysis/dwi_data/dti/sub-169/reg/sub-169_first_processed_B0_after.nii.gz --warp=/export2/DATA/HIS/HIS_server/analysis/dwi_data/dti/sub-169/reg/sub-169_nonlinear_T1_transf --premat=/export2/DATA/HIS/HIS_server/analysis/dwi_data/dti/sub-169/reg/sub-169_first_processed_B0_reg_to_native_T1_after.mat --out=/export2/DATA/HIS/HIS_server/analysis/dwi_data/stats/MD/sub-169_first_B0_in-MNI_after\n",
      "\n",
      "applywarp -v --ref=${FSLDIR}/data/standard/MNI152_T1_2mm --in=/export2/DATA/HIS/HIS_server/analysis/dwi_data/dti/sub-170/reg/sub-170_first_processed_B0_before.nii.gz --warp=/export2/DATA/HIS/HIS_server/analysis/dwi_data/dti/sub-170/reg/sub-170_nonlinear_T1_transf --premat=/export2/DATA/HIS/HIS_server/analysis/dwi_data/dti/sub-170/reg/sub-170_first_processed_B0_reg_to_native_T1_before.mat --out=/export2/DATA/HIS/HIS_server/analysis/dwi_data/stats/MD/sub-170_first_B0_in-MNI_before\n",
      "\n",
      "applywarp -v --ref=${FSLDIR}/data/standard/MNI152_T1_2mm --in=/export2/DATA/HIS/HIS_server/analysis/dwi_data/dti/sub-170/reg/sub-170_first_processed_B0_after.nii.gz --warp=/export2/DATA/HIS/HIS_server/analysis/dwi_data/dti/sub-170/reg/sub-170_nonlinear_T1_transf --premat=/export2/DATA/HIS/HIS_server/analysis/dwi_data/dti/sub-170/reg/sub-170_first_processed_B0_reg_to_native_T1_after.mat --out=/export2/DATA/HIS/HIS_server/analysis/dwi_data/stats/MD/sub-170_first_B0_in-MNI_after\n",
      "\n",
      "applywarp -v --ref=${FSLDIR}/data/standard/MNI152_T1_2mm --in=/export2/DATA/HIS/HIS_server/analysis/dwi_data/dti/sub-171/reg/sub-171_first_processed_B0_before.nii.gz --warp=/export2/DATA/HIS/HIS_server/analysis/dwi_data/dti/sub-171/reg/sub-171_nonlinear_T1_transf --premat=/export2/DATA/HIS/HIS_server/analysis/dwi_data/dti/sub-171/reg/sub-171_first_processed_B0_reg_to_native_T1_before.mat --out=/export2/DATA/HIS/HIS_server/analysis/dwi_data/stats/MD/sub-171_first_B0_in-MNI_before\n",
      "\n",
      "applywarp -v --ref=${FSLDIR}/data/standard/MNI152_T1_2mm --in=/export2/DATA/HIS/HIS_server/analysis/dwi_data/dti/sub-171/reg/sub-171_first_processed_B0_after.nii.gz --warp=/export2/DATA/HIS/HIS_server/analysis/dwi_data/dti/sub-171/reg/sub-171_nonlinear_T1_transf --premat=/export2/DATA/HIS/HIS_server/analysis/dwi_data/dti/sub-171/reg/sub-171_first_processed_B0_reg_to_native_T1_after.mat --out=/export2/DATA/HIS/HIS_server/analysis/dwi_data/stats/MD/sub-171_first_B0_in-MNI_after\n",
      "\n",
      "applywarp -v --ref=${FSLDIR}/data/standard/MNI152_T1_2mm --in=/export2/DATA/HIS/HIS_server/analysis/dwi_data/dti/sub-172/reg/sub-172_first_processed_B0_before.nii.gz --warp=/export2/DATA/HIS/HIS_server/analysis/dwi_data/dti/sub-172/reg/sub-172_nonlinear_T1_transf --premat=/export2/DATA/HIS/HIS_server/analysis/dwi_data/dti/sub-172/reg/sub-172_first_processed_B0_reg_to_native_T1_before.mat --out=/export2/DATA/HIS/HIS_server/analysis/dwi_data/stats/MD/sub-172_first_B0_in-MNI_before\n",
      "\n",
      "applywarp -v --ref=${FSLDIR}/data/standard/MNI152_T1_2mm --in=/export2/DATA/HIS/HIS_server/analysis/dwi_data/dti/sub-172/reg/sub-172_first_processed_B0_after.nii.gz --warp=/export2/DATA/HIS/HIS_server/analysis/dwi_data/dti/sub-172/reg/sub-172_nonlinear_T1_transf --premat=/export2/DATA/HIS/HIS_server/analysis/dwi_data/dti/sub-172/reg/sub-172_first_processed_B0_reg_to_native_T1_after.mat --out=/export2/DATA/HIS/HIS_server/analysis/dwi_data/stats/MD/sub-172_first_B0_in-MNI_after\n",
      "\n",
      "applywarp -v --ref=${FSLDIR}/data/standard/MNI152_T1_2mm --in=/export2/DATA/HIS/HIS_server/analysis/dwi_data/dti/sub-174/reg/sub-174_first_processed_B0_before.nii.gz --warp=/export2/DATA/HIS/HIS_server/analysis/dwi_data/dti/sub-174/reg/sub-174_nonlinear_T1_transf --premat=/export2/DATA/HIS/HIS_server/analysis/dwi_data/dti/sub-174/reg/sub-174_first_processed_B0_reg_to_native_T1_before.mat --out=/export2/DATA/HIS/HIS_server/analysis/dwi_data/stats/MD/sub-174_first_B0_in-MNI_before\n",
      "\n",
      "applywarp -v --ref=${FSLDIR}/data/standard/MNI152_T1_2mm --in=/export2/DATA/HIS/HIS_server/analysis/dwi_data/dti/sub-174/reg/sub-174_first_processed_B0_after.nii.gz --warp=/export2/DATA/HIS/HIS_server/analysis/dwi_data/dti/sub-174/reg/sub-174_nonlinear_T1_transf --premat=/export2/DATA/HIS/HIS_server/analysis/dwi_data/dti/sub-174/reg/sub-174_first_processed_B0_reg_to_native_T1_after.mat --out=/export2/DATA/HIS/HIS_server/analysis/dwi_data/stats/MD/sub-174_first_B0_in-MNI_after\n",
      "\n",
      "applywarp -v --ref=${FSLDIR}/data/standard/MNI152_T1_2mm --in=/export2/DATA/HIS/HIS_server/analysis/dwi_data/dti/sub-175/reg/sub-175_first_processed_B0_before.nii.gz --warp=/export2/DATA/HIS/HIS_server/analysis/dwi_data/dti/sub-175/reg/sub-175_nonlinear_T1_transf --premat=/export2/DATA/HIS/HIS_server/analysis/dwi_data/dti/sub-175/reg/sub-175_first_processed_B0_reg_to_native_T1_before.mat --out=/export2/DATA/HIS/HIS_server/analysis/dwi_data/stats/MD/sub-175_first_B0_in-MNI_before\n",
      "\n",
      "applywarp -v --ref=${FSLDIR}/data/standard/MNI152_T1_2mm --in=/export2/DATA/HIS/HIS_server/analysis/dwi_data/dti/sub-175/reg/sub-175_first_processed_B0_after.nii.gz --warp=/export2/DATA/HIS/HIS_server/analysis/dwi_data/dti/sub-175/reg/sub-175_nonlinear_T1_transf --premat=/export2/DATA/HIS/HIS_server/analysis/dwi_data/dti/sub-175/reg/sub-175_first_processed_B0_reg_to_native_T1_after.mat --out=/export2/DATA/HIS/HIS_server/analysis/dwi_data/stats/MD/sub-175_first_B0_in-MNI_after\n",
      "\n",
      "applywarp -v --ref=${FSLDIR}/data/standard/MNI152_T1_2mm --in=/export2/DATA/HIS/HIS_server/analysis/dwi_data/dti/sub-204/reg/sub-204_first_processed_B0_before.nii.gz --warp=/export2/DATA/HIS/HIS_server/analysis/dwi_data/dti/sub-204/reg/sub-204_nonlinear_T1_transf --premat=/export2/DATA/HIS/HIS_server/analysis/dwi_data/dti/sub-204/reg/sub-204_first_processed_B0_reg_to_native_T1_before.mat --out=/export2/DATA/HIS/HIS_server/analysis/dwi_data/stats/MD/sub-204_first_B0_in-MNI_before\n",
      "\n",
      "applywarp -v --ref=${FSLDIR}/data/standard/MNI152_T1_2mm --in=/export2/DATA/HIS/HIS_server/analysis/dwi_data/dti/sub-204/reg/sub-204_first_processed_B0_after.nii.gz --warp=/export2/DATA/HIS/HIS_server/analysis/dwi_data/dti/sub-204/reg/sub-204_nonlinear_T1_transf --premat=/export2/DATA/HIS/HIS_server/analysis/dwi_data/dti/sub-204/reg/sub-204_first_processed_B0_reg_to_native_T1_after.mat --out=/export2/DATA/HIS/HIS_server/analysis/dwi_data/stats/MD/sub-204_first_B0_in-MNI_after\n",
      "\n",
      "applywarp -v --ref=${FSLDIR}/data/standard/MNI152_T1_2mm --in=/export2/DATA/HIS/HIS_server/analysis/dwi_data/dti/sub-205/reg/sub-205_first_processed_B0_before.nii.gz --warp=/export2/DATA/HIS/HIS_server/analysis/dwi_data/dti/sub-205/reg/sub-205_nonlinear_T1_transf --premat=/export2/DATA/HIS/HIS_server/analysis/dwi_data/dti/sub-205/reg/sub-205_first_processed_B0_reg_to_native_T1_before.mat --out=/export2/DATA/HIS/HIS_server/analysis/dwi_data/stats/MD/sub-205_first_B0_in-MNI_before\n",
      "\n",
      "applywarp -v --ref=${FSLDIR}/data/standard/MNI152_T1_2mm --in=/export2/DATA/HIS/HIS_server/analysis/dwi_data/dti/sub-205/reg/sub-205_first_processed_B0_after.nii.gz --warp=/export2/DATA/HIS/HIS_server/analysis/dwi_data/dti/sub-205/reg/sub-205_nonlinear_T1_transf --premat=/export2/DATA/HIS/HIS_server/analysis/dwi_data/dti/sub-205/reg/sub-205_first_processed_B0_reg_to_native_T1_after.mat --out=/export2/DATA/HIS/HIS_server/analysis/dwi_data/stats/MD/sub-205_first_B0_in-MNI_after\n",
      "\n",
      "applywarp -v --ref=${FSLDIR}/data/standard/MNI152_T1_2mm --in=/export2/DATA/HIS/HIS_server/analysis/dwi_data/dti/sub-207/reg/sub-207_first_processed_B0_before.nii.gz --warp=/export2/DATA/HIS/HIS_server/analysis/dwi_data/dti/sub-207/reg/sub-207_nonlinear_T1_transf --premat=/export2/DATA/HIS/HIS_server/analysis/dwi_data/dti/sub-207/reg/sub-207_first_processed_B0_reg_to_native_T1_before.mat --out=/export2/DATA/HIS/HIS_server/analysis/dwi_data/stats/MD/sub-207_first_B0_in-MNI_before\n",
      "\n",
      "applywarp -v --ref=${FSLDIR}/data/standard/MNI152_T1_2mm --in=/export2/DATA/HIS/HIS_server/analysis/dwi_data/dti/sub-207/reg/sub-207_first_processed_B0_after.nii.gz --warp=/export2/DATA/HIS/HIS_server/analysis/dwi_data/dti/sub-207/reg/sub-207_nonlinear_T1_transf --premat=/export2/DATA/HIS/HIS_server/analysis/dwi_data/dti/sub-207/reg/sub-207_first_processed_B0_reg_to_native_T1_after.mat --out=/export2/DATA/HIS/HIS_server/analysis/dwi_data/stats/MD/sub-207_first_B0_in-MNI_after\n",
      "\n",
      "applywarp -v --ref=${FSLDIR}/data/standard/MNI152_T1_2mm --in=/export2/DATA/HIS/HIS_server/analysis/dwi_data/dti/sub-208/reg/sub-208_first_processed_B0_before.nii.gz --warp=/export2/DATA/HIS/HIS_server/analysis/dwi_data/dti/sub-208/reg/sub-208_nonlinear_T1_transf --premat=/export2/DATA/HIS/HIS_server/analysis/dwi_data/dti/sub-208/reg/sub-208_first_processed_B0_reg_to_native_T1_before.mat --out=/export2/DATA/HIS/HIS_server/analysis/dwi_data/stats/MD/sub-208_first_B0_in-MNI_before\n",
      "\n",
      "applywarp -v --ref=${FSLDIR}/data/standard/MNI152_T1_2mm --in=/export2/DATA/HIS/HIS_server/analysis/dwi_data/dti/sub-208/reg/sub-208_first_processed_B0_after.nii.gz --warp=/export2/DATA/HIS/HIS_server/analysis/dwi_data/dti/sub-208/reg/sub-208_nonlinear_T1_transf --premat=/export2/DATA/HIS/HIS_server/analysis/dwi_data/dti/sub-208/reg/sub-208_first_processed_B0_reg_to_native_T1_after.mat --out=/export2/DATA/HIS/HIS_server/analysis/dwi_data/stats/MD/sub-208_first_B0_in-MNI_after\n",
      "\n",
      "applywarp -v --ref=${FSLDIR}/data/standard/MNI152_T1_2mm --in=/export2/DATA/HIS/HIS_server/analysis/dwi_data/dti/sub-209/reg/sub-209_first_processed_B0_before.nii.gz --warp=/export2/DATA/HIS/HIS_server/analysis/dwi_data/dti/sub-209/reg/sub-209_nonlinear_T1_transf --premat=/export2/DATA/HIS/HIS_server/analysis/dwi_data/dti/sub-209/reg/sub-209_first_processed_B0_reg_to_native_T1_before.mat --out=/export2/DATA/HIS/HIS_server/analysis/dwi_data/stats/MD/sub-209_first_B0_in-MNI_before\n",
      "\n",
      "applywarp -v --ref=${FSLDIR}/data/standard/MNI152_T1_2mm --in=/export2/DATA/HIS/HIS_server/analysis/dwi_data/dti/sub-209/reg/sub-209_first_processed_B0_after.nii.gz --warp=/export2/DATA/HIS/HIS_server/analysis/dwi_data/dti/sub-209/reg/sub-209_nonlinear_T1_transf --premat=/export2/DATA/HIS/HIS_server/analysis/dwi_data/dti/sub-209/reg/sub-209_first_processed_B0_reg_to_native_T1_after.mat --out=/export2/DATA/HIS/HIS_server/analysis/dwi_data/stats/MD/sub-209_first_B0_in-MNI_after\n",
      "\n",
      "applywarp -v --ref=${FSLDIR}/data/standard/MNI152_T1_2mm --in=/export2/DATA/HIS/HIS_server/analysis/dwi_data/dti/sub-210/reg/sub-210_first_processed_B0_before.nii.gz --warp=/export2/DATA/HIS/HIS_server/analysis/dwi_data/dti/sub-210/reg/sub-210_nonlinear_T1_transf --premat=/export2/DATA/HIS/HIS_server/analysis/dwi_data/dti/sub-210/reg/sub-210_first_processed_B0_reg_to_native_T1_before.mat --out=/export2/DATA/HIS/HIS_server/analysis/dwi_data/stats/MD/sub-210_first_B0_in-MNI_before\n",
      "\n",
      "applywarp -v --ref=${FSLDIR}/data/standard/MNI152_T1_2mm --in=/export2/DATA/HIS/HIS_server/analysis/dwi_data/dti/sub-210/reg/sub-210_first_processed_B0_after.nii.gz --warp=/export2/DATA/HIS/HIS_server/analysis/dwi_data/dti/sub-210/reg/sub-210_nonlinear_T1_transf --premat=/export2/DATA/HIS/HIS_server/analysis/dwi_data/dti/sub-210/reg/sub-210_first_processed_B0_reg_to_native_T1_after.mat --out=/export2/DATA/HIS/HIS_server/analysis/dwi_data/stats/MD/sub-210_first_B0_in-MNI_after\n",
      "\n",
      "applywarp -v --ref=${FSLDIR}/data/standard/MNI152_T1_2mm --in=/export2/DATA/HIS/HIS_server/analysis/dwi_data/dti/sub-212/reg/sub-212_first_processed_B0_before.nii.gz --warp=/export2/DATA/HIS/HIS_server/analysis/dwi_data/dti/sub-212/reg/sub-212_nonlinear_T1_transf --premat=/export2/DATA/HIS/HIS_server/analysis/dwi_data/dti/sub-212/reg/sub-212_first_processed_B0_reg_to_native_T1_before.mat --out=/export2/DATA/HIS/HIS_server/analysis/dwi_data/stats/MD/sub-212_first_B0_in-MNI_before\n",
      "\n",
      "applywarp -v --ref=${FSLDIR}/data/standard/MNI152_T1_2mm --in=/export2/DATA/HIS/HIS_server/analysis/dwi_data/dti/sub-212/reg/sub-212_first_processed_B0_after.nii.gz --warp=/export2/DATA/HIS/HIS_server/analysis/dwi_data/dti/sub-212/reg/sub-212_nonlinear_T1_transf --premat=/export2/DATA/HIS/HIS_server/analysis/dwi_data/dti/sub-212/reg/sub-212_first_processed_B0_reg_to_native_T1_after.mat --out=/export2/DATA/HIS/HIS_server/analysis/dwi_data/stats/MD/sub-212_first_B0_in-MNI_after\n",
      "\n",
      "applywarp -v --ref=${FSLDIR}/data/standard/MNI152_T1_2mm --in=/export2/DATA/HIS/HIS_server/analysis/dwi_data/dti/sub-214/reg/sub-214_first_processed_B0_before.nii.gz --warp=/export2/DATA/HIS/HIS_server/analysis/dwi_data/dti/sub-214/reg/sub-214_nonlinear_T1_transf --premat=/export2/DATA/HIS/HIS_server/analysis/dwi_data/dti/sub-214/reg/sub-214_first_processed_B0_reg_to_native_T1_before.mat --out=/export2/DATA/HIS/HIS_server/analysis/dwi_data/stats/MD/sub-214_first_B0_in-MNI_before\n",
      "\n",
      "applywarp -v --ref=${FSLDIR}/data/standard/MNI152_T1_2mm --in=/export2/DATA/HIS/HIS_server/analysis/dwi_data/dti/sub-214/reg/sub-214_first_processed_B0_after.nii.gz --warp=/export2/DATA/HIS/HIS_server/analysis/dwi_data/dti/sub-214/reg/sub-214_nonlinear_T1_transf --premat=/export2/DATA/HIS/HIS_server/analysis/dwi_data/dti/sub-214/reg/sub-214_first_processed_B0_reg_to_native_T1_after.mat --out=/export2/DATA/HIS/HIS_server/analysis/dwi_data/stats/MD/sub-214_first_B0_in-MNI_after\n",
      "\n",
      "applywarp -v --ref=${FSLDIR}/data/standard/MNI152_T1_2mm --in=/export2/DATA/HIS/HIS_server/analysis/dwi_data/dti/sub-215/reg/sub-215_first_processed_B0_before.nii.gz --warp=/export2/DATA/HIS/HIS_server/analysis/dwi_data/dti/sub-215/reg/sub-215_nonlinear_T1_transf --premat=/export2/DATA/HIS/HIS_server/analysis/dwi_data/dti/sub-215/reg/sub-215_first_processed_B0_reg_to_native_T1_before.mat --out=/export2/DATA/HIS/HIS_server/analysis/dwi_data/stats/MD/sub-215_first_B0_in-MNI_before\n",
      "\n",
      "applywarp -v --ref=${FSLDIR}/data/standard/MNI152_T1_2mm --in=/export2/DATA/HIS/HIS_server/analysis/dwi_data/dti/sub-215/reg/sub-215_first_processed_B0_after.nii.gz --warp=/export2/DATA/HIS/HIS_server/analysis/dwi_data/dti/sub-215/reg/sub-215_nonlinear_T1_transf --premat=/export2/DATA/HIS/HIS_server/analysis/dwi_data/dti/sub-215/reg/sub-215_first_processed_B0_reg_to_native_T1_after.mat --out=/export2/DATA/HIS/HIS_server/analysis/dwi_data/stats/MD/sub-215_first_B0_in-MNI_after\n",
      "\n",
      "applywarp -v --ref=${FSLDIR}/data/standard/MNI152_T1_2mm --in=/export2/DATA/HIS/HIS_server/analysis/dwi_data/dti/sub-217/reg/sub-217_first_processed_B0_before.nii.gz --warp=/export2/DATA/HIS/HIS_server/analysis/dwi_data/dti/sub-217/reg/sub-217_nonlinear_T1_transf --premat=/export2/DATA/HIS/HIS_server/analysis/dwi_data/dti/sub-217/reg/sub-217_first_processed_B0_reg_to_native_T1_before.mat --out=/export2/DATA/HIS/HIS_server/analysis/dwi_data/stats/MD/sub-217_first_B0_in-MNI_before\n",
      "\n",
      "applywarp -v --ref=${FSLDIR}/data/standard/MNI152_T1_2mm --in=/export2/DATA/HIS/HIS_server/analysis/dwi_data/dti/sub-217/reg/sub-217_first_processed_B0_after.nii.gz --warp=/export2/DATA/HIS/HIS_server/analysis/dwi_data/dti/sub-217/reg/sub-217_nonlinear_T1_transf --premat=/export2/DATA/HIS/HIS_server/analysis/dwi_data/dti/sub-217/reg/sub-217_first_processed_B0_reg_to_native_T1_after.mat --out=/export2/DATA/HIS/HIS_server/analysis/dwi_data/stats/MD/sub-217_first_B0_in-MNI_after\n",
      "\n",
      "applywarp -v --ref=${FSLDIR}/data/standard/MNI152_T1_2mm --in=/export2/DATA/HIS/HIS_server/analysis/dwi_data/dti/sub-218/reg/sub-218_first_processed_B0_before.nii.gz --warp=/export2/DATA/HIS/HIS_server/analysis/dwi_data/dti/sub-218/reg/sub-218_nonlinear_T1_transf --premat=/export2/DATA/HIS/HIS_server/analysis/dwi_data/dti/sub-218/reg/sub-218_first_processed_B0_reg_to_native_T1_before.mat --out=/export2/DATA/HIS/HIS_server/analysis/dwi_data/stats/MD/sub-218_first_B0_in-MNI_before\n",
      "\n",
      "applywarp -v --ref=${FSLDIR}/data/standard/MNI152_T1_2mm --in=/export2/DATA/HIS/HIS_server/analysis/dwi_data/dti/sub-218/reg/sub-218_first_processed_B0_after.nii.gz --warp=/export2/DATA/HIS/HIS_server/analysis/dwi_data/dti/sub-218/reg/sub-218_nonlinear_T1_transf --premat=/export2/DATA/HIS/HIS_server/analysis/dwi_data/dti/sub-218/reg/sub-218_first_processed_B0_reg_to_native_T1_after.mat --out=/export2/DATA/HIS/HIS_server/analysis/dwi_data/stats/MD/sub-218_first_B0_in-MNI_after\n",
      "\n",
      "applywarp -v --ref=${FSLDIR}/data/standard/MNI152_T1_2mm --in=/export2/DATA/HIS/HIS_server/analysis/dwi_data/dti/sub-220/reg/sub-220_first_processed_B0_before.nii.gz --warp=/export2/DATA/HIS/HIS_server/analysis/dwi_data/dti/sub-220/reg/sub-220_nonlinear_T1_transf --premat=/export2/DATA/HIS/HIS_server/analysis/dwi_data/dti/sub-220/reg/sub-220_first_processed_B0_reg_to_native_T1_before.mat --out=/export2/DATA/HIS/HIS_server/analysis/dwi_data/stats/MD/sub-220_first_B0_in-MNI_before\n",
      "\n",
      "applywarp -v --ref=${FSLDIR}/data/standard/MNI152_T1_2mm --in=/export2/DATA/HIS/HIS_server/analysis/dwi_data/dti/sub-220/reg/sub-220_first_processed_B0_after.nii.gz --warp=/export2/DATA/HIS/HIS_server/analysis/dwi_data/dti/sub-220/reg/sub-220_nonlinear_T1_transf --premat=/export2/DATA/HIS/HIS_server/analysis/dwi_data/dti/sub-220/reg/sub-220_first_processed_B0_reg_to_native_T1_after.mat --out=/export2/DATA/HIS/HIS_server/analysis/dwi_data/stats/MD/sub-220_first_B0_in-MNI_after\n",
      "\n",
      "applywarp -v --ref=${FSLDIR}/data/standard/MNI152_T1_2mm --in=/export2/DATA/HIS/HIS_server/analysis/dwi_data/dti/sub-221/reg/sub-221_first_processed_B0_before.nii.gz --warp=/export2/DATA/HIS/HIS_server/analysis/dwi_data/dti/sub-221/reg/sub-221_nonlinear_T1_transf --premat=/export2/DATA/HIS/HIS_server/analysis/dwi_data/dti/sub-221/reg/sub-221_first_processed_B0_reg_to_native_T1_before.mat --out=/export2/DATA/HIS/HIS_server/analysis/dwi_data/stats/MD/sub-221_first_B0_in-MNI_before\n",
      "\n",
      "applywarp -v --ref=${FSLDIR}/data/standard/MNI152_T1_2mm --in=/export2/DATA/HIS/HIS_server/analysis/dwi_data/dti/sub-221/reg/sub-221_first_processed_B0_after.nii.gz --warp=/export2/DATA/HIS/HIS_server/analysis/dwi_data/dti/sub-221/reg/sub-221_nonlinear_T1_transf --premat=/export2/DATA/HIS/HIS_server/analysis/dwi_data/dti/sub-221/reg/sub-221_first_processed_B0_reg_to_native_T1_after.mat --out=/export2/DATA/HIS/HIS_server/analysis/dwi_data/stats/MD/sub-221_first_B0_in-MNI_after\n",
      "\n",
      "applywarp -v --ref=${FSLDIR}/data/standard/MNI152_T1_2mm --in=/export2/DATA/HIS/HIS_server/analysis/dwi_data/dti/sub-223/reg/sub-223_first_processed_B0_before.nii.gz --warp=/export2/DATA/HIS/HIS_server/analysis/dwi_data/dti/sub-223/reg/sub-223_nonlinear_T1_transf --premat=/export2/DATA/HIS/HIS_server/analysis/dwi_data/dti/sub-223/reg/sub-223_first_processed_B0_reg_to_native_T1_before.mat --out=/export2/DATA/HIS/HIS_server/analysis/dwi_data/stats/MD/sub-223_first_B0_in-MNI_before\n",
      "\n",
      "applywarp -v --ref=${FSLDIR}/data/standard/MNI152_T1_2mm --in=/export2/DATA/HIS/HIS_server/analysis/dwi_data/dti/sub-223/reg/sub-223_first_processed_B0_after.nii.gz --warp=/export2/DATA/HIS/HIS_server/analysis/dwi_data/dti/sub-223/reg/sub-223_nonlinear_T1_transf --premat=/export2/DATA/HIS/HIS_server/analysis/dwi_data/dti/sub-223/reg/sub-223_first_processed_B0_reg_to_native_T1_after.mat --out=/export2/DATA/HIS/HIS_server/analysis/dwi_data/stats/MD/sub-223_first_B0_in-MNI_after\n",
      "\n",
      "applywarp -v --ref=${FSLDIR}/data/standard/MNI152_T1_2mm --in=/export2/DATA/HIS/HIS_server/analysis/dwi_data/dti/sub-224/reg/sub-224_first_processed_B0_before.nii.gz --warp=/export2/DATA/HIS/HIS_server/analysis/dwi_data/dti/sub-224/reg/sub-224_nonlinear_T1_transf --premat=/export2/DATA/HIS/HIS_server/analysis/dwi_data/dti/sub-224/reg/sub-224_first_processed_B0_reg_to_native_T1_before.mat --out=/export2/DATA/HIS/HIS_server/analysis/dwi_data/stats/MD/sub-224_first_B0_in-MNI_before\n",
      "\n",
      "applywarp -v --ref=${FSLDIR}/data/standard/MNI152_T1_2mm --in=/export2/DATA/HIS/HIS_server/analysis/dwi_data/dti/sub-224/reg/sub-224_first_processed_B0_after.nii.gz --warp=/export2/DATA/HIS/HIS_server/analysis/dwi_data/dti/sub-224/reg/sub-224_nonlinear_T1_transf --premat=/export2/DATA/HIS/HIS_server/analysis/dwi_data/dti/sub-224/reg/sub-224_first_processed_B0_reg_to_native_T1_after.mat --out=/export2/DATA/HIS/HIS_server/analysis/dwi_data/stats/MD/sub-224_first_B0_in-MNI_after\n",
      "\n",
      "applywarp -v --ref=${FSLDIR}/data/standard/MNI152_T1_2mm --in=/export2/DATA/HIS/HIS_server/analysis/dwi_data/dti/sub-225/reg/sub-225_first_processed_B0_before.nii.gz --warp=/export2/DATA/HIS/HIS_server/analysis/dwi_data/dti/sub-225/reg/sub-225_nonlinear_T1_transf --premat=/export2/DATA/HIS/HIS_server/analysis/dwi_data/dti/sub-225/reg/sub-225_first_processed_B0_reg_to_native_T1_before.mat --out=/export2/DATA/HIS/HIS_server/analysis/dwi_data/stats/MD/sub-225_first_B0_in-MNI_before\n",
      "\n",
      "applywarp -v --ref=${FSLDIR}/data/standard/MNI152_T1_2mm --in=/export2/DATA/HIS/HIS_server/analysis/dwi_data/dti/sub-225/reg/sub-225_first_processed_B0_after.nii.gz --warp=/export2/DATA/HIS/HIS_server/analysis/dwi_data/dti/sub-225/reg/sub-225_nonlinear_T1_transf --premat=/export2/DATA/HIS/HIS_server/analysis/dwi_data/dti/sub-225/reg/sub-225_first_processed_B0_reg_to_native_T1_after.mat --out=/export2/DATA/HIS/HIS_server/analysis/dwi_data/stats/MD/sub-225_first_B0_in-MNI_after\n",
      "\n",
      "applywarp -v --ref=${FSLDIR}/data/standard/MNI152_T1_2mm --in=/export2/DATA/HIS/HIS_server/analysis/dwi_data/dti/sub-227/reg/sub-227_first_processed_B0_before.nii.gz --warp=/export2/DATA/HIS/HIS_server/analysis/dwi_data/dti/sub-227/reg/sub-227_nonlinear_T1_transf --premat=/export2/DATA/HIS/HIS_server/analysis/dwi_data/dti/sub-227/reg/sub-227_first_processed_B0_reg_to_native_T1_before.mat --out=/export2/DATA/HIS/HIS_server/analysis/dwi_data/stats/MD/sub-227_first_B0_in-MNI_before\n",
      "\n",
      "applywarp -v --ref=${FSLDIR}/data/standard/MNI152_T1_2mm --in=/export2/DATA/HIS/HIS_server/analysis/dwi_data/dti/sub-227/reg/sub-227_first_processed_B0_after.nii.gz --warp=/export2/DATA/HIS/HIS_server/analysis/dwi_data/dti/sub-227/reg/sub-227_nonlinear_T1_transf --premat=/export2/DATA/HIS/HIS_server/analysis/dwi_data/dti/sub-227/reg/sub-227_first_processed_B0_reg_to_native_T1_after.mat --out=/export2/DATA/HIS/HIS_server/analysis/dwi_data/stats/MD/sub-227_first_B0_in-MNI_after\n",
      "\n",
      "applywarp -v --ref=${FSLDIR}/data/standard/MNI152_T1_2mm --in=/export2/DATA/HIS/HIS_server/analysis/dwi_data/dti/sub-229/reg/sub-229_first_processed_B0_before.nii.gz --warp=/export2/DATA/HIS/HIS_server/analysis/dwi_data/dti/sub-229/reg/sub-229_nonlinear_T1_transf --premat=/export2/DATA/HIS/HIS_server/analysis/dwi_data/dti/sub-229/reg/sub-229_first_processed_B0_reg_to_native_T1_before.mat --out=/export2/DATA/HIS/HIS_server/analysis/dwi_data/stats/MD/sub-229_first_B0_in-MNI_before\n",
      "\n",
      "applywarp -v --ref=${FSLDIR}/data/standard/MNI152_T1_2mm --in=/export2/DATA/HIS/HIS_server/analysis/dwi_data/dti/sub-229/reg/sub-229_first_processed_B0_after.nii.gz --warp=/export2/DATA/HIS/HIS_server/analysis/dwi_data/dti/sub-229/reg/sub-229_nonlinear_T1_transf --premat=/export2/DATA/HIS/HIS_server/analysis/dwi_data/dti/sub-229/reg/sub-229_first_processed_B0_reg_to_native_T1_after.mat --out=/export2/DATA/HIS/HIS_server/analysis/dwi_data/stats/MD/sub-229_first_B0_in-MNI_after\n",
      "\n",
      "applywarp -v --ref=${FSLDIR}/data/standard/MNI152_T1_2mm --in=/export2/DATA/HIS/HIS_server/analysis/dwi_data/dti/sub-230/reg/sub-230_first_processed_B0_before.nii.gz --warp=/export2/DATA/HIS/HIS_server/analysis/dwi_data/dti/sub-230/reg/sub-230_nonlinear_T1_transf --premat=/export2/DATA/HIS/HIS_server/analysis/dwi_data/dti/sub-230/reg/sub-230_first_processed_B0_reg_to_native_T1_before.mat --out=/export2/DATA/HIS/HIS_server/analysis/dwi_data/stats/MD/sub-230_first_B0_in-MNI_before\n",
      "\n",
      "applywarp -v --ref=${FSLDIR}/data/standard/MNI152_T1_2mm --in=/export2/DATA/HIS/HIS_server/analysis/dwi_data/dti/sub-230/reg/sub-230_first_processed_B0_after.nii.gz --warp=/export2/DATA/HIS/HIS_server/analysis/dwi_data/dti/sub-230/reg/sub-230_nonlinear_T1_transf --premat=/export2/DATA/HIS/HIS_server/analysis/dwi_data/dti/sub-230/reg/sub-230_first_processed_B0_reg_to_native_T1_after.mat --out=/export2/DATA/HIS/HIS_server/analysis/dwi_data/stats/MD/sub-230_first_B0_in-MNI_after\n",
      "\n",
      "applywarp -v --ref=${FSLDIR}/data/standard/MNI152_T1_2mm --in=/export2/DATA/HIS/HIS_server/analysis/dwi_data/dti/sub-232/reg/sub-232_first_processed_B0_before.nii.gz --warp=/export2/DATA/HIS/HIS_server/analysis/dwi_data/dti/sub-232/reg/sub-232_nonlinear_T1_transf --premat=/export2/DATA/HIS/HIS_server/analysis/dwi_data/dti/sub-232/reg/sub-232_first_processed_B0_reg_to_native_T1_before.mat --out=/export2/DATA/HIS/HIS_server/analysis/dwi_data/stats/MD/sub-232_first_B0_in-MNI_before\n",
      "\n",
      "applywarp -v --ref=${FSLDIR}/data/standard/MNI152_T1_2mm --in=/export2/DATA/HIS/HIS_server/analysis/dwi_data/dti/sub-232/reg/sub-232_first_processed_B0_after.nii.gz --warp=/export2/DATA/HIS/HIS_server/analysis/dwi_data/dti/sub-232/reg/sub-232_nonlinear_T1_transf --premat=/export2/DATA/HIS/HIS_server/analysis/dwi_data/dti/sub-232/reg/sub-232_first_processed_B0_reg_to_native_T1_after.mat --out=/export2/DATA/HIS/HIS_server/analysis/dwi_data/stats/MD/sub-232_first_B0_in-MNI_after\n",
      "\n",
      "applywarp -v --ref=${FSLDIR}/data/standard/MNI152_T1_2mm --in=/export2/DATA/HIS/HIS_server/analysis/dwi_data/dti/sub-234/reg/sub-234_first_processed_B0_before.nii.gz --warp=/export2/DATA/HIS/HIS_server/analysis/dwi_data/dti/sub-234/reg/sub-234_nonlinear_T1_transf --premat=/export2/DATA/HIS/HIS_server/analysis/dwi_data/dti/sub-234/reg/sub-234_first_processed_B0_reg_to_native_T1_before.mat --out=/export2/DATA/HIS/HIS_server/analysis/dwi_data/stats/MD/sub-234_first_B0_in-MNI_before\n",
      "\n",
      "applywarp -v --ref=${FSLDIR}/data/standard/MNI152_T1_2mm --in=/export2/DATA/HIS/HIS_server/analysis/dwi_data/dti/sub-234/reg/sub-234_first_processed_B0_after.nii.gz --warp=/export2/DATA/HIS/HIS_server/analysis/dwi_data/dti/sub-234/reg/sub-234_nonlinear_T1_transf --premat=/export2/DATA/HIS/HIS_server/analysis/dwi_data/dti/sub-234/reg/sub-234_first_processed_B0_reg_to_native_T1_after.mat --out=/export2/DATA/HIS/HIS_server/analysis/dwi_data/stats/MD/sub-234_first_B0_in-MNI_after\n",
      "\n",
      "applywarp -v --ref=${FSLDIR}/data/standard/MNI152_T1_2mm --in=/export2/DATA/HIS/HIS_server/analysis/dwi_data/dti/sub-235/reg/sub-235_first_processed_B0_before.nii.gz --warp=/export2/DATA/HIS/HIS_server/analysis/dwi_data/dti/sub-235/reg/sub-235_nonlinear_T1_transf --premat=/export2/DATA/HIS/HIS_server/analysis/dwi_data/dti/sub-235/reg/sub-235_first_processed_B0_reg_to_native_T1_before.mat --out=/export2/DATA/HIS/HIS_server/analysis/dwi_data/stats/MD/sub-235_first_B0_in-MNI_before\n",
      "\n",
      "applywarp -v --ref=${FSLDIR}/data/standard/MNI152_T1_2mm --in=/export2/DATA/HIS/HIS_server/analysis/dwi_data/dti/sub-235/reg/sub-235_first_processed_B0_after.nii.gz --warp=/export2/DATA/HIS/HIS_server/analysis/dwi_data/dti/sub-235/reg/sub-235_nonlinear_T1_transf --premat=/export2/DATA/HIS/HIS_server/analysis/dwi_data/dti/sub-235/reg/sub-235_first_processed_B0_reg_to_native_T1_after.mat --out=/export2/DATA/HIS/HIS_server/analysis/dwi_data/stats/MD/sub-235_first_B0_in-MNI_after\n",
      "\n",
      "applywarp -v --ref=${FSLDIR}/data/standard/MNI152_T1_2mm --in=/export2/DATA/HIS/HIS_server/analysis/dwi_data/dti/sub-238/reg/sub-238_first_processed_B0_before.nii.gz --warp=/export2/DATA/HIS/HIS_server/analysis/dwi_data/dti/sub-238/reg/sub-238_nonlinear_T1_transf --premat=/export2/DATA/HIS/HIS_server/analysis/dwi_data/dti/sub-238/reg/sub-238_first_processed_B0_reg_to_native_T1_before.mat --out=/export2/DATA/HIS/HIS_server/analysis/dwi_data/stats/MD/sub-238_first_B0_in-MNI_before\n",
      "\n",
      "applywarp -v --ref=${FSLDIR}/data/standard/MNI152_T1_2mm --in=/export2/DATA/HIS/HIS_server/analysis/dwi_data/dti/sub-238/reg/sub-238_first_processed_B0_after.nii.gz --warp=/export2/DATA/HIS/HIS_server/analysis/dwi_data/dti/sub-238/reg/sub-238_nonlinear_T1_transf --premat=/export2/DATA/HIS/HIS_server/analysis/dwi_data/dti/sub-238/reg/sub-238_first_processed_B0_reg_to_native_T1_after.mat --out=/export2/DATA/HIS/HIS_server/analysis/dwi_data/stats/MD/sub-238_first_B0_in-MNI_after\n",
      "\n",
      "applywarp -v --ref=${FSLDIR}/data/standard/MNI152_T1_2mm --in=/export2/DATA/HIS/HIS_server/analysis/dwi_data/dti/sub-239/reg/sub-239_first_processed_B0_before.nii.gz --warp=/export2/DATA/HIS/HIS_server/analysis/dwi_data/dti/sub-239/reg/sub-239_nonlinear_T1_transf --premat=/export2/DATA/HIS/HIS_server/analysis/dwi_data/dti/sub-239/reg/sub-239_first_processed_B0_reg_to_native_T1_before.mat --out=/export2/DATA/HIS/HIS_server/analysis/dwi_data/stats/MD/sub-239_first_B0_in-MNI_before\n",
      "\n",
      "applywarp -v --ref=${FSLDIR}/data/standard/MNI152_T1_2mm --in=/export2/DATA/HIS/HIS_server/analysis/dwi_data/dti/sub-239/reg/sub-239_first_processed_B0_after.nii.gz --warp=/export2/DATA/HIS/HIS_server/analysis/dwi_data/dti/sub-239/reg/sub-239_nonlinear_T1_transf --premat=/export2/DATA/HIS/HIS_server/analysis/dwi_data/dti/sub-239/reg/sub-239_first_processed_B0_reg_to_native_T1_after.mat --out=/export2/DATA/HIS/HIS_server/analysis/dwi_data/stats/MD/sub-239_first_B0_in-MNI_after\n",
      "\n",
      "applywarp -v --ref=${FSLDIR}/data/standard/MNI152_T1_2mm --in=/export2/DATA/HIS/HIS_server/analysis/dwi_data/dti/sub-240/reg/sub-240_first_processed_B0_before.nii.gz --warp=/export2/DATA/HIS/HIS_server/analysis/dwi_data/dti/sub-240/reg/sub-240_nonlinear_T1_transf --premat=/export2/DATA/HIS/HIS_server/analysis/dwi_data/dti/sub-240/reg/sub-240_first_processed_B0_reg_to_native_T1_before.mat --out=/export2/DATA/HIS/HIS_server/analysis/dwi_data/stats/MD/sub-240_first_B0_in-MNI_before\n",
      "\n",
      "applywarp -v --ref=${FSLDIR}/data/standard/MNI152_T1_2mm --in=/export2/DATA/HIS/HIS_server/analysis/dwi_data/dti/sub-240/reg/sub-240_first_processed_B0_after.nii.gz --warp=/export2/DATA/HIS/HIS_server/analysis/dwi_data/dti/sub-240/reg/sub-240_nonlinear_T1_transf --premat=/export2/DATA/HIS/HIS_server/analysis/dwi_data/dti/sub-240/reg/sub-240_first_processed_B0_reg_to_native_T1_after.mat --out=/export2/DATA/HIS/HIS_server/analysis/dwi_data/stats/MD/sub-240_first_B0_in-MNI_after\n",
      "\n",
      "applywarp -v --ref=${FSLDIR}/data/standard/MNI152_T1_2mm --in=/export2/DATA/HIS/HIS_server/analysis/dwi_data/dti/sub-241/reg/sub-241_first_processed_B0_before.nii.gz --warp=/export2/DATA/HIS/HIS_server/analysis/dwi_data/dti/sub-241/reg/sub-241_nonlinear_T1_transf --premat=/export2/DATA/HIS/HIS_server/analysis/dwi_data/dti/sub-241/reg/sub-241_first_processed_B0_reg_to_native_T1_before.mat --out=/export2/DATA/HIS/HIS_server/analysis/dwi_data/stats/MD/sub-241_first_B0_in-MNI_before\n",
      "\n",
      "applywarp -v --ref=${FSLDIR}/data/standard/MNI152_T1_2mm --in=/export2/DATA/HIS/HIS_server/analysis/dwi_data/dti/sub-241/reg/sub-241_first_processed_B0_after.nii.gz --warp=/export2/DATA/HIS/HIS_server/analysis/dwi_data/dti/sub-241/reg/sub-241_nonlinear_T1_transf --premat=/export2/DATA/HIS/HIS_server/analysis/dwi_data/dti/sub-241/reg/sub-241_first_processed_B0_reg_to_native_T1_after.mat --out=/export2/DATA/HIS/HIS_server/analysis/dwi_data/stats/MD/sub-241_first_B0_in-MNI_after\n",
      "\n",
      "applywarp -v --ref=${FSLDIR}/data/standard/MNI152_T1_2mm --in=/export2/DATA/HIS/HIS_server/analysis/dwi_data/dti/sub-242/reg/sub-242_first_processed_B0_before.nii.gz --warp=/export2/DATA/HIS/HIS_server/analysis/dwi_data/dti/sub-242/reg/sub-242_nonlinear_T1_transf --premat=/export2/DATA/HIS/HIS_server/analysis/dwi_data/dti/sub-242/reg/sub-242_first_processed_B0_reg_to_native_T1_before.mat --out=/export2/DATA/HIS/HIS_server/analysis/dwi_data/stats/MD/sub-242_first_B0_in-MNI_before\n",
      "\n",
      "applywarp -v --ref=${FSLDIR}/data/standard/MNI152_T1_2mm --in=/export2/DATA/HIS/HIS_server/analysis/dwi_data/dti/sub-242/reg/sub-242_first_processed_B0_after.nii.gz --warp=/export2/DATA/HIS/HIS_server/analysis/dwi_data/dti/sub-242/reg/sub-242_nonlinear_T1_transf --premat=/export2/DATA/HIS/HIS_server/analysis/dwi_data/dti/sub-242/reg/sub-242_first_processed_B0_reg_to_native_T1_after.mat --out=/export2/DATA/HIS/HIS_server/analysis/dwi_data/stats/MD/sub-242_first_B0_in-MNI_after\n",
      "\n",
      "applywarp -v --ref=${FSLDIR}/data/standard/MNI152_T1_2mm --in=/export2/DATA/HIS/HIS_server/analysis/dwi_data/dti/sub-243/reg/sub-243_first_processed_B0_before.nii.gz --warp=/export2/DATA/HIS/HIS_server/analysis/dwi_data/dti/sub-243/reg/sub-243_nonlinear_T1_transf --premat=/export2/DATA/HIS/HIS_server/analysis/dwi_data/dti/sub-243/reg/sub-243_first_processed_B0_reg_to_native_T1_before.mat --out=/export2/DATA/HIS/HIS_server/analysis/dwi_data/stats/MD/sub-243_first_B0_in-MNI_before\n",
      "\n",
      "applywarp -v --ref=${FSLDIR}/data/standard/MNI152_T1_2mm --in=/export2/DATA/HIS/HIS_server/analysis/dwi_data/dti/sub-243/reg/sub-243_first_processed_B0_after.nii.gz --warp=/export2/DATA/HIS/HIS_server/analysis/dwi_data/dti/sub-243/reg/sub-243_nonlinear_T1_transf --premat=/export2/DATA/HIS/HIS_server/analysis/dwi_data/dti/sub-243/reg/sub-243_first_processed_B0_reg_to_native_T1_after.mat --out=/export2/DATA/HIS/HIS_server/analysis/dwi_data/stats/MD/sub-243_first_B0_in-MNI_after\n",
      "\n",
      "applywarp -v --ref=${FSLDIR}/data/standard/MNI152_T1_2mm --in=/export2/DATA/HIS/HIS_server/analysis/dwi_data/dti/sub-245/reg/sub-245_first_processed_B0_before.nii.gz --warp=/export2/DATA/HIS/HIS_server/analysis/dwi_data/dti/sub-245/reg/sub-245_nonlinear_T1_transf --premat=/export2/DATA/HIS/HIS_server/analysis/dwi_data/dti/sub-245/reg/sub-245_first_processed_B0_reg_to_native_T1_before.mat --out=/export2/DATA/HIS/HIS_server/analysis/dwi_data/stats/MD/sub-245_first_B0_in-MNI_before\n",
      "\n",
      "applywarp -v --ref=${FSLDIR}/data/standard/MNI152_T1_2mm --in=/export2/DATA/HIS/HIS_server/analysis/dwi_data/dti/sub-245/reg/sub-245_first_processed_B0_after.nii.gz --warp=/export2/DATA/HIS/HIS_server/analysis/dwi_data/dti/sub-245/reg/sub-245_nonlinear_T1_transf --premat=/export2/DATA/HIS/HIS_server/analysis/dwi_data/dti/sub-245/reg/sub-245_first_processed_B0_reg_to_native_T1_after.mat --out=/export2/DATA/HIS/HIS_server/analysis/dwi_data/stats/MD/sub-245_first_B0_in-MNI_after\n",
      "\n",
      "applywarp -v --ref=${FSLDIR}/data/standard/MNI152_T1_2mm --in=/export2/DATA/HIS/HIS_server/analysis/dwi_data/dti/sub-247/reg/sub-247_first_processed_B0_before.nii.gz --warp=/export2/DATA/HIS/HIS_server/analysis/dwi_data/dti/sub-247/reg/sub-247_nonlinear_T1_transf --premat=/export2/DATA/HIS/HIS_server/analysis/dwi_data/dti/sub-247/reg/sub-247_first_processed_B0_reg_to_native_T1_before.mat --out=/export2/DATA/HIS/HIS_server/analysis/dwi_data/stats/MD/sub-247_first_B0_in-MNI_before\n",
      "\n",
      "applywarp -v --ref=${FSLDIR}/data/standard/MNI152_T1_2mm --in=/export2/DATA/HIS/HIS_server/analysis/dwi_data/dti/sub-247/reg/sub-247_first_processed_B0_after.nii.gz --warp=/export2/DATA/HIS/HIS_server/analysis/dwi_data/dti/sub-247/reg/sub-247_nonlinear_T1_transf --premat=/export2/DATA/HIS/HIS_server/analysis/dwi_data/dti/sub-247/reg/sub-247_first_processed_B0_reg_to_native_T1_after.mat --out=/export2/DATA/HIS/HIS_server/analysis/dwi_data/stats/MD/sub-247_first_B0_in-MNI_after\n",
      "\n",
      "applywarp -v --ref=${FSLDIR}/data/standard/MNI152_T1_2mm --in=/export2/DATA/HIS/HIS_server/analysis/dwi_data/dti/sub-248/reg/sub-248_first_processed_B0_before.nii.gz --warp=/export2/DATA/HIS/HIS_server/analysis/dwi_data/dti/sub-248/reg/sub-248_nonlinear_T1_transf --premat=/export2/DATA/HIS/HIS_server/analysis/dwi_data/dti/sub-248/reg/sub-248_first_processed_B0_reg_to_native_T1_before.mat --out=/export2/DATA/HIS/HIS_server/analysis/dwi_data/stats/MD/sub-248_first_B0_in-MNI_before\n",
      "\n",
      "applywarp -v --ref=${FSLDIR}/data/standard/MNI152_T1_2mm --in=/export2/DATA/HIS/HIS_server/analysis/dwi_data/dti/sub-248/reg/sub-248_first_processed_B0_after.nii.gz --warp=/export2/DATA/HIS/HIS_server/analysis/dwi_data/dti/sub-248/reg/sub-248_nonlinear_T1_transf --premat=/export2/DATA/HIS/HIS_server/analysis/dwi_data/dti/sub-248/reg/sub-248_first_processed_B0_reg_to_native_T1_after.mat --out=/export2/DATA/HIS/HIS_server/analysis/dwi_data/stats/MD/sub-248_first_B0_in-MNI_after\n",
      "\n",
      "applywarp -v --ref=${FSLDIR}/data/standard/MNI152_T1_2mm --in=/export2/DATA/HIS/HIS_server/analysis/dwi_data/dti/sub-249/reg/sub-249_first_processed_B0_before.nii.gz --warp=/export2/DATA/HIS/HIS_server/analysis/dwi_data/dti/sub-249/reg/sub-249_nonlinear_T1_transf --premat=/export2/DATA/HIS/HIS_server/analysis/dwi_data/dti/sub-249/reg/sub-249_first_processed_B0_reg_to_native_T1_before.mat --out=/export2/DATA/HIS/HIS_server/analysis/dwi_data/stats/MD/sub-249_first_B0_in-MNI_before\n",
      "\n",
      "applywarp -v --ref=${FSLDIR}/data/standard/MNI152_T1_2mm --in=/export2/DATA/HIS/HIS_server/analysis/dwi_data/dti/sub-249/reg/sub-249_first_processed_B0_after.nii.gz --warp=/export2/DATA/HIS/HIS_server/analysis/dwi_data/dti/sub-249/reg/sub-249_nonlinear_T1_transf --premat=/export2/DATA/HIS/HIS_server/analysis/dwi_data/dti/sub-249/reg/sub-249_first_processed_B0_reg_to_native_T1_after.mat --out=/export2/DATA/HIS/HIS_server/analysis/dwi_data/stats/MD/sub-249_first_B0_in-MNI_after\n",
      "\n",
      "applywarp -v --ref=${FSLDIR}/data/standard/MNI152_T1_2mm --in=/export2/DATA/HIS/HIS_server/analysis/dwi_data/dti/sub-251/reg/sub-251_first_processed_B0_before.nii.gz --warp=/export2/DATA/HIS/HIS_server/analysis/dwi_data/dti/sub-251/reg/sub-251_nonlinear_T1_transf --premat=/export2/DATA/HIS/HIS_server/analysis/dwi_data/dti/sub-251/reg/sub-251_first_processed_B0_reg_to_native_T1_before.mat --out=/export2/DATA/HIS/HIS_server/analysis/dwi_data/stats/MD/sub-251_first_B0_in-MNI_before\n",
      "\n",
      "applywarp -v --ref=${FSLDIR}/data/standard/MNI152_T1_2mm --in=/export2/DATA/HIS/HIS_server/analysis/dwi_data/dti/sub-251/reg/sub-251_first_processed_B0_after.nii.gz --warp=/export2/DATA/HIS/HIS_server/analysis/dwi_data/dti/sub-251/reg/sub-251_nonlinear_T1_transf --premat=/export2/DATA/HIS/HIS_server/analysis/dwi_data/dti/sub-251/reg/sub-251_first_processed_B0_reg_to_native_T1_after.mat --out=/export2/DATA/HIS/HIS_server/analysis/dwi_data/stats/MD/sub-251_first_B0_in-MNI_after\n",
      "\n",
      "applywarp -v --ref=${FSLDIR}/data/standard/MNI152_T1_2mm --in=/export2/DATA/HIS/HIS_server/analysis/dwi_data/dti/sub-252/reg/sub-252_first_processed_B0_before.nii.gz --warp=/export2/DATA/HIS/HIS_server/analysis/dwi_data/dti/sub-252/reg/sub-252_nonlinear_T1_transf --premat=/export2/DATA/HIS/HIS_server/analysis/dwi_data/dti/sub-252/reg/sub-252_first_processed_B0_reg_to_native_T1_before.mat --out=/export2/DATA/HIS/HIS_server/analysis/dwi_data/stats/MD/sub-252_first_B0_in-MNI_before\n",
      "\n",
      "applywarp -v --ref=${FSLDIR}/data/standard/MNI152_T1_2mm --in=/export2/DATA/HIS/HIS_server/analysis/dwi_data/dti/sub-252/reg/sub-252_first_processed_B0_after.nii.gz --warp=/export2/DATA/HIS/HIS_server/analysis/dwi_data/dti/sub-252/reg/sub-252_nonlinear_T1_transf --premat=/export2/DATA/HIS/HIS_server/analysis/dwi_data/dti/sub-252/reg/sub-252_first_processed_B0_reg_to_native_T1_after.mat --out=/export2/DATA/HIS/HIS_server/analysis/dwi_data/stats/MD/sub-252_first_B0_in-MNI_after\n",
      "\n",
      "applywarp -v --ref=${FSLDIR}/data/standard/MNI152_T1_2mm --in=/export2/DATA/HIS/HIS_server/analysis/dwi_data/dti/sub-254/reg/sub-254_first_processed_B0_before.nii.gz --warp=/export2/DATA/HIS/HIS_server/analysis/dwi_data/dti/sub-254/reg/sub-254_nonlinear_T1_transf --premat=/export2/DATA/HIS/HIS_server/analysis/dwi_data/dti/sub-254/reg/sub-254_first_processed_B0_reg_to_native_T1_before.mat --out=/export2/DATA/HIS/HIS_server/analysis/dwi_data/stats/MD/sub-254_first_B0_in-MNI_before\n",
      "\n",
      "applywarp -v --ref=${FSLDIR}/data/standard/MNI152_T1_2mm --in=/export2/DATA/HIS/HIS_server/analysis/dwi_data/dti/sub-254/reg/sub-254_first_processed_B0_after.nii.gz --warp=/export2/DATA/HIS/HIS_server/analysis/dwi_data/dti/sub-254/reg/sub-254_nonlinear_T1_transf --premat=/export2/DATA/HIS/HIS_server/analysis/dwi_data/dti/sub-254/reg/sub-254_first_processed_B0_reg_to_native_T1_after.mat --out=/export2/DATA/HIS/HIS_server/analysis/dwi_data/stats/MD/sub-254_first_B0_in-MNI_after\n",
      "\n",
      "applywarp -v --ref=${FSLDIR}/data/standard/MNI152_T1_2mm --in=/export2/DATA/HIS/HIS_server/analysis/dwi_data/dti/sub-255/reg/sub-255_first_processed_B0_before.nii.gz --warp=/export2/DATA/HIS/HIS_server/analysis/dwi_data/dti/sub-255/reg/sub-255_nonlinear_T1_transf --premat=/export2/DATA/HIS/HIS_server/analysis/dwi_data/dti/sub-255/reg/sub-255_first_processed_B0_reg_to_native_T1_before.mat --out=/export2/DATA/HIS/HIS_server/analysis/dwi_data/stats/MD/sub-255_first_B0_in-MNI_before\n",
      "\n",
      "applywarp -v --ref=${FSLDIR}/data/standard/MNI152_T1_2mm --in=/export2/DATA/HIS/HIS_server/analysis/dwi_data/dti/sub-255/reg/sub-255_first_processed_B0_after.nii.gz --warp=/export2/DATA/HIS/HIS_server/analysis/dwi_data/dti/sub-255/reg/sub-255_nonlinear_T1_transf --premat=/export2/DATA/HIS/HIS_server/analysis/dwi_data/dti/sub-255/reg/sub-255_first_processed_B0_reg_to_native_T1_after.mat --out=/export2/DATA/HIS/HIS_server/analysis/dwi_data/stats/MD/sub-255_first_B0_in-MNI_after\n",
      "\n",
      "applywarp -v --ref=${FSLDIR}/data/standard/MNI152_T1_2mm --in=/export2/DATA/HIS/HIS_server/analysis/dwi_data/dti/sub-257/reg/sub-257_first_processed_B0_before.nii.gz --warp=/export2/DATA/HIS/HIS_server/analysis/dwi_data/dti/sub-257/reg/sub-257_nonlinear_T1_transf --premat=/export2/DATA/HIS/HIS_server/analysis/dwi_data/dti/sub-257/reg/sub-257_first_processed_B0_reg_to_native_T1_before.mat --out=/export2/DATA/HIS/HIS_server/analysis/dwi_data/stats/MD/sub-257_first_B0_in-MNI_before\n",
      "\n",
      "applywarp -v --ref=${FSLDIR}/data/standard/MNI152_T1_2mm --in=/export2/DATA/HIS/HIS_server/analysis/dwi_data/dti/sub-257/reg/sub-257_first_processed_B0_after.nii.gz --warp=/export2/DATA/HIS/HIS_server/analysis/dwi_data/dti/sub-257/reg/sub-257_nonlinear_T1_transf --premat=/export2/DATA/HIS/HIS_server/analysis/dwi_data/dti/sub-257/reg/sub-257_first_processed_B0_reg_to_native_T1_after.mat --out=/export2/DATA/HIS/HIS_server/analysis/dwi_data/stats/MD/sub-257_first_B0_in-MNI_after\n",
      "\n",
      "applywarp -v --ref=${FSLDIR}/data/standard/MNI152_T1_2mm --in=/export2/DATA/HIS/HIS_server/analysis/dwi_data/dti/sub-258/reg/sub-258_first_processed_B0_before.nii.gz --warp=/export2/DATA/HIS/HIS_server/analysis/dwi_data/dti/sub-258/reg/sub-258_nonlinear_T1_transf --premat=/export2/DATA/HIS/HIS_server/analysis/dwi_data/dti/sub-258/reg/sub-258_first_processed_B0_reg_to_native_T1_before.mat --out=/export2/DATA/HIS/HIS_server/analysis/dwi_data/stats/MD/sub-258_first_B0_in-MNI_before\n",
      "\n",
      "applywarp -v --ref=${FSLDIR}/data/standard/MNI152_T1_2mm --in=/export2/DATA/HIS/HIS_server/analysis/dwi_data/dti/sub-258/reg/sub-258_first_processed_B0_after.nii.gz --warp=/export2/DATA/HIS/HIS_server/analysis/dwi_data/dti/sub-258/reg/sub-258_nonlinear_T1_transf --premat=/export2/DATA/HIS/HIS_server/analysis/dwi_data/dti/sub-258/reg/sub-258_first_processed_B0_reg_to_native_T1_after.mat --out=/export2/DATA/HIS/HIS_server/analysis/dwi_data/stats/MD/sub-258_first_B0_in-MNI_after\n",
      "\n",
      "applywarp -v --ref=${FSLDIR}/data/standard/MNI152_T1_2mm --in=/export2/DATA/HIS/HIS_server/analysis/dwi_data/dti/sub-260/reg/sub-260_first_processed_B0_before.nii.gz --warp=/export2/DATA/HIS/HIS_server/analysis/dwi_data/dti/sub-260/reg/sub-260_nonlinear_T1_transf --premat=/export2/DATA/HIS/HIS_server/analysis/dwi_data/dti/sub-260/reg/sub-260_first_processed_B0_reg_to_native_T1_before.mat --out=/export2/DATA/HIS/HIS_server/analysis/dwi_data/stats/MD/sub-260_first_B0_in-MNI_before\n",
      "\n",
      "applywarp -v --ref=${FSLDIR}/data/standard/MNI152_T1_2mm --in=/export2/DATA/HIS/HIS_server/analysis/dwi_data/dti/sub-260/reg/sub-260_first_processed_B0_after.nii.gz --warp=/export2/DATA/HIS/HIS_server/analysis/dwi_data/dti/sub-260/reg/sub-260_nonlinear_T1_transf --premat=/export2/DATA/HIS/HIS_server/analysis/dwi_data/dti/sub-260/reg/sub-260_first_processed_B0_reg_to_native_T1_after.mat --out=/export2/DATA/HIS/HIS_server/analysis/dwi_data/stats/MD/sub-260_first_B0_in-MNI_after\n",
      "\n",
      "applywarp -v --ref=${FSLDIR}/data/standard/MNI152_T1_2mm --in=/export2/DATA/HIS/HIS_server/analysis/dwi_data/dti/sub-261/reg/sub-261_first_processed_B0_before.nii.gz --warp=/export2/DATA/HIS/HIS_server/analysis/dwi_data/dti/sub-261/reg/sub-261_nonlinear_T1_transf --premat=/export2/DATA/HIS/HIS_server/analysis/dwi_data/dti/sub-261/reg/sub-261_first_processed_B0_reg_to_native_T1_before.mat --out=/export2/DATA/HIS/HIS_server/analysis/dwi_data/stats/MD/sub-261_first_B0_in-MNI_before\n",
      "\n",
      "applywarp -v --ref=${FSLDIR}/data/standard/MNI152_T1_2mm --in=/export2/DATA/HIS/HIS_server/analysis/dwi_data/dti/sub-261/reg/sub-261_first_processed_B0_after.nii.gz --warp=/export2/DATA/HIS/HIS_server/analysis/dwi_data/dti/sub-261/reg/sub-261_nonlinear_T1_transf --premat=/export2/DATA/HIS/HIS_server/analysis/dwi_data/dti/sub-261/reg/sub-261_first_processed_B0_reg_to_native_T1_after.mat --out=/export2/DATA/HIS/HIS_server/analysis/dwi_data/stats/MD/sub-261_first_B0_in-MNI_after\n",
      "\n",
      "applywarp -v --ref=${FSLDIR}/data/standard/MNI152_T1_2mm --in=/export2/DATA/HIS/HIS_server/analysis/dwi_data/dti/sub-262/reg/sub-262_first_processed_B0_before.nii.gz --warp=/export2/DATA/HIS/HIS_server/analysis/dwi_data/dti/sub-262/reg/sub-262_nonlinear_T1_transf --premat=/export2/DATA/HIS/HIS_server/analysis/dwi_data/dti/sub-262/reg/sub-262_first_processed_B0_reg_to_native_T1_before.mat --out=/export2/DATA/HIS/HIS_server/analysis/dwi_data/stats/MD/sub-262_first_B0_in-MNI_before\n",
      "\n",
      "applywarp -v --ref=${FSLDIR}/data/standard/MNI152_T1_2mm --in=/export2/DATA/HIS/HIS_server/analysis/dwi_data/dti/sub-262/reg/sub-262_first_processed_B0_after.nii.gz --warp=/export2/DATA/HIS/HIS_server/analysis/dwi_data/dti/sub-262/reg/sub-262_nonlinear_T1_transf --premat=/export2/DATA/HIS/HIS_server/analysis/dwi_data/dti/sub-262/reg/sub-262_first_processed_B0_reg_to_native_T1_after.mat --out=/export2/DATA/HIS/HIS_server/analysis/dwi_data/stats/MD/sub-262_first_B0_in-MNI_after\n",
      "\n",
      "applywarp -v --ref=${FSLDIR}/data/standard/MNI152_T1_2mm --in=/export2/DATA/HIS/HIS_server/analysis/dwi_data/dti/sub-263/reg/sub-263_first_processed_B0_before.nii.gz --warp=/export2/DATA/HIS/HIS_server/analysis/dwi_data/dti/sub-263/reg/sub-263_nonlinear_T1_transf --premat=/export2/DATA/HIS/HIS_server/analysis/dwi_data/dti/sub-263/reg/sub-263_first_processed_B0_reg_to_native_T1_before.mat --out=/export2/DATA/HIS/HIS_server/analysis/dwi_data/stats/MD/sub-263_first_B0_in-MNI_before\n",
      "\n",
      "applywarp -v --ref=${FSLDIR}/data/standard/MNI152_T1_2mm --in=/export2/DATA/HIS/HIS_server/analysis/dwi_data/dti/sub-263/reg/sub-263_first_processed_B0_after.nii.gz --warp=/export2/DATA/HIS/HIS_server/analysis/dwi_data/dti/sub-263/reg/sub-263_nonlinear_T1_transf --premat=/export2/DATA/HIS/HIS_server/analysis/dwi_data/dti/sub-263/reg/sub-263_first_processed_B0_reg_to_native_T1_after.mat --out=/export2/DATA/HIS/HIS_server/analysis/dwi_data/stats/MD/sub-263_first_B0_in-MNI_after\n",
      "\n",
      "applywarp -v --ref=${FSLDIR}/data/standard/MNI152_T1_2mm --in=/export2/DATA/HIS/HIS_server/analysis/dwi_data/dti/sub-264/reg/sub-264_first_processed_B0_before.nii.gz --warp=/export2/DATA/HIS/HIS_server/analysis/dwi_data/dti/sub-264/reg/sub-264_nonlinear_T1_transf --premat=/export2/DATA/HIS/HIS_server/analysis/dwi_data/dti/sub-264/reg/sub-264_first_processed_B0_reg_to_native_T1_before.mat --out=/export2/DATA/HIS/HIS_server/analysis/dwi_data/stats/MD/sub-264_first_B0_in-MNI_before\n",
      "\n",
      "applywarp -v --ref=${FSLDIR}/data/standard/MNI152_T1_2mm --in=/export2/DATA/HIS/HIS_server/analysis/dwi_data/dti/sub-264/reg/sub-264_first_processed_B0_after.nii.gz --warp=/export2/DATA/HIS/HIS_server/analysis/dwi_data/dti/sub-264/reg/sub-264_nonlinear_T1_transf --premat=/export2/DATA/HIS/HIS_server/analysis/dwi_data/dti/sub-264/reg/sub-264_first_processed_B0_reg_to_native_T1_after.mat --out=/export2/DATA/HIS/HIS_server/analysis/dwi_data/stats/MD/sub-264_first_B0_in-MNI_after\n",
      "\n",
      "applywarp -v --ref=${FSLDIR}/data/standard/MNI152_T1_2mm --in=/export2/DATA/HIS/HIS_server/analysis/dwi_data/dti/sub-265/reg/sub-265_first_processed_B0_before.nii.gz --warp=/export2/DATA/HIS/HIS_server/analysis/dwi_data/dti/sub-265/reg/sub-265_nonlinear_T1_transf --premat=/export2/DATA/HIS/HIS_server/analysis/dwi_data/dti/sub-265/reg/sub-265_first_processed_B0_reg_to_native_T1_before.mat --out=/export2/DATA/HIS/HIS_server/analysis/dwi_data/stats/MD/sub-265_first_B0_in-MNI_before\n",
      "\n",
      "applywarp -v --ref=${FSLDIR}/data/standard/MNI152_T1_2mm --in=/export2/DATA/HIS/HIS_server/analysis/dwi_data/dti/sub-265/reg/sub-265_first_processed_B0_after.nii.gz --warp=/export2/DATA/HIS/HIS_server/analysis/dwi_data/dti/sub-265/reg/sub-265_nonlinear_T1_transf --premat=/export2/DATA/HIS/HIS_server/analysis/dwi_data/dti/sub-265/reg/sub-265_first_processed_B0_reg_to_native_T1_after.mat --out=/export2/DATA/HIS/HIS_server/analysis/dwi_data/stats/MD/sub-265_first_B0_in-MNI_after\n",
      "\n",
      "applywarp -v --ref=${FSLDIR}/data/standard/MNI152_T1_2mm --in=/export2/DATA/HIS/HIS_server/analysis/dwi_data/dti/sub-267/reg/sub-267_first_processed_B0_before.nii.gz --warp=/export2/DATA/HIS/HIS_server/analysis/dwi_data/dti/sub-267/reg/sub-267_nonlinear_T1_transf --premat=/export2/DATA/HIS/HIS_server/analysis/dwi_data/dti/sub-267/reg/sub-267_first_processed_B0_reg_to_native_T1_before.mat --out=/export2/DATA/HIS/HIS_server/analysis/dwi_data/stats/MD/sub-267_first_B0_in-MNI_before\n",
      "\n",
      "applywarp -v --ref=${FSLDIR}/data/standard/MNI152_T1_2mm --in=/export2/DATA/HIS/HIS_server/analysis/dwi_data/dti/sub-267/reg/sub-267_first_processed_B0_after.nii.gz --warp=/export2/DATA/HIS/HIS_server/analysis/dwi_data/dti/sub-267/reg/sub-267_nonlinear_T1_transf --premat=/export2/DATA/HIS/HIS_server/analysis/dwi_data/dti/sub-267/reg/sub-267_first_processed_B0_reg_to_native_T1_after.mat --out=/export2/DATA/HIS/HIS_server/analysis/dwi_data/stats/MD/sub-267_first_B0_in-MNI_after\n",
      "\n",
      "applywarp -v --ref=${FSLDIR}/data/standard/MNI152_T1_2mm --in=/export2/DATA/HIS/HIS_server/analysis/dwi_data/dti/sub-268/reg/sub-268_first_processed_B0_before.nii.gz --warp=/export2/DATA/HIS/HIS_server/analysis/dwi_data/dti/sub-268/reg/sub-268_nonlinear_T1_transf --premat=/export2/DATA/HIS/HIS_server/analysis/dwi_data/dti/sub-268/reg/sub-268_first_processed_B0_reg_to_native_T1_before.mat --out=/export2/DATA/HIS/HIS_server/analysis/dwi_data/stats/MD/sub-268_first_B0_in-MNI_before\n",
      "\n",
      "applywarp -v --ref=${FSLDIR}/data/standard/MNI152_T1_2mm --in=/export2/DATA/HIS/HIS_server/analysis/dwi_data/dti/sub-268/reg/sub-268_first_processed_B0_after.nii.gz --warp=/export2/DATA/HIS/HIS_server/analysis/dwi_data/dti/sub-268/reg/sub-268_nonlinear_T1_transf --premat=/export2/DATA/HIS/HIS_server/analysis/dwi_data/dti/sub-268/reg/sub-268_first_processed_B0_reg_to_native_T1_after.mat --out=/export2/DATA/HIS/HIS_server/analysis/dwi_data/stats/MD/sub-268_first_B0_in-MNI_after\n",
      "\n",
      "applywarp -v --ref=${FSLDIR}/data/standard/MNI152_T1_2mm --in=/export2/DATA/HIS/HIS_server/analysis/dwi_data/dti/sub-269/reg/sub-269_first_processed_B0_before.nii.gz --warp=/export2/DATA/HIS/HIS_server/analysis/dwi_data/dti/sub-269/reg/sub-269_nonlinear_T1_transf --premat=/export2/DATA/HIS/HIS_server/analysis/dwi_data/dti/sub-269/reg/sub-269_first_processed_B0_reg_to_native_T1_before.mat --out=/export2/DATA/HIS/HIS_server/analysis/dwi_data/stats/MD/sub-269_first_B0_in-MNI_before\n",
      "\n",
      "applywarp -v --ref=${FSLDIR}/data/standard/MNI152_T1_2mm --in=/export2/DATA/HIS/HIS_server/analysis/dwi_data/dti/sub-269/reg/sub-269_first_processed_B0_after.nii.gz --warp=/export2/DATA/HIS/HIS_server/analysis/dwi_data/dti/sub-269/reg/sub-269_nonlinear_T1_transf --premat=/export2/DATA/HIS/HIS_server/analysis/dwi_data/dti/sub-269/reg/sub-269_first_processed_B0_reg_to_native_T1_after.mat --out=/export2/DATA/HIS/HIS_server/analysis/dwi_data/stats/MD/sub-269_first_B0_in-MNI_after\n",
      "\n",
      "applywarp -v --ref=${FSLDIR}/data/standard/MNI152_T1_2mm --in=/export2/DATA/HIS/HIS_server/analysis/dwi_data/dti/sub-270/reg/sub-270_first_processed_B0_before.nii.gz --warp=/export2/DATA/HIS/HIS_server/analysis/dwi_data/dti/sub-270/reg/sub-270_nonlinear_T1_transf --premat=/export2/DATA/HIS/HIS_server/analysis/dwi_data/dti/sub-270/reg/sub-270_first_processed_B0_reg_to_native_T1_before.mat --out=/export2/DATA/HIS/HIS_server/analysis/dwi_data/stats/MD/sub-270_first_B0_in-MNI_before\n",
      "\n",
      "applywarp -v --ref=${FSLDIR}/data/standard/MNI152_T1_2mm --in=/export2/DATA/HIS/HIS_server/analysis/dwi_data/dti/sub-270/reg/sub-270_first_processed_B0_after.nii.gz --warp=/export2/DATA/HIS/HIS_server/analysis/dwi_data/dti/sub-270/reg/sub-270_nonlinear_T1_transf --premat=/export2/DATA/HIS/HIS_server/analysis/dwi_data/dti/sub-270/reg/sub-270_first_processed_B0_reg_to_native_T1_after.mat --out=/export2/DATA/HIS/HIS_server/analysis/dwi_data/stats/MD/sub-270_first_B0_in-MNI_after\n",
      "\n",
      "applywarp -v --ref=${FSLDIR}/data/standard/MNI152_T1_2mm --in=/export2/DATA/HIS/HIS_server/analysis/dwi_data/dti/sub-271/reg/sub-271_first_processed_B0_before.nii.gz --warp=/export2/DATA/HIS/HIS_server/analysis/dwi_data/dti/sub-271/reg/sub-271_nonlinear_T1_transf --premat=/export2/DATA/HIS/HIS_server/analysis/dwi_data/dti/sub-271/reg/sub-271_first_processed_B0_reg_to_native_T1_before.mat --out=/export2/DATA/HIS/HIS_server/analysis/dwi_data/stats/MD/sub-271_first_B0_in-MNI_before\n",
      "\n",
      "applywarp -v --ref=${FSLDIR}/data/standard/MNI152_T1_2mm --in=/export2/DATA/HIS/HIS_server/analysis/dwi_data/dti/sub-271/reg/sub-271_first_processed_B0_after.nii.gz --warp=/export2/DATA/HIS/HIS_server/analysis/dwi_data/dti/sub-271/reg/sub-271_nonlinear_T1_transf --premat=/export2/DATA/HIS/HIS_server/analysis/dwi_data/dti/sub-271/reg/sub-271_first_processed_B0_reg_to_native_T1_after.mat --out=/export2/DATA/HIS/HIS_server/analysis/dwi_data/stats/MD/sub-271_first_B0_in-MNI_after\n",
      "\n",
      "applywarp -v --ref=${FSLDIR}/data/standard/MNI152_T1_2mm --in=/export2/DATA/HIS/HIS_server/analysis/dwi_data/dti/sub-272/reg/sub-272_first_processed_B0_before.nii.gz --warp=/export2/DATA/HIS/HIS_server/analysis/dwi_data/dti/sub-272/reg/sub-272_nonlinear_T1_transf --premat=/export2/DATA/HIS/HIS_server/analysis/dwi_data/dti/sub-272/reg/sub-272_first_processed_B0_reg_to_native_T1_before.mat --out=/export2/DATA/HIS/HIS_server/analysis/dwi_data/stats/MD/sub-272_first_B0_in-MNI_before\n",
      "\n",
      "applywarp -v --ref=${FSLDIR}/data/standard/MNI152_T1_2mm --in=/export2/DATA/HIS/HIS_server/analysis/dwi_data/dti/sub-272/reg/sub-272_first_processed_B0_after.nii.gz --warp=/export2/DATA/HIS/HIS_server/analysis/dwi_data/dti/sub-272/reg/sub-272_nonlinear_T1_transf --premat=/export2/DATA/HIS/HIS_server/analysis/dwi_data/dti/sub-272/reg/sub-272_first_processed_B0_reg_to_native_T1_after.mat --out=/export2/DATA/HIS/HIS_server/analysis/dwi_data/stats/MD/sub-272_first_B0_in-MNI_after\n",
      "\n",
      "applywarp -v --ref=${FSLDIR}/data/standard/MNI152_T1_2mm --in=/export2/DATA/HIS/HIS_server/analysis/dwi_data/dti/sub-275/reg/sub-275_first_processed_B0_before.nii.gz --warp=/export2/DATA/HIS/HIS_server/analysis/dwi_data/dti/sub-275/reg/sub-275_nonlinear_T1_transf --premat=/export2/DATA/HIS/HIS_server/analysis/dwi_data/dti/sub-275/reg/sub-275_first_processed_B0_reg_to_native_T1_before.mat --out=/export2/DATA/HIS/HIS_server/analysis/dwi_data/stats/MD/sub-275_first_B0_in-MNI_before\n",
      "\n",
      "applywarp -v --ref=${FSLDIR}/data/standard/MNI152_T1_2mm --in=/export2/DATA/HIS/HIS_server/analysis/dwi_data/dti/sub-275/reg/sub-275_first_processed_B0_after.nii.gz --warp=/export2/DATA/HIS/HIS_server/analysis/dwi_data/dti/sub-275/reg/sub-275_nonlinear_T1_transf --premat=/export2/DATA/HIS/HIS_server/analysis/dwi_data/dti/sub-275/reg/sub-275_first_processed_B0_reg_to_native_T1_after.mat --out=/export2/DATA/HIS/HIS_server/analysis/dwi_data/stats/MD/sub-275_first_B0_in-MNI_after\n",
      "\n",
      "applywarp -v --ref=${FSLDIR}/data/standard/MNI152_T1_2mm --in=/export2/DATA/HIS/HIS_server/analysis/dwi_data/dti/sub-276/reg/sub-276_first_processed_B0_before.nii.gz --warp=/export2/DATA/HIS/HIS_server/analysis/dwi_data/dti/sub-276/reg/sub-276_nonlinear_T1_transf --premat=/export2/DATA/HIS/HIS_server/analysis/dwi_data/dti/sub-276/reg/sub-276_first_processed_B0_reg_to_native_T1_before.mat --out=/export2/DATA/HIS/HIS_server/analysis/dwi_data/stats/MD/sub-276_first_B0_in-MNI_before\n",
      "\n",
      "applywarp -v --ref=${FSLDIR}/data/standard/MNI152_T1_2mm --in=/export2/DATA/HIS/HIS_server/analysis/dwi_data/dti/sub-276/reg/sub-276_first_processed_B0_after.nii.gz --warp=/export2/DATA/HIS/HIS_server/analysis/dwi_data/dti/sub-276/reg/sub-276_nonlinear_T1_transf --premat=/export2/DATA/HIS/HIS_server/analysis/dwi_data/dti/sub-276/reg/sub-276_first_processed_B0_reg_to_native_T1_after.mat --out=/export2/DATA/HIS/HIS_server/analysis/dwi_data/stats/MD/sub-276_first_B0_in-MNI_after\n",
      "\n",
      "applywarp -v --ref=${FSLDIR}/data/standard/MNI152_T1_2mm --in=/export2/DATA/HIS/HIS_server/analysis/dwi_data/dti/sub-277/reg/sub-277_first_processed_B0_before.nii.gz --warp=/export2/DATA/HIS/HIS_server/analysis/dwi_data/dti/sub-277/reg/sub-277_nonlinear_T1_transf --premat=/export2/DATA/HIS/HIS_server/analysis/dwi_data/dti/sub-277/reg/sub-277_first_processed_B0_reg_to_native_T1_before.mat --out=/export2/DATA/HIS/HIS_server/analysis/dwi_data/stats/MD/sub-277_first_B0_in-MNI_before\n",
      "\n",
      "applywarp -v --ref=${FSLDIR}/data/standard/MNI152_T1_2mm --in=/export2/DATA/HIS/HIS_server/analysis/dwi_data/dti/sub-277/reg/sub-277_first_processed_B0_after.nii.gz --warp=/export2/DATA/HIS/HIS_server/analysis/dwi_data/dti/sub-277/reg/sub-277_nonlinear_T1_transf --premat=/export2/DATA/HIS/HIS_server/analysis/dwi_data/dti/sub-277/reg/sub-277_first_processed_B0_reg_to_native_T1_after.mat --out=/export2/DATA/HIS/HIS_server/analysis/dwi_data/stats/MD/sub-277_first_B0_in-MNI_after\n",
      "\n",
      "applywarp -v --ref=${FSLDIR}/data/standard/MNI152_T1_2mm --in=/export2/DATA/HIS/HIS_server/analysis/dwi_data/dti/sub-278/reg/sub-278_first_processed_B0_before.nii.gz --warp=/export2/DATA/HIS/HIS_server/analysis/dwi_data/dti/sub-278/reg/sub-278_nonlinear_T1_transf --premat=/export2/DATA/HIS/HIS_server/analysis/dwi_data/dti/sub-278/reg/sub-278_first_processed_B0_reg_to_native_T1_before.mat --out=/export2/DATA/HIS/HIS_server/analysis/dwi_data/stats/MD/sub-278_first_B0_in-MNI_before\n",
      "\n",
      "applywarp -v --ref=${FSLDIR}/data/standard/MNI152_T1_2mm --in=/export2/DATA/HIS/HIS_server/analysis/dwi_data/dti/sub-278/reg/sub-278_first_processed_B0_after.nii.gz --warp=/export2/DATA/HIS/HIS_server/analysis/dwi_data/dti/sub-278/reg/sub-278_nonlinear_T1_transf --premat=/export2/DATA/HIS/HIS_server/analysis/dwi_data/dti/sub-278/reg/sub-278_first_processed_B0_reg_to_native_T1_after.mat --out=/export2/DATA/HIS/HIS_server/analysis/dwi_data/stats/MD/sub-278_first_B0_in-MNI_after\n",
      "\n",
      "applywarp -v --ref=${FSLDIR}/data/standard/MNI152_T1_2mm --in=/export2/DATA/HIS/HIS_server/analysis/dwi_data/dti/sub-280/reg/sub-280_first_processed_B0_before.nii.gz --warp=/export2/DATA/HIS/HIS_server/analysis/dwi_data/dti/sub-280/reg/sub-280_nonlinear_T1_transf --premat=/export2/DATA/HIS/HIS_server/analysis/dwi_data/dti/sub-280/reg/sub-280_first_processed_B0_reg_to_native_T1_before.mat --out=/export2/DATA/HIS/HIS_server/analysis/dwi_data/stats/MD/sub-280_first_B0_in-MNI_before\n",
      "\n",
      "applywarp -v --ref=${FSLDIR}/data/standard/MNI152_T1_2mm --in=/export2/DATA/HIS/HIS_server/analysis/dwi_data/dti/sub-280/reg/sub-280_first_processed_B0_after.nii.gz --warp=/export2/DATA/HIS/HIS_server/analysis/dwi_data/dti/sub-280/reg/sub-280_nonlinear_T1_transf --premat=/export2/DATA/HIS/HIS_server/analysis/dwi_data/dti/sub-280/reg/sub-280_first_processed_B0_reg_to_native_T1_after.mat --out=/export2/DATA/HIS/HIS_server/analysis/dwi_data/stats/MD/sub-280_first_B0_in-MNI_after\n",
      "\n",
      "applywarp -v --ref=${FSLDIR}/data/standard/MNI152_T1_2mm --in=/export2/DATA/HIS/HIS_server/analysis/dwi_data/dti/sub-281/reg/sub-281_first_processed_B0_before.nii.gz --warp=/export2/DATA/HIS/HIS_server/analysis/dwi_data/dti/sub-281/reg/sub-281_nonlinear_T1_transf --premat=/export2/DATA/HIS/HIS_server/analysis/dwi_data/dti/sub-281/reg/sub-281_first_processed_B0_reg_to_native_T1_before.mat --out=/export2/DATA/HIS/HIS_server/analysis/dwi_data/stats/MD/sub-281_first_B0_in-MNI_before\n",
      "\n",
      "applywarp -v --ref=${FSLDIR}/data/standard/MNI152_T1_2mm --in=/export2/DATA/HIS/HIS_server/analysis/dwi_data/dti/sub-281/reg/sub-281_first_processed_B0_after.nii.gz --warp=/export2/DATA/HIS/HIS_server/analysis/dwi_data/dti/sub-281/reg/sub-281_nonlinear_T1_transf --premat=/export2/DATA/HIS/HIS_server/analysis/dwi_data/dti/sub-281/reg/sub-281_first_processed_B0_reg_to_native_T1_after.mat --out=/export2/DATA/HIS/HIS_server/analysis/dwi_data/stats/MD/sub-281_first_B0_in-MNI_after\n",
      "\n",
      "applywarp -v --ref=${FSLDIR}/data/standard/MNI152_T1_2mm --in=/export2/DATA/HIS/HIS_server/analysis/dwi_data/dti/sub-282/reg/sub-282_first_processed_B0_before.nii.gz --warp=/export2/DATA/HIS/HIS_server/analysis/dwi_data/dti/sub-282/reg/sub-282_nonlinear_T1_transf --premat=/export2/DATA/HIS/HIS_server/analysis/dwi_data/dti/sub-282/reg/sub-282_first_processed_B0_reg_to_native_T1_before.mat --out=/export2/DATA/HIS/HIS_server/analysis/dwi_data/stats/MD/sub-282_first_B0_in-MNI_before\n",
      "\n",
      "applywarp -v --ref=${FSLDIR}/data/standard/MNI152_T1_2mm --in=/export2/DATA/HIS/HIS_server/analysis/dwi_data/dti/sub-282/reg/sub-282_first_processed_B0_after.nii.gz --warp=/export2/DATA/HIS/HIS_server/analysis/dwi_data/dti/sub-282/reg/sub-282_nonlinear_T1_transf --premat=/export2/DATA/HIS/HIS_server/analysis/dwi_data/dti/sub-282/reg/sub-282_first_processed_B0_reg_to_native_T1_after.mat --out=/export2/DATA/HIS/HIS_server/analysis/dwi_data/stats/MD/sub-282_first_B0_in-MNI_after\n",
      "\n",
      "applywarp -v --ref=${FSLDIR}/data/standard/MNI152_T1_2mm --in=/export2/DATA/HIS/HIS_server/analysis/dwi_data/dti/sub-283/reg/sub-283_first_processed_B0_before.nii.gz --warp=/export2/DATA/HIS/HIS_server/analysis/dwi_data/dti/sub-283/reg/sub-283_nonlinear_T1_transf --premat=/export2/DATA/HIS/HIS_server/analysis/dwi_data/dti/sub-283/reg/sub-283_first_processed_B0_reg_to_native_T1_before.mat --out=/export2/DATA/HIS/HIS_server/analysis/dwi_data/stats/MD/sub-283_first_B0_in-MNI_before\n",
      "\n",
      "applywarp -v --ref=${FSLDIR}/data/standard/MNI152_T1_2mm --in=/export2/DATA/HIS/HIS_server/analysis/dwi_data/dti/sub-283/reg/sub-283_first_processed_B0_after.nii.gz --warp=/export2/DATA/HIS/HIS_server/analysis/dwi_data/dti/sub-283/reg/sub-283_nonlinear_T1_transf --premat=/export2/DATA/HIS/HIS_server/analysis/dwi_data/dti/sub-283/reg/sub-283_first_processed_B0_reg_to_native_T1_after.mat --out=/export2/DATA/HIS/HIS_server/analysis/dwi_data/stats/MD/sub-283_first_B0_in-MNI_after\n",
      "\n",
      "applywarp -v --ref=${FSLDIR}/data/standard/MNI152_T1_2mm --in=/export2/DATA/HIS/HIS_server/analysis/dwi_data/dti/sub-284/reg/sub-284_first_processed_B0_before.nii.gz --warp=/export2/DATA/HIS/HIS_server/analysis/dwi_data/dti/sub-284/reg/sub-284_nonlinear_T1_transf --premat=/export2/DATA/HIS/HIS_server/analysis/dwi_data/dti/sub-284/reg/sub-284_first_processed_B0_reg_to_native_T1_before.mat --out=/export2/DATA/HIS/HIS_server/analysis/dwi_data/stats/MD/sub-284_first_B0_in-MNI_before\n",
      "\n",
      "applywarp -v --ref=${FSLDIR}/data/standard/MNI152_T1_2mm --in=/export2/DATA/HIS/HIS_server/analysis/dwi_data/dti/sub-284/reg/sub-284_first_processed_B0_after.nii.gz --warp=/export2/DATA/HIS/HIS_server/analysis/dwi_data/dti/sub-284/reg/sub-284_nonlinear_T1_transf --premat=/export2/DATA/HIS/HIS_server/analysis/dwi_data/dti/sub-284/reg/sub-284_first_processed_B0_reg_to_native_T1_after.mat --out=/export2/DATA/HIS/HIS_server/analysis/dwi_data/stats/MD/sub-284_first_B0_in-MNI_after\n",
      "\n",
      "applywarp -v --ref=${FSLDIR}/data/standard/MNI152_T1_2mm --in=/export2/DATA/HIS/HIS_server/analysis/dwi_data/dti/sub-285/reg/sub-285_first_processed_B0_before.nii.gz --warp=/export2/DATA/HIS/HIS_server/analysis/dwi_data/dti/sub-285/reg/sub-285_nonlinear_T1_transf --premat=/export2/DATA/HIS/HIS_server/analysis/dwi_data/dti/sub-285/reg/sub-285_first_processed_B0_reg_to_native_T1_before.mat --out=/export2/DATA/HIS/HIS_server/analysis/dwi_data/stats/MD/sub-285_first_B0_in-MNI_before\n",
      "\n",
      "applywarp -v --ref=${FSLDIR}/data/standard/MNI152_T1_2mm --in=/export2/DATA/HIS/HIS_server/analysis/dwi_data/dti/sub-285/reg/sub-285_first_processed_B0_after.nii.gz --warp=/export2/DATA/HIS/HIS_server/analysis/dwi_data/dti/sub-285/reg/sub-285_nonlinear_T1_transf --premat=/export2/DATA/HIS/HIS_server/analysis/dwi_data/dti/sub-285/reg/sub-285_first_processed_B0_reg_to_native_T1_after.mat --out=/export2/DATA/HIS/HIS_server/analysis/dwi_data/stats/MD/sub-285_first_B0_in-MNI_after\n",
      "\n"
     ]
    }
   ],
   "source": [
    "# # repeat for the T1and B0 files for QA:\n",
    "# print('> Apply the transformation on the T1 and B0 maps')\n",
    "# # B0:\n",
    "# for subjFolder in subjFoldersDTI:\n",
    "#     for time in ['before', 'after']:\n",
    "#         launch_file_APPLYWARP = os.path.join(launch_files_path, 'APPLYWARP_' + subjFolder + '_' + time + '_B0_launch.txt')\n",
    "\n",
    "#         with open(launch_file_APPLYWARP, 'w') as f:\n",
    "#             applywarp_command_to_run = f\"applywarp -v --ref=${{FSLDIR}}/data/standard/MNI152_T1_2mm --in={os.path.join(dti_path, subjFolder, 'reg',f'{subjFolder}_first_processed_B0_{time}.nii.gz')} --warp={os.path.join(dti_path, subjFolder, 'reg', f'{subjFolder}_nonlinear_T1_transf')} --premat={os.path.join(dti_path, subjFolder, 'reg', f'{subjFolder}_first_processed_B0_reg_to_native_T1_{time}.mat')} --out={os.path.join(stats_path, map_type, f'{subjFolder}_first_B0_in-MNI_{time}')}\\n\"\n",
    "#             print(applywarp_command_to_run)\n",
    "#             f.write(applywarp_command_to_run)\n",
    "#         os.system(f\"launch -s {launch_file_APPLYWARP} -j schonberglab -p {n_cores_TOPUP} -r inf\")    \n",
    "\n",
    "# # T1:\n",
    "# for subjFolder in subjFoldersDTI:\n",
    "#     launch_file_APPLYWARP = os.path.join(launch_files_path, 'APPLYWARP_' + subjFolder + '_T1_launch.txt')\n",
    "#     with open(launch_file_APPLYWARP, 'w') as f:\n",
    "#         applywarp_command_to_run = f\"applywarp -v --ref=${{FSLDIR}}/data/standard/MNI152_T1_2mm --in={os.path.join(dti_path, subjFolder, 'reg',f'{subjFolder}_desc-preproc_T1w.nii.gz')} --warp={os.path.join(dti_path, subjFolder, 'reg', f'{subjFolder}_nonlinear_T1_transf')} --out={os.path.join(stats_path, map_type, f'{subjFolder}_T1_in-MNI')}\\n\"\n",
    "#         print(applywarp_command_to_run)\n",
    "#         f.write(applywarp_command_to_run)\n",
    "#     os.system(f\"launch -s {launch_file_APPLYWARP} -j schonberglab -p {n_cores_TOPUP} -r inf\")    \n"
   ]
  },
  {
   "cell_type": "markdown",
   "metadata": {},
   "source": [
    "# *-*-*-*-*-*-*-*-*-*-*-*-*-*-*-*-*-*-*-*-*-*-*-*-*-*"
   ]
  },
  {
   "cell_type": "markdown",
   "metadata": {},
   "source": [
    "# Statistical Analysis: BETWEEN-GRUOP"
   ]
  },
  {
   "cell_type": "markdown",
   "metadata": {},
   "source": [
    "The analysis is based on this page: https://fsl.fmrib.ox.ac.uk/fsl/fslwiki/GLM#ANOVA:_2-groups.2C_2-levels_per_subject_.282-way_Mixed_Effect_ANOVA.29\n",
    "Specifically:\n",
    "\"Randomise details\n",
    "Due to how the data would need to be permuted, the FEAT model may not be used in randomise. Instead, just as in the paired t-test example, paired differences within-subject would be computed via fslmaths and a two-sample t-test could be used to test whether the run1-run2 difference differed between the two groups.\"\n",
    "\n",
    "Thus the first step (calculating the differenceswithin-subject) is as here: https://fsl.fmrib.ox.ac.uk/fsl/fslwiki/GLM#Single-Group_Paired_Difference_.28Paired_T-Test.29\n",
    "And the second is as here \n"
   ]
  },
  {
   "cell_type": "code",
   "execution_count": 36,
   "metadata": {},
   "outputs": [
    {
     "name": "stdout",
     "output_type": "stream",
     "text": [
      "> Calculate the difference of AFTER minus BEFORE and BEFORE minus AFTER for the MD and FA maps\n"
     ]
    }
   ],
   "source": [
    "print('> Calculate the difference of AFTER minus BEFORE and BEFORE minus AFTER for the MD and FA maps')\n",
    "for subjFolder in subjFoldersDTI:\n",
    "    if not os.path.exists(os.path.join(stats_path, 'MD', f'{subjFolder}_in-MNI_MD_AFTER-minus-BEFORE.nii.gz')) \\\n",
    "    or not os.path.exists(os.path.join(stats_path, 'FA', f'{subjFolder}_in-MNI_FA_AFTER-minus-BEFORE.nii.gz')) \\\n",
    "    or not os.path.exists(os.path.join(stats_path, 'MD', f'{subjFolder}_in-MNI_MD_BEFORE-minus-AFTER.nii.gz')) \\\n",
    "    or not os.path.exists(os.path.join(stats_path, 'FA', f'{subjFolder}_in-MNI_FA_BEFORE-minus-AFTER.nii.gz')):      \n",
    "     \n",
    "        for map_type in ['MD','FA']:          \n",
    "            substraction_command = f\"fslmaths {os.path.join(stats_path, map_type, f'{subjFolder}_in-MNI_{map_type}_after.nii.gz')} -sub {os.path.join(stats_path, map_type, f'{subjFolder}_in-MNI_{map_type}_before.nii.gz')} {os.path.join(stats_path, map_type, f'{subjFolder}_in-MNI_{map_type}_AFTER-minus-BEFORE.nii.gz')}\"\n",
    "            print(substraction_command)\n",
    "            os.system(substraction_command)    \n",
    "            substraction_command2 = f\"fslmaths {os.path.join(stats_path, map_type, f'{subjFolder}_in-MNI_{map_type}_before.nii.gz')} -sub {os.path.join(stats_path, map_type, f'{subjFolder}_in-MNI_{map_type}_after.nii.gz')} {os.path.join(stats_path, map_type, f'{subjFolder}_in-MNI_{map_type}_BEFORE-minus-AFTER.nii.gz')}\"\n",
    "            print(substraction_command2)\n",
    "            os.system(substraction_command2)    "
   ]
  },
  {
   "cell_type": "code",
   "execution_count": 37,
   "metadata": {},
   "outputs": [
    {
     "name": "stdout",
     "output_type": "stream",
     "text": [
      "> Create one file with all subjects of AFTER minus BEFORE and one withh all Before minus AFTER for the MD and FA maps\n",
      "fslmerge -t /export2/DATA/HIS/HIS_server/analysis/dwi_data/stats/MD/ALL_SUBJECTS_AFTER_minus_BEFORE_MD `ls /export2/DATA/HIS/HIS_server/analysis/dwi_data/stats/MD/*in-MNI_MD_AFTER-minus-BEFORE.nii.gz`\n",
      "fslmerge -t /export2/DATA/HIS/HIS_server/analysis/dwi_data/stats/MD/ALL_SUBJECTS_BEFORE_minus_AFTER_MD `ls /export2/DATA/HIS/HIS_server/analysis/dwi_data/stats/MD/*in-MNI_MD_BEFORE-minus-AFTER.nii.gz`\n",
      "fslmerge -t /export2/DATA/HIS/HIS_server/analysis/dwi_data/stats/FA/ALL_SUBJECTS_AFTER_minus_BEFORE_FA `ls /export2/DATA/HIS/HIS_server/analysis/dwi_data/stats/FA/*in-MNI_FA_AFTER-minus-BEFORE.nii.gz`\n",
      "fslmerge -t /export2/DATA/HIS/HIS_server/analysis/dwi_data/stats/FA/ALL_SUBJECTS_BEFORE_minus_AFTER_FA `ls /export2/DATA/HIS/HIS_server/analysis/dwi_data/stats/FA/*in-MNI_FA_BEFORE-minus-AFTER.nii.gz`\n"
     ]
    }
   ],
   "source": [
    "print('> Create one file with all subjects of AFTER minus BEFORE and one withh all Before minus AFTER for the MD and FA maps')\n",
    "for map_type in ['MD','FA']:          \n",
    "    print(f\"fslmerge -t {os.path.join(stats_path, map_type, f'ALL_SUBJECTS_AFTER_minus_BEFORE_{map_type}')} `ls {os.path.join(stats_path, map_type, f'*in-MNI_{map_type}_AFTER-minus-BEFORE.nii.gz')}`\")\n",
    "    os.system(f\"fslmerge -t {os.path.join(stats_path, map_type, f'ALL_SUBJECTS_AFTER_minus_BEFORE_{map_type}')} `ls {os.path.join(stats_path, map_type, f'*in-MNI_{map_type}_AFTER-minus-BEFORE.nii.gz')}`\")\n",
    "    print(f\"fslmerge -t {os.path.join(stats_path, map_type, f'ALL_SUBJECTS_BEFORE_minus_AFTER_{map_type}')} `ls {os.path.join(stats_path, map_type, f'*in-MNI_{map_type}_BEFORE-minus-AFTER.nii.gz')}`\")\n",
    "    os.system(f\"fslmerge -t {os.path.join(stats_path, map_type, f'ALL_SUBJECTS_BEFORE_minus_AFTER_{map_type}')} `ls {os.path.join(stats_path, map_type, f'*in-MNI_{map_type}_BEFORE-minus-AFTER.nii.gz')}`\")"
   ]
  },
  {
   "cell_type": "code",
   "execution_count": 39,
   "metadata": {},
   "outputs": [
    {
     "name": "stdout",
     "output_type": "stream",
     "text": [
      "> Create the between group design matrix (of the calculated differences) - same is unpaired t-test (on the after-before differences)\n",
      "design_ttest2 /export2/DATA/HIS/HIS_server/analysis/dwi_data/stats/models/between_groups/design_unpaired_ttest 61 60\n"
     ]
    },
    {
     "data": {
      "text/plain": [
       "0"
      ]
     },
     "execution_count": 39,
     "metadata": {},
     "output_type": "execute_result"
    }
   ],
   "source": [
    "print('> Create the between group design matrix (of the calculated differences) - same is unpaired t-test (on the after-before differences)')\n",
    "# create the folder\n",
    "try:\n",
    "    os.makedirs(os.path.join(models_path, 'between_groups'), exist_ok=False)\n",
    "    print('>> Created folder: ' + os.path.join(models_path, 'between_groups'))\n",
    "except:\n",
    "    pass\n",
    "\n",
    "#create the design matrix and contrasts:\n",
    "N_1_day_group = len(set([sub for sub in subjFoldersDTI if int(sub.split('-')[-1])<200]))\n",
    "N_3_day_group = len(set([sub for sub in subjFoldersDTI if int(sub.split('-')[-1])>200]))\n",
    "\n",
    "print(f\"design_ttest2 {os.path.join(models_path, 'between_groups','design_unpaired_ttest')} {N_1_day_group} {N_3_day_group}\")\n",
    "os.system(f\"design_ttest2 {os.path.join(models_path, 'between_groups','design_unpaired_ttest')} {N_1_day_group} {N_3_day_group}\")"
   ]
  },
  {
   "cell_type": "markdown",
   "metadata": {},
   "source": [
    "### Settings"
   ]
  },
  {
   "cell_type": "code",
   "execution_count": 18,
   "metadata": {},
   "outputs": [],
   "source": [
    "# a function to run randomise for the between-group analyses:\n",
    "def runRandomiseGroupAnalysis(map_type, region):\n",
    "    print(f'Running randomise for between-groups analysis:\\n--- {map_type} | {region} ---\\n')\n",
    "    #print(f'MAKE SURE TO REPLACE IN THE FUNCTION THE the print to os.system before running the command !!!\\n')\n",
    "    os.system(f\"randomise_parallel \\\n",
    "        -i {os.path.join(stats_path, map_type, f'ALL_SUBJECTS_AFTER_minus_BEFORE_{map_type}')} \\\n",
    "        -o {os.path.join(stats_path, map_type, f'ALL_SUBJECTS_AFTER_minus_BEFORE_{map_type}_{region}')} \\\n",
    "        {'' if region=='whole_brain' else f'-m {masks_paths[region]}'} \\\n",
    "        -d {os.path.join(stats_path, 'models', 'between_groups', f'design_unpaired_ttest.mat')} \\\n",
    "        -t {os.path.join(stats_path, 'models', 'between_groups', f'design_unpaired_ttest.con')}  \\\n",
    "        -n 6000 -C 3.1\")\n",
    "\n",
    "\n",
    "# Get cluster info:\n",
    "def getClusterInfoGroupAnalysis(map_type, region, ReversedSigThresh='0.90'):\n",
    "    print(f'Testing stats for between-group analysis:\\n--- {map_type} | {region} ---\\n')\n",
    "    print(f'Test 1-Day > 3-Day\\n')\n",
    "    # * Increase in FA in the 1-day relatvie to the 3-days (or a decrease in the 3-day...)\n",
    "    print(os.popen(f'cluster \\\n",
    "        -i {os.path.join(stats_path, map_type, f\"ALL_SUBJECTS_AFTER_minus_BEFORE_{map_type}_{region}_clusterm_corrp_tstat1.nii.gz\")} \\\n",
    "        -c {os.path.join(stats_path, map_type, f\"ALL_SUBJECTS_AFTER_minus_BEFORE_{map_type}_{region}_tstat1.nii.gz\")}\\\n",
    "        -t {ReversedSigThresh} \\\n",
    "        --scalarname=corrp' + '\"1-p\"').read())\n",
    "\n",
    "    print(f'3-Day > 1-Day\\n')\n",
    "    # * Increase in FA in the 3-day relatvie to the 1-days (or a decrease in the 1-day...)\n",
    "    print(os.popen(f'cluster \\\n",
    "        -i {os.path.join(stats_path, map_type, f\"ALL_SUBJECTS_AFTER_minus_BEFORE_{map_type}_{region}_clusterm_corrp_tstat2.nii.gz\")} \\\n",
    "        -c {os.path.join(stats_path, map_type, f\"ALL_SUBJECTS_AFTER_minus_BEFORE_{map_type}_{region}_tstat2.nii.gz\")}\\\n",
    "        -t {ReversedSigThresh} \\\n",
    "        --scalarname=corrp' + '\"1-p\"').read())\n"
   ]
  },
  {
   "cell_type": "markdown",
   "metadata": {},
   "source": [
    "## Run the analyses analyses (through the terminal)"
   ]
  },
  {
   "cell_type": "markdown",
   "metadata": {},
   "source": [
    "### NOTE:\n",
    "* Contrast of group means are meaningeless, I think, with randomize (because to check this a paired t-test should be done exchanging before and after and it's not what is done here)"
   ]
  },
  {
   "cell_type": "markdown",
   "metadata": {},
   "source": [
    "### Whole brain - FA"
   ]
  },
  {
   "cell_type": "code",
   "execution_count": 19,
   "metadata": {},
   "outputs": [],
   "source": [
    "map_type='FA'\n",
    "region='whole_brain'"
   ]
  },
  {
   "cell_type": "code",
   "execution_count": 45,
   "metadata": {},
   "outputs": [
    {
     "name": "stdout",
     "output_type": "stream",
     "text": [
      "Running randomise for between-groups analysis:\n",
      "--- FA | whole_brain ---\n",
      "\n"
     ]
    }
   ],
   "source": [
    "runRandomiseGroupAnalysis(map_type, region)"
   ]
  },
  {
   "cell_type": "code",
   "execution_count": 20,
   "metadata": {},
   "outputs": [
    {
     "name": "stdout",
     "output_type": "stream",
     "text": [
      "Testing stats for between-group analysis:\n",
      "--- FA | whole_brain ---\n",
      "\n",
      "Test 1-Day > 3-Day\n",
      "\n",
      "Cluster Index\tVoxels\tcorrp1-p-MAX\tcorrp1-p-MAX X (vox)\tcorrp1-p-MAX Y (vox)\tcorrp1-p-MAX Z (vox)\tcorrp1-p-COG X (vox)\tcorrp1-p-COG Y (vox)\tcorrp1-p-COG Z (vox)\tCOPE-MAX\tCOPE-MAX X (vox)\tCOPE-MAX Y (vox)\tCOPE-MAX Z (vox)\tCOPE-MEAN\n",
      "1\t7\t0.906\t74\t60\t14\t74.6\t59.6\t15\t4.42\t74\t60\t15\t3.61\n",
      "\n",
      "3-Day > 1-Day\n",
      "\n",
      "Cluster Index\tVoxels\tcorrp1-p-MAX\tcorrp1-p-MAX X (vox)\tcorrp1-p-MAX Y (vox)\tcorrp1-p-MAX Z (vox)\tcorrp1-p-COG X (vox)\tcorrp1-p-COG Y (vox)\tcorrp1-p-COG Z (vox)\tCOPE-MAX\tCOPE-MAX X (vox)\tCOPE-MAX Y (vox)\tCOPE-MAX Z (vox)\tCOPE-MEAN\n",
      "\n"
     ]
    }
   ],
   "source": [
    "# Get cluster info:\n",
    "getClusterInfoGroupAnalysis(map_type, region, ReversedSigThresh='0.90')"
   ]
  },
  {
   "cell_type": "markdown",
   "metadata": {},
   "source": [
    ">>>>> RESULT: NOTHIING"
   ]
  },
  {
   "cell_type": "markdown",
   "metadata": {},
   "source": [
    "### Putamen - FA"
   ]
  },
  {
   "cell_type": "code",
   "execution_count": 21,
   "metadata": {},
   "outputs": [],
   "source": [
    "region='Putamen'"
   ]
  },
  {
   "cell_type": "code",
   "execution_count": 48,
   "metadata": {},
   "outputs": [
    {
     "name": "stdout",
     "output_type": "stream",
     "text": [
      "Running randomise for between-groups analysis:\n",
      "--- FA | Putamen ---\n",
      "\n"
     ]
    }
   ],
   "source": [
    "runRandomiseGroupAnalysis(map_type, region)"
   ]
  },
  {
   "cell_type": "code",
   "execution_count": 22,
   "metadata": {},
   "outputs": [
    {
     "name": "stdout",
     "output_type": "stream",
     "text": [
      "Testing stats for between-group analysis:\n",
      "--- FA | Putamen ---\n",
      "\n",
      "Test 1-Day > 3-Day\n",
      "\n",
      "Cluster Index\tVoxels\tcorrp1-p-MAX\tcorrp1-p-MAX X (vox)\tcorrp1-p-MAX Y (vox)\tcorrp1-p-MAX Z (vox)\tcorrp1-p-COG X (vox)\tcorrp1-p-COG Y (vox)\tcorrp1-p-COG Z (vox)\tCOPE-MAX\tCOPE-MAX X (vox)\tCOPE-MAX Y (vox)\tCOPE-MAX Z (vox)\tCOPE-MEAN\n",
      "\n",
      "3-Day > 1-Day\n",
      "\n",
      "Cluster Index\tVoxels\tcorrp1-p-MAX\tcorrp1-p-MAX X (vox)\tcorrp1-p-MAX Y (vox)\tcorrp1-p-MAX Z (vox)\tcorrp1-p-COG X (vox)\tcorrp1-p-COG Y (vox)\tcorrp1-p-COG Z (vox)\tCOPE-MAX\tCOPE-MAX X (vox)\tCOPE-MAX Y (vox)\tCOPE-MAX Z (vox)\tCOPE-MEAN\n",
      "\n"
     ]
    }
   ],
   "source": [
    "# Get cluster info:\n",
    "getClusterInfoGroupAnalysis(map_type, region, ReversedSigThresh='0.90')"
   ]
  },
  {
   "cell_type": "markdown",
   "metadata": {},
   "source": [
    ">>>>> RESULT: NOTHIING"
   ]
  },
  {
   "cell_type": "markdown",
   "metadata": {},
   "source": [
    "### Caudate - FA"
   ]
  },
  {
   "cell_type": "code",
   "execution_count": 23,
   "metadata": {},
   "outputs": [],
   "source": [
    "region='Caudate'"
   ]
  },
  {
   "cell_type": "code",
   "execution_count": 51,
   "metadata": {},
   "outputs": [
    {
     "name": "stdout",
     "output_type": "stream",
     "text": [
      "Running randomise for between-groups analysis:\n",
      "--- FA | Caudate ---\n",
      "\n"
     ]
    }
   ],
   "source": [
    "runRandomiseGroupAnalysis(map_type, region)"
   ]
  },
  {
   "cell_type": "code",
   "execution_count": 24,
   "metadata": {},
   "outputs": [
    {
     "name": "stdout",
     "output_type": "stream",
     "text": [
      "Testing stats for between-group analysis:\n",
      "--- FA | Caudate ---\n",
      "\n",
      "Test 1-Day > 3-Day\n",
      "\n",
      "Cluster Index\tVoxels\tcorrp1-p-MAX\tcorrp1-p-MAX X (vox)\tcorrp1-p-MAX Y (vox)\tcorrp1-p-MAX Z (vox)\tcorrp1-p-COG X (vox)\tcorrp1-p-COG Y (vox)\tcorrp1-p-COG Z (vox)\tCOPE-MAX\tCOPE-MAX X (vox)\tCOPE-MAX Y (vox)\tCOPE-MAX Z (vox)\tCOPE-MEAN\n",
      "\n",
      "3-Day > 1-Day\n",
      "\n",
      "Cluster Index\tVoxels\tcorrp1-p-MAX\tcorrp1-p-MAX X (vox)\tcorrp1-p-MAX Y (vox)\tcorrp1-p-MAX Z (vox)\tcorrp1-p-COG X (vox)\tcorrp1-p-COG Y (vox)\tcorrp1-p-COG Z (vox)\tCOPE-MAX\tCOPE-MAX X (vox)\tCOPE-MAX Y (vox)\tCOPE-MAX Z (vox)\tCOPE-MEAN\n",
      "\n"
     ]
    }
   ],
   "source": [
    "# Get cluster info:\n",
    "getClusterInfoGroupAnalysis(map_type, region, ReversedSigThresh='0.90')"
   ]
  },
  {
   "cell_type": "markdown",
   "metadata": {},
   "source": [
    ">>>>> RESULT: NOTHIING"
   ]
  },
  {
   "cell_type": "markdown",
   "metadata": {},
   "source": [
    "### vmPFC - FA"
   ]
  },
  {
   "cell_type": "code",
   "execution_count": 25,
   "metadata": {},
   "outputs": [],
   "source": [
    "region='vmPFC'"
   ]
  },
  {
   "cell_type": "code",
   "execution_count": 54,
   "metadata": {},
   "outputs": [
    {
     "name": "stdout",
     "output_type": "stream",
     "text": [
      "Running randomise for between-groups analysis:\n",
      "--- FA | vmPFC ---\n",
      "\n"
     ]
    }
   ],
   "source": [
    "runRandomiseGroupAnalysis(map_type, region)"
   ]
  },
  {
   "cell_type": "code",
   "execution_count": 26,
   "metadata": {},
   "outputs": [
    {
     "name": "stdout",
     "output_type": "stream",
     "text": [
      "Testing stats for between-group analysis:\n",
      "--- FA | vmPFC ---\n",
      "\n",
      "Test 1-Day > 3-Day\n",
      "\n",
      "Cluster Index\tVoxels\tcorrp1-p-MAX\tcorrp1-p-MAX X (vox)\tcorrp1-p-MAX Y (vox)\tcorrp1-p-MAX Z (vox)\tcorrp1-p-COG X (vox)\tcorrp1-p-COG Y (vox)\tcorrp1-p-COG Z (vox)\tCOPE-MAX\tCOPE-MAX X (vox)\tCOPE-MAX Y (vox)\tCOPE-MAX Z (vox)\tCOPE-MEAN\n",
      "\n",
      "3-Day > 1-Day\n",
      "\n",
      "Cluster Index\tVoxels\tcorrp1-p-MAX\tcorrp1-p-MAX X (vox)\tcorrp1-p-MAX Y (vox)\tcorrp1-p-MAX Z (vox)\tcorrp1-p-COG X (vox)\tcorrp1-p-COG Y (vox)\tcorrp1-p-COG Z (vox)\tCOPE-MAX\tCOPE-MAX X (vox)\tCOPE-MAX Y (vox)\tCOPE-MAX Z (vox)\tCOPE-MEAN\n",
      "\n"
     ]
    }
   ],
   "source": [
    "# Get cluster info:\n",
    "getClusterInfoGroupAnalysis(map_type, region, ReversedSigThresh='0.90')"
   ]
  },
  {
   "cell_type": "markdown",
   "metadata": {},
   "source": [
    ">>>>> RESULTS: NOTHING"
   ]
  },
  {
   "cell_type": "markdown",
   "metadata": {},
   "source": [
    "### Whole brain - MD"
   ]
  },
  {
   "cell_type": "code",
   "execution_count": 27,
   "metadata": {},
   "outputs": [],
   "source": [
    "map_type='MD'\n",
    "region='whole_brain'"
   ]
  },
  {
   "cell_type": "code",
   "execution_count": 57,
   "metadata": {},
   "outputs": [
    {
     "name": "stdout",
     "output_type": "stream",
     "text": [
      "Running randomise for between-groups analysis:\n",
      "--- MD | whole_brain ---\n",
      "\n"
     ]
    }
   ],
   "source": [
    "runRandomiseGroupAnalysis(map_type, region)"
   ]
  },
  {
   "cell_type": "code",
   "execution_count": 28,
   "metadata": {},
   "outputs": [
    {
     "name": "stdout",
     "output_type": "stream",
     "text": [
      "Testing stats for between-group analysis:\n",
      "--- MD | whole_brain ---\n",
      "\n",
      "Test 1-Day > 3-Day\n",
      "\n",
      "Cluster Index\tVoxels\tcorrp1-p-MAX\tcorrp1-p-MAX X (vox)\tcorrp1-p-MAX Y (vox)\tcorrp1-p-MAX Z (vox)\tcorrp1-p-COG X (vox)\tcorrp1-p-COG Y (vox)\tcorrp1-p-COG Z (vox)\tCOPE-MAX\tCOPE-MAX X (vox)\tCOPE-MAX Y (vox)\tCOPE-MAX Z (vox)\tCOPE-MEAN\n",
      "\n",
      "3-Day > 1-Day\n",
      "\n",
      "Cluster Index\tVoxels\tcorrp1-p-MAX\tcorrp1-p-MAX X (vox)\tcorrp1-p-MAX Y (vox)\tcorrp1-p-MAX Z (vox)\tcorrp1-p-COG X (vox)\tcorrp1-p-COG Y (vox)\tcorrp1-p-COG Z (vox)\tCOPE-MAX\tCOPE-MAX X (vox)\tCOPE-MAX Y (vox)\tCOPE-MAX Z (vox)\tCOPE-MEAN\n",
      "\n"
     ]
    }
   ],
   "source": [
    "# Get cluster info:\n",
    "getClusterInfoGroupAnalysis(map_type, region, ReversedSigThresh='0.90')"
   ]
  },
  {
   "cell_type": "markdown",
   "metadata": {},
   "source": [
    ">>>>> RESULT: NOTHING"
   ]
  },
  {
   "cell_type": "markdown",
   "metadata": {},
   "source": [
    "### Putamen - MD"
   ]
  },
  {
   "cell_type": "code",
   "execution_count": 29,
   "metadata": {},
   "outputs": [],
   "source": [
    "region='Putamen'"
   ]
  },
  {
   "cell_type": "code",
   "execution_count": 60,
   "metadata": {},
   "outputs": [
    {
     "name": "stdout",
     "output_type": "stream",
     "text": [
      "Running randomise for between-groups analysis:\n",
      "--- MD | Putamen ---\n",
      "\n"
     ]
    }
   ],
   "source": [
    "runRandomiseGroupAnalysis(map_type, region)"
   ]
  },
  {
   "cell_type": "code",
   "execution_count": 30,
   "metadata": {},
   "outputs": [
    {
     "name": "stdout",
     "output_type": "stream",
     "text": [
      "Testing stats for between-group analysis:\n",
      "--- MD | Putamen ---\n",
      "\n",
      "Test 1-Day > 3-Day\n",
      "\n",
      "Cluster Index\tVoxels\tcorrp1-p-MAX\tcorrp1-p-MAX X (vox)\tcorrp1-p-MAX Y (vox)\tcorrp1-p-MAX Z (vox)\tcorrp1-p-COG X (vox)\tcorrp1-p-COG Y (vox)\tcorrp1-p-COG Z (vox)\tCOPE-MAX\tCOPE-MAX X (vox)\tCOPE-MAX Y (vox)\tCOPE-MAX Z (vox)\tCOPE-MEAN\n",
      "\n",
      "3-Day > 1-Day\n",
      "\n",
      "Cluster Index\tVoxels\tcorrp1-p-MAX\tcorrp1-p-MAX X (vox)\tcorrp1-p-MAX Y (vox)\tcorrp1-p-MAX Z (vox)\tcorrp1-p-COG X (vox)\tcorrp1-p-COG Y (vox)\tcorrp1-p-COG Z (vox)\tCOPE-MAX\tCOPE-MAX X (vox)\tCOPE-MAX Y (vox)\tCOPE-MAX Z (vox)\tCOPE-MEAN\n",
      "\n"
     ]
    }
   ],
   "source": [
    "# Get cluster info:\n",
    "getClusterInfoGroupAnalysis(map_type, region, ReversedSigThresh='0.90')"
   ]
  },
  {
   "cell_type": "markdown",
   "metadata": {},
   "source": [
    ">>>>> RESULT: NOTHING"
   ]
  },
  {
   "cell_type": "markdown",
   "metadata": {},
   "source": [
    "### Caudate - MD"
   ]
  },
  {
   "cell_type": "code",
   "execution_count": 31,
   "metadata": {},
   "outputs": [],
   "source": [
    "region='Caudate'"
   ]
  },
  {
   "cell_type": "code",
   "execution_count": 63,
   "metadata": {},
   "outputs": [
    {
     "name": "stdout",
     "output_type": "stream",
     "text": [
      "Running randomise for between-groups analysis:\n",
      "--- MD | Caudate ---\n",
      "\n"
     ]
    }
   ],
   "source": [
    "runRandomiseGroupAnalysis(map_type, region)"
   ]
  },
  {
   "cell_type": "code",
   "execution_count": 33,
   "metadata": {},
   "outputs": [
    {
     "name": "stdout",
     "output_type": "stream",
     "text": [
      "Testing stats for between-group analysis:\n",
      "--- MD | Caudate ---\n",
      "\n",
      "Test 1-Day > 3-Day\n",
      "\n",
      "Cluster Index\tVoxels\tcorrp1-p-MAX\tcorrp1-p-MAX X (vox)\tcorrp1-p-MAX Y (vox)\tcorrp1-p-MAX Z (vox)\tcorrp1-p-COG X (vox)\tcorrp1-p-COG Y (vox)\tcorrp1-p-COG Z (vox)\tCOPE-MAX\tCOPE-MAX X (vox)\tCOPE-MAX Y (vox)\tCOPE-MAX Z (vox)\tCOPE-MEAN\n",
      "\n",
      "3-Day > 1-Day\n",
      "\n",
      "Cluster Index\tVoxels\tcorrp1-p-MAX\tcorrp1-p-MAX X (vox)\tcorrp1-p-MAX Y (vox)\tcorrp1-p-MAX Z (vox)\tcorrp1-p-COG X (vox)\tcorrp1-p-COG Y (vox)\tcorrp1-p-COG Z (vox)\tCOPE-MAX\tCOPE-MAX X (vox)\tCOPE-MAX Y (vox)\tCOPE-MAX Z (vox)\tCOPE-MEAN\n",
      "1\t3\t0.924\t49\t73\t36\t49\t73\t37\t3.59\t49\t73\t37\t3.51\n",
      "\n"
     ]
    }
   ],
   "source": [
    "# Get cluster info:\n",
    "getClusterInfoGroupAnalysis(map_type, region, ReversedSigThresh='0.90')"
   ]
  },
  {
   "cell_type": "markdown",
   "metadata": {},
   "source": [
    ">>>>> RESULTS:\n",
    "There is a marginally signficant increase cluster in the Head of Caudate meaning more reduction in the 1-day group(!) or decrease in the 3-days. Maybe again there is something temporary!\n",
    "\n",
    "I need to check what drives this\n"
   ]
  },
  {
   "cell_type": "markdown",
   "metadata": {},
   "source": [
    "### vmPFC - MD"
   ]
  },
  {
   "cell_type": "code",
   "execution_count": 34,
   "metadata": {},
   "outputs": [],
   "source": [
    "region='vmPFC'"
   ]
  },
  {
   "cell_type": "code",
   "execution_count": 66,
   "metadata": {},
   "outputs": [
    {
     "name": "stdout",
     "output_type": "stream",
     "text": [
      "Running randomise for between-groups analysis:\n",
      "--- MD | vmPFC ---\n",
      "\n"
     ]
    }
   ],
   "source": [
    "runRandomiseGroupAnalysis(map_type, region)"
   ]
  },
  {
   "cell_type": "code",
   "execution_count": 35,
   "metadata": {},
   "outputs": [
    {
     "name": "stdout",
     "output_type": "stream",
     "text": [
      "Testing stats for between-group analysis:\n",
      "--- MD | vmPFC ---\n",
      "\n",
      "Test 1-Day > 3-Day\n",
      "\n",
      "Cluster Index\tVoxels\tcorrp1-p-MAX\tcorrp1-p-MAX X (vox)\tcorrp1-p-MAX Y (vox)\tcorrp1-p-MAX Z (vox)\tcorrp1-p-COG X (vox)\tcorrp1-p-COG Y (vox)\tcorrp1-p-COG Z (vox)\tCOPE-MAX\tCOPE-MAX X (vox)\tCOPE-MAX Y (vox)\tCOPE-MAX Z (vox)\tCOPE-MEAN\n",
      "\n",
      "3-Day > 1-Day\n",
      "\n",
      "Cluster Index\tVoxels\tcorrp1-p-MAX\tcorrp1-p-MAX X (vox)\tcorrp1-p-MAX Y (vox)\tcorrp1-p-MAX Z (vox)\tcorrp1-p-COG X (vox)\tcorrp1-p-COG Y (vox)\tcorrp1-p-COG Z (vox)\tCOPE-MAX\tCOPE-MAX X (vox)\tCOPE-MAX Y (vox)\tCOPE-MAX Z (vox)\tCOPE-MEAN\n",
      "1\t6\t0.991\t42\t78\t32\t41.8\t78.8\t32.5\t4.36\t42\t79\t32\t3.65\n",
      "\n"
     ]
    }
   ],
   "source": [
    "# Get cluster info:\n",
    "getClusterInfoGroupAnalysis(map_type, region, ReversedSigThresh='0.90')"
   ]
  },
  {
   "cell_type": "markdown",
   "metadata": {},
   "source": [
    ">>>>> RESULTS:\n",
    "There is a signficant increase cluster in the right vmPFC (mainly in the ACC) meaning more reduction in the 1-day group(!) or decrease in the 3-days. Maybe again there is something temporary!\n",
    "\n",
    "I need to check what drives this: both increase here and decrease threre...\n"
   ]
  },
  {
   "cell_type": "markdown",
   "metadata": {},
   "source": [
    "# *-*-*-*-*-*-*-*-*-*-*-*-*-*-*-*-*-*-*-*-*-*-*-*-*-*"
   ]
  },
  {
   "cell_type": "markdown",
   "metadata": {},
   "source": [
    "# Statistics - individual differences"
   ]
  },
  {
   "cell_type": "markdown",
   "metadata": {},
   "source": [
    "### Create the habit index csv file (by running a dedicated matlab folder)\n"
   ]
  },
  {
   "cell_type": "code",
   "execution_count": 68,
   "metadata": {},
   "outputs": [
    {
     "name": "stdout",
     "output_type": "stream",
     "text": [
      "MATLAB is selecting SOFTWARE OPENGL rendering.\n",
      "\u001b[?1h\u001b=\n",
      "                            < M A T L A B (R) >\n",
      "                  Copyright 1984-2020 The MathWorks, Inc.\n",
      "                  R2020a (9.8.0.1323502) 64-bit (glnxa64)\n",
      "                             February 25, 2020\n",
      "\n",
      " \n",
      "To get started, type doc.\n",
      "For product information, visit www.mathworks.com.\n",
      " \n",
      "** CREATED new habit index file **\n",
      "\u001b[?1l\u001b>"
     ]
    }
   ],
   "source": [
    "# Create the habit index csv file (by running a dedicated matlab folder)\n",
    "!matlab -nodesktop -nosplash -r \"run('/export2/DATA/HIS/HIS_server/codes/create_HABIT_INDEX_table')\";"
   ]
  },
  {
   "cell_type": "markdown",
   "metadata": {},
   "source": [
    "### Prepare and arrange the behavioral data and DTI folder data for all together and for each group seperately"
   ]
  },
  {
   "cell_type": "code",
   "execution_count": 380,
   "metadata": {},
   "outputs": [],
   "source": [
    "# First, create subjects list folder for each group:\n",
    "subjFoldersDTI_short = [sub for sub in subjFoldersDTI if int(sub.split('-')[-1])<200]\n",
    "subjFoldersDTI_long = [sub for sub in subjFoldersDTI if int(sub.split('-')[-1])>200]\n",
    "\n",
    "# Get the behavioral data:\n",
    "behav_all = pd.read_csv(os.path.join(behav_data_path, 'habitIndex_ALL.csv'))\n",
    "# remove subjects that don't have DTI data\n",
    "absent_from_DTI_data = [sub for sub in behav_all.subID if 'sub-' + str(sub) not in subjFoldersDTI]\n",
    "behav_all = behav_all[~behav_all.subID.isin(absent_from_DTI_data)]\n",
    "# now make sure that subject lists are matching:\n",
    "if not ['sub-' + str(sub) for sub in behav_all.subID] == subjFoldersDTI:\n",
    "    raise Exception('Subject lists are not matching')\n",
    "\n",
    "# Repeat for the long training groups:\n",
    "behav_long = pd.read_csv(os.path.join(behav_data_path, 'habitIndex_LONG.csv'))\n",
    "# remove subjects that don't have DTI data\n",
    "absent_from_DTI_data = [sub for sub in behav_long.subID if 'sub-' + str(sub) not in subjFoldersDTI_long]\n",
    "behav_long = behav_long[~behav_long.subID.isin(absent_from_DTI_data)]\n",
    "# now make sure that subject lists are matching:\n",
    "if not ['sub-' + str(sub) for sub in behav_long.subID] == subjFoldersDTI_long:\n",
    "    raise Exception('Subject lists are not matching')\n",
    "    \n",
    "# Repeat for the short training groups:\n",
    "behav_short = pd.read_csv(os.path.join(behav_data_path, 'habitIndex_SHORT.csv'))\n",
    "# remove subjects that don't have DTI data\n",
    "absent_from_DTI_data = [sub for sub in behav_short.subID if 'sub-' + str(sub) not in subjFoldersDTI_short]\n",
    "behav_short = behav_short[~behav_short.subID.isin(absent_from_DTI_data)]\n",
    "# now make sure that subject lists are matching:\n",
    "if not ['sub-' + str(sub) for sub in behav_short.subID] == subjFoldersDTI_short:\n",
    "    raise Exception('Subject lists are not matching')\n",
    "\n"
   ]
  },
  {
   "cell_type": "markdown",
   "metadata": {},
   "source": [
    "### prepare the design matrix"
   ]
  },
  {
   "cell_type": "code",
   "execution_count": 70,
   "metadata": {},
   "outputs": [
    {
     "name": "stdout",
     "output_type": "stream",
     "text": [
      "> Create the individual differences design matrix\n",
      "Text2Vest /export2/DATA/HIS/HIS_server/analysis/dwi_data/stats/models/individual_differences/design_indivdual_diff_LONG_temp.mat /export2/DATA/HIS/HIS_server/analysis/dwi_data/stats/models/individual_differences/design_indivdual_diff_LONG.mat\n",
      "Text2Vest /export2/DATA/HIS/HIS_server/analysis/dwi_data/stats/models/individual_differences/design_indivdual_diff_SHORT_temp.mat /export2/DATA/HIS/HIS_server/analysis/dwi_data/stats/models/individual_differences/design_indivdual_diff_SHORT.mat\n",
      "Text2Vest /export2/DATA/HIS/HIS_server/analysis/dwi_data/stats/models/individual_differences/design_indivdual_diff_temp.mat /export2/DATA/HIS/HIS_server/analysis/dwi_data/stats/models/individual_differences/design_indivdual_diff.con\n"
     ]
    }
   ],
   "source": [
    "print('> Create the individual differences design matrix')\n",
    "# define file names:\n",
    "design_indiv_diff_LONG = os.path.join(models_path, 'individual_differences', 'design_indivdual_diff_LONG.mat')\n",
    "design_indiv_diff_SHORT = os.path.join(models_path, 'individual_differences', 'design_indivdual_diff_SHORT.mat')\n",
    "contrasts_indiv_diff = os.path.join(models_path, 'individual_differences', 'design_indivdual_diff.con')\n",
    "\n",
    "# create the folder\n",
    "try:\n",
    "    os.makedirs(os.path.join(models_path, 'individual_differences'), exist_ok=False)\n",
    "    print('>> Created folder: ' + os.path.join(models_path, 'individual_differences'))\n",
    "except:\n",
    "    pass\n",
    "\n",
    "# write the design matrix files:\n",
    "behav_long.habit_index_mean_centered.to_csv(f\"{design_indiv_diff_LONG.split('.')[0]}_temp.mat\", index=False, header=False)\n",
    "behav_short.habit_index_mean_centered.to_csv(f\"{design_indiv_diff_SHORT.split('.')[0]}_temp.mat\", index=False, header=False)\n",
    "\n",
    "# write the contrast file:\n",
    "with open(f\"{contrasts_indiv_diff.split('.')[0]}_temp.mat\", 'w') as f:\n",
    "    f.write('1\\n-1\\n')\n",
    "\n",
    "# use the fsl command Text2Vect to make the design files good for randomise:\n",
    "print(f\"Text2Vest {design_indiv_diff_LONG.split('.')[0]}_temp.mat {design_indiv_diff_LONG}\")\n",
    "os.system(f\"Text2Vest {design_indiv_diff_LONG.split('.')[0]}_temp.mat {design_indiv_diff_LONG}\")\n",
    "print(f\"Text2Vest {design_indiv_diff_SHORT.split('.')[0]}_temp.mat {design_indiv_diff_SHORT}\")\n",
    "os.system(f\"Text2Vest {design_indiv_diff_SHORT.split('.')[0]}_temp.mat {design_indiv_diff_SHORT}\")\n",
    "print(f\"Text2Vest {contrasts_indiv_diff.split('.')[0]}_temp.mat {contrasts_indiv_diff}\")\n",
    "os.system(f\"Text2Vest {contrasts_indiv_diff.split('.')[0]}_temp.mat {contrasts_indiv_diff}\")\n",
    "\n",
    "# finally, remove the temporary files:\n",
    "os.remove(f\"{design_indiv_diff_LONG.split('.')[0]}_temp.mat\")\n",
    "os.remove(f\"{design_indiv_diff_SHORT.split('.')[0]}_temp.mat\")\n",
    "os.remove(f\"{contrasts_indiv_diff.split('.')[0]}_temp.mat\")"
   ]
  },
  {
   "cell_type": "markdown",
   "metadata": {},
   "source": [
    "### Create one file with each group's participants together"
   ]
  },
  {
   "cell_type": "code",
   "execution_count": 71,
   "metadata": {},
   "outputs": [
    {
     "name": "stdout",
     "output_type": "stream",
     "text": [
      "fslmerge -t /export2/DATA/HIS/HIS_server/analysis/dwi_data/stats/MD/LONG_individualDiff_AFTER_minus_BEFORE_MD /export2/DATA/HIS/HIS_server/analysis/dwi_data/stats/MD/sub-204_in-MNI_MD_AFTER-minus-BEFORE.nii.gz /export2/DATA/HIS/HIS_server/analysis/dwi_data/stats/MD/sub-205_in-MNI_MD_AFTER-minus-BEFORE.nii.gz /export2/DATA/HIS/HIS_server/analysis/dwi_data/stats/MD/sub-207_in-MNI_MD_AFTER-minus-BEFORE.nii.gz /export2/DATA/HIS/HIS_server/analysis/dwi_data/stats/MD/sub-208_in-MNI_MD_AFTER-minus-BEFORE.nii.gz /export2/DATA/HIS/HIS_server/analysis/dwi_data/stats/MD/sub-209_in-MNI_MD_AFTER-minus-BEFORE.nii.gz /export2/DATA/HIS/HIS_server/analysis/dwi_data/stats/MD/sub-210_in-MNI_MD_AFTER-minus-BEFORE.nii.gz /export2/DATA/HIS/HIS_server/analysis/dwi_data/stats/MD/sub-212_in-MNI_MD_AFTER-minus-BEFORE.nii.gz /export2/DATA/HIS/HIS_server/analysis/dwi_data/stats/MD/sub-214_in-MNI_MD_AFTER-minus-BEFORE.nii.gz /export2/DATA/HIS/HIS_server/analysis/dwi_data/stats/MD/sub-215_in-MNI_MD_AFTER-minus-BEFORE.nii.gz /export2/DATA/HIS/HIS_server/analysis/dwi_data/stats/MD/sub-217_in-MNI_MD_AFTER-minus-BEFORE.nii.gz /export2/DATA/HIS/HIS_server/analysis/dwi_data/stats/MD/sub-218_in-MNI_MD_AFTER-minus-BEFORE.nii.gz /export2/DATA/HIS/HIS_server/analysis/dwi_data/stats/MD/sub-220_in-MNI_MD_AFTER-minus-BEFORE.nii.gz /export2/DATA/HIS/HIS_server/analysis/dwi_data/stats/MD/sub-221_in-MNI_MD_AFTER-minus-BEFORE.nii.gz /export2/DATA/HIS/HIS_server/analysis/dwi_data/stats/MD/sub-223_in-MNI_MD_AFTER-minus-BEFORE.nii.gz /export2/DATA/HIS/HIS_server/analysis/dwi_data/stats/MD/sub-224_in-MNI_MD_AFTER-minus-BEFORE.nii.gz /export2/DATA/HIS/HIS_server/analysis/dwi_data/stats/MD/sub-225_in-MNI_MD_AFTER-minus-BEFORE.nii.gz /export2/DATA/HIS/HIS_server/analysis/dwi_data/stats/MD/sub-227_in-MNI_MD_AFTER-minus-BEFORE.nii.gz /export2/DATA/HIS/HIS_server/analysis/dwi_data/stats/MD/sub-229_in-MNI_MD_AFTER-minus-BEFORE.nii.gz /export2/DATA/HIS/HIS_server/analysis/dwi_data/stats/MD/sub-230_in-MNI_MD_AFTER-minus-BEFORE.nii.gz /export2/DATA/HIS/HIS_server/analysis/dwi_data/stats/MD/sub-232_in-MNI_MD_AFTER-minus-BEFORE.nii.gz /export2/DATA/HIS/HIS_server/analysis/dwi_data/stats/MD/sub-234_in-MNI_MD_AFTER-minus-BEFORE.nii.gz /export2/DATA/HIS/HIS_server/analysis/dwi_data/stats/MD/sub-235_in-MNI_MD_AFTER-minus-BEFORE.nii.gz /export2/DATA/HIS/HIS_server/analysis/dwi_data/stats/MD/sub-238_in-MNI_MD_AFTER-minus-BEFORE.nii.gz /export2/DATA/HIS/HIS_server/analysis/dwi_data/stats/MD/sub-239_in-MNI_MD_AFTER-minus-BEFORE.nii.gz /export2/DATA/HIS/HIS_server/analysis/dwi_data/stats/MD/sub-240_in-MNI_MD_AFTER-minus-BEFORE.nii.gz /export2/DATA/HIS/HIS_server/analysis/dwi_data/stats/MD/sub-241_in-MNI_MD_AFTER-minus-BEFORE.nii.gz /export2/DATA/HIS/HIS_server/analysis/dwi_data/stats/MD/sub-242_in-MNI_MD_AFTER-minus-BEFORE.nii.gz /export2/DATA/HIS/HIS_server/analysis/dwi_data/stats/MD/sub-243_in-MNI_MD_AFTER-minus-BEFORE.nii.gz /export2/DATA/HIS/HIS_server/analysis/dwi_data/stats/MD/sub-245_in-MNI_MD_AFTER-minus-BEFORE.nii.gz /export2/DATA/HIS/HIS_server/analysis/dwi_data/stats/MD/sub-247_in-MNI_MD_AFTER-minus-BEFORE.nii.gz /export2/DATA/HIS/HIS_server/analysis/dwi_data/stats/MD/sub-248_in-MNI_MD_AFTER-minus-BEFORE.nii.gz /export2/DATA/HIS/HIS_server/analysis/dwi_data/stats/MD/sub-249_in-MNI_MD_AFTER-minus-BEFORE.nii.gz /export2/DATA/HIS/HIS_server/analysis/dwi_data/stats/MD/sub-251_in-MNI_MD_AFTER-minus-BEFORE.nii.gz /export2/DATA/HIS/HIS_server/analysis/dwi_data/stats/MD/sub-252_in-MNI_MD_AFTER-minus-BEFORE.nii.gz /export2/DATA/HIS/HIS_server/analysis/dwi_data/stats/MD/sub-254_in-MNI_MD_AFTER-minus-BEFORE.nii.gz /export2/DATA/HIS/HIS_server/analysis/dwi_data/stats/MD/sub-255_in-MNI_MD_AFTER-minus-BEFORE.nii.gz /export2/DATA/HIS/HIS_server/analysis/dwi_data/stats/MD/sub-257_in-MNI_MD_AFTER-minus-BEFORE.nii.gz /export2/DATA/HIS/HIS_server/analysis/dwi_data/stats/MD/sub-258_in-MNI_MD_AFTER-minus-BEFORE.nii.gz /export2/DATA/HIS/HIS_server/analysis/dwi_data/stats/MD/sub-260_in-MNI_MD_AFTER-minus-BEFORE.nii.gz /export2/DATA/HIS/HIS_server/analysis/dwi_data/stats/MD/sub-261_in-MNI_MD_AFTER-minus-BEFORE.nii.gz /export2/DATA/HIS/HIS_server/analysis/dwi_data/stats/MD/sub-262_in-MNI_MD_AFTER-minus-BEFORE.nii.gz /export2/DATA/HIS/HIS_server/analysis/dwi_data/stats/MD/sub-263_in-MNI_MD_AFTER-minus-BEFORE.nii.gz /export2/DATA/HIS/HIS_server/analysis/dwi_data/stats/MD/sub-264_in-MNI_MD_AFTER-minus-BEFORE.nii.gz /export2/DATA/HIS/HIS_server/analysis/dwi_data/stats/MD/sub-265_in-MNI_MD_AFTER-minus-BEFORE.nii.gz /export2/DATA/HIS/HIS_server/analysis/dwi_data/stats/MD/sub-267_in-MNI_MD_AFTER-minus-BEFORE.nii.gz /export2/DATA/HIS/HIS_server/analysis/dwi_data/stats/MD/sub-268_in-MNI_MD_AFTER-minus-BEFORE.nii.gz /export2/DATA/HIS/HIS_server/analysis/dwi_data/stats/MD/sub-269_in-MNI_MD_AFTER-minus-BEFORE.nii.gz /export2/DATA/HIS/HIS_server/analysis/dwi_data/stats/MD/sub-270_in-MNI_MD_AFTER-minus-BEFORE.nii.gz /export2/DATA/HIS/HIS_server/analysis/dwi_data/stats/MD/sub-271_in-MNI_MD_AFTER-minus-BEFORE.nii.gz /export2/DATA/HIS/HIS_server/analysis/dwi_data/stats/MD/sub-272_in-MNI_MD_AFTER-minus-BEFORE.nii.gz /export2/DATA/HIS/HIS_server/analysis/dwi_data/stats/MD/sub-275_in-MNI_MD_AFTER-minus-BEFORE.nii.gz /export2/DATA/HIS/HIS_server/analysis/dwi_data/stats/MD/sub-276_in-MNI_MD_AFTER-minus-BEFORE.nii.gz /export2/DATA/HIS/HIS_server/analysis/dwi_data/stats/MD/sub-277_in-MNI_MD_AFTER-minus-BEFORE.nii.gz /export2/DATA/HIS/HIS_server/analysis/dwi_data/stats/MD/sub-278_in-MNI_MD_AFTER-minus-BEFORE.nii.gz /export2/DATA/HIS/HIS_server/analysis/dwi_data/stats/MD/sub-280_in-MNI_MD_AFTER-minus-BEFORE.nii.gz /export2/DATA/HIS/HIS_server/analysis/dwi_data/stats/MD/sub-281_in-MNI_MD_AFTER-minus-BEFORE.nii.gz /export2/DATA/HIS/HIS_server/analysis/dwi_data/stats/MD/sub-282_in-MNI_MD_AFTER-minus-BEFORE.nii.gz /export2/DATA/HIS/HIS_server/analysis/dwi_data/stats/MD/sub-283_in-MNI_MD_AFTER-minus-BEFORE.nii.gz /export2/DATA/HIS/HIS_server/analysis/dwi_data/stats/MD/sub-284_in-MNI_MD_AFTER-minus-BEFORE.nii.gz /export2/DATA/HIS/HIS_server/analysis/dwi_data/stats/MD/sub-285_in-MNI_MD_AFTER-minus-BEFORE.nii.gz\n",
      "fslmerge -t /export2/DATA/HIS/HIS_server/analysis/dwi_data/stats/MD/SHORT_individualDiff_AFTER_minus_BEFORE_MD /export2/DATA/HIS/HIS_server/analysis/dwi_data/stats/MD/sub-103_in-MNI_MD_AFTER-minus-BEFORE.nii.gz /export2/DATA/HIS/HIS_server/analysis/dwi_data/stats/MD/sub-104_in-MNI_MD_AFTER-minus-BEFORE.nii.gz /export2/DATA/HIS/HIS_server/analysis/dwi_data/stats/MD/sub-106_in-MNI_MD_AFTER-minus-BEFORE.nii.gz /export2/DATA/HIS/HIS_server/analysis/dwi_data/stats/MD/sub-107_in-MNI_MD_AFTER-minus-BEFORE.nii.gz /export2/DATA/HIS/HIS_server/analysis/dwi_data/stats/MD/sub-108_in-MNI_MD_AFTER-minus-BEFORE.nii.gz /export2/DATA/HIS/HIS_server/analysis/dwi_data/stats/MD/sub-110_in-MNI_MD_AFTER-minus-BEFORE.nii.gz /export2/DATA/HIS/HIS_server/analysis/dwi_data/stats/MD/sub-113_in-MNI_MD_AFTER-minus-BEFORE.nii.gz /export2/DATA/HIS/HIS_server/analysis/dwi_data/stats/MD/sub-114_in-MNI_MD_AFTER-minus-BEFORE.nii.gz /export2/DATA/HIS/HIS_server/analysis/dwi_data/stats/MD/sub-115_in-MNI_MD_AFTER-minus-BEFORE.nii.gz /export2/DATA/HIS/HIS_server/analysis/dwi_data/stats/MD/sub-117_in-MNI_MD_AFTER-minus-BEFORE.nii.gz /export2/DATA/HIS/HIS_server/analysis/dwi_data/stats/MD/sub-118_in-MNI_MD_AFTER-minus-BEFORE.nii.gz /export2/DATA/HIS/HIS_server/analysis/dwi_data/stats/MD/sub-119_in-MNI_MD_AFTER-minus-BEFORE.nii.gz /export2/DATA/HIS/HIS_server/analysis/dwi_data/stats/MD/sub-120_in-MNI_MD_AFTER-minus-BEFORE.nii.gz /export2/DATA/HIS/HIS_server/analysis/dwi_data/stats/MD/sub-121_in-MNI_MD_AFTER-minus-BEFORE.nii.gz /export2/DATA/HIS/HIS_server/analysis/dwi_data/stats/MD/sub-122_in-MNI_MD_AFTER-minus-BEFORE.nii.gz /export2/DATA/HIS/HIS_server/analysis/dwi_data/stats/MD/sub-124_in-MNI_MD_AFTER-minus-BEFORE.nii.gz /export2/DATA/HIS/HIS_server/analysis/dwi_data/stats/MD/sub-126_in-MNI_MD_AFTER-minus-BEFORE.nii.gz /export2/DATA/HIS/HIS_server/analysis/dwi_data/stats/MD/sub-127_in-MNI_MD_AFTER-minus-BEFORE.nii.gz /export2/DATA/HIS/HIS_server/analysis/dwi_data/stats/MD/sub-128_in-MNI_MD_AFTER-minus-BEFORE.nii.gz /export2/DATA/HIS/HIS_server/analysis/dwi_data/stats/MD/sub-129_in-MNI_MD_AFTER-minus-BEFORE.nii.gz /export2/DATA/HIS/HIS_server/analysis/dwi_data/stats/MD/sub-130_in-MNI_MD_AFTER-minus-BEFORE.nii.gz /export2/DATA/HIS/HIS_server/analysis/dwi_data/stats/MD/sub-131_in-MNI_MD_AFTER-minus-BEFORE.nii.gz /export2/DATA/HIS/HIS_server/analysis/dwi_data/stats/MD/sub-133_in-MNI_MD_AFTER-minus-BEFORE.nii.gz /export2/DATA/HIS/HIS_server/analysis/dwi_data/stats/MD/sub-135_in-MNI_MD_AFTER-minus-BEFORE.nii.gz /export2/DATA/HIS/HIS_server/analysis/dwi_data/stats/MD/sub-137_in-MNI_MD_AFTER-minus-BEFORE.nii.gz /export2/DATA/HIS/HIS_server/analysis/dwi_data/stats/MD/sub-138_in-MNI_MD_AFTER-minus-BEFORE.nii.gz /export2/DATA/HIS/HIS_server/analysis/dwi_data/stats/MD/sub-139_in-MNI_MD_AFTER-minus-BEFORE.nii.gz /export2/DATA/HIS/HIS_server/analysis/dwi_data/stats/MD/sub-140_in-MNI_MD_AFTER-minus-BEFORE.nii.gz /export2/DATA/HIS/HIS_server/analysis/dwi_data/stats/MD/sub-141_in-MNI_MD_AFTER-minus-BEFORE.nii.gz /export2/DATA/HIS/HIS_server/analysis/dwi_data/stats/MD/sub-142_in-MNI_MD_AFTER-minus-BEFORE.nii.gz /export2/DATA/HIS/HIS_server/analysis/dwi_data/stats/MD/sub-143_in-MNI_MD_AFTER-minus-BEFORE.nii.gz /export2/DATA/HIS/HIS_server/analysis/dwi_data/stats/MD/sub-144_in-MNI_MD_AFTER-minus-BEFORE.nii.gz /export2/DATA/HIS/HIS_server/analysis/dwi_data/stats/MD/sub-145_in-MNI_MD_AFTER-minus-BEFORE.nii.gz /export2/DATA/HIS/HIS_server/analysis/dwi_data/stats/MD/sub-146_in-MNI_MD_AFTER-minus-BEFORE.nii.gz /export2/DATA/HIS/HIS_server/analysis/dwi_data/stats/MD/sub-147_in-MNI_MD_AFTER-minus-BEFORE.nii.gz /export2/DATA/HIS/HIS_server/analysis/dwi_data/stats/MD/sub-148_in-MNI_MD_AFTER-minus-BEFORE.nii.gz /export2/DATA/HIS/HIS_server/analysis/dwi_data/stats/MD/sub-149_in-MNI_MD_AFTER-minus-BEFORE.nii.gz /export2/DATA/HIS/HIS_server/analysis/dwi_data/stats/MD/sub-150_in-MNI_MD_AFTER-minus-BEFORE.nii.gz /export2/DATA/HIS/HIS_server/analysis/dwi_data/stats/MD/sub-151_in-MNI_MD_AFTER-minus-BEFORE.nii.gz /export2/DATA/HIS/HIS_server/analysis/dwi_data/stats/MD/sub-152_in-MNI_MD_AFTER-minus-BEFORE.nii.gz /export2/DATA/HIS/HIS_server/analysis/dwi_data/stats/MD/sub-153_in-MNI_MD_AFTER-minus-BEFORE.nii.gz /export2/DATA/HIS/HIS_server/analysis/dwi_data/stats/MD/sub-154_in-MNI_MD_AFTER-minus-BEFORE.nii.gz /export2/DATA/HIS/HIS_server/analysis/dwi_data/stats/MD/sub-155_in-MNI_MD_AFTER-minus-BEFORE.nii.gz /export2/DATA/HIS/HIS_server/analysis/dwi_data/stats/MD/sub-156_in-MNI_MD_AFTER-minus-BEFORE.nii.gz /export2/DATA/HIS/HIS_server/analysis/dwi_data/stats/MD/sub-157_in-MNI_MD_AFTER-minus-BEFORE.nii.gz /export2/DATA/HIS/HIS_server/analysis/dwi_data/stats/MD/sub-158_in-MNI_MD_AFTER-minus-BEFORE.nii.gz /export2/DATA/HIS/HIS_server/analysis/dwi_data/stats/MD/sub-159_in-MNI_MD_AFTER-minus-BEFORE.nii.gz /export2/DATA/HIS/HIS_server/analysis/dwi_data/stats/MD/sub-160_in-MNI_MD_AFTER-minus-BEFORE.nii.gz /export2/DATA/HIS/HIS_server/analysis/dwi_data/stats/MD/sub-161_in-MNI_MD_AFTER-minus-BEFORE.nii.gz /export2/DATA/HIS/HIS_server/analysis/dwi_data/stats/MD/sub-162_in-MNI_MD_AFTER-minus-BEFORE.nii.gz /export2/DATA/HIS/HIS_server/analysis/dwi_data/stats/MD/sub-163_in-MNI_MD_AFTER-minus-BEFORE.nii.gz /export2/DATA/HIS/HIS_server/analysis/dwi_data/stats/MD/sub-164_in-MNI_MD_AFTER-minus-BEFORE.nii.gz /export2/DATA/HIS/HIS_server/analysis/dwi_data/stats/MD/sub-166_in-MNI_MD_AFTER-minus-BEFORE.nii.gz /export2/DATA/HIS/HIS_server/analysis/dwi_data/stats/MD/sub-167_in-MNI_MD_AFTER-minus-BEFORE.nii.gz /export2/DATA/HIS/HIS_server/analysis/dwi_data/stats/MD/sub-168_in-MNI_MD_AFTER-minus-BEFORE.nii.gz /export2/DATA/HIS/HIS_server/analysis/dwi_data/stats/MD/sub-169_in-MNI_MD_AFTER-minus-BEFORE.nii.gz /export2/DATA/HIS/HIS_server/analysis/dwi_data/stats/MD/sub-170_in-MNI_MD_AFTER-minus-BEFORE.nii.gz /export2/DATA/HIS/HIS_server/analysis/dwi_data/stats/MD/sub-171_in-MNI_MD_AFTER-minus-BEFORE.nii.gz /export2/DATA/HIS/HIS_server/analysis/dwi_data/stats/MD/sub-172_in-MNI_MD_AFTER-minus-BEFORE.nii.gz /export2/DATA/HIS/HIS_server/analysis/dwi_data/stats/MD/sub-174_in-MNI_MD_AFTER-minus-BEFORE.nii.gz /export2/DATA/HIS/HIS_server/analysis/dwi_data/stats/MD/sub-175_in-MNI_MD_AFTER-minus-BEFORE.nii.gz\n",
      "fslmerge -t /export2/DATA/HIS/HIS_server/analysis/dwi_data/stats/MD/LONG_individualDiff_BEFORE_minus_AFTER_MD /export2/DATA/HIS/HIS_server/analysis/dwi_data/stats/MD/sub-204_in-MNI_MD_BEFORE-minus-AFTER.nii.gz /export2/DATA/HIS/HIS_server/analysis/dwi_data/stats/MD/sub-205_in-MNI_MD_BEFORE-minus-AFTER.nii.gz /export2/DATA/HIS/HIS_server/analysis/dwi_data/stats/MD/sub-207_in-MNI_MD_BEFORE-minus-AFTER.nii.gz /export2/DATA/HIS/HIS_server/analysis/dwi_data/stats/MD/sub-208_in-MNI_MD_BEFORE-minus-AFTER.nii.gz /export2/DATA/HIS/HIS_server/analysis/dwi_data/stats/MD/sub-209_in-MNI_MD_BEFORE-minus-AFTER.nii.gz /export2/DATA/HIS/HIS_server/analysis/dwi_data/stats/MD/sub-210_in-MNI_MD_BEFORE-minus-AFTER.nii.gz /export2/DATA/HIS/HIS_server/analysis/dwi_data/stats/MD/sub-212_in-MNI_MD_BEFORE-minus-AFTER.nii.gz /export2/DATA/HIS/HIS_server/analysis/dwi_data/stats/MD/sub-214_in-MNI_MD_BEFORE-minus-AFTER.nii.gz /export2/DATA/HIS/HIS_server/analysis/dwi_data/stats/MD/sub-215_in-MNI_MD_BEFORE-minus-AFTER.nii.gz /export2/DATA/HIS/HIS_server/analysis/dwi_data/stats/MD/sub-217_in-MNI_MD_BEFORE-minus-AFTER.nii.gz /export2/DATA/HIS/HIS_server/analysis/dwi_data/stats/MD/sub-218_in-MNI_MD_BEFORE-minus-AFTER.nii.gz /export2/DATA/HIS/HIS_server/analysis/dwi_data/stats/MD/sub-220_in-MNI_MD_BEFORE-minus-AFTER.nii.gz /export2/DATA/HIS/HIS_server/analysis/dwi_data/stats/MD/sub-221_in-MNI_MD_BEFORE-minus-AFTER.nii.gz /export2/DATA/HIS/HIS_server/analysis/dwi_data/stats/MD/sub-223_in-MNI_MD_BEFORE-minus-AFTER.nii.gz /export2/DATA/HIS/HIS_server/analysis/dwi_data/stats/MD/sub-224_in-MNI_MD_BEFORE-minus-AFTER.nii.gz /export2/DATA/HIS/HIS_server/analysis/dwi_data/stats/MD/sub-225_in-MNI_MD_BEFORE-minus-AFTER.nii.gz /export2/DATA/HIS/HIS_server/analysis/dwi_data/stats/MD/sub-227_in-MNI_MD_BEFORE-minus-AFTER.nii.gz /export2/DATA/HIS/HIS_server/analysis/dwi_data/stats/MD/sub-229_in-MNI_MD_BEFORE-minus-AFTER.nii.gz /export2/DATA/HIS/HIS_server/analysis/dwi_data/stats/MD/sub-230_in-MNI_MD_BEFORE-minus-AFTER.nii.gz /export2/DATA/HIS/HIS_server/analysis/dwi_data/stats/MD/sub-232_in-MNI_MD_BEFORE-minus-AFTER.nii.gz /export2/DATA/HIS/HIS_server/analysis/dwi_data/stats/MD/sub-234_in-MNI_MD_BEFORE-minus-AFTER.nii.gz /export2/DATA/HIS/HIS_server/analysis/dwi_data/stats/MD/sub-235_in-MNI_MD_BEFORE-minus-AFTER.nii.gz /export2/DATA/HIS/HIS_server/analysis/dwi_data/stats/MD/sub-238_in-MNI_MD_BEFORE-minus-AFTER.nii.gz /export2/DATA/HIS/HIS_server/analysis/dwi_data/stats/MD/sub-239_in-MNI_MD_BEFORE-minus-AFTER.nii.gz /export2/DATA/HIS/HIS_server/analysis/dwi_data/stats/MD/sub-240_in-MNI_MD_BEFORE-minus-AFTER.nii.gz /export2/DATA/HIS/HIS_server/analysis/dwi_data/stats/MD/sub-241_in-MNI_MD_BEFORE-minus-AFTER.nii.gz /export2/DATA/HIS/HIS_server/analysis/dwi_data/stats/MD/sub-242_in-MNI_MD_BEFORE-minus-AFTER.nii.gz /export2/DATA/HIS/HIS_server/analysis/dwi_data/stats/MD/sub-243_in-MNI_MD_BEFORE-minus-AFTER.nii.gz /export2/DATA/HIS/HIS_server/analysis/dwi_data/stats/MD/sub-245_in-MNI_MD_BEFORE-minus-AFTER.nii.gz /export2/DATA/HIS/HIS_server/analysis/dwi_data/stats/MD/sub-247_in-MNI_MD_BEFORE-minus-AFTER.nii.gz /export2/DATA/HIS/HIS_server/analysis/dwi_data/stats/MD/sub-248_in-MNI_MD_BEFORE-minus-AFTER.nii.gz /export2/DATA/HIS/HIS_server/analysis/dwi_data/stats/MD/sub-249_in-MNI_MD_BEFORE-minus-AFTER.nii.gz /export2/DATA/HIS/HIS_server/analysis/dwi_data/stats/MD/sub-251_in-MNI_MD_BEFORE-minus-AFTER.nii.gz /export2/DATA/HIS/HIS_server/analysis/dwi_data/stats/MD/sub-252_in-MNI_MD_BEFORE-minus-AFTER.nii.gz /export2/DATA/HIS/HIS_server/analysis/dwi_data/stats/MD/sub-254_in-MNI_MD_BEFORE-minus-AFTER.nii.gz /export2/DATA/HIS/HIS_server/analysis/dwi_data/stats/MD/sub-255_in-MNI_MD_BEFORE-minus-AFTER.nii.gz /export2/DATA/HIS/HIS_server/analysis/dwi_data/stats/MD/sub-257_in-MNI_MD_BEFORE-minus-AFTER.nii.gz /export2/DATA/HIS/HIS_server/analysis/dwi_data/stats/MD/sub-258_in-MNI_MD_BEFORE-minus-AFTER.nii.gz /export2/DATA/HIS/HIS_server/analysis/dwi_data/stats/MD/sub-260_in-MNI_MD_BEFORE-minus-AFTER.nii.gz /export2/DATA/HIS/HIS_server/analysis/dwi_data/stats/MD/sub-261_in-MNI_MD_BEFORE-minus-AFTER.nii.gz /export2/DATA/HIS/HIS_server/analysis/dwi_data/stats/MD/sub-262_in-MNI_MD_BEFORE-minus-AFTER.nii.gz /export2/DATA/HIS/HIS_server/analysis/dwi_data/stats/MD/sub-263_in-MNI_MD_BEFORE-minus-AFTER.nii.gz /export2/DATA/HIS/HIS_server/analysis/dwi_data/stats/MD/sub-264_in-MNI_MD_BEFORE-minus-AFTER.nii.gz /export2/DATA/HIS/HIS_server/analysis/dwi_data/stats/MD/sub-265_in-MNI_MD_BEFORE-minus-AFTER.nii.gz /export2/DATA/HIS/HIS_server/analysis/dwi_data/stats/MD/sub-267_in-MNI_MD_BEFORE-minus-AFTER.nii.gz /export2/DATA/HIS/HIS_server/analysis/dwi_data/stats/MD/sub-268_in-MNI_MD_BEFORE-minus-AFTER.nii.gz /export2/DATA/HIS/HIS_server/analysis/dwi_data/stats/MD/sub-269_in-MNI_MD_BEFORE-minus-AFTER.nii.gz /export2/DATA/HIS/HIS_server/analysis/dwi_data/stats/MD/sub-270_in-MNI_MD_BEFORE-minus-AFTER.nii.gz /export2/DATA/HIS/HIS_server/analysis/dwi_data/stats/MD/sub-271_in-MNI_MD_BEFORE-minus-AFTER.nii.gz /export2/DATA/HIS/HIS_server/analysis/dwi_data/stats/MD/sub-272_in-MNI_MD_BEFORE-minus-AFTER.nii.gz /export2/DATA/HIS/HIS_server/analysis/dwi_data/stats/MD/sub-275_in-MNI_MD_BEFORE-minus-AFTER.nii.gz /export2/DATA/HIS/HIS_server/analysis/dwi_data/stats/MD/sub-276_in-MNI_MD_BEFORE-minus-AFTER.nii.gz /export2/DATA/HIS/HIS_server/analysis/dwi_data/stats/MD/sub-277_in-MNI_MD_BEFORE-minus-AFTER.nii.gz /export2/DATA/HIS/HIS_server/analysis/dwi_data/stats/MD/sub-278_in-MNI_MD_BEFORE-minus-AFTER.nii.gz /export2/DATA/HIS/HIS_server/analysis/dwi_data/stats/MD/sub-280_in-MNI_MD_BEFORE-minus-AFTER.nii.gz /export2/DATA/HIS/HIS_server/analysis/dwi_data/stats/MD/sub-281_in-MNI_MD_BEFORE-minus-AFTER.nii.gz /export2/DATA/HIS/HIS_server/analysis/dwi_data/stats/MD/sub-282_in-MNI_MD_BEFORE-minus-AFTER.nii.gz /export2/DATA/HIS/HIS_server/analysis/dwi_data/stats/MD/sub-283_in-MNI_MD_BEFORE-minus-AFTER.nii.gz /export2/DATA/HIS/HIS_server/analysis/dwi_data/stats/MD/sub-284_in-MNI_MD_BEFORE-minus-AFTER.nii.gz /export2/DATA/HIS/HIS_server/analysis/dwi_data/stats/MD/sub-285_in-MNI_MD_BEFORE-minus-AFTER.nii.gz\n",
      "fslmerge -t /export2/DATA/HIS/HIS_server/analysis/dwi_data/stats/MD/SHORT_individualDiff_BEFORE_minus_AFTER_MD /export2/DATA/HIS/HIS_server/analysis/dwi_data/stats/MD/sub-103_in-MNI_MD_BEFORE-minus-AFTER.nii.gz /export2/DATA/HIS/HIS_server/analysis/dwi_data/stats/MD/sub-104_in-MNI_MD_BEFORE-minus-AFTER.nii.gz /export2/DATA/HIS/HIS_server/analysis/dwi_data/stats/MD/sub-106_in-MNI_MD_BEFORE-minus-AFTER.nii.gz /export2/DATA/HIS/HIS_server/analysis/dwi_data/stats/MD/sub-107_in-MNI_MD_BEFORE-minus-AFTER.nii.gz /export2/DATA/HIS/HIS_server/analysis/dwi_data/stats/MD/sub-108_in-MNI_MD_BEFORE-minus-AFTER.nii.gz /export2/DATA/HIS/HIS_server/analysis/dwi_data/stats/MD/sub-110_in-MNI_MD_BEFORE-minus-AFTER.nii.gz /export2/DATA/HIS/HIS_server/analysis/dwi_data/stats/MD/sub-113_in-MNI_MD_BEFORE-minus-AFTER.nii.gz /export2/DATA/HIS/HIS_server/analysis/dwi_data/stats/MD/sub-114_in-MNI_MD_BEFORE-minus-AFTER.nii.gz /export2/DATA/HIS/HIS_server/analysis/dwi_data/stats/MD/sub-115_in-MNI_MD_BEFORE-minus-AFTER.nii.gz /export2/DATA/HIS/HIS_server/analysis/dwi_data/stats/MD/sub-117_in-MNI_MD_BEFORE-minus-AFTER.nii.gz /export2/DATA/HIS/HIS_server/analysis/dwi_data/stats/MD/sub-118_in-MNI_MD_BEFORE-minus-AFTER.nii.gz /export2/DATA/HIS/HIS_server/analysis/dwi_data/stats/MD/sub-119_in-MNI_MD_BEFORE-minus-AFTER.nii.gz /export2/DATA/HIS/HIS_server/analysis/dwi_data/stats/MD/sub-120_in-MNI_MD_BEFORE-minus-AFTER.nii.gz /export2/DATA/HIS/HIS_server/analysis/dwi_data/stats/MD/sub-121_in-MNI_MD_BEFORE-minus-AFTER.nii.gz /export2/DATA/HIS/HIS_server/analysis/dwi_data/stats/MD/sub-122_in-MNI_MD_BEFORE-minus-AFTER.nii.gz /export2/DATA/HIS/HIS_server/analysis/dwi_data/stats/MD/sub-124_in-MNI_MD_BEFORE-minus-AFTER.nii.gz /export2/DATA/HIS/HIS_server/analysis/dwi_data/stats/MD/sub-126_in-MNI_MD_BEFORE-minus-AFTER.nii.gz /export2/DATA/HIS/HIS_server/analysis/dwi_data/stats/MD/sub-127_in-MNI_MD_BEFORE-minus-AFTER.nii.gz /export2/DATA/HIS/HIS_server/analysis/dwi_data/stats/MD/sub-128_in-MNI_MD_BEFORE-minus-AFTER.nii.gz /export2/DATA/HIS/HIS_server/analysis/dwi_data/stats/MD/sub-129_in-MNI_MD_BEFORE-minus-AFTER.nii.gz /export2/DATA/HIS/HIS_server/analysis/dwi_data/stats/MD/sub-130_in-MNI_MD_BEFORE-minus-AFTER.nii.gz /export2/DATA/HIS/HIS_server/analysis/dwi_data/stats/MD/sub-131_in-MNI_MD_BEFORE-minus-AFTER.nii.gz /export2/DATA/HIS/HIS_server/analysis/dwi_data/stats/MD/sub-133_in-MNI_MD_BEFORE-minus-AFTER.nii.gz /export2/DATA/HIS/HIS_server/analysis/dwi_data/stats/MD/sub-135_in-MNI_MD_BEFORE-minus-AFTER.nii.gz /export2/DATA/HIS/HIS_server/analysis/dwi_data/stats/MD/sub-137_in-MNI_MD_BEFORE-minus-AFTER.nii.gz /export2/DATA/HIS/HIS_server/analysis/dwi_data/stats/MD/sub-138_in-MNI_MD_BEFORE-minus-AFTER.nii.gz /export2/DATA/HIS/HIS_server/analysis/dwi_data/stats/MD/sub-139_in-MNI_MD_BEFORE-minus-AFTER.nii.gz /export2/DATA/HIS/HIS_server/analysis/dwi_data/stats/MD/sub-140_in-MNI_MD_BEFORE-minus-AFTER.nii.gz /export2/DATA/HIS/HIS_server/analysis/dwi_data/stats/MD/sub-141_in-MNI_MD_BEFORE-minus-AFTER.nii.gz /export2/DATA/HIS/HIS_server/analysis/dwi_data/stats/MD/sub-142_in-MNI_MD_BEFORE-minus-AFTER.nii.gz /export2/DATA/HIS/HIS_server/analysis/dwi_data/stats/MD/sub-143_in-MNI_MD_BEFORE-minus-AFTER.nii.gz /export2/DATA/HIS/HIS_server/analysis/dwi_data/stats/MD/sub-144_in-MNI_MD_BEFORE-minus-AFTER.nii.gz /export2/DATA/HIS/HIS_server/analysis/dwi_data/stats/MD/sub-145_in-MNI_MD_BEFORE-minus-AFTER.nii.gz /export2/DATA/HIS/HIS_server/analysis/dwi_data/stats/MD/sub-146_in-MNI_MD_BEFORE-minus-AFTER.nii.gz /export2/DATA/HIS/HIS_server/analysis/dwi_data/stats/MD/sub-147_in-MNI_MD_BEFORE-minus-AFTER.nii.gz /export2/DATA/HIS/HIS_server/analysis/dwi_data/stats/MD/sub-148_in-MNI_MD_BEFORE-minus-AFTER.nii.gz /export2/DATA/HIS/HIS_server/analysis/dwi_data/stats/MD/sub-149_in-MNI_MD_BEFORE-minus-AFTER.nii.gz /export2/DATA/HIS/HIS_server/analysis/dwi_data/stats/MD/sub-150_in-MNI_MD_BEFORE-minus-AFTER.nii.gz /export2/DATA/HIS/HIS_server/analysis/dwi_data/stats/MD/sub-151_in-MNI_MD_BEFORE-minus-AFTER.nii.gz /export2/DATA/HIS/HIS_server/analysis/dwi_data/stats/MD/sub-152_in-MNI_MD_BEFORE-minus-AFTER.nii.gz /export2/DATA/HIS/HIS_server/analysis/dwi_data/stats/MD/sub-153_in-MNI_MD_BEFORE-minus-AFTER.nii.gz /export2/DATA/HIS/HIS_server/analysis/dwi_data/stats/MD/sub-154_in-MNI_MD_BEFORE-minus-AFTER.nii.gz /export2/DATA/HIS/HIS_server/analysis/dwi_data/stats/MD/sub-155_in-MNI_MD_BEFORE-minus-AFTER.nii.gz /export2/DATA/HIS/HIS_server/analysis/dwi_data/stats/MD/sub-156_in-MNI_MD_BEFORE-minus-AFTER.nii.gz /export2/DATA/HIS/HIS_server/analysis/dwi_data/stats/MD/sub-157_in-MNI_MD_BEFORE-minus-AFTER.nii.gz /export2/DATA/HIS/HIS_server/analysis/dwi_data/stats/MD/sub-158_in-MNI_MD_BEFORE-minus-AFTER.nii.gz /export2/DATA/HIS/HIS_server/analysis/dwi_data/stats/MD/sub-159_in-MNI_MD_BEFORE-minus-AFTER.nii.gz /export2/DATA/HIS/HIS_server/analysis/dwi_data/stats/MD/sub-160_in-MNI_MD_BEFORE-minus-AFTER.nii.gz /export2/DATA/HIS/HIS_server/analysis/dwi_data/stats/MD/sub-161_in-MNI_MD_BEFORE-minus-AFTER.nii.gz /export2/DATA/HIS/HIS_server/analysis/dwi_data/stats/MD/sub-162_in-MNI_MD_BEFORE-minus-AFTER.nii.gz /export2/DATA/HIS/HIS_server/analysis/dwi_data/stats/MD/sub-163_in-MNI_MD_BEFORE-minus-AFTER.nii.gz /export2/DATA/HIS/HIS_server/analysis/dwi_data/stats/MD/sub-164_in-MNI_MD_BEFORE-minus-AFTER.nii.gz /export2/DATA/HIS/HIS_server/analysis/dwi_data/stats/MD/sub-166_in-MNI_MD_BEFORE-minus-AFTER.nii.gz /export2/DATA/HIS/HIS_server/analysis/dwi_data/stats/MD/sub-167_in-MNI_MD_BEFORE-minus-AFTER.nii.gz /export2/DATA/HIS/HIS_server/analysis/dwi_data/stats/MD/sub-168_in-MNI_MD_BEFORE-minus-AFTER.nii.gz /export2/DATA/HIS/HIS_server/analysis/dwi_data/stats/MD/sub-169_in-MNI_MD_BEFORE-minus-AFTER.nii.gz /export2/DATA/HIS/HIS_server/analysis/dwi_data/stats/MD/sub-170_in-MNI_MD_BEFORE-minus-AFTER.nii.gz /export2/DATA/HIS/HIS_server/analysis/dwi_data/stats/MD/sub-171_in-MNI_MD_BEFORE-minus-AFTER.nii.gz /export2/DATA/HIS/HIS_server/analysis/dwi_data/stats/MD/sub-172_in-MNI_MD_BEFORE-minus-AFTER.nii.gz /export2/DATA/HIS/HIS_server/analysis/dwi_data/stats/MD/sub-174_in-MNI_MD_BEFORE-minus-AFTER.nii.gz /export2/DATA/HIS/HIS_server/analysis/dwi_data/stats/MD/sub-175_in-MNI_MD_BEFORE-minus-AFTER.nii.gz\n",
      "fslmerge -t /export2/DATA/HIS/HIS_server/analysis/dwi_data/stats/FA/LONG_individualDiff_AFTER_minus_BEFORE_FA /export2/DATA/HIS/HIS_server/analysis/dwi_data/stats/FA/sub-204_in-MNI_FA_AFTER-minus-BEFORE.nii.gz /export2/DATA/HIS/HIS_server/analysis/dwi_data/stats/FA/sub-205_in-MNI_FA_AFTER-minus-BEFORE.nii.gz /export2/DATA/HIS/HIS_server/analysis/dwi_data/stats/FA/sub-207_in-MNI_FA_AFTER-minus-BEFORE.nii.gz /export2/DATA/HIS/HIS_server/analysis/dwi_data/stats/FA/sub-208_in-MNI_FA_AFTER-minus-BEFORE.nii.gz /export2/DATA/HIS/HIS_server/analysis/dwi_data/stats/FA/sub-209_in-MNI_FA_AFTER-minus-BEFORE.nii.gz /export2/DATA/HIS/HIS_server/analysis/dwi_data/stats/FA/sub-210_in-MNI_FA_AFTER-minus-BEFORE.nii.gz /export2/DATA/HIS/HIS_server/analysis/dwi_data/stats/FA/sub-212_in-MNI_FA_AFTER-minus-BEFORE.nii.gz /export2/DATA/HIS/HIS_server/analysis/dwi_data/stats/FA/sub-214_in-MNI_FA_AFTER-minus-BEFORE.nii.gz /export2/DATA/HIS/HIS_server/analysis/dwi_data/stats/FA/sub-215_in-MNI_FA_AFTER-minus-BEFORE.nii.gz /export2/DATA/HIS/HIS_server/analysis/dwi_data/stats/FA/sub-217_in-MNI_FA_AFTER-minus-BEFORE.nii.gz /export2/DATA/HIS/HIS_server/analysis/dwi_data/stats/FA/sub-218_in-MNI_FA_AFTER-minus-BEFORE.nii.gz /export2/DATA/HIS/HIS_server/analysis/dwi_data/stats/FA/sub-220_in-MNI_FA_AFTER-minus-BEFORE.nii.gz /export2/DATA/HIS/HIS_server/analysis/dwi_data/stats/FA/sub-221_in-MNI_FA_AFTER-minus-BEFORE.nii.gz /export2/DATA/HIS/HIS_server/analysis/dwi_data/stats/FA/sub-223_in-MNI_FA_AFTER-minus-BEFORE.nii.gz /export2/DATA/HIS/HIS_server/analysis/dwi_data/stats/FA/sub-224_in-MNI_FA_AFTER-minus-BEFORE.nii.gz /export2/DATA/HIS/HIS_server/analysis/dwi_data/stats/FA/sub-225_in-MNI_FA_AFTER-minus-BEFORE.nii.gz /export2/DATA/HIS/HIS_server/analysis/dwi_data/stats/FA/sub-227_in-MNI_FA_AFTER-minus-BEFORE.nii.gz /export2/DATA/HIS/HIS_server/analysis/dwi_data/stats/FA/sub-229_in-MNI_FA_AFTER-minus-BEFORE.nii.gz /export2/DATA/HIS/HIS_server/analysis/dwi_data/stats/FA/sub-230_in-MNI_FA_AFTER-minus-BEFORE.nii.gz /export2/DATA/HIS/HIS_server/analysis/dwi_data/stats/FA/sub-232_in-MNI_FA_AFTER-minus-BEFORE.nii.gz /export2/DATA/HIS/HIS_server/analysis/dwi_data/stats/FA/sub-234_in-MNI_FA_AFTER-minus-BEFORE.nii.gz /export2/DATA/HIS/HIS_server/analysis/dwi_data/stats/FA/sub-235_in-MNI_FA_AFTER-minus-BEFORE.nii.gz /export2/DATA/HIS/HIS_server/analysis/dwi_data/stats/FA/sub-238_in-MNI_FA_AFTER-minus-BEFORE.nii.gz /export2/DATA/HIS/HIS_server/analysis/dwi_data/stats/FA/sub-239_in-MNI_FA_AFTER-minus-BEFORE.nii.gz /export2/DATA/HIS/HIS_server/analysis/dwi_data/stats/FA/sub-240_in-MNI_FA_AFTER-minus-BEFORE.nii.gz /export2/DATA/HIS/HIS_server/analysis/dwi_data/stats/FA/sub-241_in-MNI_FA_AFTER-minus-BEFORE.nii.gz /export2/DATA/HIS/HIS_server/analysis/dwi_data/stats/FA/sub-242_in-MNI_FA_AFTER-minus-BEFORE.nii.gz /export2/DATA/HIS/HIS_server/analysis/dwi_data/stats/FA/sub-243_in-MNI_FA_AFTER-minus-BEFORE.nii.gz /export2/DATA/HIS/HIS_server/analysis/dwi_data/stats/FA/sub-245_in-MNI_FA_AFTER-minus-BEFORE.nii.gz /export2/DATA/HIS/HIS_server/analysis/dwi_data/stats/FA/sub-247_in-MNI_FA_AFTER-minus-BEFORE.nii.gz /export2/DATA/HIS/HIS_server/analysis/dwi_data/stats/FA/sub-248_in-MNI_FA_AFTER-minus-BEFORE.nii.gz /export2/DATA/HIS/HIS_server/analysis/dwi_data/stats/FA/sub-249_in-MNI_FA_AFTER-minus-BEFORE.nii.gz /export2/DATA/HIS/HIS_server/analysis/dwi_data/stats/FA/sub-251_in-MNI_FA_AFTER-minus-BEFORE.nii.gz /export2/DATA/HIS/HIS_server/analysis/dwi_data/stats/FA/sub-252_in-MNI_FA_AFTER-minus-BEFORE.nii.gz /export2/DATA/HIS/HIS_server/analysis/dwi_data/stats/FA/sub-254_in-MNI_FA_AFTER-minus-BEFORE.nii.gz /export2/DATA/HIS/HIS_server/analysis/dwi_data/stats/FA/sub-255_in-MNI_FA_AFTER-minus-BEFORE.nii.gz /export2/DATA/HIS/HIS_server/analysis/dwi_data/stats/FA/sub-257_in-MNI_FA_AFTER-minus-BEFORE.nii.gz /export2/DATA/HIS/HIS_server/analysis/dwi_data/stats/FA/sub-258_in-MNI_FA_AFTER-minus-BEFORE.nii.gz /export2/DATA/HIS/HIS_server/analysis/dwi_data/stats/FA/sub-260_in-MNI_FA_AFTER-minus-BEFORE.nii.gz /export2/DATA/HIS/HIS_server/analysis/dwi_data/stats/FA/sub-261_in-MNI_FA_AFTER-minus-BEFORE.nii.gz /export2/DATA/HIS/HIS_server/analysis/dwi_data/stats/FA/sub-262_in-MNI_FA_AFTER-minus-BEFORE.nii.gz /export2/DATA/HIS/HIS_server/analysis/dwi_data/stats/FA/sub-263_in-MNI_FA_AFTER-minus-BEFORE.nii.gz /export2/DATA/HIS/HIS_server/analysis/dwi_data/stats/FA/sub-264_in-MNI_FA_AFTER-minus-BEFORE.nii.gz /export2/DATA/HIS/HIS_server/analysis/dwi_data/stats/FA/sub-265_in-MNI_FA_AFTER-minus-BEFORE.nii.gz /export2/DATA/HIS/HIS_server/analysis/dwi_data/stats/FA/sub-267_in-MNI_FA_AFTER-minus-BEFORE.nii.gz /export2/DATA/HIS/HIS_server/analysis/dwi_data/stats/FA/sub-268_in-MNI_FA_AFTER-minus-BEFORE.nii.gz /export2/DATA/HIS/HIS_server/analysis/dwi_data/stats/FA/sub-269_in-MNI_FA_AFTER-minus-BEFORE.nii.gz /export2/DATA/HIS/HIS_server/analysis/dwi_data/stats/FA/sub-270_in-MNI_FA_AFTER-minus-BEFORE.nii.gz /export2/DATA/HIS/HIS_server/analysis/dwi_data/stats/FA/sub-271_in-MNI_FA_AFTER-minus-BEFORE.nii.gz /export2/DATA/HIS/HIS_server/analysis/dwi_data/stats/FA/sub-272_in-MNI_FA_AFTER-minus-BEFORE.nii.gz /export2/DATA/HIS/HIS_server/analysis/dwi_data/stats/FA/sub-275_in-MNI_FA_AFTER-minus-BEFORE.nii.gz /export2/DATA/HIS/HIS_server/analysis/dwi_data/stats/FA/sub-276_in-MNI_FA_AFTER-minus-BEFORE.nii.gz /export2/DATA/HIS/HIS_server/analysis/dwi_data/stats/FA/sub-277_in-MNI_FA_AFTER-minus-BEFORE.nii.gz /export2/DATA/HIS/HIS_server/analysis/dwi_data/stats/FA/sub-278_in-MNI_FA_AFTER-minus-BEFORE.nii.gz /export2/DATA/HIS/HIS_server/analysis/dwi_data/stats/FA/sub-280_in-MNI_FA_AFTER-minus-BEFORE.nii.gz /export2/DATA/HIS/HIS_server/analysis/dwi_data/stats/FA/sub-281_in-MNI_FA_AFTER-minus-BEFORE.nii.gz /export2/DATA/HIS/HIS_server/analysis/dwi_data/stats/FA/sub-282_in-MNI_FA_AFTER-minus-BEFORE.nii.gz /export2/DATA/HIS/HIS_server/analysis/dwi_data/stats/FA/sub-283_in-MNI_FA_AFTER-minus-BEFORE.nii.gz /export2/DATA/HIS/HIS_server/analysis/dwi_data/stats/FA/sub-284_in-MNI_FA_AFTER-minus-BEFORE.nii.gz /export2/DATA/HIS/HIS_server/analysis/dwi_data/stats/FA/sub-285_in-MNI_FA_AFTER-minus-BEFORE.nii.gz\n",
      "fslmerge -t /export2/DATA/HIS/HIS_server/analysis/dwi_data/stats/FA/SHORT_individualDiff_AFTER_minus_BEFORE_FA /export2/DATA/HIS/HIS_server/analysis/dwi_data/stats/FA/sub-103_in-MNI_FA_AFTER-minus-BEFORE.nii.gz /export2/DATA/HIS/HIS_server/analysis/dwi_data/stats/FA/sub-104_in-MNI_FA_AFTER-minus-BEFORE.nii.gz /export2/DATA/HIS/HIS_server/analysis/dwi_data/stats/FA/sub-106_in-MNI_FA_AFTER-minus-BEFORE.nii.gz /export2/DATA/HIS/HIS_server/analysis/dwi_data/stats/FA/sub-107_in-MNI_FA_AFTER-minus-BEFORE.nii.gz /export2/DATA/HIS/HIS_server/analysis/dwi_data/stats/FA/sub-108_in-MNI_FA_AFTER-minus-BEFORE.nii.gz /export2/DATA/HIS/HIS_server/analysis/dwi_data/stats/FA/sub-110_in-MNI_FA_AFTER-minus-BEFORE.nii.gz /export2/DATA/HIS/HIS_server/analysis/dwi_data/stats/FA/sub-113_in-MNI_FA_AFTER-minus-BEFORE.nii.gz /export2/DATA/HIS/HIS_server/analysis/dwi_data/stats/FA/sub-114_in-MNI_FA_AFTER-minus-BEFORE.nii.gz /export2/DATA/HIS/HIS_server/analysis/dwi_data/stats/FA/sub-115_in-MNI_FA_AFTER-minus-BEFORE.nii.gz /export2/DATA/HIS/HIS_server/analysis/dwi_data/stats/FA/sub-117_in-MNI_FA_AFTER-minus-BEFORE.nii.gz /export2/DATA/HIS/HIS_server/analysis/dwi_data/stats/FA/sub-118_in-MNI_FA_AFTER-minus-BEFORE.nii.gz /export2/DATA/HIS/HIS_server/analysis/dwi_data/stats/FA/sub-119_in-MNI_FA_AFTER-minus-BEFORE.nii.gz /export2/DATA/HIS/HIS_server/analysis/dwi_data/stats/FA/sub-120_in-MNI_FA_AFTER-minus-BEFORE.nii.gz /export2/DATA/HIS/HIS_server/analysis/dwi_data/stats/FA/sub-121_in-MNI_FA_AFTER-minus-BEFORE.nii.gz /export2/DATA/HIS/HIS_server/analysis/dwi_data/stats/FA/sub-122_in-MNI_FA_AFTER-minus-BEFORE.nii.gz /export2/DATA/HIS/HIS_server/analysis/dwi_data/stats/FA/sub-124_in-MNI_FA_AFTER-minus-BEFORE.nii.gz /export2/DATA/HIS/HIS_server/analysis/dwi_data/stats/FA/sub-126_in-MNI_FA_AFTER-minus-BEFORE.nii.gz /export2/DATA/HIS/HIS_server/analysis/dwi_data/stats/FA/sub-127_in-MNI_FA_AFTER-minus-BEFORE.nii.gz /export2/DATA/HIS/HIS_server/analysis/dwi_data/stats/FA/sub-128_in-MNI_FA_AFTER-minus-BEFORE.nii.gz /export2/DATA/HIS/HIS_server/analysis/dwi_data/stats/FA/sub-129_in-MNI_FA_AFTER-minus-BEFORE.nii.gz /export2/DATA/HIS/HIS_server/analysis/dwi_data/stats/FA/sub-130_in-MNI_FA_AFTER-minus-BEFORE.nii.gz /export2/DATA/HIS/HIS_server/analysis/dwi_data/stats/FA/sub-131_in-MNI_FA_AFTER-minus-BEFORE.nii.gz /export2/DATA/HIS/HIS_server/analysis/dwi_data/stats/FA/sub-133_in-MNI_FA_AFTER-minus-BEFORE.nii.gz /export2/DATA/HIS/HIS_server/analysis/dwi_data/stats/FA/sub-135_in-MNI_FA_AFTER-minus-BEFORE.nii.gz /export2/DATA/HIS/HIS_server/analysis/dwi_data/stats/FA/sub-137_in-MNI_FA_AFTER-minus-BEFORE.nii.gz /export2/DATA/HIS/HIS_server/analysis/dwi_data/stats/FA/sub-138_in-MNI_FA_AFTER-minus-BEFORE.nii.gz /export2/DATA/HIS/HIS_server/analysis/dwi_data/stats/FA/sub-139_in-MNI_FA_AFTER-minus-BEFORE.nii.gz /export2/DATA/HIS/HIS_server/analysis/dwi_data/stats/FA/sub-140_in-MNI_FA_AFTER-minus-BEFORE.nii.gz /export2/DATA/HIS/HIS_server/analysis/dwi_data/stats/FA/sub-141_in-MNI_FA_AFTER-minus-BEFORE.nii.gz /export2/DATA/HIS/HIS_server/analysis/dwi_data/stats/FA/sub-142_in-MNI_FA_AFTER-minus-BEFORE.nii.gz /export2/DATA/HIS/HIS_server/analysis/dwi_data/stats/FA/sub-143_in-MNI_FA_AFTER-minus-BEFORE.nii.gz /export2/DATA/HIS/HIS_server/analysis/dwi_data/stats/FA/sub-144_in-MNI_FA_AFTER-minus-BEFORE.nii.gz /export2/DATA/HIS/HIS_server/analysis/dwi_data/stats/FA/sub-145_in-MNI_FA_AFTER-minus-BEFORE.nii.gz /export2/DATA/HIS/HIS_server/analysis/dwi_data/stats/FA/sub-146_in-MNI_FA_AFTER-minus-BEFORE.nii.gz /export2/DATA/HIS/HIS_server/analysis/dwi_data/stats/FA/sub-147_in-MNI_FA_AFTER-minus-BEFORE.nii.gz /export2/DATA/HIS/HIS_server/analysis/dwi_data/stats/FA/sub-148_in-MNI_FA_AFTER-minus-BEFORE.nii.gz /export2/DATA/HIS/HIS_server/analysis/dwi_data/stats/FA/sub-149_in-MNI_FA_AFTER-minus-BEFORE.nii.gz /export2/DATA/HIS/HIS_server/analysis/dwi_data/stats/FA/sub-150_in-MNI_FA_AFTER-minus-BEFORE.nii.gz /export2/DATA/HIS/HIS_server/analysis/dwi_data/stats/FA/sub-151_in-MNI_FA_AFTER-minus-BEFORE.nii.gz /export2/DATA/HIS/HIS_server/analysis/dwi_data/stats/FA/sub-152_in-MNI_FA_AFTER-minus-BEFORE.nii.gz /export2/DATA/HIS/HIS_server/analysis/dwi_data/stats/FA/sub-153_in-MNI_FA_AFTER-minus-BEFORE.nii.gz /export2/DATA/HIS/HIS_server/analysis/dwi_data/stats/FA/sub-154_in-MNI_FA_AFTER-minus-BEFORE.nii.gz /export2/DATA/HIS/HIS_server/analysis/dwi_data/stats/FA/sub-155_in-MNI_FA_AFTER-minus-BEFORE.nii.gz /export2/DATA/HIS/HIS_server/analysis/dwi_data/stats/FA/sub-156_in-MNI_FA_AFTER-minus-BEFORE.nii.gz /export2/DATA/HIS/HIS_server/analysis/dwi_data/stats/FA/sub-157_in-MNI_FA_AFTER-minus-BEFORE.nii.gz /export2/DATA/HIS/HIS_server/analysis/dwi_data/stats/FA/sub-158_in-MNI_FA_AFTER-minus-BEFORE.nii.gz /export2/DATA/HIS/HIS_server/analysis/dwi_data/stats/FA/sub-159_in-MNI_FA_AFTER-minus-BEFORE.nii.gz /export2/DATA/HIS/HIS_server/analysis/dwi_data/stats/FA/sub-160_in-MNI_FA_AFTER-minus-BEFORE.nii.gz /export2/DATA/HIS/HIS_server/analysis/dwi_data/stats/FA/sub-161_in-MNI_FA_AFTER-minus-BEFORE.nii.gz /export2/DATA/HIS/HIS_server/analysis/dwi_data/stats/FA/sub-162_in-MNI_FA_AFTER-minus-BEFORE.nii.gz /export2/DATA/HIS/HIS_server/analysis/dwi_data/stats/FA/sub-163_in-MNI_FA_AFTER-minus-BEFORE.nii.gz /export2/DATA/HIS/HIS_server/analysis/dwi_data/stats/FA/sub-164_in-MNI_FA_AFTER-minus-BEFORE.nii.gz /export2/DATA/HIS/HIS_server/analysis/dwi_data/stats/FA/sub-166_in-MNI_FA_AFTER-minus-BEFORE.nii.gz /export2/DATA/HIS/HIS_server/analysis/dwi_data/stats/FA/sub-167_in-MNI_FA_AFTER-minus-BEFORE.nii.gz /export2/DATA/HIS/HIS_server/analysis/dwi_data/stats/FA/sub-168_in-MNI_FA_AFTER-minus-BEFORE.nii.gz /export2/DATA/HIS/HIS_server/analysis/dwi_data/stats/FA/sub-169_in-MNI_FA_AFTER-minus-BEFORE.nii.gz /export2/DATA/HIS/HIS_server/analysis/dwi_data/stats/FA/sub-170_in-MNI_FA_AFTER-minus-BEFORE.nii.gz /export2/DATA/HIS/HIS_server/analysis/dwi_data/stats/FA/sub-171_in-MNI_FA_AFTER-minus-BEFORE.nii.gz /export2/DATA/HIS/HIS_server/analysis/dwi_data/stats/FA/sub-172_in-MNI_FA_AFTER-minus-BEFORE.nii.gz /export2/DATA/HIS/HIS_server/analysis/dwi_data/stats/FA/sub-174_in-MNI_FA_AFTER-minus-BEFORE.nii.gz /export2/DATA/HIS/HIS_server/analysis/dwi_data/stats/FA/sub-175_in-MNI_FA_AFTER-minus-BEFORE.nii.gz\n",
      "fslmerge -t /export2/DATA/HIS/HIS_server/analysis/dwi_data/stats/FA/LONG_individualDiff_BEFORE_minus_AFTER_FA /export2/DATA/HIS/HIS_server/analysis/dwi_data/stats/FA/sub-204_in-MNI_FA_BEFORE-minus-AFTER.nii.gz /export2/DATA/HIS/HIS_server/analysis/dwi_data/stats/FA/sub-205_in-MNI_FA_BEFORE-minus-AFTER.nii.gz /export2/DATA/HIS/HIS_server/analysis/dwi_data/stats/FA/sub-207_in-MNI_FA_BEFORE-minus-AFTER.nii.gz /export2/DATA/HIS/HIS_server/analysis/dwi_data/stats/FA/sub-208_in-MNI_FA_BEFORE-minus-AFTER.nii.gz /export2/DATA/HIS/HIS_server/analysis/dwi_data/stats/FA/sub-209_in-MNI_FA_BEFORE-minus-AFTER.nii.gz /export2/DATA/HIS/HIS_server/analysis/dwi_data/stats/FA/sub-210_in-MNI_FA_BEFORE-minus-AFTER.nii.gz /export2/DATA/HIS/HIS_server/analysis/dwi_data/stats/FA/sub-212_in-MNI_FA_BEFORE-minus-AFTER.nii.gz /export2/DATA/HIS/HIS_server/analysis/dwi_data/stats/FA/sub-214_in-MNI_FA_BEFORE-minus-AFTER.nii.gz /export2/DATA/HIS/HIS_server/analysis/dwi_data/stats/FA/sub-215_in-MNI_FA_BEFORE-minus-AFTER.nii.gz /export2/DATA/HIS/HIS_server/analysis/dwi_data/stats/FA/sub-217_in-MNI_FA_BEFORE-minus-AFTER.nii.gz /export2/DATA/HIS/HIS_server/analysis/dwi_data/stats/FA/sub-218_in-MNI_FA_BEFORE-minus-AFTER.nii.gz /export2/DATA/HIS/HIS_server/analysis/dwi_data/stats/FA/sub-220_in-MNI_FA_BEFORE-minus-AFTER.nii.gz /export2/DATA/HIS/HIS_server/analysis/dwi_data/stats/FA/sub-221_in-MNI_FA_BEFORE-minus-AFTER.nii.gz /export2/DATA/HIS/HIS_server/analysis/dwi_data/stats/FA/sub-223_in-MNI_FA_BEFORE-minus-AFTER.nii.gz /export2/DATA/HIS/HIS_server/analysis/dwi_data/stats/FA/sub-224_in-MNI_FA_BEFORE-minus-AFTER.nii.gz /export2/DATA/HIS/HIS_server/analysis/dwi_data/stats/FA/sub-225_in-MNI_FA_BEFORE-minus-AFTER.nii.gz /export2/DATA/HIS/HIS_server/analysis/dwi_data/stats/FA/sub-227_in-MNI_FA_BEFORE-minus-AFTER.nii.gz /export2/DATA/HIS/HIS_server/analysis/dwi_data/stats/FA/sub-229_in-MNI_FA_BEFORE-minus-AFTER.nii.gz /export2/DATA/HIS/HIS_server/analysis/dwi_data/stats/FA/sub-230_in-MNI_FA_BEFORE-minus-AFTER.nii.gz /export2/DATA/HIS/HIS_server/analysis/dwi_data/stats/FA/sub-232_in-MNI_FA_BEFORE-minus-AFTER.nii.gz /export2/DATA/HIS/HIS_server/analysis/dwi_data/stats/FA/sub-234_in-MNI_FA_BEFORE-minus-AFTER.nii.gz /export2/DATA/HIS/HIS_server/analysis/dwi_data/stats/FA/sub-235_in-MNI_FA_BEFORE-minus-AFTER.nii.gz /export2/DATA/HIS/HIS_server/analysis/dwi_data/stats/FA/sub-238_in-MNI_FA_BEFORE-minus-AFTER.nii.gz /export2/DATA/HIS/HIS_server/analysis/dwi_data/stats/FA/sub-239_in-MNI_FA_BEFORE-minus-AFTER.nii.gz /export2/DATA/HIS/HIS_server/analysis/dwi_data/stats/FA/sub-240_in-MNI_FA_BEFORE-minus-AFTER.nii.gz /export2/DATA/HIS/HIS_server/analysis/dwi_data/stats/FA/sub-241_in-MNI_FA_BEFORE-minus-AFTER.nii.gz /export2/DATA/HIS/HIS_server/analysis/dwi_data/stats/FA/sub-242_in-MNI_FA_BEFORE-minus-AFTER.nii.gz /export2/DATA/HIS/HIS_server/analysis/dwi_data/stats/FA/sub-243_in-MNI_FA_BEFORE-minus-AFTER.nii.gz /export2/DATA/HIS/HIS_server/analysis/dwi_data/stats/FA/sub-245_in-MNI_FA_BEFORE-minus-AFTER.nii.gz /export2/DATA/HIS/HIS_server/analysis/dwi_data/stats/FA/sub-247_in-MNI_FA_BEFORE-minus-AFTER.nii.gz /export2/DATA/HIS/HIS_server/analysis/dwi_data/stats/FA/sub-248_in-MNI_FA_BEFORE-minus-AFTER.nii.gz /export2/DATA/HIS/HIS_server/analysis/dwi_data/stats/FA/sub-249_in-MNI_FA_BEFORE-minus-AFTER.nii.gz /export2/DATA/HIS/HIS_server/analysis/dwi_data/stats/FA/sub-251_in-MNI_FA_BEFORE-minus-AFTER.nii.gz /export2/DATA/HIS/HIS_server/analysis/dwi_data/stats/FA/sub-252_in-MNI_FA_BEFORE-minus-AFTER.nii.gz /export2/DATA/HIS/HIS_server/analysis/dwi_data/stats/FA/sub-254_in-MNI_FA_BEFORE-minus-AFTER.nii.gz /export2/DATA/HIS/HIS_server/analysis/dwi_data/stats/FA/sub-255_in-MNI_FA_BEFORE-minus-AFTER.nii.gz /export2/DATA/HIS/HIS_server/analysis/dwi_data/stats/FA/sub-257_in-MNI_FA_BEFORE-minus-AFTER.nii.gz /export2/DATA/HIS/HIS_server/analysis/dwi_data/stats/FA/sub-258_in-MNI_FA_BEFORE-minus-AFTER.nii.gz /export2/DATA/HIS/HIS_server/analysis/dwi_data/stats/FA/sub-260_in-MNI_FA_BEFORE-minus-AFTER.nii.gz /export2/DATA/HIS/HIS_server/analysis/dwi_data/stats/FA/sub-261_in-MNI_FA_BEFORE-minus-AFTER.nii.gz /export2/DATA/HIS/HIS_server/analysis/dwi_data/stats/FA/sub-262_in-MNI_FA_BEFORE-minus-AFTER.nii.gz /export2/DATA/HIS/HIS_server/analysis/dwi_data/stats/FA/sub-263_in-MNI_FA_BEFORE-minus-AFTER.nii.gz /export2/DATA/HIS/HIS_server/analysis/dwi_data/stats/FA/sub-264_in-MNI_FA_BEFORE-minus-AFTER.nii.gz /export2/DATA/HIS/HIS_server/analysis/dwi_data/stats/FA/sub-265_in-MNI_FA_BEFORE-minus-AFTER.nii.gz /export2/DATA/HIS/HIS_server/analysis/dwi_data/stats/FA/sub-267_in-MNI_FA_BEFORE-minus-AFTER.nii.gz /export2/DATA/HIS/HIS_server/analysis/dwi_data/stats/FA/sub-268_in-MNI_FA_BEFORE-minus-AFTER.nii.gz /export2/DATA/HIS/HIS_server/analysis/dwi_data/stats/FA/sub-269_in-MNI_FA_BEFORE-minus-AFTER.nii.gz /export2/DATA/HIS/HIS_server/analysis/dwi_data/stats/FA/sub-270_in-MNI_FA_BEFORE-minus-AFTER.nii.gz /export2/DATA/HIS/HIS_server/analysis/dwi_data/stats/FA/sub-271_in-MNI_FA_BEFORE-minus-AFTER.nii.gz /export2/DATA/HIS/HIS_server/analysis/dwi_data/stats/FA/sub-272_in-MNI_FA_BEFORE-minus-AFTER.nii.gz /export2/DATA/HIS/HIS_server/analysis/dwi_data/stats/FA/sub-275_in-MNI_FA_BEFORE-minus-AFTER.nii.gz /export2/DATA/HIS/HIS_server/analysis/dwi_data/stats/FA/sub-276_in-MNI_FA_BEFORE-minus-AFTER.nii.gz /export2/DATA/HIS/HIS_server/analysis/dwi_data/stats/FA/sub-277_in-MNI_FA_BEFORE-minus-AFTER.nii.gz /export2/DATA/HIS/HIS_server/analysis/dwi_data/stats/FA/sub-278_in-MNI_FA_BEFORE-minus-AFTER.nii.gz /export2/DATA/HIS/HIS_server/analysis/dwi_data/stats/FA/sub-280_in-MNI_FA_BEFORE-minus-AFTER.nii.gz /export2/DATA/HIS/HIS_server/analysis/dwi_data/stats/FA/sub-281_in-MNI_FA_BEFORE-minus-AFTER.nii.gz /export2/DATA/HIS/HIS_server/analysis/dwi_data/stats/FA/sub-282_in-MNI_FA_BEFORE-minus-AFTER.nii.gz /export2/DATA/HIS/HIS_server/analysis/dwi_data/stats/FA/sub-283_in-MNI_FA_BEFORE-minus-AFTER.nii.gz /export2/DATA/HIS/HIS_server/analysis/dwi_data/stats/FA/sub-284_in-MNI_FA_BEFORE-minus-AFTER.nii.gz /export2/DATA/HIS/HIS_server/analysis/dwi_data/stats/FA/sub-285_in-MNI_FA_BEFORE-minus-AFTER.nii.gz\n",
      "fslmerge -t /export2/DATA/HIS/HIS_server/analysis/dwi_data/stats/FA/SHORT_individualDiff_BEFORE_minus_AFTER_FA /export2/DATA/HIS/HIS_server/analysis/dwi_data/stats/FA/sub-103_in-MNI_FA_BEFORE-minus-AFTER.nii.gz /export2/DATA/HIS/HIS_server/analysis/dwi_data/stats/FA/sub-104_in-MNI_FA_BEFORE-minus-AFTER.nii.gz /export2/DATA/HIS/HIS_server/analysis/dwi_data/stats/FA/sub-106_in-MNI_FA_BEFORE-minus-AFTER.nii.gz /export2/DATA/HIS/HIS_server/analysis/dwi_data/stats/FA/sub-107_in-MNI_FA_BEFORE-minus-AFTER.nii.gz /export2/DATA/HIS/HIS_server/analysis/dwi_data/stats/FA/sub-108_in-MNI_FA_BEFORE-minus-AFTER.nii.gz /export2/DATA/HIS/HIS_server/analysis/dwi_data/stats/FA/sub-110_in-MNI_FA_BEFORE-minus-AFTER.nii.gz /export2/DATA/HIS/HIS_server/analysis/dwi_data/stats/FA/sub-113_in-MNI_FA_BEFORE-minus-AFTER.nii.gz /export2/DATA/HIS/HIS_server/analysis/dwi_data/stats/FA/sub-114_in-MNI_FA_BEFORE-minus-AFTER.nii.gz /export2/DATA/HIS/HIS_server/analysis/dwi_data/stats/FA/sub-115_in-MNI_FA_BEFORE-minus-AFTER.nii.gz /export2/DATA/HIS/HIS_server/analysis/dwi_data/stats/FA/sub-117_in-MNI_FA_BEFORE-minus-AFTER.nii.gz /export2/DATA/HIS/HIS_server/analysis/dwi_data/stats/FA/sub-118_in-MNI_FA_BEFORE-minus-AFTER.nii.gz /export2/DATA/HIS/HIS_server/analysis/dwi_data/stats/FA/sub-119_in-MNI_FA_BEFORE-minus-AFTER.nii.gz /export2/DATA/HIS/HIS_server/analysis/dwi_data/stats/FA/sub-120_in-MNI_FA_BEFORE-minus-AFTER.nii.gz /export2/DATA/HIS/HIS_server/analysis/dwi_data/stats/FA/sub-121_in-MNI_FA_BEFORE-minus-AFTER.nii.gz /export2/DATA/HIS/HIS_server/analysis/dwi_data/stats/FA/sub-122_in-MNI_FA_BEFORE-minus-AFTER.nii.gz /export2/DATA/HIS/HIS_server/analysis/dwi_data/stats/FA/sub-124_in-MNI_FA_BEFORE-minus-AFTER.nii.gz /export2/DATA/HIS/HIS_server/analysis/dwi_data/stats/FA/sub-126_in-MNI_FA_BEFORE-minus-AFTER.nii.gz /export2/DATA/HIS/HIS_server/analysis/dwi_data/stats/FA/sub-127_in-MNI_FA_BEFORE-minus-AFTER.nii.gz /export2/DATA/HIS/HIS_server/analysis/dwi_data/stats/FA/sub-128_in-MNI_FA_BEFORE-minus-AFTER.nii.gz /export2/DATA/HIS/HIS_server/analysis/dwi_data/stats/FA/sub-129_in-MNI_FA_BEFORE-minus-AFTER.nii.gz /export2/DATA/HIS/HIS_server/analysis/dwi_data/stats/FA/sub-130_in-MNI_FA_BEFORE-minus-AFTER.nii.gz /export2/DATA/HIS/HIS_server/analysis/dwi_data/stats/FA/sub-131_in-MNI_FA_BEFORE-minus-AFTER.nii.gz /export2/DATA/HIS/HIS_server/analysis/dwi_data/stats/FA/sub-133_in-MNI_FA_BEFORE-minus-AFTER.nii.gz /export2/DATA/HIS/HIS_server/analysis/dwi_data/stats/FA/sub-135_in-MNI_FA_BEFORE-minus-AFTER.nii.gz /export2/DATA/HIS/HIS_server/analysis/dwi_data/stats/FA/sub-137_in-MNI_FA_BEFORE-minus-AFTER.nii.gz /export2/DATA/HIS/HIS_server/analysis/dwi_data/stats/FA/sub-138_in-MNI_FA_BEFORE-minus-AFTER.nii.gz /export2/DATA/HIS/HIS_server/analysis/dwi_data/stats/FA/sub-139_in-MNI_FA_BEFORE-minus-AFTER.nii.gz /export2/DATA/HIS/HIS_server/analysis/dwi_data/stats/FA/sub-140_in-MNI_FA_BEFORE-minus-AFTER.nii.gz /export2/DATA/HIS/HIS_server/analysis/dwi_data/stats/FA/sub-141_in-MNI_FA_BEFORE-minus-AFTER.nii.gz /export2/DATA/HIS/HIS_server/analysis/dwi_data/stats/FA/sub-142_in-MNI_FA_BEFORE-minus-AFTER.nii.gz /export2/DATA/HIS/HIS_server/analysis/dwi_data/stats/FA/sub-143_in-MNI_FA_BEFORE-minus-AFTER.nii.gz /export2/DATA/HIS/HIS_server/analysis/dwi_data/stats/FA/sub-144_in-MNI_FA_BEFORE-minus-AFTER.nii.gz /export2/DATA/HIS/HIS_server/analysis/dwi_data/stats/FA/sub-145_in-MNI_FA_BEFORE-minus-AFTER.nii.gz /export2/DATA/HIS/HIS_server/analysis/dwi_data/stats/FA/sub-146_in-MNI_FA_BEFORE-minus-AFTER.nii.gz /export2/DATA/HIS/HIS_server/analysis/dwi_data/stats/FA/sub-147_in-MNI_FA_BEFORE-minus-AFTER.nii.gz /export2/DATA/HIS/HIS_server/analysis/dwi_data/stats/FA/sub-148_in-MNI_FA_BEFORE-minus-AFTER.nii.gz /export2/DATA/HIS/HIS_server/analysis/dwi_data/stats/FA/sub-149_in-MNI_FA_BEFORE-minus-AFTER.nii.gz /export2/DATA/HIS/HIS_server/analysis/dwi_data/stats/FA/sub-150_in-MNI_FA_BEFORE-minus-AFTER.nii.gz /export2/DATA/HIS/HIS_server/analysis/dwi_data/stats/FA/sub-151_in-MNI_FA_BEFORE-minus-AFTER.nii.gz /export2/DATA/HIS/HIS_server/analysis/dwi_data/stats/FA/sub-152_in-MNI_FA_BEFORE-minus-AFTER.nii.gz /export2/DATA/HIS/HIS_server/analysis/dwi_data/stats/FA/sub-153_in-MNI_FA_BEFORE-minus-AFTER.nii.gz /export2/DATA/HIS/HIS_server/analysis/dwi_data/stats/FA/sub-154_in-MNI_FA_BEFORE-minus-AFTER.nii.gz /export2/DATA/HIS/HIS_server/analysis/dwi_data/stats/FA/sub-155_in-MNI_FA_BEFORE-minus-AFTER.nii.gz /export2/DATA/HIS/HIS_server/analysis/dwi_data/stats/FA/sub-156_in-MNI_FA_BEFORE-minus-AFTER.nii.gz /export2/DATA/HIS/HIS_server/analysis/dwi_data/stats/FA/sub-157_in-MNI_FA_BEFORE-minus-AFTER.nii.gz /export2/DATA/HIS/HIS_server/analysis/dwi_data/stats/FA/sub-158_in-MNI_FA_BEFORE-minus-AFTER.nii.gz /export2/DATA/HIS/HIS_server/analysis/dwi_data/stats/FA/sub-159_in-MNI_FA_BEFORE-minus-AFTER.nii.gz /export2/DATA/HIS/HIS_server/analysis/dwi_data/stats/FA/sub-160_in-MNI_FA_BEFORE-minus-AFTER.nii.gz /export2/DATA/HIS/HIS_server/analysis/dwi_data/stats/FA/sub-161_in-MNI_FA_BEFORE-minus-AFTER.nii.gz /export2/DATA/HIS/HIS_server/analysis/dwi_data/stats/FA/sub-162_in-MNI_FA_BEFORE-minus-AFTER.nii.gz /export2/DATA/HIS/HIS_server/analysis/dwi_data/stats/FA/sub-163_in-MNI_FA_BEFORE-minus-AFTER.nii.gz /export2/DATA/HIS/HIS_server/analysis/dwi_data/stats/FA/sub-164_in-MNI_FA_BEFORE-minus-AFTER.nii.gz /export2/DATA/HIS/HIS_server/analysis/dwi_data/stats/FA/sub-166_in-MNI_FA_BEFORE-minus-AFTER.nii.gz /export2/DATA/HIS/HIS_server/analysis/dwi_data/stats/FA/sub-167_in-MNI_FA_BEFORE-minus-AFTER.nii.gz /export2/DATA/HIS/HIS_server/analysis/dwi_data/stats/FA/sub-168_in-MNI_FA_BEFORE-minus-AFTER.nii.gz /export2/DATA/HIS/HIS_server/analysis/dwi_data/stats/FA/sub-169_in-MNI_FA_BEFORE-minus-AFTER.nii.gz /export2/DATA/HIS/HIS_server/analysis/dwi_data/stats/FA/sub-170_in-MNI_FA_BEFORE-minus-AFTER.nii.gz /export2/DATA/HIS/HIS_server/analysis/dwi_data/stats/FA/sub-171_in-MNI_FA_BEFORE-minus-AFTER.nii.gz /export2/DATA/HIS/HIS_server/analysis/dwi_data/stats/FA/sub-172_in-MNI_FA_BEFORE-minus-AFTER.nii.gz /export2/DATA/HIS/HIS_server/analysis/dwi_data/stats/FA/sub-174_in-MNI_FA_BEFORE-minus-AFTER.nii.gz /export2/DATA/HIS/HIS_server/analysis/dwi_data/stats/FA/sub-175_in-MNI_FA_BEFORE-minus-AFTER.nii.gz\n"
     ]
    }
   ],
   "source": [
    "for map_type in ['MD','FA']:          \n",
    "    print(f\"fslmerge -t {os.path.join(stats_path, map_type, f'LONG_individualDiff_AFTER_minus_BEFORE_{map_type}')} {' '.join([os.path.join(stats_path, map_type, f'{sub}_in-MNI_{map_type}_AFTER-minus-BEFORE.nii.gz') for sub in subjFoldersDTI_long])}\")\n",
    "    os.system(f\"fslmerge -t {os.path.join(stats_path, map_type, f'LONG_individualDiff_AFTER_minus_BEFORE_{map_type}')} {' '.join([os.path.join(stats_path, map_type, f'{sub}_in-MNI_{map_type}_AFTER-minus-BEFORE.nii.gz') for sub in subjFoldersDTI_long])}\")\n",
    "\n",
    "    print(f\"fslmerge -t {os.path.join(stats_path, map_type, f'SHORT_individualDiff_AFTER_minus_BEFORE_{map_type}')} {' '.join([os.path.join(stats_path, map_type, f'{sub}_in-MNI_{map_type}_AFTER-minus-BEFORE.nii.gz') for sub in subjFoldersDTI_short])}\")\n",
    "    os.system(f\"fslmerge -t {os.path.join(stats_path, map_type, f'SHORT_individualDiff_AFTER_minus_BEFORE_{map_type}')} {' '.join([os.path.join(stats_path, map_type, f'{sub}_in-MNI_{map_type}_AFTER-minus-BEFORE.nii.gz') for sub in subjFoldersDTI_short])}\")\n",
    "\n",
    "    print(f\"fslmerge -t {os.path.join(stats_path, map_type, f'LONG_individualDiff_BEFORE_minus_AFTER_{map_type}')} {' '.join([os.path.join(stats_path, map_type, f'{sub}_in-MNI_{map_type}_BEFORE-minus-AFTER.nii.gz') for sub in subjFoldersDTI_long])}\")\n",
    "    os.system(f\"fslmerge -t {os.path.join(stats_path, map_type, f'LONG_individualDiff_BEFORE_minus_AFTER_{map_type}')} {' '.join([os.path.join(stats_path, map_type, f'{sub}_in-MNI_{map_type}_BEFORE-minus-AFTER.nii.gz') for sub in subjFoldersDTI_long])}\")\n",
    "\n",
    "    print(f\"fslmerge -t {os.path.join(stats_path, map_type, f'SHORT_individualDiff_BEFORE_minus_AFTER_{map_type}')} {' '.join([os.path.join(stats_path, map_type, f'{sub}_in-MNI_{map_type}_BEFORE-minus-AFTER.nii.gz') for sub in subjFoldersDTI_short])}\")\n",
    "    os.system(f\"fslmerge -t {os.path.join(stats_path, map_type, f'SHORT_individualDiff_BEFORE_minus_AFTER_{map_type}')} {' '.join([os.path.join(stats_path, map_type, f'{sub}_in-MNI_{map_type}_BEFORE-minus-AFTER.nii.gz') for sub in subjFoldersDTI_short])}\")\n"
   ]
  },
  {
   "cell_type": "markdown",
   "metadata": {},
   "source": [
    "### Settings"
   ]
  },
  {
   "cell_type": "code",
   "execution_count": 124,
   "metadata": {},
   "outputs": [],
   "source": [
    "# a function to run randomise for the individual differences analyses:\n",
    "def runRandomiseIndividualDiffs(group, map_type, region):\n",
    "    print(f'Running randomise for individual differences:\\n--- {group} training group | {map_type} | {region} ---\\n')\n",
    "    #print(f'MAKE SURE TO REPLACE IN THE FUNCTION THE the print to os.system before running the command !!!\\n')\n",
    "    os.system(f\"randomise_parallel \\\n",
    "        -i {os.path.join(stats_path, map_type, f'{group}_individualDiff_AFTER_minus_BEFORE_{map_type}')} \\\n",
    "        -o {os.path.join(stats_path, map_type, f'{group}_individualDiff_AFTER_minus_BEFORE_{map_type}_{region}')} \\\n",
    "        {'' if region=='whole_brain' else f'-m {masks_paths[region]}'} \\\n",
    "        -d {os.path.join(stats_path, 'models', 'individual_differences', f'design_indivdual_diff_{group}.mat')} \\\n",
    "        -t {os.path.join(stats_path, 'models', 'individual_differences', 'design_indivdual_diff.con')}  \\\n",
    "        -n 6000 -C 3.1 -D\")\n",
    "\n",
    "\n",
    "# Get cluster info:\n",
    "def getClusterInfoIndividualDiffs(group, map_type, region, ReversedSigThresh='0.90'):\n",
    "    print(f'Test for POSITIVE relationship between:\\n--- increase in {map_type} and GOAL-DIRECTEDNESS in: {region} | group: {group} ---\\n')\n",
    "    print(os.popen(f'cluster \\\n",
    "        -i {os.path.join(stats_path, map_type, f\"{group}_individualDiff_AFTER_minus_BEFORE_{map_type}_{region}_clusterm_corrp_tstat1.nii.gz\")} \\\n",
    "        -c {os.path.join(stats_path, map_type, f\"{group}_individualDiff_AFTER_minus_BEFORE_{map_type}_{region}_tstat1.nii.gz\")}\\\n",
    "        -t {ReversedSigThresh} \\\n",
    "        --scalarname=corrp' + '\"1-p\"').read())\n",
    "\n",
    "    print(f'Test for NEGATIVE relationship between:\\n--- increase in {map_type} and GOAL-DIRECTEDNESS in: {region} | group: {group} ---\\n')\n",
    "    print(os.popen(f'cluster \\\n",
    "        -i {os.path.join(stats_path, map_type, f\"{group}_individualDiff_AFTER_minus_BEFORE_{map_type}_{region}_clusterm_corrp_tstat2.nii.gz\")} \\\n",
    "        -c {os.path.join(stats_path, map_type, f\"{group}_individualDiff_AFTER_minus_BEFORE_{map_type}_{region}_tstat2.nii.gz\")}\\\n",
    "        -t {ReversedSigThresh} \\\n",
    "        --scalarname=corrp' + '\"1-p\"').read())\n"
   ]
  },
  {
   "cell_type": "markdown",
   "metadata": {},
   "source": [
    "## SHORT TRAINING"
   ]
  },
  {
   "cell_type": "code",
   "execution_count": 348,
   "metadata": {},
   "outputs": [],
   "source": [
    "group = 'SHORT'"
   ]
  },
  {
   "cell_type": "markdown",
   "metadata": {},
   "source": [
    "### Whole brain - FA"
   ]
  },
  {
   "cell_type": "code",
   "execution_count": 126,
   "metadata": {},
   "outputs": [],
   "source": [
    "map_type='FA'\n",
    "region='whole_brain'"
   ]
  },
  {
   "cell_type": "code",
   "execution_count": 127,
   "metadata": {},
   "outputs": [
    {
     "name": "stdout",
     "output_type": "stream",
     "text": [
      "Running randomise for individual differences:\n",
      "--- SHORT training group | FA | whole_brain ---\n",
      "\n"
     ]
    }
   ],
   "source": [
    "runRandomiseIndividualDiffs(group, map_type, region)"
   ]
  },
  {
   "cell_type": "code",
   "execution_count": 128,
   "metadata": {},
   "outputs": [
    {
     "name": "stdout",
     "output_type": "stream",
     "text": [
      "Test for POSITIVE relationship between:\n",
      "--- increase in FA and GOAL-DIRECTEDNESS in: whole_brain | group: SHORT ---\n",
      "\n",
      "Cluster Index\tVoxels\tcorrp1-p-MAX\tcorrp1-p-MAX X (vox)\tcorrp1-p-MAX Y (vox)\tcorrp1-p-MAX Z (vox)\tcorrp1-p-COG X (vox)\tcorrp1-p-COG Y (vox)\tcorrp1-p-COG Z (vox)\tCOPE-MAX\tCOPE-MAX X (vox)\tCOPE-MAX Y (vox)\tCOPE-MAX Z (vox)\tCOPE-MEAN\n",
      "\n",
      "Test for NEGATIVE relationship between:\n",
      "--- increase in FA and GOAL-DIRECTEDNESS in: whole_brain | group: SHORT ---\n",
      "\n",
      "Cluster Index\tVoxels\tcorrp1-p-MAX\tcorrp1-p-MAX X (vox)\tcorrp1-p-MAX Y (vox)\tcorrp1-p-MAX Z (vox)\tcorrp1-p-COG X (vox)\tcorrp1-p-COG Y (vox)\tcorrp1-p-COG Z (vox)\tCOPE-MAX\tCOPE-MAX X (vox)\tCOPE-MAX Y (vox)\tCOPE-MAX Z (vox)\tCOPE-MEAN\n",
      "\n"
     ]
    }
   ],
   "source": [
    "getClusterInfoIndividualDiffs(group, map_type, region, ReversedSigThresh='0.90')"
   ]
  },
  {
   "cell_type": "markdown",
   "metadata": {},
   "source": [
    ">>>>> RESULT: NOTHING"
   ]
  },
  {
   "cell_type": "markdown",
   "metadata": {},
   "source": [
    "### Putamen - FA"
   ]
  },
  {
   "cell_type": "code",
   "execution_count": 129,
   "metadata": {},
   "outputs": [],
   "source": [
    "region='Putamen'"
   ]
  },
  {
   "cell_type": "code",
   "execution_count": 130,
   "metadata": {},
   "outputs": [
    {
     "name": "stdout",
     "output_type": "stream",
     "text": [
      "Running randomise for individual differences:\n",
      "--- SHORT training group | FA | Putamen ---\n",
      "\n"
     ]
    }
   ],
   "source": [
    "runRandomiseIndividualDiffs(group, map_type, region)"
   ]
  },
  {
   "cell_type": "code",
   "execution_count": 131,
   "metadata": {},
   "outputs": [
    {
     "name": "stdout",
     "output_type": "stream",
     "text": [
      "Test for POSITIVE relationship between:\n",
      "--- increase in FA and GOAL-DIRECTEDNESS in: Putamen | group: SHORT ---\n",
      "\n",
      "Cluster Index\tVoxels\tcorrp1-p-MAX\tcorrp1-p-MAX X (vox)\tcorrp1-p-MAX Y (vox)\tcorrp1-p-MAX Z (vox)\tcorrp1-p-COG X (vox)\tcorrp1-p-COG Y (vox)\tcorrp1-p-COG Z (vox)\tCOPE-MAX\tCOPE-MAX X (vox)\tCOPE-MAX Y (vox)\tCOPE-MAX Z (vox)\tCOPE-MEAN\n",
      "\n",
      "Test for NEGATIVE relationship between:\n",
      "--- increase in FA and GOAL-DIRECTEDNESS in: Putamen | group: SHORT ---\n",
      "\n",
      "Cluster Index\tVoxels\tcorrp1-p-MAX\tcorrp1-p-MAX X (vox)\tcorrp1-p-MAX Y (vox)\tcorrp1-p-MAX Z (vox)\tcorrp1-p-COG X (vox)\tcorrp1-p-COG Y (vox)\tcorrp1-p-COG Z (vox)\tCOPE-MAX\tCOPE-MAX X (vox)\tCOPE-MAX Y (vox)\tCOPE-MAX Z (vox)\tCOPE-MEAN\n",
      "\n"
     ]
    }
   ],
   "source": [
    "getClusterInfoIndividualDiffs(group, map_type, region, ReversedSigThresh='0.90')"
   ]
  },
  {
   "cell_type": "markdown",
   "metadata": {},
   "source": [
    ">>>>> RESULT: NOTHING"
   ]
  },
  {
   "cell_type": "markdown",
   "metadata": {},
   "source": [
    "### Caudate - FA"
   ]
  },
  {
   "cell_type": "code",
   "execution_count": 132,
   "metadata": {},
   "outputs": [],
   "source": [
    "region='Caudate'"
   ]
  },
  {
   "cell_type": "code",
   "execution_count": 133,
   "metadata": {},
   "outputs": [
    {
     "name": "stdout",
     "output_type": "stream",
     "text": [
      "Running randomise for individual differences:\n",
      "--- SHORT training group | FA | Caudate ---\n",
      "\n"
     ]
    }
   ],
   "source": [
    "runRandomiseIndividualDiffs(group, map_type, region)"
   ]
  },
  {
   "cell_type": "code",
   "execution_count": 134,
   "metadata": {},
   "outputs": [
    {
     "name": "stdout",
     "output_type": "stream",
     "text": [
      "Test for POSITIVE relationship between:\n",
      "--- increase in FA and GOAL-DIRECTEDNESS in: Caudate | group: SHORT ---\n",
      "\n",
      "Cluster Index\tVoxels\tcorrp1-p-MAX\tcorrp1-p-MAX X (vox)\tcorrp1-p-MAX Y (vox)\tcorrp1-p-MAX Z (vox)\tcorrp1-p-COG X (vox)\tcorrp1-p-COG Y (vox)\tcorrp1-p-COG Z (vox)\tCOPE-MAX\tCOPE-MAX X (vox)\tCOPE-MAX Y (vox)\tCOPE-MAX Z (vox)\tCOPE-MEAN\n",
      "\n",
      "Test for NEGATIVE relationship between:\n",
      "--- increase in FA and GOAL-DIRECTEDNESS in: Caudate | group: SHORT ---\n",
      "\n",
      "Cluster Index\tVoxels\tcorrp1-p-MAX\tcorrp1-p-MAX X (vox)\tcorrp1-p-MAX Y (vox)\tcorrp1-p-MAX Z (vox)\tcorrp1-p-COG X (vox)\tcorrp1-p-COG Y (vox)\tcorrp1-p-COG Z (vox)\tCOPE-MAX\tCOPE-MAX X (vox)\tCOPE-MAX Y (vox)\tCOPE-MAX Z (vox)\tCOPE-MEAN\n",
      "\n"
     ]
    }
   ],
   "source": [
    "getClusterInfoIndividualDiffs(group, map_type, region, ReversedSigThresh='0.90')"
   ]
  },
  {
   "cell_type": "markdown",
   "metadata": {},
   "source": [
    ">>>>> RESULT: NOTHING"
   ]
  },
  {
   "cell_type": "markdown",
   "metadata": {},
   "source": [
    "### vmPFC - FA"
   ]
  },
  {
   "cell_type": "code",
   "execution_count": 135,
   "metadata": {},
   "outputs": [],
   "source": [
    "region='vmPFC'"
   ]
  },
  {
   "cell_type": "code",
   "execution_count": 136,
   "metadata": {},
   "outputs": [
    {
     "name": "stdout",
     "output_type": "stream",
     "text": [
      "Running randomise for individual differences:\n",
      "--- SHORT training group | FA | vmPFC ---\n",
      "\n"
     ]
    }
   ],
   "source": [
    "runRandomiseIndividualDiffs(group, map_type, region)"
   ]
  },
  {
   "cell_type": "code",
   "execution_count": 137,
   "metadata": {},
   "outputs": [
    {
     "name": "stdout",
     "output_type": "stream",
     "text": [
      "Test for POSITIVE relationship between:\n",
      "--- increase in FA and GOAL-DIRECTEDNESS in: vmPFC | group: SHORT ---\n",
      "\n",
      "Cluster Index\tVoxels\tcorrp1-p-MAX\tcorrp1-p-MAX X (vox)\tcorrp1-p-MAX Y (vox)\tcorrp1-p-MAX Z (vox)\tcorrp1-p-COG X (vox)\tcorrp1-p-COG Y (vox)\tcorrp1-p-COG Z (vox)\tCOPE-MAX\tCOPE-MAX X (vox)\tCOPE-MAX Y (vox)\tCOPE-MAX Z (vox)\tCOPE-MEAN\n",
      "\n",
      "Test for NEGATIVE relationship between:\n",
      "--- increase in FA and GOAL-DIRECTEDNESS in: vmPFC | group: SHORT ---\n",
      "\n",
      "Cluster Index\tVoxels\tcorrp1-p-MAX\tcorrp1-p-MAX X (vox)\tcorrp1-p-MAX Y (vox)\tcorrp1-p-MAX Z (vox)\tcorrp1-p-COG X (vox)\tcorrp1-p-COG Y (vox)\tcorrp1-p-COG Z (vox)\tCOPE-MAX\tCOPE-MAX X (vox)\tCOPE-MAX Y (vox)\tCOPE-MAX Z (vox)\tCOPE-MEAN\n",
      "\n"
     ]
    }
   ],
   "source": [
    "getClusterInfoIndividualDiffs(group, map_type, region, ReversedSigThresh='0.90')"
   ]
  },
  {
   "cell_type": "markdown",
   "metadata": {},
   "source": [
    ">>>>> RESULT: NOTHING"
   ]
  },
  {
   "cell_type": "markdown",
   "metadata": {},
   "source": [
    "### Whole brain - MD"
   ]
  },
  {
   "cell_type": "code",
   "execution_count": 349,
   "metadata": {},
   "outputs": [],
   "source": [
    "map_type='MD'\n",
    "region='whole_brain'"
   ]
  },
  {
   "cell_type": "code",
   "execution_count": 139,
   "metadata": {},
   "outputs": [
    {
     "name": "stdout",
     "output_type": "stream",
     "text": [
      "Running randomise for individual differences:\n",
      "--- SHORT training group | MD | whole_brain ---\n",
      "\n"
     ]
    }
   ],
   "source": [
    "runRandomiseIndividualDiffs(group, map_type, region)"
   ]
  },
  {
   "cell_type": "code",
   "execution_count": 140,
   "metadata": {},
   "outputs": [
    {
     "name": "stdout",
     "output_type": "stream",
     "text": [
      "Test for POSITIVE relationship between:\n",
      "--- increase in MD and GOAL-DIRECTEDNESS in: whole_brain | group: SHORT ---\n",
      "\n",
      "Cluster Index\tVoxels\tcorrp1-p-MAX\tcorrp1-p-MAX X (vox)\tcorrp1-p-MAX Y (vox)\tcorrp1-p-MAX Z (vox)\tcorrp1-p-COG X (vox)\tcorrp1-p-COG Y (vox)\tcorrp1-p-COG Z (vox)\tCOPE-MAX\tCOPE-MAX X (vox)\tCOPE-MAX Y (vox)\tCOPE-MAX Z (vox)\tCOPE-MEAN\n",
      "\n",
      "Test for NEGATIVE relationship between:\n",
      "--- increase in MD and GOAL-DIRECTEDNESS in: whole_brain | group: SHORT ---\n",
      "\n",
      "Cluster Index\tVoxels\tcorrp1-p-MAX\tcorrp1-p-MAX X (vox)\tcorrp1-p-MAX Y (vox)\tcorrp1-p-MAX Z (vox)\tcorrp1-p-COG X (vox)\tcorrp1-p-COG Y (vox)\tcorrp1-p-COG Z (vox)\tCOPE-MAX\tCOPE-MAX X (vox)\tCOPE-MAX Y (vox)\tCOPE-MAX Z (vox)\tCOPE-MEAN\n",
      "\n"
     ]
    }
   ],
   "source": [
    "getClusterInfoIndividualDiffs(group, map_type, region, ReversedSigThresh='0.90')"
   ]
  },
  {
   "cell_type": "markdown",
   "metadata": {},
   "source": [
    ">>>>> RESULT: NOTHING"
   ]
  },
  {
   "cell_type": "markdown",
   "metadata": {},
   "source": [
    "### Putamen - MD"
   ]
  },
  {
   "cell_type": "code",
   "execution_count": 141,
   "metadata": {},
   "outputs": [],
   "source": [
    "region='Putamen'"
   ]
  },
  {
   "cell_type": "code",
   "execution_count": 142,
   "metadata": {},
   "outputs": [
    {
     "name": "stdout",
     "output_type": "stream",
     "text": [
      "Running randomise for individual differences:\n",
      "--- SHORT training group | MD | Putamen ---\n",
      "\n"
     ]
    }
   ],
   "source": [
    "runRandomiseIndividualDiffs(group, map_type, region)"
   ]
  },
  {
   "cell_type": "code",
   "execution_count": 143,
   "metadata": {},
   "outputs": [
    {
     "name": "stdout",
     "output_type": "stream",
     "text": [
      "Test for POSITIVE relationship between:\n",
      "--- increase in MD and GOAL-DIRECTEDNESS in: Putamen | group: SHORT ---\n",
      "\n",
      "Cluster Index\tVoxels\tcorrp1-p-MAX\tcorrp1-p-MAX X (vox)\tcorrp1-p-MAX Y (vox)\tcorrp1-p-MAX Z (vox)\tcorrp1-p-COG X (vox)\tcorrp1-p-COG Y (vox)\tcorrp1-p-COG Z (vox)\tCOPE-MAX\tCOPE-MAX X (vox)\tCOPE-MAX Y (vox)\tCOPE-MAX Z (vox)\tCOPE-MEAN\n",
      "\n",
      "Test for NEGATIVE relationship between:\n",
      "--- increase in MD and GOAL-DIRECTEDNESS in: Putamen | group: SHORT ---\n",
      "\n",
      "Cluster Index\tVoxels\tcorrp1-p-MAX\tcorrp1-p-MAX X (vox)\tcorrp1-p-MAX Y (vox)\tcorrp1-p-MAX Z (vox)\tcorrp1-p-COG X (vox)\tcorrp1-p-COG Y (vox)\tcorrp1-p-COG Z (vox)\tCOPE-MAX\tCOPE-MAX X (vox)\tCOPE-MAX Y (vox)\tCOPE-MAX Z (vox)\tCOPE-MEAN\n",
      "\n"
     ]
    }
   ],
   "source": [
    "getClusterInfoIndividualDiffs(group, map_type, region, ReversedSigThresh='0.90')"
   ]
  },
  {
   "cell_type": "markdown",
   "metadata": {},
   "source": [
    ">>>>> RESULT: NOTHING"
   ]
  },
  {
   "cell_type": "markdown",
   "metadata": {},
   "source": [
    "### Caudate - MD"
   ]
  },
  {
   "cell_type": "code",
   "execution_count": 144,
   "metadata": {},
   "outputs": [],
   "source": [
    "region='Caudate'"
   ]
  },
  {
   "cell_type": "code",
   "execution_count": 145,
   "metadata": {},
   "outputs": [
    {
     "name": "stdout",
     "output_type": "stream",
     "text": [
      "Running randomise for individual differences:\n",
      "--- SHORT training group | MD | Caudate ---\n",
      "\n"
     ]
    }
   ],
   "source": [
    "runRandomiseIndividualDiffs(group, map_type, region)"
   ]
  },
  {
   "cell_type": "code",
   "execution_count": 146,
   "metadata": {},
   "outputs": [
    {
     "name": "stdout",
     "output_type": "stream",
     "text": [
      "Test for POSITIVE relationship between:\n",
      "--- increase in MD and GOAL-DIRECTEDNESS in: Caudate | group: SHORT ---\n",
      "\n",
      "Cluster Index\tVoxels\tcorrp1-p-MAX\tcorrp1-p-MAX X (vox)\tcorrp1-p-MAX Y (vox)\tcorrp1-p-MAX Z (vox)\tcorrp1-p-COG X (vox)\tcorrp1-p-COG Y (vox)\tcorrp1-p-COG Z (vox)\tCOPE-MAX\tCOPE-MAX X (vox)\tCOPE-MAX Y (vox)\tCOPE-MAX Z (vox)\tCOPE-MEAN\n",
      "\n",
      "Test for NEGATIVE relationship between:\n",
      "--- increase in MD and GOAL-DIRECTEDNESS in: Caudate | group: SHORT ---\n",
      "\n",
      "Cluster Index\tVoxels\tcorrp1-p-MAX\tcorrp1-p-MAX X (vox)\tcorrp1-p-MAX Y (vox)\tcorrp1-p-MAX Z (vox)\tcorrp1-p-COG X (vox)\tcorrp1-p-COG Y (vox)\tcorrp1-p-COG Z (vox)\tCOPE-MAX\tCOPE-MAX X (vox)\tCOPE-MAX Y (vox)\tCOPE-MAX Z (vox)\tCOPE-MEAN\n",
      "\n"
     ]
    }
   ],
   "source": [
    "getClusterInfoIndividualDiffs(group, map_type, region, ReversedSigThresh='0.90')"
   ]
  },
  {
   "cell_type": "markdown",
   "metadata": {},
   "source": [
    ">>>>> RESULT: NOTHING"
   ]
  },
  {
   "cell_type": "markdown",
   "metadata": {},
   "source": [
    "### vmPFC - MD"
   ]
  },
  {
   "cell_type": "code",
   "execution_count": 350,
   "metadata": {},
   "outputs": [],
   "source": [
    "region='vmPFC'"
   ]
  },
  {
   "cell_type": "code",
   "execution_count": 351,
   "metadata": {},
   "outputs": [
    {
     "name": "stdout",
     "output_type": "stream",
     "text": [
      "Running randomise for individual differences:\n",
      "--- SHORT training group | MD | vmPFC ---\n",
      "\n"
     ]
    }
   ],
   "source": [
    "runRandomiseIndividualDiffs(group, map_type, region)"
   ]
  },
  {
   "cell_type": "code",
   "execution_count": 354,
   "metadata": {},
   "outputs": [
    {
     "name": "stdout",
     "output_type": "stream",
     "text": [
      "Test for POSITIVE relationship between:\n",
      "--- increase in MD and GOAL-DIRECTEDNESS in: vmPFC | group: SHORT ---\n",
      "\n",
      "Cluster Index\tVoxels\tcorrp1-p-MAX\tcorrp1-p-MAX X (vox)\tcorrp1-p-MAX Y (vox)\tcorrp1-p-MAX Z (vox)\tcorrp1-p-COG X (vox)\tcorrp1-p-COG Y (vox)\tcorrp1-p-COG Z (vox)\tCOPE-MAX\tCOPE-MAX X (vox)\tCOPE-MAX Y (vox)\tCOPE-MAX Z (vox)\tCOPE-MEAN\n",
      "\n",
      "Test for NEGATIVE relationship between:\n",
      "--- increase in MD and GOAL-DIRECTEDNESS in: vmPFC | group: SHORT ---\n",
      "\n",
      "Cluster Index\tVoxels\tcorrp1-p-MAX\tcorrp1-p-MAX X (vox)\tcorrp1-p-MAX Y (vox)\tcorrp1-p-MAX Z (vox)\tcorrp1-p-COG X (vox)\tcorrp1-p-COG Y (vox)\tcorrp1-p-COG Z (vox)\tCOPE-MAX\tCOPE-MAX X (vox)\tCOPE-MAX Y (vox)\tCOPE-MAX Z (vox)\tCOPE-MEAN\n",
      "1\t5\t0.918\t50\t72\t25\t50.4\t72.6\t25.6\t5.32\t50\t72\t26\t4.23\n",
      "\n"
     ]
    }
   ],
   "source": [
    "getClusterInfoIndividualDiffs(group, map_type, region, ReversedSigThresh='0.90')"
   ]
  },
  {
   "cell_type": "markdown",
   "metadata": {},
   "source": [
    ">>>>> RESULTS: Marginally significane in the vmPFC - a negative relationship between goal-directedness and change (increase) in MD  => reduction in MD more goal-directedness."
   ]
  },
  {
   "cell_type": "markdown",
   "metadata": {},
   "source": [
    "## LONG TRAINING"
   ]
  },
  {
   "cell_type": "code",
   "execution_count": 344,
   "metadata": {},
   "outputs": [],
   "source": [
    "group = 'LONG'"
   ]
  },
  {
   "cell_type": "markdown",
   "metadata": {},
   "source": [
    "### Whole brain - FA"
   ]
  },
  {
   "cell_type": "code",
   "execution_count": 345,
   "metadata": {},
   "outputs": [],
   "source": [
    "map_type='FA'\n",
    "region='whole_brain'"
   ]
  },
  {
   "cell_type": "code",
   "execution_count": 152,
   "metadata": {},
   "outputs": [
    {
     "name": "stdout",
     "output_type": "stream",
     "text": [
      "Running randomise for individual differences:\n",
      "--- LONG training group | FA | whole_brain ---\n",
      "\n"
     ]
    }
   ],
   "source": [
    "runRandomiseIndividualDiffs(group, map_type, region)"
   ]
  },
  {
   "cell_type": "code",
   "execution_count": 153,
   "metadata": {},
   "outputs": [
    {
     "name": "stdout",
     "output_type": "stream",
     "text": [
      "Test for POSITIVE relationship between:\n",
      "--- increase in FA and GOAL-DIRECTEDNESS in: whole_brain | group: LONG ---\n",
      "\n",
      "Cluster Index\tVoxels\tcorrp1-p-MAX\tcorrp1-p-MAX X (vox)\tcorrp1-p-MAX Y (vox)\tcorrp1-p-MAX Z (vox)\tcorrp1-p-COG X (vox)\tcorrp1-p-COG Y (vox)\tcorrp1-p-COG Z (vox)\tCOPE-MAX\tCOPE-MAX X (vox)\tCOPE-MAX Y (vox)\tCOPE-MAX Z (vox)\tCOPE-MEAN\n",
      "\n",
      "Test for NEGATIVE relationship between:\n",
      "--- increase in FA and GOAL-DIRECTEDNESS in: whole_brain | group: LONG ---\n",
      "\n",
      "Cluster Index\tVoxels\tcorrp1-p-MAX\tcorrp1-p-MAX X (vox)\tcorrp1-p-MAX Y (vox)\tcorrp1-p-MAX Z (vox)\tcorrp1-p-COG X (vox)\tcorrp1-p-COG Y (vox)\tcorrp1-p-COG Z (vox)\tCOPE-MAX\tCOPE-MAX X (vox)\tCOPE-MAX Y (vox)\tCOPE-MAX Z (vox)\tCOPE-MEAN\n",
      "\n"
     ]
    }
   ],
   "source": [
    "getClusterInfoIndividualDiffs(group, map_type, region, ReversedSigThresh='0.90')"
   ]
  },
  {
   "cell_type": "markdown",
   "metadata": {},
   "source": [
    ">>>>> RESULT: NOTHING"
   ]
  },
  {
   "cell_type": "markdown",
   "metadata": {},
   "source": [
    "### Putamen - FA"
   ]
  },
  {
   "cell_type": "code",
   "execution_count": 154,
   "metadata": {},
   "outputs": [],
   "source": [
    "region='Putamen'"
   ]
  },
  {
   "cell_type": "code",
   "execution_count": 155,
   "metadata": {},
   "outputs": [
    {
     "name": "stdout",
     "output_type": "stream",
     "text": [
      "Running randomise for individual differences:\n",
      "--- LONG training group | FA | Putamen ---\n",
      "\n"
     ]
    }
   ],
   "source": [
    "runRandomiseIndividualDiffs(group, map_type, region)"
   ]
  },
  {
   "cell_type": "code",
   "execution_count": 156,
   "metadata": {},
   "outputs": [
    {
     "name": "stdout",
     "output_type": "stream",
     "text": [
      "Test for POSITIVE relationship between:\n",
      "--- increase in FA and GOAL-DIRECTEDNESS in: Putamen | group: LONG ---\n",
      "\n",
      "Cluster Index\tVoxels\tcorrp1-p-MAX\tcorrp1-p-MAX X (vox)\tcorrp1-p-MAX Y (vox)\tcorrp1-p-MAX Z (vox)\tcorrp1-p-COG X (vox)\tcorrp1-p-COG Y (vox)\tcorrp1-p-COG Z (vox)\tCOPE-MAX\tCOPE-MAX X (vox)\tCOPE-MAX Y (vox)\tCOPE-MAX Z (vox)\tCOPE-MEAN\n",
      "\n",
      "Test for NEGATIVE relationship between:\n",
      "--- increase in FA and GOAL-DIRECTEDNESS in: Putamen | group: LONG ---\n",
      "\n",
      "Cluster Index\tVoxels\tcorrp1-p-MAX\tcorrp1-p-MAX X (vox)\tcorrp1-p-MAX Y (vox)\tcorrp1-p-MAX Z (vox)\tcorrp1-p-COG X (vox)\tcorrp1-p-COG Y (vox)\tcorrp1-p-COG Z (vox)\tCOPE-MAX\tCOPE-MAX X (vox)\tCOPE-MAX Y (vox)\tCOPE-MAX Z (vox)\tCOPE-MEAN\n",
      "\n"
     ]
    }
   ],
   "source": [
    "getClusterInfoIndividualDiffs(group, map_type, region, ReversedSigThresh='0.90')"
   ]
  },
  {
   "cell_type": "markdown",
   "metadata": {},
   "source": [
    ">>>>> RESULT : NOTHING"
   ]
  },
  {
   "cell_type": "markdown",
   "metadata": {},
   "source": [
    "### Caudate - FA"
   ]
  },
  {
   "cell_type": "code",
   "execution_count": 157,
   "metadata": {},
   "outputs": [],
   "source": [
    "region='Caudate'"
   ]
  },
  {
   "cell_type": "code",
   "execution_count": 158,
   "metadata": {},
   "outputs": [
    {
     "name": "stdout",
     "output_type": "stream",
     "text": [
      "Running randomise for individual differences:\n",
      "--- LONG training group | FA | Caudate ---\n",
      "\n"
     ]
    }
   ],
   "source": [
    "runRandomiseIndividualDiffs(group, map_type, region)"
   ]
  },
  {
   "cell_type": "code",
   "execution_count": 159,
   "metadata": {},
   "outputs": [
    {
     "name": "stdout",
     "output_type": "stream",
     "text": [
      "Test for POSITIVE relationship between:\n",
      "--- increase in FA and GOAL-DIRECTEDNESS in: Caudate | group: LONG ---\n",
      "\n",
      "Cluster Index\tVoxels\tcorrp1-p-MAX\tcorrp1-p-MAX X (vox)\tcorrp1-p-MAX Y (vox)\tcorrp1-p-MAX Z (vox)\tcorrp1-p-COG X (vox)\tcorrp1-p-COG Y (vox)\tcorrp1-p-COG Z (vox)\tCOPE-MAX\tCOPE-MAX X (vox)\tCOPE-MAX Y (vox)\tCOPE-MAX Z (vox)\tCOPE-MEAN\n",
      "\n",
      "Test for NEGATIVE relationship between:\n",
      "--- increase in FA and GOAL-DIRECTEDNESS in: Caudate | group: LONG ---\n",
      "\n",
      "Cluster Index\tVoxels\tcorrp1-p-MAX\tcorrp1-p-MAX X (vox)\tcorrp1-p-MAX Y (vox)\tcorrp1-p-MAX Z (vox)\tcorrp1-p-COG X (vox)\tcorrp1-p-COG Y (vox)\tcorrp1-p-COG Z (vox)\tCOPE-MAX\tCOPE-MAX X (vox)\tCOPE-MAX Y (vox)\tCOPE-MAX Z (vox)\tCOPE-MEAN\n",
      "\n"
     ]
    }
   ],
   "source": [
    "getClusterInfoIndividualDiffs(group, map_type, region, ReversedSigThresh='0.90')"
   ]
  },
  {
   "cell_type": "markdown",
   "metadata": {},
   "source": [
    ">>>>> RESULT : NOTHING"
   ]
  },
  {
   "cell_type": "markdown",
   "metadata": {},
   "source": [
    "### vmPFC - FA"
   ]
  },
  {
   "cell_type": "code",
   "execution_count": 160,
   "metadata": {},
   "outputs": [],
   "source": [
    "region='vmPFC'"
   ]
  },
  {
   "cell_type": "code",
   "execution_count": 161,
   "metadata": {},
   "outputs": [
    {
     "name": "stdout",
     "output_type": "stream",
     "text": [
      "Running randomise for individual differences:\n",
      "--- LONG training group | FA | vmPFC ---\n",
      "\n"
     ]
    }
   ],
   "source": [
    "runRandomiseIndividualDiffs(group, map_type, region)"
   ]
  },
  {
   "cell_type": "code",
   "execution_count": 162,
   "metadata": {},
   "outputs": [
    {
     "name": "stdout",
     "output_type": "stream",
     "text": [
      "Test for POSITIVE relationship between:\n",
      "--- increase in FA and GOAL-DIRECTEDNESS in: vmPFC | group: LONG ---\n",
      "\n",
      "Cluster Index\tVoxels\tcorrp1-p-MAX\tcorrp1-p-MAX X (vox)\tcorrp1-p-MAX Y (vox)\tcorrp1-p-MAX Z (vox)\tcorrp1-p-COG X (vox)\tcorrp1-p-COG Y (vox)\tcorrp1-p-COG Z (vox)\tCOPE-MAX\tCOPE-MAX X (vox)\tCOPE-MAX Y (vox)\tCOPE-MAX Z (vox)\tCOPE-MEAN\n",
      "\n",
      "Test for NEGATIVE relationship between:\n",
      "--- increase in FA and GOAL-DIRECTEDNESS in: vmPFC | group: LONG ---\n",
      "\n",
      "Cluster Index\tVoxels\tcorrp1-p-MAX\tcorrp1-p-MAX X (vox)\tcorrp1-p-MAX Y (vox)\tcorrp1-p-MAX Z (vox)\tcorrp1-p-COG X (vox)\tcorrp1-p-COG Y (vox)\tcorrp1-p-COG Z (vox)\tCOPE-MAX\tCOPE-MAX X (vox)\tCOPE-MAX Y (vox)\tCOPE-MAX Z (vox)\tCOPE-MEAN\n",
      "\n"
     ]
    }
   ],
   "source": [
    "getClusterInfoIndividualDiffs(group, map_type, region, ReversedSigThresh='0.90')"
   ]
  },
  {
   "cell_type": "markdown",
   "metadata": {},
   "source": [
    ">>>>> RESULT : NOTHING"
   ]
  },
  {
   "cell_type": "markdown",
   "metadata": {},
   "source": [
    "### Whole brain - MD"
   ]
  },
  {
   "cell_type": "code",
   "execution_count": 163,
   "metadata": {},
   "outputs": [],
   "source": [
    "map_type='MD'\n",
    "region='whole_brain'"
   ]
  },
  {
   "cell_type": "code",
   "execution_count": 164,
   "metadata": {},
   "outputs": [
    {
     "name": "stdout",
     "output_type": "stream",
     "text": [
      "Running randomise for individual differences:\n",
      "--- LONG training group | MD | whole_brain ---\n",
      "\n"
     ]
    }
   ],
   "source": [
    "runRandomiseIndividualDiffs(group, map_type, region)"
   ]
  },
  {
   "cell_type": "code",
   "execution_count": 165,
   "metadata": {},
   "outputs": [
    {
     "name": "stdout",
     "output_type": "stream",
     "text": [
      "Test for POSITIVE relationship between:\n",
      "--- increase in MD and GOAL-DIRECTEDNESS in: whole_brain | group: LONG ---\n",
      "\n",
      "Cluster Index\tVoxels\tcorrp1-p-MAX\tcorrp1-p-MAX X (vox)\tcorrp1-p-MAX Y (vox)\tcorrp1-p-MAX Z (vox)\tcorrp1-p-COG X (vox)\tcorrp1-p-COG Y (vox)\tcorrp1-p-COG Z (vox)\tCOPE-MAX\tCOPE-MAX X (vox)\tCOPE-MAX Y (vox)\tCOPE-MAX Z (vox)\tCOPE-MEAN\n",
      "\n",
      "Test for NEGATIVE relationship between:\n",
      "--- increase in MD and GOAL-DIRECTEDNESS in: whole_brain | group: LONG ---\n",
      "\n",
      "Cluster Index\tVoxels\tcorrp1-p-MAX\tcorrp1-p-MAX X (vox)\tcorrp1-p-MAX Y (vox)\tcorrp1-p-MAX Z (vox)\tcorrp1-p-COG X (vox)\tcorrp1-p-COG Y (vox)\tcorrp1-p-COG Z (vox)\tCOPE-MAX\tCOPE-MAX X (vox)\tCOPE-MAX Y (vox)\tCOPE-MAX Z (vox)\tCOPE-MEAN\n",
      "\n"
     ]
    }
   ],
   "source": [
    "getClusterInfoIndividualDiffs(group, map_type, region, ReversedSigThresh='0.90')"
   ]
  },
  {
   "cell_type": "markdown",
   "metadata": {},
   "source": [
    ">>>>> RESULT : NOTHING"
   ]
  },
  {
   "cell_type": "markdown",
   "metadata": {},
   "source": [
    "### Putamen - MD"
   ]
  },
  {
   "cell_type": "code",
   "execution_count": 187,
   "metadata": {},
   "outputs": [],
   "source": [
    "region='Putamen'"
   ]
  },
  {
   "cell_type": "code",
   "execution_count": 167,
   "metadata": {},
   "outputs": [
    {
     "name": "stdout",
     "output_type": "stream",
     "text": [
      "Running randomise for individual differences:\n",
      "--- LONG training group | MD | Putamen ---\n",
      "\n"
     ]
    }
   ],
   "source": [
    "runRandomiseIndividualDiffs(group, map_type, region)"
   ]
  },
  {
   "cell_type": "code",
   "execution_count": 191,
   "metadata": {},
   "outputs": [
    {
     "name": "stdout",
     "output_type": "stream",
     "text": [
      "Test for POSITIVE relationship between:\n",
      "--- increase in MD and GOAL-DIRECTEDNESS in: Putamen | group: LONG ---\n",
      "\n",
      "Cluster Index\tVoxels\tcorrp1-p-MAX\tcorrp1-p-MAX X (vox)\tcorrp1-p-MAX Y (vox)\tcorrp1-p-MAX Z (vox)\tcorrp1-p-COG X (vox)\tcorrp1-p-COG Y (vox)\tcorrp1-p-COG Z (vox)\tCOPE-MAX\tCOPE-MAX X (vox)\tCOPE-MAX Y (vox)\tCOPE-MAX Z (vox)\tCOPE-MEAN\n",
      "\n",
      "Test for NEGATIVE relationship between:\n",
      "--- increase in MD and GOAL-DIRECTEDNESS in: Putamen | group: LONG ---\n",
      "\n",
      "Cluster Index\tVoxels\tcorrp1-p-MAX\tcorrp1-p-MAX X (vox)\tcorrp1-p-MAX Y (vox)\tcorrp1-p-MAX Z (vox)\tcorrp1-p-COG X (vox)\tcorrp1-p-COG Y (vox)\tcorrp1-p-COG Z (vox)\tCOPE-MAX\tCOPE-MAX X (vox)\tCOPE-MAX Y (vox)\tCOPE-MAX Z (vox)\tCOPE-MEAN\n",
      "\n"
     ]
    }
   ],
   "source": [
    "getClusterInfoIndividualDiffs(group, map_type, region, ReversedSigThresh='0.90')"
   ]
  },
  {
   "cell_type": "markdown",
   "metadata": {},
   "source": [
    ">>>>> RESULT : NOTHING"
   ]
  },
  {
   "cell_type": "markdown",
   "metadata": {},
   "source": [
    "### Caudate - MD"
   ]
  },
  {
   "cell_type": "code",
   "execution_count": 182,
   "metadata": {},
   "outputs": [],
   "source": [
    "region='Caudate'"
   ]
  },
  {
   "cell_type": "code",
   "execution_count": 170,
   "metadata": {},
   "outputs": [
    {
     "name": "stdout",
     "output_type": "stream",
     "text": [
      "Running randomise for individual differences:\n",
      "--- LONG training group | MD | Caudate ---\n",
      "\n"
     ]
    }
   ],
   "source": [
    "runRandomiseIndividualDiffs(group, map_type, region)"
   ]
  },
  {
   "cell_type": "code",
   "execution_count": 184,
   "metadata": {},
   "outputs": [
    {
     "name": "stdout",
     "output_type": "stream",
     "text": [
      "Test for POSITIVE relationship between:\n",
      "--- increase in MD and GOAL-DIRECTEDNESS in: Caudate | group: LONG ---\n",
      "\n",
      "Cluster Index\tVoxels\tcorrp1-p-MAX\tcorrp1-p-MAX X (vox)\tcorrp1-p-MAX Y (vox)\tcorrp1-p-MAX Z (vox)\tcorrp1-p-COG X (vox)\tcorrp1-p-COG Y (vox)\tcorrp1-p-COG Z (vox)\tCOPE-MAX\tCOPE-MAX X (vox)\tCOPE-MAX Y (vox)\tCOPE-MAX Z (vox)\tCOPE-MEAN\n",
      "\n",
      "Test for NEGATIVE relationship between:\n",
      "--- increase in MD and GOAL-DIRECTEDNESS in: Caudate | group: LONG ---\n",
      "\n",
      "Cluster Index\tVoxels\tcorrp1-p-MAX\tcorrp1-p-MAX X (vox)\tcorrp1-p-MAX Y (vox)\tcorrp1-p-MAX Z (vox)\tcorrp1-p-COG X (vox)\tcorrp1-p-COG Y (vox)\tcorrp1-p-COG Z (vox)\tCOPE-MAX\tCOPE-MAX X (vox)\tCOPE-MAX Y (vox)\tCOPE-MAX Z (vox)\tCOPE-MEAN\n",
      "\n"
     ]
    }
   ],
   "source": [
    "getClusterInfoIndividualDiffs(group, map_type, region, ReversedSigThresh='0.90')"
   ]
  },
  {
   "cell_type": "markdown",
   "metadata": {},
   "source": [
    ">>>>> RESULT : NOTHING"
   ]
  },
  {
   "cell_type": "markdown",
   "metadata": {},
   "source": [
    "### vmPFC - MD"
   ]
  },
  {
   "cell_type": "code",
   "execution_count": 180,
   "metadata": {},
   "outputs": [],
   "source": [
    "region='vmPFC'"
   ]
  },
  {
   "cell_type": "code",
   "execution_count": 173,
   "metadata": {},
   "outputs": [
    {
     "name": "stdout",
     "output_type": "stream",
     "text": [
      "Running randomise for individual differences:\n",
      "--- LONG training group | MD | vmPFC ---\n",
      "\n"
     ]
    }
   ],
   "source": [
    "runRandomiseIndividualDiffs(group, map_type, region)"
   ]
  },
  {
   "cell_type": "code",
   "execution_count": 185,
   "metadata": {},
   "outputs": [
    {
     "name": "stdout",
     "output_type": "stream",
     "text": [
      "Test for POSITIVE relationship between:\n",
      "--- increase in MD and GOAL-DIRECTEDNESS in: Caudate | group: LONG ---\n",
      "\n",
      "Cluster Index\tVoxels\tcorrp1-p-MAX\tcorrp1-p-MAX X (vox)\tcorrp1-p-MAX Y (vox)\tcorrp1-p-MAX Z (vox)\tcorrp1-p-COG X (vox)\tcorrp1-p-COG Y (vox)\tcorrp1-p-COG Z (vox)\tCOPE-MAX\tCOPE-MAX X (vox)\tCOPE-MAX Y (vox)\tCOPE-MAX Z (vox)\tCOPE-MEAN\n",
      "\n",
      "Test for NEGATIVE relationship between:\n",
      "--- increase in MD and GOAL-DIRECTEDNESS in: Caudate | group: LONG ---\n",
      "\n",
      "Cluster Index\tVoxels\tcorrp1-p-MAX\tcorrp1-p-MAX X (vox)\tcorrp1-p-MAX Y (vox)\tcorrp1-p-MAX Z (vox)\tcorrp1-p-COG X (vox)\tcorrp1-p-COG Y (vox)\tcorrp1-p-COG Z (vox)\tCOPE-MAX\tCOPE-MAX X (vox)\tCOPE-MAX Y (vox)\tCOPE-MAX Z (vox)\tCOPE-MEAN\n",
      "\n"
     ]
    }
   ],
   "source": [
    "getClusterInfoIndividualDiffs(group, map_type, region, ReversedSigThresh='0.90')"
   ]
  },
  {
   "cell_type": "markdown",
   "metadata": {},
   "source": [
    ">>>>> RESULTS: NOTHING"
   ]
  },
  {
   "cell_type": "markdown",
   "metadata": {},
   "source": [
    "# *-*-*-*-*-*-*-*-*-*-*-*-*-*-*-*-*-*-*-*-*-*-*-*-*-*"
   ]
  },
  {
   "cell_type": "markdown",
   "metadata": {},
   "source": [
    "# Statistics - Exploratory SUBGROUPS analysis (subgroups of habitual and goal-directed participants are inferred based on the behavioral measure)"
   ]
  },
  {
   "cell_type": "markdown",
   "metadata": {},
   "source": [
    "### Prepare and arrange the behavioral data and the corresponding DTI folders data variables"
   ]
  },
  {
   "cell_type": "code",
   "execution_count": 25,
   "metadata": {},
   "outputs": [],
   "source": [
    "# Get the behavioral data:\n",
    "behav_clustered_all = pd.read_csv(os.path.join(behav_data_path, 'clustered_subgroups_HIS_May_2022.csv'))\n",
    "# remove subjects that don't have DTI data\n",
    "absent_from_DTI_data2 = [sub for sub in behav_clustered_all.ID if 'sub-' + str(sub) not in subjFoldersDTI]\n",
    "behav_clustered_all = behav_clustered_all[~behav_clustered_all.ID.isin(absent_from_DTI_data2)]\n",
    "\n",
    "# remove subjects that were excluded from the behavioral sub-groups clusters:\n",
    "absent_from_behav_clusters = [sub for sub in subjFoldersDTI if int(sub.split('-')[1]) not in list(behav_clustered_all.ID)]\n",
    "subjFoldersDTI_forSubgroups = [sub for sub in subjFoldersDTI if sub not in absent_from_behav_clusters]\n",
    "\n",
    "# now make sure that subject lists are matching:\n",
    "if not ['sub-' + str(sub) for sub in behav_clustered_all.ID] == subjFoldersDTI_forSubgroups:\n",
    "    raise Exception('Subject lists are not matching')\n",
    "    #pass # for debugging\n",
    "\n",
    "# create variables foreach group seperately and for the subgroups seperately:\n",
    "behav_clustered_short = behav_clustered_all[behav_clustered_all.ID < 200]\n",
    "behav_clustered_long = behav_clustered_all[behav_clustered_all.ID > 200]\n",
    "behav_clustered_goal_directed = behav_clustered_all[behav_clustered_all.Cluster == 'Goal-directed']\n",
    "behav_clustered_habitual = behav_clustered_all[behav_clustered_all.Cluster == 'Habitual']\n",
    "\n",
    "# sort the data according to the subgroups and create matching lists for the DTI data:\n",
    "behav_clustered_short = behav_clustered_short.sort_values(by=['Cluster', 'ID']).reset_index(drop=True)\n",
    "subjFoldersDTI_clustered_short = ['sub-' + str(sub) for sub in behav_clustered_short.ID]\n",
    "\n",
    "behav_clustered_long = behav_clustered_long.sort_values(by=['Cluster', 'ID']).reset_index(drop=True)\n",
    "subjFoldersDTI_clustered_long = ['sub-' + str(sub) for sub in behav_clustered_long.ID]\n",
    "\n",
    "behav_clustered_goal_directed = behav_clustered_goal_directed.sort_values(by=['ID']).reset_index(drop=True)\n",
    "subjFoldersDTI_clustered_goal_directed = ['sub-' + str(sub) for sub in behav_clustered_goal_directed.ID]\n",
    "\n",
    "behav_clustered_habitual = behav_clustered_habitual.sort_values(by=['ID']).reset_index(drop=True)\n",
    "subjFoldersDTI_clustered_habitual = ['sub-' + str(sub) for sub in behav_clustered_habitual.ID]"
   ]
  },
  {
   "cell_type": "code",
   "execution_count": null,
   "metadata": {},
   "outputs": [],
   "source": [
    "subjFoldersDTI_clustered_short #goal-directed then habitual - from behav_clustered_short\n",
    "subjFoldersDTI_clustered_long #goal-directed then habitual - from behav_clustered_long\n",
    "subjFoldersDTI_clustered_goal_directed #1-day then 3-day - from behav_clustered_goal_directed\n",
    "subjFoldersDTI_clustered_habitual #1-day then 3-day - from behav_clustered_habitual\n"
   ]
  },
  {
   "cell_type": "markdown",
   "metadata": {},
   "source": [
    "### prepare the design matrix"
   ]
  },
  {
   "cell_type": "code",
   "execution_count": 36,
   "metadata": {},
   "outputs": [
    {
     "name": "stdout",
     "output_type": "stream",
     "text": [
      "> Create the between group design matrix (of the calculated differences) - same is unpaired t-test (on the after-before differences)\n",
      "design_ttest2 /export2/DATA/HIS/HIS_server/analysis/dwi_data/stats/models/sub_groups/design_unpaired_ttest_subgroups_in_1_Day 27 33\n",
      "design_ttest2 /export2/DATA/HIS/HIS_server/analysis/dwi_data/stats/models/sub_groups/design_unpaired_ttest_subgroups_in_3_Day 20 35\n",
      "design_ttest2 /export2/DATA/HIS/HIS_server/analysis/dwi_data/stats/models/sub_groups/design_unpaired_ttest_subgroups_in_Goal_Directed 27 20\n",
      "design_ttest2 /export2/DATA/HIS/HIS_server/analysis/dwi_data/stats/models/sub_groups/design_unpaired_ttest_subgroups_in_Habitual 33 35\n"
     ]
    },
    {
     "data": {
      "text/plain": [
       "0"
      ]
     },
     "execution_count": 36,
     "metadata": {},
     "output_type": "execute_result"
    }
   ],
   "source": [
    "print('> Create the between group design matrix (of the calculated differences) - same is unpaired t-test (on the after-before differences)')\n",
    "# create the folder\n",
    "try:\n",
    "    os.makedirs(os.path.join(models_path, 'sub_groups'), exist_ok=False)\n",
    "    print('>> Created folder: ' + os.path.join(models_path, 'sub_groups'))\n",
    "except:\n",
    "    pass\n",
    "\n",
    "# create the design matrix and contrasts:\n",
    "N_goal_directed_in_clustered_1_DAY = behav_clustered_short.Cluster.value_counts()['Goal-directed']\n",
    "N_habitual_in_clustered_1_DAY = behav_clustered_short.Cluster.value_counts()['Habitual']\n",
    "print(f\"design_ttest2 {os.path.join(models_path, 'sub_groups','design_unpaired_ttest_subgroups_in_1_Day')} {N_goal_directed_in_clustered_1_DAY} {N_habitual_in_clustered_1_DAY}\")\n",
    "os.system(f\"design_ttest2 {os.path.join(models_path, 'sub_groups','design_unpaired_ttest_subgroups_in_1_Day')} {N_goal_directed_in_clustered_1_DAY} {N_habitual_in_clustered_1_DAY}\")\n",
    "\n",
    "N_goal_directed_in_clustered_3_DAY = behav_clustered_long.Cluster.value_counts()['Goal-directed']\n",
    "N_habitual_in_clustered_3_DAY = behav_clustered_long.Cluster.value_counts()['Habitual']\n",
    "print(f\"design_ttest2 {os.path.join(models_path, 'sub_groups','design_unpaired_ttest_subgroups_in_3_Day')} {N_goal_directed_in_clustered_3_DAY} {N_habitual_in_clustered_3_DAY}\")\n",
    "os.system(f\"design_ttest2 {os.path.join(models_path, 'sub_groups','design_unpaired_ttest_subgroups_in_3_Day')} {N_goal_directed_in_clustered_3_DAY} {N_habitual_in_clustered_3_DAY}\")\n",
    "\n",
    "N_1_DAY_in_clustered_goal_directed = len(set([sub for sub in subjFoldersDTI_clustered_goal_directed if int(sub.split('-')[-1])<200]))\n",
    "N_3_DAY_in_clustered_goal_directed = len(set([sub for sub in subjFoldersDTI_clustered_goal_directed if int(sub.split('-')[-1])>200]))\n",
    "print(f\"design_ttest2 {os.path.join(models_path, 'sub_groups','design_unpaired_ttest_subgroups_in_Goal_Directed')} {N_1_DAY_in_clustered_goal_directed} {N_3_DAY_in_clustered_goal_directed}\")\n",
    "os.system(f\"design_ttest2 {os.path.join(models_path, 'sub_groups','design_unpaired_ttest_subgroups_in_Goal_Directed')} {N_1_DAY_in_clustered_goal_directed} {N_3_DAY_in_clustered_goal_directed}\")\n",
    "\n",
    "N_1_DAY_in_clustered_habitual = len(set([sub for sub in subjFoldersDTI_clustered_habitual if int(sub.split('-')[-1])<200]))\n",
    "N_3_DAY_in_clustered_habitual = len(set([sub for sub in subjFoldersDTI_clustered_habitual if int(sub.split('-')[-1])>200]))\n",
    "print(f\"design_ttest2 {os.path.join(models_path, 'sub_groups','design_unpaired_ttest_subgroups_in_Habitual')} {N_1_DAY_in_clustered_habitual} {N_3_DAY_in_clustered_habitual}\")\n",
    "os.system(f\"design_ttest2 {os.path.join(models_path, 'sub_groups','design_unpaired_ttest_subgroups_in_Habitual')} {N_1_DAY_in_clustered_habitual} {N_3_DAY_in_clustered_habitual}\")\n"
   ]
  },
  {
   "cell_type": "markdown",
   "metadata": {},
   "source": [
    "### Create one file with each group's participants together"
   ]
  },
  {
   "cell_type": "code",
   "execution_count": 38,
   "metadata": {},
   "outputs": [
    {
     "name": "stdout",
     "output_type": "stream",
     "text": [
      "fslmerge -t /export2/DATA/HIS/HIS_server/analysis/dwi_data/stats/MD/SUBGROUPS_in_1_Day_AFTER_minus_BEFORE_MD /export2/DATA/HIS/HIS_server/analysis/dwi_data/stats/MD/sub-103_in-MNI_MD_AFTER-minus-BEFORE.nii.gz /export2/DATA/HIS/HIS_server/analysis/dwi_data/stats/MD/sub-107_in-MNI_MD_AFTER-minus-BEFORE.nii.gz /export2/DATA/HIS/HIS_server/analysis/dwi_data/stats/MD/sub-119_in-MNI_MD_AFTER-minus-BEFORE.nii.gz /export2/DATA/HIS/HIS_server/analysis/dwi_data/stats/MD/sub-120_in-MNI_MD_AFTER-minus-BEFORE.nii.gz /export2/DATA/HIS/HIS_server/analysis/dwi_data/stats/MD/sub-124_in-MNI_MD_AFTER-minus-BEFORE.nii.gz /export2/DATA/HIS/HIS_server/analysis/dwi_data/stats/MD/sub-127_in-MNI_MD_AFTER-minus-BEFORE.nii.gz /export2/DATA/HIS/HIS_server/analysis/dwi_data/stats/MD/sub-128_in-MNI_MD_AFTER-minus-BEFORE.nii.gz /export2/DATA/HIS/HIS_server/analysis/dwi_data/stats/MD/sub-131_in-MNI_MD_AFTER-minus-BEFORE.nii.gz /export2/DATA/HIS/HIS_server/analysis/dwi_data/stats/MD/sub-133_in-MNI_MD_AFTER-minus-BEFORE.nii.gz /export2/DATA/HIS/HIS_server/analysis/dwi_data/stats/MD/sub-135_in-MNI_MD_AFTER-minus-BEFORE.nii.gz /export2/DATA/HIS/HIS_server/analysis/dwi_data/stats/MD/sub-137_in-MNI_MD_AFTER-minus-BEFORE.nii.gz /export2/DATA/HIS/HIS_server/analysis/dwi_data/stats/MD/sub-139_in-MNI_MD_AFTER-minus-BEFORE.nii.gz /export2/DATA/HIS/HIS_server/analysis/dwi_data/stats/MD/sub-140_in-MNI_MD_AFTER-minus-BEFORE.nii.gz /export2/DATA/HIS/HIS_server/analysis/dwi_data/stats/MD/sub-144_in-MNI_MD_AFTER-minus-BEFORE.nii.gz /export2/DATA/HIS/HIS_server/analysis/dwi_data/stats/MD/sub-145_in-MNI_MD_AFTER-minus-BEFORE.nii.gz /export2/DATA/HIS/HIS_server/analysis/dwi_data/stats/MD/sub-151_in-MNI_MD_AFTER-minus-BEFORE.nii.gz /export2/DATA/HIS/HIS_server/analysis/dwi_data/stats/MD/sub-154_in-MNI_MD_AFTER-minus-BEFORE.nii.gz /export2/DATA/HIS/HIS_server/analysis/dwi_data/stats/MD/sub-157_in-MNI_MD_AFTER-minus-BEFORE.nii.gz /export2/DATA/HIS/HIS_server/analysis/dwi_data/stats/MD/sub-158_in-MNI_MD_AFTER-minus-BEFORE.nii.gz /export2/DATA/HIS/HIS_server/analysis/dwi_data/stats/MD/sub-159_in-MNI_MD_AFTER-minus-BEFORE.nii.gz /export2/DATA/HIS/HIS_server/analysis/dwi_data/stats/MD/sub-161_in-MNI_MD_AFTER-minus-BEFORE.nii.gz /export2/DATA/HIS/HIS_server/analysis/dwi_data/stats/MD/sub-163_in-MNI_MD_AFTER-minus-BEFORE.nii.gz /export2/DATA/HIS/HIS_server/analysis/dwi_data/stats/MD/sub-168_in-MNI_MD_AFTER-minus-BEFORE.nii.gz /export2/DATA/HIS/HIS_server/analysis/dwi_data/stats/MD/sub-169_in-MNI_MD_AFTER-minus-BEFORE.nii.gz /export2/DATA/HIS/HIS_server/analysis/dwi_data/stats/MD/sub-171_in-MNI_MD_AFTER-minus-BEFORE.nii.gz /export2/DATA/HIS/HIS_server/analysis/dwi_data/stats/MD/sub-174_in-MNI_MD_AFTER-minus-BEFORE.nii.gz /export2/DATA/HIS/HIS_server/analysis/dwi_data/stats/MD/sub-175_in-MNI_MD_AFTER-minus-BEFORE.nii.gz /export2/DATA/HIS/HIS_server/analysis/dwi_data/stats/MD/sub-104_in-MNI_MD_AFTER-minus-BEFORE.nii.gz /export2/DATA/HIS/HIS_server/analysis/dwi_data/stats/MD/sub-106_in-MNI_MD_AFTER-minus-BEFORE.nii.gz /export2/DATA/HIS/HIS_server/analysis/dwi_data/stats/MD/sub-108_in-MNI_MD_AFTER-minus-BEFORE.nii.gz /export2/DATA/HIS/HIS_server/analysis/dwi_data/stats/MD/sub-110_in-MNI_MD_AFTER-minus-BEFORE.nii.gz /export2/DATA/HIS/HIS_server/analysis/dwi_data/stats/MD/sub-113_in-MNI_MD_AFTER-minus-BEFORE.nii.gz /export2/DATA/HIS/HIS_server/analysis/dwi_data/stats/MD/sub-114_in-MNI_MD_AFTER-minus-BEFORE.nii.gz /export2/DATA/HIS/HIS_server/analysis/dwi_data/stats/MD/sub-115_in-MNI_MD_AFTER-minus-BEFORE.nii.gz /export2/DATA/HIS/HIS_server/analysis/dwi_data/stats/MD/sub-117_in-MNI_MD_AFTER-minus-BEFORE.nii.gz /export2/DATA/HIS/HIS_server/analysis/dwi_data/stats/MD/sub-118_in-MNI_MD_AFTER-minus-BEFORE.nii.gz /export2/DATA/HIS/HIS_server/analysis/dwi_data/stats/MD/sub-121_in-MNI_MD_AFTER-minus-BEFORE.nii.gz /export2/DATA/HIS/HIS_server/analysis/dwi_data/stats/MD/sub-122_in-MNI_MD_AFTER-minus-BEFORE.nii.gz /export2/DATA/HIS/HIS_server/analysis/dwi_data/stats/MD/sub-126_in-MNI_MD_AFTER-minus-BEFORE.nii.gz /export2/DATA/HIS/HIS_server/analysis/dwi_data/stats/MD/sub-129_in-MNI_MD_AFTER-minus-BEFORE.nii.gz /export2/DATA/HIS/HIS_server/analysis/dwi_data/stats/MD/sub-130_in-MNI_MD_AFTER-minus-BEFORE.nii.gz /export2/DATA/HIS/HIS_server/analysis/dwi_data/stats/MD/sub-138_in-MNI_MD_AFTER-minus-BEFORE.nii.gz /export2/DATA/HIS/HIS_server/analysis/dwi_data/stats/MD/sub-141_in-MNI_MD_AFTER-minus-BEFORE.nii.gz /export2/DATA/HIS/HIS_server/analysis/dwi_data/stats/MD/sub-142_in-MNI_MD_AFTER-minus-BEFORE.nii.gz /export2/DATA/HIS/HIS_server/analysis/dwi_data/stats/MD/sub-143_in-MNI_MD_AFTER-minus-BEFORE.nii.gz /export2/DATA/HIS/HIS_server/analysis/dwi_data/stats/MD/sub-146_in-MNI_MD_AFTER-minus-BEFORE.nii.gz /export2/DATA/HIS/HIS_server/analysis/dwi_data/stats/MD/sub-147_in-MNI_MD_AFTER-minus-BEFORE.nii.gz /export2/DATA/HIS/HIS_server/analysis/dwi_data/stats/MD/sub-148_in-MNI_MD_AFTER-minus-BEFORE.nii.gz /export2/DATA/HIS/HIS_server/analysis/dwi_data/stats/MD/sub-149_in-MNI_MD_AFTER-minus-BEFORE.nii.gz /export2/DATA/HIS/HIS_server/analysis/dwi_data/stats/MD/sub-150_in-MNI_MD_AFTER-minus-BEFORE.nii.gz /export2/DATA/HIS/HIS_server/analysis/dwi_data/stats/MD/sub-152_in-MNI_MD_AFTER-minus-BEFORE.nii.gz /export2/DATA/HIS/HIS_server/analysis/dwi_data/stats/MD/sub-153_in-MNI_MD_AFTER-minus-BEFORE.nii.gz /export2/DATA/HIS/HIS_server/analysis/dwi_data/stats/MD/sub-155_in-MNI_MD_AFTER-minus-BEFORE.nii.gz /export2/DATA/HIS/HIS_server/analysis/dwi_data/stats/MD/sub-156_in-MNI_MD_AFTER-minus-BEFORE.nii.gz /export2/DATA/HIS/HIS_server/analysis/dwi_data/stats/MD/sub-160_in-MNI_MD_AFTER-minus-BEFORE.nii.gz /export2/DATA/HIS/HIS_server/analysis/dwi_data/stats/MD/sub-162_in-MNI_MD_AFTER-minus-BEFORE.nii.gz /export2/DATA/HIS/HIS_server/analysis/dwi_data/stats/MD/sub-164_in-MNI_MD_AFTER-minus-BEFORE.nii.gz /export2/DATA/HIS/HIS_server/analysis/dwi_data/stats/MD/sub-166_in-MNI_MD_AFTER-minus-BEFORE.nii.gz /export2/DATA/HIS/HIS_server/analysis/dwi_data/stats/MD/sub-167_in-MNI_MD_AFTER-minus-BEFORE.nii.gz /export2/DATA/HIS/HIS_server/analysis/dwi_data/stats/MD/sub-172_in-MNI_MD_AFTER-minus-BEFORE.nii.gz\n",
      "fslmerge -t /export2/DATA/HIS/HIS_server/analysis/dwi_data/stats/MD/SUBGROUPS_in_3_Day_AFTER_minus_BEFORE_MD /export2/DATA/HIS/HIS_server/analysis/dwi_data/stats/MD/sub-208_in-MNI_MD_AFTER-minus-BEFORE.nii.gz /export2/DATA/HIS/HIS_server/analysis/dwi_data/stats/MD/sub-214_in-MNI_MD_AFTER-minus-BEFORE.nii.gz /export2/DATA/HIS/HIS_server/analysis/dwi_data/stats/MD/sub-217_in-MNI_MD_AFTER-minus-BEFORE.nii.gz /export2/DATA/HIS/HIS_server/analysis/dwi_data/stats/MD/sub-220_in-MNI_MD_AFTER-minus-BEFORE.nii.gz /export2/DATA/HIS/HIS_server/analysis/dwi_data/stats/MD/sub-221_in-MNI_MD_AFTER-minus-BEFORE.nii.gz /export2/DATA/HIS/HIS_server/analysis/dwi_data/stats/MD/sub-223_in-MNI_MD_AFTER-minus-BEFORE.nii.gz /export2/DATA/HIS/HIS_server/analysis/dwi_data/stats/MD/sub-224_in-MNI_MD_AFTER-minus-BEFORE.nii.gz /export2/DATA/HIS/HIS_server/analysis/dwi_data/stats/MD/sub-225_in-MNI_MD_AFTER-minus-BEFORE.nii.gz /export2/DATA/HIS/HIS_server/analysis/dwi_data/stats/MD/sub-227_in-MNI_MD_AFTER-minus-BEFORE.nii.gz /export2/DATA/HIS/HIS_server/analysis/dwi_data/stats/MD/sub-234_in-MNI_MD_AFTER-minus-BEFORE.nii.gz /export2/DATA/HIS/HIS_server/analysis/dwi_data/stats/MD/sub-235_in-MNI_MD_AFTER-minus-BEFORE.nii.gz /export2/DATA/HIS/HIS_server/analysis/dwi_data/stats/MD/sub-238_in-MNI_MD_AFTER-minus-BEFORE.nii.gz /export2/DATA/HIS/HIS_server/analysis/dwi_data/stats/MD/sub-241_in-MNI_MD_AFTER-minus-BEFORE.nii.gz /export2/DATA/HIS/HIS_server/analysis/dwi_data/stats/MD/sub-242_in-MNI_MD_AFTER-minus-BEFORE.nii.gz /export2/DATA/HIS/HIS_server/analysis/dwi_data/stats/MD/sub-255_in-MNI_MD_AFTER-minus-BEFORE.nii.gz /export2/DATA/HIS/HIS_server/analysis/dwi_data/stats/MD/sub-267_in-MNI_MD_AFTER-minus-BEFORE.nii.gz /export2/DATA/HIS/HIS_server/analysis/dwi_data/stats/MD/sub-276_in-MNI_MD_AFTER-minus-BEFORE.nii.gz /export2/DATA/HIS/HIS_server/analysis/dwi_data/stats/MD/sub-277_in-MNI_MD_AFTER-minus-BEFORE.nii.gz /export2/DATA/HIS/HIS_server/analysis/dwi_data/stats/MD/sub-280_in-MNI_MD_AFTER-minus-BEFORE.nii.gz /export2/DATA/HIS/HIS_server/analysis/dwi_data/stats/MD/sub-284_in-MNI_MD_AFTER-minus-BEFORE.nii.gz /export2/DATA/HIS/HIS_server/analysis/dwi_data/stats/MD/sub-204_in-MNI_MD_AFTER-minus-BEFORE.nii.gz /export2/DATA/HIS/HIS_server/analysis/dwi_data/stats/MD/sub-205_in-MNI_MD_AFTER-minus-BEFORE.nii.gz /export2/DATA/HIS/HIS_server/analysis/dwi_data/stats/MD/sub-207_in-MNI_MD_AFTER-minus-BEFORE.nii.gz /export2/DATA/HIS/HIS_server/analysis/dwi_data/stats/MD/sub-209_in-MNI_MD_AFTER-minus-BEFORE.nii.gz /export2/DATA/HIS/HIS_server/analysis/dwi_data/stats/MD/sub-210_in-MNI_MD_AFTER-minus-BEFORE.nii.gz /export2/DATA/HIS/HIS_server/analysis/dwi_data/stats/MD/sub-212_in-MNI_MD_AFTER-minus-BEFORE.nii.gz /export2/DATA/HIS/HIS_server/analysis/dwi_data/stats/MD/sub-215_in-MNI_MD_AFTER-minus-BEFORE.nii.gz /export2/DATA/HIS/HIS_server/analysis/dwi_data/stats/MD/sub-218_in-MNI_MD_AFTER-minus-BEFORE.nii.gz /export2/DATA/HIS/HIS_server/analysis/dwi_data/stats/MD/sub-229_in-MNI_MD_AFTER-minus-BEFORE.nii.gz /export2/DATA/HIS/HIS_server/analysis/dwi_data/stats/MD/sub-230_in-MNI_MD_AFTER-minus-BEFORE.nii.gz /export2/DATA/HIS/HIS_server/analysis/dwi_data/stats/MD/sub-232_in-MNI_MD_AFTER-minus-BEFORE.nii.gz /export2/DATA/HIS/HIS_server/analysis/dwi_data/stats/MD/sub-239_in-MNI_MD_AFTER-minus-BEFORE.nii.gz /export2/DATA/HIS/HIS_server/analysis/dwi_data/stats/MD/sub-240_in-MNI_MD_AFTER-minus-BEFORE.nii.gz /export2/DATA/HIS/HIS_server/analysis/dwi_data/stats/MD/sub-243_in-MNI_MD_AFTER-minus-BEFORE.nii.gz /export2/DATA/HIS/HIS_server/analysis/dwi_data/stats/MD/sub-245_in-MNI_MD_AFTER-minus-BEFORE.nii.gz /export2/DATA/HIS/HIS_server/analysis/dwi_data/stats/MD/sub-247_in-MNI_MD_AFTER-minus-BEFORE.nii.gz /export2/DATA/HIS/HIS_server/analysis/dwi_data/stats/MD/sub-249_in-MNI_MD_AFTER-minus-BEFORE.nii.gz /export2/DATA/HIS/HIS_server/analysis/dwi_data/stats/MD/sub-251_in-MNI_MD_AFTER-minus-BEFORE.nii.gz /export2/DATA/HIS/HIS_server/analysis/dwi_data/stats/MD/sub-252_in-MNI_MD_AFTER-minus-BEFORE.nii.gz /export2/DATA/HIS/HIS_server/analysis/dwi_data/stats/MD/sub-254_in-MNI_MD_AFTER-minus-BEFORE.nii.gz /export2/DATA/HIS/HIS_server/analysis/dwi_data/stats/MD/sub-257_in-MNI_MD_AFTER-minus-BEFORE.nii.gz /export2/DATA/HIS/HIS_server/analysis/dwi_data/stats/MD/sub-258_in-MNI_MD_AFTER-minus-BEFORE.nii.gz /export2/DATA/HIS/HIS_server/analysis/dwi_data/stats/MD/sub-260_in-MNI_MD_AFTER-minus-BEFORE.nii.gz /export2/DATA/HIS/HIS_server/analysis/dwi_data/stats/MD/sub-261_in-MNI_MD_AFTER-minus-BEFORE.nii.gz /export2/DATA/HIS/HIS_server/analysis/dwi_data/stats/MD/sub-262_in-MNI_MD_AFTER-minus-BEFORE.nii.gz /export2/DATA/HIS/HIS_server/analysis/dwi_data/stats/MD/sub-263_in-MNI_MD_AFTER-minus-BEFORE.nii.gz /export2/DATA/HIS/HIS_server/analysis/dwi_data/stats/MD/sub-264_in-MNI_MD_AFTER-minus-BEFORE.nii.gz /export2/DATA/HIS/HIS_server/analysis/dwi_data/stats/MD/sub-265_in-MNI_MD_AFTER-minus-BEFORE.nii.gz /export2/DATA/HIS/HIS_server/analysis/dwi_data/stats/MD/sub-270_in-MNI_MD_AFTER-minus-BEFORE.nii.gz /export2/DATA/HIS/HIS_server/analysis/dwi_data/stats/MD/sub-271_in-MNI_MD_AFTER-minus-BEFORE.nii.gz /export2/DATA/HIS/HIS_server/analysis/dwi_data/stats/MD/sub-272_in-MNI_MD_AFTER-minus-BEFORE.nii.gz /export2/DATA/HIS/HIS_server/analysis/dwi_data/stats/MD/sub-281_in-MNI_MD_AFTER-minus-BEFORE.nii.gz /export2/DATA/HIS/HIS_server/analysis/dwi_data/stats/MD/sub-282_in-MNI_MD_AFTER-minus-BEFORE.nii.gz /export2/DATA/HIS/HIS_server/analysis/dwi_data/stats/MD/sub-283_in-MNI_MD_AFTER-minus-BEFORE.nii.gz /export2/DATA/HIS/HIS_server/analysis/dwi_data/stats/MD/sub-285_in-MNI_MD_AFTER-minus-BEFORE.nii.gz\n",
      "fslmerge -t /export2/DATA/HIS/HIS_server/analysis/dwi_data/stats/MD/SUBGROUPS_in_Goal_Directed_AFTER_minus_BEFORE_MD /export2/DATA/HIS/HIS_server/analysis/dwi_data/stats/MD/sub-103_in-MNI_MD_AFTER-minus-BEFORE.nii.gz /export2/DATA/HIS/HIS_server/analysis/dwi_data/stats/MD/sub-107_in-MNI_MD_AFTER-minus-BEFORE.nii.gz /export2/DATA/HIS/HIS_server/analysis/dwi_data/stats/MD/sub-119_in-MNI_MD_AFTER-minus-BEFORE.nii.gz /export2/DATA/HIS/HIS_server/analysis/dwi_data/stats/MD/sub-120_in-MNI_MD_AFTER-minus-BEFORE.nii.gz /export2/DATA/HIS/HIS_server/analysis/dwi_data/stats/MD/sub-124_in-MNI_MD_AFTER-minus-BEFORE.nii.gz /export2/DATA/HIS/HIS_server/analysis/dwi_data/stats/MD/sub-127_in-MNI_MD_AFTER-minus-BEFORE.nii.gz /export2/DATA/HIS/HIS_server/analysis/dwi_data/stats/MD/sub-128_in-MNI_MD_AFTER-minus-BEFORE.nii.gz /export2/DATA/HIS/HIS_server/analysis/dwi_data/stats/MD/sub-131_in-MNI_MD_AFTER-minus-BEFORE.nii.gz /export2/DATA/HIS/HIS_server/analysis/dwi_data/stats/MD/sub-133_in-MNI_MD_AFTER-minus-BEFORE.nii.gz /export2/DATA/HIS/HIS_server/analysis/dwi_data/stats/MD/sub-135_in-MNI_MD_AFTER-minus-BEFORE.nii.gz /export2/DATA/HIS/HIS_server/analysis/dwi_data/stats/MD/sub-137_in-MNI_MD_AFTER-minus-BEFORE.nii.gz /export2/DATA/HIS/HIS_server/analysis/dwi_data/stats/MD/sub-139_in-MNI_MD_AFTER-minus-BEFORE.nii.gz /export2/DATA/HIS/HIS_server/analysis/dwi_data/stats/MD/sub-140_in-MNI_MD_AFTER-minus-BEFORE.nii.gz /export2/DATA/HIS/HIS_server/analysis/dwi_data/stats/MD/sub-144_in-MNI_MD_AFTER-minus-BEFORE.nii.gz /export2/DATA/HIS/HIS_server/analysis/dwi_data/stats/MD/sub-145_in-MNI_MD_AFTER-minus-BEFORE.nii.gz /export2/DATA/HIS/HIS_server/analysis/dwi_data/stats/MD/sub-151_in-MNI_MD_AFTER-minus-BEFORE.nii.gz /export2/DATA/HIS/HIS_server/analysis/dwi_data/stats/MD/sub-154_in-MNI_MD_AFTER-minus-BEFORE.nii.gz /export2/DATA/HIS/HIS_server/analysis/dwi_data/stats/MD/sub-157_in-MNI_MD_AFTER-minus-BEFORE.nii.gz /export2/DATA/HIS/HIS_server/analysis/dwi_data/stats/MD/sub-158_in-MNI_MD_AFTER-minus-BEFORE.nii.gz /export2/DATA/HIS/HIS_server/analysis/dwi_data/stats/MD/sub-159_in-MNI_MD_AFTER-minus-BEFORE.nii.gz /export2/DATA/HIS/HIS_server/analysis/dwi_data/stats/MD/sub-161_in-MNI_MD_AFTER-minus-BEFORE.nii.gz /export2/DATA/HIS/HIS_server/analysis/dwi_data/stats/MD/sub-163_in-MNI_MD_AFTER-minus-BEFORE.nii.gz /export2/DATA/HIS/HIS_server/analysis/dwi_data/stats/MD/sub-168_in-MNI_MD_AFTER-minus-BEFORE.nii.gz /export2/DATA/HIS/HIS_server/analysis/dwi_data/stats/MD/sub-169_in-MNI_MD_AFTER-minus-BEFORE.nii.gz /export2/DATA/HIS/HIS_server/analysis/dwi_data/stats/MD/sub-171_in-MNI_MD_AFTER-minus-BEFORE.nii.gz /export2/DATA/HIS/HIS_server/analysis/dwi_data/stats/MD/sub-174_in-MNI_MD_AFTER-minus-BEFORE.nii.gz /export2/DATA/HIS/HIS_server/analysis/dwi_data/stats/MD/sub-175_in-MNI_MD_AFTER-minus-BEFORE.nii.gz /export2/DATA/HIS/HIS_server/analysis/dwi_data/stats/MD/sub-208_in-MNI_MD_AFTER-minus-BEFORE.nii.gz /export2/DATA/HIS/HIS_server/analysis/dwi_data/stats/MD/sub-214_in-MNI_MD_AFTER-minus-BEFORE.nii.gz /export2/DATA/HIS/HIS_server/analysis/dwi_data/stats/MD/sub-217_in-MNI_MD_AFTER-minus-BEFORE.nii.gz /export2/DATA/HIS/HIS_server/analysis/dwi_data/stats/MD/sub-220_in-MNI_MD_AFTER-minus-BEFORE.nii.gz /export2/DATA/HIS/HIS_server/analysis/dwi_data/stats/MD/sub-221_in-MNI_MD_AFTER-minus-BEFORE.nii.gz /export2/DATA/HIS/HIS_server/analysis/dwi_data/stats/MD/sub-223_in-MNI_MD_AFTER-minus-BEFORE.nii.gz /export2/DATA/HIS/HIS_server/analysis/dwi_data/stats/MD/sub-224_in-MNI_MD_AFTER-minus-BEFORE.nii.gz /export2/DATA/HIS/HIS_server/analysis/dwi_data/stats/MD/sub-225_in-MNI_MD_AFTER-minus-BEFORE.nii.gz /export2/DATA/HIS/HIS_server/analysis/dwi_data/stats/MD/sub-227_in-MNI_MD_AFTER-minus-BEFORE.nii.gz /export2/DATA/HIS/HIS_server/analysis/dwi_data/stats/MD/sub-234_in-MNI_MD_AFTER-minus-BEFORE.nii.gz /export2/DATA/HIS/HIS_server/analysis/dwi_data/stats/MD/sub-235_in-MNI_MD_AFTER-minus-BEFORE.nii.gz /export2/DATA/HIS/HIS_server/analysis/dwi_data/stats/MD/sub-238_in-MNI_MD_AFTER-minus-BEFORE.nii.gz /export2/DATA/HIS/HIS_server/analysis/dwi_data/stats/MD/sub-241_in-MNI_MD_AFTER-minus-BEFORE.nii.gz /export2/DATA/HIS/HIS_server/analysis/dwi_data/stats/MD/sub-242_in-MNI_MD_AFTER-minus-BEFORE.nii.gz /export2/DATA/HIS/HIS_server/analysis/dwi_data/stats/MD/sub-255_in-MNI_MD_AFTER-minus-BEFORE.nii.gz /export2/DATA/HIS/HIS_server/analysis/dwi_data/stats/MD/sub-267_in-MNI_MD_AFTER-minus-BEFORE.nii.gz /export2/DATA/HIS/HIS_server/analysis/dwi_data/stats/MD/sub-276_in-MNI_MD_AFTER-minus-BEFORE.nii.gz /export2/DATA/HIS/HIS_server/analysis/dwi_data/stats/MD/sub-277_in-MNI_MD_AFTER-minus-BEFORE.nii.gz /export2/DATA/HIS/HIS_server/analysis/dwi_data/stats/MD/sub-280_in-MNI_MD_AFTER-minus-BEFORE.nii.gz /export2/DATA/HIS/HIS_server/analysis/dwi_data/stats/MD/sub-284_in-MNI_MD_AFTER-minus-BEFORE.nii.gz\n",
      "fslmerge -t /export2/DATA/HIS/HIS_server/analysis/dwi_data/stats/MD/SUBGROUPS_in_Habitual_AFTER_minus_BEFORE_MD /export2/DATA/HIS/HIS_server/analysis/dwi_data/stats/MD/sub-104_in-MNI_MD_AFTER-minus-BEFORE.nii.gz /export2/DATA/HIS/HIS_server/analysis/dwi_data/stats/MD/sub-106_in-MNI_MD_AFTER-minus-BEFORE.nii.gz /export2/DATA/HIS/HIS_server/analysis/dwi_data/stats/MD/sub-108_in-MNI_MD_AFTER-minus-BEFORE.nii.gz /export2/DATA/HIS/HIS_server/analysis/dwi_data/stats/MD/sub-110_in-MNI_MD_AFTER-minus-BEFORE.nii.gz /export2/DATA/HIS/HIS_server/analysis/dwi_data/stats/MD/sub-113_in-MNI_MD_AFTER-minus-BEFORE.nii.gz /export2/DATA/HIS/HIS_server/analysis/dwi_data/stats/MD/sub-114_in-MNI_MD_AFTER-minus-BEFORE.nii.gz /export2/DATA/HIS/HIS_server/analysis/dwi_data/stats/MD/sub-115_in-MNI_MD_AFTER-minus-BEFORE.nii.gz /export2/DATA/HIS/HIS_server/analysis/dwi_data/stats/MD/sub-117_in-MNI_MD_AFTER-minus-BEFORE.nii.gz /export2/DATA/HIS/HIS_server/analysis/dwi_data/stats/MD/sub-118_in-MNI_MD_AFTER-minus-BEFORE.nii.gz /export2/DATA/HIS/HIS_server/analysis/dwi_data/stats/MD/sub-121_in-MNI_MD_AFTER-minus-BEFORE.nii.gz /export2/DATA/HIS/HIS_server/analysis/dwi_data/stats/MD/sub-122_in-MNI_MD_AFTER-minus-BEFORE.nii.gz /export2/DATA/HIS/HIS_server/analysis/dwi_data/stats/MD/sub-126_in-MNI_MD_AFTER-minus-BEFORE.nii.gz /export2/DATA/HIS/HIS_server/analysis/dwi_data/stats/MD/sub-129_in-MNI_MD_AFTER-minus-BEFORE.nii.gz /export2/DATA/HIS/HIS_server/analysis/dwi_data/stats/MD/sub-130_in-MNI_MD_AFTER-minus-BEFORE.nii.gz /export2/DATA/HIS/HIS_server/analysis/dwi_data/stats/MD/sub-138_in-MNI_MD_AFTER-minus-BEFORE.nii.gz /export2/DATA/HIS/HIS_server/analysis/dwi_data/stats/MD/sub-141_in-MNI_MD_AFTER-minus-BEFORE.nii.gz /export2/DATA/HIS/HIS_server/analysis/dwi_data/stats/MD/sub-142_in-MNI_MD_AFTER-minus-BEFORE.nii.gz /export2/DATA/HIS/HIS_server/analysis/dwi_data/stats/MD/sub-143_in-MNI_MD_AFTER-minus-BEFORE.nii.gz /export2/DATA/HIS/HIS_server/analysis/dwi_data/stats/MD/sub-146_in-MNI_MD_AFTER-minus-BEFORE.nii.gz /export2/DATA/HIS/HIS_server/analysis/dwi_data/stats/MD/sub-147_in-MNI_MD_AFTER-minus-BEFORE.nii.gz /export2/DATA/HIS/HIS_server/analysis/dwi_data/stats/MD/sub-148_in-MNI_MD_AFTER-minus-BEFORE.nii.gz /export2/DATA/HIS/HIS_server/analysis/dwi_data/stats/MD/sub-149_in-MNI_MD_AFTER-minus-BEFORE.nii.gz /export2/DATA/HIS/HIS_server/analysis/dwi_data/stats/MD/sub-150_in-MNI_MD_AFTER-minus-BEFORE.nii.gz /export2/DATA/HIS/HIS_server/analysis/dwi_data/stats/MD/sub-152_in-MNI_MD_AFTER-minus-BEFORE.nii.gz /export2/DATA/HIS/HIS_server/analysis/dwi_data/stats/MD/sub-153_in-MNI_MD_AFTER-minus-BEFORE.nii.gz /export2/DATA/HIS/HIS_server/analysis/dwi_data/stats/MD/sub-155_in-MNI_MD_AFTER-minus-BEFORE.nii.gz /export2/DATA/HIS/HIS_server/analysis/dwi_data/stats/MD/sub-156_in-MNI_MD_AFTER-minus-BEFORE.nii.gz /export2/DATA/HIS/HIS_server/analysis/dwi_data/stats/MD/sub-160_in-MNI_MD_AFTER-minus-BEFORE.nii.gz /export2/DATA/HIS/HIS_server/analysis/dwi_data/stats/MD/sub-162_in-MNI_MD_AFTER-minus-BEFORE.nii.gz /export2/DATA/HIS/HIS_server/analysis/dwi_data/stats/MD/sub-164_in-MNI_MD_AFTER-minus-BEFORE.nii.gz /export2/DATA/HIS/HIS_server/analysis/dwi_data/stats/MD/sub-166_in-MNI_MD_AFTER-minus-BEFORE.nii.gz /export2/DATA/HIS/HIS_server/analysis/dwi_data/stats/MD/sub-167_in-MNI_MD_AFTER-minus-BEFORE.nii.gz /export2/DATA/HIS/HIS_server/analysis/dwi_data/stats/MD/sub-172_in-MNI_MD_AFTER-minus-BEFORE.nii.gz /export2/DATA/HIS/HIS_server/analysis/dwi_data/stats/MD/sub-204_in-MNI_MD_AFTER-minus-BEFORE.nii.gz /export2/DATA/HIS/HIS_server/analysis/dwi_data/stats/MD/sub-205_in-MNI_MD_AFTER-minus-BEFORE.nii.gz /export2/DATA/HIS/HIS_server/analysis/dwi_data/stats/MD/sub-207_in-MNI_MD_AFTER-minus-BEFORE.nii.gz /export2/DATA/HIS/HIS_server/analysis/dwi_data/stats/MD/sub-209_in-MNI_MD_AFTER-minus-BEFORE.nii.gz /export2/DATA/HIS/HIS_server/analysis/dwi_data/stats/MD/sub-210_in-MNI_MD_AFTER-minus-BEFORE.nii.gz /export2/DATA/HIS/HIS_server/analysis/dwi_data/stats/MD/sub-212_in-MNI_MD_AFTER-minus-BEFORE.nii.gz /export2/DATA/HIS/HIS_server/analysis/dwi_data/stats/MD/sub-215_in-MNI_MD_AFTER-minus-BEFORE.nii.gz /export2/DATA/HIS/HIS_server/analysis/dwi_data/stats/MD/sub-218_in-MNI_MD_AFTER-minus-BEFORE.nii.gz /export2/DATA/HIS/HIS_server/analysis/dwi_data/stats/MD/sub-229_in-MNI_MD_AFTER-minus-BEFORE.nii.gz /export2/DATA/HIS/HIS_server/analysis/dwi_data/stats/MD/sub-230_in-MNI_MD_AFTER-minus-BEFORE.nii.gz /export2/DATA/HIS/HIS_server/analysis/dwi_data/stats/MD/sub-232_in-MNI_MD_AFTER-minus-BEFORE.nii.gz /export2/DATA/HIS/HIS_server/analysis/dwi_data/stats/MD/sub-239_in-MNI_MD_AFTER-minus-BEFORE.nii.gz /export2/DATA/HIS/HIS_server/analysis/dwi_data/stats/MD/sub-240_in-MNI_MD_AFTER-minus-BEFORE.nii.gz /export2/DATA/HIS/HIS_server/analysis/dwi_data/stats/MD/sub-243_in-MNI_MD_AFTER-minus-BEFORE.nii.gz /export2/DATA/HIS/HIS_server/analysis/dwi_data/stats/MD/sub-245_in-MNI_MD_AFTER-minus-BEFORE.nii.gz /export2/DATA/HIS/HIS_server/analysis/dwi_data/stats/MD/sub-247_in-MNI_MD_AFTER-minus-BEFORE.nii.gz /export2/DATA/HIS/HIS_server/analysis/dwi_data/stats/MD/sub-249_in-MNI_MD_AFTER-minus-BEFORE.nii.gz /export2/DATA/HIS/HIS_server/analysis/dwi_data/stats/MD/sub-251_in-MNI_MD_AFTER-minus-BEFORE.nii.gz /export2/DATA/HIS/HIS_server/analysis/dwi_data/stats/MD/sub-252_in-MNI_MD_AFTER-minus-BEFORE.nii.gz /export2/DATA/HIS/HIS_server/analysis/dwi_data/stats/MD/sub-254_in-MNI_MD_AFTER-minus-BEFORE.nii.gz /export2/DATA/HIS/HIS_server/analysis/dwi_data/stats/MD/sub-257_in-MNI_MD_AFTER-minus-BEFORE.nii.gz /export2/DATA/HIS/HIS_server/analysis/dwi_data/stats/MD/sub-258_in-MNI_MD_AFTER-minus-BEFORE.nii.gz /export2/DATA/HIS/HIS_server/analysis/dwi_data/stats/MD/sub-260_in-MNI_MD_AFTER-minus-BEFORE.nii.gz /export2/DATA/HIS/HIS_server/analysis/dwi_data/stats/MD/sub-261_in-MNI_MD_AFTER-minus-BEFORE.nii.gz /export2/DATA/HIS/HIS_server/analysis/dwi_data/stats/MD/sub-262_in-MNI_MD_AFTER-minus-BEFORE.nii.gz /export2/DATA/HIS/HIS_server/analysis/dwi_data/stats/MD/sub-263_in-MNI_MD_AFTER-minus-BEFORE.nii.gz /export2/DATA/HIS/HIS_server/analysis/dwi_data/stats/MD/sub-264_in-MNI_MD_AFTER-minus-BEFORE.nii.gz /export2/DATA/HIS/HIS_server/analysis/dwi_data/stats/MD/sub-265_in-MNI_MD_AFTER-minus-BEFORE.nii.gz /export2/DATA/HIS/HIS_server/analysis/dwi_data/stats/MD/sub-270_in-MNI_MD_AFTER-minus-BEFORE.nii.gz /export2/DATA/HIS/HIS_server/analysis/dwi_data/stats/MD/sub-271_in-MNI_MD_AFTER-minus-BEFORE.nii.gz /export2/DATA/HIS/HIS_server/analysis/dwi_data/stats/MD/sub-272_in-MNI_MD_AFTER-minus-BEFORE.nii.gz /export2/DATA/HIS/HIS_server/analysis/dwi_data/stats/MD/sub-281_in-MNI_MD_AFTER-minus-BEFORE.nii.gz /export2/DATA/HIS/HIS_server/analysis/dwi_data/stats/MD/sub-282_in-MNI_MD_AFTER-minus-BEFORE.nii.gz /export2/DATA/HIS/HIS_server/analysis/dwi_data/stats/MD/sub-283_in-MNI_MD_AFTER-minus-BEFORE.nii.gz /export2/DATA/HIS/HIS_server/analysis/dwi_data/stats/MD/sub-285_in-MNI_MD_AFTER-minus-BEFORE.nii.gz\n",
      "fslmerge -t /export2/DATA/HIS/HIS_server/analysis/dwi_data/stats/FA/SUBGROUPS_in_1_Day_AFTER_minus_BEFORE_FA /export2/DATA/HIS/HIS_server/analysis/dwi_data/stats/FA/sub-103_in-MNI_FA_AFTER-minus-BEFORE.nii.gz /export2/DATA/HIS/HIS_server/analysis/dwi_data/stats/FA/sub-107_in-MNI_FA_AFTER-minus-BEFORE.nii.gz /export2/DATA/HIS/HIS_server/analysis/dwi_data/stats/FA/sub-119_in-MNI_FA_AFTER-minus-BEFORE.nii.gz /export2/DATA/HIS/HIS_server/analysis/dwi_data/stats/FA/sub-120_in-MNI_FA_AFTER-minus-BEFORE.nii.gz /export2/DATA/HIS/HIS_server/analysis/dwi_data/stats/FA/sub-124_in-MNI_FA_AFTER-minus-BEFORE.nii.gz /export2/DATA/HIS/HIS_server/analysis/dwi_data/stats/FA/sub-127_in-MNI_FA_AFTER-minus-BEFORE.nii.gz /export2/DATA/HIS/HIS_server/analysis/dwi_data/stats/FA/sub-128_in-MNI_FA_AFTER-minus-BEFORE.nii.gz /export2/DATA/HIS/HIS_server/analysis/dwi_data/stats/FA/sub-131_in-MNI_FA_AFTER-minus-BEFORE.nii.gz /export2/DATA/HIS/HIS_server/analysis/dwi_data/stats/FA/sub-133_in-MNI_FA_AFTER-minus-BEFORE.nii.gz /export2/DATA/HIS/HIS_server/analysis/dwi_data/stats/FA/sub-135_in-MNI_FA_AFTER-minus-BEFORE.nii.gz /export2/DATA/HIS/HIS_server/analysis/dwi_data/stats/FA/sub-137_in-MNI_FA_AFTER-minus-BEFORE.nii.gz /export2/DATA/HIS/HIS_server/analysis/dwi_data/stats/FA/sub-139_in-MNI_FA_AFTER-minus-BEFORE.nii.gz /export2/DATA/HIS/HIS_server/analysis/dwi_data/stats/FA/sub-140_in-MNI_FA_AFTER-minus-BEFORE.nii.gz /export2/DATA/HIS/HIS_server/analysis/dwi_data/stats/FA/sub-144_in-MNI_FA_AFTER-minus-BEFORE.nii.gz /export2/DATA/HIS/HIS_server/analysis/dwi_data/stats/FA/sub-145_in-MNI_FA_AFTER-minus-BEFORE.nii.gz /export2/DATA/HIS/HIS_server/analysis/dwi_data/stats/FA/sub-151_in-MNI_FA_AFTER-minus-BEFORE.nii.gz /export2/DATA/HIS/HIS_server/analysis/dwi_data/stats/FA/sub-154_in-MNI_FA_AFTER-minus-BEFORE.nii.gz /export2/DATA/HIS/HIS_server/analysis/dwi_data/stats/FA/sub-157_in-MNI_FA_AFTER-minus-BEFORE.nii.gz /export2/DATA/HIS/HIS_server/analysis/dwi_data/stats/FA/sub-158_in-MNI_FA_AFTER-minus-BEFORE.nii.gz /export2/DATA/HIS/HIS_server/analysis/dwi_data/stats/FA/sub-159_in-MNI_FA_AFTER-minus-BEFORE.nii.gz /export2/DATA/HIS/HIS_server/analysis/dwi_data/stats/FA/sub-161_in-MNI_FA_AFTER-minus-BEFORE.nii.gz /export2/DATA/HIS/HIS_server/analysis/dwi_data/stats/FA/sub-163_in-MNI_FA_AFTER-minus-BEFORE.nii.gz /export2/DATA/HIS/HIS_server/analysis/dwi_data/stats/FA/sub-168_in-MNI_FA_AFTER-minus-BEFORE.nii.gz /export2/DATA/HIS/HIS_server/analysis/dwi_data/stats/FA/sub-169_in-MNI_FA_AFTER-minus-BEFORE.nii.gz /export2/DATA/HIS/HIS_server/analysis/dwi_data/stats/FA/sub-171_in-MNI_FA_AFTER-minus-BEFORE.nii.gz /export2/DATA/HIS/HIS_server/analysis/dwi_data/stats/FA/sub-174_in-MNI_FA_AFTER-minus-BEFORE.nii.gz /export2/DATA/HIS/HIS_server/analysis/dwi_data/stats/FA/sub-175_in-MNI_FA_AFTER-minus-BEFORE.nii.gz /export2/DATA/HIS/HIS_server/analysis/dwi_data/stats/FA/sub-104_in-MNI_FA_AFTER-minus-BEFORE.nii.gz /export2/DATA/HIS/HIS_server/analysis/dwi_data/stats/FA/sub-106_in-MNI_FA_AFTER-minus-BEFORE.nii.gz /export2/DATA/HIS/HIS_server/analysis/dwi_data/stats/FA/sub-108_in-MNI_FA_AFTER-minus-BEFORE.nii.gz /export2/DATA/HIS/HIS_server/analysis/dwi_data/stats/FA/sub-110_in-MNI_FA_AFTER-minus-BEFORE.nii.gz /export2/DATA/HIS/HIS_server/analysis/dwi_data/stats/FA/sub-113_in-MNI_FA_AFTER-minus-BEFORE.nii.gz /export2/DATA/HIS/HIS_server/analysis/dwi_data/stats/FA/sub-114_in-MNI_FA_AFTER-minus-BEFORE.nii.gz /export2/DATA/HIS/HIS_server/analysis/dwi_data/stats/FA/sub-115_in-MNI_FA_AFTER-minus-BEFORE.nii.gz /export2/DATA/HIS/HIS_server/analysis/dwi_data/stats/FA/sub-117_in-MNI_FA_AFTER-minus-BEFORE.nii.gz /export2/DATA/HIS/HIS_server/analysis/dwi_data/stats/FA/sub-118_in-MNI_FA_AFTER-minus-BEFORE.nii.gz /export2/DATA/HIS/HIS_server/analysis/dwi_data/stats/FA/sub-121_in-MNI_FA_AFTER-minus-BEFORE.nii.gz /export2/DATA/HIS/HIS_server/analysis/dwi_data/stats/FA/sub-122_in-MNI_FA_AFTER-minus-BEFORE.nii.gz /export2/DATA/HIS/HIS_server/analysis/dwi_data/stats/FA/sub-126_in-MNI_FA_AFTER-minus-BEFORE.nii.gz /export2/DATA/HIS/HIS_server/analysis/dwi_data/stats/FA/sub-129_in-MNI_FA_AFTER-minus-BEFORE.nii.gz /export2/DATA/HIS/HIS_server/analysis/dwi_data/stats/FA/sub-130_in-MNI_FA_AFTER-minus-BEFORE.nii.gz /export2/DATA/HIS/HIS_server/analysis/dwi_data/stats/FA/sub-138_in-MNI_FA_AFTER-minus-BEFORE.nii.gz /export2/DATA/HIS/HIS_server/analysis/dwi_data/stats/FA/sub-141_in-MNI_FA_AFTER-minus-BEFORE.nii.gz /export2/DATA/HIS/HIS_server/analysis/dwi_data/stats/FA/sub-142_in-MNI_FA_AFTER-minus-BEFORE.nii.gz /export2/DATA/HIS/HIS_server/analysis/dwi_data/stats/FA/sub-143_in-MNI_FA_AFTER-minus-BEFORE.nii.gz /export2/DATA/HIS/HIS_server/analysis/dwi_data/stats/FA/sub-146_in-MNI_FA_AFTER-minus-BEFORE.nii.gz /export2/DATA/HIS/HIS_server/analysis/dwi_data/stats/FA/sub-147_in-MNI_FA_AFTER-minus-BEFORE.nii.gz /export2/DATA/HIS/HIS_server/analysis/dwi_data/stats/FA/sub-148_in-MNI_FA_AFTER-minus-BEFORE.nii.gz /export2/DATA/HIS/HIS_server/analysis/dwi_data/stats/FA/sub-149_in-MNI_FA_AFTER-minus-BEFORE.nii.gz /export2/DATA/HIS/HIS_server/analysis/dwi_data/stats/FA/sub-150_in-MNI_FA_AFTER-minus-BEFORE.nii.gz /export2/DATA/HIS/HIS_server/analysis/dwi_data/stats/FA/sub-152_in-MNI_FA_AFTER-minus-BEFORE.nii.gz /export2/DATA/HIS/HIS_server/analysis/dwi_data/stats/FA/sub-153_in-MNI_FA_AFTER-minus-BEFORE.nii.gz /export2/DATA/HIS/HIS_server/analysis/dwi_data/stats/FA/sub-155_in-MNI_FA_AFTER-minus-BEFORE.nii.gz /export2/DATA/HIS/HIS_server/analysis/dwi_data/stats/FA/sub-156_in-MNI_FA_AFTER-minus-BEFORE.nii.gz /export2/DATA/HIS/HIS_server/analysis/dwi_data/stats/FA/sub-160_in-MNI_FA_AFTER-minus-BEFORE.nii.gz /export2/DATA/HIS/HIS_server/analysis/dwi_data/stats/FA/sub-162_in-MNI_FA_AFTER-minus-BEFORE.nii.gz /export2/DATA/HIS/HIS_server/analysis/dwi_data/stats/FA/sub-164_in-MNI_FA_AFTER-minus-BEFORE.nii.gz /export2/DATA/HIS/HIS_server/analysis/dwi_data/stats/FA/sub-166_in-MNI_FA_AFTER-minus-BEFORE.nii.gz /export2/DATA/HIS/HIS_server/analysis/dwi_data/stats/FA/sub-167_in-MNI_FA_AFTER-minus-BEFORE.nii.gz /export2/DATA/HIS/HIS_server/analysis/dwi_data/stats/FA/sub-172_in-MNI_FA_AFTER-minus-BEFORE.nii.gz\n",
      "fslmerge -t /export2/DATA/HIS/HIS_server/analysis/dwi_data/stats/FA/SUBGROUPS_in_3_Day_AFTER_minus_BEFORE_FA /export2/DATA/HIS/HIS_server/analysis/dwi_data/stats/FA/sub-208_in-MNI_FA_AFTER-minus-BEFORE.nii.gz /export2/DATA/HIS/HIS_server/analysis/dwi_data/stats/FA/sub-214_in-MNI_FA_AFTER-minus-BEFORE.nii.gz /export2/DATA/HIS/HIS_server/analysis/dwi_data/stats/FA/sub-217_in-MNI_FA_AFTER-minus-BEFORE.nii.gz /export2/DATA/HIS/HIS_server/analysis/dwi_data/stats/FA/sub-220_in-MNI_FA_AFTER-minus-BEFORE.nii.gz /export2/DATA/HIS/HIS_server/analysis/dwi_data/stats/FA/sub-221_in-MNI_FA_AFTER-minus-BEFORE.nii.gz /export2/DATA/HIS/HIS_server/analysis/dwi_data/stats/FA/sub-223_in-MNI_FA_AFTER-minus-BEFORE.nii.gz /export2/DATA/HIS/HIS_server/analysis/dwi_data/stats/FA/sub-224_in-MNI_FA_AFTER-minus-BEFORE.nii.gz /export2/DATA/HIS/HIS_server/analysis/dwi_data/stats/FA/sub-225_in-MNI_FA_AFTER-minus-BEFORE.nii.gz /export2/DATA/HIS/HIS_server/analysis/dwi_data/stats/FA/sub-227_in-MNI_FA_AFTER-minus-BEFORE.nii.gz /export2/DATA/HIS/HIS_server/analysis/dwi_data/stats/FA/sub-234_in-MNI_FA_AFTER-minus-BEFORE.nii.gz /export2/DATA/HIS/HIS_server/analysis/dwi_data/stats/FA/sub-235_in-MNI_FA_AFTER-minus-BEFORE.nii.gz /export2/DATA/HIS/HIS_server/analysis/dwi_data/stats/FA/sub-238_in-MNI_FA_AFTER-minus-BEFORE.nii.gz /export2/DATA/HIS/HIS_server/analysis/dwi_data/stats/FA/sub-241_in-MNI_FA_AFTER-minus-BEFORE.nii.gz /export2/DATA/HIS/HIS_server/analysis/dwi_data/stats/FA/sub-242_in-MNI_FA_AFTER-minus-BEFORE.nii.gz /export2/DATA/HIS/HIS_server/analysis/dwi_data/stats/FA/sub-255_in-MNI_FA_AFTER-minus-BEFORE.nii.gz /export2/DATA/HIS/HIS_server/analysis/dwi_data/stats/FA/sub-267_in-MNI_FA_AFTER-minus-BEFORE.nii.gz /export2/DATA/HIS/HIS_server/analysis/dwi_data/stats/FA/sub-276_in-MNI_FA_AFTER-minus-BEFORE.nii.gz /export2/DATA/HIS/HIS_server/analysis/dwi_data/stats/FA/sub-277_in-MNI_FA_AFTER-minus-BEFORE.nii.gz /export2/DATA/HIS/HIS_server/analysis/dwi_data/stats/FA/sub-280_in-MNI_FA_AFTER-minus-BEFORE.nii.gz /export2/DATA/HIS/HIS_server/analysis/dwi_data/stats/FA/sub-284_in-MNI_FA_AFTER-minus-BEFORE.nii.gz /export2/DATA/HIS/HIS_server/analysis/dwi_data/stats/FA/sub-204_in-MNI_FA_AFTER-minus-BEFORE.nii.gz /export2/DATA/HIS/HIS_server/analysis/dwi_data/stats/FA/sub-205_in-MNI_FA_AFTER-minus-BEFORE.nii.gz /export2/DATA/HIS/HIS_server/analysis/dwi_data/stats/FA/sub-207_in-MNI_FA_AFTER-minus-BEFORE.nii.gz /export2/DATA/HIS/HIS_server/analysis/dwi_data/stats/FA/sub-209_in-MNI_FA_AFTER-minus-BEFORE.nii.gz /export2/DATA/HIS/HIS_server/analysis/dwi_data/stats/FA/sub-210_in-MNI_FA_AFTER-minus-BEFORE.nii.gz /export2/DATA/HIS/HIS_server/analysis/dwi_data/stats/FA/sub-212_in-MNI_FA_AFTER-minus-BEFORE.nii.gz /export2/DATA/HIS/HIS_server/analysis/dwi_data/stats/FA/sub-215_in-MNI_FA_AFTER-minus-BEFORE.nii.gz /export2/DATA/HIS/HIS_server/analysis/dwi_data/stats/FA/sub-218_in-MNI_FA_AFTER-minus-BEFORE.nii.gz /export2/DATA/HIS/HIS_server/analysis/dwi_data/stats/FA/sub-229_in-MNI_FA_AFTER-minus-BEFORE.nii.gz /export2/DATA/HIS/HIS_server/analysis/dwi_data/stats/FA/sub-230_in-MNI_FA_AFTER-minus-BEFORE.nii.gz /export2/DATA/HIS/HIS_server/analysis/dwi_data/stats/FA/sub-232_in-MNI_FA_AFTER-minus-BEFORE.nii.gz /export2/DATA/HIS/HIS_server/analysis/dwi_data/stats/FA/sub-239_in-MNI_FA_AFTER-minus-BEFORE.nii.gz /export2/DATA/HIS/HIS_server/analysis/dwi_data/stats/FA/sub-240_in-MNI_FA_AFTER-minus-BEFORE.nii.gz /export2/DATA/HIS/HIS_server/analysis/dwi_data/stats/FA/sub-243_in-MNI_FA_AFTER-minus-BEFORE.nii.gz /export2/DATA/HIS/HIS_server/analysis/dwi_data/stats/FA/sub-245_in-MNI_FA_AFTER-minus-BEFORE.nii.gz /export2/DATA/HIS/HIS_server/analysis/dwi_data/stats/FA/sub-247_in-MNI_FA_AFTER-minus-BEFORE.nii.gz /export2/DATA/HIS/HIS_server/analysis/dwi_data/stats/FA/sub-249_in-MNI_FA_AFTER-minus-BEFORE.nii.gz /export2/DATA/HIS/HIS_server/analysis/dwi_data/stats/FA/sub-251_in-MNI_FA_AFTER-minus-BEFORE.nii.gz /export2/DATA/HIS/HIS_server/analysis/dwi_data/stats/FA/sub-252_in-MNI_FA_AFTER-minus-BEFORE.nii.gz /export2/DATA/HIS/HIS_server/analysis/dwi_data/stats/FA/sub-254_in-MNI_FA_AFTER-minus-BEFORE.nii.gz /export2/DATA/HIS/HIS_server/analysis/dwi_data/stats/FA/sub-257_in-MNI_FA_AFTER-minus-BEFORE.nii.gz /export2/DATA/HIS/HIS_server/analysis/dwi_data/stats/FA/sub-258_in-MNI_FA_AFTER-minus-BEFORE.nii.gz /export2/DATA/HIS/HIS_server/analysis/dwi_data/stats/FA/sub-260_in-MNI_FA_AFTER-minus-BEFORE.nii.gz /export2/DATA/HIS/HIS_server/analysis/dwi_data/stats/FA/sub-261_in-MNI_FA_AFTER-minus-BEFORE.nii.gz /export2/DATA/HIS/HIS_server/analysis/dwi_data/stats/FA/sub-262_in-MNI_FA_AFTER-minus-BEFORE.nii.gz /export2/DATA/HIS/HIS_server/analysis/dwi_data/stats/FA/sub-263_in-MNI_FA_AFTER-minus-BEFORE.nii.gz /export2/DATA/HIS/HIS_server/analysis/dwi_data/stats/FA/sub-264_in-MNI_FA_AFTER-minus-BEFORE.nii.gz /export2/DATA/HIS/HIS_server/analysis/dwi_data/stats/FA/sub-265_in-MNI_FA_AFTER-minus-BEFORE.nii.gz /export2/DATA/HIS/HIS_server/analysis/dwi_data/stats/FA/sub-270_in-MNI_FA_AFTER-minus-BEFORE.nii.gz /export2/DATA/HIS/HIS_server/analysis/dwi_data/stats/FA/sub-271_in-MNI_FA_AFTER-minus-BEFORE.nii.gz /export2/DATA/HIS/HIS_server/analysis/dwi_data/stats/FA/sub-272_in-MNI_FA_AFTER-minus-BEFORE.nii.gz /export2/DATA/HIS/HIS_server/analysis/dwi_data/stats/FA/sub-281_in-MNI_FA_AFTER-minus-BEFORE.nii.gz /export2/DATA/HIS/HIS_server/analysis/dwi_data/stats/FA/sub-282_in-MNI_FA_AFTER-minus-BEFORE.nii.gz /export2/DATA/HIS/HIS_server/analysis/dwi_data/stats/FA/sub-283_in-MNI_FA_AFTER-minus-BEFORE.nii.gz /export2/DATA/HIS/HIS_server/analysis/dwi_data/stats/FA/sub-285_in-MNI_FA_AFTER-minus-BEFORE.nii.gz\n",
      "fslmerge -t /export2/DATA/HIS/HIS_server/analysis/dwi_data/stats/FA/SUBGROUPS_in_Goal_Directed_AFTER_minus_BEFORE_FA /export2/DATA/HIS/HIS_server/analysis/dwi_data/stats/FA/sub-103_in-MNI_FA_AFTER-minus-BEFORE.nii.gz /export2/DATA/HIS/HIS_server/analysis/dwi_data/stats/FA/sub-107_in-MNI_FA_AFTER-minus-BEFORE.nii.gz /export2/DATA/HIS/HIS_server/analysis/dwi_data/stats/FA/sub-119_in-MNI_FA_AFTER-minus-BEFORE.nii.gz /export2/DATA/HIS/HIS_server/analysis/dwi_data/stats/FA/sub-120_in-MNI_FA_AFTER-minus-BEFORE.nii.gz /export2/DATA/HIS/HIS_server/analysis/dwi_data/stats/FA/sub-124_in-MNI_FA_AFTER-minus-BEFORE.nii.gz /export2/DATA/HIS/HIS_server/analysis/dwi_data/stats/FA/sub-127_in-MNI_FA_AFTER-minus-BEFORE.nii.gz /export2/DATA/HIS/HIS_server/analysis/dwi_data/stats/FA/sub-128_in-MNI_FA_AFTER-minus-BEFORE.nii.gz /export2/DATA/HIS/HIS_server/analysis/dwi_data/stats/FA/sub-131_in-MNI_FA_AFTER-minus-BEFORE.nii.gz /export2/DATA/HIS/HIS_server/analysis/dwi_data/stats/FA/sub-133_in-MNI_FA_AFTER-minus-BEFORE.nii.gz /export2/DATA/HIS/HIS_server/analysis/dwi_data/stats/FA/sub-135_in-MNI_FA_AFTER-minus-BEFORE.nii.gz /export2/DATA/HIS/HIS_server/analysis/dwi_data/stats/FA/sub-137_in-MNI_FA_AFTER-minus-BEFORE.nii.gz /export2/DATA/HIS/HIS_server/analysis/dwi_data/stats/FA/sub-139_in-MNI_FA_AFTER-minus-BEFORE.nii.gz /export2/DATA/HIS/HIS_server/analysis/dwi_data/stats/FA/sub-140_in-MNI_FA_AFTER-minus-BEFORE.nii.gz /export2/DATA/HIS/HIS_server/analysis/dwi_data/stats/FA/sub-144_in-MNI_FA_AFTER-minus-BEFORE.nii.gz /export2/DATA/HIS/HIS_server/analysis/dwi_data/stats/FA/sub-145_in-MNI_FA_AFTER-minus-BEFORE.nii.gz /export2/DATA/HIS/HIS_server/analysis/dwi_data/stats/FA/sub-151_in-MNI_FA_AFTER-minus-BEFORE.nii.gz /export2/DATA/HIS/HIS_server/analysis/dwi_data/stats/FA/sub-154_in-MNI_FA_AFTER-minus-BEFORE.nii.gz /export2/DATA/HIS/HIS_server/analysis/dwi_data/stats/FA/sub-157_in-MNI_FA_AFTER-minus-BEFORE.nii.gz /export2/DATA/HIS/HIS_server/analysis/dwi_data/stats/FA/sub-158_in-MNI_FA_AFTER-minus-BEFORE.nii.gz /export2/DATA/HIS/HIS_server/analysis/dwi_data/stats/FA/sub-159_in-MNI_FA_AFTER-minus-BEFORE.nii.gz /export2/DATA/HIS/HIS_server/analysis/dwi_data/stats/FA/sub-161_in-MNI_FA_AFTER-minus-BEFORE.nii.gz /export2/DATA/HIS/HIS_server/analysis/dwi_data/stats/FA/sub-163_in-MNI_FA_AFTER-minus-BEFORE.nii.gz /export2/DATA/HIS/HIS_server/analysis/dwi_data/stats/FA/sub-168_in-MNI_FA_AFTER-minus-BEFORE.nii.gz /export2/DATA/HIS/HIS_server/analysis/dwi_data/stats/FA/sub-169_in-MNI_FA_AFTER-minus-BEFORE.nii.gz /export2/DATA/HIS/HIS_server/analysis/dwi_data/stats/FA/sub-171_in-MNI_FA_AFTER-minus-BEFORE.nii.gz /export2/DATA/HIS/HIS_server/analysis/dwi_data/stats/FA/sub-174_in-MNI_FA_AFTER-minus-BEFORE.nii.gz /export2/DATA/HIS/HIS_server/analysis/dwi_data/stats/FA/sub-175_in-MNI_FA_AFTER-minus-BEFORE.nii.gz /export2/DATA/HIS/HIS_server/analysis/dwi_data/stats/FA/sub-208_in-MNI_FA_AFTER-minus-BEFORE.nii.gz /export2/DATA/HIS/HIS_server/analysis/dwi_data/stats/FA/sub-214_in-MNI_FA_AFTER-minus-BEFORE.nii.gz /export2/DATA/HIS/HIS_server/analysis/dwi_data/stats/FA/sub-217_in-MNI_FA_AFTER-minus-BEFORE.nii.gz /export2/DATA/HIS/HIS_server/analysis/dwi_data/stats/FA/sub-220_in-MNI_FA_AFTER-minus-BEFORE.nii.gz /export2/DATA/HIS/HIS_server/analysis/dwi_data/stats/FA/sub-221_in-MNI_FA_AFTER-minus-BEFORE.nii.gz /export2/DATA/HIS/HIS_server/analysis/dwi_data/stats/FA/sub-223_in-MNI_FA_AFTER-minus-BEFORE.nii.gz /export2/DATA/HIS/HIS_server/analysis/dwi_data/stats/FA/sub-224_in-MNI_FA_AFTER-minus-BEFORE.nii.gz /export2/DATA/HIS/HIS_server/analysis/dwi_data/stats/FA/sub-225_in-MNI_FA_AFTER-minus-BEFORE.nii.gz /export2/DATA/HIS/HIS_server/analysis/dwi_data/stats/FA/sub-227_in-MNI_FA_AFTER-minus-BEFORE.nii.gz /export2/DATA/HIS/HIS_server/analysis/dwi_data/stats/FA/sub-234_in-MNI_FA_AFTER-minus-BEFORE.nii.gz /export2/DATA/HIS/HIS_server/analysis/dwi_data/stats/FA/sub-235_in-MNI_FA_AFTER-minus-BEFORE.nii.gz /export2/DATA/HIS/HIS_server/analysis/dwi_data/stats/FA/sub-238_in-MNI_FA_AFTER-minus-BEFORE.nii.gz /export2/DATA/HIS/HIS_server/analysis/dwi_data/stats/FA/sub-241_in-MNI_FA_AFTER-minus-BEFORE.nii.gz /export2/DATA/HIS/HIS_server/analysis/dwi_data/stats/FA/sub-242_in-MNI_FA_AFTER-minus-BEFORE.nii.gz /export2/DATA/HIS/HIS_server/analysis/dwi_data/stats/FA/sub-255_in-MNI_FA_AFTER-minus-BEFORE.nii.gz /export2/DATA/HIS/HIS_server/analysis/dwi_data/stats/FA/sub-267_in-MNI_FA_AFTER-minus-BEFORE.nii.gz /export2/DATA/HIS/HIS_server/analysis/dwi_data/stats/FA/sub-276_in-MNI_FA_AFTER-minus-BEFORE.nii.gz /export2/DATA/HIS/HIS_server/analysis/dwi_data/stats/FA/sub-277_in-MNI_FA_AFTER-minus-BEFORE.nii.gz /export2/DATA/HIS/HIS_server/analysis/dwi_data/stats/FA/sub-280_in-MNI_FA_AFTER-minus-BEFORE.nii.gz /export2/DATA/HIS/HIS_server/analysis/dwi_data/stats/FA/sub-284_in-MNI_FA_AFTER-minus-BEFORE.nii.gz\n",
      "fslmerge -t /export2/DATA/HIS/HIS_server/analysis/dwi_data/stats/FA/SUBGROUPS_in_Habitual_AFTER_minus_BEFORE_FA /export2/DATA/HIS/HIS_server/analysis/dwi_data/stats/FA/sub-104_in-MNI_FA_AFTER-minus-BEFORE.nii.gz /export2/DATA/HIS/HIS_server/analysis/dwi_data/stats/FA/sub-106_in-MNI_FA_AFTER-minus-BEFORE.nii.gz /export2/DATA/HIS/HIS_server/analysis/dwi_data/stats/FA/sub-108_in-MNI_FA_AFTER-minus-BEFORE.nii.gz /export2/DATA/HIS/HIS_server/analysis/dwi_data/stats/FA/sub-110_in-MNI_FA_AFTER-minus-BEFORE.nii.gz /export2/DATA/HIS/HIS_server/analysis/dwi_data/stats/FA/sub-113_in-MNI_FA_AFTER-minus-BEFORE.nii.gz /export2/DATA/HIS/HIS_server/analysis/dwi_data/stats/FA/sub-114_in-MNI_FA_AFTER-minus-BEFORE.nii.gz /export2/DATA/HIS/HIS_server/analysis/dwi_data/stats/FA/sub-115_in-MNI_FA_AFTER-minus-BEFORE.nii.gz /export2/DATA/HIS/HIS_server/analysis/dwi_data/stats/FA/sub-117_in-MNI_FA_AFTER-minus-BEFORE.nii.gz /export2/DATA/HIS/HIS_server/analysis/dwi_data/stats/FA/sub-118_in-MNI_FA_AFTER-minus-BEFORE.nii.gz /export2/DATA/HIS/HIS_server/analysis/dwi_data/stats/FA/sub-121_in-MNI_FA_AFTER-minus-BEFORE.nii.gz /export2/DATA/HIS/HIS_server/analysis/dwi_data/stats/FA/sub-122_in-MNI_FA_AFTER-minus-BEFORE.nii.gz /export2/DATA/HIS/HIS_server/analysis/dwi_data/stats/FA/sub-126_in-MNI_FA_AFTER-minus-BEFORE.nii.gz /export2/DATA/HIS/HIS_server/analysis/dwi_data/stats/FA/sub-129_in-MNI_FA_AFTER-minus-BEFORE.nii.gz /export2/DATA/HIS/HIS_server/analysis/dwi_data/stats/FA/sub-130_in-MNI_FA_AFTER-minus-BEFORE.nii.gz /export2/DATA/HIS/HIS_server/analysis/dwi_data/stats/FA/sub-138_in-MNI_FA_AFTER-minus-BEFORE.nii.gz /export2/DATA/HIS/HIS_server/analysis/dwi_data/stats/FA/sub-141_in-MNI_FA_AFTER-minus-BEFORE.nii.gz /export2/DATA/HIS/HIS_server/analysis/dwi_data/stats/FA/sub-142_in-MNI_FA_AFTER-minus-BEFORE.nii.gz /export2/DATA/HIS/HIS_server/analysis/dwi_data/stats/FA/sub-143_in-MNI_FA_AFTER-minus-BEFORE.nii.gz /export2/DATA/HIS/HIS_server/analysis/dwi_data/stats/FA/sub-146_in-MNI_FA_AFTER-minus-BEFORE.nii.gz /export2/DATA/HIS/HIS_server/analysis/dwi_data/stats/FA/sub-147_in-MNI_FA_AFTER-minus-BEFORE.nii.gz /export2/DATA/HIS/HIS_server/analysis/dwi_data/stats/FA/sub-148_in-MNI_FA_AFTER-minus-BEFORE.nii.gz /export2/DATA/HIS/HIS_server/analysis/dwi_data/stats/FA/sub-149_in-MNI_FA_AFTER-minus-BEFORE.nii.gz /export2/DATA/HIS/HIS_server/analysis/dwi_data/stats/FA/sub-150_in-MNI_FA_AFTER-minus-BEFORE.nii.gz /export2/DATA/HIS/HIS_server/analysis/dwi_data/stats/FA/sub-152_in-MNI_FA_AFTER-minus-BEFORE.nii.gz /export2/DATA/HIS/HIS_server/analysis/dwi_data/stats/FA/sub-153_in-MNI_FA_AFTER-minus-BEFORE.nii.gz /export2/DATA/HIS/HIS_server/analysis/dwi_data/stats/FA/sub-155_in-MNI_FA_AFTER-minus-BEFORE.nii.gz /export2/DATA/HIS/HIS_server/analysis/dwi_data/stats/FA/sub-156_in-MNI_FA_AFTER-minus-BEFORE.nii.gz /export2/DATA/HIS/HIS_server/analysis/dwi_data/stats/FA/sub-160_in-MNI_FA_AFTER-minus-BEFORE.nii.gz /export2/DATA/HIS/HIS_server/analysis/dwi_data/stats/FA/sub-162_in-MNI_FA_AFTER-minus-BEFORE.nii.gz /export2/DATA/HIS/HIS_server/analysis/dwi_data/stats/FA/sub-164_in-MNI_FA_AFTER-minus-BEFORE.nii.gz /export2/DATA/HIS/HIS_server/analysis/dwi_data/stats/FA/sub-166_in-MNI_FA_AFTER-minus-BEFORE.nii.gz /export2/DATA/HIS/HIS_server/analysis/dwi_data/stats/FA/sub-167_in-MNI_FA_AFTER-minus-BEFORE.nii.gz /export2/DATA/HIS/HIS_server/analysis/dwi_data/stats/FA/sub-172_in-MNI_FA_AFTER-minus-BEFORE.nii.gz /export2/DATA/HIS/HIS_server/analysis/dwi_data/stats/FA/sub-204_in-MNI_FA_AFTER-minus-BEFORE.nii.gz /export2/DATA/HIS/HIS_server/analysis/dwi_data/stats/FA/sub-205_in-MNI_FA_AFTER-minus-BEFORE.nii.gz /export2/DATA/HIS/HIS_server/analysis/dwi_data/stats/FA/sub-207_in-MNI_FA_AFTER-minus-BEFORE.nii.gz /export2/DATA/HIS/HIS_server/analysis/dwi_data/stats/FA/sub-209_in-MNI_FA_AFTER-minus-BEFORE.nii.gz /export2/DATA/HIS/HIS_server/analysis/dwi_data/stats/FA/sub-210_in-MNI_FA_AFTER-minus-BEFORE.nii.gz /export2/DATA/HIS/HIS_server/analysis/dwi_data/stats/FA/sub-212_in-MNI_FA_AFTER-minus-BEFORE.nii.gz /export2/DATA/HIS/HIS_server/analysis/dwi_data/stats/FA/sub-215_in-MNI_FA_AFTER-minus-BEFORE.nii.gz /export2/DATA/HIS/HIS_server/analysis/dwi_data/stats/FA/sub-218_in-MNI_FA_AFTER-minus-BEFORE.nii.gz /export2/DATA/HIS/HIS_server/analysis/dwi_data/stats/FA/sub-229_in-MNI_FA_AFTER-minus-BEFORE.nii.gz /export2/DATA/HIS/HIS_server/analysis/dwi_data/stats/FA/sub-230_in-MNI_FA_AFTER-minus-BEFORE.nii.gz /export2/DATA/HIS/HIS_server/analysis/dwi_data/stats/FA/sub-232_in-MNI_FA_AFTER-minus-BEFORE.nii.gz /export2/DATA/HIS/HIS_server/analysis/dwi_data/stats/FA/sub-239_in-MNI_FA_AFTER-minus-BEFORE.nii.gz /export2/DATA/HIS/HIS_server/analysis/dwi_data/stats/FA/sub-240_in-MNI_FA_AFTER-minus-BEFORE.nii.gz /export2/DATA/HIS/HIS_server/analysis/dwi_data/stats/FA/sub-243_in-MNI_FA_AFTER-minus-BEFORE.nii.gz /export2/DATA/HIS/HIS_server/analysis/dwi_data/stats/FA/sub-245_in-MNI_FA_AFTER-minus-BEFORE.nii.gz /export2/DATA/HIS/HIS_server/analysis/dwi_data/stats/FA/sub-247_in-MNI_FA_AFTER-minus-BEFORE.nii.gz /export2/DATA/HIS/HIS_server/analysis/dwi_data/stats/FA/sub-249_in-MNI_FA_AFTER-minus-BEFORE.nii.gz /export2/DATA/HIS/HIS_server/analysis/dwi_data/stats/FA/sub-251_in-MNI_FA_AFTER-minus-BEFORE.nii.gz /export2/DATA/HIS/HIS_server/analysis/dwi_data/stats/FA/sub-252_in-MNI_FA_AFTER-minus-BEFORE.nii.gz /export2/DATA/HIS/HIS_server/analysis/dwi_data/stats/FA/sub-254_in-MNI_FA_AFTER-minus-BEFORE.nii.gz /export2/DATA/HIS/HIS_server/analysis/dwi_data/stats/FA/sub-257_in-MNI_FA_AFTER-minus-BEFORE.nii.gz /export2/DATA/HIS/HIS_server/analysis/dwi_data/stats/FA/sub-258_in-MNI_FA_AFTER-minus-BEFORE.nii.gz /export2/DATA/HIS/HIS_server/analysis/dwi_data/stats/FA/sub-260_in-MNI_FA_AFTER-minus-BEFORE.nii.gz /export2/DATA/HIS/HIS_server/analysis/dwi_data/stats/FA/sub-261_in-MNI_FA_AFTER-minus-BEFORE.nii.gz /export2/DATA/HIS/HIS_server/analysis/dwi_data/stats/FA/sub-262_in-MNI_FA_AFTER-minus-BEFORE.nii.gz /export2/DATA/HIS/HIS_server/analysis/dwi_data/stats/FA/sub-263_in-MNI_FA_AFTER-minus-BEFORE.nii.gz /export2/DATA/HIS/HIS_server/analysis/dwi_data/stats/FA/sub-264_in-MNI_FA_AFTER-minus-BEFORE.nii.gz /export2/DATA/HIS/HIS_server/analysis/dwi_data/stats/FA/sub-265_in-MNI_FA_AFTER-minus-BEFORE.nii.gz /export2/DATA/HIS/HIS_server/analysis/dwi_data/stats/FA/sub-270_in-MNI_FA_AFTER-minus-BEFORE.nii.gz /export2/DATA/HIS/HIS_server/analysis/dwi_data/stats/FA/sub-271_in-MNI_FA_AFTER-minus-BEFORE.nii.gz /export2/DATA/HIS/HIS_server/analysis/dwi_data/stats/FA/sub-272_in-MNI_FA_AFTER-minus-BEFORE.nii.gz /export2/DATA/HIS/HIS_server/analysis/dwi_data/stats/FA/sub-281_in-MNI_FA_AFTER-minus-BEFORE.nii.gz /export2/DATA/HIS/HIS_server/analysis/dwi_data/stats/FA/sub-282_in-MNI_FA_AFTER-minus-BEFORE.nii.gz /export2/DATA/HIS/HIS_server/analysis/dwi_data/stats/FA/sub-283_in-MNI_FA_AFTER-minus-BEFORE.nii.gz /export2/DATA/HIS/HIS_server/analysis/dwi_data/stats/FA/sub-285_in-MNI_FA_AFTER-minus-BEFORE.nii.gz\n"
     ]
    }
   ],
   "source": [
    "for map_type in ['MD','FA']:          \n",
    "    print(f\"fslmerge -t {os.path.join(stats_path, map_type, f'SUBGROUPS_in_1_Day_AFTER_minus_BEFORE_{map_type}')} {' '.join([os.path.join(stats_path, map_type, f'{sub}_in-MNI_{map_type}_AFTER-minus-BEFORE.nii.gz') for sub in subjFoldersDTI_clustered_short])}\")\n",
    "    os.system(f\"fslmerge -t {os.path.join(stats_path, map_type, f'SUBGROUPS_in_1_Day_AFTER_minus_BEFORE_{map_type}')} {' '.join([os.path.join(stats_path, map_type, f'{sub}_in-MNI_{map_type}_AFTER-minus-BEFORE.nii.gz') for sub in subjFoldersDTI_clustered_short])}\")\n",
    "\n",
    "    print(f\"fslmerge -t {os.path.join(stats_path, map_type, f'SUBGROUPS_in_3_Day_AFTER_minus_BEFORE_{map_type}')} {' '.join([os.path.join(stats_path, map_type, f'{sub}_in-MNI_{map_type}_AFTER-minus-BEFORE.nii.gz') for sub in subjFoldersDTI_clustered_long])}\")\n",
    "    os.system(f\"fslmerge -t {os.path.join(stats_path, map_type, f'SUBGROUPS_in_3_Day_AFTER_minus_BEFORE_{map_type}')} {' '.join([os.path.join(stats_path, map_type, f'{sub}_in-MNI_{map_type}_AFTER-minus-BEFORE.nii.gz') for sub in subjFoldersDTI_clustered_long])}\")\n",
    "\n",
    "    print(f\"fslmerge -t {os.path.join(stats_path, map_type, f'SUBGROUPS_in_Goal_Directed_AFTER_minus_BEFORE_{map_type}')} {' '.join([os.path.join(stats_path, map_type, f'{sub}_in-MNI_{map_type}_AFTER-minus-BEFORE.nii.gz') for sub in subjFoldersDTI_clustered_goal_directed])}\")\n",
    "    os.system(f\"fslmerge -t {os.path.join(stats_path, map_type, f'SUBGROUPS_in_Goal_Directed_AFTER_minus_BEFORE_{map_type}')} {' '.join([os.path.join(stats_path, map_type, f'{sub}_in-MNI_{map_type}_AFTER-minus-BEFORE.nii.gz') for sub in subjFoldersDTI_clustered_goal_directed])}\")\n",
    "\n",
    "    print(f\"fslmerge -t {os.path.join(stats_path, map_type, f'SUBGROUPS_in_Habitual_AFTER_minus_BEFORE_{map_type}')} {' '.join([os.path.join(stats_path, map_type, f'{sub}_in-MNI_{map_type}_AFTER-minus-BEFORE.nii.gz') for sub in subjFoldersDTI_clustered_habitual])}\")\n",
    "    os.system(f\"fslmerge -t {os.path.join(stats_path, map_type, f'SUBGROUPS_in_Habitual_AFTER_minus_BEFORE_{map_type}')} {' '.join([os.path.join(stats_path, map_type, f'{sub}_in-MNI_{map_type}_AFTER-minus-BEFORE.nii.gz') for sub in subjFoldersDTI_clustered_habitual])}\")\n",
    "    "
   ]
  },
  {
   "cell_type": "markdown",
   "metadata": {},
   "source": [
    "### Settings"
   ]
  },
  {
   "cell_type": "code",
   "execution_count": 40,
   "metadata": {},
   "outputs": [],
   "source": [
    "# a function to run randomise for the individual differences analyses:\n",
    "def runRandomiseSubgroups(subgroups_in, map_type, region):\n",
    "    print(f'Running randomise for sub-groups analysis:\\n--- Subgroups in {subgroups_in} | {map_type} | {region} ---\\n')\n",
    "    #print(f'MAKE SURE TO REPLACE IN THE FUNCTION THE the print to os.system before running the command !!!\\n')\n",
    "    os.system(f\"randomise_parallel \\\n",
    "        -i {os.path.join(stats_path, map_type, f'SUBGROUPS_in_{subgroups_in}_AFTER_minus_BEFORE_{map_type}')} \\\n",
    "        -o {os.path.join(stats_path, map_type, f'SUBGROUPS_in_{subgroups_in}_AFTER_minus_BEFORE_{map_type}_{region}')} \\\n",
    "        {'' if region=='whole_brain' else f'-m {masks_paths[region]}'} \\\n",
    "        -d {os.path.join(stats_path, 'models', 'sub_groups', f'design_unpaired_ttest_subgroups_in_{subgroups_in}.mat')} \\\n",
    "        -t {os.path.join(stats_path, 'models', 'sub_groups', f'design_unpaired_ttest_subgroups_in_{subgroups_in}.con')}  \\\n",
    "        -n 6000 -C 3.1\")\n",
    "\n",
    "# Get cluster info:\n",
    "def getClusterInfoSubgroups(subgroups_in, map_type, region, ReversedSigThresh='0.90'):\n",
    "    print(f'Testing stats for sub-groups analysis:\\n--- Subgroups in {subgroups_in} | {map_type} | {region} ---\\n')\n",
    "    print(f'Goal-directed > Test Habitual \\n' if subgroups_in in ['1_Day','3_Day'] else f'1-Day > 3-Day\\n')\n",
    "    print(os.popen(f'cluster \\\n",
    "        -i {os.path.join(stats_path, map_type, f\"SUBGROUPS_in_{subgroups_in}_AFTER_minus_BEFORE_{map_type}_{region}_clusterm_corrp_tstat1.nii.gz\")} \\\n",
    "        -c {os.path.join(stats_path, map_type, f\"SUBGROUPS_in_{subgroups_in}_AFTER_minus_BEFORE_{map_type}_{region}_tstat1.nii.gz\")}\\\n",
    "        -t {ReversedSigThresh} \\\n",
    "        --scalarname=corrp' + '\"1-p\"').read())\n",
    "\n",
    "    print(f'Test Habitual > Goal-Directed \\n' if subgroups_in in ['1_Day','3_Day'] else f'3-Day > 1-Day\\n')\n",
    "    print(os.popen(f'cluster \\\n",
    "        -i {os.path.join(stats_path, map_type, f\"SUBGROUPS_in_{subgroups_in}_AFTER_minus_BEFORE_{map_type}_{region}_clusterm_corrp_tstat2.nii.gz\")} \\\n",
    "        -c {os.path.join(stats_path, map_type, f\"SUBGROUPS_in_{subgroups_in}_AFTER_minus_BEFORE_{map_type}_{region}_tstat2.nii.gz\")}\\\n",
    "        -t {ReversedSigThresh} \\\n",
    "        --scalarname=corrp' + '\"1-p\"').read())\n"
   ]
  },
  {
   "cell_type": "markdown",
   "metadata": {},
   "source": [
    "## IN SHORT TRAINING"
   ]
  },
  {
   "cell_type": "code",
   "execution_count": 41,
   "metadata": {},
   "outputs": [],
   "source": [
    "subgroups_in = '1_Day'"
   ]
  },
  {
   "cell_type": "markdown",
   "metadata": {},
   "source": [
    "### Whole brain - FA"
   ]
  },
  {
   "cell_type": "code",
   "execution_count": 42,
   "metadata": {},
   "outputs": [],
   "source": [
    "map_type='FA'\n",
    "region='whole_brain'"
   ]
  },
  {
   "cell_type": "code",
   "execution_count": 43,
   "metadata": {},
   "outputs": [
    {
     "name": "stdout",
     "output_type": "stream",
     "text": [
      "Running randomise for sub-groups analysis:\n",
      "--- Subgroups in 1_Day | FA | whole_brain ---\n",
      "\n"
     ]
    }
   ],
   "source": [
    "runRandomiseSubgroups(subgroups_in, map_type, region)"
   ]
  },
  {
   "cell_type": "code",
   "execution_count": null,
   "metadata": {},
   "outputs": [
    {
     "name": "stdout",
     "output_type": "stream",
     "text": [
      "Testing stats for sub-groups analysis:\n",
      "--- Subgroups in 1_Day | FA | whole_brain ---\n",
      "\n",
      "Test Habitual > Goal-directed\n",
      "\n",
      "Cluster Index\tVoxels\tcorrp1-p-MAX\tcorrp1-p-MAX X (vox)\tcorrp1-p-MAX Y (vox)\tcorrp1-p-MAX Z (vox)\tcorrp1-p-COG X (vox)\tcorrp1-p-COG Y (vox)\tcorrp1-p-COG Z (vox)\tCOPE-MAX\tCOPE-MAX X (vox)\tCOPE-MAX Y (vox)\tCOPE-MAX Z (vox)\tCOPE-MEAN\n",
      "\n",
      "Test Goal-Directed > Habitual\n",
      "\n",
      "Cluster Index\tVoxels\tcorrp1-p-MAX\tcorrp1-p-MAX X (vox)\tcorrp1-p-MAX Y (vox)\tcorrp1-p-MAX Z (vox)\tcorrp1-p-COG X (vox)\tcorrp1-p-COG Y (vox)\tcorrp1-p-COG Z (vox)\tCOPE-MAX\tCOPE-MAX X (vox)\tCOPE-MAX Y (vox)\tCOPE-MAX Z (vox)\tCOPE-MEAN\n",
      "\n"
     ]
    }
   ],
   "source": [
    "# Get cluster info:\n",
    "getClusterInfoSubgroups(subgroups_in, map_type, region, ReversedSigThresh='0.90')"
   ]
  },
  {
   "cell_type": "markdown",
   "metadata": {},
   "source": [
    ">>>>> RESULTS: NOTHING"
   ]
  },
  {
   "cell_type": "markdown",
   "metadata": {},
   "source": [
    "### Putamen - FA"
   ]
  },
  {
   "cell_type": "code",
   "execution_count": null,
   "metadata": {},
   "outputs": [],
   "source": [
    "region='Putamen'"
   ]
  },
  {
   "cell_type": "code",
   "execution_count": null,
   "metadata": {},
   "outputs": [
    {
     "name": "stdout",
     "output_type": "stream",
     "text": [
      "Running randomise for sub-groups analysis:\n",
      "--- Subgroups in 1_Day | FA | Putamen ---\n",
      "\n"
     ]
    }
   ],
   "source": [
    "runRandomiseSubgroups(subgroups_in, map_type, region)"
   ]
  },
  {
   "cell_type": "code",
   "execution_count": null,
   "metadata": {},
   "outputs": [
    {
     "name": "stdout",
     "output_type": "stream",
     "text": [
      "Testing stats for sub-groups analysis:\n",
      "--- Subgroups in 1_Day | FA | Putamen ---\n",
      "\n",
      "Test Habitual > Goal-directed\n",
      "\n",
      "Cluster Index\tVoxels\tcorrp1-p-MAX\tcorrp1-p-MAX X (vox)\tcorrp1-p-MAX Y (vox)\tcorrp1-p-MAX Z (vox)\tcorrp1-p-COG X (vox)\tcorrp1-p-COG Y (vox)\tcorrp1-p-COG Z (vox)\tCOPE-MAX\tCOPE-MAX X (vox)\tCOPE-MAX Y (vox)\tCOPE-MAX Z (vox)\tCOPE-MEAN\n",
      "\n",
      "Test Goal-Directed > Habitual\n",
      "\n",
      "Cluster Index\tVoxels\tcorrp1-p-MAX\tcorrp1-p-MAX X (vox)\tcorrp1-p-MAX Y (vox)\tcorrp1-p-MAX Z (vox)\tcorrp1-p-COG X (vox)\tcorrp1-p-COG Y (vox)\tcorrp1-p-COG Z (vox)\tCOPE-MAX\tCOPE-MAX X (vox)\tCOPE-MAX Y (vox)\tCOPE-MAX Z (vox)\tCOPE-MEAN\n",
      "\n"
     ]
    }
   ],
   "source": [
    "# Get cluster info:\n",
    "getClusterInfoSubgroups(subgroups_in, map_type, region, ReversedSigThresh='0.90')"
   ]
  },
  {
   "cell_type": "markdown",
   "metadata": {},
   "source": [
    ">>>>> RESULTS: NOTHING"
   ]
  },
  {
   "cell_type": "markdown",
   "metadata": {},
   "source": [
    "### Caudate - FA"
   ]
  },
  {
   "cell_type": "code",
   "execution_count": null,
   "metadata": {},
   "outputs": [],
   "source": [
    "region='Caudate'"
   ]
  },
  {
   "cell_type": "code",
   "execution_count": null,
   "metadata": {},
   "outputs": [
    {
     "name": "stdout",
     "output_type": "stream",
     "text": [
      "Running randomise for sub-groups analysis:\n",
      "--- Subgroups in 1_Day | FA | Caudate ---\n",
      "\n"
     ]
    }
   ],
   "source": [
    "runRandomiseSubgroups(subgroups_in, map_type, region)"
   ]
  },
  {
   "cell_type": "code",
   "execution_count": null,
   "metadata": {},
   "outputs": [
    {
     "name": "stdout",
     "output_type": "stream",
     "text": [
      "Testing stats for sub-groups analysis:\n",
      "--- Subgroups in 1_Day | FA | Caudate ---\n",
      "\n",
      "Test Habitual > Goal-directed\n",
      "\n",
      "Cluster Index\tVoxels\tcorrp1-p-MAX\tcorrp1-p-MAX X (vox)\tcorrp1-p-MAX Y (vox)\tcorrp1-p-MAX Z (vox)\tcorrp1-p-COG X (vox)\tcorrp1-p-COG Y (vox)\tcorrp1-p-COG Z (vox)\tCOPE-MAX\tCOPE-MAX X (vox)\tCOPE-MAX Y (vox)\tCOPE-MAX Z (vox)\tCOPE-MEAN\n",
      "1\t3\t0.956\t54\t64\t47\t54\t65\t47\t3.62\t54\t64\t47\t3.52\n",
      "\n",
      "Test Goal-Directed > Habitual\n",
      "\n",
      "Cluster Index\tVoxels\tcorrp1-p-MAX\tcorrp1-p-MAX X (vox)\tcorrp1-p-MAX Y (vox)\tcorrp1-p-MAX Z (vox)\tcorrp1-p-COG X (vox)\tcorrp1-p-COG Y (vox)\tcorrp1-p-COG Z (vox)\tCOPE-MAX\tCOPE-MAX X (vox)\tCOPE-MAX Y (vox)\tCOPE-MAX Z (vox)\tCOPE-MEAN\n",
      "\n"
     ]
    }
   ],
   "source": [
    "# Get cluster info:\n",
    "getClusterInfoSubgroups(subgroups_in, map_type, region, ReversedSigThresh='0.90')"
   ]
  },
  {
   "cell_type": "markdown",
   "metadata": {},
   "source": [
    ">>>>> RESULTS:\n",
    "MMM... need to look into it"
   ]
  },
  {
   "cell_type": "markdown",
   "metadata": {},
   "source": [
    "### vmPFC - FA"
   ]
  },
  {
   "cell_type": "code",
   "execution_count": null,
   "metadata": {},
   "outputs": [],
   "source": [
    "region='vmPFC'"
   ]
  },
  {
   "cell_type": "code",
   "execution_count": null,
   "metadata": {},
   "outputs": [
    {
     "name": "stdout",
     "output_type": "stream",
     "text": [
      "Running randomise for sub-groups analysis:\n",
      "--- Subgroups in 1_Day | FA | vmPFC ---\n",
      "\n"
     ]
    }
   ],
   "source": [
    "runRandomiseSubgroups(subgroups_in, map_type, region)"
   ]
  },
  {
   "cell_type": "code",
   "execution_count": null,
   "metadata": {},
   "outputs": [
    {
     "name": "stdout",
     "output_type": "stream",
     "text": [
      "Testing stats for sub-groups analysis:\n",
      "--- Subgroups in 1_Day | FA | vmPFC ---\n",
      "\n",
      "Test Habitual > Goal-directed\n",
      "\n",
      "Cluster Index\tVoxels\tcorrp1-p-MAX\tcorrp1-p-MAX X (vox)\tcorrp1-p-MAX Y (vox)\tcorrp1-p-MAX Z (vox)\tcorrp1-p-COG X (vox)\tcorrp1-p-COG Y (vox)\tcorrp1-p-COG Z (vox)\tCOPE-MAX\tCOPE-MAX X (vox)\tCOPE-MAX Y (vox)\tCOPE-MAX Z (vox)\tCOPE-MEAN\n",
      "\n",
      "Test Goal-Directed > Habitual\n",
      "\n",
      "Cluster Index\tVoxels\tcorrp1-p-MAX\tcorrp1-p-MAX X (vox)\tcorrp1-p-MAX Y (vox)\tcorrp1-p-MAX Z (vox)\tcorrp1-p-COG X (vox)\tcorrp1-p-COG Y (vox)\tcorrp1-p-COG Z (vox)\tCOPE-MAX\tCOPE-MAX X (vox)\tCOPE-MAX Y (vox)\tCOPE-MAX Z (vox)\tCOPE-MEAN\n",
      "\n"
     ]
    }
   ],
   "source": [
    "# Get cluster info:\n",
    "getClusterInfoSubgroups(subgroups_in, map_type, region, ReversedSigThresh='0.90')"
   ]
  },
  {
   "cell_type": "markdown",
   "metadata": {},
   "source": [
    ">>>>> RESULTS: NOTHING"
   ]
  },
  {
   "cell_type": "markdown",
   "metadata": {},
   "source": [
    "### Whole brain - MD"
   ]
  },
  {
   "cell_type": "code",
   "execution_count": null,
   "metadata": {},
   "outputs": [],
   "source": [
    "map_type='MD'\n",
    "region='whole_brain'"
   ]
  },
  {
   "cell_type": "code",
   "execution_count": null,
   "metadata": {},
   "outputs": [
    {
     "name": "stdout",
     "output_type": "stream",
     "text": [
      "Running randomise for sub-groups analysis:\n",
      "--- Subgroups in 1_Day | MD | whole_brain ---\n",
      "\n"
     ]
    }
   ],
   "source": [
    "runRandomiseSubgroups(subgroups_in, map_type, region)"
   ]
  },
  {
   "cell_type": "code",
   "execution_count": null,
   "metadata": {},
   "outputs": [
    {
     "name": "stdout",
     "output_type": "stream",
     "text": [
      "Testing stats for sub-groups analysis:\n",
      "--- Subgroups in 1_Day | MD | whole_brain ---\n",
      "\n",
      "Test Habitual > Goal-directed\n",
      "\n",
      "Cluster Index\tVoxels\tcorrp1-p-MAX\tcorrp1-p-MAX X (vox)\tcorrp1-p-MAX Y (vox)\tcorrp1-p-MAX Z (vox)\tcorrp1-p-COG X (vox)\tcorrp1-p-COG Y (vox)\tcorrp1-p-COG Z (vox)\tCOPE-MAX\tCOPE-MAX X (vox)\tCOPE-MAX Y (vox)\tCOPE-MAX Z (vox)\tCOPE-MEAN\n",
      "\n",
      "Test Goal-Directed > Habitual\n",
      "\n",
      "Cluster Index\tVoxels\tcorrp1-p-MAX\tcorrp1-p-MAX X (vox)\tcorrp1-p-MAX Y (vox)\tcorrp1-p-MAX Z (vox)\tcorrp1-p-COG X (vox)\tcorrp1-p-COG Y (vox)\tcorrp1-p-COG Z (vox)\tCOPE-MAX\tCOPE-MAX X (vox)\tCOPE-MAX Y (vox)\tCOPE-MAX Z (vox)\tCOPE-MEAN\n",
      "\n"
     ]
    }
   ],
   "source": [
    "# Get cluster info:\n",
    "getClusterInfoSubgroups(subgroups_in, map_type, region, ReversedSigThresh='0.90')"
   ]
  },
  {
   "cell_type": "markdown",
   "metadata": {},
   "source": [
    ">>>>> RESULTS: NOTHING"
   ]
  },
  {
   "cell_type": "markdown",
   "metadata": {},
   "source": [
    "### Putamen - MD"
   ]
  },
  {
   "cell_type": "code",
   "execution_count": null,
   "metadata": {},
   "outputs": [],
   "source": [
    "region='Putamen'"
   ]
  },
  {
   "cell_type": "code",
   "execution_count": null,
   "metadata": {},
   "outputs": [
    {
     "name": "stdout",
     "output_type": "stream",
     "text": [
      "Running randomise for sub-groups analysis:\n",
      "--- Subgroups in 1_Day | MD | Putamen ---\n",
      "\n"
     ]
    }
   ],
   "source": [
    "runRandomiseSubgroups(subgroups_in, map_type, region)"
   ]
  },
  {
   "cell_type": "code",
   "execution_count": null,
   "metadata": {},
   "outputs": [
    {
     "name": "stdout",
     "output_type": "stream",
     "text": [
      "Testing stats for sub-groups analysis:\n",
      "--- Subgroups in 1_Day | MD | Putamen ---\n",
      "\n",
      "Test Habitual > Goal-directed\n",
      "\n",
      "Cluster Index\tVoxels\tcorrp1-p-MAX\tcorrp1-p-MAX X (vox)\tcorrp1-p-MAX Y (vox)\tcorrp1-p-MAX Z (vox)\tcorrp1-p-COG X (vox)\tcorrp1-p-COG Y (vox)\tcorrp1-p-COG Z (vox)\tCOPE-MAX\tCOPE-MAX X (vox)\tCOPE-MAX Y (vox)\tCOPE-MAX Z (vox)\tCOPE-MEAN\n",
      "\n",
      "Test Goal-Directed > Habitual\n",
      "\n",
      "Cluster Index\tVoxels\tcorrp1-p-MAX\tcorrp1-p-MAX X (vox)\tcorrp1-p-MAX Y (vox)\tcorrp1-p-MAX Z (vox)\tcorrp1-p-COG X (vox)\tcorrp1-p-COG Y (vox)\tcorrp1-p-COG Z (vox)\tCOPE-MAX\tCOPE-MAX X (vox)\tCOPE-MAX Y (vox)\tCOPE-MAX Z (vox)\tCOPE-MEAN\n",
      "\n"
     ]
    }
   ],
   "source": [
    "# Get cluster info:\n",
    "getClusterInfoSubgroups(subgroups_in, map_type, region, ReversedSigThresh='0.90')"
   ]
  },
  {
   "cell_type": "markdown",
   "metadata": {},
   "source": [
    ">>>>> RESULTS: NOTHING"
   ]
  },
  {
   "cell_type": "markdown",
   "metadata": {},
   "source": [
    "### Caudate - MD"
   ]
  },
  {
   "cell_type": "code",
   "execution_count": null,
   "metadata": {},
   "outputs": [],
   "source": [
    "region='Caudate'"
   ]
  },
  {
   "cell_type": "code",
   "execution_count": null,
   "metadata": {},
   "outputs": [
    {
     "name": "stdout",
     "output_type": "stream",
     "text": [
      "Running randomise for sub-groups analysis:\n",
      "--- Subgroups in 1_Day | MD | Caudate ---\n",
      "\n"
     ]
    }
   ],
   "source": [
    "runRandomiseSubgroups(subgroups_in, map_type, region)"
   ]
  },
  {
   "cell_type": "code",
   "execution_count": null,
   "metadata": {},
   "outputs": [
    {
     "name": "stdout",
     "output_type": "stream",
     "text": [
      "Testing stats for sub-groups analysis:\n",
      "--- Subgroups in 1_Day | MD | Caudate ---\n",
      "\n",
      "Test Habitual > Goal-directed\n",
      "\n",
      "Cluster Index\tVoxels\tcorrp1-p-MAX\tcorrp1-p-MAX X (vox)\tcorrp1-p-MAX Y (vox)\tcorrp1-p-MAX Z (vox)\tcorrp1-p-COG X (vox)\tcorrp1-p-COG Y (vox)\tcorrp1-p-COG Z (vox)\tCOPE-MAX\tCOPE-MAX X (vox)\tCOPE-MAX Y (vox)\tCOPE-MAX Z (vox)\tCOPE-MEAN\n",
      "\n",
      "Test Goal-Directed > Habitual\n",
      "\n",
      "Cluster Index\tVoxels\tcorrp1-p-MAX\tcorrp1-p-MAX X (vox)\tcorrp1-p-MAX Y (vox)\tcorrp1-p-MAX Z (vox)\tcorrp1-p-COG X (vox)\tcorrp1-p-COG Y (vox)\tcorrp1-p-COG Z (vox)\tCOPE-MAX\tCOPE-MAX X (vox)\tCOPE-MAX Y (vox)\tCOPE-MAX Z (vox)\tCOPE-MEAN\n",
      "\n"
     ]
    }
   ],
   "source": [
    "# Get cluster info:\n",
    "getClusterInfoSubgroups(subgroups_in, map_type, region, ReversedSigThresh='0.90')"
   ]
  },
  {
   "cell_type": "markdown",
   "metadata": {},
   "source": [
    ">>>>> RESULTS: NOTHING"
   ]
  },
  {
   "cell_type": "markdown",
   "metadata": {},
   "source": [
    "### vmPFC - MD"
   ]
  },
  {
   "cell_type": "code",
   "execution_count": null,
   "metadata": {},
   "outputs": [],
   "source": [
    "region='vmPFC'"
   ]
  },
  {
   "cell_type": "code",
   "execution_count": null,
   "metadata": {},
   "outputs": [
    {
     "name": "stdout",
     "output_type": "stream",
     "text": [
      "Running randomise for sub-groups analysis:\n",
      "--- Subgroups in 1_Day | MD | vmPFC ---\n",
      "\n"
     ]
    }
   ],
   "source": [
    "runRandomiseSubgroups(subgroups_in, map_type, region)"
   ]
  },
  {
   "cell_type": "code",
   "execution_count": null,
   "metadata": {},
   "outputs": [
    {
     "name": "stdout",
     "output_type": "stream",
     "text": [
      "Testing stats for sub-groups analysis:\n",
      "--- Subgroups in 1_Day | MD | vmPFC ---\n",
      "\n",
      "Test Habitual > Goal-directed\n",
      "\n",
      "Cluster Index\tVoxels\tcorrp1-p-MAX\tcorrp1-p-MAX X (vox)\tcorrp1-p-MAX Y (vox)\tcorrp1-p-MAX Z (vox)\tcorrp1-p-COG X (vox)\tcorrp1-p-COG Y (vox)\tcorrp1-p-COG Z (vox)\tCOPE-MAX\tCOPE-MAX X (vox)\tCOPE-MAX Y (vox)\tCOPE-MAX Z (vox)\tCOPE-MEAN\n",
      "\n",
      "Test Goal-Directed > Habitual\n",
      "\n",
      "Cluster Index\tVoxels\tcorrp1-p-MAX\tcorrp1-p-MAX X (vox)\tcorrp1-p-MAX Y (vox)\tcorrp1-p-MAX Z (vox)\tcorrp1-p-COG X (vox)\tcorrp1-p-COG Y (vox)\tcorrp1-p-COG Z (vox)\tCOPE-MAX\tCOPE-MAX X (vox)\tCOPE-MAX Y (vox)\tCOPE-MAX Z (vox)\tCOPE-MEAN\n",
      "\n"
     ]
    }
   ],
   "source": [
    "# Get cluster info:\n",
    "getClusterInfoSubgroups(subgroups_in, map_type, region, ReversedSigThresh='0.90')"
   ]
  },
  {
   "cell_type": "markdown",
   "metadata": {},
   "source": [
    ">>>>> RESULTS: NOTHING"
   ]
  },
  {
   "cell_type": "markdown",
   "metadata": {},
   "source": [
    "## IN LONG TRAINING"
   ]
  },
  {
   "cell_type": "code",
   "execution_count": null,
   "metadata": {},
   "outputs": [],
   "source": [
    "subgroups_in = '3_Day'"
   ]
  },
  {
   "cell_type": "markdown",
   "metadata": {},
   "source": [
    "### Whole brain - FA"
   ]
  },
  {
   "cell_type": "code",
   "execution_count": null,
   "metadata": {},
   "outputs": [],
   "source": [
    "map_type='FA'\n",
    "region='whole_brain'"
   ]
  },
  {
   "cell_type": "code",
   "execution_count": null,
   "metadata": {},
   "outputs": [
    {
     "name": "stdout",
     "output_type": "stream",
     "text": [
      "Running randomise for sub-groups analysis:\n",
      "--- Subgroups in 3_Day | FA | whole_brain ---\n",
      "\n"
     ]
    }
   ],
   "source": [
    "runRandomiseSubgroups(subgroups_in, map_type, region)"
   ]
  },
  {
   "cell_type": "code",
   "execution_count": null,
   "metadata": {},
   "outputs": [
    {
     "name": "stdout",
     "output_type": "stream",
     "text": [
      "Testing stats for sub-groups analysis:\n",
      "--- Subgroups in 3_Day | FA | whole_brain ---\n",
      "\n",
      "Test Habitual > Goal-directed\n",
      "\n",
      "Cluster Index\tVoxels\tcorrp1-p-MAX\tcorrp1-p-MAX X (vox)\tcorrp1-p-MAX Y (vox)\tcorrp1-p-MAX Z (vox)\tcorrp1-p-COG X (vox)\tcorrp1-p-COG Y (vox)\tcorrp1-p-COG Z (vox)\tCOPE-MAX\tCOPE-MAX X (vox)\tCOPE-MAX Y (vox)\tCOPE-MAX Z (vox)\tCOPE-MEAN\n",
      "1\t11\t0.949\t48\t57\t7\t49.4\t58\t8.64\t3.71\t49\t58\t9\t3.41\n",
      "\n",
      "Test Goal-Directed > Habitual\n",
      "\n",
      "Cluster Index\tVoxels\tcorrp1-p-MAX\tcorrp1-p-MAX X (vox)\tcorrp1-p-MAX Y (vox)\tcorrp1-p-MAX Z (vox)\tcorrp1-p-COG X (vox)\tcorrp1-p-COG Y (vox)\tcorrp1-p-COG Z (vox)\tCOPE-MAX\tCOPE-MAX X (vox)\tCOPE-MAX Y (vox)\tCOPE-MAX Z (vox)\tCOPE-MEAN\n",
      "1\t9\t0.95\t46\t51\t12\t46.9\t50.4\t13.7\t4.37\t47\t50\t15\t3.64\n",
      "\n"
     ]
    }
   ],
   "source": [
    "# Get cluster info:\n",
    "getClusterInfoSubgroups(subgroups_in, map_type, region, ReversedSigThresh='0.90')"
   ]
  },
  {
   "cell_type": "markdown",
   "metadata": {},
   "source": [
    ">>>>> RESULT:"
   ]
  },
  {
   "cell_type": "markdown",
   "metadata": {},
   "source": [
    "### Putamen - FA"
   ]
  },
  {
   "cell_type": "code",
   "execution_count": null,
   "metadata": {},
   "outputs": [],
   "source": [
    "region='Putamen'"
   ]
  },
  {
   "cell_type": "code",
   "execution_count": null,
   "metadata": {},
   "outputs": [
    {
     "name": "stdout",
     "output_type": "stream",
     "text": [
      "Running randomise for sub-groups analysis:\n",
      "--- Subgroups in 3_Day | FA | Putamen ---\n",
      "\n"
     ]
    }
   ],
   "source": [
    "runRandomiseSubgroups(subgroups_in, map_type, region)"
   ]
  },
  {
   "cell_type": "code",
   "execution_count": null,
   "metadata": {},
   "outputs": [
    {
     "name": "stdout",
     "output_type": "stream",
     "text": [
      "Testing stats for sub-groups analysis:\n",
      "--- Subgroups in 3_Day | FA | Putamen ---\n",
      "\n",
      "Test Habitual > Goal-directed\n",
      "\n",
      "Cluster Index\tVoxels\tcorrp1-p-MAX\tcorrp1-p-MAX X (vox)\tcorrp1-p-MAX Y (vox)\tcorrp1-p-MAX Z (vox)\tcorrp1-p-COG X (vox)\tcorrp1-p-COG Y (vox)\tcorrp1-p-COG Z (vox)\tCOPE-MAX\tCOPE-MAX X (vox)\tCOPE-MAX Y (vox)\tCOPE-MAX Z (vox)\tCOPE-MEAN\n",
      "\n",
      "Test Goal-Directed > Habitual\n",
      "\n",
      "Cluster Index\tVoxels\tcorrp1-p-MAX\tcorrp1-p-MAX X (vox)\tcorrp1-p-MAX Y (vox)\tcorrp1-p-MAX Z (vox)\tcorrp1-p-COG X (vox)\tcorrp1-p-COG Y (vox)\tcorrp1-p-COG Z (vox)\tCOPE-MAX\tCOPE-MAX X (vox)\tCOPE-MAX Y (vox)\tCOPE-MAX Z (vox)\tCOPE-MEAN\n",
      "\n"
     ]
    }
   ],
   "source": [
    "# Get cluster info:\n",
    "getClusterInfoSubgroups(subgroups_in, map_type, region, ReversedSigThresh='0.90')"
   ]
  },
  {
   "cell_type": "markdown",
   "metadata": {},
   "source": [
    ">>>>> RESULT"
   ]
  },
  {
   "cell_type": "markdown",
   "metadata": {},
   "source": [
    "### Caudate - FA"
   ]
  },
  {
   "cell_type": "code",
   "execution_count": null,
   "metadata": {},
   "outputs": [],
   "source": [
    "region='Caudate'"
   ]
  },
  {
   "cell_type": "code",
   "execution_count": null,
   "metadata": {},
   "outputs": [
    {
     "name": "stdout",
     "output_type": "stream",
     "text": [
      "Running randomise for sub-groups analysis:\n",
      "--- Subgroups in 3_Day | FA | Caudate ---\n",
      "\n"
     ]
    }
   ],
   "source": [
    "runRandomiseSubgroups(subgroups_in, map_type, region)"
   ]
  },
  {
   "cell_type": "code",
   "execution_count": null,
   "metadata": {},
   "outputs": [
    {
     "name": "stdout",
     "output_type": "stream",
     "text": [
      "Testing stats for sub-groups analysis:\n",
      "--- Subgroups in 3_Day | FA | Caudate ---\n",
      "\n",
      "Test Habitual > Goal-directed\n",
      "\n",
      "Cluster Index\tVoxels\tcorrp1-p-MAX\tcorrp1-p-MAX X (vox)\tcorrp1-p-MAX Y (vox)\tcorrp1-p-MAX Z (vox)\tcorrp1-p-COG X (vox)\tcorrp1-p-COG Y (vox)\tcorrp1-p-COG Z (vox)\tCOPE-MAX\tCOPE-MAX X (vox)\tCOPE-MAX Y (vox)\tCOPE-MAX Z (vox)\tCOPE-MEAN\n",
      "\n",
      "Test Goal-Directed > Habitual\n",
      "\n",
      "Cluster Index\tVoxels\tcorrp1-p-MAX\tcorrp1-p-MAX X (vox)\tcorrp1-p-MAX Y (vox)\tcorrp1-p-MAX Z (vox)\tcorrp1-p-COG X (vox)\tcorrp1-p-COG Y (vox)\tcorrp1-p-COG Z (vox)\tCOPE-MAX\tCOPE-MAX X (vox)\tCOPE-MAX Y (vox)\tCOPE-MAX Z (vox)\tCOPE-MEAN\n",
      "\n"
     ]
    }
   ],
   "source": [
    "# Get cluster info:\n",
    "getClusterInfoSubgroups(subgroups_in, map_type, region, ReversedSigThresh='0.90')"
   ]
  },
  {
   "cell_type": "markdown",
   "metadata": {},
   "source": [
    ">>>>> RESULTS:"
   ]
  },
  {
   "cell_type": "markdown",
   "metadata": {},
   "source": [
    "### vmPFC - FA"
   ]
  },
  {
   "cell_type": "code",
   "execution_count": null,
   "metadata": {},
   "outputs": [],
   "source": [
    "region='vmPFC'"
   ]
  },
  {
   "cell_type": "code",
   "execution_count": null,
   "metadata": {},
   "outputs": [
    {
     "name": "stdout",
     "output_type": "stream",
     "text": [
      "Running randomise for sub-groups analysis:\n",
      "--- Subgroups in 3_Day | FA | vmPFC ---\n",
      "\n"
     ]
    }
   ],
   "source": [
    "runRandomiseSubgroups(subgroups_in, map_type, region)"
   ]
  },
  {
   "cell_type": "code",
   "execution_count": null,
   "metadata": {},
   "outputs": [
    {
     "name": "stdout",
     "output_type": "stream",
     "text": [
      "Testing stats for sub-groups analysis:\n",
      "--- Subgroups in 3_Day | FA | vmPFC ---\n",
      "\n",
      "Test Habitual > Goal-directed\n",
      "\n",
      "Cluster Index\tVoxels\tcorrp1-p-MAX\tcorrp1-p-MAX X (vox)\tcorrp1-p-MAX Y (vox)\tcorrp1-p-MAX Z (vox)\tcorrp1-p-COG X (vox)\tcorrp1-p-COG Y (vox)\tcorrp1-p-COG Z (vox)\tCOPE-MAX\tCOPE-MAX X (vox)\tCOPE-MAX Y (vox)\tCOPE-MAX Z (vox)\tCOPE-MEAN\n",
      "\n",
      "Test Goal-Directed > Habitual\n",
      "\n",
      "Cluster Index\tVoxels\tcorrp1-p-MAX\tcorrp1-p-MAX X (vox)\tcorrp1-p-MAX Y (vox)\tcorrp1-p-MAX Z (vox)\tcorrp1-p-COG X (vox)\tcorrp1-p-COG Y (vox)\tcorrp1-p-COG Z (vox)\tCOPE-MAX\tCOPE-MAX X (vox)\tCOPE-MAX Y (vox)\tCOPE-MAX Z (vox)\tCOPE-MEAN\n",
      "\n"
     ]
    }
   ],
   "source": [
    "# Get cluster info:\n",
    "getClusterInfoSubgroups(subgroups_in, map_type, region, ReversedSigThresh='0.90')"
   ]
  },
  {
   "cell_type": "markdown",
   "metadata": {},
   "source": [
    ">>>>> RESULTS:"
   ]
  },
  {
   "cell_type": "markdown",
   "metadata": {},
   "source": [
    "### Whole brain - MD"
   ]
  },
  {
   "cell_type": "code",
   "execution_count": null,
   "metadata": {},
   "outputs": [],
   "source": [
    "map_type='MD'\n",
    "region='whole_brain'"
   ]
  },
  {
   "cell_type": "code",
   "execution_count": null,
   "metadata": {},
   "outputs": [
    {
     "name": "stdout",
     "output_type": "stream",
     "text": [
      "Running randomise for sub-groups analysis:\n",
      "--- Subgroups in 3_Day | MD | whole_brain ---\n",
      "\n"
     ]
    }
   ],
   "source": [
    "runRandomiseSubgroups(subgroups_in, map_type, region)"
   ]
  },
  {
   "cell_type": "code",
   "execution_count": null,
   "metadata": {},
   "outputs": [
    {
     "name": "stdout",
     "output_type": "stream",
     "text": [
      "Testing stats for sub-groups analysis:\n",
      "--- Subgroups in 3_Day | MD | whole_brain ---\n",
      "\n",
      "Test Habitual > Goal-directed\n",
      "\n",
      "Cluster Index\tVoxels\tcorrp1-p-MAX\tcorrp1-p-MAX X (vox)\tcorrp1-p-MAX Y (vox)\tcorrp1-p-MAX Z (vox)\tcorrp1-p-COG X (vox)\tcorrp1-p-COG Y (vox)\tcorrp1-p-COG Z (vox)\tCOPE-MAX\tCOPE-MAX X (vox)\tCOPE-MAX Y (vox)\tCOPE-MAX Z (vox)\tCOPE-MEAN\n",
      "\n",
      "Test Goal-Directed > Habitual\n",
      "\n",
      "Cluster Index\tVoxels\tcorrp1-p-MAX\tcorrp1-p-MAX X (vox)\tcorrp1-p-MAX Y (vox)\tcorrp1-p-MAX Z (vox)\tcorrp1-p-COG X (vox)\tcorrp1-p-COG Y (vox)\tcorrp1-p-COG Z (vox)\tCOPE-MAX\tCOPE-MAX X (vox)\tCOPE-MAX Y (vox)\tCOPE-MAX Z (vox)\tCOPE-MEAN\n",
      "\n"
     ]
    }
   ],
   "source": [
    "# Get cluster info:\n",
    "getClusterInfoSubgroups(subgroups_in, map_type, region, ReversedSigThresh='0.90')"
   ]
  },
  {
   "cell_type": "markdown",
   "metadata": {},
   "source": [
    ">>>>> RESULT:"
   ]
  },
  {
   "cell_type": "markdown",
   "metadata": {},
   "source": [
    "### Putamen - MD"
   ]
  },
  {
   "cell_type": "code",
   "execution_count": null,
   "metadata": {},
   "outputs": [],
   "source": [
    "region='Putamen'"
   ]
  },
  {
   "cell_type": "code",
   "execution_count": null,
   "metadata": {},
   "outputs": [
    {
     "name": "stdout",
     "output_type": "stream",
     "text": [
      "Running randomise for sub-groups analysis:\n",
      "--- Subgroups in 3_Day | MD | Putamen ---\n",
      "\n"
     ]
    }
   ],
   "source": [
    "runRandomiseSubgroups(subgroups_in, map_type, region)"
   ]
  },
  {
   "cell_type": "code",
   "execution_count": null,
   "metadata": {},
   "outputs": [
    {
     "name": "stdout",
     "output_type": "stream",
     "text": [
      "Testing stats for sub-groups analysis:\n",
      "--- Subgroups in 3_Day | MD | Putamen ---\n",
      "\n",
      "Test Habitual > Goal-directed\n",
      "\n",
      "Cluster Index\tVoxels\tcorrp1-p-MAX\tcorrp1-p-MAX X (vox)\tcorrp1-p-MAX Y (vox)\tcorrp1-p-MAX Z (vox)\tcorrp1-p-COG X (vox)\tcorrp1-p-COG Y (vox)\tcorrp1-p-COG Z (vox)\tCOPE-MAX\tCOPE-MAX X (vox)\tCOPE-MAX Y (vox)\tCOPE-MAX Z (vox)\tCOPE-MEAN\n",
      "\n",
      "Test Goal-Directed > Habitual\n",
      "\n",
      "Cluster Index\tVoxels\tcorrp1-p-MAX\tcorrp1-p-MAX X (vox)\tcorrp1-p-MAX Y (vox)\tcorrp1-p-MAX Z (vox)\tcorrp1-p-COG X (vox)\tcorrp1-p-COG Y (vox)\tcorrp1-p-COG Z (vox)\tCOPE-MAX\tCOPE-MAX X (vox)\tCOPE-MAX Y (vox)\tCOPE-MAX Z (vox)\tCOPE-MEAN\n",
      "\n"
     ]
    }
   ],
   "source": [
    "# Get cluster info:\n",
    "getClusterInfoSubgroups(subgroups_in, map_type, region, ReversedSigThresh='0.90')"
   ]
  },
  {
   "cell_type": "markdown",
   "metadata": {},
   "source": [
    ">>>>> RESULT"
   ]
  },
  {
   "cell_type": "markdown",
   "metadata": {},
   "source": [
    "### Caudate - MD"
   ]
  },
  {
   "cell_type": "code",
   "execution_count": null,
   "metadata": {},
   "outputs": [],
   "source": [
    "region='Caudate'"
   ]
  },
  {
   "cell_type": "code",
   "execution_count": null,
   "metadata": {},
   "outputs": [
    {
     "name": "stdout",
     "output_type": "stream",
     "text": [
      "Running randomise for sub-groups analysis:\n",
      "--- Subgroups in 3_Day | MD | Caudate ---\n",
      "\n"
     ]
    }
   ],
   "source": [
    "runRandomiseSubgroups(subgroups_in, map_type, region)"
   ]
  },
  {
   "cell_type": "code",
   "execution_count": null,
   "metadata": {},
   "outputs": [
    {
     "name": "stdout",
     "output_type": "stream",
     "text": [
      "Testing stats for sub-groups analysis:\n",
      "--- Subgroups in 3_Day | MD | Caudate ---\n",
      "\n",
      "Test Habitual > Goal-directed\n",
      "\n",
      "Cluster Index\tVoxels\tcorrp1-p-MAX\tcorrp1-p-MAX X (vox)\tcorrp1-p-MAX Y (vox)\tcorrp1-p-MAX Z (vox)\tcorrp1-p-COG X (vox)\tcorrp1-p-COG Y (vox)\tcorrp1-p-COG Z (vox)\tCOPE-MAX\tCOPE-MAX X (vox)\tCOPE-MAX Y (vox)\tCOPE-MAX Z (vox)\tCOPE-MEAN\n",
      "\n",
      "Test Goal-Directed > Habitual\n",
      "\n",
      "Cluster Index\tVoxels\tcorrp1-p-MAX\tcorrp1-p-MAX X (vox)\tcorrp1-p-MAX Y (vox)\tcorrp1-p-MAX Z (vox)\tcorrp1-p-COG X (vox)\tcorrp1-p-COG Y (vox)\tcorrp1-p-COG Z (vox)\tCOPE-MAX\tCOPE-MAX X (vox)\tCOPE-MAX Y (vox)\tCOPE-MAX Z (vox)\tCOPE-MEAN\n",
      "\n"
     ]
    }
   ],
   "source": [
    "# Get cluster info:\n",
    "getClusterInfoSubgroups(subgroups_in, map_type, region, ReversedSigThresh='0.90')"
   ]
  },
  {
   "cell_type": "markdown",
   "metadata": {},
   "source": [
    ">>>>> RESULTS:"
   ]
  },
  {
   "cell_type": "markdown",
   "metadata": {},
   "source": [
    "### vmPFC - MD"
   ]
  },
  {
   "cell_type": "code",
   "execution_count": null,
   "metadata": {},
   "outputs": [],
   "source": [
    "region='vmPFC'"
   ]
  },
  {
   "cell_type": "code",
   "execution_count": null,
   "metadata": {},
   "outputs": [
    {
     "name": "stdout",
     "output_type": "stream",
     "text": [
      "Running randomise for sub-groups analysis:\n",
      "--- Subgroups in 3_Day | MD | vmPFC ---\n",
      "\n"
     ]
    }
   ],
   "source": [
    "runRandomiseSubgroups(subgroups_in, map_type, region)"
   ]
  },
  {
   "cell_type": "code",
   "execution_count": null,
   "metadata": {},
   "outputs": [
    {
     "name": "stdout",
     "output_type": "stream",
     "text": [
      "Testing stats for sub-groups analysis:\n",
      "--- Subgroups in 3_Day | MD | vmPFC ---\n",
      "\n",
      "Test Habitual > Goal-directed\n",
      "\n",
      "Cluster Index\tVoxels\tcorrp1-p-MAX\tcorrp1-p-MAX X (vox)\tcorrp1-p-MAX Y (vox)\tcorrp1-p-MAX Z (vox)\tcorrp1-p-COG X (vox)\tcorrp1-p-COG Y (vox)\tcorrp1-p-COG Z (vox)\tCOPE-MAX\tCOPE-MAX X (vox)\tCOPE-MAX Y (vox)\tCOPE-MAX Z (vox)\tCOPE-MEAN\n",
      "\n",
      "Test Goal-Directed > Habitual\n",
      "\n",
      "Cluster Index\tVoxels\tcorrp1-p-MAX\tcorrp1-p-MAX X (vox)\tcorrp1-p-MAX Y (vox)\tcorrp1-p-MAX Z (vox)\tcorrp1-p-COG X (vox)\tcorrp1-p-COG Y (vox)\tcorrp1-p-COG Z (vox)\tCOPE-MAX\tCOPE-MAX X (vox)\tCOPE-MAX Y (vox)\tCOPE-MAX Z (vox)\tCOPE-MEAN\n",
      "\n"
     ]
    }
   ],
   "source": [
    "# Get cluster info:\n",
    "getClusterInfoSubgroups(subgroups_in, map_type, region, ReversedSigThresh='0.90')"
   ]
  },
  {
   "cell_type": "markdown",
   "metadata": {},
   "source": [
    ">>>>> RESULTS:"
   ]
  },
  {
   "cell_type": "markdown",
   "metadata": {},
   "source": [
    "## IN HABITUAL"
   ]
  },
  {
   "cell_type": "code",
   "execution_count": null,
   "metadata": {},
   "outputs": [],
   "source": [
    "subgroups_in = 'Habitual'"
   ]
  },
  {
   "cell_type": "markdown",
   "metadata": {},
   "source": [
    "### Whole brain - FA"
   ]
  },
  {
   "cell_type": "code",
   "execution_count": null,
   "metadata": {},
   "outputs": [],
   "source": [
    "map_type='FA'\n",
    "region='whole_brain'"
   ]
  },
  {
   "cell_type": "code",
   "execution_count": null,
   "metadata": {},
   "outputs": [
    {
     "name": "stdout",
     "output_type": "stream",
     "text": [
      "Running randomise for sub-groups analysis:\n",
      "--- Subgroups in Habitual | FA | whole_brain ---\n",
      "\n"
     ]
    }
   ],
   "source": [
    "runRandomiseSubgroups(subgroups_in, map_type, region)"
   ]
  },
  {
   "cell_type": "code",
   "execution_count": null,
   "metadata": {},
   "outputs": [
    {
     "name": "stdout",
     "output_type": "stream",
     "text": [
      "Testing stats for sub-groups analysis:\n",
      "--- Subgroups in Habitual | FA | whole_brain ---\n",
      "\n",
      "1-Day > 3-Day\n",
      "\n",
      "Cluster Index\tVoxels\tcorrp1-p-MAX\tcorrp1-p-MAX X (vox)\tcorrp1-p-MAX Y (vox)\tcorrp1-p-MAX Z (vox)\tcorrp1-p-COG X (vox)\tcorrp1-p-COG Y (vox)\tcorrp1-p-COG Z (vox)\tCOPE-MAX\tCOPE-MAX X (vox)\tCOPE-MAX Y (vox)\tCOPE-MAX Z (vox)\tCOPE-MEAN\n",
      "\n",
      "3-Day > 1-Day\n",
      "\n",
      "Cluster Index\tVoxels\tcorrp1-p-MAX\tcorrp1-p-MAX X (vox)\tcorrp1-p-MAX Y (vox)\tcorrp1-p-MAX Z (vox)\tcorrp1-p-COG X (vox)\tcorrp1-p-COG Y (vox)\tcorrp1-p-COG Z (vox)\tCOPE-MAX\tCOPE-MAX X (vox)\tCOPE-MAX Y (vox)\tCOPE-MAX Z (vox)\tCOPE-MEAN\n",
      "\n"
     ]
    }
   ],
   "source": [
    "# Get cluster info:\n",
    "getClusterInfoSubgroups(subgroups_in, map_type, region, ReversedSigThresh='0.90')"
   ]
  },
  {
   "cell_type": "markdown",
   "metadata": {},
   "source": [
    ">>>>> RESULT:"
   ]
  },
  {
   "cell_type": "markdown",
   "metadata": {},
   "source": [
    "### Putamen - FA"
   ]
  },
  {
   "cell_type": "code",
   "execution_count": null,
   "metadata": {},
   "outputs": [],
   "source": [
    "region='Putamen'"
   ]
  },
  {
   "cell_type": "code",
   "execution_count": null,
   "metadata": {},
   "outputs": [
    {
     "name": "stdout",
     "output_type": "stream",
     "text": [
      "Running randomise for sub-groups analysis:\n",
      "--- Subgroups in Habitual | FA | Putamen ---\n",
      "\n"
     ]
    }
   ],
   "source": [
    "runRandomiseSubgroups(subgroups_in, map_type, region)"
   ]
  },
  {
   "cell_type": "code",
   "execution_count": null,
   "metadata": {},
   "outputs": [
    {
     "name": "stdout",
     "output_type": "stream",
     "text": [
      "Testing stats for sub-groups analysis:\n",
      "--- Subgroups in Habitual | FA | Putamen ---\n",
      "\n",
      "1-Day > 3-Day\n",
      "\n",
      "Cluster Index\tVoxels\tcorrp1-p-MAX\tcorrp1-p-MAX X (vox)\tcorrp1-p-MAX Y (vox)\tcorrp1-p-MAX Z (vox)\tcorrp1-p-COG X (vox)\tcorrp1-p-COG Y (vox)\tcorrp1-p-COG Z (vox)\tCOPE-MAX\tCOPE-MAX X (vox)\tCOPE-MAX Y (vox)\tCOPE-MAX Z (vox)\tCOPE-MEAN\n",
      "\n",
      "3-Day > 1-Day\n",
      "\n",
      "Cluster Index\tVoxels\tcorrp1-p-MAX\tcorrp1-p-MAX X (vox)\tcorrp1-p-MAX Y (vox)\tcorrp1-p-MAX Z (vox)\tcorrp1-p-COG X (vox)\tcorrp1-p-COG Y (vox)\tcorrp1-p-COG Z (vox)\tCOPE-MAX\tCOPE-MAX X (vox)\tCOPE-MAX Y (vox)\tCOPE-MAX Z (vox)\tCOPE-MEAN\n",
      "\n"
     ]
    }
   ],
   "source": [
    "# Get cluster info:\n",
    "getClusterInfoSubgroups(subgroups_in, map_type, region, ReversedSigThresh='0.90')"
   ]
  },
  {
   "cell_type": "markdown",
   "metadata": {},
   "source": [
    ">>>>> RESULT"
   ]
  },
  {
   "cell_type": "markdown",
   "metadata": {},
   "source": [
    "### Caudate - FA"
   ]
  },
  {
   "cell_type": "code",
   "execution_count": null,
   "metadata": {},
   "outputs": [],
   "source": [
    "region='Caudate'"
   ]
  },
  {
   "cell_type": "code",
   "execution_count": null,
   "metadata": {},
   "outputs": [
    {
     "name": "stdout",
     "output_type": "stream",
     "text": [
      "Running randomise for sub-groups analysis:\n",
      "--- Subgroups in Habitual | FA | Caudate ---\n",
      "\n"
     ]
    }
   ],
   "source": [
    "runRandomiseSubgroups(subgroups_in, map_type, region)"
   ]
  },
  {
   "cell_type": "code",
   "execution_count": null,
   "metadata": {},
   "outputs": [
    {
     "name": "stdout",
     "output_type": "stream",
     "text": [
      "Testing stats for sub-groups analysis:\n",
      "--- Subgroups in Habitual | FA | Caudate ---\n",
      "\n",
      "1-Day > 3-Day\n",
      "\n",
      "Cluster Index\tVoxels\tcorrp1-p-MAX\tcorrp1-p-MAX X (vox)\tcorrp1-p-MAX Y (vox)\tcorrp1-p-MAX Z (vox)\tcorrp1-p-COG X (vox)\tcorrp1-p-COG Y (vox)\tcorrp1-p-COG Z (vox)\tCOPE-MAX\tCOPE-MAX X (vox)\tCOPE-MAX Y (vox)\tCOPE-MAX Z (vox)\tCOPE-MEAN\n",
      "\n",
      "3-Day > 1-Day\n",
      "\n",
      "Cluster Index\tVoxels\tcorrp1-p-MAX\tcorrp1-p-MAX X (vox)\tcorrp1-p-MAX Y (vox)\tcorrp1-p-MAX Z (vox)\tcorrp1-p-COG X (vox)\tcorrp1-p-COG Y (vox)\tcorrp1-p-COG Z (vox)\tCOPE-MAX\tCOPE-MAX X (vox)\tCOPE-MAX Y (vox)\tCOPE-MAX Z (vox)\tCOPE-MEAN\n",
      "1\t3\t0.947\t40\t71\t34\t40\t71.3\t34.7\t3.78\t40\t71\t34\t3.4\n",
      "\n"
     ]
    }
   ],
   "source": [
    "# Get cluster info:\n",
    "getClusterInfoSubgroups(subgroups_in, map_type, region, ReversedSigThresh='0.90')"
   ]
  },
  {
   "cell_type": "markdown",
   "metadata": {},
   "source": [
    ">>>>> RESULTS:"
   ]
  },
  {
   "cell_type": "markdown",
   "metadata": {},
   "source": [
    "### vmPFC - FA"
   ]
  },
  {
   "cell_type": "code",
   "execution_count": null,
   "metadata": {},
   "outputs": [],
   "source": [
    "region='vmPFC'"
   ]
  },
  {
   "cell_type": "code",
   "execution_count": null,
   "metadata": {},
   "outputs": [
    {
     "name": "stdout",
     "output_type": "stream",
     "text": [
      "Running randomise for sub-groups analysis:\n",
      "--- Subgroups in Habitual | FA | vmPFC ---\n",
      "\n"
     ]
    }
   ],
   "source": [
    "runRandomiseSubgroups(subgroups_in, map_type, region)"
   ]
  },
  {
   "cell_type": "code",
   "execution_count": null,
   "metadata": {},
   "outputs": [
    {
     "name": "stdout",
     "output_type": "stream",
     "text": [
      "Testing stats for sub-groups analysis:\n",
      "--- Subgroups in Habitual | FA | vmPFC ---\n",
      "\n",
      "1-Day > 3-Day\n",
      "\n",
      "Cluster Index\tVoxels\tcorrp1-p-MAX\tcorrp1-p-MAX X (vox)\tcorrp1-p-MAX Y (vox)\tcorrp1-p-MAX Z (vox)\tcorrp1-p-COG X (vox)\tcorrp1-p-COG Y (vox)\tcorrp1-p-COG Z (vox)\tCOPE-MAX\tCOPE-MAX X (vox)\tCOPE-MAX Y (vox)\tCOPE-MAX Z (vox)\tCOPE-MEAN\n",
      "\n",
      "3-Day > 1-Day\n",
      "\n",
      "Cluster Index\tVoxels\tcorrp1-p-MAX\tcorrp1-p-MAX X (vox)\tcorrp1-p-MAX Y (vox)\tcorrp1-p-MAX Z (vox)\tcorrp1-p-COG X (vox)\tcorrp1-p-COG Y (vox)\tcorrp1-p-COG Z (vox)\tCOPE-MAX\tCOPE-MAX X (vox)\tCOPE-MAX Y (vox)\tCOPE-MAX Z (vox)\tCOPE-MEAN\n",
      "\n"
     ]
    }
   ],
   "source": [
    "# Get cluster info:\n",
    "getClusterInfoSubgroups(subgroups_in, map_type, region, ReversedSigThresh='0.90')"
   ]
  },
  {
   "cell_type": "markdown",
   "metadata": {},
   "source": [
    ">>>>> RESULTS:"
   ]
  },
  {
   "cell_type": "markdown",
   "metadata": {},
   "source": [
    "### Whole brain - MD"
   ]
  },
  {
   "cell_type": "code",
   "execution_count": null,
   "metadata": {},
   "outputs": [],
   "source": [
    "map_type='MD'\n",
    "region='whole_brain'"
   ]
  },
  {
   "cell_type": "code",
   "execution_count": null,
   "metadata": {},
   "outputs": [
    {
     "name": "stdout",
     "output_type": "stream",
     "text": [
      "Running randomise for sub-groups analysis:\n",
      "--- Subgroups in Habitual | MD | whole_brain ---\n",
      "\n"
     ]
    }
   ],
   "source": [
    "runRandomiseSubgroups(subgroups_in, map_type, region)"
   ]
  },
  {
   "cell_type": "code",
   "execution_count": null,
   "metadata": {},
   "outputs": [
    {
     "name": "stdout",
     "output_type": "stream",
     "text": [
      "Testing stats for sub-groups analysis:\n",
      "--- Subgroups in Habitual | MD | whole_brain ---\n",
      "\n",
      "1-Day > 3-Day\n",
      "\n",
      "Cluster Index\tVoxels\tcorrp1-p-MAX\tcorrp1-p-MAX X (vox)\tcorrp1-p-MAX Y (vox)\tcorrp1-p-MAX Z (vox)\tcorrp1-p-COG X (vox)\tcorrp1-p-COG Y (vox)\tcorrp1-p-COG Z (vox)\tCOPE-MAX\tCOPE-MAX X (vox)\tCOPE-MAX Y (vox)\tCOPE-MAX Z (vox)\tCOPE-MEAN\n",
      "1\t13\t0.954\t47\t68\t22\t45.1\t68.5\t22.8\t4.26\t44\t69\t23\t3.52\n",
      "\n",
      "3-Day > 1-Day\n",
      "\n",
      "Cluster Index\tVoxels\tcorrp1-p-MAX\tcorrp1-p-MAX X (vox)\tcorrp1-p-MAX Y (vox)\tcorrp1-p-MAX Z (vox)\tcorrp1-p-COG X (vox)\tcorrp1-p-COG Y (vox)\tcorrp1-p-COG Z (vox)\tCOPE-MAX\tCOPE-MAX X (vox)\tCOPE-MAX Y (vox)\tCOPE-MAX Z (vox)\tCOPE-MEAN\n",
      "\n"
     ]
    }
   ],
   "source": [
    "# Get cluster info:\n",
    "getClusterInfoSubgroups(subgroups_in, map_type, region, ReversedSigThresh='0.90')"
   ]
  },
  {
   "cell_type": "markdown",
   "metadata": {},
   "source": [
    ">>>>> RESULT:"
   ]
  },
  {
   "cell_type": "markdown",
   "metadata": {},
   "source": [
    "### Putamen - MD"
   ]
  },
  {
   "cell_type": "code",
   "execution_count": null,
   "metadata": {},
   "outputs": [],
   "source": [
    "region='Putamen'"
   ]
  },
  {
   "cell_type": "code",
   "execution_count": null,
   "metadata": {},
   "outputs": [
    {
     "name": "stdout",
     "output_type": "stream",
     "text": [
      "Running randomise for sub-groups analysis:\n",
      "--- Subgroups in Habitual | MD | Putamen ---\n",
      "\n"
     ]
    }
   ],
   "source": [
    "runRandomiseSubgroups(subgroups_in, map_type, region)"
   ]
  },
  {
   "cell_type": "code",
   "execution_count": null,
   "metadata": {},
   "outputs": [
    {
     "name": "stdout",
     "output_type": "stream",
     "text": [
      "Testing stats for sub-groups analysis:\n",
      "--- Subgroups in Habitual | MD | Putamen ---\n",
      "\n",
      "1-Day > 3-Day\n",
      "\n",
      "Cluster Index\tVoxels\tcorrp1-p-MAX\tcorrp1-p-MAX X (vox)\tcorrp1-p-MAX Y (vox)\tcorrp1-p-MAX Z (vox)\tcorrp1-p-COG X (vox)\tcorrp1-p-COG Y (vox)\tcorrp1-p-COG Z (vox)\tCOPE-MAX\tCOPE-MAX X (vox)\tCOPE-MAX Y (vox)\tCOPE-MAX Z (vox)\tCOPE-MEAN\n",
      "\n",
      "3-Day > 1-Day\n",
      "\n",
      "Cluster Index\tVoxels\tcorrp1-p-MAX\tcorrp1-p-MAX X (vox)\tcorrp1-p-MAX Y (vox)\tcorrp1-p-MAX Z (vox)\tcorrp1-p-COG X (vox)\tcorrp1-p-COG Y (vox)\tcorrp1-p-COG Z (vox)\tCOPE-MAX\tCOPE-MAX X (vox)\tCOPE-MAX Y (vox)\tCOPE-MAX Z (vox)\tCOPE-MEAN\n",
      "\n"
     ]
    }
   ],
   "source": [
    "# Get cluster info:\n",
    "getClusterInfoSubgroups(subgroups_in, map_type, region, ReversedSigThresh='0.90')"
   ]
  },
  {
   "cell_type": "markdown",
   "metadata": {},
   "source": [
    ">>>>> RESULT"
   ]
  },
  {
   "cell_type": "markdown",
   "metadata": {},
   "source": [
    "### Caudate - MD"
   ]
  },
  {
   "cell_type": "code",
   "execution_count": null,
   "metadata": {},
   "outputs": [],
   "source": [
    "region='Caudate'"
   ]
  },
  {
   "cell_type": "code",
   "execution_count": null,
   "metadata": {},
   "outputs": [
    {
     "name": "stdout",
     "output_type": "stream",
     "text": [
      "Running randomise for sub-groups analysis:\n",
      "--- Subgroups in Habitual | MD | Caudate ---\n",
      "\n"
     ]
    }
   ],
   "source": [
    "runRandomiseSubgroups(subgroups_in, map_type, region)"
   ]
  },
  {
   "cell_type": "code",
   "execution_count": null,
   "metadata": {},
   "outputs": [
    {
     "name": "stdout",
     "output_type": "stream",
     "text": [
      "Testing stats for sub-groups analysis:\n",
      "--- Subgroups in Habitual | MD | Caudate ---\n",
      "\n",
      "1-Day > 3-Day\n",
      "\n",
      "Cluster Index\tVoxels\tcorrp1-p-MAX\tcorrp1-p-MAX X (vox)\tcorrp1-p-MAX Y (vox)\tcorrp1-p-MAX Z (vox)\tcorrp1-p-COG X (vox)\tcorrp1-p-COG Y (vox)\tcorrp1-p-COG Z (vox)\tCOPE-MAX\tCOPE-MAX X (vox)\tCOPE-MAX Y (vox)\tCOPE-MAX Z (vox)\tCOPE-MEAN\n",
      "\n",
      "3-Day > 1-Day\n",
      "\n",
      "Cluster Index\tVoxels\tcorrp1-p-MAX\tcorrp1-p-MAX X (vox)\tcorrp1-p-MAX Y (vox)\tcorrp1-p-MAX Z (vox)\tcorrp1-p-COG X (vox)\tcorrp1-p-COG Y (vox)\tcorrp1-p-COG Z (vox)\tCOPE-MAX\tCOPE-MAX X (vox)\tCOPE-MAX Y (vox)\tCOPE-MAX Z (vox)\tCOPE-MEAN\n",
      "\n"
     ]
    }
   ],
   "source": [
    "# Get cluster info:\n",
    "getClusterInfoSubgroups(subgroups_in, map_type, region, ReversedSigThresh='0.90')"
   ]
  },
  {
   "cell_type": "markdown",
   "metadata": {},
   "source": [
    ">>>>> RESULTS:"
   ]
  },
  {
   "cell_type": "markdown",
   "metadata": {},
   "source": [
    "### vmPFC - MD"
   ]
  },
  {
   "cell_type": "code",
   "execution_count": null,
   "metadata": {},
   "outputs": [],
   "source": [
    "region='vmPFC'"
   ]
  },
  {
   "cell_type": "code",
   "execution_count": null,
   "metadata": {},
   "outputs": [
    {
     "name": "stdout",
     "output_type": "stream",
     "text": [
      "Running randomise for sub-groups analysis:\n",
      "--- Subgroups in Habitual | MD | vmPFC ---\n",
      "\n"
     ]
    }
   ],
   "source": [
    "runRandomiseSubgroups(subgroups_in, map_type, region)"
   ]
  },
  {
   "cell_type": "code",
   "execution_count": null,
   "metadata": {},
   "outputs": [
    {
     "name": "stdout",
     "output_type": "stream",
     "text": [
      "Testing stats for sub-groups analysis:\n",
      "--- Subgroups in Habitual | MD | vmPFC ---\n",
      "\n",
      "1-Day > 3-Day\n",
      "\n",
      "Cluster Index\tVoxels\tcorrp1-p-MAX\tcorrp1-p-MAX X (vox)\tcorrp1-p-MAX Y (vox)\tcorrp1-p-MAX Z (vox)\tcorrp1-p-COG X (vox)\tcorrp1-p-COG Y (vox)\tcorrp1-p-COG Z (vox)\tCOPE-MAX\tCOPE-MAX X (vox)\tCOPE-MAX Y (vox)\tCOPE-MAX Z (vox)\tCOPE-MEAN\n",
      "1\t5\t0.983\t43\t69\t23\t45\t69\t23\t4.26\t44\t69\t23\t3.68\n",
      "\n",
      "3-Day > 1-Day\n",
      "\n",
      "Cluster Index\tVoxels\tcorrp1-p-MAX\tcorrp1-p-MAX X (vox)\tcorrp1-p-MAX Y (vox)\tcorrp1-p-MAX Z (vox)\tcorrp1-p-COG X (vox)\tcorrp1-p-COG Y (vox)\tcorrp1-p-COG Z (vox)\tCOPE-MAX\tCOPE-MAX X (vox)\tCOPE-MAX Y (vox)\tCOPE-MAX Z (vox)\tCOPE-MEAN\n",
      "\n"
     ]
    }
   ],
   "source": [
    "# Get cluster info:\n",
    "getClusterInfoSubgroups(subgroups_in, map_type, region, ReversedSigThresh='0.90')"
   ]
  },
  {
   "cell_type": "markdown",
   "metadata": {},
   "source": [
    ">>>>> RESULTS:"
   ]
  },
  {
   "cell_type": "markdown",
   "metadata": {},
   "source": [
    "## IN GOAL-DIRECTED"
   ]
  },
  {
   "cell_type": "code",
   "execution_count": null,
   "metadata": {},
   "outputs": [],
   "source": [
    "subgroups_in = 'Goal_Directed'"
   ]
  },
  {
   "cell_type": "markdown",
   "metadata": {},
   "source": [
    "### Whole brain - FA"
   ]
  },
  {
   "cell_type": "code",
   "execution_count": null,
   "metadata": {},
   "outputs": [],
   "source": [
    "map_type='FA'\n",
    "region='whole_brain'"
   ]
  },
  {
   "cell_type": "code",
   "execution_count": null,
   "metadata": {},
   "outputs": [
    {
     "name": "stdout",
     "output_type": "stream",
     "text": [
      "Running randomise for sub-groups analysis:\n",
      "--- Subgroups in Goal_Directed | FA | whole_brain ---\n",
      "\n"
     ]
    }
   ],
   "source": [
    "runRandomiseSubgroups(subgroups_in, map_type, region)"
   ]
  },
  {
   "cell_type": "code",
   "execution_count": null,
   "metadata": {},
   "outputs": [
    {
     "name": "stdout",
     "output_type": "stream",
     "text": [
      "Testing stats for sub-groups analysis:\n",
      "--- Subgroups in Goal_Directed | FA | whole_brain ---\n",
      "\n",
      "1-Day > 3-Day\n",
      "\n",
      "Cluster Index\tVoxels\tcorrp1-p-MAX\tcorrp1-p-MAX X (vox)\tcorrp1-p-MAX Y (vox)\tcorrp1-p-MAX Z (vox)\tcorrp1-p-COG X (vox)\tcorrp1-p-COG Y (vox)\tcorrp1-p-COG Z (vox)\tCOPE-MAX\tCOPE-MAX X (vox)\tCOPE-MAX Y (vox)\tCOPE-MAX Z (vox)\tCOPE-MEAN\n",
      "\n",
      "3-Day > 1-Day\n",
      "\n",
      "Cluster Index\tVoxels\tcorrp1-p-MAX\tcorrp1-p-MAX X (vox)\tcorrp1-p-MAX Y (vox)\tcorrp1-p-MAX Z (vox)\tcorrp1-p-COG X (vox)\tcorrp1-p-COG Y (vox)\tcorrp1-p-COG Z (vox)\tCOPE-MAX\tCOPE-MAX X (vox)\tCOPE-MAX Y (vox)\tCOPE-MAX Z (vox)\tCOPE-MEAN\n",
      "\n"
     ]
    }
   ],
   "source": [
    "# Get cluster info:\n",
    "getClusterInfoSubgroups(subgroups_in, map_type, region, ReversedSigThresh='0.90')"
   ]
  },
  {
   "cell_type": "markdown",
   "metadata": {},
   "source": [
    ">>>>> RESULT:"
   ]
  },
  {
   "cell_type": "markdown",
   "metadata": {},
   "source": [
    "### Putamen - FA"
   ]
  },
  {
   "cell_type": "code",
   "execution_count": null,
   "metadata": {},
   "outputs": [],
   "source": [
    "region='Putamen'"
   ]
  },
  {
   "cell_type": "code",
   "execution_count": null,
   "metadata": {},
   "outputs": [
    {
     "name": "stdout",
     "output_type": "stream",
     "text": [
      "Running randomise for sub-groups analysis:\n",
      "--- Subgroups in Goal_Directed | FA | Putamen ---\n",
      "\n"
     ]
    }
   ],
   "source": [
    "runRandomiseSubgroups(subgroups_in, map_type, region)"
   ]
  },
  {
   "cell_type": "code",
   "execution_count": null,
   "metadata": {},
   "outputs": [
    {
     "name": "stdout",
     "output_type": "stream",
     "text": [
      "Testing stats for sub-groups analysis:\n",
      "--- Subgroups in Goal_Directed | FA | Putamen ---\n",
      "\n",
      "1-Day > 3-Day\n",
      "\n",
      "Cluster Index\tVoxels\tcorrp1-p-MAX\tcorrp1-p-MAX X (vox)\tcorrp1-p-MAX Y (vox)\tcorrp1-p-MAX Z (vox)\tcorrp1-p-COG X (vox)\tcorrp1-p-COG Y (vox)\tcorrp1-p-COG Z (vox)\tCOPE-MAX\tCOPE-MAX X (vox)\tCOPE-MAX Y (vox)\tCOPE-MAX Z (vox)\tCOPE-MEAN\n",
      "\n",
      "3-Day > 1-Day\n",
      "\n",
      "Cluster Index\tVoxels\tcorrp1-p-MAX\tcorrp1-p-MAX X (vox)\tcorrp1-p-MAX Y (vox)\tcorrp1-p-MAX Z (vox)\tcorrp1-p-COG X (vox)\tcorrp1-p-COG Y (vox)\tcorrp1-p-COG Z (vox)\tCOPE-MAX\tCOPE-MAX X (vox)\tCOPE-MAX Y (vox)\tCOPE-MAX Z (vox)\tCOPE-MEAN\n",
      "\n"
     ]
    }
   ],
   "source": [
    "# Get cluster info:\n",
    "getClusterInfoSubgroups(subgroups_in, map_type, region, ReversedSigThresh='0.90')"
   ]
  },
  {
   "cell_type": "markdown",
   "metadata": {},
   "source": [
    ">>>>> RESULT"
   ]
  },
  {
   "cell_type": "markdown",
   "metadata": {},
   "source": [
    "### Caudate - FA"
   ]
  },
  {
   "cell_type": "code",
   "execution_count": null,
   "metadata": {},
   "outputs": [],
   "source": [
    "region='Caudate'"
   ]
  },
  {
   "cell_type": "code",
   "execution_count": null,
   "metadata": {},
   "outputs": [
    {
     "name": "stdout",
     "output_type": "stream",
     "text": [
      "Running randomise for sub-groups analysis:\n",
      "--- Subgroups in Goal_Directed | FA | Caudate ---\n",
      "\n"
     ]
    }
   ],
   "source": [
    "runRandomiseSubgroups(subgroups_in, map_type, region)"
   ]
  },
  {
   "cell_type": "code",
   "execution_count": null,
   "metadata": {},
   "outputs": [
    {
     "name": "stdout",
     "output_type": "stream",
     "text": [
      "Testing stats for sub-groups analysis:\n",
      "--- Subgroups in Goal_Directed | FA | Caudate ---\n",
      "\n",
      "1-Day > 3-Day\n",
      "\n",
      "Cluster Index\tVoxels\tcorrp1-p-MAX\tcorrp1-p-MAX X (vox)\tcorrp1-p-MAX Y (vox)\tcorrp1-p-MAX Z (vox)\tcorrp1-p-COG X (vox)\tcorrp1-p-COG Y (vox)\tcorrp1-p-COG Z (vox)\tCOPE-MAX\tCOPE-MAX X (vox)\tCOPE-MAX Y (vox)\tCOPE-MAX Z (vox)\tCOPE-MEAN\n",
      "\n",
      "3-Day > 1-Day\n",
      "\n",
      "Cluster Index\tVoxels\tcorrp1-p-MAX\tcorrp1-p-MAX X (vox)\tcorrp1-p-MAX Y (vox)\tcorrp1-p-MAX Z (vox)\tcorrp1-p-COG X (vox)\tcorrp1-p-COG Y (vox)\tcorrp1-p-COG Z (vox)\tCOPE-MAX\tCOPE-MAX X (vox)\tCOPE-MAX Y (vox)\tCOPE-MAX Z (vox)\tCOPE-MEAN\n",
      "1\t2\t0.911\t53\t67\t46\t53.5\t67\t46\t5.18\t53\t67\t46\t4.15\n",
      "\n"
     ]
    }
   ],
   "source": [
    "# Get cluster info:\n",
    "getClusterInfoSubgroups(subgroups_in, map_type, region, ReversedSigThresh='0.90')"
   ]
  },
  {
   "cell_type": "markdown",
   "metadata": {},
   "source": [
    ">>>>> RESULTS:"
   ]
  },
  {
   "cell_type": "markdown",
   "metadata": {},
   "source": [
    "### vmPFC - FA"
   ]
  },
  {
   "cell_type": "code",
   "execution_count": null,
   "metadata": {},
   "outputs": [],
   "source": [
    "region='vmPFC'"
   ]
  },
  {
   "cell_type": "code",
   "execution_count": null,
   "metadata": {},
   "outputs": [
    {
     "name": "stdout",
     "output_type": "stream",
     "text": [
      "Running randomise for sub-groups analysis:\n",
      "--- Subgroups in Goal_Directed | FA | vmPFC ---\n",
      "\n"
     ]
    }
   ],
   "source": [
    "runRandomiseSubgroups(subgroups_in, map_type, region)"
   ]
  },
  {
   "cell_type": "code",
   "execution_count": null,
   "metadata": {},
   "outputs": [
    {
     "name": "stdout",
     "output_type": "stream",
     "text": [
      "Testing stats for sub-groups analysis:\n",
      "--- Subgroups in Goal_Directed | FA | vmPFC ---\n",
      "\n",
      "1-Day > 3-Day\n",
      "\n",
      "Cluster Index\tVoxels\tcorrp1-p-MAX\tcorrp1-p-MAX X (vox)\tcorrp1-p-MAX Y (vox)\tcorrp1-p-MAX Z (vox)\tcorrp1-p-COG X (vox)\tcorrp1-p-COG Y (vox)\tcorrp1-p-COG Z (vox)\tCOPE-MAX\tCOPE-MAX X (vox)\tCOPE-MAX Y (vox)\tCOPE-MAX Z (vox)\tCOPE-MEAN\n",
      "\n",
      "3-Day > 1-Day\n",
      "\n",
      "Cluster Index\tVoxels\tcorrp1-p-MAX\tcorrp1-p-MAX X (vox)\tcorrp1-p-MAX Y (vox)\tcorrp1-p-MAX Z (vox)\tcorrp1-p-COG X (vox)\tcorrp1-p-COG Y (vox)\tcorrp1-p-COG Z (vox)\tCOPE-MAX\tCOPE-MAX X (vox)\tCOPE-MAX Y (vox)\tCOPE-MAX Z (vox)\tCOPE-MEAN\n",
      "\n"
     ]
    }
   ],
   "source": [
    "# Get cluster info:\n",
    "getClusterInfoSubgroups(subgroups_in, map_type, region, ReversedSigThresh='0.90')"
   ]
  },
  {
   "cell_type": "markdown",
   "metadata": {},
   "source": [
    ">>>>> RESULTS:"
   ]
  },
  {
   "cell_type": "markdown",
   "metadata": {},
   "source": [
    "### Whole brain - MD"
   ]
  },
  {
   "cell_type": "code",
   "execution_count": null,
   "metadata": {},
   "outputs": [],
   "source": [
    "map_type='MD'\n",
    "region='whole_brain'"
   ]
  },
  {
   "cell_type": "code",
   "execution_count": null,
   "metadata": {},
   "outputs": [
    {
     "name": "stdout",
     "output_type": "stream",
     "text": [
      "Running randomise for sub-groups analysis:\n",
      "--- Subgroups in Goal_Directed | MD | whole_brain ---\n",
      "\n"
     ]
    }
   ],
   "source": [
    "runRandomiseSubgroups(subgroups_in, map_type, region)"
   ]
  },
  {
   "cell_type": "code",
   "execution_count": null,
   "metadata": {},
   "outputs": [
    {
     "name": "stdout",
     "output_type": "stream",
     "text": [
      "Testing stats for sub-groups analysis:\n",
      "--- Subgroups in Goal_Directed | MD | whole_brain ---\n",
      "\n",
      "1-Day > 3-Day\n",
      "\n",
      "Cluster Index\tVoxels\tcorrp1-p-MAX\tcorrp1-p-MAX X (vox)\tcorrp1-p-MAX Y (vox)\tcorrp1-p-MAX Z (vox)\tcorrp1-p-COG X (vox)\tcorrp1-p-COG Y (vox)\tcorrp1-p-COG Z (vox)\tCOPE-MAX\tCOPE-MAX X (vox)\tCOPE-MAX Y (vox)\tCOPE-MAX Z (vox)\tCOPE-MEAN\n",
      "\n",
      "3-Day > 1-Day\n",
      "\n",
      "Cluster Index\tVoxels\tcorrp1-p-MAX\tcorrp1-p-MAX X (vox)\tcorrp1-p-MAX Y (vox)\tcorrp1-p-MAX Z (vox)\tcorrp1-p-COG X (vox)\tcorrp1-p-COG Y (vox)\tcorrp1-p-COG Z (vox)\tCOPE-MAX\tCOPE-MAX X (vox)\tCOPE-MAX Y (vox)\tCOPE-MAX Z (vox)\tCOPE-MEAN\n",
      "\n"
     ]
    }
   ],
   "source": [
    "# Get cluster info:\n",
    "getClusterInfoSubgroups(subgroups_in, map_type, region, ReversedSigThresh='0.90')"
   ]
  },
  {
   "cell_type": "markdown",
   "metadata": {},
   "source": [
    ">>>>> RESULT:"
   ]
  },
  {
   "cell_type": "markdown",
   "metadata": {},
   "source": [
    "### Putamen - MD"
   ]
  },
  {
   "cell_type": "code",
   "execution_count": null,
   "metadata": {},
   "outputs": [],
   "source": [
    "region='Putamen'"
   ]
  },
  {
   "cell_type": "code",
   "execution_count": null,
   "metadata": {},
   "outputs": [
    {
     "name": "stdout",
     "output_type": "stream",
     "text": [
      "Running randomise for sub-groups analysis:\n",
      "--- Subgroups in Goal_Directed | MD | Putamen ---\n",
      "\n"
     ]
    }
   ],
   "source": [
    "runRandomiseSubgroups(subgroups_in, map_type, region)"
   ]
  },
  {
   "cell_type": "code",
   "execution_count": null,
   "metadata": {},
   "outputs": [
    {
     "name": "stdout",
     "output_type": "stream",
     "text": [
      "Testing stats for sub-groups analysis:\n",
      "--- Subgroups in Goal_Directed | MD | Putamen ---\n",
      "\n",
      "1-Day > 3-Day\n",
      "\n",
      "Cluster Index\tVoxels\tcorrp1-p-MAX\tcorrp1-p-MAX X (vox)\tcorrp1-p-MAX Y (vox)\tcorrp1-p-MAX Z (vox)\tcorrp1-p-COG X (vox)\tcorrp1-p-COG Y (vox)\tcorrp1-p-COG Z (vox)\tCOPE-MAX\tCOPE-MAX X (vox)\tCOPE-MAX Y (vox)\tCOPE-MAX Z (vox)\tCOPE-MEAN\n",
      "\n",
      "3-Day > 1-Day\n",
      "\n",
      "Cluster Index\tVoxels\tcorrp1-p-MAX\tcorrp1-p-MAX X (vox)\tcorrp1-p-MAX Y (vox)\tcorrp1-p-MAX Z (vox)\tcorrp1-p-COG X (vox)\tcorrp1-p-COG Y (vox)\tcorrp1-p-COG Z (vox)\tCOPE-MAX\tCOPE-MAX X (vox)\tCOPE-MAX Y (vox)\tCOPE-MAX Z (vox)\tCOPE-MEAN\n",
      "\n"
     ]
    }
   ],
   "source": [
    "# Get cluster info:\n",
    "getClusterInfoSubgroups(subgroups_in, map_type, region, ReversedSigThresh='0.90')"
   ]
  },
  {
   "cell_type": "markdown",
   "metadata": {},
   "source": [
    ">>>>> RESULT"
   ]
  },
  {
   "cell_type": "markdown",
   "metadata": {},
   "source": [
    "### Caudate - MD"
   ]
  },
  {
   "cell_type": "code",
   "execution_count": null,
   "metadata": {},
   "outputs": [],
   "source": [
    "region='Caudate'"
   ]
  },
  {
   "cell_type": "code",
   "execution_count": null,
   "metadata": {},
   "outputs": [
    {
     "name": "stdout",
     "output_type": "stream",
     "text": [
      "Running randomise for sub-groups analysis:\n",
      "--- Subgroups in Goal_Directed | MD | Caudate ---\n",
      "\n"
     ]
    }
   ],
   "source": [
    "runRandomiseSubgroups(subgroups_in, map_type, region)"
   ]
  },
  {
   "cell_type": "code",
   "execution_count": null,
   "metadata": {},
   "outputs": [
    {
     "name": "stdout",
     "output_type": "stream",
     "text": [
      "Testing stats for sub-groups analysis:\n",
      "--- Subgroups in Goal_Directed | MD | Caudate ---\n",
      "\n",
      "1-Day > 3-Day\n",
      "\n",
      "Cluster Index\tVoxels\tcorrp1-p-MAX\tcorrp1-p-MAX X (vox)\tcorrp1-p-MAX Y (vox)\tcorrp1-p-MAX Z (vox)\tcorrp1-p-COG X (vox)\tcorrp1-p-COG Y (vox)\tcorrp1-p-COG Z (vox)\tCOPE-MAX\tCOPE-MAX X (vox)\tCOPE-MAX Y (vox)\tCOPE-MAX Z (vox)\tCOPE-MEAN\n",
      "\n",
      "3-Day > 1-Day\n",
      "\n",
      "Cluster Index\tVoxels\tcorrp1-p-MAX\tcorrp1-p-MAX X (vox)\tcorrp1-p-MAX Y (vox)\tcorrp1-p-MAX Z (vox)\tcorrp1-p-COG X (vox)\tcorrp1-p-COG Y (vox)\tcorrp1-p-COG Z (vox)\tCOPE-MAX\tCOPE-MAX X (vox)\tCOPE-MAX Y (vox)\tCOPE-MAX Z (vox)\tCOPE-MEAN\n",
      "\n"
     ]
    }
   ],
   "source": [
    "# Get cluster info:\n",
    "getClusterInfoSubgroups(subgroups_in, map_type, region, ReversedSigThresh='0.90')"
   ]
  },
  {
   "cell_type": "markdown",
   "metadata": {},
   "source": [
    ">>>>> RESULTS:"
   ]
  },
  {
   "cell_type": "markdown",
   "metadata": {},
   "source": [
    "### vmPFC - MD"
   ]
  },
  {
   "cell_type": "code",
   "execution_count": null,
   "metadata": {},
   "outputs": [],
   "source": [
    "region='vmPFC'"
   ]
  },
  {
   "cell_type": "code",
   "execution_count": null,
   "metadata": {},
   "outputs": [
    {
     "name": "stdout",
     "output_type": "stream",
     "text": [
      "Running randomise for sub-groups analysis:\n",
      "--- Subgroups in Goal_Directed | MD | vmPFC ---\n",
      "\n"
     ]
    }
   ],
   "source": [
    "runRandomiseSubgroups(subgroups_in, map_type, region)"
   ]
  },
  {
   "cell_type": "code",
   "execution_count": null,
   "metadata": {},
   "outputs": [
    {
     "name": "stdout",
     "output_type": "stream",
     "text": [
      "Testing stats for sub-groups analysis:\n",
      "--- Subgroups in Goal_Directed | MD | vmPFC ---\n",
      "\n",
      "1-Day > 3-Day\n",
      "\n",
      "Cluster Index\tVoxels\tcorrp1-p-MAX\tcorrp1-p-MAX X (vox)\tcorrp1-p-MAX Y (vox)\tcorrp1-p-MAX Z (vox)\tcorrp1-p-COG X (vox)\tcorrp1-p-COG Y (vox)\tcorrp1-p-COG Z (vox)\tCOPE-MAX\tCOPE-MAX X (vox)\tCOPE-MAX Y (vox)\tCOPE-MAX Z (vox)\tCOPE-MEAN\n",
      "\n",
      "3-Day > 1-Day\n",
      "\n",
      "Cluster Index\tVoxels\tcorrp1-p-MAX\tcorrp1-p-MAX X (vox)\tcorrp1-p-MAX Y (vox)\tcorrp1-p-MAX Z (vox)\tcorrp1-p-COG X (vox)\tcorrp1-p-COG Y (vox)\tcorrp1-p-COG Z (vox)\tCOPE-MAX\tCOPE-MAX X (vox)\tCOPE-MAX Y (vox)\tCOPE-MAX Z (vox)\tCOPE-MEAN\n",
      "\n"
     ]
    }
   ],
   "source": [
    "# Get cluster info:\n",
    "getClusterInfoSubgroups(subgroups_in, map_type, region, ReversedSigThresh='0.90')"
   ]
  },
  {
   "cell_type": "markdown",
   "metadata": {},
   "source": [
    ">>>>> RESULTS:"
   ]
  },
  {
   "cell_type": "markdown",
   "metadata": {},
   "source": []
  }
 ],
 "metadata": {
  "interpreter": {
   "hash": "31f2aee4e71d21fbe5cf8b01ff0e069b9275f58929596ceb00d14d90e3e16cd6"
  },
  "kernelspec": {
   "display_name": "Python 3.8.2 64-bit",
   "language": "python",
   "name": "python3"
  },
  "language_info": {
   "codemirror_mode": {
    "name": "ipython",
    "version": 3
   },
   "file_extension": ".py",
   "mimetype": "text/x-python",
   "name": "python",
   "nbconvert_exporter": "python",
   "pygments_lexer": "ipython3",
   "version": "3.6.8"
  },
  "orig_nbformat": 4
 },
 "nbformat": 4,
 "nbformat_minor": 2
}
