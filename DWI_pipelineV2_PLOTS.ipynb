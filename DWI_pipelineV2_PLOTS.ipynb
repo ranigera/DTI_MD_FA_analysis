{
 "cells": [
  {
   "cell_type": "markdown",
   "metadata": {},
   "source": [
    "# Analyze DTI"
   ]
  },
  {
   "cell_type": "markdown",
   "metadata": {},
   "source": [
    "Convert ANTs H5 warp files to fsl format\n",
    "I used the c(3): \n",
    "https://www.jiscmail.ac.uk/cgi-bin/webadmin?A2=fsl;c21935f9.1901\n",
    "\n",
    " /Users/ranigera/Downloads/Convert3DGUI.app/Contents/bin/c3d_affine_tool -ref sub-175_desc-preproc_T1w.nii.gz -src sub-175_first_processed_B0_before.nii.gz sub-175_first_processed_B0_reg_to_native_T1_before.mat -fsl2ras -oitk ANTS_ref_T1.txt\n",
    "\n",
    "\n",
    "antsApplyTransforms -i sub-175_first_processed_B0_before.nii.gz -r ${FSLDIR}/data/standard/MNI152_T1_2mm.nii.gz -o B0_in_mni_fromT1regFINAL.nii.gz -t sub-175_from-T1w_to-MNI152NLin2009cAsym_mode-image_xfm.h5 -t ANTS_ref_T1.txt \n",
    "\n"
   ]
  },
  {
   "cell_type": "code",
   "execution_count": 1,
   "metadata": {},
   "outputs": [],
   "source": [
    "# import packages\n",
    "# -----------------------------------------------------------------------------\n",
    "# import pip\n",
    "# pip.main(['install', 'seaborn']) \n",
    "import pandas as pd\n",
    "import numpy as np\n",
    "import matplotlib.pyplot as plt\n",
    "import seaborn as sns\n",
    "import os\n",
    "import glob\n",
    "import subprocess\n",
    "import sys\n",
    "import json\n",
    "import platform\n",
    "import socket\n",
    "from scipy.stats import pearsonr\n",
    "from scipy.stats import spearmanr\n",
    "from scipy import stats\n"
   ]
  },
  {
   "cell_type": "code",
   "execution_count": 2,
   "metadata": {},
   "outputs": [],
   "source": [
    "# parameters\n",
    "# -----------------------------------------------------------------------------\n",
    "MANUALLY_EXCLUDE_SUBJECTS = []\n",
    "\n",
    "running_on = 'server' if 'Linux' in platform.system() else 'my_mac'\n",
    "\n",
    "if running_on == 'my_mac':\n",
    "    data_path = '/Users/ranigera/Dropbox/DTI_tests'\n",
    "    preproc_path = '/Users/ranigera/Dropbox/DTI_tests/preproc'\n",
    "    dti_path = '/Users/ranigera/Dropbox/DTI_tests/dti'\n",
    "    stats_path = '/Users/ranigera/Dropbox/DTI_tests/stats_alt_reg'\n",
    "    models_path = stats_path + '/models'\n",
    "    launch_files_path = '/Users/ranigera/Dropbox/DTI_analysis/launch_files'\n",
    "else:\n",
    "    data_path = '/export2/DATA/HIS/HIS_server/BIDS'\n",
    "    preproc_path = '/export2/DATA/HIS/HIS_server/analysis/dwi_data/preproc'\n",
    "    dti_path = '/export2/DATA/HIS/HIS_server/analysis/dwi_data/dti'\n",
    "    stats_path = '/export2/DATA/HIS/HIS_server/analysis/dwi_data/stats_alt_reg'\n",
    "    models_path = stats_path + '/models'\n",
    "    launch_files_path = '/export2/DATA/HIS/HIS_server/codes_dwi/launch_files'\n",
    "    behav_data_path = '/export2/DATA/HIS/HIS_server/analysis/behavior_analysis_output/my_databases/txt_data'\n",
    "\n",
    "fmriPrepAnatomyDerivatives_path = data_path + '/derivatives/fmriprep'\n",
    "\n",
    "expectedVolums = {\n",
    "    'AP': 69,\n",
    "    'PA' : 7,\n",
    "    }\n",
    "expectedB0s_indxs = {\n",
    "    'AP_before': [0, 1, 18, 35, 52],\n",
    "    'PA_before': [0, 2, 3, 4, 5, 6],\n",
    "    'AP_after': [0, 1, 18, 35, 52],\n",
    "    'PA_after': [0, 2, 3, 4, 5, 6]\n",
    "    }\n",
    "\n",
    "n_cores_TOPUP = 2\n",
    "\n",
    "# setting EDDY stuff:\n",
    "EDDY_command = 'eddy_openmp' if running_on == 'server' else 'eddy' # for the boost server\n",
    "EDDY_command = 'eddy_cuda10.2' if running_on == 'server' else 'eddy' # for the cheshire server\n",
    "ssh_command_for_cheshire_server = 'ssh shirangera@cheshire.tau.ac.il' if 'boost' in socket.gethostname() else ''\n",
    "\n",
    "n_expected_EDDY_output_files = 13\n",
    "n_cores_EDDY = 4 # relevant only for running using files (currently disabled as I run it on cheshire's GPU)\n",
    "\n",
    "n_expected_DTIFIT_output_files = 10\n",
    "\n",
    "masks_paths = {\n",
    "    'Caudate': '/export2/DATA/HIS/HIS_server/DTI_assitance_files/masks/Harvard-Oxford/CaudateHead_Y-larger-than-1-mask.nii.gz',\n",
    "    'Putamen': '/export2/DATA/HIS/HIS_server/DTI_assitance_files/masks/Harvard-Oxford/Putamen-mask.nii.gz',\n",
    "    'vmPFC':   '/export2/DATA/HIS/HIS_server/DTI_assitance_files/masks/Harvard-Oxford/vmPFC-mask.nii.gz',\n",
    "}"
   ]
  },
  {
   "cell_type": "code",
   "execution_count": 3,
   "metadata": {},
   "outputs": [],
   "source": [
    "# Define functions\n",
    "# -----------------------------------------------------------------------------\n",
    "def createSubjectScansBaseNames(subjFolder, data_path):\n",
    "    sub = int(subjFolder.split(\"-\",1)[1])\n",
    "    group = '1day' if sub < 200 else '3day'\n",
    "    last_sess = group[0]\n",
    "    DWI_path_before = os.path.join(data_path, subjFolder, 'ses-1/dwi/')\n",
    "    DWI_path_after = os.path.join(data_path, subjFolder, f'ses-{last_sess}/dwi/')\n",
    "    scansBaseNames = {\n",
    "        'AP_before': f'{os.path.join(DWI_path_before, \"sub-\" + str(sub) + \"_ses-1_acq-ap_run-01_dwi\")}',\n",
    "        'PA_before' : f'{os.path.join(DWI_path_before, \"sub-\" + str(sub) + \"_ses-1_acq-pa_run-01_dwi\")}',\n",
    "        'AP_after' : f'{os.path.join(DWI_path_after, \"sub-\" + str(sub) + \"_ses-\" + last_sess + \"_acq-ap_run-02_dwi\")}',\n",
    "        'PA_after' : f'{os.path.join(DWI_path_after, \"sub-\" + str(sub) + \"_ses-\" + last_sess + \"_acq-pa_run-02_dwi\")}'\n",
    "        }\n",
    "    return scansBaseNames\n",
    "\n",
    "def get_sub_B0_files(subjFolder, scansBaseNames, B0s_indxs):\n",
    "    sub_B0s_files = []\n",
    "    for scan in scansBaseNames.keys():\n",
    "        for B0ind in B0s_indxs[scan]:\n",
    "            B0_file_name = os.path.join(preproc_path, subjFolder, subjFolder + '_' + scan + \"_b0_volInd-\" + str(B0ind) + \".nii.gz\")\n",
    "            sub_B0s_files.append(B0_file_name)\n",
    "    return sub_B0s_files\n"
   ]
  },
  {
   "cell_type": "code",
   "execution_count": 4,
   "metadata": {},
   "outputs": [
    {
     "name": "stdout",
     "output_type": "stream",
     "text": [
      ">> Get sub folders\n"
     ]
    }
   ],
   "source": [
    "# Get folders and remove excluded subjects\n",
    "# -----------------------------------------------------------------------------\n",
    "print('>> Get sub folders')\n",
    "subjFolders = [el for el in os.listdir(data_path) if 'sub' in el]\n",
    "\n",
    "if running_on == 'my_mac':\n",
    "    print('>> Get exclusion list')\n",
    "    with open('/Users/ranigera/Google_Drive_TAU/Experiments/HIS_STUDY/Analysis/codes/paths_and_vars.py') as txtFile:\n",
    "        txt = txtFile.read()\n",
    "    participantsToExclude = [int(el) for el in txt.split('participantsToExclude = [')[1].split(']')[0].replace('\\n','').replace('\\n','').replace(\"'\",\"\").split(',')]\n",
    "\n",
    "    print('>> Remove sub folders of excluded participants in case they are there')\n",
    "    subjFolders = [el for el in subjFolders if int(el.split('-')[1]) not in participantsToExclude]\n",
    "\n",
    "if MANUALLY_EXCLUDE_SUBJECTS:\n",
    "    subjFolders = [el for el in subjFolders if int(el.split('-')[1]) not in MANUALLY_EXCLUDE_SUBJECTS]\n",
    "    \n",
    "subjFolders.sort()"
   ]
  },
  {
   "cell_type": "markdown",
   "metadata": {},
   "source": [
    "## Check for missing scans or wrong phase encoding directions for ALL SUBJECTS "
   ]
  },
  {
   "cell_type": "code",
   "execution_count": 5,
   "metadata": {},
   "outputs": [
    {
     "name": "stdout",
     "output_type": "stream",
     "text": [
      ">> Verify that all the scans exist and that the phase encoding directions are as they should.\n",
      " *** There is a problem with the scanning directions: /export2/DATA/HIS/HIS_server/BIDS/sub-204/ses-3/dwi/sub-204_ses-3_acq-pa_run-02_dwi.json is defined as j-.\n",
      " *** There is a problem with the scanning directions: /export2/DATA/HIS/HIS_server/BIDS/sub-207/ses-1/dwi/sub-207_ses-1_acq-pa_run-01_dwi.json is defined as j-.\n",
      " *** There is a problem with the scanning directions: /export2/DATA/HIS/HIS_server/BIDS/sub-209/ses-1/dwi/sub-209_ses-1_acq-pa_run-01_dwi.json is defined as j-.\n",
      " *** Scan not found: /export2/DATA/HIS/HIS_server/BIDS/sub-255/ses-1/dwi/sub-255_ses-1_acq-pa_run-01_dwi.json\n",
      " *** Scan not found: /export2/DATA/HIS/HIS_server/BIDS/sub-259/ses-3/dwi/sub-259_ses-3_acq-ap_run-02_dwi.json\n",
      " *** Scan not found: /export2/DATA/HIS/HIS_server/BIDS/sub-259/ses-3/dwi/sub-259_ses-3_acq-pa_run-02_dwi.json\n"
     ]
    }
   ],
   "source": [
    "print ('>> Verify that all the scans exist and that the phase encoding directions are as they should.')\n",
    "subjectsWithAProblem = []\n",
    "for subjFolder in subjFolders:\n",
    "    sub = int(subjFolder.split(\"-\",1)[1])\n",
    "    scansBaseNames = createSubjectScansBaseNames(subjFolder, data_path)\n",
    "    for scan in scansBaseNames.keys():\n",
    "        # print(scansBaseNames[scan] + '.json')\n",
    "        # print(scanData['PhaseEncodingDirection'])\n",
    "        if not os.path.exists(scansBaseNames[scan] + '.json'):\n",
    "            subjectsWithAProblem.append(sub)\n",
    "            print(' *** Scan not found: ' + scansBaseNames[scan] + '.json')\n",
    "            continue\n",
    "        with open(scansBaseNames[scan] + '.json') as json_file:        \n",
    "            scanData = json.load(json_file)\n",
    "            if ('acq-ap_' in scansBaseNames[scan] and scanData['PhaseEncodingDirection'] != 'j-') or \\\n",
    "                ('acq-pa_' in scansBaseNames[scan] and scanData['PhaseEncodingDirection'] != 'j'):\n",
    "                subjectsWithAProblem.append(sub)\n",
    "                print(' *** There is a problem with the scanning directions: ' + scansBaseNames[scan] + '.json is defined as ' + scanData['PhaseEncodingDirection'] + '.')\n",
    "                continue\n",
    "\n",
    "subjectsWithAProblem = list(set(subjectsWithAProblem))\n",
    "subjectsWithAProblem.sort()"
   ]
  },
  {
   "cell_type": "code",
   "execution_count": 6,
   "metadata": {},
   "outputs": [
    {
     "name": "stdout",
     "output_type": "stream",
     "text": [
      ">> Remove subjects with a problem and sort the list\n"
     ]
    }
   ],
   "source": [
    "# Remove subjects with a problem\n",
    "# -----------------------------------------------------------------------------\n",
    "print('>> Remove subjects with a problem and sort the list')\n",
    "subjFolders =[el for el in subjFolders if int(el.split('-')[1]) not in subjectsWithAProblem]\n",
    "subjFolders.sort()"
   ]
  },
  {
   "cell_type": "markdown",
   "metadata": {},
   "source": [
    "### Gather subject folders again based on the dti folders!\n",
    "Make sure that before that you ran DWI_pipeline_noTOPUPpipeline.ipynb to include subject without TOPUP"
   ]
  },
  {
   "cell_type": "code",
   "execution_count": 7,
   "metadata": {},
   "outputs": [
    {
     "name": "stdout",
     "output_type": "stream",
     "text": [
      ">> Get sub folders from the DTI map folder\n"
     ]
    }
   ],
   "source": [
    "print('>> Get sub folders from the DTI map folder')\n",
    "subjFoldersDTI = [el for el in os.listdir(dti_path) if 'sub' in el]\n",
    "subjFoldersDTI.sort()"
   ]
  },
  {
   "cell_type": "code",
   "execution_count": 8,
   "metadata": {},
   "outputs": [
    {
     "data": {
      "text/plain": [
       "121"
      ]
     },
     "execution_count": 8,
     "metadata": {},
     "output_type": "execute_result"
    }
   ],
   "source": [
    "len(subjFoldersDTI)"
   ]
  },
  {
   "cell_type": "markdown",
   "metadata": {},
   "source": [
    "# Statistical Analysis: BETWEEN-GRUOP"
   ]
  },
  {
   "cell_type": "markdown",
   "metadata": {},
   "source": [
    "The analysis is based on this page: https://fsl.fmrib.ox.ac.uk/fsl/fslwiki/GLM#ANOVA:_2-groups.2C_2-levels_per_subject_.282-way_Mixed_Effect_ANOVA.29\n",
    "Specifically:\n",
    "\"Randomise details\n",
    "Due to how the data would need to be permuted, the FEAT model may not be used in randomise. Instead, just as in the paired t-test example, paired differences within-subject would be computed via fslmaths and a two-sample t-test could be used to test whether the run1-run2 difference differed between the two groups.\"\n",
    "\n",
    "Thus the first step (calculating the differenceswithin-subject) is as here: https://fsl.fmrib.ox.ac.uk/fsl/fslwiki/GLM#Single-Group_Paired_Difference_.28Paired_T-Test.29\n",
    "And the second is as here \n"
   ]
  },
  {
   "cell_type": "code",
   "execution_count": 141,
   "metadata": {},
   "outputs": [
    {
     "name": "stdout",
     "output_type": "stream",
     "text": [
      "> Calculate the difference of AFTER minus BEFORE and BEFORE minus AFTER for the MD and FA maps\n"
     ]
    }
   ],
   "source": [
    "print('> Calculate the difference of AFTER minus BEFORE and BEFORE minus AFTER for the MD and FA maps')\n",
    "for subjFolder in subjFoldersDTI:\n",
    "    if not os.path.exists(os.path.join(stats_path, 'MD', f'{subjFolder}_in-MNI_MD_AFTER-minus-BEFORE.nii.gz')) \\\n",
    "    or not os.path.exists(os.path.join(stats_path, 'FA', f'{subjFolder}_in-MNI_FA_AFTER-minus-BEFORE.nii.gz')) \\\n",
    "    or not os.path.exists(os.path.join(stats_path, 'MD', f'{subjFolder}_in-MNI_MD_BEFORE-minus-AFTER.nii.gz')) \\\n",
    "    or not os.path.exists(os.path.join(stats_path, 'FA', f'{subjFolder}_in-MNI_FA_BEFORE-minus-AFTER.nii.gz')):      \n",
    "     \n",
    "        for map_type in ['MD','FA']:          \n",
    "            substraction_command = f\"fslmaths {os.path.join(stats_path, map_type, f'{subjFolder}_in-MNI_{map_type}_after.nii.gz')} -sub {os.path.join(stats_path, map_type, f'{subjFolder}_in-MNI_{map_type}_before.nii.gz')} {os.path.join(stats_path, map_type, f'{subjFolder}_in-MNI_{map_type}_AFTER-minus-BEFORE.nii.gz')}\"\n",
    "            print(substraction_command)\n",
    "            os.system(substraction_command)    \n",
    "            substraction_command2 = f\"fslmaths {os.path.join(stats_path, map_type, f'{subjFolder}_in-MNI_{map_type}_before.nii.gz')} -sub {os.path.join(stats_path, map_type, f'{subjFolder}_in-MNI_{map_type}_after.nii.gz')} {os.path.join(stats_path, map_type, f'{subjFolder}_in-MNI_{map_type}_BEFORE-minus-AFTER.nii.gz')}\"\n",
    "            print(substraction_command2)\n",
    "            os.system(substraction_command2)    "
   ]
  },
  {
   "cell_type": "code",
   "execution_count": 27,
   "metadata": {},
   "outputs": [
    {
     "name": "stdout",
     "output_type": "stream",
     "text": [
      "> Create one file with all subjects of AFTER minus BEFORE and one withh all Before minus AFTER for the MD and FA maps\n",
      "fslmerge -t /export2/DATA/HIS/HIS_server/analysis/dwi_data/stats_alt_reg/MD/ALL_SUBJECTS_AFTER_minus_BEFORE_MD `ls /export2/DATA/HIS/HIS_server/analysis/dwi_data/stats_alt_reg/MD/*in-MNI_MD_AFTER-minus-BEFORE.nii.gz`\n",
      "fslmerge -t /export2/DATA/HIS/HIS_server/analysis/dwi_data/stats_alt_reg/MD/ALL_SUBJECTS_BEFORE_minus_AFTER_MD `ls /export2/DATA/HIS/HIS_server/analysis/dwi_data/stats_alt_reg/MD/*in-MNI_MD_BEFORE-minus-AFTER.nii.gz`\n",
      "fslmerge -t /export2/DATA/HIS/HIS_server/analysis/dwi_data/stats_alt_reg/FA/ALL_SUBJECTS_AFTER_minus_BEFORE_FA `ls /export2/DATA/HIS/HIS_server/analysis/dwi_data/stats_alt_reg/FA/*in-MNI_FA_AFTER-minus-BEFORE.nii.gz`\n",
      "fslmerge -t /export2/DATA/HIS/HIS_server/analysis/dwi_data/stats_alt_reg/FA/ALL_SUBJECTS_BEFORE_minus_AFTER_FA `ls /export2/DATA/HIS/HIS_server/analysis/dwi_data/stats_alt_reg/FA/*in-MNI_FA_BEFORE-minus-AFTER.nii.gz`\n"
     ]
    }
   ],
   "source": [
    "print('> Create one file with all subjects of AFTER minus BEFORE and one withh all Before minus AFTER for the MD and FA maps')\n",
    "for map_type in ['MD','FA']:          \n",
    "    print(f\"fslmerge -t {os.path.join(stats_path, map_type, f'ALL_SUBJECTS_AFTER_minus_BEFORE_{map_type}')} `ls {os.path.join(stats_path, map_type, f'*in-MNI_{map_type}_AFTER-minus-BEFORE.nii.gz')}`\")\n",
    "    os.system(f\"fslmerge -t {os.path.join(stats_path, map_type, f'ALL_SUBJECTS_AFTER_minus_BEFORE_{map_type}')} `ls {os.path.join(stats_path, map_type, f'*in-MNI_{map_type}_AFTER-minus-BEFORE.nii.gz')}`\")\n",
    "    print(f\"fslmerge -t {os.path.join(stats_path, map_type, f'ALL_SUBJECTS_BEFORE_minus_AFTER_{map_type}')} `ls {os.path.join(stats_path, map_type, f'*in-MNI_{map_type}_BEFORE-minus-AFTER.nii.gz')}`\")\n",
    "    os.system(f\"fslmerge -t {os.path.join(stats_path, map_type, f'ALL_SUBJECTS_BEFORE_minus_AFTER_{map_type}')} `ls {os.path.join(stats_path, map_type, f'*in-MNI_{map_type}_BEFORE-minus-AFTER.nii.gz')}`\")"
   ]
  },
  {
   "cell_type": "code",
   "execution_count": 12,
   "metadata": {},
   "outputs": [
    {
     "name": "stdout",
     "output_type": "stream",
     "text": [
      "> Create the between group design matrix (of the calculated differences) - same is unpaired t-test (on the after-before differences)\n"
     ]
    }
   ],
   "source": [
    "print('> Create the between group design matrix (of the calculated differences) - same is unpaired t-test (on the after-before differences)')\n",
    "# # create the folder\n",
    "# try:\n",
    "#     os.makedirs(os.path.join(models_path, 'between_groups'), exist_ok=False)\n",
    "#     print('>> Created folder: ' + os.path.join(models_path, 'between_groups'))\n",
    "# except:\n",
    "#     pass\n",
    "\n",
    "#create the design matrix and contrasts:\n",
    "N_1_day_group = len(set([sub for sub in subjFoldersDTI if int(sub.split('-')[-1])<200]))\n",
    "N_3_day_group = len(set([sub for sub in subjFoldersDTI if int(sub.split('-')[-1])>200]))\n",
    "\n",
    "# print(f\"design_ttest2 {os.path.join(models_path, 'between_groups','design_unpaired_ttest')} {N_1_day_group} {N_3_day_group}\")\n",
    "# os.system(f\"design_ttest2 {os.path.join(models_path, 'between_groups','design_unpaired_ttest')} {N_1_day_group} {N_3_day_group}\")"
   ]
  },
  {
   "cell_type": "markdown",
   "metadata": {},
   "source": [
    "### Settings"
   ]
  },
  {
   "cell_type": "code",
   "execution_count": 10,
   "metadata": {},
   "outputs": [],
   "source": [
    "# Create a binary mask for the clusters:\n",
    "def createBinaryMaskGroupAnalysis(map_type, region, contrast, ReversedSigThresh='0.95'):\n",
    "    print(f'Creating cluster binary mask for between-group analysis:\\n--- contrast: {contrast} | {map_type} | {region} ---\\n')\n",
    "    print(f'fslmaths {os.path.join(stats_path, map_type, f\"ALL_SUBJECTS_AFTER_minus_BEFORE_{map_type}_{region}_clusterm_corrp_tstat{contrast}.nii.gz\")} \\\n",
    "        -thr {ReversedSigThresh} -bin {os.path.join(stats_path, map_type, f\"ALL_SUBJECTS_AFTER_minus_BEFORE_{map_type}_{region}_contrast_{contrast}_bin_mask.nii.gz\")}')\n",
    "    os.system(f'fslmaths {os.path.join(stats_path, map_type, f\"ALL_SUBJECTS_AFTER_minus_BEFORE_{map_type}_{region}_clusterm_corrp_tstat{contrast}.nii.gz\")} \\\n",
    "        -thr {ReversedSigThresh} -bin {os.path.join(stats_path, map_type, f\"ALL_SUBJECTS_AFTER_minus_BEFORE_{map_type}_{region}_contrast_{contrast}_bin_mask.nii.gz\")}')\n",
    "    # create also a t-stat of the significant cluster:\n",
    "    print(f'fslmaths {os.path.join(stats_path, map_type, f\"ALL_SUBJECTS_AFTER_minus_BEFORE_{map_type}_{region}_tstat{contrast}.nii.gz\")} \\\n",
    "        -mul {os.path.join(stats_path, map_type, f\"ALL_SUBJECTS_AFTER_minus_BEFORE_{map_type}_{region}_contrast_{contrast}_bin_mask.nii.gz\")} \\\n",
    "            {os.path.join(stats_path, map_type, f\"ALL_SUBJECTS_AFTER_minus_BEFORE_{map_type}_{region}_tstat{contrast}_in_sig_cluster.nii.gz\")}')\n",
    "    os.system(f'fslmaths {os.path.join(stats_path, map_type, f\"ALL_SUBJECTS_AFTER_minus_BEFORE_{map_type}_{region}_tstat{contrast}.nii.gz\")} \\\n",
    "        -mul {os.path.join(stats_path, map_type, f\"ALL_SUBJECTS_AFTER_minus_BEFORE_{map_type}_{region}_contrast_{contrast}_bin_mask.nii.gz\")} \\\n",
    "            {os.path.join(stats_path, map_type, f\"ALL_SUBJECTS_AFTER_minus_BEFORE_{map_type}_{region}_tstat{contrast}_in_sig_cluster.nii.gz\")}')\n",
    "\n",
    "\n",
    "# gte mean value of the cluster using the binary mask:\n",
    "def getMeanClusterValueGroupAnalysis(map_type, region, contrast):\n",
    "    print(f'Getting mean values of the cluster for between-group analysis:\\n--- contrast: {contrast} | {map_type} | {region} ---\\n')\n",
    "    print(f'fslstats -t {os.path.join(stats_path, map_type, f\"ALL_SUBJECTS_AFTER_minus_BEFORE_{map_type}.nii.gz\")} \\\n",
    "        -k {os.path.join(stats_path, map_type, f\"ALL_SUBJECTS_AFTER_minus_BEFORE_{map_type}_{region}_contrast_{contrast}_bin_mask.nii.gz\")} -M')\n",
    "    avgs=os.popen(f'fslstats -t {os.path.join(stats_path, map_type, f\"ALL_SUBJECTS_AFTER_minus_BEFORE_{map_type}.nii.gz\")} \\\n",
    "        -k {os.path.join(stats_path, map_type, f\"ALL_SUBJECTS_AFTER_minus_BEFORE_{map_type}_{region}_contrast_{contrast}_bin_mask.nii.gz\")} -M').read()\n",
    "    return [float(i) for i in avgs.split(' \\n')[:-1]]"
   ]
  },
  {
   "cell_type": "markdown",
   "metadata": {},
   "source": [
    "### vmPFC - MD"
   ]
  },
  {
   "cell_type": "code",
   "execution_count": 13,
   "metadata": {},
   "outputs": [
    {
     "name": "stdout",
     "output_type": "stream",
     "text": [
      "Creating cluster binary mask for between-group analysis:\n",
      "--- contrast: 2 | MD | vmPFC ---\n",
      "\n",
      "fslmaths /export2/DATA/HIS/HIS_server/analysis/dwi_data/stats_alt_reg/MD/ALL_SUBJECTS_AFTER_minus_BEFORE_MD_vmPFC_clusterm_corrp_tstat2.nii.gz         -thr 0.95 -bin /export2/DATA/HIS/HIS_server/analysis/dwi_data/stats_alt_reg/MD/ALL_SUBJECTS_AFTER_minus_BEFORE_MD_vmPFC_contrast_2_bin_mask.nii.gz\n",
      "fslmaths /export2/DATA/HIS/HIS_server/analysis/dwi_data/stats_alt_reg/MD/ALL_SUBJECTS_AFTER_minus_BEFORE_MD_vmPFC_tstat2.nii.gz         -mul /export2/DATA/HIS/HIS_server/analysis/dwi_data/stats_alt_reg/MD/ALL_SUBJECTS_AFTER_minus_BEFORE_MD_vmPFC_contrast_2_bin_mask.nii.gz             /export2/DATA/HIS/HIS_server/analysis/dwi_data/stats_alt_reg/MD/ALL_SUBJECTS_AFTER_minus_BEFORE_MD_vmPFC_tstat2_in_sig_cluster.nii.gz\n",
      "Getting mean values of the cluster for between-group analysis:\n",
      "--- contrast: 2 | MD | vmPFC ---\n",
      "\n",
      "fslstats -t /export2/DATA/HIS/HIS_server/analysis/dwi_data/stats_alt_reg/MD/ALL_SUBJECTS_AFTER_minus_BEFORE_MD.nii.gz         -k /export2/DATA/HIS/HIS_server/analysis/dwi_data/stats_alt_reg/MD/ALL_SUBJECTS_AFTER_minus_BEFORE_MD_vmPFC_contrast_2_bin_mask.nii.gz -M\n"
     ]
    }
   ],
   "source": [
    "createBinaryMaskGroupAnalysis('MD', 'vmPFC', 2, ReversedSigThresh='0.95')\n",
    "change_in_MD_long_vmPFC=getMeanClusterValueGroupAnalysis('MD', 'vmPFC', 2)\n",
    "\n",
    "# create a dataframe from lists:\n",
    "change_in_MD_vmPFC = pd.DataFrame([[int(sub.split('-')[-1]) for sub in subjFoldersDTI], ['Short' for i in range(N_1_day_group)] + ['Extensive' for i in range(N_3_day_group)], change_in_MD_long_vmPFC]).T\n",
    "change_in_MD_vmPFC.columns = ['subID', 'group', 'change_in_MD_vmPFC']\n"
   ]
  },
  {
   "cell_type": "code",
   "execution_count": 14,
   "metadata": {},
   "outputs": [
    {
     "data": {
      "image/png": "[encoded data removed]",
      "text/plain": [
       "<Figure size 576x720 with 1 Axes>"
      ]
     },
     "metadata": {},
     "output_type": "display_data"
    }
   ],
   "source": [
    "sns.set(font_scale = 2)\n",
    "sns.set_style(\"whitegrid\")\n",
    "fig, axs = plt.subplots(ncols=1,figsize=(8,10))\n",
    "sns.stripplot(x=\"group\", y=\"change_in_MD_vmPFC\", data=change_in_MD_vmPFC, ax=axs, zorder=2, alpha= 0.5)\n",
    "sns.barplot(x=\"group\", y=\"change_in_MD_vmPFC\", data=change_in_MD_vmPFC, ci=68, ax=axs,alpha=0.5, zorder=2, capsize=0.1)\n",
    "axs.set(xlabel='Training group', ylabel='Change in MD [after - before]')\n",
    "axs.xaxis.grid()\n",
    "\n"
   ]
  },
  {
   "cell_type": "code",
   "execution_count": 259,
   "metadata": {},
   "outputs": [
    {
     "data": {
      "image/png": "[encoded data removed]",
      "text/plain": [
       "<Figure size 576x720 with 1 Axes>"
      ]
     },
     "metadata": {},
     "output_type": "display_data"
    }
   ],
   "source": [
    "sns.set(font_scale = 2)\n",
    "sns.set_style(\"whitegrid\")\n",
    "fig, axs = plt.subplots(ncols=1,figsize=(8,10))\n",
    "sns.stripplot(x=\"group\", y=\"change_in_MD_vmPFC\", data=change_in_MD_vmPFC, ax=axs, zorder=2, alpha= 0.5)\n",
    "sns.barplot(x=\"group\", y=\"change_in_MD_vmPFC\", data=change_in_MD_vmPFC, ci=68, ax=axs,alpha=0.5, zorder=2, capsize=0.1)\n",
    "axs.set(xlabel='Training group', ylabel='Change in MD [after - before]')\n",
    "axs.xaxis.grid()\n",
    "\n"
   ]
  },
  {
   "cell_type": "markdown",
   "metadata": {},
   "source": []
  },
  {
   "cell_type": "code",
   "execution_count": 219,
   "metadata": {},
   "outputs": [
    {
     "name": "stdout",
     "output_type": "stream",
     "text": [
      "-5.075650299336278 1.4946169080794097e-06\n"
     ]
    }
   ],
   "source": [
    "# two group t-test:\n",
    "t, p = stats.ttest_ind(change_in_MD_vmPFC[change_in_MD_vmPFC.group=='Short'].change_in_MD_vmPFC, change_in_MD_vmPFC[change_in_MD_vmPFC.group=='Extensive'].change_in_MD_vmPFC, equal_var=False)\n",
    "print(t,p)"
   ]
  },
  {
   "cell_type": "markdown",
   "metadata": {},
   "source": [
    "# *-*-*-*-*-*-*-*-*-*-*-*-*-*-*-*-*-*-*-*-*-*-*-*-*-*"
   ]
  },
  {
   "cell_type": "markdown",
   "metadata": {},
   "source": [
    "# Statistics - individual differences"
   ]
  },
  {
   "cell_type": "markdown",
   "metadata": {},
   "source": [
    "### Create the habit index csv file (by running a dedicated matlab folder)\n"
   ]
  },
  {
   "cell_type": "code",
   "execution_count": 62,
   "metadata": {},
   "outputs": [
    {
     "name": "stdout",
     "output_type": "stream",
     "text": [
      "MATLAB is selecting SOFTWARE OPENGL rendering.\n",
      "\u001b[?1h\u001b=\n",
      "                            < M A T L A B (R) >\n",
      "                  Copyright 1984-2020 The MathWorks, Inc.\n",
      "                  R2020a (9.8.0.1323502) 64-bit (glnxa64)\n",
      "                             February 25, 2020\n",
      "\n",
      " \n",
      "To get started, type doc.\n",
      "For product information, visit www.mathworks.com.\n",
      " \n",
      "** CREATED new habit index file **\n",
      "\u001b[?1l\u001b>"
     ]
    }
   ],
   "source": [
    "# Create the habit index csv file (by running a dedicated matlab folder)\n",
    "!matlab -nodesktop -nosplash -r \"run('/export2/DATA/HIS/HIS_server/codes/create_HABIT_INDEX_table')\";"
   ]
  },
  {
   "cell_type": "markdown",
   "metadata": {},
   "source": [
    "### Prepare and arrange the behavioral data and DTI folder data for all together and for each group seperately"
   ]
  },
  {
   "cell_type": "code",
   "execution_count": 9,
   "metadata": {},
   "outputs": [],
   "source": [
    "# First, create subjects list folder for each group:\n",
    "subjFoldersDTI_short = [sub for sub in subjFoldersDTI if int(sub.split('-')[-1])<200]\n",
    "subjFoldersDTI_long = [sub for sub in subjFoldersDTI if int(sub.split('-')[-1])>200]\n",
    "\n",
    "# Get the behavioral data:\n",
    "behav_all = pd.read_csv(os.path.join(behav_data_path, 'habitIndex_ALL.csv'))\n",
    "# remove subjects that don't have DTI data\n",
    "absent_from_DTI_data = [sub for sub in behav_all.subID if 'sub-' + str(sub) not in subjFoldersDTI]\n",
    "behav_all = behav_all[~behav_all.subID.isin(absent_from_DTI_data)]\n",
    "# now make sure that subject lists are matching:\n",
    "if not ['sub-' + str(sub) for sub in behav_all.subID] == subjFoldersDTI:\n",
    "    raise Exception('Subject lists are not matching')\n",
    "\n",
    "# Repeat for the long training groups:\n",
    "behav_long = pd.read_csv(os.path.join(behav_data_path, 'habitIndex_LONG.csv'))\n",
    "# remove subjects that don't have DTI data\n",
    "absent_from_DTI_data = [sub for sub in behav_long.subID if 'sub-' + str(sub) not in subjFoldersDTI_long]\n",
    "behav_long = behav_long[~behav_long.subID.isin(absent_from_DTI_data)]\n",
    "# now make sure that subject lists are matching:\n",
    "if not ['sub-' + str(sub) for sub in behav_long.subID] == subjFoldersDTI_long:\n",
    "    raise Exception('Subject lists are not matching')\n",
    "    \n",
    "# Repeat for the short training groups:\n",
    "behav_short = pd.read_csv(os.path.join(behav_data_path, 'habitIndex_SHORT.csv'))\n",
    "behav_short = behav_short[behav_short.subID != 159] # ******************************* testing something without this subject\n",
    "subjFoldersDTI_short = [sub for sub in subjFoldersDTI_short if sub != 'sub-159'] # ******************************* testing something without this subject\n",
    "# remove subjects that don't have DTI data\n",
    "absent_from_DTI_data = [sub for sub in behav_short.subID if 'sub-' + str(sub) not in subjFoldersDTI_short]\n",
    "behav_short = behav_short[~behav_short.subID.isin(absent_from_DTI_data)]\n",
    "# now make sure that subject lists are matching:\n",
    "if not ['sub-' + str(sub) for sub in behav_short.subID] == subjFoldersDTI_short:\n",
    "    raise Exception('Subject lists are not matching')\n",
    "\n"
   ]
  },
  {
   "cell_type": "code",
   "execution_count": 10,
   "metadata": {},
   "outputs": [
    {
     "data": {
      "text/plain": [
       "60"
      ]
     },
     "execution_count": 10,
     "metadata": {},
     "output_type": "execute_result"
    }
   ],
   "source": [
    "len(behav_short)"
   ]
  },
  {
   "cell_type": "markdown",
   "metadata": {},
   "source": [
    "### prepare the design matrix"
   ]
  },
  {
   "cell_type": "code",
   "execution_count": 97,
   "metadata": {},
   "outputs": [
    {
     "name": "stdout",
     "output_type": "stream",
     "text": [
      "> Create the individual differences design matrix\n",
      "Text2Vest /export2/DATA/HIS/HIS_server/analysis/dwi_data/stats_alt_reg/models/individual_differences/design_indivdual_diff_LONG_temp.mat /export2/DATA/HIS/HIS_server/analysis/dwi_data/stats_alt_reg/models/individual_differences/design_indivdual_diff_LONG.mat\n",
      "Text2Vest /export2/DATA/HIS/HIS_server/analysis/dwi_data/stats_alt_reg/models/individual_differences/design_indivdual_diff_SHORT_temp.mat /export2/DATA/HIS/HIS_server/analysis/dwi_data/stats_alt_reg/models/individual_differences/design_indivdual_diff_SHORT.mat\n",
      "Text2Vest /export2/DATA/HIS/HIS_server/analysis/dwi_data/stats_alt_reg/models/individual_differences/design_indivdual_diff_temp.mat /export2/DATA/HIS/HIS_server/analysis/dwi_data/stats_alt_reg/models/individual_differences/design_indivdual_diff.con\n"
     ]
    }
   ],
   "source": [
    "print('> Create the individual differences design matrix')\n",
    "# define file names:\n",
    "design_indiv_diff_LONG = os.path.join(models_path, 'individual_differences', 'design_indivdual_diff_LONG.mat')\n",
    "design_indiv_diff_SHORT = os.path.join(models_path, 'individual_differences', 'design_indivdual_diff_SHORT.mat')\n",
    "contrasts_indiv_diff = os.path.join(models_path, 'individual_differences', 'design_indivdual_diff.con')\n",
    "\n",
    "# create the folder\n",
    "try:\n",
    "    os.makedirs(os.path.join(models_path, 'individual_differences'), exist_ok=False)\n",
    "    print('>> Created folder: ' + os.path.join(models_path, 'individual_differences'))\n",
    "except:\n",
    "    pass\n",
    "\n",
    "# write the design matrix files:\n",
    "behav_long.habit_index_mean_centered.to_csv(f\"{design_indiv_diff_LONG.split('.')[0]}_temp.mat\", index=False, header=False)\n",
    "behav_short.habit_index_mean_centered.to_csv(f\"{design_indiv_diff_SHORT.split('.')[0]}_temp.mat\", index=False, header=False)\n",
    "\n",
    "# write the contrast file:\n",
    "with open(f\"{contrasts_indiv_diff.split('.')[0]}_temp.mat\", 'w') as f:\n",
    "    f.write('1\\n-1\\n')\n",
    "\n",
    "# use the fsl command Text2Vect to make the design files good for randomise:\n",
    "print(f\"Text2Vest {design_indiv_diff_LONG.split('.')[0]}_temp.mat {design_indiv_diff_LONG}\")\n",
    "os.system(f\"Text2Vest {design_indiv_diff_LONG.split('.')[0]}_temp.mat {design_indiv_diff_LONG}\")\n",
    "print(f\"Text2Vest {design_indiv_diff_SHORT.split('.')[0]}_temp.mat {design_indiv_diff_SHORT}\")\n",
    "os.system(f\"Text2Vest {design_indiv_diff_SHORT.split('.')[0]}_temp.mat {design_indiv_diff_SHORT}\")\n",
    "print(f\"Text2Vest {contrasts_indiv_diff.split('.')[0]}_temp.mat {contrasts_indiv_diff}\")\n",
    "os.system(f\"Text2Vest {contrasts_indiv_diff.split('.')[0]}_temp.mat {contrasts_indiv_diff}\")\n",
    "\n",
    "# finally, remove the temporary files:\n",
    "os.remove(f\"{design_indiv_diff_LONG.split('.')[0]}_temp.mat\")\n",
    "os.remove(f\"{design_indiv_diff_SHORT.split('.')[0]}_temp.mat\")\n",
    "os.remove(f\"{contrasts_indiv_diff.split('.')[0]}_temp.mat\")"
   ]
  },
  {
   "cell_type": "markdown",
   "metadata": {},
   "source": [
    "### Create one file with each group's participants together"
   ]
  },
  {
   "cell_type": "code",
   "execution_count": 98,
   "metadata": {},
   "outputs": [
    {
     "name": "stdout",
     "output_type": "stream",
     "text": [
      "fslmerge -t /export2/DATA/HIS/HIS_server/analysis/dwi_data/stats_alt_reg/MD/LONG_individualDiff_AFTER_minus_BEFORE_MD /export2/DATA/HIS/HIS_server/analysis/dwi_data/stats_alt_reg/MD/sub-204_in-MNI_MD_AFTER-minus-BEFORE.nii.gz /export2/DATA/HIS/HIS_server/analysis/dwi_data/stats_alt_reg/MD/sub-205_in-MNI_MD_AFTER-minus-BEFORE.nii.gz /export2/DATA/HIS/HIS_server/analysis/dwi_data/stats_alt_reg/MD/sub-207_in-MNI_MD_AFTER-minus-BEFORE.nii.gz /export2/DATA/HIS/HIS_server/analysis/dwi_data/stats_alt_reg/MD/sub-208_in-MNI_MD_AFTER-minus-BEFORE.nii.gz /export2/DATA/HIS/HIS_server/analysis/dwi_data/stats_alt_reg/MD/sub-209_in-MNI_MD_AFTER-minus-BEFORE.nii.gz /export2/DATA/HIS/HIS_server/analysis/dwi_data/stats_alt_reg/MD/sub-210_in-MNI_MD_AFTER-minus-BEFORE.nii.gz /export2/DATA/HIS/HIS_server/analysis/dwi_data/stats_alt_reg/MD/sub-212_in-MNI_MD_AFTER-minus-BEFORE.nii.gz /export2/DATA/HIS/HIS_server/analysis/dwi_data/stats_alt_reg/MD/sub-214_in-MNI_MD_AFTER-minus-BEFORE.nii.gz /export2/DATA/HIS/HIS_server/analysis/dwi_data/stats_alt_reg/MD/sub-215_in-MNI_MD_AFTER-minus-BEFORE.nii.gz /export2/DATA/HIS/HIS_server/analysis/dwi_data/stats_alt_reg/MD/sub-217_in-MNI_MD_AFTER-minus-BEFORE.nii.gz /export2/DATA/HIS/HIS_server/analysis/dwi_data/stats_alt_reg/MD/sub-218_in-MNI_MD_AFTER-minus-BEFORE.nii.gz /export2/DATA/HIS/HIS_server/analysis/dwi_data/stats_alt_reg/MD/sub-220_in-MNI_MD_AFTER-minus-BEFORE.nii.gz /export2/DATA/HIS/HIS_server/analysis/dwi_data/stats_alt_reg/MD/sub-221_in-MNI_MD_AFTER-minus-BEFORE.nii.gz /export2/DATA/HIS/HIS_server/analysis/dwi_data/stats_alt_reg/MD/sub-223_in-MNI_MD_AFTER-minus-BEFORE.nii.gz /export2/DATA/HIS/HIS_server/analysis/dwi_data/stats_alt_reg/MD/sub-224_in-MNI_MD_AFTER-minus-BEFORE.nii.gz /export2/DATA/HIS/HIS_server/analysis/dwi_data/stats_alt_reg/MD/sub-225_in-MNI_MD_AFTER-minus-BEFORE.nii.gz /export2/DATA/HIS/HIS_server/analysis/dwi_data/stats_alt_reg/MD/sub-227_in-MNI_MD_AFTER-minus-BEFORE.nii.gz /export2/DATA/HIS/HIS_server/analysis/dwi_data/stats_alt_reg/MD/sub-229_in-MNI_MD_AFTER-minus-BEFORE.nii.gz /export2/DATA/HIS/HIS_server/analysis/dwi_data/stats_alt_reg/MD/sub-230_in-MNI_MD_AFTER-minus-BEFORE.nii.gz /export2/DATA/HIS/HIS_server/analysis/dwi_data/stats_alt_reg/MD/sub-232_in-MNI_MD_AFTER-minus-BEFORE.nii.gz /export2/DATA/HIS/HIS_server/analysis/dwi_data/stats_alt_reg/MD/sub-234_in-MNI_MD_AFTER-minus-BEFORE.nii.gz /export2/DATA/HIS/HIS_server/analysis/dwi_data/stats_alt_reg/MD/sub-235_in-MNI_MD_AFTER-minus-BEFORE.nii.gz /export2/DATA/HIS/HIS_server/analysis/dwi_data/stats_alt_reg/MD/sub-238_in-MNI_MD_AFTER-minus-BEFORE.nii.gz /export2/DATA/HIS/HIS_server/analysis/dwi_data/stats_alt_reg/MD/sub-239_in-MNI_MD_AFTER-minus-BEFORE.nii.gz /export2/DATA/HIS/HIS_server/analysis/dwi_data/stats_alt_reg/MD/sub-240_in-MNI_MD_AFTER-minus-BEFORE.nii.gz /export2/DATA/HIS/HIS_server/analysis/dwi_data/stats_alt_reg/MD/sub-241_in-MNI_MD_AFTER-minus-BEFORE.nii.gz /export2/DATA/HIS/HIS_server/analysis/dwi_data/stats_alt_reg/MD/sub-242_in-MNI_MD_AFTER-minus-BEFORE.nii.gz /export2/DATA/HIS/HIS_server/analysis/dwi_data/stats_alt_reg/MD/sub-243_in-MNI_MD_AFTER-minus-BEFORE.nii.gz /export2/DATA/HIS/HIS_server/analysis/dwi_data/stats_alt_reg/MD/sub-245_in-MNI_MD_AFTER-minus-BEFORE.nii.gz /export2/DATA/HIS/HIS_server/analysis/dwi_data/stats_alt_reg/MD/sub-247_in-MNI_MD_AFTER-minus-BEFORE.nii.gz /export2/DATA/HIS/HIS_server/analysis/dwi_data/stats_alt_reg/MD/sub-248_in-MNI_MD_AFTER-minus-BEFORE.nii.gz /export2/DATA/HIS/HIS_server/analysis/dwi_data/stats_alt_reg/MD/sub-249_in-MNI_MD_AFTER-minus-BEFORE.nii.gz /export2/DATA/HIS/HIS_server/analysis/dwi_data/stats_alt_reg/MD/sub-251_in-MNI_MD_AFTER-minus-BEFORE.nii.gz /export2/DATA/HIS/HIS_server/analysis/dwi_data/stats_alt_reg/MD/sub-252_in-MNI_MD_AFTER-minus-BEFORE.nii.gz /export2/DATA/HIS/HIS_server/analysis/dwi_data/stats_alt_reg/MD/sub-254_in-MNI_MD_AFTER-minus-BEFORE.nii.gz /export2/DATA/HIS/HIS_server/analysis/dwi_data/stats_alt_reg/MD/sub-255_in-MNI_MD_AFTER-minus-BEFORE.nii.gz /export2/DATA/HIS/HIS_server/analysis/dwi_data/stats_alt_reg/MD/sub-257_in-MNI_MD_AFTER-minus-BEFORE.nii.gz /export2/DATA/HIS/HIS_server/analysis/dwi_data/stats_alt_reg/MD/sub-258_in-MNI_MD_AFTER-minus-BEFORE.nii.gz /export2/DATA/HIS/HIS_server/analysis/dwi_data/stats_alt_reg/MD/sub-260_in-MNI_MD_AFTER-minus-BEFORE.nii.gz /export2/DATA/HIS/HIS_server/analysis/dwi_data/stats_alt_reg/MD/sub-261_in-MNI_MD_AFTER-minus-BEFORE.nii.gz /export2/DATA/HIS/HIS_server/analysis/dwi_data/stats_alt_reg/MD/sub-262_in-MNI_MD_AFTER-minus-BEFORE.nii.gz /export2/DATA/HIS/HIS_server/analysis/dwi_data/stats_alt_reg/MD/sub-263_in-MNI_MD_AFTER-minus-BEFORE.nii.gz /export2/DATA/HIS/HIS_server/analysis/dwi_data/stats_alt_reg/MD/sub-264_in-MNI_MD_AFTER-minus-BEFORE.nii.gz /export2/DATA/HIS/HIS_server/analysis/dwi_data/stats_alt_reg/MD/sub-265_in-MNI_MD_AFTER-minus-BEFORE.nii.gz /export2/DATA/HIS/HIS_server/analysis/dwi_data/stats_alt_reg/MD/sub-267_in-MNI_MD_AFTER-minus-BEFORE.nii.gz /export2/DATA/HIS/HIS_server/analysis/dwi_data/stats_alt_reg/MD/sub-268_in-MNI_MD_AFTER-minus-BEFORE.nii.gz /export2/DATA/HIS/HIS_server/analysis/dwi_data/stats_alt_reg/MD/sub-269_in-MNI_MD_AFTER-minus-BEFORE.nii.gz /export2/DATA/HIS/HIS_server/analysis/dwi_data/stats_alt_reg/MD/sub-270_in-MNI_MD_AFTER-minus-BEFORE.nii.gz /export2/DATA/HIS/HIS_server/analysis/dwi_data/stats_alt_reg/MD/sub-271_in-MNI_MD_AFTER-minus-BEFORE.nii.gz /export2/DATA/HIS/HIS_server/analysis/dwi_data/stats_alt_reg/MD/sub-272_in-MNI_MD_AFTER-minus-BEFORE.nii.gz /export2/DATA/HIS/HIS_server/analysis/dwi_data/stats_alt_reg/MD/sub-275_in-MNI_MD_AFTER-minus-BEFORE.nii.gz /export2/DATA/HIS/HIS_server/analysis/dwi_data/stats_alt_reg/MD/sub-276_in-MNI_MD_AFTER-minus-BEFORE.nii.gz /export2/DATA/HIS/HIS_server/analysis/dwi_data/stats_alt_reg/MD/sub-277_in-MNI_MD_AFTER-minus-BEFORE.nii.gz /export2/DATA/HIS/HIS_server/analysis/dwi_data/stats_alt_reg/MD/sub-278_in-MNI_MD_AFTER-minus-BEFORE.nii.gz /export2/DATA/HIS/HIS_server/analysis/dwi_data/stats_alt_reg/MD/sub-280_in-MNI_MD_AFTER-minus-BEFORE.nii.gz /export2/DATA/HIS/HIS_server/analysis/dwi_data/stats_alt_reg/MD/sub-281_in-MNI_MD_AFTER-minus-BEFORE.nii.gz /export2/DATA/HIS/HIS_server/analysis/dwi_data/stats_alt_reg/MD/sub-282_in-MNI_MD_AFTER-minus-BEFORE.nii.gz /export2/DATA/HIS/HIS_server/analysis/dwi_data/stats_alt_reg/MD/sub-283_in-MNI_MD_AFTER-minus-BEFORE.nii.gz /export2/DATA/HIS/HIS_server/analysis/dwi_data/stats_alt_reg/MD/sub-284_in-MNI_MD_AFTER-minus-BEFORE.nii.gz /export2/DATA/HIS/HIS_server/analysis/dwi_data/stats_alt_reg/MD/sub-285_in-MNI_MD_AFTER-minus-BEFORE.nii.gz\n",
      "fslmerge -t /export2/DATA/HIS/HIS_server/analysis/dwi_data/stats_alt_reg/MD/SHORT_individualDiff_AFTER_minus_BEFORE_MD /export2/DATA/HIS/HIS_server/analysis/dwi_data/stats_alt_reg/MD/sub-103_in-MNI_MD_AFTER-minus-BEFORE.nii.gz /export2/DATA/HIS/HIS_server/analysis/dwi_data/stats_alt_reg/MD/sub-104_in-MNI_MD_AFTER-minus-BEFORE.nii.gz /export2/DATA/HIS/HIS_server/analysis/dwi_data/stats_alt_reg/MD/sub-106_in-MNI_MD_AFTER-minus-BEFORE.nii.gz /export2/DATA/HIS/HIS_server/analysis/dwi_data/stats_alt_reg/MD/sub-107_in-MNI_MD_AFTER-minus-BEFORE.nii.gz /export2/DATA/HIS/HIS_server/analysis/dwi_data/stats_alt_reg/MD/sub-108_in-MNI_MD_AFTER-minus-BEFORE.nii.gz /export2/DATA/HIS/HIS_server/analysis/dwi_data/stats_alt_reg/MD/sub-110_in-MNI_MD_AFTER-minus-BEFORE.nii.gz /export2/DATA/HIS/HIS_server/analysis/dwi_data/stats_alt_reg/MD/sub-113_in-MNI_MD_AFTER-minus-BEFORE.nii.gz /export2/DATA/HIS/HIS_server/analysis/dwi_data/stats_alt_reg/MD/sub-114_in-MNI_MD_AFTER-minus-BEFORE.nii.gz /export2/DATA/HIS/HIS_server/analysis/dwi_data/stats_alt_reg/MD/sub-115_in-MNI_MD_AFTER-minus-BEFORE.nii.gz /export2/DATA/HIS/HIS_server/analysis/dwi_data/stats_alt_reg/MD/sub-117_in-MNI_MD_AFTER-minus-BEFORE.nii.gz /export2/DATA/HIS/HIS_server/analysis/dwi_data/stats_alt_reg/MD/sub-118_in-MNI_MD_AFTER-minus-BEFORE.nii.gz /export2/DATA/HIS/HIS_server/analysis/dwi_data/stats_alt_reg/MD/sub-119_in-MNI_MD_AFTER-minus-BEFORE.nii.gz /export2/DATA/HIS/HIS_server/analysis/dwi_data/stats_alt_reg/MD/sub-120_in-MNI_MD_AFTER-minus-BEFORE.nii.gz /export2/DATA/HIS/HIS_server/analysis/dwi_data/stats_alt_reg/MD/sub-121_in-MNI_MD_AFTER-minus-BEFORE.nii.gz /export2/DATA/HIS/HIS_server/analysis/dwi_data/stats_alt_reg/MD/sub-122_in-MNI_MD_AFTER-minus-BEFORE.nii.gz /export2/DATA/HIS/HIS_server/analysis/dwi_data/stats_alt_reg/MD/sub-124_in-MNI_MD_AFTER-minus-BEFORE.nii.gz /export2/DATA/HIS/HIS_server/analysis/dwi_data/stats_alt_reg/MD/sub-126_in-MNI_MD_AFTER-minus-BEFORE.nii.gz /export2/DATA/HIS/HIS_server/analysis/dwi_data/stats_alt_reg/MD/sub-127_in-MNI_MD_AFTER-minus-BEFORE.nii.gz /export2/DATA/HIS/HIS_server/analysis/dwi_data/stats_alt_reg/MD/sub-128_in-MNI_MD_AFTER-minus-BEFORE.nii.gz /export2/DATA/HIS/HIS_server/analysis/dwi_data/stats_alt_reg/MD/sub-129_in-MNI_MD_AFTER-minus-BEFORE.nii.gz /export2/DATA/HIS/HIS_server/analysis/dwi_data/stats_alt_reg/MD/sub-130_in-MNI_MD_AFTER-minus-BEFORE.nii.gz /export2/DATA/HIS/HIS_server/analysis/dwi_data/stats_alt_reg/MD/sub-131_in-MNI_MD_AFTER-minus-BEFORE.nii.gz /export2/DATA/HIS/HIS_server/analysis/dwi_data/stats_alt_reg/MD/sub-133_in-MNI_MD_AFTER-minus-BEFORE.nii.gz /export2/DATA/HIS/HIS_server/analysis/dwi_data/stats_alt_reg/MD/sub-135_in-MNI_MD_AFTER-minus-BEFORE.nii.gz /export2/DATA/HIS/HIS_server/analysis/dwi_data/stats_alt_reg/MD/sub-137_in-MNI_MD_AFTER-minus-BEFORE.nii.gz /export2/DATA/HIS/HIS_server/analysis/dwi_data/stats_alt_reg/MD/sub-138_in-MNI_MD_AFTER-minus-BEFORE.nii.gz /export2/DATA/HIS/HIS_server/analysis/dwi_data/stats_alt_reg/MD/sub-139_in-MNI_MD_AFTER-minus-BEFORE.nii.gz /export2/DATA/HIS/HIS_server/analysis/dwi_data/stats_alt_reg/MD/sub-140_in-MNI_MD_AFTER-minus-BEFORE.nii.gz /export2/DATA/HIS/HIS_server/analysis/dwi_data/stats_alt_reg/MD/sub-141_in-MNI_MD_AFTER-minus-BEFORE.nii.gz /export2/DATA/HIS/HIS_server/analysis/dwi_data/stats_alt_reg/MD/sub-142_in-MNI_MD_AFTER-minus-BEFORE.nii.gz /export2/DATA/HIS/HIS_server/analysis/dwi_data/stats_alt_reg/MD/sub-143_in-MNI_MD_AFTER-minus-BEFORE.nii.gz /export2/DATA/HIS/HIS_server/analysis/dwi_data/stats_alt_reg/MD/sub-144_in-MNI_MD_AFTER-minus-BEFORE.nii.gz /export2/DATA/HIS/HIS_server/analysis/dwi_data/stats_alt_reg/MD/sub-145_in-MNI_MD_AFTER-minus-BEFORE.nii.gz /export2/DATA/HIS/HIS_server/analysis/dwi_data/stats_alt_reg/MD/sub-146_in-MNI_MD_AFTER-minus-BEFORE.nii.gz /export2/DATA/HIS/HIS_server/analysis/dwi_data/stats_alt_reg/MD/sub-147_in-MNI_MD_AFTER-minus-BEFORE.nii.gz /export2/DATA/HIS/HIS_server/analysis/dwi_data/stats_alt_reg/MD/sub-148_in-MNI_MD_AFTER-minus-BEFORE.nii.gz /export2/DATA/HIS/HIS_server/analysis/dwi_data/stats_alt_reg/MD/sub-149_in-MNI_MD_AFTER-minus-BEFORE.nii.gz /export2/DATA/HIS/HIS_server/analysis/dwi_data/stats_alt_reg/MD/sub-150_in-MNI_MD_AFTER-minus-BEFORE.nii.gz /export2/DATA/HIS/HIS_server/analysis/dwi_data/stats_alt_reg/MD/sub-151_in-MNI_MD_AFTER-minus-BEFORE.nii.gz /export2/DATA/HIS/HIS_server/analysis/dwi_data/stats_alt_reg/MD/sub-152_in-MNI_MD_AFTER-minus-BEFORE.nii.gz /export2/DATA/HIS/HIS_server/analysis/dwi_data/stats_alt_reg/MD/sub-153_in-MNI_MD_AFTER-minus-BEFORE.nii.gz /export2/DATA/HIS/HIS_server/analysis/dwi_data/stats_alt_reg/MD/sub-154_in-MNI_MD_AFTER-minus-BEFORE.nii.gz /export2/DATA/HIS/HIS_server/analysis/dwi_data/stats_alt_reg/MD/sub-155_in-MNI_MD_AFTER-minus-BEFORE.nii.gz /export2/DATA/HIS/HIS_server/analysis/dwi_data/stats_alt_reg/MD/sub-156_in-MNI_MD_AFTER-minus-BEFORE.nii.gz /export2/DATA/HIS/HIS_server/analysis/dwi_data/stats_alt_reg/MD/sub-157_in-MNI_MD_AFTER-minus-BEFORE.nii.gz /export2/DATA/HIS/HIS_server/analysis/dwi_data/stats_alt_reg/MD/sub-158_in-MNI_MD_AFTER-minus-BEFORE.nii.gz /export2/DATA/HIS/HIS_server/analysis/dwi_data/stats_alt_reg/MD/sub-160_in-MNI_MD_AFTER-minus-BEFORE.nii.gz /export2/DATA/HIS/HIS_server/analysis/dwi_data/stats_alt_reg/MD/sub-161_in-MNI_MD_AFTER-minus-BEFORE.nii.gz /export2/DATA/HIS/HIS_server/analysis/dwi_data/stats_alt_reg/MD/sub-162_in-MNI_MD_AFTER-minus-BEFORE.nii.gz /export2/DATA/HIS/HIS_server/analysis/dwi_data/stats_alt_reg/MD/sub-163_in-MNI_MD_AFTER-minus-BEFORE.nii.gz /export2/DATA/HIS/HIS_server/analysis/dwi_data/stats_alt_reg/MD/sub-164_in-MNI_MD_AFTER-minus-BEFORE.nii.gz /export2/DATA/HIS/HIS_server/analysis/dwi_data/stats_alt_reg/MD/sub-166_in-MNI_MD_AFTER-minus-BEFORE.nii.gz /export2/DATA/HIS/HIS_server/analysis/dwi_data/stats_alt_reg/MD/sub-167_in-MNI_MD_AFTER-minus-BEFORE.nii.gz /export2/DATA/HIS/HIS_server/analysis/dwi_data/stats_alt_reg/MD/sub-168_in-MNI_MD_AFTER-minus-BEFORE.nii.gz /export2/DATA/HIS/HIS_server/analysis/dwi_data/stats_alt_reg/MD/sub-169_in-MNI_MD_AFTER-minus-BEFORE.nii.gz /export2/DATA/HIS/HIS_server/analysis/dwi_data/stats_alt_reg/MD/sub-170_in-MNI_MD_AFTER-minus-BEFORE.nii.gz /export2/DATA/HIS/HIS_server/analysis/dwi_data/stats_alt_reg/MD/sub-171_in-MNI_MD_AFTER-minus-BEFORE.nii.gz /export2/DATA/HIS/HIS_server/analysis/dwi_data/stats_alt_reg/MD/sub-172_in-MNI_MD_AFTER-minus-BEFORE.nii.gz /export2/DATA/HIS/HIS_server/analysis/dwi_data/stats_alt_reg/MD/sub-174_in-MNI_MD_AFTER-minus-BEFORE.nii.gz /export2/DATA/HIS/HIS_server/analysis/dwi_data/stats_alt_reg/MD/sub-175_in-MNI_MD_AFTER-minus-BEFORE.nii.gz\n",
      "fslmerge -t /export2/DATA/HIS/HIS_server/analysis/dwi_data/stats_alt_reg/MD/LONG_individualDiff_BEFORE_minus_AFTER_MD /export2/DATA/HIS/HIS_server/analysis/dwi_data/stats_alt_reg/MD/sub-204_in-MNI_MD_BEFORE-minus-AFTER.nii.gz /export2/DATA/HIS/HIS_server/analysis/dwi_data/stats_alt_reg/MD/sub-205_in-MNI_MD_BEFORE-minus-AFTER.nii.gz /export2/DATA/HIS/HIS_server/analysis/dwi_data/stats_alt_reg/MD/sub-207_in-MNI_MD_BEFORE-minus-AFTER.nii.gz /export2/DATA/HIS/HIS_server/analysis/dwi_data/stats_alt_reg/MD/sub-208_in-MNI_MD_BEFORE-minus-AFTER.nii.gz /export2/DATA/HIS/HIS_server/analysis/dwi_data/stats_alt_reg/MD/sub-209_in-MNI_MD_BEFORE-minus-AFTER.nii.gz /export2/DATA/HIS/HIS_server/analysis/dwi_data/stats_alt_reg/MD/sub-210_in-MNI_MD_BEFORE-minus-AFTER.nii.gz /export2/DATA/HIS/HIS_server/analysis/dwi_data/stats_alt_reg/MD/sub-212_in-MNI_MD_BEFORE-minus-AFTER.nii.gz /export2/DATA/HIS/HIS_server/analysis/dwi_data/stats_alt_reg/MD/sub-214_in-MNI_MD_BEFORE-minus-AFTER.nii.gz /export2/DATA/HIS/HIS_server/analysis/dwi_data/stats_alt_reg/MD/sub-215_in-MNI_MD_BEFORE-minus-AFTER.nii.gz /export2/DATA/HIS/HIS_server/analysis/dwi_data/stats_alt_reg/MD/sub-217_in-MNI_MD_BEFORE-minus-AFTER.nii.gz /export2/DATA/HIS/HIS_server/analysis/dwi_data/stats_alt_reg/MD/sub-218_in-MNI_MD_BEFORE-minus-AFTER.nii.gz /export2/DATA/HIS/HIS_server/analysis/dwi_data/stats_alt_reg/MD/sub-220_in-MNI_MD_BEFORE-minus-AFTER.nii.gz /export2/DATA/HIS/HIS_server/analysis/dwi_data/stats_alt_reg/MD/sub-221_in-MNI_MD_BEFORE-minus-AFTER.nii.gz /export2/DATA/HIS/HIS_server/analysis/dwi_data/stats_alt_reg/MD/sub-223_in-MNI_MD_BEFORE-minus-AFTER.nii.gz /export2/DATA/HIS/HIS_server/analysis/dwi_data/stats_alt_reg/MD/sub-224_in-MNI_MD_BEFORE-minus-AFTER.nii.gz /export2/DATA/HIS/HIS_server/analysis/dwi_data/stats_alt_reg/MD/sub-225_in-MNI_MD_BEFORE-minus-AFTER.nii.gz /export2/DATA/HIS/HIS_server/analysis/dwi_data/stats_alt_reg/MD/sub-227_in-MNI_MD_BEFORE-minus-AFTER.nii.gz /export2/DATA/HIS/HIS_server/analysis/dwi_data/stats_alt_reg/MD/sub-229_in-MNI_MD_BEFORE-minus-AFTER.nii.gz /export2/DATA/HIS/HIS_server/analysis/dwi_data/stats_alt_reg/MD/sub-230_in-MNI_MD_BEFORE-minus-AFTER.nii.gz /export2/DATA/HIS/HIS_server/analysis/dwi_data/stats_alt_reg/MD/sub-232_in-MNI_MD_BEFORE-minus-AFTER.nii.gz /export2/DATA/HIS/HIS_server/analysis/dwi_data/stats_alt_reg/MD/sub-234_in-MNI_MD_BEFORE-minus-AFTER.nii.gz /export2/DATA/HIS/HIS_server/analysis/dwi_data/stats_alt_reg/MD/sub-235_in-MNI_MD_BEFORE-minus-AFTER.nii.gz /export2/DATA/HIS/HIS_server/analysis/dwi_data/stats_alt_reg/MD/sub-238_in-MNI_MD_BEFORE-minus-AFTER.nii.gz /export2/DATA/HIS/HIS_server/analysis/dwi_data/stats_alt_reg/MD/sub-239_in-MNI_MD_BEFORE-minus-AFTER.nii.gz /export2/DATA/HIS/HIS_server/analysis/dwi_data/stats_alt_reg/MD/sub-240_in-MNI_MD_BEFORE-minus-AFTER.nii.gz /export2/DATA/HIS/HIS_server/analysis/dwi_data/stats_alt_reg/MD/sub-241_in-MNI_MD_BEFORE-minus-AFTER.nii.gz /export2/DATA/HIS/HIS_server/analysis/dwi_data/stats_alt_reg/MD/sub-242_in-MNI_MD_BEFORE-minus-AFTER.nii.gz /export2/DATA/HIS/HIS_server/analysis/dwi_data/stats_alt_reg/MD/sub-243_in-MNI_MD_BEFORE-minus-AFTER.nii.gz /export2/DATA/HIS/HIS_server/analysis/dwi_data/stats_alt_reg/MD/sub-245_in-MNI_MD_BEFORE-minus-AFTER.nii.gz /export2/DATA/HIS/HIS_server/analysis/dwi_data/stats_alt_reg/MD/sub-247_in-MNI_MD_BEFORE-minus-AFTER.nii.gz /export2/DATA/HIS/HIS_server/analysis/dwi_data/stats_alt_reg/MD/sub-248_in-MNI_MD_BEFORE-minus-AFTER.nii.gz /export2/DATA/HIS/HIS_server/analysis/dwi_data/stats_alt_reg/MD/sub-249_in-MNI_MD_BEFORE-minus-AFTER.nii.gz /export2/DATA/HIS/HIS_server/analysis/dwi_data/stats_alt_reg/MD/sub-251_in-MNI_MD_BEFORE-minus-AFTER.nii.gz /export2/DATA/HIS/HIS_server/analysis/dwi_data/stats_alt_reg/MD/sub-252_in-MNI_MD_BEFORE-minus-AFTER.nii.gz /export2/DATA/HIS/HIS_server/analysis/dwi_data/stats_alt_reg/MD/sub-254_in-MNI_MD_BEFORE-minus-AFTER.nii.gz /export2/DATA/HIS/HIS_server/analysis/dwi_data/stats_alt_reg/MD/sub-255_in-MNI_MD_BEFORE-minus-AFTER.nii.gz /export2/DATA/HIS/HIS_server/analysis/dwi_data/stats_alt_reg/MD/sub-257_in-MNI_MD_BEFORE-minus-AFTER.nii.gz /export2/DATA/HIS/HIS_server/analysis/dwi_data/stats_alt_reg/MD/sub-258_in-MNI_MD_BEFORE-minus-AFTER.nii.gz /export2/DATA/HIS/HIS_server/analysis/dwi_data/stats_alt_reg/MD/sub-260_in-MNI_MD_BEFORE-minus-AFTER.nii.gz /export2/DATA/HIS/HIS_server/analysis/dwi_data/stats_alt_reg/MD/sub-261_in-MNI_MD_BEFORE-minus-AFTER.nii.gz /export2/DATA/HIS/HIS_server/analysis/dwi_data/stats_alt_reg/MD/sub-262_in-MNI_MD_BEFORE-minus-AFTER.nii.gz /export2/DATA/HIS/HIS_server/analysis/dwi_data/stats_alt_reg/MD/sub-263_in-MNI_MD_BEFORE-minus-AFTER.nii.gz /export2/DATA/HIS/HIS_server/analysis/dwi_data/stats_alt_reg/MD/sub-264_in-MNI_MD_BEFORE-minus-AFTER.nii.gz /export2/DATA/HIS/HIS_server/analysis/dwi_data/stats_alt_reg/MD/sub-265_in-MNI_MD_BEFORE-minus-AFTER.nii.gz /export2/DATA/HIS/HIS_server/analysis/dwi_data/stats_alt_reg/MD/sub-267_in-MNI_MD_BEFORE-minus-AFTER.nii.gz /export2/DATA/HIS/HIS_server/analysis/dwi_data/stats_alt_reg/MD/sub-268_in-MNI_MD_BEFORE-minus-AFTER.nii.gz /export2/DATA/HIS/HIS_server/analysis/dwi_data/stats_alt_reg/MD/sub-269_in-MNI_MD_BEFORE-minus-AFTER.nii.gz /export2/DATA/HIS/HIS_server/analysis/dwi_data/stats_alt_reg/MD/sub-270_in-MNI_MD_BEFORE-minus-AFTER.nii.gz /export2/DATA/HIS/HIS_server/analysis/dwi_data/stats_alt_reg/MD/sub-271_in-MNI_MD_BEFORE-minus-AFTER.nii.gz /export2/DATA/HIS/HIS_server/analysis/dwi_data/stats_alt_reg/MD/sub-272_in-MNI_MD_BEFORE-minus-AFTER.nii.gz /export2/DATA/HIS/HIS_server/analysis/dwi_data/stats_alt_reg/MD/sub-275_in-MNI_MD_BEFORE-minus-AFTER.nii.gz /export2/DATA/HIS/HIS_server/analysis/dwi_data/stats_alt_reg/MD/sub-276_in-MNI_MD_BEFORE-minus-AFTER.nii.gz /export2/DATA/HIS/HIS_server/analysis/dwi_data/stats_alt_reg/MD/sub-277_in-MNI_MD_BEFORE-minus-AFTER.nii.gz /export2/DATA/HIS/HIS_server/analysis/dwi_data/stats_alt_reg/MD/sub-278_in-MNI_MD_BEFORE-minus-AFTER.nii.gz /export2/DATA/HIS/HIS_server/analysis/dwi_data/stats_alt_reg/MD/sub-280_in-MNI_MD_BEFORE-minus-AFTER.nii.gz /export2/DATA/HIS/HIS_server/analysis/dwi_data/stats_alt_reg/MD/sub-281_in-MNI_MD_BEFORE-minus-AFTER.nii.gz /export2/DATA/HIS/HIS_server/analysis/dwi_data/stats_alt_reg/MD/sub-282_in-MNI_MD_BEFORE-minus-AFTER.nii.gz /export2/DATA/HIS/HIS_server/analysis/dwi_data/stats_alt_reg/MD/sub-283_in-MNI_MD_BEFORE-minus-AFTER.nii.gz /export2/DATA/HIS/HIS_server/analysis/dwi_data/stats_alt_reg/MD/sub-284_in-MNI_MD_BEFORE-minus-AFTER.nii.gz /export2/DATA/HIS/HIS_server/analysis/dwi_data/stats_alt_reg/MD/sub-285_in-MNI_MD_BEFORE-minus-AFTER.nii.gz\n",
      "fslmerge -t /export2/DATA/HIS/HIS_server/analysis/dwi_data/stats_alt_reg/MD/SHORT_individualDiff_BEFORE_minus_AFTER_MD /export2/DATA/HIS/HIS_server/analysis/dwi_data/stats_alt_reg/MD/sub-103_in-MNI_MD_BEFORE-minus-AFTER.nii.gz /export2/DATA/HIS/HIS_server/analysis/dwi_data/stats_alt_reg/MD/sub-104_in-MNI_MD_BEFORE-minus-AFTER.nii.gz /export2/DATA/HIS/HIS_server/analysis/dwi_data/stats_alt_reg/MD/sub-106_in-MNI_MD_BEFORE-minus-AFTER.nii.gz /export2/DATA/HIS/HIS_server/analysis/dwi_data/stats_alt_reg/MD/sub-107_in-MNI_MD_BEFORE-minus-AFTER.nii.gz /export2/DATA/HIS/HIS_server/analysis/dwi_data/stats_alt_reg/MD/sub-108_in-MNI_MD_BEFORE-minus-AFTER.nii.gz /export2/DATA/HIS/HIS_server/analysis/dwi_data/stats_alt_reg/MD/sub-110_in-MNI_MD_BEFORE-minus-AFTER.nii.gz /export2/DATA/HIS/HIS_server/analysis/dwi_data/stats_alt_reg/MD/sub-113_in-MNI_MD_BEFORE-minus-AFTER.nii.gz /export2/DATA/HIS/HIS_server/analysis/dwi_data/stats_alt_reg/MD/sub-114_in-MNI_MD_BEFORE-minus-AFTER.nii.gz /export2/DATA/HIS/HIS_server/analysis/dwi_data/stats_alt_reg/MD/sub-115_in-MNI_MD_BEFORE-minus-AFTER.nii.gz /export2/DATA/HIS/HIS_server/analysis/dwi_data/stats_alt_reg/MD/sub-117_in-MNI_MD_BEFORE-minus-AFTER.nii.gz /export2/DATA/HIS/HIS_server/analysis/dwi_data/stats_alt_reg/MD/sub-118_in-MNI_MD_BEFORE-minus-AFTER.nii.gz /export2/DATA/HIS/HIS_server/analysis/dwi_data/stats_alt_reg/MD/sub-119_in-MNI_MD_BEFORE-minus-AFTER.nii.gz /export2/DATA/HIS/HIS_server/analysis/dwi_data/stats_alt_reg/MD/sub-120_in-MNI_MD_BEFORE-minus-AFTER.nii.gz /export2/DATA/HIS/HIS_server/analysis/dwi_data/stats_alt_reg/MD/sub-121_in-MNI_MD_BEFORE-minus-AFTER.nii.gz /export2/DATA/HIS/HIS_server/analysis/dwi_data/stats_alt_reg/MD/sub-122_in-MNI_MD_BEFORE-minus-AFTER.nii.gz /export2/DATA/HIS/HIS_server/analysis/dwi_data/stats_alt_reg/MD/sub-124_in-MNI_MD_BEFORE-minus-AFTER.nii.gz /export2/DATA/HIS/HIS_server/analysis/dwi_data/stats_alt_reg/MD/sub-126_in-MNI_MD_BEFORE-minus-AFTER.nii.gz /export2/DATA/HIS/HIS_server/analysis/dwi_data/stats_alt_reg/MD/sub-127_in-MNI_MD_BEFORE-minus-AFTER.nii.gz /export2/DATA/HIS/HIS_server/analysis/dwi_data/stats_alt_reg/MD/sub-128_in-MNI_MD_BEFORE-minus-AFTER.nii.gz /export2/DATA/HIS/HIS_server/analysis/dwi_data/stats_alt_reg/MD/sub-129_in-MNI_MD_BEFORE-minus-AFTER.nii.gz /export2/DATA/HIS/HIS_server/analysis/dwi_data/stats_alt_reg/MD/sub-130_in-MNI_MD_BEFORE-minus-AFTER.nii.gz /export2/DATA/HIS/HIS_server/analysis/dwi_data/stats_alt_reg/MD/sub-131_in-MNI_MD_BEFORE-minus-AFTER.nii.gz /export2/DATA/HIS/HIS_server/analysis/dwi_data/stats_alt_reg/MD/sub-133_in-MNI_MD_BEFORE-minus-AFTER.nii.gz /export2/DATA/HIS/HIS_server/analysis/dwi_data/stats_alt_reg/MD/sub-135_in-MNI_MD_BEFORE-minus-AFTER.nii.gz /export2/DATA/HIS/HIS_server/analysis/dwi_data/stats_alt_reg/MD/sub-137_in-MNI_MD_BEFORE-minus-AFTER.nii.gz /export2/DATA/HIS/HIS_server/analysis/dwi_data/stats_alt_reg/MD/sub-138_in-MNI_MD_BEFORE-minus-AFTER.nii.gz /export2/DATA/HIS/HIS_server/analysis/dwi_data/stats_alt_reg/MD/sub-139_in-MNI_MD_BEFORE-minus-AFTER.nii.gz /export2/DATA/HIS/HIS_server/analysis/dwi_data/stats_alt_reg/MD/sub-140_in-MNI_MD_BEFORE-minus-AFTER.nii.gz /export2/DATA/HIS/HIS_server/analysis/dwi_data/stats_alt_reg/MD/sub-141_in-MNI_MD_BEFORE-minus-AFTER.nii.gz /export2/DATA/HIS/HIS_server/analysis/dwi_data/stats_alt_reg/MD/sub-142_in-MNI_MD_BEFORE-minus-AFTER.nii.gz /export2/DATA/HIS/HIS_server/analysis/dwi_data/stats_alt_reg/MD/sub-143_in-MNI_MD_BEFORE-minus-AFTER.nii.gz /export2/DATA/HIS/HIS_server/analysis/dwi_data/stats_alt_reg/MD/sub-144_in-MNI_MD_BEFORE-minus-AFTER.nii.gz /export2/DATA/HIS/HIS_server/analysis/dwi_data/stats_alt_reg/MD/sub-145_in-MNI_MD_BEFORE-minus-AFTER.nii.gz /export2/DATA/HIS/HIS_server/analysis/dwi_data/stats_alt_reg/MD/sub-146_in-MNI_MD_BEFORE-minus-AFTER.nii.gz /export2/DATA/HIS/HIS_server/analysis/dwi_data/stats_alt_reg/MD/sub-147_in-MNI_MD_BEFORE-minus-AFTER.nii.gz /export2/DATA/HIS/HIS_server/analysis/dwi_data/stats_alt_reg/MD/sub-148_in-MNI_MD_BEFORE-minus-AFTER.nii.gz /export2/DATA/HIS/HIS_server/analysis/dwi_data/stats_alt_reg/MD/sub-149_in-MNI_MD_BEFORE-minus-AFTER.nii.gz /export2/DATA/HIS/HIS_server/analysis/dwi_data/stats_alt_reg/MD/sub-150_in-MNI_MD_BEFORE-minus-AFTER.nii.gz /export2/DATA/HIS/HIS_server/analysis/dwi_data/stats_alt_reg/MD/sub-151_in-MNI_MD_BEFORE-minus-AFTER.nii.gz /export2/DATA/HIS/HIS_server/analysis/dwi_data/stats_alt_reg/MD/sub-152_in-MNI_MD_BEFORE-minus-AFTER.nii.gz /export2/DATA/HIS/HIS_server/analysis/dwi_data/stats_alt_reg/MD/sub-153_in-MNI_MD_BEFORE-minus-AFTER.nii.gz /export2/DATA/HIS/HIS_server/analysis/dwi_data/stats_alt_reg/MD/sub-154_in-MNI_MD_BEFORE-minus-AFTER.nii.gz /export2/DATA/HIS/HIS_server/analysis/dwi_data/stats_alt_reg/MD/sub-155_in-MNI_MD_BEFORE-minus-AFTER.nii.gz /export2/DATA/HIS/HIS_server/analysis/dwi_data/stats_alt_reg/MD/sub-156_in-MNI_MD_BEFORE-minus-AFTER.nii.gz /export2/DATA/HIS/HIS_server/analysis/dwi_data/stats_alt_reg/MD/sub-157_in-MNI_MD_BEFORE-minus-AFTER.nii.gz /export2/DATA/HIS/HIS_server/analysis/dwi_data/stats_alt_reg/MD/sub-158_in-MNI_MD_BEFORE-minus-AFTER.nii.gz /export2/DATA/HIS/HIS_server/analysis/dwi_data/stats_alt_reg/MD/sub-160_in-MNI_MD_BEFORE-minus-AFTER.nii.gz /export2/DATA/HIS/HIS_server/analysis/dwi_data/stats_alt_reg/MD/sub-161_in-MNI_MD_BEFORE-minus-AFTER.nii.gz /export2/DATA/HIS/HIS_server/analysis/dwi_data/stats_alt_reg/MD/sub-162_in-MNI_MD_BEFORE-minus-AFTER.nii.gz /export2/DATA/HIS/HIS_server/analysis/dwi_data/stats_alt_reg/MD/sub-163_in-MNI_MD_BEFORE-minus-AFTER.nii.gz /export2/DATA/HIS/HIS_server/analysis/dwi_data/stats_alt_reg/MD/sub-164_in-MNI_MD_BEFORE-minus-AFTER.nii.gz /export2/DATA/HIS/HIS_server/analysis/dwi_data/stats_alt_reg/MD/sub-166_in-MNI_MD_BEFORE-minus-AFTER.nii.gz /export2/DATA/HIS/HIS_server/analysis/dwi_data/stats_alt_reg/MD/sub-167_in-MNI_MD_BEFORE-minus-AFTER.nii.gz /export2/DATA/HIS/HIS_server/analysis/dwi_data/stats_alt_reg/MD/sub-168_in-MNI_MD_BEFORE-minus-AFTER.nii.gz /export2/DATA/HIS/HIS_server/analysis/dwi_data/stats_alt_reg/MD/sub-169_in-MNI_MD_BEFORE-minus-AFTER.nii.gz /export2/DATA/HIS/HIS_server/analysis/dwi_data/stats_alt_reg/MD/sub-170_in-MNI_MD_BEFORE-minus-AFTER.nii.gz /export2/DATA/HIS/HIS_server/analysis/dwi_data/stats_alt_reg/MD/sub-171_in-MNI_MD_BEFORE-minus-AFTER.nii.gz /export2/DATA/HIS/HIS_server/analysis/dwi_data/stats_alt_reg/MD/sub-172_in-MNI_MD_BEFORE-minus-AFTER.nii.gz /export2/DATA/HIS/HIS_server/analysis/dwi_data/stats_alt_reg/MD/sub-174_in-MNI_MD_BEFORE-minus-AFTER.nii.gz /export2/DATA/HIS/HIS_server/analysis/dwi_data/stats_alt_reg/MD/sub-175_in-MNI_MD_BEFORE-minus-AFTER.nii.gz\n",
      "fslmerge -t /export2/DATA/HIS/HIS_server/analysis/dwi_data/stats_alt_reg/FA/LONG_individualDiff_AFTER_minus_BEFORE_FA /export2/DATA/HIS/HIS_server/analysis/dwi_data/stats_alt_reg/FA/sub-204_in-MNI_FA_AFTER-minus-BEFORE.nii.gz /export2/DATA/HIS/HIS_server/analysis/dwi_data/stats_alt_reg/FA/sub-205_in-MNI_FA_AFTER-minus-BEFORE.nii.gz /export2/DATA/HIS/HIS_server/analysis/dwi_data/stats_alt_reg/FA/sub-207_in-MNI_FA_AFTER-minus-BEFORE.nii.gz /export2/DATA/HIS/HIS_server/analysis/dwi_data/stats_alt_reg/FA/sub-208_in-MNI_FA_AFTER-minus-BEFORE.nii.gz /export2/DATA/HIS/HIS_server/analysis/dwi_data/stats_alt_reg/FA/sub-209_in-MNI_FA_AFTER-minus-BEFORE.nii.gz /export2/DATA/HIS/HIS_server/analysis/dwi_data/stats_alt_reg/FA/sub-210_in-MNI_FA_AFTER-minus-BEFORE.nii.gz /export2/DATA/HIS/HIS_server/analysis/dwi_data/stats_alt_reg/FA/sub-212_in-MNI_FA_AFTER-minus-BEFORE.nii.gz /export2/DATA/HIS/HIS_server/analysis/dwi_data/stats_alt_reg/FA/sub-214_in-MNI_FA_AFTER-minus-BEFORE.nii.gz /export2/DATA/HIS/HIS_server/analysis/dwi_data/stats_alt_reg/FA/sub-215_in-MNI_FA_AFTER-minus-BEFORE.nii.gz /export2/DATA/HIS/HIS_server/analysis/dwi_data/stats_alt_reg/FA/sub-217_in-MNI_FA_AFTER-minus-BEFORE.nii.gz /export2/DATA/HIS/HIS_server/analysis/dwi_data/stats_alt_reg/FA/sub-218_in-MNI_FA_AFTER-minus-BEFORE.nii.gz /export2/DATA/HIS/HIS_server/analysis/dwi_data/stats_alt_reg/FA/sub-220_in-MNI_FA_AFTER-minus-BEFORE.nii.gz /export2/DATA/HIS/HIS_server/analysis/dwi_data/stats_alt_reg/FA/sub-221_in-MNI_FA_AFTER-minus-BEFORE.nii.gz /export2/DATA/HIS/HIS_server/analysis/dwi_data/stats_alt_reg/FA/sub-223_in-MNI_FA_AFTER-minus-BEFORE.nii.gz /export2/DATA/HIS/HIS_server/analysis/dwi_data/stats_alt_reg/FA/sub-224_in-MNI_FA_AFTER-minus-BEFORE.nii.gz /export2/DATA/HIS/HIS_server/analysis/dwi_data/stats_alt_reg/FA/sub-225_in-MNI_FA_AFTER-minus-BEFORE.nii.gz /export2/DATA/HIS/HIS_server/analysis/dwi_data/stats_alt_reg/FA/sub-227_in-MNI_FA_AFTER-minus-BEFORE.nii.gz /export2/DATA/HIS/HIS_server/analysis/dwi_data/stats_alt_reg/FA/sub-229_in-MNI_FA_AFTER-minus-BEFORE.nii.gz /export2/DATA/HIS/HIS_server/analysis/dwi_data/stats_alt_reg/FA/sub-230_in-MNI_FA_AFTER-minus-BEFORE.nii.gz /export2/DATA/HIS/HIS_server/analysis/dwi_data/stats_alt_reg/FA/sub-232_in-MNI_FA_AFTER-minus-BEFORE.nii.gz /export2/DATA/HIS/HIS_server/analysis/dwi_data/stats_alt_reg/FA/sub-234_in-MNI_FA_AFTER-minus-BEFORE.nii.gz /export2/DATA/HIS/HIS_server/analysis/dwi_data/stats_alt_reg/FA/sub-235_in-MNI_FA_AFTER-minus-BEFORE.nii.gz /export2/DATA/HIS/HIS_server/analysis/dwi_data/stats_alt_reg/FA/sub-238_in-MNI_FA_AFTER-minus-BEFORE.nii.gz /export2/DATA/HIS/HIS_server/analysis/dwi_data/stats_alt_reg/FA/sub-239_in-MNI_FA_AFTER-minus-BEFORE.nii.gz /export2/DATA/HIS/HIS_server/analysis/dwi_data/stats_alt_reg/FA/sub-240_in-MNI_FA_AFTER-minus-BEFORE.nii.gz /export2/DATA/HIS/HIS_server/analysis/dwi_data/stats_alt_reg/FA/sub-241_in-MNI_FA_AFTER-minus-BEFORE.nii.gz /export2/DATA/HIS/HIS_server/analysis/dwi_data/stats_alt_reg/FA/sub-242_in-MNI_FA_AFTER-minus-BEFORE.nii.gz /export2/DATA/HIS/HIS_server/analysis/dwi_data/stats_alt_reg/FA/sub-243_in-MNI_FA_AFTER-minus-BEFORE.nii.gz /export2/DATA/HIS/HIS_server/analysis/dwi_data/stats_alt_reg/FA/sub-245_in-MNI_FA_AFTER-minus-BEFORE.nii.gz /export2/DATA/HIS/HIS_server/analysis/dwi_data/stats_alt_reg/FA/sub-247_in-MNI_FA_AFTER-minus-BEFORE.nii.gz /export2/DATA/HIS/HIS_server/analysis/dwi_data/stats_alt_reg/FA/sub-248_in-MNI_FA_AFTER-minus-BEFORE.nii.gz /export2/DATA/HIS/HIS_server/analysis/dwi_data/stats_alt_reg/FA/sub-249_in-MNI_FA_AFTER-minus-BEFORE.nii.gz /export2/DATA/HIS/HIS_server/analysis/dwi_data/stats_alt_reg/FA/sub-251_in-MNI_FA_AFTER-minus-BEFORE.nii.gz /export2/DATA/HIS/HIS_server/analysis/dwi_data/stats_alt_reg/FA/sub-252_in-MNI_FA_AFTER-minus-BEFORE.nii.gz /export2/DATA/HIS/HIS_server/analysis/dwi_data/stats_alt_reg/FA/sub-254_in-MNI_FA_AFTER-minus-BEFORE.nii.gz /export2/DATA/HIS/HIS_server/analysis/dwi_data/stats_alt_reg/FA/sub-255_in-MNI_FA_AFTER-minus-BEFORE.nii.gz /export2/DATA/HIS/HIS_server/analysis/dwi_data/stats_alt_reg/FA/sub-257_in-MNI_FA_AFTER-minus-BEFORE.nii.gz /export2/DATA/HIS/HIS_server/analysis/dwi_data/stats_alt_reg/FA/sub-258_in-MNI_FA_AFTER-minus-BEFORE.nii.gz /export2/DATA/HIS/HIS_server/analysis/dwi_data/stats_alt_reg/FA/sub-260_in-MNI_FA_AFTER-minus-BEFORE.nii.gz /export2/DATA/HIS/HIS_server/analysis/dwi_data/stats_alt_reg/FA/sub-261_in-MNI_FA_AFTER-minus-BEFORE.nii.gz /export2/DATA/HIS/HIS_server/analysis/dwi_data/stats_alt_reg/FA/sub-262_in-MNI_FA_AFTER-minus-BEFORE.nii.gz /export2/DATA/HIS/HIS_server/analysis/dwi_data/stats_alt_reg/FA/sub-263_in-MNI_FA_AFTER-minus-BEFORE.nii.gz /export2/DATA/HIS/HIS_server/analysis/dwi_data/stats_alt_reg/FA/sub-264_in-MNI_FA_AFTER-minus-BEFORE.nii.gz /export2/DATA/HIS/HIS_server/analysis/dwi_data/stats_alt_reg/FA/sub-265_in-MNI_FA_AFTER-minus-BEFORE.nii.gz /export2/DATA/HIS/HIS_server/analysis/dwi_data/stats_alt_reg/FA/sub-267_in-MNI_FA_AFTER-minus-BEFORE.nii.gz /export2/DATA/HIS/HIS_server/analysis/dwi_data/stats_alt_reg/FA/sub-268_in-MNI_FA_AFTER-minus-BEFORE.nii.gz /export2/DATA/HIS/HIS_server/analysis/dwi_data/stats_alt_reg/FA/sub-269_in-MNI_FA_AFTER-minus-BEFORE.nii.gz /export2/DATA/HIS/HIS_server/analysis/dwi_data/stats_alt_reg/FA/sub-270_in-MNI_FA_AFTER-minus-BEFORE.nii.gz /export2/DATA/HIS/HIS_server/analysis/dwi_data/stats_alt_reg/FA/sub-271_in-MNI_FA_AFTER-minus-BEFORE.nii.gz /export2/DATA/HIS/HIS_server/analysis/dwi_data/stats_alt_reg/FA/sub-272_in-MNI_FA_AFTER-minus-BEFORE.nii.gz /export2/DATA/HIS/HIS_server/analysis/dwi_data/stats_alt_reg/FA/sub-275_in-MNI_FA_AFTER-minus-BEFORE.nii.gz /export2/DATA/HIS/HIS_server/analysis/dwi_data/stats_alt_reg/FA/sub-276_in-MNI_FA_AFTER-minus-BEFORE.nii.gz /export2/DATA/HIS/HIS_server/analysis/dwi_data/stats_alt_reg/FA/sub-277_in-MNI_FA_AFTER-minus-BEFORE.nii.gz /export2/DATA/HIS/HIS_server/analysis/dwi_data/stats_alt_reg/FA/sub-278_in-MNI_FA_AFTER-minus-BEFORE.nii.gz /export2/DATA/HIS/HIS_server/analysis/dwi_data/stats_alt_reg/FA/sub-280_in-MNI_FA_AFTER-minus-BEFORE.nii.gz /export2/DATA/HIS/HIS_server/analysis/dwi_data/stats_alt_reg/FA/sub-281_in-MNI_FA_AFTER-minus-BEFORE.nii.gz /export2/DATA/HIS/HIS_server/analysis/dwi_data/stats_alt_reg/FA/sub-282_in-MNI_FA_AFTER-minus-BEFORE.nii.gz /export2/DATA/HIS/HIS_server/analysis/dwi_data/stats_alt_reg/FA/sub-283_in-MNI_FA_AFTER-minus-BEFORE.nii.gz /export2/DATA/HIS/HIS_server/analysis/dwi_data/stats_alt_reg/FA/sub-284_in-MNI_FA_AFTER-minus-BEFORE.nii.gz /export2/DATA/HIS/HIS_server/analysis/dwi_data/stats_alt_reg/FA/sub-285_in-MNI_FA_AFTER-minus-BEFORE.nii.gz\n",
      "fslmerge -t /export2/DATA/HIS/HIS_server/analysis/dwi_data/stats_alt_reg/FA/SHORT_individualDiff_AFTER_minus_BEFORE_FA /export2/DATA/HIS/HIS_server/analysis/dwi_data/stats_alt_reg/FA/sub-103_in-MNI_FA_AFTER-minus-BEFORE.nii.gz /export2/DATA/HIS/HIS_server/analysis/dwi_data/stats_alt_reg/FA/sub-104_in-MNI_FA_AFTER-minus-BEFORE.nii.gz /export2/DATA/HIS/HIS_server/analysis/dwi_data/stats_alt_reg/FA/sub-106_in-MNI_FA_AFTER-minus-BEFORE.nii.gz /export2/DATA/HIS/HIS_server/analysis/dwi_data/stats_alt_reg/FA/sub-107_in-MNI_FA_AFTER-minus-BEFORE.nii.gz /export2/DATA/HIS/HIS_server/analysis/dwi_data/stats_alt_reg/FA/sub-108_in-MNI_FA_AFTER-minus-BEFORE.nii.gz /export2/DATA/HIS/HIS_server/analysis/dwi_data/stats_alt_reg/FA/sub-110_in-MNI_FA_AFTER-minus-BEFORE.nii.gz /export2/DATA/HIS/HIS_server/analysis/dwi_data/stats_alt_reg/FA/sub-113_in-MNI_FA_AFTER-minus-BEFORE.nii.gz /export2/DATA/HIS/HIS_server/analysis/dwi_data/stats_alt_reg/FA/sub-114_in-MNI_FA_AFTER-minus-BEFORE.nii.gz /export2/DATA/HIS/HIS_server/analysis/dwi_data/stats_alt_reg/FA/sub-115_in-MNI_FA_AFTER-minus-BEFORE.nii.gz /export2/DATA/HIS/HIS_server/analysis/dwi_data/stats_alt_reg/FA/sub-117_in-MNI_FA_AFTER-minus-BEFORE.nii.gz /export2/DATA/HIS/HIS_server/analysis/dwi_data/stats_alt_reg/FA/sub-118_in-MNI_FA_AFTER-minus-BEFORE.nii.gz /export2/DATA/HIS/HIS_server/analysis/dwi_data/stats_alt_reg/FA/sub-119_in-MNI_FA_AFTER-minus-BEFORE.nii.gz /export2/DATA/HIS/HIS_server/analysis/dwi_data/stats_alt_reg/FA/sub-120_in-MNI_FA_AFTER-minus-BEFORE.nii.gz /export2/DATA/HIS/HIS_server/analysis/dwi_data/stats_alt_reg/FA/sub-121_in-MNI_FA_AFTER-minus-BEFORE.nii.gz /export2/DATA/HIS/HIS_server/analysis/dwi_data/stats_alt_reg/FA/sub-122_in-MNI_FA_AFTER-minus-BEFORE.nii.gz /export2/DATA/HIS/HIS_server/analysis/dwi_data/stats_alt_reg/FA/sub-124_in-MNI_FA_AFTER-minus-BEFORE.nii.gz /export2/DATA/HIS/HIS_server/analysis/dwi_data/stats_alt_reg/FA/sub-126_in-MNI_FA_AFTER-minus-BEFORE.nii.gz /export2/DATA/HIS/HIS_server/analysis/dwi_data/stats_alt_reg/FA/sub-127_in-MNI_FA_AFTER-minus-BEFORE.nii.gz /export2/DATA/HIS/HIS_server/analysis/dwi_data/stats_alt_reg/FA/sub-128_in-MNI_FA_AFTER-minus-BEFORE.nii.gz /export2/DATA/HIS/HIS_server/analysis/dwi_data/stats_alt_reg/FA/sub-129_in-MNI_FA_AFTER-minus-BEFORE.nii.gz /export2/DATA/HIS/HIS_server/analysis/dwi_data/stats_alt_reg/FA/sub-130_in-MNI_FA_AFTER-minus-BEFORE.nii.gz /export2/DATA/HIS/HIS_server/analysis/dwi_data/stats_alt_reg/FA/sub-131_in-MNI_FA_AFTER-minus-BEFORE.nii.gz /export2/DATA/HIS/HIS_server/analysis/dwi_data/stats_alt_reg/FA/sub-133_in-MNI_FA_AFTER-minus-BEFORE.nii.gz /export2/DATA/HIS/HIS_server/analysis/dwi_data/stats_alt_reg/FA/sub-135_in-MNI_FA_AFTER-minus-BEFORE.nii.gz /export2/DATA/HIS/HIS_server/analysis/dwi_data/stats_alt_reg/FA/sub-137_in-MNI_FA_AFTER-minus-BEFORE.nii.gz /export2/DATA/HIS/HIS_server/analysis/dwi_data/stats_alt_reg/FA/sub-138_in-MNI_FA_AFTER-minus-BEFORE.nii.gz /export2/DATA/HIS/HIS_server/analysis/dwi_data/stats_alt_reg/FA/sub-139_in-MNI_FA_AFTER-minus-BEFORE.nii.gz /export2/DATA/HIS/HIS_server/analysis/dwi_data/stats_alt_reg/FA/sub-140_in-MNI_FA_AFTER-minus-BEFORE.nii.gz /export2/DATA/HIS/HIS_server/analysis/dwi_data/stats_alt_reg/FA/sub-141_in-MNI_FA_AFTER-minus-BEFORE.nii.gz /export2/DATA/HIS/HIS_server/analysis/dwi_data/stats_alt_reg/FA/sub-142_in-MNI_FA_AFTER-minus-BEFORE.nii.gz /export2/DATA/HIS/HIS_server/analysis/dwi_data/stats_alt_reg/FA/sub-143_in-MNI_FA_AFTER-minus-BEFORE.nii.gz /export2/DATA/HIS/HIS_server/analysis/dwi_data/stats_alt_reg/FA/sub-144_in-MNI_FA_AFTER-minus-BEFORE.nii.gz /export2/DATA/HIS/HIS_server/analysis/dwi_data/stats_alt_reg/FA/sub-145_in-MNI_FA_AFTER-minus-BEFORE.nii.gz /export2/DATA/HIS/HIS_server/analysis/dwi_data/stats_alt_reg/FA/sub-146_in-MNI_FA_AFTER-minus-BEFORE.nii.gz /export2/DATA/HIS/HIS_server/analysis/dwi_data/stats_alt_reg/FA/sub-147_in-MNI_FA_AFTER-minus-BEFORE.nii.gz /export2/DATA/HIS/HIS_server/analysis/dwi_data/stats_alt_reg/FA/sub-148_in-MNI_FA_AFTER-minus-BEFORE.nii.gz /export2/DATA/HIS/HIS_server/analysis/dwi_data/stats_alt_reg/FA/sub-149_in-MNI_FA_AFTER-minus-BEFORE.nii.gz /export2/DATA/HIS/HIS_server/analysis/dwi_data/stats_alt_reg/FA/sub-150_in-MNI_FA_AFTER-minus-BEFORE.nii.gz /export2/DATA/HIS/HIS_server/analysis/dwi_data/stats_alt_reg/FA/sub-151_in-MNI_FA_AFTER-minus-BEFORE.nii.gz /export2/DATA/HIS/HIS_server/analysis/dwi_data/stats_alt_reg/FA/sub-152_in-MNI_FA_AFTER-minus-BEFORE.nii.gz /export2/DATA/HIS/HIS_server/analysis/dwi_data/stats_alt_reg/FA/sub-153_in-MNI_FA_AFTER-minus-BEFORE.nii.gz /export2/DATA/HIS/HIS_server/analysis/dwi_data/stats_alt_reg/FA/sub-154_in-MNI_FA_AFTER-minus-BEFORE.nii.gz /export2/DATA/HIS/HIS_server/analysis/dwi_data/stats_alt_reg/FA/sub-155_in-MNI_FA_AFTER-minus-BEFORE.nii.gz /export2/DATA/HIS/HIS_server/analysis/dwi_data/stats_alt_reg/FA/sub-156_in-MNI_FA_AFTER-minus-BEFORE.nii.gz /export2/DATA/HIS/HIS_server/analysis/dwi_data/stats_alt_reg/FA/sub-157_in-MNI_FA_AFTER-minus-BEFORE.nii.gz /export2/DATA/HIS/HIS_server/analysis/dwi_data/stats_alt_reg/FA/sub-158_in-MNI_FA_AFTER-minus-BEFORE.nii.gz /export2/DATA/HIS/HIS_server/analysis/dwi_data/stats_alt_reg/FA/sub-160_in-MNI_FA_AFTER-minus-BEFORE.nii.gz /export2/DATA/HIS/HIS_server/analysis/dwi_data/stats_alt_reg/FA/sub-161_in-MNI_FA_AFTER-minus-BEFORE.nii.gz /export2/DATA/HIS/HIS_server/analysis/dwi_data/stats_alt_reg/FA/sub-162_in-MNI_FA_AFTER-minus-BEFORE.nii.gz /export2/DATA/HIS/HIS_server/analysis/dwi_data/stats_alt_reg/FA/sub-163_in-MNI_FA_AFTER-minus-BEFORE.nii.gz /export2/DATA/HIS/HIS_server/analysis/dwi_data/stats_alt_reg/FA/sub-164_in-MNI_FA_AFTER-minus-BEFORE.nii.gz /export2/DATA/HIS/HIS_server/analysis/dwi_data/stats_alt_reg/FA/sub-166_in-MNI_FA_AFTER-minus-BEFORE.nii.gz /export2/DATA/HIS/HIS_server/analysis/dwi_data/stats_alt_reg/FA/sub-167_in-MNI_FA_AFTER-minus-BEFORE.nii.gz /export2/DATA/HIS/HIS_server/analysis/dwi_data/stats_alt_reg/FA/sub-168_in-MNI_FA_AFTER-minus-BEFORE.nii.gz /export2/DATA/HIS/HIS_server/analysis/dwi_data/stats_alt_reg/FA/sub-169_in-MNI_FA_AFTER-minus-BEFORE.nii.gz /export2/DATA/HIS/HIS_server/analysis/dwi_data/stats_alt_reg/FA/sub-170_in-MNI_FA_AFTER-minus-BEFORE.nii.gz /export2/DATA/HIS/HIS_server/analysis/dwi_data/stats_alt_reg/FA/sub-171_in-MNI_FA_AFTER-minus-BEFORE.nii.gz /export2/DATA/HIS/HIS_server/analysis/dwi_data/stats_alt_reg/FA/sub-172_in-MNI_FA_AFTER-minus-BEFORE.nii.gz /export2/DATA/HIS/HIS_server/analysis/dwi_data/stats_alt_reg/FA/sub-174_in-MNI_FA_AFTER-minus-BEFORE.nii.gz /export2/DATA/HIS/HIS_server/analysis/dwi_data/stats_alt_reg/FA/sub-175_in-MNI_FA_AFTER-minus-BEFORE.nii.gz\n",
      "fslmerge -t /export2/DATA/HIS/HIS_server/analysis/dwi_data/stats_alt_reg/FA/LONG_individualDiff_BEFORE_minus_AFTER_FA /export2/DATA/HIS/HIS_server/analysis/dwi_data/stats_alt_reg/FA/sub-204_in-MNI_FA_BEFORE-minus-AFTER.nii.gz /export2/DATA/HIS/HIS_server/analysis/dwi_data/stats_alt_reg/FA/sub-205_in-MNI_FA_BEFORE-minus-AFTER.nii.gz /export2/DATA/HIS/HIS_server/analysis/dwi_data/stats_alt_reg/FA/sub-207_in-MNI_FA_BEFORE-minus-AFTER.nii.gz /export2/DATA/HIS/HIS_server/analysis/dwi_data/stats_alt_reg/FA/sub-208_in-MNI_FA_BEFORE-minus-AFTER.nii.gz /export2/DATA/HIS/HIS_server/analysis/dwi_data/stats_alt_reg/FA/sub-209_in-MNI_FA_BEFORE-minus-AFTER.nii.gz /export2/DATA/HIS/HIS_server/analysis/dwi_data/stats_alt_reg/FA/sub-210_in-MNI_FA_BEFORE-minus-AFTER.nii.gz /export2/DATA/HIS/HIS_server/analysis/dwi_data/stats_alt_reg/FA/sub-212_in-MNI_FA_BEFORE-minus-AFTER.nii.gz /export2/DATA/HIS/HIS_server/analysis/dwi_data/stats_alt_reg/FA/sub-214_in-MNI_FA_BEFORE-minus-AFTER.nii.gz /export2/DATA/HIS/HIS_server/analysis/dwi_data/stats_alt_reg/FA/sub-215_in-MNI_FA_BEFORE-minus-AFTER.nii.gz /export2/DATA/HIS/HIS_server/analysis/dwi_data/stats_alt_reg/FA/sub-217_in-MNI_FA_BEFORE-minus-AFTER.nii.gz /export2/DATA/HIS/HIS_server/analysis/dwi_data/stats_alt_reg/FA/sub-218_in-MNI_FA_BEFORE-minus-AFTER.nii.gz /export2/DATA/HIS/HIS_server/analysis/dwi_data/stats_alt_reg/FA/sub-220_in-MNI_FA_BEFORE-minus-AFTER.nii.gz /export2/DATA/HIS/HIS_server/analysis/dwi_data/stats_alt_reg/FA/sub-221_in-MNI_FA_BEFORE-minus-AFTER.nii.gz /export2/DATA/HIS/HIS_server/analysis/dwi_data/stats_alt_reg/FA/sub-223_in-MNI_FA_BEFORE-minus-AFTER.nii.gz /export2/DATA/HIS/HIS_server/analysis/dwi_data/stats_alt_reg/FA/sub-224_in-MNI_FA_BEFORE-minus-AFTER.nii.gz /export2/DATA/HIS/HIS_server/analysis/dwi_data/stats_alt_reg/FA/sub-225_in-MNI_FA_BEFORE-minus-AFTER.nii.gz /export2/DATA/HIS/HIS_server/analysis/dwi_data/stats_alt_reg/FA/sub-227_in-MNI_FA_BEFORE-minus-AFTER.nii.gz /export2/DATA/HIS/HIS_server/analysis/dwi_data/stats_alt_reg/FA/sub-229_in-MNI_FA_BEFORE-minus-AFTER.nii.gz /export2/DATA/HIS/HIS_server/analysis/dwi_data/stats_alt_reg/FA/sub-230_in-MNI_FA_BEFORE-minus-AFTER.nii.gz /export2/DATA/HIS/HIS_server/analysis/dwi_data/stats_alt_reg/FA/sub-232_in-MNI_FA_BEFORE-minus-AFTER.nii.gz /export2/DATA/HIS/HIS_server/analysis/dwi_data/stats_alt_reg/FA/sub-234_in-MNI_FA_BEFORE-minus-AFTER.nii.gz /export2/DATA/HIS/HIS_server/analysis/dwi_data/stats_alt_reg/FA/sub-235_in-MNI_FA_BEFORE-minus-AFTER.nii.gz /export2/DATA/HIS/HIS_server/analysis/dwi_data/stats_alt_reg/FA/sub-238_in-MNI_FA_BEFORE-minus-AFTER.nii.gz /export2/DATA/HIS/HIS_server/analysis/dwi_data/stats_alt_reg/FA/sub-239_in-MNI_FA_BEFORE-minus-AFTER.nii.gz /export2/DATA/HIS/HIS_server/analysis/dwi_data/stats_alt_reg/FA/sub-240_in-MNI_FA_BEFORE-minus-AFTER.nii.gz /export2/DATA/HIS/HIS_server/analysis/dwi_data/stats_alt_reg/FA/sub-241_in-MNI_FA_BEFORE-minus-AFTER.nii.gz /export2/DATA/HIS/HIS_server/analysis/dwi_data/stats_alt_reg/FA/sub-242_in-MNI_FA_BEFORE-minus-AFTER.nii.gz /export2/DATA/HIS/HIS_server/analysis/dwi_data/stats_alt_reg/FA/sub-243_in-MNI_FA_BEFORE-minus-AFTER.nii.gz /export2/DATA/HIS/HIS_server/analysis/dwi_data/stats_alt_reg/FA/sub-245_in-MNI_FA_BEFORE-minus-AFTER.nii.gz /export2/DATA/HIS/HIS_server/analysis/dwi_data/stats_alt_reg/FA/sub-247_in-MNI_FA_BEFORE-minus-AFTER.nii.gz /export2/DATA/HIS/HIS_server/analysis/dwi_data/stats_alt_reg/FA/sub-248_in-MNI_FA_BEFORE-minus-AFTER.nii.gz /export2/DATA/HIS/HIS_server/analysis/dwi_data/stats_alt_reg/FA/sub-249_in-MNI_FA_BEFORE-minus-AFTER.nii.gz /export2/DATA/HIS/HIS_server/analysis/dwi_data/stats_alt_reg/FA/sub-251_in-MNI_FA_BEFORE-minus-AFTER.nii.gz /export2/DATA/HIS/HIS_server/analysis/dwi_data/stats_alt_reg/FA/sub-252_in-MNI_FA_BEFORE-minus-AFTER.nii.gz /export2/DATA/HIS/HIS_server/analysis/dwi_data/stats_alt_reg/FA/sub-254_in-MNI_FA_BEFORE-minus-AFTER.nii.gz /export2/DATA/HIS/HIS_server/analysis/dwi_data/stats_alt_reg/FA/sub-255_in-MNI_FA_BEFORE-minus-AFTER.nii.gz /export2/DATA/HIS/HIS_server/analysis/dwi_data/stats_alt_reg/FA/sub-257_in-MNI_FA_BEFORE-minus-AFTER.nii.gz /export2/DATA/HIS/HIS_server/analysis/dwi_data/stats_alt_reg/FA/sub-258_in-MNI_FA_BEFORE-minus-AFTER.nii.gz /export2/DATA/HIS/HIS_server/analysis/dwi_data/stats_alt_reg/FA/sub-260_in-MNI_FA_BEFORE-minus-AFTER.nii.gz /export2/DATA/HIS/HIS_server/analysis/dwi_data/stats_alt_reg/FA/sub-261_in-MNI_FA_BEFORE-minus-AFTER.nii.gz /export2/DATA/HIS/HIS_server/analysis/dwi_data/stats_alt_reg/FA/sub-262_in-MNI_FA_BEFORE-minus-AFTER.nii.gz /export2/DATA/HIS/HIS_server/analysis/dwi_data/stats_alt_reg/FA/sub-263_in-MNI_FA_BEFORE-minus-AFTER.nii.gz /export2/DATA/HIS/HIS_server/analysis/dwi_data/stats_alt_reg/FA/sub-264_in-MNI_FA_BEFORE-minus-AFTER.nii.gz /export2/DATA/HIS/HIS_server/analysis/dwi_data/stats_alt_reg/FA/sub-265_in-MNI_FA_BEFORE-minus-AFTER.nii.gz /export2/DATA/HIS/HIS_server/analysis/dwi_data/stats_alt_reg/FA/sub-267_in-MNI_FA_BEFORE-minus-AFTER.nii.gz /export2/DATA/HIS/HIS_server/analysis/dwi_data/stats_alt_reg/FA/sub-268_in-MNI_FA_BEFORE-minus-AFTER.nii.gz /export2/DATA/HIS/HIS_server/analysis/dwi_data/stats_alt_reg/FA/sub-269_in-MNI_FA_BEFORE-minus-AFTER.nii.gz /export2/DATA/HIS/HIS_server/analysis/dwi_data/stats_alt_reg/FA/sub-270_in-MNI_FA_BEFORE-minus-AFTER.nii.gz /export2/DATA/HIS/HIS_server/analysis/dwi_data/stats_alt_reg/FA/sub-271_in-MNI_FA_BEFORE-minus-AFTER.nii.gz /export2/DATA/HIS/HIS_server/analysis/dwi_data/stats_alt_reg/FA/sub-272_in-MNI_FA_BEFORE-minus-AFTER.nii.gz /export2/DATA/HIS/HIS_server/analysis/dwi_data/stats_alt_reg/FA/sub-275_in-MNI_FA_BEFORE-minus-AFTER.nii.gz /export2/DATA/HIS/HIS_server/analysis/dwi_data/stats_alt_reg/FA/sub-276_in-MNI_FA_BEFORE-minus-AFTER.nii.gz /export2/DATA/HIS/HIS_server/analysis/dwi_data/stats_alt_reg/FA/sub-277_in-MNI_FA_BEFORE-minus-AFTER.nii.gz /export2/DATA/HIS/HIS_server/analysis/dwi_data/stats_alt_reg/FA/sub-278_in-MNI_FA_BEFORE-minus-AFTER.nii.gz /export2/DATA/HIS/HIS_server/analysis/dwi_data/stats_alt_reg/FA/sub-280_in-MNI_FA_BEFORE-minus-AFTER.nii.gz /export2/DATA/HIS/HIS_server/analysis/dwi_data/stats_alt_reg/FA/sub-281_in-MNI_FA_BEFORE-minus-AFTER.nii.gz /export2/DATA/HIS/HIS_server/analysis/dwi_data/stats_alt_reg/FA/sub-282_in-MNI_FA_BEFORE-minus-AFTER.nii.gz /export2/DATA/HIS/HIS_server/analysis/dwi_data/stats_alt_reg/FA/sub-283_in-MNI_FA_BEFORE-minus-AFTER.nii.gz /export2/DATA/HIS/HIS_server/analysis/dwi_data/stats_alt_reg/FA/sub-284_in-MNI_FA_BEFORE-minus-AFTER.nii.gz /export2/DATA/HIS/HIS_server/analysis/dwi_data/stats_alt_reg/FA/sub-285_in-MNI_FA_BEFORE-minus-AFTER.nii.gz\n",
      "fslmerge -t /export2/DATA/HIS/HIS_server/analysis/dwi_data/stats_alt_reg/FA/SHORT_individualDiff_BEFORE_minus_AFTER_FA /export2/DATA/HIS/HIS_server/analysis/dwi_data/stats_alt_reg/FA/sub-103_in-MNI_FA_BEFORE-minus-AFTER.nii.gz /export2/DATA/HIS/HIS_server/analysis/dwi_data/stats_alt_reg/FA/sub-104_in-MNI_FA_BEFORE-minus-AFTER.nii.gz /export2/DATA/HIS/HIS_server/analysis/dwi_data/stats_alt_reg/FA/sub-106_in-MNI_FA_BEFORE-minus-AFTER.nii.gz /export2/DATA/HIS/HIS_server/analysis/dwi_data/stats_alt_reg/FA/sub-107_in-MNI_FA_BEFORE-minus-AFTER.nii.gz /export2/DATA/HIS/HIS_server/analysis/dwi_data/stats_alt_reg/FA/sub-108_in-MNI_FA_BEFORE-minus-AFTER.nii.gz /export2/DATA/HIS/HIS_server/analysis/dwi_data/stats_alt_reg/FA/sub-110_in-MNI_FA_BEFORE-minus-AFTER.nii.gz /export2/DATA/HIS/HIS_server/analysis/dwi_data/stats_alt_reg/FA/sub-113_in-MNI_FA_BEFORE-minus-AFTER.nii.gz /export2/DATA/HIS/HIS_server/analysis/dwi_data/stats_alt_reg/FA/sub-114_in-MNI_FA_BEFORE-minus-AFTER.nii.gz /export2/DATA/HIS/HIS_server/analysis/dwi_data/stats_alt_reg/FA/sub-115_in-MNI_FA_BEFORE-minus-AFTER.nii.gz /export2/DATA/HIS/HIS_server/analysis/dwi_data/stats_alt_reg/FA/sub-117_in-MNI_FA_BEFORE-minus-AFTER.nii.gz /export2/DATA/HIS/HIS_server/analysis/dwi_data/stats_alt_reg/FA/sub-118_in-MNI_FA_BEFORE-minus-AFTER.nii.gz /export2/DATA/HIS/HIS_server/analysis/dwi_data/stats_alt_reg/FA/sub-119_in-MNI_FA_BEFORE-minus-AFTER.nii.gz /export2/DATA/HIS/HIS_server/analysis/dwi_data/stats_alt_reg/FA/sub-120_in-MNI_FA_BEFORE-minus-AFTER.nii.gz /export2/DATA/HIS/HIS_server/analysis/dwi_data/stats_alt_reg/FA/sub-121_in-MNI_FA_BEFORE-minus-AFTER.nii.gz /export2/DATA/HIS/HIS_server/analysis/dwi_data/stats_alt_reg/FA/sub-122_in-MNI_FA_BEFORE-minus-AFTER.nii.gz /export2/DATA/HIS/HIS_server/analysis/dwi_data/stats_alt_reg/FA/sub-124_in-MNI_FA_BEFORE-minus-AFTER.nii.gz /export2/DATA/HIS/HIS_server/analysis/dwi_data/stats_alt_reg/FA/sub-126_in-MNI_FA_BEFORE-minus-AFTER.nii.gz /export2/DATA/HIS/HIS_server/analysis/dwi_data/stats_alt_reg/FA/sub-127_in-MNI_FA_BEFORE-minus-AFTER.nii.gz /export2/DATA/HIS/HIS_server/analysis/dwi_data/stats_alt_reg/FA/sub-128_in-MNI_FA_BEFORE-minus-AFTER.nii.gz /export2/DATA/HIS/HIS_server/analysis/dwi_data/stats_alt_reg/FA/sub-129_in-MNI_FA_BEFORE-minus-AFTER.nii.gz /export2/DATA/HIS/HIS_server/analysis/dwi_data/stats_alt_reg/FA/sub-130_in-MNI_FA_BEFORE-minus-AFTER.nii.gz /export2/DATA/HIS/HIS_server/analysis/dwi_data/stats_alt_reg/FA/sub-131_in-MNI_FA_BEFORE-minus-AFTER.nii.gz /export2/DATA/HIS/HIS_server/analysis/dwi_data/stats_alt_reg/FA/sub-133_in-MNI_FA_BEFORE-minus-AFTER.nii.gz /export2/DATA/HIS/HIS_server/analysis/dwi_data/stats_alt_reg/FA/sub-135_in-MNI_FA_BEFORE-minus-AFTER.nii.gz /export2/DATA/HIS/HIS_server/analysis/dwi_data/stats_alt_reg/FA/sub-137_in-MNI_FA_BEFORE-minus-AFTER.nii.gz /export2/DATA/HIS/HIS_server/analysis/dwi_data/stats_alt_reg/FA/sub-138_in-MNI_FA_BEFORE-minus-AFTER.nii.gz /export2/DATA/HIS/HIS_server/analysis/dwi_data/stats_alt_reg/FA/sub-139_in-MNI_FA_BEFORE-minus-AFTER.nii.gz /export2/DATA/HIS/HIS_server/analysis/dwi_data/stats_alt_reg/FA/sub-140_in-MNI_FA_BEFORE-minus-AFTER.nii.gz /export2/DATA/HIS/HIS_server/analysis/dwi_data/stats_alt_reg/FA/sub-141_in-MNI_FA_BEFORE-minus-AFTER.nii.gz /export2/DATA/HIS/HIS_server/analysis/dwi_data/stats_alt_reg/FA/sub-142_in-MNI_FA_BEFORE-minus-AFTER.nii.gz /export2/DATA/HIS/HIS_server/analysis/dwi_data/stats_alt_reg/FA/sub-143_in-MNI_FA_BEFORE-minus-AFTER.nii.gz /export2/DATA/HIS/HIS_server/analysis/dwi_data/stats_alt_reg/FA/sub-144_in-MNI_FA_BEFORE-minus-AFTER.nii.gz /export2/DATA/HIS/HIS_server/analysis/dwi_data/stats_alt_reg/FA/sub-145_in-MNI_FA_BEFORE-minus-AFTER.nii.gz /export2/DATA/HIS/HIS_server/analysis/dwi_data/stats_alt_reg/FA/sub-146_in-MNI_FA_BEFORE-minus-AFTER.nii.gz /export2/DATA/HIS/HIS_server/analysis/dwi_data/stats_alt_reg/FA/sub-147_in-MNI_FA_BEFORE-minus-AFTER.nii.gz /export2/DATA/HIS/HIS_server/analysis/dwi_data/stats_alt_reg/FA/sub-148_in-MNI_FA_BEFORE-minus-AFTER.nii.gz /export2/DATA/HIS/HIS_server/analysis/dwi_data/stats_alt_reg/FA/sub-149_in-MNI_FA_BEFORE-minus-AFTER.nii.gz /export2/DATA/HIS/HIS_server/analysis/dwi_data/stats_alt_reg/FA/sub-150_in-MNI_FA_BEFORE-minus-AFTER.nii.gz /export2/DATA/HIS/HIS_server/analysis/dwi_data/stats_alt_reg/FA/sub-151_in-MNI_FA_BEFORE-minus-AFTER.nii.gz /export2/DATA/HIS/HIS_server/analysis/dwi_data/stats_alt_reg/FA/sub-152_in-MNI_FA_BEFORE-minus-AFTER.nii.gz /export2/DATA/HIS/HIS_server/analysis/dwi_data/stats_alt_reg/FA/sub-153_in-MNI_FA_BEFORE-minus-AFTER.nii.gz /export2/DATA/HIS/HIS_server/analysis/dwi_data/stats_alt_reg/FA/sub-154_in-MNI_FA_BEFORE-minus-AFTER.nii.gz /export2/DATA/HIS/HIS_server/analysis/dwi_data/stats_alt_reg/FA/sub-155_in-MNI_FA_BEFORE-minus-AFTER.nii.gz /export2/DATA/HIS/HIS_server/analysis/dwi_data/stats_alt_reg/FA/sub-156_in-MNI_FA_BEFORE-minus-AFTER.nii.gz /export2/DATA/HIS/HIS_server/analysis/dwi_data/stats_alt_reg/FA/sub-157_in-MNI_FA_BEFORE-minus-AFTER.nii.gz /export2/DATA/HIS/HIS_server/analysis/dwi_data/stats_alt_reg/FA/sub-158_in-MNI_FA_BEFORE-minus-AFTER.nii.gz /export2/DATA/HIS/HIS_server/analysis/dwi_data/stats_alt_reg/FA/sub-160_in-MNI_FA_BEFORE-minus-AFTER.nii.gz /export2/DATA/HIS/HIS_server/analysis/dwi_data/stats_alt_reg/FA/sub-161_in-MNI_FA_BEFORE-minus-AFTER.nii.gz /export2/DATA/HIS/HIS_server/analysis/dwi_data/stats_alt_reg/FA/sub-162_in-MNI_FA_BEFORE-minus-AFTER.nii.gz /export2/DATA/HIS/HIS_server/analysis/dwi_data/stats_alt_reg/FA/sub-163_in-MNI_FA_BEFORE-minus-AFTER.nii.gz /export2/DATA/HIS/HIS_server/analysis/dwi_data/stats_alt_reg/FA/sub-164_in-MNI_FA_BEFORE-minus-AFTER.nii.gz /export2/DATA/HIS/HIS_server/analysis/dwi_data/stats_alt_reg/FA/sub-166_in-MNI_FA_BEFORE-minus-AFTER.nii.gz /export2/DATA/HIS/HIS_server/analysis/dwi_data/stats_alt_reg/FA/sub-167_in-MNI_FA_BEFORE-minus-AFTER.nii.gz /export2/DATA/HIS/HIS_server/analysis/dwi_data/stats_alt_reg/FA/sub-168_in-MNI_FA_BEFORE-minus-AFTER.nii.gz /export2/DATA/HIS/HIS_server/analysis/dwi_data/stats_alt_reg/FA/sub-169_in-MNI_FA_BEFORE-minus-AFTER.nii.gz /export2/DATA/HIS/HIS_server/analysis/dwi_data/stats_alt_reg/FA/sub-170_in-MNI_FA_BEFORE-minus-AFTER.nii.gz /export2/DATA/HIS/HIS_server/analysis/dwi_data/stats_alt_reg/FA/sub-171_in-MNI_FA_BEFORE-minus-AFTER.nii.gz /export2/DATA/HIS/HIS_server/analysis/dwi_data/stats_alt_reg/FA/sub-172_in-MNI_FA_BEFORE-minus-AFTER.nii.gz /export2/DATA/HIS/HIS_server/analysis/dwi_data/stats_alt_reg/FA/sub-174_in-MNI_FA_BEFORE-minus-AFTER.nii.gz /export2/DATA/HIS/HIS_server/analysis/dwi_data/stats_alt_reg/FA/sub-175_in-MNI_FA_BEFORE-minus-AFTER.nii.gz\n"
     ]
    }
   ],
   "source": [
    "for map_type in ['MD','FA']:          \n",
    "    print(f\"fslmerge -t {os.path.join(stats_path, map_type, f'LONG_individualDiff_AFTER_minus_BEFORE_{map_type}')} {' '.join([os.path.join(stats_path, map_type, f'{sub}_in-MNI_{map_type}_AFTER-minus-BEFORE.nii.gz') for sub in subjFoldersDTI_long])}\")\n",
    "    os.system(f\"fslmerge -t {os.path.join(stats_path, map_type, f'LONG_individualDiff_AFTER_minus_BEFORE_{map_type}')} {' '.join([os.path.join(stats_path, map_type, f'{sub}_in-MNI_{map_type}_AFTER-minus-BEFORE.nii.gz') for sub in subjFoldersDTI_long])}\")\n",
    "\n",
    "    print(f\"fslmerge -t {os.path.join(stats_path, map_type, f'SHORT_individualDiff_AFTER_minus_BEFORE_{map_type}')} {' '.join([os.path.join(stats_path, map_type, f'{sub}_in-MNI_{map_type}_AFTER-minus-BEFORE.nii.gz') for sub in subjFoldersDTI_short])}\")\n",
    "    os.system(f\"fslmerge -t {os.path.join(stats_path, map_type, f'SHORT_individualDiff_AFTER_minus_BEFORE_{map_type}')} {' '.join([os.path.join(stats_path, map_type, f'{sub}_in-MNI_{map_type}_AFTER-minus-BEFORE.nii.gz') for sub in subjFoldersDTI_short])}\")\n",
    "\n",
    "    print(f\"fslmerge -t {os.path.join(stats_path, map_type, f'LONG_individualDiff_BEFORE_minus_AFTER_{map_type}')} {' '.join([os.path.join(stats_path, map_type, f'{sub}_in-MNI_{map_type}_BEFORE-minus-AFTER.nii.gz') for sub in subjFoldersDTI_long])}\")\n",
    "    os.system(f\"fslmerge -t {os.path.join(stats_path, map_type, f'LONG_individualDiff_BEFORE_minus_AFTER_{map_type}')} {' '.join([os.path.join(stats_path, map_type, f'{sub}_in-MNI_{map_type}_BEFORE-minus-AFTER.nii.gz') for sub in subjFoldersDTI_long])}\")\n",
    "\n",
    "    print(f\"fslmerge -t {os.path.join(stats_path, map_type, f'SHORT_individualDiff_BEFORE_minus_AFTER_{map_type}')} {' '.join([os.path.join(stats_path, map_type, f'{sub}_in-MNI_{map_type}_BEFORE-minus-AFTER.nii.gz') for sub in subjFoldersDTI_short])}\")\n",
    "    os.system(f\"fslmerge -t {os.path.join(stats_path, map_type, f'SHORT_individualDiff_BEFORE_minus_AFTER_{map_type}')} {' '.join([os.path.join(stats_path, map_type, f'{sub}_in-MNI_{map_type}_BEFORE-minus-AFTER.nii.gz') for sub in subjFoldersDTI_short])}\")\n"
   ]
  },
  {
   "cell_type": "markdown",
   "metadata": {},
   "source": [
    "### Settings"
   ]
  },
  {
   "cell_type": "code",
   "execution_count": 11,
   "metadata": {},
   "outputs": [],
   "source": [
    "# a function to run randomise for the individual differences analyses:\n",
    "def runRandomiseIndividualDiffs(group, map_type, region):\n",
    "    print(f'Running randomise for individual differences:\\n--- {group} training group | {map_type} | {region} ---\\n')\n",
    "    #print(f'MAKE SURE TO REPLACE IN THE FUNCTION THE the print to os.system before running the command !!!\\n')\n",
    "    os.system(f\"randomise_parallel \\\n",
    "        -i {os.path.join(stats_path, map_type, f'{group}_individualDiff_AFTER_minus_BEFORE_{map_type}')} \\\n",
    "        -o {os.path.join(stats_path, map_type, f'{group}_individualDiff_AFTER_minus_BEFORE_{map_type}_{region}')} \\\n",
    "        {'' if region=='whole_brain' else f'-m {masks_paths[region]}'} \\\n",
    "        -d {os.path.join(stats_path, 'models', 'individual_differences', f'design_indivdual_diff_{group}.mat')} \\\n",
    "        -t {os.path.join(stats_path, 'models', 'individual_differences', 'design_indivdual_diff.con')}  \\\n",
    "        -n 6000 -C 3.1 -D\")\n",
    "\n",
    "\n",
    "# Get cluster info:\n",
    "def getClusterInfoIndividualDiffs(group, map_type, region, ReversedSigThresh='0.90'):\n",
    "    print(f'Test for POSITIVE relationship between:\\n--- increase in {map_type} and GOAL-DIRECTEDNESS in: {region} | group: {group} ---\\n')\n",
    "    print(os.popen(f'cluster \\\n",
    "        -i {os.path.join(stats_path, map_type, f\"{group}_individualDiff_AFTER_minus_BEFORE_{map_type}_{region}_clusterm_corrp_tstat1.nii.gz\")} \\\n",
    "        -c {os.path.join(stats_path, map_type, f\"{group}_individualDiff_AFTER_minus_BEFORE_{map_type}_{region}_tstat1.nii.gz\")}\\\n",
    "        -t {ReversedSigThresh} \\\n",
    "        --scalarname=corrp' + '\"1-p\"').read())\n",
    "\n",
    "    print(f'Test for NEGATIVE relationship between:\\n--- increase in {map_type} and GOAL-DIRECTEDNESS in: {region} | group: {group} ---\\n')\n",
    "    print(os.popen(f'cluster \\\n",
    "        -i {os.path.join(stats_path, map_type, f\"{group}_individualDiff_AFTER_minus_BEFORE_{map_type}_{region}_clusterm_corrp_tstat2.nii.gz\")} \\\n",
    "        -c {os.path.join(stats_path, map_type, f\"{group}_individualDiff_AFTER_minus_BEFORE_{map_type}_{region}_tstat2.nii.gz\")}\\\n",
    "        -t {ReversedSigThresh} \\\n",
    "        --scalarname=corrp' + '\"1-p\"').read())\n",
    "\n",
    "# Create a binary mask for the clusters:\n",
    "def createBinaryMaskIndividualDiffs(group, map_type, region, contrast, ReversedSigThresh='0.95'):\n",
    "    print(f'Create a binary mask for the cluster:\\n--- contrast {contrast} in: {map_type} | {region} | group: {group} ---\\n')\n",
    "    print(f'fslmaths {os.path.join(stats_path, map_type, f\"{group}_individualDiff_AFTER_minus_BEFORE_{map_type}_{region}_clusterm_corrp_tstat{contrast}.nii.gz\")} \\\n",
    "        -thr {ReversedSigThresh} -bin {os.path.join(stats_path, map_type, f\"{group}_individualDiff_AFTER_minus_BEFORE_{map_type}_{region}_contrast_{contrast}_bin_mask.nii.gz\")}')\n",
    "    os.system(f'fslmaths {os.path.join(stats_path, map_type, f\"{group}_individualDiff_AFTER_minus_BEFORE_{map_type}_{region}_clusterm_corrp_tstat{contrast}.nii.gz\")} \\\n",
    "        -thr {ReversedSigThresh} -bin {os.path.join(stats_path, map_type, f\"{group}_individualDiff_AFTER_minus_BEFORE_{map_type}_{region}_contrast_{contrast}_bin_mask.nii.gz\")}')\n",
    "    # create also a t-stat of the significant cluster:\n",
    "    print(f'fslmaths {os.path.join(stats_path, map_type, f\"{group}_individualDiff_AFTER_minus_BEFORE_{map_type}_{region}_tstat{contrast}.nii.gz\")} \\\n",
    "        -mul {os.path.join(stats_path, map_type, f\"{group}_individualDiff_AFTER_minus_BEFORE_{map_type}_{region}_contrast_{contrast}_bin_mask.nii.gz\")} \\\n",
    "            {os.path.join(stats_path, map_type, f\"{group}_individualDiff_AFTER_minus_BEFORE_{map_type}_{region}_tstat{contrast}_in_sig_cluster.nii.gz\")}')\n",
    "    os.system(f'fslmaths {os.path.join(stats_path, map_type, f\"{group}_individualDiff_AFTER_minus_BEFORE_{map_type}_{region}_tstat{contrast}.nii.gz\")} \\\n",
    "        -mul {os.path.join(stats_path, map_type, f\"{group}_individualDiff_AFTER_minus_BEFORE_{map_type}_{region}_contrast_{contrast}_bin_mask.nii.gz\")} \\\n",
    "            {os.path.join(stats_path, map_type, f\"{group}_individualDiff_AFTER_minus_BEFORE_{map_type}_{region}_tstat{contrast}_in_sig_cluster.nii.gz\")}')\n",
    "\n",
    "\n",
    "# get mean value of the cluster using a mask:\n",
    "def getClusterMeans(group, map_type, region, contrast):\n",
    "    print(f'Get mean value of a cluster:\\n--- contrast {contrast} in: {map_type} | {region} | group: {group} ---\\n')\n",
    "    print(f'fslstats -t {os.path.join(stats_path, map_type, f\"{group}_individualDiff_AFTER_minus_BEFORE_{map_type}.nii.gz\")} \\\n",
    "        -k {os.path.join(stats_path, map_type, f\"{group}_individualDiff_AFTER_minus_BEFORE_{map_type}_{region}_contrast_{contrast}_bin_mask.nii.gz\")} -M')    \n",
    "    avgs=os.popen(f'fslstats -t {os.path.join(stats_path, map_type, f\"{group}_individualDiff_AFTER_minus_BEFORE_{map_type}.nii.gz\")} \\\n",
    "        -k {os.path.join(stats_path, map_type, f\"{group}_individualDiff_AFTER_minus_BEFORE_{map_type}_{region}_contrast_{contrast}_bin_mask.nii.gz\")} -M').read()\n",
    "    return [float(i) for i in avgs.split(' \\n')[:-1]]\n",
    "    "
   ]
  },
  {
   "cell_type": "markdown",
   "metadata": {},
   "source": [
    "## SHORT TRAINING"
   ]
  },
  {
   "cell_type": "code",
   "execution_count": 100,
   "metadata": {},
   "outputs": [],
   "source": [
    "group = 'SHORT'"
   ]
  },
  {
   "cell_type": "markdown",
   "metadata": {},
   "source": [
    "### Whole brain - FA"
   ]
  },
  {
   "cell_type": "code",
   "execution_count": 68,
   "metadata": {},
   "outputs": [],
   "source": [
    "map_type='FA'\n",
    "region='whole_brain'"
   ]
  },
  {
   "cell_type": "code",
   "execution_count": 69,
   "metadata": {},
   "outputs": [
    {
     "name": "stdout",
     "output_type": "stream",
     "text": [
      "Running randomise for individual differences:\n",
      "--- SHORT training group | FA | whole_brain ---\n",
      "\n"
     ]
    }
   ],
   "source": [
    "runRandomiseIndividualDiffs(group, map_type, region)"
   ]
  },
  {
   "cell_type": "code",
   "execution_count": 70,
   "metadata": {},
   "outputs": [
    {
     "name": "stdout",
     "output_type": "stream",
     "text": [
      "Test for POSITIVE relationship between:\n",
      "--- increase in FA and GOAL-DIRECTEDNESS in: whole_brain | group: SHORT ---\n",
      "\n",
      "Cluster Index\tVoxels\tcorrp1-p-MAX\tcorrp1-p-MAX X (vox)\tcorrp1-p-MAX Y (vox)\tcorrp1-p-MAX Z (vox)\tcorrp1-p-COG X (vox)\tcorrp1-p-COG Y (vox)\tcorrp1-p-COG Z (vox)\tCOPE-MAX\tCOPE-MAX X (vox)\tCOPE-MAX Y (vox)\tCOPE-MAX Z (vox)\tCOPE-MEAN\n",
      "\n",
      "Test for NEGATIVE relationship between:\n",
      "--- increase in FA and GOAL-DIRECTEDNESS in: whole_brain | group: SHORT ---\n",
      "\n",
      "Cluster Index\tVoxels\tcorrp1-p-MAX\tcorrp1-p-MAX X (vox)\tcorrp1-p-MAX Y (vox)\tcorrp1-p-MAX Z (vox)\tcorrp1-p-COG X (vox)\tcorrp1-p-COG Y (vox)\tcorrp1-p-COG Z (vox)\tCOPE-MAX\tCOPE-MAX X (vox)\tCOPE-MAX Y (vox)\tCOPE-MAX Z (vox)\tCOPE-MEAN\n",
      "\n"
     ]
    }
   ],
   "source": [
    "getClusterInfoIndividualDiffs(group, map_type, region, ReversedSigThresh='0.90')"
   ]
  },
  {
   "cell_type": "markdown",
   "metadata": {},
   "source": [
    ">>>>> RESULT: NOTHING"
   ]
  },
  {
   "cell_type": "markdown",
   "metadata": {},
   "source": [
    "### Putamen - FA"
   ]
  },
  {
   "cell_type": "code",
   "execution_count": 71,
   "metadata": {},
   "outputs": [],
   "source": [
    "region='Putamen'"
   ]
  },
  {
   "cell_type": "code",
   "execution_count": 72,
   "metadata": {},
   "outputs": [
    {
     "name": "stdout",
     "output_type": "stream",
     "text": [
      "Running randomise for individual differences:\n",
      "--- SHORT training group | FA | Putamen ---\n",
      "\n"
     ]
    }
   ],
   "source": [
    "runRandomiseIndividualDiffs(group, map_type, region)"
   ]
  },
  {
   "cell_type": "code",
   "execution_count": 73,
   "metadata": {},
   "outputs": [
    {
     "name": "stdout",
     "output_type": "stream",
     "text": [
      "Test for POSITIVE relationship between:\n",
      "--- increase in FA and GOAL-DIRECTEDNESS in: Putamen | group: SHORT ---\n",
      "\n",
      "Cluster Index\tVoxels\tcorrp1-p-MAX\tcorrp1-p-MAX X (vox)\tcorrp1-p-MAX Y (vox)\tcorrp1-p-MAX Z (vox)\tcorrp1-p-COG X (vox)\tcorrp1-p-COG Y (vox)\tcorrp1-p-COG Z (vox)\tCOPE-MAX\tCOPE-MAX X (vox)\tCOPE-MAX Y (vox)\tCOPE-MAX Z (vox)\tCOPE-MEAN\n",
      "\n",
      "Test for NEGATIVE relationship between:\n",
      "--- increase in FA and GOAL-DIRECTEDNESS in: Putamen | group: SHORT ---\n",
      "\n",
      "Cluster Index\tVoxels\tcorrp1-p-MAX\tcorrp1-p-MAX X (vox)\tcorrp1-p-MAX Y (vox)\tcorrp1-p-MAX Z (vox)\tcorrp1-p-COG X (vox)\tcorrp1-p-COG Y (vox)\tcorrp1-p-COG Z (vox)\tCOPE-MAX\tCOPE-MAX X (vox)\tCOPE-MAX Y (vox)\tCOPE-MAX Z (vox)\tCOPE-MEAN\n",
      "\n"
     ]
    }
   ],
   "source": [
    "getClusterInfoIndividualDiffs(group, map_type, region, ReversedSigThresh='0.90')"
   ]
  },
  {
   "cell_type": "markdown",
   "metadata": {},
   "source": [
    ">>>>> RESULT: NOTHING"
   ]
  },
  {
   "cell_type": "markdown",
   "metadata": {},
   "source": [
    "### Caudate - FA"
   ]
  },
  {
   "cell_type": "code",
   "execution_count": 74,
   "metadata": {},
   "outputs": [],
   "source": [
    "region='Caudate'"
   ]
  },
  {
   "cell_type": "code",
   "execution_count": 75,
   "metadata": {},
   "outputs": [
    {
     "name": "stdout",
     "output_type": "stream",
     "text": [
      "Running randomise for individual differences:\n",
      "--- SHORT training group | FA | Caudate ---\n",
      "\n"
     ]
    }
   ],
   "source": [
    "runRandomiseIndividualDiffs(group, map_type, region)"
   ]
  },
  {
   "cell_type": "code",
   "execution_count": 76,
   "metadata": {},
   "outputs": [
    {
     "name": "stdout",
     "output_type": "stream",
     "text": [
      "Test for POSITIVE relationship between:\n",
      "--- increase in FA and GOAL-DIRECTEDNESS in: Caudate | group: SHORT ---\n",
      "\n",
      "Cluster Index\tVoxels\tcorrp1-p-MAX\tcorrp1-p-MAX X (vox)\tcorrp1-p-MAX Y (vox)\tcorrp1-p-MAX Z (vox)\tcorrp1-p-COG X (vox)\tcorrp1-p-COG Y (vox)\tcorrp1-p-COG Z (vox)\tCOPE-MAX\tCOPE-MAX X (vox)\tCOPE-MAX Y (vox)\tCOPE-MAX Z (vox)\tCOPE-MEAN\n",
      "\n",
      "Test for NEGATIVE relationship between:\n",
      "--- increase in FA and GOAL-DIRECTEDNESS in: Caudate | group: SHORT ---\n",
      "\n",
      "Cluster Index\tVoxels\tcorrp1-p-MAX\tcorrp1-p-MAX X (vox)\tcorrp1-p-MAX Y (vox)\tcorrp1-p-MAX Z (vox)\tcorrp1-p-COG X (vox)\tcorrp1-p-COG Y (vox)\tcorrp1-p-COG Z (vox)\tCOPE-MAX\tCOPE-MAX X (vox)\tCOPE-MAX Y (vox)\tCOPE-MAX Z (vox)\tCOPE-MEAN\n",
      "\n"
     ]
    }
   ],
   "source": [
    "getClusterInfoIndividualDiffs(group, map_type, region, ReversedSigThresh='0.90')"
   ]
  },
  {
   "cell_type": "markdown",
   "metadata": {},
   "source": [
    ">>>>> RESULT: NOTHING"
   ]
  },
  {
   "cell_type": "markdown",
   "metadata": {},
   "source": [
    "### vmPFC - FA"
   ]
  },
  {
   "cell_type": "code",
   "execution_count": 77,
   "metadata": {},
   "outputs": [],
   "source": [
    "region='vmPFC'"
   ]
  },
  {
   "cell_type": "code",
   "execution_count": 78,
   "metadata": {},
   "outputs": [
    {
     "name": "stdout",
     "output_type": "stream",
     "text": [
      "Running randomise for individual differences:\n",
      "--- SHORT training group | FA | vmPFC ---\n",
      "\n"
     ]
    }
   ],
   "source": [
    "runRandomiseIndividualDiffs(group, map_type, region)"
   ]
  },
  {
   "cell_type": "code",
   "execution_count": 79,
   "metadata": {},
   "outputs": [
    {
     "name": "stdout",
     "output_type": "stream",
     "text": [
      "Test for POSITIVE relationship between:\n",
      "--- increase in FA and GOAL-DIRECTEDNESS in: vmPFC | group: SHORT ---\n",
      "\n",
      "Cluster Index\tVoxels\tcorrp1-p-MAX\tcorrp1-p-MAX X (vox)\tcorrp1-p-MAX Y (vox)\tcorrp1-p-MAX Z (vox)\tcorrp1-p-COG X (vox)\tcorrp1-p-COG Y (vox)\tcorrp1-p-COG Z (vox)\tCOPE-MAX\tCOPE-MAX X (vox)\tCOPE-MAX Y (vox)\tCOPE-MAX Z (vox)\tCOPE-MEAN\n",
      "\n",
      "Test for NEGATIVE relationship between:\n",
      "--- increase in FA and GOAL-DIRECTEDNESS in: vmPFC | group: SHORT ---\n",
      "\n",
      "Cluster Index\tVoxels\tcorrp1-p-MAX\tcorrp1-p-MAX X (vox)\tcorrp1-p-MAX Y (vox)\tcorrp1-p-MAX Z (vox)\tcorrp1-p-COG X (vox)\tcorrp1-p-COG Y (vox)\tcorrp1-p-COG Z (vox)\tCOPE-MAX\tCOPE-MAX X (vox)\tCOPE-MAX Y (vox)\tCOPE-MAX Z (vox)\tCOPE-MEAN\n",
      "\n"
     ]
    }
   ],
   "source": [
    "getClusterInfoIndividualDiffs(group, map_type, region, ReversedSigThresh='0.90')"
   ]
  },
  {
   "cell_type": "markdown",
   "metadata": {},
   "source": [
    ">>>>> RESULT: NOTHING"
   ]
  },
  {
   "cell_type": "markdown",
   "metadata": {},
   "source": [
    "### Whole brain - MD"
   ]
  },
  {
   "cell_type": "code",
   "execution_count": 101,
   "metadata": {},
   "outputs": [],
   "source": [
    "map_type='MD'\n",
    "region='whole_brain'"
   ]
  },
  {
   "cell_type": "code",
   "execution_count": 81,
   "metadata": {},
   "outputs": [
    {
     "name": "stdout",
     "output_type": "stream",
     "text": [
      "Running randomise for individual differences:\n",
      "--- SHORT training group | MD | whole_brain ---\n",
      "\n"
     ]
    }
   ],
   "source": [
    "runRandomiseIndividualDiffs(group, map_type, region)"
   ]
  },
  {
   "cell_type": "code",
   "execution_count": 82,
   "metadata": {},
   "outputs": [
    {
     "name": "stdout",
     "output_type": "stream",
     "text": [
      "Test for POSITIVE relationship between:\n",
      "--- increase in MD and GOAL-DIRECTEDNESS in: whole_brain | group: SHORT ---\n",
      "\n",
      "Cluster Index\tVoxels\tcorrp1-p-MAX\tcorrp1-p-MAX X (vox)\tcorrp1-p-MAX Y (vox)\tcorrp1-p-MAX Z (vox)\tcorrp1-p-COG X (vox)\tcorrp1-p-COG Y (vox)\tcorrp1-p-COG Z (vox)\tCOPE-MAX\tCOPE-MAX X (vox)\tCOPE-MAX Y (vox)\tCOPE-MAX Z (vox)\tCOPE-MEAN\n",
      "\n",
      "Test for NEGATIVE relationship between:\n",
      "--- increase in MD and GOAL-DIRECTEDNESS in: whole_brain | group: SHORT ---\n",
      "\n",
      "Cluster Index\tVoxels\tcorrp1-p-MAX\tcorrp1-p-MAX X (vox)\tcorrp1-p-MAX Y (vox)\tcorrp1-p-MAX Z (vox)\tcorrp1-p-COG X (vox)\tcorrp1-p-COG Y (vox)\tcorrp1-p-COG Z (vox)\tCOPE-MAX\tCOPE-MAX X (vox)\tCOPE-MAX Y (vox)\tCOPE-MAX Z (vox)\tCOPE-MEAN\n",
      "\n"
     ]
    }
   ],
   "source": [
    "getClusterInfoIndividualDiffs(group, map_type, region, ReversedSigThresh='0.90')"
   ]
  },
  {
   "cell_type": "markdown",
   "metadata": {},
   "source": [
    ">>>>> RESULT: NOTHING"
   ]
  },
  {
   "cell_type": "markdown",
   "metadata": {},
   "source": [
    "### Putamen - MD"
   ]
  },
  {
   "cell_type": "code",
   "execution_count": 83,
   "metadata": {},
   "outputs": [],
   "source": [
    "region='Putamen'"
   ]
  },
  {
   "cell_type": "code",
   "execution_count": 84,
   "metadata": {},
   "outputs": [
    {
     "name": "stdout",
     "output_type": "stream",
     "text": [
      "Running randomise for individual differences:\n",
      "--- SHORT training group | MD | Putamen ---\n",
      "\n"
     ]
    }
   ],
   "source": [
    "runRandomiseIndividualDiffs(group, map_type, region)"
   ]
  },
  {
   "cell_type": "code",
   "execution_count": 85,
   "metadata": {},
   "outputs": [
    {
     "name": "stdout",
     "output_type": "stream",
     "text": [
      "Test for POSITIVE relationship between:\n",
      "--- increase in MD and GOAL-DIRECTEDNESS in: Putamen | group: SHORT ---\n",
      "\n",
      "Cluster Index\tVoxels\tcorrp1-p-MAX\tcorrp1-p-MAX X (vox)\tcorrp1-p-MAX Y (vox)\tcorrp1-p-MAX Z (vox)\tcorrp1-p-COG X (vox)\tcorrp1-p-COG Y (vox)\tcorrp1-p-COG Z (vox)\tCOPE-MAX\tCOPE-MAX X (vox)\tCOPE-MAX Y (vox)\tCOPE-MAX Z (vox)\tCOPE-MEAN\n",
      "\n",
      "Test for NEGATIVE relationship between:\n",
      "--- increase in MD and GOAL-DIRECTEDNESS in: Putamen | group: SHORT ---\n",
      "\n",
      "Cluster Index\tVoxels\tcorrp1-p-MAX\tcorrp1-p-MAX X (vox)\tcorrp1-p-MAX Y (vox)\tcorrp1-p-MAX Z (vox)\tcorrp1-p-COG X (vox)\tcorrp1-p-COG Y (vox)\tcorrp1-p-COG Z (vox)\tCOPE-MAX\tCOPE-MAX X (vox)\tCOPE-MAX Y (vox)\tCOPE-MAX Z (vox)\tCOPE-MEAN\n",
      "\n"
     ]
    }
   ],
   "source": [
    "getClusterInfoIndividualDiffs(group, map_type, region, ReversedSigThresh='0.90')"
   ]
  },
  {
   "cell_type": "markdown",
   "metadata": {},
   "source": [
    ">>>>> RESULT: NOTHING"
   ]
  },
  {
   "cell_type": "markdown",
   "metadata": {},
   "source": [
    "### Caudate - MD"
   ]
  },
  {
   "cell_type": "code",
   "execution_count": 86,
   "metadata": {},
   "outputs": [],
   "source": [
    "region='Caudate'"
   ]
  },
  {
   "cell_type": "code",
   "execution_count": 87,
   "metadata": {},
   "outputs": [
    {
     "name": "stdout",
     "output_type": "stream",
     "text": [
      "Running randomise for individual differences:\n",
      "--- SHORT training group | MD | Caudate ---\n",
      "\n"
     ]
    }
   ],
   "source": [
    "runRandomiseIndividualDiffs(group, map_type, region)"
   ]
  },
  {
   "cell_type": "code",
   "execution_count": 88,
   "metadata": {},
   "outputs": [
    {
     "name": "stdout",
     "output_type": "stream",
     "text": [
      "Test for POSITIVE relationship between:\n",
      "--- increase in MD and GOAL-DIRECTEDNESS in: Caudate | group: SHORT ---\n",
      "\n",
      "Cluster Index\tVoxels\tcorrp1-p-MAX\tcorrp1-p-MAX X (vox)\tcorrp1-p-MAX Y (vox)\tcorrp1-p-MAX Z (vox)\tcorrp1-p-COG X (vox)\tcorrp1-p-COG Y (vox)\tcorrp1-p-COG Z (vox)\tCOPE-MAX\tCOPE-MAX X (vox)\tCOPE-MAX Y (vox)\tCOPE-MAX Z (vox)\tCOPE-MEAN\n",
      "\n",
      "Test for NEGATIVE relationship between:\n",
      "--- increase in MD and GOAL-DIRECTEDNESS in: Caudate | group: SHORT ---\n",
      "\n",
      "Cluster Index\tVoxels\tcorrp1-p-MAX\tcorrp1-p-MAX X (vox)\tcorrp1-p-MAX Y (vox)\tcorrp1-p-MAX Z (vox)\tcorrp1-p-COG X (vox)\tcorrp1-p-COG Y (vox)\tcorrp1-p-COG Z (vox)\tCOPE-MAX\tCOPE-MAX X (vox)\tCOPE-MAX Y (vox)\tCOPE-MAX Z (vox)\tCOPE-MEAN\n",
      "\n"
     ]
    }
   ],
   "source": [
    "getClusterInfoIndividualDiffs(group, map_type, region, ReversedSigThresh='0.90')"
   ]
  },
  {
   "cell_type": "markdown",
   "metadata": {},
   "source": [
    ">>>>> RESULT: NOTHING"
   ]
  },
  {
   "cell_type": "markdown",
   "metadata": {},
   "source": [
    "### vmPFC - MD"
   ]
  },
  {
   "cell_type": "code",
   "execution_count": 102,
   "metadata": {},
   "outputs": [],
   "source": [
    "region='vmPFC'"
   ]
  },
  {
   "cell_type": "code",
   "execution_count": 103,
   "metadata": {},
   "outputs": [
    {
     "name": "stdout",
     "output_type": "stream",
     "text": [
      "Running randomise for individual differences:\n",
      "--- SHORT training group | MD | vmPFC ---\n",
      "\n"
     ]
    }
   ],
   "source": [
    "runRandomiseIndividualDiffs(group, map_type, region)"
   ]
  },
  {
   "cell_type": "code",
   "execution_count": 91,
   "metadata": {},
   "outputs": [
    {
     "name": "stdout",
     "output_type": "stream",
     "text": [
      "Test for POSITIVE relationship between:\n",
      "--- increase in MD and GOAL-DIRECTEDNESS in: vmPFC | group: SHORT ---\n",
      "\n",
      "Cluster Index\tVoxels\tcorrp1-p-MAX\tcorrp1-p-MAX X (vox)\tcorrp1-p-MAX Y (vox)\tcorrp1-p-MAX Z (vox)\tcorrp1-p-COG X (vox)\tcorrp1-p-COG Y (vox)\tcorrp1-p-COG Z (vox)\tCOPE-MAX\tCOPE-MAX X (vox)\tCOPE-MAX Y (vox)\tCOPE-MAX Z (vox)\tCOPE-MEAN\n",
      "1\t8\t0.963\t51\t71\t23\t51.2\t71.3\t24\t3.97\t52\t72\t23\t3.62\n",
      "\n",
      "Test for NEGATIVE relationship between:\n",
      "--- increase in MD and GOAL-DIRECTEDNESS in: vmPFC | group: SHORT ---\n",
      "\n",
      "Cluster Index\tVoxels\tcorrp1-p-MAX\tcorrp1-p-MAX X (vox)\tcorrp1-p-MAX Y (vox)\tcorrp1-p-MAX Z (vox)\tcorrp1-p-COG X (vox)\tcorrp1-p-COG Y (vox)\tcorrp1-p-COG Z (vox)\tCOPE-MAX\tCOPE-MAX X (vox)\tCOPE-MAX Y (vox)\tCOPE-MAX Z (vox)\tCOPE-MEAN\n",
      "1\t5\t0.917\t51\t73\t24\t50.4\t73.2\t25\t4.16\t50\t73\t25\t3.76\n",
      "\n"
     ]
    }
   ],
   "source": [
    "getClusterInfoIndividualDiffs(group, map_type, region, ReversedSigThresh='0.90')"
   ]
  },
  {
   "cell_type": "markdown",
   "metadata": {},
   "source": [
    ">>>>> RESULTS: Marginally significane in the vmPFC - a negative relationship between goal-directedness and change (increase) in MD  => reduction in MD more goal-directedness."
   ]
  },
  {
   "cell_type": "markdown",
   "metadata": {},
   "source": [
    "Test without 159 (who is a crazy outlier...)"
   ]
  },
  {
   "cell_type": "code",
   "execution_count": 106,
   "metadata": {},
   "outputs": [
    {
     "name": "stdout",
     "output_type": "stream",
     "text": [
      "Test for POSITIVE relationship between:\n",
      "--- increase in MD and GOAL-DIRECTEDNESS in: vmPFC | group: SHORT ---\n",
      "\n",
      "Cluster Index\tVoxels\tcorrp1-p-MAX\tcorrp1-p-MAX X (vox)\tcorrp1-p-MAX Y (vox)\tcorrp1-p-MAX Z (vox)\tcorrp1-p-COG X (vox)\tcorrp1-p-COG Y (vox)\tcorrp1-p-COG Z (vox)\tCOPE-MAX\tCOPE-MAX X (vox)\tCOPE-MAX Y (vox)\tCOPE-MAX Z (vox)\tCOPE-MEAN\n",
      "2\t3\t0.73\t50\t97\t25\t51\t97\t25\t3.83\t51\t97\t25\t3.47\n",
      "1\t2\t0.632\t46\t93\t30\t46.5\t93\t30\t4.79\t47\t93\t30\t4.16\n",
      "\n",
      "Test for NEGATIVE relationship between:\n",
      "--- increase in MD and GOAL-DIRECTEDNESS in: vmPFC | group: SHORT ---\n",
      "\n",
      "Cluster Index\tVoxels\tcorrp1-p-MAX\tcorrp1-p-MAX X (vox)\tcorrp1-p-MAX Y (vox)\tcorrp1-p-MAX Z (vox)\tcorrp1-p-COG X (vox)\tcorrp1-p-COG Y (vox)\tcorrp1-p-COG Z (vox)\tCOPE-MAX\tCOPE-MAX X (vox)\tCOPE-MAX Y (vox)\tCOPE-MAX Z (vox)\tCOPE-MEAN\n",
      "1\t3\t0.7\t42\t92\t22\t41\t92.3\t22.7\t3.51\t41\t93\t23\t3.32\n",
      "\n"
     ]
    }
   ],
   "source": [
    "getClusterInfoIndividualDiffs(group, map_type, region, ReversedSigThresh='0.50')"
   ]
  },
  {
   "cell_type": "code",
   "execution_count": 261,
   "metadata": {},
   "outputs": [
    {
     "name": "stdout",
     "output_type": "stream",
     "text": [
      "Create a binary mask for the cluster:\n",
      "--- contrast 1 in: MD | vmPFC | group: SHORT ---\n",
      "\n",
      "fslmaths /export2/DATA/HIS/HIS_server/analysis/dwi_data/stats_alt_reg/MD/SHORT_individualDiff_AFTER_minus_BEFORE_MD_vmPFC_clusterm_corrp_tstat1.nii.gz         -thr 0.95 -bin /export2/DATA/HIS/HIS_server/analysis/dwi_data/stats_alt_reg/MD/SHORT_individualDiff_AFTER_minus_BEFORE_MD_vmPFC_contrast_1_bin_mask.nii.gz\n",
      "fslmaths /export2/DATA/HIS/HIS_server/analysis/dwi_data/stats_alt_reg/MD/SHORT_individualDiff_AFTER_minus_BEFORE_MD_vmPFC_tstat1.nii.gz         -mul /export2/DATA/HIS/HIS_server/analysis/dwi_data/stats_alt_reg/MD/SHORT_individualDiff_AFTER_minus_BEFORE_MD_vmPFC_contrast_1_bin_mask.nii.gz             /export2/DATA/HIS/HIS_server/analysis/dwi_data/stats_alt_reg/MD/SHORT_individualDiff_AFTER_minus_BEFORE_MD_vmPFC_tstat1_in_sig_cluster.nii.gz\n",
      "Get mean value of a cluster:\n",
      "--- contrast 1 in: MD | vmPFC | group: SHORT ---\n",
      "\n",
      "fslstats -t /export2/DATA/HIS/HIS_server/analysis/dwi_data/stats_alt_reg/MD/SHORT_individualDiff_AFTER_minus_BEFORE_MD.nii.gz         -k /export2/DATA/HIS/HIS_server/analysis/dwi_data/stats_alt_reg/MD/SHORT_individualDiff_AFTER_minus_BEFORE_MD_vmPFC_contrast_1_bin_mask.nii.gz -M\n"
     ]
    }
   ],
   "source": [
    "createBinaryMaskIndividualDiffs('SHORT', 'MD', 'vmPFC', 1, ReversedSigThresh='0.95')\n",
    "change_in_MD_short_vmPFC=getClusterMeans('SHORT', 'MD', 'vmPFC', 1)\n",
    "behav_short['change_in_MD']=change_in_MD_short_vmPFC\n",
    "    "
   ]
  },
  {
   "cell_type": "code",
   "execution_count": 69,
   "metadata": {},
   "outputs": [
    {
     "data": {
      "image/png": "[encoded data removed]",
      "text/plain": [
       "<Figure size 432x288 with 1 Axes>"
      ]
     },
     "metadata": {
      "needs_background": "light"
     },
     "output_type": "display_data"
    }
   ],
   "source": [
    "std_for_outliers = 2\n",
    "behav_short_no_outiers = behav_short[(behav_short['change_in_MD'] > (np.mean(behav_short['change_in_MD']) - std_for_outliers*np.std(behav_short['change_in_MD']))) & (behav_short['change_in_MD'] < (np.mean(behav_short['change_in_MD']) + std_for_outliers*np.std(behav_short['change_in_MD'])))]\n",
    "sns.regplot(x=\"change_in_MD\", y=\"habit_index\", data=behav_short_no_outiers, ci=68);\n"
   ]
  },
  {
   "cell_type": "markdown",
   "metadata": {},
   "source": [
    "## LONG TRAINING"
   ]
  },
  {
   "cell_type": "code",
   "execution_count": 92,
   "metadata": {},
   "outputs": [],
   "source": [
    "group = 'LONG'"
   ]
  },
  {
   "cell_type": "markdown",
   "metadata": {},
   "source": [
    "### Whole brain - FA"
   ]
  },
  {
   "cell_type": "code",
   "execution_count": 93,
   "metadata": {},
   "outputs": [],
   "source": [
    "map_type='FA'\n",
    "region='whole_brain'"
   ]
  },
  {
   "cell_type": "code",
   "execution_count": 94,
   "metadata": {},
   "outputs": [
    {
     "name": "stdout",
     "output_type": "stream",
     "text": [
      "Running randomise for individual differences:\n",
      "--- LONG training group | FA | whole_brain ---\n",
      "\n"
     ]
    }
   ],
   "source": [
    "runRandomiseIndividualDiffs(group, map_type, region)"
   ]
  },
  {
   "cell_type": "code",
   "execution_count": 95,
   "metadata": {},
   "outputs": [
    {
     "name": "stdout",
     "output_type": "stream",
     "text": [
      "Test for POSITIVE relationship between:\n",
      "--- increase in FA and GOAL-DIRECTEDNESS in: whole_brain | group: LONG ---\n",
      "\n",
      "Cluster Index\tVoxels\tcorrp1-p-MAX\tcorrp1-p-MAX X (vox)\tcorrp1-p-MAX Y (vox)\tcorrp1-p-MAX Z (vox)\tcorrp1-p-COG X (vox)\tcorrp1-p-COG Y (vox)\tcorrp1-p-COG Z (vox)\tCOPE-MAX\tCOPE-MAX X (vox)\tCOPE-MAX Y (vox)\tCOPE-MAX Z (vox)\tCOPE-MEAN\n",
      "\n",
      "Test for NEGATIVE relationship between:\n",
      "--- increase in FA and GOAL-DIRECTEDNESS in: whole_brain | group: LONG ---\n",
      "\n",
      "Cluster Index\tVoxels\tcorrp1-p-MAX\tcorrp1-p-MAX X (vox)\tcorrp1-p-MAX Y (vox)\tcorrp1-p-MAX Z (vox)\tcorrp1-p-COG X (vox)\tcorrp1-p-COG Y (vox)\tcorrp1-p-COG Z (vox)\tCOPE-MAX\tCOPE-MAX X (vox)\tCOPE-MAX Y (vox)\tCOPE-MAX Z (vox)\tCOPE-MEAN\n",
      "\n"
     ]
    }
   ],
   "source": [
    "getClusterInfoIndividualDiffs(group, map_type, region, ReversedSigThresh='0.90')"
   ]
  },
  {
   "cell_type": "markdown",
   "metadata": {},
   "source": [
    ">>>>> RESULT: NOTHING"
   ]
  },
  {
   "cell_type": "markdown",
   "metadata": {},
   "source": [
    "### Putamen - FA"
   ]
  },
  {
   "cell_type": "code",
   "execution_count": 96,
   "metadata": {},
   "outputs": [],
   "source": [
    "region='Putamen'"
   ]
  },
  {
   "cell_type": "code",
   "execution_count": 97,
   "metadata": {},
   "outputs": [
    {
     "name": "stdout",
     "output_type": "stream",
     "text": [
      "Running randomise for individual differences:\n",
      "--- LONG training group | FA | Putamen ---\n",
      "\n"
     ]
    }
   ],
   "source": [
    "runRandomiseIndividualDiffs(group, map_type, region)"
   ]
  },
  {
   "cell_type": "code",
   "execution_count": 98,
   "metadata": {},
   "outputs": [
    {
     "name": "stdout",
     "output_type": "stream",
     "text": [
      "Test for POSITIVE relationship between:\n",
      "--- increase in FA and GOAL-DIRECTEDNESS in: Putamen | group: LONG ---\n",
      "\n",
      "Cluster Index\tVoxels\tcorrp1-p-MAX\tcorrp1-p-MAX X (vox)\tcorrp1-p-MAX Y (vox)\tcorrp1-p-MAX Z (vox)\tcorrp1-p-COG X (vox)\tcorrp1-p-COG Y (vox)\tcorrp1-p-COG Z (vox)\tCOPE-MAX\tCOPE-MAX X (vox)\tCOPE-MAX Y (vox)\tCOPE-MAX Z (vox)\tCOPE-MEAN\n",
      "\n",
      "Test for NEGATIVE relationship between:\n",
      "--- increase in FA and GOAL-DIRECTEDNESS in: Putamen | group: LONG ---\n",
      "\n",
      "Cluster Index\tVoxels\tcorrp1-p-MAX\tcorrp1-p-MAX X (vox)\tcorrp1-p-MAX Y (vox)\tcorrp1-p-MAX Z (vox)\tcorrp1-p-COG X (vox)\tcorrp1-p-COG Y (vox)\tcorrp1-p-COG Z (vox)\tCOPE-MAX\tCOPE-MAX X (vox)\tCOPE-MAX Y (vox)\tCOPE-MAX Z (vox)\tCOPE-MEAN\n",
      "\n"
     ]
    }
   ],
   "source": [
    "getClusterInfoIndividualDiffs(group, map_type, region, ReversedSigThresh='0.90')"
   ]
  },
  {
   "cell_type": "markdown",
   "metadata": {},
   "source": [
    ">>>>> RESULT : NOTHING"
   ]
  },
  {
   "cell_type": "markdown",
   "metadata": {},
   "source": [
    "### Caudate - FA"
   ]
  },
  {
   "cell_type": "code",
   "execution_count": 99,
   "metadata": {},
   "outputs": [],
   "source": [
    "region='Caudate'"
   ]
  },
  {
   "cell_type": "code",
   "execution_count": 100,
   "metadata": {},
   "outputs": [
    {
     "name": "stdout",
     "output_type": "stream",
     "text": [
      "Running randomise for individual differences:\n",
      "--- LONG training group | FA | Caudate ---\n",
      "\n"
     ]
    }
   ],
   "source": [
    "runRandomiseIndividualDiffs(group, map_type, region)"
   ]
  },
  {
   "cell_type": "code",
   "execution_count": 101,
   "metadata": {},
   "outputs": [
    {
     "name": "stdout",
     "output_type": "stream",
     "text": [
      "Test for POSITIVE relationship between:\n",
      "--- increase in FA and GOAL-DIRECTEDNESS in: Caudate | group: LONG ---\n",
      "\n",
      "Cluster Index\tVoxels\tcorrp1-p-MAX\tcorrp1-p-MAX X (vox)\tcorrp1-p-MAX Y (vox)\tcorrp1-p-MAX Z (vox)\tcorrp1-p-COG X (vox)\tcorrp1-p-COG Y (vox)\tcorrp1-p-COG Z (vox)\tCOPE-MAX\tCOPE-MAX X (vox)\tCOPE-MAX Y (vox)\tCOPE-MAX Z (vox)\tCOPE-MEAN\n",
      "\n",
      "Test for NEGATIVE relationship between:\n",
      "--- increase in FA and GOAL-DIRECTEDNESS in: Caudate | group: LONG ---\n",
      "\n",
      "Cluster Index\tVoxels\tcorrp1-p-MAX\tcorrp1-p-MAX X (vox)\tcorrp1-p-MAX Y (vox)\tcorrp1-p-MAX Z (vox)\tcorrp1-p-COG X (vox)\tcorrp1-p-COG Y (vox)\tcorrp1-p-COG Z (vox)\tCOPE-MAX\tCOPE-MAX X (vox)\tCOPE-MAX Y (vox)\tCOPE-MAX Z (vox)\tCOPE-MEAN\n",
      "\n"
     ]
    }
   ],
   "source": [
    "getClusterInfoIndividualDiffs(group, map_type, region, ReversedSigThresh='0.90')"
   ]
  },
  {
   "cell_type": "markdown",
   "metadata": {},
   "source": [
    ">>>>> RESULT : NOTHING"
   ]
  },
  {
   "cell_type": "markdown",
   "metadata": {},
   "source": [
    "### vmPFC - FA"
   ]
  },
  {
   "cell_type": "code",
   "execution_count": 102,
   "metadata": {},
   "outputs": [],
   "source": [
    "region='vmPFC'"
   ]
  },
  {
   "cell_type": "code",
   "execution_count": 103,
   "metadata": {},
   "outputs": [
    {
     "name": "stdout",
     "output_type": "stream",
     "text": [
      "Running randomise for individual differences:\n",
      "--- LONG training group | FA | vmPFC ---\n",
      "\n"
     ]
    }
   ],
   "source": [
    "runRandomiseIndividualDiffs(group, map_type, region)"
   ]
  },
  {
   "cell_type": "code",
   "execution_count": 104,
   "metadata": {},
   "outputs": [
    {
     "name": "stdout",
     "output_type": "stream",
     "text": [
      "Test for POSITIVE relationship between:\n",
      "--- increase in FA and GOAL-DIRECTEDNESS in: vmPFC | group: LONG ---\n",
      "\n",
      "Cluster Index\tVoxels\tcorrp1-p-MAX\tcorrp1-p-MAX X (vox)\tcorrp1-p-MAX Y (vox)\tcorrp1-p-MAX Z (vox)\tcorrp1-p-COG X (vox)\tcorrp1-p-COG Y (vox)\tcorrp1-p-COG Z (vox)\tCOPE-MAX\tCOPE-MAX X (vox)\tCOPE-MAX Y (vox)\tCOPE-MAX Z (vox)\tCOPE-MEAN\n",
      "1\t4\t0.929\t50\t94\t31\t50.2\t94.8\t31.7\t4.31\t51\t95\t33\t3.6\n",
      "\n",
      "Test for NEGATIVE relationship between:\n",
      "--- increase in FA and GOAL-DIRECTEDNESS in: vmPFC | group: LONG ---\n",
      "\n",
      "Cluster Index\tVoxels\tcorrp1-p-MAX\tcorrp1-p-MAX X (vox)\tcorrp1-p-MAX Y (vox)\tcorrp1-p-MAX Z (vox)\tcorrp1-p-COG X (vox)\tcorrp1-p-COG Y (vox)\tcorrp1-p-COG Z (vox)\tCOPE-MAX\tCOPE-MAX X (vox)\tCOPE-MAX Y (vox)\tCOPE-MAX Z (vox)\tCOPE-MEAN\n",
      "\n"
     ]
    }
   ],
   "source": [
    "getClusterInfoIndividualDiffs(group, map_type, region, ReversedSigThresh='0.90')"
   ]
  },
  {
   "cell_type": "markdown",
   "metadata": {},
   "source": [
    ">>>>> RESULT : NOTHING"
   ]
  },
  {
   "cell_type": "code",
   "execution_count": 12,
   "metadata": {},
   "outputs": [
    {
     "name": "stdout",
     "output_type": "stream",
     "text": [
      "Create a binary mask for the cluster:\n",
      "--- contrast 1 in: FA | vmPFC | group: LONG ---\n",
      "\n",
      "fslmaths /export2/DATA/HIS/HIS_server/analysis/dwi_data/stats_alt_reg/FA/LONG_individualDiff_AFTER_minus_BEFORE_FA_vmPFC_clusterm_corrp_tstat1.nii.gz         -thr 0.90 -bin /export2/DATA/HIS/HIS_server/analysis/dwi_data/stats_alt_reg/FA/LONG_individualDiff_AFTER_minus_BEFORE_FA_vmPFC_contrast_1_bin_mask.nii.gz\n",
      "fslmaths /export2/DATA/HIS/HIS_server/analysis/dwi_data/stats_alt_reg/FA/LONG_individualDiff_AFTER_minus_BEFORE_FA_vmPFC_tstat1.nii.gz         -mul /export2/DATA/HIS/HIS_server/analysis/dwi_data/stats_alt_reg/FA/LONG_individualDiff_AFTER_minus_BEFORE_FA_vmPFC_contrast_1_bin_mask.nii.gz             /export2/DATA/HIS/HIS_server/analysis/dwi_data/stats_alt_reg/FA/LONG_individualDiff_AFTER_minus_BEFORE_FA_vmPFC_tstat1_in_sig_cluster.nii.gz\n",
      "Get mean value of a cluster:\n",
      "--- contrast 1 in: FA | vmPFC | group: LONG ---\n",
      "\n",
      "fslstats -t /export2/DATA/HIS/HIS_server/analysis/dwi_data/stats_alt_reg/FA/LONG_individualDiff_AFTER_minus_BEFORE_FA.nii.gz         -k /export2/DATA/HIS/HIS_server/analysis/dwi_data/stats_alt_reg/FA/LONG_individualDiff_AFTER_minus_BEFORE_FA_vmPFC_contrast_1_bin_mask.nii.gz -M\n"
     ]
    }
   ],
   "source": [
    "createBinaryMaskIndividualDiffs('LONG', 'FA', 'vmPFC', 1, ReversedSigThresh='0.90')\n",
    "change_in_FA_long_vmPFC=getClusterMeans('LONG', 'FA', 'vmPFC', 1)\n",
    "behav_long['change_in_FA_vmPFC']=change_in_FA_long_vmPFC\n"
   ]
  },
  {
   "cell_type": "code",
   "execution_count": 16,
   "metadata": {},
   "outputs": [
    {
     "data": {
      "text/plain": [
       "[Text(0, 0.5, 'Habit index'), Text(0.5, 0, 'Change in FA [after - before]')]"
      ]
     },
     "execution_count": 16,
     "metadata": {},
     "output_type": "execute_result"
    },
    {
     "data": {
      "image/png": "[encoded data removed]",
      "text/plain": [
       "<Figure size 576x576 with 1 Axes>"
      ]
     },
     "metadata": {},
     "output_type": "display_data"
    }
   ],
   "source": [
    "std_for_outliers = 9999999\n",
    "behav_long_no_outiers = behav_long[(behav_long['change_in_FA_vmPFC'] > (np.mean(behav_long['change_in_FA_vmPFC']) - std_for_outliers*np.std(behav_long['change_in_FA_vmPFC']))) & (behav_long['change_in_FA_vmPFC'] < (np.mean(behav_long['change_in_FA_vmPFC']) + std_for_outliers*np.std(behav_long['change_in_FA_vmPFC'])))]\n",
    "\n",
    "sns.set(font_scale = 1.7)\n",
    "sns.set_style(\"whitegrid\")\n",
    "fig, axs = plt.subplots(ncols=1,figsize=(8,8))\n",
    "sns.regplot(x=\"change_in_FA_vmPFC\", y=\"habit_index\", data=behav_long_no_outiers, ci=68, ax=axs);\n",
    "axs.set(ylabel='Habit index', xlabel='Change in FA [after - before]')\n"
   ]
  },
  {
   "cell_type": "code",
   "execution_count": 14,
   "metadata": {},
   "outputs": [
    {
     "name": "stdout",
     "output_type": "stream",
     "text": [
      "(0.5620739522859473, 2.9650468095093995e-06)\n",
      "SpearmanrResult(correlation=0.4550152820227842, pvalue=0.0002595745820088178)\n"
     ]
    }
   ],
   "source": [
    "behav_long.corr(method='spearman')\n",
    "print(pearsonr(behav_long['change_in_FA_vmPFC'], behav_long['habit_index']))\n",
    "print(spearmanr(behav_long['change_in_FA_vmPFC'], behav_long['habit_index']))"
   ]
  },
  {
   "cell_type": "markdown",
   "metadata": {},
   "source": [
    "### Whole brain - MD"
   ]
  },
  {
   "cell_type": "code",
   "execution_count": 105,
   "metadata": {},
   "outputs": [],
   "source": [
    "map_type='MD'\n",
    "region='whole_brain'"
   ]
  },
  {
   "cell_type": "code",
   "execution_count": 106,
   "metadata": {},
   "outputs": [
    {
     "name": "stdout",
     "output_type": "stream",
     "text": [
      "Running randomise for individual differences:\n",
      "--- LONG training group | MD | whole_brain ---\n",
      "\n"
     ]
    }
   ],
   "source": [
    "runRandomiseIndividualDiffs(group, map_type, region)"
   ]
  },
  {
   "cell_type": "code",
   "execution_count": 107,
   "metadata": {},
   "outputs": [
    {
     "name": "stdout",
     "output_type": "stream",
     "text": [
      "Test for POSITIVE relationship between:\n",
      "--- increase in MD and GOAL-DIRECTEDNESS in: whole_brain | group: LONG ---\n",
      "\n",
      "Cluster Index\tVoxels\tcorrp1-p-MAX\tcorrp1-p-MAX X (vox)\tcorrp1-p-MAX Y (vox)\tcorrp1-p-MAX Z (vox)\tcorrp1-p-COG X (vox)\tcorrp1-p-COG Y (vox)\tcorrp1-p-COG Z (vox)\tCOPE-MAX\tCOPE-MAX X (vox)\tCOPE-MAX Y (vox)\tCOPE-MAX Z (vox)\tCOPE-MEAN\n",
      "\n",
      "Test for NEGATIVE relationship between:\n",
      "--- increase in MD and GOAL-DIRECTEDNESS in: whole_brain | group: LONG ---\n",
      "\n",
      "Cluster Index\tVoxels\tcorrp1-p-MAX\tcorrp1-p-MAX X (vox)\tcorrp1-p-MAX Y (vox)\tcorrp1-p-MAX Z (vox)\tcorrp1-p-COG X (vox)\tcorrp1-p-COG Y (vox)\tcorrp1-p-COG Z (vox)\tCOPE-MAX\tCOPE-MAX X (vox)\tCOPE-MAX Y (vox)\tCOPE-MAX Z (vox)\tCOPE-MEAN\n",
      "\n"
     ]
    }
   ],
   "source": [
    "getClusterInfoIndividualDiffs(group, map_type, region, ReversedSigThresh='0.90')"
   ]
  },
  {
   "cell_type": "markdown",
   "metadata": {},
   "source": [
    ">>>>> RESULT : NOTHING"
   ]
  },
  {
   "cell_type": "markdown",
   "metadata": {},
   "source": [
    "### Putamen - MD"
   ]
  },
  {
   "cell_type": "code",
   "execution_count": 108,
   "metadata": {},
   "outputs": [],
   "source": [
    "region='Putamen'"
   ]
  },
  {
   "cell_type": "code",
   "execution_count": 109,
   "metadata": {},
   "outputs": [
    {
     "name": "stdout",
     "output_type": "stream",
     "text": [
      "Running randomise for individual differences:\n",
      "--- LONG training group | MD | Putamen ---\n",
      "\n"
     ]
    }
   ],
   "source": [
    "runRandomiseIndividualDiffs(group, map_type, region)"
   ]
  },
  {
   "cell_type": "code",
   "execution_count": 110,
   "metadata": {},
   "outputs": [
    {
     "name": "stdout",
     "output_type": "stream",
     "text": [
      "Test for POSITIVE relationship between:\n",
      "--- increase in MD and GOAL-DIRECTEDNESS in: Putamen | group: LONG ---\n",
      "\n",
      "Cluster Index\tVoxels\tcorrp1-p-MAX\tcorrp1-p-MAX X (vox)\tcorrp1-p-MAX Y (vox)\tcorrp1-p-MAX Z (vox)\tcorrp1-p-COG X (vox)\tcorrp1-p-COG Y (vox)\tcorrp1-p-COG Z (vox)\tCOPE-MAX\tCOPE-MAX X (vox)\tCOPE-MAX Y (vox)\tCOPE-MAX Z (vox)\tCOPE-MEAN\n",
      "\n",
      "Test for NEGATIVE relationship between:\n",
      "--- increase in MD and GOAL-DIRECTEDNESS in: Putamen | group: LONG ---\n",
      "\n",
      "Cluster Index\tVoxels\tcorrp1-p-MAX\tcorrp1-p-MAX X (vox)\tcorrp1-p-MAX Y (vox)\tcorrp1-p-MAX Z (vox)\tcorrp1-p-COG X (vox)\tcorrp1-p-COG Y (vox)\tcorrp1-p-COG Z (vox)\tCOPE-MAX\tCOPE-MAX X (vox)\tCOPE-MAX Y (vox)\tCOPE-MAX Z (vox)\tCOPE-MEAN\n",
      "\n"
     ]
    }
   ],
   "source": [
    "getClusterInfoIndividualDiffs(group, map_type, region, ReversedSigThresh='0.90')"
   ]
  },
  {
   "cell_type": "markdown",
   "metadata": {},
   "source": [
    ">>>>> RESULT : NOTHING"
   ]
  },
  {
   "cell_type": "markdown",
   "metadata": {},
   "source": [
    "### Caudate - MD"
   ]
  },
  {
   "cell_type": "code",
   "execution_count": 111,
   "metadata": {},
   "outputs": [],
   "source": [
    "region='Caudate'"
   ]
  },
  {
   "cell_type": "code",
   "execution_count": 112,
   "metadata": {},
   "outputs": [
    {
     "name": "stdout",
     "output_type": "stream",
     "text": [
      "Running randomise for individual differences:\n",
      "--- LONG training group | MD | Caudate ---\n",
      "\n"
     ]
    }
   ],
   "source": [
    "runRandomiseIndividualDiffs(group, map_type, region)"
   ]
  },
  {
   "cell_type": "code",
   "execution_count": 113,
   "metadata": {},
   "outputs": [
    {
     "name": "stdout",
     "output_type": "stream",
     "text": [
      "Test for POSITIVE relationship between:\n",
      "--- increase in MD and GOAL-DIRECTEDNESS in: Caudate | group: LONG ---\n",
      "\n",
      "Cluster Index\tVoxels\tcorrp1-p-MAX\tcorrp1-p-MAX X (vox)\tcorrp1-p-MAX Y (vox)\tcorrp1-p-MAX Z (vox)\tcorrp1-p-COG X (vox)\tcorrp1-p-COG Y (vox)\tcorrp1-p-COG Z (vox)\tCOPE-MAX\tCOPE-MAX X (vox)\tCOPE-MAX Y (vox)\tCOPE-MAX Z (vox)\tCOPE-MEAN\n",
      "\n",
      "Test for NEGATIVE relationship between:\n",
      "--- increase in MD and GOAL-DIRECTEDNESS in: Caudate | group: LONG ---\n",
      "\n",
      "Cluster Index\tVoxels\tcorrp1-p-MAX\tcorrp1-p-MAX X (vox)\tcorrp1-p-MAX Y (vox)\tcorrp1-p-MAX Z (vox)\tcorrp1-p-COG X (vox)\tcorrp1-p-COG Y (vox)\tcorrp1-p-COG Z (vox)\tCOPE-MAX\tCOPE-MAX X (vox)\tCOPE-MAX Y (vox)\tCOPE-MAX Z (vox)\tCOPE-MEAN\n",
      "\n"
     ]
    }
   ],
   "source": [
    "getClusterInfoIndividualDiffs(group, map_type, region, ReversedSigThresh='0.90')"
   ]
  },
  {
   "cell_type": "markdown",
   "metadata": {},
   "source": [
    ">>>>> RESULT : NOTHING"
   ]
  },
  {
   "cell_type": "markdown",
   "metadata": {},
   "source": [
    "### vmPFC - MD"
   ]
  },
  {
   "cell_type": "code",
   "execution_count": 114,
   "metadata": {},
   "outputs": [],
   "source": [
    "region='vmPFC'"
   ]
  },
  {
   "cell_type": "code",
   "execution_count": 115,
   "metadata": {},
   "outputs": [
    {
     "name": "stdout",
     "output_type": "stream",
     "text": [
      "Running randomise for individual differences:\n",
      "--- LONG training group | MD | vmPFC ---\n",
      "\n"
     ]
    }
   ],
   "source": [
    "runRandomiseIndividualDiffs(group, map_type, region)"
   ]
  },
  {
   "cell_type": "code",
   "execution_count": 116,
   "metadata": {},
   "outputs": [
    {
     "name": "stdout",
     "output_type": "stream",
     "text": [
      "Test for POSITIVE relationship between:\n",
      "--- increase in MD and GOAL-DIRECTEDNESS in: vmPFC | group: LONG ---\n",
      "\n",
      "Cluster Index\tVoxels\tcorrp1-p-MAX\tcorrp1-p-MAX X (vox)\tcorrp1-p-MAX Y (vox)\tcorrp1-p-MAX Z (vox)\tcorrp1-p-COG X (vox)\tcorrp1-p-COG Y (vox)\tcorrp1-p-COG Z (vox)\tCOPE-MAX\tCOPE-MAX X (vox)\tCOPE-MAX Y (vox)\tCOPE-MAX Z (vox)\tCOPE-MEAN\n",
      "\n",
      "Test for NEGATIVE relationship between:\n",
      "--- increase in MD and GOAL-DIRECTEDNESS in: vmPFC | group: LONG ---\n",
      "\n",
      "Cluster Index\tVoxels\tcorrp1-p-MAX\tcorrp1-p-MAX X (vox)\tcorrp1-p-MAX Y (vox)\tcorrp1-p-MAX Z (vox)\tcorrp1-p-COG X (vox)\tcorrp1-p-COG Y (vox)\tcorrp1-p-COG Z (vox)\tCOPE-MAX\tCOPE-MAX X (vox)\tCOPE-MAX Y (vox)\tCOPE-MAX Z (vox)\tCOPE-MEAN\n",
      "\n"
     ]
    }
   ],
   "source": [
    "getClusterInfoIndividualDiffs(group, map_type, region, ReversedSigThresh='0.90')"
   ]
  },
  {
   "cell_type": "markdown",
   "metadata": {},
   "source": [
    ">>>>> RESULTS: NOTHING"
   ]
  },
  {
   "cell_type": "markdown",
   "metadata": {},
   "source": [
    "# *-*-*-*-*-*-*-*-*-*-*-*-*-*-*-*-*-*-*-*-*-*-*-*-*-*"
   ]
  },
  {
   "cell_type": "markdown",
   "metadata": {},
   "source": [
    "# Statistics - Exploratory SUBGROUPS analysis (subgroups of habitual and goal-directed participants are inferred based on the behavioral measure)"
   ]
  },
  {
   "cell_type": "markdown",
   "metadata": {},
   "source": [
    "### Prepare and arrange the behavioral data and the corresponding DTI folders data variables"
   ]
  },
  {
   "cell_type": "code",
   "execution_count": 9,
   "metadata": {},
   "outputs": [],
   "source": [
    "# Get the behavioral data:\n",
    "behav_clustered_all = pd.read_csv(os.path.join(behav_data_path, 'clustered_subgroups_HIS_May_2022.csv'))\n",
    "# remove subjects that don't have DTI data\n",
    "absent_from_DTI_data2 = [sub for sub in behav_clustered_all.ID if 'sub-' + str(sub) not in subjFoldersDTI]\n",
    "behav_clustered_all = behav_clustered_all[~behav_clustered_all.ID.isin(absent_from_DTI_data2)]\n",
    "\n",
    "# remove subjects that were excluded from the behavioral sub-groups clusters:\n",
    "absent_from_behav_clusters = [sub for sub in subjFoldersDTI if int(sub.split('-')[1]) not in list(behav_clustered_all.ID)]\n",
    "subjFoldersDTI_forSubgroups = [sub for sub in subjFoldersDTI if sub not in absent_from_behav_clusters]\n",
    "\n",
    "# now make sure that subject lists are matching:\n",
    "if not ['sub-' + str(sub) for sub in behav_clustered_all.ID] == subjFoldersDTI_forSubgroups:\n",
    "    raise Exception('Subject lists are not matching')\n",
    "    #pass # for debugging\n",
    "\n",
    "# create variables foreach group seperately and for the subgroups seperately:\n",
    "behav_clustered_short = behav_clustered_all[behav_clustered_all.ID < 200]\n",
    "behav_clustered_long = behav_clustered_all[behav_clustered_all.ID > 200]\n",
    "behav_clustered_goal_directed = behav_clustered_all[behav_clustered_all.Cluster == 'Goal-directed']\n",
    "behav_clustered_habitual = behav_clustered_all[behav_clustered_all.Cluster == 'Habitual']\n",
    "\n",
    "# sort the data according to the subgroups and create matching lists for the DTI data:\n",
    "behav_clustered_short = behav_clustered_short.sort_values(by=['Cluster', 'ID']).reset_index(drop=True)\n",
    "subjFoldersDTI_clustered_short = ['sub-' + str(sub) for sub in behav_clustered_short.ID]\n",
    "\n",
    "behav_clustered_long = behav_clustered_long.sort_values(by=['Cluster', 'ID']).reset_index(drop=True)\n",
    "subjFoldersDTI_clustered_long = ['sub-' + str(sub) for sub in behav_clustered_long.ID]\n",
    "\n",
    "behav_clustered_goal_directed = behav_clustered_goal_directed.sort_values(by=['ID']).reset_index(drop=True)\n",
    "subjFoldersDTI_clustered_goal_directed = ['sub-' + str(sub) for sub in behav_clustered_goal_directed.ID]\n",
    "\n",
    "behav_clustered_habitual = behav_clustered_habitual.sort_values(by=['ID']).reset_index(drop=True)\n",
    "subjFoldersDTI_clustered_habitual = ['sub-' + str(sub) for sub in behav_clustered_habitual.ID]"
   ]
  },
  {
   "cell_type": "code",
   "execution_count": 10,
   "metadata": {},
   "outputs": [
    {
     "data": {
      "text/plain": [
       "['sub-104',\n",
       " 'sub-106',\n",
       " 'sub-108',\n",
       " 'sub-110',\n",
       " 'sub-113',\n",
       " 'sub-114',\n",
       " 'sub-115',\n",
       " 'sub-117',\n",
       " 'sub-118',\n",
       " 'sub-121',\n",
       " 'sub-122',\n",
       " 'sub-126',\n",
       " 'sub-129',\n",
       " 'sub-130',\n",
       " 'sub-138',\n",
       " 'sub-141',\n",
       " 'sub-142',\n",
       " 'sub-143',\n",
       " 'sub-146',\n",
       " 'sub-147',\n",
       " 'sub-148',\n",
       " 'sub-149',\n",
       " 'sub-150',\n",
       " 'sub-152',\n",
       " 'sub-153',\n",
       " 'sub-155',\n",
       " 'sub-156',\n",
       " 'sub-160',\n",
       " 'sub-162',\n",
       " 'sub-164',\n",
       " 'sub-166',\n",
       " 'sub-167',\n",
       " 'sub-172',\n",
       " 'sub-204',\n",
       " 'sub-205',\n",
       " 'sub-207',\n",
       " 'sub-209',\n",
       " 'sub-210',\n",
       " 'sub-212',\n",
       " 'sub-215',\n",
       " 'sub-218',\n",
       " 'sub-229',\n",
       " 'sub-230',\n",
       " 'sub-232',\n",
       " 'sub-239',\n",
       " 'sub-240',\n",
       " 'sub-243',\n",
       " 'sub-245',\n",
       " 'sub-247',\n",
       " 'sub-249',\n",
       " 'sub-251',\n",
       " 'sub-252',\n",
       " 'sub-254',\n",
       " 'sub-257',\n",
       " 'sub-258',\n",
       " 'sub-260',\n",
       " 'sub-261',\n",
       " 'sub-262',\n",
       " 'sub-263',\n",
       " 'sub-264',\n",
       " 'sub-265',\n",
       " 'sub-270',\n",
       " 'sub-271',\n",
       " 'sub-272',\n",
       " 'sub-281',\n",
       " 'sub-282',\n",
       " 'sub-283',\n",
       " 'sub-285']"
      ]
     },
     "execution_count": 10,
     "metadata": {},
     "output_type": "execute_result"
    }
   ],
   "source": [
    "subjFoldersDTI_clustered_short #goal-directed then habitual - from behav_clustered_short\n",
    "subjFoldersDTI_clustered_long #goal-directed then habitual - from behav_clustered_long\n",
    "subjFoldersDTI_clustered_goal_directed #1-day then 3-day - from behav_clustered_goal_directed\n",
    "subjFoldersDTI_clustered_habitual #1-day then 3-day - from behav_clustered_habitual\n"
   ]
  },
  {
   "cell_type": "markdown",
   "metadata": {},
   "source": [
    "### prepare the design matrix"
   ]
  },
  {
   "cell_type": "code",
   "execution_count": 11,
   "metadata": {},
   "outputs": [
    {
     "name": "stdout",
     "output_type": "stream",
     "text": [
      "> Create the between group design matrix (of the calculated differences) - same is unpaired t-test (on the after-before differences)\n",
      "design_ttest2 /export2/DATA/HIS/HIS_server/analysis/dwi_data/stats_alt_reg/models/sub_groups/design_unpaired_ttest_subgroups_in_1_Day 27 33\n",
      "design_ttest2 /export2/DATA/HIS/HIS_server/analysis/dwi_data/stats_alt_reg/models/sub_groups/design_unpaired_ttest_subgroups_in_3_Day 20 35\n",
      "design_ttest2 /export2/DATA/HIS/HIS_server/analysis/dwi_data/stats_alt_reg/models/sub_groups/design_unpaired_ttest_subgroups_in_Goal_Directed 27 20\n",
      "design_ttest2 /export2/DATA/HIS/HIS_server/analysis/dwi_data/stats_alt_reg/models/sub_groups/design_unpaired_ttest_subgroups_in_Habitual 33 35\n"
     ]
    },
    {
     "data": {
      "text/plain": [
       "0"
      ]
     },
     "execution_count": 11,
     "metadata": {},
     "output_type": "execute_result"
    }
   ],
   "source": [
    "print('> Create the between group design matrix (of the calculated differences) - same is unpaired t-test (on the after-before differences)')\n",
    "# create the folder\n",
    "try:\n",
    "    os.makedirs(os.path.join(models_path, 'sub_groups'), exist_ok=False)\n",
    "    print('>> Created folder: ' + os.path.join(models_path, 'sub_groups'))\n",
    "except:\n",
    "    pass\n",
    "\n",
    "# create the design matrix and contrasts:\n",
    "N_goal_directed_in_clustered_1_DAY = behav_clustered_short.Cluster.value_counts()['Goal-directed']\n",
    "N_habitual_in_clustered_1_DAY = behav_clustered_short.Cluster.value_counts()['Habitual']\n",
    "print(f\"design_ttest2 {os.path.join(models_path, 'sub_groups','design_unpaired_ttest_subgroups_in_1_Day')} {N_goal_directed_in_clustered_1_DAY} {N_habitual_in_clustered_1_DAY}\")\n",
    "os.system(f\"design_ttest2 {os.path.join(models_path, 'sub_groups','design_unpaired_ttest_subgroups_in_1_Day')} {N_goal_directed_in_clustered_1_DAY} {N_habitual_in_clustered_1_DAY}\")\n",
    "\n",
    "N_goal_directed_in_clustered_3_DAY = behav_clustered_long.Cluster.value_counts()['Goal-directed']\n",
    "N_habitual_in_clustered_3_DAY = behav_clustered_long.Cluster.value_counts()['Habitual']\n",
    "print(f\"design_ttest2 {os.path.join(models_path, 'sub_groups','design_unpaired_ttest_subgroups_in_3_Day')} {N_goal_directed_in_clustered_3_DAY} {N_habitual_in_clustered_3_DAY}\")\n",
    "os.system(f\"design_ttest2 {os.path.join(models_path, 'sub_groups','design_unpaired_ttest_subgroups_in_3_Day')} {N_goal_directed_in_clustered_3_DAY} {N_habitual_in_clustered_3_DAY}\")\n",
    "\n",
    "N_1_DAY_in_clustered_goal_directed = len(set([sub for sub in subjFoldersDTI_clustered_goal_directed if int(sub.split('-')[-1])<200]))\n",
    "N_3_DAY_in_clustered_goal_directed = len(set([sub for sub in subjFoldersDTI_clustered_goal_directed if int(sub.split('-')[-1])>200]))\n",
    "print(f\"design_ttest2 {os.path.join(models_path, 'sub_groups','design_unpaired_ttest_subgroups_in_Goal_Directed')} {N_1_DAY_in_clustered_goal_directed} {N_3_DAY_in_clustered_goal_directed}\")\n",
    "os.system(f\"design_ttest2 {os.path.join(models_path, 'sub_groups','design_unpaired_ttest_subgroups_in_Goal_Directed')} {N_1_DAY_in_clustered_goal_directed} {N_3_DAY_in_clustered_goal_directed}\")\n",
    "\n",
    "N_1_DAY_in_clustered_habitual = len(set([sub for sub in subjFoldersDTI_clustered_habitual if int(sub.split('-')[-1])<200]))\n",
    "N_3_DAY_in_clustered_habitual = len(set([sub for sub in subjFoldersDTI_clustered_habitual if int(sub.split('-')[-1])>200]))\n",
    "print(f\"design_ttest2 {os.path.join(models_path, 'sub_groups','design_unpaired_ttest_subgroups_in_Habitual')} {N_1_DAY_in_clustered_habitual} {N_3_DAY_in_clustered_habitual}\")\n",
    "os.system(f\"design_ttest2 {os.path.join(models_path, 'sub_groups','design_unpaired_ttest_subgroups_in_Habitual')} {N_1_DAY_in_clustered_habitual} {N_3_DAY_in_clustered_habitual}\")\n"
   ]
  },
  {
   "cell_type": "markdown",
   "metadata": {},
   "source": [
    "### Create one file with each group's participants together"
   ]
  },
  {
   "cell_type": "code",
   "execution_count": null,
   "metadata": {},
   "outputs": [],
   "source": [
    "for map_type in ['MD','FA']:          \n",
    "    print(f\"fslmerge -t {os.path.join(stats_path, map_type, f'SUBGROUPS_in_1_Day_AFTER_minus_BEFORE_{map_type}')} {' '.join([os.path.join(stats_path, map_type, f'{sub}_in-MNI_{map_type}_AFTER-minus-BEFORE.nii.gz') for sub in subjFoldersDTI_clustered_short])}\")\n",
    "    os.system(f\"fslmerge -t {os.path.join(stats_path, map_type, f'SUBGROUPS_in_1_Day_AFTER_minus_BEFORE_{map_type}')} {' '.join([os.path.join(stats_path, map_type, f'{sub}_in-MNI_{map_type}_AFTER-minus-BEFORE.nii.gz') for sub in subjFoldersDTI_clustered_short])}\")\n",
    "\n",
    "    print(f\"fslmerge -t {os.path.join(stats_path, map_type, f'SUBGROUPS_in_3_Day_AFTER_minus_BEFORE_{map_type}')} {' '.join([os.path.join(stats_path, map_type, f'{sub}_in-MNI_{map_type}_AFTER-minus-BEFORE.nii.gz') for sub in subjFoldersDTI_clustered_long])}\")\n",
    "    os.system(f\"fslmerge -t {os.path.join(stats_path, map_type, f'SUBGROUPS_in_3_Day_AFTER_minus_BEFORE_{map_type}')} {' '.join([os.path.join(stats_path, map_type, f'{sub}_in-MNI_{map_type}_AFTER-minus-BEFORE.nii.gz') for sub in subjFoldersDTI_clustered_long])}\")\n",
    "\n",
    "    print(f\"fslmerge -t {os.path.join(stats_path, map_type, f'SUBGROUPS_in_Goal_Directed_AFTER_minus_BEFORE_{map_type}')} {' '.join([os.path.join(stats_path, map_type, f'{sub}_in-MNI_{map_type}_AFTER-minus-BEFORE.nii.gz') for sub in subjFoldersDTI_clustered_goal_directed])}\")\n",
    "    os.system(f\"fslmerge -t {os.path.join(stats_path, map_type, f'SUBGROUPS_in_Goal_Directed_AFTER_minus_BEFORE_{map_type}')} {' '.join([os.path.join(stats_path, map_type, f'{sub}_in-MNI_{map_type}_AFTER-minus-BEFORE.nii.gz') for sub in subjFoldersDTI_clustered_goal_directed])}\")\n",
    "\n",
    "    print(f\"fslmerge -t {os.path.join(stats_path, map_type, f'SUBGROUPS_in_Habitual_AFTER_minus_BEFORE_{map_type}')} {' '.join([os.path.join(stats_path, map_type, f'{sub}_in-MNI_{map_type}_AFTER-minus-BEFORE.nii.gz') for sub in subjFoldersDTI_clustered_habitual])}\")\n",
    "    os.system(f\"fslmerge -t {os.path.join(stats_path, map_type, f'SUBGROUPS_in_Habitual_AFTER_minus_BEFORE_{map_type}')} {' '.join([os.path.join(stats_path, map_type, f'{sub}_in-MNI_{map_type}_AFTER-minus-BEFORE.nii.gz') for sub in subjFoldersDTI_clustered_habitual])}\")\n",
    "    "
   ]
  },
  {
   "cell_type": "markdown",
   "metadata": {},
   "source": [
    "### Settings"
   ]
  },
  {
   "cell_type": "code",
   "execution_count": 13,
   "metadata": {},
   "outputs": [],
   "source": [
    "# a function to run randomise for the individual differences analyses:\n",
    "def runRandomiseSubgroups(subgroups_in, map_type, region):\n",
    "    print(f'Running randomise for sub-groups analysis:\\n--- Subgroups in {subgroups_in} | {map_type} | {region} ---\\n')\n",
    "    #print(f'MAKE SURE TO REPLACE IN THE FUNCTION THE the print to os.system before running the command !!!\\n')\n",
    "    os.system(f\"randomise_parallel \\\n",
    "        -i {os.path.join(stats_path, map_type, f'SUBGROUPS_in_{subgroups_in}_AFTER_minus_BEFORE_{map_type}')} \\\n",
    "        -o {os.path.join(stats_path, map_type, f'SUBGROUPS_in_{subgroups_in}_AFTER_minus_BEFORE_{map_type}_{region}')} \\\n",
    "        {'' if region=='whole_brain' else f'-m {masks_paths[region]}'} \\\n",
    "        -d {os.path.join(stats_path, 'models', 'sub_groups', f'design_unpaired_ttest_subgroups_in_{subgroups_in}.mat')} \\\n",
    "        -t {os.path.join(stats_path, 'models', 'sub_groups', f'design_unpaired_ttest_subgroups_in_{subgroups_in}.con')}  \\\n",
    "        -n 6000 -C 3.1\")\n",
    "\n",
    "# Get cluster info:\n",
    "def getClusterInfoSubgroups(subgroups_in, map_type, region, ReversedSigThresh='0.90'):\n",
    "    print(f'Testing stats for sub-groups analysis:\\n--- Subgroups in {subgroups_in} | {map_type} | {region} ---\\n')\n",
    "    print(f'Goal-directed > Test Habitual \\n' if subgroups_in in ['1_Day','3_Day'] else f'1-Day > 3-Day\\n')\n",
    "    print(os.popen(f'cluster \\\n",
    "        -i {os.path.join(stats_path, map_type, f\"SUBGROUPS_in_{subgroups_in}_AFTER_minus_BEFORE_{map_type}_{region}_clusterm_corrp_tstat1.nii.gz\")} \\\n",
    "        -c {os.path.join(stats_path, map_type, f\"SUBGROUPS_in_{subgroups_in}_AFTER_minus_BEFORE_{map_type}_{region}_tstat1.nii.gz\")}\\\n",
    "        -t {ReversedSigThresh} \\\n",
    "        --scalarname=corrp' + '\"1-p\"').read())\n",
    "\n",
    "    print(f'Test Habitual > Goal-Directed \\n' if subgroups_in in ['1_Day','3_Day'] else f'3-Day > 1-Day\\n')\n",
    "    print(os.popen(f'cluster \\\n",
    "        -i {os.path.join(stats_path, map_type, f\"SUBGROUPS_in_{subgroups_in}_AFTER_minus_BEFORE_{map_type}_{region}_clusterm_corrp_tstat2.nii.gz\")} \\\n",
    "        -c {os.path.join(stats_path, map_type, f\"SUBGROUPS_in_{subgroups_in}_AFTER_minus_BEFORE_{map_type}_{region}_tstat2.nii.gz\")}\\\n",
    "        -t {ReversedSigThresh} \\\n",
    "        --scalarname=corrp' + '\"1-p\"').read())\n",
    "\n",
    "# Create a binary mask for the clusters:\n",
    "def createBinaryMaskSUBGroupAnalysis(subgroups_in, map_type, region, contrast, ReversedSigThresh='0.95'):\n",
    "    print(f'Creating cluster binary mask for subgroup analysis:\\n--- subgroups: {subgroups_in} | contrast: {contrast} | {map_type} | {region} ---\\n')\n",
    "    print(f'fslmaths {os.path.join(stats_path, map_type, f\"SUBGROUPS_in_{subgroups_in}_AFTER_minus_BEFORE_{map_type}_{region}_clusterm_corrp_tstat{contrast}.nii.gz\")} \\\n",
    "        -thr {ReversedSigThresh} -bin {os.path.join(stats_path, map_type, f\"SUBGROUPS_in_{subgroups_in}_AFTER_minus_BEFORE_{map_type}_{region}_contrast_{contrast}_bin_mask.nii.gz\")}')\n",
    "    os.system(f'fslmaths {os.path.join(stats_path, map_type, f\"SUBGROUPS_in_{subgroups_in}_AFTER_minus_BEFORE_{map_type}_{region}_clusterm_corrp_tstat{contrast}.nii.gz\")} \\\n",
    "        -thr {ReversedSigThresh} -bin {os.path.join(stats_path, map_type, f\"SUBGROUPS_in_{subgroups_in}_AFTER_minus_BEFORE_{map_type}_{region}_contrast_{contrast}_bin_mask.nii.gz\")}')\n",
    "\n",
    "    # create also a t-stat of the significant cluster:\n",
    "    print(f'fslmaths {os.path.join(stats_path, map_type, f\"SUBGROUPS_in_{subgroups_in}_AFTER_minus_BEFORE_{map_type}_{region}_tstat{contrast}.nii.gz\")} \\\n",
    "        -mul {os.path.join(stats_path, map_type, f\"SUBGROUPS_in_{subgroups_in}_AFTER_minus_BEFORE_{map_type}_{region}_contrast_{contrast}_bin_mask.nii.gz\")} \\\n",
    "            {os.path.join(stats_path, map_type, f\"SUBGROUPS_in_{subgroups_in}_AFTER_minus_BEFORE_{map_type}_{region}_tstat{contrast}_in_sig_cluster.nii.gz\")}')\n",
    "    os.system(f'fslmaths {os.path.join(stats_path, map_type, f\"SUBGROUPS_in_{subgroups_in}_AFTER_minus_BEFORE_{map_type}_{region}_tstat{contrast}.nii.gz\")} \\\n",
    "        -mul {os.path.join(stats_path, map_type, f\"SUBGROUPS_in_{subgroups_in}_AFTER_minus_BEFORE_{map_type}_{region}_contrast_{contrast}_bin_mask.nii.gz\")} \\\n",
    "            {os.path.join(stats_path, map_type, f\"SUBGROUPS_in_{subgroups_in}_AFTER_minus_BEFORE_{map_type}_{region}_tstat{contrast}_in_sig_cluster.nii.gz\")}')\n",
    "\n",
    "\n",
    "# gte mean value of the cluster using the binary mask:\n",
    "def getMeanClusterValueSUBGroupAnalysis(subgroups_in, map_type, region, contrast):\n",
    "    print(f'Getting mean values of the cluster for subgroup analysis:\\n--- subgroups: {subgroups_in} | contrast: {contrast} | {map_type} | {region} ---\\n')\n",
    "    print(f'fslstats -t {os.path.join(stats_path, map_type, f\"SUBGROUPS_in_{subgroups_in}_AFTER_minus_BEFORE_{map_type}.nii.gz\")} \\\n",
    "        -k {os.path.join(stats_path, map_type, f\"SUBGROUPS_in_{subgroups_in}_AFTER_minus_BEFORE_{map_type}_{region}_contrast_{contrast}_bin_mask\")} -M')\n",
    "    avgs=os.popen(f'fslstats -t {os.path.join(stats_path, map_type, f\"SUBGROUPS_in_{subgroups_in}_AFTER_minus_BEFORE_{map_type}.nii.gz\")} \\\n",
    "        -k {os.path.join(stats_path, map_type, f\"SUBGROUPS_in_{subgroups_in}_AFTER_minus_BEFORE_{map_type}_{region}_contrast_{contrast}_bin_mask\")} -M').read()\n",
    "    return [float(i) for i in avgs.split(' \\n')[:-1]]"
   ]
  },
  {
   "cell_type": "markdown",
   "metadata": {},
   "source": [
    "## IN SHORT TRAINING"
   ]
  },
  {
   "cell_type": "code",
   "execution_count": 123,
   "metadata": {},
   "outputs": [],
   "source": [
    "subgroups_in = '1_Day'"
   ]
  },
  {
   "cell_type": "markdown",
   "metadata": {},
   "source": [
    "### Whole brain - FA"
   ]
  },
  {
   "cell_type": "code",
   "execution_count": 124,
   "metadata": {},
   "outputs": [],
   "source": [
    "map_type='FA'\n",
    "region='whole_brain'"
   ]
  },
  {
   "cell_type": "code",
   "execution_count": 125,
   "metadata": {},
   "outputs": [
    {
     "name": "stdout",
     "output_type": "stream",
     "text": [
      "Running randomise for sub-groups analysis:\n",
      "--- Subgroups in 1_Day | FA | whole_brain ---\n",
      "\n"
     ]
    }
   ],
   "source": [
    "runRandomiseSubgroups(subgroups_in, map_type, region)"
   ]
  },
  {
   "cell_type": "code",
   "execution_count": 126,
   "metadata": {},
   "outputs": [
    {
     "name": "stdout",
     "output_type": "stream",
     "text": [
      "Testing stats for sub-groups analysis:\n",
      "--- Subgroups in 1_Day | FA | whole_brain ---\n",
      "\n",
      "Goal-directed > Test Habitual \n",
      "\n",
      "Cluster Index\tVoxels\tcorrp1-p-MAX\tcorrp1-p-MAX X (vox)\tcorrp1-p-MAX Y (vox)\tcorrp1-p-MAX Z (vox)\tcorrp1-p-COG X (vox)\tcorrp1-p-COG Y (vox)\tcorrp1-p-COG Z (vox)\tCOPE-MAX\tCOPE-MAX X (vox)\tCOPE-MAX Y (vox)\tCOPE-MAX Z (vox)\tCOPE-MEAN\n",
      "\n",
      "Test Habitual > Goal-Directed \n",
      "\n",
      "Cluster Index\tVoxels\tcorrp1-p-MAX\tcorrp1-p-MAX X (vox)\tcorrp1-p-MAX Y (vox)\tcorrp1-p-MAX Z (vox)\tcorrp1-p-COG X (vox)\tcorrp1-p-COG Y (vox)\tcorrp1-p-COG Z (vox)\tCOPE-MAX\tCOPE-MAX X (vox)\tCOPE-MAX Y (vox)\tCOPE-MAX Z (vox)\tCOPE-MEAN\n",
      "\n"
     ]
    }
   ],
   "source": [
    "# Get cluster info:\n",
    "getClusterInfoSubgroups(subgroups_in, map_type, region, ReversedSigThresh='0.90')"
   ]
  },
  {
   "cell_type": "markdown",
   "metadata": {},
   "source": [
    ">>>>> RESULTS: NOTHING"
   ]
  },
  {
   "cell_type": "markdown",
   "metadata": {},
   "source": [
    "### Putamen - FA"
   ]
  },
  {
   "cell_type": "code",
   "execution_count": 127,
   "metadata": {},
   "outputs": [],
   "source": [
    "region='Putamen'"
   ]
  },
  {
   "cell_type": "code",
   "execution_count": 128,
   "metadata": {},
   "outputs": [
    {
     "name": "stdout",
     "output_type": "stream",
     "text": [
      "Running randomise for sub-groups analysis:\n",
      "--- Subgroups in 1_Day | FA | Putamen ---\n",
      "\n"
     ]
    }
   ],
   "source": [
    "runRandomiseSubgroups(subgroups_in, map_type, region)"
   ]
  },
  {
   "cell_type": "code",
   "execution_count": 129,
   "metadata": {},
   "outputs": [
    {
     "name": "stdout",
     "output_type": "stream",
     "text": [
      "Testing stats for sub-groups analysis:\n",
      "--- Subgroups in 1_Day | FA | Putamen ---\n",
      "\n",
      "Goal-directed > Test Habitual \n",
      "\n",
      "Cluster Index\tVoxels\tcorrp1-p-MAX\tcorrp1-p-MAX X (vox)\tcorrp1-p-MAX Y (vox)\tcorrp1-p-MAX Z (vox)\tcorrp1-p-COG X (vox)\tcorrp1-p-COG Y (vox)\tcorrp1-p-COG Z (vox)\tCOPE-MAX\tCOPE-MAX X (vox)\tCOPE-MAX Y (vox)\tCOPE-MAX Z (vox)\tCOPE-MEAN\n",
      "1\t3\t0.935\t34\t58\t38\t33.3\t58\t39\t4.19\t33\t58\t40\t3.63\n",
      "\n",
      "Test Habitual > Goal-Directed \n",
      "\n",
      "Cluster Index\tVoxels\tcorrp1-p-MAX\tcorrp1-p-MAX X (vox)\tcorrp1-p-MAX Y (vox)\tcorrp1-p-MAX Z (vox)\tcorrp1-p-COG X (vox)\tcorrp1-p-COG Y (vox)\tcorrp1-p-COG Z (vox)\tCOPE-MAX\tCOPE-MAX X (vox)\tCOPE-MAX Y (vox)\tCOPE-MAX Z (vox)\tCOPE-MEAN\n",
      "\n"
     ]
    }
   ],
   "source": [
    "# Get cluster info:\n",
    "getClusterInfoSubgroups(subgroups_in, map_type, region, ReversedSigThresh='0.90')"
   ]
  },
  {
   "cell_type": "markdown",
   "metadata": {},
   "source": [
    ">>>>> RESULTS: NOTHING"
   ]
  },
  {
   "cell_type": "markdown",
   "metadata": {},
   "source": [
    "MMMMMMMMMMMMMMMMM"
   ]
  },
  {
   "cell_type": "code",
   "execution_count": null,
   "metadata": {},
   "outputs": [],
   "source": [
    "createBinaryMaskSUBGroupAnalysis('1_Day', 'FA', 'Putamen', 1, ReversedSigThresh='0.90')\n",
    "change_in_subgroups_in_1_day_FA_Putamen=getMeanClusterValueSUBGroupAnalysis('1_Day', 'FA', 'Putamen', 1)\n",
    "\n",
    "# create a dataframe from lists:\n",
    "change_in_FA_putamen = pd.DataFrame([[int(sub.split('-')[-1]) for sub in subjFoldersDTI_clustered_short], [subgroup for subgroup in behav_clustered_short.Cluster], change_in_subgroups_in_1_day_FA_Putamen]).T\n",
    "change_in_FA_putamen.columns = ['subID', 'sub_group', 'change_in_FA_Putamen']\n",
    "\n"
   ]
  },
  {
   "cell_type": "code",
   "execution_count": 26,
   "metadata": {},
   "outputs": [
    {
     "data": {
      "image/png": "[encoded data removed]",
      "text/plain": [
       "<Figure size 576x720 with 1 Axes>"
      ]
     },
     "metadata": {},
     "output_type": "display_data"
    }
   ],
   "source": [
    "sns.set(font_scale = 2)\n",
    "sns.set_style(\"whitegrid\")\n",
    "fig, axs = plt.subplots(ncols=1,figsize=(8,10))\n",
    "sns.stripplot(x=\"sub_group\", y=\"change_in_FA_Putamen\", data=change_in_FA_putamen, ax=axs, zorder=2, alpha= 0.5)\n",
    "sns.barplot(x=\"sub_group\", y=\"change_in_FA_Putamen\", data=change_in_FA_putamen, ci=68, ax=axs,alpha=0.5, zorder=2, capsize=0.1)\n",
    "axs.set(xlabel='Subgroup within short training', ylabel='Change in FA [after - before]')\n",
    "axs.xaxis.grid()\n",
    "\n"
   ]
  },
  {
   "cell_type": "markdown",
   "metadata": {},
   "source": []
  },
  {
   "cell_type": "code",
   "execution_count": 28,
   "metadata": {},
   "outputs": [
    {
     "name": "stdout",
     "output_type": "stream",
     "text": [
      "4.163826951390594 0.00014474251929630198\n"
     ]
    }
   ],
   "source": [
    "# two group t-test:\n",
    "t, p = stats.ttest_ind(change_in_FA_putamen[change_in_FA_putamen.sub_group=='Goal-directed'].change_in_FA_Putamen, change_in_FA_putamen[change_in_FA_putamen.sub_group=='Habitual'].change_in_FA_Putamen, equal_var=False)\n",
    "print(t,p)"
   ]
  },
  {
   "cell_type": "markdown",
   "metadata": {},
   "source": [
    "### Caudate - FA"
   ]
  },
  {
   "cell_type": "code",
   "execution_count": 130,
   "metadata": {},
   "outputs": [],
   "source": [
    "region='Caudate'"
   ]
  },
  {
   "cell_type": "code",
   "execution_count": 131,
   "metadata": {},
   "outputs": [
    {
     "name": "stdout",
     "output_type": "stream",
     "text": [
      "Running randomise for sub-groups analysis:\n",
      "--- Subgroups in 1_Day | FA | Caudate ---\n",
      "\n"
     ]
    }
   ],
   "source": [
    "runRandomiseSubgroups(subgroups_in, map_type, region)"
   ]
  },
  {
   "cell_type": "code",
   "execution_count": 132,
   "metadata": {},
   "outputs": [
    {
     "name": "stdout",
     "output_type": "stream",
     "text": [
      "Testing stats for sub-groups analysis:\n",
      "--- Subgroups in 1_Day | FA | Caudate ---\n",
      "\n",
      "Goal-directed > Test Habitual \n",
      "\n",
      "Cluster Index\tVoxels\tcorrp1-p-MAX\tcorrp1-p-MAX X (vox)\tcorrp1-p-MAX Y (vox)\tcorrp1-p-MAX Z (vox)\tcorrp1-p-COG X (vox)\tcorrp1-p-COG Y (vox)\tcorrp1-p-COG Z (vox)\tCOPE-MAX\tCOPE-MAX X (vox)\tCOPE-MAX Y (vox)\tCOPE-MAX Z (vox)\tCOPE-MEAN\n",
      "\n",
      "Test Habitual > Goal-Directed \n",
      "\n",
      "Cluster Index\tVoxels\tcorrp1-p-MAX\tcorrp1-p-MAX X (vox)\tcorrp1-p-MAX Y (vox)\tcorrp1-p-MAX Z (vox)\tcorrp1-p-COG X (vox)\tcorrp1-p-COG Y (vox)\tcorrp1-p-COG Z (vox)\tCOPE-MAX\tCOPE-MAX X (vox)\tCOPE-MAX Y (vox)\tCOPE-MAX Z (vox)\tCOPE-MEAN\n",
      "\n"
     ]
    }
   ],
   "source": [
    "# Get cluster info:\n",
    "getClusterInfoSubgroups(subgroups_in, map_type, region, ReversedSigThresh='0.90')"
   ]
  },
  {
   "cell_type": "markdown",
   "metadata": {},
   "source": [
    ">>>>> RESULTS:\n",
    "MMM... need to look into it"
   ]
  },
  {
   "cell_type": "markdown",
   "metadata": {},
   "source": [
    "### vmPFC - FA"
   ]
  },
  {
   "cell_type": "code",
   "execution_count": 133,
   "metadata": {},
   "outputs": [],
   "source": [
    "region='vmPFC'"
   ]
  },
  {
   "cell_type": "code",
   "execution_count": 134,
   "metadata": {},
   "outputs": [
    {
     "name": "stdout",
     "output_type": "stream",
     "text": [
      "Running randomise for sub-groups analysis:\n",
      "--- Subgroups in 1_Day | FA | vmPFC ---\n",
      "\n"
     ]
    }
   ],
   "source": [
    "runRandomiseSubgroups(subgroups_in, map_type, region)"
   ]
  },
  {
   "cell_type": "code",
   "execution_count": 135,
   "metadata": {},
   "outputs": [
    {
     "name": "stdout",
     "output_type": "stream",
     "text": [
      "Testing stats for sub-groups analysis:\n",
      "--- Subgroups in 1_Day | FA | vmPFC ---\n",
      "\n",
      "Goal-directed > Test Habitual \n",
      "\n",
      "Cluster Index\tVoxels\tcorrp1-p-MAX\tcorrp1-p-MAX X (vox)\tcorrp1-p-MAX Y (vox)\tcorrp1-p-MAX Z (vox)\tcorrp1-p-COG X (vox)\tcorrp1-p-COG Y (vox)\tcorrp1-p-COG Z (vox)\tCOPE-MAX\tCOPE-MAX X (vox)\tCOPE-MAX Y (vox)\tCOPE-MAX Z (vox)\tCOPE-MEAN\n",
      "\n",
      "Test Habitual > Goal-Directed \n",
      "\n",
      "Cluster Index\tVoxels\tcorrp1-p-MAX\tcorrp1-p-MAX X (vox)\tcorrp1-p-MAX Y (vox)\tcorrp1-p-MAX Z (vox)\tcorrp1-p-COG X (vox)\tcorrp1-p-COG Y (vox)\tcorrp1-p-COG Z (vox)\tCOPE-MAX\tCOPE-MAX X (vox)\tCOPE-MAX Y (vox)\tCOPE-MAX Z (vox)\tCOPE-MEAN\n",
      "\n"
     ]
    }
   ],
   "source": [
    "# Get cluster info:\n",
    "getClusterInfoSubgroups(subgroups_in, map_type, region, ReversedSigThresh='0.90')"
   ]
  },
  {
   "cell_type": "markdown",
   "metadata": {},
   "source": [
    ">>>>> RESULTS: NOTHING"
   ]
  },
  {
   "cell_type": "markdown",
   "metadata": {},
   "source": [
    "### Whole brain - MD"
   ]
  },
  {
   "cell_type": "code",
   "execution_count": 136,
   "metadata": {},
   "outputs": [],
   "source": [
    "map_type='MD'\n",
    "region='whole_brain'"
   ]
  },
  {
   "cell_type": "code",
   "execution_count": 137,
   "metadata": {},
   "outputs": [
    {
     "name": "stdout",
     "output_type": "stream",
     "text": [
      "Running randomise for sub-groups analysis:\n",
      "--- Subgroups in 1_Day | MD | whole_brain ---\n",
      "\n"
     ]
    }
   ],
   "source": [
    "runRandomiseSubgroups(subgroups_in, map_type, region)"
   ]
  },
  {
   "cell_type": "code",
   "execution_count": 138,
   "metadata": {},
   "outputs": [
    {
     "name": "stdout",
     "output_type": "stream",
     "text": [
      "Testing stats for sub-groups analysis:\n",
      "--- Subgroups in 1_Day | MD | whole_brain ---\n",
      "\n",
      "Goal-directed > Test Habitual \n",
      "\n",
      "Cluster Index\tVoxels\tcorrp1-p-MAX\tcorrp1-p-MAX X (vox)\tcorrp1-p-MAX Y (vox)\tcorrp1-p-MAX Z (vox)\tcorrp1-p-COG X (vox)\tcorrp1-p-COG Y (vox)\tcorrp1-p-COG Z (vox)\tCOPE-MAX\tCOPE-MAX X (vox)\tCOPE-MAX Y (vox)\tCOPE-MAX Z (vox)\tCOPE-MEAN\n",
      "\n",
      "Test Habitual > Goal-Directed \n",
      "\n",
      "Cluster Index\tVoxels\tcorrp1-p-MAX\tcorrp1-p-MAX X (vox)\tcorrp1-p-MAX Y (vox)\tcorrp1-p-MAX Z (vox)\tcorrp1-p-COG X (vox)\tcorrp1-p-COG Y (vox)\tcorrp1-p-COG Z (vox)\tCOPE-MAX\tCOPE-MAX X (vox)\tCOPE-MAX Y (vox)\tCOPE-MAX Z (vox)\tCOPE-MEAN\n",
      "\n"
     ]
    }
   ],
   "source": [
    "# Get cluster info:\n",
    "getClusterInfoSubgroups(subgroups_in, map_type, region, ReversedSigThresh='0.90')"
   ]
  },
  {
   "cell_type": "markdown",
   "metadata": {},
   "source": [
    ">>>>> RESULTS: NOTHING"
   ]
  },
  {
   "cell_type": "markdown",
   "metadata": {},
   "source": [
    "### Putamen - MD"
   ]
  },
  {
   "cell_type": "code",
   "execution_count": 139,
   "metadata": {},
   "outputs": [],
   "source": [
    "region='Putamen'"
   ]
  },
  {
   "cell_type": "code",
   "execution_count": 140,
   "metadata": {},
   "outputs": [
    {
     "name": "stdout",
     "output_type": "stream",
     "text": [
      "Running randomise for sub-groups analysis:\n",
      "--- Subgroups in 1_Day | MD | Putamen ---\n",
      "\n"
     ]
    }
   ],
   "source": [
    "runRandomiseSubgroups(subgroups_in, map_type, region)"
   ]
  },
  {
   "cell_type": "code",
   "execution_count": 141,
   "metadata": {},
   "outputs": [
    {
     "name": "stdout",
     "output_type": "stream",
     "text": [
      "Testing stats for sub-groups analysis:\n",
      "--- Subgroups in 1_Day | MD | Putamen ---\n",
      "\n",
      "Goal-directed > Test Habitual \n",
      "\n",
      "Cluster Index\tVoxels\tcorrp1-p-MAX\tcorrp1-p-MAX X (vox)\tcorrp1-p-MAX Y (vox)\tcorrp1-p-MAX Z (vox)\tcorrp1-p-COG X (vox)\tcorrp1-p-COG Y (vox)\tcorrp1-p-COG Z (vox)\tCOPE-MAX\tCOPE-MAX X (vox)\tCOPE-MAX Y (vox)\tCOPE-MAX Z (vox)\tCOPE-MEAN\n",
      "\n",
      "Test Habitual > Goal-Directed \n",
      "\n",
      "Cluster Index\tVoxels\tcorrp1-p-MAX\tcorrp1-p-MAX X (vox)\tcorrp1-p-MAX Y (vox)\tcorrp1-p-MAX Z (vox)\tcorrp1-p-COG X (vox)\tcorrp1-p-COG Y (vox)\tcorrp1-p-COG Z (vox)\tCOPE-MAX\tCOPE-MAX X (vox)\tCOPE-MAX Y (vox)\tCOPE-MAX Z (vox)\tCOPE-MEAN\n",
      "\n"
     ]
    }
   ],
   "source": [
    "# Get cluster info:\n",
    "getClusterInfoSubgroups(subgroups_in, map_type, region, ReversedSigThresh='0.90')"
   ]
  },
  {
   "cell_type": "markdown",
   "metadata": {},
   "source": [
    ">>>>> RESULTS: NOTHING"
   ]
  },
  {
   "cell_type": "markdown",
   "metadata": {},
   "source": [
    "### Caudate - MD"
   ]
  },
  {
   "cell_type": "code",
   "execution_count": 142,
   "metadata": {},
   "outputs": [],
   "source": [
    "region='Caudate'"
   ]
  },
  {
   "cell_type": "code",
   "execution_count": 143,
   "metadata": {},
   "outputs": [
    {
     "name": "stdout",
     "output_type": "stream",
     "text": [
      "Running randomise for sub-groups analysis:\n",
      "--- Subgroups in 1_Day | MD | Caudate ---\n",
      "\n"
     ]
    }
   ],
   "source": [
    "runRandomiseSubgroups(subgroups_in, map_type, region)"
   ]
  },
  {
   "cell_type": "code",
   "execution_count": 144,
   "metadata": {},
   "outputs": [
    {
     "name": "stdout",
     "output_type": "stream",
     "text": [
      "Testing stats for sub-groups analysis:\n",
      "--- Subgroups in 1_Day | MD | Caudate ---\n",
      "\n",
      "Goal-directed > Test Habitual \n",
      "\n",
      "Cluster Index\tVoxels\tcorrp1-p-MAX\tcorrp1-p-MAX X (vox)\tcorrp1-p-MAX Y (vox)\tcorrp1-p-MAX Z (vox)\tcorrp1-p-COG X (vox)\tcorrp1-p-COG Y (vox)\tcorrp1-p-COG Z (vox)\tCOPE-MAX\tCOPE-MAX X (vox)\tCOPE-MAX Y (vox)\tCOPE-MAX Z (vox)\tCOPE-MEAN\n",
      "\n",
      "Test Habitual > Goal-Directed \n",
      "\n",
      "Cluster Index\tVoxels\tcorrp1-p-MAX\tcorrp1-p-MAX X (vox)\tcorrp1-p-MAX Y (vox)\tcorrp1-p-MAX Z (vox)\tcorrp1-p-COG X (vox)\tcorrp1-p-COG Y (vox)\tcorrp1-p-COG Z (vox)\tCOPE-MAX\tCOPE-MAX X (vox)\tCOPE-MAX Y (vox)\tCOPE-MAX Z (vox)\tCOPE-MEAN\n",
      "\n"
     ]
    }
   ],
   "source": [
    "# Get cluster info:\n",
    "getClusterInfoSubgroups(subgroups_in, map_type, region, ReversedSigThresh='0.90')"
   ]
  },
  {
   "cell_type": "markdown",
   "metadata": {},
   "source": [
    ">>>>> RESULTS: NOTHING"
   ]
  },
  {
   "cell_type": "markdown",
   "metadata": {},
   "source": [
    "### vmPFC - MD"
   ]
  },
  {
   "cell_type": "code",
   "execution_count": 145,
   "metadata": {},
   "outputs": [],
   "source": [
    "region='vmPFC'"
   ]
  },
  {
   "cell_type": "code",
   "execution_count": 146,
   "metadata": {},
   "outputs": [
    {
     "name": "stdout",
     "output_type": "stream",
     "text": [
      "Running randomise for sub-groups analysis:\n",
      "--- Subgroups in 1_Day | MD | vmPFC ---\n",
      "\n"
     ]
    }
   ],
   "source": [
    "runRandomiseSubgroups(subgroups_in, map_type, region)"
   ]
  },
  {
   "cell_type": "code",
   "execution_count": 147,
   "metadata": {},
   "outputs": [
    {
     "name": "stdout",
     "output_type": "stream",
     "text": [
      "Testing stats for sub-groups analysis:\n",
      "--- Subgroups in 1_Day | MD | vmPFC ---\n",
      "\n",
      "Goal-directed > Test Habitual \n",
      "\n",
      "Cluster Index\tVoxels\tcorrp1-p-MAX\tcorrp1-p-MAX X (vox)\tcorrp1-p-MAX Y (vox)\tcorrp1-p-MAX Z (vox)\tcorrp1-p-COG X (vox)\tcorrp1-p-COG Y (vox)\tcorrp1-p-COG Z (vox)\tCOPE-MAX\tCOPE-MAX X (vox)\tCOPE-MAX Y (vox)\tCOPE-MAX Z (vox)\tCOPE-MEAN\n",
      "1\t4\t0.96\t38\t86\t25\t38.5\t85.5\t25.8\t4.09\t38\t85\t26\t3.65\n",
      "\n",
      "Test Habitual > Goal-Directed \n",
      "\n",
      "Cluster Index\tVoxels\tcorrp1-p-MAX\tcorrp1-p-MAX X (vox)\tcorrp1-p-MAX Y (vox)\tcorrp1-p-MAX Z (vox)\tcorrp1-p-COG X (vox)\tcorrp1-p-COG Y (vox)\tcorrp1-p-COG Z (vox)\tCOPE-MAX\tCOPE-MAX X (vox)\tCOPE-MAX Y (vox)\tCOPE-MAX Z (vox)\tCOPE-MEAN\n",
      "\n"
     ]
    }
   ],
   "source": [
    "# Get cluster info:\n",
    "getClusterInfoSubgroups(subgroups_in, map_type, region, ReversedSigThresh='0.90')"
   ]
  },
  {
   "cell_type": "markdown",
   "metadata": {},
   "source": [
    ">>>>> RESULTS: NOTHING"
   ]
  },
  {
   "cell_type": "code",
   "execution_count": 29,
   "metadata": {},
   "outputs": [
    {
     "name": "stdout",
     "output_type": "stream",
     "text": [
      "Creating cluster binary mask for subgroup analysis:\n",
      "--- subgroups: 1_Day | contrast: 1 | MD | vmPFC ---\n",
      "\n",
      "fslmaths /export2/DATA/HIS/HIS_server/analysis/dwi_data/stats_alt_reg/MD/SUBGROUPS_in_1_Day_AFTER_minus_BEFORE_MD_vmPFC_clusterm_corrp_tstat1.nii.gz         -thr 0.95 -bin /export2/DATA/HIS/HIS_server/analysis/dwi_data/stats_alt_reg/MD/SUBGROUPS_in_1_Day_AFTER_minus_BEFORE_MD_vmPFC_contrast_1_bin_mask.nii.gz\n",
      "fslmaths /export2/DATA/HIS/HIS_server/analysis/dwi_data/stats_alt_reg/MD/SUBGROUPS_in_1_Day_AFTER_minus_BEFORE_MD_vmPFC_tstat1.nii.gz         -mul /export2/DATA/HIS/HIS_server/analysis/dwi_data/stats_alt_reg/MD/SUBGROUPS_in_1_Day_AFTER_minus_BEFORE_MD_vmPFC_contrast_1_bin_mask.nii.gz             /export2/DATA/HIS/HIS_server/analysis/dwi_data/stats_alt_reg/MD/SUBGROUPS_in_1_Day_AFTER_minus_BEFORE_MD_vmPFC_tstat1_in_sig_cluster.nii.gz\n",
      "Getting mean values of the cluster for subgroup analysis:\n",
      "--- subgroups: 1_Day | contrast: 1 | MD | vmPFC ---\n",
      "\n",
      "fslstats -t /export2/DATA/HIS/HIS_server/analysis/dwi_data/stats_alt_reg/MD/SUBGROUPS_in_1_Day_AFTER_minus_BEFORE_MD.nii.gz         -k /export2/DATA/HIS/HIS_server/analysis/dwi_data/stats_alt_reg/MD/SUBGROUPS_in_1_Day_AFTER_minus_BEFORE_MD_vmPFC_contrast_1_bin_mask -M\n",
      "4.991939632287006 8.00996168902074e-06\n"
     ]
    },
    {
     "data": {
      "image/png": "[encoded data removed]",
      "text/plain": [
       "<Figure size 576x720 with 1 Axes>"
      ]
     },
     "metadata": {},
     "output_type": "display_data"
    }
   ],
   "source": [
    "createBinaryMaskSUBGroupAnalysis('1_Day', 'MD', 'vmPFC', 1, ReversedSigThresh='0.95')\n",
    "change_in_subgroups_in_1_day_MD_vmPFC=getMeanClusterValueSUBGroupAnalysis('1_Day', 'MD', 'vmPFC', 1)\n",
    "\n",
    "# create a dataframe from lists:\n",
    "change_in_MD_vmPFC = pd.DataFrame([[int(sub.split('-')[-1]) for sub in subjFoldersDTI_clustered_short], [subgroup for subgroup in behav_clustered_short.Cluster], change_in_subgroups_in_1_day_MD_vmPFC]).T\n",
    "change_in_MD_vmPFC.columns = ['subID', 'sub_group', 'change_in_MD_vmPFC']\n",
    "\n",
    "\n",
    "sns.set(font_scale = 2)\n",
    "sns.set_style(\"whitegrid\")\n",
    "fig, axs = plt.subplots(ncols=1,figsize=(8,10))\n",
    "sns.stripplot(x=\"sub_group\", y=\"change_in_MD_vmPFC\", data=change_in_MD_vmPFC, ax=axs, zorder=2, alpha= 0.5)\n",
    "sns.barplot(x=\"sub_group\", y=\"change_in_MD_vmPFC\", data=change_in_MD_vmPFC, ci=68, ax=axs,alpha=0.5, zorder=2, capsize=0.1)\n",
    "axs.set(xlabel='Sub-group within short training', ylabel='Change in MD [after - before]')\n",
    "axs.xaxis.grid()\n",
    "\n",
    "\n",
    "# two group t-test:\n",
    "t, p = stats.ttest_ind(change_in_MD_vmPFC[change_in_MD_vmPFC.sub_group=='Goal-directed'].change_in_MD_vmPFC, change_in_MD_vmPFC[change_in_MD_vmPFC.sub_group=='Habitual'].change_in_MD_vmPFC, equal_var=False)\n",
    "print(t,p)"
   ]
  },
  {
   "cell_type": "markdown",
   "metadata": {},
   "source": [
    "## IN LONG TRAINING"
   ]
  },
  {
   "cell_type": "code",
   "execution_count": 34,
   "metadata": {},
   "outputs": [],
   "source": [
    "subgroups_in = '3_Day'"
   ]
  },
  {
   "cell_type": "markdown",
   "metadata": {},
   "source": [
    "### Whole brain - FA"
   ]
  },
  {
   "cell_type": "code",
   "execution_count": 149,
   "metadata": {},
   "outputs": [],
   "source": [
    "map_type='FA'\n",
    "region='whole_brain'"
   ]
  },
  {
   "cell_type": "code",
   "execution_count": 150,
   "metadata": {},
   "outputs": [
    {
     "name": "stdout",
     "output_type": "stream",
     "text": [
      "Running randomise for sub-groups analysis:\n",
      "--- Subgroups in 3_Day | FA | whole_brain ---\n",
      "\n"
     ]
    }
   ],
   "source": [
    "runRandomiseSubgroups(subgroups_in, map_type, region)"
   ]
  },
  {
   "cell_type": "code",
   "execution_count": 151,
   "metadata": {},
   "outputs": [
    {
     "name": "stdout",
     "output_type": "stream",
     "text": [
      "Testing stats for sub-groups analysis:\n",
      "--- Subgroups in 3_Day | FA | whole_brain ---\n",
      "\n",
      "Goal-directed > Test Habitual \n",
      "\n",
      "Cluster Index\tVoxels\tcorrp1-p-MAX\tcorrp1-p-MAX X (vox)\tcorrp1-p-MAX Y (vox)\tcorrp1-p-MAX Z (vox)\tcorrp1-p-COG X (vox)\tcorrp1-p-COG Y (vox)\tcorrp1-p-COG Z (vox)\tCOPE-MAX\tCOPE-MAX X (vox)\tCOPE-MAX Y (vox)\tCOPE-MAX Z (vox)\tCOPE-MEAN\n",
      "\n",
      "Test Habitual > Goal-Directed \n",
      "\n",
      "Cluster Index\tVoxels\tcorrp1-p-MAX\tcorrp1-p-MAX X (vox)\tcorrp1-p-MAX Y (vox)\tcorrp1-p-MAX Z (vox)\tcorrp1-p-COG X (vox)\tcorrp1-p-COG Y (vox)\tcorrp1-p-COG Z (vox)\tCOPE-MAX\tCOPE-MAX X (vox)\tCOPE-MAX Y (vox)\tCOPE-MAX Z (vox)\tCOPE-MEAN\n",
      "\n"
     ]
    }
   ],
   "source": [
    "# Get cluster info:\n",
    "getClusterInfoSubgroups(subgroups_in, map_type, region, ReversedSigThresh='0.90')"
   ]
  },
  {
   "cell_type": "markdown",
   "metadata": {},
   "source": [
    ">>>>> RESULT:"
   ]
  },
  {
   "cell_type": "markdown",
   "metadata": {},
   "source": [
    "### Putamen - FA"
   ]
  },
  {
   "cell_type": "code",
   "execution_count": 152,
   "metadata": {},
   "outputs": [],
   "source": [
    "region='Putamen'"
   ]
  },
  {
   "cell_type": "code",
   "execution_count": 153,
   "metadata": {},
   "outputs": [
    {
     "name": "stdout",
     "output_type": "stream",
     "text": [
      "Running randomise for sub-groups analysis:\n",
      "--- Subgroups in 3_Day | FA | Putamen ---\n",
      "\n"
     ]
    }
   ],
   "source": [
    "runRandomiseSubgroups(subgroups_in, map_type, region)"
   ]
  },
  {
   "cell_type": "code",
   "execution_count": 154,
   "metadata": {},
   "outputs": [
    {
     "name": "stdout",
     "output_type": "stream",
     "text": [
      "Testing stats for sub-groups analysis:\n",
      "--- Subgroups in 3_Day | FA | Putamen ---\n",
      "\n",
      "Goal-directed > Test Habitual \n",
      "\n",
      "Cluster Index\tVoxels\tcorrp1-p-MAX\tcorrp1-p-MAX X (vox)\tcorrp1-p-MAX Y (vox)\tcorrp1-p-MAX Z (vox)\tcorrp1-p-COG X (vox)\tcorrp1-p-COG Y (vox)\tcorrp1-p-COG Z (vox)\tCOPE-MAX\tCOPE-MAX X (vox)\tCOPE-MAX Y (vox)\tCOPE-MAX Z (vox)\tCOPE-MEAN\n",
      "\n",
      "Test Habitual > Goal-Directed \n",
      "\n",
      "Cluster Index\tVoxels\tcorrp1-p-MAX\tcorrp1-p-MAX X (vox)\tcorrp1-p-MAX Y (vox)\tcorrp1-p-MAX Z (vox)\tcorrp1-p-COG X (vox)\tcorrp1-p-COG Y (vox)\tcorrp1-p-COG Z (vox)\tCOPE-MAX\tCOPE-MAX X (vox)\tCOPE-MAX Y (vox)\tCOPE-MAX Z (vox)\tCOPE-MEAN\n",
      "1\t6\t0.986\t36\t71\t33\t36.5\t70.7\t33.8\t3.97\t36\t72\t33\t3.57\n",
      "\n"
     ]
    }
   ],
   "source": [
    "# Get cluster info:\n",
    "getClusterInfoSubgroups(subgroups_in, map_type, region, ReversedSigThresh='0.90')"
   ]
  },
  {
   "cell_type": "markdown",
   "metadata": {},
   "source": [
    ">>>>> RESULT"
   ]
  },
  {
   "cell_type": "markdown",
   "metadata": {},
   "source": [
    "### Caudate - FA"
   ]
  },
  {
   "cell_type": "code",
   "execution_count": 155,
   "metadata": {},
   "outputs": [],
   "source": [
    "region='Caudate'"
   ]
  },
  {
   "cell_type": "code",
   "execution_count": 156,
   "metadata": {},
   "outputs": [
    {
     "name": "stdout",
     "output_type": "stream",
     "text": [
      "Running randomise for sub-groups analysis:\n",
      "--- Subgroups in 3_Day | FA | Caudate ---\n",
      "\n"
     ]
    }
   ],
   "source": [
    "runRandomiseSubgroups(subgroups_in, map_type, region)"
   ]
  },
  {
   "cell_type": "code",
   "execution_count": 157,
   "metadata": {},
   "outputs": [
    {
     "name": "stdout",
     "output_type": "stream",
     "text": [
      "Testing stats for sub-groups analysis:\n",
      "--- Subgroups in 3_Day | FA | Caudate ---\n",
      "\n",
      "Goal-directed > Test Habitual \n",
      "\n",
      "Cluster Index\tVoxels\tcorrp1-p-MAX\tcorrp1-p-MAX X (vox)\tcorrp1-p-MAX Y (vox)\tcorrp1-p-MAX Z (vox)\tcorrp1-p-COG X (vox)\tcorrp1-p-COG Y (vox)\tcorrp1-p-COG Z (vox)\tCOPE-MAX\tCOPE-MAX X (vox)\tCOPE-MAX Y (vox)\tCOPE-MAX Z (vox)\tCOPE-MEAN\n",
      "\n",
      "Test Habitual > Goal-Directed \n",
      "\n",
      "Cluster Index\tVoxels\tcorrp1-p-MAX\tcorrp1-p-MAX X (vox)\tcorrp1-p-MAX Y (vox)\tcorrp1-p-MAX Z (vox)\tcorrp1-p-COG X (vox)\tcorrp1-p-COG Y (vox)\tcorrp1-p-COG Z (vox)\tCOPE-MAX\tCOPE-MAX X (vox)\tCOPE-MAX Y (vox)\tCOPE-MAX Z (vox)\tCOPE-MEAN\n",
      "1\t6\t0.993\t36\t71\t33\t36.5\t70.7\t33.8\t3.97\t36\t72\t33\t3.57\n",
      "\n"
     ]
    }
   ],
   "source": [
    "# Get cluster info:\n",
    "getClusterInfoSubgroups(subgroups_in, map_type, region, ReversedSigThresh='0.90')"
   ]
  },
  {
   "cell_type": "markdown",
   "metadata": {},
   "source": [
    ">>>>> RESULTS:"
   ]
  },
  {
   "cell_type": "markdown",
   "metadata": {},
   "source": [
    "### vmPFC - FA"
   ]
  },
  {
   "cell_type": "code",
   "execution_count": 158,
   "metadata": {},
   "outputs": [],
   "source": [
    "region='vmPFC'"
   ]
  },
  {
   "cell_type": "code",
   "execution_count": 159,
   "metadata": {},
   "outputs": [
    {
     "name": "stdout",
     "output_type": "stream",
     "text": [
      "Running randomise for sub-groups analysis:\n",
      "--- Subgroups in 3_Day | FA | vmPFC ---\n",
      "\n"
     ]
    }
   ],
   "source": [
    "runRandomiseSubgroups(subgroups_in, map_type, region)"
   ]
  },
  {
   "cell_type": "code",
   "execution_count": 160,
   "metadata": {},
   "outputs": [
    {
     "name": "stdout",
     "output_type": "stream",
     "text": [
      "Testing stats for sub-groups analysis:\n",
      "--- Subgroups in 3_Day | FA | vmPFC ---\n",
      "\n",
      "Goal-directed > Test Habitual \n",
      "\n",
      "Cluster Index\tVoxels\tcorrp1-p-MAX\tcorrp1-p-MAX X (vox)\tcorrp1-p-MAX Y (vox)\tcorrp1-p-MAX Z (vox)\tcorrp1-p-COG X (vox)\tcorrp1-p-COG Y (vox)\tcorrp1-p-COG Z (vox)\tCOPE-MAX\tCOPE-MAX X (vox)\tCOPE-MAX Y (vox)\tCOPE-MAX Z (vox)\tCOPE-MEAN\n",
      "\n",
      "Test Habitual > Goal-Directed \n",
      "\n",
      "Cluster Index\tVoxels\tcorrp1-p-MAX\tcorrp1-p-MAX X (vox)\tcorrp1-p-MAX Y (vox)\tcorrp1-p-MAX Z (vox)\tcorrp1-p-COG X (vox)\tcorrp1-p-COG Y (vox)\tcorrp1-p-COG Z (vox)\tCOPE-MAX\tCOPE-MAX X (vox)\tCOPE-MAX Y (vox)\tCOPE-MAX Z (vox)\tCOPE-MEAN\n",
      "\n"
     ]
    }
   ],
   "source": [
    "# Get cluster info:\n",
    "getClusterInfoSubgroups(subgroups_in, map_type, region, ReversedSigThresh='0.90')"
   ]
  },
  {
   "cell_type": "markdown",
   "metadata": {},
   "source": [
    ">>>>> RESULTS:"
   ]
  },
  {
   "cell_type": "markdown",
   "metadata": {},
   "source": [
    "### Whole brain - MD"
   ]
  },
  {
   "cell_type": "code",
   "execution_count": 31,
   "metadata": {},
   "outputs": [],
   "source": [
    "map_type='MD'\n",
    "region='whole_brain'"
   ]
  },
  {
   "cell_type": "code",
   "execution_count": 162,
   "metadata": {},
   "outputs": [
    {
     "name": "stdout",
     "output_type": "stream",
     "text": [
      "Running randomise for sub-groups analysis:\n",
      "--- Subgroups in 3_Day | MD | whole_brain ---\n",
      "\n"
     ]
    }
   ],
   "source": [
    "runRandomiseSubgroups(subgroups_in, map_type, region)"
   ]
  },
  {
   "cell_type": "code",
   "execution_count": 163,
   "metadata": {},
   "outputs": [
    {
     "name": "stdout",
     "output_type": "stream",
     "text": [
      "Testing stats for sub-groups analysis:\n",
      "--- Subgroups in 3_Day | MD | whole_brain ---\n",
      "\n",
      "Goal-directed > Test Habitual \n",
      "\n",
      "Cluster Index\tVoxels\tcorrp1-p-MAX\tcorrp1-p-MAX X (vox)\tcorrp1-p-MAX Y (vox)\tcorrp1-p-MAX Z (vox)\tcorrp1-p-COG X (vox)\tcorrp1-p-COG Y (vox)\tcorrp1-p-COG Z (vox)\tCOPE-MAX\tCOPE-MAX X (vox)\tCOPE-MAX Y (vox)\tCOPE-MAX Z (vox)\tCOPE-MEAN\n",
      "\n",
      "Test Habitual > Goal-Directed \n",
      "\n",
      "Cluster Index\tVoxels\tcorrp1-p-MAX\tcorrp1-p-MAX X (vox)\tcorrp1-p-MAX Y (vox)\tcorrp1-p-MAX Z (vox)\tcorrp1-p-COG X (vox)\tcorrp1-p-COG Y (vox)\tcorrp1-p-COG Z (vox)\tCOPE-MAX\tCOPE-MAX X (vox)\tCOPE-MAX Y (vox)\tCOPE-MAX Z (vox)\tCOPE-MEAN\n",
      "\n"
     ]
    }
   ],
   "source": [
    "# Get cluster info:\n",
    "getClusterInfoSubgroups(subgroups_in, map_type, region, ReversedSigThresh='0.90')"
   ]
  },
  {
   "cell_type": "markdown",
   "metadata": {},
   "source": [
    ">>>>> RESULT:"
   ]
  },
  {
   "cell_type": "markdown",
   "metadata": {},
   "source": [
    "### Putamen - MD"
   ]
  },
  {
   "cell_type": "code",
   "execution_count": 32,
   "metadata": {},
   "outputs": [],
   "source": [
    "region='Putamen'"
   ]
  },
  {
   "cell_type": "code",
   "execution_count": 165,
   "metadata": {},
   "outputs": [
    {
     "name": "stdout",
     "output_type": "stream",
     "text": [
      "Running randomise for sub-groups analysis:\n",
      "--- Subgroups in 3_Day | MD | Putamen ---\n",
      "\n"
     ]
    }
   ],
   "source": [
    "runRandomiseSubgroups(subgroups_in, map_type, region)"
   ]
  },
  {
   "cell_type": "code",
   "execution_count": 35,
   "metadata": {},
   "outputs": [
    {
     "name": "stdout",
     "output_type": "stream",
     "text": [
      "Testing stats for sub-groups analysis:\n",
      "--- Subgroups in 3_Day | MD | Putamen ---\n",
      "\n",
      "Goal-directed > Test Habitual \n",
      "\n",
      "Cluster Index\tVoxels\tcorrp1-p-MAX\tcorrp1-p-MAX X (vox)\tcorrp1-p-MAX Y (vox)\tcorrp1-p-MAX Z (vox)\tcorrp1-p-COG X (vox)\tcorrp1-p-COG Y (vox)\tcorrp1-p-COG Z (vox)\tCOPE-MAX\tCOPE-MAX X (vox)\tCOPE-MAX Y (vox)\tCOPE-MAX Z (vox)\tCOPE-MEAN\n",
      "\n",
      "Test Habitual > Goal-Directed \n",
      "\n",
      "Cluster Index\tVoxels\tcorrp1-p-MAX\tcorrp1-p-MAX X (vox)\tcorrp1-p-MAX Y (vox)\tcorrp1-p-MAX Z (vox)\tcorrp1-p-COG X (vox)\tcorrp1-p-COG Y (vox)\tcorrp1-p-COG Z (vox)\tCOPE-MAX\tCOPE-MAX X (vox)\tCOPE-MAX Y (vox)\tCOPE-MAX Z (vox)\tCOPE-MEAN\n",
      "\n"
     ]
    }
   ],
   "source": [
    "# Get cluster info:\n",
    "getClusterInfoSubgroups(subgroups_in, map_type, region, ReversedSigThresh='0.90')"
   ]
  },
  {
   "cell_type": "markdown",
   "metadata": {},
   "source": [
    ">>>>> RESULT"
   ]
  },
  {
   "cell_type": "markdown",
   "metadata": {},
   "source": [
    "### Caudate - MD"
   ]
  },
  {
   "cell_type": "code",
   "execution_count": 167,
   "metadata": {},
   "outputs": [],
   "source": [
    "region='Caudate'"
   ]
  },
  {
   "cell_type": "code",
   "execution_count": 168,
   "metadata": {},
   "outputs": [
    {
     "name": "stdout",
     "output_type": "stream",
     "text": [
      "Running randomise for sub-groups analysis:\n",
      "--- Subgroups in 3_Day | MD | Caudate ---\n",
      "\n"
     ]
    }
   ],
   "source": [
    "runRandomiseSubgroups(subgroups_in, map_type, region)"
   ]
  },
  {
   "cell_type": "code",
   "execution_count": 169,
   "metadata": {},
   "outputs": [
    {
     "name": "stdout",
     "output_type": "stream",
     "text": [
      "Testing stats for sub-groups analysis:\n",
      "--- Subgroups in 3_Day | MD | Caudate ---\n",
      "\n",
      "Goal-directed > Test Habitual \n",
      "\n",
      "Cluster Index\tVoxels\tcorrp1-p-MAX\tcorrp1-p-MAX X (vox)\tcorrp1-p-MAX Y (vox)\tcorrp1-p-MAX Z (vox)\tcorrp1-p-COG X (vox)\tcorrp1-p-COG Y (vox)\tcorrp1-p-COG Z (vox)\tCOPE-MAX\tCOPE-MAX X (vox)\tCOPE-MAX Y (vox)\tCOPE-MAX Z (vox)\tCOPE-MEAN\n",
      "\n",
      "Test Habitual > Goal-Directed \n",
      "\n",
      "Cluster Index\tVoxels\tcorrp1-p-MAX\tcorrp1-p-MAX X (vox)\tcorrp1-p-MAX Y (vox)\tcorrp1-p-MAX Z (vox)\tcorrp1-p-COG X (vox)\tcorrp1-p-COG Y (vox)\tcorrp1-p-COG Z (vox)\tCOPE-MAX\tCOPE-MAX X (vox)\tCOPE-MAX Y (vox)\tCOPE-MAX Z (vox)\tCOPE-MEAN\n",
      "\n"
     ]
    }
   ],
   "source": [
    "# Get cluster info:\n",
    "getClusterInfoSubgroups(subgroups_in, map_type, region, ReversedSigThresh='0.90')"
   ]
  },
  {
   "cell_type": "markdown",
   "metadata": {},
   "source": [
    ">>>>> RESULTS:"
   ]
  },
  {
   "cell_type": "markdown",
   "metadata": {},
   "source": [
    "### vmPFC - MD"
   ]
  },
  {
   "cell_type": "code",
   "execution_count": 170,
   "metadata": {},
   "outputs": [],
   "source": [
    "region='vmPFC'"
   ]
  },
  {
   "cell_type": "code",
   "execution_count": 171,
   "metadata": {},
   "outputs": [
    {
     "name": "stdout",
     "output_type": "stream",
     "text": [
      "Running randomise for sub-groups analysis:\n",
      "--- Subgroups in 3_Day | MD | vmPFC ---\n",
      "\n"
     ]
    }
   ],
   "source": [
    "runRandomiseSubgroups(subgroups_in, map_type, region)"
   ]
  },
  {
   "cell_type": "code",
   "execution_count": 172,
   "metadata": {},
   "outputs": [
    {
     "name": "stdout",
     "output_type": "stream",
     "text": [
      "Testing stats for sub-groups analysis:\n",
      "--- Subgroups in 3_Day | MD | vmPFC ---\n",
      "\n",
      "Goal-directed > Test Habitual \n",
      "\n",
      "Cluster Index\tVoxels\tcorrp1-p-MAX\tcorrp1-p-MAX X (vox)\tcorrp1-p-MAX Y (vox)\tcorrp1-p-MAX Z (vox)\tcorrp1-p-COG X (vox)\tcorrp1-p-COG Y (vox)\tcorrp1-p-COG Z (vox)\tCOPE-MAX\tCOPE-MAX X (vox)\tCOPE-MAX Y (vox)\tCOPE-MAX Z (vox)\tCOPE-MEAN\n",
      "\n",
      "Test Habitual > Goal-Directed \n",
      "\n",
      "Cluster Index\tVoxels\tcorrp1-p-MAX\tcorrp1-p-MAX X (vox)\tcorrp1-p-MAX Y (vox)\tcorrp1-p-MAX Z (vox)\tcorrp1-p-COG X (vox)\tcorrp1-p-COG Y (vox)\tcorrp1-p-COG Z (vox)\tCOPE-MAX\tCOPE-MAX X (vox)\tCOPE-MAX Y (vox)\tCOPE-MAX Z (vox)\tCOPE-MEAN\n",
      "\n"
     ]
    }
   ],
   "source": [
    "# Get cluster info:\n",
    "getClusterInfoSubgroups(subgroups_in, map_type, region, ReversedSigThresh='0.90')"
   ]
  },
  {
   "cell_type": "markdown",
   "metadata": {},
   "source": [
    ">>>>> RESULTS:"
   ]
  },
  {
   "cell_type": "markdown",
   "metadata": {},
   "source": [
    "## IN HABITUAL"
   ]
  },
  {
   "cell_type": "code",
   "execution_count": 173,
   "metadata": {},
   "outputs": [],
   "source": [
    "subgroups_in = 'Habitual'"
   ]
  },
  {
   "cell_type": "markdown",
   "metadata": {},
   "source": [
    "### Whole brain - FA"
   ]
  },
  {
   "cell_type": "code",
   "execution_count": 174,
   "metadata": {},
   "outputs": [],
   "source": [
    "map_type='FA'\n",
    "region='whole_brain'"
   ]
  },
  {
   "cell_type": "code",
   "execution_count": 175,
   "metadata": {},
   "outputs": [
    {
     "name": "stdout",
     "output_type": "stream",
     "text": [
      "Running randomise for sub-groups analysis:\n",
      "--- Subgroups in Habitual | FA | whole_brain ---\n",
      "\n"
     ]
    }
   ],
   "source": [
    "runRandomiseSubgroups(subgroups_in, map_type, region)"
   ]
  },
  {
   "cell_type": "code",
   "execution_count": 176,
   "metadata": {},
   "outputs": [
    {
     "name": "stdout",
     "output_type": "stream",
     "text": [
      "Testing stats for sub-groups analysis:\n",
      "--- Subgroups in Habitual | FA | whole_brain ---\n",
      "\n",
      "1-Day > 3-Day\n",
      "\n",
      "Cluster Index\tVoxels\tcorrp1-p-MAX\tcorrp1-p-MAX X (vox)\tcorrp1-p-MAX Y (vox)\tcorrp1-p-MAX Z (vox)\tcorrp1-p-COG X (vox)\tcorrp1-p-COG Y (vox)\tcorrp1-p-COG Z (vox)\tCOPE-MAX\tCOPE-MAX X (vox)\tCOPE-MAX Y (vox)\tCOPE-MAX Z (vox)\tCOPE-MEAN\n",
      "\n",
      "3-Day > 1-Day\n",
      "\n",
      "Cluster Index\tVoxels\tcorrp1-p-MAX\tcorrp1-p-MAX X (vox)\tcorrp1-p-MAX Y (vox)\tcorrp1-p-MAX Z (vox)\tcorrp1-p-COG X (vox)\tcorrp1-p-COG Y (vox)\tcorrp1-p-COG Z (vox)\tCOPE-MAX\tCOPE-MAX X (vox)\tCOPE-MAX Y (vox)\tCOPE-MAX Z (vox)\tCOPE-MEAN\n",
      "\n"
     ]
    }
   ],
   "source": [
    "# Get cluster info:\n",
    "getClusterInfoSubgroups(subgroups_in, map_type, region, ReversedSigThresh='0.90')"
   ]
  },
  {
   "cell_type": "markdown",
   "metadata": {},
   "source": [
    ">>>>> RESULT:"
   ]
  },
  {
   "cell_type": "markdown",
   "metadata": {},
   "source": [
    "### Putamen - FA"
   ]
  },
  {
   "cell_type": "code",
   "execution_count": 177,
   "metadata": {},
   "outputs": [],
   "source": [
    "region='Putamen'"
   ]
  },
  {
   "cell_type": "code",
   "execution_count": 178,
   "metadata": {},
   "outputs": [
    {
     "name": "stdout",
     "output_type": "stream",
     "text": [
      "Running randomise for sub-groups analysis:\n",
      "--- Subgroups in Habitual | FA | Putamen ---\n",
      "\n"
     ]
    }
   ],
   "source": [
    "runRandomiseSubgroups(subgroups_in, map_type, region)"
   ]
  },
  {
   "cell_type": "code",
   "execution_count": 179,
   "metadata": {},
   "outputs": [
    {
     "name": "stdout",
     "output_type": "stream",
     "text": [
      "Testing stats for sub-groups analysis:\n",
      "--- Subgroups in Habitual | FA | Putamen ---\n",
      "\n",
      "1-Day > 3-Day\n",
      "\n",
      "Cluster Index\tVoxels\tcorrp1-p-MAX\tcorrp1-p-MAX X (vox)\tcorrp1-p-MAX Y (vox)\tcorrp1-p-MAX Z (vox)\tcorrp1-p-COG X (vox)\tcorrp1-p-COG Y (vox)\tcorrp1-p-COG Z (vox)\tCOPE-MAX\tCOPE-MAX X (vox)\tCOPE-MAX Y (vox)\tCOPE-MAX Z (vox)\tCOPE-MEAN\n",
      "\n",
      "3-Day > 1-Day\n",
      "\n",
      "Cluster Index\tVoxels\tcorrp1-p-MAX\tcorrp1-p-MAX X (vox)\tcorrp1-p-MAX Y (vox)\tcorrp1-p-MAX Z (vox)\tcorrp1-p-COG X (vox)\tcorrp1-p-COG Y (vox)\tcorrp1-p-COG Z (vox)\tCOPE-MAX\tCOPE-MAX X (vox)\tCOPE-MAX Y (vox)\tCOPE-MAX Z (vox)\tCOPE-MEAN\n",
      "\n"
     ]
    }
   ],
   "source": [
    "# Get cluster info:\n",
    "getClusterInfoSubgroups(subgroups_in, map_type, region, ReversedSigThresh='0.90')"
   ]
  },
  {
   "cell_type": "markdown",
   "metadata": {},
   "source": [
    ">>>>> RESULT"
   ]
  },
  {
   "cell_type": "markdown",
   "metadata": {},
   "source": [
    "### Caudate - FA"
   ]
  },
  {
   "cell_type": "code",
   "execution_count": 180,
   "metadata": {},
   "outputs": [],
   "source": [
    "region='Caudate'"
   ]
  },
  {
   "cell_type": "code",
   "execution_count": 181,
   "metadata": {},
   "outputs": [
    {
     "name": "stdout",
     "output_type": "stream",
     "text": [
      "Running randomise for sub-groups analysis:\n",
      "--- Subgroups in Habitual | FA | Caudate ---\n",
      "\n"
     ]
    }
   ],
   "source": [
    "runRandomiseSubgroups(subgroups_in, map_type, region)"
   ]
  },
  {
   "cell_type": "code",
   "execution_count": 182,
   "metadata": {},
   "outputs": [
    {
     "name": "stdout",
     "output_type": "stream",
     "text": [
      "Testing stats for sub-groups analysis:\n",
      "--- Subgroups in Habitual | FA | Caudate ---\n",
      "\n",
      "1-Day > 3-Day\n",
      "\n",
      "Cluster Index\tVoxels\tcorrp1-p-MAX\tcorrp1-p-MAX X (vox)\tcorrp1-p-MAX Y (vox)\tcorrp1-p-MAX Z (vox)\tcorrp1-p-COG X (vox)\tcorrp1-p-COG Y (vox)\tcorrp1-p-COG Z (vox)\tCOPE-MAX\tCOPE-MAX X (vox)\tCOPE-MAX Y (vox)\tCOPE-MAX Z (vox)\tCOPE-MEAN\n",
      "\n",
      "3-Day > 1-Day\n",
      "\n",
      "Cluster Index\tVoxels\tcorrp1-p-MAX\tcorrp1-p-MAX X (vox)\tcorrp1-p-MAX Y (vox)\tcorrp1-p-MAX Z (vox)\tcorrp1-p-COG X (vox)\tcorrp1-p-COG Y (vox)\tcorrp1-p-COG Z (vox)\tCOPE-MAX\tCOPE-MAX X (vox)\tCOPE-MAX Y (vox)\tCOPE-MAX Z (vox)\tCOPE-MEAN\n",
      "\n"
     ]
    }
   ],
   "source": [
    "# Get cluster info:\n",
    "getClusterInfoSubgroups(subgroups_in, map_type, region, ReversedSigThresh='0.90')"
   ]
  },
  {
   "cell_type": "markdown",
   "metadata": {},
   "source": [
    ">>>>> RESULTS:"
   ]
  },
  {
   "cell_type": "markdown",
   "metadata": {},
   "source": [
    "### vmPFC - FA"
   ]
  },
  {
   "cell_type": "code",
   "execution_count": 183,
   "metadata": {},
   "outputs": [],
   "source": [
    "region='vmPFC'"
   ]
  },
  {
   "cell_type": "code",
   "execution_count": 184,
   "metadata": {},
   "outputs": [
    {
     "name": "stdout",
     "output_type": "stream",
     "text": [
      "Running randomise for sub-groups analysis:\n",
      "--- Subgroups in Habitual | FA | vmPFC ---\n",
      "\n"
     ]
    }
   ],
   "source": [
    "runRandomiseSubgroups(subgroups_in, map_type, region)"
   ]
  },
  {
   "cell_type": "code",
   "execution_count": 185,
   "metadata": {},
   "outputs": [
    {
     "name": "stdout",
     "output_type": "stream",
     "text": [
      "Testing stats for sub-groups analysis:\n",
      "--- Subgroups in Habitual | FA | vmPFC ---\n",
      "\n",
      "1-Day > 3-Day\n",
      "\n",
      "Cluster Index\tVoxels\tcorrp1-p-MAX\tcorrp1-p-MAX X (vox)\tcorrp1-p-MAX Y (vox)\tcorrp1-p-MAX Z (vox)\tcorrp1-p-COG X (vox)\tcorrp1-p-COG Y (vox)\tcorrp1-p-COG Z (vox)\tCOPE-MAX\tCOPE-MAX X (vox)\tCOPE-MAX Y (vox)\tCOPE-MAX Z (vox)\tCOPE-MEAN\n",
      "2\t3\t0.919\t41\t81\t27\t41\t82\t27\t3.42\t41\t81\t27\t3.37\n",
      "1\t3\t0.919\t49\t99\t31\t50\t99\t31\t3.5\t51\t99\t31\t3.36\n",
      "\n",
      "3-Day > 1-Day\n",
      "\n",
      "Cluster Index\tVoxels\tcorrp1-p-MAX\tcorrp1-p-MAX X (vox)\tcorrp1-p-MAX Y (vox)\tcorrp1-p-MAX Z (vox)\tcorrp1-p-COG X (vox)\tcorrp1-p-COG Y (vox)\tcorrp1-p-COG Z (vox)\tCOPE-MAX\tCOPE-MAX X (vox)\tCOPE-MAX Y (vox)\tCOPE-MAX Z (vox)\tCOPE-MEAN\n",
      "\n"
     ]
    }
   ],
   "source": [
    "# Get cluster info:\n",
    "getClusterInfoSubgroups(subgroups_in, map_type, region, ReversedSigThresh='0.90')"
   ]
  },
  {
   "cell_type": "markdown",
   "metadata": {},
   "source": [
    ">>>>> RESULTS:"
   ]
  },
  {
   "cell_type": "markdown",
   "metadata": {},
   "source": [
    "### Whole brain - MD"
   ]
  },
  {
   "cell_type": "code",
   "execution_count": 186,
   "metadata": {},
   "outputs": [],
   "source": [
    "map_type='MD'\n",
    "region='whole_brain'"
   ]
  },
  {
   "cell_type": "code",
   "execution_count": 187,
   "metadata": {},
   "outputs": [
    {
     "name": "stdout",
     "output_type": "stream",
     "text": [
      "Running randomise for sub-groups analysis:\n",
      "--- Subgroups in Habitual | MD | whole_brain ---\n",
      "\n"
     ]
    }
   ],
   "source": [
    "runRandomiseSubgroups(subgroups_in, map_type, region)"
   ]
  },
  {
   "cell_type": "code",
   "execution_count": 188,
   "metadata": {},
   "outputs": [
    {
     "name": "stdout",
     "output_type": "stream",
     "text": [
      "Testing stats for sub-groups analysis:\n",
      "--- Subgroups in Habitual | MD | whole_brain ---\n",
      "\n",
      "1-Day > 3-Day\n",
      "\n",
      "Cluster Index\tVoxels\tcorrp1-p-MAX\tcorrp1-p-MAX X (vox)\tcorrp1-p-MAX Y (vox)\tcorrp1-p-MAX Z (vox)\tcorrp1-p-COG X (vox)\tcorrp1-p-COG Y (vox)\tcorrp1-p-COG Z (vox)\tCOPE-MAX\tCOPE-MAX X (vox)\tCOPE-MAX Y (vox)\tCOPE-MAX Z (vox)\tCOPE-MEAN\n",
      "\n",
      "3-Day > 1-Day\n",
      "\n",
      "Cluster Index\tVoxels\tcorrp1-p-MAX\tcorrp1-p-MAX X (vox)\tcorrp1-p-MAX Y (vox)\tcorrp1-p-MAX Z (vox)\tcorrp1-p-COG X (vox)\tcorrp1-p-COG Y (vox)\tcorrp1-p-COG Z (vox)\tCOPE-MAX\tCOPE-MAX X (vox)\tCOPE-MAX Y (vox)\tCOPE-MAX Z (vox)\tCOPE-MEAN\n",
      "\n"
     ]
    }
   ],
   "source": [
    "# Get cluster info:\n",
    "getClusterInfoSubgroups(subgroups_in, map_type, region, ReversedSigThresh='0.90')"
   ]
  },
  {
   "cell_type": "markdown",
   "metadata": {},
   "source": [
    ">>>>> RESULT:"
   ]
  },
  {
   "cell_type": "markdown",
   "metadata": {},
   "source": [
    "### Putamen - MD"
   ]
  },
  {
   "cell_type": "code",
   "execution_count": 189,
   "metadata": {},
   "outputs": [],
   "source": [
    "region='Putamen'"
   ]
  },
  {
   "cell_type": "code",
   "execution_count": 190,
   "metadata": {},
   "outputs": [
    {
     "name": "stdout",
     "output_type": "stream",
     "text": [
      "Running randomise for sub-groups analysis:\n",
      "--- Subgroups in Habitual | MD | Putamen ---\n",
      "\n"
     ]
    }
   ],
   "source": [
    "runRandomiseSubgroups(subgroups_in, map_type, region)"
   ]
  },
  {
   "cell_type": "code",
   "execution_count": 191,
   "metadata": {},
   "outputs": [
    {
     "name": "stdout",
     "output_type": "stream",
     "text": [
      "Testing stats for sub-groups analysis:\n",
      "--- Subgroups in Habitual | MD | Putamen ---\n",
      "\n",
      "1-Day > 3-Day\n",
      "\n",
      "Cluster Index\tVoxels\tcorrp1-p-MAX\tcorrp1-p-MAX X (vox)\tcorrp1-p-MAX Y (vox)\tcorrp1-p-MAX Z (vox)\tcorrp1-p-COG X (vox)\tcorrp1-p-COG Y (vox)\tcorrp1-p-COG Z (vox)\tCOPE-MAX\tCOPE-MAX X (vox)\tCOPE-MAX Y (vox)\tCOPE-MAX Z (vox)\tCOPE-MEAN\n",
      "\n",
      "3-Day > 1-Day\n",
      "\n",
      "Cluster Index\tVoxels\tcorrp1-p-MAX\tcorrp1-p-MAX X (vox)\tcorrp1-p-MAX Y (vox)\tcorrp1-p-MAX Z (vox)\tcorrp1-p-COG X (vox)\tcorrp1-p-COG Y (vox)\tcorrp1-p-COG Z (vox)\tCOPE-MAX\tCOPE-MAX X (vox)\tCOPE-MAX Y (vox)\tCOPE-MAX Z (vox)\tCOPE-MEAN\n",
      "\n"
     ]
    }
   ],
   "source": [
    "# Get cluster info:\n",
    "getClusterInfoSubgroups(subgroups_in, map_type, region, ReversedSigThresh='0.90')"
   ]
  },
  {
   "cell_type": "markdown",
   "metadata": {},
   "source": [
    ">>>>> RESULT"
   ]
  },
  {
   "cell_type": "markdown",
   "metadata": {},
   "source": [
    "### Caudate - MD"
   ]
  },
  {
   "cell_type": "code",
   "execution_count": 192,
   "metadata": {},
   "outputs": [],
   "source": [
    "region='Caudate'"
   ]
  },
  {
   "cell_type": "code",
   "execution_count": 193,
   "metadata": {},
   "outputs": [
    {
     "name": "stdout",
     "output_type": "stream",
     "text": [
      "Running randomise for sub-groups analysis:\n",
      "--- Subgroups in Habitual | MD | Caudate ---\n",
      "\n"
     ]
    }
   ],
   "source": [
    "runRandomiseSubgroups(subgroups_in, map_type, region)"
   ]
  },
  {
   "cell_type": "code",
   "execution_count": 194,
   "metadata": {},
   "outputs": [
    {
     "name": "stdout",
     "output_type": "stream",
     "text": [
      "Testing stats for sub-groups analysis:\n",
      "--- Subgroups in Habitual | MD | Caudate ---\n",
      "\n",
      "1-Day > 3-Day\n",
      "\n",
      "Cluster Index\tVoxels\tcorrp1-p-MAX\tcorrp1-p-MAX X (vox)\tcorrp1-p-MAX Y (vox)\tcorrp1-p-MAX Z (vox)\tcorrp1-p-COG X (vox)\tcorrp1-p-COG Y (vox)\tcorrp1-p-COG Z (vox)\tCOPE-MAX\tCOPE-MAX X (vox)\tCOPE-MAX Y (vox)\tCOPE-MAX Z (vox)\tCOPE-MEAN\n",
      "\n",
      "3-Day > 1-Day\n",
      "\n",
      "Cluster Index\tVoxels\tcorrp1-p-MAX\tcorrp1-p-MAX X (vox)\tcorrp1-p-MAX Y (vox)\tcorrp1-p-MAX Z (vox)\tcorrp1-p-COG X (vox)\tcorrp1-p-COG Y (vox)\tcorrp1-p-COG Z (vox)\tCOPE-MAX\tCOPE-MAX X (vox)\tCOPE-MAX Y (vox)\tCOPE-MAX Z (vox)\tCOPE-MEAN\n",
      "1\t6\t0.983\t41\t71\t41\t40.2\t70.8\t42\t3.95\t40\t69\t43\t3.5\n",
      "\n"
     ]
    }
   ],
   "source": [
    "# Get cluster info:\n",
    "getClusterInfoSubgroups(subgroups_in, map_type, region, ReversedSigThresh='0.90')"
   ]
  },
  {
   "cell_type": "markdown",
   "metadata": {},
   "source": [
    ">>>>> RESULTS:"
   ]
  },
  {
   "cell_type": "markdown",
   "metadata": {},
   "source": [
    "### vmPFC - MD"
   ]
  },
  {
   "cell_type": "code",
   "execution_count": 195,
   "metadata": {},
   "outputs": [],
   "source": [
    "region='vmPFC'"
   ]
  },
  {
   "cell_type": "code",
   "execution_count": 196,
   "metadata": {},
   "outputs": [
    {
     "name": "stdout",
     "output_type": "stream",
     "text": [
      "Running randomise for sub-groups analysis:\n",
      "--- Subgroups in Habitual | MD | vmPFC ---\n",
      "\n"
     ]
    }
   ],
   "source": [
    "runRandomiseSubgroups(subgroups_in, map_type, region)"
   ]
  },
  {
   "cell_type": "code",
   "execution_count": 197,
   "metadata": {},
   "outputs": [
    {
     "name": "stdout",
     "output_type": "stream",
     "text": [
      "Testing stats for sub-groups analysis:\n",
      "--- Subgroups in Habitual | MD | vmPFC ---\n",
      "\n",
      "1-Day > 3-Day\n",
      "\n",
      "Cluster Index\tVoxels\tcorrp1-p-MAX\tcorrp1-p-MAX X (vox)\tcorrp1-p-MAX Y (vox)\tcorrp1-p-MAX Z (vox)\tcorrp1-p-COG X (vox)\tcorrp1-p-COG Y (vox)\tcorrp1-p-COG Z (vox)\tCOPE-MAX\tCOPE-MAX X (vox)\tCOPE-MAX Y (vox)\tCOPE-MAX Z (vox)\tCOPE-MEAN\n",
      "\n",
      "3-Day > 1-Day\n",
      "\n",
      "Cluster Index\tVoxels\tcorrp1-p-MAX\tcorrp1-p-MAX X (vox)\tcorrp1-p-MAX Y (vox)\tcorrp1-p-MAX Z (vox)\tcorrp1-p-COG X (vox)\tcorrp1-p-COG Y (vox)\tcorrp1-p-COG Z (vox)\tCOPE-MAX\tCOPE-MAX X (vox)\tCOPE-MAX Y (vox)\tCOPE-MAX Z (vox)\tCOPE-MEAN\n",
      "\n"
     ]
    }
   ],
   "source": [
    "# Get cluster info:\n",
    "getClusterInfoSubgroups(subgroups_in, map_type, region, ReversedSigThresh='0.90')"
   ]
  },
  {
   "cell_type": "markdown",
   "metadata": {},
   "source": [
    ">>>>> RESULTS:"
   ]
  },
  {
   "cell_type": "markdown",
   "metadata": {},
   "source": [
    "## IN GOAL-DIRECTED"
   ]
  },
  {
   "cell_type": "code",
   "execution_count": 198,
   "metadata": {},
   "outputs": [],
   "source": [
    "subgroups_in = 'Goal_Directed'"
   ]
  },
  {
   "cell_type": "markdown",
   "metadata": {},
   "source": [
    "### Whole brain - FA"
   ]
  },
  {
   "cell_type": "code",
   "execution_count": 199,
   "metadata": {},
   "outputs": [],
   "source": [
    "map_type='FA'\n",
    "region='whole_brain'"
   ]
  },
  {
   "cell_type": "code",
   "execution_count": 200,
   "metadata": {},
   "outputs": [
    {
     "name": "stdout",
     "output_type": "stream",
     "text": [
      "Running randomise for sub-groups analysis:\n",
      "--- Subgroups in Goal_Directed | FA | whole_brain ---\n",
      "\n"
     ]
    }
   ],
   "source": [
    "runRandomiseSubgroups(subgroups_in, map_type, region)"
   ]
  },
  {
   "cell_type": "code",
   "execution_count": 201,
   "metadata": {},
   "outputs": [
    {
     "name": "stdout",
     "output_type": "stream",
     "text": [
      "Testing stats for sub-groups analysis:\n",
      "--- Subgroups in Goal_Directed | FA | whole_brain ---\n",
      "\n",
      "1-Day > 3-Day\n",
      "\n",
      "Cluster Index\tVoxels\tcorrp1-p-MAX\tcorrp1-p-MAX X (vox)\tcorrp1-p-MAX Y (vox)\tcorrp1-p-MAX Z (vox)\tcorrp1-p-COG X (vox)\tcorrp1-p-COG Y (vox)\tcorrp1-p-COG Z (vox)\tCOPE-MAX\tCOPE-MAX X (vox)\tCOPE-MAX Y (vox)\tCOPE-MAX Z (vox)\tCOPE-MEAN\n",
      "\n",
      "3-Day > 1-Day\n",
      "\n",
      "Cluster Index\tVoxels\tcorrp1-p-MAX\tcorrp1-p-MAX X (vox)\tcorrp1-p-MAX Y (vox)\tcorrp1-p-MAX Z (vox)\tcorrp1-p-COG X (vox)\tcorrp1-p-COG Y (vox)\tcorrp1-p-COG Z (vox)\tCOPE-MAX\tCOPE-MAX X (vox)\tCOPE-MAX Y (vox)\tCOPE-MAX Z (vox)\tCOPE-MEAN\n",
      "\n"
     ]
    }
   ],
   "source": [
    "# Get cluster info:\n",
    "getClusterInfoSubgroups(subgroups_in, map_type, region, ReversedSigThresh='0.90')"
   ]
  },
  {
   "cell_type": "markdown",
   "metadata": {},
   "source": [
    ">>>>> RESULT:"
   ]
  },
  {
   "cell_type": "markdown",
   "metadata": {},
   "source": [
    "### Putamen - FA"
   ]
  },
  {
   "cell_type": "code",
   "execution_count": 202,
   "metadata": {},
   "outputs": [],
   "source": [
    "region='Putamen'"
   ]
  },
  {
   "cell_type": "code",
   "execution_count": 203,
   "metadata": {},
   "outputs": [
    {
     "name": "stdout",
     "output_type": "stream",
     "text": [
      "Running randomise for sub-groups analysis:\n",
      "--- Subgroups in Goal_Directed | FA | Putamen ---\n",
      "\n"
     ]
    }
   ],
   "source": [
    "runRandomiseSubgroups(subgroups_in, map_type, region)"
   ]
  },
  {
   "cell_type": "code",
   "execution_count": 204,
   "metadata": {},
   "outputs": [
    {
     "name": "stdout",
     "output_type": "stream",
     "text": [
      "Testing stats for sub-groups analysis:\n",
      "--- Subgroups in Goal_Directed | FA | Putamen ---\n",
      "\n",
      "1-Day > 3-Day\n",
      "\n",
      "Cluster Index\tVoxels\tcorrp1-p-MAX\tcorrp1-p-MAX X (vox)\tcorrp1-p-MAX Y (vox)\tcorrp1-p-MAX Z (vox)\tcorrp1-p-COG X (vox)\tcorrp1-p-COG Y (vox)\tcorrp1-p-COG Z (vox)\tCOPE-MAX\tCOPE-MAX X (vox)\tCOPE-MAX Y (vox)\tCOPE-MAX Z (vox)\tCOPE-MEAN\n",
      "\n",
      "3-Day > 1-Day\n",
      "\n",
      "Cluster Index\tVoxels\tcorrp1-p-MAX\tcorrp1-p-MAX X (vox)\tcorrp1-p-MAX Y (vox)\tcorrp1-p-MAX Z (vox)\tcorrp1-p-COG X (vox)\tcorrp1-p-COG Y (vox)\tcorrp1-p-COG Z (vox)\tCOPE-MAX\tCOPE-MAX X (vox)\tCOPE-MAX Y (vox)\tCOPE-MAX Z (vox)\tCOPE-MEAN\n",
      "\n"
     ]
    }
   ],
   "source": [
    "# Get cluster info:\n",
    "getClusterInfoSubgroups(subgroups_in, map_type, region, ReversedSigThresh='0.90')"
   ]
  },
  {
   "cell_type": "markdown",
   "metadata": {},
   "source": [
    ">>>>> RESULT"
   ]
  },
  {
   "cell_type": "markdown",
   "metadata": {},
   "source": [
    "### Caudate - FA"
   ]
  },
  {
   "cell_type": "code",
   "execution_count": 205,
   "metadata": {},
   "outputs": [],
   "source": [
    "region='Caudate'"
   ]
  },
  {
   "cell_type": "code",
   "execution_count": 206,
   "metadata": {},
   "outputs": [
    {
     "name": "stdout",
     "output_type": "stream",
     "text": [
      "Running randomise for sub-groups analysis:\n",
      "--- Subgroups in Goal_Directed | FA | Caudate ---\n",
      "\n"
     ]
    }
   ],
   "source": [
    "runRandomiseSubgroups(subgroups_in, map_type, region)"
   ]
  },
  {
   "cell_type": "code",
   "execution_count": 207,
   "metadata": {},
   "outputs": [
    {
     "name": "stdout",
     "output_type": "stream",
     "text": [
      "Testing stats for sub-groups analysis:\n",
      "--- Subgroups in Goal_Directed | FA | Caudate ---\n",
      "\n",
      "1-Day > 3-Day\n",
      "\n",
      "Cluster Index\tVoxels\tcorrp1-p-MAX\tcorrp1-p-MAX X (vox)\tcorrp1-p-MAX Y (vox)\tcorrp1-p-MAX Z (vox)\tcorrp1-p-COG X (vox)\tcorrp1-p-COG Y (vox)\tcorrp1-p-COG Z (vox)\tCOPE-MAX\tCOPE-MAX X (vox)\tCOPE-MAX Y (vox)\tCOPE-MAX Z (vox)\tCOPE-MEAN\n",
      "\n",
      "3-Day > 1-Day\n",
      "\n",
      "Cluster Index\tVoxels\tcorrp1-p-MAX\tcorrp1-p-MAX X (vox)\tcorrp1-p-MAX Y (vox)\tcorrp1-p-MAX Z (vox)\tcorrp1-p-COG X (vox)\tcorrp1-p-COG Y (vox)\tcorrp1-p-COG Z (vox)\tCOPE-MAX\tCOPE-MAX X (vox)\tCOPE-MAX Y (vox)\tCOPE-MAX Z (vox)\tCOPE-MEAN\n",
      "\n"
     ]
    }
   ],
   "source": [
    "# Get cluster info:\n",
    "getClusterInfoSubgroups(subgroups_in, map_type, region, ReversedSigThresh='0.90')"
   ]
  },
  {
   "cell_type": "markdown",
   "metadata": {},
   "source": [
    ">>>>> RESULTS:"
   ]
  },
  {
   "cell_type": "markdown",
   "metadata": {},
   "source": [
    "### vmPFC - FA"
   ]
  },
  {
   "cell_type": "code",
   "execution_count": 208,
   "metadata": {},
   "outputs": [],
   "source": [
    "region='vmPFC'"
   ]
  },
  {
   "cell_type": "code",
   "execution_count": 209,
   "metadata": {},
   "outputs": [
    {
     "name": "stdout",
     "output_type": "stream",
     "text": [
      "Running randomise for sub-groups analysis:\n",
      "--- Subgroups in Goal_Directed | FA | vmPFC ---\n",
      "\n"
     ]
    }
   ],
   "source": [
    "runRandomiseSubgroups(subgroups_in, map_type, region)"
   ]
  },
  {
   "cell_type": "code",
   "execution_count": 210,
   "metadata": {},
   "outputs": [
    {
     "name": "stdout",
     "output_type": "stream",
     "text": [
      "Testing stats for sub-groups analysis:\n",
      "--- Subgroups in Goal_Directed | FA | vmPFC ---\n",
      "\n",
      "1-Day > 3-Day\n",
      "\n",
      "Cluster Index\tVoxels\tcorrp1-p-MAX\tcorrp1-p-MAX X (vox)\tcorrp1-p-MAX Y (vox)\tcorrp1-p-MAX Z (vox)\tcorrp1-p-COG X (vox)\tcorrp1-p-COG Y (vox)\tcorrp1-p-COG Z (vox)\tCOPE-MAX\tCOPE-MAX X (vox)\tCOPE-MAX Y (vox)\tCOPE-MAX Z (vox)\tCOPE-MEAN\n",
      "\n",
      "3-Day > 1-Day\n",
      "\n",
      "Cluster Index\tVoxels\tcorrp1-p-MAX\tcorrp1-p-MAX X (vox)\tcorrp1-p-MAX Y (vox)\tcorrp1-p-MAX Z (vox)\tcorrp1-p-COG X (vox)\tcorrp1-p-COG Y (vox)\tcorrp1-p-COG Z (vox)\tCOPE-MAX\tCOPE-MAX X (vox)\tCOPE-MAX Y (vox)\tCOPE-MAX Z (vox)\tCOPE-MEAN\n",
      "\n"
     ]
    }
   ],
   "source": [
    "# Get cluster info:\n",
    "getClusterInfoSubgroups(subgroups_in, map_type, region, ReversedSigThresh='0.90')"
   ]
  },
  {
   "cell_type": "markdown",
   "metadata": {},
   "source": [
    ">>>>> RESULTS:"
   ]
  },
  {
   "cell_type": "markdown",
   "metadata": {},
   "source": [
    "### Whole brain - MD"
   ]
  },
  {
   "cell_type": "code",
   "execution_count": 211,
   "metadata": {},
   "outputs": [],
   "source": [
    "map_type='MD'\n",
    "region='whole_brain'"
   ]
  },
  {
   "cell_type": "code",
   "execution_count": 212,
   "metadata": {},
   "outputs": [
    {
     "name": "stdout",
     "output_type": "stream",
     "text": [
      "Running randomise for sub-groups analysis:\n",
      "--- Subgroups in Goal_Directed | MD | whole_brain ---\n",
      "\n"
     ]
    }
   ],
   "source": [
    "runRandomiseSubgroups(subgroups_in, map_type, region)"
   ]
  },
  {
   "cell_type": "code",
   "execution_count": 213,
   "metadata": {},
   "outputs": [
    {
     "name": "stdout",
     "output_type": "stream",
     "text": [
      "Testing stats for sub-groups analysis:\n",
      "--- Subgroups in Goal_Directed | MD | whole_brain ---\n",
      "\n",
      "1-Day > 3-Day\n",
      "\n",
      "Cluster Index\tVoxels\tcorrp1-p-MAX\tcorrp1-p-MAX X (vox)\tcorrp1-p-MAX Y (vox)\tcorrp1-p-MAX Z (vox)\tcorrp1-p-COG X (vox)\tcorrp1-p-COG Y (vox)\tcorrp1-p-COG Z (vox)\tCOPE-MAX\tCOPE-MAX X (vox)\tCOPE-MAX Y (vox)\tCOPE-MAX Z (vox)\tCOPE-MEAN\n",
      "\n",
      "3-Day > 1-Day\n",
      "\n",
      "Cluster Index\tVoxels\tcorrp1-p-MAX\tcorrp1-p-MAX X (vox)\tcorrp1-p-MAX Y (vox)\tcorrp1-p-MAX Z (vox)\tcorrp1-p-COG X (vox)\tcorrp1-p-COG Y (vox)\tcorrp1-p-COG Z (vox)\tCOPE-MAX\tCOPE-MAX X (vox)\tCOPE-MAX Y (vox)\tCOPE-MAX Z (vox)\tCOPE-MEAN\n",
      "\n"
     ]
    }
   ],
   "source": [
    "# Get cluster info:\n",
    "getClusterInfoSubgroups(subgroups_in, map_type, region, ReversedSigThresh='0.90')"
   ]
  },
  {
   "cell_type": "markdown",
   "metadata": {},
   "source": [
    ">>>>> RESULT:"
   ]
  },
  {
   "cell_type": "markdown",
   "metadata": {},
   "source": [
    "### Putamen - MD"
   ]
  },
  {
   "cell_type": "code",
   "execution_count": 214,
   "metadata": {},
   "outputs": [],
   "source": [
    "region='Putamen'"
   ]
  },
  {
   "cell_type": "code",
   "execution_count": 215,
   "metadata": {},
   "outputs": [
    {
     "name": "stdout",
     "output_type": "stream",
     "text": [
      "Running randomise for sub-groups analysis:\n",
      "--- Subgroups in Goal_Directed | MD | Putamen ---\n",
      "\n"
     ]
    }
   ],
   "source": [
    "runRandomiseSubgroups(subgroups_in, map_type, region)"
   ]
  },
  {
   "cell_type": "code",
   "execution_count": 216,
   "metadata": {},
   "outputs": [
    {
     "name": "stdout",
     "output_type": "stream",
     "text": [
      "Testing stats for sub-groups analysis:\n",
      "--- Subgroups in Goal_Directed | MD | Putamen ---\n",
      "\n",
      "1-Day > 3-Day\n",
      "\n",
      "Cluster Index\tVoxels\tcorrp1-p-MAX\tcorrp1-p-MAX X (vox)\tcorrp1-p-MAX Y (vox)\tcorrp1-p-MAX Z (vox)\tcorrp1-p-COG X (vox)\tcorrp1-p-COG Y (vox)\tcorrp1-p-COG Z (vox)\tCOPE-MAX\tCOPE-MAX X (vox)\tCOPE-MAX Y (vox)\tCOPE-MAX Z (vox)\tCOPE-MEAN\n",
      "\n",
      "3-Day > 1-Day\n",
      "\n",
      "Cluster Index\tVoxels\tcorrp1-p-MAX\tcorrp1-p-MAX X (vox)\tcorrp1-p-MAX Y (vox)\tcorrp1-p-MAX Z (vox)\tcorrp1-p-COG X (vox)\tcorrp1-p-COG Y (vox)\tcorrp1-p-COG Z (vox)\tCOPE-MAX\tCOPE-MAX X (vox)\tCOPE-MAX Y (vox)\tCOPE-MAX Z (vox)\tCOPE-MEAN\n",
      "1\t5\t0.958\t38\t69\t34\t37.2\t70.8\t34.4\t3.6\t38\t69\t34\t3.31\n",
      "\n"
     ]
    }
   ],
   "source": [
    "# Get cluster info:\n",
    "getClusterInfoSubgroups(subgroups_in, map_type, region, ReversedSigThresh='0.90')"
   ]
  },
  {
   "cell_type": "markdown",
   "metadata": {},
   "source": [
    ">>>>> RESULT"
   ]
  },
  {
   "cell_type": "markdown",
   "metadata": {},
   "source": [
    "### Caudate - MD"
   ]
  },
  {
   "cell_type": "code",
   "execution_count": 217,
   "metadata": {},
   "outputs": [],
   "source": [
    "region='Caudate'"
   ]
  },
  {
   "cell_type": "code",
   "execution_count": 218,
   "metadata": {},
   "outputs": [
    {
     "name": "stdout",
     "output_type": "stream",
     "text": [
      "Running randomise for sub-groups analysis:\n",
      "--- Subgroups in Goal_Directed | MD | Caudate ---\n",
      "\n"
     ]
    }
   ],
   "source": [
    "runRandomiseSubgroups(subgroups_in, map_type, region)"
   ]
  },
  {
   "cell_type": "code",
   "execution_count": 219,
   "metadata": {},
   "outputs": [
    {
     "name": "stdout",
     "output_type": "stream",
     "text": [
      "Testing stats for sub-groups analysis:\n",
      "--- Subgroups in Goal_Directed | MD | Caudate ---\n",
      "\n",
      "1-Day > 3-Day\n",
      "\n",
      "Cluster Index\tVoxels\tcorrp1-p-MAX\tcorrp1-p-MAX X (vox)\tcorrp1-p-MAX Y (vox)\tcorrp1-p-MAX Z (vox)\tcorrp1-p-COG X (vox)\tcorrp1-p-COG Y (vox)\tcorrp1-p-COG Z (vox)\tCOPE-MAX\tCOPE-MAX X (vox)\tCOPE-MAX Y (vox)\tCOPE-MAX Z (vox)\tCOPE-MEAN\n",
      "\n",
      "3-Day > 1-Day\n",
      "\n",
      "Cluster Index\tVoxels\tcorrp1-p-MAX\tcorrp1-p-MAX X (vox)\tcorrp1-p-MAX Y (vox)\tcorrp1-p-MAX Z (vox)\tcorrp1-p-COG X (vox)\tcorrp1-p-COG Y (vox)\tcorrp1-p-COG Z (vox)\tCOPE-MAX\tCOPE-MAX X (vox)\tCOPE-MAX Y (vox)\tCOPE-MAX Z (vox)\tCOPE-MEAN\n",
      "1\t7\t0.982\t38\t69\t34\t37.4\t71.3\t34.4\t3.6\t38\t69\t34\t3.31\n",
      "\n"
     ]
    }
   ],
   "source": [
    "# Get cluster info:\n",
    "getClusterInfoSubgroups(subgroups_in, map_type, region, ReversedSigThresh='0.90')"
   ]
  },
  {
   "cell_type": "markdown",
   "metadata": {},
   "source": [
    ">>>>> RESULTS:"
   ]
  },
  {
   "cell_type": "markdown",
   "metadata": {},
   "source": [
    "### vmPFC - MD"
   ]
  },
  {
   "cell_type": "code",
   "execution_count": 220,
   "metadata": {},
   "outputs": [],
   "source": [
    "region='vmPFC'"
   ]
  },
  {
   "cell_type": "code",
   "execution_count": 221,
   "metadata": {},
   "outputs": [
    {
     "name": "stdout",
     "output_type": "stream",
     "text": [
      "Running randomise for sub-groups analysis:\n",
      "--- Subgroups in Goal_Directed | MD | vmPFC ---\n",
      "\n"
     ]
    }
   ],
   "source": [
    "runRandomiseSubgroups(subgroups_in, map_type, region)"
   ]
  },
  {
   "cell_type": "code",
   "execution_count": 222,
   "metadata": {},
   "outputs": [
    {
     "name": "stdout",
     "output_type": "stream",
     "text": [
      "Testing stats for sub-groups analysis:\n",
      "--- Subgroups in Goal_Directed | MD | vmPFC ---\n",
      "\n",
      "1-Day > 3-Day\n",
      "\n",
      "Cluster Index\tVoxels\tcorrp1-p-MAX\tcorrp1-p-MAX X (vox)\tcorrp1-p-MAX Y (vox)\tcorrp1-p-MAX Z (vox)\tcorrp1-p-COG X (vox)\tcorrp1-p-COG Y (vox)\tcorrp1-p-COG Z (vox)\tCOPE-MAX\tCOPE-MAX X (vox)\tCOPE-MAX Y (vox)\tCOPE-MAX Z (vox)\tCOPE-MEAN\n",
      "\n",
      "3-Day > 1-Day\n",
      "\n",
      "Cluster Index\tVoxels\tcorrp1-p-MAX\tcorrp1-p-MAX X (vox)\tcorrp1-p-MAX Y (vox)\tcorrp1-p-MAX Z (vox)\tcorrp1-p-COG X (vox)\tcorrp1-p-COG Y (vox)\tcorrp1-p-COG Z (vox)\tCOPE-MAX\tCOPE-MAX X (vox)\tCOPE-MAX Y (vox)\tCOPE-MAX Z (vox)\tCOPE-MEAN\n",
      "\n"
     ]
    }
   ],
   "source": [
    "# Get cluster info:\n",
    "getClusterInfoSubgroups(subgroups_in, map_type, region, ReversedSigThresh='0.90')"
   ]
  },
  {
   "cell_type": "markdown",
   "metadata": {},
   "source": [
    ">>>>> RESULTS:"
   ]
  },
  {
   "cell_type": "markdown",
   "metadata": {},
   "source": []
  }
 ],
 "metadata": {
  "interpreter": {
   "hash": "31f2aee4e71d21fbe5cf8b01ff0e069b9275f58929596ceb00d14d90e3e16cd6"
  },
  "kernelspec": {
   "display_name": "Python 3.8.2 64-bit",
   "language": "python",
   "name": "python3"
  },
  "language_info": {
   "codemirror_mode": {
    "name": "ipython",
    "version": 3
   },
   "file_extension": ".py",
   "mimetype": "text/x-python",
   "name": "python",
   "nbconvert_exporter": "python",
   "pygments_lexer": "ipython3",
   "version": "3.6.8"
  },
  "orig_nbformat": 4
 },
 "nbformat": 4,
 "nbformat_minor": 2
}
