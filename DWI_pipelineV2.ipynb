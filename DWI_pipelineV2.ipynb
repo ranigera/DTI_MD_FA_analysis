{
 "cells": [
  {
   "cell_type": "markdown",
   "metadata": {},
   "source": [
    "# Analyze DTI"
   ]
  },
  {
   "cell_type": "markdown",
   "metadata": {},
   "source": [
    "Convert ANTs H5 warp files to fsl format\n",
    "I used the c(3): \n",
    "https://www.jiscmail.ac.uk/cgi-bin/webadmin?A2=fsl;c21935f9.1901\n",
    "\n",
    " /Users/ranigera/Downloads/Convert3DGUI.app/Contents/bin/c3d_affine_tool -ref sub-175_desc-preproc_T1w.nii.gz -src sub-175_first_processed_B0_before.nii.gz sub-175_first_processed_B0_reg_to_native_T1_before.mat -fsl2ras -oitk ANTS_ref_T1.txt\n",
    "\n",
    "\n",
    "antsApplyTransforms -i sub-175_first_processed_B0_before.nii.gz -r ${FSLDIR}/data/standard/MNI152_T1_2mm.nii.gz -o B0_in_mni_fromT1regFINAL.nii.gz -t sub-175_from-T1w_to-MNI152NLin2009cAsym_mode-image_xfm.h5 -t ANTS_ref_T1.txt \n",
    "\n"
   ]
  },
  {
   "cell_type": "code",
   "execution_count": 13,
   "metadata": {},
   "outputs": [],
   "source": [
    "# import packages\n",
    "# -----------------------------------------------------------------------------\n",
    "# import pip\n",
    "# pip.main(['install', 'seaborn']) \n",
    "import pandas as pd\n",
    "import numpy as np\n",
    "#import matplotlib.pyplot as plt\n",
    "#import seaborn as sns\n",
    "import os\n",
    "import glob\n",
    "import subprocess\n",
    "import sys\n",
    "import json\n",
    "import platform\n",
    "import socket"
   ]
  },
  {
   "cell_type": "code",
   "execution_count": 14,
   "metadata": {},
   "outputs": [],
   "source": [
    "# parameters\n",
    "# -----------------------------------------------------------------------------\n",
    "MANUALLY_EXCLUDE_SUBJECTS = []\n",
    "\n",
    "running_on = 'server' if 'Linux' in platform.system() else 'my_mac'\n",
    "\n",
    "if running_on == 'my_mac':\n",
    "    data_path = '/Users/ranigera/Dropbox/DTI_tests'\n",
    "    preproc_path = '/Users/ranigera/Dropbox/DTI_tests/preproc'\n",
    "    dti_path = '/Users/ranigera/Dropbox/DTI_tests/dti'\n",
    "    stats_path = '/Users/ranigera/Dropbox/DTI_tests/stats_alt_reg'\n",
    "    models_path = stats_path + '/models'\n",
    "    launch_files_path = '/Users/ranigera/Dropbox/DTI_analysis/launch_files'\n",
    "else:\n",
    "    data_path = '/export2/DATA/HIS/HIS_server/BIDS'\n",
    "    preproc_path = '/export2/DATA/HIS/HIS_server/analysis/dwi_data/preproc'\n",
    "    dti_path = '/export2/DATA/HIS/HIS_server/analysis/dwi_data/dti'\n",
    "    stats_path = '/export2/DATA/HIS/HIS_server/analysis/dwi_data/stats_alt_reg'\n",
    "    models_path = stats_path + '/models'\n",
    "    launch_files_path = '/export2/DATA/HIS/HIS_server/codes_dwi/launch_files'\n",
    "    behav_data_path = '/export2/DATA/HIS/HIS_server/analysis/behavior_analysis_output/my_databases/txt_data'\n",
    "\n",
    "fmriPrepAnatomyDerivatives_path = data_path + '/derivatives/fmriprep'\n",
    "\n",
    "expectedVolums = {\n",
    "    'AP': 69,\n",
    "    'PA' : 7,\n",
    "    }\n",
    "expectedB0s_indxs = {\n",
    "    'AP_before': [0, 1, 18, 35, 52],\n",
    "    'PA_before': [0, 2, 3, 4, 5, 6],\n",
    "    'AP_after': [0, 1, 18, 35, 52],\n",
    "    'PA_after': [0, 2, 3, 4, 5, 6]\n",
    "    }\n",
    "\n",
    "n_cores_TOPUP = 2\n",
    "\n",
    "# setting EDDY stuff:\n",
    "EDDY_command = 'eddy_openmp' if running_on == 'server' else 'eddy' # for the boost server\n",
    "EDDY_command = 'eddy_cuda10.2' if running_on == 'server' else 'eddy' # for the cheshire server\n",
    "ssh_command_for_cheshire_server = 'ssh shirangera@cheshire.tau.ac.il' if 'boost' in socket.gethostname() else ''\n",
    "\n",
    "n_expected_EDDY_output_files = 13\n",
    "n_cores_EDDY = 4 # relevant only for running using files (currently disabled as I run it on cheshire's GPU)\n",
    "\n",
    "n_expected_DTIFIT_output_files = 10\n",
    "\n",
    "masks_paths = {\n",
    "    'Caudate': '/export2/DATA/HIS/HIS_server/DTI_assitance_files/masks/Harvard-Oxford/CaudateHead_Y-larger-than-1-mask.nii.gz',\n",
    "    'Putamen': '/export2/DATA/HIS/HIS_server/DTI_assitance_files/masks/Harvard-Oxford/Putamen-mask.nii.gz',\n",
    "    'vmPFC':   '/export2/DATA/HIS/HIS_server/DTI_assitance_files/masks/Harvard-Oxford/vmPFC-mask.nii.gz',\n",
    "}"
   ]
  },
  {
   "cell_type": "code",
   "execution_count": 3,
   "metadata": {},
   "outputs": [],
   "source": [
    "# Define functions\n",
    "# -----------------------------------------------------------------------------\n",
    "def createSubjectScansBaseNames(subjFolder, data_path):\n",
    "    sub = int(subjFolder.split(\"-\",1)[1])\n",
    "    group = '1day' if sub < 200 else '3day'\n",
    "    last_sess = group[0]\n",
    "    DWI_path_before = os.path.join(data_path, subjFolder, 'ses-1/dwi/')\n",
    "    DWI_path_after = os.path.join(data_path, subjFolder, f'ses-{last_sess}/dwi/')\n",
    "    scansBaseNames = {\n",
    "        'AP_before': f'{os.path.join(DWI_path_before, \"sub-\" + str(sub) + \"_ses-1_acq-ap_run-01_dwi\")}',\n",
    "        'PA_before' : f'{os.path.join(DWI_path_before, \"sub-\" + str(sub) + \"_ses-1_acq-pa_run-01_dwi\")}',\n",
    "        'AP_after' : f'{os.path.join(DWI_path_after, \"sub-\" + str(sub) + \"_ses-\" + last_sess + \"_acq-ap_run-02_dwi\")}',\n",
    "        'PA_after' : f'{os.path.join(DWI_path_after, \"sub-\" + str(sub) + \"_ses-\" + last_sess + \"_acq-pa_run-02_dwi\")}'\n",
    "        }\n",
    "    return scansBaseNames\n",
    "\n",
    "def get_sub_B0_files(subjFolder, scansBaseNames, B0s_indxs):\n",
    "    sub_B0s_files = []\n",
    "    for scan in scansBaseNames.keys():\n",
    "        for B0ind in B0s_indxs[scan]:\n",
    "            B0_file_name = os.path.join(preproc_path, subjFolder, subjFolder + '_' + scan + \"_b0_volInd-\" + str(B0ind) + \".nii.gz\")\n",
    "            sub_B0s_files.append(B0_file_name)\n",
    "    return sub_B0s_files\n"
   ]
  },
  {
   "cell_type": "code",
   "execution_count": 4,
   "metadata": {},
   "outputs": [
    {
     "name": "stdout",
     "output_type": "stream",
     "text": [
      ">> Get sub folders\n"
     ]
    }
   ],
   "source": [
    "# Get folders and remove excluded subjects\n",
    "# -----------------------------------------------------------------------------\n",
    "print('>> Get sub folders')\n",
    "subjFolders = [el for el in os.listdir(data_path) if 'sub' in el]\n",
    "\n",
    "if running_on == 'my_mac':\n",
    "    print('>> Get exclusion list')\n",
    "    with open('/Users/ranigera/Google_Drive_TAU/Experiments/HIS_STUDY/Analysis/codes/paths_and_vars.py') as txtFile:\n",
    "        txt = txtFile.read()\n",
    "    participantsToExclude = [int(el) for el in txt.split('participantsToExclude = [')[1].split(']')[0].replace('\\n','').replace('\\n','').replace(\"'\",\"\").split(',')]\n",
    "\n",
    "    print('>> Remove sub folders of excluded participants in case they are there')\n",
    "    subjFolders = [el for el in subjFolders if int(el.split('-')[1]) not in participantsToExclude]\n",
    "\n",
    "if MANUALLY_EXCLUDE_SUBJECTS:\n",
    "    subjFolders = [el for el in subjFolders if int(el.split('-')[1]) not in MANUALLY_EXCLUDE_SUBJECTS]\n",
    "    \n",
    "subjFolders.sort()"
   ]
  },
  {
   "cell_type": "markdown",
   "metadata": {},
   "source": [
    "## Check for missing scans or wrong phase encoding directions for ALL SUBJECTS "
   ]
  },
  {
   "cell_type": "code",
   "execution_count": 5,
   "metadata": {},
   "outputs": [
    {
     "name": "stdout",
     "output_type": "stream",
     "text": [
      ">> Verify that all the scans exist and that the phase encoding directions are as they should.\n",
      " *** There is a problem with the scanning directions: /export2/DATA/HIS/HIS_server/BIDS/sub-204/ses-3/dwi/sub-204_ses-3_acq-pa_run-02_dwi.json is defined as j-.\n",
      " *** There is a problem with the scanning directions: /export2/DATA/HIS/HIS_server/BIDS/sub-207/ses-1/dwi/sub-207_ses-1_acq-pa_run-01_dwi.json is defined as j-.\n",
      " *** There is a problem with the scanning directions: /export2/DATA/HIS/HIS_server/BIDS/sub-209/ses-1/dwi/sub-209_ses-1_acq-pa_run-01_dwi.json is defined as j-.\n",
      " *** Scan not found: /export2/DATA/HIS/HIS_server/BIDS/sub-255/ses-1/dwi/sub-255_ses-1_acq-pa_run-01_dwi.json\n",
      " *** Scan not found: /export2/DATA/HIS/HIS_server/BIDS/sub-259/ses-3/dwi/sub-259_ses-3_acq-ap_run-02_dwi.json\n",
      " *** Scan not found: /export2/DATA/HIS/HIS_server/BIDS/sub-259/ses-3/dwi/sub-259_ses-3_acq-pa_run-02_dwi.json\n"
     ]
    }
   ],
   "source": [
    "print ('>> Verify that all the scans exist and that the phase encoding directions are as they should.')\n",
    "subjectsWithAProblem = []\n",
    "for subjFolder in subjFolders:\n",
    "    sub = int(subjFolder.split(\"-\",1)[1])\n",
    "    scansBaseNames = createSubjectScansBaseNames(subjFolder, data_path)\n",
    "    for scan in scansBaseNames.keys():\n",
    "        # print(scansBaseNames[scan] + '.json')\n",
    "        # print(scanData['PhaseEncodingDirection'])\n",
    "        if not os.path.exists(scansBaseNames[scan] + '.json'):\n",
    "            subjectsWithAProblem.append(sub)\n",
    "            print(' *** Scan not found: ' + scansBaseNames[scan] + '.json')\n",
    "            continue\n",
    "        with open(scansBaseNames[scan] + '.json') as json_file:        \n",
    "            scanData = json.load(json_file)\n",
    "            if ('acq-ap_' in scansBaseNames[scan] and scanData['PhaseEncodingDirection'] != 'j-') or \\\n",
    "                ('acq-pa_' in scansBaseNames[scan] and scanData['PhaseEncodingDirection'] != 'j'):\n",
    "                subjectsWithAProblem.append(sub)\n",
    "                print(' *** There is a problem with the scanning directions: ' + scansBaseNames[scan] + '.json is defined as ' + scanData['PhaseEncodingDirection'] + '.')\n",
    "                continue\n",
    "\n",
    "subjectsWithAProblem = list(set(subjectsWithAProblem))\n",
    "subjectsWithAProblem.sort()"
   ]
  },
  {
   "cell_type": "code",
   "execution_count": 6,
   "metadata": {},
   "outputs": [
    {
     "name": "stdout",
     "output_type": "stream",
     "text": [
      ">> Remove subjects with a problem and sort the list\n"
     ]
    }
   ],
   "source": [
    "# Remove subjects with a problem\n",
    "# -----------------------------------------------------------------------------\n",
    "print('>> Remove subjects with a problem and sort the list')\n",
    "subjFolders =[el for el in subjFolders if int(el.split('-')[1]) not in subjectsWithAProblem]\n",
    "subjFolders.sort()"
   ]
  },
  {
   "cell_type": "markdown",
   "metadata": {},
   "source": [
    "## Get b0 volume indices and perform bval & bvec QA"
   ]
  },
  {
   "cell_type": "code",
   "execution_count": 7,
   "metadata": {},
   "outputs": [
    {
     "name": "stdout",
     "output_type": "stream",
     "text": [
      "> Verify that data points in the bval files is as expected.\n",
      "> Verify that data points in the bvec files is as expected.\n",
      "> Extract B0s:\n",
      "> Verify that b0 quantity and indices are as expected.\n",
      "> Verify that data points in the bval files is as expected.\n",
      "> Verify that data points in the bvec files is as expected.\n",
      "> Extract B0s:\n",
      "> Verify that b0 quantity and indices are as expected.\n",
      "> Verify that data points in the bval files is as expected.\n",
      "> Verify that data points in the bvec files is as expected.\n",
      "> Extract B0s:\n",
      "> Verify that b0 quantity and indices are as expected.\n",
      "> Verify that data points in the bval files is as expected.\n",
      "> Verify that data points in the bvec files is as expected.\n",
      "> Extract B0s:\n",
      "> Verify that b0 quantity and indices are as expected.\n",
      "> Verify that data points in the bval files is as expected.\n",
      "> Verify that data points in the bvec files is as expected.\n",
      "> Extract B0s:\n",
      "> Verify that b0 quantity and indices are as expected.\n",
      "> Verify that data points in the bval files is as expected.\n",
      "> Verify that data points in the bvec files is as expected.\n",
      "> Extract B0s:\n",
      "> Verify that b0 quantity and indices are as expected.\n",
      "> Verify that data points in the bval files is as expected.\n",
      "> Verify that data points in the bvec files is as expected.\n",
      "> Extract B0s:\n",
      "> Verify that b0 quantity and indices are as expected.\n",
      "> Verify that data points in the bval files is as expected.\n",
      "> Verify that data points in the bvec files is as expected.\n",
      "> Extract B0s:\n",
      "> Verify that b0 quantity and indices are as expected.\n",
      "> Verify that data points in the bval files is as expected.\n",
      "> Verify that data points in the bvec files is as expected.\n",
      "> Extract B0s:\n",
      "> Verify that b0 quantity and indices are as expected.\n",
      "> Verify that data points in the bval files is as expected.\n",
      "> Verify that data points in the bvec files is as expected.\n",
      "> Extract B0s:\n",
      "> Verify that b0 quantity and indices are as expected.\n",
      "> Verify that data points in the bval files is as expected.\n",
      "> Verify that data points in the bvec files is as expected.\n",
      "> Extract B0s:\n",
      "> Verify that b0 quantity and indices are as expected.\n",
      "> Verify that data points in the bval files is as expected.\n",
      "> Verify that data points in the bvec files is as expected.\n",
      "> Extract B0s:\n",
      "> Verify that b0 quantity and indices are as expected.\n",
      "> Verify that data points in the bval files is as expected.\n",
      "> Verify that data points in the bvec files is as expected.\n",
      "> Extract B0s:\n",
      "> Verify that b0 quantity and indices are as expected.\n",
      "> Verify that data points in the bval files is as expected.\n",
      "> Verify that data points in the bvec files is as expected.\n",
      "> Extract B0s:\n",
      "> Verify that b0 quantity and indices are as expected.\n",
      "> Verify that data points in the bval files is as expected.\n",
      "> Verify that data points in the bvec files is as expected.\n",
      "> Extract B0s:\n",
      "> Verify that b0 quantity and indices are as expected.\n",
      "> Verify that data points in the bval files is as expected.\n",
      "> Verify that data points in the bvec files is as expected.\n",
      "> Extract B0s:\n",
      "> Verify that b0 quantity and indices are as expected.\n",
      "> Verify that data points in the bval files is as expected.\n",
      "> Verify that data points in the bvec files is as expected.\n",
      "> Extract B0s:\n",
      "> Verify that b0 quantity and indices are as expected.\n",
      "> Verify that data points in the bval files is as expected.\n",
      "> Verify that data points in the bvec files is as expected.\n",
      "> Extract B0s:\n",
      "> Verify that b0 quantity and indices are as expected.\n",
      "> Verify that data points in the bval files is as expected.\n",
      "> Verify that data points in the bvec files is as expected.\n",
      "> Extract B0s:\n",
      "> Verify that b0 quantity and indices are as expected.\n",
      "> Verify that data points in the bval files is as expected.\n",
      "> Verify that data points in the bvec files is as expected.\n",
      "> Extract B0s:\n",
      "> Verify that b0 quantity and indices are as expected.\n",
      "> Verify that data points in the bval files is as expected.\n",
      "> Verify that data points in the bvec files is as expected.\n",
      "> Extract B0s:\n",
      "> Verify that b0 quantity and indices are as expected.\n",
      "> Verify that data points in the bval files is as expected.\n",
      "> Verify that data points in the bvec files is as expected.\n",
      "> Extract B0s:\n",
      "> Verify that b0 quantity and indices are as expected.\n",
      "> Verify that data points in the bval files is as expected.\n",
      "> Verify that data points in the bvec files is as expected.\n",
      "> Extract B0s:\n",
      "> Verify that b0 quantity and indices are as expected.\n",
      "> Verify that data points in the bval files is as expected.\n",
      "> Verify that data points in the bvec files is as expected.\n",
      "> Extract B0s:\n",
      "> Verify that b0 quantity and indices are as expected.\n",
      "> Verify that data points in the bval files is as expected.\n",
      "> Verify that data points in the bvec files is as expected.\n",
      "> Extract B0s:\n",
      "> Verify that b0 quantity and indices are as expected.\n",
      "> Verify that data points in the bval files is as expected.\n",
      "> Verify that data points in the bvec files is as expected.\n",
      "> Extract B0s:\n",
      "> Verify that b0 quantity and indices are as expected.\n",
      "> Verify that data points in the bval files is as expected.\n",
      "> Verify that data points in the bvec files is as expected.\n",
      "> Extract B0s:\n",
      "> Verify that b0 quantity and indices are as expected.\n",
      "> Verify that data points in the bval files is as expected.\n",
      "> Verify that data points in the bvec files is as expected.\n",
      "> Extract B0s:\n",
      "> Verify that b0 quantity and indices are as expected.\n",
      "> Verify that data points in the bval files is as expected.\n",
      "> Verify that data points in the bvec files is as expected.\n",
      "> Extract B0s:\n",
      "> Verify that b0 quantity and indices are as expected.\n",
      "> Verify that data points in the bval files is as expected.\n",
      "> Verify that data points in the bvec files is as expected.\n",
      "> Extract B0s:\n",
      "> Verify that b0 quantity and indices are as expected.\n",
      "> Verify that data points in the bval files is as expected.\n",
      "> Verify that data points in the bvec files is as expected.\n",
      "> Extract B0s:\n",
      "> Verify that b0 quantity and indices are as expected.\n",
      "> Verify that data points in the bval files is as expected.\n",
      "> Verify that data points in the bvec files is as expected.\n",
      "> Extract B0s:\n",
      "> Verify that b0 quantity and indices are as expected.\n",
      "> Verify that data points in the bval files is as expected.\n",
      "> Verify that data points in the bvec files is as expected.\n",
      "> Extract B0s:\n",
      "> Verify that b0 quantity and indices are as expected.\n",
      "> Verify that data points in the bval files is as expected.\n",
      "> Verify that data points in the bvec files is as expected.\n",
      "> Extract B0s:\n",
      "> Verify that b0 quantity and indices are as expected.\n",
      "> Verify that data points in the bval files is as expected.\n",
      "> Verify that data points in the bvec files is as expected.\n",
      "> Extract B0s:\n",
      "> Verify that b0 quantity and indices are as expected.\n",
      "> Verify that data points in the bval files is as expected.\n",
      "> Verify that data points in the bvec files is as expected.\n",
      "> Extract B0s:\n",
      "> Verify that b0 quantity and indices are as expected.\n",
      "> Verify that data points in the bval files is as expected.\n",
      "> Verify that data points in the bvec files is as expected.\n",
      "> Extract B0s:\n",
      "> Verify that b0 quantity and indices are as expected.\n",
      "> Verify that data points in the bval files is as expected.\n",
      "> Verify that data points in the bvec files is as expected.\n",
      "> Extract B0s:\n",
      "> Verify that b0 quantity and indices are as expected.\n",
      "> Verify that data points in the bval files is as expected.\n",
      "> Verify that data points in the bvec files is as expected.\n",
      "> Extract B0s:\n",
      "> Verify that b0 quantity and indices are as expected.\n",
      "> Verify that data points in the bval files is as expected.\n",
      "> Verify that data points in the bvec files is as expected.\n",
      "> Extract B0s:\n",
      "> Verify that b0 quantity and indices are as expected.\n",
      "> Verify that data points in the bval files is as expected.\n",
      "> Verify that data points in the bvec files is as expected.\n",
      "> Extract B0s:\n",
      "> Verify that b0 quantity and indices are as expected.\n",
      "> Verify that data points in the bval files is as expected.\n",
      "> Verify that data points in the bvec files is as expected.\n",
      "> Extract B0s:\n",
      "> Verify that b0 quantity and indices are as expected.\n",
      "> Verify that data points in the bval files is as expected.\n",
      "> Verify that data points in the bvec files is as expected.\n",
      "> Extract B0s:\n",
      "> Verify that b0 quantity and indices are as expected.\n",
      "> Verify that data points in the bval files is as expected.\n",
      "> Verify that data points in the bvec files is as expected.\n",
      "> Extract B0s:\n",
      "> Verify that b0 quantity and indices are as expected.\n",
      "> Verify that data points in the bval files is as expected.\n",
      "> Verify that data points in the bvec files is as expected.\n",
      "> Extract B0s:\n",
      "> Verify that b0 quantity and indices are as expected.\n",
      "> Verify that data points in the bval files is as expected.\n",
      "> Verify that data points in the bvec files is as expected.\n",
      "> Extract B0s:\n",
      "> Verify that b0 quantity and indices are as expected.\n",
      "> Verify that data points in the bval files is as expected.\n",
      "> Verify that data points in the bvec files is as expected.\n",
      "> Extract B0s:\n",
      "> Verify that b0 quantity and indices are as expected.\n"
     ]
    }
   ],
   "source": [
    "\n",
    "for subjFolder in subjFolders:\n",
    "    scansBaseNames = createSubjectScansBaseNames(subjFolder, data_path)\n",
    "    print('> Verify that data points in the bval files is as expected.')\n",
    "    if pd.read_csv(scansBaseNames['AP_before'] + '.bval', header=None, sep=' ').T.shape[0] != expectedVolums['AP'] or \\\n",
    "        pd.read_csv(scansBaseNames['PA_before'] + '.bval', header=None, sep=' ').T.shape[0] != expectedVolums['PA'] or \\\n",
    "        pd.read_csv(scansBaseNames['AP_after'] + '.bval', header=None, sep=' ').T.shape[0] != expectedVolums['AP'] or \\\n",
    "        pd.read_csv(scansBaseNames['PA_after'] + '.bval', header=None, sep=' ').T.shape[0] != expectedVolums['PA']:\n",
    "            print(f' *** The number of data points in the bval for one of the scans for subjetc {sub} is not as expected.')\n",
    "            raise Exception(f'The number of data points in the bval for one of the scans for subjetc {sub} is not as expected.')\n",
    "\n",
    "    print('> Verify that data points in the bvec files is as expected.')\n",
    "    if pd.read_csv(scansBaseNames['AP_before'] + '.bvec', header=None, sep=' ').T.shape[0] != expectedVolums['AP'] or \\\n",
    "        pd.read_csv(scansBaseNames['PA_before'] + '.bvec', header=None, sep=' ').T.shape[0] != expectedVolums['PA'] or \\\n",
    "        pd.read_csv(scansBaseNames['AP_after'] + '.bvec', header=None, sep=' ').T.shape[0] != expectedVolums['AP'] or \\\n",
    "        pd.read_csv(scansBaseNames['PA_after'] + '.bvec', header=None, sep=' ').T.shape[0] != expectedVolums['PA']:\n",
    "            print(f' *** The number of data points in the bvec for one of the scans for subjetc {sub} is not as expected.')\n",
    "            raise ValueError(f'The number of data points in the bvec for one of the scans for subjetc ' + str(sub) + ' is not as expected.')\n",
    "\n",
    "    print('> Extract B0s:')\n",
    "    B0s_indxs = {}\n",
    "    for scan in scansBaseNames.keys():\n",
    "        B0s=pd.read_csv(scansBaseNames[scan] + '.bval', header=None, sep=' ').T\n",
    "        B0s.columns = ['bval']\n",
    "        B0s_indxs[scan] = list(B0s[B0s.bval < 20].index)\n",
    "\n",
    "    print('> Verify that b0 quantity and indices are as expected.')\n",
    "    if B0s_indxs != expectedB0s_indxs:\n",
    "        print(f' *** The indices of the b0s for one of the scans for subjetc {sub} are not as expected.')\n",
    "        raise ValueError(f'The indices of the b0s for one of the scans for subjetc ' + str(sub) + ' are not as expected.')\n"
   ]
  },
  {
   "cell_type": "markdown",
   "metadata": {},
   "source": [
    "## Preprocessing"
   ]
  },
  {
   "cell_type": "markdown",
   "metadata": {},
   "source": [
    "#### Create pre-processing folder"
   ]
  },
  {
   "cell_type": "code",
   "execution_count": 8,
   "metadata": {},
   "outputs": [
    {
     "name": "stdout",
     "output_type": "stream",
     "text": [
      "> Create preprocessing folders\n"
     ]
    }
   ],
   "source": [
    "print('> Create preprocessing folders')\n",
    "for subjFolder in subjFolders:\n",
    "    try:\n",
    "        os.makedirs(os.path.join(preproc_path, subjFolder), exist_ok=False)\n",
    "        print('>> Created folder: ' + os.path.join(preproc_path, subjFolder))\n",
    "    except:\n",
    "        pass"
   ]
  },
  {
   "cell_type": "markdown",
   "metadata": {},
   "source": [
    "### (1) TOPUP\n",
    "* A tool for estimating and correcting susceptibility induced distortions"
   ]
  },
  {
   "cell_type": "markdown",
   "metadata": {},
   "source": [
    "#### Extract B0 volumes"
   ]
  },
  {
   "cell_type": "code",
   "execution_count": 9,
   "metadata": {},
   "outputs": [
    {
     "name": "stdout",
     "output_type": "stream",
     "text": [
      "> Extract B0s (using the fslroi):\n",
      ">> COMPLETED.\n"
     ]
    }
   ],
   "source": [
    "print('> Extract B0s (using the fslroi):')\n",
    "for subjFolder in subjFolders:\n",
    "    scansBaseNames = createSubjectScansBaseNames(subjFolder, data_path)\n",
    "    for scan in scansBaseNames.keys():\n",
    "        for B0ind in B0s_indxs[scan]:\n",
    "            B0_file_name = os.path.join(preproc_path, subjFolder, subjFolder + '_' + scan + \"_b0_volInd-\" + str(B0ind) + \".nii.gz\")\n",
    "            if not os.path.isfile(f\"{B0_file_name}\"):\n",
    "                print(f'>> runs: fslroi {scansBaseNames[scan]}.nii.gz {B0_file_name} {B0ind} 1')\n",
    "                os.system(f'fslroi {scansBaseNames[scan]}.nii.gz {B0_file_name} {B0ind} 1')\n",
    "print(f\">> COMPLETED.\")"
   ]
  },
  {
   "cell_type": "markdown",
   "metadata": {},
   "source": [
    "#### Merge B0 volumes for TOPUP"
   ]
  },
  {
   "cell_type": "code",
   "execution_count": 10,
   "metadata": {},
   "outputs": [
    {
     "name": "stdout",
     "output_type": "stream",
     "text": [
      "> Merge B0s for each session (using the fslmerge):\n",
      ">> COMPLETED.\n"
     ]
    }
   ],
   "source": [
    "print('> Merge B0s for each session (using the fslmerge):')\n",
    "#print([scan for scan in sub_B0s_files if 'AP_before' in scan])\n",
    "#print([scan for scan in sub_B0s_files if 'PA_before' in scan])\n",
    "for subjFolder in subjFolders:\n",
    "    # get the sub_B0s_files for the current subject:\n",
    "    scansBaseNames = createSubjectScansBaseNames(subjFolder, data_path)\n",
    "    sub_B0s_files = get_sub_B0_files(subjFolder, scansBaseNames, B0s_indxs)\n",
    "    # merge the B0s for the current subject for each time (before/after):\n",
    "    for time in ['before', 'after']:\n",
    "        output_base_name = f'{os.path.join(preproc_path, subjFolder,subjFolder)}_AP_PA_{time}_b0s'\n",
    "        if not os.path.isfile(f\"{output_base_name}.nii.gz\"):\n",
    "            print(f'>> runs: fslmerge -t {output_base_name}' + ' ' + ' '.join([scan for scan in sub_B0s_files if f'AP_{time}' in scan]) + ' ' + ' '.join([scan for scan in sub_B0s_files if f'PA_{time}' in scan]))\n",
    "            os.system(f'fslmerge -t {output_base_name}' + ' ' + ' '.join([scan for scan in sub_B0s_files if f'AP_{time}' in scan]) + ' ' + ' '.join([scan for scan in sub_B0s_files if f'PA_{time}' in scan]))\n",
    "print(f\">> COMPLETED.\")"
   ]
  },
  {
   "cell_type": "markdown",
   "metadata": {},
   "source": [
    "#### Generate the acqparams.txt files"
   ]
  },
  {
   "cell_type": "code",
   "execution_count": 11,
   "metadata": {},
   "outputs": [
    {
     "name": "stdout",
     "output_type": "stream",
     "text": [
      "> Create the acqparams.txt files (one per session [before and after])\n",
      ">> COMPLETED.\n"
     ]
    }
   ],
   "source": [
    "print('> Create the acqparams.txt files (one per session [''before'' and ''after''])')\n",
    "\n",
    "for subjFolder in subjFolders:\n",
    "    # get the sub_B0s_files for the current subject:\n",
    "    scansBaseNames = createSubjectScansBaseNames(subjFolder, data_path)\n",
    "    sub_B0s_files = get_sub_B0_files(subjFolder, scansBaseNames, B0s_indxs)\n",
    "\n",
    "    # first get the totalReadoutTime from the json files\n",
    "    total_readout_time = {}\n",
    "    for scanBaseName in scansBaseNames.keys():\n",
    "        with open(scansBaseNames[scanBaseName] + '.json') as json_file:        \n",
    "            scanData = json.load(json_file)\n",
    "            total_readout_time[scanBaseName] = scanData['TotalReadoutTime']\n",
    "\n",
    "    for time in ['before', 'after']:\n",
    "        acqPars=[f'0 -1 0 {total_readout_time[f\"AP_{time}\"]}' for scan in sub_B0s_files if f'AP_{time}' in scan] + [f'0 1 0 {total_readout_time[f\"PA_{time}\"]}' for scan in sub_B0s_files if f'PA_{time}' in scan]\n",
    "        # write a list of strings to a file (one string per line):\n",
    "        with open(os.path.join(preproc_path, subjFolder, subjFolder + f'_{time}_acqparams.txt'), 'w') as f:\n",
    "            for item in acqPars:\n",
    "                f.write(\"%s\\n\" % item)\n",
    "print(f\">> COMPLETED.\")"
   ]
  },
  {
   "cell_type": "markdown",
   "metadata": {},
   "source": [
    "#### Run TOPUP"
   ]
  },
  {
   "cell_type": "markdown",
   "metadata": {},
   "source": [
    "Create TOPUP launch files"
   ]
  },
  {
   "cell_type": "code",
   "execution_count": 12,
   "metadata": {},
   "outputs": [
    {
     "name": "stdout",
     "output_type": "stream",
     "text": [
      "> Create the TOPUP launch files (one per subject [before and after] together)\n",
      ">> COMPLETED.\n"
     ]
    }
   ],
   "source": [
    "print('> Create the TOPUP launch files (one per subject [''before'' and ''after''] together)')\n",
    "for subjFolder in subjFolders:\n",
    "\n",
    "    launch_file = os.path.join(launch_files_path, 'TOPUP_' + subjFolder + '_launch.txt')\n",
    "    \n",
    "    if not os.path.isfile(launch_file):\n",
    "        with open(launch_file, 'w') as f:\n",
    "            for time in ['before', 'after']:\n",
    "                    print(f\">> This command was written to {launch_file}:\\ntopup --imain={os.path.join(preproc_path, subjFolder,subjFolder)}_AP_PA_{time}_b0s \\\\\\n\\\n",
    "                            --datain={os.path.join(preproc_path, subjFolder, subjFolder + f'_{time}_acqparams.txt')} \\\\\\n\\\n",
    "                            --config=b02b0.cnf \\\\\\n\\\n",
    "                            --out={os.path.join(preproc_path, subjFolder,'topup_' + subjFolder)}_AP_PA_{time}_b0s \\\\\\n\\\n",
    "                            --iout={os.path.join(preproc_path, subjFolder,'topup_' + subjFolder)}_AP_PA_{time}_b0s_iout \\\\\\n\\\n",
    "                            --fout={os.path.join(preproc_path, subjFolder,'topup_' + subjFolder)}_AP_PA_{time}_b0s_fout \\n\\\n",
    "                        \")\n",
    "                    f.write(f\"topup --imain={os.path.join(preproc_path, subjFolder,subjFolder)}_AP_PA_{time}_b0s --datain={os.path.join(preproc_path, subjFolder, subjFolder + f'_{time}_acqparams.txt')} --config=b02b0.cnf --out={os.path.join(preproc_path, subjFolder,'topup_' + subjFolder)}_AP_PA_{time}_b0s --iout={os.path.join(preproc_path, subjFolder,'topup_' + subjFolder)}_AP_PA_{time}_b0s_iout --fout={os.path.join(preproc_path, subjFolder,'topup_' + subjFolder)}_AP_PA_{time}_b0s_fout\\n\")\n",
    "print(f\">> COMPLETED.\")"
   ]
  },
  {
   "cell_type": "markdown",
   "metadata": {},
   "source": [
    "Run TOPUP launch files"
   ]
  },
  {
   "cell_type": "code",
   "execution_count": 13,
   "metadata": {},
   "outputs": [
    {
     "name": "stdout",
     "output_type": "stream",
     "text": [
      "> Run the TOPUP launch files (one per subject [before and after] together)\n",
      ">> COMPLETED.\n"
     ]
    }
   ],
   "source": [
    "print('> Run the TOPUP launch files (one per subject [''before'' and ''after''] together)')\n",
    "\n",
    "for subjFolder in subjFolders:\n",
    "\n",
    "    launch_file = os.path.join(launch_files_path, 'TOPUP_' + subjFolder + '_launch.txt')\n",
    "\n",
    "    # check if all expected output files exist:\n",
    "    expected_TOPUP_out_files_exist = []\n",
    "    for time in ['before', 'after']:\n",
    "        expected_TOPUP_out_files_exist += [os.path.isfile(f\"{os.path.join(preproc_path, subjFolder,'topup_' + subjFolder)}_AP_PA_{time}_b0s_fieldcoef.nii.gz\"),\n",
    "                                        os.path.isfile(f\"{os.path.join(preproc_path, subjFolder,'topup_' + subjFolder)}_AP_PA_{time}_b0s_fout.nii.gz\"),\n",
    "                                        os.path.isfile(f\"{os.path.join(preproc_path, subjFolder,'topup_' + subjFolder)}_AP_PA_{time}_b0s_iout.nii.gz\"),\n",
    "                                        os.path.isfile(f\"{os.path.join(preproc_path, subjFolder,'topup_' + subjFolder)}_AP_PA_{time}_b0s_movpar.txt\")]\n",
    "\n",
    "    # Run the launch file if not all output files present:\n",
    "    if not all(expected_TOPUP_out_files_exist):\n",
    "                print(f\">> Running: launch -s {launch_file} -j schonberglab -p {n_cores_TOPUP} -r inf\")\n",
    "                os.system(f\"launch -s {launch_file} -j schonberglab -p {n_cores_TOPUP} -r inf\")         \n",
    "                \n",
    "print(f\">> COMPLETED.\")"
   ]
  },
  {
   "cell_type": "markdown",
   "metadata": {},
   "source": [
    "### (2) EDDY\n",
    "* A tool for correcting Eddy currents (and motion)"
   ]
  },
  {
   "cell_type": "markdown",
   "metadata": {},
   "source": [
    "#### Average TOPUP corrected (unwarped) B0 volums (the .iout file)"
   ]
  },
  {
   "cell_type": "code",
   "execution_count": 14,
   "metadata": {},
   "outputs": [
    {
     "name": "stdout",
     "output_type": "stream",
     "text": [
      ">> Average TOPUP corrected (unwarped) B0 volums (the .iout file). - runs seperately for each time [''before'' and ''after'']\n",
      ">> COMPLETED.\n"
     ]
    }
   ],
   "source": [
    "print(f\">> Average TOPUP corrected (unwarped) B0 volums (the .iout file). - runs seperately for each time [''before'' and ''after'']\")\n",
    "for subjFolder in subjFolders:\n",
    "      for time in ['before', 'after']:\n",
    "            output_file_name = f\"{os.path.join(preproc_path, subjFolder,'topup_' + subjFolder)}_AP_PA_{time}_b0s_iout_avg.nii.gz\"\n",
    "            if not os.path.isfile(f\"{output_file_name}\"):\n",
    "                  print(f\">> runs: fslmaths {os.path.join(preproc_path, subjFolder,'topup_' + subjFolder)}_AP_PA_{time}_b0s_iout -Tmean {output_file_name}\")\n",
    "                  os.system(f\"fslmaths {os.path.join(preproc_path, subjFolder,'topup_' + subjFolder)}_AP_PA_{time}_b0s_iout -Tmean {output_file_name}\")\n",
    "print(f\">> COMPLETED.\")"
   ]
  },
  {
   "cell_type": "markdown",
   "metadata": {},
   "source": [
    "#### Run BET on the averaged B0s volume"
   ]
  },
  {
   "cell_type": "code",
   "execution_count": 15,
   "metadata": {},
   "outputs": [
    {
     "name": "stdout",
     "output_type": "stream",
     "text": [
      ">> Extarct the brain form the averaged B0s volume - runs seperately for each time [''before'' and ''after'']\n",
      ">> COMPLETED.\n"
     ]
    }
   ],
   "source": [
    "print(f\">> Extarct the brain form the averaged B0s volume - runs seperately for each time [''before'' and ''after'']\")\n",
    "for subjFolder in subjFolders:\n",
    "      for time in ['before', 'after']:\n",
    "            output_base_name = f\"{os.path.join(preproc_path, subjFolder,'topup_' + subjFolder)}_AP_PA_{time}_b0s_iout_avg_brain\"\n",
    "            if not os.path.isfile(f\"{output_base_name}.nii.gz\") or not os.path.isfile(f\"{output_base_name}_mask.nii.gz\"):\n",
    "                  print(f\">> runs: bet {os.path.join(preproc_path, subjFolder,'topup_' + subjFolder)}_AP_PA_{time}_b0s_iout_avg {output_base_name} -m -f 0.2\")\n",
    "                  os.system(f\"bet {os.path.join(preproc_path, subjFolder,'topup_' + subjFolder)}_AP_PA_{time}_b0s_iout_avg {output_base_name} -m -f 0.2\")\n",
    "print(f\">> COMPLETED.\")"
   ]
  },
  {
   "cell_type": "markdown",
   "metadata": {},
   "source": [
    "#### Create index.txt file\n",
    "This file maps the volumes in the main DTI data to the relevant line in the acqparams.txt and in the movpar.txt (assessed movement parameters from TOPUP) files\n",
    "* details in: https://www.youtube.com/watch?v=1T1cRnX7MpA"
   ]
  },
  {
   "cell_type": "code",
   "execution_count": 16,
   "metadata": {},
   "outputs": [
    {
     "name": "stdout",
     "output_type": "stream",
     "text": [
      ">> create an index.txt file for each subject for each time [before and after] for the EDDY\n",
      ">> COMPLETED.\n"
     ]
    }
   ],
   "source": [
    "print(f\">> create an index.txt file for each subject for each time [before and after] for the EDDY\")\n",
    "for subjFolder in subjFolders:\n",
    "    for time in ['before', 'after']:\n",
    "        ind_to_write = 1\n",
    "        with open(os.path.join(preproc_path, subjFolder, f'{time}_index.txt'), 'w') as f:\n",
    "            for i in range(expectedVolums['AP']):   \n",
    "                if i > 0 and i in expectedB0s_indxs[f'AP_{time}']:\n",
    "                    ind_to_write += 1\n",
    "                f.write(\"%s\\n\" %ind_to_write)\n",
    "print('>> COMPLETED.')\n"
   ]
  },
  {
   "cell_type": "markdown",
   "metadata": {},
   "source": [
    "#### Run EDDY\n",
    "* Correct for eddy currents and subject movement (and taking to account the suceptibility field calculated by TOPUP)"
   ]
  },
  {
   "cell_type": "code",
   "execution_count": 17,
   "metadata": {},
   "outputs": [
    {
     "name": "stdout",
     "output_type": "stream",
     "text": [
      "> Run EDDY using cheshire server GPU (one per subject per time [before and after])\n",
      ">> COMPLETED.\n"
     ]
    }
   ],
   "source": [
    "print('> Run EDDY using cheshire server GPU (one per subject per time [''before'' and ''after''])')\n",
    "# files_to_run_each_time = 200\n",
    "# counter=1\n",
    "for subjFolder in subjFolders:\n",
    "    # if int(subjFolder.split('-')[1])<265:\n",
    "    #     continue\n",
    "\n",
    "    # # Stop executing more:\n",
    "    # if counter > files_to_run_each_time:\n",
    "    #     break\n",
    "\n",
    "    scansBaseNames = createSubjectScansBaseNames(subjFolder, data_path)\n",
    "\n",
    "    # check if all expected output files exist:\n",
    "    for time in ['before', 'after']:\n",
    "        \n",
    "        eddy_output_files = glob.glob(os.path.join(preproc_path, subjFolder, f'eddy_unwarped_images_{subjFolder}_{time}*')) # get files in a directory\n",
    "        expected_EDDY_out_files_exist = len(list(set(eddy_output_files))) >= n_expected_EDDY_output_files # check that the number of unique EDDY files is as expected\n",
    "\n",
    "        # Run the launch file if not all output files present:\n",
    "        if not expected_EDDY_out_files_exist:\n",
    "            eddy_command_to_run = f\"{ssh_command_for_cheshire_server} {EDDY_command} --imain={scansBaseNames[f'AP_{time}']}.nii.gz \\\\\\n\\\n",
    "                --mask={os.path.join(preproc_path, subjFolder,'topup_' + subjFolder)}_AP_PA_{time}_b0s_iout_avg_brain_mask \\\\\\n\\\n",
    "                --index={os.path.join(preproc_path, subjFolder, time + '_index.txt')}\\\\\\n\\\n",
    "                --acqp={os.path.join(preproc_path, subjFolder, subjFolder + '_' + time + '_acqparams.txt')} \\\\\\n\\\n",
    "                --bvecs={scansBaseNames[f'AP_{time}']}.bvec \\\\\\n\\\n",
    "                --bvals={scansBaseNames[f'AP_{time}']}.bval \\\\\\n\\\n",
    "                --topup={os.path.join(preproc_path, subjFolder,'topup_' + subjFolder)}_AP_PA_{time}_b0s \\\\\\n\\\n",
    "                --out={os.path.join(preproc_path, subjFolder,'eddy_unwarped_images_' + subjFolder)}_{time} \\\\\\n\\\n",
    "                --verbose\\\n",
    "            \"\n",
    "            print(f'\">> Running this command on cheshire:\\n{eddy_command_to_run}\\n')\n",
    "            os.system(eddy_command_to_run)\n",
    "            # counter+=1\n",
    "\n",
    "print(f\">> COMPLETED.\")"
   ]
  },
  {
   "cell_type": "markdown",
   "metadata": {},
   "source": [
    "Create EDDY launch files [Currently not in use]"
   ]
  },
  {
   "cell_type": "code",
   "execution_count": 21,
   "metadata": {},
   "outputs": [],
   "source": [
    "# print('> Create the EDDY launch files (one per subject [''before'' and ''after''] together)')\n",
    "# for subjFolder in subjFolders:\n",
    "\n",
    "#     scansBaseNames = createSubjectScansBaseNames(subjFolder, data_path)\n",
    "#     launch_file = os.path.join(launch_files_path, 'EDDY_' + subjFolder + '_launch.txt')\n",
    "\n",
    "#     if not os.path.isfile(launch_file):\n",
    "#         with open(launch_file, 'w') as f:\n",
    "#             for time in ['before', 'after']:\n",
    "#                 print(f\">> This command was written to {launch_file}:\\n{EDDY_command} --imain={scansBaseNames[f'AP_{time}']}.nii.gz \\\\\\n\\\n",
    "#                     --mask={os.path.join(preproc_path, subjFolder,'topup_' + subjFolder)}_AP_PA_{time}_b0s_iout_avg_brain_mask \\\\\\n\\\n",
    "#                     --index={os.path.join(preproc_path, subjFolder, time + '_index.txt')}\\\\\\n\\\n",
    "#                     --acqp={os.path.join(preproc_path, subjFolder, subjFolder + '_' + time + '_acqparams.txt')} \\\\\\n\\\n",
    "#                     --bvecs={scansBaseNames[f'AP_{time}']}.bvec \\\\\\n\\\n",
    "#                     --bvals={scansBaseNames[f'AP_{time}']}.bval \\\\\\n\\\n",
    "#                     --topup={os.path.join(preproc_path, subjFolder,'topup_' + subjFolder)}_AP_PA_{time}_b0s \\\\\\n\\\n",
    "#                     --out={os.path.join(preproc_path, subjFolder,'eddy_unwarped_images_' + subjFolder)}_{time} \\\\\\n\\\n",
    "#                     --verbose \\n\\\n",
    "#                 \")\n",
    "#                 #f.write(f\"{EDDY_command} --imain={scansBaseNames[f'AP_{time}']}.nii.gz --mask={os.path.join(preproc_path, subjFolder,'topup_' + subjFolder)}_AP_PA_{time}_b0s_iout_avg_brain_mask --index={os.path.join(preproc_path, subjFolder, time + '_index.txt')} --acqp={os.path.join(preproc_path, subjFolder, subjFolder + '_' + time + '_acqparams.txt')} --bvecs={scansBaseNames[f'AP_{time}']}.bvec --bvals={scansBaseNames[f'AP_{time}']}.bval --topup={os.path.join(preproc_path, subjFolder,'topup_' + subjFolder)}_AP_PA_{time}_b0s --out={os.path.join(preproc_path, subjFolder,'eddy_unwarped_images_' + subjFolder)}_{time} --verbose\\n\")\n",
    "# print(f\">> COMPLETED.\")"
   ]
  },
  {
   "cell_type": "markdown",
   "metadata": {},
   "source": [
    "Run EDDY launch files  [Currently not in use]"
   ]
  },
  {
   "cell_type": "code",
   "execution_count": 22,
   "metadata": {},
   "outputs": [],
   "source": [
    "# print('> Run the EDDY launch files (one per subject [''before'' and ''after''] together)')\n",
    "# for subjFolder in subjFolders:\n",
    "\n",
    "#     launch_file = os.path.join(launch_files_path, 'EDDY_' + subjFolder + '_launch.txt')\n",
    "\n",
    "#     # check if all expected output files exist:\n",
    "#     expected_EDDY_out_files_exist = []\n",
    "#     for time in ['before', 'after']:\n",
    "#         eddy_output_files = glob.glob(os.path.join(preproc_path, subjFolder, f'eddy_unwarped_images_{subjFolder}_{time}*')) # get files in a directory\n",
    "#         expected_EDDY_out_files_exist.append(len(list(set(eddy_output_files))) == n_expected_EDDY_output_files) # check that the number of unique EDDY files is as expected\n",
    "\n",
    "#     # Run the launch file if not all output files present:\n",
    "#     if not all(expected_EDDY_out_files_exist):\n",
    "#                 print(f\">> Running: launch -s {launch_file} -j schonberglab -p {n_cores_EDDY} -r inf\")\n",
    "#                 #os.system(f\">> Running: launch -s {launch_file} -j schonberglab -p {n_cores_EDDY} -r inf\")\n",
    "# print(f\">> COMPLETED.\")"
   ]
  },
  {
   "cell_type": "markdown",
   "metadata": {},
   "source": [
    "#### Run EDDY QC"
   ]
  },
  {
   "cell_type": "code",
   "execution_count": 23,
   "metadata": {},
   "outputs": [],
   "source": [
    "for subjFolder in subjFolders:\n",
    "    # get the sub_B0s_files for the current subject:\n",
    "    scansBaseNames = createSubjectScansBaseNames(subjFolder, data_path)\n",
    "\n",
    "    for time in ['before', 'after']:\n",
    "        if not os.path.isdir(os.path.join(preproc_path, subjFolder, f'eddy_unwarped_images_{subjFolder}_{time}.qc')):\n",
    "            print(f\"eddy_quad {os.path.join(preproc_path, subjFolder, f'eddy_unwarped_images_{subjFolder}_{time}')} \\\\\\n\\\n",
    "                -idx {os.path.join(preproc_path, subjFolder, f'{time}_index.txt')} \\\\\\n\\\n",
    "                -par {os.path.join(preproc_path, subjFolder, subjFolder  + f'_{time}_acqparams.txt')} \\\\\\n\\\n",
    "                -m   {os.path.join(preproc_path, subjFolder, f'topup_{subjFolder}_AP_PA_{time}_b0s_iout_avg_brain_mask.nii.gz')} \\\\\\n\\\n",
    "                -b   {scansBaseNames[f'AP_{time}'] + '.bval'}\\\n",
    "                \")\n",
    "            os.system(f\"eddy_quad {os.path.join(preproc_path, subjFolder, f'eddy_unwarped_images_{subjFolder}_{time}')} \\\\\\n\\\n",
    "                -idx {os.path.join(preproc_path, subjFolder, f'{time}_index.txt')} \\\\\\n\\\n",
    "                -par {os.path.join(preproc_path, subjFolder, subjFolder  + f'_{time}_acqparams.txt')} \\\\\\n\\\n",
    "                -m   {os.path.join(preproc_path, subjFolder, f'topup_{subjFolder}_AP_PA_{time}_b0s_iout_avg_brain_mask.nii.gz')} \\\\\\n\\\n",
    "                -b   {scansBaseNames[f'AP_{time}'] + '.bval'}\\\n",
    "                \")\n",
    "\n",
    "\n",
    "\n"
   ]
  },
  {
   "cell_type": "code",
   "execution_count": 374,
   "metadata": {},
   "outputs": [
    {
     "data": {
      "text/plain": [
       "0"
      ]
     },
     "execution_count": 374,
     "metadata": {},
     "output_type": "execute_result"
    }
   ],
   "source": [
    "# Run eddiy squad (group eddy QC):\n",
    "all_qc_dirs = glob.glob(os.path.join(preproc_path, '*', f'eddy_unwarped_images_*_*.qc'))\n",
    "all_qc_dirs.sort()\n",
    "#write the list of eddy QC folders into a text file:\n",
    "with open(os.path.join(preproc_path, 'eddy_QC_folders.txt'), 'w') as f:\n",
    "    for item in all_qc_dirs:\n",
    "        f.write(\"%s\\n\" % item)\n",
    "\n",
    "# run eddy quad\n",
    "os.system(f\"eddy_squad {os.path.join(preproc_path, 'eddy_QC_folders.txt')} -o {os.path.join(preproc_path, 'eddy_squad')}\")"
   ]
  },
  {
   "cell_type": "markdown",
   "metadata": {},
   "source": [
    "## DTI modelling"
   ]
  },
  {
   "cell_type": "markdown",
   "metadata": {},
   "source": [
    "#### Create the DTI folders"
   ]
  },
  {
   "cell_type": "code",
   "execution_count": 18,
   "metadata": {},
   "outputs": [
    {
     "name": "stdout",
     "output_type": "stream",
     "text": [
      "> Create DTI folders\n"
     ]
    }
   ],
   "source": [
    "print('> Create DTI folders')\n",
    "for subjFolder in subjFolders:\n",
    "    try:\n",
    "        os.makedirs(os.path.join(dti_path, subjFolder), exist_ok=False)\n",
    "        print('>> Created folder: ' + os.path.join(dti_path, subjFolder))\n",
    "    except:\n",
    "        pass"
   ]
  },
  {
   "cell_type": "code",
   "execution_count": 19,
   "metadata": {},
   "outputs": [
    {
     "name": "stdout",
     "output_type": "stream",
     "text": [
      "> Run DTIFIT (one per subject per time [before and after])\n"
     ]
    }
   ],
   "source": [
    "print('> Run DTIFIT (one per subject per time [''before'' and ''after''])')\n",
    "# files_to_run_each_time = 200\n",
    "# counter=1\n",
    "for subjFolder in subjFolders:\n",
    "\n",
    "    scansBaseNames = createSubjectScansBaseNames(subjFolder, data_path)\n",
    "\n",
    "    # check if all expected output files exist:\n",
    "    for time in ['before', 'after']:\n",
    "        \n",
    "        dtifit_output_files = glob.glob(os.path.join(dti_path, subjFolder, f'dti_{subjFolder}_{time}*')) # get files in a directory\n",
    "        expected_DTIFIT_out_files_exist = len(list(set(dtifit_output_files))) >= n_expected_DTIFIT_output_files # check that the number of unique EDDY files is as expected\n",
    "\n",
    "        # Run the launch file if not all output files present:\n",
    "        if not expected_DTIFIT_out_files_exist:\n",
    "            dtifit_command = f\"dtifit --data={os.path.join(preproc_path, subjFolder, f'eddy_unwarped_images_{subjFolder}_{time}')} \\\\\\n\\\n",
    "                        --mask={os.path.join(preproc_path, subjFolder, f'topup_{subjFolder}_AP_PA_{time}_b0s_iout_avg_brain_mask')} \\\\\\n\\\n",
    "                        --bvecs={scansBaseNames[f'AP_{time}'] + '.bvec'} \\\\\\n\\\n",
    "                        --bvals={scansBaseNames[f'AP_{time}'] + '.bval'} \\\\\\n\\\n",
    "                        --out={os.path.join(dti_path, subjFolder, f'dti_{subjFolder}_{time}')}\"\n",
    "\n",
    "            print(dtifit_command)\n",
    "            os.system(dtifit_command)\n",
    "\n"
   ]
  },
  {
   "cell_type": "markdown",
   "metadata": {},
   "source": [
    "# *-*-*-*-*-*-*-*-*-*-*-*-*-*-*-*-*-*-*-*-*-*-*-*-*-*"
   ]
  },
  {
   "cell_type": "markdown",
   "metadata": {},
   "source": [
    "### Gather subject folders again based on the dti folders!\n",
    "Make sure that before that you ran DWI_pipeline_noTOPUPpipeline.ipynb to include subject without TOPUP"
   ]
  },
  {
   "cell_type": "code",
   "execution_count": 8,
   "metadata": {},
   "outputs": [
    {
     "name": "stdout",
     "output_type": "stream",
     "text": [
      ">> Get sub folders from the DTI map folder\n"
     ]
    }
   ],
   "source": [
    "print('>> Get sub folders from the DTI map folder')\n",
    "subjFoldersDTI = [el for el in os.listdir(dti_path) if 'sub' in el]\n",
    "subjFoldersDTI.sort()"
   ]
  },
  {
   "cell_type": "code",
   "execution_count": 9,
   "metadata": {},
   "outputs": [
    {
     "data": {
      "text/plain": [
       "121"
      ]
     },
     "execution_count": 9,
     "metadata": {},
     "output_type": "execute_result"
    }
   ],
   "source": [
    "len(subjFoldersDTI)"
   ]
  },
  {
   "cell_type": "markdown",
   "metadata": {},
   "source": [
    "# *-*-*-*-*-*-*-*-*-*-*-*-*-*-*-*-*-*-*-*-*-*-*-*-*-*"
   ]
  },
  {
   "cell_type": "markdown",
   "metadata": {},
   "source": [
    "## Registration to MNI space"
   ]
  },
  {
   "cell_type": "markdown",
   "metadata": {},
   "source": [
    "#### Create folders for the preprocessed anatomical data (from fMRIprep)"
   ]
  },
  {
   "cell_type": "code",
   "execution_count": 11,
   "metadata": {},
   "outputs": [
    {
     "name": "stdout",
     "output_type": "stream",
     "text": [
      "> Create registration folders\n"
     ]
    }
   ],
   "source": [
    "print('> Create registration folders')\n",
    "for subjFolder in subjFoldersDTI:\n",
    "    try:\n",
    "        os.makedirs(os.path.join(dti_path, subjFolder, 'reg'), exist_ok=False)\n",
    "        print('>> Created folder: ' + os.path.join(dti_path, subjFolder, 'reg'))\n",
    "    except:\n",
    "        pass"
   ]
  },
  {
   "cell_type": "code",
   "execution_count": 12,
   "metadata": {},
   "outputs": [
    {
     "name": "stdout",
     "output_type": "stream",
     "text": [
      "> Copy relevant files to the registration folders (T1 processed, related mask, and WM segmentation file\n"
     ]
    }
   ],
   "source": [
    "print('> Copy relevant files to the registration folders (T1 processed, related mask, and WM segmentation file')\n",
    "for subjFolder in subjFoldersDTI:\n",
    "    anatFilesToCopy = [\n",
    "        os.path.join(fmriPrepAnatomyDerivatives_path, subjFolder, 'anat', f'{subjFolder}_desc-preproc_T1w.nii.gz'), \n",
    "        os.path.join(fmriPrepAnatomyDerivatives_path, subjFolder, 'anat', f'{subjFolder}_desc-brain_mask.nii.gz'), \n",
    "        os.path.join(fmriPrepAnatomyDerivatives_path, subjFolder, 'anat', f'{subjFolder}_label-WM_probseg.nii.gz')\n",
    "    ]\n",
    "    \n",
    "    for file in anatFilesToCopy:\n",
    "        if not os.path.exists(os.path.join(dti_path, subjFolder, 'reg', os.path.split(file)[-1])):\n",
    "            print(f\"cp {file} {os.path.join(dti_path, subjFolder, 'reg')}\")\n",
    "            os.system(f\"cp {file} {os.path.join(dti_path, subjFolder, 'reg')}\")\n",
    "    "
   ]
  },
  {
   "cell_type": "code",
   "execution_count": 13,
   "metadata": {},
   "outputs": [
    {
     "name": "stdout",
     "output_type": "stream",
     "text": [
      "> Extract the T1w brain\n",
      ">> COMPLETED.\n"
     ]
    }
   ],
   "source": [
    "print('> Extract the T1w brain')\n",
    "for subjFolder in subjFoldersDTI:\n",
    "    sub_T1 = f\"{os.path.join(dti_path, subjFolder, 'reg', f'{subjFolder}_desc-preproc_T1w.nii.gz')}\"\n",
    "    sub_T1_mask = f\"{os.path.join(dti_path, subjFolder, 'reg', f'{subjFolder}_desc-brain_mask.nii.gz')}\"\n",
    "    extracted_brain = f\"{os.path.join(dti_path, subjFolder, 'reg', f'{subjFolder}_desc-preproc_T1w_brain.nii.gz')}\"\n",
    "    if not os.path.exists(extracted_brain):\n",
    "        print(f\"fslmaths {sub_T1} -mul {sub_T1_mask} {extracted_brain}\")\n",
    "        os.system(f\"fslmaths {sub_T1} -mul {sub_T1_mask} {extracted_brain}\")\n",
    "print(f\">> COMPLETED.\")\n"
   ]
  },
  {
   "cell_type": "code",
   "execution_count": 14,
   "metadata": {},
   "outputs": [
    {
     "name": "stdout",
     "output_type": "stream",
     "text": [
      "> Extract the first (B0 volume form the eddy_output to use for the native space registration (this volume is the reference volume for the motion correction and thus everything is aligned to it.\n",
      ">> COMPLETED.\n"
     ]
    }
   ],
   "source": [
    "print('> Extract the first (B0 volume form the eddy_output to use for the native space registration (this volume is the reference volume for the motion correction and thus everything is aligned to it.')\n",
    "for subjFolder in subjFoldersDTI:\n",
    "    for time in ['before', 'after']:\n",
    "        fileToCreate = f\"{subjFolder}_first_processed_B0_{time}.nii.gz\"\n",
    "        if not os.path.exists(os.path.join(dti_path, subjFolder, 'reg', fileToCreate)):\n",
    "            print(f\"fslroi {os.path.join(preproc_path, subjFolder, f'eddy_unwarped_images_{subjFolder}_{time}.nii.gz')} {os.path.join(dti_path, subjFolder, 'reg', fileToCreate)} 0 1\")\n",
    "            os.system(f\"fslroi {os.path.join(preproc_path, subjFolder, f'eddy_unwarped_images_{subjFolder}_{time}.nii.gz')} {os.path.join(dti_path, subjFolder, 'reg', fileToCreate)} 0 1\")\n",
    "\n",
    "print(f\">> COMPLETED.\")"
   ]
  },
  {
   "cell_type": "markdown",
   "metadata": {},
   "source": [
    "#### Register the first (processed) B0 to the preprocessed T1w in native space (using epi_reg)"
   ]
  },
  {
   "cell_type": "markdown",
   "metadata": {},
   "source": [
    "This includes:\n",
    "1) using epi_reg on a B0 imgae to the native T1 space.\n",
    "2) register the T1w to MNI [by running flirt and then fnirt]. * note that fnirt runs on the secnd cell as flirt need to be completed first"
   ]
  },
  {
   "cell_type": "code",
   "execution_count": 15,
   "metadata": {},
   "outputs": [
    {
     "name": "stdout",
     "output_type": "stream",
     "text": [
      "> Execute EPI_REG (create launch files and run them)\n",
      ">> COMPLETED.\n"
     ]
    }
   ],
   "source": [
    "print('> Execute EPI_REG (create launch files and run them)')\n",
    "for subjFolder in subjFoldersDTI:\n",
    "    for time in ['before', 'after']:\n",
    "        if not os.path.exists(os.path.join(dti_path, subjFolder, 'reg', f'{subjFolder}_first_processed_B0_reg_to_native_T1_{time}.nii.gz')):\n",
    "            launch_file_EPI_TO_REG = os.path.join(launch_files_path, 'EPI_REG_' + subjFolder + '_' + time + '_launch.txt')\n",
    "            print(\n",
    "                f\"epi_reg -v --epi={os.path.join(dti_path, subjFolder, 'reg', f'{subjFolder}_first_processed_B0_{time}.nii.gz')} \\\\\\n\\\n",
    "                --t1={os.path.join(dti_path, subjFolder, 'reg', f'{subjFolder}_desc-preproc_T1w.nii.gz')} \\\\\\n\\\n",
    "                --t1brain={os.path.join(dti_path, subjFolder, 'reg', f'{subjFolder}_desc-preproc_T1w_brain.nii.gz')} \\\\\\n\\\n",
    "                --out={os.path.join(dti_path, subjFolder, 'reg', f'{subjFolder}_first_processed_B0_reg_to_native_T1_{time}')}\\n\"\n",
    "                #I removed this from the command (letting it create WM_seg on its own): --wmseg={os.path.join(dti_path, subjFolder, 'reg', f'{subjFolder}_label-WM_probseg.nii.gz')} \\\\\\n\\\n",
    "            )\n",
    "            epi_reg_command_to_run = f\"epi_reg -v --epi={os.path.join(dti_path, subjFolder, 'reg', f'{subjFolder}_first_processed_B0_{time}.nii.gz')} --t1={os.path.join(dti_path, subjFolder, 'reg', f'{subjFolder}_desc-preproc_T1w.nii.gz')} --t1brain={os.path.join(dti_path, subjFolder, 'reg', f'{subjFolder}_desc-preproc_T1w_brain.nii.gz')} --out={os.path.join(dti_path, subjFolder, 'reg', f'{subjFolder}_first_processed_B0_reg_to_native_T1_{time}')}\\n\"\n",
    "            #I removed this from the command (letting it create WM_seg on its own): --wmseg={os.path.join(dti_path, subjFolder, 'reg', f'{subjFolder}_label-WM_probseg.nii.gz')} \\\\\\n\\\n",
    "    \n",
    "            with open(launch_file_EPI_TO_REG, 'w') as f:\n",
    "                 f.write(epi_reg_command_to_run)\n",
    "            os.system(f\"launch -s {launch_file_EPI_TO_REG} -j schonberglab -p {n_cores_TOPUP} -r inf\")    \n",
    "\n",
    "print(f\">> COMPLETED.\")\n",
    "\n"
   ]
  },
  {
   "cell_type": "markdown",
   "metadata": {},
   "source": [
    "#### Apply all transofrmation to take all the relevant maps to a common space (MNI)"
   ]
  },
  {
   "cell_type": "code",
   "execution_count": 18,
   "metadata": {},
   "outputs": [],
   "source": [
    "c3d_affine_tool_command = '/export2/DATA/HIS/HIS_server/norm_tools/c3d_affine_tool'\n",
    "antsApplyTransforms_command = '/export2/DATA/HIS/HIS_server/norm_tools/antsApplyTransforms'\n",
    "bids_deriv_path = '/export2/DATA/HIS/HIS_server/BIDS/derivatives/fmriprep'"
   ]
  },
  {
   "cell_type": "code",
   "execution_count": 19,
   "metadata": {},
   "outputs": [
    {
     "name": "stdout",
     "output_type": "stream",
     "text": [
      "> Apply the transformation on the MD and FA maps\n",
      "> COMPLETED\n"
     ]
    }
   ],
   "source": [
    "print('> Apply the transformation on the MD and FA maps')\n",
    "for subjFolder in subjFoldersDTI:\n",
    "    for time in ['before', 'after']:\n",
    "        if not os.path.exists(f\"{os.path.join(dti_path, subjFolder, 'reg', f'{subjFolder}_first_processed_B0_reg_to_native_T1_{time}_ANTs-format.txt')}\"):\n",
    "            print(f\"{c3d_affine_tool_command} -ref {os.path.join(dti_path, subjFolder, 'reg', f'{subjFolder}_desc-preproc_T1w.nii.gz')} -src {os.path.join(dti_path, subjFolder, 'reg', f'{subjFolder}_first_processed_B0_{time}.nii.gz')} {os.path.join(dti_path, subjFolder, 'reg', f'{subjFolder}_first_processed_B0_reg_to_native_T1_{time}.mat')} -fsl2ras -oitk {os.path.join(dti_path, subjFolder, 'reg', f'{subjFolder}_first_processed_B0_reg_to_native_T1_{time}_ANTs-format.txt')}\")\n",
    "            os.system(f\"{c3d_affine_tool_command} -ref {os.path.join(dti_path, subjFolder, 'reg', f'{subjFolder}_desc-preproc_T1w.nii.gz')} -src {os.path.join(dti_path, subjFolder, 'reg', f'{subjFolder}_first_processed_B0_{time}.nii.gz')} {os.path.join(dti_path, subjFolder, 'reg', f'{subjFolder}_first_processed_B0_reg_to_native_T1_{time}.mat')} -fsl2ras -oitk {os.path.join(dti_path, subjFolder, 'reg', f'{subjFolder}_first_processed_B0_reg_to_native_T1_{time}_ANTs-format.txt')}\")\n",
    "print('> COMPLETED')"
   ]
  },
  {
   "cell_type": "code",
   "execution_count": 20,
   "metadata": {},
   "outputs": [
    {
     "ename": "NameError",
     "evalue": "name 'map_type' is not defined",
     "output_type": "error",
     "traceback": [
      "\u001b[0;31m---------------------------------------------------------------------------\u001b[0m",
      "\u001b[0;31mNameError\u001b[0m                                 Traceback (most recent call last)",
      "\u001b[0;32m<ipython-input-20-8c5de28db483>\u001b[0m in \u001b[0;36m<module>\u001b[0;34m\u001b[0m\n\u001b[0;32m----> 1\u001b[0;31m \u001b[0;34mf\"{antsApplyTransforms_command} -i {os.path.join(dti_path, subjFolder, f'dti_{subjFolder}_{time}_{map_type}.nii.gz')} -r ${{FSLDIR}}/data/standard/MNI152_T1_2mm.nii.gz -o {os.path.join(stats_path, map_type, f'{subjFolder}_in-MNI_{map_type}_{time}')} -t {os.path.join(bids_deriv_path, subjFolder, 'anat', f'{subjFolder}_from-T1w_to-MNI152NLin2009cAsym_mode-image_xfm.h5')} -t {os.path.join(dti_path, subjFolder, 'reg', f'{subjFolder}_first_processed_B0_reg_to_native_T1_{time}_ANTs-format.txt')}\"\u001b[0m\u001b[0;34m\u001b[0m\u001b[0;34m\u001b[0m\u001b[0m\n\u001b[0m",
      "\u001b[0;31mNameError\u001b[0m: name 'map_type' is not defined"
     ]
    }
   ],
   "source": [
    "f\"{antsApplyTransforms_command} -i {os.path.join(dti_path, subjFolder, f'dti_{subjFolder}_{time}_{map_type}.nii.gz')} -r ${{FSLDIR}}/data/standard/MNI152_T1_2mm.nii.gz -o {os.path.join(stats_path, map_type, f'{subjFolder}_in-MNI_{map_type}_{time}')} -t {os.path.join(bids_deriv_path, subjFolder, 'anat', f'{subjFolder}_from-T1w_to-MNI152NLin2009cAsym_mode-image_xfm.h5')} -t {os.path.join(dti_path, subjFolder, 'reg', f'{subjFolder}_first_processed_B0_reg_to_native_T1_{time}_ANTs-format.txt')}\"\n"
   ]
  },
  {
   "cell_type": "code",
   "execution_count": 24,
   "metadata": {},
   "outputs": [
    {
     "name": "stdout",
     "output_type": "stream",
     "text": [
      "> Apply the transformation on the MD and FA maps\n",
      "> COMPLETED\n"
     ]
    }
   ],
   "source": [
    "print('> Apply the transformation on the MD and FA maps')\n",
    "for subjFolder in subjFoldersDTI:\n",
    "    for time in ['before', 'after']:\n",
    "        if not os.path.exists(os.path.join(stats_path, 'MD', f'{subjFolder}_in-MNI_MD_{time}.nii.gz')) \\\n",
    "        or not os.path.exists(os.path.join(stats_path, 'FA', f'{subjFolder}_in-MNI_FA_{time}.nii.gz')):\n",
    "            for map_type in ['MD','FA']:\n",
    "                print(f\"{antsApplyTransforms_command} -i {os.path.join(dti_path, subjFolder, f'dti_{subjFolder}_{time}_{map_type}.nii.gz')} -r ${{FSLDIR}}/data/standard/MNI152_T1_2mm.nii.gz -o {os.path.join(stats_path, map_type, f'{subjFolder}_in-MNI_{map_type}_{time}.nii.gz')} -t {os.path.join(bids_deriv_path, subjFolder, 'anat', f'{subjFolder}_from-T1w_to-MNI152NLin2009cAsym_mode-image_xfm.h5')} -t {os.path.join(dti_path, subjFolder, 'reg', f'{subjFolder}_first_processed_B0_reg_to_native_T1_{time}_ANTs-format.txt')}\")\n",
    "                os.system(f\"{antsApplyTransforms_command} -i {os.path.join(dti_path, subjFolder, f'dti_{subjFolder}_{time}_{map_type}.nii.gz')} -r ${{FSLDIR}}/data/standard/MNI152_T1_2mm.nii.gz -o {os.path.join(stats_path, map_type, f'{subjFolder}_in-MNI_{map_type}_{time}.nii.gz')} -t {os.path.join(bids_deriv_path, subjFolder, 'anat', f'{subjFolder}_from-T1w_to-MNI152NLin2009cAsym_mode-image_xfm.h5')} -t {os.path.join(dti_path, subjFolder, 'reg', f'{subjFolder}_first_processed_B0_reg_to_native_T1_{time}_ANTs-format.txt')}\")\n",
    "print('> COMPLETED')"
   ]
  },
  {
   "cell_type": "code",
   "execution_count": 26,
   "metadata": {},
   "outputs": [],
   "source": [
    "map_type='MD'\n",
    "time='before'"
   ]
  },
  {
   "cell_type": "code",
   "execution_count": 27,
   "metadata": {},
   "outputs": [
    {
     "data": {
      "text/plain": [
       "'/export2/DATA/HIS/HIS_server/analysis/dwi_data/stats_alt_reg/MD/sub-285_in-MNI_MD_before.nii.gz'"
      ]
     },
     "execution_count": 27,
     "metadata": {},
     "output_type": "execute_result"
    }
   ],
   "source": [
    "f\"{os.path.join(stats_path, map_type, f'{subjFolder}_in-MNI_{map_type}_{time}.nii.gz')}\""
   ]
  },
  {
   "cell_type": "code",
   "execution_count": 28,
   "metadata": {},
   "outputs": [
    {
     "data": {
      "text/plain": [
       "{'/export2/DATA/HIS/HIS_server/analysis/dwi_data/dti/sub-285/dti_sub-285_before_MD.nii.gz'}"
      ]
     },
     "execution_count": 28,
     "metadata": {},
     "output_type": "execute_result"
    }
   ],
   "source": [
    "{os.path.join(dti_path, subjFolder, f'dti_{subjFolder}_{time}_{map_type}.nii.gz')}"
   ]
  },
  {
   "cell_type": "code",
   "execution_count": 25,
   "metadata": {},
   "outputs": [],
   "source": [
    "# # repeat for the T1and B0 files for QA:\n",
    "# print('> Apply the transformation on the T1 and B0 maps')\n",
    "# # B0:\n",
    "# for subjFolder in subjFoldersDTI:\n",
    "#     for time in ['before', 'after']:\n",
    "#         launch_file_APPLYWARP = os.path.join(launch_files_path, 'APPLYWARP_' + subjFolder + '_' + time + '_B0_launch.txt')\n",
    "\n",
    "#         with open(launch_file_APPLYWARP, 'w') as f:\n",
    "#             applywarp_command_to_run = f\"applywarp -v --ref=${{FSLDIR}}/data/standard/MNI152_T1_2mm --in={os.path.join(dti_path, subjFolder, 'reg',f'{subjFolder}_first_processed_B0_{time}.nii.gz')} --warp={os.path.join(dti_path, subjFolder, 'reg', f'{subjFolder}_nonlinear_T1_transf')} --premat={os.path.join(dti_path, subjFolder, 'reg', f'{subjFolder}_first_processed_B0_reg_to_native_T1_{time}.mat')} --out={os.path.join(stats_path, map_type, f'{subjFolder}_first_B0_in-MNI_{time}')}\\n\"\n",
    "#             print(applywarp_command_to_run)\n",
    "#             f.write(applywarp_command_to_run)\n",
    "#         os.system(f\"launch -s {launch_file_APPLYWARP} -j schonberglab -p {n_cores_TOPUP} -r inf\")    \n",
    "\n",
    "# # T1:\n",
    "# for subjFolder in subjFoldersDTI:\n",
    "#     launch_file_APPLYWARP = os.path.join(launch_files_path, 'APPLYWARP_' + subjFolder + '_T1_launch.txt')\n",
    "#     with open(launch_file_APPLYWARP, 'w') as f:\n",
    "#         applywarp_command_to_run = f\"applywarp -v --ref=${{FSLDIR}}/data/standard/MNI152_T1_2mm --in={os.path.join(dti_path, subjFolder, 'reg',f'{subjFolder}_desc-preproc_T1w.nii.gz')} --warp={os.path.join(dti_path, subjFolder, 'reg', f'{subjFolder}_nonlinear_T1_transf')} --out={os.path.join(stats_path, map_type, f'{subjFolder}_T1_in-MNI')}\\n\"\n",
    "#         print(applywarp_command_to_run)\n",
    "#         f.write(applywarp_command_to_run)\n",
    "#     os.system(f\"launch -s {launch_file_APPLYWARP} -j schonberglab -p {n_cores_TOPUP} -r inf\")    \n"
   ]
  },
  {
   "cell_type": "markdown",
   "metadata": {},
   "source": [
    "# *-*-*-*-*-*-*-*-*-*-*-*-*-*-*-*-*-*-*-*-*-*-*-*-*-*"
   ]
  },
  {
   "cell_type": "markdown",
   "metadata": {},
   "source": [
    "# Spatial smoothing"
   ]
  },
  {
   "cell_type": "markdown",
   "metadata": {},
   "source": [
    "Spatial smoothing with 8-mm FWHM Gaussian kernels is carried out using:\n",
    "\n",
    "\n",
    "fslmaths input -s 3.397287 output [8mm FWHM]\n",
    "\n",
    "fslmaths input -s 2.547965 output [6mm FWHM]\n",
    "\n",
    "See https://brainder.org/2011/08/20/gaussian-kernels-convert-fwhm-to-sigma/ for the conversion formula between the gaussian sigma (taken as the smoothing parameter by fslmaths) and FWHM."
   ]
  },
  {
   "cell_type": "code",
   "execution_count": 31,
   "metadata": {},
   "outputs": [
    {
     "name": "stdout",
     "output_type": "stream",
     "text": [
      "> Apply the spatial smoothing on the MD and FA maps\n",
      "fslmaths /export2/DATA/HIS/HIS_server/analysis/dwi_data/stats_alt_reg/MD/sub-103_in-MNI_MD_before.nii.gz -s 2.547965 /export2/DATA/HIS/HIS_server/analysis/dwi_data/stats_alt_reg/MD/sub-103_in-MNI_ss6mm_MD_before.nii.gz\n",
      "fslmaths /export2/DATA/HIS/HIS_server/analysis/dwi_data/stats_alt_reg/FA/sub-103_in-MNI_FA_before.nii.gz -s 2.547965 /export2/DATA/HIS/HIS_server/analysis/dwi_data/stats_alt_reg/FA/sub-103_in-MNI_ss6mm_FA_before.nii.gz\n",
      "fslmaths /export2/DATA/HIS/HIS_server/analysis/dwi_data/stats_alt_reg/MD/sub-103_in-MNI_MD_after.nii.gz -s 2.547965 /export2/DATA/HIS/HIS_server/analysis/dwi_data/stats_alt_reg/MD/sub-103_in-MNI_ss6mm_MD_after.nii.gz\n",
      "fslmaths /export2/DATA/HIS/HIS_server/analysis/dwi_data/stats_alt_reg/FA/sub-103_in-MNI_FA_after.nii.gz -s 2.547965 /export2/DATA/HIS/HIS_server/analysis/dwi_data/stats_alt_reg/FA/sub-103_in-MNI_ss6mm_FA_after.nii.gz\n",
      "fslmaths /export2/DATA/HIS/HIS_server/analysis/dwi_data/stats_alt_reg/MD/sub-104_in-MNI_MD_before.nii.gz -s 2.547965 /export2/DATA/HIS/HIS_server/analysis/dwi_data/stats_alt_reg/MD/sub-104_in-MNI_ss6mm_MD_before.nii.gz\n",
      "fslmaths /export2/DATA/HIS/HIS_server/analysis/dwi_data/stats_alt_reg/FA/sub-104_in-MNI_FA_before.nii.gz -s 2.547965 /export2/DATA/HIS/HIS_server/analysis/dwi_data/stats_alt_reg/FA/sub-104_in-MNI_ss6mm_FA_before.nii.gz\n",
      "fslmaths /export2/DATA/HIS/HIS_server/analysis/dwi_data/stats_alt_reg/MD/sub-104_in-MNI_MD_after.nii.gz -s 2.547965 /export2/DATA/HIS/HIS_server/analysis/dwi_data/stats_alt_reg/MD/sub-104_in-MNI_ss6mm_MD_after.nii.gz\n",
      "fslmaths /export2/DATA/HIS/HIS_server/analysis/dwi_data/stats_alt_reg/FA/sub-104_in-MNI_FA_after.nii.gz -s 2.547965 /export2/DATA/HIS/HIS_server/analysis/dwi_data/stats_alt_reg/FA/sub-104_in-MNI_ss6mm_FA_after.nii.gz\n",
      "fslmaths /export2/DATA/HIS/HIS_server/analysis/dwi_data/stats_alt_reg/MD/sub-106_in-MNI_MD_before.nii.gz -s 2.547965 /export2/DATA/HIS/HIS_server/analysis/dwi_data/stats_alt_reg/MD/sub-106_in-MNI_ss6mm_MD_before.nii.gz\n",
      "fslmaths /export2/DATA/HIS/HIS_server/analysis/dwi_data/stats_alt_reg/FA/sub-106_in-MNI_FA_before.nii.gz -s 2.547965 /export2/DATA/HIS/HIS_server/analysis/dwi_data/stats_alt_reg/FA/sub-106_in-MNI_ss6mm_FA_before.nii.gz\n",
      "fslmaths /export2/DATA/HIS/HIS_server/analysis/dwi_data/stats_alt_reg/MD/sub-106_in-MNI_MD_after.nii.gz -s 2.547965 /export2/DATA/HIS/HIS_server/analysis/dwi_data/stats_alt_reg/MD/sub-106_in-MNI_ss6mm_MD_after.nii.gz\n",
      "fslmaths /export2/DATA/HIS/HIS_server/analysis/dwi_data/stats_alt_reg/FA/sub-106_in-MNI_FA_after.nii.gz -s 2.547965 /export2/DATA/HIS/HIS_server/analysis/dwi_data/stats_alt_reg/FA/sub-106_in-MNI_ss6mm_FA_after.nii.gz\n",
      "fslmaths /export2/DATA/HIS/HIS_server/analysis/dwi_data/stats_alt_reg/MD/sub-107_in-MNI_MD_before.nii.gz -s 2.547965 /export2/DATA/HIS/HIS_server/analysis/dwi_data/stats_alt_reg/MD/sub-107_in-MNI_ss6mm_MD_before.nii.gz\n",
      "fslmaths /export2/DATA/HIS/HIS_server/analysis/dwi_data/stats_alt_reg/FA/sub-107_in-MNI_FA_before.nii.gz -s 2.547965 /export2/DATA/HIS/HIS_server/analysis/dwi_data/stats_alt_reg/FA/sub-107_in-MNI_ss6mm_FA_before.nii.gz\n",
      "fslmaths /export2/DATA/HIS/HIS_server/analysis/dwi_data/stats_alt_reg/MD/sub-107_in-MNI_MD_after.nii.gz -s 2.547965 /export2/DATA/HIS/HIS_server/analysis/dwi_data/stats_alt_reg/MD/sub-107_in-MNI_ss6mm_MD_after.nii.gz\n",
      "fslmaths /export2/DATA/HIS/HIS_server/analysis/dwi_data/stats_alt_reg/FA/sub-107_in-MNI_FA_after.nii.gz -s 2.547965 /export2/DATA/HIS/HIS_server/analysis/dwi_data/stats_alt_reg/FA/sub-107_in-MNI_ss6mm_FA_after.nii.gz\n",
      "fslmaths /export2/DATA/HIS/HIS_server/analysis/dwi_data/stats_alt_reg/MD/sub-108_in-MNI_MD_before.nii.gz -s 2.547965 /export2/DATA/HIS/HIS_server/analysis/dwi_data/stats_alt_reg/MD/sub-108_in-MNI_ss6mm_MD_before.nii.gz\n",
      "fslmaths /export2/DATA/HIS/HIS_server/analysis/dwi_data/stats_alt_reg/FA/sub-108_in-MNI_FA_before.nii.gz -s 2.547965 /export2/DATA/HIS/HIS_server/analysis/dwi_data/stats_alt_reg/FA/sub-108_in-MNI_ss6mm_FA_before.nii.gz\n",
      "fslmaths /export2/DATA/HIS/HIS_server/analysis/dwi_data/stats_alt_reg/MD/sub-108_in-MNI_MD_after.nii.gz -s 2.547965 /export2/DATA/HIS/HIS_server/analysis/dwi_data/stats_alt_reg/MD/sub-108_in-MNI_ss6mm_MD_after.nii.gz\n",
      "fslmaths /export2/DATA/HIS/HIS_server/analysis/dwi_data/stats_alt_reg/FA/sub-108_in-MNI_FA_after.nii.gz -s 2.547965 /export2/DATA/HIS/HIS_server/analysis/dwi_data/stats_alt_reg/FA/sub-108_in-MNI_ss6mm_FA_after.nii.gz\n",
      "fslmaths /export2/DATA/HIS/HIS_server/analysis/dwi_data/stats_alt_reg/MD/sub-110_in-MNI_MD_before.nii.gz -s 2.547965 /export2/DATA/HIS/HIS_server/analysis/dwi_data/stats_alt_reg/MD/sub-110_in-MNI_ss6mm_MD_before.nii.gz\n",
      "fslmaths /export2/DATA/HIS/HIS_server/analysis/dwi_data/stats_alt_reg/FA/sub-110_in-MNI_FA_before.nii.gz -s 2.547965 /export2/DATA/HIS/HIS_server/analysis/dwi_data/stats_alt_reg/FA/sub-110_in-MNI_ss6mm_FA_before.nii.gz\n",
      "fslmaths /export2/DATA/HIS/HIS_server/analysis/dwi_data/stats_alt_reg/MD/sub-110_in-MNI_MD_after.nii.gz -s 2.547965 /export2/DATA/HIS/HIS_server/analysis/dwi_data/stats_alt_reg/MD/sub-110_in-MNI_ss6mm_MD_after.nii.gz\n",
      "fslmaths /export2/DATA/HIS/HIS_server/analysis/dwi_data/stats_alt_reg/FA/sub-110_in-MNI_FA_after.nii.gz -s 2.547965 /export2/DATA/HIS/HIS_server/analysis/dwi_data/stats_alt_reg/FA/sub-110_in-MNI_ss6mm_FA_after.nii.gz\n",
      "fslmaths /export2/DATA/HIS/HIS_server/analysis/dwi_data/stats_alt_reg/MD/sub-113_in-MNI_MD_before.nii.gz -s 2.547965 /export2/DATA/HIS/HIS_server/analysis/dwi_data/stats_alt_reg/MD/sub-113_in-MNI_ss6mm_MD_before.nii.gz\n",
      "fslmaths /export2/DATA/HIS/HIS_server/analysis/dwi_data/stats_alt_reg/FA/sub-113_in-MNI_FA_before.nii.gz -s 2.547965 /export2/DATA/HIS/HIS_server/analysis/dwi_data/stats_alt_reg/FA/sub-113_in-MNI_ss6mm_FA_before.nii.gz\n",
      "fslmaths /export2/DATA/HIS/HIS_server/analysis/dwi_data/stats_alt_reg/MD/sub-113_in-MNI_MD_after.nii.gz -s 2.547965 /export2/DATA/HIS/HIS_server/analysis/dwi_data/stats_alt_reg/MD/sub-113_in-MNI_ss6mm_MD_after.nii.gz\n",
      "fslmaths /export2/DATA/HIS/HIS_server/analysis/dwi_data/stats_alt_reg/FA/sub-113_in-MNI_FA_after.nii.gz -s 2.547965 /export2/DATA/HIS/HIS_server/analysis/dwi_data/stats_alt_reg/FA/sub-113_in-MNI_ss6mm_FA_after.nii.gz\n",
      "fslmaths /export2/DATA/HIS/HIS_server/analysis/dwi_data/stats_alt_reg/MD/sub-114_in-MNI_MD_before.nii.gz -s 2.547965 /export2/DATA/HIS/HIS_server/analysis/dwi_data/stats_alt_reg/MD/sub-114_in-MNI_ss6mm_MD_before.nii.gz\n",
      "fslmaths /export2/DATA/HIS/HIS_server/analysis/dwi_data/stats_alt_reg/FA/sub-114_in-MNI_FA_before.nii.gz -s 2.547965 /export2/DATA/HIS/HIS_server/analysis/dwi_data/stats_alt_reg/FA/sub-114_in-MNI_ss6mm_FA_before.nii.gz\n",
      "fslmaths /export2/DATA/HIS/HIS_server/analysis/dwi_data/stats_alt_reg/MD/sub-114_in-MNI_MD_after.nii.gz -s 2.547965 /export2/DATA/HIS/HIS_server/analysis/dwi_data/stats_alt_reg/MD/sub-114_in-MNI_ss6mm_MD_after.nii.gz\n",
      "fslmaths /export2/DATA/HIS/HIS_server/analysis/dwi_data/stats_alt_reg/FA/sub-114_in-MNI_FA_after.nii.gz -s 2.547965 /export2/DATA/HIS/HIS_server/analysis/dwi_data/stats_alt_reg/FA/sub-114_in-MNI_ss6mm_FA_after.nii.gz\n",
      "fslmaths /export2/DATA/HIS/HIS_server/analysis/dwi_data/stats_alt_reg/MD/sub-115_in-MNI_MD_before.nii.gz -s 2.547965 /export2/DATA/HIS/HIS_server/analysis/dwi_data/stats_alt_reg/MD/sub-115_in-MNI_ss6mm_MD_before.nii.gz\n",
      "fslmaths /export2/DATA/HIS/HIS_server/analysis/dwi_data/stats_alt_reg/FA/sub-115_in-MNI_FA_before.nii.gz -s 2.547965 /export2/DATA/HIS/HIS_server/analysis/dwi_data/stats_alt_reg/FA/sub-115_in-MNI_ss6mm_FA_before.nii.gz\n",
      "fslmaths /export2/DATA/HIS/HIS_server/analysis/dwi_data/stats_alt_reg/MD/sub-115_in-MNI_MD_after.nii.gz -s 2.547965 /export2/DATA/HIS/HIS_server/analysis/dwi_data/stats_alt_reg/MD/sub-115_in-MNI_ss6mm_MD_after.nii.gz\n",
      "fslmaths /export2/DATA/HIS/HIS_server/analysis/dwi_data/stats_alt_reg/FA/sub-115_in-MNI_FA_after.nii.gz -s 2.547965 /export2/DATA/HIS/HIS_server/analysis/dwi_data/stats_alt_reg/FA/sub-115_in-MNI_ss6mm_FA_after.nii.gz\n",
      "fslmaths /export2/DATA/HIS/HIS_server/analysis/dwi_data/stats_alt_reg/MD/sub-117_in-MNI_MD_before.nii.gz -s 2.547965 /export2/DATA/HIS/HIS_server/analysis/dwi_data/stats_alt_reg/MD/sub-117_in-MNI_ss6mm_MD_before.nii.gz\n",
      "fslmaths /export2/DATA/HIS/HIS_server/analysis/dwi_data/stats_alt_reg/FA/sub-117_in-MNI_FA_before.nii.gz -s 2.547965 /export2/DATA/HIS/HIS_server/analysis/dwi_data/stats_alt_reg/FA/sub-117_in-MNI_ss6mm_FA_before.nii.gz\n",
      "fslmaths /export2/DATA/HIS/HIS_server/analysis/dwi_data/stats_alt_reg/MD/sub-117_in-MNI_MD_after.nii.gz -s 2.547965 /export2/DATA/HIS/HIS_server/analysis/dwi_data/stats_alt_reg/MD/sub-117_in-MNI_ss6mm_MD_after.nii.gz\n",
      "fslmaths /export2/DATA/HIS/HIS_server/analysis/dwi_data/stats_alt_reg/FA/sub-117_in-MNI_FA_after.nii.gz -s 2.547965 /export2/DATA/HIS/HIS_server/analysis/dwi_data/stats_alt_reg/FA/sub-117_in-MNI_ss6mm_FA_after.nii.gz\n",
      "fslmaths /export2/DATA/HIS/HIS_server/analysis/dwi_data/stats_alt_reg/MD/sub-118_in-MNI_MD_before.nii.gz -s 2.547965 /export2/DATA/HIS/HIS_server/analysis/dwi_data/stats_alt_reg/MD/sub-118_in-MNI_ss6mm_MD_before.nii.gz\n",
      "fslmaths /export2/DATA/HIS/HIS_server/analysis/dwi_data/stats_alt_reg/FA/sub-118_in-MNI_FA_before.nii.gz -s 2.547965 /export2/DATA/HIS/HIS_server/analysis/dwi_data/stats_alt_reg/FA/sub-118_in-MNI_ss6mm_FA_before.nii.gz\n",
      "fslmaths /export2/DATA/HIS/HIS_server/analysis/dwi_data/stats_alt_reg/MD/sub-118_in-MNI_MD_after.nii.gz -s 2.547965 /export2/DATA/HIS/HIS_server/analysis/dwi_data/stats_alt_reg/MD/sub-118_in-MNI_ss6mm_MD_after.nii.gz\n",
      "fslmaths /export2/DATA/HIS/HIS_server/analysis/dwi_data/stats_alt_reg/FA/sub-118_in-MNI_FA_after.nii.gz -s 2.547965 /export2/DATA/HIS/HIS_server/analysis/dwi_data/stats_alt_reg/FA/sub-118_in-MNI_ss6mm_FA_after.nii.gz\n",
      "fslmaths /export2/DATA/HIS/HIS_server/analysis/dwi_data/stats_alt_reg/MD/sub-119_in-MNI_MD_before.nii.gz -s 2.547965 /export2/DATA/HIS/HIS_server/analysis/dwi_data/stats_alt_reg/MD/sub-119_in-MNI_ss6mm_MD_before.nii.gz\n",
      "fslmaths /export2/DATA/HIS/HIS_server/analysis/dwi_data/stats_alt_reg/FA/sub-119_in-MNI_FA_before.nii.gz -s 2.547965 /export2/DATA/HIS/HIS_server/analysis/dwi_data/stats_alt_reg/FA/sub-119_in-MNI_ss6mm_FA_before.nii.gz\n",
      "fslmaths /export2/DATA/HIS/HIS_server/analysis/dwi_data/stats_alt_reg/MD/sub-119_in-MNI_MD_after.nii.gz -s 2.547965 /export2/DATA/HIS/HIS_server/analysis/dwi_data/stats_alt_reg/MD/sub-119_in-MNI_ss6mm_MD_after.nii.gz\n",
      "fslmaths /export2/DATA/HIS/HIS_server/analysis/dwi_data/stats_alt_reg/FA/sub-119_in-MNI_FA_after.nii.gz -s 2.547965 /export2/DATA/HIS/HIS_server/analysis/dwi_data/stats_alt_reg/FA/sub-119_in-MNI_ss6mm_FA_after.nii.gz\n",
      "fslmaths /export2/DATA/HIS/HIS_server/analysis/dwi_data/stats_alt_reg/MD/sub-120_in-MNI_MD_before.nii.gz -s 2.547965 /export2/DATA/HIS/HIS_server/analysis/dwi_data/stats_alt_reg/MD/sub-120_in-MNI_ss6mm_MD_before.nii.gz\n",
      "fslmaths /export2/DATA/HIS/HIS_server/analysis/dwi_data/stats_alt_reg/FA/sub-120_in-MNI_FA_before.nii.gz -s 2.547965 /export2/DATA/HIS/HIS_server/analysis/dwi_data/stats_alt_reg/FA/sub-120_in-MNI_ss6mm_FA_before.nii.gz\n",
      "fslmaths /export2/DATA/HIS/HIS_server/analysis/dwi_data/stats_alt_reg/MD/sub-120_in-MNI_MD_after.nii.gz -s 2.547965 /export2/DATA/HIS/HIS_server/analysis/dwi_data/stats_alt_reg/MD/sub-120_in-MNI_ss6mm_MD_after.nii.gz\n",
      "fslmaths /export2/DATA/HIS/HIS_server/analysis/dwi_data/stats_alt_reg/FA/sub-120_in-MNI_FA_after.nii.gz -s 2.547965 /export2/DATA/HIS/HIS_server/analysis/dwi_data/stats_alt_reg/FA/sub-120_in-MNI_ss6mm_FA_after.nii.gz\n",
      "fslmaths /export2/DATA/HIS/HIS_server/analysis/dwi_data/stats_alt_reg/MD/sub-121_in-MNI_MD_before.nii.gz -s 2.547965 /export2/DATA/HIS/HIS_server/analysis/dwi_data/stats_alt_reg/MD/sub-121_in-MNI_ss6mm_MD_before.nii.gz\n",
      "fslmaths /export2/DATA/HIS/HIS_server/analysis/dwi_data/stats_alt_reg/FA/sub-121_in-MNI_FA_before.nii.gz -s 2.547965 /export2/DATA/HIS/HIS_server/analysis/dwi_data/stats_alt_reg/FA/sub-121_in-MNI_ss6mm_FA_before.nii.gz\n",
      "fslmaths /export2/DATA/HIS/HIS_server/analysis/dwi_data/stats_alt_reg/MD/sub-121_in-MNI_MD_after.nii.gz -s 2.547965 /export2/DATA/HIS/HIS_server/analysis/dwi_data/stats_alt_reg/MD/sub-121_in-MNI_ss6mm_MD_after.nii.gz\n",
      "fslmaths /export2/DATA/HIS/HIS_server/analysis/dwi_data/stats_alt_reg/FA/sub-121_in-MNI_FA_after.nii.gz -s 2.547965 /export2/DATA/HIS/HIS_server/analysis/dwi_data/stats_alt_reg/FA/sub-121_in-MNI_ss6mm_FA_after.nii.gz\n",
      "fslmaths /export2/DATA/HIS/HIS_server/analysis/dwi_data/stats_alt_reg/MD/sub-122_in-MNI_MD_before.nii.gz -s 2.547965 /export2/DATA/HIS/HIS_server/analysis/dwi_data/stats_alt_reg/MD/sub-122_in-MNI_ss6mm_MD_before.nii.gz\n",
      "fslmaths /export2/DATA/HIS/HIS_server/analysis/dwi_data/stats_alt_reg/FA/sub-122_in-MNI_FA_before.nii.gz -s 2.547965 /export2/DATA/HIS/HIS_server/analysis/dwi_data/stats_alt_reg/FA/sub-122_in-MNI_ss6mm_FA_before.nii.gz\n",
      "fslmaths /export2/DATA/HIS/HIS_server/analysis/dwi_data/stats_alt_reg/MD/sub-122_in-MNI_MD_after.nii.gz -s 2.547965 /export2/DATA/HIS/HIS_server/analysis/dwi_data/stats_alt_reg/MD/sub-122_in-MNI_ss6mm_MD_after.nii.gz\n",
      "fslmaths /export2/DATA/HIS/HIS_server/analysis/dwi_data/stats_alt_reg/FA/sub-122_in-MNI_FA_after.nii.gz -s 2.547965 /export2/DATA/HIS/HIS_server/analysis/dwi_data/stats_alt_reg/FA/sub-122_in-MNI_ss6mm_FA_after.nii.gz\n",
      "fslmaths /export2/DATA/HIS/HIS_server/analysis/dwi_data/stats_alt_reg/MD/sub-124_in-MNI_MD_before.nii.gz -s 2.547965 /export2/DATA/HIS/HIS_server/analysis/dwi_data/stats_alt_reg/MD/sub-124_in-MNI_ss6mm_MD_before.nii.gz\n",
      "fslmaths /export2/DATA/HIS/HIS_server/analysis/dwi_data/stats_alt_reg/FA/sub-124_in-MNI_FA_before.nii.gz -s 2.547965 /export2/DATA/HIS/HIS_server/analysis/dwi_data/stats_alt_reg/FA/sub-124_in-MNI_ss6mm_FA_before.nii.gz\n",
      "fslmaths /export2/DATA/HIS/HIS_server/analysis/dwi_data/stats_alt_reg/MD/sub-124_in-MNI_MD_after.nii.gz -s 2.547965 /export2/DATA/HIS/HIS_server/analysis/dwi_data/stats_alt_reg/MD/sub-124_in-MNI_ss6mm_MD_after.nii.gz\n",
      "fslmaths /export2/DATA/HIS/HIS_server/analysis/dwi_data/stats_alt_reg/FA/sub-124_in-MNI_FA_after.nii.gz -s 2.547965 /export2/DATA/HIS/HIS_server/analysis/dwi_data/stats_alt_reg/FA/sub-124_in-MNI_ss6mm_FA_after.nii.gz\n",
      "fslmaths /export2/DATA/HIS/HIS_server/analysis/dwi_data/stats_alt_reg/MD/sub-126_in-MNI_MD_before.nii.gz -s 2.547965 /export2/DATA/HIS/HIS_server/analysis/dwi_data/stats_alt_reg/MD/sub-126_in-MNI_ss6mm_MD_before.nii.gz\n",
      "fslmaths /export2/DATA/HIS/HIS_server/analysis/dwi_data/stats_alt_reg/FA/sub-126_in-MNI_FA_before.nii.gz -s 2.547965 /export2/DATA/HIS/HIS_server/analysis/dwi_data/stats_alt_reg/FA/sub-126_in-MNI_ss6mm_FA_before.nii.gz\n",
      "fslmaths /export2/DATA/HIS/HIS_server/analysis/dwi_data/stats_alt_reg/MD/sub-126_in-MNI_MD_after.nii.gz -s 2.547965 /export2/DATA/HIS/HIS_server/analysis/dwi_data/stats_alt_reg/MD/sub-126_in-MNI_ss6mm_MD_after.nii.gz\n",
      "fslmaths /export2/DATA/HIS/HIS_server/analysis/dwi_data/stats_alt_reg/FA/sub-126_in-MNI_FA_after.nii.gz -s 2.547965 /export2/DATA/HIS/HIS_server/analysis/dwi_data/stats_alt_reg/FA/sub-126_in-MNI_ss6mm_FA_after.nii.gz\n",
      "fslmaths /export2/DATA/HIS/HIS_server/analysis/dwi_data/stats_alt_reg/MD/sub-127_in-MNI_MD_before.nii.gz -s 2.547965 /export2/DATA/HIS/HIS_server/analysis/dwi_data/stats_alt_reg/MD/sub-127_in-MNI_ss6mm_MD_before.nii.gz\n",
      "fslmaths /export2/DATA/HIS/HIS_server/analysis/dwi_data/stats_alt_reg/FA/sub-127_in-MNI_FA_before.nii.gz -s 2.547965 /export2/DATA/HIS/HIS_server/analysis/dwi_data/stats_alt_reg/FA/sub-127_in-MNI_ss6mm_FA_before.nii.gz\n",
      "fslmaths /export2/DATA/HIS/HIS_server/analysis/dwi_data/stats_alt_reg/MD/sub-127_in-MNI_MD_after.nii.gz -s 2.547965 /export2/DATA/HIS/HIS_server/analysis/dwi_data/stats_alt_reg/MD/sub-127_in-MNI_ss6mm_MD_after.nii.gz\n",
      "fslmaths /export2/DATA/HIS/HIS_server/analysis/dwi_data/stats_alt_reg/FA/sub-127_in-MNI_FA_after.nii.gz -s 2.547965 /export2/DATA/HIS/HIS_server/analysis/dwi_data/stats_alt_reg/FA/sub-127_in-MNI_ss6mm_FA_after.nii.gz\n",
      "fslmaths /export2/DATA/HIS/HIS_server/analysis/dwi_data/stats_alt_reg/MD/sub-128_in-MNI_MD_before.nii.gz -s 2.547965 /export2/DATA/HIS/HIS_server/analysis/dwi_data/stats_alt_reg/MD/sub-128_in-MNI_ss6mm_MD_before.nii.gz\n",
      "fslmaths /export2/DATA/HIS/HIS_server/analysis/dwi_data/stats_alt_reg/FA/sub-128_in-MNI_FA_before.nii.gz -s 2.547965 /export2/DATA/HIS/HIS_server/analysis/dwi_data/stats_alt_reg/FA/sub-128_in-MNI_ss6mm_FA_before.nii.gz\n",
      "fslmaths /export2/DATA/HIS/HIS_server/analysis/dwi_data/stats_alt_reg/MD/sub-128_in-MNI_MD_after.nii.gz -s 2.547965 /export2/DATA/HIS/HIS_server/analysis/dwi_data/stats_alt_reg/MD/sub-128_in-MNI_ss6mm_MD_after.nii.gz\n",
      "fslmaths /export2/DATA/HIS/HIS_server/analysis/dwi_data/stats_alt_reg/FA/sub-128_in-MNI_FA_after.nii.gz -s 2.547965 /export2/DATA/HIS/HIS_server/analysis/dwi_data/stats_alt_reg/FA/sub-128_in-MNI_ss6mm_FA_after.nii.gz\n",
      "fslmaths /export2/DATA/HIS/HIS_server/analysis/dwi_data/stats_alt_reg/MD/sub-129_in-MNI_MD_before.nii.gz -s 2.547965 /export2/DATA/HIS/HIS_server/analysis/dwi_data/stats_alt_reg/MD/sub-129_in-MNI_ss6mm_MD_before.nii.gz\n",
      "fslmaths /export2/DATA/HIS/HIS_server/analysis/dwi_data/stats_alt_reg/FA/sub-129_in-MNI_FA_before.nii.gz -s 2.547965 /export2/DATA/HIS/HIS_server/analysis/dwi_data/stats_alt_reg/FA/sub-129_in-MNI_ss6mm_FA_before.nii.gz\n",
      "fslmaths /export2/DATA/HIS/HIS_server/analysis/dwi_data/stats_alt_reg/MD/sub-129_in-MNI_MD_after.nii.gz -s 2.547965 /export2/DATA/HIS/HIS_server/analysis/dwi_data/stats_alt_reg/MD/sub-129_in-MNI_ss6mm_MD_after.nii.gz\n",
      "fslmaths /export2/DATA/HIS/HIS_server/analysis/dwi_data/stats_alt_reg/FA/sub-129_in-MNI_FA_after.nii.gz -s 2.547965 /export2/DATA/HIS/HIS_server/analysis/dwi_data/stats_alt_reg/FA/sub-129_in-MNI_ss6mm_FA_after.nii.gz\n",
      "fslmaths /export2/DATA/HIS/HIS_server/analysis/dwi_data/stats_alt_reg/MD/sub-130_in-MNI_MD_before.nii.gz -s 2.547965 /export2/DATA/HIS/HIS_server/analysis/dwi_data/stats_alt_reg/MD/sub-130_in-MNI_ss6mm_MD_before.nii.gz\n",
      "fslmaths /export2/DATA/HIS/HIS_server/analysis/dwi_data/stats_alt_reg/FA/sub-130_in-MNI_FA_before.nii.gz -s 2.547965 /export2/DATA/HIS/HIS_server/analysis/dwi_data/stats_alt_reg/FA/sub-130_in-MNI_ss6mm_FA_before.nii.gz\n",
      "fslmaths /export2/DATA/HIS/HIS_server/analysis/dwi_data/stats_alt_reg/MD/sub-130_in-MNI_MD_after.nii.gz -s 2.547965 /export2/DATA/HIS/HIS_server/analysis/dwi_data/stats_alt_reg/MD/sub-130_in-MNI_ss6mm_MD_after.nii.gz\n",
      "fslmaths /export2/DATA/HIS/HIS_server/analysis/dwi_data/stats_alt_reg/FA/sub-130_in-MNI_FA_after.nii.gz -s 2.547965 /export2/DATA/HIS/HIS_server/analysis/dwi_data/stats_alt_reg/FA/sub-130_in-MNI_ss6mm_FA_after.nii.gz\n",
      "fslmaths /export2/DATA/HIS/HIS_server/analysis/dwi_data/stats_alt_reg/MD/sub-131_in-MNI_MD_before.nii.gz -s 2.547965 /export2/DATA/HIS/HIS_server/analysis/dwi_data/stats_alt_reg/MD/sub-131_in-MNI_ss6mm_MD_before.nii.gz\n",
      "fslmaths /export2/DATA/HIS/HIS_server/analysis/dwi_data/stats_alt_reg/FA/sub-131_in-MNI_FA_before.nii.gz -s 2.547965 /export2/DATA/HIS/HIS_server/analysis/dwi_data/stats_alt_reg/FA/sub-131_in-MNI_ss6mm_FA_before.nii.gz\n",
      "fslmaths /export2/DATA/HIS/HIS_server/analysis/dwi_data/stats_alt_reg/MD/sub-131_in-MNI_MD_after.nii.gz -s 2.547965 /export2/DATA/HIS/HIS_server/analysis/dwi_data/stats_alt_reg/MD/sub-131_in-MNI_ss6mm_MD_after.nii.gz\n",
      "fslmaths /export2/DATA/HIS/HIS_server/analysis/dwi_data/stats_alt_reg/FA/sub-131_in-MNI_FA_after.nii.gz -s 2.547965 /export2/DATA/HIS/HIS_server/analysis/dwi_data/stats_alt_reg/FA/sub-131_in-MNI_ss6mm_FA_after.nii.gz\n",
      "fslmaths /export2/DATA/HIS/HIS_server/analysis/dwi_data/stats_alt_reg/MD/sub-133_in-MNI_MD_before.nii.gz -s 2.547965 /export2/DATA/HIS/HIS_server/analysis/dwi_data/stats_alt_reg/MD/sub-133_in-MNI_ss6mm_MD_before.nii.gz\n",
      "fslmaths /export2/DATA/HIS/HIS_server/analysis/dwi_data/stats_alt_reg/FA/sub-133_in-MNI_FA_before.nii.gz -s 2.547965 /export2/DATA/HIS/HIS_server/analysis/dwi_data/stats_alt_reg/FA/sub-133_in-MNI_ss6mm_FA_before.nii.gz\n",
      "fslmaths /export2/DATA/HIS/HIS_server/analysis/dwi_data/stats_alt_reg/MD/sub-133_in-MNI_MD_after.nii.gz -s 2.547965 /export2/DATA/HIS/HIS_server/analysis/dwi_data/stats_alt_reg/MD/sub-133_in-MNI_ss6mm_MD_after.nii.gz\n",
      "fslmaths /export2/DATA/HIS/HIS_server/analysis/dwi_data/stats_alt_reg/FA/sub-133_in-MNI_FA_after.nii.gz -s 2.547965 /export2/DATA/HIS/HIS_server/analysis/dwi_data/stats_alt_reg/FA/sub-133_in-MNI_ss6mm_FA_after.nii.gz\n",
      "fslmaths /export2/DATA/HIS/HIS_server/analysis/dwi_data/stats_alt_reg/MD/sub-135_in-MNI_MD_before.nii.gz -s 2.547965 /export2/DATA/HIS/HIS_server/analysis/dwi_data/stats_alt_reg/MD/sub-135_in-MNI_ss6mm_MD_before.nii.gz\n",
      "fslmaths /export2/DATA/HIS/HIS_server/analysis/dwi_data/stats_alt_reg/FA/sub-135_in-MNI_FA_before.nii.gz -s 2.547965 /export2/DATA/HIS/HIS_server/analysis/dwi_data/stats_alt_reg/FA/sub-135_in-MNI_ss6mm_FA_before.nii.gz\n",
      "fslmaths /export2/DATA/HIS/HIS_server/analysis/dwi_data/stats_alt_reg/MD/sub-135_in-MNI_MD_after.nii.gz -s 2.547965 /export2/DATA/HIS/HIS_server/analysis/dwi_data/stats_alt_reg/MD/sub-135_in-MNI_ss6mm_MD_after.nii.gz\n",
      "fslmaths /export2/DATA/HIS/HIS_server/analysis/dwi_data/stats_alt_reg/FA/sub-135_in-MNI_FA_after.nii.gz -s 2.547965 /export2/DATA/HIS/HIS_server/analysis/dwi_data/stats_alt_reg/FA/sub-135_in-MNI_ss6mm_FA_after.nii.gz\n",
      "fslmaths /export2/DATA/HIS/HIS_server/analysis/dwi_data/stats_alt_reg/MD/sub-137_in-MNI_MD_before.nii.gz -s 2.547965 /export2/DATA/HIS/HIS_server/analysis/dwi_data/stats_alt_reg/MD/sub-137_in-MNI_ss6mm_MD_before.nii.gz\n",
      "fslmaths /export2/DATA/HIS/HIS_server/analysis/dwi_data/stats_alt_reg/FA/sub-137_in-MNI_FA_before.nii.gz -s 2.547965 /export2/DATA/HIS/HIS_server/analysis/dwi_data/stats_alt_reg/FA/sub-137_in-MNI_ss6mm_FA_before.nii.gz\n",
      "fslmaths /export2/DATA/HIS/HIS_server/analysis/dwi_data/stats_alt_reg/MD/sub-137_in-MNI_MD_after.nii.gz -s 2.547965 /export2/DATA/HIS/HIS_server/analysis/dwi_data/stats_alt_reg/MD/sub-137_in-MNI_ss6mm_MD_after.nii.gz\n",
      "fslmaths /export2/DATA/HIS/HIS_server/analysis/dwi_data/stats_alt_reg/FA/sub-137_in-MNI_FA_after.nii.gz -s 2.547965 /export2/DATA/HIS/HIS_server/analysis/dwi_data/stats_alt_reg/FA/sub-137_in-MNI_ss6mm_FA_after.nii.gz\n",
      "fslmaths /export2/DATA/HIS/HIS_server/analysis/dwi_data/stats_alt_reg/MD/sub-138_in-MNI_MD_before.nii.gz -s 2.547965 /export2/DATA/HIS/HIS_server/analysis/dwi_data/stats_alt_reg/MD/sub-138_in-MNI_ss6mm_MD_before.nii.gz\n",
      "fslmaths /export2/DATA/HIS/HIS_server/analysis/dwi_data/stats_alt_reg/FA/sub-138_in-MNI_FA_before.nii.gz -s 2.547965 /export2/DATA/HIS/HIS_server/analysis/dwi_data/stats_alt_reg/FA/sub-138_in-MNI_ss6mm_FA_before.nii.gz\n",
      "fslmaths /export2/DATA/HIS/HIS_server/analysis/dwi_data/stats_alt_reg/MD/sub-138_in-MNI_MD_after.nii.gz -s 2.547965 /export2/DATA/HIS/HIS_server/analysis/dwi_data/stats_alt_reg/MD/sub-138_in-MNI_ss6mm_MD_after.nii.gz\n",
      "fslmaths /export2/DATA/HIS/HIS_server/analysis/dwi_data/stats_alt_reg/FA/sub-138_in-MNI_FA_after.nii.gz -s 2.547965 /export2/DATA/HIS/HIS_server/analysis/dwi_data/stats_alt_reg/FA/sub-138_in-MNI_ss6mm_FA_after.nii.gz\n",
      "fslmaths /export2/DATA/HIS/HIS_server/analysis/dwi_data/stats_alt_reg/MD/sub-139_in-MNI_MD_before.nii.gz -s 2.547965 /export2/DATA/HIS/HIS_server/analysis/dwi_data/stats_alt_reg/MD/sub-139_in-MNI_ss6mm_MD_before.nii.gz\n",
      "fslmaths /export2/DATA/HIS/HIS_server/analysis/dwi_data/stats_alt_reg/FA/sub-139_in-MNI_FA_before.nii.gz -s 2.547965 /export2/DATA/HIS/HIS_server/analysis/dwi_data/stats_alt_reg/FA/sub-139_in-MNI_ss6mm_FA_before.nii.gz\n",
      "fslmaths /export2/DATA/HIS/HIS_server/analysis/dwi_data/stats_alt_reg/MD/sub-139_in-MNI_MD_after.nii.gz -s 2.547965 /export2/DATA/HIS/HIS_server/analysis/dwi_data/stats_alt_reg/MD/sub-139_in-MNI_ss6mm_MD_after.nii.gz\n",
      "fslmaths /export2/DATA/HIS/HIS_server/analysis/dwi_data/stats_alt_reg/FA/sub-139_in-MNI_FA_after.nii.gz -s 2.547965 /export2/DATA/HIS/HIS_server/analysis/dwi_data/stats_alt_reg/FA/sub-139_in-MNI_ss6mm_FA_after.nii.gz\n",
      "fslmaths /export2/DATA/HIS/HIS_server/analysis/dwi_data/stats_alt_reg/MD/sub-140_in-MNI_MD_before.nii.gz -s 2.547965 /export2/DATA/HIS/HIS_server/analysis/dwi_data/stats_alt_reg/MD/sub-140_in-MNI_ss6mm_MD_before.nii.gz\n",
      "fslmaths /export2/DATA/HIS/HIS_server/analysis/dwi_data/stats_alt_reg/FA/sub-140_in-MNI_FA_before.nii.gz -s 2.547965 /export2/DATA/HIS/HIS_server/analysis/dwi_data/stats_alt_reg/FA/sub-140_in-MNI_ss6mm_FA_before.nii.gz\n",
      "fslmaths /export2/DATA/HIS/HIS_server/analysis/dwi_data/stats_alt_reg/MD/sub-140_in-MNI_MD_after.nii.gz -s 2.547965 /export2/DATA/HIS/HIS_server/analysis/dwi_data/stats_alt_reg/MD/sub-140_in-MNI_ss6mm_MD_after.nii.gz\n",
      "fslmaths /export2/DATA/HIS/HIS_server/analysis/dwi_data/stats_alt_reg/FA/sub-140_in-MNI_FA_after.nii.gz -s 2.547965 /export2/DATA/HIS/HIS_server/analysis/dwi_data/stats_alt_reg/FA/sub-140_in-MNI_ss6mm_FA_after.nii.gz\n",
      "fslmaths /export2/DATA/HIS/HIS_server/analysis/dwi_data/stats_alt_reg/MD/sub-141_in-MNI_MD_before.nii.gz -s 2.547965 /export2/DATA/HIS/HIS_server/analysis/dwi_data/stats_alt_reg/MD/sub-141_in-MNI_ss6mm_MD_before.nii.gz\n",
      "fslmaths /export2/DATA/HIS/HIS_server/analysis/dwi_data/stats_alt_reg/FA/sub-141_in-MNI_FA_before.nii.gz -s 2.547965 /export2/DATA/HIS/HIS_server/analysis/dwi_data/stats_alt_reg/FA/sub-141_in-MNI_ss6mm_FA_before.nii.gz\n",
      "fslmaths /export2/DATA/HIS/HIS_server/analysis/dwi_data/stats_alt_reg/MD/sub-141_in-MNI_MD_after.nii.gz -s 2.547965 /export2/DATA/HIS/HIS_server/analysis/dwi_data/stats_alt_reg/MD/sub-141_in-MNI_ss6mm_MD_after.nii.gz\n",
      "fslmaths /export2/DATA/HIS/HIS_server/analysis/dwi_data/stats_alt_reg/FA/sub-141_in-MNI_FA_after.nii.gz -s 2.547965 /export2/DATA/HIS/HIS_server/analysis/dwi_data/stats_alt_reg/FA/sub-141_in-MNI_ss6mm_FA_after.nii.gz\n",
      "fslmaths /export2/DATA/HIS/HIS_server/analysis/dwi_data/stats_alt_reg/MD/sub-142_in-MNI_MD_before.nii.gz -s 2.547965 /export2/DATA/HIS/HIS_server/analysis/dwi_data/stats_alt_reg/MD/sub-142_in-MNI_ss6mm_MD_before.nii.gz\n",
      "fslmaths /export2/DATA/HIS/HIS_server/analysis/dwi_data/stats_alt_reg/FA/sub-142_in-MNI_FA_before.nii.gz -s 2.547965 /export2/DATA/HIS/HIS_server/analysis/dwi_data/stats_alt_reg/FA/sub-142_in-MNI_ss6mm_FA_before.nii.gz\n",
      "fslmaths /export2/DATA/HIS/HIS_server/analysis/dwi_data/stats_alt_reg/MD/sub-142_in-MNI_MD_after.nii.gz -s 2.547965 /export2/DATA/HIS/HIS_server/analysis/dwi_data/stats_alt_reg/MD/sub-142_in-MNI_ss6mm_MD_after.nii.gz\n",
      "fslmaths /export2/DATA/HIS/HIS_server/analysis/dwi_data/stats_alt_reg/FA/sub-142_in-MNI_FA_after.nii.gz -s 2.547965 /export2/DATA/HIS/HIS_server/analysis/dwi_data/stats_alt_reg/FA/sub-142_in-MNI_ss6mm_FA_after.nii.gz\n",
      "fslmaths /export2/DATA/HIS/HIS_server/analysis/dwi_data/stats_alt_reg/MD/sub-143_in-MNI_MD_before.nii.gz -s 2.547965 /export2/DATA/HIS/HIS_server/analysis/dwi_data/stats_alt_reg/MD/sub-143_in-MNI_ss6mm_MD_before.nii.gz\n",
      "fslmaths /export2/DATA/HIS/HIS_server/analysis/dwi_data/stats_alt_reg/FA/sub-143_in-MNI_FA_before.nii.gz -s 2.547965 /export2/DATA/HIS/HIS_server/analysis/dwi_data/stats_alt_reg/FA/sub-143_in-MNI_ss6mm_FA_before.nii.gz\n",
      "fslmaths /export2/DATA/HIS/HIS_server/analysis/dwi_data/stats_alt_reg/MD/sub-143_in-MNI_MD_after.nii.gz -s 2.547965 /export2/DATA/HIS/HIS_server/analysis/dwi_data/stats_alt_reg/MD/sub-143_in-MNI_ss6mm_MD_after.nii.gz\n",
      "fslmaths /export2/DATA/HIS/HIS_server/analysis/dwi_data/stats_alt_reg/FA/sub-143_in-MNI_FA_after.nii.gz -s 2.547965 /export2/DATA/HIS/HIS_server/analysis/dwi_data/stats_alt_reg/FA/sub-143_in-MNI_ss6mm_FA_after.nii.gz\n",
      "fslmaths /export2/DATA/HIS/HIS_server/analysis/dwi_data/stats_alt_reg/MD/sub-144_in-MNI_MD_before.nii.gz -s 2.547965 /export2/DATA/HIS/HIS_server/analysis/dwi_data/stats_alt_reg/MD/sub-144_in-MNI_ss6mm_MD_before.nii.gz\n",
      "fslmaths /export2/DATA/HIS/HIS_server/analysis/dwi_data/stats_alt_reg/FA/sub-144_in-MNI_FA_before.nii.gz -s 2.547965 /export2/DATA/HIS/HIS_server/analysis/dwi_data/stats_alt_reg/FA/sub-144_in-MNI_ss6mm_FA_before.nii.gz\n",
      "fslmaths /export2/DATA/HIS/HIS_server/analysis/dwi_data/stats_alt_reg/MD/sub-144_in-MNI_MD_after.nii.gz -s 2.547965 /export2/DATA/HIS/HIS_server/analysis/dwi_data/stats_alt_reg/MD/sub-144_in-MNI_ss6mm_MD_after.nii.gz\n",
      "fslmaths /export2/DATA/HIS/HIS_server/analysis/dwi_data/stats_alt_reg/FA/sub-144_in-MNI_FA_after.nii.gz -s 2.547965 /export2/DATA/HIS/HIS_server/analysis/dwi_data/stats_alt_reg/FA/sub-144_in-MNI_ss6mm_FA_after.nii.gz\n",
      "fslmaths /export2/DATA/HIS/HIS_server/analysis/dwi_data/stats_alt_reg/MD/sub-145_in-MNI_MD_before.nii.gz -s 2.547965 /export2/DATA/HIS/HIS_server/analysis/dwi_data/stats_alt_reg/MD/sub-145_in-MNI_ss6mm_MD_before.nii.gz\n",
      "fslmaths /export2/DATA/HIS/HIS_server/analysis/dwi_data/stats_alt_reg/FA/sub-145_in-MNI_FA_before.nii.gz -s 2.547965 /export2/DATA/HIS/HIS_server/analysis/dwi_data/stats_alt_reg/FA/sub-145_in-MNI_ss6mm_FA_before.nii.gz\n",
      "fslmaths /export2/DATA/HIS/HIS_server/analysis/dwi_data/stats_alt_reg/MD/sub-145_in-MNI_MD_after.nii.gz -s 2.547965 /export2/DATA/HIS/HIS_server/analysis/dwi_data/stats_alt_reg/MD/sub-145_in-MNI_ss6mm_MD_after.nii.gz\n",
      "fslmaths /export2/DATA/HIS/HIS_server/analysis/dwi_data/stats_alt_reg/FA/sub-145_in-MNI_FA_after.nii.gz -s 2.547965 /export2/DATA/HIS/HIS_server/analysis/dwi_data/stats_alt_reg/FA/sub-145_in-MNI_ss6mm_FA_after.nii.gz\n",
      "fslmaths /export2/DATA/HIS/HIS_server/analysis/dwi_data/stats_alt_reg/MD/sub-146_in-MNI_MD_before.nii.gz -s 2.547965 /export2/DATA/HIS/HIS_server/analysis/dwi_data/stats_alt_reg/MD/sub-146_in-MNI_ss6mm_MD_before.nii.gz\n",
      "fslmaths /export2/DATA/HIS/HIS_server/analysis/dwi_data/stats_alt_reg/FA/sub-146_in-MNI_FA_before.nii.gz -s 2.547965 /export2/DATA/HIS/HIS_server/analysis/dwi_data/stats_alt_reg/FA/sub-146_in-MNI_ss6mm_FA_before.nii.gz\n",
      "fslmaths /export2/DATA/HIS/HIS_server/analysis/dwi_data/stats_alt_reg/MD/sub-146_in-MNI_MD_after.nii.gz -s 2.547965 /export2/DATA/HIS/HIS_server/analysis/dwi_data/stats_alt_reg/MD/sub-146_in-MNI_ss6mm_MD_after.nii.gz\n",
      "fslmaths /export2/DATA/HIS/HIS_server/analysis/dwi_data/stats_alt_reg/FA/sub-146_in-MNI_FA_after.nii.gz -s 2.547965 /export2/DATA/HIS/HIS_server/analysis/dwi_data/stats_alt_reg/FA/sub-146_in-MNI_ss6mm_FA_after.nii.gz\n",
      "fslmaths /export2/DATA/HIS/HIS_server/analysis/dwi_data/stats_alt_reg/MD/sub-147_in-MNI_MD_before.nii.gz -s 2.547965 /export2/DATA/HIS/HIS_server/analysis/dwi_data/stats_alt_reg/MD/sub-147_in-MNI_ss6mm_MD_before.nii.gz\n",
      "fslmaths /export2/DATA/HIS/HIS_server/analysis/dwi_data/stats_alt_reg/FA/sub-147_in-MNI_FA_before.nii.gz -s 2.547965 /export2/DATA/HIS/HIS_server/analysis/dwi_data/stats_alt_reg/FA/sub-147_in-MNI_ss6mm_FA_before.nii.gz\n",
      "fslmaths /export2/DATA/HIS/HIS_server/analysis/dwi_data/stats_alt_reg/MD/sub-147_in-MNI_MD_after.nii.gz -s 2.547965 /export2/DATA/HIS/HIS_server/analysis/dwi_data/stats_alt_reg/MD/sub-147_in-MNI_ss6mm_MD_after.nii.gz\n",
      "fslmaths /export2/DATA/HIS/HIS_server/analysis/dwi_data/stats_alt_reg/FA/sub-147_in-MNI_FA_after.nii.gz -s 2.547965 /export2/DATA/HIS/HIS_server/analysis/dwi_data/stats_alt_reg/FA/sub-147_in-MNI_ss6mm_FA_after.nii.gz\n",
      "fslmaths /export2/DATA/HIS/HIS_server/analysis/dwi_data/stats_alt_reg/MD/sub-148_in-MNI_MD_before.nii.gz -s 2.547965 /export2/DATA/HIS/HIS_server/analysis/dwi_data/stats_alt_reg/MD/sub-148_in-MNI_ss6mm_MD_before.nii.gz\n",
      "fslmaths /export2/DATA/HIS/HIS_server/analysis/dwi_data/stats_alt_reg/FA/sub-148_in-MNI_FA_before.nii.gz -s 2.547965 /export2/DATA/HIS/HIS_server/analysis/dwi_data/stats_alt_reg/FA/sub-148_in-MNI_ss6mm_FA_before.nii.gz\n",
      "fslmaths /export2/DATA/HIS/HIS_server/analysis/dwi_data/stats_alt_reg/MD/sub-148_in-MNI_MD_after.nii.gz -s 2.547965 /export2/DATA/HIS/HIS_server/analysis/dwi_data/stats_alt_reg/MD/sub-148_in-MNI_ss6mm_MD_after.nii.gz\n",
      "fslmaths /export2/DATA/HIS/HIS_server/analysis/dwi_data/stats_alt_reg/FA/sub-148_in-MNI_FA_after.nii.gz -s 2.547965 /export2/DATA/HIS/HIS_server/analysis/dwi_data/stats_alt_reg/FA/sub-148_in-MNI_ss6mm_FA_after.nii.gz\n",
      "fslmaths /export2/DATA/HIS/HIS_server/analysis/dwi_data/stats_alt_reg/MD/sub-149_in-MNI_MD_before.nii.gz -s 2.547965 /export2/DATA/HIS/HIS_server/analysis/dwi_data/stats_alt_reg/MD/sub-149_in-MNI_ss6mm_MD_before.nii.gz\n",
      "fslmaths /export2/DATA/HIS/HIS_server/analysis/dwi_data/stats_alt_reg/FA/sub-149_in-MNI_FA_before.nii.gz -s 2.547965 /export2/DATA/HIS/HIS_server/analysis/dwi_data/stats_alt_reg/FA/sub-149_in-MNI_ss6mm_FA_before.nii.gz\n",
      "fslmaths /export2/DATA/HIS/HIS_server/analysis/dwi_data/stats_alt_reg/MD/sub-149_in-MNI_MD_after.nii.gz -s 2.547965 /export2/DATA/HIS/HIS_server/analysis/dwi_data/stats_alt_reg/MD/sub-149_in-MNI_ss6mm_MD_after.nii.gz\n",
      "fslmaths /export2/DATA/HIS/HIS_server/analysis/dwi_data/stats_alt_reg/FA/sub-149_in-MNI_FA_after.nii.gz -s 2.547965 /export2/DATA/HIS/HIS_server/analysis/dwi_data/stats_alt_reg/FA/sub-149_in-MNI_ss6mm_FA_after.nii.gz\n",
      "fslmaths /export2/DATA/HIS/HIS_server/analysis/dwi_data/stats_alt_reg/MD/sub-150_in-MNI_MD_before.nii.gz -s 2.547965 /export2/DATA/HIS/HIS_server/analysis/dwi_data/stats_alt_reg/MD/sub-150_in-MNI_ss6mm_MD_before.nii.gz\n",
      "fslmaths /export2/DATA/HIS/HIS_server/analysis/dwi_data/stats_alt_reg/FA/sub-150_in-MNI_FA_before.nii.gz -s 2.547965 /export2/DATA/HIS/HIS_server/analysis/dwi_data/stats_alt_reg/FA/sub-150_in-MNI_ss6mm_FA_before.nii.gz\n",
      "fslmaths /export2/DATA/HIS/HIS_server/analysis/dwi_data/stats_alt_reg/MD/sub-150_in-MNI_MD_after.nii.gz -s 2.547965 /export2/DATA/HIS/HIS_server/analysis/dwi_data/stats_alt_reg/MD/sub-150_in-MNI_ss6mm_MD_after.nii.gz\n",
      "fslmaths /export2/DATA/HIS/HIS_server/analysis/dwi_data/stats_alt_reg/FA/sub-150_in-MNI_FA_after.nii.gz -s 2.547965 /export2/DATA/HIS/HIS_server/analysis/dwi_data/stats_alt_reg/FA/sub-150_in-MNI_ss6mm_FA_after.nii.gz\n",
      "fslmaths /export2/DATA/HIS/HIS_server/analysis/dwi_data/stats_alt_reg/MD/sub-151_in-MNI_MD_before.nii.gz -s 2.547965 /export2/DATA/HIS/HIS_server/analysis/dwi_data/stats_alt_reg/MD/sub-151_in-MNI_ss6mm_MD_before.nii.gz\n",
      "fslmaths /export2/DATA/HIS/HIS_server/analysis/dwi_data/stats_alt_reg/FA/sub-151_in-MNI_FA_before.nii.gz -s 2.547965 /export2/DATA/HIS/HIS_server/analysis/dwi_data/stats_alt_reg/FA/sub-151_in-MNI_ss6mm_FA_before.nii.gz\n",
      "fslmaths /export2/DATA/HIS/HIS_server/analysis/dwi_data/stats_alt_reg/MD/sub-151_in-MNI_MD_after.nii.gz -s 2.547965 /export2/DATA/HIS/HIS_server/analysis/dwi_data/stats_alt_reg/MD/sub-151_in-MNI_ss6mm_MD_after.nii.gz\n",
      "fslmaths /export2/DATA/HIS/HIS_server/analysis/dwi_data/stats_alt_reg/FA/sub-151_in-MNI_FA_after.nii.gz -s 2.547965 /export2/DATA/HIS/HIS_server/analysis/dwi_data/stats_alt_reg/FA/sub-151_in-MNI_ss6mm_FA_after.nii.gz\n",
      "fslmaths /export2/DATA/HIS/HIS_server/analysis/dwi_data/stats_alt_reg/MD/sub-152_in-MNI_MD_before.nii.gz -s 2.547965 /export2/DATA/HIS/HIS_server/analysis/dwi_data/stats_alt_reg/MD/sub-152_in-MNI_ss6mm_MD_before.nii.gz\n",
      "fslmaths /export2/DATA/HIS/HIS_server/analysis/dwi_data/stats_alt_reg/FA/sub-152_in-MNI_FA_before.nii.gz -s 2.547965 /export2/DATA/HIS/HIS_server/analysis/dwi_data/stats_alt_reg/FA/sub-152_in-MNI_ss6mm_FA_before.nii.gz\n",
      "fslmaths /export2/DATA/HIS/HIS_server/analysis/dwi_data/stats_alt_reg/MD/sub-152_in-MNI_MD_after.nii.gz -s 2.547965 /export2/DATA/HIS/HIS_server/analysis/dwi_data/stats_alt_reg/MD/sub-152_in-MNI_ss6mm_MD_after.nii.gz\n",
      "fslmaths /export2/DATA/HIS/HIS_server/analysis/dwi_data/stats_alt_reg/FA/sub-152_in-MNI_FA_after.nii.gz -s 2.547965 /export2/DATA/HIS/HIS_server/analysis/dwi_data/stats_alt_reg/FA/sub-152_in-MNI_ss6mm_FA_after.nii.gz\n",
      "fslmaths /export2/DATA/HIS/HIS_server/analysis/dwi_data/stats_alt_reg/MD/sub-153_in-MNI_MD_before.nii.gz -s 2.547965 /export2/DATA/HIS/HIS_server/analysis/dwi_data/stats_alt_reg/MD/sub-153_in-MNI_ss6mm_MD_before.nii.gz\n",
      "fslmaths /export2/DATA/HIS/HIS_server/analysis/dwi_data/stats_alt_reg/FA/sub-153_in-MNI_FA_before.nii.gz -s 2.547965 /export2/DATA/HIS/HIS_server/analysis/dwi_data/stats_alt_reg/FA/sub-153_in-MNI_ss6mm_FA_before.nii.gz\n",
      "fslmaths /export2/DATA/HIS/HIS_server/analysis/dwi_data/stats_alt_reg/MD/sub-153_in-MNI_MD_after.nii.gz -s 2.547965 /export2/DATA/HIS/HIS_server/analysis/dwi_data/stats_alt_reg/MD/sub-153_in-MNI_ss6mm_MD_after.nii.gz\n",
      "fslmaths /export2/DATA/HIS/HIS_server/analysis/dwi_data/stats_alt_reg/FA/sub-153_in-MNI_FA_after.nii.gz -s 2.547965 /export2/DATA/HIS/HIS_server/analysis/dwi_data/stats_alt_reg/FA/sub-153_in-MNI_ss6mm_FA_after.nii.gz\n",
      "fslmaths /export2/DATA/HIS/HIS_server/analysis/dwi_data/stats_alt_reg/MD/sub-154_in-MNI_MD_before.nii.gz -s 2.547965 /export2/DATA/HIS/HIS_server/analysis/dwi_data/stats_alt_reg/MD/sub-154_in-MNI_ss6mm_MD_before.nii.gz\n",
      "fslmaths /export2/DATA/HIS/HIS_server/analysis/dwi_data/stats_alt_reg/FA/sub-154_in-MNI_FA_before.nii.gz -s 2.547965 /export2/DATA/HIS/HIS_server/analysis/dwi_data/stats_alt_reg/FA/sub-154_in-MNI_ss6mm_FA_before.nii.gz\n",
      "fslmaths /export2/DATA/HIS/HIS_server/analysis/dwi_data/stats_alt_reg/MD/sub-154_in-MNI_MD_after.nii.gz -s 2.547965 /export2/DATA/HIS/HIS_server/analysis/dwi_data/stats_alt_reg/MD/sub-154_in-MNI_ss6mm_MD_after.nii.gz\n",
      "fslmaths /export2/DATA/HIS/HIS_server/analysis/dwi_data/stats_alt_reg/FA/sub-154_in-MNI_FA_after.nii.gz -s 2.547965 /export2/DATA/HIS/HIS_server/analysis/dwi_data/stats_alt_reg/FA/sub-154_in-MNI_ss6mm_FA_after.nii.gz\n",
      "fslmaths /export2/DATA/HIS/HIS_server/analysis/dwi_data/stats_alt_reg/MD/sub-155_in-MNI_MD_before.nii.gz -s 2.547965 /export2/DATA/HIS/HIS_server/analysis/dwi_data/stats_alt_reg/MD/sub-155_in-MNI_ss6mm_MD_before.nii.gz\n",
      "fslmaths /export2/DATA/HIS/HIS_server/analysis/dwi_data/stats_alt_reg/FA/sub-155_in-MNI_FA_before.nii.gz -s 2.547965 /export2/DATA/HIS/HIS_server/analysis/dwi_data/stats_alt_reg/FA/sub-155_in-MNI_ss6mm_FA_before.nii.gz\n",
      "fslmaths /export2/DATA/HIS/HIS_server/analysis/dwi_data/stats_alt_reg/MD/sub-155_in-MNI_MD_after.nii.gz -s 2.547965 /export2/DATA/HIS/HIS_server/analysis/dwi_data/stats_alt_reg/MD/sub-155_in-MNI_ss6mm_MD_after.nii.gz\n",
      "fslmaths /export2/DATA/HIS/HIS_server/analysis/dwi_data/stats_alt_reg/FA/sub-155_in-MNI_FA_after.nii.gz -s 2.547965 /export2/DATA/HIS/HIS_server/analysis/dwi_data/stats_alt_reg/FA/sub-155_in-MNI_ss6mm_FA_after.nii.gz\n",
      "fslmaths /export2/DATA/HIS/HIS_server/analysis/dwi_data/stats_alt_reg/MD/sub-156_in-MNI_MD_before.nii.gz -s 2.547965 /export2/DATA/HIS/HIS_server/analysis/dwi_data/stats_alt_reg/MD/sub-156_in-MNI_ss6mm_MD_before.nii.gz\n",
      "fslmaths /export2/DATA/HIS/HIS_server/analysis/dwi_data/stats_alt_reg/FA/sub-156_in-MNI_FA_before.nii.gz -s 2.547965 /export2/DATA/HIS/HIS_server/analysis/dwi_data/stats_alt_reg/FA/sub-156_in-MNI_ss6mm_FA_before.nii.gz\n",
      "fslmaths /export2/DATA/HIS/HIS_server/analysis/dwi_data/stats_alt_reg/MD/sub-156_in-MNI_MD_after.nii.gz -s 2.547965 /export2/DATA/HIS/HIS_server/analysis/dwi_data/stats_alt_reg/MD/sub-156_in-MNI_ss6mm_MD_after.nii.gz\n",
      "fslmaths /export2/DATA/HIS/HIS_server/analysis/dwi_data/stats_alt_reg/FA/sub-156_in-MNI_FA_after.nii.gz -s 2.547965 /export2/DATA/HIS/HIS_server/analysis/dwi_data/stats_alt_reg/FA/sub-156_in-MNI_ss6mm_FA_after.nii.gz\n",
      "fslmaths /export2/DATA/HIS/HIS_server/analysis/dwi_data/stats_alt_reg/MD/sub-157_in-MNI_MD_before.nii.gz -s 2.547965 /export2/DATA/HIS/HIS_server/analysis/dwi_data/stats_alt_reg/MD/sub-157_in-MNI_ss6mm_MD_before.nii.gz\n",
      "fslmaths /export2/DATA/HIS/HIS_server/analysis/dwi_data/stats_alt_reg/FA/sub-157_in-MNI_FA_before.nii.gz -s 2.547965 /export2/DATA/HIS/HIS_server/analysis/dwi_data/stats_alt_reg/FA/sub-157_in-MNI_ss6mm_FA_before.nii.gz\n",
      "fslmaths /export2/DATA/HIS/HIS_server/analysis/dwi_data/stats_alt_reg/MD/sub-157_in-MNI_MD_after.nii.gz -s 2.547965 /export2/DATA/HIS/HIS_server/analysis/dwi_data/stats_alt_reg/MD/sub-157_in-MNI_ss6mm_MD_after.nii.gz\n",
      "fslmaths /export2/DATA/HIS/HIS_server/analysis/dwi_data/stats_alt_reg/FA/sub-157_in-MNI_FA_after.nii.gz -s 2.547965 /export2/DATA/HIS/HIS_server/analysis/dwi_data/stats_alt_reg/FA/sub-157_in-MNI_ss6mm_FA_after.nii.gz\n",
      "fslmaths /export2/DATA/HIS/HIS_server/analysis/dwi_data/stats_alt_reg/MD/sub-158_in-MNI_MD_before.nii.gz -s 2.547965 /export2/DATA/HIS/HIS_server/analysis/dwi_data/stats_alt_reg/MD/sub-158_in-MNI_ss6mm_MD_before.nii.gz\n",
      "fslmaths /export2/DATA/HIS/HIS_server/analysis/dwi_data/stats_alt_reg/FA/sub-158_in-MNI_FA_before.nii.gz -s 2.547965 /export2/DATA/HIS/HIS_server/analysis/dwi_data/stats_alt_reg/FA/sub-158_in-MNI_ss6mm_FA_before.nii.gz\n",
      "fslmaths /export2/DATA/HIS/HIS_server/analysis/dwi_data/stats_alt_reg/MD/sub-158_in-MNI_MD_after.nii.gz -s 2.547965 /export2/DATA/HIS/HIS_server/analysis/dwi_data/stats_alt_reg/MD/sub-158_in-MNI_ss6mm_MD_after.nii.gz\n",
      "fslmaths /export2/DATA/HIS/HIS_server/analysis/dwi_data/stats_alt_reg/FA/sub-158_in-MNI_FA_after.nii.gz -s 2.547965 /export2/DATA/HIS/HIS_server/analysis/dwi_data/stats_alt_reg/FA/sub-158_in-MNI_ss6mm_FA_after.nii.gz\n",
      "fslmaths /export2/DATA/HIS/HIS_server/analysis/dwi_data/stats_alt_reg/MD/sub-159_in-MNI_MD_before.nii.gz -s 2.547965 /export2/DATA/HIS/HIS_server/analysis/dwi_data/stats_alt_reg/MD/sub-159_in-MNI_ss6mm_MD_before.nii.gz\n",
      "fslmaths /export2/DATA/HIS/HIS_server/analysis/dwi_data/stats_alt_reg/FA/sub-159_in-MNI_FA_before.nii.gz -s 2.547965 /export2/DATA/HIS/HIS_server/analysis/dwi_data/stats_alt_reg/FA/sub-159_in-MNI_ss6mm_FA_before.nii.gz\n",
      "fslmaths /export2/DATA/HIS/HIS_server/analysis/dwi_data/stats_alt_reg/MD/sub-159_in-MNI_MD_after.nii.gz -s 2.547965 /export2/DATA/HIS/HIS_server/analysis/dwi_data/stats_alt_reg/MD/sub-159_in-MNI_ss6mm_MD_after.nii.gz\n",
      "fslmaths /export2/DATA/HIS/HIS_server/analysis/dwi_data/stats_alt_reg/FA/sub-159_in-MNI_FA_after.nii.gz -s 2.547965 /export2/DATA/HIS/HIS_server/analysis/dwi_data/stats_alt_reg/FA/sub-159_in-MNI_ss6mm_FA_after.nii.gz\n",
      "fslmaths /export2/DATA/HIS/HIS_server/analysis/dwi_data/stats_alt_reg/MD/sub-160_in-MNI_MD_before.nii.gz -s 2.547965 /export2/DATA/HIS/HIS_server/analysis/dwi_data/stats_alt_reg/MD/sub-160_in-MNI_ss6mm_MD_before.nii.gz\n",
      "fslmaths /export2/DATA/HIS/HIS_server/analysis/dwi_data/stats_alt_reg/FA/sub-160_in-MNI_FA_before.nii.gz -s 2.547965 /export2/DATA/HIS/HIS_server/analysis/dwi_data/stats_alt_reg/FA/sub-160_in-MNI_ss6mm_FA_before.nii.gz\n",
      "fslmaths /export2/DATA/HIS/HIS_server/analysis/dwi_data/stats_alt_reg/MD/sub-160_in-MNI_MD_after.nii.gz -s 2.547965 /export2/DATA/HIS/HIS_server/analysis/dwi_data/stats_alt_reg/MD/sub-160_in-MNI_ss6mm_MD_after.nii.gz\n",
      "fslmaths /export2/DATA/HIS/HIS_server/analysis/dwi_data/stats_alt_reg/FA/sub-160_in-MNI_FA_after.nii.gz -s 2.547965 /export2/DATA/HIS/HIS_server/analysis/dwi_data/stats_alt_reg/FA/sub-160_in-MNI_ss6mm_FA_after.nii.gz\n",
      "fslmaths /export2/DATA/HIS/HIS_server/analysis/dwi_data/stats_alt_reg/MD/sub-161_in-MNI_MD_before.nii.gz -s 2.547965 /export2/DATA/HIS/HIS_server/analysis/dwi_data/stats_alt_reg/MD/sub-161_in-MNI_ss6mm_MD_before.nii.gz\n",
      "fslmaths /export2/DATA/HIS/HIS_server/analysis/dwi_data/stats_alt_reg/FA/sub-161_in-MNI_FA_before.nii.gz -s 2.547965 /export2/DATA/HIS/HIS_server/analysis/dwi_data/stats_alt_reg/FA/sub-161_in-MNI_ss6mm_FA_before.nii.gz\n",
      "fslmaths /export2/DATA/HIS/HIS_server/analysis/dwi_data/stats_alt_reg/MD/sub-161_in-MNI_MD_after.nii.gz -s 2.547965 /export2/DATA/HIS/HIS_server/analysis/dwi_data/stats_alt_reg/MD/sub-161_in-MNI_ss6mm_MD_after.nii.gz\n",
      "fslmaths /export2/DATA/HIS/HIS_server/analysis/dwi_data/stats_alt_reg/FA/sub-161_in-MNI_FA_after.nii.gz -s 2.547965 /export2/DATA/HIS/HIS_server/analysis/dwi_data/stats_alt_reg/FA/sub-161_in-MNI_ss6mm_FA_after.nii.gz\n",
      "fslmaths /export2/DATA/HIS/HIS_server/analysis/dwi_data/stats_alt_reg/MD/sub-162_in-MNI_MD_before.nii.gz -s 2.547965 /export2/DATA/HIS/HIS_server/analysis/dwi_data/stats_alt_reg/MD/sub-162_in-MNI_ss6mm_MD_before.nii.gz\n",
      "fslmaths /export2/DATA/HIS/HIS_server/analysis/dwi_data/stats_alt_reg/FA/sub-162_in-MNI_FA_before.nii.gz -s 2.547965 /export2/DATA/HIS/HIS_server/analysis/dwi_data/stats_alt_reg/FA/sub-162_in-MNI_ss6mm_FA_before.nii.gz\n",
      "fslmaths /export2/DATA/HIS/HIS_server/analysis/dwi_data/stats_alt_reg/MD/sub-162_in-MNI_MD_after.nii.gz -s 2.547965 /export2/DATA/HIS/HIS_server/analysis/dwi_data/stats_alt_reg/MD/sub-162_in-MNI_ss6mm_MD_after.nii.gz\n",
      "fslmaths /export2/DATA/HIS/HIS_server/analysis/dwi_data/stats_alt_reg/FA/sub-162_in-MNI_FA_after.nii.gz -s 2.547965 /export2/DATA/HIS/HIS_server/analysis/dwi_data/stats_alt_reg/FA/sub-162_in-MNI_ss6mm_FA_after.nii.gz\n",
      "fslmaths /export2/DATA/HIS/HIS_server/analysis/dwi_data/stats_alt_reg/MD/sub-163_in-MNI_MD_before.nii.gz -s 2.547965 /export2/DATA/HIS/HIS_server/analysis/dwi_data/stats_alt_reg/MD/sub-163_in-MNI_ss6mm_MD_before.nii.gz\n",
      "fslmaths /export2/DATA/HIS/HIS_server/analysis/dwi_data/stats_alt_reg/FA/sub-163_in-MNI_FA_before.nii.gz -s 2.547965 /export2/DATA/HIS/HIS_server/analysis/dwi_data/stats_alt_reg/FA/sub-163_in-MNI_ss6mm_FA_before.nii.gz\n",
      "fslmaths /export2/DATA/HIS/HIS_server/analysis/dwi_data/stats_alt_reg/MD/sub-163_in-MNI_MD_after.nii.gz -s 2.547965 /export2/DATA/HIS/HIS_server/analysis/dwi_data/stats_alt_reg/MD/sub-163_in-MNI_ss6mm_MD_after.nii.gz\n",
      "fslmaths /export2/DATA/HIS/HIS_server/analysis/dwi_data/stats_alt_reg/FA/sub-163_in-MNI_FA_after.nii.gz -s 2.547965 /export2/DATA/HIS/HIS_server/analysis/dwi_data/stats_alt_reg/FA/sub-163_in-MNI_ss6mm_FA_after.nii.gz\n",
      "fslmaths /export2/DATA/HIS/HIS_server/analysis/dwi_data/stats_alt_reg/MD/sub-164_in-MNI_MD_before.nii.gz -s 2.547965 /export2/DATA/HIS/HIS_server/analysis/dwi_data/stats_alt_reg/MD/sub-164_in-MNI_ss6mm_MD_before.nii.gz\n",
      "fslmaths /export2/DATA/HIS/HIS_server/analysis/dwi_data/stats_alt_reg/FA/sub-164_in-MNI_FA_before.nii.gz -s 2.547965 /export2/DATA/HIS/HIS_server/analysis/dwi_data/stats_alt_reg/FA/sub-164_in-MNI_ss6mm_FA_before.nii.gz\n",
      "fslmaths /export2/DATA/HIS/HIS_server/analysis/dwi_data/stats_alt_reg/MD/sub-164_in-MNI_MD_after.nii.gz -s 2.547965 /export2/DATA/HIS/HIS_server/analysis/dwi_data/stats_alt_reg/MD/sub-164_in-MNI_ss6mm_MD_after.nii.gz\n",
      "fslmaths /export2/DATA/HIS/HIS_server/analysis/dwi_data/stats_alt_reg/FA/sub-164_in-MNI_FA_after.nii.gz -s 2.547965 /export2/DATA/HIS/HIS_server/analysis/dwi_data/stats_alt_reg/FA/sub-164_in-MNI_ss6mm_FA_after.nii.gz\n",
      "fslmaths /export2/DATA/HIS/HIS_server/analysis/dwi_data/stats_alt_reg/MD/sub-166_in-MNI_MD_before.nii.gz -s 2.547965 /export2/DATA/HIS/HIS_server/analysis/dwi_data/stats_alt_reg/MD/sub-166_in-MNI_ss6mm_MD_before.nii.gz\n",
      "fslmaths /export2/DATA/HIS/HIS_server/analysis/dwi_data/stats_alt_reg/FA/sub-166_in-MNI_FA_before.nii.gz -s 2.547965 /export2/DATA/HIS/HIS_server/analysis/dwi_data/stats_alt_reg/FA/sub-166_in-MNI_ss6mm_FA_before.nii.gz\n",
      "fslmaths /export2/DATA/HIS/HIS_server/analysis/dwi_data/stats_alt_reg/MD/sub-166_in-MNI_MD_after.nii.gz -s 2.547965 /export2/DATA/HIS/HIS_server/analysis/dwi_data/stats_alt_reg/MD/sub-166_in-MNI_ss6mm_MD_after.nii.gz\n",
      "fslmaths /export2/DATA/HIS/HIS_server/analysis/dwi_data/stats_alt_reg/FA/sub-166_in-MNI_FA_after.nii.gz -s 2.547965 /export2/DATA/HIS/HIS_server/analysis/dwi_data/stats_alt_reg/FA/sub-166_in-MNI_ss6mm_FA_after.nii.gz\n",
      "fslmaths /export2/DATA/HIS/HIS_server/analysis/dwi_data/stats_alt_reg/MD/sub-167_in-MNI_MD_before.nii.gz -s 2.547965 /export2/DATA/HIS/HIS_server/analysis/dwi_data/stats_alt_reg/MD/sub-167_in-MNI_ss6mm_MD_before.nii.gz\n",
      "fslmaths /export2/DATA/HIS/HIS_server/analysis/dwi_data/stats_alt_reg/FA/sub-167_in-MNI_FA_before.nii.gz -s 2.547965 /export2/DATA/HIS/HIS_server/analysis/dwi_data/stats_alt_reg/FA/sub-167_in-MNI_ss6mm_FA_before.nii.gz\n",
      "fslmaths /export2/DATA/HIS/HIS_server/analysis/dwi_data/stats_alt_reg/MD/sub-167_in-MNI_MD_after.nii.gz -s 2.547965 /export2/DATA/HIS/HIS_server/analysis/dwi_data/stats_alt_reg/MD/sub-167_in-MNI_ss6mm_MD_after.nii.gz\n",
      "fslmaths /export2/DATA/HIS/HIS_server/analysis/dwi_data/stats_alt_reg/FA/sub-167_in-MNI_FA_after.nii.gz -s 2.547965 /export2/DATA/HIS/HIS_server/analysis/dwi_data/stats_alt_reg/FA/sub-167_in-MNI_ss6mm_FA_after.nii.gz\n",
      "fslmaths /export2/DATA/HIS/HIS_server/analysis/dwi_data/stats_alt_reg/MD/sub-168_in-MNI_MD_before.nii.gz -s 2.547965 /export2/DATA/HIS/HIS_server/analysis/dwi_data/stats_alt_reg/MD/sub-168_in-MNI_ss6mm_MD_before.nii.gz\n",
      "fslmaths /export2/DATA/HIS/HIS_server/analysis/dwi_data/stats_alt_reg/FA/sub-168_in-MNI_FA_before.nii.gz -s 2.547965 /export2/DATA/HIS/HIS_server/analysis/dwi_data/stats_alt_reg/FA/sub-168_in-MNI_ss6mm_FA_before.nii.gz\n",
      "fslmaths /export2/DATA/HIS/HIS_server/analysis/dwi_data/stats_alt_reg/MD/sub-168_in-MNI_MD_after.nii.gz -s 2.547965 /export2/DATA/HIS/HIS_server/analysis/dwi_data/stats_alt_reg/MD/sub-168_in-MNI_ss6mm_MD_after.nii.gz\n",
      "fslmaths /export2/DATA/HIS/HIS_server/analysis/dwi_data/stats_alt_reg/FA/sub-168_in-MNI_FA_after.nii.gz -s 2.547965 /export2/DATA/HIS/HIS_server/analysis/dwi_data/stats_alt_reg/FA/sub-168_in-MNI_ss6mm_FA_after.nii.gz\n",
      "fslmaths /export2/DATA/HIS/HIS_server/analysis/dwi_data/stats_alt_reg/MD/sub-169_in-MNI_MD_before.nii.gz -s 2.547965 /export2/DATA/HIS/HIS_server/analysis/dwi_data/stats_alt_reg/MD/sub-169_in-MNI_ss6mm_MD_before.nii.gz\n",
      "fslmaths /export2/DATA/HIS/HIS_server/analysis/dwi_data/stats_alt_reg/FA/sub-169_in-MNI_FA_before.nii.gz -s 2.547965 /export2/DATA/HIS/HIS_server/analysis/dwi_data/stats_alt_reg/FA/sub-169_in-MNI_ss6mm_FA_before.nii.gz\n",
      "fslmaths /export2/DATA/HIS/HIS_server/analysis/dwi_data/stats_alt_reg/MD/sub-169_in-MNI_MD_after.nii.gz -s 2.547965 /export2/DATA/HIS/HIS_server/analysis/dwi_data/stats_alt_reg/MD/sub-169_in-MNI_ss6mm_MD_after.nii.gz\n",
      "fslmaths /export2/DATA/HIS/HIS_server/analysis/dwi_data/stats_alt_reg/FA/sub-169_in-MNI_FA_after.nii.gz -s 2.547965 /export2/DATA/HIS/HIS_server/analysis/dwi_data/stats_alt_reg/FA/sub-169_in-MNI_ss6mm_FA_after.nii.gz\n",
      "fslmaths /export2/DATA/HIS/HIS_server/analysis/dwi_data/stats_alt_reg/MD/sub-170_in-MNI_MD_before.nii.gz -s 2.547965 /export2/DATA/HIS/HIS_server/analysis/dwi_data/stats_alt_reg/MD/sub-170_in-MNI_ss6mm_MD_before.nii.gz\n",
      "fslmaths /export2/DATA/HIS/HIS_server/analysis/dwi_data/stats_alt_reg/FA/sub-170_in-MNI_FA_before.nii.gz -s 2.547965 /export2/DATA/HIS/HIS_server/analysis/dwi_data/stats_alt_reg/FA/sub-170_in-MNI_ss6mm_FA_before.nii.gz\n",
      "fslmaths /export2/DATA/HIS/HIS_server/analysis/dwi_data/stats_alt_reg/MD/sub-170_in-MNI_MD_after.nii.gz -s 2.547965 /export2/DATA/HIS/HIS_server/analysis/dwi_data/stats_alt_reg/MD/sub-170_in-MNI_ss6mm_MD_after.nii.gz\n",
      "fslmaths /export2/DATA/HIS/HIS_server/analysis/dwi_data/stats_alt_reg/FA/sub-170_in-MNI_FA_after.nii.gz -s 2.547965 /export2/DATA/HIS/HIS_server/analysis/dwi_data/stats_alt_reg/FA/sub-170_in-MNI_ss6mm_FA_after.nii.gz\n",
      "fslmaths /export2/DATA/HIS/HIS_server/analysis/dwi_data/stats_alt_reg/MD/sub-171_in-MNI_MD_before.nii.gz -s 2.547965 /export2/DATA/HIS/HIS_server/analysis/dwi_data/stats_alt_reg/MD/sub-171_in-MNI_ss6mm_MD_before.nii.gz\n",
      "fslmaths /export2/DATA/HIS/HIS_server/analysis/dwi_data/stats_alt_reg/FA/sub-171_in-MNI_FA_before.nii.gz -s 2.547965 /export2/DATA/HIS/HIS_server/analysis/dwi_data/stats_alt_reg/FA/sub-171_in-MNI_ss6mm_FA_before.nii.gz\n",
      "fslmaths /export2/DATA/HIS/HIS_server/analysis/dwi_data/stats_alt_reg/MD/sub-171_in-MNI_MD_after.nii.gz -s 2.547965 /export2/DATA/HIS/HIS_server/analysis/dwi_data/stats_alt_reg/MD/sub-171_in-MNI_ss6mm_MD_after.nii.gz\n",
      "fslmaths /export2/DATA/HIS/HIS_server/analysis/dwi_data/stats_alt_reg/FA/sub-171_in-MNI_FA_after.nii.gz -s 2.547965 /export2/DATA/HIS/HIS_server/analysis/dwi_data/stats_alt_reg/FA/sub-171_in-MNI_ss6mm_FA_after.nii.gz\n",
      "fslmaths /export2/DATA/HIS/HIS_server/analysis/dwi_data/stats_alt_reg/MD/sub-172_in-MNI_MD_before.nii.gz -s 2.547965 /export2/DATA/HIS/HIS_server/analysis/dwi_data/stats_alt_reg/MD/sub-172_in-MNI_ss6mm_MD_before.nii.gz\n",
      "fslmaths /export2/DATA/HIS/HIS_server/analysis/dwi_data/stats_alt_reg/FA/sub-172_in-MNI_FA_before.nii.gz -s 2.547965 /export2/DATA/HIS/HIS_server/analysis/dwi_data/stats_alt_reg/FA/sub-172_in-MNI_ss6mm_FA_before.nii.gz\n",
      "fslmaths /export2/DATA/HIS/HIS_server/analysis/dwi_data/stats_alt_reg/MD/sub-172_in-MNI_MD_after.nii.gz -s 2.547965 /export2/DATA/HIS/HIS_server/analysis/dwi_data/stats_alt_reg/MD/sub-172_in-MNI_ss6mm_MD_after.nii.gz\n",
      "fslmaths /export2/DATA/HIS/HIS_server/analysis/dwi_data/stats_alt_reg/FA/sub-172_in-MNI_FA_after.nii.gz -s 2.547965 /export2/DATA/HIS/HIS_server/analysis/dwi_data/stats_alt_reg/FA/sub-172_in-MNI_ss6mm_FA_after.nii.gz\n",
      "fslmaths /export2/DATA/HIS/HIS_server/analysis/dwi_data/stats_alt_reg/MD/sub-174_in-MNI_MD_before.nii.gz -s 2.547965 /export2/DATA/HIS/HIS_server/analysis/dwi_data/stats_alt_reg/MD/sub-174_in-MNI_ss6mm_MD_before.nii.gz\n",
      "fslmaths /export2/DATA/HIS/HIS_server/analysis/dwi_data/stats_alt_reg/FA/sub-174_in-MNI_FA_before.nii.gz -s 2.547965 /export2/DATA/HIS/HIS_server/analysis/dwi_data/stats_alt_reg/FA/sub-174_in-MNI_ss6mm_FA_before.nii.gz\n",
      "fslmaths /export2/DATA/HIS/HIS_server/analysis/dwi_data/stats_alt_reg/MD/sub-174_in-MNI_MD_after.nii.gz -s 2.547965 /export2/DATA/HIS/HIS_server/analysis/dwi_data/stats_alt_reg/MD/sub-174_in-MNI_ss6mm_MD_after.nii.gz\n",
      "fslmaths /export2/DATA/HIS/HIS_server/analysis/dwi_data/stats_alt_reg/FA/sub-174_in-MNI_FA_after.nii.gz -s 2.547965 /export2/DATA/HIS/HIS_server/analysis/dwi_data/stats_alt_reg/FA/sub-174_in-MNI_ss6mm_FA_after.nii.gz\n",
      "fslmaths /export2/DATA/HIS/HIS_server/analysis/dwi_data/stats_alt_reg/MD/sub-175_in-MNI_MD_before.nii.gz -s 2.547965 /export2/DATA/HIS/HIS_server/analysis/dwi_data/stats_alt_reg/MD/sub-175_in-MNI_ss6mm_MD_before.nii.gz\n",
      "fslmaths /export2/DATA/HIS/HIS_server/analysis/dwi_data/stats_alt_reg/FA/sub-175_in-MNI_FA_before.nii.gz -s 2.547965 /export2/DATA/HIS/HIS_server/analysis/dwi_data/stats_alt_reg/FA/sub-175_in-MNI_ss6mm_FA_before.nii.gz\n",
      "fslmaths /export2/DATA/HIS/HIS_server/analysis/dwi_data/stats_alt_reg/MD/sub-175_in-MNI_MD_after.nii.gz -s 2.547965 /export2/DATA/HIS/HIS_server/analysis/dwi_data/stats_alt_reg/MD/sub-175_in-MNI_ss6mm_MD_after.nii.gz\n",
      "fslmaths /export2/DATA/HIS/HIS_server/analysis/dwi_data/stats_alt_reg/FA/sub-175_in-MNI_FA_after.nii.gz -s 2.547965 /export2/DATA/HIS/HIS_server/analysis/dwi_data/stats_alt_reg/FA/sub-175_in-MNI_ss6mm_FA_after.nii.gz\n",
      "fslmaths /export2/DATA/HIS/HIS_server/analysis/dwi_data/stats_alt_reg/MD/sub-204_in-MNI_MD_before.nii.gz -s 2.547965 /export2/DATA/HIS/HIS_server/analysis/dwi_data/stats_alt_reg/MD/sub-204_in-MNI_ss6mm_MD_before.nii.gz\n",
      "fslmaths /export2/DATA/HIS/HIS_server/analysis/dwi_data/stats_alt_reg/FA/sub-204_in-MNI_FA_before.nii.gz -s 2.547965 /export2/DATA/HIS/HIS_server/analysis/dwi_data/stats_alt_reg/FA/sub-204_in-MNI_ss6mm_FA_before.nii.gz\n",
      "fslmaths /export2/DATA/HIS/HIS_server/analysis/dwi_data/stats_alt_reg/MD/sub-204_in-MNI_MD_after.nii.gz -s 2.547965 /export2/DATA/HIS/HIS_server/analysis/dwi_data/stats_alt_reg/MD/sub-204_in-MNI_ss6mm_MD_after.nii.gz\n",
      "fslmaths /export2/DATA/HIS/HIS_server/analysis/dwi_data/stats_alt_reg/FA/sub-204_in-MNI_FA_after.nii.gz -s 2.547965 /export2/DATA/HIS/HIS_server/analysis/dwi_data/stats_alt_reg/FA/sub-204_in-MNI_ss6mm_FA_after.nii.gz\n",
      "fslmaths /export2/DATA/HIS/HIS_server/analysis/dwi_data/stats_alt_reg/MD/sub-205_in-MNI_MD_before.nii.gz -s 2.547965 /export2/DATA/HIS/HIS_server/analysis/dwi_data/stats_alt_reg/MD/sub-205_in-MNI_ss6mm_MD_before.nii.gz\n",
      "fslmaths /export2/DATA/HIS/HIS_server/analysis/dwi_data/stats_alt_reg/FA/sub-205_in-MNI_FA_before.nii.gz -s 2.547965 /export2/DATA/HIS/HIS_server/analysis/dwi_data/stats_alt_reg/FA/sub-205_in-MNI_ss6mm_FA_before.nii.gz\n",
      "fslmaths /export2/DATA/HIS/HIS_server/analysis/dwi_data/stats_alt_reg/MD/sub-205_in-MNI_MD_after.nii.gz -s 2.547965 /export2/DATA/HIS/HIS_server/analysis/dwi_data/stats_alt_reg/MD/sub-205_in-MNI_ss6mm_MD_after.nii.gz\n",
      "fslmaths /export2/DATA/HIS/HIS_server/analysis/dwi_data/stats_alt_reg/FA/sub-205_in-MNI_FA_after.nii.gz -s 2.547965 /export2/DATA/HIS/HIS_server/analysis/dwi_data/stats_alt_reg/FA/sub-205_in-MNI_ss6mm_FA_after.nii.gz\n",
      "fslmaths /export2/DATA/HIS/HIS_server/analysis/dwi_data/stats_alt_reg/MD/sub-207_in-MNI_MD_before.nii.gz -s 2.547965 /export2/DATA/HIS/HIS_server/analysis/dwi_data/stats_alt_reg/MD/sub-207_in-MNI_ss6mm_MD_before.nii.gz\n",
      "fslmaths /export2/DATA/HIS/HIS_server/analysis/dwi_data/stats_alt_reg/FA/sub-207_in-MNI_FA_before.nii.gz -s 2.547965 /export2/DATA/HIS/HIS_server/analysis/dwi_data/stats_alt_reg/FA/sub-207_in-MNI_ss6mm_FA_before.nii.gz\n",
      "fslmaths /export2/DATA/HIS/HIS_server/analysis/dwi_data/stats_alt_reg/MD/sub-207_in-MNI_MD_after.nii.gz -s 2.547965 /export2/DATA/HIS/HIS_server/analysis/dwi_data/stats_alt_reg/MD/sub-207_in-MNI_ss6mm_MD_after.nii.gz\n",
      "fslmaths /export2/DATA/HIS/HIS_server/analysis/dwi_data/stats_alt_reg/FA/sub-207_in-MNI_FA_after.nii.gz -s 2.547965 /export2/DATA/HIS/HIS_server/analysis/dwi_data/stats_alt_reg/FA/sub-207_in-MNI_ss6mm_FA_after.nii.gz\n",
      "fslmaths /export2/DATA/HIS/HIS_server/analysis/dwi_data/stats_alt_reg/MD/sub-208_in-MNI_MD_before.nii.gz -s 2.547965 /export2/DATA/HIS/HIS_server/analysis/dwi_data/stats_alt_reg/MD/sub-208_in-MNI_ss6mm_MD_before.nii.gz\n",
      "fslmaths /export2/DATA/HIS/HIS_server/analysis/dwi_data/stats_alt_reg/FA/sub-208_in-MNI_FA_before.nii.gz -s 2.547965 /export2/DATA/HIS/HIS_server/analysis/dwi_data/stats_alt_reg/FA/sub-208_in-MNI_ss6mm_FA_before.nii.gz\n",
      "fslmaths /export2/DATA/HIS/HIS_server/analysis/dwi_data/stats_alt_reg/MD/sub-208_in-MNI_MD_after.nii.gz -s 2.547965 /export2/DATA/HIS/HIS_server/analysis/dwi_data/stats_alt_reg/MD/sub-208_in-MNI_ss6mm_MD_after.nii.gz\n",
      "fslmaths /export2/DATA/HIS/HIS_server/analysis/dwi_data/stats_alt_reg/FA/sub-208_in-MNI_FA_after.nii.gz -s 2.547965 /export2/DATA/HIS/HIS_server/analysis/dwi_data/stats_alt_reg/FA/sub-208_in-MNI_ss6mm_FA_after.nii.gz\n",
      "fslmaths /export2/DATA/HIS/HIS_server/analysis/dwi_data/stats_alt_reg/MD/sub-209_in-MNI_MD_before.nii.gz -s 2.547965 /export2/DATA/HIS/HIS_server/analysis/dwi_data/stats_alt_reg/MD/sub-209_in-MNI_ss6mm_MD_before.nii.gz\n",
      "fslmaths /export2/DATA/HIS/HIS_server/analysis/dwi_data/stats_alt_reg/FA/sub-209_in-MNI_FA_before.nii.gz -s 2.547965 /export2/DATA/HIS/HIS_server/analysis/dwi_data/stats_alt_reg/FA/sub-209_in-MNI_ss6mm_FA_before.nii.gz\n",
      "fslmaths /export2/DATA/HIS/HIS_server/analysis/dwi_data/stats_alt_reg/MD/sub-209_in-MNI_MD_after.nii.gz -s 2.547965 /export2/DATA/HIS/HIS_server/analysis/dwi_data/stats_alt_reg/MD/sub-209_in-MNI_ss6mm_MD_after.nii.gz\n",
      "fslmaths /export2/DATA/HIS/HIS_server/analysis/dwi_data/stats_alt_reg/FA/sub-209_in-MNI_FA_after.nii.gz -s 2.547965 /export2/DATA/HIS/HIS_server/analysis/dwi_data/stats_alt_reg/FA/sub-209_in-MNI_ss6mm_FA_after.nii.gz\n",
      "fslmaths /export2/DATA/HIS/HIS_server/analysis/dwi_data/stats_alt_reg/MD/sub-210_in-MNI_MD_before.nii.gz -s 2.547965 /export2/DATA/HIS/HIS_server/analysis/dwi_data/stats_alt_reg/MD/sub-210_in-MNI_ss6mm_MD_before.nii.gz\n",
      "fslmaths /export2/DATA/HIS/HIS_server/analysis/dwi_data/stats_alt_reg/FA/sub-210_in-MNI_FA_before.nii.gz -s 2.547965 /export2/DATA/HIS/HIS_server/analysis/dwi_data/stats_alt_reg/FA/sub-210_in-MNI_ss6mm_FA_before.nii.gz\n",
      "fslmaths /export2/DATA/HIS/HIS_server/analysis/dwi_data/stats_alt_reg/MD/sub-210_in-MNI_MD_after.nii.gz -s 2.547965 /export2/DATA/HIS/HIS_server/analysis/dwi_data/stats_alt_reg/MD/sub-210_in-MNI_ss6mm_MD_after.nii.gz\n",
      "fslmaths /export2/DATA/HIS/HIS_server/analysis/dwi_data/stats_alt_reg/FA/sub-210_in-MNI_FA_after.nii.gz -s 2.547965 /export2/DATA/HIS/HIS_server/analysis/dwi_data/stats_alt_reg/FA/sub-210_in-MNI_ss6mm_FA_after.nii.gz\n",
      "fslmaths /export2/DATA/HIS/HIS_server/analysis/dwi_data/stats_alt_reg/MD/sub-212_in-MNI_MD_before.nii.gz -s 2.547965 /export2/DATA/HIS/HIS_server/analysis/dwi_data/stats_alt_reg/MD/sub-212_in-MNI_ss6mm_MD_before.nii.gz\n",
      "fslmaths /export2/DATA/HIS/HIS_server/analysis/dwi_data/stats_alt_reg/FA/sub-212_in-MNI_FA_before.nii.gz -s 2.547965 /export2/DATA/HIS/HIS_server/analysis/dwi_data/stats_alt_reg/FA/sub-212_in-MNI_ss6mm_FA_before.nii.gz\n",
      "fslmaths /export2/DATA/HIS/HIS_server/analysis/dwi_data/stats_alt_reg/MD/sub-212_in-MNI_MD_after.nii.gz -s 2.547965 /export2/DATA/HIS/HIS_server/analysis/dwi_data/stats_alt_reg/MD/sub-212_in-MNI_ss6mm_MD_after.nii.gz\n",
      "fslmaths /export2/DATA/HIS/HIS_server/analysis/dwi_data/stats_alt_reg/FA/sub-212_in-MNI_FA_after.nii.gz -s 2.547965 /export2/DATA/HIS/HIS_server/analysis/dwi_data/stats_alt_reg/FA/sub-212_in-MNI_ss6mm_FA_after.nii.gz\n",
      "fslmaths /export2/DATA/HIS/HIS_server/analysis/dwi_data/stats_alt_reg/MD/sub-214_in-MNI_MD_before.nii.gz -s 2.547965 /export2/DATA/HIS/HIS_server/analysis/dwi_data/stats_alt_reg/MD/sub-214_in-MNI_ss6mm_MD_before.nii.gz\n",
      "fslmaths /export2/DATA/HIS/HIS_server/analysis/dwi_data/stats_alt_reg/FA/sub-214_in-MNI_FA_before.nii.gz -s 2.547965 /export2/DATA/HIS/HIS_server/analysis/dwi_data/stats_alt_reg/FA/sub-214_in-MNI_ss6mm_FA_before.nii.gz\n",
      "fslmaths /export2/DATA/HIS/HIS_server/analysis/dwi_data/stats_alt_reg/MD/sub-214_in-MNI_MD_after.nii.gz -s 2.547965 /export2/DATA/HIS/HIS_server/analysis/dwi_data/stats_alt_reg/MD/sub-214_in-MNI_ss6mm_MD_after.nii.gz\n",
      "fslmaths /export2/DATA/HIS/HIS_server/analysis/dwi_data/stats_alt_reg/FA/sub-214_in-MNI_FA_after.nii.gz -s 2.547965 /export2/DATA/HIS/HIS_server/analysis/dwi_data/stats_alt_reg/FA/sub-214_in-MNI_ss6mm_FA_after.nii.gz\n",
      "fslmaths /export2/DATA/HIS/HIS_server/analysis/dwi_data/stats_alt_reg/MD/sub-215_in-MNI_MD_before.nii.gz -s 2.547965 /export2/DATA/HIS/HIS_server/analysis/dwi_data/stats_alt_reg/MD/sub-215_in-MNI_ss6mm_MD_before.nii.gz\n",
      "fslmaths /export2/DATA/HIS/HIS_server/analysis/dwi_data/stats_alt_reg/FA/sub-215_in-MNI_FA_before.nii.gz -s 2.547965 /export2/DATA/HIS/HIS_server/analysis/dwi_data/stats_alt_reg/FA/sub-215_in-MNI_ss6mm_FA_before.nii.gz\n",
      "fslmaths /export2/DATA/HIS/HIS_server/analysis/dwi_data/stats_alt_reg/MD/sub-215_in-MNI_MD_after.nii.gz -s 2.547965 /export2/DATA/HIS/HIS_server/analysis/dwi_data/stats_alt_reg/MD/sub-215_in-MNI_ss6mm_MD_after.nii.gz\n",
      "fslmaths /export2/DATA/HIS/HIS_server/analysis/dwi_data/stats_alt_reg/FA/sub-215_in-MNI_FA_after.nii.gz -s 2.547965 /export2/DATA/HIS/HIS_server/analysis/dwi_data/stats_alt_reg/FA/sub-215_in-MNI_ss6mm_FA_after.nii.gz\n",
      "fslmaths /export2/DATA/HIS/HIS_server/analysis/dwi_data/stats_alt_reg/MD/sub-217_in-MNI_MD_before.nii.gz -s 2.547965 /export2/DATA/HIS/HIS_server/analysis/dwi_data/stats_alt_reg/MD/sub-217_in-MNI_ss6mm_MD_before.nii.gz\n",
      "fslmaths /export2/DATA/HIS/HIS_server/analysis/dwi_data/stats_alt_reg/FA/sub-217_in-MNI_FA_before.nii.gz -s 2.547965 /export2/DATA/HIS/HIS_server/analysis/dwi_data/stats_alt_reg/FA/sub-217_in-MNI_ss6mm_FA_before.nii.gz\n",
      "fslmaths /export2/DATA/HIS/HIS_server/analysis/dwi_data/stats_alt_reg/MD/sub-217_in-MNI_MD_after.nii.gz -s 2.547965 /export2/DATA/HIS/HIS_server/analysis/dwi_data/stats_alt_reg/MD/sub-217_in-MNI_ss6mm_MD_after.nii.gz\n",
      "fslmaths /export2/DATA/HIS/HIS_server/analysis/dwi_data/stats_alt_reg/FA/sub-217_in-MNI_FA_after.nii.gz -s 2.547965 /export2/DATA/HIS/HIS_server/analysis/dwi_data/stats_alt_reg/FA/sub-217_in-MNI_ss6mm_FA_after.nii.gz\n",
      "fslmaths /export2/DATA/HIS/HIS_server/analysis/dwi_data/stats_alt_reg/MD/sub-218_in-MNI_MD_before.nii.gz -s 2.547965 /export2/DATA/HIS/HIS_server/analysis/dwi_data/stats_alt_reg/MD/sub-218_in-MNI_ss6mm_MD_before.nii.gz\n",
      "fslmaths /export2/DATA/HIS/HIS_server/analysis/dwi_data/stats_alt_reg/FA/sub-218_in-MNI_FA_before.nii.gz -s 2.547965 /export2/DATA/HIS/HIS_server/analysis/dwi_data/stats_alt_reg/FA/sub-218_in-MNI_ss6mm_FA_before.nii.gz\n",
      "fslmaths /export2/DATA/HIS/HIS_server/analysis/dwi_data/stats_alt_reg/MD/sub-218_in-MNI_MD_after.nii.gz -s 2.547965 /export2/DATA/HIS/HIS_server/analysis/dwi_data/stats_alt_reg/MD/sub-218_in-MNI_ss6mm_MD_after.nii.gz\n",
      "fslmaths /export2/DATA/HIS/HIS_server/analysis/dwi_data/stats_alt_reg/FA/sub-218_in-MNI_FA_after.nii.gz -s 2.547965 /export2/DATA/HIS/HIS_server/analysis/dwi_data/stats_alt_reg/FA/sub-218_in-MNI_ss6mm_FA_after.nii.gz\n",
      "fslmaths /export2/DATA/HIS/HIS_server/analysis/dwi_data/stats_alt_reg/MD/sub-220_in-MNI_MD_before.nii.gz -s 2.547965 /export2/DATA/HIS/HIS_server/analysis/dwi_data/stats_alt_reg/MD/sub-220_in-MNI_ss6mm_MD_before.nii.gz\n",
      "fslmaths /export2/DATA/HIS/HIS_server/analysis/dwi_data/stats_alt_reg/FA/sub-220_in-MNI_FA_before.nii.gz -s 2.547965 /export2/DATA/HIS/HIS_server/analysis/dwi_data/stats_alt_reg/FA/sub-220_in-MNI_ss6mm_FA_before.nii.gz\n",
      "fslmaths /export2/DATA/HIS/HIS_server/analysis/dwi_data/stats_alt_reg/MD/sub-220_in-MNI_MD_after.nii.gz -s 2.547965 /export2/DATA/HIS/HIS_server/analysis/dwi_data/stats_alt_reg/MD/sub-220_in-MNI_ss6mm_MD_after.nii.gz\n",
      "fslmaths /export2/DATA/HIS/HIS_server/analysis/dwi_data/stats_alt_reg/FA/sub-220_in-MNI_FA_after.nii.gz -s 2.547965 /export2/DATA/HIS/HIS_server/analysis/dwi_data/stats_alt_reg/FA/sub-220_in-MNI_ss6mm_FA_after.nii.gz\n",
      "fslmaths /export2/DATA/HIS/HIS_server/analysis/dwi_data/stats_alt_reg/MD/sub-221_in-MNI_MD_before.nii.gz -s 2.547965 /export2/DATA/HIS/HIS_server/analysis/dwi_data/stats_alt_reg/MD/sub-221_in-MNI_ss6mm_MD_before.nii.gz\n",
      "fslmaths /export2/DATA/HIS/HIS_server/analysis/dwi_data/stats_alt_reg/FA/sub-221_in-MNI_FA_before.nii.gz -s 2.547965 /export2/DATA/HIS/HIS_server/analysis/dwi_data/stats_alt_reg/FA/sub-221_in-MNI_ss6mm_FA_before.nii.gz\n",
      "fslmaths /export2/DATA/HIS/HIS_server/analysis/dwi_data/stats_alt_reg/MD/sub-221_in-MNI_MD_after.nii.gz -s 2.547965 /export2/DATA/HIS/HIS_server/analysis/dwi_data/stats_alt_reg/MD/sub-221_in-MNI_ss6mm_MD_after.nii.gz\n",
      "fslmaths /export2/DATA/HIS/HIS_server/analysis/dwi_data/stats_alt_reg/FA/sub-221_in-MNI_FA_after.nii.gz -s 2.547965 /export2/DATA/HIS/HIS_server/analysis/dwi_data/stats_alt_reg/FA/sub-221_in-MNI_ss6mm_FA_after.nii.gz\n",
      "fslmaths /export2/DATA/HIS/HIS_server/analysis/dwi_data/stats_alt_reg/MD/sub-223_in-MNI_MD_before.nii.gz -s 2.547965 /export2/DATA/HIS/HIS_server/analysis/dwi_data/stats_alt_reg/MD/sub-223_in-MNI_ss6mm_MD_before.nii.gz\n",
      "fslmaths /export2/DATA/HIS/HIS_server/analysis/dwi_data/stats_alt_reg/FA/sub-223_in-MNI_FA_before.nii.gz -s 2.547965 /export2/DATA/HIS/HIS_server/analysis/dwi_data/stats_alt_reg/FA/sub-223_in-MNI_ss6mm_FA_before.nii.gz\n",
      "fslmaths /export2/DATA/HIS/HIS_server/analysis/dwi_data/stats_alt_reg/MD/sub-223_in-MNI_MD_after.nii.gz -s 2.547965 /export2/DATA/HIS/HIS_server/analysis/dwi_data/stats_alt_reg/MD/sub-223_in-MNI_ss6mm_MD_after.nii.gz\n",
      "fslmaths /export2/DATA/HIS/HIS_server/analysis/dwi_data/stats_alt_reg/FA/sub-223_in-MNI_FA_after.nii.gz -s 2.547965 /export2/DATA/HIS/HIS_server/analysis/dwi_data/stats_alt_reg/FA/sub-223_in-MNI_ss6mm_FA_after.nii.gz\n",
      "fslmaths /export2/DATA/HIS/HIS_server/analysis/dwi_data/stats_alt_reg/MD/sub-224_in-MNI_MD_before.nii.gz -s 2.547965 /export2/DATA/HIS/HIS_server/analysis/dwi_data/stats_alt_reg/MD/sub-224_in-MNI_ss6mm_MD_before.nii.gz\n",
      "fslmaths /export2/DATA/HIS/HIS_server/analysis/dwi_data/stats_alt_reg/FA/sub-224_in-MNI_FA_before.nii.gz -s 2.547965 /export2/DATA/HIS/HIS_server/analysis/dwi_data/stats_alt_reg/FA/sub-224_in-MNI_ss6mm_FA_before.nii.gz\n",
      "fslmaths /export2/DATA/HIS/HIS_server/analysis/dwi_data/stats_alt_reg/MD/sub-224_in-MNI_MD_after.nii.gz -s 2.547965 /export2/DATA/HIS/HIS_server/analysis/dwi_data/stats_alt_reg/MD/sub-224_in-MNI_ss6mm_MD_after.nii.gz\n",
      "fslmaths /export2/DATA/HIS/HIS_server/analysis/dwi_data/stats_alt_reg/FA/sub-224_in-MNI_FA_after.nii.gz -s 2.547965 /export2/DATA/HIS/HIS_server/analysis/dwi_data/stats_alt_reg/FA/sub-224_in-MNI_ss6mm_FA_after.nii.gz\n",
      "fslmaths /export2/DATA/HIS/HIS_server/analysis/dwi_data/stats_alt_reg/MD/sub-225_in-MNI_MD_before.nii.gz -s 2.547965 /export2/DATA/HIS/HIS_server/analysis/dwi_data/stats_alt_reg/MD/sub-225_in-MNI_ss6mm_MD_before.nii.gz\n",
      "fslmaths /export2/DATA/HIS/HIS_server/analysis/dwi_data/stats_alt_reg/FA/sub-225_in-MNI_FA_before.nii.gz -s 2.547965 /export2/DATA/HIS/HIS_server/analysis/dwi_data/stats_alt_reg/FA/sub-225_in-MNI_ss6mm_FA_before.nii.gz\n",
      "fslmaths /export2/DATA/HIS/HIS_server/analysis/dwi_data/stats_alt_reg/MD/sub-225_in-MNI_MD_after.nii.gz -s 2.547965 /export2/DATA/HIS/HIS_server/analysis/dwi_data/stats_alt_reg/MD/sub-225_in-MNI_ss6mm_MD_after.nii.gz\n",
      "fslmaths /export2/DATA/HIS/HIS_server/analysis/dwi_data/stats_alt_reg/FA/sub-225_in-MNI_FA_after.nii.gz -s 2.547965 /export2/DATA/HIS/HIS_server/analysis/dwi_data/stats_alt_reg/FA/sub-225_in-MNI_ss6mm_FA_after.nii.gz\n",
      "fslmaths /export2/DATA/HIS/HIS_server/analysis/dwi_data/stats_alt_reg/MD/sub-227_in-MNI_MD_before.nii.gz -s 2.547965 /export2/DATA/HIS/HIS_server/analysis/dwi_data/stats_alt_reg/MD/sub-227_in-MNI_ss6mm_MD_before.nii.gz\n",
      "fslmaths /export2/DATA/HIS/HIS_server/analysis/dwi_data/stats_alt_reg/FA/sub-227_in-MNI_FA_before.nii.gz -s 2.547965 /export2/DATA/HIS/HIS_server/analysis/dwi_data/stats_alt_reg/FA/sub-227_in-MNI_ss6mm_FA_before.nii.gz\n",
      "fslmaths /export2/DATA/HIS/HIS_server/analysis/dwi_data/stats_alt_reg/MD/sub-227_in-MNI_MD_after.nii.gz -s 2.547965 /export2/DATA/HIS/HIS_server/analysis/dwi_data/stats_alt_reg/MD/sub-227_in-MNI_ss6mm_MD_after.nii.gz\n",
      "fslmaths /export2/DATA/HIS/HIS_server/analysis/dwi_data/stats_alt_reg/FA/sub-227_in-MNI_FA_after.nii.gz -s 2.547965 /export2/DATA/HIS/HIS_server/analysis/dwi_data/stats_alt_reg/FA/sub-227_in-MNI_ss6mm_FA_after.nii.gz\n",
      "fslmaths /export2/DATA/HIS/HIS_server/analysis/dwi_data/stats_alt_reg/MD/sub-229_in-MNI_MD_before.nii.gz -s 2.547965 /export2/DATA/HIS/HIS_server/analysis/dwi_data/stats_alt_reg/MD/sub-229_in-MNI_ss6mm_MD_before.nii.gz\n",
      "fslmaths /export2/DATA/HIS/HIS_server/analysis/dwi_data/stats_alt_reg/FA/sub-229_in-MNI_FA_before.nii.gz -s 2.547965 /export2/DATA/HIS/HIS_server/analysis/dwi_data/stats_alt_reg/FA/sub-229_in-MNI_ss6mm_FA_before.nii.gz\n",
      "fslmaths /export2/DATA/HIS/HIS_server/analysis/dwi_data/stats_alt_reg/MD/sub-229_in-MNI_MD_after.nii.gz -s 2.547965 /export2/DATA/HIS/HIS_server/analysis/dwi_data/stats_alt_reg/MD/sub-229_in-MNI_ss6mm_MD_after.nii.gz\n",
      "fslmaths /export2/DATA/HIS/HIS_server/analysis/dwi_data/stats_alt_reg/FA/sub-229_in-MNI_FA_after.nii.gz -s 2.547965 /export2/DATA/HIS/HIS_server/analysis/dwi_data/stats_alt_reg/FA/sub-229_in-MNI_ss6mm_FA_after.nii.gz\n",
      "fslmaths /export2/DATA/HIS/HIS_server/analysis/dwi_data/stats_alt_reg/MD/sub-230_in-MNI_MD_before.nii.gz -s 2.547965 /export2/DATA/HIS/HIS_server/analysis/dwi_data/stats_alt_reg/MD/sub-230_in-MNI_ss6mm_MD_before.nii.gz\n",
      "fslmaths /export2/DATA/HIS/HIS_server/analysis/dwi_data/stats_alt_reg/FA/sub-230_in-MNI_FA_before.nii.gz -s 2.547965 /export2/DATA/HIS/HIS_server/analysis/dwi_data/stats_alt_reg/FA/sub-230_in-MNI_ss6mm_FA_before.nii.gz\n",
      "fslmaths /export2/DATA/HIS/HIS_server/analysis/dwi_data/stats_alt_reg/MD/sub-230_in-MNI_MD_after.nii.gz -s 2.547965 /export2/DATA/HIS/HIS_server/analysis/dwi_data/stats_alt_reg/MD/sub-230_in-MNI_ss6mm_MD_after.nii.gz\n",
      "fslmaths /export2/DATA/HIS/HIS_server/analysis/dwi_data/stats_alt_reg/FA/sub-230_in-MNI_FA_after.nii.gz -s 2.547965 /export2/DATA/HIS/HIS_server/analysis/dwi_data/stats_alt_reg/FA/sub-230_in-MNI_ss6mm_FA_after.nii.gz\n",
      "fslmaths /export2/DATA/HIS/HIS_server/analysis/dwi_data/stats_alt_reg/MD/sub-232_in-MNI_MD_before.nii.gz -s 2.547965 /export2/DATA/HIS/HIS_server/analysis/dwi_data/stats_alt_reg/MD/sub-232_in-MNI_ss6mm_MD_before.nii.gz\n",
      "fslmaths /export2/DATA/HIS/HIS_server/analysis/dwi_data/stats_alt_reg/FA/sub-232_in-MNI_FA_before.nii.gz -s 2.547965 /export2/DATA/HIS/HIS_server/analysis/dwi_data/stats_alt_reg/FA/sub-232_in-MNI_ss6mm_FA_before.nii.gz\n",
      "fslmaths /export2/DATA/HIS/HIS_server/analysis/dwi_data/stats_alt_reg/MD/sub-232_in-MNI_MD_after.nii.gz -s 2.547965 /export2/DATA/HIS/HIS_server/analysis/dwi_data/stats_alt_reg/MD/sub-232_in-MNI_ss6mm_MD_after.nii.gz\n",
      "fslmaths /export2/DATA/HIS/HIS_server/analysis/dwi_data/stats_alt_reg/FA/sub-232_in-MNI_FA_after.nii.gz -s 2.547965 /export2/DATA/HIS/HIS_server/analysis/dwi_data/stats_alt_reg/FA/sub-232_in-MNI_ss6mm_FA_after.nii.gz\n",
      "fslmaths /export2/DATA/HIS/HIS_server/analysis/dwi_data/stats_alt_reg/MD/sub-234_in-MNI_MD_before.nii.gz -s 2.547965 /export2/DATA/HIS/HIS_server/analysis/dwi_data/stats_alt_reg/MD/sub-234_in-MNI_ss6mm_MD_before.nii.gz\n",
      "fslmaths /export2/DATA/HIS/HIS_server/analysis/dwi_data/stats_alt_reg/FA/sub-234_in-MNI_FA_before.nii.gz -s 2.547965 /export2/DATA/HIS/HIS_server/analysis/dwi_data/stats_alt_reg/FA/sub-234_in-MNI_ss6mm_FA_before.nii.gz\n",
      "fslmaths /export2/DATA/HIS/HIS_server/analysis/dwi_data/stats_alt_reg/MD/sub-234_in-MNI_MD_after.nii.gz -s 2.547965 /export2/DATA/HIS/HIS_server/analysis/dwi_data/stats_alt_reg/MD/sub-234_in-MNI_ss6mm_MD_after.nii.gz\n",
      "fslmaths /export2/DATA/HIS/HIS_server/analysis/dwi_data/stats_alt_reg/FA/sub-234_in-MNI_FA_after.nii.gz -s 2.547965 /export2/DATA/HIS/HIS_server/analysis/dwi_data/stats_alt_reg/FA/sub-234_in-MNI_ss6mm_FA_after.nii.gz\n",
      "fslmaths /export2/DATA/HIS/HIS_server/analysis/dwi_data/stats_alt_reg/MD/sub-235_in-MNI_MD_before.nii.gz -s 2.547965 /export2/DATA/HIS/HIS_server/analysis/dwi_data/stats_alt_reg/MD/sub-235_in-MNI_ss6mm_MD_before.nii.gz\n",
      "fslmaths /export2/DATA/HIS/HIS_server/analysis/dwi_data/stats_alt_reg/FA/sub-235_in-MNI_FA_before.nii.gz -s 2.547965 /export2/DATA/HIS/HIS_server/analysis/dwi_data/stats_alt_reg/FA/sub-235_in-MNI_ss6mm_FA_before.nii.gz\n",
      "fslmaths /export2/DATA/HIS/HIS_server/analysis/dwi_data/stats_alt_reg/MD/sub-235_in-MNI_MD_after.nii.gz -s 2.547965 /export2/DATA/HIS/HIS_server/analysis/dwi_data/stats_alt_reg/MD/sub-235_in-MNI_ss6mm_MD_after.nii.gz\n",
      "fslmaths /export2/DATA/HIS/HIS_server/analysis/dwi_data/stats_alt_reg/FA/sub-235_in-MNI_FA_after.nii.gz -s 2.547965 /export2/DATA/HIS/HIS_server/analysis/dwi_data/stats_alt_reg/FA/sub-235_in-MNI_ss6mm_FA_after.nii.gz\n",
      "fslmaths /export2/DATA/HIS/HIS_server/analysis/dwi_data/stats_alt_reg/MD/sub-238_in-MNI_MD_before.nii.gz -s 2.547965 /export2/DATA/HIS/HIS_server/analysis/dwi_data/stats_alt_reg/MD/sub-238_in-MNI_ss6mm_MD_before.nii.gz\n",
      "fslmaths /export2/DATA/HIS/HIS_server/analysis/dwi_data/stats_alt_reg/FA/sub-238_in-MNI_FA_before.nii.gz -s 2.547965 /export2/DATA/HIS/HIS_server/analysis/dwi_data/stats_alt_reg/FA/sub-238_in-MNI_ss6mm_FA_before.nii.gz\n",
      "fslmaths /export2/DATA/HIS/HIS_server/analysis/dwi_data/stats_alt_reg/MD/sub-238_in-MNI_MD_after.nii.gz -s 2.547965 /export2/DATA/HIS/HIS_server/analysis/dwi_data/stats_alt_reg/MD/sub-238_in-MNI_ss6mm_MD_after.nii.gz\n",
      "fslmaths /export2/DATA/HIS/HIS_server/analysis/dwi_data/stats_alt_reg/FA/sub-238_in-MNI_FA_after.nii.gz -s 2.547965 /export2/DATA/HIS/HIS_server/analysis/dwi_data/stats_alt_reg/FA/sub-238_in-MNI_ss6mm_FA_after.nii.gz\n",
      "fslmaths /export2/DATA/HIS/HIS_server/analysis/dwi_data/stats_alt_reg/MD/sub-239_in-MNI_MD_before.nii.gz -s 2.547965 /export2/DATA/HIS/HIS_server/analysis/dwi_data/stats_alt_reg/MD/sub-239_in-MNI_ss6mm_MD_before.nii.gz\n",
      "fslmaths /export2/DATA/HIS/HIS_server/analysis/dwi_data/stats_alt_reg/FA/sub-239_in-MNI_FA_before.nii.gz -s 2.547965 /export2/DATA/HIS/HIS_server/analysis/dwi_data/stats_alt_reg/FA/sub-239_in-MNI_ss6mm_FA_before.nii.gz\n",
      "fslmaths /export2/DATA/HIS/HIS_server/analysis/dwi_data/stats_alt_reg/MD/sub-239_in-MNI_MD_after.nii.gz -s 2.547965 /export2/DATA/HIS/HIS_server/analysis/dwi_data/stats_alt_reg/MD/sub-239_in-MNI_ss6mm_MD_after.nii.gz\n",
      "fslmaths /export2/DATA/HIS/HIS_server/analysis/dwi_data/stats_alt_reg/FA/sub-239_in-MNI_FA_after.nii.gz -s 2.547965 /export2/DATA/HIS/HIS_server/analysis/dwi_data/stats_alt_reg/FA/sub-239_in-MNI_ss6mm_FA_after.nii.gz\n",
      "fslmaths /export2/DATA/HIS/HIS_server/analysis/dwi_data/stats_alt_reg/MD/sub-240_in-MNI_MD_before.nii.gz -s 2.547965 /export2/DATA/HIS/HIS_server/analysis/dwi_data/stats_alt_reg/MD/sub-240_in-MNI_ss6mm_MD_before.nii.gz\n",
      "fslmaths /export2/DATA/HIS/HIS_server/analysis/dwi_data/stats_alt_reg/FA/sub-240_in-MNI_FA_before.nii.gz -s 2.547965 /export2/DATA/HIS/HIS_server/analysis/dwi_data/stats_alt_reg/FA/sub-240_in-MNI_ss6mm_FA_before.nii.gz\n",
      "fslmaths /export2/DATA/HIS/HIS_server/analysis/dwi_data/stats_alt_reg/MD/sub-240_in-MNI_MD_after.nii.gz -s 2.547965 /export2/DATA/HIS/HIS_server/analysis/dwi_data/stats_alt_reg/MD/sub-240_in-MNI_ss6mm_MD_after.nii.gz\n",
      "fslmaths /export2/DATA/HIS/HIS_server/analysis/dwi_data/stats_alt_reg/FA/sub-240_in-MNI_FA_after.nii.gz -s 2.547965 /export2/DATA/HIS/HIS_server/analysis/dwi_data/stats_alt_reg/FA/sub-240_in-MNI_ss6mm_FA_after.nii.gz\n",
      "fslmaths /export2/DATA/HIS/HIS_server/analysis/dwi_data/stats_alt_reg/MD/sub-241_in-MNI_MD_before.nii.gz -s 2.547965 /export2/DATA/HIS/HIS_server/analysis/dwi_data/stats_alt_reg/MD/sub-241_in-MNI_ss6mm_MD_before.nii.gz\n",
      "fslmaths /export2/DATA/HIS/HIS_server/analysis/dwi_data/stats_alt_reg/FA/sub-241_in-MNI_FA_before.nii.gz -s 2.547965 /export2/DATA/HIS/HIS_server/analysis/dwi_data/stats_alt_reg/FA/sub-241_in-MNI_ss6mm_FA_before.nii.gz\n",
      "fslmaths /export2/DATA/HIS/HIS_server/analysis/dwi_data/stats_alt_reg/MD/sub-241_in-MNI_MD_after.nii.gz -s 2.547965 /export2/DATA/HIS/HIS_server/analysis/dwi_data/stats_alt_reg/MD/sub-241_in-MNI_ss6mm_MD_after.nii.gz\n",
      "fslmaths /export2/DATA/HIS/HIS_server/analysis/dwi_data/stats_alt_reg/FA/sub-241_in-MNI_FA_after.nii.gz -s 2.547965 /export2/DATA/HIS/HIS_server/analysis/dwi_data/stats_alt_reg/FA/sub-241_in-MNI_ss6mm_FA_after.nii.gz\n",
      "fslmaths /export2/DATA/HIS/HIS_server/analysis/dwi_data/stats_alt_reg/MD/sub-242_in-MNI_MD_before.nii.gz -s 2.547965 /export2/DATA/HIS/HIS_server/analysis/dwi_data/stats_alt_reg/MD/sub-242_in-MNI_ss6mm_MD_before.nii.gz\n",
      "fslmaths /export2/DATA/HIS/HIS_server/analysis/dwi_data/stats_alt_reg/FA/sub-242_in-MNI_FA_before.nii.gz -s 2.547965 /export2/DATA/HIS/HIS_server/analysis/dwi_data/stats_alt_reg/FA/sub-242_in-MNI_ss6mm_FA_before.nii.gz\n",
      "fslmaths /export2/DATA/HIS/HIS_server/analysis/dwi_data/stats_alt_reg/MD/sub-242_in-MNI_MD_after.nii.gz -s 2.547965 /export2/DATA/HIS/HIS_server/analysis/dwi_data/stats_alt_reg/MD/sub-242_in-MNI_ss6mm_MD_after.nii.gz\n",
      "fslmaths /export2/DATA/HIS/HIS_server/analysis/dwi_data/stats_alt_reg/FA/sub-242_in-MNI_FA_after.nii.gz -s 2.547965 /export2/DATA/HIS/HIS_server/analysis/dwi_data/stats_alt_reg/FA/sub-242_in-MNI_ss6mm_FA_after.nii.gz\n",
      "fslmaths /export2/DATA/HIS/HIS_server/analysis/dwi_data/stats_alt_reg/MD/sub-243_in-MNI_MD_before.nii.gz -s 2.547965 /export2/DATA/HIS/HIS_server/analysis/dwi_data/stats_alt_reg/MD/sub-243_in-MNI_ss6mm_MD_before.nii.gz\n",
      "fslmaths /export2/DATA/HIS/HIS_server/analysis/dwi_data/stats_alt_reg/FA/sub-243_in-MNI_FA_before.nii.gz -s 2.547965 /export2/DATA/HIS/HIS_server/analysis/dwi_data/stats_alt_reg/FA/sub-243_in-MNI_ss6mm_FA_before.nii.gz\n",
      "fslmaths /export2/DATA/HIS/HIS_server/analysis/dwi_data/stats_alt_reg/MD/sub-243_in-MNI_MD_after.nii.gz -s 2.547965 /export2/DATA/HIS/HIS_server/analysis/dwi_data/stats_alt_reg/MD/sub-243_in-MNI_ss6mm_MD_after.nii.gz\n",
      "fslmaths /export2/DATA/HIS/HIS_server/analysis/dwi_data/stats_alt_reg/FA/sub-243_in-MNI_FA_after.nii.gz -s 2.547965 /export2/DATA/HIS/HIS_server/analysis/dwi_data/stats_alt_reg/FA/sub-243_in-MNI_ss6mm_FA_after.nii.gz\n",
      "fslmaths /export2/DATA/HIS/HIS_server/analysis/dwi_data/stats_alt_reg/MD/sub-245_in-MNI_MD_before.nii.gz -s 2.547965 /export2/DATA/HIS/HIS_server/analysis/dwi_data/stats_alt_reg/MD/sub-245_in-MNI_ss6mm_MD_before.nii.gz\n",
      "fslmaths /export2/DATA/HIS/HIS_server/analysis/dwi_data/stats_alt_reg/FA/sub-245_in-MNI_FA_before.nii.gz -s 2.547965 /export2/DATA/HIS/HIS_server/analysis/dwi_data/stats_alt_reg/FA/sub-245_in-MNI_ss6mm_FA_before.nii.gz\n",
      "fslmaths /export2/DATA/HIS/HIS_server/analysis/dwi_data/stats_alt_reg/MD/sub-245_in-MNI_MD_after.nii.gz -s 2.547965 /export2/DATA/HIS/HIS_server/analysis/dwi_data/stats_alt_reg/MD/sub-245_in-MNI_ss6mm_MD_after.nii.gz\n",
      "fslmaths /export2/DATA/HIS/HIS_server/analysis/dwi_data/stats_alt_reg/FA/sub-245_in-MNI_FA_after.nii.gz -s 2.547965 /export2/DATA/HIS/HIS_server/analysis/dwi_data/stats_alt_reg/FA/sub-245_in-MNI_ss6mm_FA_after.nii.gz\n",
      "fslmaths /export2/DATA/HIS/HIS_server/analysis/dwi_data/stats_alt_reg/MD/sub-247_in-MNI_MD_before.nii.gz -s 2.547965 /export2/DATA/HIS/HIS_server/analysis/dwi_data/stats_alt_reg/MD/sub-247_in-MNI_ss6mm_MD_before.nii.gz\n",
      "fslmaths /export2/DATA/HIS/HIS_server/analysis/dwi_data/stats_alt_reg/FA/sub-247_in-MNI_FA_before.nii.gz -s 2.547965 /export2/DATA/HIS/HIS_server/analysis/dwi_data/stats_alt_reg/FA/sub-247_in-MNI_ss6mm_FA_before.nii.gz\n",
      "fslmaths /export2/DATA/HIS/HIS_server/analysis/dwi_data/stats_alt_reg/MD/sub-247_in-MNI_MD_after.nii.gz -s 2.547965 /export2/DATA/HIS/HIS_server/analysis/dwi_data/stats_alt_reg/MD/sub-247_in-MNI_ss6mm_MD_after.nii.gz\n",
      "fslmaths /export2/DATA/HIS/HIS_server/analysis/dwi_data/stats_alt_reg/FA/sub-247_in-MNI_FA_after.nii.gz -s 2.547965 /export2/DATA/HIS/HIS_server/analysis/dwi_data/stats_alt_reg/FA/sub-247_in-MNI_ss6mm_FA_after.nii.gz\n",
      "fslmaths /export2/DATA/HIS/HIS_server/analysis/dwi_data/stats_alt_reg/MD/sub-248_in-MNI_MD_before.nii.gz -s 2.547965 /export2/DATA/HIS/HIS_server/analysis/dwi_data/stats_alt_reg/MD/sub-248_in-MNI_ss6mm_MD_before.nii.gz\n",
      "fslmaths /export2/DATA/HIS/HIS_server/analysis/dwi_data/stats_alt_reg/FA/sub-248_in-MNI_FA_before.nii.gz -s 2.547965 /export2/DATA/HIS/HIS_server/analysis/dwi_data/stats_alt_reg/FA/sub-248_in-MNI_ss6mm_FA_before.nii.gz\n",
      "fslmaths /export2/DATA/HIS/HIS_server/analysis/dwi_data/stats_alt_reg/MD/sub-248_in-MNI_MD_after.nii.gz -s 2.547965 /export2/DATA/HIS/HIS_server/analysis/dwi_data/stats_alt_reg/MD/sub-248_in-MNI_ss6mm_MD_after.nii.gz\n",
      "fslmaths /export2/DATA/HIS/HIS_server/analysis/dwi_data/stats_alt_reg/FA/sub-248_in-MNI_FA_after.nii.gz -s 2.547965 /export2/DATA/HIS/HIS_server/analysis/dwi_data/stats_alt_reg/FA/sub-248_in-MNI_ss6mm_FA_after.nii.gz\n",
      "fslmaths /export2/DATA/HIS/HIS_server/analysis/dwi_data/stats_alt_reg/MD/sub-249_in-MNI_MD_before.nii.gz -s 2.547965 /export2/DATA/HIS/HIS_server/analysis/dwi_data/stats_alt_reg/MD/sub-249_in-MNI_ss6mm_MD_before.nii.gz\n",
      "fslmaths /export2/DATA/HIS/HIS_server/analysis/dwi_data/stats_alt_reg/FA/sub-249_in-MNI_FA_before.nii.gz -s 2.547965 /export2/DATA/HIS/HIS_server/analysis/dwi_data/stats_alt_reg/FA/sub-249_in-MNI_ss6mm_FA_before.nii.gz\n",
      "fslmaths /export2/DATA/HIS/HIS_server/analysis/dwi_data/stats_alt_reg/MD/sub-249_in-MNI_MD_after.nii.gz -s 2.547965 /export2/DATA/HIS/HIS_server/analysis/dwi_data/stats_alt_reg/MD/sub-249_in-MNI_ss6mm_MD_after.nii.gz\n",
      "fslmaths /export2/DATA/HIS/HIS_server/analysis/dwi_data/stats_alt_reg/FA/sub-249_in-MNI_FA_after.nii.gz -s 2.547965 /export2/DATA/HIS/HIS_server/analysis/dwi_data/stats_alt_reg/FA/sub-249_in-MNI_ss6mm_FA_after.nii.gz\n",
      "fslmaths /export2/DATA/HIS/HIS_server/analysis/dwi_data/stats_alt_reg/MD/sub-251_in-MNI_MD_before.nii.gz -s 2.547965 /export2/DATA/HIS/HIS_server/analysis/dwi_data/stats_alt_reg/MD/sub-251_in-MNI_ss6mm_MD_before.nii.gz\n",
      "fslmaths /export2/DATA/HIS/HIS_server/analysis/dwi_data/stats_alt_reg/FA/sub-251_in-MNI_FA_before.nii.gz -s 2.547965 /export2/DATA/HIS/HIS_server/analysis/dwi_data/stats_alt_reg/FA/sub-251_in-MNI_ss6mm_FA_before.nii.gz\n",
      "fslmaths /export2/DATA/HIS/HIS_server/analysis/dwi_data/stats_alt_reg/MD/sub-251_in-MNI_MD_after.nii.gz -s 2.547965 /export2/DATA/HIS/HIS_server/analysis/dwi_data/stats_alt_reg/MD/sub-251_in-MNI_ss6mm_MD_after.nii.gz\n",
      "fslmaths /export2/DATA/HIS/HIS_server/analysis/dwi_data/stats_alt_reg/FA/sub-251_in-MNI_FA_after.nii.gz -s 2.547965 /export2/DATA/HIS/HIS_server/analysis/dwi_data/stats_alt_reg/FA/sub-251_in-MNI_ss6mm_FA_after.nii.gz\n",
      "fslmaths /export2/DATA/HIS/HIS_server/analysis/dwi_data/stats_alt_reg/MD/sub-252_in-MNI_MD_before.nii.gz -s 2.547965 /export2/DATA/HIS/HIS_server/analysis/dwi_data/stats_alt_reg/MD/sub-252_in-MNI_ss6mm_MD_before.nii.gz\n",
      "fslmaths /export2/DATA/HIS/HIS_server/analysis/dwi_data/stats_alt_reg/FA/sub-252_in-MNI_FA_before.nii.gz -s 2.547965 /export2/DATA/HIS/HIS_server/analysis/dwi_data/stats_alt_reg/FA/sub-252_in-MNI_ss6mm_FA_before.nii.gz\n",
      "fslmaths /export2/DATA/HIS/HIS_server/analysis/dwi_data/stats_alt_reg/MD/sub-252_in-MNI_MD_after.nii.gz -s 2.547965 /export2/DATA/HIS/HIS_server/analysis/dwi_data/stats_alt_reg/MD/sub-252_in-MNI_ss6mm_MD_after.nii.gz\n",
      "fslmaths /export2/DATA/HIS/HIS_server/analysis/dwi_data/stats_alt_reg/FA/sub-252_in-MNI_FA_after.nii.gz -s 2.547965 /export2/DATA/HIS/HIS_server/analysis/dwi_data/stats_alt_reg/FA/sub-252_in-MNI_ss6mm_FA_after.nii.gz\n",
      "fslmaths /export2/DATA/HIS/HIS_server/analysis/dwi_data/stats_alt_reg/MD/sub-254_in-MNI_MD_before.nii.gz -s 2.547965 /export2/DATA/HIS/HIS_server/analysis/dwi_data/stats_alt_reg/MD/sub-254_in-MNI_ss6mm_MD_before.nii.gz\n",
      "fslmaths /export2/DATA/HIS/HIS_server/analysis/dwi_data/stats_alt_reg/FA/sub-254_in-MNI_FA_before.nii.gz -s 2.547965 /export2/DATA/HIS/HIS_server/analysis/dwi_data/stats_alt_reg/FA/sub-254_in-MNI_ss6mm_FA_before.nii.gz\n",
      "fslmaths /export2/DATA/HIS/HIS_server/analysis/dwi_data/stats_alt_reg/MD/sub-254_in-MNI_MD_after.nii.gz -s 2.547965 /export2/DATA/HIS/HIS_server/analysis/dwi_data/stats_alt_reg/MD/sub-254_in-MNI_ss6mm_MD_after.nii.gz\n",
      "fslmaths /export2/DATA/HIS/HIS_server/analysis/dwi_data/stats_alt_reg/FA/sub-254_in-MNI_FA_after.nii.gz -s 2.547965 /export2/DATA/HIS/HIS_server/analysis/dwi_data/stats_alt_reg/FA/sub-254_in-MNI_ss6mm_FA_after.nii.gz\n",
      "fslmaths /export2/DATA/HIS/HIS_server/analysis/dwi_data/stats_alt_reg/MD/sub-255_in-MNI_MD_before.nii.gz -s 2.547965 /export2/DATA/HIS/HIS_server/analysis/dwi_data/stats_alt_reg/MD/sub-255_in-MNI_ss6mm_MD_before.nii.gz\n",
      "fslmaths /export2/DATA/HIS/HIS_server/analysis/dwi_data/stats_alt_reg/FA/sub-255_in-MNI_FA_before.nii.gz -s 2.547965 /export2/DATA/HIS/HIS_server/analysis/dwi_data/stats_alt_reg/FA/sub-255_in-MNI_ss6mm_FA_before.nii.gz\n",
      "fslmaths /export2/DATA/HIS/HIS_server/analysis/dwi_data/stats_alt_reg/MD/sub-255_in-MNI_MD_after.nii.gz -s 2.547965 /export2/DATA/HIS/HIS_server/analysis/dwi_data/stats_alt_reg/MD/sub-255_in-MNI_ss6mm_MD_after.nii.gz\n",
      "fslmaths /export2/DATA/HIS/HIS_server/analysis/dwi_data/stats_alt_reg/FA/sub-255_in-MNI_FA_after.nii.gz -s 2.547965 /export2/DATA/HIS/HIS_server/analysis/dwi_data/stats_alt_reg/FA/sub-255_in-MNI_ss6mm_FA_after.nii.gz\n",
      "fslmaths /export2/DATA/HIS/HIS_server/analysis/dwi_data/stats_alt_reg/MD/sub-257_in-MNI_MD_before.nii.gz -s 2.547965 /export2/DATA/HIS/HIS_server/analysis/dwi_data/stats_alt_reg/MD/sub-257_in-MNI_ss6mm_MD_before.nii.gz\n",
      "fslmaths /export2/DATA/HIS/HIS_server/analysis/dwi_data/stats_alt_reg/FA/sub-257_in-MNI_FA_before.nii.gz -s 2.547965 /export2/DATA/HIS/HIS_server/analysis/dwi_data/stats_alt_reg/FA/sub-257_in-MNI_ss6mm_FA_before.nii.gz\n",
      "fslmaths /export2/DATA/HIS/HIS_server/analysis/dwi_data/stats_alt_reg/MD/sub-257_in-MNI_MD_after.nii.gz -s 2.547965 /export2/DATA/HIS/HIS_server/analysis/dwi_data/stats_alt_reg/MD/sub-257_in-MNI_ss6mm_MD_after.nii.gz\n",
      "fslmaths /export2/DATA/HIS/HIS_server/analysis/dwi_data/stats_alt_reg/FA/sub-257_in-MNI_FA_after.nii.gz -s 2.547965 /export2/DATA/HIS/HIS_server/analysis/dwi_data/stats_alt_reg/FA/sub-257_in-MNI_ss6mm_FA_after.nii.gz\n",
      "fslmaths /export2/DATA/HIS/HIS_server/analysis/dwi_data/stats_alt_reg/MD/sub-258_in-MNI_MD_before.nii.gz -s 2.547965 /export2/DATA/HIS/HIS_server/analysis/dwi_data/stats_alt_reg/MD/sub-258_in-MNI_ss6mm_MD_before.nii.gz\n",
      "fslmaths /export2/DATA/HIS/HIS_server/analysis/dwi_data/stats_alt_reg/FA/sub-258_in-MNI_FA_before.nii.gz -s 2.547965 /export2/DATA/HIS/HIS_server/analysis/dwi_data/stats_alt_reg/FA/sub-258_in-MNI_ss6mm_FA_before.nii.gz\n",
      "fslmaths /export2/DATA/HIS/HIS_server/analysis/dwi_data/stats_alt_reg/MD/sub-258_in-MNI_MD_after.nii.gz -s 2.547965 /export2/DATA/HIS/HIS_server/analysis/dwi_data/stats_alt_reg/MD/sub-258_in-MNI_ss6mm_MD_after.nii.gz\n",
      "fslmaths /export2/DATA/HIS/HIS_server/analysis/dwi_data/stats_alt_reg/FA/sub-258_in-MNI_FA_after.nii.gz -s 2.547965 /export2/DATA/HIS/HIS_server/analysis/dwi_data/stats_alt_reg/FA/sub-258_in-MNI_ss6mm_FA_after.nii.gz\n",
      "fslmaths /export2/DATA/HIS/HIS_server/analysis/dwi_data/stats_alt_reg/MD/sub-260_in-MNI_MD_before.nii.gz -s 2.547965 /export2/DATA/HIS/HIS_server/analysis/dwi_data/stats_alt_reg/MD/sub-260_in-MNI_ss6mm_MD_before.nii.gz\n",
      "fslmaths /export2/DATA/HIS/HIS_server/analysis/dwi_data/stats_alt_reg/FA/sub-260_in-MNI_FA_before.nii.gz -s 2.547965 /export2/DATA/HIS/HIS_server/analysis/dwi_data/stats_alt_reg/FA/sub-260_in-MNI_ss6mm_FA_before.nii.gz\n",
      "fslmaths /export2/DATA/HIS/HIS_server/analysis/dwi_data/stats_alt_reg/MD/sub-260_in-MNI_MD_after.nii.gz -s 2.547965 /export2/DATA/HIS/HIS_server/analysis/dwi_data/stats_alt_reg/MD/sub-260_in-MNI_ss6mm_MD_after.nii.gz\n",
      "fslmaths /export2/DATA/HIS/HIS_server/analysis/dwi_data/stats_alt_reg/FA/sub-260_in-MNI_FA_after.nii.gz -s 2.547965 /export2/DATA/HIS/HIS_server/analysis/dwi_data/stats_alt_reg/FA/sub-260_in-MNI_ss6mm_FA_after.nii.gz\n",
      "fslmaths /export2/DATA/HIS/HIS_server/analysis/dwi_data/stats_alt_reg/MD/sub-261_in-MNI_MD_before.nii.gz -s 2.547965 /export2/DATA/HIS/HIS_server/analysis/dwi_data/stats_alt_reg/MD/sub-261_in-MNI_ss6mm_MD_before.nii.gz\n",
      "fslmaths /export2/DATA/HIS/HIS_server/analysis/dwi_data/stats_alt_reg/FA/sub-261_in-MNI_FA_before.nii.gz -s 2.547965 /export2/DATA/HIS/HIS_server/analysis/dwi_data/stats_alt_reg/FA/sub-261_in-MNI_ss6mm_FA_before.nii.gz\n",
      "fslmaths /export2/DATA/HIS/HIS_server/analysis/dwi_data/stats_alt_reg/MD/sub-261_in-MNI_MD_after.nii.gz -s 2.547965 /export2/DATA/HIS/HIS_server/analysis/dwi_data/stats_alt_reg/MD/sub-261_in-MNI_ss6mm_MD_after.nii.gz\n",
      "fslmaths /export2/DATA/HIS/HIS_server/analysis/dwi_data/stats_alt_reg/FA/sub-261_in-MNI_FA_after.nii.gz -s 2.547965 /export2/DATA/HIS/HIS_server/analysis/dwi_data/stats_alt_reg/FA/sub-261_in-MNI_ss6mm_FA_after.nii.gz\n",
      "fslmaths /export2/DATA/HIS/HIS_server/analysis/dwi_data/stats_alt_reg/MD/sub-262_in-MNI_MD_before.nii.gz -s 2.547965 /export2/DATA/HIS/HIS_server/analysis/dwi_data/stats_alt_reg/MD/sub-262_in-MNI_ss6mm_MD_before.nii.gz\n",
      "fslmaths /export2/DATA/HIS/HIS_server/analysis/dwi_data/stats_alt_reg/FA/sub-262_in-MNI_FA_before.nii.gz -s 2.547965 /export2/DATA/HIS/HIS_server/analysis/dwi_data/stats_alt_reg/FA/sub-262_in-MNI_ss6mm_FA_before.nii.gz\n",
      "fslmaths /export2/DATA/HIS/HIS_server/analysis/dwi_data/stats_alt_reg/MD/sub-262_in-MNI_MD_after.nii.gz -s 2.547965 /export2/DATA/HIS/HIS_server/analysis/dwi_data/stats_alt_reg/MD/sub-262_in-MNI_ss6mm_MD_after.nii.gz\n",
      "fslmaths /export2/DATA/HIS/HIS_server/analysis/dwi_data/stats_alt_reg/FA/sub-262_in-MNI_FA_after.nii.gz -s 2.547965 /export2/DATA/HIS/HIS_server/analysis/dwi_data/stats_alt_reg/FA/sub-262_in-MNI_ss6mm_FA_after.nii.gz\n",
      "fslmaths /export2/DATA/HIS/HIS_server/analysis/dwi_data/stats_alt_reg/MD/sub-263_in-MNI_MD_before.nii.gz -s 2.547965 /export2/DATA/HIS/HIS_server/analysis/dwi_data/stats_alt_reg/MD/sub-263_in-MNI_ss6mm_MD_before.nii.gz\n",
      "fslmaths /export2/DATA/HIS/HIS_server/analysis/dwi_data/stats_alt_reg/FA/sub-263_in-MNI_FA_before.nii.gz -s 2.547965 /export2/DATA/HIS/HIS_server/analysis/dwi_data/stats_alt_reg/FA/sub-263_in-MNI_ss6mm_FA_before.nii.gz\n",
      "fslmaths /export2/DATA/HIS/HIS_server/analysis/dwi_data/stats_alt_reg/MD/sub-263_in-MNI_MD_after.nii.gz -s 2.547965 /export2/DATA/HIS/HIS_server/analysis/dwi_data/stats_alt_reg/MD/sub-263_in-MNI_ss6mm_MD_after.nii.gz\n",
      "fslmaths /export2/DATA/HIS/HIS_server/analysis/dwi_data/stats_alt_reg/FA/sub-263_in-MNI_FA_after.nii.gz -s 2.547965 /export2/DATA/HIS/HIS_server/analysis/dwi_data/stats_alt_reg/FA/sub-263_in-MNI_ss6mm_FA_after.nii.gz\n",
      "fslmaths /export2/DATA/HIS/HIS_server/analysis/dwi_data/stats_alt_reg/MD/sub-264_in-MNI_MD_before.nii.gz -s 2.547965 /export2/DATA/HIS/HIS_server/analysis/dwi_data/stats_alt_reg/MD/sub-264_in-MNI_ss6mm_MD_before.nii.gz\n",
      "fslmaths /export2/DATA/HIS/HIS_server/analysis/dwi_data/stats_alt_reg/FA/sub-264_in-MNI_FA_before.nii.gz -s 2.547965 /export2/DATA/HIS/HIS_server/analysis/dwi_data/stats_alt_reg/FA/sub-264_in-MNI_ss6mm_FA_before.nii.gz\n",
      "fslmaths /export2/DATA/HIS/HIS_server/analysis/dwi_data/stats_alt_reg/MD/sub-264_in-MNI_MD_after.nii.gz -s 2.547965 /export2/DATA/HIS/HIS_server/analysis/dwi_data/stats_alt_reg/MD/sub-264_in-MNI_ss6mm_MD_after.nii.gz\n",
      "fslmaths /export2/DATA/HIS/HIS_server/analysis/dwi_data/stats_alt_reg/FA/sub-264_in-MNI_FA_after.nii.gz -s 2.547965 /export2/DATA/HIS/HIS_server/analysis/dwi_data/stats_alt_reg/FA/sub-264_in-MNI_ss6mm_FA_after.nii.gz\n",
      "fslmaths /export2/DATA/HIS/HIS_server/analysis/dwi_data/stats_alt_reg/MD/sub-265_in-MNI_MD_before.nii.gz -s 2.547965 /export2/DATA/HIS/HIS_server/analysis/dwi_data/stats_alt_reg/MD/sub-265_in-MNI_ss6mm_MD_before.nii.gz\n",
      "fslmaths /export2/DATA/HIS/HIS_server/analysis/dwi_data/stats_alt_reg/FA/sub-265_in-MNI_FA_before.nii.gz -s 2.547965 /export2/DATA/HIS/HIS_server/analysis/dwi_data/stats_alt_reg/FA/sub-265_in-MNI_ss6mm_FA_before.nii.gz\n",
      "fslmaths /export2/DATA/HIS/HIS_server/analysis/dwi_data/stats_alt_reg/MD/sub-265_in-MNI_MD_after.nii.gz -s 2.547965 /export2/DATA/HIS/HIS_server/analysis/dwi_data/stats_alt_reg/MD/sub-265_in-MNI_ss6mm_MD_after.nii.gz\n",
      "fslmaths /export2/DATA/HIS/HIS_server/analysis/dwi_data/stats_alt_reg/FA/sub-265_in-MNI_FA_after.nii.gz -s 2.547965 /export2/DATA/HIS/HIS_server/analysis/dwi_data/stats_alt_reg/FA/sub-265_in-MNI_ss6mm_FA_after.nii.gz\n",
      "fslmaths /export2/DATA/HIS/HIS_server/analysis/dwi_data/stats_alt_reg/MD/sub-267_in-MNI_MD_before.nii.gz -s 2.547965 /export2/DATA/HIS/HIS_server/analysis/dwi_data/stats_alt_reg/MD/sub-267_in-MNI_ss6mm_MD_before.nii.gz\n",
      "fslmaths /export2/DATA/HIS/HIS_server/analysis/dwi_data/stats_alt_reg/FA/sub-267_in-MNI_FA_before.nii.gz -s 2.547965 /export2/DATA/HIS/HIS_server/analysis/dwi_data/stats_alt_reg/FA/sub-267_in-MNI_ss6mm_FA_before.nii.gz\n",
      "fslmaths /export2/DATA/HIS/HIS_server/analysis/dwi_data/stats_alt_reg/MD/sub-267_in-MNI_MD_after.nii.gz -s 2.547965 /export2/DATA/HIS/HIS_server/analysis/dwi_data/stats_alt_reg/MD/sub-267_in-MNI_ss6mm_MD_after.nii.gz\n",
      "fslmaths /export2/DATA/HIS/HIS_server/analysis/dwi_data/stats_alt_reg/FA/sub-267_in-MNI_FA_after.nii.gz -s 2.547965 /export2/DATA/HIS/HIS_server/analysis/dwi_data/stats_alt_reg/FA/sub-267_in-MNI_ss6mm_FA_after.nii.gz\n",
      "fslmaths /export2/DATA/HIS/HIS_server/analysis/dwi_data/stats_alt_reg/MD/sub-268_in-MNI_MD_before.nii.gz -s 2.547965 /export2/DATA/HIS/HIS_server/analysis/dwi_data/stats_alt_reg/MD/sub-268_in-MNI_ss6mm_MD_before.nii.gz\n",
      "fslmaths /export2/DATA/HIS/HIS_server/analysis/dwi_data/stats_alt_reg/FA/sub-268_in-MNI_FA_before.nii.gz -s 2.547965 /export2/DATA/HIS/HIS_server/analysis/dwi_data/stats_alt_reg/FA/sub-268_in-MNI_ss6mm_FA_before.nii.gz\n",
      "fslmaths /export2/DATA/HIS/HIS_server/analysis/dwi_data/stats_alt_reg/MD/sub-268_in-MNI_MD_after.nii.gz -s 2.547965 /export2/DATA/HIS/HIS_server/analysis/dwi_data/stats_alt_reg/MD/sub-268_in-MNI_ss6mm_MD_after.nii.gz\n",
      "fslmaths /export2/DATA/HIS/HIS_server/analysis/dwi_data/stats_alt_reg/FA/sub-268_in-MNI_FA_after.nii.gz -s 2.547965 /export2/DATA/HIS/HIS_server/analysis/dwi_data/stats_alt_reg/FA/sub-268_in-MNI_ss6mm_FA_after.nii.gz\n",
      "fslmaths /export2/DATA/HIS/HIS_server/analysis/dwi_data/stats_alt_reg/MD/sub-269_in-MNI_MD_before.nii.gz -s 2.547965 /export2/DATA/HIS/HIS_server/analysis/dwi_data/stats_alt_reg/MD/sub-269_in-MNI_ss6mm_MD_before.nii.gz\n",
      "fslmaths /export2/DATA/HIS/HIS_server/analysis/dwi_data/stats_alt_reg/FA/sub-269_in-MNI_FA_before.nii.gz -s 2.547965 /export2/DATA/HIS/HIS_server/analysis/dwi_data/stats_alt_reg/FA/sub-269_in-MNI_ss6mm_FA_before.nii.gz\n",
      "fslmaths /export2/DATA/HIS/HIS_server/analysis/dwi_data/stats_alt_reg/MD/sub-269_in-MNI_MD_after.nii.gz -s 2.547965 /export2/DATA/HIS/HIS_server/analysis/dwi_data/stats_alt_reg/MD/sub-269_in-MNI_ss6mm_MD_after.nii.gz\n",
      "fslmaths /export2/DATA/HIS/HIS_server/analysis/dwi_data/stats_alt_reg/FA/sub-269_in-MNI_FA_after.nii.gz -s 2.547965 /export2/DATA/HIS/HIS_server/analysis/dwi_data/stats_alt_reg/FA/sub-269_in-MNI_ss6mm_FA_after.nii.gz\n",
      "fslmaths /export2/DATA/HIS/HIS_server/analysis/dwi_data/stats_alt_reg/MD/sub-270_in-MNI_MD_before.nii.gz -s 2.547965 /export2/DATA/HIS/HIS_server/analysis/dwi_data/stats_alt_reg/MD/sub-270_in-MNI_ss6mm_MD_before.nii.gz\n",
      "fslmaths /export2/DATA/HIS/HIS_server/analysis/dwi_data/stats_alt_reg/FA/sub-270_in-MNI_FA_before.nii.gz -s 2.547965 /export2/DATA/HIS/HIS_server/analysis/dwi_data/stats_alt_reg/FA/sub-270_in-MNI_ss6mm_FA_before.nii.gz\n",
      "fslmaths /export2/DATA/HIS/HIS_server/analysis/dwi_data/stats_alt_reg/MD/sub-270_in-MNI_MD_after.nii.gz -s 2.547965 /export2/DATA/HIS/HIS_server/analysis/dwi_data/stats_alt_reg/MD/sub-270_in-MNI_ss6mm_MD_after.nii.gz\n",
      "fslmaths /export2/DATA/HIS/HIS_server/analysis/dwi_data/stats_alt_reg/FA/sub-270_in-MNI_FA_after.nii.gz -s 2.547965 /export2/DATA/HIS/HIS_server/analysis/dwi_data/stats_alt_reg/FA/sub-270_in-MNI_ss6mm_FA_after.nii.gz\n",
      "fslmaths /export2/DATA/HIS/HIS_server/analysis/dwi_data/stats_alt_reg/MD/sub-271_in-MNI_MD_before.nii.gz -s 2.547965 /export2/DATA/HIS/HIS_server/analysis/dwi_data/stats_alt_reg/MD/sub-271_in-MNI_ss6mm_MD_before.nii.gz\n",
      "fslmaths /export2/DATA/HIS/HIS_server/analysis/dwi_data/stats_alt_reg/FA/sub-271_in-MNI_FA_before.nii.gz -s 2.547965 /export2/DATA/HIS/HIS_server/analysis/dwi_data/stats_alt_reg/FA/sub-271_in-MNI_ss6mm_FA_before.nii.gz\n",
      "fslmaths /export2/DATA/HIS/HIS_server/analysis/dwi_data/stats_alt_reg/MD/sub-271_in-MNI_MD_after.nii.gz -s 2.547965 /export2/DATA/HIS/HIS_server/analysis/dwi_data/stats_alt_reg/MD/sub-271_in-MNI_ss6mm_MD_after.nii.gz\n",
      "fslmaths /export2/DATA/HIS/HIS_server/analysis/dwi_data/stats_alt_reg/FA/sub-271_in-MNI_FA_after.nii.gz -s 2.547965 /export2/DATA/HIS/HIS_server/analysis/dwi_data/stats_alt_reg/FA/sub-271_in-MNI_ss6mm_FA_after.nii.gz\n",
      "fslmaths /export2/DATA/HIS/HIS_server/analysis/dwi_data/stats_alt_reg/MD/sub-272_in-MNI_MD_before.nii.gz -s 2.547965 /export2/DATA/HIS/HIS_server/analysis/dwi_data/stats_alt_reg/MD/sub-272_in-MNI_ss6mm_MD_before.nii.gz\n",
      "fslmaths /export2/DATA/HIS/HIS_server/analysis/dwi_data/stats_alt_reg/FA/sub-272_in-MNI_FA_before.nii.gz -s 2.547965 /export2/DATA/HIS/HIS_server/analysis/dwi_data/stats_alt_reg/FA/sub-272_in-MNI_ss6mm_FA_before.nii.gz\n",
      "fslmaths /export2/DATA/HIS/HIS_server/analysis/dwi_data/stats_alt_reg/MD/sub-272_in-MNI_MD_after.nii.gz -s 2.547965 /export2/DATA/HIS/HIS_server/analysis/dwi_data/stats_alt_reg/MD/sub-272_in-MNI_ss6mm_MD_after.nii.gz\n",
      "fslmaths /export2/DATA/HIS/HIS_server/analysis/dwi_data/stats_alt_reg/FA/sub-272_in-MNI_FA_after.nii.gz -s 2.547965 /export2/DATA/HIS/HIS_server/analysis/dwi_data/stats_alt_reg/FA/sub-272_in-MNI_ss6mm_FA_after.nii.gz\n",
      "fslmaths /export2/DATA/HIS/HIS_server/analysis/dwi_data/stats_alt_reg/MD/sub-275_in-MNI_MD_before.nii.gz -s 2.547965 /export2/DATA/HIS/HIS_server/analysis/dwi_data/stats_alt_reg/MD/sub-275_in-MNI_ss6mm_MD_before.nii.gz\n",
      "fslmaths /export2/DATA/HIS/HIS_server/analysis/dwi_data/stats_alt_reg/FA/sub-275_in-MNI_FA_before.nii.gz -s 2.547965 /export2/DATA/HIS/HIS_server/analysis/dwi_data/stats_alt_reg/FA/sub-275_in-MNI_ss6mm_FA_before.nii.gz\n",
      "fslmaths /export2/DATA/HIS/HIS_server/analysis/dwi_data/stats_alt_reg/MD/sub-275_in-MNI_MD_after.nii.gz -s 2.547965 /export2/DATA/HIS/HIS_server/analysis/dwi_data/stats_alt_reg/MD/sub-275_in-MNI_ss6mm_MD_after.nii.gz\n",
      "fslmaths /export2/DATA/HIS/HIS_server/analysis/dwi_data/stats_alt_reg/FA/sub-275_in-MNI_FA_after.nii.gz -s 2.547965 /export2/DATA/HIS/HIS_server/analysis/dwi_data/stats_alt_reg/FA/sub-275_in-MNI_ss6mm_FA_after.nii.gz\n",
      "fslmaths /export2/DATA/HIS/HIS_server/analysis/dwi_data/stats_alt_reg/MD/sub-276_in-MNI_MD_before.nii.gz -s 2.547965 /export2/DATA/HIS/HIS_server/analysis/dwi_data/stats_alt_reg/MD/sub-276_in-MNI_ss6mm_MD_before.nii.gz\n",
      "fslmaths /export2/DATA/HIS/HIS_server/analysis/dwi_data/stats_alt_reg/FA/sub-276_in-MNI_FA_before.nii.gz -s 2.547965 /export2/DATA/HIS/HIS_server/analysis/dwi_data/stats_alt_reg/FA/sub-276_in-MNI_ss6mm_FA_before.nii.gz\n",
      "fslmaths /export2/DATA/HIS/HIS_server/analysis/dwi_data/stats_alt_reg/MD/sub-276_in-MNI_MD_after.nii.gz -s 2.547965 /export2/DATA/HIS/HIS_server/analysis/dwi_data/stats_alt_reg/MD/sub-276_in-MNI_ss6mm_MD_after.nii.gz\n",
      "fslmaths /export2/DATA/HIS/HIS_server/analysis/dwi_data/stats_alt_reg/FA/sub-276_in-MNI_FA_after.nii.gz -s 2.547965 /export2/DATA/HIS/HIS_server/analysis/dwi_data/stats_alt_reg/FA/sub-276_in-MNI_ss6mm_FA_after.nii.gz\n",
      "fslmaths /export2/DATA/HIS/HIS_server/analysis/dwi_data/stats_alt_reg/MD/sub-277_in-MNI_MD_before.nii.gz -s 2.547965 /export2/DATA/HIS/HIS_server/analysis/dwi_data/stats_alt_reg/MD/sub-277_in-MNI_ss6mm_MD_before.nii.gz\n",
      "fslmaths /export2/DATA/HIS/HIS_server/analysis/dwi_data/stats_alt_reg/FA/sub-277_in-MNI_FA_before.nii.gz -s 2.547965 /export2/DATA/HIS/HIS_server/analysis/dwi_data/stats_alt_reg/FA/sub-277_in-MNI_ss6mm_FA_before.nii.gz\n",
      "fslmaths /export2/DATA/HIS/HIS_server/analysis/dwi_data/stats_alt_reg/MD/sub-277_in-MNI_MD_after.nii.gz -s 2.547965 /export2/DATA/HIS/HIS_server/analysis/dwi_data/stats_alt_reg/MD/sub-277_in-MNI_ss6mm_MD_after.nii.gz\n",
      "fslmaths /export2/DATA/HIS/HIS_server/analysis/dwi_data/stats_alt_reg/FA/sub-277_in-MNI_FA_after.nii.gz -s 2.547965 /export2/DATA/HIS/HIS_server/analysis/dwi_data/stats_alt_reg/FA/sub-277_in-MNI_ss6mm_FA_after.nii.gz\n",
      "fslmaths /export2/DATA/HIS/HIS_server/analysis/dwi_data/stats_alt_reg/MD/sub-278_in-MNI_MD_before.nii.gz -s 2.547965 /export2/DATA/HIS/HIS_server/analysis/dwi_data/stats_alt_reg/MD/sub-278_in-MNI_ss6mm_MD_before.nii.gz\n",
      "fslmaths /export2/DATA/HIS/HIS_server/analysis/dwi_data/stats_alt_reg/FA/sub-278_in-MNI_FA_before.nii.gz -s 2.547965 /export2/DATA/HIS/HIS_server/analysis/dwi_data/stats_alt_reg/FA/sub-278_in-MNI_ss6mm_FA_before.nii.gz\n",
      "fslmaths /export2/DATA/HIS/HIS_server/analysis/dwi_data/stats_alt_reg/MD/sub-278_in-MNI_MD_after.nii.gz -s 2.547965 /export2/DATA/HIS/HIS_server/analysis/dwi_data/stats_alt_reg/MD/sub-278_in-MNI_ss6mm_MD_after.nii.gz\n",
      "fslmaths /export2/DATA/HIS/HIS_server/analysis/dwi_data/stats_alt_reg/FA/sub-278_in-MNI_FA_after.nii.gz -s 2.547965 /export2/DATA/HIS/HIS_server/analysis/dwi_data/stats_alt_reg/FA/sub-278_in-MNI_ss6mm_FA_after.nii.gz\n",
      "fslmaths /export2/DATA/HIS/HIS_server/analysis/dwi_data/stats_alt_reg/MD/sub-280_in-MNI_MD_before.nii.gz -s 2.547965 /export2/DATA/HIS/HIS_server/analysis/dwi_data/stats_alt_reg/MD/sub-280_in-MNI_ss6mm_MD_before.nii.gz\n",
      "fslmaths /export2/DATA/HIS/HIS_server/analysis/dwi_data/stats_alt_reg/FA/sub-280_in-MNI_FA_before.nii.gz -s 2.547965 /export2/DATA/HIS/HIS_server/analysis/dwi_data/stats_alt_reg/FA/sub-280_in-MNI_ss6mm_FA_before.nii.gz\n",
      "fslmaths /export2/DATA/HIS/HIS_server/analysis/dwi_data/stats_alt_reg/MD/sub-280_in-MNI_MD_after.nii.gz -s 2.547965 /export2/DATA/HIS/HIS_server/analysis/dwi_data/stats_alt_reg/MD/sub-280_in-MNI_ss6mm_MD_after.nii.gz\n",
      "fslmaths /export2/DATA/HIS/HIS_server/analysis/dwi_data/stats_alt_reg/FA/sub-280_in-MNI_FA_after.nii.gz -s 2.547965 /export2/DATA/HIS/HIS_server/analysis/dwi_data/stats_alt_reg/FA/sub-280_in-MNI_ss6mm_FA_after.nii.gz\n",
      "fslmaths /export2/DATA/HIS/HIS_server/analysis/dwi_data/stats_alt_reg/MD/sub-281_in-MNI_MD_before.nii.gz -s 2.547965 /export2/DATA/HIS/HIS_server/analysis/dwi_data/stats_alt_reg/MD/sub-281_in-MNI_ss6mm_MD_before.nii.gz\n",
      "fslmaths /export2/DATA/HIS/HIS_server/analysis/dwi_data/stats_alt_reg/FA/sub-281_in-MNI_FA_before.nii.gz -s 2.547965 /export2/DATA/HIS/HIS_server/analysis/dwi_data/stats_alt_reg/FA/sub-281_in-MNI_ss6mm_FA_before.nii.gz\n",
      "fslmaths /export2/DATA/HIS/HIS_server/analysis/dwi_data/stats_alt_reg/MD/sub-281_in-MNI_MD_after.nii.gz -s 2.547965 /export2/DATA/HIS/HIS_server/analysis/dwi_data/stats_alt_reg/MD/sub-281_in-MNI_ss6mm_MD_after.nii.gz\n",
      "fslmaths /export2/DATA/HIS/HIS_server/analysis/dwi_data/stats_alt_reg/FA/sub-281_in-MNI_FA_after.nii.gz -s 2.547965 /export2/DATA/HIS/HIS_server/analysis/dwi_data/stats_alt_reg/FA/sub-281_in-MNI_ss6mm_FA_after.nii.gz\n",
      "fslmaths /export2/DATA/HIS/HIS_server/analysis/dwi_data/stats_alt_reg/MD/sub-282_in-MNI_MD_before.nii.gz -s 2.547965 /export2/DATA/HIS/HIS_server/analysis/dwi_data/stats_alt_reg/MD/sub-282_in-MNI_ss6mm_MD_before.nii.gz\n",
      "fslmaths /export2/DATA/HIS/HIS_server/analysis/dwi_data/stats_alt_reg/FA/sub-282_in-MNI_FA_before.nii.gz -s 2.547965 /export2/DATA/HIS/HIS_server/analysis/dwi_data/stats_alt_reg/FA/sub-282_in-MNI_ss6mm_FA_before.nii.gz\n",
      "fslmaths /export2/DATA/HIS/HIS_server/analysis/dwi_data/stats_alt_reg/MD/sub-282_in-MNI_MD_after.nii.gz -s 2.547965 /export2/DATA/HIS/HIS_server/analysis/dwi_data/stats_alt_reg/MD/sub-282_in-MNI_ss6mm_MD_after.nii.gz\n",
      "fslmaths /export2/DATA/HIS/HIS_server/analysis/dwi_data/stats_alt_reg/FA/sub-282_in-MNI_FA_after.nii.gz -s 2.547965 /export2/DATA/HIS/HIS_server/analysis/dwi_data/stats_alt_reg/FA/sub-282_in-MNI_ss6mm_FA_after.nii.gz\n",
      "fslmaths /export2/DATA/HIS/HIS_server/analysis/dwi_data/stats_alt_reg/MD/sub-283_in-MNI_MD_before.nii.gz -s 2.547965 /export2/DATA/HIS/HIS_server/analysis/dwi_data/stats_alt_reg/MD/sub-283_in-MNI_ss6mm_MD_before.nii.gz\n",
      "fslmaths /export2/DATA/HIS/HIS_server/analysis/dwi_data/stats_alt_reg/FA/sub-283_in-MNI_FA_before.nii.gz -s 2.547965 /export2/DATA/HIS/HIS_server/analysis/dwi_data/stats_alt_reg/FA/sub-283_in-MNI_ss6mm_FA_before.nii.gz\n",
      "fslmaths /export2/DATA/HIS/HIS_server/analysis/dwi_data/stats_alt_reg/MD/sub-283_in-MNI_MD_after.nii.gz -s 2.547965 /export2/DATA/HIS/HIS_server/analysis/dwi_data/stats_alt_reg/MD/sub-283_in-MNI_ss6mm_MD_after.nii.gz\n",
      "fslmaths /export2/DATA/HIS/HIS_server/analysis/dwi_data/stats_alt_reg/FA/sub-283_in-MNI_FA_after.nii.gz -s 2.547965 /export2/DATA/HIS/HIS_server/analysis/dwi_data/stats_alt_reg/FA/sub-283_in-MNI_ss6mm_FA_after.nii.gz\n",
      "fslmaths /export2/DATA/HIS/HIS_server/analysis/dwi_data/stats_alt_reg/MD/sub-284_in-MNI_MD_before.nii.gz -s 2.547965 /export2/DATA/HIS/HIS_server/analysis/dwi_data/stats_alt_reg/MD/sub-284_in-MNI_ss6mm_MD_before.nii.gz\n",
      "fslmaths /export2/DATA/HIS/HIS_server/analysis/dwi_data/stats_alt_reg/FA/sub-284_in-MNI_FA_before.nii.gz -s 2.547965 /export2/DATA/HIS/HIS_server/analysis/dwi_data/stats_alt_reg/FA/sub-284_in-MNI_ss6mm_FA_before.nii.gz\n",
      "fslmaths /export2/DATA/HIS/HIS_server/analysis/dwi_data/stats_alt_reg/MD/sub-284_in-MNI_MD_after.nii.gz -s 2.547965 /export2/DATA/HIS/HIS_server/analysis/dwi_data/stats_alt_reg/MD/sub-284_in-MNI_ss6mm_MD_after.nii.gz\n",
      "fslmaths /export2/DATA/HIS/HIS_server/analysis/dwi_data/stats_alt_reg/FA/sub-284_in-MNI_FA_after.nii.gz -s 2.547965 /export2/DATA/HIS/HIS_server/analysis/dwi_data/stats_alt_reg/FA/sub-284_in-MNI_ss6mm_FA_after.nii.gz\n",
      "fslmaths /export2/DATA/HIS/HIS_server/analysis/dwi_data/stats_alt_reg/MD/sub-285_in-MNI_MD_before.nii.gz -s 2.547965 /export2/DATA/HIS/HIS_server/analysis/dwi_data/stats_alt_reg/MD/sub-285_in-MNI_ss6mm_MD_before.nii.gz\n",
      "fslmaths /export2/DATA/HIS/HIS_server/analysis/dwi_data/stats_alt_reg/FA/sub-285_in-MNI_FA_before.nii.gz -s 2.547965 /export2/DATA/HIS/HIS_server/analysis/dwi_data/stats_alt_reg/FA/sub-285_in-MNI_ss6mm_FA_before.nii.gz\n",
      "fslmaths /export2/DATA/HIS/HIS_server/analysis/dwi_data/stats_alt_reg/MD/sub-285_in-MNI_MD_after.nii.gz -s 2.547965 /export2/DATA/HIS/HIS_server/analysis/dwi_data/stats_alt_reg/MD/sub-285_in-MNI_ss6mm_MD_after.nii.gz\n",
      "fslmaths /export2/DATA/HIS/HIS_server/analysis/dwi_data/stats_alt_reg/FA/sub-285_in-MNI_FA_after.nii.gz -s 2.547965 /export2/DATA/HIS/HIS_server/analysis/dwi_data/stats_alt_reg/FA/sub-285_in-MNI_ss6mm_FA_after.nii.gz\n",
      "> COMPLETED\n"
     ]
    }
   ],
   "source": [
    "print('> Apply the spatial smoothing on the MD and FA maps')\n",
    "for subjFolder in subjFoldersDTI:\n",
    "    for time in ['before', 'after']:\n",
    "        if not os.path.exists(os.path.join(stats_path, 'MD', f'{subjFolder}_in-MNI_ss6mm_MD_{time}.nii.gz')) \\\n",
    "        or not os.path.exists(os.path.join(stats_path, 'FA', f'{subjFolder}_in-MNI_ss6mm_FA_{time}.nii.gz')):\n",
    "            for map_type in ['MD','FA']:\n",
    "                print(f\"fslmaths {os.path.join(stats_path, map_type, f'{subjFolder}_in-MNI_{map_type}_{time}.nii.gz')} -s 2.547965 {os.path.join(stats_path, map_type, f'{subjFolder}_in-MNI_ss6mm_{map_type}_{time}.nii.gz')}\")\n",
    "                os.system(f\"fslmaths {os.path.join(stats_path, map_type, f'{subjFolder}_in-MNI_{map_type}_{time}.nii.gz')} -s 2.547965 {os.path.join(stats_path, map_type, f'{subjFolder}_in-MNI_ss6mm_{map_type}_{time}.nii.gz')}\")\n",
    "print('> COMPLETED')"
   ]
  },
  {
   "cell_type": "markdown",
   "metadata": {},
   "source": [
    "# *-*-*-*-*-*-*-*-*-*-*-*-*-*-*-*-*-*-*-*-*-*-*-*-*-*"
   ]
  },
  {
   "cell_type": "markdown",
   "metadata": {},
   "source": [
    "# Statistical Analysis: BETWEEN-GRUOP"
   ]
  },
  {
   "cell_type": "markdown",
   "metadata": {},
   "source": [
    "The analysis is based on this page: https://fsl.fmrib.ox.ac.uk/fsl/fslwiki/GLM#ANOVA:_2-groups.2C_2-levels_per_subject_.282-way_Mixed_Effect_ANOVA.29\n",
    "Specifically:\n",
    "\"Randomise details\n",
    "Due to how the data would need to be permuted, the FEAT model may not be used in randomise. Instead, just as in the paired t-test example, paired differences within-subject would be computed via fslmaths and a two-sample t-test could be used to test whether the run1-run2 difference differed between the two groups.\"\n",
    "\n",
    "Thus the first step (calculating the differenceswithin-subject) is as here: https://fsl.fmrib.ox.ac.uk/fsl/fslwiki/GLM#Single-Group_Paired_Difference_.28Paired_T-Test.29\n",
    "And the second is as here \n"
   ]
  },
  {
   "cell_type": "code",
   "execution_count": 32,
   "metadata": {},
   "outputs": [
    {
     "name": "stdout",
     "output_type": "stream",
     "text": [
      "> Calculate the difference of AFTER minus BEFORE and BEFORE minus AFTER for the MD and FA maps\n",
      "fslmaths /export2/DATA/HIS/HIS_server/analysis/dwi_data/stats_alt_reg/MD/sub-103_in-MNI_ss6mm_MD_after.nii.gz -sub /export2/DATA/HIS/HIS_server/analysis/dwi_data/stats_alt_reg/MD/sub-103_in-MNI_ss6mm_MD_before.nii.gz /export2/DATA/HIS/HIS_server/analysis/dwi_data/stats_alt_reg/MD/sub-103_in-MNI_MD_AFTER-minus-BEFORE.nii.gz\n",
      "fslmaths /export2/DATA/HIS/HIS_server/analysis/dwi_data/stats_alt_reg/MD/sub-103_in-MNI_ss6mm_MD_before.nii.gz -sub /export2/DATA/HIS/HIS_server/analysis/dwi_data/stats_alt_reg/MD/sub-103_in-MNI_ss6mm_MD_after.nii.gz /export2/DATA/HIS/HIS_server/analysis/dwi_data/stats_alt_reg/MD/sub-103_in-MNI_MD_BEFORE-minus-AFTER.nii.gz\n",
      "fslmaths /export2/DATA/HIS/HIS_server/analysis/dwi_data/stats_alt_reg/FA/sub-103_in-MNI_ss6mm_FA_after.nii.gz -sub /export2/DATA/HIS/HIS_server/analysis/dwi_data/stats_alt_reg/FA/sub-103_in-MNI_ss6mm_FA_before.nii.gz /export2/DATA/HIS/HIS_server/analysis/dwi_data/stats_alt_reg/FA/sub-103_in-MNI_FA_AFTER-minus-BEFORE.nii.gz\n",
      "fslmaths /export2/DATA/HIS/HIS_server/analysis/dwi_data/stats_alt_reg/FA/sub-103_in-MNI_ss6mm_FA_before.nii.gz -sub /export2/DATA/HIS/HIS_server/analysis/dwi_data/stats_alt_reg/FA/sub-103_in-MNI_ss6mm_FA_after.nii.gz /export2/DATA/HIS/HIS_server/analysis/dwi_data/stats_alt_reg/FA/sub-103_in-MNI_FA_BEFORE-minus-AFTER.nii.gz\n",
      "fslmaths /export2/DATA/HIS/HIS_server/analysis/dwi_data/stats_alt_reg/MD/sub-104_in-MNI_ss6mm_MD_after.nii.gz -sub /export2/DATA/HIS/HIS_server/analysis/dwi_data/stats_alt_reg/MD/sub-104_in-MNI_ss6mm_MD_before.nii.gz /export2/DATA/HIS/HIS_server/analysis/dwi_data/stats_alt_reg/MD/sub-104_in-MNI_MD_AFTER-minus-BEFORE.nii.gz\n",
      "fslmaths /export2/DATA/HIS/HIS_server/analysis/dwi_data/stats_alt_reg/MD/sub-104_in-MNI_ss6mm_MD_before.nii.gz -sub /export2/DATA/HIS/HIS_server/analysis/dwi_data/stats_alt_reg/MD/sub-104_in-MNI_ss6mm_MD_after.nii.gz /export2/DATA/HIS/HIS_server/analysis/dwi_data/stats_alt_reg/MD/sub-104_in-MNI_MD_BEFORE-minus-AFTER.nii.gz\n",
      "fslmaths /export2/DATA/HIS/HIS_server/analysis/dwi_data/stats_alt_reg/FA/sub-104_in-MNI_ss6mm_FA_after.nii.gz -sub /export2/DATA/HIS/HIS_server/analysis/dwi_data/stats_alt_reg/FA/sub-104_in-MNI_ss6mm_FA_before.nii.gz /export2/DATA/HIS/HIS_server/analysis/dwi_data/stats_alt_reg/FA/sub-104_in-MNI_FA_AFTER-minus-BEFORE.nii.gz\n",
      "fslmaths /export2/DATA/HIS/HIS_server/analysis/dwi_data/stats_alt_reg/FA/sub-104_in-MNI_ss6mm_FA_before.nii.gz -sub /export2/DATA/HIS/HIS_server/analysis/dwi_data/stats_alt_reg/FA/sub-104_in-MNI_ss6mm_FA_after.nii.gz /export2/DATA/HIS/HIS_server/analysis/dwi_data/stats_alt_reg/FA/sub-104_in-MNI_FA_BEFORE-minus-AFTER.nii.gz\n",
      "fslmaths /export2/DATA/HIS/HIS_server/analysis/dwi_data/stats_alt_reg/MD/sub-106_in-MNI_ss6mm_MD_after.nii.gz -sub /export2/DATA/HIS/HIS_server/analysis/dwi_data/stats_alt_reg/MD/sub-106_in-MNI_ss6mm_MD_before.nii.gz /export2/DATA/HIS/HIS_server/analysis/dwi_data/stats_alt_reg/MD/sub-106_in-MNI_MD_AFTER-minus-BEFORE.nii.gz\n",
      "fslmaths /export2/DATA/HIS/HIS_server/analysis/dwi_data/stats_alt_reg/MD/sub-106_in-MNI_ss6mm_MD_before.nii.gz -sub /export2/DATA/HIS/HIS_server/analysis/dwi_data/stats_alt_reg/MD/sub-106_in-MNI_ss6mm_MD_after.nii.gz /export2/DATA/HIS/HIS_server/analysis/dwi_data/stats_alt_reg/MD/sub-106_in-MNI_MD_BEFORE-minus-AFTER.nii.gz\n",
      "fslmaths /export2/DATA/HIS/HIS_server/analysis/dwi_data/stats_alt_reg/FA/sub-106_in-MNI_ss6mm_FA_after.nii.gz -sub /export2/DATA/HIS/HIS_server/analysis/dwi_data/stats_alt_reg/FA/sub-106_in-MNI_ss6mm_FA_before.nii.gz /export2/DATA/HIS/HIS_server/analysis/dwi_data/stats_alt_reg/FA/sub-106_in-MNI_FA_AFTER-minus-BEFORE.nii.gz\n",
      "fslmaths /export2/DATA/HIS/HIS_server/analysis/dwi_data/stats_alt_reg/FA/sub-106_in-MNI_ss6mm_FA_before.nii.gz -sub /export2/DATA/HIS/HIS_server/analysis/dwi_data/stats_alt_reg/FA/sub-106_in-MNI_ss6mm_FA_after.nii.gz /export2/DATA/HIS/HIS_server/analysis/dwi_data/stats_alt_reg/FA/sub-106_in-MNI_FA_BEFORE-minus-AFTER.nii.gz\n",
      "fslmaths /export2/DATA/HIS/HIS_server/analysis/dwi_data/stats_alt_reg/MD/sub-107_in-MNI_ss6mm_MD_after.nii.gz -sub /export2/DATA/HIS/HIS_server/analysis/dwi_data/stats_alt_reg/MD/sub-107_in-MNI_ss6mm_MD_before.nii.gz /export2/DATA/HIS/HIS_server/analysis/dwi_data/stats_alt_reg/MD/sub-107_in-MNI_MD_AFTER-minus-BEFORE.nii.gz\n",
      "fslmaths /export2/DATA/HIS/HIS_server/analysis/dwi_data/stats_alt_reg/MD/sub-107_in-MNI_ss6mm_MD_before.nii.gz -sub /export2/DATA/HIS/HIS_server/analysis/dwi_data/stats_alt_reg/MD/sub-107_in-MNI_ss6mm_MD_after.nii.gz /export2/DATA/HIS/HIS_server/analysis/dwi_data/stats_alt_reg/MD/sub-107_in-MNI_MD_BEFORE-minus-AFTER.nii.gz\n",
      "fslmaths /export2/DATA/HIS/HIS_server/analysis/dwi_data/stats_alt_reg/FA/sub-107_in-MNI_ss6mm_FA_after.nii.gz -sub /export2/DATA/HIS/HIS_server/analysis/dwi_data/stats_alt_reg/FA/sub-107_in-MNI_ss6mm_FA_before.nii.gz /export2/DATA/HIS/HIS_server/analysis/dwi_data/stats_alt_reg/FA/sub-107_in-MNI_FA_AFTER-minus-BEFORE.nii.gz\n",
      "fslmaths /export2/DATA/HIS/HIS_server/analysis/dwi_data/stats_alt_reg/FA/sub-107_in-MNI_ss6mm_FA_before.nii.gz -sub /export2/DATA/HIS/HIS_server/analysis/dwi_data/stats_alt_reg/FA/sub-107_in-MNI_ss6mm_FA_after.nii.gz /export2/DATA/HIS/HIS_server/analysis/dwi_data/stats_alt_reg/FA/sub-107_in-MNI_FA_BEFORE-minus-AFTER.nii.gz\n",
      "fslmaths /export2/DATA/HIS/HIS_server/analysis/dwi_data/stats_alt_reg/MD/sub-108_in-MNI_ss6mm_MD_after.nii.gz -sub /export2/DATA/HIS/HIS_server/analysis/dwi_data/stats_alt_reg/MD/sub-108_in-MNI_ss6mm_MD_before.nii.gz /export2/DATA/HIS/HIS_server/analysis/dwi_data/stats_alt_reg/MD/sub-108_in-MNI_MD_AFTER-minus-BEFORE.nii.gz\n",
      "fslmaths /export2/DATA/HIS/HIS_server/analysis/dwi_data/stats_alt_reg/MD/sub-108_in-MNI_ss6mm_MD_before.nii.gz -sub /export2/DATA/HIS/HIS_server/analysis/dwi_data/stats_alt_reg/MD/sub-108_in-MNI_ss6mm_MD_after.nii.gz /export2/DATA/HIS/HIS_server/analysis/dwi_data/stats_alt_reg/MD/sub-108_in-MNI_MD_BEFORE-minus-AFTER.nii.gz\n",
      "fslmaths /export2/DATA/HIS/HIS_server/analysis/dwi_data/stats_alt_reg/FA/sub-108_in-MNI_ss6mm_FA_after.nii.gz -sub /export2/DATA/HIS/HIS_server/analysis/dwi_data/stats_alt_reg/FA/sub-108_in-MNI_ss6mm_FA_before.nii.gz /export2/DATA/HIS/HIS_server/analysis/dwi_data/stats_alt_reg/FA/sub-108_in-MNI_FA_AFTER-minus-BEFORE.nii.gz\n",
      "fslmaths /export2/DATA/HIS/HIS_server/analysis/dwi_data/stats_alt_reg/FA/sub-108_in-MNI_ss6mm_FA_before.nii.gz -sub /export2/DATA/HIS/HIS_server/analysis/dwi_data/stats_alt_reg/FA/sub-108_in-MNI_ss6mm_FA_after.nii.gz /export2/DATA/HIS/HIS_server/analysis/dwi_data/stats_alt_reg/FA/sub-108_in-MNI_FA_BEFORE-minus-AFTER.nii.gz\n",
      "fslmaths /export2/DATA/HIS/HIS_server/analysis/dwi_data/stats_alt_reg/MD/sub-110_in-MNI_ss6mm_MD_after.nii.gz -sub /export2/DATA/HIS/HIS_server/analysis/dwi_data/stats_alt_reg/MD/sub-110_in-MNI_ss6mm_MD_before.nii.gz /export2/DATA/HIS/HIS_server/analysis/dwi_data/stats_alt_reg/MD/sub-110_in-MNI_MD_AFTER-minus-BEFORE.nii.gz\n",
      "fslmaths /export2/DATA/HIS/HIS_server/analysis/dwi_data/stats_alt_reg/MD/sub-110_in-MNI_ss6mm_MD_before.nii.gz -sub /export2/DATA/HIS/HIS_server/analysis/dwi_data/stats_alt_reg/MD/sub-110_in-MNI_ss6mm_MD_after.nii.gz /export2/DATA/HIS/HIS_server/analysis/dwi_data/stats_alt_reg/MD/sub-110_in-MNI_MD_BEFORE-minus-AFTER.nii.gz\n",
      "fslmaths /export2/DATA/HIS/HIS_server/analysis/dwi_data/stats_alt_reg/FA/sub-110_in-MNI_ss6mm_FA_after.nii.gz -sub /export2/DATA/HIS/HIS_server/analysis/dwi_data/stats_alt_reg/FA/sub-110_in-MNI_ss6mm_FA_before.nii.gz /export2/DATA/HIS/HIS_server/analysis/dwi_data/stats_alt_reg/FA/sub-110_in-MNI_FA_AFTER-minus-BEFORE.nii.gz\n",
      "fslmaths /export2/DATA/HIS/HIS_server/analysis/dwi_data/stats_alt_reg/FA/sub-110_in-MNI_ss6mm_FA_before.nii.gz -sub /export2/DATA/HIS/HIS_server/analysis/dwi_data/stats_alt_reg/FA/sub-110_in-MNI_ss6mm_FA_after.nii.gz /export2/DATA/HIS/HIS_server/analysis/dwi_data/stats_alt_reg/FA/sub-110_in-MNI_FA_BEFORE-minus-AFTER.nii.gz\n",
      "fslmaths /export2/DATA/HIS/HIS_server/analysis/dwi_data/stats_alt_reg/MD/sub-113_in-MNI_ss6mm_MD_after.nii.gz -sub /export2/DATA/HIS/HIS_server/analysis/dwi_data/stats_alt_reg/MD/sub-113_in-MNI_ss6mm_MD_before.nii.gz /export2/DATA/HIS/HIS_server/analysis/dwi_data/stats_alt_reg/MD/sub-113_in-MNI_MD_AFTER-minus-BEFORE.nii.gz\n",
      "fslmaths /export2/DATA/HIS/HIS_server/analysis/dwi_data/stats_alt_reg/MD/sub-113_in-MNI_ss6mm_MD_before.nii.gz -sub /export2/DATA/HIS/HIS_server/analysis/dwi_data/stats_alt_reg/MD/sub-113_in-MNI_ss6mm_MD_after.nii.gz /export2/DATA/HIS/HIS_server/analysis/dwi_data/stats_alt_reg/MD/sub-113_in-MNI_MD_BEFORE-minus-AFTER.nii.gz\n",
      "fslmaths /export2/DATA/HIS/HIS_server/analysis/dwi_data/stats_alt_reg/FA/sub-113_in-MNI_ss6mm_FA_after.nii.gz -sub /export2/DATA/HIS/HIS_server/analysis/dwi_data/stats_alt_reg/FA/sub-113_in-MNI_ss6mm_FA_before.nii.gz /export2/DATA/HIS/HIS_server/analysis/dwi_data/stats_alt_reg/FA/sub-113_in-MNI_FA_AFTER-minus-BEFORE.nii.gz\n",
      "fslmaths /export2/DATA/HIS/HIS_server/analysis/dwi_data/stats_alt_reg/FA/sub-113_in-MNI_ss6mm_FA_before.nii.gz -sub /export2/DATA/HIS/HIS_server/analysis/dwi_data/stats_alt_reg/FA/sub-113_in-MNI_ss6mm_FA_after.nii.gz /export2/DATA/HIS/HIS_server/analysis/dwi_data/stats_alt_reg/FA/sub-113_in-MNI_FA_BEFORE-minus-AFTER.nii.gz\n",
      "fslmaths /export2/DATA/HIS/HIS_server/analysis/dwi_data/stats_alt_reg/MD/sub-114_in-MNI_ss6mm_MD_after.nii.gz -sub /export2/DATA/HIS/HIS_server/analysis/dwi_data/stats_alt_reg/MD/sub-114_in-MNI_ss6mm_MD_before.nii.gz /export2/DATA/HIS/HIS_server/analysis/dwi_data/stats_alt_reg/MD/sub-114_in-MNI_MD_AFTER-minus-BEFORE.nii.gz\n",
      "fslmaths /export2/DATA/HIS/HIS_server/analysis/dwi_data/stats_alt_reg/MD/sub-114_in-MNI_ss6mm_MD_before.nii.gz -sub /export2/DATA/HIS/HIS_server/analysis/dwi_data/stats_alt_reg/MD/sub-114_in-MNI_ss6mm_MD_after.nii.gz /export2/DATA/HIS/HIS_server/analysis/dwi_data/stats_alt_reg/MD/sub-114_in-MNI_MD_BEFORE-minus-AFTER.nii.gz\n",
      "fslmaths /export2/DATA/HIS/HIS_server/analysis/dwi_data/stats_alt_reg/FA/sub-114_in-MNI_ss6mm_FA_after.nii.gz -sub /export2/DATA/HIS/HIS_server/analysis/dwi_data/stats_alt_reg/FA/sub-114_in-MNI_ss6mm_FA_before.nii.gz /export2/DATA/HIS/HIS_server/analysis/dwi_data/stats_alt_reg/FA/sub-114_in-MNI_FA_AFTER-minus-BEFORE.nii.gz\n",
      "fslmaths /export2/DATA/HIS/HIS_server/analysis/dwi_data/stats_alt_reg/FA/sub-114_in-MNI_ss6mm_FA_before.nii.gz -sub /export2/DATA/HIS/HIS_server/analysis/dwi_data/stats_alt_reg/FA/sub-114_in-MNI_ss6mm_FA_after.nii.gz /export2/DATA/HIS/HIS_server/analysis/dwi_data/stats_alt_reg/FA/sub-114_in-MNI_FA_BEFORE-minus-AFTER.nii.gz\n",
      "fslmaths /export2/DATA/HIS/HIS_server/analysis/dwi_data/stats_alt_reg/MD/sub-115_in-MNI_ss6mm_MD_after.nii.gz -sub /export2/DATA/HIS/HIS_server/analysis/dwi_data/stats_alt_reg/MD/sub-115_in-MNI_ss6mm_MD_before.nii.gz /export2/DATA/HIS/HIS_server/analysis/dwi_data/stats_alt_reg/MD/sub-115_in-MNI_MD_AFTER-minus-BEFORE.nii.gz\n",
      "fslmaths /export2/DATA/HIS/HIS_server/analysis/dwi_data/stats_alt_reg/MD/sub-115_in-MNI_ss6mm_MD_before.nii.gz -sub /export2/DATA/HIS/HIS_server/analysis/dwi_data/stats_alt_reg/MD/sub-115_in-MNI_ss6mm_MD_after.nii.gz /export2/DATA/HIS/HIS_server/analysis/dwi_data/stats_alt_reg/MD/sub-115_in-MNI_MD_BEFORE-minus-AFTER.nii.gz\n",
      "fslmaths /export2/DATA/HIS/HIS_server/analysis/dwi_data/stats_alt_reg/FA/sub-115_in-MNI_ss6mm_FA_after.nii.gz -sub /export2/DATA/HIS/HIS_server/analysis/dwi_data/stats_alt_reg/FA/sub-115_in-MNI_ss6mm_FA_before.nii.gz /export2/DATA/HIS/HIS_server/analysis/dwi_data/stats_alt_reg/FA/sub-115_in-MNI_FA_AFTER-minus-BEFORE.nii.gz\n",
      "fslmaths /export2/DATA/HIS/HIS_server/analysis/dwi_data/stats_alt_reg/FA/sub-115_in-MNI_ss6mm_FA_before.nii.gz -sub /export2/DATA/HIS/HIS_server/analysis/dwi_data/stats_alt_reg/FA/sub-115_in-MNI_ss6mm_FA_after.nii.gz /export2/DATA/HIS/HIS_server/analysis/dwi_data/stats_alt_reg/FA/sub-115_in-MNI_FA_BEFORE-minus-AFTER.nii.gz\n",
      "fslmaths /export2/DATA/HIS/HIS_server/analysis/dwi_data/stats_alt_reg/MD/sub-117_in-MNI_ss6mm_MD_after.nii.gz -sub /export2/DATA/HIS/HIS_server/analysis/dwi_data/stats_alt_reg/MD/sub-117_in-MNI_ss6mm_MD_before.nii.gz /export2/DATA/HIS/HIS_server/analysis/dwi_data/stats_alt_reg/MD/sub-117_in-MNI_MD_AFTER-minus-BEFORE.nii.gz\n",
      "fslmaths /export2/DATA/HIS/HIS_server/analysis/dwi_data/stats_alt_reg/MD/sub-117_in-MNI_ss6mm_MD_before.nii.gz -sub /export2/DATA/HIS/HIS_server/analysis/dwi_data/stats_alt_reg/MD/sub-117_in-MNI_ss6mm_MD_after.nii.gz /export2/DATA/HIS/HIS_server/analysis/dwi_data/stats_alt_reg/MD/sub-117_in-MNI_MD_BEFORE-minus-AFTER.nii.gz\n",
      "fslmaths /export2/DATA/HIS/HIS_server/analysis/dwi_data/stats_alt_reg/FA/sub-117_in-MNI_ss6mm_FA_after.nii.gz -sub /export2/DATA/HIS/HIS_server/analysis/dwi_data/stats_alt_reg/FA/sub-117_in-MNI_ss6mm_FA_before.nii.gz /export2/DATA/HIS/HIS_server/analysis/dwi_data/stats_alt_reg/FA/sub-117_in-MNI_FA_AFTER-minus-BEFORE.nii.gz\n",
      "fslmaths /export2/DATA/HIS/HIS_server/analysis/dwi_data/stats_alt_reg/FA/sub-117_in-MNI_ss6mm_FA_before.nii.gz -sub /export2/DATA/HIS/HIS_server/analysis/dwi_data/stats_alt_reg/FA/sub-117_in-MNI_ss6mm_FA_after.nii.gz /export2/DATA/HIS/HIS_server/analysis/dwi_data/stats_alt_reg/FA/sub-117_in-MNI_FA_BEFORE-minus-AFTER.nii.gz\n",
      "fslmaths /export2/DATA/HIS/HIS_server/analysis/dwi_data/stats_alt_reg/MD/sub-118_in-MNI_ss6mm_MD_after.nii.gz -sub /export2/DATA/HIS/HIS_server/analysis/dwi_data/stats_alt_reg/MD/sub-118_in-MNI_ss6mm_MD_before.nii.gz /export2/DATA/HIS/HIS_server/analysis/dwi_data/stats_alt_reg/MD/sub-118_in-MNI_MD_AFTER-minus-BEFORE.nii.gz\n",
      "fslmaths /export2/DATA/HIS/HIS_server/analysis/dwi_data/stats_alt_reg/MD/sub-118_in-MNI_ss6mm_MD_before.nii.gz -sub /export2/DATA/HIS/HIS_server/analysis/dwi_data/stats_alt_reg/MD/sub-118_in-MNI_ss6mm_MD_after.nii.gz /export2/DATA/HIS/HIS_server/analysis/dwi_data/stats_alt_reg/MD/sub-118_in-MNI_MD_BEFORE-minus-AFTER.nii.gz\n",
      "fslmaths /export2/DATA/HIS/HIS_server/analysis/dwi_data/stats_alt_reg/FA/sub-118_in-MNI_ss6mm_FA_after.nii.gz -sub /export2/DATA/HIS/HIS_server/analysis/dwi_data/stats_alt_reg/FA/sub-118_in-MNI_ss6mm_FA_before.nii.gz /export2/DATA/HIS/HIS_server/analysis/dwi_data/stats_alt_reg/FA/sub-118_in-MNI_FA_AFTER-minus-BEFORE.nii.gz\n",
      "fslmaths /export2/DATA/HIS/HIS_server/analysis/dwi_data/stats_alt_reg/FA/sub-118_in-MNI_ss6mm_FA_before.nii.gz -sub /export2/DATA/HIS/HIS_server/analysis/dwi_data/stats_alt_reg/FA/sub-118_in-MNI_ss6mm_FA_after.nii.gz /export2/DATA/HIS/HIS_server/analysis/dwi_data/stats_alt_reg/FA/sub-118_in-MNI_FA_BEFORE-minus-AFTER.nii.gz\n",
      "fslmaths /export2/DATA/HIS/HIS_server/analysis/dwi_data/stats_alt_reg/MD/sub-119_in-MNI_ss6mm_MD_after.nii.gz -sub /export2/DATA/HIS/HIS_server/analysis/dwi_data/stats_alt_reg/MD/sub-119_in-MNI_ss6mm_MD_before.nii.gz /export2/DATA/HIS/HIS_server/analysis/dwi_data/stats_alt_reg/MD/sub-119_in-MNI_MD_AFTER-minus-BEFORE.nii.gz\n",
      "fslmaths /export2/DATA/HIS/HIS_server/analysis/dwi_data/stats_alt_reg/MD/sub-119_in-MNI_ss6mm_MD_before.nii.gz -sub /export2/DATA/HIS/HIS_server/analysis/dwi_data/stats_alt_reg/MD/sub-119_in-MNI_ss6mm_MD_after.nii.gz /export2/DATA/HIS/HIS_server/analysis/dwi_data/stats_alt_reg/MD/sub-119_in-MNI_MD_BEFORE-minus-AFTER.nii.gz\n",
      "fslmaths /export2/DATA/HIS/HIS_server/analysis/dwi_data/stats_alt_reg/FA/sub-119_in-MNI_ss6mm_FA_after.nii.gz -sub /export2/DATA/HIS/HIS_server/analysis/dwi_data/stats_alt_reg/FA/sub-119_in-MNI_ss6mm_FA_before.nii.gz /export2/DATA/HIS/HIS_server/analysis/dwi_data/stats_alt_reg/FA/sub-119_in-MNI_FA_AFTER-minus-BEFORE.nii.gz\n",
      "fslmaths /export2/DATA/HIS/HIS_server/analysis/dwi_data/stats_alt_reg/FA/sub-119_in-MNI_ss6mm_FA_before.nii.gz -sub /export2/DATA/HIS/HIS_server/analysis/dwi_data/stats_alt_reg/FA/sub-119_in-MNI_ss6mm_FA_after.nii.gz /export2/DATA/HIS/HIS_server/analysis/dwi_data/stats_alt_reg/FA/sub-119_in-MNI_FA_BEFORE-minus-AFTER.nii.gz\n",
      "fslmaths /export2/DATA/HIS/HIS_server/analysis/dwi_data/stats_alt_reg/MD/sub-120_in-MNI_ss6mm_MD_after.nii.gz -sub /export2/DATA/HIS/HIS_server/analysis/dwi_data/stats_alt_reg/MD/sub-120_in-MNI_ss6mm_MD_before.nii.gz /export2/DATA/HIS/HIS_server/analysis/dwi_data/stats_alt_reg/MD/sub-120_in-MNI_MD_AFTER-minus-BEFORE.nii.gz\n",
      "fslmaths /export2/DATA/HIS/HIS_server/analysis/dwi_data/stats_alt_reg/MD/sub-120_in-MNI_ss6mm_MD_before.nii.gz -sub /export2/DATA/HIS/HIS_server/analysis/dwi_data/stats_alt_reg/MD/sub-120_in-MNI_ss6mm_MD_after.nii.gz /export2/DATA/HIS/HIS_server/analysis/dwi_data/stats_alt_reg/MD/sub-120_in-MNI_MD_BEFORE-minus-AFTER.nii.gz\n",
      "fslmaths /export2/DATA/HIS/HIS_server/analysis/dwi_data/stats_alt_reg/FA/sub-120_in-MNI_ss6mm_FA_after.nii.gz -sub /export2/DATA/HIS/HIS_server/analysis/dwi_data/stats_alt_reg/FA/sub-120_in-MNI_ss6mm_FA_before.nii.gz /export2/DATA/HIS/HIS_server/analysis/dwi_data/stats_alt_reg/FA/sub-120_in-MNI_FA_AFTER-minus-BEFORE.nii.gz\n",
      "fslmaths /export2/DATA/HIS/HIS_server/analysis/dwi_data/stats_alt_reg/FA/sub-120_in-MNI_ss6mm_FA_before.nii.gz -sub /export2/DATA/HIS/HIS_server/analysis/dwi_data/stats_alt_reg/FA/sub-120_in-MNI_ss6mm_FA_after.nii.gz /export2/DATA/HIS/HIS_server/analysis/dwi_data/stats_alt_reg/FA/sub-120_in-MNI_FA_BEFORE-minus-AFTER.nii.gz\n",
      "fslmaths /export2/DATA/HIS/HIS_server/analysis/dwi_data/stats_alt_reg/MD/sub-121_in-MNI_ss6mm_MD_after.nii.gz -sub /export2/DATA/HIS/HIS_server/analysis/dwi_data/stats_alt_reg/MD/sub-121_in-MNI_ss6mm_MD_before.nii.gz /export2/DATA/HIS/HIS_server/analysis/dwi_data/stats_alt_reg/MD/sub-121_in-MNI_MD_AFTER-minus-BEFORE.nii.gz\n",
      "fslmaths /export2/DATA/HIS/HIS_server/analysis/dwi_data/stats_alt_reg/MD/sub-121_in-MNI_ss6mm_MD_before.nii.gz -sub /export2/DATA/HIS/HIS_server/analysis/dwi_data/stats_alt_reg/MD/sub-121_in-MNI_ss6mm_MD_after.nii.gz /export2/DATA/HIS/HIS_server/analysis/dwi_data/stats_alt_reg/MD/sub-121_in-MNI_MD_BEFORE-minus-AFTER.nii.gz\n",
      "fslmaths /export2/DATA/HIS/HIS_server/analysis/dwi_data/stats_alt_reg/FA/sub-121_in-MNI_ss6mm_FA_after.nii.gz -sub /export2/DATA/HIS/HIS_server/analysis/dwi_data/stats_alt_reg/FA/sub-121_in-MNI_ss6mm_FA_before.nii.gz /export2/DATA/HIS/HIS_server/analysis/dwi_data/stats_alt_reg/FA/sub-121_in-MNI_FA_AFTER-minus-BEFORE.nii.gz\n",
      "fslmaths /export2/DATA/HIS/HIS_server/analysis/dwi_data/stats_alt_reg/FA/sub-121_in-MNI_ss6mm_FA_before.nii.gz -sub /export2/DATA/HIS/HIS_server/analysis/dwi_data/stats_alt_reg/FA/sub-121_in-MNI_ss6mm_FA_after.nii.gz /export2/DATA/HIS/HIS_server/analysis/dwi_data/stats_alt_reg/FA/sub-121_in-MNI_FA_BEFORE-minus-AFTER.nii.gz\n",
      "fslmaths /export2/DATA/HIS/HIS_server/analysis/dwi_data/stats_alt_reg/MD/sub-122_in-MNI_ss6mm_MD_after.nii.gz -sub /export2/DATA/HIS/HIS_server/analysis/dwi_data/stats_alt_reg/MD/sub-122_in-MNI_ss6mm_MD_before.nii.gz /export2/DATA/HIS/HIS_server/analysis/dwi_data/stats_alt_reg/MD/sub-122_in-MNI_MD_AFTER-minus-BEFORE.nii.gz\n",
      "fslmaths /export2/DATA/HIS/HIS_server/analysis/dwi_data/stats_alt_reg/MD/sub-122_in-MNI_ss6mm_MD_before.nii.gz -sub /export2/DATA/HIS/HIS_server/analysis/dwi_data/stats_alt_reg/MD/sub-122_in-MNI_ss6mm_MD_after.nii.gz /export2/DATA/HIS/HIS_server/analysis/dwi_data/stats_alt_reg/MD/sub-122_in-MNI_MD_BEFORE-minus-AFTER.nii.gz\n",
      "fslmaths /export2/DATA/HIS/HIS_server/analysis/dwi_data/stats_alt_reg/FA/sub-122_in-MNI_ss6mm_FA_after.nii.gz -sub /export2/DATA/HIS/HIS_server/analysis/dwi_data/stats_alt_reg/FA/sub-122_in-MNI_ss6mm_FA_before.nii.gz /export2/DATA/HIS/HIS_server/analysis/dwi_data/stats_alt_reg/FA/sub-122_in-MNI_FA_AFTER-minus-BEFORE.nii.gz\n",
      "fslmaths /export2/DATA/HIS/HIS_server/analysis/dwi_data/stats_alt_reg/FA/sub-122_in-MNI_ss6mm_FA_before.nii.gz -sub /export2/DATA/HIS/HIS_server/analysis/dwi_data/stats_alt_reg/FA/sub-122_in-MNI_ss6mm_FA_after.nii.gz /export2/DATA/HIS/HIS_server/analysis/dwi_data/stats_alt_reg/FA/sub-122_in-MNI_FA_BEFORE-minus-AFTER.nii.gz\n",
      "fslmaths /export2/DATA/HIS/HIS_server/analysis/dwi_data/stats_alt_reg/MD/sub-124_in-MNI_ss6mm_MD_after.nii.gz -sub /export2/DATA/HIS/HIS_server/analysis/dwi_data/stats_alt_reg/MD/sub-124_in-MNI_ss6mm_MD_before.nii.gz /export2/DATA/HIS/HIS_server/analysis/dwi_data/stats_alt_reg/MD/sub-124_in-MNI_MD_AFTER-minus-BEFORE.nii.gz\n",
      "fslmaths /export2/DATA/HIS/HIS_server/analysis/dwi_data/stats_alt_reg/MD/sub-124_in-MNI_ss6mm_MD_before.nii.gz -sub /export2/DATA/HIS/HIS_server/analysis/dwi_data/stats_alt_reg/MD/sub-124_in-MNI_ss6mm_MD_after.nii.gz /export2/DATA/HIS/HIS_server/analysis/dwi_data/stats_alt_reg/MD/sub-124_in-MNI_MD_BEFORE-minus-AFTER.nii.gz\n",
      "fslmaths /export2/DATA/HIS/HIS_server/analysis/dwi_data/stats_alt_reg/FA/sub-124_in-MNI_ss6mm_FA_after.nii.gz -sub /export2/DATA/HIS/HIS_server/analysis/dwi_data/stats_alt_reg/FA/sub-124_in-MNI_ss6mm_FA_before.nii.gz /export2/DATA/HIS/HIS_server/analysis/dwi_data/stats_alt_reg/FA/sub-124_in-MNI_FA_AFTER-minus-BEFORE.nii.gz\n",
      "fslmaths /export2/DATA/HIS/HIS_server/analysis/dwi_data/stats_alt_reg/FA/sub-124_in-MNI_ss6mm_FA_before.nii.gz -sub /export2/DATA/HIS/HIS_server/analysis/dwi_data/stats_alt_reg/FA/sub-124_in-MNI_ss6mm_FA_after.nii.gz /export2/DATA/HIS/HIS_server/analysis/dwi_data/stats_alt_reg/FA/sub-124_in-MNI_FA_BEFORE-minus-AFTER.nii.gz\n",
      "fslmaths /export2/DATA/HIS/HIS_server/analysis/dwi_data/stats_alt_reg/MD/sub-126_in-MNI_ss6mm_MD_after.nii.gz -sub /export2/DATA/HIS/HIS_server/analysis/dwi_data/stats_alt_reg/MD/sub-126_in-MNI_ss6mm_MD_before.nii.gz /export2/DATA/HIS/HIS_server/analysis/dwi_data/stats_alt_reg/MD/sub-126_in-MNI_MD_AFTER-minus-BEFORE.nii.gz\n",
      "fslmaths /export2/DATA/HIS/HIS_server/analysis/dwi_data/stats_alt_reg/MD/sub-126_in-MNI_ss6mm_MD_before.nii.gz -sub /export2/DATA/HIS/HIS_server/analysis/dwi_data/stats_alt_reg/MD/sub-126_in-MNI_ss6mm_MD_after.nii.gz /export2/DATA/HIS/HIS_server/analysis/dwi_data/stats_alt_reg/MD/sub-126_in-MNI_MD_BEFORE-minus-AFTER.nii.gz\n",
      "fslmaths /export2/DATA/HIS/HIS_server/analysis/dwi_data/stats_alt_reg/FA/sub-126_in-MNI_ss6mm_FA_after.nii.gz -sub /export2/DATA/HIS/HIS_server/analysis/dwi_data/stats_alt_reg/FA/sub-126_in-MNI_ss6mm_FA_before.nii.gz /export2/DATA/HIS/HIS_server/analysis/dwi_data/stats_alt_reg/FA/sub-126_in-MNI_FA_AFTER-minus-BEFORE.nii.gz\n",
      "fslmaths /export2/DATA/HIS/HIS_server/analysis/dwi_data/stats_alt_reg/FA/sub-126_in-MNI_ss6mm_FA_before.nii.gz -sub /export2/DATA/HIS/HIS_server/analysis/dwi_data/stats_alt_reg/FA/sub-126_in-MNI_ss6mm_FA_after.nii.gz /export2/DATA/HIS/HIS_server/analysis/dwi_data/stats_alt_reg/FA/sub-126_in-MNI_FA_BEFORE-minus-AFTER.nii.gz\n",
      "fslmaths /export2/DATA/HIS/HIS_server/analysis/dwi_data/stats_alt_reg/MD/sub-127_in-MNI_ss6mm_MD_after.nii.gz -sub /export2/DATA/HIS/HIS_server/analysis/dwi_data/stats_alt_reg/MD/sub-127_in-MNI_ss6mm_MD_before.nii.gz /export2/DATA/HIS/HIS_server/analysis/dwi_data/stats_alt_reg/MD/sub-127_in-MNI_MD_AFTER-minus-BEFORE.nii.gz\n",
      "fslmaths /export2/DATA/HIS/HIS_server/analysis/dwi_data/stats_alt_reg/MD/sub-127_in-MNI_ss6mm_MD_before.nii.gz -sub /export2/DATA/HIS/HIS_server/analysis/dwi_data/stats_alt_reg/MD/sub-127_in-MNI_ss6mm_MD_after.nii.gz /export2/DATA/HIS/HIS_server/analysis/dwi_data/stats_alt_reg/MD/sub-127_in-MNI_MD_BEFORE-minus-AFTER.nii.gz\n",
      "fslmaths /export2/DATA/HIS/HIS_server/analysis/dwi_data/stats_alt_reg/FA/sub-127_in-MNI_ss6mm_FA_after.nii.gz -sub /export2/DATA/HIS/HIS_server/analysis/dwi_data/stats_alt_reg/FA/sub-127_in-MNI_ss6mm_FA_before.nii.gz /export2/DATA/HIS/HIS_server/analysis/dwi_data/stats_alt_reg/FA/sub-127_in-MNI_FA_AFTER-minus-BEFORE.nii.gz\n",
      "fslmaths /export2/DATA/HIS/HIS_server/analysis/dwi_data/stats_alt_reg/FA/sub-127_in-MNI_ss6mm_FA_before.nii.gz -sub /export2/DATA/HIS/HIS_server/analysis/dwi_data/stats_alt_reg/FA/sub-127_in-MNI_ss6mm_FA_after.nii.gz /export2/DATA/HIS/HIS_server/analysis/dwi_data/stats_alt_reg/FA/sub-127_in-MNI_FA_BEFORE-minus-AFTER.nii.gz\n",
      "fslmaths /export2/DATA/HIS/HIS_server/analysis/dwi_data/stats_alt_reg/MD/sub-128_in-MNI_ss6mm_MD_after.nii.gz -sub /export2/DATA/HIS/HIS_server/analysis/dwi_data/stats_alt_reg/MD/sub-128_in-MNI_ss6mm_MD_before.nii.gz /export2/DATA/HIS/HIS_server/analysis/dwi_data/stats_alt_reg/MD/sub-128_in-MNI_MD_AFTER-minus-BEFORE.nii.gz\n",
      "fslmaths /export2/DATA/HIS/HIS_server/analysis/dwi_data/stats_alt_reg/MD/sub-128_in-MNI_ss6mm_MD_before.nii.gz -sub /export2/DATA/HIS/HIS_server/analysis/dwi_data/stats_alt_reg/MD/sub-128_in-MNI_ss6mm_MD_after.nii.gz /export2/DATA/HIS/HIS_server/analysis/dwi_data/stats_alt_reg/MD/sub-128_in-MNI_MD_BEFORE-minus-AFTER.nii.gz\n",
      "fslmaths /export2/DATA/HIS/HIS_server/analysis/dwi_data/stats_alt_reg/FA/sub-128_in-MNI_ss6mm_FA_after.nii.gz -sub /export2/DATA/HIS/HIS_server/analysis/dwi_data/stats_alt_reg/FA/sub-128_in-MNI_ss6mm_FA_before.nii.gz /export2/DATA/HIS/HIS_server/analysis/dwi_data/stats_alt_reg/FA/sub-128_in-MNI_FA_AFTER-minus-BEFORE.nii.gz\n",
      "fslmaths /export2/DATA/HIS/HIS_server/analysis/dwi_data/stats_alt_reg/FA/sub-128_in-MNI_ss6mm_FA_before.nii.gz -sub /export2/DATA/HIS/HIS_server/analysis/dwi_data/stats_alt_reg/FA/sub-128_in-MNI_ss6mm_FA_after.nii.gz /export2/DATA/HIS/HIS_server/analysis/dwi_data/stats_alt_reg/FA/sub-128_in-MNI_FA_BEFORE-minus-AFTER.nii.gz\n",
      "fslmaths /export2/DATA/HIS/HIS_server/analysis/dwi_data/stats_alt_reg/MD/sub-129_in-MNI_ss6mm_MD_after.nii.gz -sub /export2/DATA/HIS/HIS_server/analysis/dwi_data/stats_alt_reg/MD/sub-129_in-MNI_ss6mm_MD_before.nii.gz /export2/DATA/HIS/HIS_server/analysis/dwi_data/stats_alt_reg/MD/sub-129_in-MNI_MD_AFTER-minus-BEFORE.nii.gz\n",
      "fslmaths /export2/DATA/HIS/HIS_server/analysis/dwi_data/stats_alt_reg/MD/sub-129_in-MNI_ss6mm_MD_before.nii.gz -sub /export2/DATA/HIS/HIS_server/analysis/dwi_data/stats_alt_reg/MD/sub-129_in-MNI_ss6mm_MD_after.nii.gz /export2/DATA/HIS/HIS_server/analysis/dwi_data/stats_alt_reg/MD/sub-129_in-MNI_MD_BEFORE-minus-AFTER.nii.gz\n",
      "fslmaths /export2/DATA/HIS/HIS_server/analysis/dwi_data/stats_alt_reg/FA/sub-129_in-MNI_ss6mm_FA_after.nii.gz -sub /export2/DATA/HIS/HIS_server/analysis/dwi_data/stats_alt_reg/FA/sub-129_in-MNI_ss6mm_FA_before.nii.gz /export2/DATA/HIS/HIS_server/analysis/dwi_data/stats_alt_reg/FA/sub-129_in-MNI_FA_AFTER-minus-BEFORE.nii.gz\n",
      "fslmaths /export2/DATA/HIS/HIS_server/analysis/dwi_data/stats_alt_reg/FA/sub-129_in-MNI_ss6mm_FA_before.nii.gz -sub /export2/DATA/HIS/HIS_server/analysis/dwi_data/stats_alt_reg/FA/sub-129_in-MNI_ss6mm_FA_after.nii.gz /export2/DATA/HIS/HIS_server/analysis/dwi_data/stats_alt_reg/FA/sub-129_in-MNI_FA_BEFORE-minus-AFTER.nii.gz\n",
      "fslmaths /export2/DATA/HIS/HIS_server/analysis/dwi_data/stats_alt_reg/MD/sub-130_in-MNI_ss6mm_MD_after.nii.gz -sub /export2/DATA/HIS/HIS_server/analysis/dwi_data/stats_alt_reg/MD/sub-130_in-MNI_ss6mm_MD_before.nii.gz /export2/DATA/HIS/HIS_server/analysis/dwi_data/stats_alt_reg/MD/sub-130_in-MNI_MD_AFTER-minus-BEFORE.nii.gz\n",
      "fslmaths /export2/DATA/HIS/HIS_server/analysis/dwi_data/stats_alt_reg/MD/sub-130_in-MNI_ss6mm_MD_before.nii.gz -sub /export2/DATA/HIS/HIS_server/analysis/dwi_data/stats_alt_reg/MD/sub-130_in-MNI_ss6mm_MD_after.nii.gz /export2/DATA/HIS/HIS_server/analysis/dwi_data/stats_alt_reg/MD/sub-130_in-MNI_MD_BEFORE-minus-AFTER.nii.gz\n",
      "fslmaths /export2/DATA/HIS/HIS_server/analysis/dwi_data/stats_alt_reg/FA/sub-130_in-MNI_ss6mm_FA_after.nii.gz -sub /export2/DATA/HIS/HIS_server/analysis/dwi_data/stats_alt_reg/FA/sub-130_in-MNI_ss6mm_FA_before.nii.gz /export2/DATA/HIS/HIS_server/analysis/dwi_data/stats_alt_reg/FA/sub-130_in-MNI_FA_AFTER-minus-BEFORE.nii.gz\n",
      "fslmaths /export2/DATA/HIS/HIS_server/analysis/dwi_data/stats_alt_reg/FA/sub-130_in-MNI_ss6mm_FA_before.nii.gz -sub /export2/DATA/HIS/HIS_server/analysis/dwi_data/stats_alt_reg/FA/sub-130_in-MNI_ss6mm_FA_after.nii.gz /export2/DATA/HIS/HIS_server/analysis/dwi_data/stats_alt_reg/FA/sub-130_in-MNI_FA_BEFORE-minus-AFTER.nii.gz\n",
      "fslmaths /export2/DATA/HIS/HIS_server/analysis/dwi_data/stats_alt_reg/MD/sub-131_in-MNI_ss6mm_MD_after.nii.gz -sub /export2/DATA/HIS/HIS_server/analysis/dwi_data/stats_alt_reg/MD/sub-131_in-MNI_ss6mm_MD_before.nii.gz /export2/DATA/HIS/HIS_server/analysis/dwi_data/stats_alt_reg/MD/sub-131_in-MNI_MD_AFTER-minus-BEFORE.nii.gz\n",
      "fslmaths /export2/DATA/HIS/HIS_server/analysis/dwi_data/stats_alt_reg/MD/sub-131_in-MNI_ss6mm_MD_before.nii.gz -sub /export2/DATA/HIS/HIS_server/analysis/dwi_data/stats_alt_reg/MD/sub-131_in-MNI_ss6mm_MD_after.nii.gz /export2/DATA/HIS/HIS_server/analysis/dwi_data/stats_alt_reg/MD/sub-131_in-MNI_MD_BEFORE-minus-AFTER.nii.gz\n",
      "fslmaths /export2/DATA/HIS/HIS_server/analysis/dwi_data/stats_alt_reg/FA/sub-131_in-MNI_ss6mm_FA_after.nii.gz -sub /export2/DATA/HIS/HIS_server/analysis/dwi_data/stats_alt_reg/FA/sub-131_in-MNI_ss6mm_FA_before.nii.gz /export2/DATA/HIS/HIS_server/analysis/dwi_data/stats_alt_reg/FA/sub-131_in-MNI_FA_AFTER-minus-BEFORE.nii.gz\n",
      "fslmaths /export2/DATA/HIS/HIS_server/analysis/dwi_data/stats_alt_reg/FA/sub-131_in-MNI_ss6mm_FA_before.nii.gz -sub /export2/DATA/HIS/HIS_server/analysis/dwi_data/stats_alt_reg/FA/sub-131_in-MNI_ss6mm_FA_after.nii.gz /export2/DATA/HIS/HIS_server/analysis/dwi_data/stats_alt_reg/FA/sub-131_in-MNI_FA_BEFORE-minus-AFTER.nii.gz\n",
      "fslmaths /export2/DATA/HIS/HIS_server/analysis/dwi_data/stats_alt_reg/MD/sub-133_in-MNI_ss6mm_MD_after.nii.gz -sub /export2/DATA/HIS/HIS_server/analysis/dwi_data/stats_alt_reg/MD/sub-133_in-MNI_ss6mm_MD_before.nii.gz /export2/DATA/HIS/HIS_server/analysis/dwi_data/stats_alt_reg/MD/sub-133_in-MNI_MD_AFTER-minus-BEFORE.nii.gz\n",
      "fslmaths /export2/DATA/HIS/HIS_server/analysis/dwi_data/stats_alt_reg/MD/sub-133_in-MNI_ss6mm_MD_before.nii.gz -sub /export2/DATA/HIS/HIS_server/analysis/dwi_data/stats_alt_reg/MD/sub-133_in-MNI_ss6mm_MD_after.nii.gz /export2/DATA/HIS/HIS_server/analysis/dwi_data/stats_alt_reg/MD/sub-133_in-MNI_MD_BEFORE-minus-AFTER.nii.gz\n",
      "fslmaths /export2/DATA/HIS/HIS_server/analysis/dwi_data/stats_alt_reg/FA/sub-133_in-MNI_ss6mm_FA_after.nii.gz -sub /export2/DATA/HIS/HIS_server/analysis/dwi_data/stats_alt_reg/FA/sub-133_in-MNI_ss6mm_FA_before.nii.gz /export2/DATA/HIS/HIS_server/analysis/dwi_data/stats_alt_reg/FA/sub-133_in-MNI_FA_AFTER-minus-BEFORE.nii.gz\n",
      "fslmaths /export2/DATA/HIS/HIS_server/analysis/dwi_data/stats_alt_reg/FA/sub-133_in-MNI_ss6mm_FA_before.nii.gz -sub /export2/DATA/HIS/HIS_server/analysis/dwi_data/stats_alt_reg/FA/sub-133_in-MNI_ss6mm_FA_after.nii.gz /export2/DATA/HIS/HIS_server/analysis/dwi_data/stats_alt_reg/FA/sub-133_in-MNI_FA_BEFORE-minus-AFTER.nii.gz\n",
      "fslmaths /export2/DATA/HIS/HIS_server/analysis/dwi_data/stats_alt_reg/MD/sub-135_in-MNI_ss6mm_MD_after.nii.gz -sub /export2/DATA/HIS/HIS_server/analysis/dwi_data/stats_alt_reg/MD/sub-135_in-MNI_ss6mm_MD_before.nii.gz /export2/DATA/HIS/HIS_server/analysis/dwi_data/stats_alt_reg/MD/sub-135_in-MNI_MD_AFTER-minus-BEFORE.nii.gz\n",
      "fslmaths /export2/DATA/HIS/HIS_server/analysis/dwi_data/stats_alt_reg/MD/sub-135_in-MNI_ss6mm_MD_before.nii.gz -sub /export2/DATA/HIS/HIS_server/analysis/dwi_data/stats_alt_reg/MD/sub-135_in-MNI_ss6mm_MD_after.nii.gz /export2/DATA/HIS/HIS_server/analysis/dwi_data/stats_alt_reg/MD/sub-135_in-MNI_MD_BEFORE-minus-AFTER.nii.gz\n",
      "fslmaths /export2/DATA/HIS/HIS_server/analysis/dwi_data/stats_alt_reg/FA/sub-135_in-MNI_ss6mm_FA_after.nii.gz -sub /export2/DATA/HIS/HIS_server/analysis/dwi_data/stats_alt_reg/FA/sub-135_in-MNI_ss6mm_FA_before.nii.gz /export2/DATA/HIS/HIS_server/analysis/dwi_data/stats_alt_reg/FA/sub-135_in-MNI_FA_AFTER-minus-BEFORE.nii.gz\n",
      "fslmaths /export2/DATA/HIS/HIS_server/analysis/dwi_data/stats_alt_reg/FA/sub-135_in-MNI_ss6mm_FA_before.nii.gz -sub /export2/DATA/HIS/HIS_server/analysis/dwi_data/stats_alt_reg/FA/sub-135_in-MNI_ss6mm_FA_after.nii.gz /export2/DATA/HIS/HIS_server/analysis/dwi_data/stats_alt_reg/FA/sub-135_in-MNI_FA_BEFORE-minus-AFTER.nii.gz\n",
      "fslmaths /export2/DATA/HIS/HIS_server/analysis/dwi_data/stats_alt_reg/MD/sub-137_in-MNI_ss6mm_MD_after.nii.gz -sub /export2/DATA/HIS/HIS_server/analysis/dwi_data/stats_alt_reg/MD/sub-137_in-MNI_ss6mm_MD_before.nii.gz /export2/DATA/HIS/HIS_server/analysis/dwi_data/stats_alt_reg/MD/sub-137_in-MNI_MD_AFTER-minus-BEFORE.nii.gz\n",
      "fslmaths /export2/DATA/HIS/HIS_server/analysis/dwi_data/stats_alt_reg/MD/sub-137_in-MNI_ss6mm_MD_before.nii.gz -sub /export2/DATA/HIS/HIS_server/analysis/dwi_data/stats_alt_reg/MD/sub-137_in-MNI_ss6mm_MD_after.nii.gz /export2/DATA/HIS/HIS_server/analysis/dwi_data/stats_alt_reg/MD/sub-137_in-MNI_MD_BEFORE-minus-AFTER.nii.gz\n",
      "fslmaths /export2/DATA/HIS/HIS_server/analysis/dwi_data/stats_alt_reg/FA/sub-137_in-MNI_ss6mm_FA_after.nii.gz -sub /export2/DATA/HIS/HIS_server/analysis/dwi_data/stats_alt_reg/FA/sub-137_in-MNI_ss6mm_FA_before.nii.gz /export2/DATA/HIS/HIS_server/analysis/dwi_data/stats_alt_reg/FA/sub-137_in-MNI_FA_AFTER-minus-BEFORE.nii.gz\n",
      "fslmaths /export2/DATA/HIS/HIS_server/analysis/dwi_data/stats_alt_reg/FA/sub-137_in-MNI_ss6mm_FA_before.nii.gz -sub /export2/DATA/HIS/HIS_server/analysis/dwi_data/stats_alt_reg/FA/sub-137_in-MNI_ss6mm_FA_after.nii.gz /export2/DATA/HIS/HIS_server/analysis/dwi_data/stats_alt_reg/FA/sub-137_in-MNI_FA_BEFORE-minus-AFTER.nii.gz\n",
      "fslmaths /export2/DATA/HIS/HIS_server/analysis/dwi_data/stats_alt_reg/MD/sub-138_in-MNI_ss6mm_MD_after.nii.gz -sub /export2/DATA/HIS/HIS_server/analysis/dwi_data/stats_alt_reg/MD/sub-138_in-MNI_ss6mm_MD_before.nii.gz /export2/DATA/HIS/HIS_server/analysis/dwi_data/stats_alt_reg/MD/sub-138_in-MNI_MD_AFTER-minus-BEFORE.nii.gz\n",
      "fslmaths /export2/DATA/HIS/HIS_server/analysis/dwi_data/stats_alt_reg/MD/sub-138_in-MNI_ss6mm_MD_before.nii.gz -sub /export2/DATA/HIS/HIS_server/analysis/dwi_data/stats_alt_reg/MD/sub-138_in-MNI_ss6mm_MD_after.nii.gz /export2/DATA/HIS/HIS_server/analysis/dwi_data/stats_alt_reg/MD/sub-138_in-MNI_MD_BEFORE-minus-AFTER.nii.gz\n",
      "fslmaths /export2/DATA/HIS/HIS_server/analysis/dwi_data/stats_alt_reg/FA/sub-138_in-MNI_ss6mm_FA_after.nii.gz -sub /export2/DATA/HIS/HIS_server/analysis/dwi_data/stats_alt_reg/FA/sub-138_in-MNI_ss6mm_FA_before.nii.gz /export2/DATA/HIS/HIS_server/analysis/dwi_data/stats_alt_reg/FA/sub-138_in-MNI_FA_AFTER-minus-BEFORE.nii.gz\n",
      "fslmaths /export2/DATA/HIS/HIS_server/analysis/dwi_data/stats_alt_reg/FA/sub-138_in-MNI_ss6mm_FA_before.nii.gz -sub /export2/DATA/HIS/HIS_server/analysis/dwi_data/stats_alt_reg/FA/sub-138_in-MNI_ss6mm_FA_after.nii.gz /export2/DATA/HIS/HIS_server/analysis/dwi_data/stats_alt_reg/FA/sub-138_in-MNI_FA_BEFORE-minus-AFTER.nii.gz\n",
      "fslmaths /export2/DATA/HIS/HIS_server/analysis/dwi_data/stats_alt_reg/MD/sub-139_in-MNI_ss6mm_MD_after.nii.gz -sub /export2/DATA/HIS/HIS_server/analysis/dwi_data/stats_alt_reg/MD/sub-139_in-MNI_ss6mm_MD_before.nii.gz /export2/DATA/HIS/HIS_server/analysis/dwi_data/stats_alt_reg/MD/sub-139_in-MNI_MD_AFTER-minus-BEFORE.nii.gz\n",
      "fslmaths /export2/DATA/HIS/HIS_server/analysis/dwi_data/stats_alt_reg/MD/sub-139_in-MNI_ss6mm_MD_before.nii.gz -sub /export2/DATA/HIS/HIS_server/analysis/dwi_data/stats_alt_reg/MD/sub-139_in-MNI_ss6mm_MD_after.nii.gz /export2/DATA/HIS/HIS_server/analysis/dwi_data/stats_alt_reg/MD/sub-139_in-MNI_MD_BEFORE-minus-AFTER.nii.gz\n",
      "fslmaths /export2/DATA/HIS/HIS_server/analysis/dwi_data/stats_alt_reg/FA/sub-139_in-MNI_ss6mm_FA_after.nii.gz -sub /export2/DATA/HIS/HIS_server/analysis/dwi_data/stats_alt_reg/FA/sub-139_in-MNI_ss6mm_FA_before.nii.gz /export2/DATA/HIS/HIS_server/analysis/dwi_data/stats_alt_reg/FA/sub-139_in-MNI_FA_AFTER-minus-BEFORE.nii.gz\n",
      "fslmaths /export2/DATA/HIS/HIS_server/analysis/dwi_data/stats_alt_reg/FA/sub-139_in-MNI_ss6mm_FA_before.nii.gz -sub /export2/DATA/HIS/HIS_server/analysis/dwi_data/stats_alt_reg/FA/sub-139_in-MNI_ss6mm_FA_after.nii.gz /export2/DATA/HIS/HIS_server/analysis/dwi_data/stats_alt_reg/FA/sub-139_in-MNI_FA_BEFORE-minus-AFTER.nii.gz\n",
      "fslmaths /export2/DATA/HIS/HIS_server/analysis/dwi_data/stats_alt_reg/MD/sub-140_in-MNI_ss6mm_MD_after.nii.gz -sub /export2/DATA/HIS/HIS_server/analysis/dwi_data/stats_alt_reg/MD/sub-140_in-MNI_ss6mm_MD_before.nii.gz /export2/DATA/HIS/HIS_server/analysis/dwi_data/stats_alt_reg/MD/sub-140_in-MNI_MD_AFTER-minus-BEFORE.nii.gz\n",
      "fslmaths /export2/DATA/HIS/HIS_server/analysis/dwi_data/stats_alt_reg/MD/sub-140_in-MNI_ss6mm_MD_before.nii.gz -sub /export2/DATA/HIS/HIS_server/analysis/dwi_data/stats_alt_reg/MD/sub-140_in-MNI_ss6mm_MD_after.nii.gz /export2/DATA/HIS/HIS_server/analysis/dwi_data/stats_alt_reg/MD/sub-140_in-MNI_MD_BEFORE-minus-AFTER.nii.gz\n",
      "fslmaths /export2/DATA/HIS/HIS_server/analysis/dwi_data/stats_alt_reg/FA/sub-140_in-MNI_ss6mm_FA_after.nii.gz -sub /export2/DATA/HIS/HIS_server/analysis/dwi_data/stats_alt_reg/FA/sub-140_in-MNI_ss6mm_FA_before.nii.gz /export2/DATA/HIS/HIS_server/analysis/dwi_data/stats_alt_reg/FA/sub-140_in-MNI_FA_AFTER-minus-BEFORE.nii.gz\n",
      "fslmaths /export2/DATA/HIS/HIS_server/analysis/dwi_data/stats_alt_reg/FA/sub-140_in-MNI_ss6mm_FA_before.nii.gz -sub /export2/DATA/HIS/HIS_server/analysis/dwi_data/stats_alt_reg/FA/sub-140_in-MNI_ss6mm_FA_after.nii.gz /export2/DATA/HIS/HIS_server/analysis/dwi_data/stats_alt_reg/FA/sub-140_in-MNI_FA_BEFORE-minus-AFTER.nii.gz\n",
      "fslmaths /export2/DATA/HIS/HIS_server/analysis/dwi_data/stats_alt_reg/MD/sub-141_in-MNI_ss6mm_MD_after.nii.gz -sub /export2/DATA/HIS/HIS_server/analysis/dwi_data/stats_alt_reg/MD/sub-141_in-MNI_ss6mm_MD_before.nii.gz /export2/DATA/HIS/HIS_server/analysis/dwi_data/stats_alt_reg/MD/sub-141_in-MNI_MD_AFTER-minus-BEFORE.nii.gz\n",
      "fslmaths /export2/DATA/HIS/HIS_server/analysis/dwi_data/stats_alt_reg/MD/sub-141_in-MNI_ss6mm_MD_before.nii.gz -sub /export2/DATA/HIS/HIS_server/analysis/dwi_data/stats_alt_reg/MD/sub-141_in-MNI_ss6mm_MD_after.nii.gz /export2/DATA/HIS/HIS_server/analysis/dwi_data/stats_alt_reg/MD/sub-141_in-MNI_MD_BEFORE-minus-AFTER.nii.gz\n",
      "fslmaths /export2/DATA/HIS/HIS_server/analysis/dwi_data/stats_alt_reg/FA/sub-141_in-MNI_ss6mm_FA_after.nii.gz -sub /export2/DATA/HIS/HIS_server/analysis/dwi_data/stats_alt_reg/FA/sub-141_in-MNI_ss6mm_FA_before.nii.gz /export2/DATA/HIS/HIS_server/analysis/dwi_data/stats_alt_reg/FA/sub-141_in-MNI_FA_AFTER-minus-BEFORE.nii.gz\n",
      "fslmaths /export2/DATA/HIS/HIS_server/analysis/dwi_data/stats_alt_reg/FA/sub-141_in-MNI_ss6mm_FA_before.nii.gz -sub /export2/DATA/HIS/HIS_server/analysis/dwi_data/stats_alt_reg/FA/sub-141_in-MNI_ss6mm_FA_after.nii.gz /export2/DATA/HIS/HIS_server/analysis/dwi_data/stats_alt_reg/FA/sub-141_in-MNI_FA_BEFORE-minus-AFTER.nii.gz\n",
      "fslmaths /export2/DATA/HIS/HIS_server/analysis/dwi_data/stats_alt_reg/MD/sub-142_in-MNI_ss6mm_MD_after.nii.gz -sub /export2/DATA/HIS/HIS_server/analysis/dwi_data/stats_alt_reg/MD/sub-142_in-MNI_ss6mm_MD_before.nii.gz /export2/DATA/HIS/HIS_server/analysis/dwi_data/stats_alt_reg/MD/sub-142_in-MNI_MD_AFTER-minus-BEFORE.nii.gz\n",
      "fslmaths /export2/DATA/HIS/HIS_server/analysis/dwi_data/stats_alt_reg/MD/sub-142_in-MNI_ss6mm_MD_before.nii.gz -sub /export2/DATA/HIS/HIS_server/analysis/dwi_data/stats_alt_reg/MD/sub-142_in-MNI_ss6mm_MD_after.nii.gz /export2/DATA/HIS/HIS_server/analysis/dwi_data/stats_alt_reg/MD/sub-142_in-MNI_MD_BEFORE-minus-AFTER.nii.gz\n",
      "fslmaths /export2/DATA/HIS/HIS_server/analysis/dwi_data/stats_alt_reg/FA/sub-142_in-MNI_ss6mm_FA_after.nii.gz -sub /export2/DATA/HIS/HIS_server/analysis/dwi_data/stats_alt_reg/FA/sub-142_in-MNI_ss6mm_FA_before.nii.gz /export2/DATA/HIS/HIS_server/analysis/dwi_data/stats_alt_reg/FA/sub-142_in-MNI_FA_AFTER-minus-BEFORE.nii.gz\n",
      "fslmaths /export2/DATA/HIS/HIS_server/analysis/dwi_data/stats_alt_reg/FA/sub-142_in-MNI_ss6mm_FA_before.nii.gz -sub /export2/DATA/HIS/HIS_server/analysis/dwi_data/stats_alt_reg/FA/sub-142_in-MNI_ss6mm_FA_after.nii.gz /export2/DATA/HIS/HIS_server/analysis/dwi_data/stats_alt_reg/FA/sub-142_in-MNI_FA_BEFORE-minus-AFTER.nii.gz\n",
      "fslmaths /export2/DATA/HIS/HIS_server/analysis/dwi_data/stats_alt_reg/MD/sub-143_in-MNI_ss6mm_MD_after.nii.gz -sub /export2/DATA/HIS/HIS_server/analysis/dwi_data/stats_alt_reg/MD/sub-143_in-MNI_ss6mm_MD_before.nii.gz /export2/DATA/HIS/HIS_server/analysis/dwi_data/stats_alt_reg/MD/sub-143_in-MNI_MD_AFTER-minus-BEFORE.nii.gz\n",
      "fslmaths /export2/DATA/HIS/HIS_server/analysis/dwi_data/stats_alt_reg/MD/sub-143_in-MNI_ss6mm_MD_before.nii.gz -sub /export2/DATA/HIS/HIS_server/analysis/dwi_data/stats_alt_reg/MD/sub-143_in-MNI_ss6mm_MD_after.nii.gz /export2/DATA/HIS/HIS_server/analysis/dwi_data/stats_alt_reg/MD/sub-143_in-MNI_MD_BEFORE-minus-AFTER.nii.gz\n",
      "fslmaths /export2/DATA/HIS/HIS_server/analysis/dwi_data/stats_alt_reg/FA/sub-143_in-MNI_ss6mm_FA_after.nii.gz -sub /export2/DATA/HIS/HIS_server/analysis/dwi_data/stats_alt_reg/FA/sub-143_in-MNI_ss6mm_FA_before.nii.gz /export2/DATA/HIS/HIS_server/analysis/dwi_data/stats_alt_reg/FA/sub-143_in-MNI_FA_AFTER-minus-BEFORE.nii.gz\n",
      "fslmaths /export2/DATA/HIS/HIS_server/analysis/dwi_data/stats_alt_reg/FA/sub-143_in-MNI_ss6mm_FA_before.nii.gz -sub /export2/DATA/HIS/HIS_server/analysis/dwi_data/stats_alt_reg/FA/sub-143_in-MNI_ss6mm_FA_after.nii.gz /export2/DATA/HIS/HIS_server/analysis/dwi_data/stats_alt_reg/FA/sub-143_in-MNI_FA_BEFORE-minus-AFTER.nii.gz\n",
      "fslmaths /export2/DATA/HIS/HIS_server/analysis/dwi_data/stats_alt_reg/MD/sub-144_in-MNI_ss6mm_MD_after.nii.gz -sub /export2/DATA/HIS/HIS_server/analysis/dwi_data/stats_alt_reg/MD/sub-144_in-MNI_ss6mm_MD_before.nii.gz /export2/DATA/HIS/HIS_server/analysis/dwi_data/stats_alt_reg/MD/sub-144_in-MNI_MD_AFTER-minus-BEFORE.nii.gz\n",
      "fslmaths /export2/DATA/HIS/HIS_server/analysis/dwi_data/stats_alt_reg/MD/sub-144_in-MNI_ss6mm_MD_before.nii.gz -sub /export2/DATA/HIS/HIS_server/analysis/dwi_data/stats_alt_reg/MD/sub-144_in-MNI_ss6mm_MD_after.nii.gz /export2/DATA/HIS/HIS_server/analysis/dwi_data/stats_alt_reg/MD/sub-144_in-MNI_MD_BEFORE-minus-AFTER.nii.gz\n",
      "fslmaths /export2/DATA/HIS/HIS_server/analysis/dwi_data/stats_alt_reg/FA/sub-144_in-MNI_ss6mm_FA_after.nii.gz -sub /export2/DATA/HIS/HIS_server/analysis/dwi_data/stats_alt_reg/FA/sub-144_in-MNI_ss6mm_FA_before.nii.gz /export2/DATA/HIS/HIS_server/analysis/dwi_data/stats_alt_reg/FA/sub-144_in-MNI_FA_AFTER-minus-BEFORE.nii.gz\n",
      "fslmaths /export2/DATA/HIS/HIS_server/analysis/dwi_data/stats_alt_reg/FA/sub-144_in-MNI_ss6mm_FA_before.nii.gz -sub /export2/DATA/HIS/HIS_server/analysis/dwi_data/stats_alt_reg/FA/sub-144_in-MNI_ss6mm_FA_after.nii.gz /export2/DATA/HIS/HIS_server/analysis/dwi_data/stats_alt_reg/FA/sub-144_in-MNI_FA_BEFORE-minus-AFTER.nii.gz\n",
      "fslmaths /export2/DATA/HIS/HIS_server/analysis/dwi_data/stats_alt_reg/MD/sub-145_in-MNI_ss6mm_MD_after.nii.gz -sub /export2/DATA/HIS/HIS_server/analysis/dwi_data/stats_alt_reg/MD/sub-145_in-MNI_ss6mm_MD_before.nii.gz /export2/DATA/HIS/HIS_server/analysis/dwi_data/stats_alt_reg/MD/sub-145_in-MNI_MD_AFTER-minus-BEFORE.nii.gz\n",
      "fslmaths /export2/DATA/HIS/HIS_server/analysis/dwi_data/stats_alt_reg/MD/sub-145_in-MNI_ss6mm_MD_before.nii.gz -sub /export2/DATA/HIS/HIS_server/analysis/dwi_data/stats_alt_reg/MD/sub-145_in-MNI_ss6mm_MD_after.nii.gz /export2/DATA/HIS/HIS_server/analysis/dwi_data/stats_alt_reg/MD/sub-145_in-MNI_MD_BEFORE-minus-AFTER.nii.gz\n",
      "fslmaths /export2/DATA/HIS/HIS_server/analysis/dwi_data/stats_alt_reg/FA/sub-145_in-MNI_ss6mm_FA_after.nii.gz -sub /export2/DATA/HIS/HIS_server/analysis/dwi_data/stats_alt_reg/FA/sub-145_in-MNI_ss6mm_FA_before.nii.gz /export2/DATA/HIS/HIS_server/analysis/dwi_data/stats_alt_reg/FA/sub-145_in-MNI_FA_AFTER-minus-BEFORE.nii.gz\n",
      "fslmaths /export2/DATA/HIS/HIS_server/analysis/dwi_data/stats_alt_reg/FA/sub-145_in-MNI_ss6mm_FA_before.nii.gz -sub /export2/DATA/HIS/HIS_server/analysis/dwi_data/stats_alt_reg/FA/sub-145_in-MNI_ss6mm_FA_after.nii.gz /export2/DATA/HIS/HIS_server/analysis/dwi_data/stats_alt_reg/FA/sub-145_in-MNI_FA_BEFORE-minus-AFTER.nii.gz\n",
      "fslmaths /export2/DATA/HIS/HIS_server/analysis/dwi_data/stats_alt_reg/MD/sub-146_in-MNI_ss6mm_MD_after.nii.gz -sub /export2/DATA/HIS/HIS_server/analysis/dwi_data/stats_alt_reg/MD/sub-146_in-MNI_ss6mm_MD_before.nii.gz /export2/DATA/HIS/HIS_server/analysis/dwi_data/stats_alt_reg/MD/sub-146_in-MNI_MD_AFTER-minus-BEFORE.nii.gz\n",
      "fslmaths /export2/DATA/HIS/HIS_server/analysis/dwi_data/stats_alt_reg/MD/sub-146_in-MNI_ss6mm_MD_before.nii.gz -sub /export2/DATA/HIS/HIS_server/analysis/dwi_data/stats_alt_reg/MD/sub-146_in-MNI_ss6mm_MD_after.nii.gz /export2/DATA/HIS/HIS_server/analysis/dwi_data/stats_alt_reg/MD/sub-146_in-MNI_MD_BEFORE-minus-AFTER.nii.gz\n",
      "fslmaths /export2/DATA/HIS/HIS_server/analysis/dwi_data/stats_alt_reg/FA/sub-146_in-MNI_ss6mm_FA_after.nii.gz -sub /export2/DATA/HIS/HIS_server/analysis/dwi_data/stats_alt_reg/FA/sub-146_in-MNI_ss6mm_FA_before.nii.gz /export2/DATA/HIS/HIS_server/analysis/dwi_data/stats_alt_reg/FA/sub-146_in-MNI_FA_AFTER-minus-BEFORE.nii.gz\n",
      "fslmaths /export2/DATA/HIS/HIS_server/analysis/dwi_data/stats_alt_reg/FA/sub-146_in-MNI_ss6mm_FA_before.nii.gz -sub /export2/DATA/HIS/HIS_server/analysis/dwi_data/stats_alt_reg/FA/sub-146_in-MNI_ss6mm_FA_after.nii.gz /export2/DATA/HIS/HIS_server/analysis/dwi_data/stats_alt_reg/FA/sub-146_in-MNI_FA_BEFORE-minus-AFTER.nii.gz\n",
      "fslmaths /export2/DATA/HIS/HIS_server/analysis/dwi_data/stats_alt_reg/MD/sub-147_in-MNI_ss6mm_MD_after.nii.gz -sub /export2/DATA/HIS/HIS_server/analysis/dwi_data/stats_alt_reg/MD/sub-147_in-MNI_ss6mm_MD_before.nii.gz /export2/DATA/HIS/HIS_server/analysis/dwi_data/stats_alt_reg/MD/sub-147_in-MNI_MD_AFTER-minus-BEFORE.nii.gz\n",
      "fslmaths /export2/DATA/HIS/HIS_server/analysis/dwi_data/stats_alt_reg/MD/sub-147_in-MNI_ss6mm_MD_before.nii.gz -sub /export2/DATA/HIS/HIS_server/analysis/dwi_data/stats_alt_reg/MD/sub-147_in-MNI_ss6mm_MD_after.nii.gz /export2/DATA/HIS/HIS_server/analysis/dwi_data/stats_alt_reg/MD/sub-147_in-MNI_MD_BEFORE-minus-AFTER.nii.gz\n",
      "fslmaths /export2/DATA/HIS/HIS_server/analysis/dwi_data/stats_alt_reg/FA/sub-147_in-MNI_ss6mm_FA_after.nii.gz -sub /export2/DATA/HIS/HIS_server/analysis/dwi_data/stats_alt_reg/FA/sub-147_in-MNI_ss6mm_FA_before.nii.gz /export2/DATA/HIS/HIS_server/analysis/dwi_data/stats_alt_reg/FA/sub-147_in-MNI_FA_AFTER-minus-BEFORE.nii.gz\n",
      "fslmaths /export2/DATA/HIS/HIS_server/analysis/dwi_data/stats_alt_reg/FA/sub-147_in-MNI_ss6mm_FA_before.nii.gz -sub /export2/DATA/HIS/HIS_server/analysis/dwi_data/stats_alt_reg/FA/sub-147_in-MNI_ss6mm_FA_after.nii.gz /export2/DATA/HIS/HIS_server/analysis/dwi_data/stats_alt_reg/FA/sub-147_in-MNI_FA_BEFORE-minus-AFTER.nii.gz\n",
      "fslmaths /export2/DATA/HIS/HIS_server/analysis/dwi_data/stats_alt_reg/MD/sub-148_in-MNI_ss6mm_MD_after.nii.gz -sub /export2/DATA/HIS/HIS_server/analysis/dwi_data/stats_alt_reg/MD/sub-148_in-MNI_ss6mm_MD_before.nii.gz /export2/DATA/HIS/HIS_server/analysis/dwi_data/stats_alt_reg/MD/sub-148_in-MNI_MD_AFTER-minus-BEFORE.nii.gz\n",
      "fslmaths /export2/DATA/HIS/HIS_server/analysis/dwi_data/stats_alt_reg/MD/sub-148_in-MNI_ss6mm_MD_before.nii.gz -sub /export2/DATA/HIS/HIS_server/analysis/dwi_data/stats_alt_reg/MD/sub-148_in-MNI_ss6mm_MD_after.nii.gz /export2/DATA/HIS/HIS_server/analysis/dwi_data/stats_alt_reg/MD/sub-148_in-MNI_MD_BEFORE-minus-AFTER.nii.gz\n",
      "fslmaths /export2/DATA/HIS/HIS_server/analysis/dwi_data/stats_alt_reg/FA/sub-148_in-MNI_ss6mm_FA_after.nii.gz -sub /export2/DATA/HIS/HIS_server/analysis/dwi_data/stats_alt_reg/FA/sub-148_in-MNI_ss6mm_FA_before.nii.gz /export2/DATA/HIS/HIS_server/analysis/dwi_data/stats_alt_reg/FA/sub-148_in-MNI_FA_AFTER-minus-BEFORE.nii.gz\n",
      "fslmaths /export2/DATA/HIS/HIS_server/analysis/dwi_data/stats_alt_reg/FA/sub-148_in-MNI_ss6mm_FA_before.nii.gz -sub /export2/DATA/HIS/HIS_server/analysis/dwi_data/stats_alt_reg/FA/sub-148_in-MNI_ss6mm_FA_after.nii.gz /export2/DATA/HIS/HIS_server/analysis/dwi_data/stats_alt_reg/FA/sub-148_in-MNI_FA_BEFORE-minus-AFTER.nii.gz\n",
      "fslmaths /export2/DATA/HIS/HIS_server/analysis/dwi_data/stats_alt_reg/MD/sub-149_in-MNI_ss6mm_MD_after.nii.gz -sub /export2/DATA/HIS/HIS_server/analysis/dwi_data/stats_alt_reg/MD/sub-149_in-MNI_ss6mm_MD_before.nii.gz /export2/DATA/HIS/HIS_server/analysis/dwi_data/stats_alt_reg/MD/sub-149_in-MNI_MD_AFTER-minus-BEFORE.nii.gz\n",
      "fslmaths /export2/DATA/HIS/HIS_server/analysis/dwi_data/stats_alt_reg/MD/sub-149_in-MNI_ss6mm_MD_before.nii.gz -sub /export2/DATA/HIS/HIS_server/analysis/dwi_data/stats_alt_reg/MD/sub-149_in-MNI_ss6mm_MD_after.nii.gz /export2/DATA/HIS/HIS_server/analysis/dwi_data/stats_alt_reg/MD/sub-149_in-MNI_MD_BEFORE-minus-AFTER.nii.gz\n",
      "fslmaths /export2/DATA/HIS/HIS_server/analysis/dwi_data/stats_alt_reg/FA/sub-149_in-MNI_ss6mm_FA_after.nii.gz -sub /export2/DATA/HIS/HIS_server/analysis/dwi_data/stats_alt_reg/FA/sub-149_in-MNI_ss6mm_FA_before.nii.gz /export2/DATA/HIS/HIS_server/analysis/dwi_data/stats_alt_reg/FA/sub-149_in-MNI_FA_AFTER-minus-BEFORE.nii.gz\n",
      "fslmaths /export2/DATA/HIS/HIS_server/analysis/dwi_data/stats_alt_reg/FA/sub-149_in-MNI_ss6mm_FA_before.nii.gz -sub /export2/DATA/HIS/HIS_server/analysis/dwi_data/stats_alt_reg/FA/sub-149_in-MNI_ss6mm_FA_after.nii.gz /export2/DATA/HIS/HIS_server/analysis/dwi_data/stats_alt_reg/FA/sub-149_in-MNI_FA_BEFORE-minus-AFTER.nii.gz\n",
      "fslmaths /export2/DATA/HIS/HIS_server/analysis/dwi_data/stats_alt_reg/MD/sub-150_in-MNI_ss6mm_MD_after.nii.gz -sub /export2/DATA/HIS/HIS_server/analysis/dwi_data/stats_alt_reg/MD/sub-150_in-MNI_ss6mm_MD_before.nii.gz /export2/DATA/HIS/HIS_server/analysis/dwi_data/stats_alt_reg/MD/sub-150_in-MNI_MD_AFTER-minus-BEFORE.nii.gz\n",
      "fslmaths /export2/DATA/HIS/HIS_server/analysis/dwi_data/stats_alt_reg/MD/sub-150_in-MNI_ss6mm_MD_before.nii.gz -sub /export2/DATA/HIS/HIS_server/analysis/dwi_data/stats_alt_reg/MD/sub-150_in-MNI_ss6mm_MD_after.nii.gz /export2/DATA/HIS/HIS_server/analysis/dwi_data/stats_alt_reg/MD/sub-150_in-MNI_MD_BEFORE-minus-AFTER.nii.gz\n",
      "fslmaths /export2/DATA/HIS/HIS_server/analysis/dwi_data/stats_alt_reg/FA/sub-150_in-MNI_ss6mm_FA_after.nii.gz -sub /export2/DATA/HIS/HIS_server/analysis/dwi_data/stats_alt_reg/FA/sub-150_in-MNI_ss6mm_FA_before.nii.gz /export2/DATA/HIS/HIS_server/analysis/dwi_data/stats_alt_reg/FA/sub-150_in-MNI_FA_AFTER-minus-BEFORE.nii.gz\n",
      "fslmaths /export2/DATA/HIS/HIS_server/analysis/dwi_data/stats_alt_reg/FA/sub-150_in-MNI_ss6mm_FA_before.nii.gz -sub /export2/DATA/HIS/HIS_server/analysis/dwi_data/stats_alt_reg/FA/sub-150_in-MNI_ss6mm_FA_after.nii.gz /export2/DATA/HIS/HIS_server/analysis/dwi_data/stats_alt_reg/FA/sub-150_in-MNI_FA_BEFORE-minus-AFTER.nii.gz\n",
      "fslmaths /export2/DATA/HIS/HIS_server/analysis/dwi_data/stats_alt_reg/MD/sub-151_in-MNI_ss6mm_MD_after.nii.gz -sub /export2/DATA/HIS/HIS_server/analysis/dwi_data/stats_alt_reg/MD/sub-151_in-MNI_ss6mm_MD_before.nii.gz /export2/DATA/HIS/HIS_server/analysis/dwi_data/stats_alt_reg/MD/sub-151_in-MNI_MD_AFTER-minus-BEFORE.nii.gz\n",
      "fslmaths /export2/DATA/HIS/HIS_server/analysis/dwi_data/stats_alt_reg/MD/sub-151_in-MNI_ss6mm_MD_before.nii.gz -sub /export2/DATA/HIS/HIS_server/analysis/dwi_data/stats_alt_reg/MD/sub-151_in-MNI_ss6mm_MD_after.nii.gz /export2/DATA/HIS/HIS_server/analysis/dwi_data/stats_alt_reg/MD/sub-151_in-MNI_MD_BEFORE-minus-AFTER.nii.gz\n",
      "fslmaths /export2/DATA/HIS/HIS_server/analysis/dwi_data/stats_alt_reg/FA/sub-151_in-MNI_ss6mm_FA_after.nii.gz -sub /export2/DATA/HIS/HIS_server/analysis/dwi_data/stats_alt_reg/FA/sub-151_in-MNI_ss6mm_FA_before.nii.gz /export2/DATA/HIS/HIS_server/analysis/dwi_data/stats_alt_reg/FA/sub-151_in-MNI_FA_AFTER-minus-BEFORE.nii.gz\n",
      "fslmaths /export2/DATA/HIS/HIS_server/analysis/dwi_data/stats_alt_reg/FA/sub-151_in-MNI_ss6mm_FA_before.nii.gz -sub /export2/DATA/HIS/HIS_server/analysis/dwi_data/stats_alt_reg/FA/sub-151_in-MNI_ss6mm_FA_after.nii.gz /export2/DATA/HIS/HIS_server/analysis/dwi_data/stats_alt_reg/FA/sub-151_in-MNI_FA_BEFORE-minus-AFTER.nii.gz\n",
      "fslmaths /export2/DATA/HIS/HIS_server/analysis/dwi_data/stats_alt_reg/MD/sub-152_in-MNI_ss6mm_MD_after.nii.gz -sub /export2/DATA/HIS/HIS_server/analysis/dwi_data/stats_alt_reg/MD/sub-152_in-MNI_ss6mm_MD_before.nii.gz /export2/DATA/HIS/HIS_server/analysis/dwi_data/stats_alt_reg/MD/sub-152_in-MNI_MD_AFTER-minus-BEFORE.nii.gz\n",
      "fslmaths /export2/DATA/HIS/HIS_server/analysis/dwi_data/stats_alt_reg/MD/sub-152_in-MNI_ss6mm_MD_before.nii.gz -sub /export2/DATA/HIS/HIS_server/analysis/dwi_data/stats_alt_reg/MD/sub-152_in-MNI_ss6mm_MD_after.nii.gz /export2/DATA/HIS/HIS_server/analysis/dwi_data/stats_alt_reg/MD/sub-152_in-MNI_MD_BEFORE-minus-AFTER.nii.gz\n",
      "fslmaths /export2/DATA/HIS/HIS_server/analysis/dwi_data/stats_alt_reg/FA/sub-152_in-MNI_ss6mm_FA_after.nii.gz -sub /export2/DATA/HIS/HIS_server/analysis/dwi_data/stats_alt_reg/FA/sub-152_in-MNI_ss6mm_FA_before.nii.gz /export2/DATA/HIS/HIS_server/analysis/dwi_data/stats_alt_reg/FA/sub-152_in-MNI_FA_AFTER-minus-BEFORE.nii.gz\n",
      "fslmaths /export2/DATA/HIS/HIS_server/analysis/dwi_data/stats_alt_reg/FA/sub-152_in-MNI_ss6mm_FA_before.nii.gz -sub /export2/DATA/HIS/HIS_server/analysis/dwi_data/stats_alt_reg/FA/sub-152_in-MNI_ss6mm_FA_after.nii.gz /export2/DATA/HIS/HIS_server/analysis/dwi_data/stats_alt_reg/FA/sub-152_in-MNI_FA_BEFORE-minus-AFTER.nii.gz\n",
      "fslmaths /export2/DATA/HIS/HIS_server/analysis/dwi_data/stats_alt_reg/MD/sub-153_in-MNI_ss6mm_MD_after.nii.gz -sub /export2/DATA/HIS/HIS_server/analysis/dwi_data/stats_alt_reg/MD/sub-153_in-MNI_ss6mm_MD_before.nii.gz /export2/DATA/HIS/HIS_server/analysis/dwi_data/stats_alt_reg/MD/sub-153_in-MNI_MD_AFTER-minus-BEFORE.nii.gz\n",
      "fslmaths /export2/DATA/HIS/HIS_server/analysis/dwi_data/stats_alt_reg/MD/sub-153_in-MNI_ss6mm_MD_before.nii.gz -sub /export2/DATA/HIS/HIS_server/analysis/dwi_data/stats_alt_reg/MD/sub-153_in-MNI_ss6mm_MD_after.nii.gz /export2/DATA/HIS/HIS_server/analysis/dwi_data/stats_alt_reg/MD/sub-153_in-MNI_MD_BEFORE-minus-AFTER.nii.gz\n",
      "fslmaths /export2/DATA/HIS/HIS_server/analysis/dwi_data/stats_alt_reg/FA/sub-153_in-MNI_ss6mm_FA_after.nii.gz -sub /export2/DATA/HIS/HIS_server/analysis/dwi_data/stats_alt_reg/FA/sub-153_in-MNI_ss6mm_FA_before.nii.gz /export2/DATA/HIS/HIS_server/analysis/dwi_data/stats_alt_reg/FA/sub-153_in-MNI_FA_AFTER-minus-BEFORE.nii.gz\n",
      "fslmaths /export2/DATA/HIS/HIS_server/analysis/dwi_data/stats_alt_reg/FA/sub-153_in-MNI_ss6mm_FA_before.nii.gz -sub /export2/DATA/HIS/HIS_server/analysis/dwi_data/stats_alt_reg/FA/sub-153_in-MNI_ss6mm_FA_after.nii.gz /export2/DATA/HIS/HIS_server/analysis/dwi_data/stats_alt_reg/FA/sub-153_in-MNI_FA_BEFORE-minus-AFTER.nii.gz\n",
      "fslmaths /export2/DATA/HIS/HIS_server/analysis/dwi_data/stats_alt_reg/MD/sub-154_in-MNI_ss6mm_MD_after.nii.gz -sub /export2/DATA/HIS/HIS_server/analysis/dwi_data/stats_alt_reg/MD/sub-154_in-MNI_ss6mm_MD_before.nii.gz /export2/DATA/HIS/HIS_server/analysis/dwi_data/stats_alt_reg/MD/sub-154_in-MNI_MD_AFTER-minus-BEFORE.nii.gz\n",
      "fslmaths /export2/DATA/HIS/HIS_server/analysis/dwi_data/stats_alt_reg/MD/sub-154_in-MNI_ss6mm_MD_before.nii.gz -sub /export2/DATA/HIS/HIS_server/analysis/dwi_data/stats_alt_reg/MD/sub-154_in-MNI_ss6mm_MD_after.nii.gz /export2/DATA/HIS/HIS_server/analysis/dwi_data/stats_alt_reg/MD/sub-154_in-MNI_MD_BEFORE-minus-AFTER.nii.gz\n",
      "fslmaths /export2/DATA/HIS/HIS_server/analysis/dwi_data/stats_alt_reg/FA/sub-154_in-MNI_ss6mm_FA_after.nii.gz -sub /export2/DATA/HIS/HIS_server/analysis/dwi_data/stats_alt_reg/FA/sub-154_in-MNI_ss6mm_FA_before.nii.gz /export2/DATA/HIS/HIS_server/analysis/dwi_data/stats_alt_reg/FA/sub-154_in-MNI_FA_AFTER-minus-BEFORE.nii.gz\n",
      "fslmaths /export2/DATA/HIS/HIS_server/analysis/dwi_data/stats_alt_reg/FA/sub-154_in-MNI_ss6mm_FA_before.nii.gz -sub /export2/DATA/HIS/HIS_server/analysis/dwi_data/stats_alt_reg/FA/sub-154_in-MNI_ss6mm_FA_after.nii.gz /export2/DATA/HIS/HIS_server/analysis/dwi_data/stats_alt_reg/FA/sub-154_in-MNI_FA_BEFORE-minus-AFTER.nii.gz\n",
      "fslmaths /export2/DATA/HIS/HIS_server/analysis/dwi_data/stats_alt_reg/MD/sub-155_in-MNI_ss6mm_MD_after.nii.gz -sub /export2/DATA/HIS/HIS_server/analysis/dwi_data/stats_alt_reg/MD/sub-155_in-MNI_ss6mm_MD_before.nii.gz /export2/DATA/HIS/HIS_server/analysis/dwi_data/stats_alt_reg/MD/sub-155_in-MNI_MD_AFTER-minus-BEFORE.nii.gz\n",
      "fslmaths /export2/DATA/HIS/HIS_server/analysis/dwi_data/stats_alt_reg/MD/sub-155_in-MNI_ss6mm_MD_before.nii.gz -sub /export2/DATA/HIS/HIS_server/analysis/dwi_data/stats_alt_reg/MD/sub-155_in-MNI_ss6mm_MD_after.nii.gz /export2/DATA/HIS/HIS_server/analysis/dwi_data/stats_alt_reg/MD/sub-155_in-MNI_MD_BEFORE-minus-AFTER.nii.gz\n",
      "fslmaths /export2/DATA/HIS/HIS_server/analysis/dwi_data/stats_alt_reg/FA/sub-155_in-MNI_ss6mm_FA_after.nii.gz -sub /export2/DATA/HIS/HIS_server/analysis/dwi_data/stats_alt_reg/FA/sub-155_in-MNI_ss6mm_FA_before.nii.gz /export2/DATA/HIS/HIS_server/analysis/dwi_data/stats_alt_reg/FA/sub-155_in-MNI_FA_AFTER-minus-BEFORE.nii.gz\n",
      "fslmaths /export2/DATA/HIS/HIS_server/analysis/dwi_data/stats_alt_reg/FA/sub-155_in-MNI_ss6mm_FA_before.nii.gz -sub /export2/DATA/HIS/HIS_server/analysis/dwi_data/stats_alt_reg/FA/sub-155_in-MNI_ss6mm_FA_after.nii.gz /export2/DATA/HIS/HIS_server/analysis/dwi_data/stats_alt_reg/FA/sub-155_in-MNI_FA_BEFORE-minus-AFTER.nii.gz\n",
      "fslmaths /export2/DATA/HIS/HIS_server/analysis/dwi_data/stats_alt_reg/MD/sub-156_in-MNI_ss6mm_MD_after.nii.gz -sub /export2/DATA/HIS/HIS_server/analysis/dwi_data/stats_alt_reg/MD/sub-156_in-MNI_ss6mm_MD_before.nii.gz /export2/DATA/HIS/HIS_server/analysis/dwi_data/stats_alt_reg/MD/sub-156_in-MNI_MD_AFTER-minus-BEFORE.nii.gz\n",
      "fslmaths /export2/DATA/HIS/HIS_server/analysis/dwi_data/stats_alt_reg/MD/sub-156_in-MNI_ss6mm_MD_before.nii.gz -sub /export2/DATA/HIS/HIS_server/analysis/dwi_data/stats_alt_reg/MD/sub-156_in-MNI_ss6mm_MD_after.nii.gz /export2/DATA/HIS/HIS_server/analysis/dwi_data/stats_alt_reg/MD/sub-156_in-MNI_MD_BEFORE-minus-AFTER.nii.gz\n",
      "fslmaths /export2/DATA/HIS/HIS_server/analysis/dwi_data/stats_alt_reg/FA/sub-156_in-MNI_ss6mm_FA_after.nii.gz -sub /export2/DATA/HIS/HIS_server/analysis/dwi_data/stats_alt_reg/FA/sub-156_in-MNI_ss6mm_FA_before.nii.gz /export2/DATA/HIS/HIS_server/analysis/dwi_data/stats_alt_reg/FA/sub-156_in-MNI_FA_AFTER-minus-BEFORE.nii.gz\n",
      "fslmaths /export2/DATA/HIS/HIS_server/analysis/dwi_data/stats_alt_reg/FA/sub-156_in-MNI_ss6mm_FA_before.nii.gz -sub /export2/DATA/HIS/HIS_server/analysis/dwi_data/stats_alt_reg/FA/sub-156_in-MNI_ss6mm_FA_after.nii.gz /export2/DATA/HIS/HIS_server/analysis/dwi_data/stats_alt_reg/FA/sub-156_in-MNI_FA_BEFORE-minus-AFTER.nii.gz\n",
      "fslmaths /export2/DATA/HIS/HIS_server/analysis/dwi_data/stats_alt_reg/MD/sub-157_in-MNI_ss6mm_MD_after.nii.gz -sub /export2/DATA/HIS/HIS_server/analysis/dwi_data/stats_alt_reg/MD/sub-157_in-MNI_ss6mm_MD_before.nii.gz /export2/DATA/HIS/HIS_server/analysis/dwi_data/stats_alt_reg/MD/sub-157_in-MNI_MD_AFTER-minus-BEFORE.nii.gz\n",
      "fslmaths /export2/DATA/HIS/HIS_server/analysis/dwi_data/stats_alt_reg/MD/sub-157_in-MNI_ss6mm_MD_before.nii.gz -sub /export2/DATA/HIS/HIS_server/analysis/dwi_data/stats_alt_reg/MD/sub-157_in-MNI_ss6mm_MD_after.nii.gz /export2/DATA/HIS/HIS_server/analysis/dwi_data/stats_alt_reg/MD/sub-157_in-MNI_MD_BEFORE-minus-AFTER.nii.gz\n",
      "fslmaths /export2/DATA/HIS/HIS_server/analysis/dwi_data/stats_alt_reg/FA/sub-157_in-MNI_ss6mm_FA_after.nii.gz -sub /export2/DATA/HIS/HIS_server/analysis/dwi_data/stats_alt_reg/FA/sub-157_in-MNI_ss6mm_FA_before.nii.gz /export2/DATA/HIS/HIS_server/analysis/dwi_data/stats_alt_reg/FA/sub-157_in-MNI_FA_AFTER-minus-BEFORE.nii.gz\n",
      "fslmaths /export2/DATA/HIS/HIS_server/analysis/dwi_data/stats_alt_reg/FA/sub-157_in-MNI_ss6mm_FA_before.nii.gz -sub /export2/DATA/HIS/HIS_server/analysis/dwi_data/stats_alt_reg/FA/sub-157_in-MNI_ss6mm_FA_after.nii.gz /export2/DATA/HIS/HIS_server/analysis/dwi_data/stats_alt_reg/FA/sub-157_in-MNI_FA_BEFORE-minus-AFTER.nii.gz\n",
      "fslmaths /export2/DATA/HIS/HIS_server/analysis/dwi_data/stats_alt_reg/MD/sub-158_in-MNI_ss6mm_MD_after.nii.gz -sub /export2/DATA/HIS/HIS_server/analysis/dwi_data/stats_alt_reg/MD/sub-158_in-MNI_ss6mm_MD_before.nii.gz /export2/DATA/HIS/HIS_server/analysis/dwi_data/stats_alt_reg/MD/sub-158_in-MNI_MD_AFTER-minus-BEFORE.nii.gz\n",
      "fslmaths /export2/DATA/HIS/HIS_server/analysis/dwi_data/stats_alt_reg/MD/sub-158_in-MNI_ss6mm_MD_before.nii.gz -sub /export2/DATA/HIS/HIS_server/analysis/dwi_data/stats_alt_reg/MD/sub-158_in-MNI_ss6mm_MD_after.nii.gz /export2/DATA/HIS/HIS_server/analysis/dwi_data/stats_alt_reg/MD/sub-158_in-MNI_MD_BEFORE-minus-AFTER.nii.gz\n",
      "fslmaths /export2/DATA/HIS/HIS_server/analysis/dwi_data/stats_alt_reg/FA/sub-158_in-MNI_ss6mm_FA_after.nii.gz -sub /export2/DATA/HIS/HIS_server/analysis/dwi_data/stats_alt_reg/FA/sub-158_in-MNI_ss6mm_FA_before.nii.gz /export2/DATA/HIS/HIS_server/analysis/dwi_data/stats_alt_reg/FA/sub-158_in-MNI_FA_AFTER-minus-BEFORE.nii.gz\n",
      "fslmaths /export2/DATA/HIS/HIS_server/analysis/dwi_data/stats_alt_reg/FA/sub-158_in-MNI_ss6mm_FA_before.nii.gz -sub /export2/DATA/HIS/HIS_server/analysis/dwi_data/stats_alt_reg/FA/sub-158_in-MNI_ss6mm_FA_after.nii.gz /export2/DATA/HIS/HIS_server/analysis/dwi_data/stats_alt_reg/FA/sub-158_in-MNI_FA_BEFORE-minus-AFTER.nii.gz\n",
      "fslmaths /export2/DATA/HIS/HIS_server/analysis/dwi_data/stats_alt_reg/MD/sub-159_in-MNI_ss6mm_MD_after.nii.gz -sub /export2/DATA/HIS/HIS_server/analysis/dwi_data/stats_alt_reg/MD/sub-159_in-MNI_ss6mm_MD_before.nii.gz /export2/DATA/HIS/HIS_server/analysis/dwi_data/stats_alt_reg/MD/sub-159_in-MNI_MD_AFTER-minus-BEFORE.nii.gz\n",
      "fslmaths /export2/DATA/HIS/HIS_server/analysis/dwi_data/stats_alt_reg/MD/sub-159_in-MNI_ss6mm_MD_before.nii.gz -sub /export2/DATA/HIS/HIS_server/analysis/dwi_data/stats_alt_reg/MD/sub-159_in-MNI_ss6mm_MD_after.nii.gz /export2/DATA/HIS/HIS_server/analysis/dwi_data/stats_alt_reg/MD/sub-159_in-MNI_MD_BEFORE-minus-AFTER.nii.gz\n",
      "fslmaths /export2/DATA/HIS/HIS_server/analysis/dwi_data/stats_alt_reg/FA/sub-159_in-MNI_ss6mm_FA_after.nii.gz -sub /export2/DATA/HIS/HIS_server/analysis/dwi_data/stats_alt_reg/FA/sub-159_in-MNI_ss6mm_FA_before.nii.gz /export2/DATA/HIS/HIS_server/analysis/dwi_data/stats_alt_reg/FA/sub-159_in-MNI_FA_AFTER-minus-BEFORE.nii.gz\n",
      "fslmaths /export2/DATA/HIS/HIS_server/analysis/dwi_data/stats_alt_reg/FA/sub-159_in-MNI_ss6mm_FA_before.nii.gz -sub /export2/DATA/HIS/HIS_server/analysis/dwi_data/stats_alt_reg/FA/sub-159_in-MNI_ss6mm_FA_after.nii.gz /export2/DATA/HIS/HIS_server/analysis/dwi_data/stats_alt_reg/FA/sub-159_in-MNI_FA_BEFORE-minus-AFTER.nii.gz\n",
      "fslmaths /export2/DATA/HIS/HIS_server/analysis/dwi_data/stats_alt_reg/MD/sub-160_in-MNI_ss6mm_MD_after.nii.gz -sub /export2/DATA/HIS/HIS_server/analysis/dwi_data/stats_alt_reg/MD/sub-160_in-MNI_ss6mm_MD_before.nii.gz /export2/DATA/HIS/HIS_server/analysis/dwi_data/stats_alt_reg/MD/sub-160_in-MNI_MD_AFTER-minus-BEFORE.nii.gz\n",
      "fslmaths /export2/DATA/HIS/HIS_server/analysis/dwi_data/stats_alt_reg/MD/sub-160_in-MNI_ss6mm_MD_before.nii.gz -sub /export2/DATA/HIS/HIS_server/analysis/dwi_data/stats_alt_reg/MD/sub-160_in-MNI_ss6mm_MD_after.nii.gz /export2/DATA/HIS/HIS_server/analysis/dwi_data/stats_alt_reg/MD/sub-160_in-MNI_MD_BEFORE-minus-AFTER.nii.gz\n",
      "fslmaths /export2/DATA/HIS/HIS_server/analysis/dwi_data/stats_alt_reg/FA/sub-160_in-MNI_ss6mm_FA_after.nii.gz -sub /export2/DATA/HIS/HIS_server/analysis/dwi_data/stats_alt_reg/FA/sub-160_in-MNI_ss6mm_FA_before.nii.gz /export2/DATA/HIS/HIS_server/analysis/dwi_data/stats_alt_reg/FA/sub-160_in-MNI_FA_AFTER-minus-BEFORE.nii.gz\n",
      "fslmaths /export2/DATA/HIS/HIS_server/analysis/dwi_data/stats_alt_reg/FA/sub-160_in-MNI_ss6mm_FA_before.nii.gz -sub /export2/DATA/HIS/HIS_server/analysis/dwi_data/stats_alt_reg/FA/sub-160_in-MNI_ss6mm_FA_after.nii.gz /export2/DATA/HIS/HIS_server/analysis/dwi_data/stats_alt_reg/FA/sub-160_in-MNI_FA_BEFORE-minus-AFTER.nii.gz\n",
      "fslmaths /export2/DATA/HIS/HIS_server/analysis/dwi_data/stats_alt_reg/MD/sub-161_in-MNI_ss6mm_MD_after.nii.gz -sub /export2/DATA/HIS/HIS_server/analysis/dwi_data/stats_alt_reg/MD/sub-161_in-MNI_ss6mm_MD_before.nii.gz /export2/DATA/HIS/HIS_server/analysis/dwi_data/stats_alt_reg/MD/sub-161_in-MNI_MD_AFTER-minus-BEFORE.nii.gz\n",
      "fslmaths /export2/DATA/HIS/HIS_server/analysis/dwi_data/stats_alt_reg/MD/sub-161_in-MNI_ss6mm_MD_before.nii.gz -sub /export2/DATA/HIS/HIS_server/analysis/dwi_data/stats_alt_reg/MD/sub-161_in-MNI_ss6mm_MD_after.nii.gz /export2/DATA/HIS/HIS_server/analysis/dwi_data/stats_alt_reg/MD/sub-161_in-MNI_MD_BEFORE-minus-AFTER.nii.gz\n",
      "fslmaths /export2/DATA/HIS/HIS_server/analysis/dwi_data/stats_alt_reg/FA/sub-161_in-MNI_ss6mm_FA_after.nii.gz -sub /export2/DATA/HIS/HIS_server/analysis/dwi_data/stats_alt_reg/FA/sub-161_in-MNI_ss6mm_FA_before.nii.gz /export2/DATA/HIS/HIS_server/analysis/dwi_data/stats_alt_reg/FA/sub-161_in-MNI_FA_AFTER-minus-BEFORE.nii.gz\n",
      "fslmaths /export2/DATA/HIS/HIS_server/analysis/dwi_data/stats_alt_reg/FA/sub-161_in-MNI_ss6mm_FA_before.nii.gz -sub /export2/DATA/HIS/HIS_server/analysis/dwi_data/stats_alt_reg/FA/sub-161_in-MNI_ss6mm_FA_after.nii.gz /export2/DATA/HIS/HIS_server/analysis/dwi_data/stats_alt_reg/FA/sub-161_in-MNI_FA_BEFORE-minus-AFTER.nii.gz\n",
      "fslmaths /export2/DATA/HIS/HIS_server/analysis/dwi_data/stats_alt_reg/MD/sub-162_in-MNI_ss6mm_MD_after.nii.gz -sub /export2/DATA/HIS/HIS_server/analysis/dwi_data/stats_alt_reg/MD/sub-162_in-MNI_ss6mm_MD_before.nii.gz /export2/DATA/HIS/HIS_server/analysis/dwi_data/stats_alt_reg/MD/sub-162_in-MNI_MD_AFTER-minus-BEFORE.nii.gz\n",
      "fslmaths /export2/DATA/HIS/HIS_server/analysis/dwi_data/stats_alt_reg/MD/sub-162_in-MNI_ss6mm_MD_before.nii.gz -sub /export2/DATA/HIS/HIS_server/analysis/dwi_data/stats_alt_reg/MD/sub-162_in-MNI_ss6mm_MD_after.nii.gz /export2/DATA/HIS/HIS_server/analysis/dwi_data/stats_alt_reg/MD/sub-162_in-MNI_MD_BEFORE-minus-AFTER.nii.gz\n",
      "fslmaths /export2/DATA/HIS/HIS_server/analysis/dwi_data/stats_alt_reg/FA/sub-162_in-MNI_ss6mm_FA_after.nii.gz -sub /export2/DATA/HIS/HIS_server/analysis/dwi_data/stats_alt_reg/FA/sub-162_in-MNI_ss6mm_FA_before.nii.gz /export2/DATA/HIS/HIS_server/analysis/dwi_data/stats_alt_reg/FA/sub-162_in-MNI_FA_AFTER-minus-BEFORE.nii.gz\n",
      "fslmaths /export2/DATA/HIS/HIS_server/analysis/dwi_data/stats_alt_reg/FA/sub-162_in-MNI_ss6mm_FA_before.nii.gz -sub /export2/DATA/HIS/HIS_server/analysis/dwi_data/stats_alt_reg/FA/sub-162_in-MNI_ss6mm_FA_after.nii.gz /export2/DATA/HIS/HIS_server/analysis/dwi_data/stats_alt_reg/FA/sub-162_in-MNI_FA_BEFORE-minus-AFTER.nii.gz\n",
      "fslmaths /export2/DATA/HIS/HIS_server/analysis/dwi_data/stats_alt_reg/MD/sub-163_in-MNI_ss6mm_MD_after.nii.gz -sub /export2/DATA/HIS/HIS_server/analysis/dwi_data/stats_alt_reg/MD/sub-163_in-MNI_ss6mm_MD_before.nii.gz /export2/DATA/HIS/HIS_server/analysis/dwi_data/stats_alt_reg/MD/sub-163_in-MNI_MD_AFTER-minus-BEFORE.nii.gz\n",
      "fslmaths /export2/DATA/HIS/HIS_server/analysis/dwi_data/stats_alt_reg/MD/sub-163_in-MNI_ss6mm_MD_before.nii.gz -sub /export2/DATA/HIS/HIS_server/analysis/dwi_data/stats_alt_reg/MD/sub-163_in-MNI_ss6mm_MD_after.nii.gz /export2/DATA/HIS/HIS_server/analysis/dwi_data/stats_alt_reg/MD/sub-163_in-MNI_MD_BEFORE-minus-AFTER.nii.gz\n",
      "fslmaths /export2/DATA/HIS/HIS_server/analysis/dwi_data/stats_alt_reg/FA/sub-163_in-MNI_ss6mm_FA_after.nii.gz -sub /export2/DATA/HIS/HIS_server/analysis/dwi_data/stats_alt_reg/FA/sub-163_in-MNI_ss6mm_FA_before.nii.gz /export2/DATA/HIS/HIS_server/analysis/dwi_data/stats_alt_reg/FA/sub-163_in-MNI_FA_AFTER-minus-BEFORE.nii.gz\n",
      "fslmaths /export2/DATA/HIS/HIS_server/analysis/dwi_data/stats_alt_reg/FA/sub-163_in-MNI_ss6mm_FA_before.nii.gz -sub /export2/DATA/HIS/HIS_server/analysis/dwi_data/stats_alt_reg/FA/sub-163_in-MNI_ss6mm_FA_after.nii.gz /export2/DATA/HIS/HIS_server/analysis/dwi_data/stats_alt_reg/FA/sub-163_in-MNI_FA_BEFORE-minus-AFTER.nii.gz\n",
      "fslmaths /export2/DATA/HIS/HIS_server/analysis/dwi_data/stats_alt_reg/MD/sub-164_in-MNI_ss6mm_MD_after.nii.gz -sub /export2/DATA/HIS/HIS_server/analysis/dwi_data/stats_alt_reg/MD/sub-164_in-MNI_ss6mm_MD_before.nii.gz /export2/DATA/HIS/HIS_server/analysis/dwi_data/stats_alt_reg/MD/sub-164_in-MNI_MD_AFTER-minus-BEFORE.nii.gz\n",
      "fslmaths /export2/DATA/HIS/HIS_server/analysis/dwi_data/stats_alt_reg/MD/sub-164_in-MNI_ss6mm_MD_before.nii.gz -sub /export2/DATA/HIS/HIS_server/analysis/dwi_data/stats_alt_reg/MD/sub-164_in-MNI_ss6mm_MD_after.nii.gz /export2/DATA/HIS/HIS_server/analysis/dwi_data/stats_alt_reg/MD/sub-164_in-MNI_MD_BEFORE-minus-AFTER.nii.gz\n",
      "fslmaths /export2/DATA/HIS/HIS_server/analysis/dwi_data/stats_alt_reg/FA/sub-164_in-MNI_ss6mm_FA_after.nii.gz -sub /export2/DATA/HIS/HIS_server/analysis/dwi_data/stats_alt_reg/FA/sub-164_in-MNI_ss6mm_FA_before.nii.gz /export2/DATA/HIS/HIS_server/analysis/dwi_data/stats_alt_reg/FA/sub-164_in-MNI_FA_AFTER-minus-BEFORE.nii.gz\n",
      "fslmaths /export2/DATA/HIS/HIS_server/analysis/dwi_data/stats_alt_reg/FA/sub-164_in-MNI_ss6mm_FA_before.nii.gz -sub /export2/DATA/HIS/HIS_server/analysis/dwi_data/stats_alt_reg/FA/sub-164_in-MNI_ss6mm_FA_after.nii.gz /export2/DATA/HIS/HIS_server/analysis/dwi_data/stats_alt_reg/FA/sub-164_in-MNI_FA_BEFORE-minus-AFTER.nii.gz\n",
      "fslmaths /export2/DATA/HIS/HIS_server/analysis/dwi_data/stats_alt_reg/MD/sub-166_in-MNI_ss6mm_MD_after.nii.gz -sub /export2/DATA/HIS/HIS_server/analysis/dwi_data/stats_alt_reg/MD/sub-166_in-MNI_ss6mm_MD_before.nii.gz /export2/DATA/HIS/HIS_server/analysis/dwi_data/stats_alt_reg/MD/sub-166_in-MNI_MD_AFTER-minus-BEFORE.nii.gz\n",
      "fslmaths /export2/DATA/HIS/HIS_server/analysis/dwi_data/stats_alt_reg/MD/sub-166_in-MNI_ss6mm_MD_before.nii.gz -sub /export2/DATA/HIS/HIS_server/analysis/dwi_data/stats_alt_reg/MD/sub-166_in-MNI_ss6mm_MD_after.nii.gz /export2/DATA/HIS/HIS_server/analysis/dwi_data/stats_alt_reg/MD/sub-166_in-MNI_MD_BEFORE-minus-AFTER.nii.gz\n",
      "fslmaths /export2/DATA/HIS/HIS_server/analysis/dwi_data/stats_alt_reg/FA/sub-166_in-MNI_ss6mm_FA_after.nii.gz -sub /export2/DATA/HIS/HIS_server/analysis/dwi_data/stats_alt_reg/FA/sub-166_in-MNI_ss6mm_FA_before.nii.gz /export2/DATA/HIS/HIS_server/analysis/dwi_data/stats_alt_reg/FA/sub-166_in-MNI_FA_AFTER-minus-BEFORE.nii.gz\n",
      "fslmaths /export2/DATA/HIS/HIS_server/analysis/dwi_data/stats_alt_reg/FA/sub-166_in-MNI_ss6mm_FA_before.nii.gz -sub /export2/DATA/HIS/HIS_server/analysis/dwi_data/stats_alt_reg/FA/sub-166_in-MNI_ss6mm_FA_after.nii.gz /export2/DATA/HIS/HIS_server/analysis/dwi_data/stats_alt_reg/FA/sub-166_in-MNI_FA_BEFORE-minus-AFTER.nii.gz\n",
      "fslmaths /export2/DATA/HIS/HIS_server/analysis/dwi_data/stats_alt_reg/MD/sub-167_in-MNI_ss6mm_MD_after.nii.gz -sub /export2/DATA/HIS/HIS_server/analysis/dwi_data/stats_alt_reg/MD/sub-167_in-MNI_ss6mm_MD_before.nii.gz /export2/DATA/HIS/HIS_server/analysis/dwi_data/stats_alt_reg/MD/sub-167_in-MNI_MD_AFTER-minus-BEFORE.nii.gz\n",
      "fslmaths /export2/DATA/HIS/HIS_server/analysis/dwi_data/stats_alt_reg/MD/sub-167_in-MNI_ss6mm_MD_before.nii.gz -sub /export2/DATA/HIS/HIS_server/analysis/dwi_data/stats_alt_reg/MD/sub-167_in-MNI_ss6mm_MD_after.nii.gz /export2/DATA/HIS/HIS_server/analysis/dwi_data/stats_alt_reg/MD/sub-167_in-MNI_MD_BEFORE-minus-AFTER.nii.gz\n",
      "fslmaths /export2/DATA/HIS/HIS_server/analysis/dwi_data/stats_alt_reg/FA/sub-167_in-MNI_ss6mm_FA_after.nii.gz -sub /export2/DATA/HIS/HIS_server/analysis/dwi_data/stats_alt_reg/FA/sub-167_in-MNI_ss6mm_FA_before.nii.gz /export2/DATA/HIS/HIS_server/analysis/dwi_data/stats_alt_reg/FA/sub-167_in-MNI_FA_AFTER-minus-BEFORE.nii.gz\n",
      "fslmaths /export2/DATA/HIS/HIS_server/analysis/dwi_data/stats_alt_reg/FA/sub-167_in-MNI_ss6mm_FA_before.nii.gz -sub /export2/DATA/HIS/HIS_server/analysis/dwi_data/stats_alt_reg/FA/sub-167_in-MNI_ss6mm_FA_after.nii.gz /export2/DATA/HIS/HIS_server/analysis/dwi_data/stats_alt_reg/FA/sub-167_in-MNI_FA_BEFORE-minus-AFTER.nii.gz\n",
      "fslmaths /export2/DATA/HIS/HIS_server/analysis/dwi_data/stats_alt_reg/MD/sub-168_in-MNI_ss6mm_MD_after.nii.gz -sub /export2/DATA/HIS/HIS_server/analysis/dwi_data/stats_alt_reg/MD/sub-168_in-MNI_ss6mm_MD_before.nii.gz /export2/DATA/HIS/HIS_server/analysis/dwi_data/stats_alt_reg/MD/sub-168_in-MNI_MD_AFTER-minus-BEFORE.nii.gz\n",
      "fslmaths /export2/DATA/HIS/HIS_server/analysis/dwi_data/stats_alt_reg/MD/sub-168_in-MNI_ss6mm_MD_before.nii.gz -sub /export2/DATA/HIS/HIS_server/analysis/dwi_data/stats_alt_reg/MD/sub-168_in-MNI_ss6mm_MD_after.nii.gz /export2/DATA/HIS/HIS_server/analysis/dwi_data/stats_alt_reg/MD/sub-168_in-MNI_MD_BEFORE-minus-AFTER.nii.gz\n",
      "fslmaths /export2/DATA/HIS/HIS_server/analysis/dwi_data/stats_alt_reg/FA/sub-168_in-MNI_ss6mm_FA_after.nii.gz -sub /export2/DATA/HIS/HIS_server/analysis/dwi_data/stats_alt_reg/FA/sub-168_in-MNI_ss6mm_FA_before.nii.gz /export2/DATA/HIS/HIS_server/analysis/dwi_data/stats_alt_reg/FA/sub-168_in-MNI_FA_AFTER-minus-BEFORE.nii.gz\n",
      "fslmaths /export2/DATA/HIS/HIS_server/analysis/dwi_data/stats_alt_reg/FA/sub-168_in-MNI_ss6mm_FA_before.nii.gz -sub /export2/DATA/HIS/HIS_server/analysis/dwi_data/stats_alt_reg/FA/sub-168_in-MNI_ss6mm_FA_after.nii.gz /export2/DATA/HIS/HIS_server/analysis/dwi_data/stats_alt_reg/FA/sub-168_in-MNI_FA_BEFORE-minus-AFTER.nii.gz\n",
      "fslmaths /export2/DATA/HIS/HIS_server/analysis/dwi_data/stats_alt_reg/MD/sub-169_in-MNI_ss6mm_MD_after.nii.gz -sub /export2/DATA/HIS/HIS_server/analysis/dwi_data/stats_alt_reg/MD/sub-169_in-MNI_ss6mm_MD_before.nii.gz /export2/DATA/HIS/HIS_server/analysis/dwi_data/stats_alt_reg/MD/sub-169_in-MNI_MD_AFTER-minus-BEFORE.nii.gz\n",
      "fslmaths /export2/DATA/HIS/HIS_server/analysis/dwi_data/stats_alt_reg/MD/sub-169_in-MNI_ss6mm_MD_before.nii.gz -sub /export2/DATA/HIS/HIS_server/analysis/dwi_data/stats_alt_reg/MD/sub-169_in-MNI_ss6mm_MD_after.nii.gz /export2/DATA/HIS/HIS_server/analysis/dwi_data/stats_alt_reg/MD/sub-169_in-MNI_MD_BEFORE-minus-AFTER.nii.gz\n",
      "fslmaths /export2/DATA/HIS/HIS_server/analysis/dwi_data/stats_alt_reg/FA/sub-169_in-MNI_ss6mm_FA_after.nii.gz -sub /export2/DATA/HIS/HIS_server/analysis/dwi_data/stats_alt_reg/FA/sub-169_in-MNI_ss6mm_FA_before.nii.gz /export2/DATA/HIS/HIS_server/analysis/dwi_data/stats_alt_reg/FA/sub-169_in-MNI_FA_AFTER-minus-BEFORE.nii.gz\n",
      "fslmaths /export2/DATA/HIS/HIS_server/analysis/dwi_data/stats_alt_reg/FA/sub-169_in-MNI_ss6mm_FA_before.nii.gz -sub /export2/DATA/HIS/HIS_server/analysis/dwi_data/stats_alt_reg/FA/sub-169_in-MNI_ss6mm_FA_after.nii.gz /export2/DATA/HIS/HIS_server/analysis/dwi_data/stats_alt_reg/FA/sub-169_in-MNI_FA_BEFORE-minus-AFTER.nii.gz\n",
      "fslmaths /export2/DATA/HIS/HIS_server/analysis/dwi_data/stats_alt_reg/MD/sub-170_in-MNI_ss6mm_MD_after.nii.gz -sub /export2/DATA/HIS/HIS_server/analysis/dwi_data/stats_alt_reg/MD/sub-170_in-MNI_ss6mm_MD_before.nii.gz /export2/DATA/HIS/HIS_server/analysis/dwi_data/stats_alt_reg/MD/sub-170_in-MNI_MD_AFTER-minus-BEFORE.nii.gz\n",
      "fslmaths /export2/DATA/HIS/HIS_server/analysis/dwi_data/stats_alt_reg/MD/sub-170_in-MNI_ss6mm_MD_before.nii.gz -sub /export2/DATA/HIS/HIS_server/analysis/dwi_data/stats_alt_reg/MD/sub-170_in-MNI_ss6mm_MD_after.nii.gz /export2/DATA/HIS/HIS_server/analysis/dwi_data/stats_alt_reg/MD/sub-170_in-MNI_MD_BEFORE-minus-AFTER.nii.gz\n",
      "fslmaths /export2/DATA/HIS/HIS_server/analysis/dwi_data/stats_alt_reg/FA/sub-170_in-MNI_ss6mm_FA_after.nii.gz -sub /export2/DATA/HIS/HIS_server/analysis/dwi_data/stats_alt_reg/FA/sub-170_in-MNI_ss6mm_FA_before.nii.gz /export2/DATA/HIS/HIS_server/analysis/dwi_data/stats_alt_reg/FA/sub-170_in-MNI_FA_AFTER-minus-BEFORE.nii.gz\n",
      "fslmaths /export2/DATA/HIS/HIS_server/analysis/dwi_data/stats_alt_reg/FA/sub-170_in-MNI_ss6mm_FA_before.nii.gz -sub /export2/DATA/HIS/HIS_server/analysis/dwi_data/stats_alt_reg/FA/sub-170_in-MNI_ss6mm_FA_after.nii.gz /export2/DATA/HIS/HIS_server/analysis/dwi_data/stats_alt_reg/FA/sub-170_in-MNI_FA_BEFORE-minus-AFTER.nii.gz\n",
      "fslmaths /export2/DATA/HIS/HIS_server/analysis/dwi_data/stats_alt_reg/MD/sub-171_in-MNI_ss6mm_MD_after.nii.gz -sub /export2/DATA/HIS/HIS_server/analysis/dwi_data/stats_alt_reg/MD/sub-171_in-MNI_ss6mm_MD_before.nii.gz /export2/DATA/HIS/HIS_server/analysis/dwi_data/stats_alt_reg/MD/sub-171_in-MNI_MD_AFTER-minus-BEFORE.nii.gz\n",
      "fslmaths /export2/DATA/HIS/HIS_server/analysis/dwi_data/stats_alt_reg/MD/sub-171_in-MNI_ss6mm_MD_before.nii.gz -sub /export2/DATA/HIS/HIS_server/analysis/dwi_data/stats_alt_reg/MD/sub-171_in-MNI_ss6mm_MD_after.nii.gz /export2/DATA/HIS/HIS_server/analysis/dwi_data/stats_alt_reg/MD/sub-171_in-MNI_MD_BEFORE-minus-AFTER.nii.gz\n",
      "fslmaths /export2/DATA/HIS/HIS_server/analysis/dwi_data/stats_alt_reg/FA/sub-171_in-MNI_ss6mm_FA_after.nii.gz -sub /export2/DATA/HIS/HIS_server/analysis/dwi_data/stats_alt_reg/FA/sub-171_in-MNI_ss6mm_FA_before.nii.gz /export2/DATA/HIS/HIS_server/analysis/dwi_data/stats_alt_reg/FA/sub-171_in-MNI_FA_AFTER-minus-BEFORE.nii.gz\n",
      "fslmaths /export2/DATA/HIS/HIS_server/analysis/dwi_data/stats_alt_reg/FA/sub-171_in-MNI_ss6mm_FA_before.nii.gz -sub /export2/DATA/HIS/HIS_server/analysis/dwi_data/stats_alt_reg/FA/sub-171_in-MNI_ss6mm_FA_after.nii.gz /export2/DATA/HIS/HIS_server/analysis/dwi_data/stats_alt_reg/FA/sub-171_in-MNI_FA_BEFORE-minus-AFTER.nii.gz\n",
      "fslmaths /export2/DATA/HIS/HIS_server/analysis/dwi_data/stats_alt_reg/MD/sub-172_in-MNI_ss6mm_MD_after.nii.gz -sub /export2/DATA/HIS/HIS_server/analysis/dwi_data/stats_alt_reg/MD/sub-172_in-MNI_ss6mm_MD_before.nii.gz /export2/DATA/HIS/HIS_server/analysis/dwi_data/stats_alt_reg/MD/sub-172_in-MNI_MD_AFTER-minus-BEFORE.nii.gz\n",
      "fslmaths /export2/DATA/HIS/HIS_server/analysis/dwi_data/stats_alt_reg/MD/sub-172_in-MNI_ss6mm_MD_before.nii.gz -sub /export2/DATA/HIS/HIS_server/analysis/dwi_data/stats_alt_reg/MD/sub-172_in-MNI_ss6mm_MD_after.nii.gz /export2/DATA/HIS/HIS_server/analysis/dwi_data/stats_alt_reg/MD/sub-172_in-MNI_MD_BEFORE-minus-AFTER.nii.gz\n",
      "fslmaths /export2/DATA/HIS/HIS_server/analysis/dwi_data/stats_alt_reg/FA/sub-172_in-MNI_ss6mm_FA_after.nii.gz -sub /export2/DATA/HIS/HIS_server/analysis/dwi_data/stats_alt_reg/FA/sub-172_in-MNI_ss6mm_FA_before.nii.gz /export2/DATA/HIS/HIS_server/analysis/dwi_data/stats_alt_reg/FA/sub-172_in-MNI_FA_AFTER-minus-BEFORE.nii.gz\n",
      "fslmaths /export2/DATA/HIS/HIS_server/analysis/dwi_data/stats_alt_reg/FA/sub-172_in-MNI_ss6mm_FA_before.nii.gz -sub /export2/DATA/HIS/HIS_server/analysis/dwi_data/stats_alt_reg/FA/sub-172_in-MNI_ss6mm_FA_after.nii.gz /export2/DATA/HIS/HIS_server/analysis/dwi_data/stats_alt_reg/FA/sub-172_in-MNI_FA_BEFORE-minus-AFTER.nii.gz\n",
      "fslmaths /export2/DATA/HIS/HIS_server/analysis/dwi_data/stats_alt_reg/MD/sub-174_in-MNI_ss6mm_MD_after.nii.gz -sub /export2/DATA/HIS/HIS_server/analysis/dwi_data/stats_alt_reg/MD/sub-174_in-MNI_ss6mm_MD_before.nii.gz /export2/DATA/HIS/HIS_server/analysis/dwi_data/stats_alt_reg/MD/sub-174_in-MNI_MD_AFTER-minus-BEFORE.nii.gz\n",
      "fslmaths /export2/DATA/HIS/HIS_server/analysis/dwi_data/stats_alt_reg/MD/sub-174_in-MNI_ss6mm_MD_before.nii.gz -sub /export2/DATA/HIS/HIS_server/analysis/dwi_data/stats_alt_reg/MD/sub-174_in-MNI_ss6mm_MD_after.nii.gz /export2/DATA/HIS/HIS_server/analysis/dwi_data/stats_alt_reg/MD/sub-174_in-MNI_MD_BEFORE-minus-AFTER.nii.gz\n",
      "fslmaths /export2/DATA/HIS/HIS_server/analysis/dwi_data/stats_alt_reg/FA/sub-174_in-MNI_ss6mm_FA_after.nii.gz -sub /export2/DATA/HIS/HIS_server/analysis/dwi_data/stats_alt_reg/FA/sub-174_in-MNI_ss6mm_FA_before.nii.gz /export2/DATA/HIS/HIS_server/analysis/dwi_data/stats_alt_reg/FA/sub-174_in-MNI_FA_AFTER-minus-BEFORE.nii.gz\n",
      "fslmaths /export2/DATA/HIS/HIS_server/analysis/dwi_data/stats_alt_reg/FA/sub-174_in-MNI_ss6mm_FA_before.nii.gz -sub /export2/DATA/HIS/HIS_server/analysis/dwi_data/stats_alt_reg/FA/sub-174_in-MNI_ss6mm_FA_after.nii.gz /export2/DATA/HIS/HIS_server/analysis/dwi_data/stats_alt_reg/FA/sub-174_in-MNI_FA_BEFORE-minus-AFTER.nii.gz\n",
      "fslmaths /export2/DATA/HIS/HIS_server/analysis/dwi_data/stats_alt_reg/MD/sub-175_in-MNI_ss6mm_MD_after.nii.gz -sub /export2/DATA/HIS/HIS_server/analysis/dwi_data/stats_alt_reg/MD/sub-175_in-MNI_ss6mm_MD_before.nii.gz /export2/DATA/HIS/HIS_server/analysis/dwi_data/stats_alt_reg/MD/sub-175_in-MNI_MD_AFTER-minus-BEFORE.nii.gz\n",
      "fslmaths /export2/DATA/HIS/HIS_server/analysis/dwi_data/stats_alt_reg/MD/sub-175_in-MNI_ss6mm_MD_before.nii.gz -sub /export2/DATA/HIS/HIS_server/analysis/dwi_data/stats_alt_reg/MD/sub-175_in-MNI_ss6mm_MD_after.nii.gz /export2/DATA/HIS/HIS_server/analysis/dwi_data/stats_alt_reg/MD/sub-175_in-MNI_MD_BEFORE-minus-AFTER.nii.gz\n",
      "fslmaths /export2/DATA/HIS/HIS_server/analysis/dwi_data/stats_alt_reg/FA/sub-175_in-MNI_ss6mm_FA_after.nii.gz -sub /export2/DATA/HIS/HIS_server/analysis/dwi_data/stats_alt_reg/FA/sub-175_in-MNI_ss6mm_FA_before.nii.gz /export2/DATA/HIS/HIS_server/analysis/dwi_data/stats_alt_reg/FA/sub-175_in-MNI_FA_AFTER-minus-BEFORE.nii.gz\n",
      "fslmaths /export2/DATA/HIS/HIS_server/analysis/dwi_data/stats_alt_reg/FA/sub-175_in-MNI_ss6mm_FA_before.nii.gz -sub /export2/DATA/HIS/HIS_server/analysis/dwi_data/stats_alt_reg/FA/sub-175_in-MNI_ss6mm_FA_after.nii.gz /export2/DATA/HIS/HIS_server/analysis/dwi_data/stats_alt_reg/FA/sub-175_in-MNI_FA_BEFORE-minus-AFTER.nii.gz\n",
      "fslmaths /export2/DATA/HIS/HIS_server/analysis/dwi_data/stats_alt_reg/MD/sub-204_in-MNI_ss6mm_MD_after.nii.gz -sub /export2/DATA/HIS/HIS_server/analysis/dwi_data/stats_alt_reg/MD/sub-204_in-MNI_ss6mm_MD_before.nii.gz /export2/DATA/HIS/HIS_server/analysis/dwi_data/stats_alt_reg/MD/sub-204_in-MNI_MD_AFTER-minus-BEFORE.nii.gz\n",
      "fslmaths /export2/DATA/HIS/HIS_server/analysis/dwi_data/stats_alt_reg/MD/sub-204_in-MNI_ss6mm_MD_before.nii.gz -sub /export2/DATA/HIS/HIS_server/analysis/dwi_data/stats_alt_reg/MD/sub-204_in-MNI_ss6mm_MD_after.nii.gz /export2/DATA/HIS/HIS_server/analysis/dwi_data/stats_alt_reg/MD/sub-204_in-MNI_MD_BEFORE-minus-AFTER.nii.gz\n",
      "fslmaths /export2/DATA/HIS/HIS_server/analysis/dwi_data/stats_alt_reg/FA/sub-204_in-MNI_ss6mm_FA_after.nii.gz -sub /export2/DATA/HIS/HIS_server/analysis/dwi_data/stats_alt_reg/FA/sub-204_in-MNI_ss6mm_FA_before.nii.gz /export2/DATA/HIS/HIS_server/analysis/dwi_data/stats_alt_reg/FA/sub-204_in-MNI_FA_AFTER-minus-BEFORE.nii.gz\n",
      "fslmaths /export2/DATA/HIS/HIS_server/analysis/dwi_data/stats_alt_reg/FA/sub-204_in-MNI_ss6mm_FA_before.nii.gz -sub /export2/DATA/HIS/HIS_server/analysis/dwi_data/stats_alt_reg/FA/sub-204_in-MNI_ss6mm_FA_after.nii.gz /export2/DATA/HIS/HIS_server/analysis/dwi_data/stats_alt_reg/FA/sub-204_in-MNI_FA_BEFORE-minus-AFTER.nii.gz\n",
      "fslmaths /export2/DATA/HIS/HIS_server/analysis/dwi_data/stats_alt_reg/MD/sub-205_in-MNI_ss6mm_MD_after.nii.gz -sub /export2/DATA/HIS/HIS_server/analysis/dwi_data/stats_alt_reg/MD/sub-205_in-MNI_ss6mm_MD_before.nii.gz /export2/DATA/HIS/HIS_server/analysis/dwi_data/stats_alt_reg/MD/sub-205_in-MNI_MD_AFTER-minus-BEFORE.nii.gz\n",
      "fslmaths /export2/DATA/HIS/HIS_server/analysis/dwi_data/stats_alt_reg/MD/sub-205_in-MNI_ss6mm_MD_before.nii.gz -sub /export2/DATA/HIS/HIS_server/analysis/dwi_data/stats_alt_reg/MD/sub-205_in-MNI_ss6mm_MD_after.nii.gz /export2/DATA/HIS/HIS_server/analysis/dwi_data/stats_alt_reg/MD/sub-205_in-MNI_MD_BEFORE-minus-AFTER.nii.gz\n",
      "fslmaths /export2/DATA/HIS/HIS_server/analysis/dwi_data/stats_alt_reg/FA/sub-205_in-MNI_ss6mm_FA_after.nii.gz -sub /export2/DATA/HIS/HIS_server/analysis/dwi_data/stats_alt_reg/FA/sub-205_in-MNI_ss6mm_FA_before.nii.gz /export2/DATA/HIS/HIS_server/analysis/dwi_data/stats_alt_reg/FA/sub-205_in-MNI_FA_AFTER-minus-BEFORE.nii.gz\n",
      "fslmaths /export2/DATA/HIS/HIS_server/analysis/dwi_data/stats_alt_reg/FA/sub-205_in-MNI_ss6mm_FA_before.nii.gz -sub /export2/DATA/HIS/HIS_server/analysis/dwi_data/stats_alt_reg/FA/sub-205_in-MNI_ss6mm_FA_after.nii.gz /export2/DATA/HIS/HIS_server/analysis/dwi_data/stats_alt_reg/FA/sub-205_in-MNI_FA_BEFORE-minus-AFTER.nii.gz\n",
      "fslmaths /export2/DATA/HIS/HIS_server/analysis/dwi_data/stats_alt_reg/MD/sub-207_in-MNI_ss6mm_MD_after.nii.gz -sub /export2/DATA/HIS/HIS_server/analysis/dwi_data/stats_alt_reg/MD/sub-207_in-MNI_ss6mm_MD_before.nii.gz /export2/DATA/HIS/HIS_server/analysis/dwi_data/stats_alt_reg/MD/sub-207_in-MNI_MD_AFTER-minus-BEFORE.nii.gz\n",
      "fslmaths /export2/DATA/HIS/HIS_server/analysis/dwi_data/stats_alt_reg/MD/sub-207_in-MNI_ss6mm_MD_before.nii.gz -sub /export2/DATA/HIS/HIS_server/analysis/dwi_data/stats_alt_reg/MD/sub-207_in-MNI_ss6mm_MD_after.nii.gz /export2/DATA/HIS/HIS_server/analysis/dwi_data/stats_alt_reg/MD/sub-207_in-MNI_MD_BEFORE-minus-AFTER.nii.gz\n",
      "fslmaths /export2/DATA/HIS/HIS_server/analysis/dwi_data/stats_alt_reg/FA/sub-207_in-MNI_ss6mm_FA_after.nii.gz -sub /export2/DATA/HIS/HIS_server/analysis/dwi_data/stats_alt_reg/FA/sub-207_in-MNI_ss6mm_FA_before.nii.gz /export2/DATA/HIS/HIS_server/analysis/dwi_data/stats_alt_reg/FA/sub-207_in-MNI_FA_AFTER-minus-BEFORE.nii.gz\n",
      "fslmaths /export2/DATA/HIS/HIS_server/analysis/dwi_data/stats_alt_reg/FA/sub-207_in-MNI_ss6mm_FA_before.nii.gz -sub /export2/DATA/HIS/HIS_server/analysis/dwi_data/stats_alt_reg/FA/sub-207_in-MNI_ss6mm_FA_after.nii.gz /export2/DATA/HIS/HIS_server/analysis/dwi_data/stats_alt_reg/FA/sub-207_in-MNI_FA_BEFORE-minus-AFTER.nii.gz\n",
      "fslmaths /export2/DATA/HIS/HIS_server/analysis/dwi_data/stats_alt_reg/MD/sub-208_in-MNI_ss6mm_MD_after.nii.gz -sub /export2/DATA/HIS/HIS_server/analysis/dwi_data/stats_alt_reg/MD/sub-208_in-MNI_ss6mm_MD_before.nii.gz /export2/DATA/HIS/HIS_server/analysis/dwi_data/stats_alt_reg/MD/sub-208_in-MNI_MD_AFTER-minus-BEFORE.nii.gz\n",
      "fslmaths /export2/DATA/HIS/HIS_server/analysis/dwi_data/stats_alt_reg/MD/sub-208_in-MNI_ss6mm_MD_before.nii.gz -sub /export2/DATA/HIS/HIS_server/analysis/dwi_data/stats_alt_reg/MD/sub-208_in-MNI_ss6mm_MD_after.nii.gz /export2/DATA/HIS/HIS_server/analysis/dwi_data/stats_alt_reg/MD/sub-208_in-MNI_MD_BEFORE-minus-AFTER.nii.gz\n",
      "fslmaths /export2/DATA/HIS/HIS_server/analysis/dwi_data/stats_alt_reg/FA/sub-208_in-MNI_ss6mm_FA_after.nii.gz -sub /export2/DATA/HIS/HIS_server/analysis/dwi_data/stats_alt_reg/FA/sub-208_in-MNI_ss6mm_FA_before.nii.gz /export2/DATA/HIS/HIS_server/analysis/dwi_data/stats_alt_reg/FA/sub-208_in-MNI_FA_AFTER-minus-BEFORE.nii.gz\n",
      "fslmaths /export2/DATA/HIS/HIS_server/analysis/dwi_data/stats_alt_reg/FA/sub-208_in-MNI_ss6mm_FA_before.nii.gz -sub /export2/DATA/HIS/HIS_server/analysis/dwi_data/stats_alt_reg/FA/sub-208_in-MNI_ss6mm_FA_after.nii.gz /export2/DATA/HIS/HIS_server/analysis/dwi_data/stats_alt_reg/FA/sub-208_in-MNI_FA_BEFORE-minus-AFTER.nii.gz\n",
      "fslmaths /export2/DATA/HIS/HIS_server/analysis/dwi_data/stats_alt_reg/MD/sub-209_in-MNI_ss6mm_MD_after.nii.gz -sub /export2/DATA/HIS/HIS_server/analysis/dwi_data/stats_alt_reg/MD/sub-209_in-MNI_ss6mm_MD_before.nii.gz /export2/DATA/HIS/HIS_server/analysis/dwi_data/stats_alt_reg/MD/sub-209_in-MNI_MD_AFTER-minus-BEFORE.nii.gz\n",
      "fslmaths /export2/DATA/HIS/HIS_server/analysis/dwi_data/stats_alt_reg/MD/sub-209_in-MNI_ss6mm_MD_before.nii.gz -sub /export2/DATA/HIS/HIS_server/analysis/dwi_data/stats_alt_reg/MD/sub-209_in-MNI_ss6mm_MD_after.nii.gz /export2/DATA/HIS/HIS_server/analysis/dwi_data/stats_alt_reg/MD/sub-209_in-MNI_MD_BEFORE-minus-AFTER.nii.gz\n",
      "fslmaths /export2/DATA/HIS/HIS_server/analysis/dwi_data/stats_alt_reg/FA/sub-209_in-MNI_ss6mm_FA_after.nii.gz -sub /export2/DATA/HIS/HIS_server/analysis/dwi_data/stats_alt_reg/FA/sub-209_in-MNI_ss6mm_FA_before.nii.gz /export2/DATA/HIS/HIS_server/analysis/dwi_data/stats_alt_reg/FA/sub-209_in-MNI_FA_AFTER-minus-BEFORE.nii.gz\n",
      "fslmaths /export2/DATA/HIS/HIS_server/analysis/dwi_data/stats_alt_reg/FA/sub-209_in-MNI_ss6mm_FA_before.nii.gz -sub /export2/DATA/HIS/HIS_server/analysis/dwi_data/stats_alt_reg/FA/sub-209_in-MNI_ss6mm_FA_after.nii.gz /export2/DATA/HIS/HIS_server/analysis/dwi_data/stats_alt_reg/FA/sub-209_in-MNI_FA_BEFORE-minus-AFTER.nii.gz\n",
      "fslmaths /export2/DATA/HIS/HIS_server/analysis/dwi_data/stats_alt_reg/MD/sub-210_in-MNI_ss6mm_MD_after.nii.gz -sub /export2/DATA/HIS/HIS_server/analysis/dwi_data/stats_alt_reg/MD/sub-210_in-MNI_ss6mm_MD_before.nii.gz /export2/DATA/HIS/HIS_server/analysis/dwi_data/stats_alt_reg/MD/sub-210_in-MNI_MD_AFTER-minus-BEFORE.nii.gz\n",
      "fslmaths /export2/DATA/HIS/HIS_server/analysis/dwi_data/stats_alt_reg/MD/sub-210_in-MNI_ss6mm_MD_before.nii.gz -sub /export2/DATA/HIS/HIS_server/analysis/dwi_data/stats_alt_reg/MD/sub-210_in-MNI_ss6mm_MD_after.nii.gz /export2/DATA/HIS/HIS_server/analysis/dwi_data/stats_alt_reg/MD/sub-210_in-MNI_MD_BEFORE-minus-AFTER.nii.gz\n",
      "fslmaths /export2/DATA/HIS/HIS_server/analysis/dwi_data/stats_alt_reg/FA/sub-210_in-MNI_ss6mm_FA_after.nii.gz -sub /export2/DATA/HIS/HIS_server/analysis/dwi_data/stats_alt_reg/FA/sub-210_in-MNI_ss6mm_FA_before.nii.gz /export2/DATA/HIS/HIS_server/analysis/dwi_data/stats_alt_reg/FA/sub-210_in-MNI_FA_AFTER-minus-BEFORE.nii.gz\n",
      "fslmaths /export2/DATA/HIS/HIS_server/analysis/dwi_data/stats_alt_reg/FA/sub-210_in-MNI_ss6mm_FA_before.nii.gz -sub /export2/DATA/HIS/HIS_server/analysis/dwi_data/stats_alt_reg/FA/sub-210_in-MNI_ss6mm_FA_after.nii.gz /export2/DATA/HIS/HIS_server/analysis/dwi_data/stats_alt_reg/FA/sub-210_in-MNI_FA_BEFORE-minus-AFTER.nii.gz\n",
      "fslmaths /export2/DATA/HIS/HIS_server/analysis/dwi_data/stats_alt_reg/MD/sub-212_in-MNI_ss6mm_MD_after.nii.gz -sub /export2/DATA/HIS/HIS_server/analysis/dwi_data/stats_alt_reg/MD/sub-212_in-MNI_ss6mm_MD_before.nii.gz /export2/DATA/HIS/HIS_server/analysis/dwi_data/stats_alt_reg/MD/sub-212_in-MNI_MD_AFTER-minus-BEFORE.nii.gz\n",
      "fslmaths /export2/DATA/HIS/HIS_server/analysis/dwi_data/stats_alt_reg/MD/sub-212_in-MNI_ss6mm_MD_before.nii.gz -sub /export2/DATA/HIS/HIS_server/analysis/dwi_data/stats_alt_reg/MD/sub-212_in-MNI_ss6mm_MD_after.nii.gz /export2/DATA/HIS/HIS_server/analysis/dwi_data/stats_alt_reg/MD/sub-212_in-MNI_MD_BEFORE-minus-AFTER.nii.gz\n",
      "fslmaths /export2/DATA/HIS/HIS_server/analysis/dwi_data/stats_alt_reg/FA/sub-212_in-MNI_ss6mm_FA_after.nii.gz -sub /export2/DATA/HIS/HIS_server/analysis/dwi_data/stats_alt_reg/FA/sub-212_in-MNI_ss6mm_FA_before.nii.gz /export2/DATA/HIS/HIS_server/analysis/dwi_data/stats_alt_reg/FA/sub-212_in-MNI_FA_AFTER-minus-BEFORE.nii.gz\n",
      "fslmaths /export2/DATA/HIS/HIS_server/analysis/dwi_data/stats_alt_reg/FA/sub-212_in-MNI_ss6mm_FA_before.nii.gz -sub /export2/DATA/HIS/HIS_server/analysis/dwi_data/stats_alt_reg/FA/sub-212_in-MNI_ss6mm_FA_after.nii.gz /export2/DATA/HIS/HIS_server/analysis/dwi_data/stats_alt_reg/FA/sub-212_in-MNI_FA_BEFORE-minus-AFTER.nii.gz\n",
      "fslmaths /export2/DATA/HIS/HIS_server/analysis/dwi_data/stats_alt_reg/MD/sub-214_in-MNI_ss6mm_MD_after.nii.gz -sub /export2/DATA/HIS/HIS_server/analysis/dwi_data/stats_alt_reg/MD/sub-214_in-MNI_ss6mm_MD_before.nii.gz /export2/DATA/HIS/HIS_server/analysis/dwi_data/stats_alt_reg/MD/sub-214_in-MNI_MD_AFTER-minus-BEFORE.nii.gz\n",
      "fslmaths /export2/DATA/HIS/HIS_server/analysis/dwi_data/stats_alt_reg/MD/sub-214_in-MNI_ss6mm_MD_before.nii.gz -sub /export2/DATA/HIS/HIS_server/analysis/dwi_data/stats_alt_reg/MD/sub-214_in-MNI_ss6mm_MD_after.nii.gz /export2/DATA/HIS/HIS_server/analysis/dwi_data/stats_alt_reg/MD/sub-214_in-MNI_MD_BEFORE-minus-AFTER.nii.gz\n",
      "fslmaths /export2/DATA/HIS/HIS_server/analysis/dwi_data/stats_alt_reg/FA/sub-214_in-MNI_ss6mm_FA_after.nii.gz -sub /export2/DATA/HIS/HIS_server/analysis/dwi_data/stats_alt_reg/FA/sub-214_in-MNI_ss6mm_FA_before.nii.gz /export2/DATA/HIS/HIS_server/analysis/dwi_data/stats_alt_reg/FA/sub-214_in-MNI_FA_AFTER-minus-BEFORE.nii.gz\n",
      "fslmaths /export2/DATA/HIS/HIS_server/analysis/dwi_data/stats_alt_reg/FA/sub-214_in-MNI_ss6mm_FA_before.nii.gz -sub /export2/DATA/HIS/HIS_server/analysis/dwi_data/stats_alt_reg/FA/sub-214_in-MNI_ss6mm_FA_after.nii.gz /export2/DATA/HIS/HIS_server/analysis/dwi_data/stats_alt_reg/FA/sub-214_in-MNI_FA_BEFORE-minus-AFTER.nii.gz\n",
      "fslmaths /export2/DATA/HIS/HIS_server/analysis/dwi_data/stats_alt_reg/MD/sub-215_in-MNI_ss6mm_MD_after.nii.gz -sub /export2/DATA/HIS/HIS_server/analysis/dwi_data/stats_alt_reg/MD/sub-215_in-MNI_ss6mm_MD_before.nii.gz /export2/DATA/HIS/HIS_server/analysis/dwi_data/stats_alt_reg/MD/sub-215_in-MNI_MD_AFTER-minus-BEFORE.nii.gz\n",
      "fslmaths /export2/DATA/HIS/HIS_server/analysis/dwi_data/stats_alt_reg/MD/sub-215_in-MNI_ss6mm_MD_before.nii.gz -sub /export2/DATA/HIS/HIS_server/analysis/dwi_data/stats_alt_reg/MD/sub-215_in-MNI_ss6mm_MD_after.nii.gz /export2/DATA/HIS/HIS_server/analysis/dwi_data/stats_alt_reg/MD/sub-215_in-MNI_MD_BEFORE-minus-AFTER.nii.gz\n",
      "fslmaths /export2/DATA/HIS/HIS_server/analysis/dwi_data/stats_alt_reg/FA/sub-215_in-MNI_ss6mm_FA_after.nii.gz -sub /export2/DATA/HIS/HIS_server/analysis/dwi_data/stats_alt_reg/FA/sub-215_in-MNI_ss6mm_FA_before.nii.gz /export2/DATA/HIS/HIS_server/analysis/dwi_data/stats_alt_reg/FA/sub-215_in-MNI_FA_AFTER-minus-BEFORE.nii.gz\n",
      "fslmaths /export2/DATA/HIS/HIS_server/analysis/dwi_data/stats_alt_reg/FA/sub-215_in-MNI_ss6mm_FA_before.nii.gz -sub /export2/DATA/HIS/HIS_server/analysis/dwi_data/stats_alt_reg/FA/sub-215_in-MNI_ss6mm_FA_after.nii.gz /export2/DATA/HIS/HIS_server/analysis/dwi_data/stats_alt_reg/FA/sub-215_in-MNI_FA_BEFORE-minus-AFTER.nii.gz\n",
      "fslmaths /export2/DATA/HIS/HIS_server/analysis/dwi_data/stats_alt_reg/MD/sub-217_in-MNI_ss6mm_MD_after.nii.gz -sub /export2/DATA/HIS/HIS_server/analysis/dwi_data/stats_alt_reg/MD/sub-217_in-MNI_ss6mm_MD_before.nii.gz /export2/DATA/HIS/HIS_server/analysis/dwi_data/stats_alt_reg/MD/sub-217_in-MNI_MD_AFTER-minus-BEFORE.nii.gz\n",
      "fslmaths /export2/DATA/HIS/HIS_server/analysis/dwi_data/stats_alt_reg/MD/sub-217_in-MNI_ss6mm_MD_before.nii.gz -sub /export2/DATA/HIS/HIS_server/analysis/dwi_data/stats_alt_reg/MD/sub-217_in-MNI_ss6mm_MD_after.nii.gz /export2/DATA/HIS/HIS_server/analysis/dwi_data/stats_alt_reg/MD/sub-217_in-MNI_MD_BEFORE-minus-AFTER.nii.gz\n",
      "fslmaths /export2/DATA/HIS/HIS_server/analysis/dwi_data/stats_alt_reg/FA/sub-217_in-MNI_ss6mm_FA_after.nii.gz -sub /export2/DATA/HIS/HIS_server/analysis/dwi_data/stats_alt_reg/FA/sub-217_in-MNI_ss6mm_FA_before.nii.gz /export2/DATA/HIS/HIS_server/analysis/dwi_data/stats_alt_reg/FA/sub-217_in-MNI_FA_AFTER-minus-BEFORE.nii.gz\n",
      "fslmaths /export2/DATA/HIS/HIS_server/analysis/dwi_data/stats_alt_reg/FA/sub-217_in-MNI_ss6mm_FA_before.nii.gz -sub /export2/DATA/HIS/HIS_server/analysis/dwi_data/stats_alt_reg/FA/sub-217_in-MNI_ss6mm_FA_after.nii.gz /export2/DATA/HIS/HIS_server/analysis/dwi_data/stats_alt_reg/FA/sub-217_in-MNI_FA_BEFORE-minus-AFTER.nii.gz\n",
      "fslmaths /export2/DATA/HIS/HIS_server/analysis/dwi_data/stats_alt_reg/MD/sub-218_in-MNI_ss6mm_MD_after.nii.gz -sub /export2/DATA/HIS/HIS_server/analysis/dwi_data/stats_alt_reg/MD/sub-218_in-MNI_ss6mm_MD_before.nii.gz /export2/DATA/HIS/HIS_server/analysis/dwi_data/stats_alt_reg/MD/sub-218_in-MNI_MD_AFTER-minus-BEFORE.nii.gz\n",
      "fslmaths /export2/DATA/HIS/HIS_server/analysis/dwi_data/stats_alt_reg/MD/sub-218_in-MNI_ss6mm_MD_before.nii.gz -sub /export2/DATA/HIS/HIS_server/analysis/dwi_data/stats_alt_reg/MD/sub-218_in-MNI_ss6mm_MD_after.nii.gz /export2/DATA/HIS/HIS_server/analysis/dwi_data/stats_alt_reg/MD/sub-218_in-MNI_MD_BEFORE-minus-AFTER.nii.gz\n",
      "fslmaths /export2/DATA/HIS/HIS_server/analysis/dwi_data/stats_alt_reg/FA/sub-218_in-MNI_ss6mm_FA_after.nii.gz -sub /export2/DATA/HIS/HIS_server/analysis/dwi_data/stats_alt_reg/FA/sub-218_in-MNI_ss6mm_FA_before.nii.gz /export2/DATA/HIS/HIS_server/analysis/dwi_data/stats_alt_reg/FA/sub-218_in-MNI_FA_AFTER-minus-BEFORE.nii.gz\n",
      "fslmaths /export2/DATA/HIS/HIS_server/analysis/dwi_data/stats_alt_reg/FA/sub-218_in-MNI_ss6mm_FA_before.nii.gz -sub /export2/DATA/HIS/HIS_server/analysis/dwi_data/stats_alt_reg/FA/sub-218_in-MNI_ss6mm_FA_after.nii.gz /export2/DATA/HIS/HIS_server/analysis/dwi_data/stats_alt_reg/FA/sub-218_in-MNI_FA_BEFORE-minus-AFTER.nii.gz\n",
      "fslmaths /export2/DATA/HIS/HIS_server/analysis/dwi_data/stats_alt_reg/MD/sub-220_in-MNI_ss6mm_MD_after.nii.gz -sub /export2/DATA/HIS/HIS_server/analysis/dwi_data/stats_alt_reg/MD/sub-220_in-MNI_ss6mm_MD_before.nii.gz /export2/DATA/HIS/HIS_server/analysis/dwi_data/stats_alt_reg/MD/sub-220_in-MNI_MD_AFTER-minus-BEFORE.nii.gz\n",
      "fslmaths /export2/DATA/HIS/HIS_server/analysis/dwi_data/stats_alt_reg/MD/sub-220_in-MNI_ss6mm_MD_before.nii.gz -sub /export2/DATA/HIS/HIS_server/analysis/dwi_data/stats_alt_reg/MD/sub-220_in-MNI_ss6mm_MD_after.nii.gz /export2/DATA/HIS/HIS_server/analysis/dwi_data/stats_alt_reg/MD/sub-220_in-MNI_MD_BEFORE-minus-AFTER.nii.gz\n",
      "fslmaths /export2/DATA/HIS/HIS_server/analysis/dwi_data/stats_alt_reg/FA/sub-220_in-MNI_ss6mm_FA_after.nii.gz -sub /export2/DATA/HIS/HIS_server/analysis/dwi_data/stats_alt_reg/FA/sub-220_in-MNI_ss6mm_FA_before.nii.gz /export2/DATA/HIS/HIS_server/analysis/dwi_data/stats_alt_reg/FA/sub-220_in-MNI_FA_AFTER-minus-BEFORE.nii.gz\n",
      "fslmaths /export2/DATA/HIS/HIS_server/analysis/dwi_data/stats_alt_reg/FA/sub-220_in-MNI_ss6mm_FA_before.nii.gz -sub /export2/DATA/HIS/HIS_server/analysis/dwi_data/stats_alt_reg/FA/sub-220_in-MNI_ss6mm_FA_after.nii.gz /export2/DATA/HIS/HIS_server/analysis/dwi_data/stats_alt_reg/FA/sub-220_in-MNI_FA_BEFORE-minus-AFTER.nii.gz\n",
      "fslmaths /export2/DATA/HIS/HIS_server/analysis/dwi_data/stats_alt_reg/MD/sub-221_in-MNI_ss6mm_MD_after.nii.gz -sub /export2/DATA/HIS/HIS_server/analysis/dwi_data/stats_alt_reg/MD/sub-221_in-MNI_ss6mm_MD_before.nii.gz /export2/DATA/HIS/HIS_server/analysis/dwi_data/stats_alt_reg/MD/sub-221_in-MNI_MD_AFTER-minus-BEFORE.nii.gz\n",
      "fslmaths /export2/DATA/HIS/HIS_server/analysis/dwi_data/stats_alt_reg/MD/sub-221_in-MNI_ss6mm_MD_before.nii.gz -sub /export2/DATA/HIS/HIS_server/analysis/dwi_data/stats_alt_reg/MD/sub-221_in-MNI_ss6mm_MD_after.nii.gz /export2/DATA/HIS/HIS_server/analysis/dwi_data/stats_alt_reg/MD/sub-221_in-MNI_MD_BEFORE-minus-AFTER.nii.gz\n",
      "fslmaths /export2/DATA/HIS/HIS_server/analysis/dwi_data/stats_alt_reg/FA/sub-221_in-MNI_ss6mm_FA_after.nii.gz -sub /export2/DATA/HIS/HIS_server/analysis/dwi_data/stats_alt_reg/FA/sub-221_in-MNI_ss6mm_FA_before.nii.gz /export2/DATA/HIS/HIS_server/analysis/dwi_data/stats_alt_reg/FA/sub-221_in-MNI_FA_AFTER-minus-BEFORE.nii.gz\n",
      "fslmaths /export2/DATA/HIS/HIS_server/analysis/dwi_data/stats_alt_reg/FA/sub-221_in-MNI_ss6mm_FA_before.nii.gz -sub /export2/DATA/HIS/HIS_server/analysis/dwi_data/stats_alt_reg/FA/sub-221_in-MNI_ss6mm_FA_after.nii.gz /export2/DATA/HIS/HIS_server/analysis/dwi_data/stats_alt_reg/FA/sub-221_in-MNI_FA_BEFORE-minus-AFTER.nii.gz\n",
      "fslmaths /export2/DATA/HIS/HIS_server/analysis/dwi_data/stats_alt_reg/MD/sub-223_in-MNI_ss6mm_MD_after.nii.gz -sub /export2/DATA/HIS/HIS_server/analysis/dwi_data/stats_alt_reg/MD/sub-223_in-MNI_ss6mm_MD_before.nii.gz /export2/DATA/HIS/HIS_server/analysis/dwi_data/stats_alt_reg/MD/sub-223_in-MNI_MD_AFTER-minus-BEFORE.nii.gz\n",
      "fslmaths /export2/DATA/HIS/HIS_server/analysis/dwi_data/stats_alt_reg/MD/sub-223_in-MNI_ss6mm_MD_before.nii.gz -sub /export2/DATA/HIS/HIS_server/analysis/dwi_data/stats_alt_reg/MD/sub-223_in-MNI_ss6mm_MD_after.nii.gz /export2/DATA/HIS/HIS_server/analysis/dwi_data/stats_alt_reg/MD/sub-223_in-MNI_MD_BEFORE-minus-AFTER.nii.gz\n",
      "fslmaths /export2/DATA/HIS/HIS_server/analysis/dwi_data/stats_alt_reg/FA/sub-223_in-MNI_ss6mm_FA_after.nii.gz -sub /export2/DATA/HIS/HIS_server/analysis/dwi_data/stats_alt_reg/FA/sub-223_in-MNI_ss6mm_FA_before.nii.gz /export2/DATA/HIS/HIS_server/analysis/dwi_data/stats_alt_reg/FA/sub-223_in-MNI_FA_AFTER-minus-BEFORE.nii.gz\n",
      "fslmaths /export2/DATA/HIS/HIS_server/analysis/dwi_data/stats_alt_reg/FA/sub-223_in-MNI_ss6mm_FA_before.nii.gz -sub /export2/DATA/HIS/HIS_server/analysis/dwi_data/stats_alt_reg/FA/sub-223_in-MNI_ss6mm_FA_after.nii.gz /export2/DATA/HIS/HIS_server/analysis/dwi_data/stats_alt_reg/FA/sub-223_in-MNI_FA_BEFORE-minus-AFTER.nii.gz\n",
      "fslmaths /export2/DATA/HIS/HIS_server/analysis/dwi_data/stats_alt_reg/MD/sub-224_in-MNI_ss6mm_MD_after.nii.gz -sub /export2/DATA/HIS/HIS_server/analysis/dwi_data/stats_alt_reg/MD/sub-224_in-MNI_ss6mm_MD_before.nii.gz /export2/DATA/HIS/HIS_server/analysis/dwi_data/stats_alt_reg/MD/sub-224_in-MNI_MD_AFTER-minus-BEFORE.nii.gz\n",
      "fslmaths /export2/DATA/HIS/HIS_server/analysis/dwi_data/stats_alt_reg/MD/sub-224_in-MNI_ss6mm_MD_before.nii.gz -sub /export2/DATA/HIS/HIS_server/analysis/dwi_data/stats_alt_reg/MD/sub-224_in-MNI_ss6mm_MD_after.nii.gz /export2/DATA/HIS/HIS_server/analysis/dwi_data/stats_alt_reg/MD/sub-224_in-MNI_MD_BEFORE-minus-AFTER.nii.gz\n",
      "fslmaths /export2/DATA/HIS/HIS_server/analysis/dwi_data/stats_alt_reg/FA/sub-224_in-MNI_ss6mm_FA_after.nii.gz -sub /export2/DATA/HIS/HIS_server/analysis/dwi_data/stats_alt_reg/FA/sub-224_in-MNI_ss6mm_FA_before.nii.gz /export2/DATA/HIS/HIS_server/analysis/dwi_data/stats_alt_reg/FA/sub-224_in-MNI_FA_AFTER-minus-BEFORE.nii.gz\n",
      "fslmaths /export2/DATA/HIS/HIS_server/analysis/dwi_data/stats_alt_reg/FA/sub-224_in-MNI_ss6mm_FA_before.nii.gz -sub /export2/DATA/HIS/HIS_server/analysis/dwi_data/stats_alt_reg/FA/sub-224_in-MNI_ss6mm_FA_after.nii.gz /export2/DATA/HIS/HIS_server/analysis/dwi_data/stats_alt_reg/FA/sub-224_in-MNI_FA_BEFORE-minus-AFTER.nii.gz\n",
      "fslmaths /export2/DATA/HIS/HIS_server/analysis/dwi_data/stats_alt_reg/MD/sub-225_in-MNI_ss6mm_MD_after.nii.gz -sub /export2/DATA/HIS/HIS_server/analysis/dwi_data/stats_alt_reg/MD/sub-225_in-MNI_ss6mm_MD_before.nii.gz /export2/DATA/HIS/HIS_server/analysis/dwi_data/stats_alt_reg/MD/sub-225_in-MNI_MD_AFTER-minus-BEFORE.nii.gz\n",
      "fslmaths /export2/DATA/HIS/HIS_server/analysis/dwi_data/stats_alt_reg/MD/sub-225_in-MNI_ss6mm_MD_before.nii.gz -sub /export2/DATA/HIS/HIS_server/analysis/dwi_data/stats_alt_reg/MD/sub-225_in-MNI_ss6mm_MD_after.nii.gz /export2/DATA/HIS/HIS_server/analysis/dwi_data/stats_alt_reg/MD/sub-225_in-MNI_MD_BEFORE-minus-AFTER.nii.gz\n",
      "fslmaths /export2/DATA/HIS/HIS_server/analysis/dwi_data/stats_alt_reg/FA/sub-225_in-MNI_ss6mm_FA_after.nii.gz -sub /export2/DATA/HIS/HIS_server/analysis/dwi_data/stats_alt_reg/FA/sub-225_in-MNI_ss6mm_FA_before.nii.gz /export2/DATA/HIS/HIS_server/analysis/dwi_data/stats_alt_reg/FA/sub-225_in-MNI_FA_AFTER-minus-BEFORE.nii.gz\n",
      "fslmaths /export2/DATA/HIS/HIS_server/analysis/dwi_data/stats_alt_reg/FA/sub-225_in-MNI_ss6mm_FA_before.nii.gz -sub /export2/DATA/HIS/HIS_server/analysis/dwi_data/stats_alt_reg/FA/sub-225_in-MNI_ss6mm_FA_after.nii.gz /export2/DATA/HIS/HIS_server/analysis/dwi_data/stats_alt_reg/FA/sub-225_in-MNI_FA_BEFORE-minus-AFTER.nii.gz\n",
      "fslmaths /export2/DATA/HIS/HIS_server/analysis/dwi_data/stats_alt_reg/MD/sub-227_in-MNI_ss6mm_MD_after.nii.gz -sub /export2/DATA/HIS/HIS_server/analysis/dwi_data/stats_alt_reg/MD/sub-227_in-MNI_ss6mm_MD_before.nii.gz /export2/DATA/HIS/HIS_server/analysis/dwi_data/stats_alt_reg/MD/sub-227_in-MNI_MD_AFTER-minus-BEFORE.nii.gz\n",
      "fslmaths /export2/DATA/HIS/HIS_server/analysis/dwi_data/stats_alt_reg/MD/sub-227_in-MNI_ss6mm_MD_before.nii.gz -sub /export2/DATA/HIS/HIS_server/analysis/dwi_data/stats_alt_reg/MD/sub-227_in-MNI_ss6mm_MD_after.nii.gz /export2/DATA/HIS/HIS_server/analysis/dwi_data/stats_alt_reg/MD/sub-227_in-MNI_MD_BEFORE-minus-AFTER.nii.gz\n",
      "fslmaths /export2/DATA/HIS/HIS_server/analysis/dwi_data/stats_alt_reg/FA/sub-227_in-MNI_ss6mm_FA_after.nii.gz -sub /export2/DATA/HIS/HIS_server/analysis/dwi_data/stats_alt_reg/FA/sub-227_in-MNI_ss6mm_FA_before.nii.gz /export2/DATA/HIS/HIS_server/analysis/dwi_data/stats_alt_reg/FA/sub-227_in-MNI_FA_AFTER-minus-BEFORE.nii.gz\n",
      "fslmaths /export2/DATA/HIS/HIS_server/analysis/dwi_data/stats_alt_reg/FA/sub-227_in-MNI_ss6mm_FA_before.nii.gz -sub /export2/DATA/HIS/HIS_server/analysis/dwi_data/stats_alt_reg/FA/sub-227_in-MNI_ss6mm_FA_after.nii.gz /export2/DATA/HIS/HIS_server/analysis/dwi_data/stats_alt_reg/FA/sub-227_in-MNI_FA_BEFORE-minus-AFTER.nii.gz\n",
      "fslmaths /export2/DATA/HIS/HIS_server/analysis/dwi_data/stats_alt_reg/MD/sub-229_in-MNI_ss6mm_MD_after.nii.gz -sub /export2/DATA/HIS/HIS_server/analysis/dwi_data/stats_alt_reg/MD/sub-229_in-MNI_ss6mm_MD_before.nii.gz /export2/DATA/HIS/HIS_server/analysis/dwi_data/stats_alt_reg/MD/sub-229_in-MNI_MD_AFTER-minus-BEFORE.nii.gz\n",
      "fslmaths /export2/DATA/HIS/HIS_server/analysis/dwi_data/stats_alt_reg/MD/sub-229_in-MNI_ss6mm_MD_before.nii.gz -sub /export2/DATA/HIS/HIS_server/analysis/dwi_data/stats_alt_reg/MD/sub-229_in-MNI_ss6mm_MD_after.nii.gz /export2/DATA/HIS/HIS_server/analysis/dwi_data/stats_alt_reg/MD/sub-229_in-MNI_MD_BEFORE-minus-AFTER.nii.gz\n",
      "fslmaths /export2/DATA/HIS/HIS_server/analysis/dwi_data/stats_alt_reg/FA/sub-229_in-MNI_ss6mm_FA_after.nii.gz -sub /export2/DATA/HIS/HIS_server/analysis/dwi_data/stats_alt_reg/FA/sub-229_in-MNI_ss6mm_FA_before.nii.gz /export2/DATA/HIS/HIS_server/analysis/dwi_data/stats_alt_reg/FA/sub-229_in-MNI_FA_AFTER-minus-BEFORE.nii.gz\n",
      "fslmaths /export2/DATA/HIS/HIS_server/analysis/dwi_data/stats_alt_reg/FA/sub-229_in-MNI_ss6mm_FA_before.nii.gz -sub /export2/DATA/HIS/HIS_server/analysis/dwi_data/stats_alt_reg/FA/sub-229_in-MNI_ss6mm_FA_after.nii.gz /export2/DATA/HIS/HIS_server/analysis/dwi_data/stats_alt_reg/FA/sub-229_in-MNI_FA_BEFORE-minus-AFTER.nii.gz\n",
      "fslmaths /export2/DATA/HIS/HIS_server/analysis/dwi_data/stats_alt_reg/MD/sub-230_in-MNI_ss6mm_MD_after.nii.gz -sub /export2/DATA/HIS/HIS_server/analysis/dwi_data/stats_alt_reg/MD/sub-230_in-MNI_ss6mm_MD_before.nii.gz /export2/DATA/HIS/HIS_server/analysis/dwi_data/stats_alt_reg/MD/sub-230_in-MNI_MD_AFTER-minus-BEFORE.nii.gz\n",
      "fslmaths /export2/DATA/HIS/HIS_server/analysis/dwi_data/stats_alt_reg/MD/sub-230_in-MNI_ss6mm_MD_before.nii.gz -sub /export2/DATA/HIS/HIS_server/analysis/dwi_data/stats_alt_reg/MD/sub-230_in-MNI_ss6mm_MD_after.nii.gz /export2/DATA/HIS/HIS_server/analysis/dwi_data/stats_alt_reg/MD/sub-230_in-MNI_MD_BEFORE-minus-AFTER.nii.gz\n",
      "fslmaths /export2/DATA/HIS/HIS_server/analysis/dwi_data/stats_alt_reg/FA/sub-230_in-MNI_ss6mm_FA_after.nii.gz -sub /export2/DATA/HIS/HIS_server/analysis/dwi_data/stats_alt_reg/FA/sub-230_in-MNI_ss6mm_FA_before.nii.gz /export2/DATA/HIS/HIS_server/analysis/dwi_data/stats_alt_reg/FA/sub-230_in-MNI_FA_AFTER-minus-BEFORE.nii.gz\n",
      "fslmaths /export2/DATA/HIS/HIS_server/analysis/dwi_data/stats_alt_reg/FA/sub-230_in-MNI_ss6mm_FA_before.nii.gz -sub /export2/DATA/HIS/HIS_server/analysis/dwi_data/stats_alt_reg/FA/sub-230_in-MNI_ss6mm_FA_after.nii.gz /export2/DATA/HIS/HIS_server/analysis/dwi_data/stats_alt_reg/FA/sub-230_in-MNI_FA_BEFORE-minus-AFTER.nii.gz\n",
      "fslmaths /export2/DATA/HIS/HIS_server/analysis/dwi_data/stats_alt_reg/MD/sub-232_in-MNI_ss6mm_MD_after.nii.gz -sub /export2/DATA/HIS/HIS_server/analysis/dwi_data/stats_alt_reg/MD/sub-232_in-MNI_ss6mm_MD_before.nii.gz /export2/DATA/HIS/HIS_server/analysis/dwi_data/stats_alt_reg/MD/sub-232_in-MNI_MD_AFTER-minus-BEFORE.nii.gz\n",
      "fslmaths /export2/DATA/HIS/HIS_server/analysis/dwi_data/stats_alt_reg/MD/sub-232_in-MNI_ss6mm_MD_before.nii.gz -sub /export2/DATA/HIS/HIS_server/analysis/dwi_data/stats_alt_reg/MD/sub-232_in-MNI_ss6mm_MD_after.nii.gz /export2/DATA/HIS/HIS_server/analysis/dwi_data/stats_alt_reg/MD/sub-232_in-MNI_MD_BEFORE-minus-AFTER.nii.gz\n",
      "fslmaths /export2/DATA/HIS/HIS_server/analysis/dwi_data/stats_alt_reg/FA/sub-232_in-MNI_ss6mm_FA_after.nii.gz -sub /export2/DATA/HIS/HIS_server/analysis/dwi_data/stats_alt_reg/FA/sub-232_in-MNI_ss6mm_FA_before.nii.gz /export2/DATA/HIS/HIS_server/analysis/dwi_data/stats_alt_reg/FA/sub-232_in-MNI_FA_AFTER-minus-BEFORE.nii.gz\n",
      "fslmaths /export2/DATA/HIS/HIS_server/analysis/dwi_data/stats_alt_reg/FA/sub-232_in-MNI_ss6mm_FA_before.nii.gz -sub /export2/DATA/HIS/HIS_server/analysis/dwi_data/stats_alt_reg/FA/sub-232_in-MNI_ss6mm_FA_after.nii.gz /export2/DATA/HIS/HIS_server/analysis/dwi_data/stats_alt_reg/FA/sub-232_in-MNI_FA_BEFORE-minus-AFTER.nii.gz\n",
      "fslmaths /export2/DATA/HIS/HIS_server/analysis/dwi_data/stats_alt_reg/MD/sub-234_in-MNI_ss6mm_MD_after.nii.gz -sub /export2/DATA/HIS/HIS_server/analysis/dwi_data/stats_alt_reg/MD/sub-234_in-MNI_ss6mm_MD_before.nii.gz /export2/DATA/HIS/HIS_server/analysis/dwi_data/stats_alt_reg/MD/sub-234_in-MNI_MD_AFTER-minus-BEFORE.nii.gz\n",
      "fslmaths /export2/DATA/HIS/HIS_server/analysis/dwi_data/stats_alt_reg/MD/sub-234_in-MNI_ss6mm_MD_before.nii.gz -sub /export2/DATA/HIS/HIS_server/analysis/dwi_data/stats_alt_reg/MD/sub-234_in-MNI_ss6mm_MD_after.nii.gz /export2/DATA/HIS/HIS_server/analysis/dwi_data/stats_alt_reg/MD/sub-234_in-MNI_MD_BEFORE-minus-AFTER.nii.gz\n",
      "fslmaths /export2/DATA/HIS/HIS_server/analysis/dwi_data/stats_alt_reg/FA/sub-234_in-MNI_ss6mm_FA_after.nii.gz -sub /export2/DATA/HIS/HIS_server/analysis/dwi_data/stats_alt_reg/FA/sub-234_in-MNI_ss6mm_FA_before.nii.gz /export2/DATA/HIS/HIS_server/analysis/dwi_data/stats_alt_reg/FA/sub-234_in-MNI_FA_AFTER-minus-BEFORE.nii.gz\n",
      "fslmaths /export2/DATA/HIS/HIS_server/analysis/dwi_data/stats_alt_reg/FA/sub-234_in-MNI_ss6mm_FA_before.nii.gz -sub /export2/DATA/HIS/HIS_server/analysis/dwi_data/stats_alt_reg/FA/sub-234_in-MNI_ss6mm_FA_after.nii.gz /export2/DATA/HIS/HIS_server/analysis/dwi_data/stats_alt_reg/FA/sub-234_in-MNI_FA_BEFORE-minus-AFTER.nii.gz\n",
      "fslmaths /export2/DATA/HIS/HIS_server/analysis/dwi_data/stats_alt_reg/MD/sub-235_in-MNI_ss6mm_MD_after.nii.gz -sub /export2/DATA/HIS/HIS_server/analysis/dwi_data/stats_alt_reg/MD/sub-235_in-MNI_ss6mm_MD_before.nii.gz /export2/DATA/HIS/HIS_server/analysis/dwi_data/stats_alt_reg/MD/sub-235_in-MNI_MD_AFTER-minus-BEFORE.nii.gz\n",
      "fslmaths /export2/DATA/HIS/HIS_server/analysis/dwi_data/stats_alt_reg/MD/sub-235_in-MNI_ss6mm_MD_before.nii.gz -sub /export2/DATA/HIS/HIS_server/analysis/dwi_data/stats_alt_reg/MD/sub-235_in-MNI_ss6mm_MD_after.nii.gz /export2/DATA/HIS/HIS_server/analysis/dwi_data/stats_alt_reg/MD/sub-235_in-MNI_MD_BEFORE-minus-AFTER.nii.gz\n",
      "fslmaths /export2/DATA/HIS/HIS_server/analysis/dwi_data/stats_alt_reg/FA/sub-235_in-MNI_ss6mm_FA_after.nii.gz -sub /export2/DATA/HIS/HIS_server/analysis/dwi_data/stats_alt_reg/FA/sub-235_in-MNI_ss6mm_FA_before.nii.gz /export2/DATA/HIS/HIS_server/analysis/dwi_data/stats_alt_reg/FA/sub-235_in-MNI_FA_AFTER-minus-BEFORE.nii.gz\n",
      "fslmaths /export2/DATA/HIS/HIS_server/analysis/dwi_data/stats_alt_reg/FA/sub-235_in-MNI_ss6mm_FA_before.nii.gz -sub /export2/DATA/HIS/HIS_server/analysis/dwi_data/stats_alt_reg/FA/sub-235_in-MNI_ss6mm_FA_after.nii.gz /export2/DATA/HIS/HIS_server/analysis/dwi_data/stats_alt_reg/FA/sub-235_in-MNI_FA_BEFORE-minus-AFTER.nii.gz\n",
      "fslmaths /export2/DATA/HIS/HIS_server/analysis/dwi_data/stats_alt_reg/MD/sub-238_in-MNI_ss6mm_MD_after.nii.gz -sub /export2/DATA/HIS/HIS_server/analysis/dwi_data/stats_alt_reg/MD/sub-238_in-MNI_ss6mm_MD_before.nii.gz /export2/DATA/HIS/HIS_server/analysis/dwi_data/stats_alt_reg/MD/sub-238_in-MNI_MD_AFTER-minus-BEFORE.nii.gz\n",
      "fslmaths /export2/DATA/HIS/HIS_server/analysis/dwi_data/stats_alt_reg/MD/sub-238_in-MNI_ss6mm_MD_before.nii.gz -sub /export2/DATA/HIS/HIS_server/analysis/dwi_data/stats_alt_reg/MD/sub-238_in-MNI_ss6mm_MD_after.nii.gz /export2/DATA/HIS/HIS_server/analysis/dwi_data/stats_alt_reg/MD/sub-238_in-MNI_MD_BEFORE-minus-AFTER.nii.gz\n",
      "fslmaths /export2/DATA/HIS/HIS_server/analysis/dwi_data/stats_alt_reg/FA/sub-238_in-MNI_ss6mm_FA_after.nii.gz -sub /export2/DATA/HIS/HIS_server/analysis/dwi_data/stats_alt_reg/FA/sub-238_in-MNI_ss6mm_FA_before.nii.gz /export2/DATA/HIS/HIS_server/analysis/dwi_data/stats_alt_reg/FA/sub-238_in-MNI_FA_AFTER-minus-BEFORE.nii.gz\n",
      "fslmaths /export2/DATA/HIS/HIS_server/analysis/dwi_data/stats_alt_reg/FA/sub-238_in-MNI_ss6mm_FA_before.nii.gz -sub /export2/DATA/HIS/HIS_server/analysis/dwi_data/stats_alt_reg/FA/sub-238_in-MNI_ss6mm_FA_after.nii.gz /export2/DATA/HIS/HIS_server/analysis/dwi_data/stats_alt_reg/FA/sub-238_in-MNI_FA_BEFORE-minus-AFTER.nii.gz\n",
      "fslmaths /export2/DATA/HIS/HIS_server/analysis/dwi_data/stats_alt_reg/MD/sub-239_in-MNI_ss6mm_MD_after.nii.gz -sub /export2/DATA/HIS/HIS_server/analysis/dwi_data/stats_alt_reg/MD/sub-239_in-MNI_ss6mm_MD_before.nii.gz /export2/DATA/HIS/HIS_server/analysis/dwi_data/stats_alt_reg/MD/sub-239_in-MNI_MD_AFTER-minus-BEFORE.nii.gz\n",
      "fslmaths /export2/DATA/HIS/HIS_server/analysis/dwi_data/stats_alt_reg/MD/sub-239_in-MNI_ss6mm_MD_before.nii.gz -sub /export2/DATA/HIS/HIS_server/analysis/dwi_data/stats_alt_reg/MD/sub-239_in-MNI_ss6mm_MD_after.nii.gz /export2/DATA/HIS/HIS_server/analysis/dwi_data/stats_alt_reg/MD/sub-239_in-MNI_MD_BEFORE-minus-AFTER.nii.gz\n",
      "fslmaths /export2/DATA/HIS/HIS_server/analysis/dwi_data/stats_alt_reg/FA/sub-239_in-MNI_ss6mm_FA_after.nii.gz -sub /export2/DATA/HIS/HIS_server/analysis/dwi_data/stats_alt_reg/FA/sub-239_in-MNI_ss6mm_FA_before.nii.gz /export2/DATA/HIS/HIS_server/analysis/dwi_data/stats_alt_reg/FA/sub-239_in-MNI_FA_AFTER-minus-BEFORE.nii.gz\n",
      "fslmaths /export2/DATA/HIS/HIS_server/analysis/dwi_data/stats_alt_reg/FA/sub-239_in-MNI_ss6mm_FA_before.nii.gz -sub /export2/DATA/HIS/HIS_server/analysis/dwi_data/stats_alt_reg/FA/sub-239_in-MNI_ss6mm_FA_after.nii.gz /export2/DATA/HIS/HIS_server/analysis/dwi_data/stats_alt_reg/FA/sub-239_in-MNI_FA_BEFORE-minus-AFTER.nii.gz\n",
      "fslmaths /export2/DATA/HIS/HIS_server/analysis/dwi_data/stats_alt_reg/MD/sub-240_in-MNI_ss6mm_MD_after.nii.gz -sub /export2/DATA/HIS/HIS_server/analysis/dwi_data/stats_alt_reg/MD/sub-240_in-MNI_ss6mm_MD_before.nii.gz /export2/DATA/HIS/HIS_server/analysis/dwi_data/stats_alt_reg/MD/sub-240_in-MNI_MD_AFTER-minus-BEFORE.nii.gz\n",
      "fslmaths /export2/DATA/HIS/HIS_server/analysis/dwi_data/stats_alt_reg/MD/sub-240_in-MNI_ss6mm_MD_before.nii.gz -sub /export2/DATA/HIS/HIS_server/analysis/dwi_data/stats_alt_reg/MD/sub-240_in-MNI_ss6mm_MD_after.nii.gz /export2/DATA/HIS/HIS_server/analysis/dwi_data/stats_alt_reg/MD/sub-240_in-MNI_MD_BEFORE-minus-AFTER.nii.gz\n",
      "fslmaths /export2/DATA/HIS/HIS_server/analysis/dwi_data/stats_alt_reg/FA/sub-240_in-MNI_ss6mm_FA_after.nii.gz -sub /export2/DATA/HIS/HIS_server/analysis/dwi_data/stats_alt_reg/FA/sub-240_in-MNI_ss6mm_FA_before.nii.gz /export2/DATA/HIS/HIS_server/analysis/dwi_data/stats_alt_reg/FA/sub-240_in-MNI_FA_AFTER-minus-BEFORE.nii.gz\n",
      "fslmaths /export2/DATA/HIS/HIS_server/analysis/dwi_data/stats_alt_reg/FA/sub-240_in-MNI_ss6mm_FA_before.nii.gz -sub /export2/DATA/HIS/HIS_server/analysis/dwi_data/stats_alt_reg/FA/sub-240_in-MNI_ss6mm_FA_after.nii.gz /export2/DATA/HIS/HIS_server/analysis/dwi_data/stats_alt_reg/FA/sub-240_in-MNI_FA_BEFORE-minus-AFTER.nii.gz\n",
      "fslmaths /export2/DATA/HIS/HIS_server/analysis/dwi_data/stats_alt_reg/MD/sub-241_in-MNI_ss6mm_MD_after.nii.gz -sub /export2/DATA/HIS/HIS_server/analysis/dwi_data/stats_alt_reg/MD/sub-241_in-MNI_ss6mm_MD_before.nii.gz /export2/DATA/HIS/HIS_server/analysis/dwi_data/stats_alt_reg/MD/sub-241_in-MNI_MD_AFTER-minus-BEFORE.nii.gz\n",
      "fslmaths /export2/DATA/HIS/HIS_server/analysis/dwi_data/stats_alt_reg/MD/sub-241_in-MNI_ss6mm_MD_before.nii.gz -sub /export2/DATA/HIS/HIS_server/analysis/dwi_data/stats_alt_reg/MD/sub-241_in-MNI_ss6mm_MD_after.nii.gz /export2/DATA/HIS/HIS_server/analysis/dwi_data/stats_alt_reg/MD/sub-241_in-MNI_MD_BEFORE-minus-AFTER.nii.gz\n",
      "fslmaths /export2/DATA/HIS/HIS_server/analysis/dwi_data/stats_alt_reg/FA/sub-241_in-MNI_ss6mm_FA_after.nii.gz -sub /export2/DATA/HIS/HIS_server/analysis/dwi_data/stats_alt_reg/FA/sub-241_in-MNI_ss6mm_FA_before.nii.gz /export2/DATA/HIS/HIS_server/analysis/dwi_data/stats_alt_reg/FA/sub-241_in-MNI_FA_AFTER-minus-BEFORE.nii.gz\n",
      "fslmaths /export2/DATA/HIS/HIS_server/analysis/dwi_data/stats_alt_reg/FA/sub-241_in-MNI_ss6mm_FA_before.nii.gz -sub /export2/DATA/HIS/HIS_server/analysis/dwi_data/stats_alt_reg/FA/sub-241_in-MNI_ss6mm_FA_after.nii.gz /export2/DATA/HIS/HIS_server/analysis/dwi_data/stats_alt_reg/FA/sub-241_in-MNI_FA_BEFORE-minus-AFTER.nii.gz\n",
      "fslmaths /export2/DATA/HIS/HIS_server/analysis/dwi_data/stats_alt_reg/MD/sub-242_in-MNI_ss6mm_MD_after.nii.gz -sub /export2/DATA/HIS/HIS_server/analysis/dwi_data/stats_alt_reg/MD/sub-242_in-MNI_ss6mm_MD_before.nii.gz /export2/DATA/HIS/HIS_server/analysis/dwi_data/stats_alt_reg/MD/sub-242_in-MNI_MD_AFTER-minus-BEFORE.nii.gz\n",
      "fslmaths /export2/DATA/HIS/HIS_server/analysis/dwi_data/stats_alt_reg/MD/sub-242_in-MNI_ss6mm_MD_before.nii.gz -sub /export2/DATA/HIS/HIS_server/analysis/dwi_data/stats_alt_reg/MD/sub-242_in-MNI_ss6mm_MD_after.nii.gz /export2/DATA/HIS/HIS_server/analysis/dwi_data/stats_alt_reg/MD/sub-242_in-MNI_MD_BEFORE-minus-AFTER.nii.gz\n",
      "fslmaths /export2/DATA/HIS/HIS_server/analysis/dwi_data/stats_alt_reg/FA/sub-242_in-MNI_ss6mm_FA_after.nii.gz -sub /export2/DATA/HIS/HIS_server/analysis/dwi_data/stats_alt_reg/FA/sub-242_in-MNI_ss6mm_FA_before.nii.gz /export2/DATA/HIS/HIS_server/analysis/dwi_data/stats_alt_reg/FA/sub-242_in-MNI_FA_AFTER-minus-BEFORE.nii.gz\n",
      "fslmaths /export2/DATA/HIS/HIS_server/analysis/dwi_data/stats_alt_reg/FA/sub-242_in-MNI_ss6mm_FA_before.nii.gz -sub /export2/DATA/HIS/HIS_server/analysis/dwi_data/stats_alt_reg/FA/sub-242_in-MNI_ss6mm_FA_after.nii.gz /export2/DATA/HIS/HIS_server/analysis/dwi_data/stats_alt_reg/FA/sub-242_in-MNI_FA_BEFORE-minus-AFTER.nii.gz\n",
      "fslmaths /export2/DATA/HIS/HIS_server/analysis/dwi_data/stats_alt_reg/MD/sub-243_in-MNI_ss6mm_MD_after.nii.gz -sub /export2/DATA/HIS/HIS_server/analysis/dwi_data/stats_alt_reg/MD/sub-243_in-MNI_ss6mm_MD_before.nii.gz /export2/DATA/HIS/HIS_server/analysis/dwi_data/stats_alt_reg/MD/sub-243_in-MNI_MD_AFTER-minus-BEFORE.nii.gz\n",
      "fslmaths /export2/DATA/HIS/HIS_server/analysis/dwi_data/stats_alt_reg/MD/sub-243_in-MNI_ss6mm_MD_before.nii.gz -sub /export2/DATA/HIS/HIS_server/analysis/dwi_data/stats_alt_reg/MD/sub-243_in-MNI_ss6mm_MD_after.nii.gz /export2/DATA/HIS/HIS_server/analysis/dwi_data/stats_alt_reg/MD/sub-243_in-MNI_MD_BEFORE-minus-AFTER.nii.gz\n",
      "fslmaths /export2/DATA/HIS/HIS_server/analysis/dwi_data/stats_alt_reg/FA/sub-243_in-MNI_ss6mm_FA_after.nii.gz -sub /export2/DATA/HIS/HIS_server/analysis/dwi_data/stats_alt_reg/FA/sub-243_in-MNI_ss6mm_FA_before.nii.gz /export2/DATA/HIS/HIS_server/analysis/dwi_data/stats_alt_reg/FA/sub-243_in-MNI_FA_AFTER-minus-BEFORE.nii.gz\n",
      "fslmaths /export2/DATA/HIS/HIS_server/analysis/dwi_data/stats_alt_reg/FA/sub-243_in-MNI_ss6mm_FA_before.nii.gz -sub /export2/DATA/HIS/HIS_server/analysis/dwi_data/stats_alt_reg/FA/sub-243_in-MNI_ss6mm_FA_after.nii.gz /export2/DATA/HIS/HIS_server/analysis/dwi_data/stats_alt_reg/FA/sub-243_in-MNI_FA_BEFORE-minus-AFTER.nii.gz\n",
      "fslmaths /export2/DATA/HIS/HIS_server/analysis/dwi_data/stats_alt_reg/MD/sub-245_in-MNI_ss6mm_MD_after.nii.gz -sub /export2/DATA/HIS/HIS_server/analysis/dwi_data/stats_alt_reg/MD/sub-245_in-MNI_ss6mm_MD_before.nii.gz /export2/DATA/HIS/HIS_server/analysis/dwi_data/stats_alt_reg/MD/sub-245_in-MNI_MD_AFTER-minus-BEFORE.nii.gz\n",
      "fslmaths /export2/DATA/HIS/HIS_server/analysis/dwi_data/stats_alt_reg/MD/sub-245_in-MNI_ss6mm_MD_before.nii.gz -sub /export2/DATA/HIS/HIS_server/analysis/dwi_data/stats_alt_reg/MD/sub-245_in-MNI_ss6mm_MD_after.nii.gz /export2/DATA/HIS/HIS_server/analysis/dwi_data/stats_alt_reg/MD/sub-245_in-MNI_MD_BEFORE-minus-AFTER.nii.gz\n",
      "fslmaths /export2/DATA/HIS/HIS_server/analysis/dwi_data/stats_alt_reg/FA/sub-245_in-MNI_ss6mm_FA_after.nii.gz -sub /export2/DATA/HIS/HIS_server/analysis/dwi_data/stats_alt_reg/FA/sub-245_in-MNI_ss6mm_FA_before.nii.gz /export2/DATA/HIS/HIS_server/analysis/dwi_data/stats_alt_reg/FA/sub-245_in-MNI_FA_AFTER-minus-BEFORE.nii.gz\n",
      "fslmaths /export2/DATA/HIS/HIS_server/analysis/dwi_data/stats_alt_reg/FA/sub-245_in-MNI_ss6mm_FA_before.nii.gz -sub /export2/DATA/HIS/HIS_server/analysis/dwi_data/stats_alt_reg/FA/sub-245_in-MNI_ss6mm_FA_after.nii.gz /export2/DATA/HIS/HIS_server/analysis/dwi_data/stats_alt_reg/FA/sub-245_in-MNI_FA_BEFORE-minus-AFTER.nii.gz\n",
      "fslmaths /export2/DATA/HIS/HIS_server/analysis/dwi_data/stats_alt_reg/MD/sub-247_in-MNI_ss6mm_MD_after.nii.gz -sub /export2/DATA/HIS/HIS_server/analysis/dwi_data/stats_alt_reg/MD/sub-247_in-MNI_ss6mm_MD_before.nii.gz /export2/DATA/HIS/HIS_server/analysis/dwi_data/stats_alt_reg/MD/sub-247_in-MNI_MD_AFTER-minus-BEFORE.nii.gz\n",
      "fslmaths /export2/DATA/HIS/HIS_server/analysis/dwi_data/stats_alt_reg/MD/sub-247_in-MNI_ss6mm_MD_before.nii.gz -sub /export2/DATA/HIS/HIS_server/analysis/dwi_data/stats_alt_reg/MD/sub-247_in-MNI_ss6mm_MD_after.nii.gz /export2/DATA/HIS/HIS_server/analysis/dwi_data/stats_alt_reg/MD/sub-247_in-MNI_MD_BEFORE-minus-AFTER.nii.gz\n",
      "fslmaths /export2/DATA/HIS/HIS_server/analysis/dwi_data/stats_alt_reg/FA/sub-247_in-MNI_ss6mm_FA_after.nii.gz -sub /export2/DATA/HIS/HIS_server/analysis/dwi_data/stats_alt_reg/FA/sub-247_in-MNI_ss6mm_FA_before.nii.gz /export2/DATA/HIS/HIS_server/analysis/dwi_data/stats_alt_reg/FA/sub-247_in-MNI_FA_AFTER-minus-BEFORE.nii.gz\n",
      "fslmaths /export2/DATA/HIS/HIS_server/analysis/dwi_data/stats_alt_reg/FA/sub-247_in-MNI_ss6mm_FA_before.nii.gz -sub /export2/DATA/HIS/HIS_server/analysis/dwi_data/stats_alt_reg/FA/sub-247_in-MNI_ss6mm_FA_after.nii.gz /export2/DATA/HIS/HIS_server/analysis/dwi_data/stats_alt_reg/FA/sub-247_in-MNI_FA_BEFORE-minus-AFTER.nii.gz\n",
      "fslmaths /export2/DATA/HIS/HIS_server/analysis/dwi_data/stats_alt_reg/MD/sub-248_in-MNI_ss6mm_MD_after.nii.gz -sub /export2/DATA/HIS/HIS_server/analysis/dwi_data/stats_alt_reg/MD/sub-248_in-MNI_ss6mm_MD_before.nii.gz /export2/DATA/HIS/HIS_server/analysis/dwi_data/stats_alt_reg/MD/sub-248_in-MNI_MD_AFTER-minus-BEFORE.nii.gz\n",
      "fslmaths /export2/DATA/HIS/HIS_server/analysis/dwi_data/stats_alt_reg/MD/sub-248_in-MNI_ss6mm_MD_before.nii.gz -sub /export2/DATA/HIS/HIS_server/analysis/dwi_data/stats_alt_reg/MD/sub-248_in-MNI_ss6mm_MD_after.nii.gz /export2/DATA/HIS/HIS_server/analysis/dwi_data/stats_alt_reg/MD/sub-248_in-MNI_MD_BEFORE-minus-AFTER.nii.gz\n",
      "fslmaths /export2/DATA/HIS/HIS_server/analysis/dwi_data/stats_alt_reg/FA/sub-248_in-MNI_ss6mm_FA_after.nii.gz -sub /export2/DATA/HIS/HIS_server/analysis/dwi_data/stats_alt_reg/FA/sub-248_in-MNI_ss6mm_FA_before.nii.gz /export2/DATA/HIS/HIS_server/analysis/dwi_data/stats_alt_reg/FA/sub-248_in-MNI_FA_AFTER-minus-BEFORE.nii.gz\n",
      "fslmaths /export2/DATA/HIS/HIS_server/analysis/dwi_data/stats_alt_reg/FA/sub-248_in-MNI_ss6mm_FA_before.nii.gz -sub /export2/DATA/HIS/HIS_server/analysis/dwi_data/stats_alt_reg/FA/sub-248_in-MNI_ss6mm_FA_after.nii.gz /export2/DATA/HIS/HIS_server/analysis/dwi_data/stats_alt_reg/FA/sub-248_in-MNI_FA_BEFORE-minus-AFTER.nii.gz\n",
      "fslmaths /export2/DATA/HIS/HIS_server/analysis/dwi_data/stats_alt_reg/MD/sub-249_in-MNI_ss6mm_MD_after.nii.gz -sub /export2/DATA/HIS/HIS_server/analysis/dwi_data/stats_alt_reg/MD/sub-249_in-MNI_ss6mm_MD_before.nii.gz /export2/DATA/HIS/HIS_server/analysis/dwi_data/stats_alt_reg/MD/sub-249_in-MNI_MD_AFTER-minus-BEFORE.nii.gz\n",
      "fslmaths /export2/DATA/HIS/HIS_server/analysis/dwi_data/stats_alt_reg/MD/sub-249_in-MNI_ss6mm_MD_before.nii.gz -sub /export2/DATA/HIS/HIS_server/analysis/dwi_data/stats_alt_reg/MD/sub-249_in-MNI_ss6mm_MD_after.nii.gz /export2/DATA/HIS/HIS_server/analysis/dwi_data/stats_alt_reg/MD/sub-249_in-MNI_MD_BEFORE-minus-AFTER.nii.gz\n",
      "fslmaths /export2/DATA/HIS/HIS_server/analysis/dwi_data/stats_alt_reg/FA/sub-249_in-MNI_ss6mm_FA_after.nii.gz -sub /export2/DATA/HIS/HIS_server/analysis/dwi_data/stats_alt_reg/FA/sub-249_in-MNI_ss6mm_FA_before.nii.gz /export2/DATA/HIS/HIS_server/analysis/dwi_data/stats_alt_reg/FA/sub-249_in-MNI_FA_AFTER-minus-BEFORE.nii.gz\n",
      "fslmaths /export2/DATA/HIS/HIS_server/analysis/dwi_data/stats_alt_reg/FA/sub-249_in-MNI_ss6mm_FA_before.nii.gz -sub /export2/DATA/HIS/HIS_server/analysis/dwi_data/stats_alt_reg/FA/sub-249_in-MNI_ss6mm_FA_after.nii.gz /export2/DATA/HIS/HIS_server/analysis/dwi_data/stats_alt_reg/FA/sub-249_in-MNI_FA_BEFORE-minus-AFTER.nii.gz\n",
      "fslmaths /export2/DATA/HIS/HIS_server/analysis/dwi_data/stats_alt_reg/MD/sub-251_in-MNI_ss6mm_MD_after.nii.gz -sub /export2/DATA/HIS/HIS_server/analysis/dwi_data/stats_alt_reg/MD/sub-251_in-MNI_ss6mm_MD_before.nii.gz /export2/DATA/HIS/HIS_server/analysis/dwi_data/stats_alt_reg/MD/sub-251_in-MNI_MD_AFTER-minus-BEFORE.nii.gz\n",
      "fslmaths /export2/DATA/HIS/HIS_server/analysis/dwi_data/stats_alt_reg/MD/sub-251_in-MNI_ss6mm_MD_before.nii.gz -sub /export2/DATA/HIS/HIS_server/analysis/dwi_data/stats_alt_reg/MD/sub-251_in-MNI_ss6mm_MD_after.nii.gz /export2/DATA/HIS/HIS_server/analysis/dwi_data/stats_alt_reg/MD/sub-251_in-MNI_MD_BEFORE-minus-AFTER.nii.gz\n",
      "fslmaths /export2/DATA/HIS/HIS_server/analysis/dwi_data/stats_alt_reg/FA/sub-251_in-MNI_ss6mm_FA_after.nii.gz -sub /export2/DATA/HIS/HIS_server/analysis/dwi_data/stats_alt_reg/FA/sub-251_in-MNI_ss6mm_FA_before.nii.gz /export2/DATA/HIS/HIS_server/analysis/dwi_data/stats_alt_reg/FA/sub-251_in-MNI_FA_AFTER-minus-BEFORE.nii.gz\n",
      "fslmaths /export2/DATA/HIS/HIS_server/analysis/dwi_data/stats_alt_reg/FA/sub-251_in-MNI_ss6mm_FA_before.nii.gz -sub /export2/DATA/HIS/HIS_server/analysis/dwi_data/stats_alt_reg/FA/sub-251_in-MNI_ss6mm_FA_after.nii.gz /export2/DATA/HIS/HIS_server/analysis/dwi_data/stats_alt_reg/FA/sub-251_in-MNI_FA_BEFORE-minus-AFTER.nii.gz\n",
      "fslmaths /export2/DATA/HIS/HIS_server/analysis/dwi_data/stats_alt_reg/MD/sub-252_in-MNI_ss6mm_MD_after.nii.gz -sub /export2/DATA/HIS/HIS_server/analysis/dwi_data/stats_alt_reg/MD/sub-252_in-MNI_ss6mm_MD_before.nii.gz /export2/DATA/HIS/HIS_server/analysis/dwi_data/stats_alt_reg/MD/sub-252_in-MNI_MD_AFTER-minus-BEFORE.nii.gz\n",
      "fslmaths /export2/DATA/HIS/HIS_server/analysis/dwi_data/stats_alt_reg/MD/sub-252_in-MNI_ss6mm_MD_before.nii.gz -sub /export2/DATA/HIS/HIS_server/analysis/dwi_data/stats_alt_reg/MD/sub-252_in-MNI_ss6mm_MD_after.nii.gz /export2/DATA/HIS/HIS_server/analysis/dwi_data/stats_alt_reg/MD/sub-252_in-MNI_MD_BEFORE-minus-AFTER.nii.gz\n",
      "fslmaths /export2/DATA/HIS/HIS_server/analysis/dwi_data/stats_alt_reg/FA/sub-252_in-MNI_ss6mm_FA_after.nii.gz -sub /export2/DATA/HIS/HIS_server/analysis/dwi_data/stats_alt_reg/FA/sub-252_in-MNI_ss6mm_FA_before.nii.gz /export2/DATA/HIS/HIS_server/analysis/dwi_data/stats_alt_reg/FA/sub-252_in-MNI_FA_AFTER-minus-BEFORE.nii.gz\n",
      "fslmaths /export2/DATA/HIS/HIS_server/analysis/dwi_data/stats_alt_reg/FA/sub-252_in-MNI_ss6mm_FA_before.nii.gz -sub /export2/DATA/HIS/HIS_server/analysis/dwi_data/stats_alt_reg/FA/sub-252_in-MNI_ss6mm_FA_after.nii.gz /export2/DATA/HIS/HIS_server/analysis/dwi_data/stats_alt_reg/FA/sub-252_in-MNI_FA_BEFORE-minus-AFTER.nii.gz\n",
      "fslmaths /export2/DATA/HIS/HIS_server/analysis/dwi_data/stats_alt_reg/MD/sub-254_in-MNI_ss6mm_MD_after.nii.gz -sub /export2/DATA/HIS/HIS_server/analysis/dwi_data/stats_alt_reg/MD/sub-254_in-MNI_ss6mm_MD_before.nii.gz /export2/DATA/HIS/HIS_server/analysis/dwi_data/stats_alt_reg/MD/sub-254_in-MNI_MD_AFTER-minus-BEFORE.nii.gz\n",
      "fslmaths /export2/DATA/HIS/HIS_server/analysis/dwi_data/stats_alt_reg/MD/sub-254_in-MNI_ss6mm_MD_before.nii.gz -sub /export2/DATA/HIS/HIS_server/analysis/dwi_data/stats_alt_reg/MD/sub-254_in-MNI_ss6mm_MD_after.nii.gz /export2/DATA/HIS/HIS_server/analysis/dwi_data/stats_alt_reg/MD/sub-254_in-MNI_MD_BEFORE-minus-AFTER.nii.gz\n",
      "fslmaths /export2/DATA/HIS/HIS_server/analysis/dwi_data/stats_alt_reg/FA/sub-254_in-MNI_ss6mm_FA_after.nii.gz -sub /export2/DATA/HIS/HIS_server/analysis/dwi_data/stats_alt_reg/FA/sub-254_in-MNI_ss6mm_FA_before.nii.gz /export2/DATA/HIS/HIS_server/analysis/dwi_data/stats_alt_reg/FA/sub-254_in-MNI_FA_AFTER-minus-BEFORE.nii.gz\n",
      "fslmaths /export2/DATA/HIS/HIS_server/analysis/dwi_data/stats_alt_reg/FA/sub-254_in-MNI_ss6mm_FA_before.nii.gz -sub /export2/DATA/HIS/HIS_server/analysis/dwi_data/stats_alt_reg/FA/sub-254_in-MNI_ss6mm_FA_after.nii.gz /export2/DATA/HIS/HIS_server/analysis/dwi_data/stats_alt_reg/FA/sub-254_in-MNI_FA_BEFORE-minus-AFTER.nii.gz\n",
      "fslmaths /export2/DATA/HIS/HIS_server/analysis/dwi_data/stats_alt_reg/MD/sub-255_in-MNI_ss6mm_MD_after.nii.gz -sub /export2/DATA/HIS/HIS_server/analysis/dwi_data/stats_alt_reg/MD/sub-255_in-MNI_ss6mm_MD_before.nii.gz /export2/DATA/HIS/HIS_server/analysis/dwi_data/stats_alt_reg/MD/sub-255_in-MNI_MD_AFTER-minus-BEFORE.nii.gz\n",
      "fslmaths /export2/DATA/HIS/HIS_server/analysis/dwi_data/stats_alt_reg/MD/sub-255_in-MNI_ss6mm_MD_before.nii.gz -sub /export2/DATA/HIS/HIS_server/analysis/dwi_data/stats_alt_reg/MD/sub-255_in-MNI_ss6mm_MD_after.nii.gz /export2/DATA/HIS/HIS_server/analysis/dwi_data/stats_alt_reg/MD/sub-255_in-MNI_MD_BEFORE-minus-AFTER.nii.gz\n",
      "fslmaths /export2/DATA/HIS/HIS_server/analysis/dwi_data/stats_alt_reg/FA/sub-255_in-MNI_ss6mm_FA_after.nii.gz -sub /export2/DATA/HIS/HIS_server/analysis/dwi_data/stats_alt_reg/FA/sub-255_in-MNI_ss6mm_FA_before.nii.gz /export2/DATA/HIS/HIS_server/analysis/dwi_data/stats_alt_reg/FA/sub-255_in-MNI_FA_AFTER-minus-BEFORE.nii.gz\n",
      "fslmaths /export2/DATA/HIS/HIS_server/analysis/dwi_data/stats_alt_reg/FA/sub-255_in-MNI_ss6mm_FA_before.nii.gz -sub /export2/DATA/HIS/HIS_server/analysis/dwi_data/stats_alt_reg/FA/sub-255_in-MNI_ss6mm_FA_after.nii.gz /export2/DATA/HIS/HIS_server/analysis/dwi_data/stats_alt_reg/FA/sub-255_in-MNI_FA_BEFORE-minus-AFTER.nii.gz\n",
      "fslmaths /export2/DATA/HIS/HIS_server/analysis/dwi_data/stats_alt_reg/MD/sub-257_in-MNI_ss6mm_MD_after.nii.gz -sub /export2/DATA/HIS/HIS_server/analysis/dwi_data/stats_alt_reg/MD/sub-257_in-MNI_ss6mm_MD_before.nii.gz /export2/DATA/HIS/HIS_server/analysis/dwi_data/stats_alt_reg/MD/sub-257_in-MNI_MD_AFTER-minus-BEFORE.nii.gz\n",
      "fslmaths /export2/DATA/HIS/HIS_server/analysis/dwi_data/stats_alt_reg/MD/sub-257_in-MNI_ss6mm_MD_before.nii.gz -sub /export2/DATA/HIS/HIS_server/analysis/dwi_data/stats_alt_reg/MD/sub-257_in-MNI_ss6mm_MD_after.nii.gz /export2/DATA/HIS/HIS_server/analysis/dwi_data/stats_alt_reg/MD/sub-257_in-MNI_MD_BEFORE-minus-AFTER.nii.gz\n",
      "fslmaths /export2/DATA/HIS/HIS_server/analysis/dwi_data/stats_alt_reg/FA/sub-257_in-MNI_ss6mm_FA_after.nii.gz -sub /export2/DATA/HIS/HIS_server/analysis/dwi_data/stats_alt_reg/FA/sub-257_in-MNI_ss6mm_FA_before.nii.gz /export2/DATA/HIS/HIS_server/analysis/dwi_data/stats_alt_reg/FA/sub-257_in-MNI_FA_AFTER-minus-BEFORE.nii.gz\n",
      "fslmaths /export2/DATA/HIS/HIS_server/analysis/dwi_data/stats_alt_reg/FA/sub-257_in-MNI_ss6mm_FA_before.nii.gz -sub /export2/DATA/HIS/HIS_server/analysis/dwi_data/stats_alt_reg/FA/sub-257_in-MNI_ss6mm_FA_after.nii.gz /export2/DATA/HIS/HIS_server/analysis/dwi_data/stats_alt_reg/FA/sub-257_in-MNI_FA_BEFORE-minus-AFTER.nii.gz\n",
      "fslmaths /export2/DATA/HIS/HIS_server/analysis/dwi_data/stats_alt_reg/MD/sub-258_in-MNI_ss6mm_MD_after.nii.gz -sub /export2/DATA/HIS/HIS_server/analysis/dwi_data/stats_alt_reg/MD/sub-258_in-MNI_ss6mm_MD_before.nii.gz /export2/DATA/HIS/HIS_server/analysis/dwi_data/stats_alt_reg/MD/sub-258_in-MNI_MD_AFTER-minus-BEFORE.nii.gz\n",
      "fslmaths /export2/DATA/HIS/HIS_server/analysis/dwi_data/stats_alt_reg/MD/sub-258_in-MNI_ss6mm_MD_before.nii.gz -sub /export2/DATA/HIS/HIS_server/analysis/dwi_data/stats_alt_reg/MD/sub-258_in-MNI_ss6mm_MD_after.nii.gz /export2/DATA/HIS/HIS_server/analysis/dwi_data/stats_alt_reg/MD/sub-258_in-MNI_MD_BEFORE-minus-AFTER.nii.gz\n",
      "fslmaths /export2/DATA/HIS/HIS_server/analysis/dwi_data/stats_alt_reg/FA/sub-258_in-MNI_ss6mm_FA_after.nii.gz -sub /export2/DATA/HIS/HIS_server/analysis/dwi_data/stats_alt_reg/FA/sub-258_in-MNI_ss6mm_FA_before.nii.gz /export2/DATA/HIS/HIS_server/analysis/dwi_data/stats_alt_reg/FA/sub-258_in-MNI_FA_AFTER-minus-BEFORE.nii.gz\n",
      "fslmaths /export2/DATA/HIS/HIS_server/analysis/dwi_data/stats_alt_reg/FA/sub-258_in-MNI_ss6mm_FA_before.nii.gz -sub /export2/DATA/HIS/HIS_server/analysis/dwi_data/stats_alt_reg/FA/sub-258_in-MNI_ss6mm_FA_after.nii.gz /export2/DATA/HIS/HIS_server/analysis/dwi_data/stats_alt_reg/FA/sub-258_in-MNI_FA_BEFORE-minus-AFTER.nii.gz\n",
      "fslmaths /export2/DATA/HIS/HIS_server/analysis/dwi_data/stats_alt_reg/MD/sub-260_in-MNI_ss6mm_MD_after.nii.gz -sub /export2/DATA/HIS/HIS_server/analysis/dwi_data/stats_alt_reg/MD/sub-260_in-MNI_ss6mm_MD_before.nii.gz /export2/DATA/HIS/HIS_server/analysis/dwi_data/stats_alt_reg/MD/sub-260_in-MNI_MD_AFTER-minus-BEFORE.nii.gz\n",
      "fslmaths /export2/DATA/HIS/HIS_server/analysis/dwi_data/stats_alt_reg/MD/sub-260_in-MNI_ss6mm_MD_before.nii.gz -sub /export2/DATA/HIS/HIS_server/analysis/dwi_data/stats_alt_reg/MD/sub-260_in-MNI_ss6mm_MD_after.nii.gz /export2/DATA/HIS/HIS_server/analysis/dwi_data/stats_alt_reg/MD/sub-260_in-MNI_MD_BEFORE-minus-AFTER.nii.gz\n",
      "fslmaths /export2/DATA/HIS/HIS_server/analysis/dwi_data/stats_alt_reg/FA/sub-260_in-MNI_ss6mm_FA_after.nii.gz -sub /export2/DATA/HIS/HIS_server/analysis/dwi_data/stats_alt_reg/FA/sub-260_in-MNI_ss6mm_FA_before.nii.gz /export2/DATA/HIS/HIS_server/analysis/dwi_data/stats_alt_reg/FA/sub-260_in-MNI_FA_AFTER-minus-BEFORE.nii.gz\n",
      "fslmaths /export2/DATA/HIS/HIS_server/analysis/dwi_data/stats_alt_reg/FA/sub-260_in-MNI_ss6mm_FA_before.nii.gz -sub /export2/DATA/HIS/HIS_server/analysis/dwi_data/stats_alt_reg/FA/sub-260_in-MNI_ss6mm_FA_after.nii.gz /export2/DATA/HIS/HIS_server/analysis/dwi_data/stats_alt_reg/FA/sub-260_in-MNI_FA_BEFORE-minus-AFTER.nii.gz\n",
      "fslmaths /export2/DATA/HIS/HIS_server/analysis/dwi_data/stats_alt_reg/MD/sub-261_in-MNI_ss6mm_MD_after.nii.gz -sub /export2/DATA/HIS/HIS_server/analysis/dwi_data/stats_alt_reg/MD/sub-261_in-MNI_ss6mm_MD_before.nii.gz /export2/DATA/HIS/HIS_server/analysis/dwi_data/stats_alt_reg/MD/sub-261_in-MNI_MD_AFTER-minus-BEFORE.nii.gz\n",
      "fslmaths /export2/DATA/HIS/HIS_server/analysis/dwi_data/stats_alt_reg/MD/sub-261_in-MNI_ss6mm_MD_before.nii.gz -sub /export2/DATA/HIS/HIS_server/analysis/dwi_data/stats_alt_reg/MD/sub-261_in-MNI_ss6mm_MD_after.nii.gz /export2/DATA/HIS/HIS_server/analysis/dwi_data/stats_alt_reg/MD/sub-261_in-MNI_MD_BEFORE-minus-AFTER.nii.gz\n",
      "fslmaths /export2/DATA/HIS/HIS_server/analysis/dwi_data/stats_alt_reg/FA/sub-261_in-MNI_ss6mm_FA_after.nii.gz -sub /export2/DATA/HIS/HIS_server/analysis/dwi_data/stats_alt_reg/FA/sub-261_in-MNI_ss6mm_FA_before.nii.gz /export2/DATA/HIS/HIS_server/analysis/dwi_data/stats_alt_reg/FA/sub-261_in-MNI_FA_AFTER-minus-BEFORE.nii.gz\n",
      "fslmaths /export2/DATA/HIS/HIS_server/analysis/dwi_data/stats_alt_reg/FA/sub-261_in-MNI_ss6mm_FA_before.nii.gz -sub /export2/DATA/HIS/HIS_server/analysis/dwi_data/stats_alt_reg/FA/sub-261_in-MNI_ss6mm_FA_after.nii.gz /export2/DATA/HIS/HIS_server/analysis/dwi_data/stats_alt_reg/FA/sub-261_in-MNI_FA_BEFORE-minus-AFTER.nii.gz\n",
      "fslmaths /export2/DATA/HIS/HIS_server/analysis/dwi_data/stats_alt_reg/MD/sub-262_in-MNI_ss6mm_MD_after.nii.gz -sub /export2/DATA/HIS/HIS_server/analysis/dwi_data/stats_alt_reg/MD/sub-262_in-MNI_ss6mm_MD_before.nii.gz /export2/DATA/HIS/HIS_server/analysis/dwi_data/stats_alt_reg/MD/sub-262_in-MNI_MD_AFTER-minus-BEFORE.nii.gz\n",
      "fslmaths /export2/DATA/HIS/HIS_server/analysis/dwi_data/stats_alt_reg/MD/sub-262_in-MNI_ss6mm_MD_before.nii.gz -sub /export2/DATA/HIS/HIS_server/analysis/dwi_data/stats_alt_reg/MD/sub-262_in-MNI_ss6mm_MD_after.nii.gz /export2/DATA/HIS/HIS_server/analysis/dwi_data/stats_alt_reg/MD/sub-262_in-MNI_MD_BEFORE-minus-AFTER.nii.gz\n",
      "fslmaths /export2/DATA/HIS/HIS_server/analysis/dwi_data/stats_alt_reg/FA/sub-262_in-MNI_ss6mm_FA_after.nii.gz -sub /export2/DATA/HIS/HIS_server/analysis/dwi_data/stats_alt_reg/FA/sub-262_in-MNI_ss6mm_FA_before.nii.gz /export2/DATA/HIS/HIS_server/analysis/dwi_data/stats_alt_reg/FA/sub-262_in-MNI_FA_AFTER-minus-BEFORE.nii.gz\n",
      "fslmaths /export2/DATA/HIS/HIS_server/analysis/dwi_data/stats_alt_reg/FA/sub-262_in-MNI_ss6mm_FA_before.nii.gz -sub /export2/DATA/HIS/HIS_server/analysis/dwi_data/stats_alt_reg/FA/sub-262_in-MNI_ss6mm_FA_after.nii.gz /export2/DATA/HIS/HIS_server/analysis/dwi_data/stats_alt_reg/FA/sub-262_in-MNI_FA_BEFORE-minus-AFTER.nii.gz\n",
      "fslmaths /export2/DATA/HIS/HIS_server/analysis/dwi_data/stats_alt_reg/MD/sub-263_in-MNI_ss6mm_MD_after.nii.gz -sub /export2/DATA/HIS/HIS_server/analysis/dwi_data/stats_alt_reg/MD/sub-263_in-MNI_ss6mm_MD_before.nii.gz /export2/DATA/HIS/HIS_server/analysis/dwi_data/stats_alt_reg/MD/sub-263_in-MNI_MD_AFTER-minus-BEFORE.nii.gz\n",
      "fslmaths /export2/DATA/HIS/HIS_server/analysis/dwi_data/stats_alt_reg/MD/sub-263_in-MNI_ss6mm_MD_before.nii.gz -sub /export2/DATA/HIS/HIS_server/analysis/dwi_data/stats_alt_reg/MD/sub-263_in-MNI_ss6mm_MD_after.nii.gz /export2/DATA/HIS/HIS_server/analysis/dwi_data/stats_alt_reg/MD/sub-263_in-MNI_MD_BEFORE-minus-AFTER.nii.gz\n",
      "fslmaths /export2/DATA/HIS/HIS_server/analysis/dwi_data/stats_alt_reg/FA/sub-263_in-MNI_ss6mm_FA_after.nii.gz -sub /export2/DATA/HIS/HIS_server/analysis/dwi_data/stats_alt_reg/FA/sub-263_in-MNI_ss6mm_FA_before.nii.gz /export2/DATA/HIS/HIS_server/analysis/dwi_data/stats_alt_reg/FA/sub-263_in-MNI_FA_AFTER-minus-BEFORE.nii.gz\n",
      "fslmaths /export2/DATA/HIS/HIS_server/analysis/dwi_data/stats_alt_reg/FA/sub-263_in-MNI_ss6mm_FA_before.nii.gz -sub /export2/DATA/HIS/HIS_server/analysis/dwi_data/stats_alt_reg/FA/sub-263_in-MNI_ss6mm_FA_after.nii.gz /export2/DATA/HIS/HIS_server/analysis/dwi_data/stats_alt_reg/FA/sub-263_in-MNI_FA_BEFORE-minus-AFTER.nii.gz\n",
      "fslmaths /export2/DATA/HIS/HIS_server/analysis/dwi_data/stats_alt_reg/MD/sub-264_in-MNI_ss6mm_MD_after.nii.gz -sub /export2/DATA/HIS/HIS_server/analysis/dwi_data/stats_alt_reg/MD/sub-264_in-MNI_ss6mm_MD_before.nii.gz /export2/DATA/HIS/HIS_server/analysis/dwi_data/stats_alt_reg/MD/sub-264_in-MNI_MD_AFTER-minus-BEFORE.nii.gz\n",
      "fslmaths /export2/DATA/HIS/HIS_server/analysis/dwi_data/stats_alt_reg/MD/sub-264_in-MNI_ss6mm_MD_before.nii.gz -sub /export2/DATA/HIS/HIS_server/analysis/dwi_data/stats_alt_reg/MD/sub-264_in-MNI_ss6mm_MD_after.nii.gz /export2/DATA/HIS/HIS_server/analysis/dwi_data/stats_alt_reg/MD/sub-264_in-MNI_MD_BEFORE-minus-AFTER.nii.gz\n",
      "fslmaths /export2/DATA/HIS/HIS_server/analysis/dwi_data/stats_alt_reg/FA/sub-264_in-MNI_ss6mm_FA_after.nii.gz -sub /export2/DATA/HIS/HIS_server/analysis/dwi_data/stats_alt_reg/FA/sub-264_in-MNI_ss6mm_FA_before.nii.gz /export2/DATA/HIS/HIS_server/analysis/dwi_data/stats_alt_reg/FA/sub-264_in-MNI_FA_AFTER-minus-BEFORE.nii.gz\n",
      "fslmaths /export2/DATA/HIS/HIS_server/analysis/dwi_data/stats_alt_reg/FA/sub-264_in-MNI_ss6mm_FA_before.nii.gz -sub /export2/DATA/HIS/HIS_server/analysis/dwi_data/stats_alt_reg/FA/sub-264_in-MNI_ss6mm_FA_after.nii.gz /export2/DATA/HIS/HIS_server/analysis/dwi_data/stats_alt_reg/FA/sub-264_in-MNI_FA_BEFORE-minus-AFTER.nii.gz\n",
      "fslmaths /export2/DATA/HIS/HIS_server/analysis/dwi_data/stats_alt_reg/MD/sub-265_in-MNI_ss6mm_MD_after.nii.gz -sub /export2/DATA/HIS/HIS_server/analysis/dwi_data/stats_alt_reg/MD/sub-265_in-MNI_ss6mm_MD_before.nii.gz /export2/DATA/HIS/HIS_server/analysis/dwi_data/stats_alt_reg/MD/sub-265_in-MNI_MD_AFTER-minus-BEFORE.nii.gz\n",
      "fslmaths /export2/DATA/HIS/HIS_server/analysis/dwi_data/stats_alt_reg/MD/sub-265_in-MNI_ss6mm_MD_before.nii.gz -sub /export2/DATA/HIS/HIS_server/analysis/dwi_data/stats_alt_reg/MD/sub-265_in-MNI_ss6mm_MD_after.nii.gz /export2/DATA/HIS/HIS_server/analysis/dwi_data/stats_alt_reg/MD/sub-265_in-MNI_MD_BEFORE-minus-AFTER.nii.gz\n",
      "fslmaths /export2/DATA/HIS/HIS_server/analysis/dwi_data/stats_alt_reg/FA/sub-265_in-MNI_ss6mm_FA_after.nii.gz -sub /export2/DATA/HIS/HIS_server/analysis/dwi_data/stats_alt_reg/FA/sub-265_in-MNI_ss6mm_FA_before.nii.gz /export2/DATA/HIS/HIS_server/analysis/dwi_data/stats_alt_reg/FA/sub-265_in-MNI_FA_AFTER-minus-BEFORE.nii.gz\n",
      "fslmaths /export2/DATA/HIS/HIS_server/analysis/dwi_data/stats_alt_reg/FA/sub-265_in-MNI_ss6mm_FA_before.nii.gz -sub /export2/DATA/HIS/HIS_server/analysis/dwi_data/stats_alt_reg/FA/sub-265_in-MNI_ss6mm_FA_after.nii.gz /export2/DATA/HIS/HIS_server/analysis/dwi_data/stats_alt_reg/FA/sub-265_in-MNI_FA_BEFORE-minus-AFTER.nii.gz\n",
      "fslmaths /export2/DATA/HIS/HIS_server/analysis/dwi_data/stats_alt_reg/MD/sub-267_in-MNI_ss6mm_MD_after.nii.gz -sub /export2/DATA/HIS/HIS_server/analysis/dwi_data/stats_alt_reg/MD/sub-267_in-MNI_ss6mm_MD_before.nii.gz /export2/DATA/HIS/HIS_server/analysis/dwi_data/stats_alt_reg/MD/sub-267_in-MNI_MD_AFTER-minus-BEFORE.nii.gz\n",
      "fslmaths /export2/DATA/HIS/HIS_server/analysis/dwi_data/stats_alt_reg/MD/sub-267_in-MNI_ss6mm_MD_before.nii.gz -sub /export2/DATA/HIS/HIS_server/analysis/dwi_data/stats_alt_reg/MD/sub-267_in-MNI_ss6mm_MD_after.nii.gz /export2/DATA/HIS/HIS_server/analysis/dwi_data/stats_alt_reg/MD/sub-267_in-MNI_MD_BEFORE-minus-AFTER.nii.gz\n",
      "fslmaths /export2/DATA/HIS/HIS_server/analysis/dwi_data/stats_alt_reg/FA/sub-267_in-MNI_ss6mm_FA_after.nii.gz -sub /export2/DATA/HIS/HIS_server/analysis/dwi_data/stats_alt_reg/FA/sub-267_in-MNI_ss6mm_FA_before.nii.gz /export2/DATA/HIS/HIS_server/analysis/dwi_data/stats_alt_reg/FA/sub-267_in-MNI_FA_AFTER-minus-BEFORE.nii.gz\n",
      "fslmaths /export2/DATA/HIS/HIS_server/analysis/dwi_data/stats_alt_reg/FA/sub-267_in-MNI_ss6mm_FA_before.nii.gz -sub /export2/DATA/HIS/HIS_server/analysis/dwi_data/stats_alt_reg/FA/sub-267_in-MNI_ss6mm_FA_after.nii.gz /export2/DATA/HIS/HIS_server/analysis/dwi_data/stats_alt_reg/FA/sub-267_in-MNI_FA_BEFORE-minus-AFTER.nii.gz\n",
      "fslmaths /export2/DATA/HIS/HIS_server/analysis/dwi_data/stats_alt_reg/MD/sub-268_in-MNI_ss6mm_MD_after.nii.gz -sub /export2/DATA/HIS/HIS_server/analysis/dwi_data/stats_alt_reg/MD/sub-268_in-MNI_ss6mm_MD_before.nii.gz /export2/DATA/HIS/HIS_server/analysis/dwi_data/stats_alt_reg/MD/sub-268_in-MNI_MD_AFTER-minus-BEFORE.nii.gz\n",
      "fslmaths /export2/DATA/HIS/HIS_server/analysis/dwi_data/stats_alt_reg/MD/sub-268_in-MNI_ss6mm_MD_before.nii.gz -sub /export2/DATA/HIS/HIS_server/analysis/dwi_data/stats_alt_reg/MD/sub-268_in-MNI_ss6mm_MD_after.nii.gz /export2/DATA/HIS/HIS_server/analysis/dwi_data/stats_alt_reg/MD/sub-268_in-MNI_MD_BEFORE-minus-AFTER.nii.gz\n",
      "fslmaths /export2/DATA/HIS/HIS_server/analysis/dwi_data/stats_alt_reg/FA/sub-268_in-MNI_ss6mm_FA_after.nii.gz -sub /export2/DATA/HIS/HIS_server/analysis/dwi_data/stats_alt_reg/FA/sub-268_in-MNI_ss6mm_FA_before.nii.gz /export2/DATA/HIS/HIS_server/analysis/dwi_data/stats_alt_reg/FA/sub-268_in-MNI_FA_AFTER-minus-BEFORE.nii.gz\n",
      "fslmaths /export2/DATA/HIS/HIS_server/analysis/dwi_data/stats_alt_reg/FA/sub-268_in-MNI_ss6mm_FA_before.nii.gz -sub /export2/DATA/HIS/HIS_server/analysis/dwi_data/stats_alt_reg/FA/sub-268_in-MNI_ss6mm_FA_after.nii.gz /export2/DATA/HIS/HIS_server/analysis/dwi_data/stats_alt_reg/FA/sub-268_in-MNI_FA_BEFORE-minus-AFTER.nii.gz\n",
      "fslmaths /export2/DATA/HIS/HIS_server/analysis/dwi_data/stats_alt_reg/MD/sub-269_in-MNI_ss6mm_MD_after.nii.gz -sub /export2/DATA/HIS/HIS_server/analysis/dwi_data/stats_alt_reg/MD/sub-269_in-MNI_ss6mm_MD_before.nii.gz /export2/DATA/HIS/HIS_server/analysis/dwi_data/stats_alt_reg/MD/sub-269_in-MNI_MD_AFTER-minus-BEFORE.nii.gz\n",
      "fslmaths /export2/DATA/HIS/HIS_server/analysis/dwi_data/stats_alt_reg/MD/sub-269_in-MNI_ss6mm_MD_before.nii.gz -sub /export2/DATA/HIS/HIS_server/analysis/dwi_data/stats_alt_reg/MD/sub-269_in-MNI_ss6mm_MD_after.nii.gz /export2/DATA/HIS/HIS_server/analysis/dwi_data/stats_alt_reg/MD/sub-269_in-MNI_MD_BEFORE-minus-AFTER.nii.gz\n",
      "fslmaths /export2/DATA/HIS/HIS_server/analysis/dwi_data/stats_alt_reg/FA/sub-269_in-MNI_ss6mm_FA_after.nii.gz -sub /export2/DATA/HIS/HIS_server/analysis/dwi_data/stats_alt_reg/FA/sub-269_in-MNI_ss6mm_FA_before.nii.gz /export2/DATA/HIS/HIS_server/analysis/dwi_data/stats_alt_reg/FA/sub-269_in-MNI_FA_AFTER-minus-BEFORE.nii.gz\n",
      "fslmaths /export2/DATA/HIS/HIS_server/analysis/dwi_data/stats_alt_reg/FA/sub-269_in-MNI_ss6mm_FA_before.nii.gz -sub /export2/DATA/HIS/HIS_server/analysis/dwi_data/stats_alt_reg/FA/sub-269_in-MNI_ss6mm_FA_after.nii.gz /export2/DATA/HIS/HIS_server/analysis/dwi_data/stats_alt_reg/FA/sub-269_in-MNI_FA_BEFORE-minus-AFTER.nii.gz\n",
      "fslmaths /export2/DATA/HIS/HIS_server/analysis/dwi_data/stats_alt_reg/MD/sub-270_in-MNI_ss6mm_MD_after.nii.gz -sub /export2/DATA/HIS/HIS_server/analysis/dwi_data/stats_alt_reg/MD/sub-270_in-MNI_ss6mm_MD_before.nii.gz /export2/DATA/HIS/HIS_server/analysis/dwi_data/stats_alt_reg/MD/sub-270_in-MNI_MD_AFTER-minus-BEFORE.nii.gz\n",
      "fslmaths /export2/DATA/HIS/HIS_server/analysis/dwi_data/stats_alt_reg/MD/sub-270_in-MNI_ss6mm_MD_before.nii.gz -sub /export2/DATA/HIS/HIS_server/analysis/dwi_data/stats_alt_reg/MD/sub-270_in-MNI_ss6mm_MD_after.nii.gz /export2/DATA/HIS/HIS_server/analysis/dwi_data/stats_alt_reg/MD/sub-270_in-MNI_MD_BEFORE-minus-AFTER.nii.gz\n",
      "fslmaths /export2/DATA/HIS/HIS_server/analysis/dwi_data/stats_alt_reg/FA/sub-270_in-MNI_ss6mm_FA_after.nii.gz -sub /export2/DATA/HIS/HIS_server/analysis/dwi_data/stats_alt_reg/FA/sub-270_in-MNI_ss6mm_FA_before.nii.gz /export2/DATA/HIS/HIS_server/analysis/dwi_data/stats_alt_reg/FA/sub-270_in-MNI_FA_AFTER-minus-BEFORE.nii.gz\n",
      "fslmaths /export2/DATA/HIS/HIS_server/analysis/dwi_data/stats_alt_reg/FA/sub-270_in-MNI_ss6mm_FA_before.nii.gz -sub /export2/DATA/HIS/HIS_server/analysis/dwi_data/stats_alt_reg/FA/sub-270_in-MNI_ss6mm_FA_after.nii.gz /export2/DATA/HIS/HIS_server/analysis/dwi_data/stats_alt_reg/FA/sub-270_in-MNI_FA_BEFORE-minus-AFTER.nii.gz\n",
      "fslmaths /export2/DATA/HIS/HIS_server/analysis/dwi_data/stats_alt_reg/MD/sub-271_in-MNI_ss6mm_MD_after.nii.gz -sub /export2/DATA/HIS/HIS_server/analysis/dwi_data/stats_alt_reg/MD/sub-271_in-MNI_ss6mm_MD_before.nii.gz /export2/DATA/HIS/HIS_server/analysis/dwi_data/stats_alt_reg/MD/sub-271_in-MNI_MD_AFTER-minus-BEFORE.nii.gz\n",
      "fslmaths /export2/DATA/HIS/HIS_server/analysis/dwi_data/stats_alt_reg/MD/sub-271_in-MNI_ss6mm_MD_before.nii.gz -sub /export2/DATA/HIS/HIS_server/analysis/dwi_data/stats_alt_reg/MD/sub-271_in-MNI_ss6mm_MD_after.nii.gz /export2/DATA/HIS/HIS_server/analysis/dwi_data/stats_alt_reg/MD/sub-271_in-MNI_MD_BEFORE-minus-AFTER.nii.gz\n",
      "fslmaths /export2/DATA/HIS/HIS_server/analysis/dwi_data/stats_alt_reg/FA/sub-271_in-MNI_ss6mm_FA_after.nii.gz -sub /export2/DATA/HIS/HIS_server/analysis/dwi_data/stats_alt_reg/FA/sub-271_in-MNI_ss6mm_FA_before.nii.gz /export2/DATA/HIS/HIS_server/analysis/dwi_data/stats_alt_reg/FA/sub-271_in-MNI_FA_AFTER-minus-BEFORE.nii.gz\n",
      "fslmaths /export2/DATA/HIS/HIS_server/analysis/dwi_data/stats_alt_reg/FA/sub-271_in-MNI_ss6mm_FA_before.nii.gz -sub /export2/DATA/HIS/HIS_server/analysis/dwi_data/stats_alt_reg/FA/sub-271_in-MNI_ss6mm_FA_after.nii.gz /export2/DATA/HIS/HIS_server/analysis/dwi_data/stats_alt_reg/FA/sub-271_in-MNI_FA_BEFORE-minus-AFTER.nii.gz\n",
      "fslmaths /export2/DATA/HIS/HIS_server/analysis/dwi_data/stats_alt_reg/MD/sub-272_in-MNI_ss6mm_MD_after.nii.gz -sub /export2/DATA/HIS/HIS_server/analysis/dwi_data/stats_alt_reg/MD/sub-272_in-MNI_ss6mm_MD_before.nii.gz /export2/DATA/HIS/HIS_server/analysis/dwi_data/stats_alt_reg/MD/sub-272_in-MNI_MD_AFTER-minus-BEFORE.nii.gz\n",
      "fslmaths /export2/DATA/HIS/HIS_server/analysis/dwi_data/stats_alt_reg/MD/sub-272_in-MNI_ss6mm_MD_before.nii.gz -sub /export2/DATA/HIS/HIS_server/analysis/dwi_data/stats_alt_reg/MD/sub-272_in-MNI_ss6mm_MD_after.nii.gz /export2/DATA/HIS/HIS_server/analysis/dwi_data/stats_alt_reg/MD/sub-272_in-MNI_MD_BEFORE-minus-AFTER.nii.gz\n",
      "fslmaths /export2/DATA/HIS/HIS_server/analysis/dwi_data/stats_alt_reg/FA/sub-272_in-MNI_ss6mm_FA_after.nii.gz -sub /export2/DATA/HIS/HIS_server/analysis/dwi_data/stats_alt_reg/FA/sub-272_in-MNI_ss6mm_FA_before.nii.gz /export2/DATA/HIS/HIS_server/analysis/dwi_data/stats_alt_reg/FA/sub-272_in-MNI_FA_AFTER-minus-BEFORE.nii.gz\n",
      "fslmaths /export2/DATA/HIS/HIS_server/analysis/dwi_data/stats_alt_reg/FA/sub-272_in-MNI_ss6mm_FA_before.nii.gz -sub /export2/DATA/HIS/HIS_server/analysis/dwi_data/stats_alt_reg/FA/sub-272_in-MNI_ss6mm_FA_after.nii.gz /export2/DATA/HIS/HIS_server/analysis/dwi_data/stats_alt_reg/FA/sub-272_in-MNI_FA_BEFORE-minus-AFTER.nii.gz\n",
      "fslmaths /export2/DATA/HIS/HIS_server/analysis/dwi_data/stats_alt_reg/MD/sub-275_in-MNI_ss6mm_MD_after.nii.gz -sub /export2/DATA/HIS/HIS_server/analysis/dwi_data/stats_alt_reg/MD/sub-275_in-MNI_ss6mm_MD_before.nii.gz /export2/DATA/HIS/HIS_server/analysis/dwi_data/stats_alt_reg/MD/sub-275_in-MNI_MD_AFTER-minus-BEFORE.nii.gz\n",
      "fslmaths /export2/DATA/HIS/HIS_server/analysis/dwi_data/stats_alt_reg/MD/sub-275_in-MNI_ss6mm_MD_before.nii.gz -sub /export2/DATA/HIS/HIS_server/analysis/dwi_data/stats_alt_reg/MD/sub-275_in-MNI_ss6mm_MD_after.nii.gz /export2/DATA/HIS/HIS_server/analysis/dwi_data/stats_alt_reg/MD/sub-275_in-MNI_MD_BEFORE-minus-AFTER.nii.gz\n",
      "fslmaths /export2/DATA/HIS/HIS_server/analysis/dwi_data/stats_alt_reg/FA/sub-275_in-MNI_ss6mm_FA_after.nii.gz -sub /export2/DATA/HIS/HIS_server/analysis/dwi_data/stats_alt_reg/FA/sub-275_in-MNI_ss6mm_FA_before.nii.gz /export2/DATA/HIS/HIS_server/analysis/dwi_data/stats_alt_reg/FA/sub-275_in-MNI_FA_AFTER-minus-BEFORE.nii.gz\n",
      "fslmaths /export2/DATA/HIS/HIS_server/analysis/dwi_data/stats_alt_reg/FA/sub-275_in-MNI_ss6mm_FA_before.nii.gz -sub /export2/DATA/HIS/HIS_server/analysis/dwi_data/stats_alt_reg/FA/sub-275_in-MNI_ss6mm_FA_after.nii.gz /export2/DATA/HIS/HIS_server/analysis/dwi_data/stats_alt_reg/FA/sub-275_in-MNI_FA_BEFORE-minus-AFTER.nii.gz\n",
      "fslmaths /export2/DATA/HIS/HIS_server/analysis/dwi_data/stats_alt_reg/MD/sub-276_in-MNI_ss6mm_MD_after.nii.gz -sub /export2/DATA/HIS/HIS_server/analysis/dwi_data/stats_alt_reg/MD/sub-276_in-MNI_ss6mm_MD_before.nii.gz /export2/DATA/HIS/HIS_server/analysis/dwi_data/stats_alt_reg/MD/sub-276_in-MNI_MD_AFTER-minus-BEFORE.nii.gz\n",
      "fslmaths /export2/DATA/HIS/HIS_server/analysis/dwi_data/stats_alt_reg/MD/sub-276_in-MNI_ss6mm_MD_before.nii.gz -sub /export2/DATA/HIS/HIS_server/analysis/dwi_data/stats_alt_reg/MD/sub-276_in-MNI_ss6mm_MD_after.nii.gz /export2/DATA/HIS/HIS_server/analysis/dwi_data/stats_alt_reg/MD/sub-276_in-MNI_MD_BEFORE-minus-AFTER.nii.gz\n",
      "fslmaths /export2/DATA/HIS/HIS_server/analysis/dwi_data/stats_alt_reg/FA/sub-276_in-MNI_ss6mm_FA_after.nii.gz -sub /export2/DATA/HIS/HIS_server/analysis/dwi_data/stats_alt_reg/FA/sub-276_in-MNI_ss6mm_FA_before.nii.gz /export2/DATA/HIS/HIS_server/analysis/dwi_data/stats_alt_reg/FA/sub-276_in-MNI_FA_AFTER-minus-BEFORE.nii.gz\n",
      "fslmaths /export2/DATA/HIS/HIS_server/analysis/dwi_data/stats_alt_reg/FA/sub-276_in-MNI_ss6mm_FA_before.nii.gz -sub /export2/DATA/HIS/HIS_server/analysis/dwi_data/stats_alt_reg/FA/sub-276_in-MNI_ss6mm_FA_after.nii.gz /export2/DATA/HIS/HIS_server/analysis/dwi_data/stats_alt_reg/FA/sub-276_in-MNI_FA_BEFORE-minus-AFTER.nii.gz\n",
      "fslmaths /export2/DATA/HIS/HIS_server/analysis/dwi_data/stats_alt_reg/MD/sub-277_in-MNI_ss6mm_MD_after.nii.gz -sub /export2/DATA/HIS/HIS_server/analysis/dwi_data/stats_alt_reg/MD/sub-277_in-MNI_ss6mm_MD_before.nii.gz /export2/DATA/HIS/HIS_server/analysis/dwi_data/stats_alt_reg/MD/sub-277_in-MNI_MD_AFTER-minus-BEFORE.nii.gz\n",
      "fslmaths /export2/DATA/HIS/HIS_server/analysis/dwi_data/stats_alt_reg/MD/sub-277_in-MNI_ss6mm_MD_before.nii.gz -sub /export2/DATA/HIS/HIS_server/analysis/dwi_data/stats_alt_reg/MD/sub-277_in-MNI_ss6mm_MD_after.nii.gz /export2/DATA/HIS/HIS_server/analysis/dwi_data/stats_alt_reg/MD/sub-277_in-MNI_MD_BEFORE-minus-AFTER.nii.gz\n",
      "fslmaths /export2/DATA/HIS/HIS_server/analysis/dwi_data/stats_alt_reg/FA/sub-277_in-MNI_ss6mm_FA_after.nii.gz -sub /export2/DATA/HIS/HIS_server/analysis/dwi_data/stats_alt_reg/FA/sub-277_in-MNI_ss6mm_FA_before.nii.gz /export2/DATA/HIS/HIS_server/analysis/dwi_data/stats_alt_reg/FA/sub-277_in-MNI_FA_AFTER-minus-BEFORE.nii.gz\n",
      "fslmaths /export2/DATA/HIS/HIS_server/analysis/dwi_data/stats_alt_reg/FA/sub-277_in-MNI_ss6mm_FA_before.nii.gz -sub /export2/DATA/HIS/HIS_server/analysis/dwi_data/stats_alt_reg/FA/sub-277_in-MNI_ss6mm_FA_after.nii.gz /export2/DATA/HIS/HIS_server/analysis/dwi_data/stats_alt_reg/FA/sub-277_in-MNI_FA_BEFORE-minus-AFTER.nii.gz\n",
      "fslmaths /export2/DATA/HIS/HIS_server/analysis/dwi_data/stats_alt_reg/MD/sub-278_in-MNI_ss6mm_MD_after.nii.gz -sub /export2/DATA/HIS/HIS_server/analysis/dwi_data/stats_alt_reg/MD/sub-278_in-MNI_ss6mm_MD_before.nii.gz /export2/DATA/HIS/HIS_server/analysis/dwi_data/stats_alt_reg/MD/sub-278_in-MNI_MD_AFTER-minus-BEFORE.nii.gz\n",
      "fslmaths /export2/DATA/HIS/HIS_server/analysis/dwi_data/stats_alt_reg/MD/sub-278_in-MNI_ss6mm_MD_before.nii.gz -sub /export2/DATA/HIS/HIS_server/analysis/dwi_data/stats_alt_reg/MD/sub-278_in-MNI_ss6mm_MD_after.nii.gz /export2/DATA/HIS/HIS_server/analysis/dwi_data/stats_alt_reg/MD/sub-278_in-MNI_MD_BEFORE-minus-AFTER.nii.gz\n",
      "fslmaths /export2/DATA/HIS/HIS_server/analysis/dwi_data/stats_alt_reg/FA/sub-278_in-MNI_ss6mm_FA_after.nii.gz -sub /export2/DATA/HIS/HIS_server/analysis/dwi_data/stats_alt_reg/FA/sub-278_in-MNI_ss6mm_FA_before.nii.gz /export2/DATA/HIS/HIS_server/analysis/dwi_data/stats_alt_reg/FA/sub-278_in-MNI_FA_AFTER-minus-BEFORE.nii.gz\n",
      "fslmaths /export2/DATA/HIS/HIS_server/analysis/dwi_data/stats_alt_reg/FA/sub-278_in-MNI_ss6mm_FA_before.nii.gz -sub /export2/DATA/HIS/HIS_server/analysis/dwi_data/stats_alt_reg/FA/sub-278_in-MNI_ss6mm_FA_after.nii.gz /export2/DATA/HIS/HIS_server/analysis/dwi_data/stats_alt_reg/FA/sub-278_in-MNI_FA_BEFORE-minus-AFTER.nii.gz\n",
      "fslmaths /export2/DATA/HIS/HIS_server/analysis/dwi_data/stats_alt_reg/MD/sub-280_in-MNI_ss6mm_MD_after.nii.gz -sub /export2/DATA/HIS/HIS_server/analysis/dwi_data/stats_alt_reg/MD/sub-280_in-MNI_ss6mm_MD_before.nii.gz /export2/DATA/HIS/HIS_server/analysis/dwi_data/stats_alt_reg/MD/sub-280_in-MNI_MD_AFTER-minus-BEFORE.nii.gz\n",
      "fslmaths /export2/DATA/HIS/HIS_server/analysis/dwi_data/stats_alt_reg/MD/sub-280_in-MNI_ss6mm_MD_before.nii.gz -sub /export2/DATA/HIS/HIS_server/analysis/dwi_data/stats_alt_reg/MD/sub-280_in-MNI_ss6mm_MD_after.nii.gz /export2/DATA/HIS/HIS_server/analysis/dwi_data/stats_alt_reg/MD/sub-280_in-MNI_MD_BEFORE-minus-AFTER.nii.gz\n",
      "fslmaths /export2/DATA/HIS/HIS_server/analysis/dwi_data/stats_alt_reg/FA/sub-280_in-MNI_ss6mm_FA_after.nii.gz -sub /export2/DATA/HIS/HIS_server/analysis/dwi_data/stats_alt_reg/FA/sub-280_in-MNI_ss6mm_FA_before.nii.gz /export2/DATA/HIS/HIS_server/analysis/dwi_data/stats_alt_reg/FA/sub-280_in-MNI_FA_AFTER-minus-BEFORE.nii.gz\n",
      "fslmaths /export2/DATA/HIS/HIS_server/analysis/dwi_data/stats_alt_reg/FA/sub-280_in-MNI_ss6mm_FA_before.nii.gz -sub /export2/DATA/HIS/HIS_server/analysis/dwi_data/stats_alt_reg/FA/sub-280_in-MNI_ss6mm_FA_after.nii.gz /export2/DATA/HIS/HIS_server/analysis/dwi_data/stats_alt_reg/FA/sub-280_in-MNI_FA_BEFORE-minus-AFTER.nii.gz\n",
      "fslmaths /export2/DATA/HIS/HIS_server/analysis/dwi_data/stats_alt_reg/MD/sub-281_in-MNI_ss6mm_MD_after.nii.gz -sub /export2/DATA/HIS/HIS_server/analysis/dwi_data/stats_alt_reg/MD/sub-281_in-MNI_ss6mm_MD_before.nii.gz /export2/DATA/HIS/HIS_server/analysis/dwi_data/stats_alt_reg/MD/sub-281_in-MNI_MD_AFTER-minus-BEFORE.nii.gz\n",
      "fslmaths /export2/DATA/HIS/HIS_server/analysis/dwi_data/stats_alt_reg/MD/sub-281_in-MNI_ss6mm_MD_before.nii.gz -sub /export2/DATA/HIS/HIS_server/analysis/dwi_data/stats_alt_reg/MD/sub-281_in-MNI_ss6mm_MD_after.nii.gz /export2/DATA/HIS/HIS_server/analysis/dwi_data/stats_alt_reg/MD/sub-281_in-MNI_MD_BEFORE-minus-AFTER.nii.gz\n",
      "fslmaths /export2/DATA/HIS/HIS_server/analysis/dwi_data/stats_alt_reg/FA/sub-281_in-MNI_ss6mm_FA_after.nii.gz -sub /export2/DATA/HIS/HIS_server/analysis/dwi_data/stats_alt_reg/FA/sub-281_in-MNI_ss6mm_FA_before.nii.gz /export2/DATA/HIS/HIS_server/analysis/dwi_data/stats_alt_reg/FA/sub-281_in-MNI_FA_AFTER-minus-BEFORE.nii.gz\n",
      "fslmaths /export2/DATA/HIS/HIS_server/analysis/dwi_data/stats_alt_reg/FA/sub-281_in-MNI_ss6mm_FA_before.nii.gz -sub /export2/DATA/HIS/HIS_server/analysis/dwi_data/stats_alt_reg/FA/sub-281_in-MNI_ss6mm_FA_after.nii.gz /export2/DATA/HIS/HIS_server/analysis/dwi_data/stats_alt_reg/FA/sub-281_in-MNI_FA_BEFORE-minus-AFTER.nii.gz\n",
      "fslmaths /export2/DATA/HIS/HIS_server/analysis/dwi_data/stats_alt_reg/MD/sub-282_in-MNI_ss6mm_MD_after.nii.gz -sub /export2/DATA/HIS/HIS_server/analysis/dwi_data/stats_alt_reg/MD/sub-282_in-MNI_ss6mm_MD_before.nii.gz /export2/DATA/HIS/HIS_server/analysis/dwi_data/stats_alt_reg/MD/sub-282_in-MNI_MD_AFTER-minus-BEFORE.nii.gz\n",
      "fslmaths /export2/DATA/HIS/HIS_server/analysis/dwi_data/stats_alt_reg/MD/sub-282_in-MNI_ss6mm_MD_before.nii.gz -sub /export2/DATA/HIS/HIS_server/analysis/dwi_data/stats_alt_reg/MD/sub-282_in-MNI_ss6mm_MD_after.nii.gz /export2/DATA/HIS/HIS_server/analysis/dwi_data/stats_alt_reg/MD/sub-282_in-MNI_MD_BEFORE-minus-AFTER.nii.gz\n",
      "fslmaths /export2/DATA/HIS/HIS_server/analysis/dwi_data/stats_alt_reg/FA/sub-282_in-MNI_ss6mm_FA_after.nii.gz -sub /export2/DATA/HIS/HIS_server/analysis/dwi_data/stats_alt_reg/FA/sub-282_in-MNI_ss6mm_FA_before.nii.gz /export2/DATA/HIS/HIS_server/analysis/dwi_data/stats_alt_reg/FA/sub-282_in-MNI_FA_AFTER-minus-BEFORE.nii.gz\n",
      "fslmaths /export2/DATA/HIS/HIS_server/analysis/dwi_data/stats_alt_reg/FA/sub-282_in-MNI_ss6mm_FA_before.nii.gz -sub /export2/DATA/HIS/HIS_server/analysis/dwi_data/stats_alt_reg/FA/sub-282_in-MNI_ss6mm_FA_after.nii.gz /export2/DATA/HIS/HIS_server/analysis/dwi_data/stats_alt_reg/FA/sub-282_in-MNI_FA_BEFORE-minus-AFTER.nii.gz\n",
      "fslmaths /export2/DATA/HIS/HIS_server/analysis/dwi_data/stats_alt_reg/MD/sub-283_in-MNI_ss6mm_MD_after.nii.gz -sub /export2/DATA/HIS/HIS_server/analysis/dwi_data/stats_alt_reg/MD/sub-283_in-MNI_ss6mm_MD_before.nii.gz /export2/DATA/HIS/HIS_server/analysis/dwi_data/stats_alt_reg/MD/sub-283_in-MNI_MD_AFTER-minus-BEFORE.nii.gz\n",
      "fslmaths /export2/DATA/HIS/HIS_server/analysis/dwi_data/stats_alt_reg/MD/sub-283_in-MNI_ss6mm_MD_before.nii.gz -sub /export2/DATA/HIS/HIS_server/analysis/dwi_data/stats_alt_reg/MD/sub-283_in-MNI_ss6mm_MD_after.nii.gz /export2/DATA/HIS/HIS_server/analysis/dwi_data/stats_alt_reg/MD/sub-283_in-MNI_MD_BEFORE-minus-AFTER.nii.gz\n",
      "fslmaths /export2/DATA/HIS/HIS_server/analysis/dwi_data/stats_alt_reg/FA/sub-283_in-MNI_ss6mm_FA_after.nii.gz -sub /export2/DATA/HIS/HIS_server/analysis/dwi_data/stats_alt_reg/FA/sub-283_in-MNI_ss6mm_FA_before.nii.gz /export2/DATA/HIS/HIS_server/analysis/dwi_data/stats_alt_reg/FA/sub-283_in-MNI_FA_AFTER-minus-BEFORE.nii.gz\n",
      "fslmaths /export2/DATA/HIS/HIS_server/analysis/dwi_data/stats_alt_reg/FA/sub-283_in-MNI_ss6mm_FA_before.nii.gz -sub /export2/DATA/HIS/HIS_server/analysis/dwi_data/stats_alt_reg/FA/sub-283_in-MNI_ss6mm_FA_after.nii.gz /export2/DATA/HIS/HIS_server/analysis/dwi_data/stats_alt_reg/FA/sub-283_in-MNI_FA_BEFORE-minus-AFTER.nii.gz\n",
      "fslmaths /export2/DATA/HIS/HIS_server/analysis/dwi_data/stats_alt_reg/MD/sub-284_in-MNI_ss6mm_MD_after.nii.gz -sub /export2/DATA/HIS/HIS_server/analysis/dwi_data/stats_alt_reg/MD/sub-284_in-MNI_ss6mm_MD_before.nii.gz /export2/DATA/HIS/HIS_server/analysis/dwi_data/stats_alt_reg/MD/sub-284_in-MNI_MD_AFTER-minus-BEFORE.nii.gz\n",
      "fslmaths /export2/DATA/HIS/HIS_server/analysis/dwi_data/stats_alt_reg/MD/sub-284_in-MNI_ss6mm_MD_before.nii.gz -sub /export2/DATA/HIS/HIS_server/analysis/dwi_data/stats_alt_reg/MD/sub-284_in-MNI_ss6mm_MD_after.nii.gz /export2/DATA/HIS/HIS_server/analysis/dwi_data/stats_alt_reg/MD/sub-284_in-MNI_MD_BEFORE-minus-AFTER.nii.gz\n",
      "fslmaths /export2/DATA/HIS/HIS_server/analysis/dwi_data/stats_alt_reg/FA/sub-284_in-MNI_ss6mm_FA_after.nii.gz -sub /export2/DATA/HIS/HIS_server/analysis/dwi_data/stats_alt_reg/FA/sub-284_in-MNI_ss6mm_FA_before.nii.gz /export2/DATA/HIS/HIS_server/analysis/dwi_data/stats_alt_reg/FA/sub-284_in-MNI_FA_AFTER-minus-BEFORE.nii.gz\n",
      "fslmaths /export2/DATA/HIS/HIS_server/analysis/dwi_data/stats_alt_reg/FA/sub-284_in-MNI_ss6mm_FA_before.nii.gz -sub /export2/DATA/HIS/HIS_server/analysis/dwi_data/stats_alt_reg/FA/sub-284_in-MNI_ss6mm_FA_after.nii.gz /export2/DATA/HIS/HIS_server/analysis/dwi_data/stats_alt_reg/FA/sub-284_in-MNI_FA_BEFORE-minus-AFTER.nii.gz\n",
      "fslmaths /export2/DATA/HIS/HIS_server/analysis/dwi_data/stats_alt_reg/MD/sub-285_in-MNI_ss6mm_MD_after.nii.gz -sub /export2/DATA/HIS/HIS_server/analysis/dwi_data/stats_alt_reg/MD/sub-285_in-MNI_ss6mm_MD_before.nii.gz /export2/DATA/HIS/HIS_server/analysis/dwi_data/stats_alt_reg/MD/sub-285_in-MNI_MD_AFTER-minus-BEFORE.nii.gz\n",
      "fslmaths /export2/DATA/HIS/HIS_server/analysis/dwi_data/stats_alt_reg/MD/sub-285_in-MNI_ss6mm_MD_before.nii.gz -sub /export2/DATA/HIS/HIS_server/analysis/dwi_data/stats_alt_reg/MD/sub-285_in-MNI_ss6mm_MD_after.nii.gz /export2/DATA/HIS/HIS_server/analysis/dwi_data/stats_alt_reg/MD/sub-285_in-MNI_MD_BEFORE-minus-AFTER.nii.gz\n",
      "fslmaths /export2/DATA/HIS/HIS_server/analysis/dwi_data/stats_alt_reg/FA/sub-285_in-MNI_ss6mm_FA_after.nii.gz -sub /export2/DATA/HIS/HIS_server/analysis/dwi_data/stats_alt_reg/FA/sub-285_in-MNI_ss6mm_FA_before.nii.gz /export2/DATA/HIS/HIS_server/analysis/dwi_data/stats_alt_reg/FA/sub-285_in-MNI_FA_AFTER-minus-BEFORE.nii.gz\n",
      "fslmaths /export2/DATA/HIS/HIS_server/analysis/dwi_data/stats_alt_reg/FA/sub-285_in-MNI_ss6mm_FA_before.nii.gz -sub /export2/DATA/HIS/HIS_server/analysis/dwi_data/stats_alt_reg/FA/sub-285_in-MNI_ss6mm_FA_after.nii.gz /export2/DATA/HIS/HIS_server/analysis/dwi_data/stats_alt_reg/FA/sub-285_in-MNI_FA_BEFORE-minus-AFTER.nii.gz\n"
     ]
    }
   ],
   "source": [
    "print('> Calculate the difference of AFTER minus BEFORE and BEFORE minus AFTER for the MD and FA maps')\n",
    "for subjFolder in subjFoldersDTI:\n",
    "    if not os.path.exists(os.path.join(stats_path, 'MD', f'{subjFolder}_in-MNI_ss6mm_MD_AFTER-minus-BEFORE.nii.gz')) \\\n",
    "    or not os.path.exists(os.path.join(stats_path, 'FA', f'{subjFolder}_in-MNI_ss6mm_FA_AFTER-minus-BEFORE.nii.gz')) \\\n",
    "    or not os.path.exists(os.path.join(stats_path, 'MD', f'{subjFolder}_in-MNI_ss6mm_MD_BEFORE-minus-AFTER.nii.gz')) \\\n",
    "    or not os.path.exists(os.path.join(stats_path, 'FA', f'{subjFolder}_in-MNI_ss6mm_FA_BEFORE-minus-AFTER.nii.gz')):      \n",
    "     \n",
    "        for map_type in ['MD','FA']:          \n",
    "            substraction_command = f\"fslmaths {os.path.join(stats_path, map_type, f'{subjFolder}_in-MNI_ss6mm_{map_type}_after.nii.gz')} -sub {os.path.join(stats_path, map_type, f'{subjFolder}_in-MNI_ss6mm_{map_type}_before.nii.gz')} {os.path.join(stats_path, map_type, f'{subjFolder}_in-MNI_{map_type}_AFTER-minus-BEFORE.nii.gz')}\"\n",
    "            print(substraction_command)\n",
    "            os.system(substraction_command)    \n",
    "            substraction_command2 = f\"fslmaths {os.path.join(stats_path, map_type, f'{subjFolder}_in-MNI_ss6mm_{map_type}_before.nii.gz')} -sub {os.path.join(stats_path, map_type, f'{subjFolder}_in-MNI_ss6mm_{map_type}_after.nii.gz')} {os.path.join(stats_path, map_type, f'{subjFolder}_in-MNI_{map_type}_BEFORE-minus-AFTER.nii.gz')}\"\n",
    "            print(substraction_command2)\n",
    "            os.system(substraction_command2)    "
   ]
  },
  {
   "cell_type": "code",
   "execution_count": 33,
   "metadata": {},
   "outputs": [
    {
     "name": "stdout",
     "output_type": "stream",
     "text": [
      "> Create one file with all subjects of AFTER minus BEFORE and one withh all Before minus AFTER for the MD and FA maps\n",
      "fslmerge -t /export2/DATA/HIS/HIS_server/analysis/dwi_data/stats_alt_reg/MD/ALL_SUBJECTS_AFTER_minus_BEFORE_MD `ls /export2/DATA/HIS/HIS_server/analysis/dwi_data/stats_alt_reg/MD/*in-MNI_MD_AFTER-minus-BEFORE.nii.gz`\n",
      "fslmerge -t /export2/DATA/HIS/HIS_server/analysis/dwi_data/stats_alt_reg/MD/ALL_SUBJECTS_BEFORE_minus_AFTER_MD `ls /export2/DATA/HIS/HIS_server/analysis/dwi_data/stats_alt_reg/MD/*in-MNI_MD_BEFORE-minus-AFTER.nii.gz`\n",
      "fslmerge -t /export2/DATA/HIS/HIS_server/analysis/dwi_data/stats_alt_reg/FA/ALL_SUBJECTS_AFTER_minus_BEFORE_FA `ls /export2/DATA/HIS/HIS_server/analysis/dwi_data/stats_alt_reg/FA/*in-MNI_FA_AFTER-minus-BEFORE.nii.gz`\n",
      "fslmerge -t /export2/DATA/HIS/HIS_server/analysis/dwi_data/stats_alt_reg/FA/ALL_SUBJECTS_BEFORE_minus_AFTER_FA `ls /export2/DATA/HIS/HIS_server/analysis/dwi_data/stats_alt_reg/FA/*in-MNI_FA_BEFORE-minus-AFTER.nii.gz`\n"
     ]
    }
   ],
   "source": [
    "print('> Create one file with all subjects of AFTER minus BEFORE and one withh all Before minus AFTER for the MD and FA maps')\n",
    "for map_type in ['MD','FA']:          \n",
    "    print(f\"fslmerge -t {os.path.join(stats_path, map_type, f'ALL_SUBJECTS_AFTER_minus_BEFORE_{map_type}')} `ls {os.path.join(stats_path, map_type, f'*in-MNI_{map_type}_AFTER-minus-BEFORE.nii.gz')}`\")\n",
    "    os.system(f\"fslmerge -t {os.path.join(stats_path, map_type, f'ALL_SUBJECTS_AFTER_minus_BEFORE_{map_type}')} `ls {os.path.join(stats_path, map_type, f'*in-MNI_{map_type}_AFTER-minus-BEFORE.nii.gz')}`\")\n",
    "    print(f\"fslmerge -t {os.path.join(stats_path, map_type, f'ALL_SUBJECTS_BEFORE_minus_AFTER_{map_type}')} `ls {os.path.join(stats_path, map_type, f'*in-MNI_{map_type}_BEFORE-minus-AFTER.nii.gz')}`\")\n",
    "    os.system(f\"fslmerge -t {os.path.join(stats_path, map_type, f'ALL_SUBJECTS_BEFORE_minus_AFTER_{map_type}')} `ls {os.path.join(stats_path, map_type, f'*in-MNI_{map_type}_BEFORE-minus-AFTER.nii.gz')}`\")"
   ]
  },
  {
   "cell_type": "code",
   "execution_count": 34,
   "metadata": {},
   "outputs": [
    {
     "name": "stdout",
     "output_type": "stream",
     "text": [
      "> Create the between group design matrix (of the calculated differences) - same is unpaired t-test (on the after-before differences)\n",
      "design_ttest2 /export2/DATA/HIS/HIS_server/analysis/dwi_data/stats_alt_reg/models/between_groups/design_unpaired_ttest 61 60\n"
     ]
    },
    {
     "data": {
      "text/plain": [
       "0"
      ]
     },
     "execution_count": 34,
     "metadata": {},
     "output_type": "execute_result"
    }
   ],
   "source": [
    "print('> Create the between group design matrix (of the calculated differences) - same is unpaired t-test (on the after-before differences)')\n",
    "# create the folder\n",
    "try:\n",
    "    os.makedirs(os.path.join(models_path, 'between_groups'), exist_ok=False)\n",
    "    print('>> Created folder: ' + os.path.join(models_path, 'between_groups'))\n",
    "except:\n",
    "    pass\n",
    "\n",
    "#create the design matrix and contrasts:\n",
    "N_1_day_group = len(set([sub for sub in subjFoldersDTI if int(sub.split('-')[-1])<200]))\n",
    "N_3_day_group = len(set([sub for sub in subjFoldersDTI if int(sub.split('-')[-1])>200]))\n",
    "\n",
    "print(f\"design_ttest2 {os.path.join(models_path, 'between_groups','design_unpaired_ttest')} {N_1_day_group} {N_3_day_group}\")\n",
    "os.system(f\"design_ttest2 {os.path.join(models_path, 'between_groups','design_unpaired_ttest')} {N_1_day_group} {N_3_day_group}\")"
   ]
  },
  {
   "cell_type": "markdown",
   "metadata": {},
   "source": [
    "### Settings"
   ]
  },
  {
   "cell_type": "code",
   "execution_count": 10,
   "metadata": {},
   "outputs": [],
   "source": [
    "# a function to run randomise for the between-group analyses:\n",
    "def runRandomiseGroupAnalysis(map_type, region):\n",
    "    print(f'Running randomise for between-groups analysis:\\n--- {map_type} | {region} ---\\n')\n",
    "    #print(f'MAKE SURE TO REPLACE IN THE FUNCTION THE the print to os.system before running the command !!!\\n')\n",
    "    os.system(f\"randomise_parallel \\\n",
    "        -i {os.path.join(stats_path, map_type, f'ALL_SUBJECTS_AFTER_minus_BEFORE_{map_type}')} \\\n",
    "        -o {os.path.join(stats_path, map_type, f'ALL_SUBJECTS_AFTER_minus_BEFORE_{map_type}_{region}')} \\\n",
    "        {'' if region=='whole_brain' else f'-m {masks_paths[region]}'} \\\n",
    "        -d {os.path.join(stats_path, 'models', 'between_groups', f'design_unpaired_ttest.mat')} \\\n",
    "        -t {os.path.join(stats_path, 'models', 'between_groups', f'design_unpaired_ttest.con')}  \\\n",
    "        -n 6000 -C 3.1\")\n",
    "\n",
    "# Get cluster info:\n",
    "def getClusterInfoGroupAnalysis(map_type, region, ReversedSigThresh='0.90'):\n",
    "    print(f'Testing stats for between-group analysis:\\n--- {map_type} | {region} ---\\n')\n",
    "    print(f'Test 1-Day > 3-Day\\n')\n",
    "    # * Increase in FA in the 1-day relatvie to the 3-days (or a decrease in the 3-day...)\n",
    "    print(os.popen(f'cluster \\\n",
    "        -i {os.path.join(stats_path, map_type, f\"ALL_SUBJECTS_AFTER_minus_BEFORE_{map_type}_{region}_clusterm_corrp_tstat1.nii.gz\")} \\\n",
    "        -c {os.path.join(stats_path, map_type, f\"ALL_SUBJECTS_AFTER_minus_BEFORE_{map_type}_{region}_tstat1.nii.gz\")}\\\n",
    "        -t {ReversedSigThresh} \\\n",
    "        --scalarname=corrp' + '\"1-p\"').read())\n",
    "\n",
    "    print(f'3-Day > 1-Day\\n')\n",
    "    # * Increase in FA in the 3-day relatvie to the 1-days (or a decrease in the 1-day...)\n",
    "    print(os.popen(f'cluster \\\n",
    "        -i {os.path.join(stats_path, map_type, f\"ALL_SUBJECTS_AFTER_minus_BEFORE_{map_type}_{region}_clusterm_corrp_tstat2.nii.gz\")} \\\n",
    "        -c {os.path.join(stats_path, map_type, f\"ALL_SUBJECTS_AFTER_minus_BEFORE_{map_type}_{region}_tstat2.nii.gz\")}\\\n",
    "        -t {ReversedSigThresh} \\\n",
    "        --scalarname=corrp' + '\"1-p\"').read())\n"
   ]
  },
  {
   "cell_type": "markdown",
   "metadata": {},
   "source": [
    "## Run the analyses analyses (through the terminal)"
   ]
  },
  {
   "cell_type": "markdown",
   "metadata": {},
   "source": [
    "### NOTE:\n",
    "* Contrast of group means are meaningeless, I think, with randomize (because to check this a paired t-test should be done exchanging before and after and it's not what is done here)"
   ]
  },
  {
   "cell_type": "markdown",
   "metadata": {},
   "source": [
    "### Whole brain - FA"
   ]
  },
  {
   "cell_type": "code",
   "execution_count": 18,
   "metadata": {},
   "outputs": [],
   "source": [
    "map_type='FA'\n",
    "region='whole_brain'"
   ]
  },
  {
   "cell_type": "code",
   "execution_count": 38,
   "metadata": {},
   "outputs": [
    {
     "name": "stdout",
     "output_type": "stream",
     "text": [
      "Running randomise for between-groups analysis:\n",
      "--- FA | whole_brain ---\n",
      "\n"
     ]
    }
   ],
   "source": [
    "runRandomiseGroupAnalysis(map_type, region)"
   ]
  },
  {
   "cell_type": "code",
   "execution_count": 19,
   "metadata": {},
   "outputs": [
    {
     "name": "stdout",
     "output_type": "stream",
     "text": [
      "Testing stats for between-group analysis:\n",
      "--- FA | whole_brain ---\n",
      "\n",
      "Test 1-Day > 3-Day\n",
      "\n",
      "Cluster Index\tVoxels\tcorrp1-p-MAX\tcorrp1-p-MAX X (vox)\tcorrp1-p-MAX Y (vox)\tcorrp1-p-MAX Z (vox)\tcorrp1-p-COG X (vox)\tcorrp1-p-COG Y (vox)\tcorrp1-p-COG Z (vox)\tCOPE-MAX\tCOPE-MAX X (vox)\tCOPE-MAX Y (vox)\tCOPE-MAX Z (vox)\tCOPE-MEAN\n",
      "\n",
      "3-Day > 1-Day\n",
      "\n",
      "Cluster Index\tVoxels\tcorrp1-p-MAX\tcorrp1-p-MAX X (vox)\tcorrp1-p-MAX Y (vox)\tcorrp1-p-MAX Z (vox)\tcorrp1-p-COG X (vox)\tcorrp1-p-COG Y (vox)\tcorrp1-p-COG Z (vox)\tCOPE-MAX\tCOPE-MAX X (vox)\tCOPE-MAX Y (vox)\tCOPE-MAX Z (vox)\tCOPE-MEAN\n",
      "\n"
     ]
    }
   ],
   "source": [
    "# Get cluster info:\n",
    "getClusterInfoGroupAnalysis(map_type, region, ReversedSigThresh='0.90')"
   ]
  },
  {
   "cell_type": "markdown",
   "metadata": {},
   "source": [
    ">>>>> RESULT: NOTHIING"
   ]
  },
  {
   "cell_type": "markdown",
   "metadata": {},
   "source": [
    "### Putamen - FA"
   ]
  },
  {
   "cell_type": "code",
   "execution_count": 20,
   "metadata": {},
   "outputs": [],
   "source": [
    "region='Putamen'"
   ]
  },
  {
   "cell_type": "code",
   "execution_count": 41,
   "metadata": {},
   "outputs": [
    {
     "name": "stdout",
     "output_type": "stream",
     "text": [
      "Running randomise for between-groups analysis:\n",
      "--- FA | Putamen ---\n",
      "\n"
     ]
    }
   ],
   "source": [
    "runRandomiseGroupAnalysis(map_type, region)"
   ]
  },
  {
   "cell_type": "code",
   "execution_count": 21,
   "metadata": {},
   "outputs": [
    {
     "name": "stdout",
     "output_type": "stream",
     "text": [
      "Testing stats for between-group analysis:\n",
      "--- FA | Putamen ---\n",
      "\n",
      "Test 1-Day > 3-Day\n",
      "\n",
      "Cluster Index\tVoxels\tcorrp1-p-MAX\tcorrp1-p-MAX X (vox)\tcorrp1-p-MAX Y (vox)\tcorrp1-p-MAX Z (vox)\tcorrp1-p-COG X (vox)\tcorrp1-p-COG Y (vox)\tcorrp1-p-COG Z (vox)\tCOPE-MAX\tCOPE-MAX X (vox)\tCOPE-MAX Y (vox)\tCOPE-MAX Z (vox)\tCOPE-MEAN\n",
      "\n",
      "3-Day > 1-Day\n",
      "\n",
      "Cluster Index\tVoxels\tcorrp1-p-MAX\tcorrp1-p-MAX X (vox)\tcorrp1-p-MAX Y (vox)\tcorrp1-p-MAX Z (vox)\tcorrp1-p-COG X (vox)\tcorrp1-p-COG Y (vox)\tcorrp1-p-COG Z (vox)\tCOPE-MAX\tCOPE-MAX X (vox)\tCOPE-MAX Y (vox)\tCOPE-MAX Z (vox)\tCOPE-MEAN\n",
      "\n"
     ]
    }
   ],
   "source": [
    "# Get cluster info:\n",
    "getClusterInfoGroupAnalysis(map_type, region, ReversedSigThresh='0.90')"
   ]
  },
  {
   "cell_type": "markdown",
   "metadata": {},
   "source": [
    ">>>>> RESULT: NOTHIING"
   ]
  },
  {
   "cell_type": "markdown",
   "metadata": {},
   "source": [
    "### Caudate - FA"
   ]
  },
  {
   "cell_type": "code",
   "execution_count": 22,
   "metadata": {},
   "outputs": [],
   "source": [
    "region='Caudate'"
   ]
  },
  {
   "cell_type": "code",
   "execution_count": 44,
   "metadata": {},
   "outputs": [
    {
     "name": "stdout",
     "output_type": "stream",
     "text": [
      "Running randomise for between-groups analysis:\n",
      "--- FA | Caudate ---\n",
      "\n"
     ]
    }
   ],
   "source": [
    "runRandomiseGroupAnalysis(map_type, region)"
   ]
  },
  {
   "cell_type": "code",
   "execution_count": 23,
   "metadata": {},
   "outputs": [
    {
     "name": "stdout",
     "output_type": "stream",
     "text": [
      "Testing stats for between-group analysis:\n",
      "--- FA | Caudate ---\n",
      "\n",
      "Test 1-Day > 3-Day\n",
      "\n",
      "Cluster Index\tVoxels\tcorrp1-p-MAX\tcorrp1-p-MAX X (vox)\tcorrp1-p-MAX Y (vox)\tcorrp1-p-MAX Z (vox)\tcorrp1-p-COG X (vox)\tcorrp1-p-COG Y (vox)\tcorrp1-p-COG Z (vox)\tCOPE-MAX\tCOPE-MAX X (vox)\tCOPE-MAX Y (vox)\tCOPE-MAX Z (vox)\tCOPE-MEAN\n",
      "\n",
      "3-Day > 1-Day\n",
      "\n",
      "Cluster Index\tVoxels\tcorrp1-p-MAX\tcorrp1-p-MAX X (vox)\tcorrp1-p-MAX Y (vox)\tcorrp1-p-MAX Z (vox)\tcorrp1-p-COG X (vox)\tcorrp1-p-COG Y (vox)\tcorrp1-p-COG Z (vox)\tCOPE-MAX\tCOPE-MAX X (vox)\tCOPE-MAX Y (vox)\tCOPE-MAX Z (vox)\tCOPE-MEAN\n",
      "\n"
     ]
    }
   ],
   "source": [
    "# Get cluster info:\n",
    "getClusterInfoGroupAnalysis(map_type, region, ReversedSigThresh='0.90')"
   ]
  },
  {
   "cell_type": "markdown",
   "metadata": {},
   "source": [
    ">>>>> RESULT: NOTHIING"
   ]
  },
  {
   "cell_type": "markdown",
   "metadata": {},
   "source": [
    "### vmPFC - FA"
   ]
  },
  {
   "cell_type": "code",
   "execution_count": 24,
   "metadata": {},
   "outputs": [],
   "source": [
    "region='vmPFC'"
   ]
  },
  {
   "cell_type": "code",
   "execution_count": 47,
   "metadata": {},
   "outputs": [
    {
     "name": "stdout",
     "output_type": "stream",
     "text": [
      "Running randomise for between-groups analysis:\n",
      "--- FA | vmPFC ---\n",
      "\n"
     ]
    }
   ],
   "source": [
    "runRandomiseGroupAnalysis(map_type, region)"
   ]
  },
  {
   "cell_type": "code",
   "execution_count": 25,
   "metadata": {},
   "outputs": [
    {
     "name": "stdout",
     "output_type": "stream",
     "text": [
      "Testing stats for between-group analysis:\n",
      "--- FA | vmPFC ---\n",
      "\n",
      "Test 1-Day > 3-Day\n",
      "\n",
      "Cluster Index\tVoxels\tcorrp1-p-MAX\tcorrp1-p-MAX X (vox)\tcorrp1-p-MAX Y (vox)\tcorrp1-p-MAX Z (vox)\tcorrp1-p-COG X (vox)\tcorrp1-p-COG Y (vox)\tcorrp1-p-COG Z (vox)\tCOPE-MAX\tCOPE-MAX X (vox)\tCOPE-MAX Y (vox)\tCOPE-MAX Z (vox)\tCOPE-MEAN\n",
      "\n",
      "3-Day > 1-Day\n",
      "\n",
      "Cluster Index\tVoxels\tcorrp1-p-MAX\tcorrp1-p-MAX X (vox)\tcorrp1-p-MAX Y (vox)\tcorrp1-p-MAX Z (vox)\tcorrp1-p-COG X (vox)\tcorrp1-p-COG Y (vox)\tcorrp1-p-COG Z (vox)\tCOPE-MAX\tCOPE-MAX X (vox)\tCOPE-MAX Y (vox)\tCOPE-MAX Z (vox)\tCOPE-MEAN\n",
      "\n"
     ]
    }
   ],
   "source": [
    "# Get cluster info:\n",
    "getClusterInfoGroupAnalysis(map_type, region, ReversedSigThresh='0.90')"
   ]
  },
  {
   "cell_type": "markdown",
   "metadata": {},
   "source": [
    ">>>>> RESULTS: NOTHING"
   ]
  },
  {
   "cell_type": "markdown",
   "metadata": {},
   "source": [
    "### Whole brain - MD"
   ]
  },
  {
   "cell_type": "code",
   "execution_count": 26,
   "metadata": {},
   "outputs": [],
   "source": [
    "map_type='MD'\n",
    "region='whole_brain'"
   ]
  },
  {
   "cell_type": "code",
   "execution_count": 50,
   "metadata": {},
   "outputs": [
    {
     "name": "stdout",
     "output_type": "stream",
     "text": [
      "Running randomise for between-groups analysis:\n",
      "--- MD | whole_brain ---\n",
      "\n"
     ]
    }
   ],
   "source": [
    "runRandomiseGroupAnalysis(map_type, region)"
   ]
  },
  {
   "cell_type": "code",
   "execution_count": 27,
   "metadata": {},
   "outputs": [
    {
     "name": "stdout",
     "output_type": "stream",
     "text": [
      "Testing stats for between-group analysis:\n",
      "--- MD | whole_brain ---\n",
      "\n",
      "Test 1-Day > 3-Day\n",
      "\n",
      "Cluster Index\tVoxels\tcorrp1-p-MAX\tcorrp1-p-MAX X (vox)\tcorrp1-p-MAX Y (vox)\tcorrp1-p-MAX Z (vox)\tcorrp1-p-COG X (vox)\tcorrp1-p-COG Y (vox)\tcorrp1-p-COG Z (vox)\tCOPE-MAX\tCOPE-MAX X (vox)\tCOPE-MAX Y (vox)\tCOPE-MAX Z (vox)\tCOPE-MEAN\n",
      "\n",
      "3-Day > 1-Day\n",
      "\n",
      "Cluster Index\tVoxels\tcorrp1-p-MAX\tcorrp1-p-MAX X (vox)\tcorrp1-p-MAX Y (vox)\tcorrp1-p-MAX Z (vox)\tcorrp1-p-COG X (vox)\tcorrp1-p-COG Y (vox)\tcorrp1-p-COG Z (vox)\tCOPE-MAX\tCOPE-MAX X (vox)\tCOPE-MAX Y (vox)\tCOPE-MAX Z (vox)\tCOPE-MEAN\n",
      "\n"
     ]
    }
   ],
   "source": [
    "# Get cluster info:\n",
    "getClusterInfoGroupAnalysis(map_type, region, ReversedSigThresh='0.90')"
   ]
  },
  {
   "cell_type": "markdown",
   "metadata": {},
   "source": [
    ">>>>> RESULT: NOTHING"
   ]
  },
  {
   "cell_type": "markdown",
   "metadata": {},
   "source": [
    "### Putamen - MD"
   ]
  },
  {
   "cell_type": "code",
   "execution_count": 28,
   "metadata": {},
   "outputs": [],
   "source": [
    "region='Putamen'"
   ]
  },
  {
   "cell_type": "code",
   "execution_count": 53,
   "metadata": {},
   "outputs": [
    {
     "name": "stdout",
     "output_type": "stream",
     "text": [
      "Running randomise for between-groups analysis:\n",
      "--- MD | Putamen ---\n",
      "\n"
     ]
    }
   ],
   "source": [
    "runRandomiseGroupAnalysis(map_type, region)"
   ]
  },
  {
   "cell_type": "code",
   "execution_count": 29,
   "metadata": {},
   "outputs": [
    {
     "name": "stdout",
     "output_type": "stream",
     "text": [
      "Testing stats for between-group analysis:\n",
      "--- MD | Putamen ---\n",
      "\n",
      "Test 1-Day > 3-Day\n",
      "\n",
      "Cluster Index\tVoxels\tcorrp1-p-MAX\tcorrp1-p-MAX X (vox)\tcorrp1-p-MAX Y (vox)\tcorrp1-p-MAX Z (vox)\tcorrp1-p-COG X (vox)\tcorrp1-p-COG Y (vox)\tcorrp1-p-COG Z (vox)\tCOPE-MAX\tCOPE-MAX X (vox)\tCOPE-MAX Y (vox)\tCOPE-MAX Z (vox)\tCOPE-MEAN\n",
      "\n",
      "3-Day > 1-Day\n",
      "\n",
      "Cluster Index\tVoxels\tcorrp1-p-MAX\tcorrp1-p-MAX X (vox)\tcorrp1-p-MAX Y (vox)\tcorrp1-p-MAX Z (vox)\tcorrp1-p-COG X (vox)\tcorrp1-p-COG Y (vox)\tcorrp1-p-COG Z (vox)\tCOPE-MAX\tCOPE-MAX X (vox)\tCOPE-MAX Y (vox)\tCOPE-MAX Z (vox)\tCOPE-MEAN\n",
      "\n"
     ]
    }
   ],
   "source": [
    "# Get cluster info:\n",
    "getClusterInfoGroupAnalysis(map_type, region, ReversedSigThresh='0.90')"
   ]
  },
  {
   "cell_type": "markdown",
   "metadata": {},
   "source": [
    ">>>>> RESULT: NOTHING"
   ]
  },
  {
   "cell_type": "markdown",
   "metadata": {},
   "source": [
    "### Caudate - MD"
   ]
  },
  {
   "cell_type": "code",
   "execution_count": 30,
   "metadata": {},
   "outputs": [],
   "source": [
    "region='Caudate'"
   ]
  },
  {
   "cell_type": "code",
   "execution_count": 56,
   "metadata": {},
   "outputs": [
    {
     "name": "stdout",
     "output_type": "stream",
     "text": [
      "Running randomise for between-groups analysis:\n",
      "--- MD | Caudate ---\n",
      "\n"
     ]
    }
   ],
   "source": [
    "runRandomiseGroupAnalysis(map_type, region)"
   ]
  },
  {
   "cell_type": "code",
   "execution_count": 31,
   "metadata": {},
   "outputs": [
    {
     "name": "stdout",
     "output_type": "stream",
     "text": [
      "Testing stats for between-group analysis:\n",
      "--- MD | Caudate ---\n",
      "\n",
      "Test 1-Day > 3-Day\n",
      "\n",
      "Cluster Index\tVoxels\tcorrp1-p-MAX\tcorrp1-p-MAX X (vox)\tcorrp1-p-MAX Y (vox)\tcorrp1-p-MAX Z (vox)\tcorrp1-p-COG X (vox)\tcorrp1-p-COG Y (vox)\tcorrp1-p-COG Z (vox)\tCOPE-MAX\tCOPE-MAX X (vox)\tCOPE-MAX Y (vox)\tCOPE-MAX Z (vox)\tCOPE-MEAN\n",
      "\n",
      "3-Day > 1-Day\n",
      "\n",
      "Cluster Index\tVoxels\tcorrp1-p-MAX\tcorrp1-p-MAX X (vox)\tcorrp1-p-MAX Y (vox)\tcorrp1-p-MAX Z (vox)\tcorrp1-p-COG X (vox)\tcorrp1-p-COG Y (vox)\tcorrp1-p-COG Z (vox)\tCOPE-MAX\tCOPE-MAX X (vox)\tCOPE-MAX Y (vox)\tCOPE-MAX Z (vox)\tCOPE-MEAN\n",
      "\n"
     ]
    }
   ],
   "source": [
    "# Get cluster info:\n",
    "getClusterInfoGroupAnalysis(map_type, region, ReversedSigThresh='0.90')"
   ]
  },
  {
   "cell_type": "markdown",
   "metadata": {},
   "source": [
    ">>>>> RESULTS:\n",
    "There is a marginally signficant increase cluster in the Head of Caudate meaning more reduction in the 1-day group(!) or decrease in the 3-days. Maybe again there is something temporary!\n",
    "\n",
    "I need to check what drives this\n"
   ]
  },
  {
   "cell_type": "markdown",
   "metadata": {},
   "source": [
    "### vmPFC - MD"
   ]
  },
  {
   "cell_type": "code",
   "execution_count": 32,
   "metadata": {},
   "outputs": [],
   "source": [
    "region='vmPFC'"
   ]
  },
  {
   "cell_type": "code",
   "execution_count": 59,
   "metadata": {},
   "outputs": [
    {
     "name": "stdout",
     "output_type": "stream",
     "text": [
      "Running randomise for between-groups analysis:\n",
      "--- MD | vmPFC ---\n",
      "\n"
     ]
    }
   ],
   "source": [
    "runRandomiseGroupAnalysis(map_type, region)"
   ]
  },
  {
   "cell_type": "code",
   "execution_count": 33,
   "metadata": {},
   "outputs": [
    {
     "name": "stdout",
     "output_type": "stream",
     "text": [
      "Testing stats for between-group analysis:\n",
      "--- MD | vmPFC ---\n",
      "\n",
      "Test 1-Day > 3-Day\n",
      "\n",
      "Cluster Index\tVoxels\tcorrp1-p-MAX\tcorrp1-p-MAX X (vox)\tcorrp1-p-MAX Y (vox)\tcorrp1-p-MAX Z (vox)\tcorrp1-p-COG X (vox)\tcorrp1-p-COG Y (vox)\tcorrp1-p-COG Z (vox)\tCOPE-MAX\tCOPE-MAX X (vox)\tCOPE-MAX Y (vox)\tCOPE-MAX Z (vox)\tCOPE-MEAN\n",
      "\n",
      "3-Day > 1-Day\n",
      "\n",
      "Cluster Index\tVoxels\tcorrp1-p-MAX\tcorrp1-p-MAX X (vox)\tcorrp1-p-MAX Y (vox)\tcorrp1-p-MAX Z (vox)\tcorrp1-p-COG X (vox)\tcorrp1-p-COG Y (vox)\tcorrp1-p-COG Z (vox)\tCOPE-MAX\tCOPE-MAX X (vox)\tCOPE-MAX Y (vox)\tCOPE-MAX Z (vox)\tCOPE-MEAN\n",
      "1\t133\t0.996\t45\t80\t27\t44.9\t79.9\t31\t4.12\t47\t80\t32\t3.44\n",
      "\n"
     ]
    }
   ],
   "source": [
    "# Get cluster info:\n",
    "getClusterInfoGroupAnalysis(map_type, region, ReversedSigThresh='0.90')"
   ]
  },
  {
   "cell_type": "markdown",
   "metadata": {},
   "source": [
    ">>>>> RESULTS:\n",
    "There is a signficant increase cluster in the right vmPFC (mainly in the ACC) meaning more reduction in the 1-day group(!) or decrease in the 3-days. Maybe again there is something temporary!\n",
    "\n",
    "I need to check what drives this: both increase here and decrease threre...\n"
   ]
  },
  {
   "cell_type": "markdown",
   "metadata": {},
   "source": [
    "## SUMMARY:"
   ]
  },
  {
   "cell_type": "code",
   "execution_count": 12,
   "metadata": {},
   "outputs": [
    {
     "name": "stdout",
     "output_type": "stream",
     "text": [
      "Testing stats for between-group analysis:\n",
      "--- FA | whole_brain ---\n",
      "\n",
      "Test 1-Day > 3-Day\n",
      "\n",
      "Cluster Index\tVoxels\tcorrp1-p-MAX\tcorrp1-p-MAX X (vox)\tcorrp1-p-MAX Y (vox)\tcorrp1-p-MAX Z (vox)\tcorrp1-p-COG X (vox)\tcorrp1-p-COG Y (vox)\tcorrp1-p-COG Z (vox)\tCOPE-MAX\tCOPE-MAX X (vox)\tCOPE-MAX Y (vox)\tCOPE-MAX Z (vox)\tCOPE-MEAN\n",
      "2\t76\t0.755\t76\t58\t12\t75.8\t59.8\t13.9\t5.44\t76\t60\t14\t4.02\n",
      "1\t72\t0.624\t37\t49\t58\t37.8\t52.1\t61.3\t4.05\t37\t50\t59\t3.39\n",
      "\n",
      "3-Day > 1-Day\n",
      "\n",
      "Cluster Index\tVoxels\tcorrp1-p-MAX\tcorrp1-p-MAX X (vox)\tcorrp1-p-MAX Y (vox)\tcorrp1-p-MAX Z (vox)\tcorrp1-p-COG X (vox)\tcorrp1-p-COG Y (vox)\tcorrp1-p-COG Z (vox)\tCOPE-MAX\tCOPE-MAX X (vox)\tCOPE-MAX Y (vox)\tCOPE-MAX Z (vox)\tCOPE-MEAN\n",
      "\n",
      "Testing stats for between-group analysis:\n",
      "--- FA | Putamen ---\n",
      "\n",
      "Test 1-Day > 3-Day\n",
      "\n",
      "Cluster Index\tVoxels\tcorrp1-p-MAX\tcorrp1-p-MAX X (vox)\tcorrp1-p-MAX Y (vox)\tcorrp1-p-MAX Z (vox)\tcorrp1-p-COG X (vox)\tcorrp1-p-COG Y (vox)\tcorrp1-p-COG Z (vox)\tCOPE-MAX\tCOPE-MAX X (vox)\tCOPE-MAX Y (vox)\tCOPE-MAX Z (vox)\tCOPE-MEAN\n",
      "\n",
      "3-Day > 1-Day\n",
      "\n",
      "Cluster Index\tVoxels\tcorrp1-p-MAX\tcorrp1-p-MAX X (vox)\tcorrp1-p-MAX Y (vox)\tcorrp1-p-MAX Z (vox)\tcorrp1-p-COG X (vox)\tcorrp1-p-COG Y (vox)\tcorrp1-p-COG Z (vox)\tCOPE-MAX\tCOPE-MAX X (vox)\tCOPE-MAX Y (vox)\tCOPE-MAX Z (vox)\tCOPE-MEAN\n",
      "\n",
      "Testing stats for between-group analysis:\n",
      "--- FA | Caudate ---\n",
      "\n",
      "Test 1-Day > 3-Day\n",
      "\n",
      "Cluster Index\tVoxels\tcorrp1-p-MAX\tcorrp1-p-MAX X (vox)\tcorrp1-p-MAX Y (vox)\tcorrp1-p-MAX Z (vox)\tcorrp1-p-COG X (vox)\tcorrp1-p-COG Y (vox)\tcorrp1-p-COG Z (vox)\tCOPE-MAX\tCOPE-MAX X (vox)\tCOPE-MAX Y (vox)\tCOPE-MAX Z (vox)\tCOPE-MEAN\n",
      "\n",
      "3-Day > 1-Day\n",
      "\n",
      "Cluster Index\tVoxels\tcorrp1-p-MAX\tcorrp1-p-MAX X (vox)\tcorrp1-p-MAX Y (vox)\tcorrp1-p-MAX Z (vox)\tcorrp1-p-COG X (vox)\tcorrp1-p-COG Y (vox)\tcorrp1-p-COG Z (vox)\tCOPE-MAX\tCOPE-MAX X (vox)\tCOPE-MAX Y (vox)\tCOPE-MAX Z (vox)\tCOPE-MEAN\n",
      "\n",
      "Testing stats for between-group analysis:\n",
      "--- FA | vmPFC ---\n",
      "\n",
      "Test 1-Day > 3-Day\n",
      "\n",
      "Cluster Index\tVoxels\tcorrp1-p-MAX\tcorrp1-p-MAX X (vox)\tcorrp1-p-MAX Y (vox)\tcorrp1-p-MAX Z (vox)\tcorrp1-p-COG X (vox)\tcorrp1-p-COG Y (vox)\tcorrp1-p-COG Z (vox)\tCOPE-MAX\tCOPE-MAX X (vox)\tCOPE-MAX Y (vox)\tCOPE-MAX Z (vox)\tCOPE-MEAN\n",
      "\n",
      "3-Day > 1-Day\n",
      "\n",
      "Cluster Index\tVoxels\tcorrp1-p-MAX\tcorrp1-p-MAX X (vox)\tcorrp1-p-MAX Y (vox)\tcorrp1-p-MAX Z (vox)\tcorrp1-p-COG X (vox)\tcorrp1-p-COG Y (vox)\tcorrp1-p-COG Z (vox)\tCOPE-MAX\tCOPE-MAX X (vox)\tCOPE-MAX Y (vox)\tCOPE-MAX Z (vox)\tCOPE-MEAN\n",
      "\n",
      "Testing stats for between-group analysis:\n",
      "--- MD | whole_brain ---\n",
      "\n",
      "Test 1-Day > 3-Day\n",
      "\n",
      "Cluster Index\tVoxels\tcorrp1-p-MAX\tcorrp1-p-MAX X (vox)\tcorrp1-p-MAX Y (vox)\tcorrp1-p-MAX Z (vox)\tcorrp1-p-COG X (vox)\tcorrp1-p-COG Y (vox)\tcorrp1-p-COG Z (vox)\tCOPE-MAX\tCOPE-MAX X (vox)\tCOPE-MAX Y (vox)\tCOPE-MAX Z (vox)\tCOPE-MEAN\n",
      "\n",
      "3-Day > 1-Day\n",
      "\n",
      "Cluster Index\tVoxels\tcorrp1-p-MAX\tcorrp1-p-MAX X (vox)\tcorrp1-p-MAX Y (vox)\tcorrp1-p-MAX Z (vox)\tcorrp1-p-COG X (vox)\tcorrp1-p-COG Y (vox)\tcorrp1-p-COG Z (vox)\tCOPE-MAX\tCOPE-MAX X (vox)\tCOPE-MAX Y (vox)\tCOPE-MAX Z (vox)\tCOPE-MEAN\n",
      "2\t134\t0.847\t45\t80\t27\t44.9\t79.9\t31.1\t4.12\t47\t80\t32\t3.44\n",
      "1\t121\t0.846\t49\t52\t48\t51.4\t53.4\t50.4\t5.06\t51\t53\t50\t3.77\n",
      "\n",
      "Testing stats for between-group analysis:\n",
      "--- MD | Putamen ---\n",
      "\n",
      "Test 1-Day > 3-Day\n",
      "\n",
      "Cluster Index\tVoxels\tcorrp1-p-MAX\tcorrp1-p-MAX X (vox)\tcorrp1-p-MAX Y (vox)\tcorrp1-p-MAX Z (vox)\tcorrp1-p-COG X (vox)\tcorrp1-p-COG Y (vox)\tcorrp1-p-COG Z (vox)\tCOPE-MAX\tCOPE-MAX X (vox)\tCOPE-MAX Y (vox)\tCOPE-MAX Z (vox)\tCOPE-MEAN\n",
      "\n",
      "3-Day > 1-Day\n",
      "\n",
      "Cluster Index\tVoxels\tcorrp1-p-MAX\tcorrp1-p-MAX X (vox)\tcorrp1-p-MAX Y (vox)\tcorrp1-p-MAX Z (vox)\tcorrp1-p-COG X (vox)\tcorrp1-p-COG Y (vox)\tcorrp1-p-COG Z (vox)\tCOPE-MAX\tCOPE-MAX X (vox)\tCOPE-MAX Y (vox)\tCOPE-MAX Z (vox)\tCOPE-MEAN\n",
      "\n",
      "Testing stats for between-group analysis:\n",
      "--- MD | Caudate ---\n",
      "\n",
      "Test 1-Day > 3-Day\n",
      "\n",
      "Cluster Index\tVoxels\tcorrp1-p-MAX\tcorrp1-p-MAX X (vox)\tcorrp1-p-MAX Y (vox)\tcorrp1-p-MAX Z (vox)\tcorrp1-p-COG X (vox)\tcorrp1-p-COG Y (vox)\tcorrp1-p-COG Z (vox)\tCOPE-MAX\tCOPE-MAX X (vox)\tCOPE-MAX Y (vox)\tCOPE-MAX Z (vox)\tCOPE-MEAN\n",
      "\n",
      "3-Day > 1-Day\n",
      "\n",
      "Cluster Index\tVoxels\tcorrp1-p-MAX\tcorrp1-p-MAX X (vox)\tcorrp1-p-MAX Y (vox)\tcorrp1-p-MAX Z (vox)\tcorrp1-p-COG X (vox)\tcorrp1-p-COG Y (vox)\tcorrp1-p-COG Z (vox)\tCOPE-MAX\tCOPE-MAX X (vox)\tCOPE-MAX Y (vox)\tCOPE-MAX Z (vox)\tCOPE-MEAN\n",
      "1\t3\t0.889\t43\t69\t40\t43\t69.3\t40.3\t3.23\t43\t69\t40\t3.16\n",
      "\n",
      "Testing stats for between-group analysis:\n",
      "--- MD | vmPFC ---\n",
      "\n",
      "Test 1-Day > 3-Day\n",
      "\n",
      "Cluster Index\tVoxels\tcorrp1-p-MAX\tcorrp1-p-MAX X (vox)\tcorrp1-p-MAX Y (vox)\tcorrp1-p-MAX Z (vox)\tcorrp1-p-COG X (vox)\tcorrp1-p-COG Y (vox)\tcorrp1-p-COG Z (vox)\tCOPE-MAX\tCOPE-MAX X (vox)\tCOPE-MAX Y (vox)\tCOPE-MAX Z (vox)\tCOPE-MEAN\n",
      "\n",
      "3-Day > 1-Day\n",
      "\n",
      "Cluster Index\tVoxels\tcorrp1-p-MAX\tcorrp1-p-MAX X (vox)\tcorrp1-p-MAX Y (vox)\tcorrp1-p-MAX Z (vox)\tcorrp1-p-COG X (vox)\tcorrp1-p-COG Y (vox)\tcorrp1-p-COG Z (vox)\tCOPE-MAX\tCOPE-MAX X (vox)\tCOPE-MAX Y (vox)\tCOPE-MAX Z (vox)\tCOPE-MEAN\n",
      "4\t133\t0.996\t45\t80\t27\t44.9\t79.9\t31\t4.12\t47\t80\t32\t3.44\n",
      "3\t3\t0.716\t43\t80\t22\t42.7\t80\t22.7\t3.31\t43\t80\t22\t3.24\n",
      "2\t3\t0.693\t44\t70\t34\t43\t70.7\t34\t3.17\t43\t71\t34\t3.14\n",
      "1\t1\t0.617\t46\t69\t21\t46\t69\t21\t3.17\t46\t69\t21\t3.17\n",
      "\n"
     ]
    }
   ],
   "source": [
    "# get the cluster info for the between-group analysis:\n",
    "for map_type in ['FA', 'MD']:\n",
    "    for region in ['whole_brain', 'Putamen', 'Caudate', 'vmPFC']:\n",
    "        getClusterInfoGroupAnalysis(map_type, region, ReversedSigThresh='0.90')"
   ]
  },
  {
   "cell_type": "markdown",
   "metadata": {},
   "source": [
    "# *-*-*-*-*-*-*-*-*-*-*-*-*-*-*-*-*-*-*-*-*-*-*-*-*-*"
   ]
  },
  {
   "cell_type": "markdown",
   "metadata": {},
   "source": [
    "# Statistics - individual differences"
   ]
  },
  {
   "cell_type": "markdown",
   "metadata": {},
   "source": [
    "### Create the habit index csv file (by running a dedicated matlab folder)\n"
   ]
  },
  {
   "cell_type": "code",
   "execution_count": 25,
   "metadata": {},
   "outputs": [
    {
     "name": "stdout",
     "output_type": "stream",
     "text": [
      "MATLAB is selecting SOFTWARE OPENGL rendering.\n",
      "\u001b[?1h\u001b=\n",
      "                            < M A T L A B (R) >\n",
      "                  Copyright 1984-2020 The MathWorks, Inc.\n",
      "                  R2020a (9.8.0.1323502) 64-bit (glnxa64)\n",
      "                             February 25, 2020\n",
      "\n",
      " \n",
      "To get started, type doc.\n",
      "For product information, visit www.mathworks.com.\n",
      " \n",
      "** CREATED new habit index file **\n",
      "\u001b[?1l\u001b>"
     ]
    }
   ],
   "source": [
    "# Create the habit index csv file (by running a dedicated matlab folder)\n",
    "!matlab -nodesktop -nosplash -r \"run('/export2/DATA/HIS/HIS_server/codes/create_HABIT_INDEX_table')\";"
   ]
  },
  {
   "cell_type": "markdown",
   "metadata": {},
   "source": [
    "### Prepare and arrange the behavioral data and DTI folder data for all together and for each group seperately"
   ]
  },
  {
   "cell_type": "code",
   "execution_count": 16,
   "metadata": {},
   "outputs": [],
   "source": [
    "# First, create subjects list folder for each group:\n",
    "subjFoldersDTI_short = [sub for sub in subjFoldersDTI if int(sub.split('-')[-1])<200]\n",
    "subjFoldersDTI_long = [sub for sub in subjFoldersDTI if int(sub.split('-')[-1])>200]\n",
    "\n",
    "# Get the behavioral data:\n",
    "behav_all = pd.read_csv(os.path.join(behav_data_path, 'habitIndex_ALL.csv'))\n",
    "# remove subjects that don't have DTI data\n",
    "absent_from_DTI_data = [sub for sub in behav_all.subID if 'sub-' + str(sub) not in subjFoldersDTI]\n",
    "behav_all = behav_all[~behav_all.subID.isin(absent_from_DTI_data)]\n",
    "# now make sure that subject lists are matching:\n",
    "if not ['sub-' + str(sub) for sub in behav_all.subID] == subjFoldersDTI:\n",
    "    raise Exception('Subject lists are not matching')\n",
    "\n",
    "# Repeat for the long training groups:\n",
    "behav_long = pd.read_csv(os.path.join(behav_data_path, 'habitIndex_LONG.csv'))\n",
    "# remove subjects that don't have DTI data\n",
    "absent_from_DTI_data = [sub for sub in behav_long.subID if 'sub-' + str(sub) not in subjFoldersDTI_long]\n",
    "behav_long = behav_long[~behav_long.subID.isin(absent_from_DTI_data)]\n",
    "# now make sure that subject lists are matching:\n",
    "if not ['sub-' + str(sub) for sub in behav_long.subID] == subjFoldersDTI_long:\n",
    "    raise Exception('Subject lists are not matching')\n",
    "    \n",
    "# Repeat for the short training groups:\n",
    "behav_short = pd.read_csv(os.path.join(behav_data_path, 'habitIndex_SHORT.csv'))\n",
    "# remove subjects that don't have DTI data\n",
    "absent_from_DTI_data = [sub for sub in behav_short.subID if 'sub-' + str(sub) not in subjFoldersDTI_short]\n",
    "behav_short = behav_short[~behav_short.subID.isin(absent_from_DTI_data)]\n",
    "# now make sure that subject lists are matching:\n",
    "if not ['sub-' + str(sub) for sub in behav_short.subID] == subjFoldersDTI_short:\n",
    "    raise Exception('Subject lists are not matching')\n",
    "\n"
   ]
  },
  {
   "cell_type": "markdown",
   "metadata": {},
   "source": [
    "### prepare the design matrix"
   ]
  },
  {
   "cell_type": "code",
   "execution_count": 27,
   "metadata": {},
   "outputs": [
    {
     "name": "stdout",
     "output_type": "stream",
     "text": [
      "> Create the individual differences design matrix\n",
      "Text2Vest /export2/DATA/HIS/HIS_server/analysis/dwi_data/stats_alt_reg/models/individual_differences/design_indivdual_diff_LONG_temp.mat /export2/DATA/HIS/HIS_server/analysis/dwi_data/stats_alt_reg/models/individual_differences/design_indivdual_diff_LONG.mat\n",
      "Text2Vest /export2/DATA/HIS/HIS_server/analysis/dwi_data/stats_alt_reg/models/individual_differences/design_indivdual_diff_SHORT_temp.mat /export2/DATA/HIS/HIS_server/analysis/dwi_data/stats_alt_reg/models/individual_differences/design_indivdual_diff_SHORT.mat\n",
      "Text2Vest /export2/DATA/HIS/HIS_server/analysis/dwi_data/stats_alt_reg/models/individual_differences/design_indivdual_diff_temp.mat /export2/DATA/HIS/HIS_server/analysis/dwi_data/stats_alt_reg/models/individual_differences/design_indivdual_diff.con\n"
     ]
    }
   ],
   "source": [
    "print('> Create the individual differences design matrix')\n",
    "# define file names:\n",
    "design_indiv_diff_LONG = os.path.join(models_path, 'individual_differences', 'design_indivdual_diff_LONG.mat')\n",
    "design_indiv_diff_SHORT = os.path.join(models_path, 'individual_differences', 'design_indivdual_diff_SHORT.mat')\n",
    "contrasts_indiv_diff = os.path.join(models_path, 'individual_differences', 'design_indivdual_diff.con')\n",
    "\n",
    "# create the folder\n",
    "try:\n",
    "    os.makedirs(os.path.join(models_path, 'individual_differences'), exist_ok=False)\n",
    "    print('>> Created folder: ' + os.path.join(models_path, 'individual_differences'))\n",
    "except:\n",
    "    pass\n",
    "\n",
    "# write the design matrix files:\n",
    "behav_long.habit_index_mean_centered.to_csv(f\"{design_indiv_diff_LONG.split('.')[0]}_temp.mat\", index=False, header=False)\n",
    "behav_short.habit_index_mean_centered.to_csv(f\"{design_indiv_diff_SHORT.split('.')[0]}_temp.mat\", index=False, header=False)\n",
    "\n",
    "# write the contrast file:\n",
    "with open(f\"{contrasts_indiv_diff.split('.')[0]}_temp.mat\", 'w') as f:\n",
    "    f.write('1\\n-1\\n')\n",
    "\n",
    "# use the fsl command Text2Vect to make the design files good for randomise:\n",
    "print(f\"Text2Vest {design_indiv_diff_LONG.split('.')[0]}_temp.mat {design_indiv_diff_LONG}\")\n",
    "os.system(f\"Text2Vest {design_indiv_diff_LONG.split('.')[0]}_temp.mat {design_indiv_diff_LONG}\")\n",
    "print(f\"Text2Vest {design_indiv_diff_SHORT.split('.')[0]}_temp.mat {design_indiv_diff_SHORT}\")\n",
    "os.system(f\"Text2Vest {design_indiv_diff_SHORT.split('.')[0]}_temp.mat {design_indiv_diff_SHORT}\")\n",
    "print(f\"Text2Vest {contrasts_indiv_diff.split('.')[0]}_temp.mat {contrasts_indiv_diff}\")\n",
    "os.system(f\"Text2Vest {contrasts_indiv_diff.split('.')[0]}_temp.mat {contrasts_indiv_diff}\")\n",
    "\n",
    "# finally, remove the temporary files:\n",
    "os.remove(f\"{design_indiv_diff_LONG.split('.')[0]}_temp.mat\")\n",
    "os.remove(f\"{design_indiv_diff_SHORT.split('.')[0]}_temp.mat\")\n",
    "os.remove(f\"{contrasts_indiv_diff.split('.')[0]}_temp.mat\")"
   ]
  },
  {
   "cell_type": "markdown",
   "metadata": {},
   "source": [
    "### Create one file with each group's participants together"
   ]
  },
  {
   "cell_type": "code",
   "execution_count": 28,
   "metadata": {},
   "outputs": [
    {
     "name": "stdout",
     "output_type": "stream",
     "text": [
      "fslmerge -t /export2/DATA/HIS/HIS_server/analysis/dwi_data/stats_alt_reg/MD/LONG_individualDiff_AFTER_minus_BEFORE_MD /export2/DATA/HIS/HIS_server/analysis/dwi_data/stats_alt_reg/MD/sub-204_in-MNI_MD_AFTER-minus-BEFORE.nii.gz /export2/DATA/HIS/HIS_server/analysis/dwi_data/stats_alt_reg/MD/sub-205_in-MNI_MD_AFTER-minus-BEFORE.nii.gz /export2/DATA/HIS/HIS_server/analysis/dwi_data/stats_alt_reg/MD/sub-207_in-MNI_MD_AFTER-minus-BEFORE.nii.gz /export2/DATA/HIS/HIS_server/analysis/dwi_data/stats_alt_reg/MD/sub-208_in-MNI_MD_AFTER-minus-BEFORE.nii.gz /export2/DATA/HIS/HIS_server/analysis/dwi_data/stats_alt_reg/MD/sub-209_in-MNI_MD_AFTER-minus-BEFORE.nii.gz /export2/DATA/HIS/HIS_server/analysis/dwi_data/stats_alt_reg/MD/sub-210_in-MNI_MD_AFTER-minus-BEFORE.nii.gz /export2/DATA/HIS/HIS_server/analysis/dwi_data/stats_alt_reg/MD/sub-212_in-MNI_MD_AFTER-minus-BEFORE.nii.gz /export2/DATA/HIS/HIS_server/analysis/dwi_data/stats_alt_reg/MD/sub-214_in-MNI_MD_AFTER-minus-BEFORE.nii.gz /export2/DATA/HIS/HIS_server/analysis/dwi_data/stats_alt_reg/MD/sub-215_in-MNI_MD_AFTER-minus-BEFORE.nii.gz /export2/DATA/HIS/HIS_server/analysis/dwi_data/stats_alt_reg/MD/sub-217_in-MNI_MD_AFTER-minus-BEFORE.nii.gz /export2/DATA/HIS/HIS_server/analysis/dwi_data/stats_alt_reg/MD/sub-218_in-MNI_MD_AFTER-minus-BEFORE.nii.gz /export2/DATA/HIS/HIS_server/analysis/dwi_data/stats_alt_reg/MD/sub-220_in-MNI_MD_AFTER-minus-BEFORE.nii.gz /export2/DATA/HIS/HIS_server/analysis/dwi_data/stats_alt_reg/MD/sub-221_in-MNI_MD_AFTER-minus-BEFORE.nii.gz /export2/DATA/HIS/HIS_server/analysis/dwi_data/stats_alt_reg/MD/sub-223_in-MNI_MD_AFTER-minus-BEFORE.nii.gz /export2/DATA/HIS/HIS_server/analysis/dwi_data/stats_alt_reg/MD/sub-224_in-MNI_MD_AFTER-minus-BEFORE.nii.gz /export2/DATA/HIS/HIS_server/analysis/dwi_data/stats_alt_reg/MD/sub-225_in-MNI_MD_AFTER-minus-BEFORE.nii.gz /export2/DATA/HIS/HIS_server/analysis/dwi_data/stats_alt_reg/MD/sub-227_in-MNI_MD_AFTER-minus-BEFORE.nii.gz /export2/DATA/HIS/HIS_server/analysis/dwi_data/stats_alt_reg/MD/sub-229_in-MNI_MD_AFTER-minus-BEFORE.nii.gz /export2/DATA/HIS/HIS_server/analysis/dwi_data/stats_alt_reg/MD/sub-230_in-MNI_MD_AFTER-minus-BEFORE.nii.gz /export2/DATA/HIS/HIS_server/analysis/dwi_data/stats_alt_reg/MD/sub-232_in-MNI_MD_AFTER-minus-BEFORE.nii.gz /export2/DATA/HIS/HIS_server/analysis/dwi_data/stats_alt_reg/MD/sub-234_in-MNI_MD_AFTER-minus-BEFORE.nii.gz /export2/DATA/HIS/HIS_server/analysis/dwi_data/stats_alt_reg/MD/sub-235_in-MNI_MD_AFTER-minus-BEFORE.nii.gz /export2/DATA/HIS/HIS_server/analysis/dwi_data/stats_alt_reg/MD/sub-238_in-MNI_MD_AFTER-minus-BEFORE.nii.gz /export2/DATA/HIS/HIS_server/analysis/dwi_data/stats_alt_reg/MD/sub-239_in-MNI_MD_AFTER-minus-BEFORE.nii.gz /export2/DATA/HIS/HIS_server/analysis/dwi_data/stats_alt_reg/MD/sub-240_in-MNI_MD_AFTER-minus-BEFORE.nii.gz /export2/DATA/HIS/HIS_server/analysis/dwi_data/stats_alt_reg/MD/sub-241_in-MNI_MD_AFTER-minus-BEFORE.nii.gz /export2/DATA/HIS/HIS_server/analysis/dwi_data/stats_alt_reg/MD/sub-242_in-MNI_MD_AFTER-minus-BEFORE.nii.gz /export2/DATA/HIS/HIS_server/analysis/dwi_data/stats_alt_reg/MD/sub-243_in-MNI_MD_AFTER-minus-BEFORE.nii.gz /export2/DATA/HIS/HIS_server/analysis/dwi_data/stats_alt_reg/MD/sub-245_in-MNI_MD_AFTER-minus-BEFORE.nii.gz /export2/DATA/HIS/HIS_server/analysis/dwi_data/stats_alt_reg/MD/sub-247_in-MNI_MD_AFTER-minus-BEFORE.nii.gz /export2/DATA/HIS/HIS_server/analysis/dwi_data/stats_alt_reg/MD/sub-248_in-MNI_MD_AFTER-minus-BEFORE.nii.gz /export2/DATA/HIS/HIS_server/analysis/dwi_data/stats_alt_reg/MD/sub-249_in-MNI_MD_AFTER-minus-BEFORE.nii.gz /export2/DATA/HIS/HIS_server/analysis/dwi_data/stats_alt_reg/MD/sub-251_in-MNI_MD_AFTER-minus-BEFORE.nii.gz /export2/DATA/HIS/HIS_server/analysis/dwi_data/stats_alt_reg/MD/sub-252_in-MNI_MD_AFTER-minus-BEFORE.nii.gz /export2/DATA/HIS/HIS_server/analysis/dwi_data/stats_alt_reg/MD/sub-254_in-MNI_MD_AFTER-minus-BEFORE.nii.gz /export2/DATA/HIS/HIS_server/analysis/dwi_data/stats_alt_reg/MD/sub-255_in-MNI_MD_AFTER-minus-BEFORE.nii.gz /export2/DATA/HIS/HIS_server/analysis/dwi_data/stats_alt_reg/MD/sub-257_in-MNI_MD_AFTER-minus-BEFORE.nii.gz /export2/DATA/HIS/HIS_server/analysis/dwi_data/stats_alt_reg/MD/sub-258_in-MNI_MD_AFTER-minus-BEFORE.nii.gz /export2/DATA/HIS/HIS_server/analysis/dwi_data/stats_alt_reg/MD/sub-260_in-MNI_MD_AFTER-minus-BEFORE.nii.gz /export2/DATA/HIS/HIS_server/analysis/dwi_data/stats_alt_reg/MD/sub-261_in-MNI_MD_AFTER-minus-BEFORE.nii.gz /export2/DATA/HIS/HIS_server/analysis/dwi_data/stats_alt_reg/MD/sub-262_in-MNI_MD_AFTER-minus-BEFORE.nii.gz /export2/DATA/HIS/HIS_server/analysis/dwi_data/stats_alt_reg/MD/sub-263_in-MNI_MD_AFTER-minus-BEFORE.nii.gz /export2/DATA/HIS/HIS_server/analysis/dwi_data/stats_alt_reg/MD/sub-264_in-MNI_MD_AFTER-minus-BEFORE.nii.gz /export2/DATA/HIS/HIS_server/analysis/dwi_data/stats_alt_reg/MD/sub-265_in-MNI_MD_AFTER-minus-BEFORE.nii.gz /export2/DATA/HIS/HIS_server/analysis/dwi_data/stats_alt_reg/MD/sub-267_in-MNI_MD_AFTER-minus-BEFORE.nii.gz /export2/DATA/HIS/HIS_server/analysis/dwi_data/stats_alt_reg/MD/sub-268_in-MNI_MD_AFTER-minus-BEFORE.nii.gz /export2/DATA/HIS/HIS_server/analysis/dwi_data/stats_alt_reg/MD/sub-269_in-MNI_MD_AFTER-minus-BEFORE.nii.gz /export2/DATA/HIS/HIS_server/analysis/dwi_data/stats_alt_reg/MD/sub-270_in-MNI_MD_AFTER-minus-BEFORE.nii.gz /export2/DATA/HIS/HIS_server/analysis/dwi_data/stats_alt_reg/MD/sub-271_in-MNI_MD_AFTER-minus-BEFORE.nii.gz /export2/DATA/HIS/HIS_server/analysis/dwi_data/stats_alt_reg/MD/sub-272_in-MNI_MD_AFTER-minus-BEFORE.nii.gz /export2/DATA/HIS/HIS_server/analysis/dwi_data/stats_alt_reg/MD/sub-275_in-MNI_MD_AFTER-minus-BEFORE.nii.gz /export2/DATA/HIS/HIS_server/analysis/dwi_data/stats_alt_reg/MD/sub-276_in-MNI_MD_AFTER-minus-BEFORE.nii.gz /export2/DATA/HIS/HIS_server/analysis/dwi_data/stats_alt_reg/MD/sub-277_in-MNI_MD_AFTER-minus-BEFORE.nii.gz /export2/DATA/HIS/HIS_server/analysis/dwi_data/stats_alt_reg/MD/sub-278_in-MNI_MD_AFTER-minus-BEFORE.nii.gz /export2/DATA/HIS/HIS_server/analysis/dwi_data/stats_alt_reg/MD/sub-280_in-MNI_MD_AFTER-minus-BEFORE.nii.gz /export2/DATA/HIS/HIS_server/analysis/dwi_data/stats_alt_reg/MD/sub-281_in-MNI_MD_AFTER-minus-BEFORE.nii.gz /export2/DATA/HIS/HIS_server/analysis/dwi_data/stats_alt_reg/MD/sub-282_in-MNI_MD_AFTER-minus-BEFORE.nii.gz /export2/DATA/HIS/HIS_server/analysis/dwi_data/stats_alt_reg/MD/sub-283_in-MNI_MD_AFTER-minus-BEFORE.nii.gz /export2/DATA/HIS/HIS_server/analysis/dwi_data/stats_alt_reg/MD/sub-284_in-MNI_MD_AFTER-minus-BEFORE.nii.gz /export2/DATA/HIS/HIS_server/analysis/dwi_data/stats_alt_reg/MD/sub-285_in-MNI_MD_AFTER-minus-BEFORE.nii.gz\n",
      "fslmerge -t /export2/DATA/HIS/HIS_server/analysis/dwi_data/stats_alt_reg/MD/SHORT_individualDiff_AFTER_minus_BEFORE_MD /export2/DATA/HIS/HIS_server/analysis/dwi_data/stats_alt_reg/MD/sub-103_in-MNI_MD_AFTER-minus-BEFORE.nii.gz /export2/DATA/HIS/HIS_server/analysis/dwi_data/stats_alt_reg/MD/sub-104_in-MNI_MD_AFTER-minus-BEFORE.nii.gz /export2/DATA/HIS/HIS_server/analysis/dwi_data/stats_alt_reg/MD/sub-106_in-MNI_MD_AFTER-minus-BEFORE.nii.gz /export2/DATA/HIS/HIS_server/analysis/dwi_data/stats_alt_reg/MD/sub-107_in-MNI_MD_AFTER-minus-BEFORE.nii.gz /export2/DATA/HIS/HIS_server/analysis/dwi_data/stats_alt_reg/MD/sub-108_in-MNI_MD_AFTER-minus-BEFORE.nii.gz /export2/DATA/HIS/HIS_server/analysis/dwi_data/stats_alt_reg/MD/sub-110_in-MNI_MD_AFTER-minus-BEFORE.nii.gz /export2/DATA/HIS/HIS_server/analysis/dwi_data/stats_alt_reg/MD/sub-113_in-MNI_MD_AFTER-minus-BEFORE.nii.gz /export2/DATA/HIS/HIS_server/analysis/dwi_data/stats_alt_reg/MD/sub-114_in-MNI_MD_AFTER-minus-BEFORE.nii.gz /export2/DATA/HIS/HIS_server/analysis/dwi_data/stats_alt_reg/MD/sub-115_in-MNI_MD_AFTER-minus-BEFORE.nii.gz /export2/DATA/HIS/HIS_server/analysis/dwi_data/stats_alt_reg/MD/sub-117_in-MNI_MD_AFTER-minus-BEFORE.nii.gz /export2/DATA/HIS/HIS_server/analysis/dwi_data/stats_alt_reg/MD/sub-118_in-MNI_MD_AFTER-minus-BEFORE.nii.gz /export2/DATA/HIS/HIS_server/analysis/dwi_data/stats_alt_reg/MD/sub-119_in-MNI_MD_AFTER-minus-BEFORE.nii.gz /export2/DATA/HIS/HIS_server/analysis/dwi_data/stats_alt_reg/MD/sub-120_in-MNI_MD_AFTER-minus-BEFORE.nii.gz /export2/DATA/HIS/HIS_server/analysis/dwi_data/stats_alt_reg/MD/sub-121_in-MNI_MD_AFTER-minus-BEFORE.nii.gz /export2/DATA/HIS/HIS_server/analysis/dwi_data/stats_alt_reg/MD/sub-122_in-MNI_MD_AFTER-minus-BEFORE.nii.gz /export2/DATA/HIS/HIS_server/analysis/dwi_data/stats_alt_reg/MD/sub-124_in-MNI_MD_AFTER-minus-BEFORE.nii.gz /export2/DATA/HIS/HIS_server/analysis/dwi_data/stats_alt_reg/MD/sub-126_in-MNI_MD_AFTER-minus-BEFORE.nii.gz /export2/DATA/HIS/HIS_server/analysis/dwi_data/stats_alt_reg/MD/sub-127_in-MNI_MD_AFTER-minus-BEFORE.nii.gz /export2/DATA/HIS/HIS_server/analysis/dwi_data/stats_alt_reg/MD/sub-128_in-MNI_MD_AFTER-minus-BEFORE.nii.gz /export2/DATA/HIS/HIS_server/analysis/dwi_data/stats_alt_reg/MD/sub-129_in-MNI_MD_AFTER-minus-BEFORE.nii.gz /export2/DATA/HIS/HIS_server/analysis/dwi_data/stats_alt_reg/MD/sub-130_in-MNI_MD_AFTER-minus-BEFORE.nii.gz /export2/DATA/HIS/HIS_server/analysis/dwi_data/stats_alt_reg/MD/sub-131_in-MNI_MD_AFTER-minus-BEFORE.nii.gz /export2/DATA/HIS/HIS_server/analysis/dwi_data/stats_alt_reg/MD/sub-133_in-MNI_MD_AFTER-minus-BEFORE.nii.gz /export2/DATA/HIS/HIS_server/analysis/dwi_data/stats_alt_reg/MD/sub-135_in-MNI_MD_AFTER-minus-BEFORE.nii.gz /export2/DATA/HIS/HIS_server/analysis/dwi_data/stats_alt_reg/MD/sub-137_in-MNI_MD_AFTER-minus-BEFORE.nii.gz /export2/DATA/HIS/HIS_server/analysis/dwi_data/stats_alt_reg/MD/sub-138_in-MNI_MD_AFTER-minus-BEFORE.nii.gz /export2/DATA/HIS/HIS_server/analysis/dwi_data/stats_alt_reg/MD/sub-139_in-MNI_MD_AFTER-minus-BEFORE.nii.gz /export2/DATA/HIS/HIS_server/analysis/dwi_data/stats_alt_reg/MD/sub-140_in-MNI_MD_AFTER-minus-BEFORE.nii.gz /export2/DATA/HIS/HIS_server/analysis/dwi_data/stats_alt_reg/MD/sub-141_in-MNI_MD_AFTER-minus-BEFORE.nii.gz /export2/DATA/HIS/HIS_server/analysis/dwi_data/stats_alt_reg/MD/sub-142_in-MNI_MD_AFTER-minus-BEFORE.nii.gz /export2/DATA/HIS/HIS_server/analysis/dwi_data/stats_alt_reg/MD/sub-143_in-MNI_MD_AFTER-minus-BEFORE.nii.gz /export2/DATA/HIS/HIS_server/analysis/dwi_data/stats_alt_reg/MD/sub-144_in-MNI_MD_AFTER-minus-BEFORE.nii.gz /export2/DATA/HIS/HIS_server/analysis/dwi_data/stats_alt_reg/MD/sub-145_in-MNI_MD_AFTER-minus-BEFORE.nii.gz /export2/DATA/HIS/HIS_server/analysis/dwi_data/stats_alt_reg/MD/sub-146_in-MNI_MD_AFTER-minus-BEFORE.nii.gz /export2/DATA/HIS/HIS_server/analysis/dwi_data/stats_alt_reg/MD/sub-147_in-MNI_MD_AFTER-minus-BEFORE.nii.gz /export2/DATA/HIS/HIS_server/analysis/dwi_data/stats_alt_reg/MD/sub-148_in-MNI_MD_AFTER-minus-BEFORE.nii.gz /export2/DATA/HIS/HIS_server/analysis/dwi_data/stats_alt_reg/MD/sub-149_in-MNI_MD_AFTER-minus-BEFORE.nii.gz /export2/DATA/HIS/HIS_server/analysis/dwi_data/stats_alt_reg/MD/sub-150_in-MNI_MD_AFTER-minus-BEFORE.nii.gz /export2/DATA/HIS/HIS_server/analysis/dwi_data/stats_alt_reg/MD/sub-151_in-MNI_MD_AFTER-minus-BEFORE.nii.gz /export2/DATA/HIS/HIS_server/analysis/dwi_data/stats_alt_reg/MD/sub-152_in-MNI_MD_AFTER-minus-BEFORE.nii.gz /export2/DATA/HIS/HIS_server/analysis/dwi_data/stats_alt_reg/MD/sub-153_in-MNI_MD_AFTER-minus-BEFORE.nii.gz /export2/DATA/HIS/HIS_server/analysis/dwi_data/stats_alt_reg/MD/sub-154_in-MNI_MD_AFTER-minus-BEFORE.nii.gz /export2/DATA/HIS/HIS_server/analysis/dwi_data/stats_alt_reg/MD/sub-155_in-MNI_MD_AFTER-minus-BEFORE.nii.gz /export2/DATA/HIS/HIS_server/analysis/dwi_data/stats_alt_reg/MD/sub-156_in-MNI_MD_AFTER-minus-BEFORE.nii.gz /export2/DATA/HIS/HIS_server/analysis/dwi_data/stats_alt_reg/MD/sub-157_in-MNI_MD_AFTER-minus-BEFORE.nii.gz /export2/DATA/HIS/HIS_server/analysis/dwi_data/stats_alt_reg/MD/sub-158_in-MNI_MD_AFTER-minus-BEFORE.nii.gz /export2/DATA/HIS/HIS_server/analysis/dwi_data/stats_alt_reg/MD/sub-159_in-MNI_MD_AFTER-minus-BEFORE.nii.gz /export2/DATA/HIS/HIS_server/analysis/dwi_data/stats_alt_reg/MD/sub-160_in-MNI_MD_AFTER-minus-BEFORE.nii.gz /export2/DATA/HIS/HIS_server/analysis/dwi_data/stats_alt_reg/MD/sub-161_in-MNI_MD_AFTER-minus-BEFORE.nii.gz /export2/DATA/HIS/HIS_server/analysis/dwi_data/stats_alt_reg/MD/sub-162_in-MNI_MD_AFTER-minus-BEFORE.nii.gz /export2/DATA/HIS/HIS_server/analysis/dwi_data/stats_alt_reg/MD/sub-163_in-MNI_MD_AFTER-minus-BEFORE.nii.gz /export2/DATA/HIS/HIS_server/analysis/dwi_data/stats_alt_reg/MD/sub-164_in-MNI_MD_AFTER-minus-BEFORE.nii.gz /export2/DATA/HIS/HIS_server/analysis/dwi_data/stats_alt_reg/MD/sub-166_in-MNI_MD_AFTER-minus-BEFORE.nii.gz /export2/DATA/HIS/HIS_server/analysis/dwi_data/stats_alt_reg/MD/sub-167_in-MNI_MD_AFTER-minus-BEFORE.nii.gz /export2/DATA/HIS/HIS_server/analysis/dwi_data/stats_alt_reg/MD/sub-168_in-MNI_MD_AFTER-minus-BEFORE.nii.gz /export2/DATA/HIS/HIS_server/analysis/dwi_data/stats_alt_reg/MD/sub-169_in-MNI_MD_AFTER-minus-BEFORE.nii.gz /export2/DATA/HIS/HIS_server/analysis/dwi_data/stats_alt_reg/MD/sub-170_in-MNI_MD_AFTER-minus-BEFORE.nii.gz /export2/DATA/HIS/HIS_server/analysis/dwi_data/stats_alt_reg/MD/sub-171_in-MNI_MD_AFTER-minus-BEFORE.nii.gz /export2/DATA/HIS/HIS_server/analysis/dwi_data/stats_alt_reg/MD/sub-172_in-MNI_MD_AFTER-minus-BEFORE.nii.gz /export2/DATA/HIS/HIS_server/analysis/dwi_data/stats_alt_reg/MD/sub-174_in-MNI_MD_AFTER-minus-BEFORE.nii.gz /export2/DATA/HIS/HIS_server/analysis/dwi_data/stats_alt_reg/MD/sub-175_in-MNI_MD_AFTER-minus-BEFORE.nii.gz\n",
      "fslmerge -t /export2/DATA/HIS/HIS_server/analysis/dwi_data/stats_alt_reg/MD/LONG_individualDiff_BEFORE_minus_AFTER_MD /export2/DATA/HIS/HIS_server/analysis/dwi_data/stats_alt_reg/MD/sub-204_in-MNI_MD_BEFORE-minus-AFTER.nii.gz /export2/DATA/HIS/HIS_server/analysis/dwi_data/stats_alt_reg/MD/sub-205_in-MNI_MD_BEFORE-minus-AFTER.nii.gz /export2/DATA/HIS/HIS_server/analysis/dwi_data/stats_alt_reg/MD/sub-207_in-MNI_MD_BEFORE-minus-AFTER.nii.gz /export2/DATA/HIS/HIS_server/analysis/dwi_data/stats_alt_reg/MD/sub-208_in-MNI_MD_BEFORE-minus-AFTER.nii.gz /export2/DATA/HIS/HIS_server/analysis/dwi_data/stats_alt_reg/MD/sub-209_in-MNI_MD_BEFORE-minus-AFTER.nii.gz /export2/DATA/HIS/HIS_server/analysis/dwi_data/stats_alt_reg/MD/sub-210_in-MNI_MD_BEFORE-minus-AFTER.nii.gz /export2/DATA/HIS/HIS_server/analysis/dwi_data/stats_alt_reg/MD/sub-212_in-MNI_MD_BEFORE-minus-AFTER.nii.gz /export2/DATA/HIS/HIS_server/analysis/dwi_data/stats_alt_reg/MD/sub-214_in-MNI_MD_BEFORE-minus-AFTER.nii.gz /export2/DATA/HIS/HIS_server/analysis/dwi_data/stats_alt_reg/MD/sub-215_in-MNI_MD_BEFORE-minus-AFTER.nii.gz /export2/DATA/HIS/HIS_server/analysis/dwi_data/stats_alt_reg/MD/sub-217_in-MNI_MD_BEFORE-minus-AFTER.nii.gz /export2/DATA/HIS/HIS_server/analysis/dwi_data/stats_alt_reg/MD/sub-218_in-MNI_MD_BEFORE-minus-AFTER.nii.gz /export2/DATA/HIS/HIS_server/analysis/dwi_data/stats_alt_reg/MD/sub-220_in-MNI_MD_BEFORE-minus-AFTER.nii.gz /export2/DATA/HIS/HIS_server/analysis/dwi_data/stats_alt_reg/MD/sub-221_in-MNI_MD_BEFORE-minus-AFTER.nii.gz /export2/DATA/HIS/HIS_server/analysis/dwi_data/stats_alt_reg/MD/sub-223_in-MNI_MD_BEFORE-minus-AFTER.nii.gz /export2/DATA/HIS/HIS_server/analysis/dwi_data/stats_alt_reg/MD/sub-224_in-MNI_MD_BEFORE-minus-AFTER.nii.gz /export2/DATA/HIS/HIS_server/analysis/dwi_data/stats_alt_reg/MD/sub-225_in-MNI_MD_BEFORE-minus-AFTER.nii.gz /export2/DATA/HIS/HIS_server/analysis/dwi_data/stats_alt_reg/MD/sub-227_in-MNI_MD_BEFORE-minus-AFTER.nii.gz /export2/DATA/HIS/HIS_server/analysis/dwi_data/stats_alt_reg/MD/sub-229_in-MNI_MD_BEFORE-minus-AFTER.nii.gz /export2/DATA/HIS/HIS_server/analysis/dwi_data/stats_alt_reg/MD/sub-230_in-MNI_MD_BEFORE-minus-AFTER.nii.gz /export2/DATA/HIS/HIS_server/analysis/dwi_data/stats_alt_reg/MD/sub-232_in-MNI_MD_BEFORE-minus-AFTER.nii.gz /export2/DATA/HIS/HIS_server/analysis/dwi_data/stats_alt_reg/MD/sub-234_in-MNI_MD_BEFORE-minus-AFTER.nii.gz /export2/DATA/HIS/HIS_server/analysis/dwi_data/stats_alt_reg/MD/sub-235_in-MNI_MD_BEFORE-minus-AFTER.nii.gz /export2/DATA/HIS/HIS_server/analysis/dwi_data/stats_alt_reg/MD/sub-238_in-MNI_MD_BEFORE-minus-AFTER.nii.gz /export2/DATA/HIS/HIS_server/analysis/dwi_data/stats_alt_reg/MD/sub-239_in-MNI_MD_BEFORE-minus-AFTER.nii.gz /export2/DATA/HIS/HIS_server/analysis/dwi_data/stats_alt_reg/MD/sub-240_in-MNI_MD_BEFORE-minus-AFTER.nii.gz /export2/DATA/HIS/HIS_server/analysis/dwi_data/stats_alt_reg/MD/sub-241_in-MNI_MD_BEFORE-minus-AFTER.nii.gz /export2/DATA/HIS/HIS_server/analysis/dwi_data/stats_alt_reg/MD/sub-242_in-MNI_MD_BEFORE-minus-AFTER.nii.gz /export2/DATA/HIS/HIS_server/analysis/dwi_data/stats_alt_reg/MD/sub-243_in-MNI_MD_BEFORE-minus-AFTER.nii.gz /export2/DATA/HIS/HIS_server/analysis/dwi_data/stats_alt_reg/MD/sub-245_in-MNI_MD_BEFORE-minus-AFTER.nii.gz /export2/DATA/HIS/HIS_server/analysis/dwi_data/stats_alt_reg/MD/sub-247_in-MNI_MD_BEFORE-minus-AFTER.nii.gz /export2/DATA/HIS/HIS_server/analysis/dwi_data/stats_alt_reg/MD/sub-248_in-MNI_MD_BEFORE-minus-AFTER.nii.gz /export2/DATA/HIS/HIS_server/analysis/dwi_data/stats_alt_reg/MD/sub-249_in-MNI_MD_BEFORE-minus-AFTER.nii.gz /export2/DATA/HIS/HIS_server/analysis/dwi_data/stats_alt_reg/MD/sub-251_in-MNI_MD_BEFORE-minus-AFTER.nii.gz /export2/DATA/HIS/HIS_server/analysis/dwi_data/stats_alt_reg/MD/sub-252_in-MNI_MD_BEFORE-minus-AFTER.nii.gz /export2/DATA/HIS/HIS_server/analysis/dwi_data/stats_alt_reg/MD/sub-254_in-MNI_MD_BEFORE-minus-AFTER.nii.gz /export2/DATA/HIS/HIS_server/analysis/dwi_data/stats_alt_reg/MD/sub-255_in-MNI_MD_BEFORE-minus-AFTER.nii.gz /export2/DATA/HIS/HIS_server/analysis/dwi_data/stats_alt_reg/MD/sub-257_in-MNI_MD_BEFORE-minus-AFTER.nii.gz /export2/DATA/HIS/HIS_server/analysis/dwi_data/stats_alt_reg/MD/sub-258_in-MNI_MD_BEFORE-minus-AFTER.nii.gz /export2/DATA/HIS/HIS_server/analysis/dwi_data/stats_alt_reg/MD/sub-260_in-MNI_MD_BEFORE-minus-AFTER.nii.gz /export2/DATA/HIS/HIS_server/analysis/dwi_data/stats_alt_reg/MD/sub-261_in-MNI_MD_BEFORE-minus-AFTER.nii.gz /export2/DATA/HIS/HIS_server/analysis/dwi_data/stats_alt_reg/MD/sub-262_in-MNI_MD_BEFORE-minus-AFTER.nii.gz /export2/DATA/HIS/HIS_server/analysis/dwi_data/stats_alt_reg/MD/sub-263_in-MNI_MD_BEFORE-minus-AFTER.nii.gz /export2/DATA/HIS/HIS_server/analysis/dwi_data/stats_alt_reg/MD/sub-264_in-MNI_MD_BEFORE-minus-AFTER.nii.gz /export2/DATA/HIS/HIS_server/analysis/dwi_data/stats_alt_reg/MD/sub-265_in-MNI_MD_BEFORE-minus-AFTER.nii.gz /export2/DATA/HIS/HIS_server/analysis/dwi_data/stats_alt_reg/MD/sub-267_in-MNI_MD_BEFORE-minus-AFTER.nii.gz /export2/DATA/HIS/HIS_server/analysis/dwi_data/stats_alt_reg/MD/sub-268_in-MNI_MD_BEFORE-minus-AFTER.nii.gz /export2/DATA/HIS/HIS_server/analysis/dwi_data/stats_alt_reg/MD/sub-269_in-MNI_MD_BEFORE-minus-AFTER.nii.gz /export2/DATA/HIS/HIS_server/analysis/dwi_data/stats_alt_reg/MD/sub-270_in-MNI_MD_BEFORE-minus-AFTER.nii.gz /export2/DATA/HIS/HIS_server/analysis/dwi_data/stats_alt_reg/MD/sub-271_in-MNI_MD_BEFORE-minus-AFTER.nii.gz /export2/DATA/HIS/HIS_server/analysis/dwi_data/stats_alt_reg/MD/sub-272_in-MNI_MD_BEFORE-minus-AFTER.nii.gz /export2/DATA/HIS/HIS_server/analysis/dwi_data/stats_alt_reg/MD/sub-275_in-MNI_MD_BEFORE-minus-AFTER.nii.gz /export2/DATA/HIS/HIS_server/analysis/dwi_data/stats_alt_reg/MD/sub-276_in-MNI_MD_BEFORE-minus-AFTER.nii.gz /export2/DATA/HIS/HIS_server/analysis/dwi_data/stats_alt_reg/MD/sub-277_in-MNI_MD_BEFORE-minus-AFTER.nii.gz /export2/DATA/HIS/HIS_server/analysis/dwi_data/stats_alt_reg/MD/sub-278_in-MNI_MD_BEFORE-minus-AFTER.nii.gz /export2/DATA/HIS/HIS_server/analysis/dwi_data/stats_alt_reg/MD/sub-280_in-MNI_MD_BEFORE-minus-AFTER.nii.gz /export2/DATA/HIS/HIS_server/analysis/dwi_data/stats_alt_reg/MD/sub-281_in-MNI_MD_BEFORE-minus-AFTER.nii.gz /export2/DATA/HIS/HIS_server/analysis/dwi_data/stats_alt_reg/MD/sub-282_in-MNI_MD_BEFORE-minus-AFTER.nii.gz /export2/DATA/HIS/HIS_server/analysis/dwi_data/stats_alt_reg/MD/sub-283_in-MNI_MD_BEFORE-minus-AFTER.nii.gz /export2/DATA/HIS/HIS_server/analysis/dwi_data/stats_alt_reg/MD/sub-284_in-MNI_MD_BEFORE-minus-AFTER.nii.gz /export2/DATA/HIS/HIS_server/analysis/dwi_data/stats_alt_reg/MD/sub-285_in-MNI_MD_BEFORE-minus-AFTER.nii.gz\n",
      "fslmerge -t /export2/DATA/HIS/HIS_server/analysis/dwi_data/stats_alt_reg/MD/SHORT_individualDiff_BEFORE_minus_AFTER_MD /export2/DATA/HIS/HIS_server/analysis/dwi_data/stats_alt_reg/MD/sub-103_in-MNI_MD_BEFORE-minus-AFTER.nii.gz /export2/DATA/HIS/HIS_server/analysis/dwi_data/stats_alt_reg/MD/sub-104_in-MNI_MD_BEFORE-minus-AFTER.nii.gz /export2/DATA/HIS/HIS_server/analysis/dwi_data/stats_alt_reg/MD/sub-106_in-MNI_MD_BEFORE-minus-AFTER.nii.gz /export2/DATA/HIS/HIS_server/analysis/dwi_data/stats_alt_reg/MD/sub-107_in-MNI_MD_BEFORE-minus-AFTER.nii.gz /export2/DATA/HIS/HIS_server/analysis/dwi_data/stats_alt_reg/MD/sub-108_in-MNI_MD_BEFORE-minus-AFTER.nii.gz /export2/DATA/HIS/HIS_server/analysis/dwi_data/stats_alt_reg/MD/sub-110_in-MNI_MD_BEFORE-minus-AFTER.nii.gz /export2/DATA/HIS/HIS_server/analysis/dwi_data/stats_alt_reg/MD/sub-113_in-MNI_MD_BEFORE-minus-AFTER.nii.gz /export2/DATA/HIS/HIS_server/analysis/dwi_data/stats_alt_reg/MD/sub-114_in-MNI_MD_BEFORE-minus-AFTER.nii.gz /export2/DATA/HIS/HIS_server/analysis/dwi_data/stats_alt_reg/MD/sub-115_in-MNI_MD_BEFORE-minus-AFTER.nii.gz /export2/DATA/HIS/HIS_server/analysis/dwi_data/stats_alt_reg/MD/sub-117_in-MNI_MD_BEFORE-minus-AFTER.nii.gz /export2/DATA/HIS/HIS_server/analysis/dwi_data/stats_alt_reg/MD/sub-118_in-MNI_MD_BEFORE-minus-AFTER.nii.gz /export2/DATA/HIS/HIS_server/analysis/dwi_data/stats_alt_reg/MD/sub-119_in-MNI_MD_BEFORE-minus-AFTER.nii.gz /export2/DATA/HIS/HIS_server/analysis/dwi_data/stats_alt_reg/MD/sub-120_in-MNI_MD_BEFORE-minus-AFTER.nii.gz /export2/DATA/HIS/HIS_server/analysis/dwi_data/stats_alt_reg/MD/sub-121_in-MNI_MD_BEFORE-minus-AFTER.nii.gz /export2/DATA/HIS/HIS_server/analysis/dwi_data/stats_alt_reg/MD/sub-122_in-MNI_MD_BEFORE-minus-AFTER.nii.gz /export2/DATA/HIS/HIS_server/analysis/dwi_data/stats_alt_reg/MD/sub-124_in-MNI_MD_BEFORE-minus-AFTER.nii.gz /export2/DATA/HIS/HIS_server/analysis/dwi_data/stats_alt_reg/MD/sub-126_in-MNI_MD_BEFORE-minus-AFTER.nii.gz /export2/DATA/HIS/HIS_server/analysis/dwi_data/stats_alt_reg/MD/sub-127_in-MNI_MD_BEFORE-minus-AFTER.nii.gz /export2/DATA/HIS/HIS_server/analysis/dwi_data/stats_alt_reg/MD/sub-128_in-MNI_MD_BEFORE-minus-AFTER.nii.gz /export2/DATA/HIS/HIS_server/analysis/dwi_data/stats_alt_reg/MD/sub-129_in-MNI_MD_BEFORE-minus-AFTER.nii.gz /export2/DATA/HIS/HIS_server/analysis/dwi_data/stats_alt_reg/MD/sub-130_in-MNI_MD_BEFORE-minus-AFTER.nii.gz /export2/DATA/HIS/HIS_server/analysis/dwi_data/stats_alt_reg/MD/sub-131_in-MNI_MD_BEFORE-minus-AFTER.nii.gz /export2/DATA/HIS/HIS_server/analysis/dwi_data/stats_alt_reg/MD/sub-133_in-MNI_MD_BEFORE-minus-AFTER.nii.gz /export2/DATA/HIS/HIS_server/analysis/dwi_data/stats_alt_reg/MD/sub-135_in-MNI_MD_BEFORE-minus-AFTER.nii.gz /export2/DATA/HIS/HIS_server/analysis/dwi_data/stats_alt_reg/MD/sub-137_in-MNI_MD_BEFORE-minus-AFTER.nii.gz /export2/DATA/HIS/HIS_server/analysis/dwi_data/stats_alt_reg/MD/sub-138_in-MNI_MD_BEFORE-minus-AFTER.nii.gz /export2/DATA/HIS/HIS_server/analysis/dwi_data/stats_alt_reg/MD/sub-139_in-MNI_MD_BEFORE-minus-AFTER.nii.gz /export2/DATA/HIS/HIS_server/analysis/dwi_data/stats_alt_reg/MD/sub-140_in-MNI_MD_BEFORE-minus-AFTER.nii.gz /export2/DATA/HIS/HIS_server/analysis/dwi_data/stats_alt_reg/MD/sub-141_in-MNI_MD_BEFORE-minus-AFTER.nii.gz /export2/DATA/HIS/HIS_server/analysis/dwi_data/stats_alt_reg/MD/sub-142_in-MNI_MD_BEFORE-minus-AFTER.nii.gz /export2/DATA/HIS/HIS_server/analysis/dwi_data/stats_alt_reg/MD/sub-143_in-MNI_MD_BEFORE-minus-AFTER.nii.gz /export2/DATA/HIS/HIS_server/analysis/dwi_data/stats_alt_reg/MD/sub-144_in-MNI_MD_BEFORE-minus-AFTER.nii.gz /export2/DATA/HIS/HIS_server/analysis/dwi_data/stats_alt_reg/MD/sub-145_in-MNI_MD_BEFORE-minus-AFTER.nii.gz /export2/DATA/HIS/HIS_server/analysis/dwi_data/stats_alt_reg/MD/sub-146_in-MNI_MD_BEFORE-minus-AFTER.nii.gz /export2/DATA/HIS/HIS_server/analysis/dwi_data/stats_alt_reg/MD/sub-147_in-MNI_MD_BEFORE-minus-AFTER.nii.gz /export2/DATA/HIS/HIS_server/analysis/dwi_data/stats_alt_reg/MD/sub-148_in-MNI_MD_BEFORE-minus-AFTER.nii.gz /export2/DATA/HIS/HIS_server/analysis/dwi_data/stats_alt_reg/MD/sub-149_in-MNI_MD_BEFORE-minus-AFTER.nii.gz /export2/DATA/HIS/HIS_server/analysis/dwi_data/stats_alt_reg/MD/sub-150_in-MNI_MD_BEFORE-minus-AFTER.nii.gz /export2/DATA/HIS/HIS_server/analysis/dwi_data/stats_alt_reg/MD/sub-151_in-MNI_MD_BEFORE-minus-AFTER.nii.gz /export2/DATA/HIS/HIS_server/analysis/dwi_data/stats_alt_reg/MD/sub-152_in-MNI_MD_BEFORE-minus-AFTER.nii.gz /export2/DATA/HIS/HIS_server/analysis/dwi_data/stats_alt_reg/MD/sub-153_in-MNI_MD_BEFORE-minus-AFTER.nii.gz /export2/DATA/HIS/HIS_server/analysis/dwi_data/stats_alt_reg/MD/sub-154_in-MNI_MD_BEFORE-minus-AFTER.nii.gz /export2/DATA/HIS/HIS_server/analysis/dwi_data/stats_alt_reg/MD/sub-155_in-MNI_MD_BEFORE-minus-AFTER.nii.gz /export2/DATA/HIS/HIS_server/analysis/dwi_data/stats_alt_reg/MD/sub-156_in-MNI_MD_BEFORE-minus-AFTER.nii.gz /export2/DATA/HIS/HIS_server/analysis/dwi_data/stats_alt_reg/MD/sub-157_in-MNI_MD_BEFORE-minus-AFTER.nii.gz /export2/DATA/HIS/HIS_server/analysis/dwi_data/stats_alt_reg/MD/sub-158_in-MNI_MD_BEFORE-minus-AFTER.nii.gz /export2/DATA/HIS/HIS_server/analysis/dwi_data/stats_alt_reg/MD/sub-159_in-MNI_MD_BEFORE-minus-AFTER.nii.gz /export2/DATA/HIS/HIS_server/analysis/dwi_data/stats_alt_reg/MD/sub-160_in-MNI_MD_BEFORE-minus-AFTER.nii.gz /export2/DATA/HIS/HIS_server/analysis/dwi_data/stats_alt_reg/MD/sub-161_in-MNI_MD_BEFORE-minus-AFTER.nii.gz /export2/DATA/HIS/HIS_server/analysis/dwi_data/stats_alt_reg/MD/sub-162_in-MNI_MD_BEFORE-minus-AFTER.nii.gz /export2/DATA/HIS/HIS_server/analysis/dwi_data/stats_alt_reg/MD/sub-163_in-MNI_MD_BEFORE-minus-AFTER.nii.gz /export2/DATA/HIS/HIS_server/analysis/dwi_data/stats_alt_reg/MD/sub-164_in-MNI_MD_BEFORE-minus-AFTER.nii.gz /export2/DATA/HIS/HIS_server/analysis/dwi_data/stats_alt_reg/MD/sub-166_in-MNI_MD_BEFORE-minus-AFTER.nii.gz /export2/DATA/HIS/HIS_server/analysis/dwi_data/stats_alt_reg/MD/sub-167_in-MNI_MD_BEFORE-minus-AFTER.nii.gz /export2/DATA/HIS/HIS_server/analysis/dwi_data/stats_alt_reg/MD/sub-168_in-MNI_MD_BEFORE-minus-AFTER.nii.gz /export2/DATA/HIS/HIS_server/analysis/dwi_data/stats_alt_reg/MD/sub-169_in-MNI_MD_BEFORE-minus-AFTER.nii.gz /export2/DATA/HIS/HIS_server/analysis/dwi_data/stats_alt_reg/MD/sub-170_in-MNI_MD_BEFORE-minus-AFTER.nii.gz /export2/DATA/HIS/HIS_server/analysis/dwi_data/stats_alt_reg/MD/sub-171_in-MNI_MD_BEFORE-minus-AFTER.nii.gz /export2/DATA/HIS/HIS_server/analysis/dwi_data/stats_alt_reg/MD/sub-172_in-MNI_MD_BEFORE-minus-AFTER.nii.gz /export2/DATA/HIS/HIS_server/analysis/dwi_data/stats_alt_reg/MD/sub-174_in-MNI_MD_BEFORE-minus-AFTER.nii.gz /export2/DATA/HIS/HIS_server/analysis/dwi_data/stats_alt_reg/MD/sub-175_in-MNI_MD_BEFORE-minus-AFTER.nii.gz\n",
      "fslmerge -t /export2/DATA/HIS/HIS_server/analysis/dwi_data/stats_alt_reg/FA/LONG_individualDiff_AFTER_minus_BEFORE_FA /export2/DATA/HIS/HIS_server/analysis/dwi_data/stats_alt_reg/FA/sub-204_in-MNI_FA_AFTER-minus-BEFORE.nii.gz /export2/DATA/HIS/HIS_server/analysis/dwi_data/stats_alt_reg/FA/sub-205_in-MNI_FA_AFTER-minus-BEFORE.nii.gz /export2/DATA/HIS/HIS_server/analysis/dwi_data/stats_alt_reg/FA/sub-207_in-MNI_FA_AFTER-minus-BEFORE.nii.gz /export2/DATA/HIS/HIS_server/analysis/dwi_data/stats_alt_reg/FA/sub-208_in-MNI_FA_AFTER-minus-BEFORE.nii.gz /export2/DATA/HIS/HIS_server/analysis/dwi_data/stats_alt_reg/FA/sub-209_in-MNI_FA_AFTER-minus-BEFORE.nii.gz /export2/DATA/HIS/HIS_server/analysis/dwi_data/stats_alt_reg/FA/sub-210_in-MNI_FA_AFTER-minus-BEFORE.nii.gz /export2/DATA/HIS/HIS_server/analysis/dwi_data/stats_alt_reg/FA/sub-212_in-MNI_FA_AFTER-minus-BEFORE.nii.gz /export2/DATA/HIS/HIS_server/analysis/dwi_data/stats_alt_reg/FA/sub-214_in-MNI_FA_AFTER-minus-BEFORE.nii.gz /export2/DATA/HIS/HIS_server/analysis/dwi_data/stats_alt_reg/FA/sub-215_in-MNI_FA_AFTER-minus-BEFORE.nii.gz /export2/DATA/HIS/HIS_server/analysis/dwi_data/stats_alt_reg/FA/sub-217_in-MNI_FA_AFTER-minus-BEFORE.nii.gz /export2/DATA/HIS/HIS_server/analysis/dwi_data/stats_alt_reg/FA/sub-218_in-MNI_FA_AFTER-minus-BEFORE.nii.gz /export2/DATA/HIS/HIS_server/analysis/dwi_data/stats_alt_reg/FA/sub-220_in-MNI_FA_AFTER-minus-BEFORE.nii.gz /export2/DATA/HIS/HIS_server/analysis/dwi_data/stats_alt_reg/FA/sub-221_in-MNI_FA_AFTER-minus-BEFORE.nii.gz /export2/DATA/HIS/HIS_server/analysis/dwi_data/stats_alt_reg/FA/sub-223_in-MNI_FA_AFTER-minus-BEFORE.nii.gz /export2/DATA/HIS/HIS_server/analysis/dwi_data/stats_alt_reg/FA/sub-224_in-MNI_FA_AFTER-minus-BEFORE.nii.gz /export2/DATA/HIS/HIS_server/analysis/dwi_data/stats_alt_reg/FA/sub-225_in-MNI_FA_AFTER-minus-BEFORE.nii.gz /export2/DATA/HIS/HIS_server/analysis/dwi_data/stats_alt_reg/FA/sub-227_in-MNI_FA_AFTER-minus-BEFORE.nii.gz /export2/DATA/HIS/HIS_server/analysis/dwi_data/stats_alt_reg/FA/sub-229_in-MNI_FA_AFTER-minus-BEFORE.nii.gz /export2/DATA/HIS/HIS_server/analysis/dwi_data/stats_alt_reg/FA/sub-230_in-MNI_FA_AFTER-minus-BEFORE.nii.gz /export2/DATA/HIS/HIS_server/analysis/dwi_data/stats_alt_reg/FA/sub-232_in-MNI_FA_AFTER-minus-BEFORE.nii.gz /export2/DATA/HIS/HIS_server/analysis/dwi_data/stats_alt_reg/FA/sub-234_in-MNI_FA_AFTER-minus-BEFORE.nii.gz /export2/DATA/HIS/HIS_server/analysis/dwi_data/stats_alt_reg/FA/sub-235_in-MNI_FA_AFTER-minus-BEFORE.nii.gz /export2/DATA/HIS/HIS_server/analysis/dwi_data/stats_alt_reg/FA/sub-238_in-MNI_FA_AFTER-minus-BEFORE.nii.gz /export2/DATA/HIS/HIS_server/analysis/dwi_data/stats_alt_reg/FA/sub-239_in-MNI_FA_AFTER-minus-BEFORE.nii.gz /export2/DATA/HIS/HIS_server/analysis/dwi_data/stats_alt_reg/FA/sub-240_in-MNI_FA_AFTER-minus-BEFORE.nii.gz /export2/DATA/HIS/HIS_server/analysis/dwi_data/stats_alt_reg/FA/sub-241_in-MNI_FA_AFTER-minus-BEFORE.nii.gz /export2/DATA/HIS/HIS_server/analysis/dwi_data/stats_alt_reg/FA/sub-242_in-MNI_FA_AFTER-minus-BEFORE.nii.gz /export2/DATA/HIS/HIS_server/analysis/dwi_data/stats_alt_reg/FA/sub-243_in-MNI_FA_AFTER-minus-BEFORE.nii.gz /export2/DATA/HIS/HIS_server/analysis/dwi_data/stats_alt_reg/FA/sub-245_in-MNI_FA_AFTER-minus-BEFORE.nii.gz /export2/DATA/HIS/HIS_server/analysis/dwi_data/stats_alt_reg/FA/sub-247_in-MNI_FA_AFTER-minus-BEFORE.nii.gz /export2/DATA/HIS/HIS_server/analysis/dwi_data/stats_alt_reg/FA/sub-248_in-MNI_FA_AFTER-minus-BEFORE.nii.gz /export2/DATA/HIS/HIS_server/analysis/dwi_data/stats_alt_reg/FA/sub-249_in-MNI_FA_AFTER-minus-BEFORE.nii.gz /export2/DATA/HIS/HIS_server/analysis/dwi_data/stats_alt_reg/FA/sub-251_in-MNI_FA_AFTER-minus-BEFORE.nii.gz /export2/DATA/HIS/HIS_server/analysis/dwi_data/stats_alt_reg/FA/sub-252_in-MNI_FA_AFTER-minus-BEFORE.nii.gz /export2/DATA/HIS/HIS_server/analysis/dwi_data/stats_alt_reg/FA/sub-254_in-MNI_FA_AFTER-minus-BEFORE.nii.gz /export2/DATA/HIS/HIS_server/analysis/dwi_data/stats_alt_reg/FA/sub-255_in-MNI_FA_AFTER-minus-BEFORE.nii.gz /export2/DATA/HIS/HIS_server/analysis/dwi_data/stats_alt_reg/FA/sub-257_in-MNI_FA_AFTER-minus-BEFORE.nii.gz /export2/DATA/HIS/HIS_server/analysis/dwi_data/stats_alt_reg/FA/sub-258_in-MNI_FA_AFTER-minus-BEFORE.nii.gz /export2/DATA/HIS/HIS_server/analysis/dwi_data/stats_alt_reg/FA/sub-260_in-MNI_FA_AFTER-minus-BEFORE.nii.gz /export2/DATA/HIS/HIS_server/analysis/dwi_data/stats_alt_reg/FA/sub-261_in-MNI_FA_AFTER-minus-BEFORE.nii.gz /export2/DATA/HIS/HIS_server/analysis/dwi_data/stats_alt_reg/FA/sub-262_in-MNI_FA_AFTER-minus-BEFORE.nii.gz /export2/DATA/HIS/HIS_server/analysis/dwi_data/stats_alt_reg/FA/sub-263_in-MNI_FA_AFTER-minus-BEFORE.nii.gz /export2/DATA/HIS/HIS_server/analysis/dwi_data/stats_alt_reg/FA/sub-264_in-MNI_FA_AFTER-minus-BEFORE.nii.gz /export2/DATA/HIS/HIS_server/analysis/dwi_data/stats_alt_reg/FA/sub-265_in-MNI_FA_AFTER-minus-BEFORE.nii.gz /export2/DATA/HIS/HIS_server/analysis/dwi_data/stats_alt_reg/FA/sub-267_in-MNI_FA_AFTER-minus-BEFORE.nii.gz /export2/DATA/HIS/HIS_server/analysis/dwi_data/stats_alt_reg/FA/sub-268_in-MNI_FA_AFTER-minus-BEFORE.nii.gz /export2/DATA/HIS/HIS_server/analysis/dwi_data/stats_alt_reg/FA/sub-269_in-MNI_FA_AFTER-minus-BEFORE.nii.gz /export2/DATA/HIS/HIS_server/analysis/dwi_data/stats_alt_reg/FA/sub-270_in-MNI_FA_AFTER-minus-BEFORE.nii.gz /export2/DATA/HIS/HIS_server/analysis/dwi_data/stats_alt_reg/FA/sub-271_in-MNI_FA_AFTER-minus-BEFORE.nii.gz /export2/DATA/HIS/HIS_server/analysis/dwi_data/stats_alt_reg/FA/sub-272_in-MNI_FA_AFTER-minus-BEFORE.nii.gz /export2/DATA/HIS/HIS_server/analysis/dwi_data/stats_alt_reg/FA/sub-275_in-MNI_FA_AFTER-minus-BEFORE.nii.gz /export2/DATA/HIS/HIS_server/analysis/dwi_data/stats_alt_reg/FA/sub-276_in-MNI_FA_AFTER-minus-BEFORE.nii.gz /export2/DATA/HIS/HIS_server/analysis/dwi_data/stats_alt_reg/FA/sub-277_in-MNI_FA_AFTER-minus-BEFORE.nii.gz /export2/DATA/HIS/HIS_server/analysis/dwi_data/stats_alt_reg/FA/sub-278_in-MNI_FA_AFTER-minus-BEFORE.nii.gz /export2/DATA/HIS/HIS_server/analysis/dwi_data/stats_alt_reg/FA/sub-280_in-MNI_FA_AFTER-minus-BEFORE.nii.gz /export2/DATA/HIS/HIS_server/analysis/dwi_data/stats_alt_reg/FA/sub-281_in-MNI_FA_AFTER-minus-BEFORE.nii.gz /export2/DATA/HIS/HIS_server/analysis/dwi_data/stats_alt_reg/FA/sub-282_in-MNI_FA_AFTER-minus-BEFORE.nii.gz /export2/DATA/HIS/HIS_server/analysis/dwi_data/stats_alt_reg/FA/sub-283_in-MNI_FA_AFTER-minus-BEFORE.nii.gz /export2/DATA/HIS/HIS_server/analysis/dwi_data/stats_alt_reg/FA/sub-284_in-MNI_FA_AFTER-minus-BEFORE.nii.gz /export2/DATA/HIS/HIS_server/analysis/dwi_data/stats_alt_reg/FA/sub-285_in-MNI_FA_AFTER-minus-BEFORE.nii.gz\n",
      "fslmerge -t /export2/DATA/HIS/HIS_server/analysis/dwi_data/stats_alt_reg/FA/SHORT_individualDiff_AFTER_minus_BEFORE_FA /export2/DATA/HIS/HIS_server/analysis/dwi_data/stats_alt_reg/FA/sub-103_in-MNI_FA_AFTER-minus-BEFORE.nii.gz /export2/DATA/HIS/HIS_server/analysis/dwi_data/stats_alt_reg/FA/sub-104_in-MNI_FA_AFTER-minus-BEFORE.nii.gz /export2/DATA/HIS/HIS_server/analysis/dwi_data/stats_alt_reg/FA/sub-106_in-MNI_FA_AFTER-minus-BEFORE.nii.gz /export2/DATA/HIS/HIS_server/analysis/dwi_data/stats_alt_reg/FA/sub-107_in-MNI_FA_AFTER-minus-BEFORE.nii.gz /export2/DATA/HIS/HIS_server/analysis/dwi_data/stats_alt_reg/FA/sub-108_in-MNI_FA_AFTER-minus-BEFORE.nii.gz /export2/DATA/HIS/HIS_server/analysis/dwi_data/stats_alt_reg/FA/sub-110_in-MNI_FA_AFTER-minus-BEFORE.nii.gz /export2/DATA/HIS/HIS_server/analysis/dwi_data/stats_alt_reg/FA/sub-113_in-MNI_FA_AFTER-minus-BEFORE.nii.gz /export2/DATA/HIS/HIS_server/analysis/dwi_data/stats_alt_reg/FA/sub-114_in-MNI_FA_AFTER-minus-BEFORE.nii.gz /export2/DATA/HIS/HIS_server/analysis/dwi_data/stats_alt_reg/FA/sub-115_in-MNI_FA_AFTER-minus-BEFORE.nii.gz /export2/DATA/HIS/HIS_server/analysis/dwi_data/stats_alt_reg/FA/sub-117_in-MNI_FA_AFTER-minus-BEFORE.nii.gz /export2/DATA/HIS/HIS_server/analysis/dwi_data/stats_alt_reg/FA/sub-118_in-MNI_FA_AFTER-minus-BEFORE.nii.gz /export2/DATA/HIS/HIS_server/analysis/dwi_data/stats_alt_reg/FA/sub-119_in-MNI_FA_AFTER-minus-BEFORE.nii.gz /export2/DATA/HIS/HIS_server/analysis/dwi_data/stats_alt_reg/FA/sub-120_in-MNI_FA_AFTER-minus-BEFORE.nii.gz /export2/DATA/HIS/HIS_server/analysis/dwi_data/stats_alt_reg/FA/sub-121_in-MNI_FA_AFTER-minus-BEFORE.nii.gz /export2/DATA/HIS/HIS_server/analysis/dwi_data/stats_alt_reg/FA/sub-122_in-MNI_FA_AFTER-minus-BEFORE.nii.gz /export2/DATA/HIS/HIS_server/analysis/dwi_data/stats_alt_reg/FA/sub-124_in-MNI_FA_AFTER-minus-BEFORE.nii.gz /export2/DATA/HIS/HIS_server/analysis/dwi_data/stats_alt_reg/FA/sub-126_in-MNI_FA_AFTER-minus-BEFORE.nii.gz /export2/DATA/HIS/HIS_server/analysis/dwi_data/stats_alt_reg/FA/sub-127_in-MNI_FA_AFTER-minus-BEFORE.nii.gz /export2/DATA/HIS/HIS_server/analysis/dwi_data/stats_alt_reg/FA/sub-128_in-MNI_FA_AFTER-minus-BEFORE.nii.gz /export2/DATA/HIS/HIS_server/analysis/dwi_data/stats_alt_reg/FA/sub-129_in-MNI_FA_AFTER-minus-BEFORE.nii.gz /export2/DATA/HIS/HIS_server/analysis/dwi_data/stats_alt_reg/FA/sub-130_in-MNI_FA_AFTER-minus-BEFORE.nii.gz /export2/DATA/HIS/HIS_server/analysis/dwi_data/stats_alt_reg/FA/sub-131_in-MNI_FA_AFTER-minus-BEFORE.nii.gz /export2/DATA/HIS/HIS_server/analysis/dwi_data/stats_alt_reg/FA/sub-133_in-MNI_FA_AFTER-minus-BEFORE.nii.gz /export2/DATA/HIS/HIS_server/analysis/dwi_data/stats_alt_reg/FA/sub-135_in-MNI_FA_AFTER-minus-BEFORE.nii.gz /export2/DATA/HIS/HIS_server/analysis/dwi_data/stats_alt_reg/FA/sub-137_in-MNI_FA_AFTER-minus-BEFORE.nii.gz /export2/DATA/HIS/HIS_server/analysis/dwi_data/stats_alt_reg/FA/sub-138_in-MNI_FA_AFTER-minus-BEFORE.nii.gz /export2/DATA/HIS/HIS_server/analysis/dwi_data/stats_alt_reg/FA/sub-139_in-MNI_FA_AFTER-minus-BEFORE.nii.gz /export2/DATA/HIS/HIS_server/analysis/dwi_data/stats_alt_reg/FA/sub-140_in-MNI_FA_AFTER-minus-BEFORE.nii.gz /export2/DATA/HIS/HIS_server/analysis/dwi_data/stats_alt_reg/FA/sub-141_in-MNI_FA_AFTER-minus-BEFORE.nii.gz /export2/DATA/HIS/HIS_server/analysis/dwi_data/stats_alt_reg/FA/sub-142_in-MNI_FA_AFTER-minus-BEFORE.nii.gz /export2/DATA/HIS/HIS_server/analysis/dwi_data/stats_alt_reg/FA/sub-143_in-MNI_FA_AFTER-minus-BEFORE.nii.gz /export2/DATA/HIS/HIS_server/analysis/dwi_data/stats_alt_reg/FA/sub-144_in-MNI_FA_AFTER-minus-BEFORE.nii.gz /export2/DATA/HIS/HIS_server/analysis/dwi_data/stats_alt_reg/FA/sub-145_in-MNI_FA_AFTER-minus-BEFORE.nii.gz /export2/DATA/HIS/HIS_server/analysis/dwi_data/stats_alt_reg/FA/sub-146_in-MNI_FA_AFTER-minus-BEFORE.nii.gz /export2/DATA/HIS/HIS_server/analysis/dwi_data/stats_alt_reg/FA/sub-147_in-MNI_FA_AFTER-minus-BEFORE.nii.gz /export2/DATA/HIS/HIS_server/analysis/dwi_data/stats_alt_reg/FA/sub-148_in-MNI_FA_AFTER-minus-BEFORE.nii.gz /export2/DATA/HIS/HIS_server/analysis/dwi_data/stats_alt_reg/FA/sub-149_in-MNI_FA_AFTER-minus-BEFORE.nii.gz /export2/DATA/HIS/HIS_server/analysis/dwi_data/stats_alt_reg/FA/sub-150_in-MNI_FA_AFTER-minus-BEFORE.nii.gz /export2/DATA/HIS/HIS_server/analysis/dwi_data/stats_alt_reg/FA/sub-151_in-MNI_FA_AFTER-minus-BEFORE.nii.gz /export2/DATA/HIS/HIS_server/analysis/dwi_data/stats_alt_reg/FA/sub-152_in-MNI_FA_AFTER-minus-BEFORE.nii.gz /export2/DATA/HIS/HIS_server/analysis/dwi_data/stats_alt_reg/FA/sub-153_in-MNI_FA_AFTER-minus-BEFORE.nii.gz /export2/DATA/HIS/HIS_server/analysis/dwi_data/stats_alt_reg/FA/sub-154_in-MNI_FA_AFTER-minus-BEFORE.nii.gz /export2/DATA/HIS/HIS_server/analysis/dwi_data/stats_alt_reg/FA/sub-155_in-MNI_FA_AFTER-minus-BEFORE.nii.gz /export2/DATA/HIS/HIS_server/analysis/dwi_data/stats_alt_reg/FA/sub-156_in-MNI_FA_AFTER-minus-BEFORE.nii.gz /export2/DATA/HIS/HIS_server/analysis/dwi_data/stats_alt_reg/FA/sub-157_in-MNI_FA_AFTER-minus-BEFORE.nii.gz /export2/DATA/HIS/HIS_server/analysis/dwi_data/stats_alt_reg/FA/sub-158_in-MNI_FA_AFTER-minus-BEFORE.nii.gz /export2/DATA/HIS/HIS_server/analysis/dwi_data/stats_alt_reg/FA/sub-159_in-MNI_FA_AFTER-minus-BEFORE.nii.gz /export2/DATA/HIS/HIS_server/analysis/dwi_data/stats_alt_reg/FA/sub-160_in-MNI_FA_AFTER-minus-BEFORE.nii.gz /export2/DATA/HIS/HIS_server/analysis/dwi_data/stats_alt_reg/FA/sub-161_in-MNI_FA_AFTER-minus-BEFORE.nii.gz /export2/DATA/HIS/HIS_server/analysis/dwi_data/stats_alt_reg/FA/sub-162_in-MNI_FA_AFTER-minus-BEFORE.nii.gz /export2/DATA/HIS/HIS_server/analysis/dwi_data/stats_alt_reg/FA/sub-163_in-MNI_FA_AFTER-minus-BEFORE.nii.gz /export2/DATA/HIS/HIS_server/analysis/dwi_data/stats_alt_reg/FA/sub-164_in-MNI_FA_AFTER-minus-BEFORE.nii.gz /export2/DATA/HIS/HIS_server/analysis/dwi_data/stats_alt_reg/FA/sub-166_in-MNI_FA_AFTER-minus-BEFORE.nii.gz /export2/DATA/HIS/HIS_server/analysis/dwi_data/stats_alt_reg/FA/sub-167_in-MNI_FA_AFTER-minus-BEFORE.nii.gz /export2/DATA/HIS/HIS_server/analysis/dwi_data/stats_alt_reg/FA/sub-168_in-MNI_FA_AFTER-minus-BEFORE.nii.gz /export2/DATA/HIS/HIS_server/analysis/dwi_data/stats_alt_reg/FA/sub-169_in-MNI_FA_AFTER-minus-BEFORE.nii.gz /export2/DATA/HIS/HIS_server/analysis/dwi_data/stats_alt_reg/FA/sub-170_in-MNI_FA_AFTER-minus-BEFORE.nii.gz /export2/DATA/HIS/HIS_server/analysis/dwi_data/stats_alt_reg/FA/sub-171_in-MNI_FA_AFTER-minus-BEFORE.nii.gz /export2/DATA/HIS/HIS_server/analysis/dwi_data/stats_alt_reg/FA/sub-172_in-MNI_FA_AFTER-minus-BEFORE.nii.gz /export2/DATA/HIS/HIS_server/analysis/dwi_data/stats_alt_reg/FA/sub-174_in-MNI_FA_AFTER-minus-BEFORE.nii.gz /export2/DATA/HIS/HIS_server/analysis/dwi_data/stats_alt_reg/FA/sub-175_in-MNI_FA_AFTER-minus-BEFORE.nii.gz\n",
      "fslmerge -t /export2/DATA/HIS/HIS_server/analysis/dwi_data/stats_alt_reg/FA/LONG_individualDiff_BEFORE_minus_AFTER_FA /export2/DATA/HIS/HIS_server/analysis/dwi_data/stats_alt_reg/FA/sub-204_in-MNI_FA_BEFORE-minus-AFTER.nii.gz /export2/DATA/HIS/HIS_server/analysis/dwi_data/stats_alt_reg/FA/sub-205_in-MNI_FA_BEFORE-minus-AFTER.nii.gz /export2/DATA/HIS/HIS_server/analysis/dwi_data/stats_alt_reg/FA/sub-207_in-MNI_FA_BEFORE-minus-AFTER.nii.gz /export2/DATA/HIS/HIS_server/analysis/dwi_data/stats_alt_reg/FA/sub-208_in-MNI_FA_BEFORE-minus-AFTER.nii.gz /export2/DATA/HIS/HIS_server/analysis/dwi_data/stats_alt_reg/FA/sub-209_in-MNI_FA_BEFORE-minus-AFTER.nii.gz /export2/DATA/HIS/HIS_server/analysis/dwi_data/stats_alt_reg/FA/sub-210_in-MNI_FA_BEFORE-minus-AFTER.nii.gz /export2/DATA/HIS/HIS_server/analysis/dwi_data/stats_alt_reg/FA/sub-212_in-MNI_FA_BEFORE-minus-AFTER.nii.gz /export2/DATA/HIS/HIS_server/analysis/dwi_data/stats_alt_reg/FA/sub-214_in-MNI_FA_BEFORE-minus-AFTER.nii.gz /export2/DATA/HIS/HIS_server/analysis/dwi_data/stats_alt_reg/FA/sub-215_in-MNI_FA_BEFORE-minus-AFTER.nii.gz /export2/DATA/HIS/HIS_server/analysis/dwi_data/stats_alt_reg/FA/sub-217_in-MNI_FA_BEFORE-minus-AFTER.nii.gz /export2/DATA/HIS/HIS_server/analysis/dwi_data/stats_alt_reg/FA/sub-218_in-MNI_FA_BEFORE-minus-AFTER.nii.gz /export2/DATA/HIS/HIS_server/analysis/dwi_data/stats_alt_reg/FA/sub-220_in-MNI_FA_BEFORE-minus-AFTER.nii.gz /export2/DATA/HIS/HIS_server/analysis/dwi_data/stats_alt_reg/FA/sub-221_in-MNI_FA_BEFORE-minus-AFTER.nii.gz /export2/DATA/HIS/HIS_server/analysis/dwi_data/stats_alt_reg/FA/sub-223_in-MNI_FA_BEFORE-minus-AFTER.nii.gz /export2/DATA/HIS/HIS_server/analysis/dwi_data/stats_alt_reg/FA/sub-224_in-MNI_FA_BEFORE-minus-AFTER.nii.gz /export2/DATA/HIS/HIS_server/analysis/dwi_data/stats_alt_reg/FA/sub-225_in-MNI_FA_BEFORE-minus-AFTER.nii.gz /export2/DATA/HIS/HIS_server/analysis/dwi_data/stats_alt_reg/FA/sub-227_in-MNI_FA_BEFORE-minus-AFTER.nii.gz /export2/DATA/HIS/HIS_server/analysis/dwi_data/stats_alt_reg/FA/sub-229_in-MNI_FA_BEFORE-minus-AFTER.nii.gz /export2/DATA/HIS/HIS_server/analysis/dwi_data/stats_alt_reg/FA/sub-230_in-MNI_FA_BEFORE-minus-AFTER.nii.gz /export2/DATA/HIS/HIS_server/analysis/dwi_data/stats_alt_reg/FA/sub-232_in-MNI_FA_BEFORE-minus-AFTER.nii.gz /export2/DATA/HIS/HIS_server/analysis/dwi_data/stats_alt_reg/FA/sub-234_in-MNI_FA_BEFORE-minus-AFTER.nii.gz /export2/DATA/HIS/HIS_server/analysis/dwi_data/stats_alt_reg/FA/sub-235_in-MNI_FA_BEFORE-minus-AFTER.nii.gz /export2/DATA/HIS/HIS_server/analysis/dwi_data/stats_alt_reg/FA/sub-238_in-MNI_FA_BEFORE-minus-AFTER.nii.gz /export2/DATA/HIS/HIS_server/analysis/dwi_data/stats_alt_reg/FA/sub-239_in-MNI_FA_BEFORE-minus-AFTER.nii.gz /export2/DATA/HIS/HIS_server/analysis/dwi_data/stats_alt_reg/FA/sub-240_in-MNI_FA_BEFORE-minus-AFTER.nii.gz /export2/DATA/HIS/HIS_server/analysis/dwi_data/stats_alt_reg/FA/sub-241_in-MNI_FA_BEFORE-minus-AFTER.nii.gz /export2/DATA/HIS/HIS_server/analysis/dwi_data/stats_alt_reg/FA/sub-242_in-MNI_FA_BEFORE-minus-AFTER.nii.gz /export2/DATA/HIS/HIS_server/analysis/dwi_data/stats_alt_reg/FA/sub-243_in-MNI_FA_BEFORE-minus-AFTER.nii.gz /export2/DATA/HIS/HIS_server/analysis/dwi_data/stats_alt_reg/FA/sub-245_in-MNI_FA_BEFORE-minus-AFTER.nii.gz /export2/DATA/HIS/HIS_server/analysis/dwi_data/stats_alt_reg/FA/sub-247_in-MNI_FA_BEFORE-minus-AFTER.nii.gz /export2/DATA/HIS/HIS_server/analysis/dwi_data/stats_alt_reg/FA/sub-248_in-MNI_FA_BEFORE-minus-AFTER.nii.gz /export2/DATA/HIS/HIS_server/analysis/dwi_data/stats_alt_reg/FA/sub-249_in-MNI_FA_BEFORE-minus-AFTER.nii.gz /export2/DATA/HIS/HIS_server/analysis/dwi_data/stats_alt_reg/FA/sub-251_in-MNI_FA_BEFORE-minus-AFTER.nii.gz /export2/DATA/HIS/HIS_server/analysis/dwi_data/stats_alt_reg/FA/sub-252_in-MNI_FA_BEFORE-minus-AFTER.nii.gz /export2/DATA/HIS/HIS_server/analysis/dwi_data/stats_alt_reg/FA/sub-254_in-MNI_FA_BEFORE-minus-AFTER.nii.gz /export2/DATA/HIS/HIS_server/analysis/dwi_data/stats_alt_reg/FA/sub-255_in-MNI_FA_BEFORE-minus-AFTER.nii.gz /export2/DATA/HIS/HIS_server/analysis/dwi_data/stats_alt_reg/FA/sub-257_in-MNI_FA_BEFORE-minus-AFTER.nii.gz /export2/DATA/HIS/HIS_server/analysis/dwi_data/stats_alt_reg/FA/sub-258_in-MNI_FA_BEFORE-minus-AFTER.nii.gz /export2/DATA/HIS/HIS_server/analysis/dwi_data/stats_alt_reg/FA/sub-260_in-MNI_FA_BEFORE-minus-AFTER.nii.gz /export2/DATA/HIS/HIS_server/analysis/dwi_data/stats_alt_reg/FA/sub-261_in-MNI_FA_BEFORE-minus-AFTER.nii.gz /export2/DATA/HIS/HIS_server/analysis/dwi_data/stats_alt_reg/FA/sub-262_in-MNI_FA_BEFORE-minus-AFTER.nii.gz /export2/DATA/HIS/HIS_server/analysis/dwi_data/stats_alt_reg/FA/sub-263_in-MNI_FA_BEFORE-minus-AFTER.nii.gz /export2/DATA/HIS/HIS_server/analysis/dwi_data/stats_alt_reg/FA/sub-264_in-MNI_FA_BEFORE-minus-AFTER.nii.gz /export2/DATA/HIS/HIS_server/analysis/dwi_data/stats_alt_reg/FA/sub-265_in-MNI_FA_BEFORE-minus-AFTER.nii.gz /export2/DATA/HIS/HIS_server/analysis/dwi_data/stats_alt_reg/FA/sub-267_in-MNI_FA_BEFORE-minus-AFTER.nii.gz /export2/DATA/HIS/HIS_server/analysis/dwi_data/stats_alt_reg/FA/sub-268_in-MNI_FA_BEFORE-minus-AFTER.nii.gz /export2/DATA/HIS/HIS_server/analysis/dwi_data/stats_alt_reg/FA/sub-269_in-MNI_FA_BEFORE-minus-AFTER.nii.gz /export2/DATA/HIS/HIS_server/analysis/dwi_data/stats_alt_reg/FA/sub-270_in-MNI_FA_BEFORE-minus-AFTER.nii.gz /export2/DATA/HIS/HIS_server/analysis/dwi_data/stats_alt_reg/FA/sub-271_in-MNI_FA_BEFORE-minus-AFTER.nii.gz /export2/DATA/HIS/HIS_server/analysis/dwi_data/stats_alt_reg/FA/sub-272_in-MNI_FA_BEFORE-minus-AFTER.nii.gz /export2/DATA/HIS/HIS_server/analysis/dwi_data/stats_alt_reg/FA/sub-275_in-MNI_FA_BEFORE-minus-AFTER.nii.gz /export2/DATA/HIS/HIS_server/analysis/dwi_data/stats_alt_reg/FA/sub-276_in-MNI_FA_BEFORE-minus-AFTER.nii.gz /export2/DATA/HIS/HIS_server/analysis/dwi_data/stats_alt_reg/FA/sub-277_in-MNI_FA_BEFORE-minus-AFTER.nii.gz /export2/DATA/HIS/HIS_server/analysis/dwi_data/stats_alt_reg/FA/sub-278_in-MNI_FA_BEFORE-minus-AFTER.nii.gz /export2/DATA/HIS/HIS_server/analysis/dwi_data/stats_alt_reg/FA/sub-280_in-MNI_FA_BEFORE-minus-AFTER.nii.gz /export2/DATA/HIS/HIS_server/analysis/dwi_data/stats_alt_reg/FA/sub-281_in-MNI_FA_BEFORE-minus-AFTER.nii.gz /export2/DATA/HIS/HIS_server/analysis/dwi_data/stats_alt_reg/FA/sub-282_in-MNI_FA_BEFORE-minus-AFTER.nii.gz /export2/DATA/HIS/HIS_server/analysis/dwi_data/stats_alt_reg/FA/sub-283_in-MNI_FA_BEFORE-minus-AFTER.nii.gz /export2/DATA/HIS/HIS_server/analysis/dwi_data/stats_alt_reg/FA/sub-284_in-MNI_FA_BEFORE-minus-AFTER.nii.gz /export2/DATA/HIS/HIS_server/analysis/dwi_data/stats_alt_reg/FA/sub-285_in-MNI_FA_BEFORE-minus-AFTER.nii.gz\n",
      "fslmerge -t /export2/DATA/HIS/HIS_server/analysis/dwi_data/stats_alt_reg/FA/SHORT_individualDiff_BEFORE_minus_AFTER_FA /export2/DATA/HIS/HIS_server/analysis/dwi_data/stats_alt_reg/FA/sub-103_in-MNI_FA_BEFORE-minus-AFTER.nii.gz /export2/DATA/HIS/HIS_server/analysis/dwi_data/stats_alt_reg/FA/sub-104_in-MNI_FA_BEFORE-minus-AFTER.nii.gz /export2/DATA/HIS/HIS_server/analysis/dwi_data/stats_alt_reg/FA/sub-106_in-MNI_FA_BEFORE-minus-AFTER.nii.gz /export2/DATA/HIS/HIS_server/analysis/dwi_data/stats_alt_reg/FA/sub-107_in-MNI_FA_BEFORE-minus-AFTER.nii.gz /export2/DATA/HIS/HIS_server/analysis/dwi_data/stats_alt_reg/FA/sub-108_in-MNI_FA_BEFORE-minus-AFTER.nii.gz /export2/DATA/HIS/HIS_server/analysis/dwi_data/stats_alt_reg/FA/sub-110_in-MNI_FA_BEFORE-minus-AFTER.nii.gz /export2/DATA/HIS/HIS_server/analysis/dwi_data/stats_alt_reg/FA/sub-113_in-MNI_FA_BEFORE-minus-AFTER.nii.gz /export2/DATA/HIS/HIS_server/analysis/dwi_data/stats_alt_reg/FA/sub-114_in-MNI_FA_BEFORE-minus-AFTER.nii.gz /export2/DATA/HIS/HIS_server/analysis/dwi_data/stats_alt_reg/FA/sub-115_in-MNI_FA_BEFORE-minus-AFTER.nii.gz /export2/DATA/HIS/HIS_server/analysis/dwi_data/stats_alt_reg/FA/sub-117_in-MNI_FA_BEFORE-minus-AFTER.nii.gz /export2/DATA/HIS/HIS_server/analysis/dwi_data/stats_alt_reg/FA/sub-118_in-MNI_FA_BEFORE-minus-AFTER.nii.gz /export2/DATA/HIS/HIS_server/analysis/dwi_data/stats_alt_reg/FA/sub-119_in-MNI_FA_BEFORE-minus-AFTER.nii.gz /export2/DATA/HIS/HIS_server/analysis/dwi_data/stats_alt_reg/FA/sub-120_in-MNI_FA_BEFORE-minus-AFTER.nii.gz /export2/DATA/HIS/HIS_server/analysis/dwi_data/stats_alt_reg/FA/sub-121_in-MNI_FA_BEFORE-minus-AFTER.nii.gz /export2/DATA/HIS/HIS_server/analysis/dwi_data/stats_alt_reg/FA/sub-122_in-MNI_FA_BEFORE-minus-AFTER.nii.gz /export2/DATA/HIS/HIS_server/analysis/dwi_data/stats_alt_reg/FA/sub-124_in-MNI_FA_BEFORE-minus-AFTER.nii.gz /export2/DATA/HIS/HIS_server/analysis/dwi_data/stats_alt_reg/FA/sub-126_in-MNI_FA_BEFORE-minus-AFTER.nii.gz /export2/DATA/HIS/HIS_server/analysis/dwi_data/stats_alt_reg/FA/sub-127_in-MNI_FA_BEFORE-minus-AFTER.nii.gz /export2/DATA/HIS/HIS_server/analysis/dwi_data/stats_alt_reg/FA/sub-128_in-MNI_FA_BEFORE-minus-AFTER.nii.gz /export2/DATA/HIS/HIS_server/analysis/dwi_data/stats_alt_reg/FA/sub-129_in-MNI_FA_BEFORE-minus-AFTER.nii.gz /export2/DATA/HIS/HIS_server/analysis/dwi_data/stats_alt_reg/FA/sub-130_in-MNI_FA_BEFORE-minus-AFTER.nii.gz /export2/DATA/HIS/HIS_server/analysis/dwi_data/stats_alt_reg/FA/sub-131_in-MNI_FA_BEFORE-minus-AFTER.nii.gz /export2/DATA/HIS/HIS_server/analysis/dwi_data/stats_alt_reg/FA/sub-133_in-MNI_FA_BEFORE-minus-AFTER.nii.gz /export2/DATA/HIS/HIS_server/analysis/dwi_data/stats_alt_reg/FA/sub-135_in-MNI_FA_BEFORE-minus-AFTER.nii.gz /export2/DATA/HIS/HIS_server/analysis/dwi_data/stats_alt_reg/FA/sub-137_in-MNI_FA_BEFORE-minus-AFTER.nii.gz /export2/DATA/HIS/HIS_server/analysis/dwi_data/stats_alt_reg/FA/sub-138_in-MNI_FA_BEFORE-minus-AFTER.nii.gz /export2/DATA/HIS/HIS_server/analysis/dwi_data/stats_alt_reg/FA/sub-139_in-MNI_FA_BEFORE-minus-AFTER.nii.gz /export2/DATA/HIS/HIS_server/analysis/dwi_data/stats_alt_reg/FA/sub-140_in-MNI_FA_BEFORE-minus-AFTER.nii.gz /export2/DATA/HIS/HIS_server/analysis/dwi_data/stats_alt_reg/FA/sub-141_in-MNI_FA_BEFORE-minus-AFTER.nii.gz /export2/DATA/HIS/HIS_server/analysis/dwi_data/stats_alt_reg/FA/sub-142_in-MNI_FA_BEFORE-minus-AFTER.nii.gz /export2/DATA/HIS/HIS_server/analysis/dwi_data/stats_alt_reg/FA/sub-143_in-MNI_FA_BEFORE-minus-AFTER.nii.gz /export2/DATA/HIS/HIS_server/analysis/dwi_data/stats_alt_reg/FA/sub-144_in-MNI_FA_BEFORE-minus-AFTER.nii.gz /export2/DATA/HIS/HIS_server/analysis/dwi_data/stats_alt_reg/FA/sub-145_in-MNI_FA_BEFORE-minus-AFTER.nii.gz /export2/DATA/HIS/HIS_server/analysis/dwi_data/stats_alt_reg/FA/sub-146_in-MNI_FA_BEFORE-minus-AFTER.nii.gz /export2/DATA/HIS/HIS_server/analysis/dwi_data/stats_alt_reg/FA/sub-147_in-MNI_FA_BEFORE-minus-AFTER.nii.gz /export2/DATA/HIS/HIS_server/analysis/dwi_data/stats_alt_reg/FA/sub-148_in-MNI_FA_BEFORE-minus-AFTER.nii.gz /export2/DATA/HIS/HIS_server/analysis/dwi_data/stats_alt_reg/FA/sub-149_in-MNI_FA_BEFORE-minus-AFTER.nii.gz /export2/DATA/HIS/HIS_server/analysis/dwi_data/stats_alt_reg/FA/sub-150_in-MNI_FA_BEFORE-minus-AFTER.nii.gz /export2/DATA/HIS/HIS_server/analysis/dwi_data/stats_alt_reg/FA/sub-151_in-MNI_FA_BEFORE-minus-AFTER.nii.gz /export2/DATA/HIS/HIS_server/analysis/dwi_data/stats_alt_reg/FA/sub-152_in-MNI_FA_BEFORE-minus-AFTER.nii.gz /export2/DATA/HIS/HIS_server/analysis/dwi_data/stats_alt_reg/FA/sub-153_in-MNI_FA_BEFORE-minus-AFTER.nii.gz /export2/DATA/HIS/HIS_server/analysis/dwi_data/stats_alt_reg/FA/sub-154_in-MNI_FA_BEFORE-minus-AFTER.nii.gz /export2/DATA/HIS/HIS_server/analysis/dwi_data/stats_alt_reg/FA/sub-155_in-MNI_FA_BEFORE-minus-AFTER.nii.gz /export2/DATA/HIS/HIS_server/analysis/dwi_data/stats_alt_reg/FA/sub-156_in-MNI_FA_BEFORE-minus-AFTER.nii.gz /export2/DATA/HIS/HIS_server/analysis/dwi_data/stats_alt_reg/FA/sub-157_in-MNI_FA_BEFORE-minus-AFTER.nii.gz /export2/DATA/HIS/HIS_server/analysis/dwi_data/stats_alt_reg/FA/sub-158_in-MNI_FA_BEFORE-minus-AFTER.nii.gz /export2/DATA/HIS/HIS_server/analysis/dwi_data/stats_alt_reg/FA/sub-159_in-MNI_FA_BEFORE-minus-AFTER.nii.gz /export2/DATA/HIS/HIS_server/analysis/dwi_data/stats_alt_reg/FA/sub-160_in-MNI_FA_BEFORE-minus-AFTER.nii.gz /export2/DATA/HIS/HIS_server/analysis/dwi_data/stats_alt_reg/FA/sub-161_in-MNI_FA_BEFORE-minus-AFTER.nii.gz /export2/DATA/HIS/HIS_server/analysis/dwi_data/stats_alt_reg/FA/sub-162_in-MNI_FA_BEFORE-minus-AFTER.nii.gz /export2/DATA/HIS/HIS_server/analysis/dwi_data/stats_alt_reg/FA/sub-163_in-MNI_FA_BEFORE-minus-AFTER.nii.gz /export2/DATA/HIS/HIS_server/analysis/dwi_data/stats_alt_reg/FA/sub-164_in-MNI_FA_BEFORE-minus-AFTER.nii.gz /export2/DATA/HIS/HIS_server/analysis/dwi_data/stats_alt_reg/FA/sub-166_in-MNI_FA_BEFORE-minus-AFTER.nii.gz /export2/DATA/HIS/HIS_server/analysis/dwi_data/stats_alt_reg/FA/sub-167_in-MNI_FA_BEFORE-minus-AFTER.nii.gz /export2/DATA/HIS/HIS_server/analysis/dwi_data/stats_alt_reg/FA/sub-168_in-MNI_FA_BEFORE-minus-AFTER.nii.gz /export2/DATA/HIS/HIS_server/analysis/dwi_data/stats_alt_reg/FA/sub-169_in-MNI_FA_BEFORE-minus-AFTER.nii.gz /export2/DATA/HIS/HIS_server/analysis/dwi_data/stats_alt_reg/FA/sub-170_in-MNI_FA_BEFORE-minus-AFTER.nii.gz /export2/DATA/HIS/HIS_server/analysis/dwi_data/stats_alt_reg/FA/sub-171_in-MNI_FA_BEFORE-minus-AFTER.nii.gz /export2/DATA/HIS/HIS_server/analysis/dwi_data/stats_alt_reg/FA/sub-172_in-MNI_FA_BEFORE-minus-AFTER.nii.gz /export2/DATA/HIS/HIS_server/analysis/dwi_data/stats_alt_reg/FA/sub-174_in-MNI_FA_BEFORE-minus-AFTER.nii.gz /export2/DATA/HIS/HIS_server/analysis/dwi_data/stats_alt_reg/FA/sub-175_in-MNI_FA_BEFORE-minus-AFTER.nii.gz\n"
     ]
    }
   ],
   "source": [
    "for map_type in ['MD','FA']:          \n",
    "    print(f\"fslmerge -t {os.path.join(stats_path, map_type, f'LONG_individualDiff_AFTER_minus_BEFORE_{map_type}')} {' '.join([os.path.join(stats_path, map_type, f'{sub}_in-MNI_{map_type}_AFTER-minus-BEFORE.nii.gz') for sub in subjFoldersDTI_long])}\")\n",
    "    os.system(f\"fslmerge -t {os.path.join(stats_path, map_type, f'LONG_individualDiff_AFTER_minus_BEFORE_{map_type}')} {' '.join([os.path.join(stats_path, map_type, f'{sub}_in-MNI_{map_type}_AFTER-minus-BEFORE.nii.gz') for sub in subjFoldersDTI_long])}\")\n",
    "\n",
    "    print(f\"fslmerge -t {os.path.join(stats_path, map_type, f'SHORT_individualDiff_AFTER_minus_BEFORE_{map_type}')} {' '.join([os.path.join(stats_path, map_type, f'{sub}_in-MNI_{map_type}_AFTER-minus-BEFORE.nii.gz') for sub in subjFoldersDTI_short])}\")\n",
    "    os.system(f\"fslmerge -t {os.path.join(stats_path, map_type, f'SHORT_individualDiff_AFTER_minus_BEFORE_{map_type}')} {' '.join([os.path.join(stats_path, map_type, f'{sub}_in-MNI_{map_type}_AFTER-minus-BEFORE.nii.gz') for sub in subjFoldersDTI_short])}\")\n",
    "\n",
    "    print(f\"fslmerge -t {os.path.join(stats_path, map_type, f'LONG_individualDiff_BEFORE_minus_AFTER_{map_type}')} {' '.join([os.path.join(stats_path, map_type, f'{sub}_in-MNI_{map_type}_BEFORE-minus-AFTER.nii.gz') for sub in subjFoldersDTI_long])}\")\n",
    "    os.system(f\"fslmerge -t {os.path.join(stats_path, map_type, f'LONG_individualDiff_BEFORE_minus_AFTER_{map_type}')} {' '.join([os.path.join(stats_path, map_type, f'{sub}_in-MNI_{map_type}_BEFORE-minus-AFTER.nii.gz') for sub in subjFoldersDTI_long])}\")\n",
    "\n",
    "    print(f\"fslmerge -t {os.path.join(stats_path, map_type, f'SHORT_individualDiff_BEFORE_minus_AFTER_{map_type}')} {' '.join([os.path.join(stats_path, map_type, f'{sub}_in-MNI_{map_type}_BEFORE-minus-AFTER.nii.gz') for sub in subjFoldersDTI_short])}\")\n",
    "    os.system(f\"fslmerge -t {os.path.join(stats_path, map_type, f'SHORT_individualDiff_BEFORE_minus_AFTER_{map_type}')} {' '.join([os.path.join(stats_path, map_type, f'{sub}_in-MNI_{map_type}_BEFORE-minus-AFTER.nii.gz') for sub in subjFoldersDTI_short])}\")\n"
   ]
  },
  {
   "cell_type": "markdown",
   "metadata": {},
   "source": [
    "### Settings"
   ]
  },
  {
   "cell_type": "code",
   "execution_count": 17,
   "metadata": {},
   "outputs": [],
   "source": [
    "# a function to run randomise for the individual differences analyses:\n",
    "def runRandomiseIndividualDiffs(group, map_type, region):\n",
    "    print(f'Running randomise for individual differences:\\n--- {group} training group | {map_type} | {region} ---\\n')\n",
    "    #print(f'MAKE SURE TO REPLACE IN THE FUNCTION THE the print to os.system before running the command !!!\\n')\n",
    "    os.system(f\"randomise_parallel \\\n",
    "        -i {os.path.join(stats_path, map_type, f'{group}_individualDiff_AFTER_minus_BEFORE_{map_type}')} \\\n",
    "        -o {os.path.join(stats_path, map_type, f'{group}_individualDiff_AFTER_minus_BEFORE_{map_type}_{region}')} \\\n",
    "        {'' if region=='whole_brain' else f'-m {masks_paths[region]}'} \\\n",
    "        -d {os.path.join(stats_path, 'models', 'individual_differences', f'design_indivdual_diff_{group}.mat')} \\\n",
    "        -t {os.path.join(stats_path, 'models', 'individual_differences', 'design_indivdual_diff.con')}  \\\n",
    "        -n 6000 -C 3.1 -D\")\n",
    "\n",
    "\n",
    "# Get cluster info:\n",
    "def getClusterInfoIndividualDiffs(group, map_type, region, ReversedSigThresh='0.90'):\n",
    "    print(f'Test for POSITIVE relationship between:\\n--- increase in {map_type} and GOAL-DIRECTEDNESS in: {region} | group: {group} ---\\n')\n",
    "    print(os.popen(f'cluster \\\n",
    "        -i {os.path.join(stats_path, map_type, f\"{group}_individualDiff_AFTER_minus_BEFORE_{map_type}_{region}_clusterm_corrp_tstat1.nii.gz\")} \\\n",
    "        -c {os.path.join(stats_path, map_type, f\"{group}_individualDiff_AFTER_minus_BEFORE_{map_type}_{region}_tstat1.nii.gz\")}\\\n",
    "        -t {ReversedSigThresh} \\\n",
    "        --scalarname=corrp' + '\"1-p\"').read())\n",
    "\n",
    "    print(f'Test for NEGATIVE relationship between:\\n--- increase in {map_type} and GOAL-DIRECTEDNESS in: {region} | group: {group} ---\\n')\n",
    "    print(os.popen(f'cluster \\\n",
    "        -i {os.path.join(stats_path, map_type, f\"{group}_individualDiff_AFTER_minus_BEFORE_{map_type}_{region}_clusterm_corrp_tstat2.nii.gz\")} \\\n",
    "        -c {os.path.join(stats_path, map_type, f\"{group}_individualDiff_AFTER_minus_BEFORE_{map_type}_{region}_tstat2.nii.gz\")}\\\n",
    "        -t {ReversedSigThresh} \\\n",
    "        --scalarname=corrp' + '\"1-p\"').read())\n"
   ]
  },
  {
   "cell_type": "markdown",
   "metadata": {},
   "source": [
    "## SHORT TRAINING"
   ]
  },
  {
   "cell_type": "code",
   "execution_count": 11,
   "metadata": {},
   "outputs": [],
   "source": [
    "group = 'SHORT'"
   ]
  },
  {
   "cell_type": "markdown",
   "metadata": {},
   "source": [
    "### Whole brain - FA"
   ]
  },
  {
   "cell_type": "code",
   "execution_count": 12,
   "metadata": {},
   "outputs": [],
   "source": [
    "map_type='FA'\n",
    "region='whole_brain'"
   ]
  },
  {
   "cell_type": "code",
   "execution_count": 21,
   "metadata": {},
   "outputs": [
    {
     "name": "stdout",
     "output_type": "stream",
     "text": [
      "Running randomise for individual differences:\n",
      "--- SHORT training group | FA | whole_brain ---\n",
      "\n"
     ]
    }
   ],
   "source": [
    "runRandomiseIndividualDiffs(group, map_type, region)"
   ]
  },
  {
   "cell_type": "code",
   "execution_count": 13,
   "metadata": {},
   "outputs": [
    {
     "name": "stdout",
     "output_type": "stream",
     "text": [
      "Test for POSITIVE relationship between:\n",
      "--- increase in FA and GOAL-DIRECTEDNESS in: whole_brain | group: SHORT ---\n",
      "\n",
      "Cluster Index\tVoxels\tcorrp1-p-MAX\tcorrp1-p-MAX X (vox)\tcorrp1-p-MAX Y (vox)\tcorrp1-p-MAX Z (vox)\tcorrp1-p-COG X (vox)\tcorrp1-p-COG Y (vox)\tcorrp1-p-COG Z (vox)\tCOPE-MAX\tCOPE-MAX X (vox)\tCOPE-MAX Y (vox)\tCOPE-MAX Z (vox)\tCOPE-MEAN\n",
      "\n",
      "Test for NEGATIVE relationship between:\n",
      "--- increase in FA and GOAL-DIRECTEDNESS in: whole_brain | group: SHORT ---\n",
      "\n",
      "Cluster Index\tVoxels\tcorrp1-p-MAX\tcorrp1-p-MAX X (vox)\tcorrp1-p-MAX Y (vox)\tcorrp1-p-MAX Z (vox)\tcorrp1-p-COG X (vox)\tcorrp1-p-COG Y (vox)\tcorrp1-p-COG Z (vox)\tCOPE-MAX\tCOPE-MAX X (vox)\tCOPE-MAX Y (vox)\tCOPE-MAX Z (vox)\tCOPE-MEAN\n",
      "\n"
     ]
    }
   ],
   "source": [
    "getClusterInfoIndividualDiffs(group, map_type, region, ReversedSigThresh='0.90')"
   ]
  },
  {
   "cell_type": "markdown",
   "metadata": {},
   "source": [
    ">>>>> RESULT: NOTHING"
   ]
  },
  {
   "cell_type": "markdown",
   "metadata": {},
   "source": [
    "### Putamen - FA"
   ]
  },
  {
   "cell_type": "code",
   "execution_count": 48,
   "metadata": {},
   "outputs": [],
   "source": [
    "region='Putamen'"
   ]
  },
  {
   "cell_type": "code",
   "execution_count": 49,
   "metadata": {},
   "outputs": [
    {
     "name": "stdout",
     "output_type": "stream",
     "text": [
      "Running randomise for individual differences:\n",
      "--- SHORT training group | FA | Putamen ---\n",
      "\n"
     ]
    }
   ],
   "source": [
    "runRandomiseIndividualDiffs(group, map_type, region)"
   ]
  },
  {
   "cell_type": "code",
   "execution_count": 50,
   "metadata": {},
   "outputs": [
    {
     "name": "stdout",
     "output_type": "stream",
     "text": [
      "Test for POSITIVE relationship between:\n",
      "--- increase in FA and GOAL-DIRECTEDNESS in: Putamen | group: SHORT ---\n",
      "\n",
      "Cluster Index\tVoxels\tcorrp1-p-MAX\tcorrp1-p-MAX X (vox)\tcorrp1-p-MAX Y (vox)\tcorrp1-p-MAX Z (vox)\tcorrp1-p-COG X (vox)\tcorrp1-p-COG Y (vox)\tcorrp1-p-COG Z (vox)\tCOPE-MAX\tCOPE-MAX X (vox)\tCOPE-MAX Y (vox)\tCOPE-MAX Z (vox)\tCOPE-MEAN\n",
      "\n",
      "Test for NEGATIVE relationship between:\n",
      "--- increase in FA and GOAL-DIRECTEDNESS in: Putamen | group: SHORT ---\n",
      "\n",
      "Cluster Index\tVoxels\tcorrp1-p-MAX\tcorrp1-p-MAX X (vox)\tcorrp1-p-MAX Y (vox)\tcorrp1-p-MAX Z (vox)\tcorrp1-p-COG X (vox)\tcorrp1-p-COG Y (vox)\tcorrp1-p-COG Z (vox)\tCOPE-MAX\tCOPE-MAX X (vox)\tCOPE-MAX Y (vox)\tCOPE-MAX Z (vox)\tCOPE-MEAN\n",
      "\n"
     ]
    }
   ],
   "source": [
    "getClusterInfoIndividualDiffs(group, map_type, region, ReversedSigThresh='0.90')"
   ]
  },
  {
   "cell_type": "markdown",
   "metadata": {},
   "source": [
    ">>>>> RESULT: NOTHING"
   ]
  },
  {
   "cell_type": "markdown",
   "metadata": {},
   "source": [
    "### Caudate - FA"
   ]
  },
  {
   "cell_type": "code",
   "execution_count": 51,
   "metadata": {},
   "outputs": [],
   "source": [
    "region='Caudate'"
   ]
  },
  {
   "cell_type": "code",
   "execution_count": 53,
   "metadata": {},
   "outputs": [
    {
     "name": "stdout",
     "output_type": "stream",
     "text": [
      "Running randomise for individual differences:\n",
      "--- SHORT training group | FA | Caudate ---\n",
      "\n"
     ]
    }
   ],
   "source": [
    "runRandomiseIndividualDiffs(group, map_type, region)"
   ]
  },
  {
   "cell_type": "code",
   "execution_count": 54,
   "metadata": {},
   "outputs": [
    {
     "name": "stdout",
     "output_type": "stream",
     "text": [
      "Test for POSITIVE relationship between:\n",
      "--- increase in FA and GOAL-DIRECTEDNESS in: Caudate | group: SHORT ---\n",
      "\n",
      "Cluster Index\tVoxels\tcorrp1-p-MAX\tcorrp1-p-MAX X (vox)\tcorrp1-p-MAX Y (vox)\tcorrp1-p-MAX Z (vox)\tcorrp1-p-COG X (vox)\tcorrp1-p-COG Y (vox)\tcorrp1-p-COG Z (vox)\tCOPE-MAX\tCOPE-MAX X (vox)\tCOPE-MAX Y (vox)\tCOPE-MAX Z (vox)\tCOPE-MEAN\n",
      "\n",
      "Test for NEGATIVE relationship between:\n",
      "--- increase in FA and GOAL-DIRECTEDNESS in: Caudate | group: SHORT ---\n",
      "\n",
      "Cluster Index\tVoxels\tcorrp1-p-MAX\tcorrp1-p-MAX X (vox)\tcorrp1-p-MAX Y (vox)\tcorrp1-p-MAX Z (vox)\tcorrp1-p-COG X (vox)\tcorrp1-p-COG Y (vox)\tcorrp1-p-COG Z (vox)\tCOPE-MAX\tCOPE-MAX X (vox)\tCOPE-MAX Y (vox)\tCOPE-MAX Z (vox)\tCOPE-MEAN\n",
      "\n"
     ]
    }
   ],
   "source": [
    "getClusterInfoIndividualDiffs(group, map_type, region, ReversedSigThresh='0.90')"
   ]
  },
  {
   "cell_type": "markdown",
   "metadata": {},
   "source": [
    ">>>>> RESULT: NOTHING"
   ]
  },
  {
   "cell_type": "markdown",
   "metadata": {},
   "source": [
    "### vmPFC - FA"
   ]
  },
  {
   "cell_type": "code",
   "execution_count": 55,
   "metadata": {},
   "outputs": [],
   "source": [
    "region='vmPFC'"
   ]
  },
  {
   "cell_type": "code",
   "execution_count": 56,
   "metadata": {},
   "outputs": [
    {
     "name": "stdout",
     "output_type": "stream",
     "text": [
      "Running randomise for individual differences:\n",
      "--- SHORT training group | FA | vmPFC ---\n",
      "\n"
     ]
    }
   ],
   "source": [
    "runRandomiseIndividualDiffs(group, map_type, region)"
   ]
  },
  {
   "cell_type": "code",
   "execution_count": 57,
   "metadata": {},
   "outputs": [
    {
     "name": "stdout",
     "output_type": "stream",
     "text": [
      "Test for POSITIVE relationship between:\n",
      "--- increase in FA and GOAL-DIRECTEDNESS in: vmPFC | group: SHORT ---\n",
      "\n",
      "Cluster Index\tVoxels\tcorrp1-p-MAX\tcorrp1-p-MAX X (vox)\tcorrp1-p-MAX Y (vox)\tcorrp1-p-MAX Z (vox)\tcorrp1-p-COG X (vox)\tcorrp1-p-COG Y (vox)\tcorrp1-p-COG Z (vox)\tCOPE-MAX\tCOPE-MAX X (vox)\tCOPE-MAX Y (vox)\tCOPE-MAX Z (vox)\tCOPE-MEAN\n",
      "\n",
      "Test for NEGATIVE relationship between:\n",
      "--- increase in FA and GOAL-DIRECTEDNESS in: vmPFC | group: SHORT ---\n",
      "\n",
      "Cluster Index\tVoxels\tcorrp1-p-MAX\tcorrp1-p-MAX X (vox)\tcorrp1-p-MAX Y (vox)\tcorrp1-p-MAX Z (vox)\tcorrp1-p-COG X (vox)\tcorrp1-p-COG Y (vox)\tcorrp1-p-COG Z (vox)\tCOPE-MAX\tCOPE-MAX X (vox)\tCOPE-MAX Y (vox)\tCOPE-MAX Z (vox)\tCOPE-MEAN\n",
      "\n"
     ]
    }
   ],
   "source": [
    "getClusterInfoIndividualDiffs(group, map_type, region, ReversedSigThresh='0.90')"
   ]
  },
  {
   "cell_type": "markdown",
   "metadata": {},
   "source": [
    ">>>>> RESULT: NOTHING"
   ]
  },
  {
   "cell_type": "markdown",
   "metadata": {},
   "source": [
    "### Whole brain - MD"
   ]
  },
  {
   "cell_type": "code",
   "execution_count": 15,
   "metadata": {},
   "outputs": [],
   "source": [
    "map_type='MD'\n",
    "region='whole_brain'"
   ]
  },
  {
   "cell_type": "code",
   "execution_count": 23,
   "metadata": {},
   "outputs": [
    {
     "name": "stdout",
     "output_type": "stream",
     "text": [
      "Running randomise for individual differences:\n",
      "--- SHORT training group | MD | whole_brain ---\n",
      "\n"
     ]
    }
   ],
   "source": [
    "runRandomiseIndividualDiffs(group, map_type, region)"
   ]
  },
  {
   "cell_type": "code",
   "execution_count": 16,
   "metadata": {},
   "outputs": [
    {
     "name": "stdout",
     "output_type": "stream",
     "text": [
      "Test for POSITIVE relationship between:\n",
      "--- increase in MD and GOAL-DIRECTEDNESS in: whole_brain | group: SHORT ---\n",
      "\n",
      "Cluster Index\tVoxels\tcorrp1-p-MAX\tcorrp1-p-MAX X (vox)\tcorrp1-p-MAX Y (vox)\tcorrp1-p-MAX Z (vox)\tcorrp1-p-COG X (vox)\tcorrp1-p-COG Y (vox)\tcorrp1-p-COG Z (vox)\tCOPE-MAX\tCOPE-MAX X (vox)\tCOPE-MAX Y (vox)\tCOPE-MAX Z (vox)\tCOPE-MEAN\n",
      "\n",
      "Test for NEGATIVE relationship between:\n",
      "--- increase in MD and GOAL-DIRECTEDNESS in: whole_brain | group: SHORT ---\n",
      "\n",
      "Cluster Index\tVoxels\tcorrp1-p-MAX\tcorrp1-p-MAX X (vox)\tcorrp1-p-MAX Y (vox)\tcorrp1-p-MAX Z (vox)\tcorrp1-p-COG X (vox)\tcorrp1-p-COG Y (vox)\tcorrp1-p-COG Z (vox)\tCOPE-MAX\tCOPE-MAX X (vox)\tCOPE-MAX Y (vox)\tCOPE-MAX Z (vox)\tCOPE-MEAN\n",
      "\n"
     ]
    }
   ],
   "source": [
    "getClusterInfoIndividualDiffs(group, map_type, region, ReversedSigThresh='0.90')"
   ]
  },
  {
   "cell_type": "markdown",
   "metadata": {},
   "source": [
    ">>>>> RESULT: NOTHING"
   ]
  },
  {
   "cell_type": "markdown",
   "metadata": {},
   "source": [
    "### Putamen - MD"
   ]
  },
  {
   "cell_type": "code",
   "execution_count": 25,
   "metadata": {},
   "outputs": [],
   "source": [
    "region='Putamen'"
   ]
  },
  {
   "cell_type": "code",
   "execution_count": 26,
   "metadata": {},
   "outputs": [
    {
     "name": "stdout",
     "output_type": "stream",
     "text": [
      "Running randomise for individual differences:\n",
      "--- SHORT training group | MD | Putamen ---\n",
      "\n"
     ]
    }
   ],
   "source": [
    "runRandomiseIndividualDiffs(group, map_type, region)"
   ]
  },
  {
   "cell_type": "code",
   "execution_count": 27,
   "metadata": {},
   "outputs": [
    {
     "name": "stdout",
     "output_type": "stream",
     "text": [
      "Test for POSITIVE relationship between:\n",
      "--- increase in MD and GOAL-DIRECTEDNESS in: Putamen | group: SHORT ---\n",
      "\n",
      "Cluster Index\tVoxels\tcorrp1-p-MAX\tcorrp1-p-MAX X (vox)\tcorrp1-p-MAX Y (vox)\tcorrp1-p-MAX Z (vox)\tcorrp1-p-COG X (vox)\tcorrp1-p-COG Y (vox)\tcorrp1-p-COG Z (vox)\tCOPE-MAX\tCOPE-MAX X (vox)\tCOPE-MAX Y (vox)\tCOPE-MAX Z (vox)\tCOPE-MEAN\n",
      "\n",
      "Test for NEGATIVE relationship between:\n",
      "--- increase in MD and GOAL-DIRECTEDNESS in: Putamen | group: SHORT ---\n",
      "\n",
      "Cluster Index\tVoxels\tcorrp1-p-MAX\tcorrp1-p-MAX X (vox)\tcorrp1-p-MAX Y (vox)\tcorrp1-p-MAX Z (vox)\tcorrp1-p-COG X (vox)\tcorrp1-p-COG Y (vox)\tcorrp1-p-COG Z (vox)\tCOPE-MAX\tCOPE-MAX X (vox)\tCOPE-MAX Y (vox)\tCOPE-MAX Z (vox)\tCOPE-MEAN\n",
      "\n"
     ]
    }
   ],
   "source": [
    "getClusterInfoIndividualDiffs(group, map_type, region, ReversedSigThresh='0.90')"
   ]
  },
  {
   "cell_type": "markdown",
   "metadata": {},
   "source": [
    ">>>>> RESULT: NOTHING"
   ]
  },
  {
   "cell_type": "markdown",
   "metadata": {},
   "source": [
    "### Caudate - MD"
   ]
  },
  {
   "cell_type": "code",
   "execution_count": 28,
   "metadata": {},
   "outputs": [],
   "source": [
    "region='Caudate'"
   ]
  },
  {
   "cell_type": "code",
   "execution_count": 29,
   "metadata": {},
   "outputs": [
    {
     "name": "stdout",
     "output_type": "stream",
     "text": [
      "Running randomise for individual differences:\n",
      "--- SHORT training group | MD | Caudate ---\n",
      "\n"
     ]
    }
   ],
   "source": [
    "runRandomiseIndividualDiffs(group, map_type, region)"
   ]
  },
  {
   "cell_type": "code",
   "execution_count": 30,
   "metadata": {},
   "outputs": [
    {
     "name": "stdout",
     "output_type": "stream",
     "text": [
      "Test for POSITIVE relationship between:\n",
      "--- increase in MD and GOAL-DIRECTEDNESS in: Caudate | group: SHORT ---\n",
      "\n",
      "Cluster Index\tVoxels\tcorrp1-p-MAX\tcorrp1-p-MAX X (vox)\tcorrp1-p-MAX Y (vox)\tcorrp1-p-MAX Z (vox)\tcorrp1-p-COG X (vox)\tcorrp1-p-COG Y (vox)\tcorrp1-p-COG Z (vox)\tCOPE-MAX\tCOPE-MAX X (vox)\tCOPE-MAX Y (vox)\tCOPE-MAX Z (vox)\tCOPE-MEAN\n",
      "\n",
      "Test for NEGATIVE relationship between:\n",
      "--- increase in MD and GOAL-DIRECTEDNESS in: Caudate | group: SHORT ---\n",
      "\n",
      "Cluster Index\tVoxels\tcorrp1-p-MAX\tcorrp1-p-MAX X (vox)\tcorrp1-p-MAX Y (vox)\tcorrp1-p-MAX Z (vox)\tcorrp1-p-COG X (vox)\tcorrp1-p-COG Y (vox)\tcorrp1-p-COG Z (vox)\tCOPE-MAX\tCOPE-MAX X (vox)\tCOPE-MAX Y (vox)\tCOPE-MAX Z (vox)\tCOPE-MEAN\n",
      "\n"
     ]
    }
   ],
   "source": [
    "getClusterInfoIndividualDiffs(group, map_type, region, ReversedSigThresh='0.90')"
   ]
  },
  {
   "cell_type": "markdown",
   "metadata": {},
   "source": [
    ">>>>> RESULT: NOTHING"
   ]
  },
  {
   "cell_type": "markdown",
   "metadata": {},
   "source": [
    "### vmPFC - MD"
   ]
  },
  {
   "cell_type": "code",
   "execution_count": 17,
   "metadata": {},
   "outputs": [],
   "source": [
    "region='vmPFC'"
   ]
  },
  {
   "cell_type": "code",
   "execution_count": 32,
   "metadata": {},
   "outputs": [
    {
     "name": "stdout",
     "output_type": "stream",
     "text": [
      "Running randomise for individual differences:\n",
      "--- SHORT training group | MD | vmPFC ---\n",
      "\n"
     ]
    }
   ],
   "source": [
    "runRandomiseIndividualDiffs(group, map_type, region)"
   ]
  },
  {
   "cell_type": "code",
   "execution_count": 18,
   "metadata": {},
   "outputs": [
    {
     "name": "stdout",
     "output_type": "stream",
     "text": [
      "Test for POSITIVE relationship between:\n",
      "--- increase in MD and GOAL-DIRECTEDNESS in: vmPFC | group: SHORT ---\n",
      "\n",
      "Cluster Index\tVoxels\tcorrp1-p-MAX\tcorrp1-p-MAX X (vox)\tcorrp1-p-MAX Y (vox)\tcorrp1-p-MAX Z (vox)\tcorrp1-p-COG X (vox)\tcorrp1-p-COG Y (vox)\tcorrp1-p-COG Z (vox)\tCOPE-MAX\tCOPE-MAX X (vox)\tCOPE-MAX Y (vox)\tCOPE-MAX Z (vox)\tCOPE-MEAN\n",
      "\n",
      "Test for NEGATIVE relationship between:\n",
      "--- increase in MD and GOAL-DIRECTEDNESS in: vmPFC | group: SHORT ---\n",
      "\n",
      "Cluster Index\tVoxels\tcorrp1-p-MAX\tcorrp1-p-MAX X (vox)\tcorrp1-p-MAX Y (vox)\tcorrp1-p-MAX Z (vox)\tcorrp1-p-COG X (vox)\tcorrp1-p-COG Y (vox)\tcorrp1-p-COG Z (vox)\tCOPE-MAX\tCOPE-MAX X (vox)\tCOPE-MAX Y (vox)\tCOPE-MAX Z (vox)\tCOPE-MEAN\n",
      "\n"
     ]
    }
   ],
   "source": [
    "getClusterInfoIndividualDiffs(group, map_type, region, ReversedSigThresh='0.90')"
   ]
  },
  {
   "cell_type": "markdown",
   "metadata": {},
   "source": [
    ">>>>> RESULTS: Marginally significane in the vmPFC - a negative relationship between goal-directedness and change (increase) in MD  => reduction in MD more goal-directedness."
   ]
  },
  {
   "cell_type": "markdown",
   "metadata": {},
   "source": [
    "## LONG TRAINING"
   ]
  },
  {
   "cell_type": "code",
   "execution_count": 30,
   "metadata": {},
   "outputs": [],
   "source": [
    "group = 'LONG'"
   ]
  },
  {
   "cell_type": "markdown",
   "metadata": {},
   "source": [
    "### Whole brain - FA"
   ]
  },
  {
   "cell_type": "code",
   "execution_count": 31,
   "metadata": {},
   "outputs": [],
   "source": [
    "map_type='FA'\n",
    "region='whole_brain'"
   ]
  },
  {
   "cell_type": "code",
   "execution_count": 36,
   "metadata": {},
   "outputs": [
    {
     "name": "stdout",
     "output_type": "stream",
     "text": [
      "Running randomise for individual differences:\n",
      "--- LONG training group | FA | whole_brain ---\n",
      "\n"
     ]
    }
   ],
   "source": [
    "runRandomiseIndividualDiffs(group, map_type, region)"
   ]
  },
  {
   "cell_type": "code",
   "execution_count": 25,
   "metadata": {},
   "outputs": [
    {
     "name": "stdout",
     "output_type": "stream",
     "text": [
      "Test for POSITIVE relationship between:\n",
      "--- increase in FA and GOAL-DIRECTEDNESS in: whole_brain | group: LONG ---\n",
      "\n",
      "Cluster Index\tVoxels\tcorrp1-p-MAX\tcorrp1-p-MAX X (vox)\tcorrp1-p-MAX Y (vox)\tcorrp1-p-MAX Z (vox)\tcorrp1-p-COG X (vox)\tcorrp1-p-COG Y (vox)\tcorrp1-p-COG Z (vox)\tCOPE-MAX\tCOPE-MAX X (vox)\tCOPE-MAX Y (vox)\tCOPE-MAX Z (vox)\tCOPE-MEAN\n",
      "\n",
      "Test for NEGATIVE relationship between:\n",
      "--- increase in FA and GOAL-DIRECTEDNESS in: whole_brain | group: LONG ---\n",
      "\n",
      "Cluster Index\tVoxels\tcorrp1-p-MAX\tcorrp1-p-MAX X (vox)\tcorrp1-p-MAX Y (vox)\tcorrp1-p-MAX Z (vox)\tcorrp1-p-COG X (vox)\tcorrp1-p-COG Y (vox)\tcorrp1-p-COG Z (vox)\tCOPE-MAX\tCOPE-MAX X (vox)\tCOPE-MAX Y (vox)\tCOPE-MAX Z (vox)\tCOPE-MEAN\n",
      "\n"
     ]
    }
   ],
   "source": [
    "getClusterInfoIndividualDiffs(group, map_type, region, ReversedSigThresh='0.90')"
   ]
  },
  {
   "cell_type": "markdown",
   "metadata": {},
   "source": [
    ">>>>> RESULT: NOTHING"
   ]
  },
  {
   "cell_type": "markdown",
   "metadata": {},
   "source": [
    "### Putamen - FA"
   ]
  },
  {
   "cell_type": "code",
   "execution_count": 32,
   "metadata": {},
   "outputs": [],
   "source": [
    "region='Putamen'"
   ]
  },
  {
   "cell_type": "code",
   "execution_count": 33,
   "metadata": {},
   "outputs": [
    {
     "name": "stdout",
     "output_type": "stream",
     "text": [
      "Running randomise for individual differences:\n",
      "--- LONG training group | FA | Putamen ---\n",
      "\n"
     ]
    }
   ],
   "source": [
    "runRandomiseIndividualDiffs(group, map_type, region)"
   ]
  },
  {
   "cell_type": "code",
   "execution_count": 34,
   "metadata": {},
   "outputs": [
    {
     "name": "stdout",
     "output_type": "stream",
     "text": [
      "Test for POSITIVE relationship between:\n",
      "--- increase in FA and GOAL-DIRECTEDNESS in: Putamen | group: LONG ---\n",
      "\n",
      "Cluster Index\tVoxels\tcorrp1-p-MAX\tcorrp1-p-MAX X (vox)\tcorrp1-p-MAX Y (vox)\tcorrp1-p-MAX Z (vox)\tcorrp1-p-COG X (vox)\tcorrp1-p-COG Y (vox)\tcorrp1-p-COG Z (vox)\tCOPE-MAX\tCOPE-MAX X (vox)\tCOPE-MAX Y (vox)\tCOPE-MAX Z (vox)\tCOPE-MEAN\n",
      "1\t12\t0.924\t33\t67\t35\t33.4\t68.1\t35.7\t4.3\t33\t68\t36\t3.66\n",
      "\n",
      "Test for NEGATIVE relationship between:\n",
      "--- increase in FA and GOAL-DIRECTEDNESS in: Putamen | group: LONG ---\n",
      "\n",
      "Cluster Index\tVoxels\tcorrp1-p-MAX\tcorrp1-p-MAX X (vox)\tcorrp1-p-MAX Y (vox)\tcorrp1-p-MAX Z (vox)\tcorrp1-p-COG X (vox)\tcorrp1-p-COG Y (vox)\tcorrp1-p-COG Z (vox)\tCOPE-MAX\tCOPE-MAX X (vox)\tCOPE-MAX Y (vox)\tCOPE-MAX Z (vox)\tCOPE-MEAN\n",
      "\n"
     ]
    }
   ],
   "source": [
    "getClusterInfoIndividualDiffs(group, map_type, region, ReversedSigThresh='0.90')"
   ]
  },
  {
   "cell_type": "markdown",
   "metadata": {},
   "source": [
    ">>>>> RESULT : NOTHING"
   ]
  },
  {
   "cell_type": "markdown",
   "metadata": {},
   "source": [
    "### Caudate - FA"
   ]
  },
  {
   "cell_type": "code",
   "execution_count": 28,
   "metadata": {},
   "outputs": [],
   "source": [
    "region='Caudate'"
   ]
  },
  {
   "cell_type": "code",
   "execution_count": 42,
   "metadata": {},
   "outputs": [
    {
     "name": "stdout",
     "output_type": "stream",
     "text": [
      "Running randomise for individual differences:\n",
      "--- LONG training group | FA | Caudate ---\n",
      "\n"
     ]
    }
   ],
   "source": [
    "runRandomiseIndividualDiffs(group, map_type, region)"
   ]
  },
  {
   "cell_type": "code",
   "execution_count": 29,
   "metadata": {},
   "outputs": [
    {
     "name": "stdout",
     "output_type": "stream",
     "text": [
      "Test for POSITIVE relationship between:\n",
      "--- increase in FA and GOAL-DIRECTEDNESS in: Caudate | group: LONG ---\n",
      "\n",
      "Cluster Index\tVoxels\tcorrp1-p-MAX\tcorrp1-p-MAX X (vox)\tcorrp1-p-MAX Y (vox)\tcorrp1-p-MAX Z (vox)\tcorrp1-p-COG X (vox)\tcorrp1-p-COG Y (vox)\tcorrp1-p-COG Z (vox)\tCOPE-MAX\tCOPE-MAX X (vox)\tCOPE-MAX Y (vox)\tCOPE-MAX Z (vox)\tCOPE-MEAN\n",
      "\n",
      "Test for NEGATIVE relationship between:\n",
      "--- increase in FA and GOAL-DIRECTEDNESS in: Caudate | group: LONG ---\n",
      "\n",
      "Cluster Index\tVoxels\tcorrp1-p-MAX\tcorrp1-p-MAX X (vox)\tcorrp1-p-MAX Y (vox)\tcorrp1-p-MAX Z (vox)\tcorrp1-p-COG X (vox)\tcorrp1-p-COG Y (vox)\tcorrp1-p-COG Z (vox)\tCOPE-MAX\tCOPE-MAX X (vox)\tCOPE-MAX Y (vox)\tCOPE-MAX Z (vox)\tCOPE-MEAN\n",
      "\n"
     ]
    }
   ],
   "source": [
    "getClusterInfoIndividualDiffs(group, map_type, region, ReversedSigThresh='0.90')"
   ]
  },
  {
   "cell_type": "markdown",
   "metadata": {},
   "source": [
    ">>>>> RESULT : NOTHING"
   ]
  },
  {
   "cell_type": "markdown",
   "metadata": {},
   "source": [
    "### vmPFC - FA"
   ]
  },
  {
   "cell_type": "code",
   "execution_count": 32,
   "metadata": {},
   "outputs": [],
   "source": [
    "region='vmPFC'"
   ]
  },
  {
   "cell_type": "code",
   "execution_count": 33,
   "metadata": {},
   "outputs": [
    {
     "name": "stdout",
     "output_type": "stream",
     "text": [
      "Running randomise for individual differences:\n",
      "--- LONG training group | FA | vmPFC ---\n",
      "\n"
     ]
    }
   ],
   "source": [
    "runRandomiseIndividualDiffs(group, map_type, region)"
   ]
  },
  {
   "cell_type": "code",
   "execution_count": 34,
   "metadata": {},
   "outputs": [
    {
     "name": "stdout",
     "output_type": "stream",
     "text": [
      "Test for POSITIVE relationship between:\n",
      "--- increase in FA and GOAL-DIRECTEDNESS in: vmPFC | group: LONG ---\n",
      "\n",
      "Cluster Index\tVoxels\tcorrp1-p-MAX\tcorrp1-p-MAX X (vox)\tcorrp1-p-MAX Y (vox)\tcorrp1-p-MAX Z (vox)\tcorrp1-p-COG X (vox)\tcorrp1-p-COG Y (vox)\tcorrp1-p-COG Z (vox)\tCOPE-MAX\tCOPE-MAX X (vox)\tCOPE-MAX Y (vox)\tCOPE-MAX Z (vox)\tCOPE-MEAN\n",
      "1\t22\t0.904\t48\t96\t30\t49.1\t95.2\t31.9\t4.07\t49\t95\t32\t3.53\n",
      "\n",
      "Test for NEGATIVE relationship between:\n",
      "--- increase in FA and GOAL-DIRECTEDNESS in: vmPFC | group: LONG ---\n",
      "\n",
      "Cluster Index\tVoxels\tcorrp1-p-MAX\tcorrp1-p-MAX X (vox)\tcorrp1-p-MAX Y (vox)\tcorrp1-p-MAX Z (vox)\tcorrp1-p-COG X (vox)\tcorrp1-p-COG Y (vox)\tcorrp1-p-COG Z (vox)\tCOPE-MAX\tCOPE-MAX X (vox)\tCOPE-MAX Y (vox)\tCOPE-MAX Z (vox)\tCOPE-MEAN\n",
      "\n"
     ]
    }
   ],
   "source": [
    "getClusterInfoIndividualDiffs(group, map_type, region, ReversedSigThresh='0.90')"
   ]
  },
  {
   "cell_type": "markdown",
   "metadata": {},
   "source": [
    ">>>>> RESULT : NOTHING"
   ]
  },
  {
   "cell_type": "markdown",
   "metadata": {},
   "source": [
    "### Whole brain - MD"
   ]
  },
  {
   "cell_type": "code",
   "execution_count": 13,
   "metadata": {},
   "outputs": [],
   "source": [
    "map_type='MD'\n",
    "region='whole_brain'"
   ]
  },
  {
   "cell_type": "code",
   "execution_count": 37,
   "metadata": {},
   "outputs": [
    {
     "name": "stdout",
     "output_type": "stream",
     "text": [
      "Running randomise for individual differences:\n",
      "--- LONG training group | MD | whole_brain ---\n",
      "\n"
     ]
    }
   ],
   "source": [
    "runRandomiseIndividualDiffs(group, map_type, region)"
   ]
  },
  {
   "cell_type": "code",
   "execution_count": 38,
   "metadata": {},
   "outputs": [
    {
     "name": "stdout",
     "output_type": "stream",
     "text": [
      "Test for POSITIVE relationship between:\n",
      "--- increase in MD and GOAL-DIRECTEDNESS in: whole_brain | group: LONG ---\n",
      "\n",
      "Cluster Index\tVoxels\tcorrp1-p-MAX\tcorrp1-p-MAX X (vox)\tcorrp1-p-MAX Y (vox)\tcorrp1-p-MAX Z (vox)\tcorrp1-p-COG X (vox)\tcorrp1-p-COG Y (vox)\tcorrp1-p-COG Z (vox)\tCOPE-MAX\tCOPE-MAX X (vox)\tCOPE-MAX Y (vox)\tCOPE-MAX Z (vox)\tCOPE-MEAN\n",
      "\n",
      "Test for NEGATIVE relationship between:\n",
      "--- increase in MD and GOAL-DIRECTEDNESS in: whole_brain | group: LONG ---\n",
      "\n",
      "Cluster Index\tVoxels\tcorrp1-p-MAX\tcorrp1-p-MAX X (vox)\tcorrp1-p-MAX Y (vox)\tcorrp1-p-MAX Z (vox)\tcorrp1-p-COG X (vox)\tcorrp1-p-COG Y (vox)\tcorrp1-p-COG Z (vox)\tCOPE-MAX\tCOPE-MAX X (vox)\tCOPE-MAX Y (vox)\tCOPE-MAX Z (vox)\tCOPE-MEAN\n",
      "\n"
     ]
    }
   ],
   "source": [
    "getClusterInfoIndividualDiffs(group, map_type, region, ReversedSigThresh='0.90')"
   ]
  },
  {
   "cell_type": "markdown",
   "metadata": {},
   "source": [
    ">>>>> RESULT : NOTHING"
   ]
  },
  {
   "cell_type": "markdown",
   "metadata": {},
   "source": [
    "### Putamen - MD"
   ]
  },
  {
   "cell_type": "code",
   "execution_count": 39,
   "metadata": {},
   "outputs": [],
   "source": [
    "region='Putamen'"
   ]
  },
  {
   "cell_type": "code",
   "execution_count": 40,
   "metadata": {},
   "outputs": [
    {
     "name": "stdout",
     "output_type": "stream",
     "text": [
      "Running randomise for individual differences:\n",
      "--- LONG training group | MD | Putamen ---\n",
      "\n"
     ]
    }
   ],
   "source": [
    "runRandomiseIndividualDiffs(group, map_type, region)"
   ]
  },
  {
   "cell_type": "code",
   "execution_count": 41,
   "metadata": {},
   "outputs": [
    {
     "name": "stdout",
     "output_type": "stream",
     "text": [
      "Test for POSITIVE relationship between:\n",
      "--- increase in MD and GOAL-DIRECTEDNESS in: Putamen | group: LONG ---\n",
      "\n",
      "Cluster Index\tVoxels\tcorrp1-p-MAX\tcorrp1-p-MAX X (vox)\tcorrp1-p-MAX Y (vox)\tcorrp1-p-MAX Z (vox)\tcorrp1-p-COG X (vox)\tcorrp1-p-COG Y (vox)\tcorrp1-p-COG Z (vox)\tCOPE-MAX\tCOPE-MAX X (vox)\tCOPE-MAX Y (vox)\tCOPE-MAX Z (vox)\tCOPE-MEAN\n",
      "\n",
      "Test for NEGATIVE relationship between:\n",
      "--- increase in MD and GOAL-DIRECTEDNESS in: Putamen | group: LONG ---\n",
      "\n",
      "Cluster Index\tVoxels\tcorrp1-p-MAX\tcorrp1-p-MAX X (vox)\tcorrp1-p-MAX Y (vox)\tcorrp1-p-MAX Z (vox)\tcorrp1-p-COG X (vox)\tcorrp1-p-COG Y (vox)\tcorrp1-p-COG Z (vox)\tCOPE-MAX\tCOPE-MAX X (vox)\tCOPE-MAX Y (vox)\tCOPE-MAX Z (vox)\tCOPE-MEAN\n",
      "\n"
     ]
    }
   ],
   "source": [
    "getClusterInfoIndividualDiffs(group, map_type, region, ReversedSigThresh='0.90')"
   ]
  },
  {
   "cell_type": "markdown",
   "metadata": {},
   "source": [
    ">>>>> RESULT : NOTHING"
   ]
  },
  {
   "cell_type": "markdown",
   "metadata": {},
   "source": [
    "### Caudate - MD"
   ]
  },
  {
   "cell_type": "code",
   "execution_count": 42,
   "metadata": {},
   "outputs": [],
   "source": [
    "region='Caudate'"
   ]
  },
  {
   "cell_type": "code",
   "execution_count": 43,
   "metadata": {},
   "outputs": [
    {
     "name": "stdout",
     "output_type": "stream",
     "text": [
      "Running randomise for individual differences:\n",
      "--- LONG training group | MD | Caudate ---\n",
      "\n"
     ]
    }
   ],
   "source": [
    "runRandomiseIndividualDiffs(group, map_type, region)"
   ]
  },
  {
   "cell_type": "code",
   "execution_count": 44,
   "metadata": {},
   "outputs": [
    {
     "name": "stdout",
     "output_type": "stream",
     "text": [
      "Test for POSITIVE relationship between:\n",
      "--- increase in MD and GOAL-DIRECTEDNESS in: Caudate | group: LONG ---\n",
      "\n",
      "Cluster Index\tVoxels\tcorrp1-p-MAX\tcorrp1-p-MAX X (vox)\tcorrp1-p-MAX Y (vox)\tcorrp1-p-MAX Z (vox)\tcorrp1-p-COG X (vox)\tcorrp1-p-COG Y (vox)\tcorrp1-p-COG Z (vox)\tCOPE-MAX\tCOPE-MAX X (vox)\tCOPE-MAX Y (vox)\tCOPE-MAX Z (vox)\tCOPE-MEAN\n",
      "\n",
      "Test for NEGATIVE relationship between:\n",
      "--- increase in MD and GOAL-DIRECTEDNESS in: Caudate | group: LONG ---\n",
      "\n",
      "Cluster Index\tVoxels\tcorrp1-p-MAX\tcorrp1-p-MAX X (vox)\tcorrp1-p-MAX Y (vox)\tcorrp1-p-MAX Z (vox)\tcorrp1-p-COG X (vox)\tcorrp1-p-COG Y (vox)\tcorrp1-p-COG Z (vox)\tCOPE-MAX\tCOPE-MAX X (vox)\tCOPE-MAX Y (vox)\tCOPE-MAX Z (vox)\tCOPE-MEAN\n",
      "\n"
     ]
    }
   ],
   "source": [
    "getClusterInfoIndividualDiffs(group, map_type, region, ReversedSigThresh='0.90')"
   ]
  },
  {
   "cell_type": "markdown",
   "metadata": {},
   "source": [
    ">>>>> RESULT : NOTHING"
   ]
  },
  {
   "cell_type": "markdown",
   "metadata": {},
   "source": [
    "### vmPFC - MD"
   ]
  },
  {
   "cell_type": "code",
   "execution_count": 14,
   "metadata": {},
   "outputs": [],
   "source": [
    "region='vmPFC'"
   ]
  },
  {
   "cell_type": "code",
   "execution_count": 46,
   "metadata": {},
   "outputs": [
    {
     "name": "stdout",
     "output_type": "stream",
     "text": [
      "Running randomise for individual differences:\n",
      "--- LONG training group | MD | vmPFC ---\n",
      "\n"
     ]
    }
   ],
   "source": [
    "runRandomiseIndividualDiffs(group, map_type, region)"
   ]
  },
  {
   "cell_type": "code",
   "execution_count": 15,
   "metadata": {},
   "outputs": [
    {
     "name": "stdout",
     "output_type": "stream",
     "text": [
      "Test for POSITIVE relationship between:\n",
      "--- increase in MD and GOAL-DIRECTEDNESS in: vmPFC | group: LONG ---\n",
      "\n",
      "Cluster Index\tVoxels\tcorrp1-p-MAX\tcorrp1-p-MAX X (vox)\tcorrp1-p-MAX Y (vox)\tcorrp1-p-MAX Z (vox)\tcorrp1-p-COG X (vox)\tcorrp1-p-COG Y (vox)\tcorrp1-p-COG Z (vox)\tCOPE-MAX\tCOPE-MAX X (vox)\tCOPE-MAX Y (vox)\tCOPE-MAX Z (vox)\tCOPE-MEAN\n",
      "\n",
      "Test for NEGATIVE relationship between:\n",
      "--- increase in MD and GOAL-DIRECTEDNESS in: vmPFC | group: LONG ---\n",
      "\n",
      "Cluster Index\tVoxels\tcorrp1-p-MAX\tcorrp1-p-MAX X (vox)\tcorrp1-p-MAX Y (vox)\tcorrp1-p-MAX Z (vox)\tcorrp1-p-COG X (vox)\tcorrp1-p-COG Y (vox)\tcorrp1-p-COG Z (vox)\tCOPE-MAX\tCOPE-MAX X (vox)\tCOPE-MAX Y (vox)\tCOPE-MAX Z (vox)\tCOPE-MEAN\n",
      "\n"
     ]
    }
   ],
   "source": [
    "getClusterInfoIndividualDiffs(group, map_type, region, ReversedSigThresh='0.90')"
   ]
  },
  {
   "cell_type": "markdown",
   "metadata": {},
   "source": [
    ">>>>> RESULTS: NOTHING"
   ]
  },
  {
   "cell_type": "markdown",
   "metadata": {},
   "source": [
    "## SUMMARY:"
   ]
  },
  {
   "cell_type": "code",
   "execution_count": 60,
   "metadata": {},
   "outputs": [
    {
     "name": "stdout",
     "output_type": "stream",
     "text": [
      "Test for POSITIVE relationship between:\n",
      "--- increase in FA and GOAL-DIRECTEDNESS in: whole_brain | group: SHORT ---\n",
      "\n",
      "Cluster Index\tVoxels\tcorrp1-p-MAX\tcorrp1-p-MAX X (vox)\tcorrp1-p-MAX Y (vox)\tcorrp1-p-MAX Z (vox)\tcorrp1-p-COG X (vox)\tcorrp1-p-COG Y (vox)\tcorrp1-p-COG Z (vox)\tCOPE-MAX\tCOPE-MAX X (vox)\tCOPE-MAX Y (vox)\tCOPE-MAX Z (vox)\tCOPE-MEAN\n",
      "\n",
      "Test for NEGATIVE relationship between:\n",
      "--- increase in FA and GOAL-DIRECTEDNESS in: whole_brain | group: SHORT ---\n",
      "\n",
      "Cluster Index\tVoxels\tcorrp1-p-MAX\tcorrp1-p-MAX X (vox)\tcorrp1-p-MAX Y (vox)\tcorrp1-p-MAX Z (vox)\tcorrp1-p-COG X (vox)\tcorrp1-p-COG Y (vox)\tcorrp1-p-COG Z (vox)\tCOPE-MAX\tCOPE-MAX X (vox)\tCOPE-MAX Y (vox)\tCOPE-MAX Z (vox)\tCOPE-MEAN\n",
      "\n",
      "Test for POSITIVE relationship between:\n",
      "--- increase in FA and GOAL-DIRECTEDNESS in: Putamen | group: SHORT ---\n",
      "\n",
      "Cluster Index\tVoxels\tcorrp1-p-MAX\tcorrp1-p-MAX X (vox)\tcorrp1-p-MAX Y (vox)\tcorrp1-p-MAX Z (vox)\tcorrp1-p-COG X (vox)\tcorrp1-p-COG Y (vox)\tcorrp1-p-COG Z (vox)\tCOPE-MAX\tCOPE-MAX X (vox)\tCOPE-MAX Y (vox)\tCOPE-MAX Z (vox)\tCOPE-MEAN\n",
      "\n",
      "Test for NEGATIVE relationship between:\n",
      "--- increase in FA and GOAL-DIRECTEDNESS in: Putamen | group: SHORT ---\n",
      "\n",
      "Cluster Index\tVoxels\tcorrp1-p-MAX\tcorrp1-p-MAX X (vox)\tcorrp1-p-MAX Y (vox)\tcorrp1-p-MAX Z (vox)\tcorrp1-p-COG X (vox)\tcorrp1-p-COG Y (vox)\tcorrp1-p-COG Z (vox)\tCOPE-MAX\tCOPE-MAX X (vox)\tCOPE-MAX Y (vox)\tCOPE-MAX Z (vox)\tCOPE-MEAN\n",
      "\n",
      "Test for POSITIVE relationship between:\n",
      "--- increase in FA and GOAL-DIRECTEDNESS in: Caudate | group: SHORT ---\n",
      "\n",
      "Cluster Index\tVoxels\tcorrp1-p-MAX\tcorrp1-p-MAX X (vox)\tcorrp1-p-MAX Y (vox)\tcorrp1-p-MAX Z (vox)\tcorrp1-p-COG X (vox)\tcorrp1-p-COG Y (vox)\tcorrp1-p-COG Z (vox)\tCOPE-MAX\tCOPE-MAX X (vox)\tCOPE-MAX Y (vox)\tCOPE-MAX Z (vox)\tCOPE-MEAN\n",
      "\n",
      "Test for NEGATIVE relationship between:\n",
      "--- increase in FA and GOAL-DIRECTEDNESS in: Caudate | group: SHORT ---\n",
      "\n",
      "Cluster Index\tVoxels\tcorrp1-p-MAX\tcorrp1-p-MAX X (vox)\tcorrp1-p-MAX Y (vox)\tcorrp1-p-MAX Z (vox)\tcorrp1-p-COG X (vox)\tcorrp1-p-COG Y (vox)\tcorrp1-p-COG Z (vox)\tCOPE-MAX\tCOPE-MAX X (vox)\tCOPE-MAX Y (vox)\tCOPE-MAX Z (vox)\tCOPE-MEAN\n",
      "\n",
      "Test for POSITIVE relationship between:\n",
      "--- increase in FA and GOAL-DIRECTEDNESS in: vmPFC | group: SHORT ---\n",
      "\n",
      "Cluster Index\tVoxels\tcorrp1-p-MAX\tcorrp1-p-MAX X (vox)\tcorrp1-p-MAX Y (vox)\tcorrp1-p-MAX Z (vox)\tcorrp1-p-COG X (vox)\tcorrp1-p-COG Y (vox)\tcorrp1-p-COG Z (vox)\tCOPE-MAX\tCOPE-MAX X (vox)\tCOPE-MAX Y (vox)\tCOPE-MAX Z (vox)\tCOPE-MEAN\n",
      "\n",
      "Test for NEGATIVE relationship between:\n",
      "--- increase in FA and GOAL-DIRECTEDNESS in: vmPFC | group: SHORT ---\n",
      "\n",
      "Cluster Index\tVoxels\tcorrp1-p-MAX\tcorrp1-p-MAX X (vox)\tcorrp1-p-MAX Y (vox)\tcorrp1-p-MAX Z (vox)\tcorrp1-p-COG X (vox)\tcorrp1-p-COG Y (vox)\tcorrp1-p-COG Z (vox)\tCOPE-MAX\tCOPE-MAX X (vox)\tCOPE-MAX Y (vox)\tCOPE-MAX Z (vox)\tCOPE-MEAN\n",
      "\n",
      "Test for POSITIVE relationship between:\n",
      "--- increase in MD and GOAL-DIRECTEDNESS in: whole_brain | group: SHORT ---\n",
      "\n",
      "Cluster Index\tVoxels\tcorrp1-p-MAX\tcorrp1-p-MAX X (vox)\tcorrp1-p-MAX Y (vox)\tcorrp1-p-MAX Z (vox)\tcorrp1-p-COG X (vox)\tcorrp1-p-COG Y (vox)\tcorrp1-p-COG Z (vox)\tCOPE-MAX\tCOPE-MAX X (vox)\tCOPE-MAX Y (vox)\tCOPE-MAX Z (vox)\tCOPE-MEAN\n",
      "\n",
      "Test for NEGATIVE relationship between:\n",
      "--- increase in MD and GOAL-DIRECTEDNESS in: whole_brain | group: SHORT ---\n",
      "\n",
      "Cluster Index\tVoxels\tcorrp1-p-MAX\tcorrp1-p-MAX X (vox)\tcorrp1-p-MAX Y (vox)\tcorrp1-p-MAX Z (vox)\tcorrp1-p-COG X (vox)\tcorrp1-p-COG Y (vox)\tcorrp1-p-COG Z (vox)\tCOPE-MAX\tCOPE-MAX X (vox)\tCOPE-MAX Y (vox)\tCOPE-MAX Z (vox)\tCOPE-MEAN\n",
      "\n",
      "Test for POSITIVE relationship between:\n",
      "--- increase in MD and GOAL-DIRECTEDNESS in: Putamen | group: SHORT ---\n",
      "\n",
      "Cluster Index\tVoxels\tcorrp1-p-MAX\tcorrp1-p-MAX X (vox)\tcorrp1-p-MAX Y (vox)\tcorrp1-p-MAX Z (vox)\tcorrp1-p-COG X (vox)\tcorrp1-p-COG Y (vox)\tcorrp1-p-COG Z (vox)\tCOPE-MAX\tCOPE-MAX X (vox)\tCOPE-MAX Y (vox)\tCOPE-MAX Z (vox)\tCOPE-MEAN\n",
      "\n",
      "Test for NEGATIVE relationship between:\n",
      "--- increase in MD and GOAL-DIRECTEDNESS in: Putamen | group: SHORT ---\n",
      "\n",
      "Cluster Index\tVoxels\tcorrp1-p-MAX\tcorrp1-p-MAX X (vox)\tcorrp1-p-MAX Y (vox)\tcorrp1-p-MAX Z (vox)\tcorrp1-p-COG X (vox)\tcorrp1-p-COG Y (vox)\tcorrp1-p-COG Z (vox)\tCOPE-MAX\tCOPE-MAX X (vox)\tCOPE-MAX Y (vox)\tCOPE-MAX Z (vox)\tCOPE-MEAN\n",
      "\n",
      "Test for POSITIVE relationship between:\n",
      "--- increase in MD and GOAL-DIRECTEDNESS in: Caudate | group: SHORT ---\n",
      "\n",
      "Cluster Index\tVoxels\tcorrp1-p-MAX\tcorrp1-p-MAX X (vox)\tcorrp1-p-MAX Y (vox)\tcorrp1-p-MAX Z (vox)\tcorrp1-p-COG X (vox)\tcorrp1-p-COG Y (vox)\tcorrp1-p-COG Z (vox)\tCOPE-MAX\tCOPE-MAX X (vox)\tCOPE-MAX Y (vox)\tCOPE-MAX Z (vox)\tCOPE-MEAN\n",
      "\n",
      "Test for NEGATIVE relationship between:\n",
      "--- increase in MD and GOAL-DIRECTEDNESS in: Caudate | group: SHORT ---\n",
      "\n",
      "Cluster Index\tVoxels\tcorrp1-p-MAX\tcorrp1-p-MAX X (vox)\tcorrp1-p-MAX Y (vox)\tcorrp1-p-MAX Z (vox)\tcorrp1-p-COG X (vox)\tcorrp1-p-COG Y (vox)\tcorrp1-p-COG Z (vox)\tCOPE-MAX\tCOPE-MAX X (vox)\tCOPE-MAX Y (vox)\tCOPE-MAX Z (vox)\tCOPE-MEAN\n",
      "\n",
      "Test for POSITIVE relationship between:\n",
      "--- increase in MD and GOAL-DIRECTEDNESS in: vmPFC | group: SHORT ---\n",
      "\n",
      "Cluster Index\tVoxels\tcorrp1-p-MAX\tcorrp1-p-MAX X (vox)\tcorrp1-p-MAX Y (vox)\tcorrp1-p-MAX Z (vox)\tcorrp1-p-COG X (vox)\tcorrp1-p-COG Y (vox)\tcorrp1-p-COG Z (vox)\tCOPE-MAX\tCOPE-MAX X (vox)\tCOPE-MAX Y (vox)\tCOPE-MAX Z (vox)\tCOPE-MEAN\n",
      "\n",
      "Test for NEGATIVE relationship between:\n",
      "--- increase in MD and GOAL-DIRECTEDNESS in: vmPFC | group: SHORT ---\n",
      "\n",
      "Cluster Index\tVoxels\tcorrp1-p-MAX\tcorrp1-p-MAX X (vox)\tcorrp1-p-MAX Y (vox)\tcorrp1-p-MAX Z (vox)\tcorrp1-p-COG X (vox)\tcorrp1-p-COG Y (vox)\tcorrp1-p-COG Z (vox)\tCOPE-MAX\tCOPE-MAX X (vox)\tCOPE-MAX Y (vox)\tCOPE-MAX Z (vox)\tCOPE-MEAN\n",
      "\n",
      "Test for POSITIVE relationship between:\n",
      "--- increase in FA and GOAL-DIRECTEDNESS in: whole_brain | group: LONG ---\n",
      "\n",
      "Cluster Index\tVoxels\tcorrp1-p-MAX\tcorrp1-p-MAX X (vox)\tcorrp1-p-MAX Y (vox)\tcorrp1-p-MAX Z (vox)\tcorrp1-p-COG X (vox)\tcorrp1-p-COG Y (vox)\tcorrp1-p-COG Z (vox)\tCOPE-MAX\tCOPE-MAX X (vox)\tCOPE-MAX Y (vox)\tCOPE-MAX Z (vox)\tCOPE-MEAN\n",
      "\n",
      "Test for NEGATIVE relationship between:\n",
      "--- increase in FA and GOAL-DIRECTEDNESS in: whole_brain | group: LONG ---\n",
      "\n",
      "Cluster Index\tVoxels\tcorrp1-p-MAX\tcorrp1-p-MAX X (vox)\tcorrp1-p-MAX Y (vox)\tcorrp1-p-MAX Z (vox)\tcorrp1-p-COG X (vox)\tcorrp1-p-COG Y (vox)\tcorrp1-p-COG Z (vox)\tCOPE-MAX\tCOPE-MAX X (vox)\tCOPE-MAX Y (vox)\tCOPE-MAX Z (vox)\tCOPE-MEAN\n",
      "\n",
      "Test for POSITIVE relationship between:\n",
      "--- increase in FA and GOAL-DIRECTEDNESS in: Putamen | group: LONG ---\n",
      "\n",
      "Cluster Index\tVoxels\tcorrp1-p-MAX\tcorrp1-p-MAX X (vox)\tcorrp1-p-MAX Y (vox)\tcorrp1-p-MAX Z (vox)\tcorrp1-p-COG X (vox)\tcorrp1-p-COG Y (vox)\tcorrp1-p-COG Z (vox)\tCOPE-MAX\tCOPE-MAX X (vox)\tCOPE-MAX Y (vox)\tCOPE-MAX Z (vox)\tCOPE-MEAN\n",
      "1\t12\t0.924\t33\t67\t35\t33.4\t68.1\t35.7\t4.3\t33\t68\t36\t3.66\n",
      "\n",
      "Test for NEGATIVE relationship between:\n",
      "--- increase in FA and GOAL-DIRECTEDNESS in: Putamen | group: LONG ---\n",
      "\n",
      "Cluster Index\tVoxels\tcorrp1-p-MAX\tcorrp1-p-MAX X (vox)\tcorrp1-p-MAX Y (vox)\tcorrp1-p-MAX Z (vox)\tcorrp1-p-COG X (vox)\tcorrp1-p-COG Y (vox)\tcorrp1-p-COG Z (vox)\tCOPE-MAX\tCOPE-MAX X (vox)\tCOPE-MAX Y (vox)\tCOPE-MAX Z (vox)\tCOPE-MEAN\n",
      "\n",
      "Test for POSITIVE relationship between:\n",
      "--- increase in FA and GOAL-DIRECTEDNESS in: Caudate | group: LONG ---\n",
      "\n",
      "Cluster Index\tVoxels\tcorrp1-p-MAX\tcorrp1-p-MAX X (vox)\tcorrp1-p-MAX Y (vox)\tcorrp1-p-MAX Z (vox)\tcorrp1-p-COG X (vox)\tcorrp1-p-COG Y (vox)\tcorrp1-p-COG Z (vox)\tCOPE-MAX\tCOPE-MAX X (vox)\tCOPE-MAX Y (vox)\tCOPE-MAX Z (vox)\tCOPE-MEAN\n",
      "\n",
      "Test for NEGATIVE relationship between:\n",
      "--- increase in FA and GOAL-DIRECTEDNESS in: Caudate | group: LONG ---\n",
      "\n",
      "Cluster Index\tVoxels\tcorrp1-p-MAX\tcorrp1-p-MAX X (vox)\tcorrp1-p-MAX Y (vox)\tcorrp1-p-MAX Z (vox)\tcorrp1-p-COG X (vox)\tcorrp1-p-COG Y (vox)\tcorrp1-p-COG Z (vox)\tCOPE-MAX\tCOPE-MAX X (vox)\tCOPE-MAX Y (vox)\tCOPE-MAX Z (vox)\tCOPE-MEAN\n",
      "\n",
      "Test for POSITIVE relationship between:\n",
      "--- increase in FA and GOAL-DIRECTEDNESS in: vmPFC | group: LONG ---\n",
      "\n",
      "Cluster Index\tVoxels\tcorrp1-p-MAX\tcorrp1-p-MAX X (vox)\tcorrp1-p-MAX Y (vox)\tcorrp1-p-MAX Z (vox)\tcorrp1-p-COG X (vox)\tcorrp1-p-COG Y (vox)\tcorrp1-p-COG Z (vox)\tCOPE-MAX\tCOPE-MAX X (vox)\tCOPE-MAX Y (vox)\tCOPE-MAX Z (vox)\tCOPE-MEAN\n",
      "1\t22\t0.904\t48\t96\t30\t49.1\t95.2\t31.9\t4.07\t49\t95\t32\t3.53\n",
      "\n",
      "Test for NEGATIVE relationship between:\n",
      "--- increase in FA and GOAL-DIRECTEDNESS in: vmPFC | group: LONG ---\n",
      "\n",
      "Cluster Index\tVoxels\tcorrp1-p-MAX\tcorrp1-p-MAX X (vox)\tcorrp1-p-MAX Y (vox)\tcorrp1-p-MAX Z (vox)\tcorrp1-p-COG X (vox)\tcorrp1-p-COG Y (vox)\tcorrp1-p-COG Z (vox)\tCOPE-MAX\tCOPE-MAX X (vox)\tCOPE-MAX Y (vox)\tCOPE-MAX Z (vox)\tCOPE-MEAN\n",
      "\n",
      "Test for POSITIVE relationship between:\n",
      "--- increase in MD and GOAL-DIRECTEDNESS in: whole_brain | group: LONG ---\n",
      "\n",
      "Cluster Index\tVoxels\tcorrp1-p-MAX\tcorrp1-p-MAX X (vox)\tcorrp1-p-MAX Y (vox)\tcorrp1-p-MAX Z (vox)\tcorrp1-p-COG X (vox)\tcorrp1-p-COG Y (vox)\tcorrp1-p-COG Z (vox)\tCOPE-MAX\tCOPE-MAX X (vox)\tCOPE-MAX Y (vox)\tCOPE-MAX Z (vox)\tCOPE-MEAN\n",
      "\n",
      "Test for NEGATIVE relationship between:\n",
      "--- increase in MD and GOAL-DIRECTEDNESS in: whole_brain | group: LONG ---\n",
      "\n",
      "Cluster Index\tVoxels\tcorrp1-p-MAX\tcorrp1-p-MAX X (vox)\tcorrp1-p-MAX Y (vox)\tcorrp1-p-MAX Z (vox)\tcorrp1-p-COG X (vox)\tcorrp1-p-COG Y (vox)\tcorrp1-p-COG Z (vox)\tCOPE-MAX\tCOPE-MAX X (vox)\tCOPE-MAX Y (vox)\tCOPE-MAX Z (vox)\tCOPE-MEAN\n",
      "\n",
      "Test for POSITIVE relationship between:\n",
      "--- increase in MD and GOAL-DIRECTEDNESS in: Putamen | group: LONG ---\n",
      "\n",
      "Cluster Index\tVoxels\tcorrp1-p-MAX\tcorrp1-p-MAX X (vox)\tcorrp1-p-MAX Y (vox)\tcorrp1-p-MAX Z (vox)\tcorrp1-p-COG X (vox)\tcorrp1-p-COG Y (vox)\tcorrp1-p-COG Z (vox)\tCOPE-MAX\tCOPE-MAX X (vox)\tCOPE-MAX Y (vox)\tCOPE-MAX Z (vox)\tCOPE-MEAN\n",
      "\n",
      "Test for NEGATIVE relationship between:\n",
      "--- increase in MD and GOAL-DIRECTEDNESS in: Putamen | group: LONG ---\n",
      "\n",
      "Cluster Index\tVoxels\tcorrp1-p-MAX\tcorrp1-p-MAX X (vox)\tcorrp1-p-MAX Y (vox)\tcorrp1-p-MAX Z (vox)\tcorrp1-p-COG X (vox)\tcorrp1-p-COG Y (vox)\tcorrp1-p-COG Z (vox)\tCOPE-MAX\tCOPE-MAX X (vox)\tCOPE-MAX Y (vox)\tCOPE-MAX Z (vox)\tCOPE-MEAN\n",
      "\n",
      "Test for POSITIVE relationship between:\n",
      "--- increase in MD and GOAL-DIRECTEDNESS in: Caudate | group: LONG ---\n",
      "\n",
      "Cluster Index\tVoxels\tcorrp1-p-MAX\tcorrp1-p-MAX X (vox)\tcorrp1-p-MAX Y (vox)\tcorrp1-p-MAX Z (vox)\tcorrp1-p-COG X (vox)\tcorrp1-p-COG Y (vox)\tcorrp1-p-COG Z (vox)\tCOPE-MAX\tCOPE-MAX X (vox)\tCOPE-MAX Y (vox)\tCOPE-MAX Z (vox)\tCOPE-MEAN\n",
      "\n",
      "Test for NEGATIVE relationship between:\n",
      "--- increase in MD and GOAL-DIRECTEDNESS in: Caudate | group: LONG ---\n",
      "\n",
      "Cluster Index\tVoxels\tcorrp1-p-MAX\tcorrp1-p-MAX X (vox)\tcorrp1-p-MAX Y (vox)\tcorrp1-p-MAX Z (vox)\tcorrp1-p-COG X (vox)\tcorrp1-p-COG Y (vox)\tcorrp1-p-COG Z (vox)\tCOPE-MAX\tCOPE-MAX X (vox)\tCOPE-MAX Y (vox)\tCOPE-MAX Z (vox)\tCOPE-MEAN\n",
      "\n",
      "Test for POSITIVE relationship between:\n",
      "--- increase in MD and GOAL-DIRECTEDNESS in: vmPFC | group: LONG ---\n",
      "\n",
      "Cluster Index\tVoxels\tcorrp1-p-MAX\tcorrp1-p-MAX X (vox)\tcorrp1-p-MAX Y (vox)\tcorrp1-p-MAX Z (vox)\tcorrp1-p-COG X (vox)\tcorrp1-p-COG Y (vox)\tcorrp1-p-COG Z (vox)\tCOPE-MAX\tCOPE-MAX X (vox)\tCOPE-MAX Y (vox)\tCOPE-MAX Z (vox)\tCOPE-MEAN\n",
      "\n",
      "Test for NEGATIVE relationship between:\n",
      "--- increase in MD and GOAL-DIRECTEDNESS in: vmPFC | group: LONG ---\n",
      "\n",
      "Cluster Index\tVoxels\tcorrp1-p-MAX\tcorrp1-p-MAX X (vox)\tcorrp1-p-MAX Y (vox)\tcorrp1-p-MAX Z (vox)\tcorrp1-p-COG X (vox)\tcorrp1-p-COG Y (vox)\tcorrp1-p-COG Z (vox)\tCOPE-MAX\tCOPE-MAX X (vox)\tCOPE-MAX Y (vox)\tCOPE-MAX Z (vox)\tCOPE-MEAN\n",
      "\n"
     ]
    }
   ],
   "source": [
    "# Get cluster info:\n",
    "for group in ['SHORT', 'LONG']:\n",
    "    for map_type in ['FA', 'MD']:\n",
    "        for region in ['whole_brain', 'Putamen', 'Caudate', 'vmPFC']:\n",
    "            getClusterInfoIndividualDiffs(group, map_type, region, ReversedSigThresh='0.90')\n",
    "\n"
   ]
  },
  {
   "cell_type": "markdown",
   "metadata": {},
   "source": [
    "# *-*-*-*-*-*-*-*-*-*-*-*-*-*-*-*-*-*-*-*-*-*-*-*-*-*"
   ]
  },
  {
   "cell_type": "markdown",
   "metadata": {},
   "source": [
    "# Statistics - Exploratory SUBGROUPS analysis (subgroups of habitual and goal-directed participants are inferred based on the behavioral measure)"
   ]
  },
  {
   "cell_type": "markdown",
   "metadata": {},
   "source": [
    "### Prepare and arrange the behavioral data and the corresponding DTI folders data variables"
   ]
  },
  {
   "cell_type": "code",
   "execution_count": 19,
   "metadata": {},
   "outputs": [],
   "source": [
    "# Get the behavioral data:\n",
    "behav_clustered_all = pd.read_csv(os.path.join(behav_data_path, 'clustered_subgroups_HIS_May_2022.csv'))\n",
    "# remove subjects that don't have DTI data\n",
    "absent_from_DTI_data2 = [sub for sub in behav_clustered_all.ID if 'sub-' + str(sub) not in subjFoldersDTI]\n",
    "behav_clustered_all = behav_clustered_all[~behav_clustered_all.ID.isin(absent_from_DTI_data2)]\n",
    "\n",
    "# remove subjects that were excluded from the behavioral sub-groups clusters:\n",
    "absent_from_behav_clusters = [sub for sub in subjFoldersDTI if int(sub.split('-')[1]) not in list(behav_clustered_all.ID)]\n",
    "subjFoldersDTI_forSubgroups = [sub for sub in subjFoldersDTI if sub not in absent_from_behav_clusters]\n",
    "\n",
    "# now make sure that subject lists are matching:\n",
    "if not ['sub-' + str(sub) for sub in behav_clustered_all.ID] == subjFoldersDTI_forSubgroups:\n",
    "    raise Exception('Subject lists are not matching')\n",
    "    #pass # for debugging\n",
    "\n",
    "# create variables foreach group seperately and for the subgroups seperately:\n",
    "behav_clustered_short = behav_clustered_all[behav_clustered_all.ID < 200]\n",
    "behav_clustered_long = behav_clustered_all[behav_clustered_all.ID > 200]\n",
    "behav_clustered_goal_directed = behav_clustered_all[behav_clustered_all.Cluster == 'Goal-directed']\n",
    "behav_clustered_habitual = behav_clustered_all[behav_clustered_all.Cluster == 'Habitual']\n",
    "\n",
    "# sort the data according to the subgroups and create matching lists for the DTI data:\n",
    "behav_clustered_short = behav_clustered_short.sort_values(by=['Cluster', 'ID']).reset_index(drop=True)\n",
    "subjFoldersDTI_clustered_short = ['sub-' + str(sub) for sub in behav_clustered_short.ID]\n",
    "\n",
    "behav_clustered_long = behav_clustered_long.sort_values(by=['Cluster', 'ID']).reset_index(drop=True)\n",
    "subjFoldersDTI_clustered_long = ['sub-' + str(sub) for sub in behav_clustered_long.ID]\n",
    "\n",
    "behav_clustered_goal_directed = behav_clustered_goal_directed.sort_values(by=['ID']).reset_index(drop=True)\n",
    "subjFoldersDTI_clustered_goal_directed = ['sub-' + str(sub) for sub in behav_clustered_goal_directed.ID]\n",
    "\n",
    "behav_clustered_habitual = behav_clustered_habitual.sort_values(by=['ID']).reset_index(drop=True)\n",
    "subjFoldersDTI_clustered_habitual = ['sub-' + str(sub) for sub in behav_clustered_habitual.ID]"
   ]
  },
  {
   "cell_type": "code",
   "execution_count": null,
   "metadata": {},
   "outputs": [
    {
     "data": {
      "text/plain": [
       "['sub-104',\n",
       " 'sub-106',\n",
       " 'sub-108',\n",
       " 'sub-110',\n",
       " 'sub-113',\n",
       " 'sub-114',\n",
       " 'sub-115',\n",
       " 'sub-117',\n",
       " 'sub-118',\n",
       " 'sub-121',\n",
       " 'sub-122',\n",
       " 'sub-126',\n",
       " 'sub-129',\n",
       " 'sub-130',\n",
       " 'sub-138',\n",
       " 'sub-141',\n",
       " 'sub-142',\n",
       " 'sub-143',\n",
       " 'sub-146',\n",
       " 'sub-147',\n",
       " 'sub-148',\n",
       " 'sub-149',\n",
       " 'sub-150',\n",
       " 'sub-152',\n",
       " 'sub-153',\n",
       " 'sub-155',\n",
       " 'sub-156',\n",
       " 'sub-160',\n",
       " 'sub-162',\n",
       " 'sub-164',\n",
       " 'sub-166',\n",
       " 'sub-167',\n",
       " 'sub-172',\n",
       " 'sub-204',\n",
       " 'sub-205',\n",
       " 'sub-207',\n",
       " 'sub-209',\n",
       " 'sub-210',\n",
       " 'sub-212',\n",
       " 'sub-215',\n",
       " 'sub-218',\n",
       " 'sub-229',\n",
       " 'sub-230',\n",
       " 'sub-232',\n",
       " 'sub-239',\n",
       " 'sub-240',\n",
       " 'sub-243',\n",
       " 'sub-245',\n",
       " 'sub-247',\n",
       " 'sub-249',\n",
       " 'sub-251',\n",
       " 'sub-252',\n",
       " 'sub-254',\n",
       " 'sub-257',\n",
       " 'sub-258',\n",
       " 'sub-260',\n",
       " 'sub-261',\n",
       " 'sub-262',\n",
       " 'sub-263',\n",
       " 'sub-264',\n",
       " 'sub-265',\n",
       " 'sub-270',\n",
       " 'sub-271',\n",
       " 'sub-272',\n",
       " 'sub-281',\n",
       " 'sub-282',\n",
       " 'sub-283',\n",
       " 'sub-285']"
      ]
     },
     "execution_count": 118,
     "metadata": {},
     "output_type": "execute_result"
    }
   ],
   "source": [
    "subjFoldersDTI_clustered_short #goal-directed then habitual - from behav_clustered_short\n",
    "subjFoldersDTI_clustered_long #goal-directed then habitual - from behav_clustered_long\n",
    "subjFoldersDTI_clustered_goal_directed #1-day then 3-day - from behav_clustered_goal_directed\n",
    "subjFoldersDTI_clustered_habitual #1-day then 3-day - from behav_clustered_habitual\n"
   ]
  },
  {
   "cell_type": "markdown",
   "metadata": {},
   "source": [
    "### prepare the design matrix"
   ]
  },
  {
   "cell_type": "code",
   "execution_count": 18,
   "metadata": {},
   "outputs": [
    {
     "name": "stdout",
     "output_type": "stream",
     "text": [
      "> Create the between group design matrix (of the calculated differences) - same is unpaired t-test (on the after-before differences)\n",
      "design_ttest2 /export2/DATA/HIS/HIS_server/analysis/dwi_data/stats_alt_reg/models/sub_groups/design_unpaired_ttest_subgroups_in_1_Day 27 33\n",
      "design_ttest2 /export2/DATA/HIS/HIS_server/analysis/dwi_data/stats_alt_reg/models/sub_groups/design_unpaired_ttest_subgroups_in_3_Day 20 35\n",
      "design_ttest2 /export2/DATA/HIS/HIS_server/analysis/dwi_data/stats_alt_reg/models/sub_groups/design_unpaired_ttest_subgroups_in_Goal_Directed 27 20\n",
      "design_ttest2 /export2/DATA/HIS/HIS_server/analysis/dwi_data/stats_alt_reg/models/sub_groups/design_unpaired_ttest_subgroups_in_Habitual 33 35\n"
     ]
    },
    {
     "data": {
      "text/plain": [
       "0"
      ]
     },
     "execution_count": 18,
     "metadata": {},
     "output_type": "execute_result"
    }
   ],
   "source": [
    "print('> Create the between group design matrix (of the calculated differences) - same is unpaired t-test (on the after-before differences)')\n",
    "# create the folder\n",
    "try:\n",
    "    os.makedirs(os.path.join(models_path, 'sub_groups'), exist_ok=False)\n",
    "    print('>> Created folder: ' + os.path.join(models_path, 'sub_groups'))\n",
    "except:\n",
    "    pass\n",
    "\n",
    "# create the design matrix and contrasts:\n",
    "N_goal_directed_in_clustered_1_DAY = behav_clustered_short.Cluster.value_counts()['Goal-directed']\n",
    "N_habitual_in_clustered_1_DAY = behav_clustered_short.Cluster.value_counts()['Habitual']\n",
    "print(f\"design_ttest2 {os.path.join(models_path, 'sub_groups','design_unpaired_ttest_subgroups_in_1_Day')} {N_goal_directed_in_clustered_1_DAY} {N_habitual_in_clustered_1_DAY}\")\n",
    "os.system(f\"design_ttest2 {os.path.join(models_path, 'sub_groups','design_unpaired_ttest_subgroups_in_1_Day')} {N_goal_directed_in_clustered_1_DAY} {N_habitual_in_clustered_1_DAY}\")\n",
    "\n",
    "N_goal_directed_in_clustered_3_DAY = behav_clustered_long.Cluster.value_counts()['Goal-directed']\n",
    "N_habitual_in_clustered_3_DAY = behav_clustered_long.Cluster.value_counts()['Habitual']\n",
    "print(f\"design_ttest2 {os.path.join(models_path, 'sub_groups','design_unpaired_ttest_subgroups_in_3_Day')} {N_goal_directed_in_clustered_3_DAY} {N_habitual_in_clustered_3_DAY}\")\n",
    "os.system(f\"design_ttest2 {os.path.join(models_path, 'sub_groups','design_unpaired_ttest_subgroups_in_3_Day')} {N_goal_directed_in_clustered_3_DAY} {N_habitual_in_clustered_3_DAY}\")\n",
    "\n",
    "N_1_DAY_in_clustered_goal_directed = len(set([sub for sub in subjFoldersDTI_clustered_goal_directed if int(sub.split('-')[-1])<200]))\n",
    "N_3_DAY_in_clustered_goal_directed = len(set([sub for sub in subjFoldersDTI_clustered_goal_directed if int(sub.split('-')[-1])>200]))\n",
    "print(f\"design_ttest2 {os.path.join(models_path, 'sub_groups','design_unpaired_ttest_subgroups_in_Goal_Directed')} {N_1_DAY_in_clustered_goal_directed} {N_3_DAY_in_clustered_goal_directed}\")\n",
    "os.system(f\"design_ttest2 {os.path.join(models_path, 'sub_groups','design_unpaired_ttest_subgroups_in_Goal_Directed')} {N_1_DAY_in_clustered_goal_directed} {N_3_DAY_in_clustered_goal_directed}\")\n",
    "\n",
    "N_1_DAY_in_clustered_habitual = len(set([sub for sub in subjFoldersDTI_clustered_habitual if int(sub.split('-')[-1])<200]))\n",
    "N_3_DAY_in_clustered_habitual = len(set([sub for sub in subjFoldersDTI_clustered_habitual if int(sub.split('-')[-1])>200]))\n",
    "print(f\"design_ttest2 {os.path.join(models_path, 'sub_groups','design_unpaired_ttest_subgroups_in_Habitual')} {N_1_DAY_in_clustered_habitual} {N_3_DAY_in_clustered_habitual}\")\n",
    "os.system(f\"design_ttest2 {os.path.join(models_path, 'sub_groups','design_unpaired_ttest_subgroups_in_Habitual')} {N_1_DAY_in_clustered_habitual} {N_3_DAY_in_clustered_habitual}\")\n"
   ]
  },
  {
   "cell_type": "markdown",
   "metadata": {},
   "source": [
    "### Create one file with each group's participants together"
   ]
  },
  {
   "cell_type": "code",
   "execution_count": 19,
   "metadata": {},
   "outputs": [
    {
     "name": "stdout",
     "output_type": "stream",
     "text": [
      "fslmerge -t /export2/DATA/HIS/HIS_server/analysis/dwi_data/stats_alt_reg/MD/SUBGROUPS_in_1_Day_AFTER_minus_BEFORE_MD /export2/DATA/HIS/HIS_server/analysis/dwi_data/stats_alt_reg/MD/sub-103_in-MNI_MD_AFTER-minus-BEFORE.nii.gz /export2/DATA/HIS/HIS_server/analysis/dwi_data/stats_alt_reg/MD/sub-107_in-MNI_MD_AFTER-minus-BEFORE.nii.gz /export2/DATA/HIS/HIS_server/analysis/dwi_data/stats_alt_reg/MD/sub-119_in-MNI_MD_AFTER-minus-BEFORE.nii.gz /export2/DATA/HIS/HIS_server/analysis/dwi_data/stats_alt_reg/MD/sub-120_in-MNI_MD_AFTER-minus-BEFORE.nii.gz /export2/DATA/HIS/HIS_server/analysis/dwi_data/stats_alt_reg/MD/sub-124_in-MNI_MD_AFTER-minus-BEFORE.nii.gz /export2/DATA/HIS/HIS_server/analysis/dwi_data/stats_alt_reg/MD/sub-127_in-MNI_MD_AFTER-minus-BEFORE.nii.gz /export2/DATA/HIS/HIS_server/analysis/dwi_data/stats_alt_reg/MD/sub-128_in-MNI_MD_AFTER-minus-BEFORE.nii.gz /export2/DATA/HIS/HIS_server/analysis/dwi_data/stats_alt_reg/MD/sub-131_in-MNI_MD_AFTER-minus-BEFORE.nii.gz /export2/DATA/HIS/HIS_server/analysis/dwi_data/stats_alt_reg/MD/sub-133_in-MNI_MD_AFTER-minus-BEFORE.nii.gz /export2/DATA/HIS/HIS_server/analysis/dwi_data/stats_alt_reg/MD/sub-135_in-MNI_MD_AFTER-minus-BEFORE.nii.gz /export2/DATA/HIS/HIS_server/analysis/dwi_data/stats_alt_reg/MD/sub-137_in-MNI_MD_AFTER-minus-BEFORE.nii.gz /export2/DATA/HIS/HIS_server/analysis/dwi_data/stats_alt_reg/MD/sub-139_in-MNI_MD_AFTER-minus-BEFORE.nii.gz /export2/DATA/HIS/HIS_server/analysis/dwi_data/stats_alt_reg/MD/sub-140_in-MNI_MD_AFTER-minus-BEFORE.nii.gz /export2/DATA/HIS/HIS_server/analysis/dwi_data/stats_alt_reg/MD/sub-144_in-MNI_MD_AFTER-minus-BEFORE.nii.gz /export2/DATA/HIS/HIS_server/analysis/dwi_data/stats_alt_reg/MD/sub-145_in-MNI_MD_AFTER-minus-BEFORE.nii.gz /export2/DATA/HIS/HIS_server/analysis/dwi_data/stats_alt_reg/MD/sub-151_in-MNI_MD_AFTER-minus-BEFORE.nii.gz /export2/DATA/HIS/HIS_server/analysis/dwi_data/stats_alt_reg/MD/sub-154_in-MNI_MD_AFTER-minus-BEFORE.nii.gz /export2/DATA/HIS/HIS_server/analysis/dwi_data/stats_alt_reg/MD/sub-157_in-MNI_MD_AFTER-minus-BEFORE.nii.gz /export2/DATA/HIS/HIS_server/analysis/dwi_data/stats_alt_reg/MD/sub-158_in-MNI_MD_AFTER-minus-BEFORE.nii.gz /export2/DATA/HIS/HIS_server/analysis/dwi_data/stats_alt_reg/MD/sub-159_in-MNI_MD_AFTER-minus-BEFORE.nii.gz /export2/DATA/HIS/HIS_server/analysis/dwi_data/stats_alt_reg/MD/sub-161_in-MNI_MD_AFTER-minus-BEFORE.nii.gz /export2/DATA/HIS/HIS_server/analysis/dwi_data/stats_alt_reg/MD/sub-163_in-MNI_MD_AFTER-minus-BEFORE.nii.gz /export2/DATA/HIS/HIS_server/analysis/dwi_data/stats_alt_reg/MD/sub-168_in-MNI_MD_AFTER-minus-BEFORE.nii.gz /export2/DATA/HIS/HIS_server/analysis/dwi_data/stats_alt_reg/MD/sub-169_in-MNI_MD_AFTER-minus-BEFORE.nii.gz /export2/DATA/HIS/HIS_server/analysis/dwi_data/stats_alt_reg/MD/sub-171_in-MNI_MD_AFTER-minus-BEFORE.nii.gz /export2/DATA/HIS/HIS_server/analysis/dwi_data/stats_alt_reg/MD/sub-174_in-MNI_MD_AFTER-minus-BEFORE.nii.gz /export2/DATA/HIS/HIS_server/analysis/dwi_data/stats_alt_reg/MD/sub-175_in-MNI_MD_AFTER-minus-BEFORE.nii.gz /export2/DATA/HIS/HIS_server/analysis/dwi_data/stats_alt_reg/MD/sub-104_in-MNI_MD_AFTER-minus-BEFORE.nii.gz /export2/DATA/HIS/HIS_server/analysis/dwi_data/stats_alt_reg/MD/sub-106_in-MNI_MD_AFTER-minus-BEFORE.nii.gz /export2/DATA/HIS/HIS_server/analysis/dwi_data/stats_alt_reg/MD/sub-108_in-MNI_MD_AFTER-minus-BEFORE.nii.gz /export2/DATA/HIS/HIS_server/analysis/dwi_data/stats_alt_reg/MD/sub-110_in-MNI_MD_AFTER-minus-BEFORE.nii.gz /export2/DATA/HIS/HIS_server/analysis/dwi_data/stats_alt_reg/MD/sub-113_in-MNI_MD_AFTER-minus-BEFORE.nii.gz /export2/DATA/HIS/HIS_server/analysis/dwi_data/stats_alt_reg/MD/sub-114_in-MNI_MD_AFTER-minus-BEFORE.nii.gz /export2/DATA/HIS/HIS_server/analysis/dwi_data/stats_alt_reg/MD/sub-115_in-MNI_MD_AFTER-minus-BEFORE.nii.gz /export2/DATA/HIS/HIS_server/analysis/dwi_data/stats_alt_reg/MD/sub-117_in-MNI_MD_AFTER-minus-BEFORE.nii.gz /export2/DATA/HIS/HIS_server/analysis/dwi_data/stats_alt_reg/MD/sub-118_in-MNI_MD_AFTER-minus-BEFORE.nii.gz /export2/DATA/HIS/HIS_server/analysis/dwi_data/stats_alt_reg/MD/sub-121_in-MNI_MD_AFTER-minus-BEFORE.nii.gz /export2/DATA/HIS/HIS_server/analysis/dwi_data/stats_alt_reg/MD/sub-122_in-MNI_MD_AFTER-minus-BEFORE.nii.gz /export2/DATA/HIS/HIS_server/analysis/dwi_data/stats_alt_reg/MD/sub-126_in-MNI_MD_AFTER-minus-BEFORE.nii.gz /export2/DATA/HIS/HIS_server/analysis/dwi_data/stats_alt_reg/MD/sub-129_in-MNI_MD_AFTER-minus-BEFORE.nii.gz /export2/DATA/HIS/HIS_server/analysis/dwi_data/stats_alt_reg/MD/sub-130_in-MNI_MD_AFTER-minus-BEFORE.nii.gz /export2/DATA/HIS/HIS_server/analysis/dwi_data/stats_alt_reg/MD/sub-138_in-MNI_MD_AFTER-minus-BEFORE.nii.gz /export2/DATA/HIS/HIS_server/analysis/dwi_data/stats_alt_reg/MD/sub-141_in-MNI_MD_AFTER-minus-BEFORE.nii.gz /export2/DATA/HIS/HIS_server/analysis/dwi_data/stats_alt_reg/MD/sub-142_in-MNI_MD_AFTER-minus-BEFORE.nii.gz /export2/DATA/HIS/HIS_server/analysis/dwi_data/stats_alt_reg/MD/sub-143_in-MNI_MD_AFTER-minus-BEFORE.nii.gz /export2/DATA/HIS/HIS_server/analysis/dwi_data/stats_alt_reg/MD/sub-146_in-MNI_MD_AFTER-minus-BEFORE.nii.gz /export2/DATA/HIS/HIS_server/analysis/dwi_data/stats_alt_reg/MD/sub-147_in-MNI_MD_AFTER-minus-BEFORE.nii.gz /export2/DATA/HIS/HIS_server/analysis/dwi_data/stats_alt_reg/MD/sub-148_in-MNI_MD_AFTER-minus-BEFORE.nii.gz /export2/DATA/HIS/HIS_server/analysis/dwi_data/stats_alt_reg/MD/sub-149_in-MNI_MD_AFTER-minus-BEFORE.nii.gz /export2/DATA/HIS/HIS_server/analysis/dwi_data/stats_alt_reg/MD/sub-150_in-MNI_MD_AFTER-minus-BEFORE.nii.gz /export2/DATA/HIS/HIS_server/analysis/dwi_data/stats_alt_reg/MD/sub-152_in-MNI_MD_AFTER-minus-BEFORE.nii.gz /export2/DATA/HIS/HIS_server/analysis/dwi_data/stats_alt_reg/MD/sub-153_in-MNI_MD_AFTER-minus-BEFORE.nii.gz /export2/DATA/HIS/HIS_server/analysis/dwi_data/stats_alt_reg/MD/sub-155_in-MNI_MD_AFTER-minus-BEFORE.nii.gz /export2/DATA/HIS/HIS_server/analysis/dwi_data/stats_alt_reg/MD/sub-156_in-MNI_MD_AFTER-minus-BEFORE.nii.gz /export2/DATA/HIS/HIS_server/analysis/dwi_data/stats_alt_reg/MD/sub-160_in-MNI_MD_AFTER-minus-BEFORE.nii.gz /export2/DATA/HIS/HIS_server/analysis/dwi_data/stats_alt_reg/MD/sub-162_in-MNI_MD_AFTER-minus-BEFORE.nii.gz /export2/DATA/HIS/HIS_server/analysis/dwi_data/stats_alt_reg/MD/sub-164_in-MNI_MD_AFTER-minus-BEFORE.nii.gz /export2/DATA/HIS/HIS_server/analysis/dwi_data/stats_alt_reg/MD/sub-166_in-MNI_MD_AFTER-minus-BEFORE.nii.gz /export2/DATA/HIS/HIS_server/analysis/dwi_data/stats_alt_reg/MD/sub-167_in-MNI_MD_AFTER-minus-BEFORE.nii.gz /export2/DATA/HIS/HIS_server/analysis/dwi_data/stats_alt_reg/MD/sub-172_in-MNI_MD_AFTER-minus-BEFORE.nii.gz\n",
      "fslmerge -t /export2/DATA/HIS/HIS_server/analysis/dwi_data/stats_alt_reg/MD/SUBGROUPS_in_3_Day_AFTER_minus_BEFORE_MD /export2/DATA/HIS/HIS_server/analysis/dwi_data/stats_alt_reg/MD/sub-208_in-MNI_MD_AFTER-minus-BEFORE.nii.gz /export2/DATA/HIS/HIS_server/analysis/dwi_data/stats_alt_reg/MD/sub-214_in-MNI_MD_AFTER-minus-BEFORE.nii.gz /export2/DATA/HIS/HIS_server/analysis/dwi_data/stats_alt_reg/MD/sub-217_in-MNI_MD_AFTER-minus-BEFORE.nii.gz /export2/DATA/HIS/HIS_server/analysis/dwi_data/stats_alt_reg/MD/sub-220_in-MNI_MD_AFTER-minus-BEFORE.nii.gz /export2/DATA/HIS/HIS_server/analysis/dwi_data/stats_alt_reg/MD/sub-221_in-MNI_MD_AFTER-minus-BEFORE.nii.gz /export2/DATA/HIS/HIS_server/analysis/dwi_data/stats_alt_reg/MD/sub-223_in-MNI_MD_AFTER-minus-BEFORE.nii.gz /export2/DATA/HIS/HIS_server/analysis/dwi_data/stats_alt_reg/MD/sub-224_in-MNI_MD_AFTER-minus-BEFORE.nii.gz /export2/DATA/HIS/HIS_server/analysis/dwi_data/stats_alt_reg/MD/sub-225_in-MNI_MD_AFTER-minus-BEFORE.nii.gz /export2/DATA/HIS/HIS_server/analysis/dwi_data/stats_alt_reg/MD/sub-227_in-MNI_MD_AFTER-minus-BEFORE.nii.gz /export2/DATA/HIS/HIS_server/analysis/dwi_data/stats_alt_reg/MD/sub-234_in-MNI_MD_AFTER-minus-BEFORE.nii.gz /export2/DATA/HIS/HIS_server/analysis/dwi_data/stats_alt_reg/MD/sub-235_in-MNI_MD_AFTER-minus-BEFORE.nii.gz /export2/DATA/HIS/HIS_server/analysis/dwi_data/stats_alt_reg/MD/sub-238_in-MNI_MD_AFTER-minus-BEFORE.nii.gz /export2/DATA/HIS/HIS_server/analysis/dwi_data/stats_alt_reg/MD/sub-241_in-MNI_MD_AFTER-minus-BEFORE.nii.gz /export2/DATA/HIS/HIS_server/analysis/dwi_data/stats_alt_reg/MD/sub-242_in-MNI_MD_AFTER-minus-BEFORE.nii.gz /export2/DATA/HIS/HIS_server/analysis/dwi_data/stats_alt_reg/MD/sub-255_in-MNI_MD_AFTER-minus-BEFORE.nii.gz /export2/DATA/HIS/HIS_server/analysis/dwi_data/stats_alt_reg/MD/sub-267_in-MNI_MD_AFTER-minus-BEFORE.nii.gz /export2/DATA/HIS/HIS_server/analysis/dwi_data/stats_alt_reg/MD/sub-276_in-MNI_MD_AFTER-minus-BEFORE.nii.gz /export2/DATA/HIS/HIS_server/analysis/dwi_data/stats_alt_reg/MD/sub-277_in-MNI_MD_AFTER-minus-BEFORE.nii.gz /export2/DATA/HIS/HIS_server/analysis/dwi_data/stats_alt_reg/MD/sub-280_in-MNI_MD_AFTER-minus-BEFORE.nii.gz /export2/DATA/HIS/HIS_server/analysis/dwi_data/stats_alt_reg/MD/sub-284_in-MNI_MD_AFTER-minus-BEFORE.nii.gz /export2/DATA/HIS/HIS_server/analysis/dwi_data/stats_alt_reg/MD/sub-204_in-MNI_MD_AFTER-minus-BEFORE.nii.gz /export2/DATA/HIS/HIS_server/analysis/dwi_data/stats_alt_reg/MD/sub-205_in-MNI_MD_AFTER-minus-BEFORE.nii.gz /export2/DATA/HIS/HIS_server/analysis/dwi_data/stats_alt_reg/MD/sub-207_in-MNI_MD_AFTER-minus-BEFORE.nii.gz /export2/DATA/HIS/HIS_server/analysis/dwi_data/stats_alt_reg/MD/sub-209_in-MNI_MD_AFTER-minus-BEFORE.nii.gz /export2/DATA/HIS/HIS_server/analysis/dwi_data/stats_alt_reg/MD/sub-210_in-MNI_MD_AFTER-minus-BEFORE.nii.gz /export2/DATA/HIS/HIS_server/analysis/dwi_data/stats_alt_reg/MD/sub-212_in-MNI_MD_AFTER-minus-BEFORE.nii.gz /export2/DATA/HIS/HIS_server/analysis/dwi_data/stats_alt_reg/MD/sub-215_in-MNI_MD_AFTER-minus-BEFORE.nii.gz /export2/DATA/HIS/HIS_server/analysis/dwi_data/stats_alt_reg/MD/sub-218_in-MNI_MD_AFTER-minus-BEFORE.nii.gz /export2/DATA/HIS/HIS_server/analysis/dwi_data/stats_alt_reg/MD/sub-229_in-MNI_MD_AFTER-minus-BEFORE.nii.gz /export2/DATA/HIS/HIS_server/analysis/dwi_data/stats_alt_reg/MD/sub-230_in-MNI_MD_AFTER-minus-BEFORE.nii.gz /export2/DATA/HIS/HIS_server/analysis/dwi_data/stats_alt_reg/MD/sub-232_in-MNI_MD_AFTER-minus-BEFORE.nii.gz /export2/DATA/HIS/HIS_server/analysis/dwi_data/stats_alt_reg/MD/sub-239_in-MNI_MD_AFTER-minus-BEFORE.nii.gz /export2/DATA/HIS/HIS_server/analysis/dwi_data/stats_alt_reg/MD/sub-240_in-MNI_MD_AFTER-minus-BEFORE.nii.gz /export2/DATA/HIS/HIS_server/analysis/dwi_data/stats_alt_reg/MD/sub-243_in-MNI_MD_AFTER-minus-BEFORE.nii.gz /export2/DATA/HIS/HIS_server/analysis/dwi_data/stats_alt_reg/MD/sub-245_in-MNI_MD_AFTER-minus-BEFORE.nii.gz /export2/DATA/HIS/HIS_server/analysis/dwi_data/stats_alt_reg/MD/sub-247_in-MNI_MD_AFTER-minus-BEFORE.nii.gz /export2/DATA/HIS/HIS_server/analysis/dwi_data/stats_alt_reg/MD/sub-249_in-MNI_MD_AFTER-minus-BEFORE.nii.gz /export2/DATA/HIS/HIS_server/analysis/dwi_data/stats_alt_reg/MD/sub-251_in-MNI_MD_AFTER-minus-BEFORE.nii.gz /export2/DATA/HIS/HIS_server/analysis/dwi_data/stats_alt_reg/MD/sub-252_in-MNI_MD_AFTER-minus-BEFORE.nii.gz /export2/DATA/HIS/HIS_server/analysis/dwi_data/stats_alt_reg/MD/sub-254_in-MNI_MD_AFTER-minus-BEFORE.nii.gz /export2/DATA/HIS/HIS_server/analysis/dwi_data/stats_alt_reg/MD/sub-257_in-MNI_MD_AFTER-minus-BEFORE.nii.gz /export2/DATA/HIS/HIS_server/analysis/dwi_data/stats_alt_reg/MD/sub-258_in-MNI_MD_AFTER-minus-BEFORE.nii.gz /export2/DATA/HIS/HIS_server/analysis/dwi_data/stats_alt_reg/MD/sub-260_in-MNI_MD_AFTER-minus-BEFORE.nii.gz /export2/DATA/HIS/HIS_server/analysis/dwi_data/stats_alt_reg/MD/sub-261_in-MNI_MD_AFTER-minus-BEFORE.nii.gz /export2/DATA/HIS/HIS_server/analysis/dwi_data/stats_alt_reg/MD/sub-262_in-MNI_MD_AFTER-minus-BEFORE.nii.gz /export2/DATA/HIS/HIS_server/analysis/dwi_data/stats_alt_reg/MD/sub-263_in-MNI_MD_AFTER-minus-BEFORE.nii.gz /export2/DATA/HIS/HIS_server/analysis/dwi_data/stats_alt_reg/MD/sub-264_in-MNI_MD_AFTER-minus-BEFORE.nii.gz /export2/DATA/HIS/HIS_server/analysis/dwi_data/stats_alt_reg/MD/sub-265_in-MNI_MD_AFTER-minus-BEFORE.nii.gz /export2/DATA/HIS/HIS_server/analysis/dwi_data/stats_alt_reg/MD/sub-270_in-MNI_MD_AFTER-minus-BEFORE.nii.gz /export2/DATA/HIS/HIS_server/analysis/dwi_data/stats_alt_reg/MD/sub-271_in-MNI_MD_AFTER-minus-BEFORE.nii.gz /export2/DATA/HIS/HIS_server/analysis/dwi_data/stats_alt_reg/MD/sub-272_in-MNI_MD_AFTER-minus-BEFORE.nii.gz /export2/DATA/HIS/HIS_server/analysis/dwi_data/stats_alt_reg/MD/sub-281_in-MNI_MD_AFTER-minus-BEFORE.nii.gz /export2/DATA/HIS/HIS_server/analysis/dwi_data/stats_alt_reg/MD/sub-282_in-MNI_MD_AFTER-minus-BEFORE.nii.gz /export2/DATA/HIS/HIS_server/analysis/dwi_data/stats_alt_reg/MD/sub-283_in-MNI_MD_AFTER-minus-BEFORE.nii.gz /export2/DATA/HIS/HIS_server/analysis/dwi_data/stats_alt_reg/MD/sub-285_in-MNI_MD_AFTER-minus-BEFORE.nii.gz\n",
      "fslmerge -t /export2/DATA/HIS/HIS_server/analysis/dwi_data/stats_alt_reg/MD/SUBGROUPS_in_Goal_Directed_AFTER_minus_BEFORE_MD /export2/DATA/HIS/HIS_server/analysis/dwi_data/stats_alt_reg/MD/sub-103_in-MNI_MD_AFTER-minus-BEFORE.nii.gz /export2/DATA/HIS/HIS_server/analysis/dwi_data/stats_alt_reg/MD/sub-107_in-MNI_MD_AFTER-minus-BEFORE.nii.gz /export2/DATA/HIS/HIS_server/analysis/dwi_data/stats_alt_reg/MD/sub-119_in-MNI_MD_AFTER-minus-BEFORE.nii.gz /export2/DATA/HIS/HIS_server/analysis/dwi_data/stats_alt_reg/MD/sub-120_in-MNI_MD_AFTER-minus-BEFORE.nii.gz /export2/DATA/HIS/HIS_server/analysis/dwi_data/stats_alt_reg/MD/sub-124_in-MNI_MD_AFTER-minus-BEFORE.nii.gz /export2/DATA/HIS/HIS_server/analysis/dwi_data/stats_alt_reg/MD/sub-127_in-MNI_MD_AFTER-minus-BEFORE.nii.gz /export2/DATA/HIS/HIS_server/analysis/dwi_data/stats_alt_reg/MD/sub-128_in-MNI_MD_AFTER-minus-BEFORE.nii.gz /export2/DATA/HIS/HIS_server/analysis/dwi_data/stats_alt_reg/MD/sub-131_in-MNI_MD_AFTER-minus-BEFORE.nii.gz /export2/DATA/HIS/HIS_server/analysis/dwi_data/stats_alt_reg/MD/sub-133_in-MNI_MD_AFTER-minus-BEFORE.nii.gz /export2/DATA/HIS/HIS_server/analysis/dwi_data/stats_alt_reg/MD/sub-135_in-MNI_MD_AFTER-minus-BEFORE.nii.gz /export2/DATA/HIS/HIS_server/analysis/dwi_data/stats_alt_reg/MD/sub-137_in-MNI_MD_AFTER-minus-BEFORE.nii.gz /export2/DATA/HIS/HIS_server/analysis/dwi_data/stats_alt_reg/MD/sub-139_in-MNI_MD_AFTER-minus-BEFORE.nii.gz /export2/DATA/HIS/HIS_server/analysis/dwi_data/stats_alt_reg/MD/sub-140_in-MNI_MD_AFTER-minus-BEFORE.nii.gz /export2/DATA/HIS/HIS_server/analysis/dwi_data/stats_alt_reg/MD/sub-144_in-MNI_MD_AFTER-minus-BEFORE.nii.gz /export2/DATA/HIS/HIS_server/analysis/dwi_data/stats_alt_reg/MD/sub-145_in-MNI_MD_AFTER-minus-BEFORE.nii.gz /export2/DATA/HIS/HIS_server/analysis/dwi_data/stats_alt_reg/MD/sub-151_in-MNI_MD_AFTER-minus-BEFORE.nii.gz /export2/DATA/HIS/HIS_server/analysis/dwi_data/stats_alt_reg/MD/sub-154_in-MNI_MD_AFTER-minus-BEFORE.nii.gz /export2/DATA/HIS/HIS_server/analysis/dwi_data/stats_alt_reg/MD/sub-157_in-MNI_MD_AFTER-minus-BEFORE.nii.gz /export2/DATA/HIS/HIS_server/analysis/dwi_data/stats_alt_reg/MD/sub-158_in-MNI_MD_AFTER-minus-BEFORE.nii.gz /export2/DATA/HIS/HIS_server/analysis/dwi_data/stats_alt_reg/MD/sub-159_in-MNI_MD_AFTER-minus-BEFORE.nii.gz /export2/DATA/HIS/HIS_server/analysis/dwi_data/stats_alt_reg/MD/sub-161_in-MNI_MD_AFTER-minus-BEFORE.nii.gz /export2/DATA/HIS/HIS_server/analysis/dwi_data/stats_alt_reg/MD/sub-163_in-MNI_MD_AFTER-minus-BEFORE.nii.gz /export2/DATA/HIS/HIS_server/analysis/dwi_data/stats_alt_reg/MD/sub-168_in-MNI_MD_AFTER-minus-BEFORE.nii.gz /export2/DATA/HIS/HIS_server/analysis/dwi_data/stats_alt_reg/MD/sub-169_in-MNI_MD_AFTER-minus-BEFORE.nii.gz /export2/DATA/HIS/HIS_server/analysis/dwi_data/stats_alt_reg/MD/sub-171_in-MNI_MD_AFTER-minus-BEFORE.nii.gz /export2/DATA/HIS/HIS_server/analysis/dwi_data/stats_alt_reg/MD/sub-174_in-MNI_MD_AFTER-minus-BEFORE.nii.gz /export2/DATA/HIS/HIS_server/analysis/dwi_data/stats_alt_reg/MD/sub-175_in-MNI_MD_AFTER-minus-BEFORE.nii.gz /export2/DATA/HIS/HIS_server/analysis/dwi_data/stats_alt_reg/MD/sub-208_in-MNI_MD_AFTER-minus-BEFORE.nii.gz /export2/DATA/HIS/HIS_server/analysis/dwi_data/stats_alt_reg/MD/sub-214_in-MNI_MD_AFTER-minus-BEFORE.nii.gz /export2/DATA/HIS/HIS_server/analysis/dwi_data/stats_alt_reg/MD/sub-217_in-MNI_MD_AFTER-minus-BEFORE.nii.gz /export2/DATA/HIS/HIS_server/analysis/dwi_data/stats_alt_reg/MD/sub-220_in-MNI_MD_AFTER-minus-BEFORE.nii.gz /export2/DATA/HIS/HIS_server/analysis/dwi_data/stats_alt_reg/MD/sub-221_in-MNI_MD_AFTER-minus-BEFORE.nii.gz /export2/DATA/HIS/HIS_server/analysis/dwi_data/stats_alt_reg/MD/sub-223_in-MNI_MD_AFTER-minus-BEFORE.nii.gz /export2/DATA/HIS/HIS_server/analysis/dwi_data/stats_alt_reg/MD/sub-224_in-MNI_MD_AFTER-minus-BEFORE.nii.gz /export2/DATA/HIS/HIS_server/analysis/dwi_data/stats_alt_reg/MD/sub-225_in-MNI_MD_AFTER-minus-BEFORE.nii.gz /export2/DATA/HIS/HIS_server/analysis/dwi_data/stats_alt_reg/MD/sub-227_in-MNI_MD_AFTER-minus-BEFORE.nii.gz /export2/DATA/HIS/HIS_server/analysis/dwi_data/stats_alt_reg/MD/sub-234_in-MNI_MD_AFTER-minus-BEFORE.nii.gz /export2/DATA/HIS/HIS_server/analysis/dwi_data/stats_alt_reg/MD/sub-235_in-MNI_MD_AFTER-minus-BEFORE.nii.gz /export2/DATA/HIS/HIS_server/analysis/dwi_data/stats_alt_reg/MD/sub-238_in-MNI_MD_AFTER-minus-BEFORE.nii.gz /export2/DATA/HIS/HIS_server/analysis/dwi_data/stats_alt_reg/MD/sub-241_in-MNI_MD_AFTER-minus-BEFORE.nii.gz /export2/DATA/HIS/HIS_server/analysis/dwi_data/stats_alt_reg/MD/sub-242_in-MNI_MD_AFTER-minus-BEFORE.nii.gz /export2/DATA/HIS/HIS_server/analysis/dwi_data/stats_alt_reg/MD/sub-255_in-MNI_MD_AFTER-minus-BEFORE.nii.gz /export2/DATA/HIS/HIS_server/analysis/dwi_data/stats_alt_reg/MD/sub-267_in-MNI_MD_AFTER-minus-BEFORE.nii.gz /export2/DATA/HIS/HIS_server/analysis/dwi_data/stats_alt_reg/MD/sub-276_in-MNI_MD_AFTER-minus-BEFORE.nii.gz /export2/DATA/HIS/HIS_server/analysis/dwi_data/stats_alt_reg/MD/sub-277_in-MNI_MD_AFTER-minus-BEFORE.nii.gz /export2/DATA/HIS/HIS_server/analysis/dwi_data/stats_alt_reg/MD/sub-280_in-MNI_MD_AFTER-minus-BEFORE.nii.gz /export2/DATA/HIS/HIS_server/analysis/dwi_data/stats_alt_reg/MD/sub-284_in-MNI_MD_AFTER-minus-BEFORE.nii.gz\n",
      "fslmerge -t /export2/DATA/HIS/HIS_server/analysis/dwi_data/stats_alt_reg/MD/SUBGROUPS_in_Habitual_AFTER_minus_BEFORE_MD /export2/DATA/HIS/HIS_server/analysis/dwi_data/stats_alt_reg/MD/sub-104_in-MNI_MD_AFTER-minus-BEFORE.nii.gz /export2/DATA/HIS/HIS_server/analysis/dwi_data/stats_alt_reg/MD/sub-106_in-MNI_MD_AFTER-minus-BEFORE.nii.gz /export2/DATA/HIS/HIS_server/analysis/dwi_data/stats_alt_reg/MD/sub-108_in-MNI_MD_AFTER-minus-BEFORE.nii.gz /export2/DATA/HIS/HIS_server/analysis/dwi_data/stats_alt_reg/MD/sub-110_in-MNI_MD_AFTER-minus-BEFORE.nii.gz /export2/DATA/HIS/HIS_server/analysis/dwi_data/stats_alt_reg/MD/sub-113_in-MNI_MD_AFTER-minus-BEFORE.nii.gz /export2/DATA/HIS/HIS_server/analysis/dwi_data/stats_alt_reg/MD/sub-114_in-MNI_MD_AFTER-minus-BEFORE.nii.gz /export2/DATA/HIS/HIS_server/analysis/dwi_data/stats_alt_reg/MD/sub-115_in-MNI_MD_AFTER-minus-BEFORE.nii.gz /export2/DATA/HIS/HIS_server/analysis/dwi_data/stats_alt_reg/MD/sub-117_in-MNI_MD_AFTER-minus-BEFORE.nii.gz /export2/DATA/HIS/HIS_server/analysis/dwi_data/stats_alt_reg/MD/sub-118_in-MNI_MD_AFTER-minus-BEFORE.nii.gz /export2/DATA/HIS/HIS_server/analysis/dwi_data/stats_alt_reg/MD/sub-121_in-MNI_MD_AFTER-minus-BEFORE.nii.gz /export2/DATA/HIS/HIS_server/analysis/dwi_data/stats_alt_reg/MD/sub-122_in-MNI_MD_AFTER-minus-BEFORE.nii.gz /export2/DATA/HIS/HIS_server/analysis/dwi_data/stats_alt_reg/MD/sub-126_in-MNI_MD_AFTER-minus-BEFORE.nii.gz /export2/DATA/HIS/HIS_server/analysis/dwi_data/stats_alt_reg/MD/sub-129_in-MNI_MD_AFTER-minus-BEFORE.nii.gz /export2/DATA/HIS/HIS_server/analysis/dwi_data/stats_alt_reg/MD/sub-130_in-MNI_MD_AFTER-minus-BEFORE.nii.gz /export2/DATA/HIS/HIS_server/analysis/dwi_data/stats_alt_reg/MD/sub-138_in-MNI_MD_AFTER-minus-BEFORE.nii.gz /export2/DATA/HIS/HIS_server/analysis/dwi_data/stats_alt_reg/MD/sub-141_in-MNI_MD_AFTER-minus-BEFORE.nii.gz /export2/DATA/HIS/HIS_server/analysis/dwi_data/stats_alt_reg/MD/sub-142_in-MNI_MD_AFTER-minus-BEFORE.nii.gz /export2/DATA/HIS/HIS_server/analysis/dwi_data/stats_alt_reg/MD/sub-143_in-MNI_MD_AFTER-minus-BEFORE.nii.gz /export2/DATA/HIS/HIS_server/analysis/dwi_data/stats_alt_reg/MD/sub-146_in-MNI_MD_AFTER-minus-BEFORE.nii.gz /export2/DATA/HIS/HIS_server/analysis/dwi_data/stats_alt_reg/MD/sub-147_in-MNI_MD_AFTER-minus-BEFORE.nii.gz /export2/DATA/HIS/HIS_server/analysis/dwi_data/stats_alt_reg/MD/sub-148_in-MNI_MD_AFTER-minus-BEFORE.nii.gz /export2/DATA/HIS/HIS_server/analysis/dwi_data/stats_alt_reg/MD/sub-149_in-MNI_MD_AFTER-minus-BEFORE.nii.gz /export2/DATA/HIS/HIS_server/analysis/dwi_data/stats_alt_reg/MD/sub-150_in-MNI_MD_AFTER-minus-BEFORE.nii.gz /export2/DATA/HIS/HIS_server/analysis/dwi_data/stats_alt_reg/MD/sub-152_in-MNI_MD_AFTER-minus-BEFORE.nii.gz /export2/DATA/HIS/HIS_server/analysis/dwi_data/stats_alt_reg/MD/sub-153_in-MNI_MD_AFTER-minus-BEFORE.nii.gz /export2/DATA/HIS/HIS_server/analysis/dwi_data/stats_alt_reg/MD/sub-155_in-MNI_MD_AFTER-minus-BEFORE.nii.gz /export2/DATA/HIS/HIS_server/analysis/dwi_data/stats_alt_reg/MD/sub-156_in-MNI_MD_AFTER-minus-BEFORE.nii.gz /export2/DATA/HIS/HIS_server/analysis/dwi_data/stats_alt_reg/MD/sub-160_in-MNI_MD_AFTER-minus-BEFORE.nii.gz /export2/DATA/HIS/HIS_server/analysis/dwi_data/stats_alt_reg/MD/sub-162_in-MNI_MD_AFTER-minus-BEFORE.nii.gz /export2/DATA/HIS/HIS_server/analysis/dwi_data/stats_alt_reg/MD/sub-164_in-MNI_MD_AFTER-minus-BEFORE.nii.gz /export2/DATA/HIS/HIS_server/analysis/dwi_data/stats_alt_reg/MD/sub-166_in-MNI_MD_AFTER-minus-BEFORE.nii.gz /export2/DATA/HIS/HIS_server/analysis/dwi_data/stats_alt_reg/MD/sub-167_in-MNI_MD_AFTER-minus-BEFORE.nii.gz /export2/DATA/HIS/HIS_server/analysis/dwi_data/stats_alt_reg/MD/sub-172_in-MNI_MD_AFTER-minus-BEFORE.nii.gz /export2/DATA/HIS/HIS_server/analysis/dwi_data/stats_alt_reg/MD/sub-204_in-MNI_MD_AFTER-minus-BEFORE.nii.gz /export2/DATA/HIS/HIS_server/analysis/dwi_data/stats_alt_reg/MD/sub-205_in-MNI_MD_AFTER-minus-BEFORE.nii.gz /export2/DATA/HIS/HIS_server/analysis/dwi_data/stats_alt_reg/MD/sub-207_in-MNI_MD_AFTER-minus-BEFORE.nii.gz /export2/DATA/HIS/HIS_server/analysis/dwi_data/stats_alt_reg/MD/sub-209_in-MNI_MD_AFTER-minus-BEFORE.nii.gz /export2/DATA/HIS/HIS_server/analysis/dwi_data/stats_alt_reg/MD/sub-210_in-MNI_MD_AFTER-minus-BEFORE.nii.gz /export2/DATA/HIS/HIS_server/analysis/dwi_data/stats_alt_reg/MD/sub-212_in-MNI_MD_AFTER-minus-BEFORE.nii.gz /export2/DATA/HIS/HIS_server/analysis/dwi_data/stats_alt_reg/MD/sub-215_in-MNI_MD_AFTER-minus-BEFORE.nii.gz /export2/DATA/HIS/HIS_server/analysis/dwi_data/stats_alt_reg/MD/sub-218_in-MNI_MD_AFTER-minus-BEFORE.nii.gz /export2/DATA/HIS/HIS_server/analysis/dwi_data/stats_alt_reg/MD/sub-229_in-MNI_MD_AFTER-minus-BEFORE.nii.gz /export2/DATA/HIS/HIS_server/analysis/dwi_data/stats_alt_reg/MD/sub-230_in-MNI_MD_AFTER-minus-BEFORE.nii.gz /export2/DATA/HIS/HIS_server/analysis/dwi_data/stats_alt_reg/MD/sub-232_in-MNI_MD_AFTER-minus-BEFORE.nii.gz /export2/DATA/HIS/HIS_server/analysis/dwi_data/stats_alt_reg/MD/sub-239_in-MNI_MD_AFTER-minus-BEFORE.nii.gz /export2/DATA/HIS/HIS_server/analysis/dwi_data/stats_alt_reg/MD/sub-240_in-MNI_MD_AFTER-minus-BEFORE.nii.gz /export2/DATA/HIS/HIS_server/analysis/dwi_data/stats_alt_reg/MD/sub-243_in-MNI_MD_AFTER-minus-BEFORE.nii.gz /export2/DATA/HIS/HIS_server/analysis/dwi_data/stats_alt_reg/MD/sub-245_in-MNI_MD_AFTER-minus-BEFORE.nii.gz /export2/DATA/HIS/HIS_server/analysis/dwi_data/stats_alt_reg/MD/sub-247_in-MNI_MD_AFTER-minus-BEFORE.nii.gz /export2/DATA/HIS/HIS_server/analysis/dwi_data/stats_alt_reg/MD/sub-249_in-MNI_MD_AFTER-minus-BEFORE.nii.gz /export2/DATA/HIS/HIS_server/analysis/dwi_data/stats_alt_reg/MD/sub-251_in-MNI_MD_AFTER-minus-BEFORE.nii.gz /export2/DATA/HIS/HIS_server/analysis/dwi_data/stats_alt_reg/MD/sub-252_in-MNI_MD_AFTER-minus-BEFORE.nii.gz /export2/DATA/HIS/HIS_server/analysis/dwi_data/stats_alt_reg/MD/sub-254_in-MNI_MD_AFTER-minus-BEFORE.nii.gz /export2/DATA/HIS/HIS_server/analysis/dwi_data/stats_alt_reg/MD/sub-257_in-MNI_MD_AFTER-minus-BEFORE.nii.gz /export2/DATA/HIS/HIS_server/analysis/dwi_data/stats_alt_reg/MD/sub-258_in-MNI_MD_AFTER-minus-BEFORE.nii.gz /export2/DATA/HIS/HIS_server/analysis/dwi_data/stats_alt_reg/MD/sub-260_in-MNI_MD_AFTER-minus-BEFORE.nii.gz /export2/DATA/HIS/HIS_server/analysis/dwi_data/stats_alt_reg/MD/sub-261_in-MNI_MD_AFTER-minus-BEFORE.nii.gz /export2/DATA/HIS/HIS_server/analysis/dwi_data/stats_alt_reg/MD/sub-262_in-MNI_MD_AFTER-minus-BEFORE.nii.gz /export2/DATA/HIS/HIS_server/analysis/dwi_data/stats_alt_reg/MD/sub-263_in-MNI_MD_AFTER-minus-BEFORE.nii.gz /export2/DATA/HIS/HIS_server/analysis/dwi_data/stats_alt_reg/MD/sub-264_in-MNI_MD_AFTER-minus-BEFORE.nii.gz /export2/DATA/HIS/HIS_server/analysis/dwi_data/stats_alt_reg/MD/sub-265_in-MNI_MD_AFTER-minus-BEFORE.nii.gz /export2/DATA/HIS/HIS_server/analysis/dwi_data/stats_alt_reg/MD/sub-270_in-MNI_MD_AFTER-minus-BEFORE.nii.gz /export2/DATA/HIS/HIS_server/analysis/dwi_data/stats_alt_reg/MD/sub-271_in-MNI_MD_AFTER-minus-BEFORE.nii.gz /export2/DATA/HIS/HIS_server/analysis/dwi_data/stats_alt_reg/MD/sub-272_in-MNI_MD_AFTER-minus-BEFORE.nii.gz /export2/DATA/HIS/HIS_server/analysis/dwi_data/stats_alt_reg/MD/sub-281_in-MNI_MD_AFTER-minus-BEFORE.nii.gz /export2/DATA/HIS/HIS_server/analysis/dwi_data/stats_alt_reg/MD/sub-282_in-MNI_MD_AFTER-minus-BEFORE.nii.gz /export2/DATA/HIS/HIS_server/analysis/dwi_data/stats_alt_reg/MD/sub-283_in-MNI_MD_AFTER-minus-BEFORE.nii.gz /export2/DATA/HIS/HIS_server/analysis/dwi_data/stats_alt_reg/MD/sub-285_in-MNI_MD_AFTER-minus-BEFORE.nii.gz\n",
      "fslmerge -t /export2/DATA/HIS/HIS_server/analysis/dwi_data/stats_alt_reg/FA/SUBGROUPS_in_1_Day_AFTER_minus_BEFORE_FA /export2/DATA/HIS/HIS_server/analysis/dwi_data/stats_alt_reg/FA/sub-103_in-MNI_FA_AFTER-minus-BEFORE.nii.gz /export2/DATA/HIS/HIS_server/analysis/dwi_data/stats_alt_reg/FA/sub-107_in-MNI_FA_AFTER-minus-BEFORE.nii.gz /export2/DATA/HIS/HIS_server/analysis/dwi_data/stats_alt_reg/FA/sub-119_in-MNI_FA_AFTER-minus-BEFORE.nii.gz /export2/DATA/HIS/HIS_server/analysis/dwi_data/stats_alt_reg/FA/sub-120_in-MNI_FA_AFTER-minus-BEFORE.nii.gz /export2/DATA/HIS/HIS_server/analysis/dwi_data/stats_alt_reg/FA/sub-124_in-MNI_FA_AFTER-minus-BEFORE.nii.gz /export2/DATA/HIS/HIS_server/analysis/dwi_data/stats_alt_reg/FA/sub-127_in-MNI_FA_AFTER-minus-BEFORE.nii.gz /export2/DATA/HIS/HIS_server/analysis/dwi_data/stats_alt_reg/FA/sub-128_in-MNI_FA_AFTER-minus-BEFORE.nii.gz /export2/DATA/HIS/HIS_server/analysis/dwi_data/stats_alt_reg/FA/sub-131_in-MNI_FA_AFTER-minus-BEFORE.nii.gz /export2/DATA/HIS/HIS_server/analysis/dwi_data/stats_alt_reg/FA/sub-133_in-MNI_FA_AFTER-minus-BEFORE.nii.gz /export2/DATA/HIS/HIS_server/analysis/dwi_data/stats_alt_reg/FA/sub-135_in-MNI_FA_AFTER-minus-BEFORE.nii.gz /export2/DATA/HIS/HIS_server/analysis/dwi_data/stats_alt_reg/FA/sub-137_in-MNI_FA_AFTER-minus-BEFORE.nii.gz /export2/DATA/HIS/HIS_server/analysis/dwi_data/stats_alt_reg/FA/sub-139_in-MNI_FA_AFTER-minus-BEFORE.nii.gz /export2/DATA/HIS/HIS_server/analysis/dwi_data/stats_alt_reg/FA/sub-140_in-MNI_FA_AFTER-minus-BEFORE.nii.gz /export2/DATA/HIS/HIS_server/analysis/dwi_data/stats_alt_reg/FA/sub-144_in-MNI_FA_AFTER-minus-BEFORE.nii.gz /export2/DATA/HIS/HIS_server/analysis/dwi_data/stats_alt_reg/FA/sub-145_in-MNI_FA_AFTER-minus-BEFORE.nii.gz /export2/DATA/HIS/HIS_server/analysis/dwi_data/stats_alt_reg/FA/sub-151_in-MNI_FA_AFTER-minus-BEFORE.nii.gz /export2/DATA/HIS/HIS_server/analysis/dwi_data/stats_alt_reg/FA/sub-154_in-MNI_FA_AFTER-minus-BEFORE.nii.gz /export2/DATA/HIS/HIS_server/analysis/dwi_data/stats_alt_reg/FA/sub-157_in-MNI_FA_AFTER-minus-BEFORE.nii.gz /export2/DATA/HIS/HIS_server/analysis/dwi_data/stats_alt_reg/FA/sub-158_in-MNI_FA_AFTER-minus-BEFORE.nii.gz /export2/DATA/HIS/HIS_server/analysis/dwi_data/stats_alt_reg/FA/sub-159_in-MNI_FA_AFTER-minus-BEFORE.nii.gz /export2/DATA/HIS/HIS_server/analysis/dwi_data/stats_alt_reg/FA/sub-161_in-MNI_FA_AFTER-minus-BEFORE.nii.gz /export2/DATA/HIS/HIS_server/analysis/dwi_data/stats_alt_reg/FA/sub-163_in-MNI_FA_AFTER-minus-BEFORE.nii.gz /export2/DATA/HIS/HIS_server/analysis/dwi_data/stats_alt_reg/FA/sub-168_in-MNI_FA_AFTER-minus-BEFORE.nii.gz /export2/DATA/HIS/HIS_server/analysis/dwi_data/stats_alt_reg/FA/sub-169_in-MNI_FA_AFTER-minus-BEFORE.nii.gz /export2/DATA/HIS/HIS_server/analysis/dwi_data/stats_alt_reg/FA/sub-171_in-MNI_FA_AFTER-minus-BEFORE.nii.gz /export2/DATA/HIS/HIS_server/analysis/dwi_data/stats_alt_reg/FA/sub-174_in-MNI_FA_AFTER-minus-BEFORE.nii.gz /export2/DATA/HIS/HIS_server/analysis/dwi_data/stats_alt_reg/FA/sub-175_in-MNI_FA_AFTER-minus-BEFORE.nii.gz /export2/DATA/HIS/HIS_server/analysis/dwi_data/stats_alt_reg/FA/sub-104_in-MNI_FA_AFTER-minus-BEFORE.nii.gz /export2/DATA/HIS/HIS_server/analysis/dwi_data/stats_alt_reg/FA/sub-106_in-MNI_FA_AFTER-minus-BEFORE.nii.gz /export2/DATA/HIS/HIS_server/analysis/dwi_data/stats_alt_reg/FA/sub-108_in-MNI_FA_AFTER-minus-BEFORE.nii.gz /export2/DATA/HIS/HIS_server/analysis/dwi_data/stats_alt_reg/FA/sub-110_in-MNI_FA_AFTER-minus-BEFORE.nii.gz /export2/DATA/HIS/HIS_server/analysis/dwi_data/stats_alt_reg/FA/sub-113_in-MNI_FA_AFTER-minus-BEFORE.nii.gz /export2/DATA/HIS/HIS_server/analysis/dwi_data/stats_alt_reg/FA/sub-114_in-MNI_FA_AFTER-minus-BEFORE.nii.gz /export2/DATA/HIS/HIS_server/analysis/dwi_data/stats_alt_reg/FA/sub-115_in-MNI_FA_AFTER-minus-BEFORE.nii.gz /export2/DATA/HIS/HIS_server/analysis/dwi_data/stats_alt_reg/FA/sub-117_in-MNI_FA_AFTER-minus-BEFORE.nii.gz /export2/DATA/HIS/HIS_server/analysis/dwi_data/stats_alt_reg/FA/sub-118_in-MNI_FA_AFTER-minus-BEFORE.nii.gz /export2/DATA/HIS/HIS_server/analysis/dwi_data/stats_alt_reg/FA/sub-121_in-MNI_FA_AFTER-minus-BEFORE.nii.gz /export2/DATA/HIS/HIS_server/analysis/dwi_data/stats_alt_reg/FA/sub-122_in-MNI_FA_AFTER-minus-BEFORE.nii.gz /export2/DATA/HIS/HIS_server/analysis/dwi_data/stats_alt_reg/FA/sub-126_in-MNI_FA_AFTER-minus-BEFORE.nii.gz /export2/DATA/HIS/HIS_server/analysis/dwi_data/stats_alt_reg/FA/sub-129_in-MNI_FA_AFTER-minus-BEFORE.nii.gz /export2/DATA/HIS/HIS_server/analysis/dwi_data/stats_alt_reg/FA/sub-130_in-MNI_FA_AFTER-minus-BEFORE.nii.gz /export2/DATA/HIS/HIS_server/analysis/dwi_data/stats_alt_reg/FA/sub-138_in-MNI_FA_AFTER-minus-BEFORE.nii.gz /export2/DATA/HIS/HIS_server/analysis/dwi_data/stats_alt_reg/FA/sub-141_in-MNI_FA_AFTER-minus-BEFORE.nii.gz /export2/DATA/HIS/HIS_server/analysis/dwi_data/stats_alt_reg/FA/sub-142_in-MNI_FA_AFTER-minus-BEFORE.nii.gz /export2/DATA/HIS/HIS_server/analysis/dwi_data/stats_alt_reg/FA/sub-143_in-MNI_FA_AFTER-minus-BEFORE.nii.gz /export2/DATA/HIS/HIS_server/analysis/dwi_data/stats_alt_reg/FA/sub-146_in-MNI_FA_AFTER-minus-BEFORE.nii.gz /export2/DATA/HIS/HIS_server/analysis/dwi_data/stats_alt_reg/FA/sub-147_in-MNI_FA_AFTER-minus-BEFORE.nii.gz /export2/DATA/HIS/HIS_server/analysis/dwi_data/stats_alt_reg/FA/sub-148_in-MNI_FA_AFTER-minus-BEFORE.nii.gz /export2/DATA/HIS/HIS_server/analysis/dwi_data/stats_alt_reg/FA/sub-149_in-MNI_FA_AFTER-minus-BEFORE.nii.gz /export2/DATA/HIS/HIS_server/analysis/dwi_data/stats_alt_reg/FA/sub-150_in-MNI_FA_AFTER-minus-BEFORE.nii.gz /export2/DATA/HIS/HIS_server/analysis/dwi_data/stats_alt_reg/FA/sub-152_in-MNI_FA_AFTER-minus-BEFORE.nii.gz /export2/DATA/HIS/HIS_server/analysis/dwi_data/stats_alt_reg/FA/sub-153_in-MNI_FA_AFTER-minus-BEFORE.nii.gz /export2/DATA/HIS/HIS_server/analysis/dwi_data/stats_alt_reg/FA/sub-155_in-MNI_FA_AFTER-minus-BEFORE.nii.gz /export2/DATA/HIS/HIS_server/analysis/dwi_data/stats_alt_reg/FA/sub-156_in-MNI_FA_AFTER-minus-BEFORE.nii.gz /export2/DATA/HIS/HIS_server/analysis/dwi_data/stats_alt_reg/FA/sub-160_in-MNI_FA_AFTER-minus-BEFORE.nii.gz /export2/DATA/HIS/HIS_server/analysis/dwi_data/stats_alt_reg/FA/sub-162_in-MNI_FA_AFTER-minus-BEFORE.nii.gz /export2/DATA/HIS/HIS_server/analysis/dwi_data/stats_alt_reg/FA/sub-164_in-MNI_FA_AFTER-minus-BEFORE.nii.gz /export2/DATA/HIS/HIS_server/analysis/dwi_data/stats_alt_reg/FA/sub-166_in-MNI_FA_AFTER-minus-BEFORE.nii.gz /export2/DATA/HIS/HIS_server/analysis/dwi_data/stats_alt_reg/FA/sub-167_in-MNI_FA_AFTER-minus-BEFORE.nii.gz /export2/DATA/HIS/HIS_server/analysis/dwi_data/stats_alt_reg/FA/sub-172_in-MNI_FA_AFTER-minus-BEFORE.nii.gz\n",
      "fslmerge -t /export2/DATA/HIS/HIS_server/analysis/dwi_data/stats_alt_reg/FA/SUBGROUPS_in_3_Day_AFTER_minus_BEFORE_FA /export2/DATA/HIS/HIS_server/analysis/dwi_data/stats_alt_reg/FA/sub-208_in-MNI_FA_AFTER-minus-BEFORE.nii.gz /export2/DATA/HIS/HIS_server/analysis/dwi_data/stats_alt_reg/FA/sub-214_in-MNI_FA_AFTER-minus-BEFORE.nii.gz /export2/DATA/HIS/HIS_server/analysis/dwi_data/stats_alt_reg/FA/sub-217_in-MNI_FA_AFTER-minus-BEFORE.nii.gz /export2/DATA/HIS/HIS_server/analysis/dwi_data/stats_alt_reg/FA/sub-220_in-MNI_FA_AFTER-minus-BEFORE.nii.gz /export2/DATA/HIS/HIS_server/analysis/dwi_data/stats_alt_reg/FA/sub-221_in-MNI_FA_AFTER-minus-BEFORE.nii.gz /export2/DATA/HIS/HIS_server/analysis/dwi_data/stats_alt_reg/FA/sub-223_in-MNI_FA_AFTER-minus-BEFORE.nii.gz /export2/DATA/HIS/HIS_server/analysis/dwi_data/stats_alt_reg/FA/sub-224_in-MNI_FA_AFTER-minus-BEFORE.nii.gz /export2/DATA/HIS/HIS_server/analysis/dwi_data/stats_alt_reg/FA/sub-225_in-MNI_FA_AFTER-minus-BEFORE.nii.gz /export2/DATA/HIS/HIS_server/analysis/dwi_data/stats_alt_reg/FA/sub-227_in-MNI_FA_AFTER-minus-BEFORE.nii.gz /export2/DATA/HIS/HIS_server/analysis/dwi_data/stats_alt_reg/FA/sub-234_in-MNI_FA_AFTER-minus-BEFORE.nii.gz /export2/DATA/HIS/HIS_server/analysis/dwi_data/stats_alt_reg/FA/sub-235_in-MNI_FA_AFTER-minus-BEFORE.nii.gz /export2/DATA/HIS/HIS_server/analysis/dwi_data/stats_alt_reg/FA/sub-238_in-MNI_FA_AFTER-minus-BEFORE.nii.gz /export2/DATA/HIS/HIS_server/analysis/dwi_data/stats_alt_reg/FA/sub-241_in-MNI_FA_AFTER-minus-BEFORE.nii.gz /export2/DATA/HIS/HIS_server/analysis/dwi_data/stats_alt_reg/FA/sub-242_in-MNI_FA_AFTER-minus-BEFORE.nii.gz /export2/DATA/HIS/HIS_server/analysis/dwi_data/stats_alt_reg/FA/sub-255_in-MNI_FA_AFTER-minus-BEFORE.nii.gz /export2/DATA/HIS/HIS_server/analysis/dwi_data/stats_alt_reg/FA/sub-267_in-MNI_FA_AFTER-minus-BEFORE.nii.gz /export2/DATA/HIS/HIS_server/analysis/dwi_data/stats_alt_reg/FA/sub-276_in-MNI_FA_AFTER-minus-BEFORE.nii.gz /export2/DATA/HIS/HIS_server/analysis/dwi_data/stats_alt_reg/FA/sub-277_in-MNI_FA_AFTER-minus-BEFORE.nii.gz /export2/DATA/HIS/HIS_server/analysis/dwi_data/stats_alt_reg/FA/sub-280_in-MNI_FA_AFTER-minus-BEFORE.nii.gz /export2/DATA/HIS/HIS_server/analysis/dwi_data/stats_alt_reg/FA/sub-284_in-MNI_FA_AFTER-minus-BEFORE.nii.gz /export2/DATA/HIS/HIS_server/analysis/dwi_data/stats_alt_reg/FA/sub-204_in-MNI_FA_AFTER-minus-BEFORE.nii.gz /export2/DATA/HIS/HIS_server/analysis/dwi_data/stats_alt_reg/FA/sub-205_in-MNI_FA_AFTER-minus-BEFORE.nii.gz /export2/DATA/HIS/HIS_server/analysis/dwi_data/stats_alt_reg/FA/sub-207_in-MNI_FA_AFTER-minus-BEFORE.nii.gz /export2/DATA/HIS/HIS_server/analysis/dwi_data/stats_alt_reg/FA/sub-209_in-MNI_FA_AFTER-minus-BEFORE.nii.gz /export2/DATA/HIS/HIS_server/analysis/dwi_data/stats_alt_reg/FA/sub-210_in-MNI_FA_AFTER-minus-BEFORE.nii.gz /export2/DATA/HIS/HIS_server/analysis/dwi_data/stats_alt_reg/FA/sub-212_in-MNI_FA_AFTER-minus-BEFORE.nii.gz /export2/DATA/HIS/HIS_server/analysis/dwi_data/stats_alt_reg/FA/sub-215_in-MNI_FA_AFTER-minus-BEFORE.nii.gz /export2/DATA/HIS/HIS_server/analysis/dwi_data/stats_alt_reg/FA/sub-218_in-MNI_FA_AFTER-minus-BEFORE.nii.gz /export2/DATA/HIS/HIS_server/analysis/dwi_data/stats_alt_reg/FA/sub-229_in-MNI_FA_AFTER-minus-BEFORE.nii.gz /export2/DATA/HIS/HIS_server/analysis/dwi_data/stats_alt_reg/FA/sub-230_in-MNI_FA_AFTER-minus-BEFORE.nii.gz /export2/DATA/HIS/HIS_server/analysis/dwi_data/stats_alt_reg/FA/sub-232_in-MNI_FA_AFTER-minus-BEFORE.nii.gz /export2/DATA/HIS/HIS_server/analysis/dwi_data/stats_alt_reg/FA/sub-239_in-MNI_FA_AFTER-minus-BEFORE.nii.gz /export2/DATA/HIS/HIS_server/analysis/dwi_data/stats_alt_reg/FA/sub-240_in-MNI_FA_AFTER-minus-BEFORE.nii.gz /export2/DATA/HIS/HIS_server/analysis/dwi_data/stats_alt_reg/FA/sub-243_in-MNI_FA_AFTER-minus-BEFORE.nii.gz /export2/DATA/HIS/HIS_server/analysis/dwi_data/stats_alt_reg/FA/sub-245_in-MNI_FA_AFTER-minus-BEFORE.nii.gz /export2/DATA/HIS/HIS_server/analysis/dwi_data/stats_alt_reg/FA/sub-247_in-MNI_FA_AFTER-minus-BEFORE.nii.gz /export2/DATA/HIS/HIS_server/analysis/dwi_data/stats_alt_reg/FA/sub-249_in-MNI_FA_AFTER-minus-BEFORE.nii.gz /export2/DATA/HIS/HIS_server/analysis/dwi_data/stats_alt_reg/FA/sub-251_in-MNI_FA_AFTER-minus-BEFORE.nii.gz /export2/DATA/HIS/HIS_server/analysis/dwi_data/stats_alt_reg/FA/sub-252_in-MNI_FA_AFTER-minus-BEFORE.nii.gz /export2/DATA/HIS/HIS_server/analysis/dwi_data/stats_alt_reg/FA/sub-254_in-MNI_FA_AFTER-minus-BEFORE.nii.gz /export2/DATA/HIS/HIS_server/analysis/dwi_data/stats_alt_reg/FA/sub-257_in-MNI_FA_AFTER-minus-BEFORE.nii.gz /export2/DATA/HIS/HIS_server/analysis/dwi_data/stats_alt_reg/FA/sub-258_in-MNI_FA_AFTER-minus-BEFORE.nii.gz /export2/DATA/HIS/HIS_server/analysis/dwi_data/stats_alt_reg/FA/sub-260_in-MNI_FA_AFTER-minus-BEFORE.nii.gz /export2/DATA/HIS/HIS_server/analysis/dwi_data/stats_alt_reg/FA/sub-261_in-MNI_FA_AFTER-minus-BEFORE.nii.gz /export2/DATA/HIS/HIS_server/analysis/dwi_data/stats_alt_reg/FA/sub-262_in-MNI_FA_AFTER-minus-BEFORE.nii.gz /export2/DATA/HIS/HIS_server/analysis/dwi_data/stats_alt_reg/FA/sub-263_in-MNI_FA_AFTER-minus-BEFORE.nii.gz /export2/DATA/HIS/HIS_server/analysis/dwi_data/stats_alt_reg/FA/sub-264_in-MNI_FA_AFTER-minus-BEFORE.nii.gz /export2/DATA/HIS/HIS_server/analysis/dwi_data/stats_alt_reg/FA/sub-265_in-MNI_FA_AFTER-minus-BEFORE.nii.gz /export2/DATA/HIS/HIS_server/analysis/dwi_data/stats_alt_reg/FA/sub-270_in-MNI_FA_AFTER-minus-BEFORE.nii.gz /export2/DATA/HIS/HIS_server/analysis/dwi_data/stats_alt_reg/FA/sub-271_in-MNI_FA_AFTER-minus-BEFORE.nii.gz /export2/DATA/HIS/HIS_server/analysis/dwi_data/stats_alt_reg/FA/sub-272_in-MNI_FA_AFTER-minus-BEFORE.nii.gz /export2/DATA/HIS/HIS_server/analysis/dwi_data/stats_alt_reg/FA/sub-281_in-MNI_FA_AFTER-minus-BEFORE.nii.gz /export2/DATA/HIS/HIS_server/analysis/dwi_data/stats_alt_reg/FA/sub-282_in-MNI_FA_AFTER-minus-BEFORE.nii.gz /export2/DATA/HIS/HIS_server/analysis/dwi_data/stats_alt_reg/FA/sub-283_in-MNI_FA_AFTER-minus-BEFORE.nii.gz /export2/DATA/HIS/HIS_server/analysis/dwi_data/stats_alt_reg/FA/sub-285_in-MNI_FA_AFTER-minus-BEFORE.nii.gz\n",
      "fslmerge -t /export2/DATA/HIS/HIS_server/analysis/dwi_data/stats_alt_reg/FA/SUBGROUPS_in_Goal_Directed_AFTER_minus_BEFORE_FA /export2/DATA/HIS/HIS_server/analysis/dwi_data/stats_alt_reg/FA/sub-103_in-MNI_FA_AFTER-minus-BEFORE.nii.gz /export2/DATA/HIS/HIS_server/analysis/dwi_data/stats_alt_reg/FA/sub-107_in-MNI_FA_AFTER-minus-BEFORE.nii.gz /export2/DATA/HIS/HIS_server/analysis/dwi_data/stats_alt_reg/FA/sub-119_in-MNI_FA_AFTER-minus-BEFORE.nii.gz /export2/DATA/HIS/HIS_server/analysis/dwi_data/stats_alt_reg/FA/sub-120_in-MNI_FA_AFTER-minus-BEFORE.nii.gz /export2/DATA/HIS/HIS_server/analysis/dwi_data/stats_alt_reg/FA/sub-124_in-MNI_FA_AFTER-minus-BEFORE.nii.gz /export2/DATA/HIS/HIS_server/analysis/dwi_data/stats_alt_reg/FA/sub-127_in-MNI_FA_AFTER-minus-BEFORE.nii.gz /export2/DATA/HIS/HIS_server/analysis/dwi_data/stats_alt_reg/FA/sub-128_in-MNI_FA_AFTER-minus-BEFORE.nii.gz /export2/DATA/HIS/HIS_server/analysis/dwi_data/stats_alt_reg/FA/sub-131_in-MNI_FA_AFTER-minus-BEFORE.nii.gz /export2/DATA/HIS/HIS_server/analysis/dwi_data/stats_alt_reg/FA/sub-133_in-MNI_FA_AFTER-minus-BEFORE.nii.gz /export2/DATA/HIS/HIS_server/analysis/dwi_data/stats_alt_reg/FA/sub-135_in-MNI_FA_AFTER-minus-BEFORE.nii.gz /export2/DATA/HIS/HIS_server/analysis/dwi_data/stats_alt_reg/FA/sub-137_in-MNI_FA_AFTER-minus-BEFORE.nii.gz /export2/DATA/HIS/HIS_server/analysis/dwi_data/stats_alt_reg/FA/sub-139_in-MNI_FA_AFTER-minus-BEFORE.nii.gz /export2/DATA/HIS/HIS_server/analysis/dwi_data/stats_alt_reg/FA/sub-140_in-MNI_FA_AFTER-minus-BEFORE.nii.gz /export2/DATA/HIS/HIS_server/analysis/dwi_data/stats_alt_reg/FA/sub-144_in-MNI_FA_AFTER-minus-BEFORE.nii.gz /export2/DATA/HIS/HIS_server/analysis/dwi_data/stats_alt_reg/FA/sub-145_in-MNI_FA_AFTER-minus-BEFORE.nii.gz /export2/DATA/HIS/HIS_server/analysis/dwi_data/stats_alt_reg/FA/sub-151_in-MNI_FA_AFTER-minus-BEFORE.nii.gz /export2/DATA/HIS/HIS_server/analysis/dwi_data/stats_alt_reg/FA/sub-154_in-MNI_FA_AFTER-minus-BEFORE.nii.gz /export2/DATA/HIS/HIS_server/analysis/dwi_data/stats_alt_reg/FA/sub-157_in-MNI_FA_AFTER-minus-BEFORE.nii.gz /export2/DATA/HIS/HIS_server/analysis/dwi_data/stats_alt_reg/FA/sub-158_in-MNI_FA_AFTER-minus-BEFORE.nii.gz /export2/DATA/HIS/HIS_server/analysis/dwi_data/stats_alt_reg/FA/sub-159_in-MNI_FA_AFTER-minus-BEFORE.nii.gz /export2/DATA/HIS/HIS_server/analysis/dwi_data/stats_alt_reg/FA/sub-161_in-MNI_FA_AFTER-minus-BEFORE.nii.gz /export2/DATA/HIS/HIS_server/analysis/dwi_data/stats_alt_reg/FA/sub-163_in-MNI_FA_AFTER-minus-BEFORE.nii.gz /export2/DATA/HIS/HIS_server/analysis/dwi_data/stats_alt_reg/FA/sub-168_in-MNI_FA_AFTER-minus-BEFORE.nii.gz /export2/DATA/HIS/HIS_server/analysis/dwi_data/stats_alt_reg/FA/sub-169_in-MNI_FA_AFTER-minus-BEFORE.nii.gz /export2/DATA/HIS/HIS_server/analysis/dwi_data/stats_alt_reg/FA/sub-171_in-MNI_FA_AFTER-minus-BEFORE.nii.gz /export2/DATA/HIS/HIS_server/analysis/dwi_data/stats_alt_reg/FA/sub-174_in-MNI_FA_AFTER-minus-BEFORE.nii.gz /export2/DATA/HIS/HIS_server/analysis/dwi_data/stats_alt_reg/FA/sub-175_in-MNI_FA_AFTER-minus-BEFORE.nii.gz /export2/DATA/HIS/HIS_server/analysis/dwi_data/stats_alt_reg/FA/sub-208_in-MNI_FA_AFTER-minus-BEFORE.nii.gz /export2/DATA/HIS/HIS_server/analysis/dwi_data/stats_alt_reg/FA/sub-214_in-MNI_FA_AFTER-minus-BEFORE.nii.gz /export2/DATA/HIS/HIS_server/analysis/dwi_data/stats_alt_reg/FA/sub-217_in-MNI_FA_AFTER-minus-BEFORE.nii.gz /export2/DATA/HIS/HIS_server/analysis/dwi_data/stats_alt_reg/FA/sub-220_in-MNI_FA_AFTER-minus-BEFORE.nii.gz /export2/DATA/HIS/HIS_server/analysis/dwi_data/stats_alt_reg/FA/sub-221_in-MNI_FA_AFTER-minus-BEFORE.nii.gz /export2/DATA/HIS/HIS_server/analysis/dwi_data/stats_alt_reg/FA/sub-223_in-MNI_FA_AFTER-minus-BEFORE.nii.gz /export2/DATA/HIS/HIS_server/analysis/dwi_data/stats_alt_reg/FA/sub-224_in-MNI_FA_AFTER-minus-BEFORE.nii.gz /export2/DATA/HIS/HIS_server/analysis/dwi_data/stats_alt_reg/FA/sub-225_in-MNI_FA_AFTER-minus-BEFORE.nii.gz /export2/DATA/HIS/HIS_server/analysis/dwi_data/stats_alt_reg/FA/sub-227_in-MNI_FA_AFTER-minus-BEFORE.nii.gz /export2/DATA/HIS/HIS_server/analysis/dwi_data/stats_alt_reg/FA/sub-234_in-MNI_FA_AFTER-minus-BEFORE.nii.gz /export2/DATA/HIS/HIS_server/analysis/dwi_data/stats_alt_reg/FA/sub-235_in-MNI_FA_AFTER-minus-BEFORE.nii.gz /export2/DATA/HIS/HIS_server/analysis/dwi_data/stats_alt_reg/FA/sub-238_in-MNI_FA_AFTER-minus-BEFORE.nii.gz /export2/DATA/HIS/HIS_server/analysis/dwi_data/stats_alt_reg/FA/sub-241_in-MNI_FA_AFTER-minus-BEFORE.nii.gz /export2/DATA/HIS/HIS_server/analysis/dwi_data/stats_alt_reg/FA/sub-242_in-MNI_FA_AFTER-minus-BEFORE.nii.gz /export2/DATA/HIS/HIS_server/analysis/dwi_data/stats_alt_reg/FA/sub-255_in-MNI_FA_AFTER-minus-BEFORE.nii.gz /export2/DATA/HIS/HIS_server/analysis/dwi_data/stats_alt_reg/FA/sub-267_in-MNI_FA_AFTER-minus-BEFORE.nii.gz /export2/DATA/HIS/HIS_server/analysis/dwi_data/stats_alt_reg/FA/sub-276_in-MNI_FA_AFTER-minus-BEFORE.nii.gz /export2/DATA/HIS/HIS_server/analysis/dwi_data/stats_alt_reg/FA/sub-277_in-MNI_FA_AFTER-minus-BEFORE.nii.gz /export2/DATA/HIS/HIS_server/analysis/dwi_data/stats_alt_reg/FA/sub-280_in-MNI_FA_AFTER-minus-BEFORE.nii.gz /export2/DATA/HIS/HIS_server/analysis/dwi_data/stats_alt_reg/FA/sub-284_in-MNI_FA_AFTER-minus-BEFORE.nii.gz\n",
      "fslmerge -t /export2/DATA/HIS/HIS_server/analysis/dwi_data/stats_alt_reg/FA/SUBGROUPS_in_Habitual_AFTER_minus_BEFORE_FA /export2/DATA/HIS/HIS_server/analysis/dwi_data/stats_alt_reg/FA/sub-104_in-MNI_FA_AFTER-minus-BEFORE.nii.gz /export2/DATA/HIS/HIS_server/analysis/dwi_data/stats_alt_reg/FA/sub-106_in-MNI_FA_AFTER-minus-BEFORE.nii.gz /export2/DATA/HIS/HIS_server/analysis/dwi_data/stats_alt_reg/FA/sub-108_in-MNI_FA_AFTER-minus-BEFORE.nii.gz /export2/DATA/HIS/HIS_server/analysis/dwi_data/stats_alt_reg/FA/sub-110_in-MNI_FA_AFTER-minus-BEFORE.nii.gz /export2/DATA/HIS/HIS_server/analysis/dwi_data/stats_alt_reg/FA/sub-113_in-MNI_FA_AFTER-minus-BEFORE.nii.gz /export2/DATA/HIS/HIS_server/analysis/dwi_data/stats_alt_reg/FA/sub-114_in-MNI_FA_AFTER-minus-BEFORE.nii.gz /export2/DATA/HIS/HIS_server/analysis/dwi_data/stats_alt_reg/FA/sub-115_in-MNI_FA_AFTER-minus-BEFORE.nii.gz /export2/DATA/HIS/HIS_server/analysis/dwi_data/stats_alt_reg/FA/sub-117_in-MNI_FA_AFTER-minus-BEFORE.nii.gz /export2/DATA/HIS/HIS_server/analysis/dwi_data/stats_alt_reg/FA/sub-118_in-MNI_FA_AFTER-minus-BEFORE.nii.gz /export2/DATA/HIS/HIS_server/analysis/dwi_data/stats_alt_reg/FA/sub-121_in-MNI_FA_AFTER-minus-BEFORE.nii.gz /export2/DATA/HIS/HIS_server/analysis/dwi_data/stats_alt_reg/FA/sub-122_in-MNI_FA_AFTER-minus-BEFORE.nii.gz /export2/DATA/HIS/HIS_server/analysis/dwi_data/stats_alt_reg/FA/sub-126_in-MNI_FA_AFTER-minus-BEFORE.nii.gz /export2/DATA/HIS/HIS_server/analysis/dwi_data/stats_alt_reg/FA/sub-129_in-MNI_FA_AFTER-minus-BEFORE.nii.gz /export2/DATA/HIS/HIS_server/analysis/dwi_data/stats_alt_reg/FA/sub-130_in-MNI_FA_AFTER-minus-BEFORE.nii.gz /export2/DATA/HIS/HIS_server/analysis/dwi_data/stats_alt_reg/FA/sub-138_in-MNI_FA_AFTER-minus-BEFORE.nii.gz /export2/DATA/HIS/HIS_server/analysis/dwi_data/stats_alt_reg/FA/sub-141_in-MNI_FA_AFTER-minus-BEFORE.nii.gz /export2/DATA/HIS/HIS_server/analysis/dwi_data/stats_alt_reg/FA/sub-142_in-MNI_FA_AFTER-minus-BEFORE.nii.gz /export2/DATA/HIS/HIS_server/analysis/dwi_data/stats_alt_reg/FA/sub-143_in-MNI_FA_AFTER-minus-BEFORE.nii.gz /export2/DATA/HIS/HIS_server/analysis/dwi_data/stats_alt_reg/FA/sub-146_in-MNI_FA_AFTER-minus-BEFORE.nii.gz /export2/DATA/HIS/HIS_server/analysis/dwi_data/stats_alt_reg/FA/sub-147_in-MNI_FA_AFTER-minus-BEFORE.nii.gz /export2/DATA/HIS/HIS_server/analysis/dwi_data/stats_alt_reg/FA/sub-148_in-MNI_FA_AFTER-minus-BEFORE.nii.gz /export2/DATA/HIS/HIS_server/analysis/dwi_data/stats_alt_reg/FA/sub-149_in-MNI_FA_AFTER-minus-BEFORE.nii.gz /export2/DATA/HIS/HIS_server/analysis/dwi_data/stats_alt_reg/FA/sub-150_in-MNI_FA_AFTER-minus-BEFORE.nii.gz /export2/DATA/HIS/HIS_server/analysis/dwi_data/stats_alt_reg/FA/sub-152_in-MNI_FA_AFTER-minus-BEFORE.nii.gz /export2/DATA/HIS/HIS_server/analysis/dwi_data/stats_alt_reg/FA/sub-153_in-MNI_FA_AFTER-minus-BEFORE.nii.gz /export2/DATA/HIS/HIS_server/analysis/dwi_data/stats_alt_reg/FA/sub-155_in-MNI_FA_AFTER-minus-BEFORE.nii.gz /export2/DATA/HIS/HIS_server/analysis/dwi_data/stats_alt_reg/FA/sub-156_in-MNI_FA_AFTER-minus-BEFORE.nii.gz /export2/DATA/HIS/HIS_server/analysis/dwi_data/stats_alt_reg/FA/sub-160_in-MNI_FA_AFTER-minus-BEFORE.nii.gz /export2/DATA/HIS/HIS_server/analysis/dwi_data/stats_alt_reg/FA/sub-162_in-MNI_FA_AFTER-minus-BEFORE.nii.gz /export2/DATA/HIS/HIS_server/analysis/dwi_data/stats_alt_reg/FA/sub-164_in-MNI_FA_AFTER-minus-BEFORE.nii.gz /export2/DATA/HIS/HIS_server/analysis/dwi_data/stats_alt_reg/FA/sub-166_in-MNI_FA_AFTER-minus-BEFORE.nii.gz /export2/DATA/HIS/HIS_server/analysis/dwi_data/stats_alt_reg/FA/sub-167_in-MNI_FA_AFTER-minus-BEFORE.nii.gz /export2/DATA/HIS/HIS_server/analysis/dwi_data/stats_alt_reg/FA/sub-172_in-MNI_FA_AFTER-minus-BEFORE.nii.gz /export2/DATA/HIS/HIS_server/analysis/dwi_data/stats_alt_reg/FA/sub-204_in-MNI_FA_AFTER-minus-BEFORE.nii.gz /export2/DATA/HIS/HIS_server/analysis/dwi_data/stats_alt_reg/FA/sub-205_in-MNI_FA_AFTER-minus-BEFORE.nii.gz /export2/DATA/HIS/HIS_server/analysis/dwi_data/stats_alt_reg/FA/sub-207_in-MNI_FA_AFTER-minus-BEFORE.nii.gz /export2/DATA/HIS/HIS_server/analysis/dwi_data/stats_alt_reg/FA/sub-209_in-MNI_FA_AFTER-minus-BEFORE.nii.gz /export2/DATA/HIS/HIS_server/analysis/dwi_data/stats_alt_reg/FA/sub-210_in-MNI_FA_AFTER-minus-BEFORE.nii.gz /export2/DATA/HIS/HIS_server/analysis/dwi_data/stats_alt_reg/FA/sub-212_in-MNI_FA_AFTER-minus-BEFORE.nii.gz /export2/DATA/HIS/HIS_server/analysis/dwi_data/stats_alt_reg/FA/sub-215_in-MNI_FA_AFTER-minus-BEFORE.nii.gz /export2/DATA/HIS/HIS_server/analysis/dwi_data/stats_alt_reg/FA/sub-218_in-MNI_FA_AFTER-minus-BEFORE.nii.gz /export2/DATA/HIS/HIS_server/analysis/dwi_data/stats_alt_reg/FA/sub-229_in-MNI_FA_AFTER-minus-BEFORE.nii.gz /export2/DATA/HIS/HIS_server/analysis/dwi_data/stats_alt_reg/FA/sub-230_in-MNI_FA_AFTER-minus-BEFORE.nii.gz /export2/DATA/HIS/HIS_server/analysis/dwi_data/stats_alt_reg/FA/sub-232_in-MNI_FA_AFTER-minus-BEFORE.nii.gz /export2/DATA/HIS/HIS_server/analysis/dwi_data/stats_alt_reg/FA/sub-239_in-MNI_FA_AFTER-minus-BEFORE.nii.gz /export2/DATA/HIS/HIS_server/analysis/dwi_data/stats_alt_reg/FA/sub-240_in-MNI_FA_AFTER-minus-BEFORE.nii.gz /export2/DATA/HIS/HIS_server/analysis/dwi_data/stats_alt_reg/FA/sub-243_in-MNI_FA_AFTER-minus-BEFORE.nii.gz /export2/DATA/HIS/HIS_server/analysis/dwi_data/stats_alt_reg/FA/sub-245_in-MNI_FA_AFTER-minus-BEFORE.nii.gz /export2/DATA/HIS/HIS_server/analysis/dwi_data/stats_alt_reg/FA/sub-247_in-MNI_FA_AFTER-minus-BEFORE.nii.gz /export2/DATA/HIS/HIS_server/analysis/dwi_data/stats_alt_reg/FA/sub-249_in-MNI_FA_AFTER-minus-BEFORE.nii.gz /export2/DATA/HIS/HIS_server/analysis/dwi_data/stats_alt_reg/FA/sub-251_in-MNI_FA_AFTER-minus-BEFORE.nii.gz /export2/DATA/HIS/HIS_server/analysis/dwi_data/stats_alt_reg/FA/sub-252_in-MNI_FA_AFTER-minus-BEFORE.nii.gz /export2/DATA/HIS/HIS_server/analysis/dwi_data/stats_alt_reg/FA/sub-254_in-MNI_FA_AFTER-minus-BEFORE.nii.gz /export2/DATA/HIS/HIS_server/analysis/dwi_data/stats_alt_reg/FA/sub-257_in-MNI_FA_AFTER-minus-BEFORE.nii.gz /export2/DATA/HIS/HIS_server/analysis/dwi_data/stats_alt_reg/FA/sub-258_in-MNI_FA_AFTER-minus-BEFORE.nii.gz /export2/DATA/HIS/HIS_server/analysis/dwi_data/stats_alt_reg/FA/sub-260_in-MNI_FA_AFTER-minus-BEFORE.nii.gz /export2/DATA/HIS/HIS_server/analysis/dwi_data/stats_alt_reg/FA/sub-261_in-MNI_FA_AFTER-minus-BEFORE.nii.gz /export2/DATA/HIS/HIS_server/analysis/dwi_data/stats_alt_reg/FA/sub-262_in-MNI_FA_AFTER-minus-BEFORE.nii.gz /export2/DATA/HIS/HIS_server/analysis/dwi_data/stats_alt_reg/FA/sub-263_in-MNI_FA_AFTER-minus-BEFORE.nii.gz /export2/DATA/HIS/HIS_server/analysis/dwi_data/stats_alt_reg/FA/sub-264_in-MNI_FA_AFTER-minus-BEFORE.nii.gz /export2/DATA/HIS/HIS_server/analysis/dwi_data/stats_alt_reg/FA/sub-265_in-MNI_FA_AFTER-minus-BEFORE.nii.gz /export2/DATA/HIS/HIS_server/analysis/dwi_data/stats_alt_reg/FA/sub-270_in-MNI_FA_AFTER-minus-BEFORE.nii.gz /export2/DATA/HIS/HIS_server/analysis/dwi_data/stats_alt_reg/FA/sub-271_in-MNI_FA_AFTER-minus-BEFORE.nii.gz /export2/DATA/HIS/HIS_server/analysis/dwi_data/stats_alt_reg/FA/sub-272_in-MNI_FA_AFTER-minus-BEFORE.nii.gz /export2/DATA/HIS/HIS_server/analysis/dwi_data/stats_alt_reg/FA/sub-281_in-MNI_FA_AFTER-minus-BEFORE.nii.gz /export2/DATA/HIS/HIS_server/analysis/dwi_data/stats_alt_reg/FA/sub-282_in-MNI_FA_AFTER-minus-BEFORE.nii.gz /export2/DATA/HIS/HIS_server/analysis/dwi_data/stats_alt_reg/FA/sub-283_in-MNI_FA_AFTER-minus-BEFORE.nii.gz /export2/DATA/HIS/HIS_server/analysis/dwi_data/stats_alt_reg/FA/sub-285_in-MNI_FA_AFTER-minus-BEFORE.nii.gz\n"
     ]
    }
   ],
   "source": [
    "for map_type in ['MD','FA']:          \n",
    "    print(f\"fslmerge -t {os.path.join(stats_path, map_type, f'SUBGROUPS_in_1_Day_AFTER_minus_BEFORE_{map_type}')} {' '.join([os.path.join(stats_path, map_type, f'{sub}_in-MNI_{map_type}_AFTER-minus-BEFORE.nii.gz') for sub in subjFoldersDTI_clustered_short])}\")\n",
    "    os.system(f\"fslmerge -t {os.path.join(stats_path, map_type, f'SUBGROUPS_in_1_Day_AFTER_minus_BEFORE_{map_type}')} {' '.join([os.path.join(stats_path, map_type, f'{sub}_in-MNI_{map_type}_AFTER-minus-BEFORE.nii.gz') for sub in subjFoldersDTI_clustered_short])}\")\n",
    "\n",
    "    print(f\"fslmerge -t {os.path.join(stats_path, map_type, f'SUBGROUPS_in_3_Day_AFTER_minus_BEFORE_{map_type}')} {' '.join([os.path.join(stats_path, map_type, f'{sub}_in-MNI_{map_type}_AFTER-minus-BEFORE.nii.gz') for sub in subjFoldersDTI_clustered_long])}\")\n",
    "    os.system(f\"fslmerge -t {os.path.join(stats_path, map_type, f'SUBGROUPS_in_3_Day_AFTER_minus_BEFORE_{map_type}')} {' '.join([os.path.join(stats_path, map_type, f'{sub}_in-MNI_{map_type}_AFTER-minus-BEFORE.nii.gz') for sub in subjFoldersDTI_clustered_long])}\")\n",
    "\n",
    "    print(f\"fslmerge -t {os.path.join(stats_path, map_type, f'SUBGROUPS_in_Goal_Directed_AFTER_minus_BEFORE_{map_type}')} {' '.join([os.path.join(stats_path, map_type, f'{sub}_in-MNI_{map_type}_AFTER-minus-BEFORE.nii.gz') for sub in subjFoldersDTI_clustered_goal_directed])}\")\n",
    "    os.system(f\"fslmerge -t {os.path.join(stats_path, map_type, f'SUBGROUPS_in_Goal_Directed_AFTER_minus_BEFORE_{map_type}')} {' '.join([os.path.join(stats_path, map_type, f'{sub}_in-MNI_{map_type}_AFTER-minus-BEFORE.nii.gz') for sub in subjFoldersDTI_clustered_goal_directed])}\")\n",
    "\n",
    "    print(f\"fslmerge -t {os.path.join(stats_path, map_type, f'SUBGROUPS_in_Habitual_AFTER_minus_BEFORE_{map_type}')} {' '.join([os.path.join(stats_path, map_type, f'{sub}_in-MNI_{map_type}_AFTER-minus-BEFORE.nii.gz') for sub in subjFoldersDTI_clustered_habitual])}\")\n",
    "    os.system(f\"fslmerge -t {os.path.join(stats_path, map_type, f'SUBGROUPS_in_Habitual_AFTER_minus_BEFORE_{map_type}')} {' '.join([os.path.join(stats_path, map_type, f'{sub}_in-MNI_{map_type}_AFTER-minus-BEFORE.nii.gz') for sub in subjFoldersDTI_clustered_habitual])}\")\n",
    "    "
   ]
  },
  {
   "cell_type": "markdown",
   "metadata": {},
   "source": [
    "### Settings"
   ]
  },
  {
   "cell_type": "code",
   "execution_count": 20,
   "metadata": {},
   "outputs": [],
   "source": [
    "# a function to run randomise for the individual differences analyses:\n",
    "def runRandomiseSubgroups(subgroups_in, map_type, region):\n",
    "    print(f'Running randomise for sub-groups analysis:\\n--- Subgroups in {subgroups_in} | {map_type} | {region} ---\\n')\n",
    "    #print(f'MAKE SURE TO REPLACE IN THE FUNCTION THE the print to os.system before running the command !!!\\n')\n",
    "    print(f\"randomise_parallel \\\n",
    "        -i {os.path.join(stats_path, map_type, f'SUBGROUPS_in_{subgroups_in}_AFTER_minus_BEFORE_{map_type}')} \\\n",
    "        -o {os.path.join(stats_path, map_type, f'SUBGROUPS_in_{subgroups_in}_AFTER_minus_BEFORE_{map_type}_{region}')} \\\n",
    "        {'' if region=='whole_brain' else f'-m {masks_paths[region]}'} \\\n",
    "        -d {os.path.join(stats_path, 'models', 'sub_groups', f'design_unpaired_ttest_subgroups_in_{subgroups_in}.mat')} \\\n",
    "        -t {os.path.join(stats_path, 'models', 'sub_groups', f'design_unpaired_ttest_subgroups_in_{subgroups_in}.con')}  \\\n",
    "        -n 6000 -C 3.1\")\n",
    "\n",
    "# Get cluster info:\n",
    "def getClusterInfoSubgroups(subgroups_in, map_type, region, ReversedSigThresh='0.90'):\n",
    "    print(f'Testing stats for sub-groups analysis:\\n--- Subgroups in {subgroups_in} | {map_type} | {region} ---\\n')\n",
    "    print(f'Goal-directed > Test Habitual \\n' if subgroups_in in ['1_Day','3_Day'] else f'1-Day > 3-Day\\n')\n",
    "    print(os.popen(f'cluster \\\n",
    "        -i {os.path.join(stats_path, map_type, f\"SUBGROUPS_in_{subgroups_in}_AFTER_minus_BEFORE_{map_type}_{region}_clusterm_corrp_tstat1.nii.gz\")} \\\n",
    "        -c {os.path.join(stats_path, map_type, f\"SUBGROUPS_in_{subgroups_in}_AFTER_minus_BEFORE_{map_type}_{region}_tstat1.nii.gz\")}\\\n",
    "        -t {ReversedSigThresh} \\\n",
    "        --scalarname=corrp' + '\"1-p\"').read())\n",
    "\n",
    "    print(f'Test Habitual > Goal-Directed \\n' if subgroups_in in ['1_Day','3_Day'] else f'3-Day > 1-Day\\n')\n",
    "    print(os.popen(f'cluster \\\n",
    "        -i {os.path.join(stats_path, map_type, f\"SUBGROUPS_in_{subgroups_in}_AFTER_minus_BEFORE_{map_type}_{region}_clusterm_corrp_tstat2.nii.gz\")} \\\n",
    "        -c {os.path.join(stats_path, map_type, f\"SUBGROUPS_in_{subgroups_in}_AFTER_minus_BEFORE_{map_type}_{region}_tstat2.nii.gz\")}\\\n",
    "        -t {ReversedSigThresh} \\\n",
    "        --scalarname=corrp' + '\"1-p\"').read())\n"
   ]
  },
  {
   "cell_type": "markdown",
   "metadata": {},
   "source": [
    "## IN SHORT TRAINING"
   ]
  },
  {
   "cell_type": "code",
   "execution_count": 22,
   "metadata": {},
   "outputs": [],
   "source": [
    "subgroups_in = '1_Day'"
   ]
  },
  {
   "cell_type": "markdown",
   "metadata": {},
   "source": [
    "### Whole brain - FA"
   ]
  },
  {
   "cell_type": "code",
   "execution_count": 23,
   "metadata": {},
   "outputs": [],
   "source": [
    "map_type='FA'\n",
    "region='whole_brain'"
   ]
  },
  {
   "cell_type": "code",
   "execution_count": 38,
   "metadata": {},
   "outputs": [
    {
     "name": "stdout",
     "output_type": "stream",
     "text": [
      "Running randomise for sub-groups analysis:\n",
      "--- Subgroups in 1_Day | FA | whole_brain ---\n",
      "\n"
     ]
    }
   ],
   "source": [
    "runRandomiseSubgroups(subgroups_in, map_type, region)"
   ]
  },
  {
   "cell_type": "code",
   "execution_count": 14,
   "metadata": {},
   "outputs": [
    {
     "name": "stdout",
     "output_type": "stream",
     "text": [
      "Testing stats for sub-groups analysis:\n",
      "--- Subgroups in 1_Day | FA | whole_brain ---\n",
      "\n",
      "Goal-directed > Test Habitual \n",
      "\n",
      "Cluster Index\tVoxels\tcorrp1-p-MAX\tcorrp1-p-MAX X (vox)\tcorrp1-p-MAX Y (vox)\tcorrp1-p-MAX Z (vox)\tcorrp1-p-COG X (vox)\tcorrp1-p-COG Y (vox)\tcorrp1-p-COG Z (vox)\tCOPE-MAX\tCOPE-MAX X (vox)\tCOPE-MAX Y (vox)\tCOPE-MAX Z (vox)\tCOPE-MEAN\n",
      "\n",
      "Test Habitual > Goal-Directed \n",
      "\n",
      "Cluster Index\tVoxels\tcorrp1-p-MAX\tcorrp1-p-MAX X (vox)\tcorrp1-p-MAX Y (vox)\tcorrp1-p-MAX Z (vox)\tcorrp1-p-COG X (vox)\tcorrp1-p-COG Y (vox)\tcorrp1-p-COG Z (vox)\tCOPE-MAX\tCOPE-MAX X (vox)\tCOPE-MAX Y (vox)\tCOPE-MAX Z (vox)\tCOPE-MEAN\n",
      "\n"
     ]
    }
   ],
   "source": [
    "# Get cluster info:\n",
    "getClusterInfoSubgroups(subgroups_in, map_type, region, ReversedSigThresh='0.90')"
   ]
  },
  {
   "cell_type": "markdown",
   "metadata": {},
   "source": [
    ">>>>> RESULTS: NOTHING"
   ]
  },
  {
   "cell_type": "markdown",
   "metadata": {},
   "source": [
    "### Putamen - FA"
   ]
  },
  {
   "cell_type": "code",
   "execution_count": 15,
   "metadata": {},
   "outputs": [],
   "source": [
    "region='Putamen'"
   ]
  },
  {
   "cell_type": "code",
   "execution_count": 16,
   "metadata": {},
   "outputs": [
    {
     "name": "stdout",
     "output_type": "stream",
     "text": [
      "Running randomise for sub-groups analysis:\n",
      "--- Subgroups in 1_Day | FA | Putamen ---\n",
      "\n"
     ]
    }
   ],
   "source": [
    "runRandomiseSubgroups(subgroups_in, map_type, region)"
   ]
  },
  {
   "cell_type": "code",
   "execution_count": 17,
   "metadata": {},
   "outputs": [
    {
     "name": "stdout",
     "output_type": "stream",
     "text": [
      "Testing stats for sub-groups analysis:\n",
      "--- Subgroups in 1_Day | FA | Putamen ---\n",
      "\n",
      "Goal-directed > Test Habitual \n",
      "\n",
      "Cluster Index\tVoxels\tcorrp1-p-MAX\tcorrp1-p-MAX X (vox)\tcorrp1-p-MAX Y (vox)\tcorrp1-p-MAX Z (vox)\tcorrp1-p-COG X (vox)\tcorrp1-p-COG Y (vox)\tcorrp1-p-COG Z (vox)\tCOPE-MAX\tCOPE-MAX X (vox)\tCOPE-MAX Y (vox)\tCOPE-MAX Z (vox)\tCOPE-MEAN\n",
      "\n",
      "Test Habitual > Goal-Directed \n",
      "\n",
      "Cluster Index\tVoxels\tcorrp1-p-MAX\tcorrp1-p-MAX X (vox)\tcorrp1-p-MAX Y (vox)\tcorrp1-p-MAX Z (vox)\tcorrp1-p-COG X (vox)\tcorrp1-p-COG Y (vox)\tcorrp1-p-COG Z (vox)\tCOPE-MAX\tCOPE-MAX X (vox)\tCOPE-MAX Y (vox)\tCOPE-MAX Z (vox)\tCOPE-MEAN\n",
      "\n"
     ]
    }
   ],
   "source": [
    "# Get cluster info:\n",
    "getClusterInfoSubgroups(subgroups_in, map_type, region, ReversedSigThresh='0.90')"
   ]
  },
  {
   "cell_type": "markdown",
   "metadata": {},
   "source": [
    ">>>>> RESULTS: NOTHING"
   ]
  },
  {
   "cell_type": "markdown",
   "metadata": {},
   "source": [
    "### Caudate - FA"
   ]
  },
  {
   "cell_type": "code",
   "execution_count": 18,
   "metadata": {},
   "outputs": [],
   "source": [
    "region='Caudate'"
   ]
  },
  {
   "cell_type": "code",
   "execution_count": 19,
   "metadata": {},
   "outputs": [
    {
     "name": "stdout",
     "output_type": "stream",
     "text": [
      "Running randomise for sub-groups analysis:\n",
      "--- Subgroups in 1_Day | FA | Caudate ---\n",
      "\n"
     ]
    }
   ],
   "source": [
    "runRandomiseSubgroups(subgroups_in, map_type, region)"
   ]
  },
  {
   "cell_type": "code",
   "execution_count": 20,
   "metadata": {},
   "outputs": [
    {
     "name": "stdout",
     "output_type": "stream",
     "text": [
      "Testing stats for sub-groups analysis:\n",
      "--- Subgroups in 1_Day | FA | Caudate ---\n",
      "\n",
      "Goal-directed > Test Habitual \n",
      "\n",
      "Cluster Index\tVoxels\tcorrp1-p-MAX\tcorrp1-p-MAX X (vox)\tcorrp1-p-MAX Y (vox)\tcorrp1-p-MAX Z (vox)\tcorrp1-p-COG X (vox)\tcorrp1-p-COG Y (vox)\tcorrp1-p-COG Z (vox)\tCOPE-MAX\tCOPE-MAX X (vox)\tCOPE-MAX Y (vox)\tCOPE-MAX Z (vox)\tCOPE-MEAN\n",
      "\n",
      "Test Habitual > Goal-Directed \n",
      "\n",
      "Cluster Index\tVoxels\tcorrp1-p-MAX\tcorrp1-p-MAX X (vox)\tcorrp1-p-MAX Y (vox)\tcorrp1-p-MAX Z (vox)\tcorrp1-p-COG X (vox)\tcorrp1-p-COG Y (vox)\tcorrp1-p-COG Z (vox)\tCOPE-MAX\tCOPE-MAX X (vox)\tCOPE-MAX Y (vox)\tCOPE-MAX Z (vox)\tCOPE-MEAN\n",
      "\n"
     ]
    }
   ],
   "source": [
    "# Get cluster info:\n",
    "getClusterInfoSubgroups(subgroups_in, map_type, region, ReversedSigThresh='0.90')"
   ]
  },
  {
   "cell_type": "markdown",
   "metadata": {},
   "source": [
    ">>>>> RESULTS:\n",
    "MMM... need to look into it"
   ]
  },
  {
   "cell_type": "markdown",
   "metadata": {},
   "source": [
    "### vmPFC - FA"
   ]
  },
  {
   "cell_type": "code",
   "execution_count": 21,
   "metadata": {},
   "outputs": [],
   "source": [
    "region='vmPFC'"
   ]
  },
  {
   "cell_type": "code",
   "execution_count": 22,
   "metadata": {},
   "outputs": [
    {
     "name": "stdout",
     "output_type": "stream",
     "text": [
      "Running randomise for sub-groups analysis:\n",
      "--- Subgroups in 1_Day | FA | vmPFC ---\n",
      "\n"
     ]
    }
   ],
   "source": [
    "runRandomiseSubgroups(subgroups_in, map_type, region)"
   ]
  },
  {
   "cell_type": "code",
   "execution_count": 23,
   "metadata": {},
   "outputs": [
    {
     "name": "stdout",
     "output_type": "stream",
     "text": [
      "Testing stats for sub-groups analysis:\n",
      "--- Subgroups in 1_Day | FA | vmPFC ---\n",
      "\n",
      "Goal-directed > Test Habitual \n",
      "\n",
      "Cluster Index\tVoxels\tcorrp1-p-MAX\tcorrp1-p-MAX X (vox)\tcorrp1-p-MAX Y (vox)\tcorrp1-p-MAX Z (vox)\tcorrp1-p-COG X (vox)\tcorrp1-p-COG Y (vox)\tcorrp1-p-COG Z (vox)\tCOPE-MAX\tCOPE-MAX X (vox)\tCOPE-MAX Y (vox)\tCOPE-MAX Z (vox)\tCOPE-MEAN\n",
      "\n",
      "Test Habitual > Goal-Directed \n",
      "\n",
      "Cluster Index\tVoxels\tcorrp1-p-MAX\tcorrp1-p-MAX X (vox)\tcorrp1-p-MAX Y (vox)\tcorrp1-p-MAX Z (vox)\tcorrp1-p-COG X (vox)\tcorrp1-p-COG Y (vox)\tcorrp1-p-COG Z (vox)\tCOPE-MAX\tCOPE-MAX X (vox)\tCOPE-MAX Y (vox)\tCOPE-MAX Z (vox)\tCOPE-MEAN\n",
      "\n"
     ]
    }
   ],
   "source": [
    "# Get cluster info:\n",
    "getClusterInfoSubgroups(subgroups_in, map_type, region, ReversedSigThresh='0.90')"
   ]
  },
  {
   "cell_type": "markdown",
   "metadata": {},
   "source": [
    ">>>>> RESULTS: NOTHING"
   ]
  },
  {
   "cell_type": "markdown",
   "metadata": {},
   "source": [
    "### Whole brain - MD"
   ]
  },
  {
   "cell_type": "code",
   "execution_count": 24,
   "metadata": {},
   "outputs": [],
   "source": [
    "map_type='MD'\n",
    "region='whole_brain'"
   ]
  },
  {
   "cell_type": "code",
   "execution_count": 25,
   "metadata": {},
   "outputs": [
    {
     "name": "stdout",
     "output_type": "stream",
     "text": [
      "Running randomise for sub-groups analysis:\n",
      "--- Subgroups in 1_Day | MD | whole_brain ---\n",
      "\n"
     ]
    }
   ],
   "source": [
    "runRandomiseSubgroups(subgroups_in, map_type, region)"
   ]
  },
  {
   "cell_type": "code",
   "execution_count": 25,
   "metadata": {},
   "outputs": [
    {
     "name": "stdout",
     "output_type": "stream",
     "text": [
      "Testing stats for sub-groups analysis:\n",
      "--- Subgroups in 1_Day | MD | whole_brain ---\n",
      "\n",
      "Goal-directed > Test Habitual \n",
      "\n",
      "Cluster Index\tVoxels\tcorrp1-p-MAX\tcorrp1-p-MAX X (vox)\tcorrp1-p-MAX Y (vox)\tcorrp1-p-MAX Z (vox)\tcorrp1-p-COG X (vox)\tcorrp1-p-COG Y (vox)\tcorrp1-p-COG Z (vox)\tCOPE-MAX\tCOPE-MAX X (vox)\tCOPE-MAX Y (vox)\tCOPE-MAX Z (vox)\tCOPE-MEAN\n",
      "\n",
      "Test Habitual > Goal-Directed \n",
      "\n",
      "Cluster Index\tVoxels\tcorrp1-p-MAX\tcorrp1-p-MAX X (vox)\tcorrp1-p-MAX Y (vox)\tcorrp1-p-MAX Z (vox)\tcorrp1-p-COG X (vox)\tcorrp1-p-COG Y (vox)\tcorrp1-p-COG Z (vox)\tCOPE-MAX\tCOPE-MAX X (vox)\tCOPE-MAX Y (vox)\tCOPE-MAX Z (vox)\tCOPE-MEAN\n",
      "\n"
     ]
    }
   ],
   "source": [
    "# Get cluster info:\n",
    "getClusterInfoSubgroups(subgroups_in, map_type, region, ReversedSigThresh='0.90')"
   ]
  },
  {
   "cell_type": "markdown",
   "metadata": {},
   "source": [
    ">>>>> RESULTS: NOTHING"
   ]
  },
  {
   "cell_type": "markdown",
   "metadata": {},
   "source": [
    "### Putamen - MD"
   ]
  },
  {
   "cell_type": "code",
   "execution_count": 26,
   "metadata": {},
   "outputs": [],
   "source": [
    "region='Putamen'"
   ]
  },
  {
   "cell_type": "code",
   "execution_count": 28,
   "metadata": {},
   "outputs": [
    {
     "name": "stdout",
     "output_type": "stream",
     "text": [
      "Running randomise for sub-groups analysis:\n",
      "--- Subgroups in 1_Day | MD | Putamen ---\n",
      "\n"
     ]
    }
   ],
   "source": [
    "runRandomiseSubgroups(subgroups_in, map_type, region)"
   ]
  },
  {
   "cell_type": "code",
   "execution_count": 27,
   "metadata": {},
   "outputs": [
    {
     "name": "stdout",
     "output_type": "stream",
     "text": [
      "Testing stats for sub-groups analysis:\n",
      "--- Subgroups in 1_Day | MD | Putamen ---\n",
      "\n",
      "Goal-directed > Test Habitual \n",
      "\n",
      "Cluster Index\tVoxels\tcorrp1-p-MAX\tcorrp1-p-MAX X (vox)\tcorrp1-p-MAX Y (vox)\tcorrp1-p-MAX Z (vox)\tcorrp1-p-COG X (vox)\tcorrp1-p-COG Y (vox)\tcorrp1-p-COG Z (vox)\tCOPE-MAX\tCOPE-MAX X (vox)\tCOPE-MAX Y (vox)\tCOPE-MAX Z (vox)\tCOPE-MEAN\n",
      "\n",
      "Test Habitual > Goal-Directed \n",
      "\n",
      "Cluster Index\tVoxels\tcorrp1-p-MAX\tcorrp1-p-MAX X (vox)\tcorrp1-p-MAX Y (vox)\tcorrp1-p-MAX Z (vox)\tcorrp1-p-COG X (vox)\tcorrp1-p-COG Y (vox)\tcorrp1-p-COG Z (vox)\tCOPE-MAX\tCOPE-MAX X (vox)\tCOPE-MAX Y (vox)\tCOPE-MAX Z (vox)\tCOPE-MEAN\n",
      "\n"
     ]
    }
   ],
   "source": [
    "# Get cluster info:\n",
    "getClusterInfoSubgroups(subgroups_in, map_type, region, ReversedSigThresh='0.90')"
   ]
  },
  {
   "cell_type": "markdown",
   "metadata": {},
   "source": [
    ">>>>> RESULTS: NOTHING"
   ]
  },
  {
   "cell_type": "markdown",
   "metadata": {},
   "source": [
    "### Caudate - MD"
   ]
  },
  {
   "cell_type": "code",
   "execution_count": 28,
   "metadata": {},
   "outputs": [],
   "source": [
    "region='Caudate'"
   ]
  },
  {
   "cell_type": "code",
   "execution_count": 31,
   "metadata": {},
   "outputs": [
    {
     "name": "stdout",
     "output_type": "stream",
     "text": [
      "Running randomise for sub-groups analysis:\n",
      "--- Subgroups in 1_Day | MD | Caudate ---\n",
      "\n"
     ]
    }
   ],
   "source": [
    "runRandomiseSubgroups(subgroups_in, map_type, region)"
   ]
  },
  {
   "cell_type": "code",
   "execution_count": 29,
   "metadata": {},
   "outputs": [
    {
     "name": "stdout",
     "output_type": "stream",
     "text": [
      "Testing stats for sub-groups analysis:\n",
      "--- Subgroups in 1_Day | MD | Caudate ---\n",
      "\n",
      "Goal-directed > Test Habitual \n",
      "\n",
      "Cluster Index\tVoxels\tcorrp1-p-MAX\tcorrp1-p-MAX X (vox)\tcorrp1-p-MAX Y (vox)\tcorrp1-p-MAX Z (vox)\tcorrp1-p-COG X (vox)\tcorrp1-p-COG Y (vox)\tcorrp1-p-COG Z (vox)\tCOPE-MAX\tCOPE-MAX X (vox)\tCOPE-MAX Y (vox)\tCOPE-MAX Z (vox)\tCOPE-MEAN\n",
      "\n",
      "Test Habitual > Goal-Directed \n",
      "\n",
      "Cluster Index\tVoxels\tcorrp1-p-MAX\tcorrp1-p-MAX X (vox)\tcorrp1-p-MAX Y (vox)\tcorrp1-p-MAX Z (vox)\tcorrp1-p-COG X (vox)\tcorrp1-p-COG Y (vox)\tcorrp1-p-COG Z (vox)\tCOPE-MAX\tCOPE-MAX X (vox)\tCOPE-MAX Y (vox)\tCOPE-MAX Z (vox)\tCOPE-MEAN\n",
      "\n"
     ]
    }
   ],
   "source": [
    "# Get cluster info:\n",
    "getClusterInfoSubgroups(subgroups_in, map_type, region, ReversedSigThresh='0.90')"
   ]
  },
  {
   "cell_type": "markdown",
   "metadata": {},
   "source": [
    ">>>>> RESULTS: NOTHING"
   ]
  },
  {
   "cell_type": "markdown",
   "metadata": {},
   "source": [
    "### vmPFC - MD"
   ]
  },
  {
   "cell_type": "code",
   "execution_count": 25,
   "metadata": {},
   "outputs": [],
   "source": [
    "region='vmPFC'"
   ]
  },
  {
   "cell_type": "code",
   "execution_count": 34,
   "metadata": {},
   "outputs": [
    {
     "name": "stdout",
     "output_type": "stream",
     "text": [
      "Running randomise for sub-groups analysis:\n",
      "--- Subgroups in 1_Day | MD | vmPFC ---\n",
      "\n"
     ]
    }
   ],
   "source": [
    "runRandomiseSubgroups(subgroups_in, map_type, region)"
   ]
  },
  {
   "cell_type": "code",
   "execution_count": 26,
   "metadata": {},
   "outputs": [
    {
     "name": "stdout",
     "output_type": "stream",
     "text": [
      "Testing stats for sub-groups analysis:\n",
      "--- Subgroups in 1_Day | MD | vmPFC ---\n",
      "\n",
      "Goal-directed > Test Habitual \n",
      "\n",
      "Cluster Index\tVoxels\tcorrp1-p-MAX\tcorrp1-p-MAX X (vox)\tcorrp1-p-MAX Y (vox)\tcorrp1-p-MAX Z (vox)\tcorrp1-p-COG X (vox)\tcorrp1-p-COG Y (vox)\tcorrp1-p-COG Z (vox)\tCOPE-MAX\tCOPE-MAX X (vox)\tCOPE-MAX Y (vox)\tCOPE-MAX Z (vox)\tCOPE-MEAN\n",
      "\n",
      "Test Habitual > Goal-Directed \n",
      "\n",
      "Cluster Index\tVoxels\tcorrp1-p-MAX\tcorrp1-p-MAX X (vox)\tcorrp1-p-MAX Y (vox)\tcorrp1-p-MAX Z (vox)\tcorrp1-p-COG X (vox)\tcorrp1-p-COG Y (vox)\tcorrp1-p-COG Z (vox)\tCOPE-MAX\tCOPE-MAX X (vox)\tCOPE-MAX Y (vox)\tCOPE-MAX Z (vox)\tCOPE-MEAN\n",
      "\n"
     ]
    }
   ],
   "source": [
    "# Get cluster info:\n",
    "getClusterInfoSubgroups(subgroups_in, map_type, region, ReversedSigThresh='0.90')"
   ]
  },
  {
   "cell_type": "markdown",
   "metadata": {},
   "source": [
    ">>>>> RESULTS: NOTHING"
   ]
  },
  {
   "cell_type": "markdown",
   "metadata": {},
   "source": [
    "## IN LONG TRAINING"
   ]
  },
  {
   "cell_type": "code",
   "execution_count": 23,
   "metadata": {},
   "outputs": [],
   "source": [
    "subgroups_in = '3_Day'"
   ]
  },
  {
   "cell_type": "markdown",
   "metadata": {},
   "source": [
    "### Whole brain - FA"
   ]
  },
  {
   "cell_type": "code",
   "execution_count": 24,
   "metadata": {},
   "outputs": [],
   "source": [
    "map_type='FA'\n",
    "region='whole_brain'"
   ]
  },
  {
   "cell_type": "code",
   "execution_count": 30,
   "metadata": {},
   "outputs": [
    {
     "name": "stdout",
     "output_type": "stream",
     "text": [
      "Running randomise for sub-groups analysis:\n",
      "--- Subgroups in 3_Day | FA | whole_brain ---\n",
      "\n",
      "randomise_parallel         -i /export2/DATA/HIS/HIS_server/analysis/dwi_data/stats_alt_reg/FA/SUBGROUPS_in_3_Day_AFTER_minus_BEFORE_FA         -o /export2/DATA/HIS/HIS_server/analysis/dwi_data/stats_alt_reg/FA/SUBGROUPS_in_3_Day_AFTER_minus_BEFORE_FA_whole_brain                  -d /export2/DATA/HIS/HIS_server/analysis/dwi_data/stats_alt_reg/models/sub_groups/design_unpaired_ttest_subgroups_in_3_Day.mat         -t /export2/DATA/HIS/HIS_server/analysis/dwi_data/stats_alt_reg/models/sub_groups/design_unpaired_ttest_subgroups_in_3_Day.con          -n 6000 -C 3.1\n"
     ]
    }
   ],
   "source": [
    "runRandomiseSubgroups(subgroups_in, map_type, region)"
   ]
  },
  {
   "cell_type": "code",
   "execution_count": 25,
   "metadata": {},
   "outputs": [
    {
     "name": "stdout",
     "output_type": "stream",
     "text": [
      "Testing stats for sub-groups analysis:\n",
      "--- Subgroups in 3_Day | FA | whole_brain ---\n",
      "\n",
      "Goal-directed > Test Habitual \n",
      "\n",
      "Cluster Index\tVoxels\tcorrp1-p-MAX\tcorrp1-p-MAX X (vox)\tcorrp1-p-MAX Y (vox)\tcorrp1-p-MAX Z (vox)\tcorrp1-p-COG X (vox)\tcorrp1-p-COG Y (vox)\tcorrp1-p-COG Z (vox)\tCOPE-MAX\tCOPE-MAX X (vox)\tCOPE-MAX Y (vox)\tCOPE-MAX Z (vox)\tCOPE-MEAN\n",
      "\n",
      "Test Habitual > Goal-Directed \n",
      "\n",
      "Cluster Index\tVoxels\tcorrp1-p-MAX\tcorrp1-p-MAX X (vox)\tcorrp1-p-MAX Y (vox)\tcorrp1-p-MAX Z (vox)\tcorrp1-p-COG X (vox)\tcorrp1-p-COG Y (vox)\tcorrp1-p-COG Z (vox)\tCOPE-MAX\tCOPE-MAX X (vox)\tCOPE-MAX Y (vox)\tCOPE-MAX Z (vox)\tCOPE-MEAN\n",
      "1\t249\t0.969\t48\t53\t16\t44.6\t53.1\t24.8\t5.62\t39\t54\t27\t3.56\n",
      "\n"
     ]
    }
   ],
   "source": [
    "# Get cluster info:\n",
    "getClusterInfoSubgroups(subgroups_in, map_type, region, ReversedSigThresh='0.90')"
   ]
  },
  {
   "cell_type": "markdown",
   "metadata": {},
   "source": [
    ">>>>> RESULT:"
   ]
  },
  {
   "cell_type": "markdown",
   "metadata": {},
   "source": [
    "### Putamen - FA"
   ]
  },
  {
   "cell_type": "code",
   "execution_count": 16,
   "metadata": {},
   "outputs": [],
   "source": [
    "region='Putamen'"
   ]
  },
  {
   "cell_type": "code",
   "execution_count": 17,
   "metadata": {},
   "outputs": [
    {
     "name": "stdout",
     "output_type": "stream",
     "text": [
      "Running randomise for sub-groups analysis:\n",
      "--- Subgroups in 3_Day | FA | Putamen ---\n",
      "\n",
      "randomise_parallel         -i /export2/DATA/HIS/HIS_server/analysis/dwi_data/stats_alt_reg/FA/SUBGROUPS_in_3_Day_AFTER_minus_BEFORE_FA         -o /export2/DATA/HIS/HIS_server/analysis/dwi_data/stats_alt_reg/FA/SUBGROUPS_in_3_Day_AFTER_minus_BEFORE_FA_Putamen         -m /export2/DATA/HIS/HIS_server/DTI_assitance_files/masks/Harvard-Oxford/Putamen-mask.nii.gz         -d /export2/DATA/HIS/HIS_server/analysis/dwi_data/stats_alt_reg/models/sub_groups/design_unpaired_ttest_subgroups_in_3_Day.mat         -t /export2/DATA/HIS/HIS_server/analysis/dwi_data/stats_alt_reg/models/sub_groups/design_unpaired_ttest_subgroups_in_3_Day.con          -n 6000 -C 3.1\n"
     ]
    }
   ],
   "source": [
    "runRandomiseSubgroups(subgroups_in, map_type, region)"
   ]
  },
  {
   "cell_type": "code",
   "execution_count": 21,
   "metadata": {},
   "outputs": [
    {
     "name": "stdout",
     "output_type": "stream",
     "text": [
      "Testing stats for sub-groups analysis:\n",
      "--- Subgroups in 3_Day | FA | Putamen ---\n",
      "\n",
      "Goal-directed > Test Habitual \n",
      "\n",
      "Cluster Index\tVoxels\tcorrp1-p-MAX\tcorrp1-p-MAX X (vox)\tcorrp1-p-MAX Y (vox)\tcorrp1-p-MAX Z (vox)\tcorrp1-p-COG X (vox)\tcorrp1-p-COG Y (vox)\tcorrp1-p-COG Z (vox)\tCOPE-MAX\tCOPE-MAX X (vox)\tCOPE-MAX Y (vox)\tCOPE-MAX Z (vox)\tCOPE-MEAN\n",
      "\n",
      "Test Habitual > Goal-Directed \n",
      "\n",
      "Cluster Index\tVoxels\tcorrp1-p-MAX\tcorrp1-p-MAX X (vox)\tcorrp1-p-MAX Y (vox)\tcorrp1-p-MAX Z (vox)\tcorrp1-p-COG X (vox)\tcorrp1-p-COG Y (vox)\tcorrp1-p-COG Z (vox)\tCOPE-MAX\tCOPE-MAX X (vox)\tCOPE-MAX Y (vox)\tCOPE-MAX Z (vox)\tCOPE-MEAN\n",
      "\n"
     ]
    }
   ],
   "source": [
    "# Get cluster info:\n",
    "getClusterInfoSubgroups(subgroups_in, map_type, region, ReversedSigThresh='0.90')"
   ]
  },
  {
   "cell_type": "markdown",
   "metadata": {},
   "source": [
    ">>>>> RESULT"
   ]
  },
  {
   "cell_type": "markdown",
   "metadata": {},
   "source": [
    "### Caudate - FA"
   ]
  },
  {
   "cell_type": "code",
   "execution_count": 22,
   "metadata": {},
   "outputs": [],
   "source": [
    "region='Caudate'"
   ]
  },
  {
   "cell_type": "code",
   "execution_count": 23,
   "metadata": {},
   "outputs": [
    {
     "name": "stdout",
     "output_type": "stream",
     "text": [
      "Running randomise for sub-groups analysis:\n",
      "--- Subgroups in 3_Day | FA | Caudate ---\n",
      "\n",
      "randomise_parallel         -i /export2/DATA/HIS/HIS_server/analysis/dwi_data/stats_alt_reg/FA/SUBGROUPS_in_3_Day_AFTER_minus_BEFORE_FA         -o /export2/DATA/HIS/HIS_server/analysis/dwi_data/stats_alt_reg/FA/SUBGROUPS_in_3_Day_AFTER_minus_BEFORE_FA_Caudate         -m /export2/DATA/HIS/HIS_server/DTI_assitance_files/masks/Harvard-Oxford/CaudateHead_Y-larger-than-1-mask.nii.gz         -d /export2/DATA/HIS/HIS_server/analysis/dwi_data/stats_alt_reg/models/sub_groups/design_unpaired_ttest_subgroups_in_3_Day.mat         -t /export2/DATA/HIS/HIS_server/analysis/dwi_data/stats_alt_reg/models/sub_groups/design_unpaired_ttest_subgroups_in_3_Day.con          -n 6000 -C 3.1\n"
     ]
    }
   ],
   "source": [
    "runRandomiseSubgroups(subgroups_in, map_type, region)"
   ]
  },
  {
   "cell_type": "code",
   "execution_count": 24,
   "metadata": {},
   "outputs": [
    {
     "name": "stdout",
     "output_type": "stream",
     "text": [
      "Testing stats for sub-groups analysis:\n",
      "--- Subgroups in 3_Day | FA | Caudate ---\n",
      "\n",
      "Goal-directed > Test Habitual \n",
      "\n",
      "Cluster Index\tVoxels\tcorrp1-p-MAX\tcorrp1-p-MAX X (vox)\tcorrp1-p-MAX Y (vox)\tcorrp1-p-MAX Z (vox)\tcorrp1-p-COG X (vox)\tcorrp1-p-COG Y (vox)\tcorrp1-p-COG Z (vox)\tCOPE-MAX\tCOPE-MAX X (vox)\tCOPE-MAX Y (vox)\tCOPE-MAX Z (vox)\tCOPE-MEAN\n",
      "\n",
      "Test Habitual > Goal-Directed \n",
      "\n",
      "Cluster Index\tVoxels\tcorrp1-p-MAX\tcorrp1-p-MAX X (vox)\tcorrp1-p-MAX Y (vox)\tcorrp1-p-MAX Z (vox)\tcorrp1-p-COG X (vox)\tcorrp1-p-COG Y (vox)\tcorrp1-p-COG Z (vox)\tCOPE-MAX\tCOPE-MAX X (vox)\tCOPE-MAX Y (vox)\tCOPE-MAX Z (vox)\tCOPE-MEAN\n",
      "\n"
     ]
    }
   ],
   "source": [
    "# Get cluster info:\n",
    "getClusterInfoSubgroups(subgroups_in, map_type, region, ReversedSigThresh='0.90')"
   ]
  },
  {
   "cell_type": "markdown",
   "metadata": {},
   "source": [
    ">>>>> RESULTS:"
   ]
  },
  {
   "cell_type": "markdown",
   "metadata": {},
   "source": [
    "### vmPFC - FA"
   ]
  },
  {
   "cell_type": "code",
   "execution_count": 25,
   "metadata": {},
   "outputs": [],
   "source": [
    "region='vmPFC'"
   ]
  },
  {
   "cell_type": "code",
   "execution_count": 26,
   "metadata": {},
   "outputs": [
    {
     "name": "stdout",
     "output_type": "stream",
     "text": [
      "Running randomise for sub-groups analysis:\n",
      "--- Subgroups in 3_Day | FA | vmPFC ---\n",
      "\n",
      "randomise_parallel         -i /export2/DATA/HIS/HIS_server/analysis/dwi_data/stats_alt_reg/FA/SUBGROUPS_in_3_Day_AFTER_minus_BEFORE_FA         -o /export2/DATA/HIS/HIS_server/analysis/dwi_data/stats_alt_reg/FA/SUBGROUPS_in_3_Day_AFTER_minus_BEFORE_FA_vmPFC         -m /export2/DATA/HIS/HIS_server/DTI_assitance_files/masks/Harvard-Oxford/vmPFC-mask.nii.gz         -d /export2/DATA/HIS/HIS_server/analysis/dwi_data/stats_alt_reg/models/sub_groups/design_unpaired_ttest_subgroups_in_3_Day.mat         -t /export2/DATA/HIS/HIS_server/analysis/dwi_data/stats_alt_reg/models/sub_groups/design_unpaired_ttest_subgroups_in_3_Day.con          -n 6000 -C 3.1\n"
     ]
    }
   ],
   "source": [
    "runRandomiseSubgroups(subgroups_in, map_type, region)"
   ]
  },
  {
   "cell_type": "code",
   "execution_count": 32,
   "metadata": {},
   "outputs": [
    {
     "name": "stdout",
     "output_type": "stream",
     "text": [
      "Testing stats for sub-groups analysis:\n",
      "--- Subgroups in 3_Day | FA | vmPFC ---\n",
      "\n",
      "Goal-directed > Test Habitual \n",
      "\n",
      "Cluster Index\tVoxels\tcorrp1-p-MAX\tcorrp1-p-MAX X (vox)\tcorrp1-p-MAX Y (vox)\tcorrp1-p-MAX Z (vox)\tcorrp1-p-COG X (vox)\tcorrp1-p-COG Y (vox)\tcorrp1-p-COG Z (vox)\tCOPE-MAX\tCOPE-MAX X (vox)\tCOPE-MAX Y (vox)\tCOPE-MAX Z (vox)\tCOPE-MEAN\n",
      "\n",
      "Test Habitual > Goal-Directed \n",
      "\n",
      "Cluster Index\tVoxels\tcorrp1-p-MAX\tcorrp1-p-MAX X (vox)\tcorrp1-p-MAX Y (vox)\tcorrp1-p-MAX Z (vox)\tcorrp1-p-COG X (vox)\tcorrp1-p-COG Y (vox)\tcorrp1-p-COG Z (vox)\tCOPE-MAX\tCOPE-MAX X (vox)\tCOPE-MAX Y (vox)\tCOPE-MAX Z (vox)\tCOPE-MEAN\n",
      "\n"
     ]
    }
   ],
   "source": [
    "# Get cluster info:\n",
    "getClusterInfoSubgroups(subgroups_in, map_type, region, ReversedSigThresh='0.90')"
   ]
  },
  {
   "cell_type": "markdown",
   "metadata": {},
   "source": [
    ">>>>> RESULTS:"
   ]
  },
  {
   "cell_type": "markdown",
   "metadata": {},
   "source": [
    "### Whole brain - MD"
   ]
  },
  {
   "cell_type": "code",
   "execution_count": 33,
   "metadata": {},
   "outputs": [],
   "source": [
    "map_type='MD'\n",
    "region='whole_brain'"
   ]
  },
  {
   "cell_type": "code",
   "execution_count": 34,
   "metadata": {},
   "outputs": [
    {
     "name": "stdout",
     "output_type": "stream",
     "text": [
      "Running randomise for sub-groups analysis:\n",
      "--- Subgroups in 3_Day | MD | whole_brain ---\n",
      "\n",
      "randomise_parallel         -i /export2/DATA/HIS/HIS_server/analysis/dwi_data/stats_alt_reg/MD/SUBGROUPS_in_3_Day_AFTER_minus_BEFORE_MD         -o /export2/DATA/HIS/HIS_server/analysis/dwi_data/stats_alt_reg/MD/SUBGROUPS_in_3_Day_AFTER_minus_BEFORE_MD_whole_brain                  -d /export2/DATA/HIS/HIS_server/analysis/dwi_data/stats_alt_reg/models/sub_groups/design_unpaired_ttest_subgroups_in_3_Day.mat         -t /export2/DATA/HIS/HIS_server/analysis/dwi_data/stats_alt_reg/models/sub_groups/design_unpaired_ttest_subgroups_in_3_Day.con          -n 6000 -C 3.1\n"
     ]
    }
   ],
   "source": [
    "runRandomiseSubgroups(subgroups_in, map_type, region)"
   ]
  },
  {
   "cell_type": "code",
   "execution_count": 35,
   "metadata": {},
   "outputs": [
    {
     "name": "stdout",
     "output_type": "stream",
     "text": [
      "Testing stats for sub-groups analysis:\n",
      "--- Subgroups in 3_Day | MD | whole_brain ---\n",
      "\n",
      "Goal-directed > Test Habitual \n",
      "\n",
      "Cluster Index\tVoxels\tcorrp1-p-MAX\tcorrp1-p-MAX X (vox)\tcorrp1-p-MAX Y (vox)\tcorrp1-p-MAX Z (vox)\tcorrp1-p-COG X (vox)\tcorrp1-p-COG Y (vox)\tcorrp1-p-COG Z (vox)\tCOPE-MAX\tCOPE-MAX X (vox)\tCOPE-MAX Y (vox)\tCOPE-MAX Z (vox)\tCOPE-MEAN\n",
      "\n",
      "Test Habitual > Goal-Directed \n",
      "\n",
      "Cluster Index\tVoxels\tcorrp1-p-MAX\tcorrp1-p-MAX X (vox)\tcorrp1-p-MAX Y (vox)\tcorrp1-p-MAX Z (vox)\tcorrp1-p-COG X (vox)\tcorrp1-p-COG Y (vox)\tcorrp1-p-COG Z (vox)\tCOPE-MAX\tCOPE-MAX X (vox)\tCOPE-MAX Y (vox)\tCOPE-MAX Z (vox)\tCOPE-MEAN\n",
      "\n"
     ]
    }
   ],
   "source": [
    "# Get cluster info:\n",
    "getClusterInfoSubgroups(subgroups_in, map_type, region, ReversedSigThresh='0.90')"
   ]
  },
  {
   "cell_type": "markdown",
   "metadata": {},
   "source": [
    ">>>>> RESULT:"
   ]
  },
  {
   "cell_type": "markdown",
   "metadata": {},
   "source": [
    "### Putamen - MD"
   ]
  },
  {
   "cell_type": "code",
   "execution_count": 45,
   "metadata": {},
   "outputs": [],
   "source": [
    "region='Putamen'"
   ]
  },
  {
   "cell_type": "code",
   "execution_count": 46,
   "metadata": {},
   "outputs": [
    {
     "name": "stdout",
     "output_type": "stream",
     "text": [
      "Running randomise for sub-groups analysis:\n",
      "--- Subgroups in 3_Day | MD | Putamen ---\n",
      "\n",
      "randomise_parallel         -i /export2/DATA/HIS/HIS_server/analysis/dwi_data/stats_alt_reg/MD/SUBGROUPS_in_3_Day_AFTER_minus_BEFORE_MD         -o /export2/DATA/HIS/HIS_server/analysis/dwi_data/stats_alt_reg/MD/SUBGROUPS_in_3_Day_AFTER_minus_BEFORE_MD_Putamen         -m /export2/DATA/HIS/HIS_server/DTI_assitance_files/masks/Harvard-Oxford/Putamen-mask.nii.gz         -d /export2/DATA/HIS/HIS_server/analysis/dwi_data/stats_alt_reg/models/sub_groups/design_unpaired_ttest_subgroups_in_3_Day.mat         -t /export2/DATA/HIS/HIS_server/analysis/dwi_data/stats_alt_reg/models/sub_groups/design_unpaired_ttest_subgroups_in_3_Day.con          -n 6000 -C 3.1\n"
     ]
    }
   ],
   "source": [
    "runRandomiseSubgroups(subgroups_in, map_type, region)"
   ]
  },
  {
   "cell_type": "code",
   "execution_count": 47,
   "metadata": {},
   "outputs": [
    {
     "name": "stdout",
     "output_type": "stream",
     "text": [
      "Testing stats for sub-groups analysis:\n",
      "--- Subgroups in 3_Day | MD | Putamen ---\n",
      "\n",
      "Goal-directed > Test Habitual \n",
      "\n",
      "Cluster Index\tVoxels\tcorrp1-p-MAX\tcorrp1-p-MAX X (vox)\tcorrp1-p-MAX Y (vox)\tcorrp1-p-MAX Z (vox)\tcorrp1-p-COG X (vox)\tcorrp1-p-COG Y (vox)\tcorrp1-p-COG Z (vox)\tCOPE-MAX\tCOPE-MAX X (vox)\tCOPE-MAX Y (vox)\tCOPE-MAX Z (vox)\tCOPE-MEAN\n",
      "\n",
      "Test Habitual > Goal-Directed \n",
      "\n",
      "Cluster Index\tVoxels\tcorrp1-p-MAX\tcorrp1-p-MAX X (vox)\tcorrp1-p-MAX Y (vox)\tcorrp1-p-MAX Z (vox)\tcorrp1-p-COG X (vox)\tcorrp1-p-COG Y (vox)\tcorrp1-p-COG Z (vox)\tCOPE-MAX\tCOPE-MAX X (vox)\tCOPE-MAX Y (vox)\tCOPE-MAX Z (vox)\tCOPE-MEAN\n",
      "\n"
     ]
    }
   ],
   "source": [
    "# Get cluster info:\n",
    "getClusterInfoSubgroups(subgroups_in, map_type, region, ReversedSigThresh='0.90')"
   ]
  },
  {
   "cell_type": "markdown",
   "metadata": {},
   "source": [
    ">>>>> RESULT"
   ]
  },
  {
   "cell_type": "markdown",
   "metadata": {},
   "source": [
    "### Caudate - MD"
   ]
  },
  {
   "cell_type": "code",
   "execution_count": 54,
   "metadata": {},
   "outputs": [],
   "source": [
    "region='Caudate'"
   ]
  },
  {
   "cell_type": "code",
   "execution_count": 49,
   "metadata": {},
   "outputs": [
    {
     "name": "stdout",
     "output_type": "stream",
     "text": [
      "Running randomise for sub-groups analysis:\n",
      "--- Subgroups in 3_Day | MD | Caudate ---\n",
      "\n",
      "randomise_parallel         -i /export2/DATA/HIS/HIS_server/analysis/dwi_data/stats_alt_reg/MD/SUBGROUPS_in_3_Day_AFTER_minus_BEFORE_MD         -o /export2/DATA/HIS/HIS_server/analysis/dwi_data/stats_alt_reg/MD/SUBGROUPS_in_3_Day_AFTER_minus_BEFORE_MD_Caudate         -m /export2/DATA/HIS/HIS_server/DTI_assitance_files/masks/Harvard-Oxford/CaudateHead_Y-larger-than-1-mask.nii.gz         -d /export2/DATA/HIS/HIS_server/analysis/dwi_data/stats_alt_reg/models/sub_groups/design_unpaired_ttest_subgroups_in_3_Day.mat         -t /export2/DATA/HIS/HIS_server/analysis/dwi_data/stats_alt_reg/models/sub_groups/design_unpaired_ttest_subgroups_in_3_Day.con          -n 6000 -C 3.1\n"
     ]
    }
   ],
   "source": [
    "runRandomiseSubgroups(subgroups_in, map_type, region)"
   ]
  },
  {
   "cell_type": "code",
   "execution_count": 55,
   "metadata": {},
   "outputs": [
    {
     "name": "stdout",
     "output_type": "stream",
     "text": [
      "Testing stats for sub-groups analysis:\n",
      "--- Subgroups in 3_Day | MD | Caudate ---\n",
      "\n",
      "Goal-directed > Test Habitual \n",
      "\n",
      "Cluster Index\tVoxels\tcorrp1-p-MAX\tcorrp1-p-MAX X (vox)\tcorrp1-p-MAX Y (vox)\tcorrp1-p-MAX Z (vox)\tcorrp1-p-COG X (vox)\tcorrp1-p-COG Y (vox)\tcorrp1-p-COG Z (vox)\tCOPE-MAX\tCOPE-MAX X (vox)\tCOPE-MAX Y (vox)\tCOPE-MAX Z (vox)\tCOPE-MEAN\n",
      "\n",
      "Test Habitual > Goal-Directed \n",
      "\n",
      "Cluster Index\tVoxels\tcorrp1-p-MAX\tcorrp1-p-MAX X (vox)\tcorrp1-p-MAX Y (vox)\tcorrp1-p-MAX Z (vox)\tcorrp1-p-COG X (vox)\tcorrp1-p-COG Y (vox)\tcorrp1-p-COG Z (vox)\tCOPE-MAX\tCOPE-MAX X (vox)\tCOPE-MAX Y (vox)\tCOPE-MAX Z (vox)\tCOPE-MEAN\n",
      "1\t8\t0.93\t38\t66\t45\t37.9\t67.2\t45.5\t3.62\t38\t67\t46\t3.37\n",
      "\n"
     ]
    }
   ],
   "source": [
    "# Get cluster info:\n",
    "getClusterInfoSubgroups(subgroups_in, map_type, region, ReversedSigThresh='0.90')"
   ]
  },
  {
   "cell_type": "markdown",
   "metadata": {},
   "source": [
    ">>>>> RESULTS:"
   ]
  },
  {
   "cell_type": "markdown",
   "metadata": {},
   "source": [
    "### vmPFC - MD"
   ]
  },
  {
   "cell_type": "code",
   "execution_count": 56,
   "metadata": {},
   "outputs": [],
   "source": [
    "region='vmPFC'"
   ]
  },
  {
   "cell_type": "code",
   "execution_count": 52,
   "metadata": {},
   "outputs": [
    {
     "name": "stdout",
     "output_type": "stream",
     "text": [
      "Running randomise for sub-groups analysis:\n",
      "--- Subgroups in 3_Day | MD | vmPFC ---\n",
      "\n",
      "randomise_parallel         -i /export2/DATA/HIS/HIS_server/analysis/dwi_data/stats_alt_reg/MD/SUBGROUPS_in_3_Day_AFTER_minus_BEFORE_MD         -o /export2/DATA/HIS/HIS_server/analysis/dwi_data/stats_alt_reg/MD/SUBGROUPS_in_3_Day_AFTER_minus_BEFORE_MD_vmPFC         -m /export2/DATA/HIS/HIS_server/DTI_assitance_files/masks/Harvard-Oxford/vmPFC-mask.nii.gz         -d /export2/DATA/HIS/HIS_server/analysis/dwi_data/stats_alt_reg/models/sub_groups/design_unpaired_ttest_subgroups_in_3_Day.mat         -t /export2/DATA/HIS/HIS_server/analysis/dwi_data/stats_alt_reg/models/sub_groups/design_unpaired_ttest_subgroups_in_3_Day.con          -n 6000 -C 3.1\n"
     ]
    }
   ],
   "source": [
    "runRandomiseSubgroups(subgroups_in, map_type, region)"
   ]
  },
  {
   "cell_type": "code",
   "execution_count": 57,
   "metadata": {},
   "outputs": [
    {
     "name": "stdout",
     "output_type": "stream",
     "text": [
      "Testing stats for sub-groups analysis:\n",
      "--- Subgroups in 3_Day | MD | vmPFC ---\n",
      "\n",
      "Goal-directed > Test Habitual \n",
      "\n",
      "Cluster Index\tVoxels\tcorrp1-p-MAX\tcorrp1-p-MAX X (vox)\tcorrp1-p-MAX Y (vox)\tcorrp1-p-MAX Z (vox)\tcorrp1-p-COG X (vox)\tcorrp1-p-COG Y (vox)\tcorrp1-p-COG Z (vox)\tCOPE-MAX\tCOPE-MAX X (vox)\tCOPE-MAX Y (vox)\tCOPE-MAX Z (vox)\tCOPE-MEAN\n",
      "\n",
      "Test Habitual > Goal-Directed \n",
      "\n",
      "Cluster Index\tVoxels\tcorrp1-p-MAX\tcorrp1-p-MAX X (vox)\tcorrp1-p-MAX Y (vox)\tcorrp1-p-MAX Z (vox)\tcorrp1-p-COG X (vox)\tcorrp1-p-COG Y (vox)\tcorrp1-p-COG Z (vox)\tCOPE-MAX\tCOPE-MAX X (vox)\tCOPE-MAX Y (vox)\tCOPE-MAX Z (vox)\tCOPE-MEAN\n",
      "\n"
     ]
    }
   ],
   "source": [
    "# Get cluster info:\n",
    "getClusterInfoSubgroups(subgroups_in, map_type, region, ReversedSigThresh='0.90')"
   ]
  },
  {
   "cell_type": "markdown",
   "metadata": {},
   "source": [
    ">>>>> RESULTS:"
   ]
  },
  {
   "cell_type": "code",
   "execution_count": 58,
   "metadata": {},
   "outputs": [
    {
     "name": "stdout",
     "output_type": "stream",
     "text": [
      "Testing stats for sub-groups analysis:\n",
      "--- Subgroups in 1_Day | FA | whole_brain ---\n",
      "\n",
      "Goal-directed > Test Habitual \n",
      "\n",
      "Cluster Index\tVoxels\tcorrp1-p-MAX\tcorrp1-p-MAX X (vox)\tcorrp1-p-MAX Y (vox)\tcorrp1-p-MAX Z (vox)\tcorrp1-p-COG X (vox)\tcorrp1-p-COG Y (vox)\tcorrp1-p-COG Z (vox)\tCOPE-MAX\tCOPE-MAX X (vox)\tCOPE-MAX Y (vox)\tCOPE-MAX Z (vox)\tCOPE-MEAN\n",
      "\n",
      "Test Habitual > Goal-Directed \n",
      "\n",
      "Cluster Index\tVoxels\tcorrp1-p-MAX\tcorrp1-p-MAX X (vox)\tcorrp1-p-MAX Y (vox)\tcorrp1-p-MAX Z (vox)\tcorrp1-p-COG X (vox)\tcorrp1-p-COG Y (vox)\tcorrp1-p-COG Z (vox)\tCOPE-MAX\tCOPE-MAX X (vox)\tCOPE-MAX Y (vox)\tCOPE-MAX Z (vox)\tCOPE-MEAN\n",
      "\n",
      "Testing stats for sub-groups analysis:\n",
      "--- Subgroups in 1_Day | FA | Putamen ---\n",
      "\n",
      "Goal-directed > Test Habitual \n",
      "\n",
      "Cluster Index\tVoxels\tcorrp1-p-MAX\tcorrp1-p-MAX X (vox)\tcorrp1-p-MAX Y (vox)\tcorrp1-p-MAX Z (vox)\tcorrp1-p-COG X (vox)\tcorrp1-p-COG Y (vox)\tcorrp1-p-COG Z (vox)\tCOPE-MAX\tCOPE-MAX X (vox)\tCOPE-MAX Y (vox)\tCOPE-MAX Z (vox)\tCOPE-MEAN\n",
      "\n",
      "Test Habitual > Goal-Directed \n",
      "\n",
      "Cluster Index\tVoxels\tcorrp1-p-MAX\tcorrp1-p-MAX X (vox)\tcorrp1-p-MAX Y (vox)\tcorrp1-p-MAX Z (vox)\tcorrp1-p-COG X (vox)\tcorrp1-p-COG Y (vox)\tcorrp1-p-COG Z (vox)\tCOPE-MAX\tCOPE-MAX X (vox)\tCOPE-MAX Y (vox)\tCOPE-MAX Z (vox)\tCOPE-MEAN\n",
      "\n",
      "Testing stats for sub-groups analysis:\n",
      "--- Subgroups in 1_Day | FA | Caudate ---\n",
      "\n",
      "Goal-directed > Test Habitual \n",
      "\n",
      "Cluster Index\tVoxels\tcorrp1-p-MAX\tcorrp1-p-MAX X (vox)\tcorrp1-p-MAX Y (vox)\tcorrp1-p-MAX Z (vox)\tcorrp1-p-COG X (vox)\tcorrp1-p-COG Y (vox)\tcorrp1-p-COG Z (vox)\tCOPE-MAX\tCOPE-MAX X (vox)\tCOPE-MAX Y (vox)\tCOPE-MAX Z (vox)\tCOPE-MEAN\n",
      "\n",
      "Test Habitual > Goal-Directed \n",
      "\n",
      "Cluster Index\tVoxels\tcorrp1-p-MAX\tcorrp1-p-MAX X (vox)\tcorrp1-p-MAX Y (vox)\tcorrp1-p-MAX Z (vox)\tcorrp1-p-COG X (vox)\tcorrp1-p-COG Y (vox)\tcorrp1-p-COG Z (vox)\tCOPE-MAX\tCOPE-MAX X (vox)\tCOPE-MAX Y (vox)\tCOPE-MAX Z (vox)\tCOPE-MEAN\n",
      "\n",
      "Testing stats for sub-groups analysis:\n",
      "--- Subgroups in 1_Day | FA | vmPFC ---\n",
      "\n",
      "Goal-directed > Test Habitual \n",
      "\n",
      "Cluster Index\tVoxels\tcorrp1-p-MAX\tcorrp1-p-MAX X (vox)\tcorrp1-p-MAX Y (vox)\tcorrp1-p-MAX Z (vox)\tcorrp1-p-COG X (vox)\tcorrp1-p-COG Y (vox)\tcorrp1-p-COG Z (vox)\tCOPE-MAX\tCOPE-MAX X (vox)\tCOPE-MAX Y (vox)\tCOPE-MAX Z (vox)\tCOPE-MEAN\n",
      "\n",
      "Test Habitual > Goal-Directed \n",
      "\n",
      "Cluster Index\tVoxels\tcorrp1-p-MAX\tcorrp1-p-MAX X (vox)\tcorrp1-p-MAX Y (vox)\tcorrp1-p-MAX Z (vox)\tcorrp1-p-COG X (vox)\tcorrp1-p-COG Y (vox)\tcorrp1-p-COG Z (vox)\tCOPE-MAX\tCOPE-MAX X (vox)\tCOPE-MAX Y (vox)\tCOPE-MAX Z (vox)\tCOPE-MEAN\n",
      "\n",
      "Testing stats for sub-groups analysis:\n",
      "--- Subgroups in 1_Day | MD | whole_brain ---\n",
      "\n",
      "Goal-directed > Test Habitual \n",
      "\n",
      "Cluster Index\tVoxels\tcorrp1-p-MAX\tcorrp1-p-MAX X (vox)\tcorrp1-p-MAX Y (vox)\tcorrp1-p-MAX Z (vox)\tcorrp1-p-COG X (vox)\tcorrp1-p-COG Y (vox)\tcorrp1-p-COG Z (vox)\tCOPE-MAX\tCOPE-MAX X (vox)\tCOPE-MAX Y (vox)\tCOPE-MAX Z (vox)\tCOPE-MEAN\n",
      "\n",
      "Test Habitual > Goal-Directed \n",
      "\n",
      "Cluster Index\tVoxels\tcorrp1-p-MAX\tcorrp1-p-MAX X (vox)\tcorrp1-p-MAX Y (vox)\tcorrp1-p-MAX Z (vox)\tcorrp1-p-COG X (vox)\tcorrp1-p-COG Y (vox)\tcorrp1-p-COG Z (vox)\tCOPE-MAX\tCOPE-MAX X (vox)\tCOPE-MAX Y (vox)\tCOPE-MAX Z (vox)\tCOPE-MEAN\n",
      "\n",
      "Testing stats for sub-groups analysis:\n",
      "--- Subgroups in 1_Day | MD | Putamen ---\n",
      "\n",
      "Goal-directed > Test Habitual \n",
      "\n",
      "Cluster Index\tVoxels\tcorrp1-p-MAX\tcorrp1-p-MAX X (vox)\tcorrp1-p-MAX Y (vox)\tcorrp1-p-MAX Z (vox)\tcorrp1-p-COG X (vox)\tcorrp1-p-COG Y (vox)\tcorrp1-p-COG Z (vox)\tCOPE-MAX\tCOPE-MAX X (vox)\tCOPE-MAX Y (vox)\tCOPE-MAX Z (vox)\tCOPE-MEAN\n",
      "\n",
      "Test Habitual > Goal-Directed \n",
      "\n",
      "Cluster Index\tVoxels\tcorrp1-p-MAX\tcorrp1-p-MAX X (vox)\tcorrp1-p-MAX Y (vox)\tcorrp1-p-MAX Z (vox)\tcorrp1-p-COG X (vox)\tcorrp1-p-COG Y (vox)\tcorrp1-p-COG Z (vox)\tCOPE-MAX\tCOPE-MAX X (vox)\tCOPE-MAX Y (vox)\tCOPE-MAX Z (vox)\tCOPE-MEAN\n",
      "\n",
      "Testing stats for sub-groups analysis:\n",
      "--- Subgroups in 1_Day | MD | Caudate ---\n",
      "\n",
      "Goal-directed > Test Habitual \n",
      "\n",
      "Cluster Index\tVoxels\tcorrp1-p-MAX\tcorrp1-p-MAX X (vox)\tcorrp1-p-MAX Y (vox)\tcorrp1-p-MAX Z (vox)\tcorrp1-p-COG X (vox)\tcorrp1-p-COG Y (vox)\tcorrp1-p-COG Z (vox)\tCOPE-MAX\tCOPE-MAX X (vox)\tCOPE-MAX Y (vox)\tCOPE-MAX Z (vox)\tCOPE-MEAN\n",
      "\n",
      "Test Habitual > Goal-Directed \n",
      "\n",
      "Cluster Index\tVoxels\tcorrp1-p-MAX\tcorrp1-p-MAX X (vox)\tcorrp1-p-MAX Y (vox)\tcorrp1-p-MAX Z (vox)\tcorrp1-p-COG X (vox)\tcorrp1-p-COG Y (vox)\tcorrp1-p-COG Z (vox)\tCOPE-MAX\tCOPE-MAX X (vox)\tCOPE-MAX Y (vox)\tCOPE-MAX Z (vox)\tCOPE-MEAN\n",
      "\n",
      "Testing stats for sub-groups analysis:\n",
      "--- Subgroups in 1_Day | MD | vmPFC ---\n",
      "\n",
      "Goal-directed > Test Habitual \n",
      "\n",
      "Cluster Index\tVoxels\tcorrp1-p-MAX\tcorrp1-p-MAX X (vox)\tcorrp1-p-MAX Y (vox)\tcorrp1-p-MAX Z (vox)\tcorrp1-p-COG X (vox)\tcorrp1-p-COG Y (vox)\tcorrp1-p-COG Z (vox)\tCOPE-MAX\tCOPE-MAX X (vox)\tCOPE-MAX Y (vox)\tCOPE-MAX Z (vox)\tCOPE-MEAN\n",
      "\n",
      "Test Habitual > Goal-Directed \n",
      "\n",
      "Cluster Index\tVoxels\tcorrp1-p-MAX\tcorrp1-p-MAX X (vox)\tcorrp1-p-MAX Y (vox)\tcorrp1-p-MAX Z (vox)\tcorrp1-p-COG X (vox)\tcorrp1-p-COG Y (vox)\tcorrp1-p-COG Z (vox)\tCOPE-MAX\tCOPE-MAX X (vox)\tCOPE-MAX Y (vox)\tCOPE-MAX Z (vox)\tCOPE-MEAN\n",
      "\n",
      "Testing stats for sub-groups analysis:\n",
      "--- Subgroups in 3_Day | FA | whole_brain ---\n",
      "\n",
      "Goal-directed > Test Habitual \n",
      "\n",
      "Cluster Index\tVoxels\tcorrp1-p-MAX\tcorrp1-p-MAX X (vox)\tcorrp1-p-MAX Y (vox)\tcorrp1-p-MAX Z (vox)\tcorrp1-p-COG X (vox)\tcorrp1-p-COG Y (vox)\tcorrp1-p-COG Z (vox)\tCOPE-MAX\tCOPE-MAX X (vox)\tCOPE-MAX Y (vox)\tCOPE-MAX Z (vox)\tCOPE-MEAN\n",
      "\n",
      "Test Habitual > Goal-Directed \n",
      "\n",
      "Cluster Index\tVoxels\tcorrp1-p-MAX\tcorrp1-p-MAX X (vox)\tcorrp1-p-MAX Y (vox)\tcorrp1-p-MAX Z (vox)\tcorrp1-p-COG X (vox)\tcorrp1-p-COG Y (vox)\tcorrp1-p-COG Z (vox)\tCOPE-MAX\tCOPE-MAX X (vox)\tCOPE-MAX Y (vox)\tCOPE-MAX Z (vox)\tCOPE-MEAN\n",
      "1\t249\t0.969\t48\t53\t16\t44.6\t53.1\t24.8\t5.62\t39\t54\t27\t3.56\n",
      "\n",
      "Testing stats for sub-groups analysis:\n",
      "--- Subgroups in 3_Day | FA | Putamen ---\n",
      "\n",
      "Goal-directed > Test Habitual \n",
      "\n",
      "Cluster Index\tVoxels\tcorrp1-p-MAX\tcorrp1-p-MAX X (vox)\tcorrp1-p-MAX Y (vox)\tcorrp1-p-MAX Z (vox)\tcorrp1-p-COG X (vox)\tcorrp1-p-COG Y (vox)\tcorrp1-p-COG Z (vox)\tCOPE-MAX\tCOPE-MAX X (vox)\tCOPE-MAX Y (vox)\tCOPE-MAX Z (vox)\tCOPE-MEAN\n",
      "\n",
      "Test Habitual > Goal-Directed \n",
      "\n",
      "Cluster Index\tVoxels\tcorrp1-p-MAX\tcorrp1-p-MAX X (vox)\tcorrp1-p-MAX Y (vox)\tcorrp1-p-MAX Z (vox)\tcorrp1-p-COG X (vox)\tcorrp1-p-COG Y (vox)\tcorrp1-p-COG Z (vox)\tCOPE-MAX\tCOPE-MAX X (vox)\tCOPE-MAX Y (vox)\tCOPE-MAX Z (vox)\tCOPE-MEAN\n",
      "\n",
      "Testing stats for sub-groups analysis:\n",
      "--- Subgroups in 3_Day | FA | Caudate ---\n",
      "\n",
      "Goal-directed > Test Habitual \n",
      "\n",
      "Cluster Index\tVoxels\tcorrp1-p-MAX\tcorrp1-p-MAX X (vox)\tcorrp1-p-MAX Y (vox)\tcorrp1-p-MAX Z (vox)\tcorrp1-p-COG X (vox)\tcorrp1-p-COG Y (vox)\tcorrp1-p-COG Z (vox)\tCOPE-MAX\tCOPE-MAX X (vox)\tCOPE-MAX Y (vox)\tCOPE-MAX Z (vox)\tCOPE-MEAN\n",
      "\n",
      "Test Habitual > Goal-Directed \n",
      "\n",
      "Cluster Index\tVoxels\tcorrp1-p-MAX\tcorrp1-p-MAX X (vox)\tcorrp1-p-MAX Y (vox)\tcorrp1-p-MAX Z (vox)\tcorrp1-p-COG X (vox)\tcorrp1-p-COG Y (vox)\tcorrp1-p-COG Z (vox)\tCOPE-MAX\tCOPE-MAX X (vox)\tCOPE-MAX Y (vox)\tCOPE-MAX Z (vox)\tCOPE-MEAN\n",
      "\n",
      "Testing stats for sub-groups analysis:\n",
      "--- Subgroups in 3_Day | FA | vmPFC ---\n",
      "\n",
      "Goal-directed > Test Habitual \n",
      "\n",
      "Cluster Index\tVoxels\tcorrp1-p-MAX\tcorrp1-p-MAX X (vox)\tcorrp1-p-MAX Y (vox)\tcorrp1-p-MAX Z (vox)\tcorrp1-p-COG X (vox)\tcorrp1-p-COG Y (vox)\tcorrp1-p-COG Z (vox)\tCOPE-MAX\tCOPE-MAX X (vox)\tCOPE-MAX Y (vox)\tCOPE-MAX Z (vox)\tCOPE-MEAN\n",
      "\n",
      "Test Habitual > Goal-Directed \n",
      "\n",
      "Cluster Index\tVoxels\tcorrp1-p-MAX\tcorrp1-p-MAX X (vox)\tcorrp1-p-MAX Y (vox)\tcorrp1-p-MAX Z (vox)\tcorrp1-p-COG X (vox)\tcorrp1-p-COG Y (vox)\tcorrp1-p-COG Z (vox)\tCOPE-MAX\tCOPE-MAX X (vox)\tCOPE-MAX Y (vox)\tCOPE-MAX Z (vox)\tCOPE-MEAN\n",
      "\n",
      "Testing stats for sub-groups analysis:\n",
      "--- Subgroups in 3_Day | MD | whole_brain ---\n",
      "\n",
      "Goal-directed > Test Habitual \n",
      "\n",
      "Cluster Index\tVoxels\tcorrp1-p-MAX\tcorrp1-p-MAX X (vox)\tcorrp1-p-MAX Y (vox)\tcorrp1-p-MAX Z (vox)\tcorrp1-p-COG X (vox)\tcorrp1-p-COG Y (vox)\tcorrp1-p-COG Z (vox)\tCOPE-MAX\tCOPE-MAX X (vox)\tCOPE-MAX Y (vox)\tCOPE-MAX Z (vox)\tCOPE-MEAN\n",
      "\n",
      "Test Habitual > Goal-Directed \n",
      "\n",
      "Cluster Index\tVoxels\tcorrp1-p-MAX\tcorrp1-p-MAX X (vox)\tcorrp1-p-MAX Y (vox)\tcorrp1-p-MAX Z (vox)\tcorrp1-p-COG X (vox)\tcorrp1-p-COG Y (vox)\tcorrp1-p-COG Z (vox)\tCOPE-MAX\tCOPE-MAX X (vox)\tCOPE-MAX Y (vox)\tCOPE-MAX Z (vox)\tCOPE-MEAN\n",
      "\n",
      "Testing stats for sub-groups analysis:\n",
      "--- Subgroups in 3_Day | MD | Putamen ---\n",
      "\n",
      "Goal-directed > Test Habitual \n",
      "\n",
      "Cluster Index\tVoxels\tcorrp1-p-MAX\tcorrp1-p-MAX X (vox)\tcorrp1-p-MAX Y (vox)\tcorrp1-p-MAX Z (vox)\tcorrp1-p-COG X (vox)\tcorrp1-p-COG Y (vox)\tcorrp1-p-COG Z (vox)\tCOPE-MAX\tCOPE-MAX X (vox)\tCOPE-MAX Y (vox)\tCOPE-MAX Z (vox)\tCOPE-MEAN\n",
      "\n",
      "Test Habitual > Goal-Directed \n",
      "\n",
      "Cluster Index\tVoxels\tcorrp1-p-MAX\tcorrp1-p-MAX X (vox)\tcorrp1-p-MAX Y (vox)\tcorrp1-p-MAX Z (vox)\tcorrp1-p-COG X (vox)\tcorrp1-p-COG Y (vox)\tcorrp1-p-COG Z (vox)\tCOPE-MAX\tCOPE-MAX X (vox)\tCOPE-MAX Y (vox)\tCOPE-MAX Z (vox)\tCOPE-MEAN\n",
      "\n",
      "Testing stats for sub-groups analysis:\n",
      "--- Subgroups in 3_Day | MD | Caudate ---\n",
      "\n",
      "Goal-directed > Test Habitual \n",
      "\n",
      "Cluster Index\tVoxels\tcorrp1-p-MAX\tcorrp1-p-MAX X (vox)\tcorrp1-p-MAX Y (vox)\tcorrp1-p-MAX Z (vox)\tcorrp1-p-COG X (vox)\tcorrp1-p-COG Y (vox)\tcorrp1-p-COG Z (vox)\tCOPE-MAX\tCOPE-MAX X (vox)\tCOPE-MAX Y (vox)\tCOPE-MAX Z (vox)\tCOPE-MEAN\n",
      "\n",
      "Test Habitual > Goal-Directed \n",
      "\n",
      "Cluster Index\tVoxels\tcorrp1-p-MAX\tcorrp1-p-MAX X (vox)\tcorrp1-p-MAX Y (vox)\tcorrp1-p-MAX Z (vox)\tcorrp1-p-COG X (vox)\tcorrp1-p-COG Y (vox)\tcorrp1-p-COG Z (vox)\tCOPE-MAX\tCOPE-MAX X (vox)\tCOPE-MAX Y (vox)\tCOPE-MAX Z (vox)\tCOPE-MEAN\n",
      "1\t8\t0.93\t38\t66\t45\t37.9\t67.2\t45.5\t3.62\t38\t67\t46\t3.37\n",
      "\n",
      "Testing stats for sub-groups analysis:\n",
      "--- Subgroups in 3_Day | MD | vmPFC ---\n",
      "\n",
      "Goal-directed > Test Habitual \n",
      "\n",
      "Cluster Index\tVoxels\tcorrp1-p-MAX\tcorrp1-p-MAX X (vox)\tcorrp1-p-MAX Y (vox)\tcorrp1-p-MAX Z (vox)\tcorrp1-p-COG X (vox)\tcorrp1-p-COG Y (vox)\tcorrp1-p-COG Z (vox)\tCOPE-MAX\tCOPE-MAX X (vox)\tCOPE-MAX Y (vox)\tCOPE-MAX Z (vox)\tCOPE-MEAN\n",
      "\n",
      "Test Habitual > Goal-Directed \n",
      "\n",
      "Cluster Index\tVoxels\tcorrp1-p-MAX\tcorrp1-p-MAX X (vox)\tcorrp1-p-MAX Y (vox)\tcorrp1-p-MAX Z (vox)\tcorrp1-p-COG X (vox)\tcorrp1-p-COG Y (vox)\tcorrp1-p-COG Z (vox)\tCOPE-MAX\tCOPE-MAX X (vox)\tCOPE-MAX Y (vox)\tCOPE-MAX Z (vox)\tCOPE-MEAN\n",
      "\n"
     ]
    }
   ],
   "source": [
    "# Get cluster info:\n",
    "for subgroups_in in ['1_Day','3_Day']:\n",
    "    for map_type in ['FA','MD']:\n",
    "        for region in ['whole_brain','Putamen','Caudate','vmPFC']:\n",
    "            getClusterInfoSubgroups(subgroups_in, map_type, region, ReversedSigThresh='0.90')\n"
   ]
  }
 ],
 "metadata": {
  "interpreter": {
   "hash": "31f2aee4e71d21fbe5cf8b01ff0e069b9275f58929596ceb00d14d90e3e16cd6"
  },
  "kernelspec": {
   "display_name": "Python 3.8.2 64-bit",
   "language": "python",
   "name": "python3"
  },
  "language_info": {
   "codemirror_mode": {
    "name": "ipython",
    "version": 3
   },
   "file_extension": ".py",
   "mimetype": "text/x-python",
   "name": "python",
   "nbconvert_exporter": "python",
   "pygments_lexer": "ipython3",
   "version": "3.6.8"
  },
  "orig_nbformat": 4
 },
 "nbformat": 4,
 "nbformat_minor": 2
}
