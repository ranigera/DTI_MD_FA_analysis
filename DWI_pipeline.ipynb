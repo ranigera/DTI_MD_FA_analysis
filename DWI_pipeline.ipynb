{
 "cells": [
  {
   "cell_type": "markdown",
   "metadata": {},
   "source": [
    "# Analyze DTI"
   ]
  },
  {
   "cell_type": "code",
   "execution_count": 1,
   "metadata": {},
   "outputs": [],
   "source": [
    "# import packages\n",
    "# -----------------------------------------------------------------------------\n",
    "# import pip\n",
    "# pip.main(['install', 'seaborn']) \n",
    "import pandas as pd\n",
    "import numpy as np\n",
    "#import matplotlib.pyplot as plt\n",
    "#import seaborn as sns\n",
    "import os\n",
    "import glob\n",
    "import subprocess\n",
    "import sys\n",
    "import json\n",
    "import platform\n",
    "import socket"
   ]
  },
  {
   "cell_type": "code",
   "execution_count": 2,
   "metadata": {},
   "outputs": [],
   "source": [
    "# parameters\n",
    "# -----------------------------------------------------------------------------\n",
    "MANUALLY_EXCLUDE_SUBJECTS = []\n",
    "\n",
    "running_on = 'server' if 'Linux' in platform.system() else 'my_mac'\n",
    "\n",
    "if running_on == 'my_mac':\n",
    "    data_path = '/Users/ranigera/Dropbox/DTI_tests'\n",
    "    preproc_path = '/Users/ranigera/Dropbox/DTI_tests/preproc'\n",
    "    dti_path = '/Users/ranigera/Dropbox/DTI_tests/dti'\n",
    "    stats_path = '/Users/ranigera/Dropbox/DTI_tests/stats'\n",
    "    models_path = stats_path + '/models'\n",
    "    launch_files_path = '/Users/ranigera/Dropbox/DTI_analysis/launch_files'\n",
    "else:\n",
    "    data_path = '/export2/DATA/HIS/HIS_server/BIDS'\n",
    "    preproc_path = '/export2/DATA/HIS/HIS_server/analysis/dwi_data/preproc'\n",
    "    dti_path = '/export2/DATA/HIS/HIS_server/analysis/dwi_data/dti'\n",
    "    stats_path = '/export2/DATA/HIS/HIS_server/analysis/dwi_data/stats'\n",
    "    models_path = stats_path + '/models'\n",
    "    launch_files_path = '/export2/DATA/HIS/HIS_server/codes_dwi/launch_files'\n",
    "    behav_data_path = '/export2/DATA/HIS/HIS_server/analysis/behavior_analysis_output/my_databases/txt_data'\n",
    "\n",
    "fmriPrepAnatomyDerivatives_path = data_path + '/derivatives/fmriprep'\n",
    "\n",
    "expectedVolums = {\n",
    "    'AP': 69,\n",
    "    'PA' : 7,\n",
    "    }\n",
    "expectedB0s_indxs = {\n",
    "    'AP_before': [0, 1, 18, 35, 52],\n",
    "    'PA_before': [0, 2, 3, 4, 5, 6],\n",
    "    'AP_after': [0, 1, 18, 35, 52],\n",
    "    'PA_after': [0, 2, 3, 4, 5, 6]\n",
    "    }\n",
    "\n",
    "n_cores_TOPUP = 2\n",
    "\n",
    "# setting EDDY stuff:\n",
    "EDDY_command = 'eddy_openmp' if running_on == 'server' else 'eddy' # for the boost server\n",
    "EDDY_command = 'eddy_cuda10.2' if running_on == 'server' else 'eddy' # for the cheshire server\n",
    "ssh_command_for_cheshire_server = 'ssh shirangera@cheshire.tau.ac.il' if 'boost' in socket.gethostname() else ''\n",
    "\n",
    "n_expected_EDDY_output_files = 13\n",
    "n_cores_EDDY = 4 # relevant only for running using files (currently disabled as I run it on cheshire's GPU)\n",
    "\n",
    "n_expected_DTIFIT_output_files = 10\n",
    "\n",
    "masks_paths = {\n",
    "    'Caudate': '/export2/DATA/HIS/HIS_server/DTI_assitance_files/masks/Harvard-Oxford/CaudateHead_Y-larger-than-1-mask.nii.gz',\n",
    "    'Putamen': '/export2/DATA/HIS/HIS_server/DTI_assitance_files/masks/Harvard-Oxford/Putamen-mask.nii.gz',\n",
    "    'vmPFC':   '/export2/DATA/HIS/HIS_server/DTI_assitance_files/masks/Harvard-Oxford/vmPFC-mask.nii.gz',\n",
    "}"
   ]
  },
  {
   "cell_type": "code",
   "execution_count": 3,
   "metadata": {},
   "outputs": [],
   "source": [
    "# Define functions\n",
    "# -----------------------------------------------------------------------------\n",
    "def createSubjectScansBaseNames(subjFolder, data_path):\n",
    "    sub = int(subjFolder.split(\"-\",1)[1])\n",
    "    group = '1day' if sub < 200 else '3day'\n",
    "    last_sess = group[0]\n",
    "    DWI_path_before = os.path.join(data_path, subjFolder, 'ses-1/dwi/')\n",
    "    DWI_path_after = os.path.join(data_path, subjFolder, f'ses-{last_sess}/dwi/')\n",
    "    scansBaseNames = {\n",
    "        'AP_before': f'{os.path.join(DWI_path_before, \"sub-\" + str(sub) + \"_ses-1_acq-ap_run-01_dwi\")}',\n",
    "        'PA_before' : f'{os.path.join(DWI_path_before, \"sub-\" + str(sub) + \"_ses-1_acq-pa_run-01_dwi\")}',\n",
    "        'AP_after' : f'{os.path.join(DWI_path_after, \"sub-\" + str(sub) + \"_ses-\" + last_sess + \"_acq-ap_run-02_dwi\")}',\n",
    "        'PA_after' : f'{os.path.join(DWI_path_after, \"sub-\" + str(sub) + \"_ses-\" + last_sess + \"_acq-pa_run-02_dwi\")}'\n",
    "        }\n",
    "    return scansBaseNames\n",
    "\n",
    "def get_sub_B0_files(subjFolder, scansBaseNames, B0s_indxs):\n",
    "    sub_B0s_files = []\n",
    "    for scan in scansBaseNames.keys():\n",
    "        for B0ind in B0s_indxs[scan]:\n",
    "            B0_file_name = os.path.join(preproc_path, subjFolder, subjFolder + '_' + scan + \"_b0_volInd-\" + str(B0ind) + \".nii.gz\")\n",
    "            sub_B0s_files.append(B0_file_name)\n",
    "    return sub_B0s_files\n"
   ]
  },
  {
   "cell_type": "code",
   "execution_count": 4,
   "metadata": {},
   "outputs": [
    {
     "name": "stdout",
     "output_type": "stream",
     "text": [
      ">> Get sub folders\n"
     ]
    }
   ],
   "source": [
    "# Get folders and remove excluded subjects\n",
    "# -----------------------------------------------------------------------------\n",
    "print('>> Get sub folders')\n",
    "subjFolders = [el for el in os.listdir(data_path) if 'sub' in el]\n",
    "\n",
    "if running_on == 'my_mac':\n",
    "    print('>> Get exclusion list')\n",
    "    with open('/Users/ranigera/Google_Drive_TAU/Experiments/HIS_STUDY/Analysis/codes/paths_and_vars.py') as txtFile:\n",
    "        txt = txtFile.read()\n",
    "    participantsToExclude = [int(el) for el in txt.split('participantsToExclude = [')[1].split(']')[0].replace('\\n','').replace('\\n','').replace(\"'\",\"\").split(',')]\n",
    "\n",
    "    print('>> Remove sub folders of excluded participants in case they are there')\n",
    "    subjFolders = [el for el in subjFolders if int(el.split('-')[1]) not in participantsToExclude]\n",
    "\n",
    "if MANUALLY_EXCLUDE_SUBJECTS:\n",
    "    subjFolders = [el for el in subjFolders if int(el.split('-')[1]) not in MANUALLY_EXCLUDE_SUBJECTS]\n",
    "    \n",
    "subjFolders.sort()"
   ]
  },
  {
   "cell_type": "markdown",
   "metadata": {},
   "source": [
    "## Check for missing scans or wrong phase encoding directions for ALL SUBJECTS "
   ]
  },
  {
   "cell_type": "code",
   "execution_count": 5,
   "metadata": {},
   "outputs": [
    {
     "name": "stdout",
     "output_type": "stream",
     "text": [
      ">> Verify that all the scans exist and that the phase encoding directions are as they should.\n",
      " *** There is a problem with the scanning directions: /export2/DATA/HIS/HIS_server/BIDS/sub-101/ses-1/dwi/sub-101_ses-1_acq-pa_run-01_dwi.json is defined as j-.\n",
      " *** There is a problem with the scanning directions: /export2/DATA/HIS/HIS_server/BIDS/sub-101/ses-1/dwi/sub-101_ses-1_acq-pa_run-02_dwi.json is defined as j-.\n",
      " *** There is a problem with the scanning directions: /export2/DATA/HIS/HIS_server/BIDS/sub-110/ses-1/dwi/sub-110_ses-1_acq-pa_run-01_dwi.json is defined as j-.\n",
      " *** There is a problem with the scanning directions: /export2/DATA/HIS/HIS_server/BIDS/sub-110/ses-1/dwi/sub-110_ses-1_acq-pa_run-02_dwi.json is defined as j-.\n",
      " *** There is a problem with the scanning directions: /export2/DATA/HIS/HIS_server/BIDS/sub-204/ses-3/dwi/sub-204_ses-3_acq-pa_run-02_dwi.json is defined as j-.\n",
      " *** There is a problem with the scanning directions: /export2/DATA/HIS/HIS_server/BIDS/sub-207/ses-1/dwi/sub-207_ses-1_acq-pa_run-01_dwi.json is defined as j-.\n",
      " *** There is a problem with the scanning directions: /export2/DATA/HIS/HIS_server/BIDS/sub-209/ses-1/dwi/sub-209_ses-1_acq-pa_run-01_dwi.json is defined as j-.\n",
      " *** Scan not found: /export2/DATA/HIS/HIS_server/BIDS/sub-255/ses-1/dwi/sub-255_ses-1_acq-pa_run-01_dwi.json\n",
      " *** Scan not found: /export2/DATA/HIS/HIS_server/BIDS/sub-259/ses-3/dwi/sub-259_ses-3_acq-ap_run-02_dwi.json\n",
      " *** Scan not found: /export2/DATA/HIS/HIS_server/BIDS/sub-259/ses-3/dwi/sub-259_ses-3_acq-pa_run-02_dwi.json\n"
     ]
    }
   ],
   "source": [
    "print ('>> Verify that all the scans exist and that the phase encoding directions are as they should.')\n",
    "subjectsWithAProblem = []\n",
    "for subjFolder in subjFolders:\n",
    "    sub = int(subjFolder.split(\"-\",1)[1])\n",
    "    scansBaseNames = createSubjectScansBaseNames(subjFolder, data_path)\n",
    "    for scan in scansBaseNames.keys():\n",
    "        # print(scansBaseNames[scan] + '.json')\n",
    "        # print(scanData['PhaseEncodingDirection'])\n",
    "        if not os.path.exists(scansBaseNames[scan] + '.json'):\n",
    "            subjectsWithAProblem.append(sub)\n",
    "            print(' *** Scan not found: ' + scansBaseNames[scan] + '.json')\n",
    "            continue\n",
    "        with open(scansBaseNames[scan] + '.json') as json_file:        \n",
    "            scanData = json.load(json_file)\n",
    "            if ('acq-ap_' in scansBaseNames[scan] and scanData['PhaseEncodingDirection'] != 'j-') or \\\n",
    "                ('acq-pa_' in scansBaseNames[scan] and scanData['PhaseEncodingDirection'] != 'j'):\n",
    "                subjectsWithAProblem.append(sub)\n",
    "                print(' *** There is a problem with the scanning directions: ' + scansBaseNames[scan] + '.json is defined as ' + scanData['PhaseEncodingDirection'] + '.')\n",
    "                continue\n",
    "\n",
    "subjectsWithAProblem = list(set(subjectsWithAProblem))\n",
    "subjectsWithAProblem.sort()"
   ]
  },
  {
   "cell_type": "code",
   "execution_count": 6,
   "metadata": {},
   "outputs": [
    {
     "name": "stdout",
     "output_type": "stream",
     "text": [
      ">> Remove subjects with a problem and sort the list\n"
     ]
    }
   ],
   "source": [
    "# Remove subjects with a problem\n",
    "# -----------------------------------------------------------------------------\n",
    "print('>> Remove subjects with a problem and sort the list')\n",
    "subjFolders =[el for el in subjFolders if int(el.split('-')[1]) not in subjectsWithAProblem]\n",
    "subjFolders.sort()"
   ]
  },
  {
   "cell_type": "markdown",
   "metadata": {},
   "source": [
    "## Get b0 volume indices and perform bval & bvec QA"
   ]
  },
  {
   "cell_type": "code",
   "execution_count": 7,
   "metadata": {},
   "outputs": [
    {
     "name": "stdout",
     "output_type": "stream",
     "text": [
      "> Verify that data points in the bval files is as expected.\n",
      "> Verify that data points in the bvec files is as expected.\n",
      "> Extract B0s:\n",
      "> Verify that b0 quantity and indices are as expected.\n",
      "> Verify that data points in the bval files is as expected.\n",
      "> Verify that data points in the bvec files is as expected.\n",
      "> Extract B0s:\n",
      "> Verify that b0 quantity and indices are as expected.\n",
      "> Verify that data points in the bval files is as expected.\n",
      "> Verify that data points in the bvec files is as expected.\n",
      "> Extract B0s:\n",
      "> Verify that b0 quantity and indices are as expected.\n",
      "> Verify that data points in the bval files is as expected.\n",
      "> Verify that data points in the bvec files is as expected.\n",
      "> Extract B0s:\n",
      "> Verify that b0 quantity and indices are as expected.\n",
      "> Verify that data points in the bval files is as expected.\n",
      "> Verify that data points in the bvec files is as expected.\n",
      "> Extract B0s:\n",
      "> Verify that b0 quantity and indices are as expected.\n",
      "> Verify that data points in the bval files is as expected.\n",
      "> Verify that data points in the bvec files is as expected.\n",
      "> Extract B0s:\n",
      "> Verify that b0 quantity and indices are as expected.\n",
      "> Verify that data points in the bval files is as expected.\n",
      "> Verify that data points in the bvec files is as expected.\n",
      "> Extract B0s:\n",
      "> Verify that b0 quantity and indices are as expected.\n",
      "> Verify that data points in the bval files is as expected.\n",
      "> Verify that data points in the bvec files is as expected.\n",
      "> Extract B0s:\n",
      "> Verify that b0 quantity and indices are as expected.\n",
      "> Verify that data points in the bval files is as expected.\n",
      "> Verify that data points in the bvec files is as expected.\n",
      "> Extract B0s:\n",
      "> Verify that b0 quantity and indices are as expected.\n",
      "> Verify that data points in the bval files is as expected.\n",
      "> Verify that data points in the bvec files is as expected.\n",
      "> Extract B0s:\n",
      "> Verify that b0 quantity and indices are as expected.\n",
      "> Verify that data points in the bval files is as expected.\n",
      "> Verify that data points in the bvec files is as expected.\n",
      "> Extract B0s:\n",
      "> Verify that b0 quantity and indices are as expected.\n",
      "> Verify that data points in the bval files is as expected.\n",
      "> Verify that data points in the bvec files is as expected.\n",
      "> Extract B0s:\n",
      "> Verify that b0 quantity and indices are as expected.\n",
      "> Verify that data points in the bval files is as expected.\n",
      "> Verify that data points in the bvec files is as expected.\n",
      "> Extract B0s:\n",
      "> Verify that b0 quantity and indices are as expected.\n",
      "> Verify that data points in the bval files is as expected.\n",
      "> Verify that data points in the bvec files is as expected.\n",
      "> Extract B0s:\n",
      "> Verify that b0 quantity and indices are as expected.\n",
      "> Verify that data points in the bval files is as expected.\n",
      "> Verify that data points in the bvec files is as expected.\n",
      "> Extract B0s:\n",
      "> Verify that b0 quantity and indices are as expected.\n",
      "> Verify that data points in the bval files is as expected.\n",
      "> Verify that data points in the bvec files is as expected.\n",
      "> Extract B0s:\n",
      "> Verify that b0 quantity and indices are as expected.\n",
      "> Verify that data points in the bval files is as expected.\n",
      "> Verify that data points in the bvec files is as expected.\n",
      "> Extract B0s:\n",
      "> Verify that b0 quantity and indices are as expected.\n",
      "> Verify that data points in the bval files is as expected.\n",
      "> Verify that data points in the bvec files is as expected.\n",
      "> Extract B0s:\n",
      "> Verify that b0 quantity and indices are as expected.\n",
      "> Verify that data points in the bval files is as expected.\n",
      "> Verify that data points in the bvec files is as expected.\n",
      "> Extract B0s:\n",
      "> Verify that b0 quantity and indices are as expected.\n",
      "> Verify that data points in the bval files is as expected.\n",
      "> Verify that data points in the bvec files is as expected.\n",
      "> Extract B0s:\n",
      "> Verify that b0 quantity and indices are as expected.\n",
      "> Verify that data points in the bval files is as expected.\n",
      "> Verify that data points in the bvec files is as expected.\n",
      "> Extract B0s:\n",
      "> Verify that b0 quantity and indices are as expected.\n",
      "> Verify that data points in the bval files is as expected.\n",
      "> Verify that data points in the bvec files is as expected.\n",
      "> Extract B0s:\n",
      "> Verify that b0 quantity and indices are as expected.\n",
      "> Verify that data points in the bval files is as expected.\n",
      "> Verify that data points in the bvec files is as expected.\n",
      "> Extract B0s:\n",
      "> Verify that b0 quantity and indices are as expected.\n",
      "> Verify that data points in the bval files is as expected.\n",
      "> Verify that data points in the bvec files is as expected.\n",
      "> Extract B0s:\n",
      "> Verify that b0 quantity and indices are as expected.\n",
      "> Verify that data points in the bval files is as expected.\n",
      "> Verify that data points in the bvec files is as expected.\n",
      "> Extract B0s:\n",
      "> Verify that b0 quantity and indices are as expected.\n",
      "> Verify that data points in the bval files is as expected.\n",
      "> Verify that data points in the bvec files is as expected.\n",
      "> Extract B0s:\n",
      "> Verify that b0 quantity and indices are as expected.\n",
      "> Verify that data points in the bval files is as expected.\n",
      "> Verify that data points in the bvec files is as expected.\n",
      "> Extract B0s:\n",
      "> Verify that b0 quantity and indices are as expected.\n",
      "> Verify that data points in the bval files is as expected.\n",
      "> Verify that data points in the bvec files is as expected.\n",
      "> Extract B0s:\n",
      "> Verify that b0 quantity and indices are as expected.\n",
      "> Verify that data points in the bval files is as expected.\n",
      "> Verify that data points in the bvec files is as expected.\n",
      "> Extract B0s:\n",
      "> Verify that b0 quantity and indices are as expected.\n",
      "> Verify that data points in the bval files is as expected.\n",
      "> Verify that data points in the bvec files is as expected.\n",
      "> Extract B0s:\n",
      "> Verify that b0 quantity and indices are as expected.\n",
      "> Verify that data points in the bval files is as expected.\n",
      "> Verify that data points in the bvec files is as expected.\n",
      "> Extract B0s:\n",
      "> Verify that b0 quantity and indices are as expected.\n",
      "> Verify that data points in the bval files is as expected.\n",
      "> Verify that data points in the bvec files is as expected.\n",
      "> Extract B0s:\n",
      "> Verify that b0 quantity and indices are as expected.\n",
      "> Verify that data points in the bval files is as expected.\n",
      "> Verify that data points in the bvec files is as expected.\n",
      "> Extract B0s:\n",
      "> Verify that b0 quantity and indices are as expected.\n",
      "> Verify that data points in the bval files is as expected.\n",
      "> Verify that data points in the bvec files is as expected.\n",
      "> Extract B0s:\n",
      "> Verify that b0 quantity and indices are as expected.\n",
      "> Verify that data points in the bval files is as expected.\n",
      "> Verify that data points in the bvec files is as expected.\n",
      "> Extract B0s:\n",
      "> Verify that b0 quantity and indices are as expected.\n",
      "> Verify that data points in the bval files is as expected.\n",
      "> Verify that data points in the bvec files is as expected.\n",
      "> Extract B0s:\n",
      "> Verify that b0 quantity and indices are as expected.\n",
      "> Verify that data points in the bval files is as expected.\n",
      "> Verify that data points in the bvec files is as expected.\n",
      "> Extract B0s:\n",
      "> Verify that b0 quantity and indices are as expected.\n",
      "> Verify that data points in the bval files is as expected.\n",
      "> Verify that data points in the bvec files is as expected.\n",
      "> Extract B0s:\n",
      "> Verify that b0 quantity and indices are as expected.\n",
      "> Verify that data points in the bval files is as expected.\n",
      "> Verify that data points in the bvec files is as expected.\n",
      "> Extract B0s:\n",
      "> Verify that b0 quantity and indices are as expected.\n",
      "> Verify that data points in the bval files is as expected.\n",
      "> Verify that data points in the bvec files is as expected.\n",
      "> Extract B0s:\n",
      "> Verify that b0 quantity and indices are as expected.\n",
      "> Verify that data points in the bval files is as expected.\n",
      "> Verify that data points in the bvec files is as expected.\n",
      "> Extract B0s:\n",
      "> Verify that b0 quantity and indices are as expected.\n",
      "> Verify that data points in the bval files is as expected.\n",
      "> Verify that data points in the bvec files is as expected.\n",
      "> Extract B0s:\n",
      "> Verify that b0 quantity and indices are as expected.\n",
      "> Verify that data points in the bval files is as expected.\n",
      "> Verify that data points in the bvec files is as expected.\n",
      "> Extract B0s:\n",
      "> Verify that b0 quantity and indices are as expected.\n",
      "> Verify that data points in the bval files is as expected.\n",
      "> Verify that data points in the bvec files is as expected.\n",
      "> Extract B0s:\n",
      "> Verify that b0 quantity and indices are as expected.\n",
      "> Verify that data points in the bval files is as expected.\n",
      "> Verify that data points in the bvec files is as expected.\n",
      "> Extract B0s:\n",
      "> Verify that b0 quantity and indices are as expected.\n",
      "> Verify that data points in the bval files is as expected.\n",
      "> Verify that data points in the bvec files is as expected.\n",
      "> Extract B0s:\n",
      "> Verify that b0 quantity and indices are as expected.\n",
      "> Verify that data points in the bval files is as expected.\n",
      "> Verify that data points in the bvec files is as expected.\n",
      "> Extract B0s:\n",
      "> Verify that b0 quantity and indices are as expected.\n",
      "> Verify that data points in the bval files is as expected.\n",
      "> Verify that data points in the bvec files is as expected.\n",
      "> Extract B0s:\n",
      "> Verify that b0 quantity and indices are as expected.\n",
      "> Verify that data points in the bval files is as expected.\n",
      "> Verify that data points in the bvec files is as expected.\n",
      "> Extract B0s:\n",
      "> Verify that b0 quantity and indices are as expected.\n",
      "> Verify that data points in the bval files is as expected.\n",
      "> Verify that data points in the bvec files is as expected.\n",
      "> Extract B0s:\n",
      "> Verify that b0 quantity and indices are as expected.\n",
      "> Verify that data points in the bval files is as expected.\n",
      "> Verify that data points in the bvec files is as expected.\n",
      "> Extract B0s:\n",
      "> Verify that b0 quantity and indices are as expected.\n",
      "> Verify that data points in the bval files is as expected.\n",
      "> Verify that data points in the bvec files is as expected.\n",
      "> Extract B0s:\n",
      "> Verify that b0 quantity and indices are as expected.\n",
      "> Verify that data points in the bval files is as expected.\n",
      "> Verify that data points in the bvec files is as expected.\n",
      "> Extract B0s:\n",
      "> Verify that b0 quantity and indices are as expected.\n",
      "> Verify that data points in the bval files is as expected.\n",
      "> Verify that data points in the bvec files is as expected.\n",
      "> Extract B0s:\n",
      "> Verify that b0 quantity and indices are as expected.\n",
      "> Verify that data points in the bval files is as expected.\n",
      "> Verify that data points in the bvec files is as expected.\n",
      "> Extract B0s:\n",
      "> Verify that b0 quantity and indices are as expected.\n",
      "> Verify that data points in the bval files is as expected.\n",
      "> Verify that data points in the bvec files is as expected.\n",
      "> Extract B0s:\n",
      "> Verify that b0 quantity and indices are as expected.\n",
      "> Verify that data points in the bval files is as expected.\n",
      "> Verify that data points in the bvec files is as expected.\n",
      "> Extract B0s:\n",
      "> Verify that b0 quantity and indices are as expected.\n",
      "> Verify that data points in the bval files is as expected.\n",
      "> Verify that data points in the bvec files is as expected.\n",
      "> Extract B0s:\n",
      "> Verify that b0 quantity and indices are as expected.\n",
      "> Verify that data points in the bval files is as expected.\n",
      "> Verify that data points in the bvec files is as expected.\n",
      "> Extract B0s:\n",
      "> Verify that b0 quantity and indices are as expected.\n",
      "> Verify that data points in the bval files is as expected.\n",
      "> Verify that data points in the bvec files is as expected.\n",
      "> Extract B0s:\n",
      "> Verify that b0 quantity and indices are as expected.\n",
      "> Verify that data points in the bval files is as expected.\n",
      "> Verify that data points in the bvec files is as expected.\n",
      "> Extract B0s:\n",
      "> Verify that b0 quantity and indices are as expected.\n",
      "> Verify that data points in the bval files is as expected.\n",
      "> Verify that data points in the bvec files is as expected.\n",
      "> Extract B0s:\n",
      "> Verify that b0 quantity and indices are as expected.\n",
      "> Verify that data points in the bval files is as expected.\n",
      "> Verify that data points in the bvec files is as expected.\n",
      "> Extract B0s:\n",
      "> Verify that b0 quantity and indices are as expected.\n",
      "> Verify that data points in the bval files is as expected.\n",
      "> Verify that data points in the bvec files is as expected.\n",
      "> Extract B0s:\n",
      "> Verify that b0 quantity and indices are as expected.\n",
      "> Verify that data points in the bval files is as expected.\n",
      "> Verify that data points in the bvec files is as expected.\n",
      "> Extract B0s:\n",
      "> Verify that b0 quantity and indices are as expected.\n",
      "> Verify that data points in the bval files is as expected.\n",
      "> Verify that data points in the bvec files is as expected.\n",
      "> Extract B0s:\n",
      "> Verify that b0 quantity and indices are as expected.\n",
      "> Verify that data points in the bval files is as expected.\n",
      "> Verify that data points in the bvec files is as expected.\n",
      "> Extract B0s:\n",
      "> Verify that b0 quantity and indices are as expected.\n",
      "> Verify that data points in the bval files is as expected.\n",
      "> Verify that data points in the bvec files is as expected.\n",
      "> Extract B0s:\n",
      "> Verify that b0 quantity and indices are as expected.\n",
      "> Verify that data points in the bval files is as expected.\n",
      "> Verify that data points in the bvec files is as expected.\n",
      "> Extract B0s:\n",
      "> Verify that b0 quantity and indices are as expected.\n",
      "> Verify that data points in the bval files is as expected.\n",
      "> Verify that data points in the bvec files is as expected.\n",
      "> Extract B0s:\n",
      "> Verify that b0 quantity and indices are as expected.\n",
      "> Verify that data points in the bval files is as expected.\n",
      "> Verify that data points in the bvec files is as expected.\n",
      "> Extract B0s:\n",
      "> Verify that b0 quantity and indices are as expected.\n",
      "> Verify that data points in the bval files is as expected.\n",
      "> Verify that data points in the bvec files is as expected.\n",
      "> Extract B0s:\n",
      "> Verify that b0 quantity and indices are as expected.\n",
      "> Verify that data points in the bval files is as expected.\n",
      "> Verify that data points in the bvec files is as expected.\n",
      "> Extract B0s:\n",
      "> Verify that b0 quantity and indices are as expected.\n",
      "> Verify that data points in the bval files is as expected.\n",
      "> Verify that data points in the bvec files is as expected.\n",
      "> Extract B0s:\n",
      "> Verify that b0 quantity and indices are as expected.\n",
      "> Verify that data points in the bval files is as expected.\n",
      "> Verify that data points in the bvec files is as expected.\n",
      "> Extract B0s:\n",
      "> Verify that b0 quantity and indices are as expected.\n",
      "> Verify that data points in the bval files is as expected.\n",
      "> Verify that data points in the bvec files is as expected.\n",
      "> Extract B0s:\n",
      "> Verify that b0 quantity and indices are as expected.\n",
      "> Verify that data points in the bval files is as expected.\n",
      "> Verify that data points in the bvec files is as expected.\n",
      "> Extract B0s:\n",
      "> Verify that b0 quantity and indices are as expected.\n",
      "> Verify that data points in the bval files is as expected.\n",
      "> Verify that data points in the bvec files is as expected.\n",
      "> Extract B0s:\n",
      "> Verify that b0 quantity and indices are as expected.\n",
      "> Verify that data points in the bval files is as expected.\n",
      "> Verify that data points in the bvec files is as expected.\n",
      "> Extract B0s:\n",
      "> Verify that b0 quantity and indices are as expected.\n",
      "> Verify that data points in the bval files is as expected.\n",
      "> Verify that data points in the bvec files is as expected.\n",
      "> Extract B0s:\n",
      "> Verify that b0 quantity and indices are as expected.\n",
      "> Verify that data points in the bval files is as expected.\n",
      "> Verify that data points in the bvec files is as expected.\n",
      "> Extract B0s:\n",
      "> Verify that b0 quantity and indices are as expected.\n",
      "> Verify that data points in the bval files is as expected.\n",
      "> Verify that data points in the bvec files is as expected.\n",
      "> Extract B0s:\n",
      "> Verify that b0 quantity and indices are as expected.\n",
      "> Verify that data points in the bval files is as expected.\n",
      "> Verify that data points in the bvec files is as expected.\n",
      "> Extract B0s:\n",
      "> Verify that b0 quantity and indices are as expected.\n",
      "> Verify that data points in the bval files is as expected.\n",
      "> Verify that data points in the bvec files is as expected.\n",
      "> Extract B0s:\n",
      "> Verify that b0 quantity and indices are as expected.\n",
      "> Verify that data points in the bval files is as expected.\n",
      "> Verify that data points in the bvec files is as expected.\n",
      "> Extract B0s:\n",
      "> Verify that b0 quantity and indices are as expected.\n",
      "> Verify that data points in the bval files is as expected.\n",
      "> Verify that data points in the bvec files is as expected.\n",
      "> Extract B0s:\n",
      "> Verify that b0 quantity and indices are as expected.\n",
      "> Verify that data points in the bval files is as expected.\n",
      "> Verify that data points in the bvec files is as expected.\n",
      "> Extract B0s:\n",
      "> Verify that b0 quantity and indices are as expected.\n",
      "> Verify that data points in the bval files is as expected.\n",
      "> Verify that data points in the bvec files is as expected.\n",
      "> Extract B0s:\n",
      "> Verify that b0 quantity and indices are as expected.\n",
      "> Verify that data points in the bval files is as expected.\n",
      "> Verify that data points in the bvec files is as expected.\n",
      "> Extract B0s:\n",
      "> Verify that b0 quantity and indices are as expected.\n",
      "> Verify that data points in the bval files is as expected.\n",
      "> Verify that data points in the bvec files is as expected.\n",
      "> Extract B0s:\n",
      "> Verify that b0 quantity and indices are as expected.\n",
      "> Verify that data points in the bval files is as expected.\n",
      "> Verify that data points in the bvec files is as expected.\n",
      "> Extract B0s:\n",
      "> Verify that b0 quantity and indices are as expected.\n",
      "> Verify that data points in the bval files is as expected.\n",
      "> Verify that data points in the bvec files is as expected.\n",
      "> Extract B0s:\n",
      "> Verify that b0 quantity and indices are as expected.\n",
      "> Verify that data points in the bval files is as expected.\n",
      "> Verify that data points in the bvec files is as expected.\n",
      "> Extract B0s:\n",
      "> Verify that b0 quantity and indices are as expected.\n",
      "> Verify that data points in the bval files is as expected.\n",
      "> Verify that data points in the bvec files is as expected.\n",
      "> Extract B0s:\n",
      "> Verify that b0 quantity and indices are as expected.\n",
      "> Verify that data points in the bval files is as expected.\n",
      "> Verify that data points in the bvec files is as expected.\n",
      "> Extract B0s:\n",
      "> Verify that b0 quantity and indices are as expected.\n"
     ]
    }
   ],
   "source": [
    "\n",
    "for subjFolder in subjFolders:\n",
    "    scansBaseNames = createSubjectScansBaseNames(subjFolder, data_path)\n",
    "    print('> Verify that data points in the bval files is as expected.')\n",
    "    if pd.read_csv(scansBaseNames['AP_before'] + '.bval', header=None, sep=' ').T.shape[0] != expectedVolums['AP'] or \\\n",
    "        pd.read_csv(scansBaseNames['PA_before'] + '.bval', header=None, sep=' ').T.shape[0] != expectedVolums['PA'] or \\\n",
    "        pd.read_csv(scansBaseNames['AP_after'] + '.bval', header=None, sep=' ').T.shape[0] != expectedVolums['AP'] or \\\n",
    "        pd.read_csv(scansBaseNames['PA_after'] + '.bval', header=None, sep=' ').T.shape[0] != expectedVolums['PA']:\n",
    "            print(f' *** The number of data points in the bval for one of the scans for subjetc {sub} is not as expected.')\n",
    "            raise Exception(f'The number of data points in the bval for one of the scans for subjetc {sub} is not as expected.')\n",
    "\n",
    "    print('> Verify that data points in the bvec files is as expected.')\n",
    "    if pd.read_csv(scansBaseNames['AP_before'] + '.bvec', header=None, sep=' ').T.shape[0] != expectedVolums['AP'] or \\\n",
    "        pd.read_csv(scansBaseNames['PA_before'] + '.bvec', header=None, sep=' ').T.shape[0] != expectedVolums['PA'] or \\\n",
    "        pd.read_csv(scansBaseNames['AP_after'] + '.bvec', header=None, sep=' ').T.shape[0] != expectedVolums['AP'] or \\\n",
    "        pd.read_csv(scansBaseNames['PA_after'] + '.bvec', header=None, sep=' ').T.shape[0] != expectedVolums['PA']:\n",
    "            print(f' *** The number of data points in the bvec for one of the scans for subjetc {sub} is not as expected.')\n",
    "            raise ValueError(f'The number of data points in the bvec for one of the scans for subjetc ' + str(sub) + ' is not as expected.')\n",
    "\n",
    "    print('> Extract B0s:')\n",
    "    B0s_indxs = {}\n",
    "    for scan in scansBaseNames.keys():\n",
    "        B0s=pd.read_csv(scansBaseNames[scan] + '.bval', header=None, sep=' ').T\n",
    "        B0s.columns = ['bval']\n",
    "        B0s_indxs[scan] = list(B0s[B0s.bval < 20].index)\n",
    "\n",
    "    print('> Verify that b0 quantity and indices are as expected.')\n",
    "    if B0s_indxs != expectedB0s_indxs:\n",
    "        print(f' *** The indices of the b0s for one of the scans for subjetc {sub} are not as expected.')\n",
    "        raise ValueError(f'The indices of the b0s for one of the scans for subjetc ' + str(sub) + ' are not as expected.')\n"
   ]
  },
  {
   "cell_type": "markdown",
   "metadata": {},
   "source": [
    "## Preprocessing"
   ]
  },
  {
   "cell_type": "markdown",
   "metadata": {},
   "source": [
    "#### Create pre-processing folder"
   ]
  },
  {
   "cell_type": "code",
   "execution_count": 9,
   "metadata": {},
   "outputs": [
    {
     "name": "stdout",
     "output_type": "stream",
     "text": [
      "> Create preprocessing folders\n"
     ]
    }
   ],
   "source": [
    "print('> Create preprocessing folders')\n",
    "for subjFolder in subjFolders:\n",
    "    try:\n",
    "        os.makedirs(os.path.join(preproc_path, subjFolder), exist_ok=False)\n",
    "        print('>> Created folder: ' + os.path.join(preproc_path, subjFolder))\n",
    "    except:\n",
    "        pass"
   ]
  },
  {
   "cell_type": "markdown",
   "metadata": {},
   "source": [
    "### (1) TOPUP\n",
    "* A tool for estimating and correcting susceptibility induced distortions"
   ]
  },
  {
   "cell_type": "markdown",
   "metadata": {},
   "source": [
    "#### Extract B0 volumes"
   ]
  },
  {
   "cell_type": "code",
   "execution_count": 11,
   "metadata": {},
   "outputs": [
    {
     "name": "stdout",
     "output_type": "stream",
     "text": [
      "> Extract B0s (using the fslroi):\n",
      ">> COMPLETED.\n"
     ]
    }
   ],
   "source": [
    "print('> Extract B0s (using the fslroi):')\n",
    "for subjFolder in subjFolders:\n",
    "    scansBaseNames = createSubjectScansBaseNames(subjFolder, data_path)\n",
    "    for scan in scansBaseNames.keys():\n",
    "        for B0ind in B0s_indxs[scan]:\n",
    "            B0_file_name = os.path.join(preproc_path, subjFolder, subjFolder + '_' + scan + \"_b0_volInd-\" + str(B0ind) + \".nii.gz\")\n",
    "            if not os.path.isfile(f\"{B0_file_name}\"):\n",
    "                print(f'>> runs: fslroi {scansBaseNames[scan]}.nii.gz {B0_file_name} {B0ind} 1')\n",
    "                os.system(f'fslroi {scansBaseNames[scan]}.nii.gz {B0_file_name} {B0ind} 1')\n",
    "print(f\">> COMPLETED.\")"
   ]
  },
  {
   "cell_type": "markdown",
   "metadata": {},
   "source": [
    "#### Merge B0 volumes for TOPUP"
   ]
  },
  {
   "cell_type": "code",
   "execution_count": 13,
   "metadata": {},
   "outputs": [
    {
     "name": "stdout",
     "output_type": "stream",
     "text": [
      "> Merge B0s for each session (using the fslmerge):\n",
      ">> COMPLETED.\n"
     ]
    }
   ],
   "source": [
    "print('> Merge B0s for each session (using the fslmerge):')\n",
    "#print([scan for scan in sub_B0s_files if 'AP_before' in scan])\n",
    "#print([scan for scan in sub_B0s_files if 'PA_before' in scan])\n",
    "for subjFolder in subjFolders:\n",
    "    # get the sub_B0s_files for the current subject:\n",
    "    scansBaseNames = createSubjectScansBaseNames(subjFolder, data_path)\n",
    "    sub_B0s_files = get_sub_B0_files(subjFolder, scansBaseNames, B0s_indxs)\n",
    "    # merge the B0s for the current subject for each time (before/after):\n",
    "    for time in ['before', 'after']:\n",
    "        output_base_name = f'{os.path.join(preproc_path, subjFolder,subjFolder)}_AP_PA_{time}_b0s'\n",
    "        if not os.path.isfile(f\"{output_base_name}.nii.gz\"):\n",
    "            print(f'>> runs: fslmerge -t {output_base_name}' + ' ' + ' '.join([scan for scan in sub_B0s_files if f'AP_{time}' in scan]) + ' ' + ' '.join([scan for scan in sub_B0s_files if f'PA_{time}' in scan]))\n",
    "            os.system(f'fslmerge -t {output_base_name}' + ' ' + ' '.join([scan for scan in sub_B0s_files if f'AP_{time}' in scan]) + ' ' + ' '.join([scan for scan in sub_B0s_files if f'PA_{time}' in scan]))\n",
    "print(f\">> COMPLETED.\")"
   ]
  },
  {
   "cell_type": "markdown",
   "metadata": {},
   "source": [
    "#### Generate the acqparams.txt files"
   ]
  },
  {
   "cell_type": "code",
   "execution_count": 14,
   "metadata": {},
   "outputs": [
    {
     "name": "stdout",
     "output_type": "stream",
     "text": [
      "> Create the acqparams.txt files (one per session [before and after])\n",
      ">> COMPLETED.\n"
     ]
    }
   ],
   "source": [
    "print('> Create the acqparams.txt files (one per session [''before'' and ''after''])')\n",
    "\n",
    "for subjFolder in subjFolders:\n",
    "    # get the sub_B0s_files for the current subject:\n",
    "    scansBaseNames = createSubjectScansBaseNames(subjFolder, data_path)\n",
    "    sub_B0s_files = get_sub_B0_files(subjFolder, scansBaseNames, B0s_indxs)\n",
    "\n",
    "    # first get the totalReadoutTime from the json files\n",
    "    total_readout_time = {}\n",
    "    for scanBaseName in scansBaseNames.keys():\n",
    "        with open(scansBaseNames[scanBaseName] + '.json') as json_file:        \n",
    "            scanData = json.load(json_file)\n",
    "            total_readout_time[scanBaseName] = scanData['TotalReadoutTime']\n",
    "\n",
    "    for time in ['before', 'after']:\n",
    "        acqPars=[f'0 -1 0 {total_readout_time[f\"AP_{time}\"]}' for scan in sub_B0s_files if f'AP_{time}' in scan] + [f'0 1 0 {total_readout_time[f\"PA_{time}\"]}' for scan in sub_B0s_files if f'PA_{time}' in scan]\n",
    "        # write a list of strings to a file (one string per line):\n",
    "        with open(os.path.join(preproc_path, subjFolder, subjFolder + f'_{time}_acqparams.txt'), 'w') as f:\n",
    "            for item in acqPars:\n",
    "                f.write(\"%s\\n\" % item)\n",
    "print(f\">> COMPLETED.\")"
   ]
  },
  {
   "cell_type": "markdown",
   "metadata": {},
   "source": [
    "#### Run TOPUP"
   ]
  },
  {
   "cell_type": "markdown",
   "metadata": {},
   "source": [
    "Create TOPUP launch files"
   ]
  },
  {
   "cell_type": "code",
   "execution_count": 17,
   "metadata": {},
   "outputs": [
    {
     "name": "stdout",
     "output_type": "stream",
     "text": [
      "> Create the TOPUP launch files (one per subject [before and after] together)\n",
      ">> COMPLETED.\n"
     ]
    }
   ],
   "source": [
    "print('> Create the TOPUP launch files (one per subject [''before'' and ''after''] together)')\n",
    "for subjFolder in subjFolders:\n",
    "\n",
    "    launch_file = os.path.join(launch_files_path, 'TOPUP_' + subjFolder + '_launch.txt')\n",
    "    \n",
    "    if not os.path.isfile(launch_file):\n",
    "        with open(launch_file, 'w') as f:\n",
    "            for time in ['before', 'after']:\n",
    "                    print(f\">> This command was written to {launch_file}:\\ntopup --imain={os.path.join(preproc_path, subjFolder,subjFolder)}_AP_PA_{time}_b0s \\\\\\n\\\n",
    "                            --datain={os.path.join(preproc_path, subjFolder, subjFolder + f'_{time}_acqparams.txt')} \\\\\\n\\\n",
    "                            --config=b02b0.cnf \\\\\\n\\\n",
    "                            --out={os.path.join(preproc_path, subjFolder,'topup_' + subjFolder)}_AP_PA_{time}_b0s \\\\\\n\\\n",
    "                            --iout={os.path.join(preproc_path, subjFolder,'topup_' + subjFolder)}_AP_PA_{time}_b0s_iout \\\\\\n\\\n",
    "                            --fout={os.path.join(preproc_path, subjFolder,'topup_' + subjFolder)}_AP_PA_{time}_b0s_fout \\n\\\n",
    "                        \")\n",
    "                    f.write(f\"topup --imain={os.path.join(preproc_path, subjFolder,subjFolder)}_AP_PA_{time}_b0s --datain={os.path.join(preproc_path, subjFolder, subjFolder + f'_{time}_acqparams.txt')} --config=b02b0.cnf --out={os.path.join(preproc_path, subjFolder,'topup_' + subjFolder)}_AP_PA_{time}_b0s --iout={os.path.join(preproc_path, subjFolder,'topup_' + subjFolder)}_AP_PA_{time}_b0s_iout --fout={os.path.join(preproc_path, subjFolder,'topup_' + subjFolder)}_AP_PA_{time}_b0s_fout\\n\")\n",
    "print(f\">> COMPLETED.\")"
   ]
  },
  {
   "cell_type": "markdown",
   "metadata": {},
   "source": [
    "Run TOPUP launch files"
   ]
  },
  {
   "cell_type": "code",
   "execution_count": 18,
   "metadata": {},
   "outputs": [
    {
     "name": "stdout",
     "output_type": "stream",
     "text": [
      "> Run the TOPUP launch files (one per subject [before and after] together)\n",
      ">> Running: launch -s /export2/DATA/HIS/HIS_server/codes_dwi/launch_files/TOPUP_sub-140_launch.txt -j schonberglab -p 2 -r inf\n",
      ">> Running: launch -s /export2/DATA/HIS/HIS_server/codes_dwi/launch_files/TOPUP_sub-171_launch.txt -j schonberglab -p 2 -r inf\n",
      ">> Running: launch -s /export2/DATA/HIS/HIS_server/codes_dwi/launch_files/TOPUP_sub-172_launch.txt -j schonberglab -p 2 -r inf\n",
      ">> Running: launch -s /export2/DATA/HIS/HIS_server/codes_dwi/launch_files/TOPUP_sub-174_launch.txt -j schonberglab -p 2 -r inf\n",
      ">> Running: launch -s /export2/DATA/HIS/HIS_server/codes_dwi/launch_files/TOPUP_sub-175_launch.txt -j schonberglab -p 2 -r inf\n",
      ">> Running: launch -s /export2/DATA/HIS/HIS_server/codes_dwi/launch_files/TOPUP_sub-232_launch.txt -j schonberglab -p 2 -r inf\n",
      ">> Running: launch -s /export2/DATA/HIS/HIS_server/codes_dwi/launch_files/TOPUP_sub-235_launch.txt -j schonberglab -p 2 -r inf\n",
      ">> Running: launch -s /export2/DATA/HIS/HIS_server/codes_dwi/launch_files/TOPUP_sub-238_launch.txt -j schonberglab -p 2 -r inf\n",
      ">> Running: launch -s /export2/DATA/HIS/HIS_server/codes_dwi/launch_files/TOPUP_sub-245_launch.txt -j schonberglab -p 2 -r inf\n",
      ">> Running: launch -s /export2/DATA/HIS/HIS_server/codes_dwi/launch_files/TOPUP_sub-252_launch.txt -j schonberglab -p 2 -r inf\n",
      ">> Running: launch -s /export2/DATA/HIS/HIS_server/codes_dwi/launch_files/TOPUP_sub-262_launch.txt -j schonberglab -p 2 -r inf\n",
      ">> Running: launch -s /export2/DATA/HIS/HIS_server/codes_dwi/launch_files/TOPUP_sub-267_launch.txt -j schonberglab -p 2 -r inf\n",
      ">> Running: launch -s /export2/DATA/HIS/HIS_server/codes_dwi/launch_files/TOPUP_sub-268_launch.txt -j schonberglab -p 2 -r inf\n",
      ">> Running: launch -s /export2/DATA/HIS/HIS_server/codes_dwi/launch_files/TOPUP_sub-269_launch.txt -j schonberglab -p 2 -r inf\n",
      ">> Running: launch -s /export2/DATA/HIS/HIS_server/codes_dwi/launch_files/TOPUP_sub-278_launch.txt -j schonberglab -p 2 -r inf\n",
      ">> COMPLETED.\n"
     ]
    }
   ],
   "source": [
    "print('> Run the TOPUP launch files (one per subject [''before'' and ''after''] together)')\n",
    "\n",
    "for subjFolder in subjFolders:\n",
    "\n",
    "    launch_file = os.path.join(launch_files_path, 'TOPUP_' + subjFolder + '_launch.txt')\n",
    "\n",
    "    # check if all expected output files exist:\n",
    "    expected_TOPUP_out_files_exist = []\n",
    "    for time in ['before', 'after']:\n",
    "        expected_TOPUP_out_files_exist += [os.path.isfile(f\"{os.path.join(preproc_path, subjFolder,'topup_' + subjFolder)}_AP_PA_{time}_b0s_fieldcoef.nii.gz\"),\n",
    "                                        os.path.isfile(f\"{os.path.join(preproc_path, subjFolder,'topup_' + subjFolder)}_AP_PA_{time}_b0s_fout.nii.gz\"),\n",
    "                                        os.path.isfile(f\"{os.path.join(preproc_path, subjFolder,'topup_' + subjFolder)}_AP_PA_{time}_b0s_iout.nii.gz\"),\n",
    "                                        os.path.isfile(f\"{os.path.join(preproc_path, subjFolder,'topup_' + subjFolder)}_AP_PA_{time}_b0s_movpar.txt\")]\n",
    "\n",
    "    # Run the launch file if not all output files present:\n",
    "    if not all(expected_TOPUP_out_files_exist):\n",
    "                print(f\">> Running: launch -s {launch_file} -j schonberglab -p {n_cores_TOPUP} -r inf\")\n",
    "                os.system(f\">> Running: launch -s {launch_file} -j schonberglab -p {n_cores_TOPUP} -r inf\")         \n",
    "                \n",
    "print(f\">> COMPLETED.\")"
   ]
  },
  {
   "cell_type": "markdown",
   "metadata": {},
   "source": [
    "### (2) EDDY\n",
    "* A tool for correcting Eddy currents (and motion)"
   ]
  },
  {
   "cell_type": "markdown",
   "metadata": {},
   "source": [
    "#### Average TOPUP corrected (unwarped) B0 volums (the .iout file)"
   ]
  },
  {
   "cell_type": "code",
   "execution_count": 20,
   "metadata": {},
   "outputs": [
    {
     "name": "stdout",
     "output_type": "stream",
     "text": [
      ">> Average TOPUP corrected (unwarped) B0 volums (the .iout file). - runs seperately for each time [''before'' and ''after'']\n",
      ">> COMPLETED.\n"
     ]
    }
   ],
   "source": [
    "print(f\">> Average TOPUP corrected (unwarped) B0 volums (the .iout file). - runs seperately for each time [''before'' and ''after'']\")\n",
    "for subjFolder in subjFolders:\n",
    "      for time in ['before', 'after']:\n",
    "            output_file_name = f\"{os.path.join(preproc_path, subjFolder,'topup_' + subjFolder)}_AP_PA_{time}_b0s_iout_avg.nii.gz\"\n",
    "            if not os.path.isfile(f\"{output_file_name}\"):\n",
    "                  print(f\">> runs: fslmaths {os.path.join(preproc_path, subjFolder,'topup_' + subjFolder)}_AP_PA_{time}_b0s_iout -Tmean {output_file_name}\")\n",
    "                  os.system(f\"fslmaths {os.path.join(preproc_path, subjFolder,'topup_' + subjFolder)}_AP_PA_{time}_b0s_iout -Tmean {output_file_name}\")\n",
    "print(f\">> COMPLETED.\")"
   ]
  },
  {
   "cell_type": "markdown",
   "metadata": {},
   "source": [
    "#### Run BET on the averaged B0s volume"
   ]
  },
  {
   "cell_type": "code",
   "execution_count": 22,
   "metadata": {},
   "outputs": [
    {
     "name": "stdout",
     "output_type": "stream",
     "text": [
      ">> Extarct the brain form the averaged B0s volume - runs seperately for each time [''before'' and ''after'']\n",
      ">> COMPLETED.\n"
     ]
    }
   ],
   "source": [
    "print(f\">> Extarct the brain form the averaged B0s volume - runs seperately for each time [''before'' and ''after'']\")\n",
    "for subjFolder in subjFolders:\n",
    "      for time in ['before', 'after']:\n",
    "            output_base_name = f\"{os.path.join(preproc_path, subjFolder,'topup_' + subjFolder)}_AP_PA_{time}_b0s_iout_avg_brain\"\n",
    "            if not os.path.isfile(f\"{output_base_name}.nii.gz\") or not os.path.isfile(f\"{output_base_name}_mask.nii.gz\"):\n",
    "                  print(f\">> runs: bet {os.path.join(preproc_path, subjFolder,'topup_' + subjFolder)}_AP_PA_{time}_b0s_iout_avg {output_base_name} -m -f 0.2\")\n",
    "                  os.system(f\"bet {os.path.join(preproc_path, subjFolder,'topup_' + subjFolder)}_AP_PA_{time}_b0s_iout_avg {output_base_name} -m -f 0.2\")\n",
    "print(f\">> COMPLETED.\")"
   ]
  },
  {
   "cell_type": "markdown",
   "metadata": {},
   "source": [
    "#### Create index.txt file\n",
    "This file maps the volumes in the main DTI data to the relevant line in the acqparams.txt and in the movpar.txt (assessed movement parameters from TOPUP) files\n",
    "* details in: https://www.youtube.com/watch?v=1T1cRnX7MpA"
   ]
  },
  {
   "cell_type": "code",
   "execution_count": 23,
   "metadata": {},
   "outputs": [
    {
     "name": "stdout",
     "output_type": "stream",
     "text": [
      ">> create an index.txt file for each subject for each time [before and after] for the EDDY\n",
      ">> COMPLETED.\n"
     ]
    }
   ],
   "source": [
    "print(f\">> create an index.txt file for each subject for each time [before and after] for the EDDY\")\n",
    "for subjFolder in subjFolders:\n",
    "    for time in ['before', 'after']:\n",
    "        ind_to_write = 1\n",
    "        with open(os.path.join(preproc_path, subjFolder, f'{time}_index.txt'), 'w') as f:\n",
    "            for i in range(expectedVolums['AP']):   \n",
    "                if i > 0 and i in expectedB0s_indxs[f'AP_{time}']:\n",
    "                    ind_to_write += 1\n",
    "                f.write(\"%s\\n\" %ind_to_write)\n",
    "print('>> COMPLETED.')\n"
   ]
  },
  {
   "cell_type": "markdown",
   "metadata": {},
   "source": [
    "#### Run EDDY\n",
    "* Correct for eddy currents and subject movement (and taking to account the suceptibility field calculated by TOPUP)"
   ]
  },
  {
   "cell_type": "code",
   "execution_count": 25,
   "metadata": {},
   "outputs": [
    {
     "name": "stdout",
     "output_type": "stream",
     "text": [
      "> Run EDDY using cheshire server GPU (one per subject per time [before and after])\n",
      "\">> Running this command on cheshire:\n",
      "ssh shirangera@cheshire.tau.ac.il eddy_cuda10.2 --imain=/export2/DATA/HIS/HIS_server/BIDS/sub-140/ses-1/dwi/sub-140_ses-1_acq-ap_run-01_dwi.nii.gz \\\n",
      "                --mask=/export2/DATA/HIS/HIS_server/analysis/dwi_data/preproc/sub-140/topup_sub-140_AP_PA_before_b0s_iout_avg_brain_mask \\\n",
      "                --index=/export2/DATA/HIS/HIS_server/analysis/dwi_data/preproc/sub-140/before_index.txt\\\n",
      "                --acqp=/export2/DATA/HIS/HIS_server/analysis/dwi_data/preproc/sub-140/sub-140_before_acqparams.txt \\\n",
      "                --bvecs=/export2/DATA/HIS/HIS_server/BIDS/sub-140/ses-1/dwi/sub-140_ses-1_acq-ap_run-01_dwi.bvec \\\n",
      "                --bvals=/export2/DATA/HIS/HIS_server/BIDS/sub-140/ses-1/dwi/sub-140_ses-1_acq-ap_run-01_dwi.bval \\\n",
      "                --topup=/export2/DATA/HIS/HIS_server/analysis/dwi_data/preproc/sub-140/topup_sub-140_AP_PA_before_b0s \\\n",
      "                --out=/export2/DATA/HIS/HIS_server/analysis/dwi_data/preproc/sub-140/eddy_unwarped_images_sub-140_before \\\n",
      "                --verbose            \n",
      "\n",
      "\">> Running this command on cheshire:\n",
      "ssh shirangera@cheshire.tau.ac.il eddy_cuda10.2 --imain=/export2/DATA/HIS/HIS_server/BIDS/sub-140/ses-1/dwi/sub-140_ses-1_acq-ap_run-02_dwi.nii.gz \\\n",
      "                --mask=/export2/DATA/HIS/HIS_server/analysis/dwi_data/preproc/sub-140/topup_sub-140_AP_PA_after_b0s_iout_avg_brain_mask \\\n",
      "                --index=/export2/DATA/HIS/HIS_server/analysis/dwi_data/preproc/sub-140/after_index.txt\\\n",
      "                --acqp=/export2/DATA/HIS/HIS_server/analysis/dwi_data/preproc/sub-140/sub-140_after_acqparams.txt \\\n",
      "                --bvecs=/export2/DATA/HIS/HIS_server/BIDS/sub-140/ses-1/dwi/sub-140_ses-1_acq-ap_run-02_dwi.bvec \\\n",
      "                --bvals=/export2/DATA/HIS/HIS_server/BIDS/sub-140/ses-1/dwi/sub-140_ses-1_acq-ap_run-02_dwi.bval \\\n",
      "                --topup=/export2/DATA/HIS/HIS_server/analysis/dwi_data/preproc/sub-140/topup_sub-140_AP_PA_after_b0s \\\n",
      "                --out=/export2/DATA/HIS/HIS_server/analysis/dwi_data/preproc/sub-140/eddy_unwarped_images_sub-140_after \\\n",
      "                --verbose            \n",
      "\n",
      "\">> Running this command on cheshire:\n",
      "ssh shirangera@cheshire.tau.ac.il eddy_cuda10.2 --imain=/export2/DATA/HIS/HIS_server/BIDS/sub-171/ses-1/dwi/sub-171_ses-1_acq-ap_run-01_dwi.nii.gz \\\n",
      "                --mask=/export2/DATA/HIS/HIS_server/analysis/dwi_data/preproc/sub-171/topup_sub-171_AP_PA_before_b0s_iout_avg_brain_mask \\\n",
      "                --index=/export2/DATA/HIS/HIS_server/analysis/dwi_data/preproc/sub-171/before_index.txt\\\n",
      "                --acqp=/export2/DATA/HIS/HIS_server/analysis/dwi_data/preproc/sub-171/sub-171_before_acqparams.txt \\\n",
      "                --bvecs=/export2/DATA/HIS/HIS_server/BIDS/sub-171/ses-1/dwi/sub-171_ses-1_acq-ap_run-01_dwi.bvec \\\n",
      "                --bvals=/export2/DATA/HIS/HIS_server/BIDS/sub-171/ses-1/dwi/sub-171_ses-1_acq-ap_run-01_dwi.bval \\\n",
      "                --topup=/export2/DATA/HIS/HIS_server/analysis/dwi_data/preproc/sub-171/topup_sub-171_AP_PA_before_b0s \\\n",
      "                --out=/export2/DATA/HIS/HIS_server/analysis/dwi_data/preproc/sub-171/eddy_unwarped_images_sub-171_before \\\n",
      "                --verbose            \n",
      "\n",
      "\">> Running this command on cheshire:\n",
      "ssh shirangera@cheshire.tau.ac.il eddy_cuda10.2 --imain=/export2/DATA/HIS/HIS_server/BIDS/sub-171/ses-1/dwi/sub-171_ses-1_acq-ap_run-02_dwi.nii.gz \\\n",
      "                --mask=/export2/DATA/HIS/HIS_server/analysis/dwi_data/preproc/sub-171/topup_sub-171_AP_PA_after_b0s_iout_avg_brain_mask \\\n",
      "                --index=/export2/DATA/HIS/HIS_server/analysis/dwi_data/preproc/sub-171/after_index.txt\\\n",
      "                --acqp=/export2/DATA/HIS/HIS_server/analysis/dwi_data/preproc/sub-171/sub-171_after_acqparams.txt \\\n",
      "                --bvecs=/export2/DATA/HIS/HIS_server/BIDS/sub-171/ses-1/dwi/sub-171_ses-1_acq-ap_run-02_dwi.bvec \\\n",
      "                --bvals=/export2/DATA/HIS/HIS_server/BIDS/sub-171/ses-1/dwi/sub-171_ses-1_acq-ap_run-02_dwi.bval \\\n",
      "                --topup=/export2/DATA/HIS/HIS_server/analysis/dwi_data/preproc/sub-171/topup_sub-171_AP_PA_after_b0s \\\n",
      "                --out=/export2/DATA/HIS/HIS_server/analysis/dwi_data/preproc/sub-171/eddy_unwarped_images_sub-171_after \\\n",
      "                --verbose            \n",
      "\n",
      "\">> Running this command on cheshire:\n",
      "ssh shirangera@cheshire.tau.ac.il eddy_cuda10.2 --imain=/export2/DATA/HIS/HIS_server/BIDS/sub-172/ses-1/dwi/sub-172_ses-1_acq-ap_run-01_dwi.nii.gz \\\n",
      "                --mask=/export2/DATA/HIS/HIS_server/analysis/dwi_data/preproc/sub-172/topup_sub-172_AP_PA_before_b0s_iout_avg_brain_mask \\\n",
      "                --index=/export2/DATA/HIS/HIS_server/analysis/dwi_data/preproc/sub-172/before_index.txt\\\n",
      "                --acqp=/export2/DATA/HIS/HIS_server/analysis/dwi_data/preproc/sub-172/sub-172_before_acqparams.txt \\\n",
      "                --bvecs=/export2/DATA/HIS/HIS_server/BIDS/sub-172/ses-1/dwi/sub-172_ses-1_acq-ap_run-01_dwi.bvec \\\n",
      "                --bvals=/export2/DATA/HIS/HIS_server/BIDS/sub-172/ses-1/dwi/sub-172_ses-1_acq-ap_run-01_dwi.bval \\\n",
      "                --topup=/export2/DATA/HIS/HIS_server/analysis/dwi_data/preproc/sub-172/topup_sub-172_AP_PA_before_b0s \\\n",
      "                --out=/export2/DATA/HIS/HIS_server/analysis/dwi_data/preproc/sub-172/eddy_unwarped_images_sub-172_before \\\n",
      "                --verbose            \n",
      "\n",
      "\">> Running this command on cheshire:\n",
      "ssh shirangera@cheshire.tau.ac.il eddy_cuda10.2 --imain=/export2/DATA/HIS/HIS_server/BIDS/sub-172/ses-1/dwi/sub-172_ses-1_acq-ap_run-02_dwi.nii.gz \\\n",
      "                --mask=/export2/DATA/HIS/HIS_server/analysis/dwi_data/preproc/sub-172/topup_sub-172_AP_PA_after_b0s_iout_avg_brain_mask \\\n",
      "                --index=/export2/DATA/HIS/HIS_server/analysis/dwi_data/preproc/sub-172/after_index.txt\\\n",
      "                --acqp=/export2/DATA/HIS/HIS_server/analysis/dwi_data/preproc/sub-172/sub-172_after_acqparams.txt \\\n",
      "                --bvecs=/export2/DATA/HIS/HIS_server/BIDS/sub-172/ses-1/dwi/sub-172_ses-1_acq-ap_run-02_dwi.bvec \\\n",
      "                --bvals=/export2/DATA/HIS/HIS_server/BIDS/sub-172/ses-1/dwi/sub-172_ses-1_acq-ap_run-02_dwi.bval \\\n",
      "                --topup=/export2/DATA/HIS/HIS_server/analysis/dwi_data/preproc/sub-172/topup_sub-172_AP_PA_after_b0s \\\n",
      "                --out=/export2/DATA/HIS/HIS_server/analysis/dwi_data/preproc/sub-172/eddy_unwarped_images_sub-172_after \\\n",
      "                --verbose            \n",
      "\n",
      "\">> Running this command on cheshire:\n",
      "ssh shirangera@cheshire.tau.ac.il eddy_cuda10.2 --imain=/export2/DATA/HIS/HIS_server/BIDS/sub-174/ses-1/dwi/sub-174_ses-1_acq-ap_run-01_dwi.nii.gz \\\n",
      "                --mask=/export2/DATA/HIS/HIS_server/analysis/dwi_data/preproc/sub-174/topup_sub-174_AP_PA_before_b0s_iout_avg_brain_mask \\\n",
      "                --index=/export2/DATA/HIS/HIS_server/analysis/dwi_data/preproc/sub-174/before_index.txt\\\n",
      "                --acqp=/export2/DATA/HIS/HIS_server/analysis/dwi_data/preproc/sub-174/sub-174_before_acqparams.txt \\\n",
      "                --bvecs=/export2/DATA/HIS/HIS_server/BIDS/sub-174/ses-1/dwi/sub-174_ses-1_acq-ap_run-01_dwi.bvec \\\n",
      "                --bvals=/export2/DATA/HIS/HIS_server/BIDS/sub-174/ses-1/dwi/sub-174_ses-1_acq-ap_run-01_dwi.bval \\\n",
      "                --topup=/export2/DATA/HIS/HIS_server/analysis/dwi_data/preproc/sub-174/topup_sub-174_AP_PA_before_b0s \\\n",
      "                --out=/export2/DATA/HIS/HIS_server/analysis/dwi_data/preproc/sub-174/eddy_unwarped_images_sub-174_before \\\n",
      "                --verbose            \n",
      "\n",
      "\">> Running this command on cheshire:\n",
      "ssh shirangera@cheshire.tau.ac.il eddy_cuda10.2 --imain=/export2/DATA/HIS/HIS_server/BIDS/sub-174/ses-1/dwi/sub-174_ses-1_acq-ap_run-02_dwi.nii.gz \\\n",
      "                --mask=/export2/DATA/HIS/HIS_server/analysis/dwi_data/preproc/sub-174/topup_sub-174_AP_PA_after_b0s_iout_avg_brain_mask \\\n",
      "                --index=/export2/DATA/HIS/HIS_server/analysis/dwi_data/preproc/sub-174/after_index.txt\\\n",
      "                --acqp=/export2/DATA/HIS/HIS_server/analysis/dwi_data/preproc/sub-174/sub-174_after_acqparams.txt \\\n",
      "                --bvecs=/export2/DATA/HIS/HIS_server/BIDS/sub-174/ses-1/dwi/sub-174_ses-1_acq-ap_run-02_dwi.bvec \\\n",
      "                --bvals=/export2/DATA/HIS/HIS_server/BIDS/sub-174/ses-1/dwi/sub-174_ses-1_acq-ap_run-02_dwi.bval \\\n",
      "                --topup=/export2/DATA/HIS/HIS_server/analysis/dwi_data/preproc/sub-174/topup_sub-174_AP_PA_after_b0s \\\n",
      "                --out=/export2/DATA/HIS/HIS_server/analysis/dwi_data/preproc/sub-174/eddy_unwarped_images_sub-174_after \\\n",
      "                --verbose            \n",
      "\n",
      "\">> Running this command on cheshire:\n",
      "ssh shirangera@cheshire.tau.ac.il eddy_cuda10.2 --imain=/export2/DATA/HIS/HIS_server/BIDS/sub-175/ses-1/dwi/sub-175_ses-1_acq-ap_run-01_dwi.nii.gz \\\n",
      "                --mask=/export2/DATA/HIS/HIS_server/analysis/dwi_data/preproc/sub-175/topup_sub-175_AP_PA_before_b0s_iout_avg_brain_mask \\\n",
      "                --index=/export2/DATA/HIS/HIS_server/analysis/dwi_data/preproc/sub-175/before_index.txt\\\n",
      "                --acqp=/export2/DATA/HIS/HIS_server/analysis/dwi_data/preproc/sub-175/sub-175_before_acqparams.txt \\\n",
      "                --bvecs=/export2/DATA/HIS/HIS_server/BIDS/sub-175/ses-1/dwi/sub-175_ses-1_acq-ap_run-01_dwi.bvec \\\n",
      "                --bvals=/export2/DATA/HIS/HIS_server/BIDS/sub-175/ses-1/dwi/sub-175_ses-1_acq-ap_run-01_dwi.bval \\\n",
      "                --topup=/export2/DATA/HIS/HIS_server/analysis/dwi_data/preproc/sub-175/topup_sub-175_AP_PA_before_b0s \\\n",
      "                --out=/export2/DATA/HIS/HIS_server/analysis/dwi_data/preproc/sub-175/eddy_unwarped_images_sub-175_before \\\n",
      "                --verbose            \n",
      "\n",
      "\">> Running this command on cheshire:\n",
      "ssh shirangera@cheshire.tau.ac.il eddy_cuda10.2 --imain=/export2/DATA/HIS/HIS_server/BIDS/sub-175/ses-1/dwi/sub-175_ses-1_acq-ap_run-02_dwi.nii.gz \\\n",
      "                --mask=/export2/DATA/HIS/HIS_server/analysis/dwi_data/preproc/sub-175/topup_sub-175_AP_PA_after_b0s_iout_avg_brain_mask \\\n",
      "                --index=/export2/DATA/HIS/HIS_server/analysis/dwi_data/preproc/sub-175/after_index.txt\\\n",
      "                --acqp=/export2/DATA/HIS/HIS_server/analysis/dwi_data/preproc/sub-175/sub-175_after_acqparams.txt \\\n",
      "                --bvecs=/export2/DATA/HIS/HIS_server/BIDS/sub-175/ses-1/dwi/sub-175_ses-1_acq-ap_run-02_dwi.bvec \\\n",
      "                --bvals=/export2/DATA/HIS/HIS_server/BIDS/sub-175/ses-1/dwi/sub-175_ses-1_acq-ap_run-02_dwi.bval \\\n",
      "                --topup=/export2/DATA/HIS/HIS_server/analysis/dwi_data/preproc/sub-175/topup_sub-175_AP_PA_after_b0s \\\n",
      "                --out=/export2/DATA/HIS/HIS_server/analysis/dwi_data/preproc/sub-175/eddy_unwarped_images_sub-175_after \\\n",
      "                --verbose            \n",
      "\n",
      "\">> Running this command on cheshire:\n",
      "ssh shirangera@cheshire.tau.ac.il eddy_cuda10.2 --imain=/export2/DATA/HIS/HIS_server/BIDS/sub-232/ses-1/dwi/sub-232_ses-1_acq-ap_run-01_dwi.nii.gz \\\n",
      "                --mask=/export2/DATA/HIS/HIS_server/analysis/dwi_data/preproc/sub-232/topup_sub-232_AP_PA_before_b0s_iout_avg_brain_mask \\\n",
      "                --index=/export2/DATA/HIS/HIS_server/analysis/dwi_data/preproc/sub-232/before_index.txt\\\n",
      "                --acqp=/export2/DATA/HIS/HIS_server/analysis/dwi_data/preproc/sub-232/sub-232_before_acqparams.txt \\\n",
      "                --bvecs=/export2/DATA/HIS/HIS_server/BIDS/sub-232/ses-1/dwi/sub-232_ses-1_acq-ap_run-01_dwi.bvec \\\n",
      "                --bvals=/export2/DATA/HIS/HIS_server/BIDS/sub-232/ses-1/dwi/sub-232_ses-1_acq-ap_run-01_dwi.bval \\\n",
      "                --topup=/export2/DATA/HIS/HIS_server/analysis/dwi_data/preproc/sub-232/topup_sub-232_AP_PA_before_b0s \\\n",
      "                --out=/export2/DATA/HIS/HIS_server/analysis/dwi_data/preproc/sub-232/eddy_unwarped_images_sub-232_before \\\n",
      "                --verbose            \n",
      "\n",
      "\">> Running this command on cheshire:\n",
      "ssh shirangera@cheshire.tau.ac.il eddy_cuda10.2 --imain=/export2/DATA/HIS/HIS_server/BIDS/sub-232/ses-3/dwi/sub-232_ses-3_acq-ap_run-02_dwi.nii.gz \\\n",
      "                --mask=/export2/DATA/HIS/HIS_server/analysis/dwi_data/preproc/sub-232/topup_sub-232_AP_PA_after_b0s_iout_avg_brain_mask \\\n",
      "                --index=/export2/DATA/HIS/HIS_server/analysis/dwi_data/preproc/sub-232/after_index.txt\\\n",
      "                --acqp=/export2/DATA/HIS/HIS_server/analysis/dwi_data/preproc/sub-232/sub-232_after_acqparams.txt \\\n",
      "                --bvecs=/export2/DATA/HIS/HIS_server/BIDS/sub-232/ses-3/dwi/sub-232_ses-3_acq-ap_run-02_dwi.bvec \\\n",
      "                --bvals=/export2/DATA/HIS/HIS_server/BIDS/sub-232/ses-3/dwi/sub-232_ses-3_acq-ap_run-02_dwi.bval \\\n",
      "                --topup=/export2/DATA/HIS/HIS_server/analysis/dwi_data/preproc/sub-232/topup_sub-232_AP_PA_after_b0s \\\n",
      "                --out=/export2/DATA/HIS/HIS_server/analysis/dwi_data/preproc/sub-232/eddy_unwarped_images_sub-232_after \\\n",
      "                --verbose            \n",
      "\n",
      "\">> Running this command on cheshire:\n",
      "ssh shirangera@cheshire.tau.ac.il eddy_cuda10.2 --imain=/export2/DATA/HIS/HIS_server/BIDS/sub-235/ses-1/dwi/sub-235_ses-1_acq-ap_run-01_dwi.nii.gz \\\n",
      "                --mask=/export2/DATA/HIS/HIS_server/analysis/dwi_data/preproc/sub-235/topup_sub-235_AP_PA_before_b0s_iout_avg_brain_mask \\\n",
      "                --index=/export2/DATA/HIS/HIS_server/analysis/dwi_data/preproc/sub-235/before_index.txt\\\n",
      "                --acqp=/export2/DATA/HIS/HIS_server/analysis/dwi_data/preproc/sub-235/sub-235_before_acqparams.txt \\\n",
      "                --bvecs=/export2/DATA/HIS/HIS_server/BIDS/sub-235/ses-1/dwi/sub-235_ses-1_acq-ap_run-01_dwi.bvec \\\n",
      "                --bvals=/export2/DATA/HIS/HIS_server/BIDS/sub-235/ses-1/dwi/sub-235_ses-1_acq-ap_run-01_dwi.bval \\\n",
      "                --topup=/export2/DATA/HIS/HIS_server/analysis/dwi_data/preproc/sub-235/topup_sub-235_AP_PA_before_b0s \\\n",
      "                --out=/export2/DATA/HIS/HIS_server/analysis/dwi_data/preproc/sub-235/eddy_unwarped_images_sub-235_before \\\n",
      "                --verbose            \n",
      "\n",
      "\">> Running this command on cheshire:\n",
      "ssh shirangera@cheshire.tau.ac.il eddy_cuda10.2 --imain=/export2/DATA/HIS/HIS_server/BIDS/sub-235/ses-3/dwi/sub-235_ses-3_acq-ap_run-02_dwi.nii.gz \\\n",
      "                --mask=/export2/DATA/HIS/HIS_server/analysis/dwi_data/preproc/sub-235/topup_sub-235_AP_PA_after_b0s_iout_avg_brain_mask \\\n",
      "                --index=/export2/DATA/HIS/HIS_server/analysis/dwi_data/preproc/sub-235/after_index.txt\\\n",
      "                --acqp=/export2/DATA/HIS/HIS_server/analysis/dwi_data/preproc/sub-235/sub-235_after_acqparams.txt \\\n",
      "                --bvecs=/export2/DATA/HIS/HIS_server/BIDS/sub-235/ses-3/dwi/sub-235_ses-3_acq-ap_run-02_dwi.bvec \\\n",
      "                --bvals=/export2/DATA/HIS/HIS_server/BIDS/sub-235/ses-3/dwi/sub-235_ses-3_acq-ap_run-02_dwi.bval \\\n",
      "                --topup=/export2/DATA/HIS/HIS_server/analysis/dwi_data/preproc/sub-235/topup_sub-235_AP_PA_after_b0s \\\n",
      "                --out=/export2/DATA/HIS/HIS_server/analysis/dwi_data/preproc/sub-235/eddy_unwarped_images_sub-235_after \\\n",
      "                --verbose            \n",
      "\n",
      "\">> Running this command on cheshire:\n",
      "ssh shirangera@cheshire.tau.ac.il eddy_cuda10.2 --imain=/export2/DATA/HIS/HIS_server/BIDS/sub-238/ses-1/dwi/sub-238_ses-1_acq-ap_run-01_dwi.nii.gz \\\n",
      "                --mask=/export2/DATA/HIS/HIS_server/analysis/dwi_data/preproc/sub-238/topup_sub-238_AP_PA_before_b0s_iout_avg_brain_mask \\\n",
      "                --index=/export2/DATA/HIS/HIS_server/analysis/dwi_data/preproc/sub-238/before_index.txt\\\n",
      "                --acqp=/export2/DATA/HIS/HIS_server/analysis/dwi_data/preproc/sub-238/sub-238_before_acqparams.txt \\\n",
      "                --bvecs=/export2/DATA/HIS/HIS_server/BIDS/sub-238/ses-1/dwi/sub-238_ses-1_acq-ap_run-01_dwi.bvec \\\n",
      "                --bvals=/export2/DATA/HIS/HIS_server/BIDS/sub-238/ses-1/dwi/sub-238_ses-1_acq-ap_run-01_dwi.bval \\\n",
      "                --topup=/export2/DATA/HIS/HIS_server/analysis/dwi_data/preproc/sub-238/topup_sub-238_AP_PA_before_b0s \\\n",
      "                --out=/export2/DATA/HIS/HIS_server/analysis/dwi_data/preproc/sub-238/eddy_unwarped_images_sub-238_before \\\n",
      "                --verbose            \n",
      "\n",
      "\">> Running this command on cheshire:\n",
      "ssh shirangera@cheshire.tau.ac.il eddy_cuda10.2 --imain=/export2/DATA/HIS/HIS_server/BIDS/sub-238/ses-3/dwi/sub-238_ses-3_acq-ap_run-02_dwi.nii.gz \\\n",
      "                --mask=/export2/DATA/HIS/HIS_server/analysis/dwi_data/preproc/sub-238/topup_sub-238_AP_PA_after_b0s_iout_avg_brain_mask \\\n",
      "                --index=/export2/DATA/HIS/HIS_server/analysis/dwi_data/preproc/sub-238/after_index.txt\\\n",
      "                --acqp=/export2/DATA/HIS/HIS_server/analysis/dwi_data/preproc/sub-238/sub-238_after_acqparams.txt \\\n",
      "                --bvecs=/export2/DATA/HIS/HIS_server/BIDS/sub-238/ses-3/dwi/sub-238_ses-3_acq-ap_run-02_dwi.bvec \\\n",
      "                --bvals=/export2/DATA/HIS/HIS_server/BIDS/sub-238/ses-3/dwi/sub-238_ses-3_acq-ap_run-02_dwi.bval \\\n",
      "                --topup=/export2/DATA/HIS/HIS_server/analysis/dwi_data/preproc/sub-238/topup_sub-238_AP_PA_after_b0s \\\n",
      "                --out=/export2/DATA/HIS/HIS_server/analysis/dwi_data/preproc/sub-238/eddy_unwarped_images_sub-238_after \\\n",
      "                --verbose            \n",
      "\n",
      "\">> Running this command on cheshire:\n",
      "ssh shirangera@cheshire.tau.ac.il eddy_cuda10.2 --imain=/export2/DATA/HIS/HIS_server/BIDS/sub-245/ses-1/dwi/sub-245_ses-1_acq-ap_run-01_dwi.nii.gz \\\n",
      "                --mask=/export2/DATA/HIS/HIS_server/analysis/dwi_data/preproc/sub-245/topup_sub-245_AP_PA_before_b0s_iout_avg_brain_mask \\\n",
      "                --index=/export2/DATA/HIS/HIS_server/analysis/dwi_data/preproc/sub-245/before_index.txt\\\n",
      "                --acqp=/export2/DATA/HIS/HIS_server/analysis/dwi_data/preproc/sub-245/sub-245_before_acqparams.txt \\\n",
      "                --bvecs=/export2/DATA/HIS/HIS_server/BIDS/sub-245/ses-1/dwi/sub-245_ses-1_acq-ap_run-01_dwi.bvec \\\n",
      "                --bvals=/export2/DATA/HIS/HIS_server/BIDS/sub-245/ses-1/dwi/sub-245_ses-1_acq-ap_run-01_dwi.bval \\\n",
      "                --topup=/export2/DATA/HIS/HIS_server/analysis/dwi_data/preproc/sub-245/topup_sub-245_AP_PA_before_b0s \\\n",
      "                --out=/export2/DATA/HIS/HIS_server/analysis/dwi_data/preproc/sub-245/eddy_unwarped_images_sub-245_before \\\n",
      "                --verbose            \n",
      "\n",
      "\">> Running this command on cheshire:\n",
      "ssh shirangera@cheshire.tau.ac.il eddy_cuda10.2 --imain=/export2/DATA/HIS/HIS_server/BIDS/sub-245/ses-3/dwi/sub-245_ses-3_acq-ap_run-02_dwi.nii.gz \\\n",
      "                --mask=/export2/DATA/HIS/HIS_server/analysis/dwi_data/preproc/sub-245/topup_sub-245_AP_PA_after_b0s_iout_avg_brain_mask \\\n",
      "                --index=/export2/DATA/HIS/HIS_server/analysis/dwi_data/preproc/sub-245/after_index.txt\\\n",
      "                --acqp=/export2/DATA/HIS/HIS_server/analysis/dwi_data/preproc/sub-245/sub-245_after_acqparams.txt \\\n",
      "                --bvecs=/export2/DATA/HIS/HIS_server/BIDS/sub-245/ses-3/dwi/sub-245_ses-3_acq-ap_run-02_dwi.bvec \\\n",
      "                --bvals=/export2/DATA/HIS/HIS_server/BIDS/sub-245/ses-3/dwi/sub-245_ses-3_acq-ap_run-02_dwi.bval \\\n",
      "                --topup=/export2/DATA/HIS/HIS_server/analysis/dwi_data/preproc/sub-245/topup_sub-245_AP_PA_after_b0s \\\n",
      "                --out=/export2/DATA/HIS/HIS_server/analysis/dwi_data/preproc/sub-245/eddy_unwarped_images_sub-245_after \\\n",
      "                --verbose            \n",
      "\n",
      "\">> Running this command on cheshire:\n",
      "ssh shirangera@cheshire.tau.ac.il eddy_cuda10.2 --imain=/export2/DATA/HIS/HIS_server/BIDS/sub-252/ses-1/dwi/sub-252_ses-1_acq-ap_run-01_dwi.nii.gz \\\n",
      "                --mask=/export2/DATA/HIS/HIS_server/analysis/dwi_data/preproc/sub-252/topup_sub-252_AP_PA_before_b0s_iout_avg_brain_mask \\\n",
      "                --index=/export2/DATA/HIS/HIS_server/analysis/dwi_data/preproc/sub-252/before_index.txt\\\n",
      "                --acqp=/export2/DATA/HIS/HIS_server/analysis/dwi_data/preproc/sub-252/sub-252_before_acqparams.txt \\\n",
      "                --bvecs=/export2/DATA/HIS/HIS_server/BIDS/sub-252/ses-1/dwi/sub-252_ses-1_acq-ap_run-01_dwi.bvec \\\n",
      "                --bvals=/export2/DATA/HIS/HIS_server/BIDS/sub-252/ses-1/dwi/sub-252_ses-1_acq-ap_run-01_dwi.bval \\\n",
      "                --topup=/export2/DATA/HIS/HIS_server/analysis/dwi_data/preproc/sub-252/topup_sub-252_AP_PA_before_b0s \\\n",
      "                --out=/export2/DATA/HIS/HIS_server/analysis/dwi_data/preproc/sub-252/eddy_unwarped_images_sub-252_before \\\n",
      "                --verbose            \n",
      "\n",
      "\">> Running this command on cheshire:\n",
      "ssh shirangera@cheshire.tau.ac.il eddy_cuda10.2 --imain=/export2/DATA/HIS/HIS_server/BIDS/sub-252/ses-3/dwi/sub-252_ses-3_acq-ap_run-02_dwi.nii.gz \\\n",
      "                --mask=/export2/DATA/HIS/HIS_server/analysis/dwi_data/preproc/sub-252/topup_sub-252_AP_PA_after_b0s_iout_avg_brain_mask \\\n",
      "                --index=/export2/DATA/HIS/HIS_server/analysis/dwi_data/preproc/sub-252/after_index.txt\\\n",
      "                --acqp=/export2/DATA/HIS/HIS_server/analysis/dwi_data/preproc/sub-252/sub-252_after_acqparams.txt \\\n",
      "                --bvecs=/export2/DATA/HIS/HIS_server/BIDS/sub-252/ses-3/dwi/sub-252_ses-3_acq-ap_run-02_dwi.bvec \\\n",
      "                --bvals=/export2/DATA/HIS/HIS_server/BIDS/sub-252/ses-3/dwi/sub-252_ses-3_acq-ap_run-02_dwi.bval \\\n",
      "                --topup=/export2/DATA/HIS/HIS_server/analysis/dwi_data/preproc/sub-252/topup_sub-252_AP_PA_after_b0s \\\n",
      "                --out=/export2/DATA/HIS/HIS_server/analysis/dwi_data/preproc/sub-252/eddy_unwarped_images_sub-252_after \\\n",
      "                --verbose            \n",
      "\n",
      "\">> Running this command on cheshire:\n",
      "ssh shirangera@cheshire.tau.ac.il eddy_cuda10.2 --imain=/export2/DATA/HIS/HIS_server/BIDS/sub-262/ses-1/dwi/sub-262_ses-1_acq-ap_run-01_dwi.nii.gz \\\n",
      "                --mask=/export2/DATA/HIS/HIS_server/analysis/dwi_data/preproc/sub-262/topup_sub-262_AP_PA_before_b0s_iout_avg_brain_mask \\\n",
      "                --index=/export2/DATA/HIS/HIS_server/analysis/dwi_data/preproc/sub-262/before_index.txt\\\n",
      "                --acqp=/export2/DATA/HIS/HIS_server/analysis/dwi_data/preproc/sub-262/sub-262_before_acqparams.txt \\\n",
      "                --bvecs=/export2/DATA/HIS/HIS_server/BIDS/sub-262/ses-1/dwi/sub-262_ses-1_acq-ap_run-01_dwi.bvec \\\n",
      "                --bvals=/export2/DATA/HIS/HIS_server/BIDS/sub-262/ses-1/dwi/sub-262_ses-1_acq-ap_run-01_dwi.bval \\\n",
      "                --topup=/export2/DATA/HIS/HIS_server/analysis/dwi_data/preproc/sub-262/topup_sub-262_AP_PA_before_b0s \\\n",
      "                --out=/export2/DATA/HIS/HIS_server/analysis/dwi_data/preproc/sub-262/eddy_unwarped_images_sub-262_before \\\n",
      "                --verbose            \n",
      "\n",
      "\">> Running this command on cheshire:\n",
      "ssh shirangera@cheshire.tau.ac.il eddy_cuda10.2 --imain=/export2/DATA/HIS/HIS_server/BIDS/sub-262/ses-3/dwi/sub-262_ses-3_acq-ap_run-02_dwi.nii.gz \\\n",
      "                --mask=/export2/DATA/HIS/HIS_server/analysis/dwi_data/preproc/sub-262/topup_sub-262_AP_PA_after_b0s_iout_avg_brain_mask \\\n",
      "                --index=/export2/DATA/HIS/HIS_server/analysis/dwi_data/preproc/sub-262/after_index.txt\\\n",
      "                --acqp=/export2/DATA/HIS/HIS_server/analysis/dwi_data/preproc/sub-262/sub-262_after_acqparams.txt \\\n",
      "                --bvecs=/export2/DATA/HIS/HIS_server/BIDS/sub-262/ses-3/dwi/sub-262_ses-3_acq-ap_run-02_dwi.bvec \\\n",
      "                --bvals=/export2/DATA/HIS/HIS_server/BIDS/sub-262/ses-3/dwi/sub-262_ses-3_acq-ap_run-02_dwi.bval \\\n",
      "                --topup=/export2/DATA/HIS/HIS_server/analysis/dwi_data/preproc/sub-262/topup_sub-262_AP_PA_after_b0s \\\n",
      "                --out=/export2/DATA/HIS/HIS_server/analysis/dwi_data/preproc/sub-262/eddy_unwarped_images_sub-262_after \\\n",
      "                --verbose            \n",
      "\n",
      "\">> Running this command on cheshire:\n",
      "ssh shirangera@cheshire.tau.ac.il eddy_cuda10.2 --imain=/export2/DATA/HIS/HIS_server/BIDS/sub-267/ses-1/dwi/sub-267_ses-1_acq-ap_run-01_dwi.nii.gz \\\n",
      "                --mask=/export2/DATA/HIS/HIS_server/analysis/dwi_data/preproc/sub-267/topup_sub-267_AP_PA_before_b0s_iout_avg_brain_mask \\\n",
      "                --index=/export2/DATA/HIS/HIS_server/analysis/dwi_data/preproc/sub-267/before_index.txt\\\n",
      "                --acqp=/export2/DATA/HIS/HIS_server/analysis/dwi_data/preproc/sub-267/sub-267_before_acqparams.txt \\\n",
      "                --bvecs=/export2/DATA/HIS/HIS_server/BIDS/sub-267/ses-1/dwi/sub-267_ses-1_acq-ap_run-01_dwi.bvec \\\n",
      "                --bvals=/export2/DATA/HIS/HIS_server/BIDS/sub-267/ses-1/dwi/sub-267_ses-1_acq-ap_run-01_dwi.bval \\\n",
      "                --topup=/export2/DATA/HIS/HIS_server/analysis/dwi_data/preproc/sub-267/topup_sub-267_AP_PA_before_b0s \\\n",
      "                --out=/export2/DATA/HIS/HIS_server/analysis/dwi_data/preproc/sub-267/eddy_unwarped_images_sub-267_before \\\n",
      "                --verbose            \n",
      "\n",
      "\">> Running this command on cheshire:\n",
      "ssh shirangera@cheshire.tau.ac.il eddy_cuda10.2 --imain=/export2/DATA/HIS/HIS_server/BIDS/sub-267/ses-3/dwi/sub-267_ses-3_acq-ap_run-02_dwi.nii.gz \\\n",
      "                --mask=/export2/DATA/HIS/HIS_server/analysis/dwi_data/preproc/sub-267/topup_sub-267_AP_PA_after_b0s_iout_avg_brain_mask \\\n",
      "                --index=/export2/DATA/HIS/HIS_server/analysis/dwi_data/preproc/sub-267/after_index.txt\\\n",
      "                --acqp=/export2/DATA/HIS/HIS_server/analysis/dwi_data/preproc/sub-267/sub-267_after_acqparams.txt \\\n",
      "                --bvecs=/export2/DATA/HIS/HIS_server/BIDS/sub-267/ses-3/dwi/sub-267_ses-3_acq-ap_run-02_dwi.bvec \\\n",
      "                --bvals=/export2/DATA/HIS/HIS_server/BIDS/sub-267/ses-3/dwi/sub-267_ses-3_acq-ap_run-02_dwi.bval \\\n",
      "                --topup=/export2/DATA/HIS/HIS_server/analysis/dwi_data/preproc/sub-267/topup_sub-267_AP_PA_after_b0s \\\n",
      "                --out=/export2/DATA/HIS/HIS_server/analysis/dwi_data/preproc/sub-267/eddy_unwarped_images_sub-267_after \\\n",
      "                --verbose            \n",
      "\n",
      "\">> Running this command on cheshire:\n",
      "ssh shirangera@cheshire.tau.ac.il eddy_cuda10.2 --imain=/export2/DATA/HIS/HIS_server/BIDS/sub-268/ses-1/dwi/sub-268_ses-1_acq-ap_run-01_dwi.nii.gz \\\n",
      "                --mask=/export2/DATA/HIS/HIS_server/analysis/dwi_data/preproc/sub-268/topup_sub-268_AP_PA_before_b0s_iout_avg_brain_mask \\\n",
      "                --index=/export2/DATA/HIS/HIS_server/analysis/dwi_data/preproc/sub-268/before_index.txt\\\n",
      "                --acqp=/export2/DATA/HIS/HIS_server/analysis/dwi_data/preproc/sub-268/sub-268_before_acqparams.txt \\\n",
      "                --bvecs=/export2/DATA/HIS/HIS_server/BIDS/sub-268/ses-1/dwi/sub-268_ses-1_acq-ap_run-01_dwi.bvec \\\n",
      "                --bvals=/export2/DATA/HIS/HIS_server/BIDS/sub-268/ses-1/dwi/sub-268_ses-1_acq-ap_run-01_dwi.bval \\\n",
      "                --topup=/export2/DATA/HIS/HIS_server/analysis/dwi_data/preproc/sub-268/topup_sub-268_AP_PA_before_b0s \\\n",
      "                --out=/export2/DATA/HIS/HIS_server/analysis/dwi_data/preproc/sub-268/eddy_unwarped_images_sub-268_before \\\n",
      "                --verbose            \n",
      "\n",
      "\">> Running this command on cheshire:\n",
      "ssh shirangera@cheshire.tau.ac.il eddy_cuda10.2 --imain=/export2/DATA/HIS/HIS_server/BIDS/sub-268/ses-3/dwi/sub-268_ses-3_acq-ap_run-02_dwi.nii.gz \\\n",
      "                --mask=/export2/DATA/HIS/HIS_server/analysis/dwi_data/preproc/sub-268/topup_sub-268_AP_PA_after_b0s_iout_avg_brain_mask \\\n",
      "                --index=/export2/DATA/HIS/HIS_server/analysis/dwi_data/preproc/sub-268/after_index.txt\\\n",
      "                --acqp=/export2/DATA/HIS/HIS_server/analysis/dwi_data/preproc/sub-268/sub-268_after_acqparams.txt \\\n",
      "                --bvecs=/export2/DATA/HIS/HIS_server/BIDS/sub-268/ses-3/dwi/sub-268_ses-3_acq-ap_run-02_dwi.bvec \\\n",
      "                --bvals=/export2/DATA/HIS/HIS_server/BIDS/sub-268/ses-3/dwi/sub-268_ses-3_acq-ap_run-02_dwi.bval \\\n",
      "                --topup=/export2/DATA/HIS/HIS_server/analysis/dwi_data/preproc/sub-268/topup_sub-268_AP_PA_after_b0s \\\n",
      "                --out=/export2/DATA/HIS/HIS_server/analysis/dwi_data/preproc/sub-268/eddy_unwarped_images_sub-268_after \\\n",
      "                --verbose            \n",
      "\n",
      "\">> Running this command on cheshire:\n",
      "ssh shirangera@cheshire.tau.ac.il eddy_cuda10.2 --imain=/export2/DATA/HIS/HIS_server/BIDS/sub-269/ses-1/dwi/sub-269_ses-1_acq-ap_run-01_dwi.nii.gz \\\n",
      "                --mask=/export2/DATA/HIS/HIS_server/analysis/dwi_data/preproc/sub-269/topup_sub-269_AP_PA_before_b0s_iout_avg_brain_mask \\\n",
      "                --index=/export2/DATA/HIS/HIS_server/analysis/dwi_data/preproc/sub-269/before_index.txt\\\n",
      "                --acqp=/export2/DATA/HIS/HIS_server/analysis/dwi_data/preproc/sub-269/sub-269_before_acqparams.txt \\\n",
      "                --bvecs=/export2/DATA/HIS/HIS_server/BIDS/sub-269/ses-1/dwi/sub-269_ses-1_acq-ap_run-01_dwi.bvec \\\n",
      "                --bvals=/export2/DATA/HIS/HIS_server/BIDS/sub-269/ses-1/dwi/sub-269_ses-1_acq-ap_run-01_dwi.bval \\\n",
      "                --topup=/export2/DATA/HIS/HIS_server/analysis/dwi_data/preproc/sub-269/topup_sub-269_AP_PA_before_b0s \\\n",
      "                --out=/export2/DATA/HIS/HIS_server/analysis/dwi_data/preproc/sub-269/eddy_unwarped_images_sub-269_before \\\n",
      "                --verbose            \n",
      "\n",
      "\">> Running this command on cheshire:\n",
      "ssh shirangera@cheshire.tau.ac.il eddy_cuda10.2 --imain=/export2/DATA/HIS/HIS_server/BIDS/sub-269/ses-3/dwi/sub-269_ses-3_acq-ap_run-02_dwi.nii.gz \\\n",
      "                --mask=/export2/DATA/HIS/HIS_server/analysis/dwi_data/preproc/sub-269/topup_sub-269_AP_PA_after_b0s_iout_avg_brain_mask \\\n",
      "                --index=/export2/DATA/HIS/HIS_server/analysis/dwi_data/preproc/sub-269/after_index.txt\\\n",
      "                --acqp=/export2/DATA/HIS/HIS_server/analysis/dwi_data/preproc/sub-269/sub-269_after_acqparams.txt \\\n",
      "                --bvecs=/export2/DATA/HIS/HIS_server/BIDS/sub-269/ses-3/dwi/sub-269_ses-3_acq-ap_run-02_dwi.bvec \\\n",
      "                --bvals=/export2/DATA/HIS/HIS_server/BIDS/sub-269/ses-3/dwi/sub-269_ses-3_acq-ap_run-02_dwi.bval \\\n",
      "                --topup=/export2/DATA/HIS/HIS_server/analysis/dwi_data/preproc/sub-269/topup_sub-269_AP_PA_after_b0s \\\n",
      "                --out=/export2/DATA/HIS/HIS_server/analysis/dwi_data/preproc/sub-269/eddy_unwarped_images_sub-269_after \\\n",
      "                --verbose            \n",
      "\n",
      "\">> Running this command on cheshire:\n",
      "ssh shirangera@cheshire.tau.ac.il eddy_cuda10.2 --imain=/export2/DATA/HIS/HIS_server/BIDS/sub-278/ses-1/dwi/sub-278_ses-1_acq-ap_run-01_dwi.nii.gz \\\n",
      "                --mask=/export2/DATA/HIS/HIS_server/analysis/dwi_data/preproc/sub-278/topup_sub-278_AP_PA_before_b0s_iout_avg_brain_mask \\\n",
      "                --index=/export2/DATA/HIS/HIS_server/analysis/dwi_data/preproc/sub-278/before_index.txt\\\n",
      "                --acqp=/export2/DATA/HIS/HIS_server/analysis/dwi_data/preproc/sub-278/sub-278_before_acqparams.txt \\\n",
      "                --bvecs=/export2/DATA/HIS/HIS_server/BIDS/sub-278/ses-1/dwi/sub-278_ses-1_acq-ap_run-01_dwi.bvec \\\n",
      "                --bvals=/export2/DATA/HIS/HIS_server/BIDS/sub-278/ses-1/dwi/sub-278_ses-1_acq-ap_run-01_dwi.bval \\\n",
      "                --topup=/export2/DATA/HIS/HIS_server/analysis/dwi_data/preproc/sub-278/topup_sub-278_AP_PA_before_b0s \\\n",
      "                --out=/export2/DATA/HIS/HIS_server/analysis/dwi_data/preproc/sub-278/eddy_unwarped_images_sub-278_before \\\n",
      "                --verbose            \n",
      "\n",
      "\">> Running this command on cheshire:\n",
      "ssh shirangera@cheshire.tau.ac.il eddy_cuda10.2 --imain=/export2/DATA/HIS/HIS_server/BIDS/sub-278/ses-3/dwi/sub-278_ses-3_acq-ap_run-02_dwi.nii.gz \\\n",
      "                --mask=/export2/DATA/HIS/HIS_server/analysis/dwi_data/preproc/sub-278/topup_sub-278_AP_PA_after_b0s_iout_avg_brain_mask \\\n",
      "                --index=/export2/DATA/HIS/HIS_server/analysis/dwi_data/preproc/sub-278/after_index.txt\\\n",
      "                --acqp=/export2/DATA/HIS/HIS_server/analysis/dwi_data/preproc/sub-278/sub-278_after_acqparams.txt \\\n",
      "                --bvecs=/export2/DATA/HIS/HIS_server/BIDS/sub-278/ses-3/dwi/sub-278_ses-3_acq-ap_run-02_dwi.bvec \\\n",
      "                --bvals=/export2/DATA/HIS/HIS_server/BIDS/sub-278/ses-3/dwi/sub-278_ses-3_acq-ap_run-02_dwi.bval \\\n",
      "                --topup=/export2/DATA/HIS/HIS_server/analysis/dwi_data/preproc/sub-278/topup_sub-278_AP_PA_after_b0s \\\n",
      "                --out=/export2/DATA/HIS/HIS_server/analysis/dwi_data/preproc/sub-278/eddy_unwarped_images_sub-278_after \\\n",
      "                --verbose            \n",
      "\n",
      ">> COMPLETED.\n"
     ]
    }
   ],
   "source": [
    "print('> Run EDDY using cheshire server GPU (one per subject per time [''before'' and ''after''])')\n",
    "# files_to_run_each_time = 200\n",
    "# counter=1\n",
    "for subjFolder in subjFolders:\n",
    "    # if int(subjFolder.split('-')[1])<265:\n",
    "    #     continue\n",
    "\n",
    "    # # Stop executing more:\n",
    "    # if counter > files_to_run_each_time:\n",
    "    #     break\n",
    "\n",
    "    scansBaseNames = createSubjectScansBaseNames(subjFolder, data_path)\n",
    "\n",
    "    # check if all expected output files exist:\n",
    "    for time in ['before', 'after']:\n",
    "        \n",
    "        eddy_output_files = glob.glob(os.path.join(preproc_path, subjFolder, f'eddy_unwarped_images_{subjFolder}_{time}*')) # get files in a directory\n",
    "        expected_EDDY_out_files_exist = len(list(set(eddy_output_files))) >= n_expected_EDDY_output_files # check that the number of unique EDDY files is as expected\n",
    "\n",
    "        # Run the launch file if not all output files present:\n",
    "        if not expected_EDDY_out_files_exist:\n",
    "            eddy_command_to_run = f\"{ssh_command_for_cheshire_server} {EDDY_command} --imain={scansBaseNames[f'AP_{time}']}.nii.gz \\\\\\n\\\n",
    "                --mask={os.path.join(preproc_path, subjFolder,'topup_' + subjFolder)}_AP_PA_{time}_b0s_iout_avg_brain_mask \\\\\\n\\\n",
    "                --index={os.path.join(preproc_path, subjFolder, time + '_index.txt')}\\\\\\n\\\n",
    "                --acqp={os.path.join(preproc_path, subjFolder, subjFolder + '_' + time + '_acqparams.txt')} \\\\\\n\\\n",
    "                --bvecs={scansBaseNames[f'AP_{time}']}.bvec \\\\\\n\\\n",
    "                --bvals={scansBaseNames[f'AP_{time}']}.bval \\\\\\n\\\n",
    "                --topup={os.path.join(preproc_path, subjFolder,'topup_' + subjFolder)}_AP_PA_{time}_b0s \\\\\\n\\\n",
    "                --out={os.path.join(preproc_path, subjFolder,'eddy_unwarped_images_' + subjFolder)}_{time} \\\\\\n\\\n",
    "                --verbose\\\n",
    "            \"\n",
    "            print(f'\">> Running this command on cheshire:\\n{eddy_command_to_run}\\n')\n",
    "            os.system(eddy_command_to_run)\n",
    "            # counter+=1\n",
    "\n",
    "print(f\">> COMPLETED.\")"
   ]
  },
  {
   "cell_type": "markdown",
   "metadata": {},
   "source": [
    "Create EDDY launch files [Currently not in use]"
   ]
  },
  {
   "cell_type": "code",
   "execution_count": 47,
   "metadata": {},
   "outputs": [],
   "source": [
    "# print('> Create the EDDY launch files (one per subject [''before'' and ''after''] together)')\n",
    "# for subjFolder in subjFolders:\n",
    "\n",
    "#     scansBaseNames = createSubjectScansBaseNames(subjFolder, data_path)\n",
    "#     launch_file = os.path.join(launch_files_path, 'EDDY_' + subjFolder + '_launch.txt')\n",
    "\n",
    "#     if not os.path.isfile(launch_file):\n",
    "#         with open(launch_file, 'w') as f:\n",
    "#             for time in ['before', 'after']:\n",
    "#                 print(f\">> This command was written to {launch_file}:\\n{EDDY_command} --imain={scansBaseNames[f'AP_{time}']}.nii.gz \\\\\\n\\\n",
    "#                     --mask={os.path.join(preproc_path, subjFolder,'topup_' + subjFolder)}_AP_PA_{time}_b0s_iout_avg_brain_mask \\\\\\n\\\n",
    "#                     --index={os.path.join(preproc_path, subjFolder, time + '_index.txt')}\\\\\\n\\\n",
    "#                     --acqp={os.path.join(preproc_path, subjFolder, subjFolder + '_' + time + '_acqparams.txt')} \\\\\\n\\\n",
    "#                     --bvecs={scansBaseNames[f'AP_{time}']}.bvec \\\\\\n\\\n",
    "#                     --bvals={scansBaseNames[f'AP_{time}']}.bval \\\\\\n\\\n",
    "#                     --topup={os.path.join(preproc_path, subjFolder,'topup_' + subjFolder)}_AP_PA_{time}_b0s \\\\\\n\\\n",
    "#                     --out={os.path.join(preproc_path, subjFolder,'eddy_unwarped_images_' + subjFolder)}_{time} \\\\\\n\\\n",
    "#                     --verbose \\n\\\n",
    "#                 \")\n",
    "#                 #f.write(f\"{EDDY_command} --imain={scansBaseNames[f'AP_{time}']}.nii.gz --mask={os.path.join(preproc_path, subjFolder,'topup_' + subjFolder)}_AP_PA_{time}_b0s_iout_avg_brain_mask --index={os.path.join(preproc_path, subjFolder, time + '_index.txt')} --acqp={os.path.join(preproc_path, subjFolder, subjFolder + '_' + time + '_acqparams.txt')} --bvecs={scansBaseNames[f'AP_{time}']}.bvec --bvals={scansBaseNames[f'AP_{time}']}.bval --topup={os.path.join(preproc_path, subjFolder,'topup_' + subjFolder)}_AP_PA_{time}_b0s --out={os.path.join(preproc_path, subjFolder,'eddy_unwarped_images_' + subjFolder)}_{time} --verbose\\n\")\n",
    "# print(f\">> COMPLETED.\")"
   ]
  },
  {
   "cell_type": "markdown",
   "metadata": {},
   "source": [
    "Run EDDY launch files  [Currently not in use]"
   ]
  },
  {
   "cell_type": "code",
   "execution_count": 26,
   "metadata": {},
   "outputs": [],
   "source": [
    "# print('> Run the EDDY launch files (one per subject [''before'' and ''after''] together)')\n",
    "# for subjFolder in subjFolders:\n",
    "\n",
    "#     launch_file = os.path.join(launch_files_path, 'EDDY_' + subjFolder + '_launch.txt')\n",
    "\n",
    "#     # check if all expected output files exist:\n",
    "#     expected_EDDY_out_files_exist = []\n",
    "#     for time in ['before', 'after']:\n",
    "#         eddy_output_files = glob.glob(os.path.join(preproc_path, subjFolder, f'eddy_unwarped_images_{subjFolder}_{time}*')) # get files in a directory\n",
    "#         expected_EDDY_out_files_exist.append(len(list(set(eddy_output_files))) == n_expected_EDDY_output_files) # check that the number of unique EDDY files is as expected\n",
    "\n",
    "#     # Run the launch file if not all output files present:\n",
    "#     if not all(expected_EDDY_out_files_exist):\n",
    "#                 print(f\">> Running: launch -s {launch_file} -j schonberglab -p {n_cores_EDDY} -r inf\")\n",
    "#                 #os.system(f\">> Running: launch -s {launch_file} -j schonberglab -p {n_cores_EDDY} -r inf\")\n",
    "# print(f\">> COMPLETED.\")"
   ]
  },
  {
   "cell_type": "markdown",
   "metadata": {},
   "source": [
    "#### Run EDDY QC"
   ]
  },
  {
   "cell_type": "code",
   "execution_count": 27,
   "metadata": {},
   "outputs": [
    {
     "name": "stdout",
     "output_type": "stream",
     "text": [
      "eddy_quad /export2/DATA/HIS/HIS_server/analysis/dwi_data/preproc/sub-103/eddy_unwarped_images_sub-103_before \\\n",
      "                -idx /export2/DATA/HIS/HIS_server/analysis/dwi_data/preproc/sub-103/before_index.txt \\\n",
      "                -par /export2/DATA/HIS/HIS_server/analysis/dwi_data/preproc/sub-103/sub-103_before_acqparams.txt \\\n",
      "                -m   /export2/DATA/HIS/HIS_server/analysis/dwi_data/preproc/sub-103/topup_sub-103_AP_PA_before_b0s_iout_avg_brain_mask.nii.gz \\\n",
      "                -b   /export2/DATA/HIS/HIS_server/BIDS/sub-103/ses-1/dwi/sub-103_ses-1_acq-ap_run-01_dwi.bval                \n",
      "eddy_quad /export2/DATA/HIS/HIS_server/analysis/dwi_data/preproc/sub-103/eddy_unwarped_images_sub-103_after \\\n",
      "                -idx /export2/DATA/HIS/HIS_server/analysis/dwi_data/preproc/sub-103/after_index.txt \\\n",
      "                -par /export2/DATA/HIS/HIS_server/analysis/dwi_data/preproc/sub-103/sub-103_after_acqparams.txt \\\n",
      "                -m   /export2/DATA/HIS/HIS_server/analysis/dwi_data/preproc/sub-103/topup_sub-103_AP_PA_after_b0s_iout_avg_brain_mask.nii.gz \\\n",
      "                -b   /export2/DATA/HIS/HIS_server/BIDS/sub-103/ses-1/dwi/sub-103_ses-1_acq-ap_run-02_dwi.bval                \n",
      "eddy_quad /export2/DATA/HIS/HIS_server/analysis/dwi_data/preproc/sub-104/eddy_unwarped_images_sub-104_before \\\n",
      "                -idx /export2/DATA/HIS/HIS_server/analysis/dwi_data/preproc/sub-104/before_index.txt \\\n",
      "                -par /export2/DATA/HIS/HIS_server/analysis/dwi_data/preproc/sub-104/sub-104_before_acqparams.txt \\\n",
      "                -m   /export2/DATA/HIS/HIS_server/analysis/dwi_data/preproc/sub-104/topup_sub-104_AP_PA_before_b0s_iout_avg_brain_mask.nii.gz \\\n",
      "                -b   /export2/DATA/HIS/HIS_server/BIDS/sub-104/ses-1/dwi/sub-104_ses-1_acq-ap_run-01_dwi.bval                \n",
      "eddy_quad /export2/DATA/HIS/HIS_server/analysis/dwi_data/preproc/sub-104/eddy_unwarped_images_sub-104_after \\\n",
      "                -idx /export2/DATA/HIS/HIS_server/analysis/dwi_data/preproc/sub-104/after_index.txt \\\n",
      "                -par /export2/DATA/HIS/HIS_server/analysis/dwi_data/preproc/sub-104/sub-104_after_acqparams.txt \\\n",
      "                -m   /export2/DATA/HIS/HIS_server/analysis/dwi_data/preproc/sub-104/topup_sub-104_AP_PA_after_b0s_iout_avg_brain_mask.nii.gz \\\n",
      "                -b   /export2/DATA/HIS/HIS_server/BIDS/sub-104/ses-1/dwi/sub-104_ses-1_acq-ap_run-02_dwi.bval                \n",
      "eddy_quad /export2/DATA/HIS/HIS_server/analysis/dwi_data/preproc/sub-106/eddy_unwarped_images_sub-106_before \\\n",
      "                -idx /export2/DATA/HIS/HIS_server/analysis/dwi_data/preproc/sub-106/before_index.txt \\\n",
      "                -par /export2/DATA/HIS/HIS_server/analysis/dwi_data/preproc/sub-106/sub-106_before_acqparams.txt \\\n",
      "                -m   /export2/DATA/HIS/HIS_server/analysis/dwi_data/preproc/sub-106/topup_sub-106_AP_PA_before_b0s_iout_avg_brain_mask.nii.gz \\\n",
      "                -b   /export2/DATA/HIS/HIS_server/BIDS/sub-106/ses-1/dwi/sub-106_ses-1_acq-ap_run-01_dwi.bval                \n",
      "eddy_quad /export2/DATA/HIS/HIS_server/analysis/dwi_data/preproc/sub-106/eddy_unwarped_images_sub-106_after \\\n",
      "                -idx /export2/DATA/HIS/HIS_server/analysis/dwi_data/preproc/sub-106/after_index.txt \\\n",
      "                -par /export2/DATA/HIS/HIS_server/analysis/dwi_data/preproc/sub-106/sub-106_after_acqparams.txt \\\n",
      "                -m   /export2/DATA/HIS/HIS_server/analysis/dwi_data/preproc/sub-106/topup_sub-106_AP_PA_after_b0s_iout_avg_brain_mask.nii.gz \\\n",
      "                -b   /export2/DATA/HIS/HIS_server/BIDS/sub-106/ses-1/dwi/sub-106_ses-1_acq-ap_run-02_dwi.bval                \n",
      "eddy_quad /export2/DATA/HIS/HIS_server/analysis/dwi_data/preproc/sub-107/eddy_unwarped_images_sub-107_before \\\n",
      "                -idx /export2/DATA/HIS/HIS_server/analysis/dwi_data/preproc/sub-107/before_index.txt \\\n",
      "                -par /export2/DATA/HIS/HIS_server/analysis/dwi_data/preproc/sub-107/sub-107_before_acqparams.txt \\\n",
      "                -m   /export2/DATA/HIS/HIS_server/analysis/dwi_data/preproc/sub-107/topup_sub-107_AP_PA_before_b0s_iout_avg_brain_mask.nii.gz \\\n",
      "                -b   /export2/DATA/HIS/HIS_server/BIDS/sub-107/ses-1/dwi/sub-107_ses-1_acq-ap_run-01_dwi.bval                \n",
      "eddy_quad /export2/DATA/HIS/HIS_server/analysis/dwi_data/preproc/sub-107/eddy_unwarped_images_sub-107_after \\\n",
      "                -idx /export2/DATA/HIS/HIS_server/analysis/dwi_data/preproc/sub-107/after_index.txt \\\n",
      "                -par /export2/DATA/HIS/HIS_server/analysis/dwi_data/preproc/sub-107/sub-107_after_acqparams.txt \\\n",
      "                -m   /export2/DATA/HIS/HIS_server/analysis/dwi_data/preproc/sub-107/topup_sub-107_AP_PA_after_b0s_iout_avg_brain_mask.nii.gz \\\n",
      "                -b   /export2/DATA/HIS/HIS_server/BIDS/sub-107/ses-1/dwi/sub-107_ses-1_acq-ap_run-02_dwi.bval                \n",
      "eddy_quad /export2/DATA/HIS/HIS_server/analysis/dwi_data/preproc/sub-108/eddy_unwarped_images_sub-108_before \\\n",
      "                -idx /export2/DATA/HIS/HIS_server/analysis/dwi_data/preproc/sub-108/before_index.txt \\\n",
      "                -par /export2/DATA/HIS/HIS_server/analysis/dwi_data/preproc/sub-108/sub-108_before_acqparams.txt \\\n",
      "                -m   /export2/DATA/HIS/HIS_server/analysis/dwi_data/preproc/sub-108/topup_sub-108_AP_PA_before_b0s_iout_avg_brain_mask.nii.gz \\\n",
      "                -b   /export2/DATA/HIS/HIS_server/BIDS/sub-108/ses-1/dwi/sub-108_ses-1_acq-ap_run-01_dwi.bval                \n",
      "eddy_quad /export2/DATA/HIS/HIS_server/analysis/dwi_data/preproc/sub-108/eddy_unwarped_images_sub-108_after \\\n",
      "                -idx /export2/DATA/HIS/HIS_server/analysis/dwi_data/preproc/sub-108/after_index.txt \\\n",
      "                -par /export2/DATA/HIS/HIS_server/analysis/dwi_data/preproc/sub-108/sub-108_after_acqparams.txt \\\n",
      "                -m   /export2/DATA/HIS/HIS_server/analysis/dwi_data/preproc/sub-108/topup_sub-108_AP_PA_after_b0s_iout_avg_brain_mask.nii.gz \\\n",
      "                -b   /export2/DATA/HIS/HIS_server/BIDS/sub-108/ses-1/dwi/sub-108_ses-1_acq-ap_run-02_dwi.bval                \n",
      "eddy_quad /export2/DATA/HIS/HIS_server/analysis/dwi_data/preproc/sub-113/eddy_unwarped_images_sub-113_before \\\n",
      "                -idx /export2/DATA/HIS/HIS_server/analysis/dwi_data/preproc/sub-113/before_index.txt \\\n",
      "                -par /export2/DATA/HIS/HIS_server/analysis/dwi_data/preproc/sub-113/sub-113_before_acqparams.txt \\\n",
      "                -m   /export2/DATA/HIS/HIS_server/analysis/dwi_data/preproc/sub-113/topup_sub-113_AP_PA_before_b0s_iout_avg_brain_mask.nii.gz \\\n",
      "                -b   /export2/DATA/HIS/HIS_server/BIDS/sub-113/ses-1/dwi/sub-113_ses-1_acq-ap_run-01_dwi.bval                \n",
      "eddy_quad /export2/DATA/HIS/HIS_server/analysis/dwi_data/preproc/sub-113/eddy_unwarped_images_sub-113_after \\\n",
      "                -idx /export2/DATA/HIS/HIS_server/analysis/dwi_data/preproc/sub-113/after_index.txt \\\n",
      "                -par /export2/DATA/HIS/HIS_server/analysis/dwi_data/preproc/sub-113/sub-113_after_acqparams.txt \\\n",
      "                -m   /export2/DATA/HIS/HIS_server/analysis/dwi_data/preproc/sub-113/topup_sub-113_AP_PA_after_b0s_iout_avg_brain_mask.nii.gz \\\n",
      "                -b   /export2/DATA/HIS/HIS_server/BIDS/sub-113/ses-1/dwi/sub-113_ses-1_acq-ap_run-02_dwi.bval                \n",
      "eddy_quad /export2/DATA/HIS/HIS_server/analysis/dwi_data/preproc/sub-114/eddy_unwarped_images_sub-114_before \\\n",
      "                -idx /export2/DATA/HIS/HIS_server/analysis/dwi_data/preproc/sub-114/before_index.txt \\\n",
      "                -par /export2/DATA/HIS/HIS_server/analysis/dwi_data/preproc/sub-114/sub-114_before_acqparams.txt \\\n",
      "                -m   /export2/DATA/HIS/HIS_server/analysis/dwi_data/preproc/sub-114/topup_sub-114_AP_PA_before_b0s_iout_avg_brain_mask.nii.gz \\\n",
      "                -b   /export2/DATA/HIS/HIS_server/BIDS/sub-114/ses-1/dwi/sub-114_ses-1_acq-ap_run-01_dwi.bval                \n",
      "eddy_quad /export2/DATA/HIS/HIS_server/analysis/dwi_data/preproc/sub-114/eddy_unwarped_images_sub-114_after \\\n",
      "                -idx /export2/DATA/HIS/HIS_server/analysis/dwi_data/preproc/sub-114/after_index.txt \\\n",
      "                -par /export2/DATA/HIS/HIS_server/analysis/dwi_data/preproc/sub-114/sub-114_after_acqparams.txt \\\n",
      "                -m   /export2/DATA/HIS/HIS_server/analysis/dwi_data/preproc/sub-114/topup_sub-114_AP_PA_after_b0s_iout_avg_brain_mask.nii.gz \\\n",
      "                -b   /export2/DATA/HIS/HIS_server/BIDS/sub-114/ses-1/dwi/sub-114_ses-1_acq-ap_run-02_dwi.bval                \n",
      "eddy_quad /export2/DATA/HIS/HIS_server/analysis/dwi_data/preproc/sub-115/eddy_unwarped_images_sub-115_before \\\n",
      "                -idx /export2/DATA/HIS/HIS_server/analysis/dwi_data/preproc/sub-115/before_index.txt \\\n",
      "                -par /export2/DATA/HIS/HIS_server/analysis/dwi_data/preproc/sub-115/sub-115_before_acqparams.txt \\\n",
      "                -m   /export2/DATA/HIS/HIS_server/analysis/dwi_data/preproc/sub-115/topup_sub-115_AP_PA_before_b0s_iout_avg_brain_mask.nii.gz \\\n",
      "                -b   /export2/DATA/HIS/HIS_server/BIDS/sub-115/ses-1/dwi/sub-115_ses-1_acq-ap_run-01_dwi.bval                \n",
      "eddy_quad /export2/DATA/HIS/HIS_server/analysis/dwi_data/preproc/sub-115/eddy_unwarped_images_sub-115_after \\\n",
      "                -idx /export2/DATA/HIS/HIS_server/analysis/dwi_data/preproc/sub-115/after_index.txt \\\n",
      "                -par /export2/DATA/HIS/HIS_server/analysis/dwi_data/preproc/sub-115/sub-115_after_acqparams.txt \\\n",
      "                -m   /export2/DATA/HIS/HIS_server/analysis/dwi_data/preproc/sub-115/topup_sub-115_AP_PA_after_b0s_iout_avg_brain_mask.nii.gz \\\n",
      "                -b   /export2/DATA/HIS/HIS_server/BIDS/sub-115/ses-1/dwi/sub-115_ses-1_acq-ap_run-02_dwi.bval                \n",
      "eddy_quad /export2/DATA/HIS/HIS_server/analysis/dwi_data/preproc/sub-117/eddy_unwarped_images_sub-117_before \\\n",
      "                -idx /export2/DATA/HIS/HIS_server/analysis/dwi_data/preproc/sub-117/before_index.txt \\\n",
      "                -par /export2/DATA/HIS/HIS_server/analysis/dwi_data/preproc/sub-117/sub-117_before_acqparams.txt \\\n",
      "                -m   /export2/DATA/HIS/HIS_server/analysis/dwi_data/preproc/sub-117/topup_sub-117_AP_PA_before_b0s_iout_avg_brain_mask.nii.gz \\\n",
      "                -b   /export2/DATA/HIS/HIS_server/BIDS/sub-117/ses-1/dwi/sub-117_ses-1_acq-ap_run-01_dwi.bval                \n",
      "eddy_quad /export2/DATA/HIS/HIS_server/analysis/dwi_data/preproc/sub-117/eddy_unwarped_images_sub-117_after \\\n",
      "                -idx /export2/DATA/HIS/HIS_server/analysis/dwi_data/preproc/sub-117/after_index.txt \\\n",
      "                -par /export2/DATA/HIS/HIS_server/analysis/dwi_data/preproc/sub-117/sub-117_after_acqparams.txt \\\n",
      "                -m   /export2/DATA/HIS/HIS_server/analysis/dwi_data/preproc/sub-117/topup_sub-117_AP_PA_after_b0s_iout_avg_brain_mask.nii.gz \\\n",
      "                -b   /export2/DATA/HIS/HIS_server/BIDS/sub-117/ses-1/dwi/sub-117_ses-1_acq-ap_run-02_dwi.bval                \n",
      "eddy_quad /export2/DATA/HIS/HIS_server/analysis/dwi_data/preproc/sub-118/eddy_unwarped_images_sub-118_before \\\n",
      "                -idx /export2/DATA/HIS/HIS_server/analysis/dwi_data/preproc/sub-118/before_index.txt \\\n",
      "                -par /export2/DATA/HIS/HIS_server/analysis/dwi_data/preproc/sub-118/sub-118_before_acqparams.txt \\\n",
      "                -m   /export2/DATA/HIS/HIS_server/analysis/dwi_data/preproc/sub-118/topup_sub-118_AP_PA_before_b0s_iout_avg_brain_mask.nii.gz \\\n",
      "                -b   /export2/DATA/HIS/HIS_server/BIDS/sub-118/ses-1/dwi/sub-118_ses-1_acq-ap_run-01_dwi.bval                \n",
      "eddy_quad /export2/DATA/HIS/HIS_server/analysis/dwi_data/preproc/sub-118/eddy_unwarped_images_sub-118_after \\\n",
      "                -idx /export2/DATA/HIS/HIS_server/analysis/dwi_data/preproc/sub-118/after_index.txt \\\n",
      "                -par /export2/DATA/HIS/HIS_server/analysis/dwi_data/preproc/sub-118/sub-118_after_acqparams.txt \\\n",
      "                -m   /export2/DATA/HIS/HIS_server/analysis/dwi_data/preproc/sub-118/topup_sub-118_AP_PA_after_b0s_iout_avg_brain_mask.nii.gz \\\n",
      "                -b   /export2/DATA/HIS/HIS_server/BIDS/sub-118/ses-1/dwi/sub-118_ses-1_acq-ap_run-02_dwi.bval                \n",
      "eddy_quad /export2/DATA/HIS/HIS_server/analysis/dwi_data/preproc/sub-119/eddy_unwarped_images_sub-119_before \\\n",
      "                -idx /export2/DATA/HIS/HIS_server/analysis/dwi_data/preproc/sub-119/before_index.txt \\\n",
      "                -par /export2/DATA/HIS/HIS_server/analysis/dwi_data/preproc/sub-119/sub-119_before_acqparams.txt \\\n",
      "                -m   /export2/DATA/HIS/HIS_server/analysis/dwi_data/preproc/sub-119/topup_sub-119_AP_PA_before_b0s_iout_avg_brain_mask.nii.gz \\\n",
      "                -b   /export2/DATA/HIS/HIS_server/BIDS/sub-119/ses-1/dwi/sub-119_ses-1_acq-ap_run-01_dwi.bval                \n",
      "eddy_quad /export2/DATA/HIS/HIS_server/analysis/dwi_data/preproc/sub-119/eddy_unwarped_images_sub-119_after \\\n",
      "                -idx /export2/DATA/HIS/HIS_server/analysis/dwi_data/preproc/sub-119/after_index.txt \\\n",
      "                -par /export2/DATA/HIS/HIS_server/analysis/dwi_data/preproc/sub-119/sub-119_after_acqparams.txt \\\n",
      "                -m   /export2/DATA/HIS/HIS_server/analysis/dwi_data/preproc/sub-119/topup_sub-119_AP_PA_after_b0s_iout_avg_brain_mask.nii.gz \\\n",
      "                -b   /export2/DATA/HIS/HIS_server/BIDS/sub-119/ses-1/dwi/sub-119_ses-1_acq-ap_run-02_dwi.bval                \n",
      "eddy_quad /export2/DATA/HIS/HIS_server/analysis/dwi_data/preproc/sub-120/eddy_unwarped_images_sub-120_before \\\n",
      "                -idx /export2/DATA/HIS/HIS_server/analysis/dwi_data/preproc/sub-120/before_index.txt \\\n",
      "                -par /export2/DATA/HIS/HIS_server/analysis/dwi_data/preproc/sub-120/sub-120_before_acqparams.txt \\\n",
      "                -m   /export2/DATA/HIS/HIS_server/analysis/dwi_data/preproc/sub-120/topup_sub-120_AP_PA_before_b0s_iout_avg_brain_mask.nii.gz \\\n",
      "                -b   /export2/DATA/HIS/HIS_server/BIDS/sub-120/ses-1/dwi/sub-120_ses-1_acq-ap_run-01_dwi.bval                \n",
      "eddy_quad /export2/DATA/HIS/HIS_server/analysis/dwi_data/preproc/sub-120/eddy_unwarped_images_sub-120_after \\\n",
      "                -idx /export2/DATA/HIS/HIS_server/analysis/dwi_data/preproc/sub-120/after_index.txt \\\n",
      "                -par /export2/DATA/HIS/HIS_server/analysis/dwi_data/preproc/sub-120/sub-120_after_acqparams.txt \\\n",
      "                -m   /export2/DATA/HIS/HIS_server/analysis/dwi_data/preproc/sub-120/topup_sub-120_AP_PA_after_b0s_iout_avg_brain_mask.nii.gz \\\n",
      "                -b   /export2/DATA/HIS/HIS_server/BIDS/sub-120/ses-1/dwi/sub-120_ses-1_acq-ap_run-02_dwi.bval                \n",
      "eddy_quad /export2/DATA/HIS/HIS_server/analysis/dwi_data/preproc/sub-121/eddy_unwarped_images_sub-121_before \\\n",
      "                -idx /export2/DATA/HIS/HIS_server/analysis/dwi_data/preproc/sub-121/before_index.txt \\\n",
      "                -par /export2/DATA/HIS/HIS_server/analysis/dwi_data/preproc/sub-121/sub-121_before_acqparams.txt \\\n",
      "                -m   /export2/DATA/HIS/HIS_server/analysis/dwi_data/preproc/sub-121/topup_sub-121_AP_PA_before_b0s_iout_avg_brain_mask.nii.gz \\\n",
      "                -b   /export2/DATA/HIS/HIS_server/BIDS/sub-121/ses-1/dwi/sub-121_ses-1_acq-ap_run-01_dwi.bval                \n",
      "eddy_quad /export2/DATA/HIS/HIS_server/analysis/dwi_data/preproc/sub-121/eddy_unwarped_images_sub-121_after \\\n",
      "                -idx /export2/DATA/HIS/HIS_server/analysis/dwi_data/preproc/sub-121/after_index.txt \\\n",
      "                -par /export2/DATA/HIS/HIS_server/analysis/dwi_data/preproc/sub-121/sub-121_after_acqparams.txt \\\n",
      "                -m   /export2/DATA/HIS/HIS_server/analysis/dwi_data/preproc/sub-121/topup_sub-121_AP_PA_after_b0s_iout_avg_brain_mask.nii.gz \\\n",
      "                -b   /export2/DATA/HIS/HIS_server/BIDS/sub-121/ses-1/dwi/sub-121_ses-1_acq-ap_run-02_dwi.bval                \n",
      "eddy_quad /export2/DATA/HIS/HIS_server/analysis/dwi_data/preproc/sub-122/eddy_unwarped_images_sub-122_before \\\n",
      "                -idx /export2/DATA/HIS/HIS_server/analysis/dwi_data/preproc/sub-122/before_index.txt \\\n",
      "                -par /export2/DATA/HIS/HIS_server/analysis/dwi_data/preproc/sub-122/sub-122_before_acqparams.txt \\\n",
      "                -m   /export2/DATA/HIS/HIS_server/analysis/dwi_data/preproc/sub-122/topup_sub-122_AP_PA_before_b0s_iout_avg_brain_mask.nii.gz \\\n",
      "                -b   /export2/DATA/HIS/HIS_server/BIDS/sub-122/ses-1/dwi/sub-122_ses-1_acq-ap_run-01_dwi.bval                \n",
      "eddy_quad /export2/DATA/HIS/HIS_server/analysis/dwi_data/preproc/sub-122/eddy_unwarped_images_sub-122_after \\\n",
      "                -idx /export2/DATA/HIS/HIS_server/analysis/dwi_data/preproc/sub-122/after_index.txt \\\n",
      "                -par /export2/DATA/HIS/HIS_server/analysis/dwi_data/preproc/sub-122/sub-122_after_acqparams.txt \\\n",
      "                -m   /export2/DATA/HIS/HIS_server/analysis/dwi_data/preproc/sub-122/topup_sub-122_AP_PA_after_b0s_iout_avg_brain_mask.nii.gz \\\n",
      "                -b   /export2/DATA/HIS/HIS_server/BIDS/sub-122/ses-1/dwi/sub-122_ses-1_acq-ap_run-02_dwi.bval                \n",
      "eddy_quad /export2/DATA/HIS/HIS_server/analysis/dwi_data/preproc/sub-124/eddy_unwarped_images_sub-124_before \\\n",
      "                -idx /export2/DATA/HIS/HIS_server/analysis/dwi_data/preproc/sub-124/before_index.txt \\\n",
      "                -par /export2/DATA/HIS/HIS_server/analysis/dwi_data/preproc/sub-124/sub-124_before_acqparams.txt \\\n",
      "                -m   /export2/DATA/HIS/HIS_server/analysis/dwi_data/preproc/sub-124/topup_sub-124_AP_PA_before_b0s_iout_avg_brain_mask.nii.gz \\\n",
      "                -b   /export2/DATA/HIS/HIS_server/BIDS/sub-124/ses-1/dwi/sub-124_ses-1_acq-ap_run-01_dwi.bval                \n",
      "eddy_quad /export2/DATA/HIS/HIS_server/analysis/dwi_data/preproc/sub-124/eddy_unwarped_images_sub-124_after \\\n",
      "                -idx /export2/DATA/HIS/HIS_server/analysis/dwi_data/preproc/sub-124/after_index.txt \\\n",
      "                -par /export2/DATA/HIS/HIS_server/analysis/dwi_data/preproc/sub-124/sub-124_after_acqparams.txt \\\n",
      "                -m   /export2/DATA/HIS/HIS_server/analysis/dwi_data/preproc/sub-124/topup_sub-124_AP_PA_after_b0s_iout_avg_brain_mask.nii.gz \\\n",
      "                -b   /export2/DATA/HIS/HIS_server/BIDS/sub-124/ses-1/dwi/sub-124_ses-1_acq-ap_run-02_dwi.bval                \n",
      "eddy_quad /export2/DATA/HIS/HIS_server/analysis/dwi_data/preproc/sub-126/eddy_unwarped_images_sub-126_before \\\n",
      "                -idx /export2/DATA/HIS/HIS_server/analysis/dwi_data/preproc/sub-126/before_index.txt \\\n",
      "                -par /export2/DATA/HIS/HIS_server/analysis/dwi_data/preproc/sub-126/sub-126_before_acqparams.txt \\\n",
      "                -m   /export2/DATA/HIS/HIS_server/analysis/dwi_data/preproc/sub-126/topup_sub-126_AP_PA_before_b0s_iout_avg_brain_mask.nii.gz \\\n",
      "                -b   /export2/DATA/HIS/HIS_server/BIDS/sub-126/ses-1/dwi/sub-126_ses-1_acq-ap_run-01_dwi.bval                \n",
      "eddy_quad /export2/DATA/HIS/HIS_server/analysis/dwi_data/preproc/sub-126/eddy_unwarped_images_sub-126_after \\\n",
      "                -idx /export2/DATA/HIS/HIS_server/analysis/dwi_data/preproc/sub-126/after_index.txt \\\n",
      "                -par /export2/DATA/HIS/HIS_server/analysis/dwi_data/preproc/sub-126/sub-126_after_acqparams.txt \\\n",
      "                -m   /export2/DATA/HIS/HIS_server/analysis/dwi_data/preproc/sub-126/topup_sub-126_AP_PA_after_b0s_iout_avg_brain_mask.nii.gz \\\n",
      "                -b   /export2/DATA/HIS/HIS_server/BIDS/sub-126/ses-1/dwi/sub-126_ses-1_acq-ap_run-02_dwi.bval                \n",
      "eddy_quad /export2/DATA/HIS/HIS_server/analysis/dwi_data/preproc/sub-127/eddy_unwarped_images_sub-127_before \\\n",
      "                -idx /export2/DATA/HIS/HIS_server/analysis/dwi_data/preproc/sub-127/before_index.txt \\\n",
      "                -par /export2/DATA/HIS/HIS_server/analysis/dwi_data/preproc/sub-127/sub-127_before_acqparams.txt \\\n",
      "                -m   /export2/DATA/HIS/HIS_server/analysis/dwi_data/preproc/sub-127/topup_sub-127_AP_PA_before_b0s_iout_avg_brain_mask.nii.gz \\\n",
      "                -b   /export2/DATA/HIS/HIS_server/BIDS/sub-127/ses-1/dwi/sub-127_ses-1_acq-ap_run-01_dwi.bval                \n",
      "eddy_quad /export2/DATA/HIS/HIS_server/analysis/dwi_data/preproc/sub-127/eddy_unwarped_images_sub-127_after \\\n",
      "                -idx /export2/DATA/HIS/HIS_server/analysis/dwi_data/preproc/sub-127/after_index.txt \\\n",
      "                -par /export2/DATA/HIS/HIS_server/analysis/dwi_data/preproc/sub-127/sub-127_after_acqparams.txt \\\n",
      "                -m   /export2/DATA/HIS/HIS_server/analysis/dwi_data/preproc/sub-127/topup_sub-127_AP_PA_after_b0s_iout_avg_brain_mask.nii.gz \\\n",
      "                -b   /export2/DATA/HIS/HIS_server/BIDS/sub-127/ses-1/dwi/sub-127_ses-1_acq-ap_run-02_dwi.bval                \n",
      "eddy_quad /export2/DATA/HIS/HIS_server/analysis/dwi_data/preproc/sub-128/eddy_unwarped_images_sub-128_before \\\n",
      "                -idx /export2/DATA/HIS/HIS_server/analysis/dwi_data/preproc/sub-128/before_index.txt \\\n",
      "                -par /export2/DATA/HIS/HIS_server/analysis/dwi_data/preproc/sub-128/sub-128_before_acqparams.txt \\\n",
      "                -m   /export2/DATA/HIS/HIS_server/analysis/dwi_data/preproc/sub-128/topup_sub-128_AP_PA_before_b0s_iout_avg_brain_mask.nii.gz \\\n",
      "                -b   /export2/DATA/HIS/HIS_server/BIDS/sub-128/ses-1/dwi/sub-128_ses-1_acq-ap_run-01_dwi.bval                \n",
      "eddy_quad /export2/DATA/HIS/HIS_server/analysis/dwi_data/preproc/sub-128/eddy_unwarped_images_sub-128_after \\\n",
      "                -idx /export2/DATA/HIS/HIS_server/analysis/dwi_data/preproc/sub-128/after_index.txt \\\n",
      "                -par /export2/DATA/HIS/HIS_server/analysis/dwi_data/preproc/sub-128/sub-128_after_acqparams.txt \\\n",
      "                -m   /export2/DATA/HIS/HIS_server/analysis/dwi_data/preproc/sub-128/topup_sub-128_AP_PA_after_b0s_iout_avg_brain_mask.nii.gz \\\n",
      "                -b   /export2/DATA/HIS/HIS_server/BIDS/sub-128/ses-1/dwi/sub-128_ses-1_acq-ap_run-02_dwi.bval                \n",
      "eddy_quad /export2/DATA/HIS/HIS_server/analysis/dwi_data/preproc/sub-129/eddy_unwarped_images_sub-129_before \\\n",
      "                -idx /export2/DATA/HIS/HIS_server/analysis/dwi_data/preproc/sub-129/before_index.txt \\\n",
      "                -par /export2/DATA/HIS/HIS_server/analysis/dwi_data/preproc/sub-129/sub-129_before_acqparams.txt \\\n",
      "                -m   /export2/DATA/HIS/HIS_server/analysis/dwi_data/preproc/sub-129/topup_sub-129_AP_PA_before_b0s_iout_avg_brain_mask.nii.gz \\\n",
      "                -b   /export2/DATA/HIS/HIS_server/BIDS/sub-129/ses-1/dwi/sub-129_ses-1_acq-ap_run-01_dwi.bval                \n",
      "eddy_quad /export2/DATA/HIS/HIS_server/analysis/dwi_data/preproc/sub-129/eddy_unwarped_images_sub-129_after \\\n",
      "                -idx /export2/DATA/HIS/HIS_server/analysis/dwi_data/preproc/sub-129/after_index.txt \\\n",
      "                -par /export2/DATA/HIS/HIS_server/analysis/dwi_data/preproc/sub-129/sub-129_after_acqparams.txt \\\n",
      "                -m   /export2/DATA/HIS/HIS_server/analysis/dwi_data/preproc/sub-129/topup_sub-129_AP_PA_after_b0s_iout_avg_brain_mask.nii.gz \\\n",
      "                -b   /export2/DATA/HIS/HIS_server/BIDS/sub-129/ses-1/dwi/sub-129_ses-1_acq-ap_run-02_dwi.bval                \n",
      "eddy_quad /export2/DATA/HIS/HIS_server/analysis/dwi_data/preproc/sub-130/eddy_unwarped_images_sub-130_before \\\n",
      "                -idx /export2/DATA/HIS/HIS_server/analysis/dwi_data/preproc/sub-130/before_index.txt \\\n",
      "                -par /export2/DATA/HIS/HIS_server/analysis/dwi_data/preproc/sub-130/sub-130_before_acqparams.txt \\\n",
      "                -m   /export2/DATA/HIS/HIS_server/analysis/dwi_data/preproc/sub-130/topup_sub-130_AP_PA_before_b0s_iout_avg_brain_mask.nii.gz \\\n",
      "                -b   /export2/DATA/HIS/HIS_server/BIDS/sub-130/ses-1/dwi/sub-130_ses-1_acq-ap_run-01_dwi.bval                \n",
      "eddy_quad /export2/DATA/HIS/HIS_server/analysis/dwi_data/preproc/sub-130/eddy_unwarped_images_sub-130_after \\\n",
      "                -idx /export2/DATA/HIS/HIS_server/analysis/dwi_data/preproc/sub-130/after_index.txt \\\n",
      "                -par /export2/DATA/HIS/HIS_server/analysis/dwi_data/preproc/sub-130/sub-130_after_acqparams.txt \\\n",
      "                -m   /export2/DATA/HIS/HIS_server/analysis/dwi_data/preproc/sub-130/topup_sub-130_AP_PA_after_b0s_iout_avg_brain_mask.nii.gz \\\n",
      "                -b   /export2/DATA/HIS/HIS_server/BIDS/sub-130/ses-1/dwi/sub-130_ses-1_acq-ap_run-02_dwi.bval                \n",
      "eddy_quad /export2/DATA/HIS/HIS_server/analysis/dwi_data/preproc/sub-131/eddy_unwarped_images_sub-131_before \\\n",
      "                -idx /export2/DATA/HIS/HIS_server/analysis/dwi_data/preproc/sub-131/before_index.txt \\\n",
      "                -par /export2/DATA/HIS/HIS_server/analysis/dwi_data/preproc/sub-131/sub-131_before_acqparams.txt \\\n",
      "                -m   /export2/DATA/HIS/HIS_server/analysis/dwi_data/preproc/sub-131/topup_sub-131_AP_PA_before_b0s_iout_avg_brain_mask.nii.gz \\\n",
      "                -b   /export2/DATA/HIS/HIS_server/BIDS/sub-131/ses-1/dwi/sub-131_ses-1_acq-ap_run-01_dwi.bval                \n",
      "eddy_quad /export2/DATA/HIS/HIS_server/analysis/dwi_data/preproc/sub-131/eddy_unwarped_images_sub-131_after \\\n",
      "                -idx /export2/DATA/HIS/HIS_server/analysis/dwi_data/preproc/sub-131/after_index.txt \\\n",
      "                -par /export2/DATA/HIS/HIS_server/analysis/dwi_data/preproc/sub-131/sub-131_after_acqparams.txt \\\n",
      "                -m   /export2/DATA/HIS/HIS_server/analysis/dwi_data/preproc/sub-131/topup_sub-131_AP_PA_after_b0s_iout_avg_brain_mask.nii.gz \\\n",
      "                -b   /export2/DATA/HIS/HIS_server/BIDS/sub-131/ses-1/dwi/sub-131_ses-1_acq-ap_run-02_dwi.bval                \n",
      "eddy_quad /export2/DATA/HIS/HIS_server/analysis/dwi_data/preproc/sub-133/eddy_unwarped_images_sub-133_before \\\n",
      "                -idx /export2/DATA/HIS/HIS_server/analysis/dwi_data/preproc/sub-133/before_index.txt \\\n",
      "                -par /export2/DATA/HIS/HIS_server/analysis/dwi_data/preproc/sub-133/sub-133_before_acqparams.txt \\\n",
      "                -m   /export2/DATA/HIS/HIS_server/analysis/dwi_data/preproc/sub-133/topup_sub-133_AP_PA_before_b0s_iout_avg_brain_mask.nii.gz \\\n",
      "                -b   /export2/DATA/HIS/HIS_server/BIDS/sub-133/ses-1/dwi/sub-133_ses-1_acq-ap_run-01_dwi.bval                \n",
      "eddy_quad /export2/DATA/HIS/HIS_server/analysis/dwi_data/preproc/sub-133/eddy_unwarped_images_sub-133_after \\\n",
      "                -idx /export2/DATA/HIS/HIS_server/analysis/dwi_data/preproc/sub-133/after_index.txt \\\n",
      "                -par /export2/DATA/HIS/HIS_server/analysis/dwi_data/preproc/sub-133/sub-133_after_acqparams.txt \\\n",
      "                -m   /export2/DATA/HIS/HIS_server/analysis/dwi_data/preproc/sub-133/topup_sub-133_AP_PA_after_b0s_iout_avg_brain_mask.nii.gz \\\n",
      "                -b   /export2/DATA/HIS/HIS_server/BIDS/sub-133/ses-1/dwi/sub-133_ses-1_acq-ap_run-02_dwi.bval                \n",
      "eddy_quad /export2/DATA/HIS/HIS_server/analysis/dwi_data/preproc/sub-135/eddy_unwarped_images_sub-135_before \\\n",
      "                -idx /export2/DATA/HIS/HIS_server/analysis/dwi_data/preproc/sub-135/before_index.txt \\\n",
      "                -par /export2/DATA/HIS/HIS_server/analysis/dwi_data/preproc/sub-135/sub-135_before_acqparams.txt \\\n",
      "                -m   /export2/DATA/HIS/HIS_server/analysis/dwi_data/preproc/sub-135/topup_sub-135_AP_PA_before_b0s_iout_avg_brain_mask.nii.gz \\\n",
      "                -b   /export2/DATA/HIS/HIS_server/BIDS/sub-135/ses-1/dwi/sub-135_ses-1_acq-ap_run-01_dwi.bval                \n",
      "eddy_quad /export2/DATA/HIS/HIS_server/analysis/dwi_data/preproc/sub-135/eddy_unwarped_images_sub-135_after \\\n",
      "                -idx /export2/DATA/HIS/HIS_server/analysis/dwi_data/preproc/sub-135/after_index.txt \\\n",
      "                -par /export2/DATA/HIS/HIS_server/analysis/dwi_data/preproc/sub-135/sub-135_after_acqparams.txt \\\n",
      "                -m   /export2/DATA/HIS/HIS_server/analysis/dwi_data/preproc/sub-135/topup_sub-135_AP_PA_after_b0s_iout_avg_brain_mask.nii.gz \\\n",
      "                -b   /export2/DATA/HIS/HIS_server/BIDS/sub-135/ses-1/dwi/sub-135_ses-1_acq-ap_run-02_dwi.bval                \n",
      "eddy_quad /export2/DATA/HIS/HIS_server/analysis/dwi_data/preproc/sub-137/eddy_unwarped_images_sub-137_before \\\n",
      "                -idx /export2/DATA/HIS/HIS_server/analysis/dwi_data/preproc/sub-137/before_index.txt \\\n",
      "                -par /export2/DATA/HIS/HIS_server/analysis/dwi_data/preproc/sub-137/sub-137_before_acqparams.txt \\\n",
      "                -m   /export2/DATA/HIS/HIS_server/analysis/dwi_data/preproc/sub-137/topup_sub-137_AP_PA_before_b0s_iout_avg_brain_mask.nii.gz \\\n",
      "                -b   /export2/DATA/HIS/HIS_server/BIDS/sub-137/ses-1/dwi/sub-137_ses-1_acq-ap_run-01_dwi.bval                \n",
      "eddy_quad /export2/DATA/HIS/HIS_server/analysis/dwi_data/preproc/sub-137/eddy_unwarped_images_sub-137_after \\\n",
      "                -idx /export2/DATA/HIS/HIS_server/analysis/dwi_data/preproc/sub-137/after_index.txt \\\n",
      "                -par /export2/DATA/HIS/HIS_server/analysis/dwi_data/preproc/sub-137/sub-137_after_acqparams.txt \\\n",
      "                -m   /export2/DATA/HIS/HIS_server/analysis/dwi_data/preproc/sub-137/topup_sub-137_AP_PA_after_b0s_iout_avg_brain_mask.nii.gz \\\n",
      "                -b   /export2/DATA/HIS/HIS_server/BIDS/sub-137/ses-1/dwi/sub-137_ses-1_acq-ap_run-02_dwi.bval                \n",
      "eddy_quad /export2/DATA/HIS/HIS_server/analysis/dwi_data/preproc/sub-138/eddy_unwarped_images_sub-138_before \\\n",
      "                -idx /export2/DATA/HIS/HIS_server/analysis/dwi_data/preproc/sub-138/before_index.txt \\\n",
      "                -par /export2/DATA/HIS/HIS_server/analysis/dwi_data/preproc/sub-138/sub-138_before_acqparams.txt \\\n",
      "                -m   /export2/DATA/HIS/HIS_server/analysis/dwi_data/preproc/sub-138/topup_sub-138_AP_PA_before_b0s_iout_avg_brain_mask.nii.gz \\\n",
      "                -b   /export2/DATA/HIS/HIS_server/BIDS/sub-138/ses-1/dwi/sub-138_ses-1_acq-ap_run-01_dwi.bval                \n",
      "eddy_quad /export2/DATA/HIS/HIS_server/analysis/dwi_data/preproc/sub-138/eddy_unwarped_images_sub-138_after \\\n",
      "                -idx /export2/DATA/HIS/HIS_server/analysis/dwi_data/preproc/sub-138/after_index.txt \\\n",
      "                -par /export2/DATA/HIS/HIS_server/analysis/dwi_data/preproc/sub-138/sub-138_after_acqparams.txt \\\n",
      "                -m   /export2/DATA/HIS/HIS_server/analysis/dwi_data/preproc/sub-138/topup_sub-138_AP_PA_after_b0s_iout_avg_brain_mask.nii.gz \\\n",
      "                -b   /export2/DATA/HIS/HIS_server/BIDS/sub-138/ses-1/dwi/sub-138_ses-1_acq-ap_run-02_dwi.bval                \n",
      "eddy_quad /export2/DATA/HIS/HIS_server/analysis/dwi_data/preproc/sub-139/eddy_unwarped_images_sub-139_before \\\n",
      "                -idx /export2/DATA/HIS/HIS_server/analysis/dwi_data/preproc/sub-139/before_index.txt \\\n",
      "                -par /export2/DATA/HIS/HIS_server/analysis/dwi_data/preproc/sub-139/sub-139_before_acqparams.txt \\\n",
      "                -m   /export2/DATA/HIS/HIS_server/analysis/dwi_data/preproc/sub-139/topup_sub-139_AP_PA_before_b0s_iout_avg_brain_mask.nii.gz \\\n",
      "                -b   /export2/DATA/HIS/HIS_server/BIDS/sub-139/ses-1/dwi/sub-139_ses-1_acq-ap_run-01_dwi.bval                \n",
      "eddy_quad /export2/DATA/HIS/HIS_server/analysis/dwi_data/preproc/sub-139/eddy_unwarped_images_sub-139_after \\\n",
      "                -idx /export2/DATA/HIS/HIS_server/analysis/dwi_data/preproc/sub-139/after_index.txt \\\n",
      "                -par /export2/DATA/HIS/HIS_server/analysis/dwi_data/preproc/sub-139/sub-139_after_acqparams.txt \\\n",
      "                -m   /export2/DATA/HIS/HIS_server/analysis/dwi_data/preproc/sub-139/topup_sub-139_AP_PA_after_b0s_iout_avg_brain_mask.nii.gz \\\n",
      "                -b   /export2/DATA/HIS/HIS_server/BIDS/sub-139/ses-1/dwi/sub-139_ses-1_acq-ap_run-02_dwi.bval                \n",
      "eddy_quad /export2/DATA/HIS/HIS_server/analysis/dwi_data/preproc/sub-140/eddy_unwarped_images_sub-140_before \\\n",
      "                -idx /export2/DATA/HIS/HIS_server/analysis/dwi_data/preproc/sub-140/before_index.txt \\\n",
      "                -par /export2/DATA/HIS/HIS_server/analysis/dwi_data/preproc/sub-140/sub-140_before_acqparams.txt \\\n",
      "                -m   /export2/DATA/HIS/HIS_server/analysis/dwi_data/preproc/sub-140/topup_sub-140_AP_PA_before_b0s_iout_avg_brain_mask.nii.gz \\\n",
      "                -b   /export2/DATA/HIS/HIS_server/BIDS/sub-140/ses-1/dwi/sub-140_ses-1_acq-ap_run-01_dwi.bval                \n",
      "eddy_quad /export2/DATA/HIS/HIS_server/analysis/dwi_data/preproc/sub-140/eddy_unwarped_images_sub-140_after \\\n",
      "                -idx /export2/DATA/HIS/HIS_server/analysis/dwi_data/preproc/sub-140/after_index.txt \\\n",
      "                -par /export2/DATA/HIS/HIS_server/analysis/dwi_data/preproc/sub-140/sub-140_after_acqparams.txt \\\n",
      "                -m   /export2/DATA/HIS/HIS_server/analysis/dwi_data/preproc/sub-140/topup_sub-140_AP_PA_after_b0s_iout_avg_brain_mask.nii.gz \\\n",
      "                -b   /export2/DATA/HIS/HIS_server/BIDS/sub-140/ses-1/dwi/sub-140_ses-1_acq-ap_run-02_dwi.bval                \n",
      "eddy_quad /export2/DATA/HIS/HIS_server/analysis/dwi_data/preproc/sub-141/eddy_unwarped_images_sub-141_before \\\n",
      "                -idx /export2/DATA/HIS/HIS_server/analysis/dwi_data/preproc/sub-141/before_index.txt \\\n",
      "                -par /export2/DATA/HIS/HIS_server/analysis/dwi_data/preproc/sub-141/sub-141_before_acqparams.txt \\\n",
      "                -m   /export2/DATA/HIS/HIS_server/analysis/dwi_data/preproc/sub-141/topup_sub-141_AP_PA_before_b0s_iout_avg_brain_mask.nii.gz \\\n",
      "                -b   /export2/DATA/HIS/HIS_server/BIDS/sub-141/ses-1/dwi/sub-141_ses-1_acq-ap_run-01_dwi.bval                \n",
      "eddy_quad /export2/DATA/HIS/HIS_server/analysis/dwi_data/preproc/sub-141/eddy_unwarped_images_sub-141_after \\\n",
      "                -idx /export2/DATA/HIS/HIS_server/analysis/dwi_data/preproc/sub-141/after_index.txt \\\n",
      "                -par /export2/DATA/HIS/HIS_server/analysis/dwi_data/preproc/sub-141/sub-141_after_acqparams.txt \\\n",
      "                -m   /export2/DATA/HIS/HIS_server/analysis/dwi_data/preproc/sub-141/topup_sub-141_AP_PA_after_b0s_iout_avg_brain_mask.nii.gz \\\n",
      "                -b   /export2/DATA/HIS/HIS_server/BIDS/sub-141/ses-1/dwi/sub-141_ses-1_acq-ap_run-02_dwi.bval                \n",
      "eddy_quad /export2/DATA/HIS/HIS_server/analysis/dwi_data/preproc/sub-142/eddy_unwarped_images_sub-142_before \\\n",
      "                -idx /export2/DATA/HIS/HIS_server/analysis/dwi_data/preproc/sub-142/before_index.txt \\\n",
      "                -par /export2/DATA/HIS/HIS_server/analysis/dwi_data/preproc/sub-142/sub-142_before_acqparams.txt \\\n",
      "                -m   /export2/DATA/HIS/HIS_server/analysis/dwi_data/preproc/sub-142/topup_sub-142_AP_PA_before_b0s_iout_avg_brain_mask.nii.gz \\\n",
      "                -b   /export2/DATA/HIS/HIS_server/BIDS/sub-142/ses-1/dwi/sub-142_ses-1_acq-ap_run-01_dwi.bval                \n",
      "eddy_quad /export2/DATA/HIS/HIS_server/analysis/dwi_data/preproc/sub-142/eddy_unwarped_images_sub-142_after \\\n",
      "                -idx /export2/DATA/HIS/HIS_server/analysis/dwi_data/preproc/sub-142/after_index.txt \\\n",
      "                -par /export2/DATA/HIS/HIS_server/analysis/dwi_data/preproc/sub-142/sub-142_after_acqparams.txt \\\n",
      "                -m   /export2/DATA/HIS/HIS_server/analysis/dwi_data/preproc/sub-142/topup_sub-142_AP_PA_after_b0s_iout_avg_brain_mask.nii.gz \\\n",
      "                -b   /export2/DATA/HIS/HIS_server/BIDS/sub-142/ses-1/dwi/sub-142_ses-1_acq-ap_run-02_dwi.bval                \n",
      "eddy_quad /export2/DATA/HIS/HIS_server/analysis/dwi_data/preproc/sub-143/eddy_unwarped_images_sub-143_before \\\n",
      "                -idx /export2/DATA/HIS/HIS_server/analysis/dwi_data/preproc/sub-143/before_index.txt \\\n",
      "                -par /export2/DATA/HIS/HIS_server/analysis/dwi_data/preproc/sub-143/sub-143_before_acqparams.txt \\\n",
      "                -m   /export2/DATA/HIS/HIS_server/analysis/dwi_data/preproc/sub-143/topup_sub-143_AP_PA_before_b0s_iout_avg_brain_mask.nii.gz \\\n",
      "                -b   /export2/DATA/HIS/HIS_server/BIDS/sub-143/ses-1/dwi/sub-143_ses-1_acq-ap_run-01_dwi.bval                \n",
      "eddy_quad /export2/DATA/HIS/HIS_server/analysis/dwi_data/preproc/sub-143/eddy_unwarped_images_sub-143_after \\\n",
      "                -idx /export2/DATA/HIS/HIS_server/analysis/dwi_data/preproc/sub-143/after_index.txt \\\n",
      "                -par /export2/DATA/HIS/HIS_server/analysis/dwi_data/preproc/sub-143/sub-143_after_acqparams.txt \\\n",
      "                -m   /export2/DATA/HIS/HIS_server/analysis/dwi_data/preproc/sub-143/topup_sub-143_AP_PA_after_b0s_iout_avg_brain_mask.nii.gz \\\n",
      "                -b   /export2/DATA/HIS/HIS_server/BIDS/sub-143/ses-1/dwi/sub-143_ses-1_acq-ap_run-02_dwi.bval                \n",
      "eddy_quad /export2/DATA/HIS/HIS_server/analysis/dwi_data/preproc/sub-144/eddy_unwarped_images_sub-144_before \\\n",
      "                -idx /export2/DATA/HIS/HIS_server/analysis/dwi_data/preproc/sub-144/before_index.txt \\\n",
      "                -par /export2/DATA/HIS/HIS_server/analysis/dwi_data/preproc/sub-144/sub-144_before_acqparams.txt \\\n",
      "                -m   /export2/DATA/HIS/HIS_server/analysis/dwi_data/preproc/sub-144/topup_sub-144_AP_PA_before_b0s_iout_avg_brain_mask.nii.gz \\\n",
      "                -b   /export2/DATA/HIS/HIS_server/BIDS/sub-144/ses-1/dwi/sub-144_ses-1_acq-ap_run-01_dwi.bval                \n",
      "eddy_quad /export2/DATA/HIS/HIS_server/analysis/dwi_data/preproc/sub-144/eddy_unwarped_images_sub-144_after \\\n",
      "                -idx /export2/DATA/HIS/HIS_server/analysis/dwi_data/preproc/sub-144/after_index.txt \\\n",
      "                -par /export2/DATA/HIS/HIS_server/analysis/dwi_data/preproc/sub-144/sub-144_after_acqparams.txt \\\n",
      "                -m   /export2/DATA/HIS/HIS_server/analysis/dwi_data/preproc/sub-144/topup_sub-144_AP_PA_after_b0s_iout_avg_brain_mask.nii.gz \\\n",
      "                -b   /export2/DATA/HIS/HIS_server/BIDS/sub-144/ses-1/dwi/sub-144_ses-1_acq-ap_run-02_dwi.bval                \n",
      "eddy_quad /export2/DATA/HIS/HIS_server/analysis/dwi_data/preproc/sub-145/eddy_unwarped_images_sub-145_before \\\n",
      "                -idx /export2/DATA/HIS/HIS_server/analysis/dwi_data/preproc/sub-145/before_index.txt \\\n",
      "                -par /export2/DATA/HIS/HIS_server/analysis/dwi_data/preproc/sub-145/sub-145_before_acqparams.txt \\\n",
      "                -m   /export2/DATA/HIS/HIS_server/analysis/dwi_data/preproc/sub-145/topup_sub-145_AP_PA_before_b0s_iout_avg_brain_mask.nii.gz \\\n",
      "                -b   /export2/DATA/HIS/HIS_server/BIDS/sub-145/ses-1/dwi/sub-145_ses-1_acq-ap_run-01_dwi.bval                \n",
      "eddy_quad /export2/DATA/HIS/HIS_server/analysis/dwi_data/preproc/sub-145/eddy_unwarped_images_sub-145_after \\\n",
      "                -idx /export2/DATA/HIS/HIS_server/analysis/dwi_data/preproc/sub-145/after_index.txt \\\n",
      "                -par /export2/DATA/HIS/HIS_server/analysis/dwi_data/preproc/sub-145/sub-145_after_acqparams.txt \\\n",
      "                -m   /export2/DATA/HIS/HIS_server/analysis/dwi_data/preproc/sub-145/topup_sub-145_AP_PA_after_b0s_iout_avg_brain_mask.nii.gz \\\n",
      "                -b   /export2/DATA/HIS/HIS_server/BIDS/sub-145/ses-1/dwi/sub-145_ses-1_acq-ap_run-02_dwi.bval                \n",
      "eddy_quad /export2/DATA/HIS/HIS_server/analysis/dwi_data/preproc/sub-146/eddy_unwarped_images_sub-146_before \\\n",
      "                -idx /export2/DATA/HIS/HIS_server/analysis/dwi_data/preproc/sub-146/before_index.txt \\\n",
      "                -par /export2/DATA/HIS/HIS_server/analysis/dwi_data/preproc/sub-146/sub-146_before_acqparams.txt \\\n",
      "                -m   /export2/DATA/HIS/HIS_server/analysis/dwi_data/preproc/sub-146/topup_sub-146_AP_PA_before_b0s_iout_avg_brain_mask.nii.gz \\\n",
      "                -b   /export2/DATA/HIS/HIS_server/BIDS/sub-146/ses-1/dwi/sub-146_ses-1_acq-ap_run-01_dwi.bval                \n",
      "eddy_quad /export2/DATA/HIS/HIS_server/analysis/dwi_data/preproc/sub-146/eddy_unwarped_images_sub-146_after \\\n",
      "                -idx /export2/DATA/HIS/HIS_server/analysis/dwi_data/preproc/sub-146/after_index.txt \\\n",
      "                -par /export2/DATA/HIS/HIS_server/analysis/dwi_data/preproc/sub-146/sub-146_after_acqparams.txt \\\n",
      "                -m   /export2/DATA/HIS/HIS_server/analysis/dwi_data/preproc/sub-146/topup_sub-146_AP_PA_after_b0s_iout_avg_brain_mask.nii.gz \\\n",
      "                -b   /export2/DATA/HIS/HIS_server/BIDS/sub-146/ses-1/dwi/sub-146_ses-1_acq-ap_run-02_dwi.bval                \n",
      "eddy_quad /export2/DATA/HIS/HIS_server/analysis/dwi_data/preproc/sub-147/eddy_unwarped_images_sub-147_before \\\n",
      "                -idx /export2/DATA/HIS/HIS_server/analysis/dwi_data/preproc/sub-147/before_index.txt \\\n",
      "                -par /export2/DATA/HIS/HIS_server/analysis/dwi_data/preproc/sub-147/sub-147_before_acqparams.txt \\\n",
      "                -m   /export2/DATA/HIS/HIS_server/analysis/dwi_data/preproc/sub-147/topup_sub-147_AP_PA_before_b0s_iout_avg_brain_mask.nii.gz \\\n",
      "                -b   /export2/DATA/HIS/HIS_server/BIDS/sub-147/ses-1/dwi/sub-147_ses-1_acq-ap_run-01_dwi.bval                \n",
      "eddy_quad /export2/DATA/HIS/HIS_server/analysis/dwi_data/preproc/sub-147/eddy_unwarped_images_sub-147_after \\\n",
      "                -idx /export2/DATA/HIS/HIS_server/analysis/dwi_data/preproc/sub-147/after_index.txt \\\n",
      "                -par /export2/DATA/HIS/HIS_server/analysis/dwi_data/preproc/sub-147/sub-147_after_acqparams.txt \\\n",
      "                -m   /export2/DATA/HIS/HIS_server/analysis/dwi_data/preproc/sub-147/topup_sub-147_AP_PA_after_b0s_iout_avg_brain_mask.nii.gz \\\n",
      "                -b   /export2/DATA/HIS/HIS_server/BIDS/sub-147/ses-1/dwi/sub-147_ses-1_acq-ap_run-02_dwi.bval                \n",
      "eddy_quad /export2/DATA/HIS/HIS_server/analysis/dwi_data/preproc/sub-148/eddy_unwarped_images_sub-148_before \\\n",
      "                -idx /export2/DATA/HIS/HIS_server/analysis/dwi_data/preproc/sub-148/before_index.txt \\\n",
      "                -par /export2/DATA/HIS/HIS_server/analysis/dwi_data/preproc/sub-148/sub-148_before_acqparams.txt \\\n",
      "                -m   /export2/DATA/HIS/HIS_server/analysis/dwi_data/preproc/sub-148/topup_sub-148_AP_PA_before_b0s_iout_avg_brain_mask.nii.gz \\\n",
      "                -b   /export2/DATA/HIS/HIS_server/BIDS/sub-148/ses-1/dwi/sub-148_ses-1_acq-ap_run-01_dwi.bval                \n",
      "eddy_quad /export2/DATA/HIS/HIS_server/analysis/dwi_data/preproc/sub-148/eddy_unwarped_images_sub-148_after \\\n",
      "                -idx /export2/DATA/HIS/HIS_server/analysis/dwi_data/preproc/sub-148/after_index.txt \\\n",
      "                -par /export2/DATA/HIS/HIS_server/analysis/dwi_data/preproc/sub-148/sub-148_after_acqparams.txt \\\n",
      "                -m   /export2/DATA/HIS/HIS_server/analysis/dwi_data/preproc/sub-148/topup_sub-148_AP_PA_after_b0s_iout_avg_brain_mask.nii.gz \\\n",
      "                -b   /export2/DATA/HIS/HIS_server/BIDS/sub-148/ses-1/dwi/sub-148_ses-1_acq-ap_run-02_dwi.bval                \n",
      "eddy_quad /export2/DATA/HIS/HIS_server/analysis/dwi_data/preproc/sub-149/eddy_unwarped_images_sub-149_before \\\n",
      "                -idx /export2/DATA/HIS/HIS_server/analysis/dwi_data/preproc/sub-149/before_index.txt \\\n",
      "                -par /export2/DATA/HIS/HIS_server/analysis/dwi_data/preproc/sub-149/sub-149_before_acqparams.txt \\\n",
      "                -m   /export2/DATA/HIS/HIS_server/analysis/dwi_data/preproc/sub-149/topup_sub-149_AP_PA_before_b0s_iout_avg_brain_mask.nii.gz \\\n",
      "                -b   /export2/DATA/HIS/HIS_server/BIDS/sub-149/ses-1/dwi/sub-149_ses-1_acq-ap_run-01_dwi.bval                \n",
      "eddy_quad /export2/DATA/HIS/HIS_server/analysis/dwi_data/preproc/sub-149/eddy_unwarped_images_sub-149_after \\\n",
      "                -idx /export2/DATA/HIS/HIS_server/analysis/dwi_data/preproc/sub-149/after_index.txt \\\n",
      "                -par /export2/DATA/HIS/HIS_server/analysis/dwi_data/preproc/sub-149/sub-149_after_acqparams.txt \\\n",
      "                -m   /export2/DATA/HIS/HIS_server/analysis/dwi_data/preproc/sub-149/topup_sub-149_AP_PA_after_b0s_iout_avg_brain_mask.nii.gz \\\n",
      "                -b   /export2/DATA/HIS/HIS_server/BIDS/sub-149/ses-1/dwi/sub-149_ses-1_acq-ap_run-02_dwi.bval                \n",
      "eddy_quad /export2/DATA/HIS/HIS_server/analysis/dwi_data/preproc/sub-150/eddy_unwarped_images_sub-150_before \\\n",
      "                -idx /export2/DATA/HIS/HIS_server/analysis/dwi_data/preproc/sub-150/before_index.txt \\\n",
      "                -par /export2/DATA/HIS/HIS_server/analysis/dwi_data/preproc/sub-150/sub-150_before_acqparams.txt \\\n",
      "                -m   /export2/DATA/HIS/HIS_server/analysis/dwi_data/preproc/sub-150/topup_sub-150_AP_PA_before_b0s_iout_avg_brain_mask.nii.gz \\\n",
      "                -b   /export2/DATA/HIS/HIS_server/BIDS/sub-150/ses-1/dwi/sub-150_ses-1_acq-ap_run-01_dwi.bval                \n",
      "eddy_quad /export2/DATA/HIS/HIS_server/analysis/dwi_data/preproc/sub-150/eddy_unwarped_images_sub-150_after \\\n",
      "                -idx /export2/DATA/HIS/HIS_server/analysis/dwi_data/preproc/sub-150/after_index.txt \\\n",
      "                -par /export2/DATA/HIS/HIS_server/analysis/dwi_data/preproc/sub-150/sub-150_after_acqparams.txt \\\n",
      "                -m   /export2/DATA/HIS/HIS_server/analysis/dwi_data/preproc/sub-150/topup_sub-150_AP_PA_after_b0s_iout_avg_brain_mask.nii.gz \\\n",
      "                -b   /export2/DATA/HIS/HIS_server/BIDS/sub-150/ses-1/dwi/sub-150_ses-1_acq-ap_run-02_dwi.bval                \n",
      "eddy_quad /export2/DATA/HIS/HIS_server/analysis/dwi_data/preproc/sub-151/eddy_unwarped_images_sub-151_before \\\n",
      "                -idx /export2/DATA/HIS/HIS_server/analysis/dwi_data/preproc/sub-151/before_index.txt \\\n",
      "                -par /export2/DATA/HIS/HIS_server/analysis/dwi_data/preproc/sub-151/sub-151_before_acqparams.txt \\\n",
      "                -m   /export2/DATA/HIS/HIS_server/analysis/dwi_data/preproc/sub-151/topup_sub-151_AP_PA_before_b0s_iout_avg_brain_mask.nii.gz \\\n",
      "                -b   /export2/DATA/HIS/HIS_server/BIDS/sub-151/ses-1/dwi/sub-151_ses-1_acq-ap_run-01_dwi.bval                \n",
      "eddy_quad /export2/DATA/HIS/HIS_server/analysis/dwi_data/preproc/sub-151/eddy_unwarped_images_sub-151_after \\\n",
      "                -idx /export2/DATA/HIS/HIS_server/analysis/dwi_data/preproc/sub-151/after_index.txt \\\n",
      "                -par /export2/DATA/HIS/HIS_server/analysis/dwi_data/preproc/sub-151/sub-151_after_acqparams.txt \\\n",
      "                -m   /export2/DATA/HIS/HIS_server/analysis/dwi_data/preproc/sub-151/topup_sub-151_AP_PA_after_b0s_iout_avg_brain_mask.nii.gz \\\n",
      "                -b   /export2/DATA/HIS/HIS_server/BIDS/sub-151/ses-1/dwi/sub-151_ses-1_acq-ap_run-02_dwi.bval                \n",
      "eddy_quad /export2/DATA/HIS/HIS_server/analysis/dwi_data/preproc/sub-152/eddy_unwarped_images_sub-152_before \\\n",
      "                -idx /export2/DATA/HIS/HIS_server/analysis/dwi_data/preproc/sub-152/before_index.txt \\\n",
      "                -par /export2/DATA/HIS/HIS_server/analysis/dwi_data/preproc/sub-152/sub-152_before_acqparams.txt \\\n",
      "                -m   /export2/DATA/HIS/HIS_server/analysis/dwi_data/preproc/sub-152/topup_sub-152_AP_PA_before_b0s_iout_avg_brain_mask.nii.gz \\\n",
      "                -b   /export2/DATA/HIS/HIS_server/BIDS/sub-152/ses-1/dwi/sub-152_ses-1_acq-ap_run-01_dwi.bval                \n",
      "eddy_quad /export2/DATA/HIS/HIS_server/analysis/dwi_data/preproc/sub-152/eddy_unwarped_images_sub-152_after \\\n",
      "                -idx /export2/DATA/HIS/HIS_server/analysis/dwi_data/preproc/sub-152/after_index.txt \\\n",
      "                -par /export2/DATA/HIS/HIS_server/analysis/dwi_data/preproc/sub-152/sub-152_after_acqparams.txt \\\n",
      "                -m   /export2/DATA/HIS/HIS_server/analysis/dwi_data/preproc/sub-152/topup_sub-152_AP_PA_after_b0s_iout_avg_brain_mask.nii.gz \\\n",
      "                -b   /export2/DATA/HIS/HIS_server/BIDS/sub-152/ses-1/dwi/sub-152_ses-1_acq-ap_run-02_dwi.bval                \n",
      "eddy_quad /export2/DATA/HIS/HIS_server/analysis/dwi_data/preproc/sub-153/eddy_unwarped_images_sub-153_before \\\n",
      "                -idx /export2/DATA/HIS/HIS_server/analysis/dwi_data/preproc/sub-153/before_index.txt \\\n",
      "                -par /export2/DATA/HIS/HIS_server/analysis/dwi_data/preproc/sub-153/sub-153_before_acqparams.txt \\\n",
      "                -m   /export2/DATA/HIS/HIS_server/analysis/dwi_data/preproc/sub-153/topup_sub-153_AP_PA_before_b0s_iout_avg_brain_mask.nii.gz \\\n",
      "                -b   /export2/DATA/HIS/HIS_server/BIDS/sub-153/ses-1/dwi/sub-153_ses-1_acq-ap_run-01_dwi.bval                \n",
      "eddy_quad /export2/DATA/HIS/HIS_server/analysis/dwi_data/preproc/sub-153/eddy_unwarped_images_sub-153_after \\\n",
      "                -idx /export2/DATA/HIS/HIS_server/analysis/dwi_data/preproc/sub-153/after_index.txt \\\n",
      "                -par /export2/DATA/HIS/HIS_server/analysis/dwi_data/preproc/sub-153/sub-153_after_acqparams.txt \\\n",
      "                -m   /export2/DATA/HIS/HIS_server/analysis/dwi_data/preproc/sub-153/topup_sub-153_AP_PA_after_b0s_iout_avg_brain_mask.nii.gz \\\n",
      "                -b   /export2/DATA/HIS/HIS_server/BIDS/sub-153/ses-1/dwi/sub-153_ses-1_acq-ap_run-02_dwi.bval                \n",
      "eddy_quad /export2/DATA/HIS/HIS_server/analysis/dwi_data/preproc/sub-154/eddy_unwarped_images_sub-154_before \\\n",
      "                -idx /export2/DATA/HIS/HIS_server/analysis/dwi_data/preproc/sub-154/before_index.txt \\\n",
      "                -par /export2/DATA/HIS/HIS_server/analysis/dwi_data/preproc/sub-154/sub-154_before_acqparams.txt \\\n",
      "                -m   /export2/DATA/HIS/HIS_server/analysis/dwi_data/preproc/sub-154/topup_sub-154_AP_PA_before_b0s_iout_avg_brain_mask.nii.gz \\\n",
      "                -b   /export2/DATA/HIS/HIS_server/BIDS/sub-154/ses-1/dwi/sub-154_ses-1_acq-ap_run-01_dwi.bval                \n",
      "eddy_quad /export2/DATA/HIS/HIS_server/analysis/dwi_data/preproc/sub-154/eddy_unwarped_images_sub-154_after \\\n",
      "                -idx /export2/DATA/HIS/HIS_server/analysis/dwi_data/preproc/sub-154/after_index.txt \\\n",
      "                -par /export2/DATA/HIS/HIS_server/analysis/dwi_data/preproc/sub-154/sub-154_after_acqparams.txt \\\n",
      "                -m   /export2/DATA/HIS/HIS_server/analysis/dwi_data/preproc/sub-154/topup_sub-154_AP_PA_after_b0s_iout_avg_brain_mask.nii.gz \\\n",
      "                -b   /export2/DATA/HIS/HIS_server/BIDS/sub-154/ses-1/dwi/sub-154_ses-1_acq-ap_run-02_dwi.bval                \n",
      "eddy_quad /export2/DATA/HIS/HIS_server/analysis/dwi_data/preproc/sub-155/eddy_unwarped_images_sub-155_before \\\n",
      "                -idx /export2/DATA/HIS/HIS_server/analysis/dwi_data/preproc/sub-155/before_index.txt \\\n",
      "                -par /export2/DATA/HIS/HIS_server/analysis/dwi_data/preproc/sub-155/sub-155_before_acqparams.txt \\\n",
      "                -m   /export2/DATA/HIS/HIS_server/analysis/dwi_data/preproc/sub-155/topup_sub-155_AP_PA_before_b0s_iout_avg_brain_mask.nii.gz \\\n",
      "                -b   /export2/DATA/HIS/HIS_server/BIDS/sub-155/ses-1/dwi/sub-155_ses-1_acq-ap_run-01_dwi.bval                \n",
      "eddy_quad /export2/DATA/HIS/HIS_server/analysis/dwi_data/preproc/sub-155/eddy_unwarped_images_sub-155_after \\\n",
      "                -idx /export2/DATA/HIS/HIS_server/analysis/dwi_data/preproc/sub-155/after_index.txt \\\n",
      "                -par /export2/DATA/HIS/HIS_server/analysis/dwi_data/preproc/sub-155/sub-155_after_acqparams.txt \\\n",
      "                -m   /export2/DATA/HIS/HIS_server/analysis/dwi_data/preproc/sub-155/topup_sub-155_AP_PA_after_b0s_iout_avg_brain_mask.nii.gz \\\n",
      "                -b   /export2/DATA/HIS/HIS_server/BIDS/sub-155/ses-1/dwi/sub-155_ses-1_acq-ap_run-02_dwi.bval                \n",
      "eddy_quad /export2/DATA/HIS/HIS_server/analysis/dwi_data/preproc/sub-156/eddy_unwarped_images_sub-156_before \\\n",
      "                -idx /export2/DATA/HIS/HIS_server/analysis/dwi_data/preproc/sub-156/before_index.txt \\\n",
      "                -par /export2/DATA/HIS/HIS_server/analysis/dwi_data/preproc/sub-156/sub-156_before_acqparams.txt \\\n",
      "                -m   /export2/DATA/HIS/HIS_server/analysis/dwi_data/preproc/sub-156/topup_sub-156_AP_PA_before_b0s_iout_avg_brain_mask.nii.gz \\\n",
      "                -b   /export2/DATA/HIS/HIS_server/BIDS/sub-156/ses-1/dwi/sub-156_ses-1_acq-ap_run-01_dwi.bval                \n",
      "eddy_quad /export2/DATA/HIS/HIS_server/analysis/dwi_data/preproc/sub-156/eddy_unwarped_images_sub-156_after \\\n",
      "                -idx /export2/DATA/HIS/HIS_server/analysis/dwi_data/preproc/sub-156/after_index.txt \\\n",
      "                -par /export2/DATA/HIS/HIS_server/analysis/dwi_data/preproc/sub-156/sub-156_after_acqparams.txt \\\n",
      "                -m   /export2/DATA/HIS/HIS_server/analysis/dwi_data/preproc/sub-156/topup_sub-156_AP_PA_after_b0s_iout_avg_brain_mask.nii.gz \\\n",
      "                -b   /export2/DATA/HIS/HIS_server/BIDS/sub-156/ses-1/dwi/sub-156_ses-1_acq-ap_run-02_dwi.bval                \n",
      "eddy_quad /export2/DATA/HIS/HIS_server/analysis/dwi_data/preproc/sub-157/eddy_unwarped_images_sub-157_before \\\n",
      "                -idx /export2/DATA/HIS/HIS_server/analysis/dwi_data/preproc/sub-157/before_index.txt \\\n",
      "                -par /export2/DATA/HIS/HIS_server/analysis/dwi_data/preproc/sub-157/sub-157_before_acqparams.txt \\\n",
      "                -m   /export2/DATA/HIS/HIS_server/analysis/dwi_data/preproc/sub-157/topup_sub-157_AP_PA_before_b0s_iout_avg_brain_mask.nii.gz \\\n",
      "                -b   /export2/DATA/HIS/HIS_server/BIDS/sub-157/ses-1/dwi/sub-157_ses-1_acq-ap_run-01_dwi.bval                \n",
      "eddy_quad /export2/DATA/HIS/HIS_server/analysis/dwi_data/preproc/sub-157/eddy_unwarped_images_sub-157_after \\\n",
      "                -idx /export2/DATA/HIS/HIS_server/analysis/dwi_data/preproc/sub-157/after_index.txt \\\n",
      "                -par /export2/DATA/HIS/HIS_server/analysis/dwi_data/preproc/sub-157/sub-157_after_acqparams.txt \\\n",
      "                -m   /export2/DATA/HIS/HIS_server/analysis/dwi_data/preproc/sub-157/topup_sub-157_AP_PA_after_b0s_iout_avg_brain_mask.nii.gz \\\n",
      "                -b   /export2/DATA/HIS/HIS_server/BIDS/sub-157/ses-1/dwi/sub-157_ses-1_acq-ap_run-02_dwi.bval                \n",
      "eddy_quad /export2/DATA/HIS/HIS_server/analysis/dwi_data/preproc/sub-158/eddy_unwarped_images_sub-158_before \\\n",
      "                -idx /export2/DATA/HIS/HIS_server/analysis/dwi_data/preproc/sub-158/before_index.txt \\\n",
      "                -par /export2/DATA/HIS/HIS_server/analysis/dwi_data/preproc/sub-158/sub-158_before_acqparams.txt \\\n",
      "                -m   /export2/DATA/HIS/HIS_server/analysis/dwi_data/preproc/sub-158/topup_sub-158_AP_PA_before_b0s_iout_avg_brain_mask.nii.gz \\\n",
      "                -b   /export2/DATA/HIS/HIS_server/BIDS/sub-158/ses-1/dwi/sub-158_ses-1_acq-ap_run-01_dwi.bval                \n",
      "eddy_quad /export2/DATA/HIS/HIS_server/analysis/dwi_data/preproc/sub-158/eddy_unwarped_images_sub-158_after \\\n",
      "                -idx /export2/DATA/HIS/HIS_server/analysis/dwi_data/preproc/sub-158/after_index.txt \\\n",
      "                -par /export2/DATA/HIS/HIS_server/analysis/dwi_data/preproc/sub-158/sub-158_after_acqparams.txt \\\n",
      "                -m   /export2/DATA/HIS/HIS_server/analysis/dwi_data/preproc/sub-158/topup_sub-158_AP_PA_after_b0s_iout_avg_brain_mask.nii.gz \\\n",
      "                -b   /export2/DATA/HIS/HIS_server/BIDS/sub-158/ses-1/dwi/sub-158_ses-1_acq-ap_run-02_dwi.bval                \n",
      "eddy_quad /export2/DATA/HIS/HIS_server/analysis/dwi_data/preproc/sub-159/eddy_unwarped_images_sub-159_before \\\n",
      "                -idx /export2/DATA/HIS/HIS_server/analysis/dwi_data/preproc/sub-159/before_index.txt \\\n",
      "                -par /export2/DATA/HIS/HIS_server/analysis/dwi_data/preproc/sub-159/sub-159_before_acqparams.txt \\\n",
      "                -m   /export2/DATA/HIS/HIS_server/analysis/dwi_data/preproc/sub-159/topup_sub-159_AP_PA_before_b0s_iout_avg_brain_mask.nii.gz \\\n",
      "                -b   /export2/DATA/HIS/HIS_server/BIDS/sub-159/ses-1/dwi/sub-159_ses-1_acq-ap_run-01_dwi.bval                \n",
      "eddy_quad /export2/DATA/HIS/HIS_server/analysis/dwi_data/preproc/sub-159/eddy_unwarped_images_sub-159_after \\\n",
      "                -idx /export2/DATA/HIS/HIS_server/analysis/dwi_data/preproc/sub-159/after_index.txt \\\n",
      "                -par /export2/DATA/HIS/HIS_server/analysis/dwi_data/preproc/sub-159/sub-159_after_acqparams.txt \\\n",
      "                -m   /export2/DATA/HIS/HIS_server/analysis/dwi_data/preproc/sub-159/topup_sub-159_AP_PA_after_b0s_iout_avg_brain_mask.nii.gz \\\n",
      "                -b   /export2/DATA/HIS/HIS_server/BIDS/sub-159/ses-1/dwi/sub-159_ses-1_acq-ap_run-02_dwi.bval                \n",
      "eddy_quad /export2/DATA/HIS/HIS_server/analysis/dwi_data/preproc/sub-160/eddy_unwarped_images_sub-160_before \\\n",
      "                -idx /export2/DATA/HIS/HIS_server/analysis/dwi_data/preproc/sub-160/before_index.txt \\\n",
      "                -par /export2/DATA/HIS/HIS_server/analysis/dwi_data/preproc/sub-160/sub-160_before_acqparams.txt \\\n",
      "                -m   /export2/DATA/HIS/HIS_server/analysis/dwi_data/preproc/sub-160/topup_sub-160_AP_PA_before_b0s_iout_avg_brain_mask.nii.gz \\\n",
      "                -b   /export2/DATA/HIS/HIS_server/BIDS/sub-160/ses-1/dwi/sub-160_ses-1_acq-ap_run-01_dwi.bval                \n",
      "eddy_quad /export2/DATA/HIS/HIS_server/analysis/dwi_data/preproc/sub-160/eddy_unwarped_images_sub-160_after \\\n",
      "                -idx /export2/DATA/HIS/HIS_server/analysis/dwi_data/preproc/sub-160/after_index.txt \\\n",
      "                -par /export2/DATA/HIS/HIS_server/analysis/dwi_data/preproc/sub-160/sub-160_after_acqparams.txt \\\n",
      "                -m   /export2/DATA/HIS/HIS_server/analysis/dwi_data/preproc/sub-160/topup_sub-160_AP_PA_after_b0s_iout_avg_brain_mask.nii.gz \\\n",
      "                -b   /export2/DATA/HIS/HIS_server/BIDS/sub-160/ses-1/dwi/sub-160_ses-1_acq-ap_run-02_dwi.bval                \n",
      "eddy_quad /export2/DATA/HIS/HIS_server/analysis/dwi_data/preproc/sub-161/eddy_unwarped_images_sub-161_before \\\n",
      "                -idx /export2/DATA/HIS/HIS_server/analysis/dwi_data/preproc/sub-161/before_index.txt \\\n",
      "                -par /export2/DATA/HIS/HIS_server/analysis/dwi_data/preproc/sub-161/sub-161_before_acqparams.txt \\\n",
      "                -m   /export2/DATA/HIS/HIS_server/analysis/dwi_data/preproc/sub-161/topup_sub-161_AP_PA_before_b0s_iout_avg_brain_mask.nii.gz \\\n",
      "                -b   /export2/DATA/HIS/HIS_server/BIDS/sub-161/ses-1/dwi/sub-161_ses-1_acq-ap_run-01_dwi.bval                \n",
      "eddy_quad /export2/DATA/HIS/HIS_server/analysis/dwi_data/preproc/sub-161/eddy_unwarped_images_sub-161_after \\\n",
      "                -idx /export2/DATA/HIS/HIS_server/analysis/dwi_data/preproc/sub-161/after_index.txt \\\n",
      "                -par /export2/DATA/HIS/HIS_server/analysis/dwi_data/preproc/sub-161/sub-161_after_acqparams.txt \\\n",
      "                -m   /export2/DATA/HIS/HIS_server/analysis/dwi_data/preproc/sub-161/topup_sub-161_AP_PA_after_b0s_iout_avg_brain_mask.nii.gz \\\n",
      "                -b   /export2/DATA/HIS/HIS_server/BIDS/sub-161/ses-1/dwi/sub-161_ses-1_acq-ap_run-02_dwi.bval                \n",
      "eddy_quad /export2/DATA/HIS/HIS_server/analysis/dwi_data/preproc/sub-162/eddy_unwarped_images_sub-162_before \\\n",
      "                -idx /export2/DATA/HIS/HIS_server/analysis/dwi_data/preproc/sub-162/before_index.txt \\\n",
      "                -par /export2/DATA/HIS/HIS_server/analysis/dwi_data/preproc/sub-162/sub-162_before_acqparams.txt \\\n",
      "                -m   /export2/DATA/HIS/HIS_server/analysis/dwi_data/preproc/sub-162/topup_sub-162_AP_PA_before_b0s_iout_avg_brain_mask.nii.gz \\\n",
      "                -b   /export2/DATA/HIS/HIS_server/BIDS/sub-162/ses-1/dwi/sub-162_ses-1_acq-ap_run-01_dwi.bval                \n",
      "eddy_quad /export2/DATA/HIS/HIS_server/analysis/dwi_data/preproc/sub-162/eddy_unwarped_images_sub-162_after \\\n",
      "                -idx /export2/DATA/HIS/HIS_server/analysis/dwi_data/preproc/sub-162/after_index.txt \\\n",
      "                -par /export2/DATA/HIS/HIS_server/analysis/dwi_data/preproc/sub-162/sub-162_after_acqparams.txt \\\n",
      "                -m   /export2/DATA/HIS/HIS_server/analysis/dwi_data/preproc/sub-162/topup_sub-162_AP_PA_after_b0s_iout_avg_brain_mask.nii.gz \\\n",
      "                -b   /export2/DATA/HIS/HIS_server/BIDS/sub-162/ses-1/dwi/sub-162_ses-1_acq-ap_run-02_dwi.bval                \n",
      "eddy_quad /export2/DATA/HIS/HIS_server/analysis/dwi_data/preproc/sub-163/eddy_unwarped_images_sub-163_before \\\n",
      "                -idx /export2/DATA/HIS/HIS_server/analysis/dwi_data/preproc/sub-163/before_index.txt \\\n",
      "                -par /export2/DATA/HIS/HIS_server/analysis/dwi_data/preproc/sub-163/sub-163_before_acqparams.txt \\\n",
      "                -m   /export2/DATA/HIS/HIS_server/analysis/dwi_data/preproc/sub-163/topup_sub-163_AP_PA_before_b0s_iout_avg_brain_mask.nii.gz \\\n",
      "                -b   /export2/DATA/HIS/HIS_server/BIDS/sub-163/ses-1/dwi/sub-163_ses-1_acq-ap_run-01_dwi.bval                \n",
      "eddy_quad /export2/DATA/HIS/HIS_server/analysis/dwi_data/preproc/sub-163/eddy_unwarped_images_sub-163_after \\\n",
      "                -idx /export2/DATA/HIS/HIS_server/analysis/dwi_data/preproc/sub-163/after_index.txt \\\n",
      "                -par /export2/DATA/HIS/HIS_server/analysis/dwi_data/preproc/sub-163/sub-163_after_acqparams.txt \\\n",
      "                -m   /export2/DATA/HIS/HIS_server/analysis/dwi_data/preproc/sub-163/topup_sub-163_AP_PA_after_b0s_iout_avg_brain_mask.nii.gz \\\n",
      "                -b   /export2/DATA/HIS/HIS_server/BIDS/sub-163/ses-1/dwi/sub-163_ses-1_acq-ap_run-02_dwi.bval                \n",
      "eddy_quad /export2/DATA/HIS/HIS_server/analysis/dwi_data/preproc/sub-164/eddy_unwarped_images_sub-164_before \\\n",
      "                -idx /export2/DATA/HIS/HIS_server/analysis/dwi_data/preproc/sub-164/before_index.txt \\\n",
      "                -par /export2/DATA/HIS/HIS_server/analysis/dwi_data/preproc/sub-164/sub-164_before_acqparams.txt \\\n",
      "                -m   /export2/DATA/HIS/HIS_server/analysis/dwi_data/preproc/sub-164/topup_sub-164_AP_PA_before_b0s_iout_avg_brain_mask.nii.gz \\\n",
      "                -b   /export2/DATA/HIS/HIS_server/BIDS/sub-164/ses-1/dwi/sub-164_ses-1_acq-ap_run-01_dwi.bval                \n",
      "eddy_quad /export2/DATA/HIS/HIS_server/analysis/dwi_data/preproc/sub-164/eddy_unwarped_images_sub-164_after \\\n",
      "                -idx /export2/DATA/HIS/HIS_server/analysis/dwi_data/preproc/sub-164/after_index.txt \\\n",
      "                -par /export2/DATA/HIS/HIS_server/analysis/dwi_data/preproc/sub-164/sub-164_after_acqparams.txt \\\n",
      "                -m   /export2/DATA/HIS/HIS_server/analysis/dwi_data/preproc/sub-164/topup_sub-164_AP_PA_after_b0s_iout_avg_brain_mask.nii.gz \\\n",
      "                -b   /export2/DATA/HIS/HIS_server/BIDS/sub-164/ses-1/dwi/sub-164_ses-1_acq-ap_run-02_dwi.bval                \n",
      "eddy_quad /export2/DATA/HIS/HIS_server/analysis/dwi_data/preproc/sub-166/eddy_unwarped_images_sub-166_before \\\n",
      "                -idx /export2/DATA/HIS/HIS_server/analysis/dwi_data/preproc/sub-166/before_index.txt \\\n",
      "                -par /export2/DATA/HIS/HIS_server/analysis/dwi_data/preproc/sub-166/sub-166_before_acqparams.txt \\\n",
      "                -m   /export2/DATA/HIS/HIS_server/analysis/dwi_data/preproc/sub-166/topup_sub-166_AP_PA_before_b0s_iout_avg_brain_mask.nii.gz \\\n",
      "                -b   /export2/DATA/HIS/HIS_server/BIDS/sub-166/ses-1/dwi/sub-166_ses-1_acq-ap_run-01_dwi.bval                \n",
      "eddy_quad /export2/DATA/HIS/HIS_server/analysis/dwi_data/preproc/sub-166/eddy_unwarped_images_sub-166_after \\\n",
      "                -idx /export2/DATA/HIS/HIS_server/analysis/dwi_data/preproc/sub-166/after_index.txt \\\n",
      "                -par /export2/DATA/HIS/HIS_server/analysis/dwi_data/preproc/sub-166/sub-166_after_acqparams.txt \\\n",
      "                -m   /export2/DATA/HIS/HIS_server/analysis/dwi_data/preproc/sub-166/topup_sub-166_AP_PA_after_b0s_iout_avg_brain_mask.nii.gz \\\n",
      "                -b   /export2/DATA/HIS/HIS_server/BIDS/sub-166/ses-1/dwi/sub-166_ses-1_acq-ap_run-02_dwi.bval                \n",
      "eddy_quad /export2/DATA/HIS/HIS_server/analysis/dwi_data/preproc/sub-167/eddy_unwarped_images_sub-167_before \\\n",
      "                -idx /export2/DATA/HIS/HIS_server/analysis/dwi_data/preproc/sub-167/before_index.txt \\\n",
      "                -par /export2/DATA/HIS/HIS_server/analysis/dwi_data/preproc/sub-167/sub-167_before_acqparams.txt \\\n",
      "                -m   /export2/DATA/HIS/HIS_server/analysis/dwi_data/preproc/sub-167/topup_sub-167_AP_PA_before_b0s_iout_avg_brain_mask.nii.gz \\\n",
      "                -b   /export2/DATA/HIS/HIS_server/BIDS/sub-167/ses-1/dwi/sub-167_ses-1_acq-ap_run-01_dwi.bval                \n",
      "eddy_quad /export2/DATA/HIS/HIS_server/analysis/dwi_data/preproc/sub-167/eddy_unwarped_images_sub-167_after \\\n",
      "                -idx /export2/DATA/HIS/HIS_server/analysis/dwi_data/preproc/sub-167/after_index.txt \\\n",
      "                -par /export2/DATA/HIS/HIS_server/analysis/dwi_data/preproc/sub-167/sub-167_after_acqparams.txt \\\n",
      "                -m   /export2/DATA/HIS/HIS_server/analysis/dwi_data/preproc/sub-167/topup_sub-167_AP_PA_after_b0s_iout_avg_brain_mask.nii.gz \\\n",
      "                -b   /export2/DATA/HIS/HIS_server/BIDS/sub-167/ses-1/dwi/sub-167_ses-1_acq-ap_run-02_dwi.bval                \n",
      "eddy_quad /export2/DATA/HIS/HIS_server/analysis/dwi_data/preproc/sub-168/eddy_unwarped_images_sub-168_before \\\n",
      "                -idx /export2/DATA/HIS/HIS_server/analysis/dwi_data/preproc/sub-168/before_index.txt \\\n",
      "                -par /export2/DATA/HIS/HIS_server/analysis/dwi_data/preproc/sub-168/sub-168_before_acqparams.txt \\\n",
      "                -m   /export2/DATA/HIS/HIS_server/analysis/dwi_data/preproc/sub-168/topup_sub-168_AP_PA_before_b0s_iout_avg_brain_mask.nii.gz \\\n",
      "                -b   /export2/DATA/HIS/HIS_server/BIDS/sub-168/ses-1/dwi/sub-168_ses-1_acq-ap_run-01_dwi.bval                \n",
      "eddy_quad /export2/DATA/HIS/HIS_server/analysis/dwi_data/preproc/sub-168/eddy_unwarped_images_sub-168_after \\\n",
      "                -idx /export2/DATA/HIS/HIS_server/analysis/dwi_data/preproc/sub-168/after_index.txt \\\n",
      "                -par /export2/DATA/HIS/HIS_server/analysis/dwi_data/preproc/sub-168/sub-168_after_acqparams.txt \\\n",
      "                -m   /export2/DATA/HIS/HIS_server/analysis/dwi_data/preproc/sub-168/topup_sub-168_AP_PA_after_b0s_iout_avg_brain_mask.nii.gz \\\n",
      "                -b   /export2/DATA/HIS/HIS_server/BIDS/sub-168/ses-1/dwi/sub-168_ses-1_acq-ap_run-02_dwi.bval                \n",
      "eddy_quad /export2/DATA/HIS/HIS_server/analysis/dwi_data/preproc/sub-169/eddy_unwarped_images_sub-169_before \\\n",
      "                -idx /export2/DATA/HIS/HIS_server/analysis/dwi_data/preproc/sub-169/before_index.txt \\\n",
      "                -par /export2/DATA/HIS/HIS_server/analysis/dwi_data/preproc/sub-169/sub-169_before_acqparams.txt \\\n",
      "                -m   /export2/DATA/HIS/HIS_server/analysis/dwi_data/preproc/sub-169/topup_sub-169_AP_PA_before_b0s_iout_avg_brain_mask.nii.gz \\\n",
      "                -b   /export2/DATA/HIS/HIS_server/BIDS/sub-169/ses-1/dwi/sub-169_ses-1_acq-ap_run-01_dwi.bval                \n",
      "eddy_quad /export2/DATA/HIS/HIS_server/analysis/dwi_data/preproc/sub-169/eddy_unwarped_images_sub-169_after \\\n",
      "                -idx /export2/DATA/HIS/HIS_server/analysis/dwi_data/preproc/sub-169/after_index.txt \\\n",
      "                -par /export2/DATA/HIS/HIS_server/analysis/dwi_data/preproc/sub-169/sub-169_after_acqparams.txt \\\n",
      "                -m   /export2/DATA/HIS/HIS_server/analysis/dwi_data/preproc/sub-169/topup_sub-169_AP_PA_after_b0s_iout_avg_brain_mask.nii.gz \\\n",
      "                -b   /export2/DATA/HIS/HIS_server/BIDS/sub-169/ses-1/dwi/sub-169_ses-1_acq-ap_run-02_dwi.bval                \n",
      "eddy_quad /export2/DATA/HIS/HIS_server/analysis/dwi_data/preproc/sub-170/eddy_unwarped_images_sub-170_before \\\n",
      "                -idx /export2/DATA/HIS/HIS_server/analysis/dwi_data/preproc/sub-170/before_index.txt \\\n",
      "                -par /export2/DATA/HIS/HIS_server/analysis/dwi_data/preproc/sub-170/sub-170_before_acqparams.txt \\\n",
      "                -m   /export2/DATA/HIS/HIS_server/analysis/dwi_data/preproc/sub-170/topup_sub-170_AP_PA_before_b0s_iout_avg_brain_mask.nii.gz \\\n",
      "                -b   /export2/DATA/HIS/HIS_server/BIDS/sub-170/ses-1/dwi/sub-170_ses-1_acq-ap_run-01_dwi.bval                \n",
      "eddy_quad /export2/DATA/HIS/HIS_server/analysis/dwi_data/preproc/sub-170/eddy_unwarped_images_sub-170_after \\\n",
      "                -idx /export2/DATA/HIS/HIS_server/analysis/dwi_data/preproc/sub-170/after_index.txt \\\n",
      "                -par /export2/DATA/HIS/HIS_server/analysis/dwi_data/preproc/sub-170/sub-170_after_acqparams.txt \\\n",
      "                -m   /export2/DATA/HIS/HIS_server/analysis/dwi_data/preproc/sub-170/topup_sub-170_AP_PA_after_b0s_iout_avg_brain_mask.nii.gz \\\n",
      "                -b   /export2/DATA/HIS/HIS_server/BIDS/sub-170/ses-1/dwi/sub-170_ses-1_acq-ap_run-02_dwi.bval                \n",
      "eddy_quad /export2/DATA/HIS/HIS_server/analysis/dwi_data/preproc/sub-171/eddy_unwarped_images_sub-171_before \\\n",
      "                -idx /export2/DATA/HIS/HIS_server/analysis/dwi_data/preproc/sub-171/before_index.txt \\\n",
      "                -par /export2/DATA/HIS/HIS_server/analysis/dwi_data/preproc/sub-171/sub-171_before_acqparams.txt \\\n",
      "                -m   /export2/DATA/HIS/HIS_server/analysis/dwi_data/preproc/sub-171/topup_sub-171_AP_PA_before_b0s_iout_avg_brain_mask.nii.gz \\\n",
      "                -b   /export2/DATA/HIS/HIS_server/BIDS/sub-171/ses-1/dwi/sub-171_ses-1_acq-ap_run-01_dwi.bval                \n",
      "eddy_quad /export2/DATA/HIS/HIS_server/analysis/dwi_data/preproc/sub-171/eddy_unwarped_images_sub-171_after \\\n",
      "                -idx /export2/DATA/HIS/HIS_server/analysis/dwi_data/preproc/sub-171/after_index.txt \\\n",
      "                -par /export2/DATA/HIS/HIS_server/analysis/dwi_data/preproc/sub-171/sub-171_after_acqparams.txt \\\n",
      "                -m   /export2/DATA/HIS/HIS_server/analysis/dwi_data/preproc/sub-171/topup_sub-171_AP_PA_after_b0s_iout_avg_brain_mask.nii.gz \\\n",
      "                -b   /export2/DATA/HIS/HIS_server/BIDS/sub-171/ses-1/dwi/sub-171_ses-1_acq-ap_run-02_dwi.bval                \n",
      "eddy_quad /export2/DATA/HIS/HIS_server/analysis/dwi_data/preproc/sub-172/eddy_unwarped_images_sub-172_before \\\n",
      "                -idx /export2/DATA/HIS/HIS_server/analysis/dwi_data/preproc/sub-172/before_index.txt \\\n",
      "                -par /export2/DATA/HIS/HIS_server/analysis/dwi_data/preproc/sub-172/sub-172_before_acqparams.txt \\\n",
      "                -m   /export2/DATA/HIS/HIS_server/analysis/dwi_data/preproc/sub-172/topup_sub-172_AP_PA_before_b0s_iout_avg_brain_mask.nii.gz \\\n",
      "                -b   /export2/DATA/HIS/HIS_server/BIDS/sub-172/ses-1/dwi/sub-172_ses-1_acq-ap_run-01_dwi.bval                \n",
      "eddy_quad /export2/DATA/HIS/HIS_server/analysis/dwi_data/preproc/sub-172/eddy_unwarped_images_sub-172_after \\\n",
      "                -idx /export2/DATA/HIS/HIS_server/analysis/dwi_data/preproc/sub-172/after_index.txt \\\n",
      "                -par /export2/DATA/HIS/HIS_server/analysis/dwi_data/preproc/sub-172/sub-172_after_acqparams.txt \\\n",
      "                -m   /export2/DATA/HIS/HIS_server/analysis/dwi_data/preproc/sub-172/topup_sub-172_AP_PA_after_b0s_iout_avg_brain_mask.nii.gz \\\n",
      "                -b   /export2/DATA/HIS/HIS_server/BIDS/sub-172/ses-1/dwi/sub-172_ses-1_acq-ap_run-02_dwi.bval                \n",
      "eddy_quad /export2/DATA/HIS/HIS_server/analysis/dwi_data/preproc/sub-174/eddy_unwarped_images_sub-174_before \\\n",
      "                -idx /export2/DATA/HIS/HIS_server/analysis/dwi_data/preproc/sub-174/before_index.txt \\\n",
      "                -par /export2/DATA/HIS/HIS_server/analysis/dwi_data/preproc/sub-174/sub-174_before_acqparams.txt \\\n",
      "                -m   /export2/DATA/HIS/HIS_server/analysis/dwi_data/preproc/sub-174/topup_sub-174_AP_PA_before_b0s_iout_avg_brain_mask.nii.gz \\\n",
      "                -b   /export2/DATA/HIS/HIS_server/BIDS/sub-174/ses-1/dwi/sub-174_ses-1_acq-ap_run-01_dwi.bval                \n",
      "eddy_quad /export2/DATA/HIS/HIS_server/analysis/dwi_data/preproc/sub-174/eddy_unwarped_images_sub-174_after \\\n",
      "                -idx /export2/DATA/HIS/HIS_server/analysis/dwi_data/preproc/sub-174/after_index.txt \\\n",
      "                -par /export2/DATA/HIS/HIS_server/analysis/dwi_data/preproc/sub-174/sub-174_after_acqparams.txt \\\n",
      "                -m   /export2/DATA/HIS/HIS_server/analysis/dwi_data/preproc/sub-174/topup_sub-174_AP_PA_after_b0s_iout_avg_brain_mask.nii.gz \\\n",
      "                -b   /export2/DATA/HIS/HIS_server/BIDS/sub-174/ses-1/dwi/sub-174_ses-1_acq-ap_run-02_dwi.bval                \n",
      "eddy_quad /export2/DATA/HIS/HIS_server/analysis/dwi_data/preproc/sub-175/eddy_unwarped_images_sub-175_before \\\n",
      "                -idx /export2/DATA/HIS/HIS_server/analysis/dwi_data/preproc/sub-175/before_index.txt \\\n",
      "                -par /export2/DATA/HIS/HIS_server/analysis/dwi_data/preproc/sub-175/sub-175_before_acqparams.txt \\\n",
      "                -m   /export2/DATA/HIS/HIS_server/analysis/dwi_data/preproc/sub-175/topup_sub-175_AP_PA_before_b0s_iout_avg_brain_mask.nii.gz \\\n",
      "                -b   /export2/DATA/HIS/HIS_server/BIDS/sub-175/ses-1/dwi/sub-175_ses-1_acq-ap_run-01_dwi.bval                \n",
      "eddy_quad /export2/DATA/HIS/HIS_server/analysis/dwi_data/preproc/sub-175/eddy_unwarped_images_sub-175_after \\\n",
      "                -idx /export2/DATA/HIS/HIS_server/analysis/dwi_data/preproc/sub-175/after_index.txt \\\n",
      "                -par /export2/DATA/HIS/HIS_server/analysis/dwi_data/preproc/sub-175/sub-175_after_acqparams.txt \\\n",
      "                -m   /export2/DATA/HIS/HIS_server/analysis/dwi_data/preproc/sub-175/topup_sub-175_AP_PA_after_b0s_iout_avg_brain_mask.nii.gz \\\n",
      "                -b   /export2/DATA/HIS/HIS_server/BIDS/sub-175/ses-1/dwi/sub-175_ses-1_acq-ap_run-02_dwi.bval                \n",
      "eddy_quad /export2/DATA/HIS/HIS_server/analysis/dwi_data/preproc/sub-205/eddy_unwarped_images_sub-205_before \\\n",
      "                -idx /export2/DATA/HIS/HIS_server/analysis/dwi_data/preproc/sub-205/before_index.txt \\\n",
      "                -par /export2/DATA/HIS/HIS_server/analysis/dwi_data/preproc/sub-205/sub-205_before_acqparams.txt \\\n",
      "                -m   /export2/DATA/HIS/HIS_server/analysis/dwi_data/preproc/sub-205/topup_sub-205_AP_PA_before_b0s_iout_avg_brain_mask.nii.gz \\\n",
      "                -b   /export2/DATA/HIS/HIS_server/BIDS/sub-205/ses-1/dwi/sub-205_ses-1_acq-ap_run-01_dwi.bval                \n",
      "eddy_quad /export2/DATA/HIS/HIS_server/analysis/dwi_data/preproc/sub-205/eddy_unwarped_images_sub-205_after \\\n",
      "                -idx /export2/DATA/HIS/HIS_server/analysis/dwi_data/preproc/sub-205/after_index.txt \\\n",
      "                -par /export2/DATA/HIS/HIS_server/analysis/dwi_data/preproc/sub-205/sub-205_after_acqparams.txt \\\n",
      "                -m   /export2/DATA/HIS/HIS_server/analysis/dwi_data/preproc/sub-205/topup_sub-205_AP_PA_after_b0s_iout_avg_brain_mask.nii.gz \\\n",
      "                -b   /export2/DATA/HIS/HIS_server/BIDS/sub-205/ses-3/dwi/sub-205_ses-3_acq-ap_run-02_dwi.bval                \n",
      "eddy_quad /export2/DATA/HIS/HIS_server/analysis/dwi_data/preproc/sub-208/eddy_unwarped_images_sub-208_before \\\n",
      "                -idx /export2/DATA/HIS/HIS_server/analysis/dwi_data/preproc/sub-208/before_index.txt \\\n",
      "                -par /export2/DATA/HIS/HIS_server/analysis/dwi_data/preproc/sub-208/sub-208_before_acqparams.txt \\\n",
      "                -m   /export2/DATA/HIS/HIS_server/analysis/dwi_data/preproc/sub-208/topup_sub-208_AP_PA_before_b0s_iout_avg_brain_mask.nii.gz \\\n",
      "                -b   /export2/DATA/HIS/HIS_server/BIDS/sub-208/ses-1/dwi/sub-208_ses-1_acq-ap_run-01_dwi.bval                \n",
      "eddy_quad /export2/DATA/HIS/HIS_server/analysis/dwi_data/preproc/sub-208/eddy_unwarped_images_sub-208_after \\\n",
      "                -idx /export2/DATA/HIS/HIS_server/analysis/dwi_data/preproc/sub-208/after_index.txt \\\n",
      "                -par /export2/DATA/HIS/HIS_server/analysis/dwi_data/preproc/sub-208/sub-208_after_acqparams.txt \\\n",
      "                -m   /export2/DATA/HIS/HIS_server/analysis/dwi_data/preproc/sub-208/topup_sub-208_AP_PA_after_b0s_iout_avg_brain_mask.nii.gz \\\n",
      "                -b   /export2/DATA/HIS/HIS_server/BIDS/sub-208/ses-3/dwi/sub-208_ses-3_acq-ap_run-02_dwi.bval                \n",
      "eddy_quad /export2/DATA/HIS/HIS_server/analysis/dwi_data/preproc/sub-220/eddy_unwarped_images_sub-220_before \\\n",
      "                -idx /export2/DATA/HIS/HIS_server/analysis/dwi_data/preproc/sub-220/before_index.txt \\\n",
      "                -par /export2/DATA/HIS/HIS_server/analysis/dwi_data/preproc/sub-220/sub-220_before_acqparams.txt \\\n",
      "                -m   /export2/DATA/HIS/HIS_server/analysis/dwi_data/preproc/sub-220/topup_sub-220_AP_PA_before_b0s_iout_avg_brain_mask.nii.gz \\\n",
      "                -b   /export2/DATA/HIS/HIS_server/BIDS/sub-220/ses-1/dwi/sub-220_ses-1_acq-ap_run-01_dwi.bval                \n",
      "eddy_quad /export2/DATA/HIS/HIS_server/analysis/dwi_data/preproc/sub-220/eddy_unwarped_images_sub-220_after \\\n",
      "                -idx /export2/DATA/HIS/HIS_server/analysis/dwi_data/preproc/sub-220/after_index.txt \\\n",
      "                -par /export2/DATA/HIS/HIS_server/analysis/dwi_data/preproc/sub-220/sub-220_after_acqparams.txt \\\n",
      "                -m   /export2/DATA/HIS/HIS_server/analysis/dwi_data/preproc/sub-220/topup_sub-220_AP_PA_after_b0s_iout_avg_brain_mask.nii.gz \\\n",
      "                -b   /export2/DATA/HIS/HIS_server/BIDS/sub-220/ses-3/dwi/sub-220_ses-3_acq-ap_run-02_dwi.bval                \n",
      "eddy_quad /export2/DATA/HIS/HIS_server/analysis/dwi_data/preproc/sub-232/eddy_unwarped_images_sub-232_before \\\n",
      "                -idx /export2/DATA/HIS/HIS_server/analysis/dwi_data/preproc/sub-232/before_index.txt \\\n",
      "                -par /export2/DATA/HIS/HIS_server/analysis/dwi_data/preproc/sub-232/sub-232_before_acqparams.txt \\\n",
      "                -m   /export2/DATA/HIS/HIS_server/analysis/dwi_data/preproc/sub-232/topup_sub-232_AP_PA_before_b0s_iout_avg_brain_mask.nii.gz \\\n",
      "                -b   /export2/DATA/HIS/HIS_server/BIDS/sub-232/ses-1/dwi/sub-232_ses-1_acq-ap_run-01_dwi.bval                \n",
      "eddy_quad /export2/DATA/HIS/HIS_server/analysis/dwi_data/preproc/sub-232/eddy_unwarped_images_sub-232_after \\\n",
      "                -idx /export2/DATA/HIS/HIS_server/analysis/dwi_data/preproc/sub-232/after_index.txt \\\n",
      "                -par /export2/DATA/HIS/HIS_server/analysis/dwi_data/preproc/sub-232/sub-232_after_acqparams.txt \\\n",
      "                -m   /export2/DATA/HIS/HIS_server/analysis/dwi_data/preproc/sub-232/topup_sub-232_AP_PA_after_b0s_iout_avg_brain_mask.nii.gz \\\n",
      "                -b   /export2/DATA/HIS/HIS_server/BIDS/sub-232/ses-3/dwi/sub-232_ses-3_acq-ap_run-02_dwi.bval                \n",
      "eddy_quad /export2/DATA/HIS/HIS_server/analysis/dwi_data/preproc/sub-235/eddy_unwarped_images_sub-235_before \\\n",
      "                -idx /export2/DATA/HIS/HIS_server/analysis/dwi_data/preproc/sub-235/before_index.txt \\\n",
      "                -par /export2/DATA/HIS/HIS_server/analysis/dwi_data/preproc/sub-235/sub-235_before_acqparams.txt \\\n",
      "                -m   /export2/DATA/HIS/HIS_server/analysis/dwi_data/preproc/sub-235/topup_sub-235_AP_PA_before_b0s_iout_avg_brain_mask.nii.gz \\\n",
      "                -b   /export2/DATA/HIS/HIS_server/BIDS/sub-235/ses-1/dwi/sub-235_ses-1_acq-ap_run-01_dwi.bval                \n",
      "eddy_quad /export2/DATA/HIS/HIS_server/analysis/dwi_data/preproc/sub-235/eddy_unwarped_images_sub-235_after \\\n",
      "                -idx /export2/DATA/HIS/HIS_server/analysis/dwi_data/preproc/sub-235/after_index.txt \\\n",
      "                -par /export2/DATA/HIS/HIS_server/analysis/dwi_data/preproc/sub-235/sub-235_after_acqparams.txt \\\n",
      "                -m   /export2/DATA/HIS/HIS_server/analysis/dwi_data/preproc/sub-235/topup_sub-235_AP_PA_after_b0s_iout_avg_brain_mask.nii.gz \\\n",
      "                -b   /export2/DATA/HIS/HIS_server/BIDS/sub-235/ses-3/dwi/sub-235_ses-3_acq-ap_run-02_dwi.bval                \n",
      "eddy_quad /export2/DATA/HIS/HIS_server/analysis/dwi_data/preproc/sub-238/eddy_unwarped_images_sub-238_before \\\n",
      "                -idx /export2/DATA/HIS/HIS_server/analysis/dwi_data/preproc/sub-238/before_index.txt \\\n",
      "                -par /export2/DATA/HIS/HIS_server/analysis/dwi_data/preproc/sub-238/sub-238_before_acqparams.txt \\\n",
      "                -m   /export2/DATA/HIS/HIS_server/analysis/dwi_data/preproc/sub-238/topup_sub-238_AP_PA_before_b0s_iout_avg_brain_mask.nii.gz \\\n",
      "                -b   /export2/DATA/HIS/HIS_server/BIDS/sub-238/ses-1/dwi/sub-238_ses-1_acq-ap_run-01_dwi.bval                \n",
      "eddy_quad /export2/DATA/HIS/HIS_server/analysis/dwi_data/preproc/sub-238/eddy_unwarped_images_sub-238_after \\\n",
      "                -idx /export2/DATA/HIS/HIS_server/analysis/dwi_data/preproc/sub-238/after_index.txt \\\n",
      "                -par /export2/DATA/HIS/HIS_server/analysis/dwi_data/preproc/sub-238/sub-238_after_acqparams.txt \\\n",
      "                -m   /export2/DATA/HIS/HIS_server/analysis/dwi_data/preproc/sub-238/topup_sub-238_AP_PA_after_b0s_iout_avg_brain_mask.nii.gz \\\n",
      "                -b   /export2/DATA/HIS/HIS_server/BIDS/sub-238/ses-3/dwi/sub-238_ses-3_acq-ap_run-02_dwi.bval                \n",
      "eddy_quad /export2/DATA/HIS/HIS_server/analysis/dwi_data/preproc/sub-241/eddy_unwarped_images_sub-241_before \\\n",
      "                -idx /export2/DATA/HIS/HIS_server/analysis/dwi_data/preproc/sub-241/before_index.txt \\\n",
      "                -par /export2/DATA/HIS/HIS_server/analysis/dwi_data/preproc/sub-241/sub-241_before_acqparams.txt \\\n",
      "                -m   /export2/DATA/HIS/HIS_server/analysis/dwi_data/preproc/sub-241/topup_sub-241_AP_PA_before_b0s_iout_avg_brain_mask.nii.gz \\\n",
      "                -b   /export2/DATA/HIS/HIS_server/BIDS/sub-241/ses-1/dwi/sub-241_ses-1_acq-ap_run-01_dwi.bval                \n",
      "eddy_quad /export2/DATA/HIS/HIS_server/analysis/dwi_data/preproc/sub-241/eddy_unwarped_images_sub-241_after \\\n",
      "                -idx /export2/DATA/HIS/HIS_server/analysis/dwi_data/preproc/sub-241/after_index.txt \\\n",
      "                -par /export2/DATA/HIS/HIS_server/analysis/dwi_data/preproc/sub-241/sub-241_after_acqparams.txt \\\n",
      "                -m   /export2/DATA/HIS/HIS_server/analysis/dwi_data/preproc/sub-241/topup_sub-241_AP_PA_after_b0s_iout_avg_brain_mask.nii.gz \\\n",
      "                -b   /export2/DATA/HIS/HIS_server/BIDS/sub-241/ses-3/dwi/sub-241_ses-3_acq-ap_run-02_dwi.bval                \n",
      "eddy_quad /export2/DATA/HIS/HIS_server/analysis/dwi_data/preproc/sub-245/eddy_unwarped_images_sub-245_before \\\n",
      "                -idx /export2/DATA/HIS/HIS_server/analysis/dwi_data/preproc/sub-245/before_index.txt \\\n",
      "                -par /export2/DATA/HIS/HIS_server/analysis/dwi_data/preproc/sub-245/sub-245_before_acqparams.txt \\\n",
      "                -m   /export2/DATA/HIS/HIS_server/analysis/dwi_data/preproc/sub-245/topup_sub-245_AP_PA_before_b0s_iout_avg_brain_mask.nii.gz \\\n",
      "                -b   /export2/DATA/HIS/HIS_server/BIDS/sub-245/ses-1/dwi/sub-245_ses-1_acq-ap_run-01_dwi.bval                \n",
      "eddy_quad /export2/DATA/HIS/HIS_server/analysis/dwi_data/preproc/sub-245/eddy_unwarped_images_sub-245_after \\\n",
      "                -idx /export2/DATA/HIS/HIS_server/analysis/dwi_data/preproc/sub-245/after_index.txt \\\n",
      "                -par /export2/DATA/HIS/HIS_server/analysis/dwi_data/preproc/sub-245/sub-245_after_acqparams.txt \\\n",
      "                -m   /export2/DATA/HIS/HIS_server/analysis/dwi_data/preproc/sub-245/topup_sub-245_AP_PA_after_b0s_iout_avg_brain_mask.nii.gz \\\n",
      "                -b   /export2/DATA/HIS/HIS_server/BIDS/sub-245/ses-3/dwi/sub-245_ses-3_acq-ap_run-02_dwi.bval                \n",
      "eddy_quad /export2/DATA/HIS/HIS_server/analysis/dwi_data/preproc/sub-251/eddy_unwarped_images_sub-251_before \\\n",
      "                -idx /export2/DATA/HIS/HIS_server/analysis/dwi_data/preproc/sub-251/before_index.txt \\\n",
      "                -par /export2/DATA/HIS/HIS_server/analysis/dwi_data/preproc/sub-251/sub-251_before_acqparams.txt \\\n",
      "                -m   /export2/DATA/HIS/HIS_server/analysis/dwi_data/preproc/sub-251/topup_sub-251_AP_PA_before_b0s_iout_avg_brain_mask.nii.gz \\\n",
      "                -b   /export2/DATA/HIS/HIS_server/BIDS/sub-251/ses-1/dwi/sub-251_ses-1_acq-ap_run-01_dwi.bval                \n",
      "eddy_quad /export2/DATA/HIS/HIS_server/analysis/dwi_data/preproc/sub-251/eddy_unwarped_images_sub-251_after \\\n",
      "                -idx /export2/DATA/HIS/HIS_server/analysis/dwi_data/preproc/sub-251/after_index.txt \\\n",
      "                -par /export2/DATA/HIS/HIS_server/analysis/dwi_data/preproc/sub-251/sub-251_after_acqparams.txt \\\n",
      "                -m   /export2/DATA/HIS/HIS_server/analysis/dwi_data/preproc/sub-251/topup_sub-251_AP_PA_after_b0s_iout_avg_brain_mask.nii.gz \\\n",
      "                -b   /export2/DATA/HIS/HIS_server/BIDS/sub-251/ses-3/dwi/sub-251_ses-3_acq-ap_run-02_dwi.bval                \n",
      "eddy_quad /export2/DATA/HIS/HIS_server/analysis/dwi_data/preproc/sub-252/eddy_unwarped_images_sub-252_before \\\n",
      "                -idx /export2/DATA/HIS/HIS_server/analysis/dwi_data/preproc/sub-252/before_index.txt \\\n",
      "                -par /export2/DATA/HIS/HIS_server/analysis/dwi_data/preproc/sub-252/sub-252_before_acqparams.txt \\\n",
      "                -m   /export2/DATA/HIS/HIS_server/analysis/dwi_data/preproc/sub-252/topup_sub-252_AP_PA_before_b0s_iout_avg_brain_mask.nii.gz \\\n",
      "                -b   /export2/DATA/HIS/HIS_server/BIDS/sub-252/ses-1/dwi/sub-252_ses-1_acq-ap_run-01_dwi.bval                \n",
      "eddy_quad /export2/DATA/HIS/HIS_server/analysis/dwi_data/preproc/sub-252/eddy_unwarped_images_sub-252_after \\\n",
      "                -idx /export2/DATA/HIS/HIS_server/analysis/dwi_data/preproc/sub-252/after_index.txt \\\n",
      "                -par /export2/DATA/HIS/HIS_server/analysis/dwi_data/preproc/sub-252/sub-252_after_acqparams.txt \\\n",
      "                -m   /export2/DATA/HIS/HIS_server/analysis/dwi_data/preproc/sub-252/topup_sub-252_AP_PA_after_b0s_iout_avg_brain_mask.nii.gz \\\n",
      "                -b   /export2/DATA/HIS/HIS_server/BIDS/sub-252/ses-3/dwi/sub-252_ses-3_acq-ap_run-02_dwi.bval                \n",
      "eddy_quad /export2/DATA/HIS/HIS_server/analysis/dwi_data/preproc/sub-254/eddy_unwarped_images_sub-254_before \\\n",
      "                -idx /export2/DATA/HIS/HIS_server/analysis/dwi_data/preproc/sub-254/before_index.txt \\\n",
      "                -par /export2/DATA/HIS/HIS_server/analysis/dwi_data/preproc/sub-254/sub-254_before_acqparams.txt \\\n",
      "                -m   /export2/DATA/HIS/HIS_server/analysis/dwi_data/preproc/sub-254/topup_sub-254_AP_PA_before_b0s_iout_avg_brain_mask.nii.gz \\\n",
      "                -b   /export2/DATA/HIS/HIS_server/BIDS/sub-254/ses-1/dwi/sub-254_ses-1_acq-ap_run-01_dwi.bval                \n",
      "eddy_quad /export2/DATA/HIS/HIS_server/analysis/dwi_data/preproc/sub-254/eddy_unwarped_images_sub-254_after \\\n",
      "                -idx /export2/DATA/HIS/HIS_server/analysis/dwi_data/preproc/sub-254/after_index.txt \\\n",
      "                -par /export2/DATA/HIS/HIS_server/analysis/dwi_data/preproc/sub-254/sub-254_after_acqparams.txt \\\n",
      "                -m   /export2/DATA/HIS/HIS_server/analysis/dwi_data/preproc/sub-254/topup_sub-254_AP_PA_after_b0s_iout_avg_brain_mask.nii.gz \\\n",
      "                -b   /export2/DATA/HIS/HIS_server/BIDS/sub-254/ses-3/dwi/sub-254_ses-3_acq-ap_run-02_dwi.bval                \n",
      "eddy_quad /export2/DATA/HIS/HIS_server/analysis/dwi_data/preproc/sub-257/eddy_unwarped_images_sub-257_before \\\n",
      "                -idx /export2/DATA/HIS/HIS_server/analysis/dwi_data/preproc/sub-257/before_index.txt \\\n",
      "                -par /export2/DATA/HIS/HIS_server/analysis/dwi_data/preproc/sub-257/sub-257_before_acqparams.txt \\\n",
      "                -m   /export2/DATA/HIS/HIS_server/analysis/dwi_data/preproc/sub-257/topup_sub-257_AP_PA_before_b0s_iout_avg_brain_mask.nii.gz \\\n",
      "                -b   /export2/DATA/HIS/HIS_server/BIDS/sub-257/ses-1/dwi/sub-257_ses-1_acq-ap_run-01_dwi.bval                \n",
      "eddy_quad /export2/DATA/HIS/HIS_server/analysis/dwi_data/preproc/sub-257/eddy_unwarped_images_sub-257_after \\\n",
      "                -idx /export2/DATA/HIS/HIS_server/analysis/dwi_data/preproc/sub-257/after_index.txt \\\n",
      "                -par /export2/DATA/HIS/HIS_server/analysis/dwi_data/preproc/sub-257/sub-257_after_acqparams.txt \\\n",
      "                -m   /export2/DATA/HIS/HIS_server/analysis/dwi_data/preproc/sub-257/topup_sub-257_AP_PA_after_b0s_iout_avg_brain_mask.nii.gz \\\n",
      "                -b   /export2/DATA/HIS/HIS_server/BIDS/sub-257/ses-3/dwi/sub-257_ses-3_acq-ap_run-02_dwi.bval                \n",
      "eddy_quad /export2/DATA/HIS/HIS_server/analysis/dwi_data/preproc/sub-258/eddy_unwarped_images_sub-258_before \\\n",
      "                -idx /export2/DATA/HIS/HIS_server/analysis/dwi_data/preproc/sub-258/before_index.txt \\\n",
      "                -par /export2/DATA/HIS/HIS_server/analysis/dwi_data/preproc/sub-258/sub-258_before_acqparams.txt \\\n",
      "                -m   /export2/DATA/HIS/HIS_server/analysis/dwi_data/preproc/sub-258/topup_sub-258_AP_PA_before_b0s_iout_avg_brain_mask.nii.gz \\\n",
      "                -b   /export2/DATA/HIS/HIS_server/BIDS/sub-258/ses-1/dwi/sub-258_ses-1_acq-ap_run-01_dwi.bval                \n",
      "eddy_quad /export2/DATA/HIS/HIS_server/analysis/dwi_data/preproc/sub-258/eddy_unwarped_images_sub-258_after \\\n",
      "                -idx /export2/DATA/HIS/HIS_server/analysis/dwi_data/preproc/sub-258/after_index.txt \\\n",
      "                -par /export2/DATA/HIS/HIS_server/analysis/dwi_data/preproc/sub-258/sub-258_after_acqparams.txt \\\n",
      "                -m   /export2/DATA/HIS/HIS_server/analysis/dwi_data/preproc/sub-258/topup_sub-258_AP_PA_after_b0s_iout_avg_brain_mask.nii.gz \\\n",
      "                -b   /export2/DATA/HIS/HIS_server/BIDS/sub-258/ses-3/dwi/sub-258_ses-3_acq-ap_run-02_dwi.bval                \n",
      "eddy_quad /export2/DATA/HIS/HIS_server/analysis/dwi_data/preproc/sub-260/eddy_unwarped_images_sub-260_before \\\n",
      "                -idx /export2/DATA/HIS/HIS_server/analysis/dwi_data/preproc/sub-260/before_index.txt \\\n",
      "                -par /export2/DATA/HIS/HIS_server/analysis/dwi_data/preproc/sub-260/sub-260_before_acqparams.txt \\\n",
      "                -m   /export2/DATA/HIS/HIS_server/analysis/dwi_data/preproc/sub-260/topup_sub-260_AP_PA_before_b0s_iout_avg_brain_mask.nii.gz \\\n",
      "                -b   /export2/DATA/HIS/HIS_server/BIDS/sub-260/ses-1/dwi/sub-260_ses-1_acq-ap_run-01_dwi.bval                \n",
      "eddy_quad /export2/DATA/HIS/HIS_server/analysis/dwi_data/preproc/sub-260/eddy_unwarped_images_sub-260_after \\\n",
      "                -idx /export2/DATA/HIS/HIS_server/analysis/dwi_data/preproc/sub-260/after_index.txt \\\n",
      "                -par /export2/DATA/HIS/HIS_server/analysis/dwi_data/preproc/sub-260/sub-260_after_acqparams.txt \\\n",
      "                -m   /export2/DATA/HIS/HIS_server/analysis/dwi_data/preproc/sub-260/topup_sub-260_AP_PA_after_b0s_iout_avg_brain_mask.nii.gz \\\n",
      "                -b   /export2/DATA/HIS/HIS_server/BIDS/sub-260/ses-3/dwi/sub-260_ses-3_acq-ap_run-02_dwi.bval                \n",
      "eddy_quad /export2/DATA/HIS/HIS_server/analysis/dwi_data/preproc/sub-261/eddy_unwarped_images_sub-261_before \\\n",
      "                -idx /export2/DATA/HIS/HIS_server/analysis/dwi_data/preproc/sub-261/before_index.txt \\\n",
      "                -par /export2/DATA/HIS/HIS_server/analysis/dwi_data/preproc/sub-261/sub-261_before_acqparams.txt \\\n",
      "                -m   /export2/DATA/HIS/HIS_server/analysis/dwi_data/preproc/sub-261/topup_sub-261_AP_PA_before_b0s_iout_avg_brain_mask.nii.gz \\\n",
      "                -b   /export2/DATA/HIS/HIS_server/BIDS/sub-261/ses-1/dwi/sub-261_ses-1_acq-ap_run-01_dwi.bval                \n",
      "eddy_quad /export2/DATA/HIS/HIS_server/analysis/dwi_data/preproc/sub-261/eddy_unwarped_images_sub-261_after \\\n",
      "                -idx /export2/DATA/HIS/HIS_server/analysis/dwi_data/preproc/sub-261/after_index.txt \\\n",
      "                -par /export2/DATA/HIS/HIS_server/analysis/dwi_data/preproc/sub-261/sub-261_after_acqparams.txt \\\n",
      "                -m   /export2/DATA/HIS/HIS_server/analysis/dwi_data/preproc/sub-261/topup_sub-261_AP_PA_after_b0s_iout_avg_brain_mask.nii.gz \\\n",
      "                -b   /export2/DATA/HIS/HIS_server/BIDS/sub-261/ses-3/dwi/sub-261_ses-3_acq-ap_run-02_dwi.bval                \n",
      "eddy_quad /export2/DATA/HIS/HIS_server/analysis/dwi_data/preproc/sub-262/eddy_unwarped_images_sub-262_before \\\n",
      "                -idx /export2/DATA/HIS/HIS_server/analysis/dwi_data/preproc/sub-262/before_index.txt \\\n",
      "                -par /export2/DATA/HIS/HIS_server/analysis/dwi_data/preproc/sub-262/sub-262_before_acqparams.txt \\\n",
      "                -m   /export2/DATA/HIS/HIS_server/analysis/dwi_data/preproc/sub-262/topup_sub-262_AP_PA_before_b0s_iout_avg_brain_mask.nii.gz \\\n",
      "                -b   /export2/DATA/HIS/HIS_server/BIDS/sub-262/ses-1/dwi/sub-262_ses-1_acq-ap_run-01_dwi.bval                \n",
      "eddy_quad /export2/DATA/HIS/HIS_server/analysis/dwi_data/preproc/sub-262/eddy_unwarped_images_sub-262_after \\\n",
      "                -idx /export2/DATA/HIS/HIS_server/analysis/dwi_data/preproc/sub-262/after_index.txt \\\n",
      "                -par /export2/DATA/HIS/HIS_server/analysis/dwi_data/preproc/sub-262/sub-262_after_acqparams.txt \\\n",
      "                -m   /export2/DATA/HIS/HIS_server/analysis/dwi_data/preproc/sub-262/topup_sub-262_AP_PA_after_b0s_iout_avg_brain_mask.nii.gz \\\n",
      "                -b   /export2/DATA/HIS/HIS_server/BIDS/sub-262/ses-3/dwi/sub-262_ses-3_acq-ap_run-02_dwi.bval                \n",
      "eddy_quad /export2/DATA/HIS/HIS_server/analysis/dwi_data/preproc/sub-263/eddy_unwarped_images_sub-263_before \\\n",
      "                -idx /export2/DATA/HIS/HIS_server/analysis/dwi_data/preproc/sub-263/before_index.txt \\\n",
      "                -par /export2/DATA/HIS/HIS_server/analysis/dwi_data/preproc/sub-263/sub-263_before_acqparams.txt \\\n",
      "                -m   /export2/DATA/HIS/HIS_server/analysis/dwi_data/preproc/sub-263/topup_sub-263_AP_PA_before_b0s_iout_avg_brain_mask.nii.gz \\\n",
      "                -b   /export2/DATA/HIS/HIS_server/BIDS/sub-263/ses-1/dwi/sub-263_ses-1_acq-ap_run-01_dwi.bval                \n",
      "eddy_quad /export2/DATA/HIS/HIS_server/analysis/dwi_data/preproc/sub-263/eddy_unwarped_images_sub-263_after \\\n",
      "                -idx /export2/DATA/HIS/HIS_server/analysis/dwi_data/preproc/sub-263/after_index.txt \\\n",
      "                -par /export2/DATA/HIS/HIS_server/analysis/dwi_data/preproc/sub-263/sub-263_after_acqparams.txt \\\n",
      "                -m   /export2/DATA/HIS/HIS_server/analysis/dwi_data/preproc/sub-263/topup_sub-263_AP_PA_after_b0s_iout_avg_brain_mask.nii.gz \\\n",
      "                -b   /export2/DATA/HIS/HIS_server/BIDS/sub-263/ses-3/dwi/sub-263_ses-3_acq-ap_run-02_dwi.bval                \n",
      "eddy_quad /export2/DATA/HIS/HIS_server/analysis/dwi_data/preproc/sub-264/eddy_unwarped_images_sub-264_before \\\n",
      "                -idx /export2/DATA/HIS/HIS_server/analysis/dwi_data/preproc/sub-264/before_index.txt \\\n",
      "                -par /export2/DATA/HIS/HIS_server/analysis/dwi_data/preproc/sub-264/sub-264_before_acqparams.txt \\\n",
      "                -m   /export2/DATA/HIS/HIS_server/analysis/dwi_data/preproc/sub-264/topup_sub-264_AP_PA_before_b0s_iout_avg_brain_mask.nii.gz \\\n",
      "                -b   /export2/DATA/HIS/HIS_server/BIDS/sub-264/ses-1/dwi/sub-264_ses-1_acq-ap_run-01_dwi.bval                \n",
      "eddy_quad /export2/DATA/HIS/HIS_server/analysis/dwi_data/preproc/sub-264/eddy_unwarped_images_sub-264_after \\\n",
      "                -idx /export2/DATA/HIS/HIS_server/analysis/dwi_data/preproc/sub-264/after_index.txt \\\n",
      "                -par /export2/DATA/HIS/HIS_server/analysis/dwi_data/preproc/sub-264/sub-264_after_acqparams.txt \\\n",
      "                -m   /export2/DATA/HIS/HIS_server/analysis/dwi_data/preproc/sub-264/topup_sub-264_AP_PA_after_b0s_iout_avg_brain_mask.nii.gz \\\n",
      "                -b   /export2/DATA/HIS/HIS_server/BIDS/sub-264/ses-3/dwi/sub-264_ses-3_acq-ap_run-02_dwi.bval                \n",
      "eddy_quad /export2/DATA/HIS/HIS_server/analysis/dwi_data/preproc/sub-265/eddy_unwarped_images_sub-265_before \\\n",
      "                -idx /export2/DATA/HIS/HIS_server/analysis/dwi_data/preproc/sub-265/before_index.txt \\\n",
      "                -par /export2/DATA/HIS/HIS_server/analysis/dwi_data/preproc/sub-265/sub-265_before_acqparams.txt \\\n",
      "                -m   /export2/DATA/HIS/HIS_server/analysis/dwi_data/preproc/sub-265/topup_sub-265_AP_PA_before_b0s_iout_avg_brain_mask.nii.gz \\\n",
      "                -b   /export2/DATA/HIS/HIS_server/BIDS/sub-265/ses-1/dwi/sub-265_ses-1_acq-ap_run-01_dwi.bval                \n",
      "eddy_quad /export2/DATA/HIS/HIS_server/analysis/dwi_data/preproc/sub-265/eddy_unwarped_images_sub-265_after \\\n",
      "                -idx /export2/DATA/HIS/HIS_server/analysis/dwi_data/preproc/sub-265/after_index.txt \\\n",
      "                -par /export2/DATA/HIS/HIS_server/analysis/dwi_data/preproc/sub-265/sub-265_after_acqparams.txt \\\n",
      "                -m   /export2/DATA/HIS/HIS_server/analysis/dwi_data/preproc/sub-265/topup_sub-265_AP_PA_after_b0s_iout_avg_brain_mask.nii.gz \\\n",
      "                -b   /export2/DATA/HIS/HIS_server/BIDS/sub-265/ses-3/dwi/sub-265_ses-3_acq-ap_run-02_dwi.bval                \n",
      "eddy_quad /export2/DATA/HIS/HIS_server/analysis/dwi_data/preproc/sub-267/eddy_unwarped_images_sub-267_before \\\n",
      "                -idx /export2/DATA/HIS/HIS_server/analysis/dwi_data/preproc/sub-267/before_index.txt \\\n",
      "                -par /export2/DATA/HIS/HIS_server/analysis/dwi_data/preproc/sub-267/sub-267_before_acqparams.txt \\\n",
      "                -m   /export2/DATA/HIS/HIS_server/analysis/dwi_data/preproc/sub-267/topup_sub-267_AP_PA_before_b0s_iout_avg_brain_mask.nii.gz \\\n",
      "                -b   /export2/DATA/HIS/HIS_server/BIDS/sub-267/ses-1/dwi/sub-267_ses-1_acq-ap_run-01_dwi.bval                \n",
      "eddy_quad /export2/DATA/HIS/HIS_server/analysis/dwi_data/preproc/sub-267/eddy_unwarped_images_sub-267_after \\\n",
      "                -idx /export2/DATA/HIS/HIS_server/analysis/dwi_data/preproc/sub-267/after_index.txt \\\n",
      "                -par /export2/DATA/HIS/HIS_server/analysis/dwi_data/preproc/sub-267/sub-267_after_acqparams.txt \\\n",
      "                -m   /export2/DATA/HIS/HIS_server/analysis/dwi_data/preproc/sub-267/topup_sub-267_AP_PA_after_b0s_iout_avg_brain_mask.nii.gz \\\n",
      "                -b   /export2/DATA/HIS/HIS_server/BIDS/sub-267/ses-3/dwi/sub-267_ses-3_acq-ap_run-02_dwi.bval                \n",
      "eddy_quad /export2/DATA/HIS/HIS_server/analysis/dwi_data/preproc/sub-268/eddy_unwarped_images_sub-268_before \\\n",
      "                -idx /export2/DATA/HIS/HIS_server/analysis/dwi_data/preproc/sub-268/before_index.txt \\\n",
      "                -par /export2/DATA/HIS/HIS_server/analysis/dwi_data/preproc/sub-268/sub-268_before_acqparams.txt \\\n",
      "                -m   /export2/DATA/HIS/HIS_server/analysis/dwi_data/preproc/sub-268/topup_sub-268_AP_PA_before_b0s_iout_avg_brain_mask.nii.gz \\\n",
      "                -b   /export2/DATA/HIS/HIS_server/BIDS/sub-268/ses-1/dwi/sub-268_ses-1_acq-ap_run-01_dwi.bval                \n",
      "eddy_quad /export2/DATA/HIS/HIS_server/analysis/dwi_data/preproc/sub-268/eddy_unwarped_images_sub-268_after \\\n",
      "                -idx /export2/DATA/HIS/HIS_server/analysis/dwi_data/preproc/sub-268/after_index.txt \\\n",
      "                -par /export2/DATA/HIS/HIS_server/analysis/dwi_data/preproc/sub-268/sub-268_after_acqparams.txt \\\n",
      "                -m   /export2/DATA/HIS/HIS_server/analysis/dwi_data/preproc/sub-268/topup_sub-268_AP_PA_after_b0s_iout_avg_brain_mask.nii.gz \\\n",
      "                -b   /export2/DATA/HIS/HIS_server/BIDS/sub-268/ses-3/dwi/sub-268_ses-3_acq-ap_run-02_dwi.bval                \n",
      "eddy_quad /export2/DATA/HIS/HIS_server/analysis/dwi_data/preproc/sub-269/eddy_unwarped_images_sub-269_before \\\n",
      "                -idx /export2/DATA/HIS/HIS_server/analysis/dwi_data/preproc/sub-269/before_index.txt \\\n",
      "                -par /export2/DATA/HIS/HIS_server/analysis/dwi_data/preproc/sub-269/sub-269_before_acqparams.txt \\\n",
      "                -m   /export2/DATA/HIS/HIS_server/analysis/dwi_data/preproc/sub-269/topup_sub-269_AP_PA_before_b0s_iout_avg_brain_mask.nii.gz \\\n",
      "                -b   /export2/DATA/HIS/HIS_server/BIDS/sub-269/ses-1/dwi/sub-269_ses-1_acq-ap_run-01_dwi.bval                \n",
      "eddy_quad /export2/DATA/HIS/HIS_server/analysis/dwi_data/preproc/sub-269/eddy_unwarped_images_sub-269_after \\\n",
      "                -idx /export2/DATA/HIS/HIS_server/analysis/dwi_data/preproc/sub-269/after_index.txt \\\n",
      "                -par /export2/DATA/HIS/HIS_server/analysis/dwi_data/preproc/sub-269/sub-269_after_acqparams.txt \\\n",
      "                -m   /export2/DATA/HIS/HIS_server/analysis/dwi_data/preproc/sub-269/topup_sub-269_AP_PA_after_b0s_iout_avg_brain_mask.nii.gz \\\n",
      "                -b   /export2/DATA/HIS/HIS_server/BIDS/sub-269/ses-3/dwi/sub-269_ses-3_acq-ap_run-02_dwi.bval                \n",
      "eddy_quad /export2/DATA/HIS/HIS_server/analysis/dwi_data/preproc/sub-270/eddy_unwarped_images_sub-270_before \\\n",
      "                -idx /export2/DATA/HIS/HIS_server/analysis/dwi_data/preproc/sub-270/before_index.txt \\\n",
      "                -par /export2/DATA/HIS/HIS_server/analysis/dwi_data/preproc/sub-270/sub-270_before_acqparams.txt \\\n",
      "                -m   /export2/DATA/HIS/HIS_server/analysis/dwi_data/preproc/sub-270/topup_sub-270_AP_PA_before_b0s_iout_avg_brain_mask.nii.gz \\\n",
      "                -b   /export2/DATA/HIS/HIS_server/BIDS/sub-270/ses-1/dwi/sub-270_ses-1_acq-ap_run-01_dwi.bval                \n",
      "eddy_quad /export2/DATA/HIS/HIS_server/analysis/dwi_data/preproc/sub-270/eddy_unwarped_images_sub-270_after \\\n",
      "                -idx /export2/DATA/HIS/HIS_server/analysis/dwi_data/preproc/sub-270/after_index.txt \\\n",
      "                -par /export2/DATA/HIS/HIS_server/analysis/dwi_data/preproc/sub-270/sub-270_after_acqparams.txt \\\n",
      "                -m   /export2/DATA/HIS/HIS_server/analysis/dwi_data/preproc/sub-270/topup_sub-270_AP_PA_after_b0s_iout_avg_brain_mask.nii.gz \\\n",
      "                -b   /export2/DATA/HIS/HIS_server/BIDS/sub-270/ses-3/dwi/sub-270_ses-3_acq-ap_run-02_dwi.bval                \n",
      "eddy_quad /export2/DATA/HIS/HIS_server/analysis/dwi_data/preproc/sub-271/eddy_unwarped_images_sub-271_before \\\n",
      "                -idx /export2/DATA/HIS/HIS_server/analysis/dwi_data/preproc/sub-271/before_index.txt \\\n",
      "                -par /export2/DATA/HIS/HIS_server/analysis/dwi_data/preproc/sub-271/sub-271_before_acqparams.txt \\\n",
      "                -m   /export2/DATA/HIS/HIS_server/analysis/dwi_data/preproc/sub-271/topup_sub-271_AP_PA_before_b0s_iout_avg_brain_mask.nii.gz \\\n",
      "                -b   /export2/DATA/HIS/HIS_server/BIDS/sub-271/ses-1/dwi/sub-271_ses-1_acq-ap_run-01_dwi.bval                \n",
      "eddy_quad /export2/DATA/HIS/HIS_server/analysis/dwi_data/preproc/sub-271/eddy_unwarped_images_sub-271_after \\\n",
      "                -idx /export2/DATA/HIS/HIS_server/analysis/dwi_data/preproc/sub-271/after_index.txt \\\n",
      "                -par /export2/DATA/HIS/HIS_server/analysis/dwi_data/preproc/sub-271/sub-271_after_acqparams.txt \\\n",
      "                -m   /export2/DATA/HIS/HIS_server/analysis/dwi_data/preproc/sub-271/topup_sub-271_AP_PA_after_b0s_iout_avg_brain_mask.nii.gz \\\n",
      "                -b   /export2/DATA/HIS/HIS_server/BIDS/sub-271/ses-3/dwi/sub-271_ses-3_acq-ap_run-02_dwi.bval                \n",
      "eddy_quad /export2/DATA/HIS/HIS_server/analysis/dwi_data/preproc/sub-272/eddy_unwarped_images_sub-272_before \\\n",
      "                -idx /export2/DATA/HIS/HIS_server/analysis/dwi_data/preproc/sub-272/before_index.txt \\\n",
      "                -par /export2/DATA/HIS/HIS_server/analysis/dwi_data/preproc/sub-272/sub-272_before_acqparams.txt \\\n",
      "                -m   /export2/DATA/HIS/HIS_server/analysis/dwi_data/preproc/sub-272/topup_sub-272_AP_PA_before_b0s_iout_avg_brain_mask.nii.gz \\\n",
      "                -b   /export2/DATA/HIS/HIS_server/BIDS/sub-272/ses-1/dwi/sub-272_ses-1_acq-ap_run-01_dwi.bval                \n",
      "eddy_quad /export2/DATA/HIS/HIS_server/analysis/dwi_data/preproc/sub-272/eddy_unwarped_images_sub-272_after \\\n",
      "                -idx /export2/DATA/HIS/HIS_server/analysis/dwi_data/preproc/sub-272/after_index.txt \\\n",
      "                -par /export2/DATA/HIS/HIS_server/analysis/dwi_data/preproc/sub-272/sub-272_after_acqparams.txt \\\n",
      "                -m   /export2/DATA/HIS/HIS_server/analysis/dwi_data/preproc/sub-272/topup_sub-272_AP_PA_after_b0s_iout_avg_brain_mask.nii.gz \\\n",
      "                -b   /export2/DATA/HIS/HIS_server/BIDS/sub-272/ses-3/dwi/sub-272_ses-3_acq-ap_run-02_dwi.bval                \n",
      "eddy_quad /export2/DATA/HIS/HIS_server/analysis/dwi_data/preproc/sub-275/eddy_unwarped_images_sub-275_before \\\n",
      "                -idx /export2/DATA/HIS/HIS_server/analysis/dwi_data/preproc/sub-275/before_index.txt \\\n",
      "                -par /export2/DATA/HIS/HIS_server/analysis/dwi_data/preproc/sub-275/sub-275_before_acqparams.txt \\\n",
      "                -m   /export2/DATA/HIS/HIS_server/analysis/dwi_data/preproc/sub-275/topup_sub-275_AP_PA_before_b0s_iout_avg_brain_mask.nii.gz \\\n",
      "                -b   /export2/DATA/HIS/HIS_server/BIDS/sub-275/ses-1/dwi/sub-275_ses-1_acq-ap_run-01_dwi.bval                \n",
      "eddy_quad /export2/DATA/HIS/HIS_server/analysis/dwi_data/preproc/sub-275/eddy_unwarped_images_sub-275_after \\\n",
      "                -idx /export2/DATA/HIS/HIS_server/analysis/dwi_data/preproc/sub-275/after_index.txt \\\n",
      "                -par /export2/DATA/HIS/HIS_server/analysis/dwi_data/preproc/sub-275/sub-275_after_acqparams.txt \\\n",
      "                -m   /export2/DATA/HIS/HIS_server/analysis/dwi_data/preproc/sub-275/topup_sub-275_AP_PA_after_b0s_iout_avg_brain_mask.nii.gz \\\n",
      "                -b   /export2/DATA/HIS/HIS_server/BIDS/sub-275/ses-3/dwi/sub-275_ses-3_acq-ap_run-02_dwi.bval                \n",
      "eddy_quad /export2/DATA/HIS/HIS_server/analysis/dwi_data/preproc/sub-276/eddy_unwarped_images_sub-276_before \\\n",
      "                -idx /export2/DATA/HIS/HIS_server/analysis/dwi_data/preproc/sub-276/before_index.txt \\\n",
      "                -par /export2/DATA/HIS/HIS_server/analysis/dwi_data/preproc/sub-276/sub-276_before_acqparams.txt \\\n",
      "                -m   /export2/DATA/HIS/HIS_server/analysis/dwi_data/preproc/sub-276/topup_sub-276_AP_PA_before_b0s_iout_avg_brain_mask.nii.gz \\\n",
      "                -b   /export2/DATA/HIS/HIS_server/BIDS/sub-276/ses-1/dwi/sub-276_ses-1_acq-ap_run-01_dwi.bval                \n",
      "eddy_quad /export2/DATA/HIS/HIS_server/analysis/dwi_data/preproc/sub-276/eddy_unwarped_images_sub-276_after \\\n",
      "                -idx /export2/DATA/HIS/HIS_server/analysis/dwi_data/preproc/sub-276/after_index.txt \\\n",
      "                -par /export2/DATA/HIS/HIS_server/analysis/dwi_data/preproc/sub-276/sub-276_after_acqparams.txt \\\n",
      "                -m   /export2/DATA/HIS/HIS_server/analysis/dwi_data/preproc/sub-276/topup_sub-276_AP_PA_after_b0s_iout_avg_brain_mask.nii.gz \\\n",
      "                -b   /export2/DATA/HIS/HIS_server/BIDS/sub-276/ses-3/dwi/sub-276_ses-3_acq-ap_run-02_dwi.bval                \n",
      "eddy_quad /export2/DATA/HIS/HIS_server/analysis/dwi_data/preproc/sub-277/eddy_unwarped_images_sub-277_before \\\n",
      "                -idx /export2/DATA/HIS/HIS_server/analysis/dwi_data/preproc/sub-277/before_index.txt \\\n",
      "                -par /export2/DATA/HIS/HIS_server/analysis/dwi_data/preproc/sub-277/sub-277_before_acqparams.txt \\\n",
      "                -m   /export2/DATA/HIS/HIS_server/analysis/dwi_data/preproc/sub-277/topup_sub-277_AP_PA_before_b0s_iout_avg_brain_mask.nii.gz \\\n",
      "                -b   /export2/DATA/HIS/HIS_server/BIDS/sub-277/ses-1/dwi/sub-277_ses-1_acq-ap_run-01_dwi.bval                \n",
      "eddy_quad /export2/DATA/HIS/HIS_server/analysis/dwi_data/preproc/sub-277/eddy_unwarped_images_sub-277_after \\\n",
      "                -idx /export2/DATA/HIS/HIS_server/analysis/dwi_data/preproc/sub-277/after_index.txt \\\n",
      "                -par /export2/DATA/HIS/HIS_server/analysis/dwi_data/preproc/sub-277/sub-277_after_acqparams.txt \\\n",
      "                -m   /export2/DATA/HIS/HIS_server/analysis/dwi_data/preproc/sub-277/topup_sub-277_AP_PA_after_b0s_iout_avg_brain_mask.nii.gz \\\n",
      "                -b   /export2/DATA/HIS/HIS_server/BIDS/sub-277/ses-3/dwi/sub-277_ses-3_acq-ap_run-02_dwi.bval                \n",
      "eddy_quad /export2/DATA/HIS/HIS_server/analysis/dwi_data/preproc/sub-278/eddy_unwarped_images_sub-278_before \\\n",
      "                -idx /export2/DATA/HIS/HIS_server/analysis/dwi_data/preproc/sub-278/before_index.txt \\\n",
      "                -par /export2/DATA/HIS/HIS_server/analysis/dwi_data/preproc/sub-278/sub-278_before_acqparams.txt \\\n",
      "                -m   /export2/DATA/HIS/HIS_server/analysis/dwi_data/preproc/sub-278/topup_sub-278_AP_PA_before_b0s_iout_avg_brain_mask.nii.gz \\\n",
      "                -b   /export2/DATA/HIS/HIS_server/BIDS/sub-278/ses-1/dwi/sub-278_ses-1_acq-ap_run-01_dwi.bval                \n",
      "eddy_quad /export2/DATA/HIS/HIS_server/analysis/dwi_data/preproc/sub-278/eddy_unwarped_images_sub-278_after \\\n",
      "                -idx /export2/DATA/HIS/HIS_server/analysis/dwi_data/preproc/sub-278/after_index.txt \\\n",
      "                -par /export2/DATA/HIS/HIS_server/analysis/dwi_data/preproc/sub-278/sub-278_after_acqparams.txt \\\n",
      "                -m   /export2/DATA/HIS/HIS_server/analysis/dwi_data/preproc/sub-278/topup_sub-278_AP_PA_after_b0s_iout_avg_brain_mask.nii.gz \\\n",
      "                -b   /export2/DATA/HIS/HIS_server/BIDS/sub-278/ses-3/dwi/sub-278_ses-3_acq-ap_run-02_dwi.bval                \n",
      "eddy_quad /export2/DATA/HIS/HIS_server/analysis/dwi_data/preproc/sub-280/eddy_unwarped_images_sub-280_before \\\n",
      "                -idx /export2/DATA/HIS/HIS_server/analysis/dwi_data/preproc/sub-280/before_index.txt \\\n",
      "                -par /export2/DATA/HIS/HIS_server/analysis/dwi_data/preproc/sub-280/sub-280_before_acqparams.txt \\\n",
      "                -m   /export2/DATA/HIS/HIS_server/analysis/dwi_data/preproc/sub-280/topup_sub-280_AP_PA_before_b0s_iout_avg_brain_mask.nii.gz \\\n",
      "                -b   /export2/DATA/HIS/HIS_server/BIDS/sub-280/ses-1/dwi/sub-280_ses-1_acq-ap_run-01_dwi.bval                \n",
      "eddy_quad /export2/DATA/HIS/HIS_server/analysis/dwi_data/preproc/sub-280/eddy_unwarped_images_sub-280_after \\\n",
      "                -idx /export2/DATA/HIS/HIS_server/analysis/dwi_data/preproc/sub-280/after_index.txt \\\n",
      "                -par /export2/DATA/HIS/HIS_server/analysis/dwi_data/preproc/sub-280/sub-280_after_acqparams.txt \\\n",
      "                -m   /export2/DATA/HIS/HIS_server/analysis/dwi_data/preproc/sub-280/topup_sub-280_AP_PA_after_b0s_iout_avg_brain_mask.nii.gz \\\n",
      "                -b   /export2/DATA/HIS/HIS_server/BIDS/sub-280/ses-3/dwi/sub-280_ses-3_acq-ap_run-02_dwi.bval                \n",
      "eddy_quad /export2/DATA/HIS/HIS_server/analysis/dwi_data/preproc/sub-281/eddy_unwarped_images_sub-281_before \\\n",
      "                -idx /export2/DATA/HIS/HIS_server/analysis/dwi_data/preproc/sub-281/before_index.txt \\\n",
      "                -par /export2/DATA/HIS/HIS_server/analysis/dwi_data/preproc/sub-281/sub-281_before_acqparams.txt \\\n",
      "                -m   /export2/DATA/HIS/HIS_server/analysis/dwi_data/preproc/sub-281/topup_sub-281_AP_PA_before_b0s_iout_avg_brain_mask.nii.gz \\\n",
      "                -b   /export2/DATA/HIS/HIS_server/BIDS/sub-281/ses-1/dwi/sub-281_ses-1_acq-ap_run-01_dwi.bval                \n",
      "eddy_quad /export2/DATA/HIS/HIS_server/analysis/dwi_data/preproc/sub-281/eddy_unwarped_images_sub-281_after \\\n",
      "                -idx /export2/DATA/HIS/HIS_server/analysis/dwi_data/preproc/sub-281/after_index.txt \\\n",
      "                -par /export2/DATA/HIS/HIS_server/analysis/dwi_data/preproc/sub-281/sub-281_after_acqparams.txt \\\n",
      "                -m   /export2/DATA/HIS/HIS_server/analysis/dwi_data/preproc/sub-281/topup_sub-281_AP_PA_after_b0s_iout_avg_brain_mask.nii.gz \\\n",
      "                -b   /export2/DATA/HIS/HIS_server/BIDS/sub-281/ses-3/dwi/sub-281_ses-3_acq-ap_run-02_dwi.bval                \n",
      "eddy_quad /export2/DATA/HIS/HIS_server/analysis/dwi_data/preproc/sub-282/eddy_unwarped_images_sub-282_before \\\n",
      "                -idx /export2/DATA/HIS/HIS_server/analysis/dwi_data/preproc/sub-282/before_index.txt \\\n",
      "                -par /export2/DATA/HIS/HIS_server/analysis/dwi_data/preproc/sub-282/sub-282_before_acqparams.txt \\\n",
      "                -m   /export2/DATA/HIS/HIS_server/analysis/dwi_data/preproc/sub-282/topup_sub-282_AP_PA_before_b0s_iout_avg_brain_mask.nii.gz \\\n",
      "                -b   /export2/DATA/HIS/HIS_server/BIDS/sub-282/ses-1/dwi/sub-282_ses-1_acq-ap_run-01_dwi.bval                \n",
      "eddy_quad /export2/DATA/HIS/HIS_server/analysis/dwi_data/preproc/sub-282/eddy_unwarped_images_sub-282_after \\\n",
      "                -idx /export2/DATA/HIS/HIS_server/analysis/dwi_data/preproc/sub-282/after_index.txt \\\n",
      "                -par /export2/DATA/HIS/HIS_server/analysis/dwi_data/preproc/sub-282/sub-282_after_acqparams.txt \\\n",
      "                -m   /export2/DATA/HIS/HIS_server/analysis/dwi_data/preproc/sub-282/topup_sub-282_AP_PA_after_b0s_iout_avg_brain_mask.nii.gz \\\n",
      "                -b   /export2/DATA/HIS/HIS_server/BIDS/sub-282/ses-3/dwi/sub-282_ses-3_acq-ap_run-02_dwi.bval                \n",
      "eddy_quad /export2/DATA/HIS/HIS_server/analysis/dwi_data/preproc/sub-283/eddy_unwarped_images_sub-283_before \\\n",
      "                -idx /export2/DATA/HIS/HIS_server/analysis/dwi_data/preproc/sub-283/before_index.txt \\\n",
      "                -par /export2/DATA/HIS/HIS_server/analysis/dwi_data/preproc/sub-283/sub-283_before_acqparams.txt \\\n",
      "                -m   /export2/DATA/HIS/HIS_server/analysis/dwi_data/preproc/sub-283/topup_sub-283_AP_PA_before_b0s_iout_avg_brain_mask.nii.gz \\\n",
      "                -b   /export2/DATA/HIS/HIS_server/BIDS/sub-283/ses-1/dwi/sub-283_ses-1_acq-ap_run-01_dwi.bval                \n",
      "eddy_quad /export2/DATA/HIS/HIS_server/analysis/dwi_data/preproc/sub-283/eddy_unwarped_images_sub-283_after \\\n",
      "                -idx /export2/DATA/HIS/HIS_server/analysis/dwi_data/preproc/sub-283/after_index.txt \\\n",
      "                -par /export2/DATA/HIS/HIS_server/analysis/dwi_data/preproc/sub-283/sub-283_after_acqparams.txt \\\n",
      "                -m   /export2/DATA/HIS/HIS_server/analysis/dwi_data/preproc/sub-283/topup_sub-283_AP_PA_after_b0s_iout_avg_brain_mask.nii.gz \\\n",
      "                -b   /export2/DATA/HIS/HIS_server/BIDS/sub-283/ses-3/dwi/sub-283_ses-3_acq-ap_run-02_dwi.bval                \n",
      "eddy_quad /export2/DATA/HIS/HIS_server/analysis/dwi_data/preproc/sub-284/eddy_unwarped_images_sub-284_before \\\n",
      "                -idx /export2/DATA/HIS/HIS_server/analysis/dwi_data/preproc/sub-284/before_index.txt \\\n",
      "                -par /export2/DATA/HIS/HIS_server/analysis/dwi_data/preproc/sub-284/sub-284_before_acqparams.txt \\\n",
      "                -m   /export2/DATA/HIS/HIS_server/analysis/dwi_data/preproc/sub-284/topup_sub-284_AP_PA_before_b0s_iout_avg_brain_mask.nii.gz \\\n",
      "                -b   /export2/DATA/HIS/HIS_server/BIDS/sub-284/ses-1/dwi/sub-284_ses-1_acq-ap_run-01_dwi.bval                \n",
      "eddy_quad /export2/DATA/HIS/HIS_server/analysis/dwi_data/preproc/sub-284/eddy_unwarped_images_sub-284_after \\\n",
      "                -idx /export2/DATA/HIS/HIS_server/analysis/dwi_data/preproc/sub-284/after_index.txt \\\n",
      "                -par /export2/DATA/HIS/HIS_server/analysis/dwi_data/preproc/sub-284/sub-284_after_acqparams.txt \\\n",
      "                -m   /export2/DATA/HIS/HIS_server/analysis/dwi_data/preproc/sub-284/topup_sub-284_AP_PA_after_b0s_iout_avg_brain_mask.nii.gz \\\n",
      "                -b   /export2/DATA/HIS/HIS_server/BIDS/sub-284/ses-3/dwi/sub-284_ses-3_acq-ap_run-02_dwi.bval                \n",
      "eddy_quad /export2/DATA/HIS/HIS_server/analysis/dwi_data/preproc/sub-285/eddy_unwarped_images_sub-285_before \\\n",
      "                -idx /export2/DATA/HIS/HIS_server/analysis/dwi_data/preproc/sub-285/before_index.txt \\\n",
      "                -par /export2/DATA/HIS/HIS_server/analysis/dwi_data/preproc/sub-285/sub-285_before_acqparams.txt \\\n",
      "                -m   /export2/DATA/HIS/HIS_server/analysis/dwi_data/preproc/sub-285/topup_sub-285_AP_PA_before_b0s_iout_avg_brain_mask.nii.gz \\\n",
      "                -b   /export2/DATA/HIS/HIS_server/BIDS/sub-285/ses-1/dwi/sub-285_ses-1_acq-ap_run-01_dwi.bval                \n",
      "eddy_quad /export2/DATA/HIS/HIS_server/analysis/dwi_data/preproc/sub-285/eddy_unwarped_images_sub-285_after \\\n",
      "                -idx /export2/DATA/HIS/HIS_server/analysis/dwi_data/preproc/sub-285/after_index.txt \\\n",
      "                -par /export2/DATA/HIS/HIS_server/analysis/dwi_data/preproc/sub-285/sub-285_after_acqparams.txt \\\n",
      "                -m   /export2/DATA/HIS/HIS_server/analysis/dwi_data/preproc/sub-285/topup_sub-285_AP_PA_after_b0s_iout_avg_brain_mask.nii.gz \\\n",
      "                -b   /export2/DATA/HIS/HIS_server/BIDS/sub-285/ses-3/dwi/sub-285_ses-3_acq-ap_run-02_dwi.bval                \n"
     ]
    }
   ],
   "source": [
    "for subjFolder in subjFolders:\n",
    "    # get the sub_B0s_files for the current subject:\n",
    "    scansBaseNames = createSubjectScansBaseNames(subjFolder, data_path)\n",
    "\n",
    "    for time in ['before', 'after']:\n",
    "        if not os.path.isdir(os.path.join(preproc_path, subjFolder, f'eddy_unwarped_images_{subjFolder}_{time}.qc')):\n",
    "            print(f\"eddy_quad {os.path.join(preproc_path, subjFolder, f'eddy_unwarped_images_{subjFolder}_{time}')} \\\\\\n\\\n",
    "                -idx {os.path.join(preproc_path, subjFolder, f'{time}_index.txt')} \\\\\\n\\\n",
    "                -par {os.path.join(preproc_path, subjFolder, subjFolder  + f'_{time}_acqparams.txt')} \\\\\\n\\\n",
    "                -m   {os.path.join(preproc_path, subjFolder, f'topup_{subjFolder}_AP_PA_{time}_b0s_iout_avg_brain_mask.nii.gz')} \\\\\\n\\\n",
    "                -b   {scansBaseNames[f'AP_{time}'] + '.bval'}\\\n",
    "                \")\n",
    "            os.system(f\"eddy_quad {os.path.join(preproc_path, subjFolder, f'eddy_unwarped_images_{subjFolder}_{time}')} \\\\\\n\\\n",
    "                -idx {os.path.join(preproc_path, subjFolder, f'{time}_index.txt')} \\\\\\n\\\n",
    "                -par {os.path.join(preproc_path, subjFolder, subjFolder  + f'_{time}_acqparams.txt')} \\\\\\n\\\n",
    "                -m   {os.path.join(preproc_path, subjFolder, f'topup_{subjFolder}_AP_PA_{time}_b0s_iout_avg_brain_mask.nii.gz')} \\\\\\n\\\n",
    "                -b   {scansBaseNames[f'AP_{time}'] + '.bval'}\\\n",
    "                \")\n",
    "\n",
    "\n",
    "\n"
   ]
  },
  {
   "cell_type": "markdown",
   "metadata": {},
   "source": [
    "## DTI modelling"
   ]
  },
  {
   "cell_type": "markdown",
   "metadata": {},
   "source": [
    "#### Create the DTI folders"
   ]
  },
  {
   "cell_type": "code",
   "execution_count": 28,
   "metadata": {},
   "outputs": [
    {
     "name": "stdout",
     "output_type": "stream",
     "text": [
      "> Create DTI folders\n",
      ">> Created folder: /export2/DATA/HIS/HIS_server/analysis/dwi_data/dti/sub-140\n",
      ">> Created folder: /export2/DATA/HIS/HIS_server/analysis/dwi_data/dti/sub-171\n",
      ">> Created folder: /export2/DATA/HIS/HIS_server/analysis/dwi_data/dti/sub-172\n",
      ">> Created folder: /export2/DATA/HIS/HIS_server/analysis/dwi_data/dti/sub-174\n",
      ">> Created folder: /export2/DATA/HIS/HIS_server/analysis/dwi_data/dti/sub-175\n",
      ">> Created folder: /export2/DATA/HIS/HIS_server/analysis/dwi_data/dti/sub-232\n",
      ">> Created folder: /export2/DATA/HIS/HIS_server/analysis/dwi_data/dti/sub-235\n",
      ">> Created folder: /export2/DATA/HIS/HIS_server/analysis/dwi_data/dti/sub-238\n",
      ">> Created folder: /export2/DATA/HIS/HIS_server/analysis/dwi_data/dti/sub-245\n",
      ">> Created folder: /export2/DATA/HIS/HIS_server/analysis/dwi_data/dti/sub-252\n",
      ">> Created folder: /export2/DATA/HIS/HIS_server/analysis/dwi_data/dti/sub-262\n",
      ">> Created folder: /export2/DATA/HIS/HIS_server/analysis/dwi_data/dti/sub-267\n",
      ">> Created folder: /export2/DATA/HIS/HIS_server/analysis/dwi_data/dti/sub-268\n",
      ">> Created folder: /export2/DATA/HIS/HIS_server/analysis/dwi_data/dti/sub-269\n",
      ">> Created folder: /export2/DATA/HIS/HIS_server/analysis/dwi_data/dti/sub-278\n"
     ]
    }
   ],
   "source": [
    "print('> Create DTI folders')\n",
    "for subjFolder in subjFolders:\n",
    "    try:\n",
    "        os.makedirs(os.path.join(dti_path, subjFolder), exist_ok=False)\n",
    "        print('>> Created folder: ' + os.path.join(dti_path, subjFolder))\n",
    "    except:\n",
    "        pass"
   ]
  },
  {
   "cell_type": "code",
   "execution_count": 29,
   "metadata": {},
   "outputs": [
    {
     "name": "stdout",
     "output_type": "stream",
     "text": [
      "> Run DTIFIT (one per subject per time [before and after])\n",
      "dtifit --data=/export2/DATA/HIS/HIS_server/analysis/dwi_data/preproc/sub-140/eddy_unwarped_images_sub-140_before \\\n",
      "                        --mask=/export2/DATA/HIS/HIS_server/analysis/dwi_data/preproc/sub-140/topup_sub-140_AP_PA_before_b0s_iout_avg_brain_mask \\\n",
      "                        --bvecs=/export2/DATA/HIS/HIS_server/BIDS/sub-140/ses-1/dwi/sub-140_ses-1_acq-ap_run-01_dwi.bvec \\\n",
      "                        --bvals=/export2/DATA/HIS/HIS_server/BIDS/sub-140/ses-1/dwi/sub-140_ses-1_acq-ap_run-01_dwi.bval \\\n",
      "                        --out=/export2/DATA/HIS/HIS_server/analysis/dwi_data/dti/sub-140/dti_sub-140_before\n",
      "dtifit --data=/export2/DATA/HIS/HIS_server/analysis/dwi_data/preproc/sub-140/eddy_unwarped_images_sub-140_after \\\n",
      "                        --mask=/export2/DATA/HIS/HIS_server/analysis/dwi_data/preproc/sub-140/topup_sub-140_AP_PA_after_b0s_iout_avg_brain_mask \\\n",
      "                        --bvecs=/export2/DATA/HIS/HIS_server/BIDS/sub-140/ses-1/dwi/sub-140_ses-1_acq-ap_run-02_dwi.bvec \\\n",
      "                        --bvals=/export2/DATA/HIS/HIS_server/BIDS/sub-140/ses-1/dwi/sub-140_ses-1_acq-ap_run-02_dwi.bval \\\n",
      "                        --out=/export2/DATA/HIS/HIS_server/analysis/dwi_data/dti/sub-140/dti_sub-140_after\n",
      "dtifit --data=/export2/DATA/HIS/HIS_server/analysis/dwi_data/preproc/sub-171/eddy_unwarped_images_sub-171_before \\\n",
      "                        --mask=/export2/DATA/HIS/HIS_server/analysis/dwi_data/preproc/sub-171/topup_sub-171_AP_PA_before_b0s_iout_avg_brain_mask \\\n",
      "                        --bvecs=/export2/DATA/HIS/HIS_server/BIDS/sub-171/ses-1/dwi/sub-171_ses-1_acq-ap_run-01_dwi.bvec \\\n",
      "                        --bvals=/export2/DATA/HIS/HIS_server/BIDS/sub-171/ses-1/dwi/sub-171_ses-1_acq-ap_run-01_dwi.bval \\\n",
      "                        --out=/export2/DATA/HIS/HIS_server/analysis/dwi_data/dti/sub-171/dti_sub-171_before\n",
      "dtifit --data=/export2/DATA/HIS/HIS_server/analysis/dwi_data/preproc/sub-171/eddy_unwarped_images_sub-171_after \\\n",
      "                        --mask=/export2/DATA/HIS/HIS_server/analysis/dwi_data/preproc/sub-171/topup_sub-171_AP_PA_after_b0s_iout_avg_brain_mask \\\n",
      "                        --bvecs=/export2/DATA/HIS/HIS_server/BIDS/sub-171/ses-1/dwi/sub-171_ses-1_acq-ap_run-02_dwi.bvec \\\n",
      "                        --bvals=/export2/DATA/HIS/HIS_server/BIDS/sub-171/ses-1/dwi/sub-171_ses-1_acq-ap_run-02_dwi.bval \\\n",
      "                        --out=/export2/DATA/HIS/HIS_server/analysis/dwi_data/dti/sub-171/dti_sub-171_after\n",
      "dtifit --data=/export2/DATA/HIS/HIS_server/analysis/dwi_data/preproc/sub-172/eddy_unwarped_images_sub-172_before \\\n",
      "                        --mask=/export2/DATA/HIS/HIS_server/analysis/dwi_data/preproc/sub-172/topup_sub-172_AP_PA_before_b0s_iout_avg_brain_mask \\\n",
      "                        --bvecs=/export2/DATA/HIS/HIS_server/BIDS/sub-172/ses-1/dwi/sub-172_ses-1_acq-ap_run-01_dwi.bvec \\\n",
      "                        --bvals=/export2/DATA/HIS/HIS_server/BIDS/sub-172/ses-1/dwi/sub-172_ses-1_acq-ap_run-01_dwi.bval \\\n",
      "                        --out=/export2/DATA/HIS/HIS_server/analysis/dwi_data/dti/sub-172/dti_sub-172_before\n",
      "dtifit --data=/export2/DATA/HIS/HIS_server/analysis/dwi_data/preproc/sub-172/eddy_unwarped_images_sub-172_after \\\n",
      "                        --mask=/export2/DATA/HIS/HIS_server/analysis/dwi_data/preproc/sub-172/topup_sub-172_AP_PA_after_b0s_iout_avg_brain_mask \\\n",
      "                        --bvecs=/export2/DATA/HIS/HIS_server/BIDS/sub-172/ses-1/dwi/sub-172_ses-1_acq-ap_run-02_dwi.bvec \\\n",
      "                        --bvals=/export2/DATA/HIS/HIS_server/BIDS/sub-172/ses-1/dwi/sub-172_ses-1_acq-ap_run-02_dwi.bval \\\n",
      "                        --out=/export2/DATA/HIS/HIS_server/analysis/dwi_data/dti/sub-172/dti_sub-172_after\n",
      "dtifit --data=/export2/DATA/HIS/HIS_server/analysis/dwi_data/preproc/sub-174/eddy_unwarped_images_sub-174_before \\\n",
      "                        --mask=/export2/DATA/HIS/HIS_server/analysis/dwi_data/preproc/sub-174/topup_sub-174_AP_PA_before_b0s_iout_avg_brain_mask \\\n",
      "                        --bvecs=/export2/DATA/HIS/HIS_server/BIDS/sub-174/ses-1/dwi/sub-174_ses-1_acq-ap_run-01_dwi.bvec \\\n",
      "                        --bvals=/export2/DATA/HIS/HIS_server/BIDS/sub-174/ses-1/dwi/sub-174_ses-1_acq-ap_run-01_dwi.bval \\\n",
      "                        --out=/export2/DATA/HIS/HIS_server/analysis/dwi_data/dti/sub-174/dti_sub-174_before\n",
      "dtifit --data=/export2/DATA/HIS/HIS_server/analysis/dwi_data/preproc/sub-174/eddy_unwarped_images_sub-174_after \\\n",
      "                        --mask=/export2/DATA/HIS/HIS_server/analysis/dwi_data/preproc/sub-174/topup_sub-174_AP_PA_after_b0s_iout_avg_brain_mask \\\n",
      "                        --bvecs=/export2/DATA/HIS/HIS_server/BIDS/sub-174/ses-1/dwi/sub-174_ses-1_acq-ap_run-02_dwi.bvec \\\n",
      "                        --bvals=/export2/DATA/HIS/HIS_server/BIDS/sub-174/ses-1/dwi/sub-174_ses-1_acq-ap_run-02_dwi.bval \\\n",
      "                        --out=/export2/DATA/HIS/HIS_server/analysis/dwi_data/dti/sub-174/dti_sub-174_after\n",
      "dtifit --data=/export2/DATA/HIS/HIS_server/analysis/dwi_data/preproc/sub-175/eddy_unwarped_images_sub-175_before \\\n",
      "                        --mask=/export2/DATA/HIS/HIS_server/analysis/dwi_data/preproc/sub-175/topup_sub-175_AP_PA_before_b0s_iout_avg_brain_mask \\\n",
      "                        --bvecs=/export2/DATA/HIS/HIS_server/BIDS/sub-175/ses-1/dwi/sub-175_ses-1_acq-ap_run-01_dwi.bvec \\\n",
      "                        --bvals=/export2/DATA/HIS/HIS_server/BIDS/sub-175/ses-1/dwi/sub-175_ses-1_acq-ap_run-01_dwi.bval \\\n",
      "                        --out=/export2/DATA/HIS/HIS_server/analysis/dwi_data/dti/sub-175/dti_sub-175_before\n",
      "dtifit --data=/export2/DATA/HIS/HIS_server/analysis/dwi_data/preproc/sub-175/eddy_unwarped_images_sub-175_after \\\n",
      "                        --mask=/export2/DATA/HIS/HIS_server/analysis/dwi_data/preproc/sub-175/topup_sub-175_AP_PA_after_b0s_iout_avg_brain_mask \\\n",
      "                        --bvecs=/export2/DATA/HIS/HIS_server/BIDS/sub-175/ses-1/dwi/sub-175_ses-1_acq-ap_run-02_dwi.bvec \\\n",
      "                        --bvals=/export2/DATA/HIS/HIS_server/BIDS/sub-175/ses-1/dwi/sub-175_ses-1_acq-ap_run-02_dwi.bval \\\n",
      "                        --out=/export2/DATA/HIS/HIS_server/analysis/dwi_data/dti/sub-175/dti_sub-175_after\n",
      "dtifit --data=/export2/DATA/HIS/HIS_server/analysis/dwi_data/preproc/sub-232/eddy_unwarped_images_sub-232_before \\\n",
      "                        --mask=/export2/DATA/HIS/HIS_server/analysis/dwi_data/preproc/sub-232/topup_sub-232_AP_PA_before_b0s_iout_avg_brain_mask \\\n",
      "                        --bvecs=/export2/DATA/HIS/HIS_server/BIDS/sub-232/ses-1/dwi/sub-232_ses-1_acq-ap_run-01_dwi.bvec \\\n",
      "                        --bvals=/export2/DATA/HIS/HIS_server/BIDS/sub-232/ses-1/dwi/sub-232_ses-1_acq-ap_run-01_dwi.bval \\\n",
      "                        --out=/export2/DATA/HIS/HIS_server/analysis/dwi_data/dti/sub-232/dti_sub-232_before\n",
      "dtifit --data=/export2/DATA/HIS/HIS_server/analysis/dwi_data/preproc/sub-232/eddy_unwarped_images_sub-232_after \\\n",
      "                        --mask=/export2/DATA/HIS/HIS_server/analysis/dwi_data/preproc/sub-232/topup_sub-232_AP_PA_after_b0s_iout_avg_brain_mask \\\n",
      "                        --bvecs=/export2/DATA/HIS/HIS_server/BIDS/sub-232/ses-3/dwi/sub-232_ses-3_acq-ap_run-02_dwi.bvec \\\n",
      "                        --bvals=/export2/DATA/HIS/HIS_server/BIDS/sub-232/ses-3/dwi/sub-232_ses-3_acq-ap_run-02_dwi.bval \\\n",
      "                        --out=/export2/DATA/HIS/HIS_server/analysis/dwi_data/dti/sub-232/dti_sub-232_after\n",
      "dtifit --data=/export2/DATA/HIS/HIS_server/analysis/dwi_data/preproc/sub-235/eddy_unwarped_images_sub-235_before \\\n",
      "                        --mask=/export2/DATA/HIS/HIS_server/analysis/dwi_data/preproc/sub-235/topup_sub-235_AP_PA_before_b0s_iout_avg_brain_mask \\\n",
      "                        --bvecs=/export2/DATA/HIS/HIS_server/BIDS/sub-235/ses-1/dwi/sub-235_ses-1_acq-ap_run-01_dwi.bvec \\\n",
      "                        --bvals=/export2/DATA/HIS/HIS_server/BIDS/sub-235/ses-1/dwi/sub-235_ses-1_acq-ap_run-01_dwi.bval \\\n",
      "                        --out=/export2/DATA/HIS/HIS_server/analysis/dwi_data/dti/sub-235/dti_sub-235_before\n",
      "dtifit --data=/export2/DATA/HIS/HIS_server/analysis/dwi_data/preproc/sub-235/eddy_unwarped_images_sub-235_after \\\n",
      "                        --mask=/export2/DATA/HIS/HIS_server/analysis/dwi_data/preproc/sub-235/topup_sub-235_AP_PA_after_b0s_iout_avg_brain_mask \\\n",
      "                        --bvecs=/export2/DATA/HIS/HIS_server/BIDS/sub-235/ses-3/dwi/sub-235_ses-3_acq-ap_run-02_dwi.bvec \\\n",
      "                        --bvals=/export2/DATA/HIS/HIS_server/BIDS/sub-235/ses-3/dwi/sub-235_ses-3_acq-ap_run-02_dwi.bval \\\n",
      "                        --out=/export2/DATA/HIS/HIS_server/analysis/dwi_data/dti/sub-235/dti_sub-235_after\n",
      "dtifit --data=/export2/DATA/HIS/HIS_server/analysis/dwi_data/preproc/sub-238/eddy_unwarped_images_sub-238_before \\\n",
      "                        --mask=/export2/DATA/HIS/HIS_server/analysis/dwi_data/preproc/sub-238/topup_sub-238_AP_PA_before_b0s_iout_avg_brain_mask \\\n",
      "                        --bvecs=/export2/DATA/HIS/HIS_server/BIDS/sub-238/ses-1/dwi/sub-238_ses-1_acq-ap_run-01_dwi.bvec \\\n",
      "                        --bvals=/export2/DATA/HIS/HIS_server/BIDS/sub-238/ses-1/dwi/sub-238_ses-1_acq-ap_run-01_dwi.bval \\\n",
      "                        --out=/export2/DATA/HIS/HIS_server/analysis/dwi_data/dti/sub-238/dti_sub-238_before\n",
      "dtifit --data=/export2/DATA/HIS/HIS_server/analysis/dwi_data/preproc/sub-238/eddy_unwarped_images_sub-238_after \\\n",
      "                        --mask=/export2/DATA/HIS/HIS_server/analysis/dwi_data/preproc/sub-238/topup_sub-238_AP_PA_after_b0s_iout_avg_brain_mask \\\n",
      "                        --bvecs=/export2/DATA/HIS/HIS_server/BIDS/sub-238/ses-3/dwi/sub-238_ses-3_acq-ap_run-02_dwi.bvec \\\n",
      "                        --bvals=/export2/DATA/HIS/HIS_server/BIDS/sub-238/ses-3/dwi/sub-238_ses-3_acq-ap_run-02_dwi.bval \\\n",
      "                        --out=/export2/DATA/HIS/HIS_server/analysis/dwi_data/dti/sub-238/dti_sub-238_after\n",
      "dtifit --data=/export2/DATA/HIS/HIS_server/analysis/dwi_data/preproc/sub-245/eddy_unwarped_images_sub-245_before \\\n",
      "                        --mask=/export2/DATA/HIS/HIS_server/analysis/dwi_data/preproc/sub-245/topup_sub-245_AP_PA_before_b0s_iout_avg_brain_mask \\\n",
      "                        --bvecs=/export2/DATA/HIS/HIS_server/BIDS/sub-245/ses-1/dwi/sub-245_ses-1_acq-ap_run-01_dwi.bvec \\\n",
      "                        --bvals=/export2/DATA/HIS/HIS_server/BIDS/sub-245/ses-1/dwi/sub-245_ses-1_acq-ap_run-01_dwi.bval \\\n",
      "                        --out=/export2/DATA/HIS/HIS_server/analysis/dwi_data/dti/sub-245/dti_sub-245_before\n",
      "dtifit --data=/export2/DATA/HIS/HIS_server/analysis/dwi_data/preproc/sub-245/eddy_unwarped_images_sub-245_after \\\n",
      "                        --mask=/export2/DATA/HIS/HIS_server/analysis/dwi_data/preproc/sub-245/topup_sub-245_AP_PA_after_b0s_iout_avg_brain_mask \\\n",
      "                        --bvecs=/export2/DATA/HIS/HIS_server/BIDS/sub-245/ses-3/dwi/sub-245_ses-3_acq-ap_run-02_dwi.bvec \\\n",
      "                        --bvals=/export2/DATA/HIS/HIS_server/BIDS/sub-245/ses-3/dwi/sub-245_ses-3_acq-ap_run-02_dwi.bval \\\n",
      "                        --out=/export2/DATA/HIS/HIS_server/analysis/dwi_data/dti/sub-245/dti_sub-245_after\n",
      "dtifit --data=/export2/DATA/HIS/HIS_server/analysis/dwi_data/preproc/sub-252/eddy_unwarped_images_sub-252_before \\\n",
      "                        --mask=/export2/DATA/HIS/HIS_server/analysis/dwi_data/preproc/sub-252/topup_sub-252_AP_PA_before_b0s_iout_avg_brain_mask \\\n",
      "                        --bvecs=/export2/DATA/HIS/HIS_server/BIDS/sub-252/ses-1/dwi/sub-252_ses-1_acq-ap_run-01_dwi.bvec \\\n",
      "                        --bvals=/export2/DATA/HIS/HIS_server/BIDS/sub-252/ses-1/dwi/sub-252_ses-1_acq-ap_run-01_dwi.bval \\\n",
      "                        --out=/export2/DATA/HIS/HIS_server/analysis/dwi_data/dti/sub-252/dti_sub-252_before\n",
      "dtifit --data=/export2/DATA/HIS/HIS_server/analysis/dwi_data/preproc/sub-252/eddy_unwarped_images_sub-252_after \\\n",
      "                        --mask=/export2/DATA/HIS/HIS_server/analysis/dwi_data/preproc/sub-252/topup_sub-252_AP_PA_after_b0s_iout_avg_brain_mask \\\n",
      "                        --bvecs=/export2/DATA/HIS/HIS_server/BIDS/sub-252/ses-3/dwi/sub-252_ses-3_acq-ap_run-02_dwi.bvec \\\n",
      "                        --bvals=/export2/DATA/HIS/HIS_server/BIDS/sub-252/ses-3/dwi/sub-252_ses-3_acq-ap_run-02_dwi.bval \\\n",
      "                        --out=/export2/DATA/HIS/HIS_server/analysis/dwi_data/dti/sub-252/dti_sub-252_after\n",
      "dtifit --data=/export2/DATA/HIS/HIS_server/analysis/dwi_data/preproc/sub-262/eddy_unwarped_images_sub-262_before \\\n",
      "                        --mask=/export2/DATA/HIS/HIS_server/analysis/dwi_data/preproc/sub-262/topup_sub-262_AP_PA_before_b0s_iout_avg_brain_mask \\\n",
      "                        --bvecs=/export2/DATA/HIS/HIS_server/BIDS/sub-262/ses-1/dwi/sub-262_ses-1_acq-ap_run-01_dwi.bvec \\\n",
      "                        --bvals=/export2/DATA/HIS/HIS_server/BIDS/sub-262/ses-1/dwi/sub-262_ses-1_acq-ap_run-01_dwi.bval \\\n",
      "                        --out=/export2/DATA/HIS/HIS_server/analysis/dwi_data/dti/sub-262/dti_sub-262_before\n",
      "dtifit --data=/export2/DATA/HIS/HIS_server/analysis/dwi_data/preproc/sub-262/eddy_unwarped_images_sub-262_after \\\n",
      "                        --mask=/export2/DATA/HIS/HIS_server/analysis/dwi_data/preproc/sub-262/topup_sub-262_AP_PA_after_b0s_iout_avg_brain_mask \\\n",
      "                        --bvecs=/export2/DATA/HIS/HIS_server/BIDS/sub-262/ses-3/dwi/sub-262_ses-3_acq-ap_run-02_dwi.bvec \\\n",
      "                        --bvals=/export2/DATA/HIS/HIS_server/BIDS/sub-262/ses-3/dwi/sub-262_ses-3_acq-ap_run-02_dwi.bval \\\n",
      "                        --out=/export2/DATA/HIS/HIS_server/analysis/dwi_data/dti/sub-262/dti_sub-262_after\n",
      "dtifit --data=/export2/DATA/HIS/HIS_server/analysis/dwi_data/preproc/sub-267/eddy_unwarped_images_sub-267_before \\\n",
      "                        --mask=/export2/DATA/HIS/HIS_server/analysis/dwi_data/preproc/sub-267/topup_sub-267_AP_PA_before_b0s_iout_avg_brain_mask \\\n",
      "                        --bvecs=/export2/DATA/HIS/HIS_server/BIDS/sub-267/ses-1/dwi/sub-267_ses-1_acq-ap_run-01_dwi.bvec \\\n",
      "                        --bvals=/export2/DATA/HIS/HIS_server/BIDS/sub-267/ses-1/dwi/sub-267_ses-1_acq-ap_run-01_dwi.bval \\\n",
      "                        --out=/export2/DATA/HIS/HIS_server/analysis/dwi_data/dti/sub-267/dti_sub-267_before\n",
      "dtifit --data=/export2/DATA/HIS/HIS_server/analysis/dwi_data/preproc/sub-267/eddy_unwarped_images_sub-267_after \\\n",
      "                        --mask=/export2/DATA/HIS/HIS_server/analysis/dwi_data/preproc/sub-267/topup_sub-267_AP_PA_after_b0s_iout_avg_brain_mask \\\n",
      "                        --bvecs=/export2/DATA/HIS/HIS_server/BIDS/sub-267/ses-3/dwi/sub-267_ses-3_acq-ap_run-02_dwi.bvec \\\n",
      "                        --bvals=/export2/DATA/HIS/HIS_server/BIDS/sub-267/ses-3/dwi/sub-267_ses-3_acq-ap_run-02_dwi.bval \\\n",
      "                        --out=/export2/DATA/HIS/HIS_server/analysis/dwi_data/dti/sub-267/dti_sub-267_after\n",
      "dtifit --data=/export2/DATA/HIS/HIS_server/analysis/dwi_data/preproc/sub-268/eddy_unwarped_images_sub-268_before \\\n",
      "                        --mask=/export2/DATA/HIS/HIS_server/analysis/dwi_data/preproc/sub-268/topup_sub-268_AP_PA_before_b0s_iout_avg_brain_mask \\\n",
      "                        --bvecs=/export2/DATA/HIS/HIS_server/BIDS/sub-268/ses-1/dwi/sub-268_ses-1_acq-ap_run-01_dwi.bvec \\\n",
      "                        --bvals=/export2/DATA/HIS/HIS_server/BIDS/sub-268/ses-1/dwi/sub-268_ses-1_acq-ap_run-01_dwi.bval \\\n",
      "                        --out=/export2/DATA/HIS/HIS_server/analysis/dwi_data/dti/sub-268/dti_sub-268_before\n",
      "dtifit --data=/export2/DATA/HIS/HIS_server/analysis/dwi_data/preproc/sub-268/eddy_unwarped_images_sub-268_after \\\n",
      "                        --mask=/export2/DATA/HIS/HIS_server/analysis/dwi_data/preproc/sub-268/topup_sub-268_AP_PA_after_b0s_iout_avg_brain_mask \\\n",
      "                        --bvecs=/export2/DATA/HIS/HIS_server/BIDS/sub-268/ses-3/dwi/sub-268_ses-3_acq-ap_run-02_dwi.bvec \\\n",
      "                        --bvals=/export2/DATA/HIS/HIS_server/BIDS/sub-268/ses-3/dwi/sub-268_ses-3_acq-ap_run-02_dwi.bval \\\n",
      "                        --out=/export2/DATA/HIS/HIS_server/analysis/dwi_data/dti/sub-268/dti_sub-268_after\n",
      "dtifit --data=/export2/DATA/HIS/HIS_server/analysis/dwi_data/preproc/sub-269/eddy_unwarped_images_sub-269_before \\\n",
      "                        --mask=/export2/DATA/HIS/HIS_server/analysis/dwi_data/preproc/sub-269/topup_sub-269_AP_PA_before_b0s_iout_avg_brain_mask \\\n",
      "                        --bvecs=/export2/DATA/HIS/HIS_server/BIDS/sub-269/ses-1/dwi/sub-269_ses-1_acq-ap_run-01_dwi.bvec \\\n",
      "                        --bvals=/export2/DATA/HIS/HIS_server/BIDS/sub-269/ses-1/dwi/sub-269_ses-1_acq-ap_run-01_dwi.bval \\\n",
      "                        --out=/export2/DATA/HIS/HIS_server/analysis/dwi_data/dti/sub-269/dti_sub-269_before\n",
      "dtifit --data=/export2/DATA/HIS/HIS_server/analysis/dwi_data/preproc/sub-269/eddy_unwarped_images_sub-269_after \\\n",
      "                        --mask=/export2/DATA/HIS/HIS_server/analysis/dwi_data/preproc/sub-269/topup_sub-269_AP_PA_after_b0s_iout_avg_brain_mask \\\n",
      "                        --bvecs=/export2/DATA/HIS/HIS_server/BIDS/sub-269/ses-3/dwi/sub-269_ses-3_acq-ap_run-02_dwi.bvec \\\n",
      "                        --bvals=/export2/DATA/HIS/HIS_server/BIDS/sub-269/ses-3/dwi/sub-269_ses-3_acq-ap_run-02_dwi.bval \\\n",
      "                        --out=/export2/DATA/HIS/HIS_server/analysis/dwi_data/dti/sub-269/dti_sub-269_after\n",
      "dtifit --data=/export2/DATA/HIS/HIS_server/analysis/dwi_data/preproc/sub-278/eddy_unwarped_images_sub-278_before \\\n",
      "                        --mask=/export2/DATA/HIS/HIS_server/analysis/dwi_data/preproc/sub-278/topup_sub-278_AP_PA_before_b0s_iout_avg_brain_mask \\\n",
      "                        --bvecs=/export2/DATA/HIS/HIS_server/BIDS/sub-278/ses-1/dwi/sub-278_ses-1_acq-ap_run-01_dwi.bvec \\\n",
      "                        --bvals=/export2/DATA/HIS/HIS_server/BIDS/sub-278/ses-1/dwi/sub-278_ses-1_acq-ap_run-01_dwi.bval \\\n",
      "                        --out=/export2/DATA/HIS/HIS_server/analysis/dwi_data/dti/sub-278/dti_sub-278_before\n",
      "dtifit --data=/export2/DATA/HIS/HIS_server/analysis/dwi_data/preproc/sub-278/eddy_unwarped_images_sub-278_after \\\n",
      "                        --mask=/export2/DATA/HIS/HIS_server/analysis/dwi_data/preproc/sub-278/topup_sub-278_AP_PA_after_b0s_iout_avg_brain_mask \\\n",
      "                        --bvecs=/export2/DATA/HIS/HIS_server/BIDS/sub-278/ses-3/dwi/sub-278_ses-3_acq-ap_run-02_dwi.bvec \\\n",
      "                        --bvals=/export2/DATA/HIS/HIS_server/BIDS/sub-278/ses-3/dwi/sub-278_ses-3_acq-ap_run-02_dwi.bval \\\n",
      "                        --out=/export2/DATA/HIS/HIS_server/analysis/dwi_data/dti/sub-278/dti_sub-278_after\n"
     ]
    }
   ],
   "source": [
    "print('> Run DTIFIT (one per subject per time [''before'' and ''after''])')\n",
    "# files_to_run_each_time = 200\n",
    "# counter=1\n",
    "for subjFolder in subjFolders:\n",
    "\n",
    "    scansBaseNames = createSubjectScansBaseNames(subjFolder, data_path)\n",
    "\n",
    "    # check if all expected output files exist:\n",
    "    for time in ['before', 'after']:\n",
    "        \n",
    "        dtifit_output_files = glob.glob(os.path.join(dti_path, subjFolder, f'dti_{subjFolder}_{time}*')) # get files in a directory\n",
    "        expected_DTIFIT_out_files_exist = len(list(set(dtifit_output_files))) >= n_expected_DTIFIT_output_files # check that the number of unique EDDY files is as expected\n",
    "\n",
    "        # Run the launch file if not all output files present:\n",
    "        if not expected_DTIFIT_out_files_exist:\n",
    "            dtifit_command = f\"dtifit --data={os.path.join(preproc_path, subjFolder, f'eddy_unwarped_images_{subjFolder}_{time}')} \\\\\\n\\\n",
    "                        --mask={os.path.join(preproc_path, subjFolder, f'topup_{subjFolder}_AP_PA_{time}_b0s_iout_avg_brain_mask')} \\\\\\n\\\n",
    "                        --bvecs={scansBaseNames[f'AP_{time}'] + '.bvec'} \\\\\\n\\\n",
    "                        --bvals={scansBaseNames[f'AP_{time}'] + '.bval'} \\\\\\n\\\n",
    "                        --out={os.path.join(dti_path, subjFolder, f'dti_{subjFolder}_{time}')}\"\n",
    "\n",
    "            print(dtifit_command)\n",
    "            os.system(dtifit_command)\n",
    "\n"
   ]
  },
  {
   "cell_type": "markdown",
   "metadata": {},
   "source": [
    "# *-*-*-*-*-*-*-*-*-*-*-*-*-*-*-*-*-*-*-*-*-*-*-*-*-*"
   ]
  },
  {
   "cell_type": "markdown",
   "metadata": {},
   "source": [
    "### Gather subject folders again based on the dti folders!\n",
    "Make sure that before that you ran DWI_pipeline_noTOPUPpipeline.ipynb to include subject without TOPUP"
   ]
  },
  {
   "cell_type": "code",
   "execution_count": 41,
   "metadata": {},
   "outputs": [
    {
     "name": "stdout",
     "output_type": "stream",
     "text": [
      ">> Get sub folders from the DTI map folder\n"
     ]
    }
   ],
   "source": [
    "print('>> Get sub folders from the DTI map folder')\n",
    "subjFoldersDTI = [el for el in os.listdir(dti_path) if 'sub' in el]\n",
    "subjFoldersDTI.sort()"
   ]
  },
  {
   "cell_type": "markdown",
   "metadata": {},
   "source": [
    "# *-*-*-*-*-*-*-*-*-*-*-*-*-*-*-*-*-*-*-*-*-*-*-*-*-*"
   ]
  },
  {
   "cell_type": "markdown",
   "metadata": {},
   "source": [
    "## Registration to MNI space"
   ]
  },
  {
   "cell_type": "markdown",
   "metadata": {},
   "source": [
    "#### Create folders for the preprocessed anatomical data (from fMRIprep)"
   ]
  },
  {
   "cell_type": "code",
   "execution_count": 34,
   "metadata": {},
   "outputs": [
    {
     "name": "stdout",
     "output_type": "stream",
     "text": [
      "> Create registration folders\n"
     ]
    }
   ],
   "source": [
    "print('> Create registration folders')\n",
    "for subjFolder in subjFoldersDTI:\n",
    "    try:\n",
    "        os.makedirs(os.path.join(dti_path, subjFolder, 'reg'), exist_ok=False)\n",
    "        print('>> Created folder: ' + os.path.join(dti_path, subjFolder, 'reg'))\n",
    "    except:\n",
    "        pass"
   ]
  },
  {
   "cell_type": "code",
   "execution_count": 37,
   "metadata": {},
   "outputs": [
    {
     "name": "stdout",
     "output_type": "stream",
     "text": [
      "> Copy relevant files to the registration folders (T1 processed, related mask, and WM segmentation file\n",
      "cp /export2/DATA/HIS/HIS_server/BIDS/derivatives/fmriprep/sub-171/anat/sub-171_desc-preproc_T1w.nii.gz /export2/DATA/HIS/HIS_server/analysis/dwi_data/dti/sub-171/reg\n",
      "cp /export2/DATA/HIS/HIS_server/BIDS/derivatives/fmriprep/sub-171/anat/sub-171_desc-brain_mask.nii.gz /export2/DATA/HIS/HIS_server/analysis/dwi_data/dti/sub-171/reg\n",
      "cp /export2/DATA/HIS/HIS_server/BIDS/derivatives/fmriprep/sub-171/anat/sub-171_label-WM_probseg.nii.gz /export2/DATA/HIS/HIS_server/analysis/dwi_data/dti/sub-171/reg\n",
      "cp /export2/DATA/HIS/HIS_server/BIDS/derivatives/fmriprep/sub-172/anat/sub-172_desc-preproc_T1w.nii.gz /export2/DATA/HIS/HIS_server/analysis/dwi_data/dti/sub-172/reg\n",
      "cp /export2/DATA/HIS/HIS_server/BIDS/derivatives/fmriprep/sub-172/anat/sub-172_desc-brain_mask.nii.gz /export2/DATA/HIS/HIS_server/analysis/dwi_data/dti/sub-172/reg\n",
      "cp /export2/DATA/HIS/HIS_server/BIDS/derivatives/fmriprep/sub-172/anat/sub-172_label-WM_probseg.nii.gz /export2/DATA/HIS/HIS_server/analysis/dwi_data/dti/sub-172/reg\n",
      "cp /export2/DATA/HIS/HIS_server/BIDS/derivatives/fmriprep/sub-174/anat/sub-174_desc-preproc_T1w.nii.gz /export2/DATA/HIS/HIS_server/analysis/dwi_data/dti/sub-174/reg\n",
      "cp /export2/DATA/HIS/HIS_server/BIDS/derivatives/fmriprep/sub-174/anat/sub-174_desc-brain_mask.nii.gz /export2/DATA/HIS/HIS_server/analysis/dwi_data/dti/sub-174/reg\n",
      "cp /export2/DATA/HIS/HIS_server/BIDS/derivatives/fmriprep/sub-174/anat/sub-174_label-WM_probseg.nii.gz /export2/DATA/HIS/HIS_server/analysis/dwi_data/dti/sub-174/reg\n",
      "cp /export2/DATA/HIS/HIS_server/BIDS/derivatives/fmriprep/sub-175/anat/sub-175_desc-preproc_T1w.nii.gz /export2/DATA/HIS/HIS_server/analysis/dwi_data/dti/sub-175/reg\n",
      "cp /export2/DATA/HIS/HIS_server/BIDS/derivatives/fmriprep/sub-175/anat/sub-175_desc-brain_mask.nii.gz /export2/DATA/HIS/HIS_server/analysis/dwi_data/dti/sub-175/reg\n",
      "cp /export2/DATA/HIS/HIS_server/BIDS/derivatives/fmriprep/sub-175/anat/sub-175_label-WM_probseg.nii.gz /export2/DATA/HIS/HIS_server/analysis/dwi_data/dti/sub-175/reg\n"
     ]
    }
   ],
   "source": [
    "print('> Copy relevant files to the registration folders (T1 processed, related mask, and WM segmentation file')\n",
    "for subjFolder in subjFoldersDTI:\n",
    "    anatFilesToCopy = [\n",
    "        os.path.join(fmriPrepAnatomyDerivatives_path, subjFolder, 'anat', f'{subjFolder}_desc-preproc_T1w.nii.gz'), \n",
    "        os.path.join(fmriPrepAnatomyDerivatives_path, subjFolder, 'anat', f'{subjFolder}_desc-brain_mask.nii.gz'), \n",
    "        os.path.join(fmriPrepAnatomyDerivatives_path, subjFolder, 'anat', f'{subjFolder}_label-WM_probseg.nii.gz')\n",
    "    ]\n",
    "    \n",
    "    for file in anatFilesToCopy:\n",
    "        if not os.path.exists(os.path.join(dti_path, subjFolder, 'reg', os.path.split(file)[-1])):\n",
    "            print(f\"cp {file} {os.path.join(dti_path, subjFolder, 'reg')}\")\n",
    "            os.system(f\"cp {file} {os.path.join(dti_path, subjFolder, 'reg')}\")\n",
    "    "
   ]
  },
  {
   "cell_type": "code",
   "execution_count": 40,
   "metadata": {},
   "outputs": [
    {
     "data": {
      "text/plain": [
       "'/export2/DATA/HIS/HIS_server/analysis/dwi_data/dti/sub-285/reg/sub-285_label-WM_probseg.nii.gz'"
      ]
     },
     "execution_count": 40,
     "metadata": {},
     "output_type": "execute_result"
    }
   ],
   "source": [
    "os.path.join(dti_path, subjFolder, 'reg', os.path.split(file)[-1])"
   ]
  },
  {
   "cell_type": "code",
   "execution_count": 33,
   "metadata": {},
   "outputs": [
    {
     "name": "stdout",
     "output_type": "stream",
     "text": [
      "> Extract the T1w brain\n",
      "fslmaths /export2/DATA/HIS/HIS_server/analysis/dwi_data/dti/sub-140/reg/sub-140_desc-preproc_T1w.nii.gz -mul /export2/DATA/HIS/HIS_server/analysis/dwi_data/dti/sub-140/reg/sub-140_desc-brain_mask.nii.gz /export2/DATA/HIS/HIS_server/analysis/dwi_data/dti/sub-140/reg/sub-140_desc-preproc_T1w_brain.nii.gz\n",
      "fslmaths /export2/DATA/HIS/HIS_server/analysis/dwi_data/dti/sub-171/reg/sub-171_desc-preproc_T1w.nii.gz -mul /export2/DATA/HIS/HIS_server/analysis/dwi_data/dti/sub-171/reg/sub-171_desc-brain_mask.nii.gz /export2/DATA/HIS/HIS_server/analysis/dwi_data/dti/sub-171/reg/sub-171_desc-preproc_T1w_brain.nii.gz\n",
      "fslmaths /export2/DATA/HIS/HIS_server/analysis/dwi_data/dti/sub-172/reg/sub-172_desc-preproc_T1w.nii.gz -mul /export2/DATA/HIS/HIS_server/analysis/dwi_data/dti/sub-172/reg/sub-172_desc-brain_mask.nii.gz /export2/DATA/HIS/HIS_server/analysis/dwi_data/dti/sub-172/reg/sub-172_desc-preproc_T1w_brain.nii.gz\n",
      "fslmaths /export2/DATA/HIS/HIS_server/analysis/dwi_data/dti/sub-174/reg/sub-174_desc-preproc_T1w.nii.gz -mul /export2/DATA/HIS/HIS_server/analysis/dwi_data/dti/sub-174/reg/sub-174_desc-brain_mask.nii.gz /export2/DATA/HIS/HIS_server/analysis/dwi_data/dti/sub-174/reg/sub-174_desc-preproc_T1w_brain.nii.gz\n",
      "fslmaths /export2/DATA/HIS/HIS_server/analysis/dwi_data/dti/sub-175/reg/sub-175_desc-preproc_T1w.nii.gz -mul /export2/DATA/HIS/HIS_server/analysis/dwi_data/dti/sub-175/reg/sub-175_desc-brain_mask.nii.gz /export2/DATA/HIS/HIS_server/analysis/dwi_data/dti/sub-175/reg/sub-175_desc-preproc_T1w_brain.nii.gz\n",
      "fslmaths /export2/DATA/HIS/HIS_server/analysis/dwi_data/dti/sub-232/reg/sub-232_desc-preproc_T1w.nii.gz -mul /export2/DATA/HIS/HIS_server/analysis/dwi_data/dti/sub-232/reg/sub-232_desc-brain_mask.nii.gz /export2/DATA/HIS/HIS_server/analysis/dwi_data/dti/sub-232/reg/sub-232_desc-preproc_T1w_brain.nii.gz\n",
      "fslmaths /export2/DATA/HIS/HIS_server/analysis/dwi_data/dti/sub-235/reg/sub-235_desc-preproc_T1w.nii.gz -mul /export2/DATA/HIS/HIS_server/analysis/dwi_data/dti/sub-235/reg/sub-235_desc-brain_mask.nii.gz /export2/DATA/HIS/HIS_server/analysis/dwi_data/dti/sub-235/reg/sub-235_desc-preproc_T1w_brain.nii.gz\n",
      "fslmaths /export2/DATA/HIS/HIS_server/analysis/dwi_data/dti/sub-238/reg/sub-238_desc-preproc_T1w.nii.gz -mul /export2/DATA/HIS/HIS_server/analysis/dwi_data/dti/sub-238/reg/sub-238_desc-brain_mask.nii.gz /export2/DATA/HIS/HIS_server/analysis/dwi_data/dti/sub-238/reg/sub-238_desc-preproc_T1w_brain.nii.gz\n",
      "fslmaths /export2/DATA/HIS/HIS_server/analysis/dwi_data/dti/sub-245/reg/sub-245_desc-preproc_T1w.nii.gz -mul /export2/DATA/HIS/HIS_server/analysis/dwi_data/dti/sub-245/reg/sub-245_desc-brain_mask.nii.gz /export2/DATA/HIS/HIS_server/analysis/dwi_data/dti/sub-245/reg/sub-245_desc-preproc_T1w_brain.nii.gz\n",
      "fslmaths /export2/DATA/HIS/HIS_server/analysis/dwi_data/dti/sub-252/reg/sub-252_desc-preproc_T1w.nii.gz -mul /export2/DATA/HIS/HIS_server/analysis/dwi_data/dti/sub-252/reg/sub-252_desc-brain_mask.nii.gz /export2/DATA/HIS/HIS_server/analysis/dwi_data/dti/sub-252/reg/sub-252_desc-preproc_T1w_brain.nii.gz\n",
      "fslmaths /export2/DATA/HIS/HIS_server/analysis/dwi_data/dti/sub-262/reg/sub-262_desc-preproc_T1w.nii.gz -mul /export2/DATA/HIS/HIS_server/analysis/dwi_data/dti/sub-262/reg/sub-262_desc-brain_mask.nii.gz /export2/DATA/HIS/HIS_server/analysis/dwi_data/dti/sub-262/reg/sub-262_desc-preproc_T1w_brain.nii.gz\n",
      "fslmaths /export2/DATA/HIS/HIS_server/analysis/dwi_data/dti/sub-267/reg/sub-267_desc-preproc_T1w.nii.gz -mul /export2/DATA/HIS/HIS_server/analysis/dwi_data/dti/sub-267/reg/sub-267_desc-brain_mask.nii.gz /export2/DATA/HIS/HIS_server/analysis/dwi_data/dti/sub-267/reg/sub-267_desc-preproc_T1w_brain.nii.gz\n",
      "fslmaths /export2/DATA/HIS/HIS_server/analysis/dwi_data/dti/sub-268/reg/sub-268_desc-preproc_T1w.nii.gz -mul /export2/DATA/HIS/HIS_server/analysis/dwi_data/dti/sub-268/reg/sub-268_desc-brain_mask.nii.gz /export2/DATA/HIS/HIS_server/analysis/dwi_data/dti/sub-268/reg/sub-268_desc-preproc_T1w_brain.nii.gz\n",
      "fslmaths /export2/DATA/HIS/HIS_server/analysis/dwi_data/dti/sub-269/reg/sub-269_desc-preproc_T1w.nii.gz -mul /export2/DATA/HIS/HIS_server/analysis/dwi_data/dti/sub-269/reg/sub-269_desc-brain_mask.nii.gz /export2/DATA/HIS/HIS_server/analysis/dwi_data/dti/sub-269/reg/sub-269_desc-preproc_T1w_brain.nii.gz\n",
      "fslmaths /export2/DATA/HIS/HIS_server/analysis/dwi_data/dti/sub-278/reg/sub-278_desc-preproc_T1w.nii.gz -mul /export2/DATA/HIS/HIS_server/analysis/dwi_data/dti/sub-278/reg/sub-278_desc-brain_mask.nii.gz /export2/DATA/HIS/HIS_server/analysis/dwi_data/dti/sub-278/reg/sub-278_desc-preproc_T1w_brain.nii.gz\n",
      ">> COMPLETED.\n"
     ]
    }
   ],
   "source": [
    "print('> Extract the T1w brain')\n",
    "for subjFolder in subjFoldersDTI:\n",
    "    sub_T1 = f\"{os.path.join(dti_path, subjFolder, 'reg', f'{subjFolder}_desc-preproc_T1w.nii.gz')}\"\n",
    "    sub_T1_mask = f\"{os.path.join(dti_path, subjFolder, 'reg', f'{subjFolder}_desc-brain_mask.nii.gz')}\"\n",
    "    extracted_brain = f\"{os.path.join(dti_path, subjFolder, 'reg', f'{subjFolder}_desc-preproc_T1w_brain.nii.gz')}\"\n",
    "    if not os.path.exists(extracted_brain):\n",
    "        print(f\"fslmaths {sub_T1} -mul {sub_T1_mask} {extracted_brain}\")\n",
    "        os.system(f\"fslmaths {sub_T1} -mul {sub_T1_mask} {extracted_brain}\")\n",
    "print(f\">> COMPLETED.\")\n"
   ]
  },
  {
   "cell_type": "code",
   "execution_count": 60,
   "metadata": {},
   "outputs": [
    {
     "name": "stdout",
     "output_type": "stream",
     "text": [
      "> Extract the first (B0 volume form the eddy_output to use for the native space registration (this volume is the reference volume for the motion correction and thus everything is aligned to it.\n",
      ">> COMPLETED.\n"
     ]
    }
   ],
   "source": [
    "print('> Extract the first (B0 volume form the eddy_output to use for the native space registration (this volume is the reference volume for the motion correction and thus everything is aligned to it.')\n",
    "for subjFolder in subjFoldersDTI:\n",
    "    for time in ['before', 'after']:\n",
    "        fileToCreate = f\"{subjFolder}_first_processed_B0_{time}.nii.gz\"\n",
    "        if not os.path.exists(os.path.join(dti_path, subjFolder, 'reg', fileToCreate)):\n",
    "            print(f\"fslroi {os.path.join(preproc_path, subjFolder, f'eddy_unwarped_images_{subjFolder}_{time}.nii.gz')} {os.path.join(dti_path, subjFolder, 'reg', fileToCreate)} 0 1\")\n",
    "            os.system(f\"fslroi {os.path.join(preproc_path, subjFolder, f'eddy_unwarped_images_{subjFolder}_{time}.nii.gz')} {os.path.join(dti_path, subjFolder, 'reg', fileToCreate)} 0 1\")\n",
    "\n",
    "print(f\">> COMPLETED.\")"
   ]
  },
  {
   "cell_type": "markdown",
   "metadata": {},
   "source": [
    "#### Register the first (processed) B0 to the preprocessed T1w in native space (using epi_reg)"
   ]
  },
  {
   "cell_type": "markdown",
   "metadata": {},
   "source": [
    "This includes:\n",
    "1) using epi_reg on a B0 imgae to the native T1 space.\n",
    "2) register the T1w to MNI [by running flirt and then fnirt]. * note that fnirt runs on the secnd cell as flirt need to be completed first"
   ]
  },
  {
   "cell_type": "code",
   "execution_count": 70,
   "metadata": {},
   "outputs": [
    {
     "name": "stdout",
     "output_type": "stream",
     "text": [
      "> Execute EPI_REG and FLIRT (create launch files and run them)\n",
      ">> COMPLETED.\n"
     ]
    }
   ],
   "source": [
    "print('> Execute EPI_REG and FLIRT (create launch files and run them)')\n",
    "for subjFolder in subjFoldersDTI:\n",
    "    for time in ['before', 'after']:\n",
    "        if not os.path.exists(os.path.join(dti_path, subjFolder, 'reg', f'{subjFolder}_first_processed_B0_reg_to_native_T1_{time}.nii.gz')):\n",
    "            launch_file_EPI_TO_REG = os.path.join(launch_files_path, 'EPI_REG_' + subjFolder + '_' + time + '_launch.txt')\n",
    "            print(\n",
    "                f\"epi_reg -v --epi={os.path.join(dti_path, subjFolder, 'reg', f'{subjFolder}_first_processed_B0_{time}.nii.gz')} \\\\\\n\\\n",
    "                --t1={os.path.join(dti_path, subjFolder, 'reg', f'{subjFolder}_desc-preproc_T1w.nii.gz')} \\\\\\n\\\n",
    "                --t1brain={os.path.join(dti_path, subjFolder, 'reg', f'{subjFolder}_desc-preproc_T1w_brain.nii.gz')} \\\\\\n\\\n",
    "                --out={os.path.join(dti_path, subjFolder, 'reg', f'{subjFolder}_first_processed_B0_reg_to_native_T1_{time}')}\\n\"\n",
    "                #I removed this from the command (letting it create WM_seg on its own): --wmseg={os.path.join(dti_path, subjFolder, 'reg', f'{subjFolder}_label-WM_probseg.nii.gz')} \\\\\\n\\\n",
    "            )\n",
    "            epi_reg_command_to_run = f\"epi_reg -v --epi={os.path.join(dti_path, subjFolder, 'reg', f'{subjFolder}_first_processed_B0_{time}.nii.gz')} --t1={os.path.join(dti_path, subjFolder, 'reg', f'{subjFolder}_desc-preproc_T1w.nii.gz')} --t1brain={os.path.join(dti_path, subjFolder, 'reg', f'{subjFolder}_desc-preproc_T1w_brain.nii.gz')} --out={os.path.join(dti_path, subjFolder, 'reg', f'{subjFolder}_first_processed_B0_reg_to_native_T1_{time}')}\\n\"\n",
    "            #I removed this from the command (letting it create WM_seg on its own): --wmseg={os.path.join(dti_path, subjFolder, 'reg', f'{subjFolder}_label-WM_probseg.nii.gz')} \\\\\\n\\\n",
    "    \n",
    "            with open(launch_file_EPI_TO_REG, 'w') as f:\n",
    "                 f.write(epi_reg_command_to_run)\n",
    "            os.system(f\"launch -s {launch_file_EPI_TO_REG} -j schonberglab -p {n_cores_TOPUP} -r inf\")    \n",
    "\n",
    "    if not os.path.exists(os.path.join(dti_path, subjFolder, 'reg', f'{subjFolder}_affine_T1_transf.mat')):\n",
    "        launch_file_FLIRT = os.path.join(launch_files_path, 'FLIRT_FNIRT_' + subjFolder + '_launch.txt')\n",
    "        flirt_command_to_run = f\"flirt -ref ${{FSLDIR}}/data/standard/MNI152_T1_2mm_brain -in {os.path.join(dti_path, subjFolder, 'reg', f'{subjFolder}_desc-preproc_T1w_brain.nii.gz')} -omat {os.path.join(dti_path, subjFolder, 'reg', f'{subjFolder}_affine_T1_transf.mat')}\\n\"\n",
    "        print(flirt_command_to_run)\n",
    "\n",
    "        with open(launch_file_FLIRT, 'w') as f2:\n",
    "            f2.write(flirt_command_to_run)\n",
    "        os.system(f\"launch -s {launch_file_FLIRT} -j schonberglab -p {n_cores_TOPUP} -r inf\")    \n",
    "\n",
    "\n",
    "print(f\">> COMPLETED.\")\n",
    "\n"
   ]
  },
  {
   "cell_type": "code",
   "execution_count": 74,
   "metadata": {},
   "outputs": [
    {
     "name": "stdout",
     "output_type": "stream",
     "text": [
      "> FNIRT (needs to be run after the flirt completed\n",
      ">> COMPLETED.\n"
     ]
    }
   ],
   "source": [
    "print('> FNIRT (needs to be run after the flirt completed')\n",
    "for subjFolder in subjFoldersDTI:\n",
    "\n",
    "    if not os.path.exists(os.path.join(dti_path, subjFolder, 'reg', f'{subjFolder}_nonlinear_T1_transf.nii.gz')):\n",
    "        launch_file_FNIRT = os.path.join(launch_files_path, 'FLIRT_FNIRT_' + subjFolder + '_launch.txt')\n",
    "        fnirt_command_to_run = f\"fnirt -v --in={os.path.join(dti_path, subjFolder, 'reg', f'{subjFolder}_desc-preproc_T1w.nii.gz')} --aff={os.path.join(dti_path, subjFolder, 'reg', f'{subjFolder}_affine_T1_transf.mat')} --cout={os.path.join(dti_path, subjFolder, 'reg', f'{subjFolder}_nonlinear_T1_transf')} --config=T1_2_MNI152_2mm\\n\"\n",
    "        print(fnirt_command_to_run)\n",
    "\n",
    "        with open(launch_file_FNIRT, 'w') as f2:\n",
    "            f2.write(fnirt_command_to_run)\n",
    "        os.system(f\"launch -s {launch_file_FNIRT} -j schonberglab -p {n_cores_TOPUP} -r inf\")    \n",
    "\n",
    "\n",
    "print(f\">> COMPLETED.\")"
   ]
  },
  {
   "cell_type": "markdown",
   "metadata": {},
   "source": [
    "#### Apply all transofrmation to take all the relevant maps to a common space (MNI)"
   ]
  },
  {
   "cell_type": "code",
   "execution_count": 76,
   "metadata": {},
   "outputs": [
    {
     "name": "stdout",
     "output_type": "stream",
     "text": [
      "> Apply the transformation on the MD and FA maps\n"
     ]
    }
   ],
   "source": [
    "print('> Apply the transformation on the MD and FA maps')\n",
    "for subjFolder in subjFoldersDTI:\n",
    "    for time in ['before', 'after']:\n",
    "        if not os.path.exists(os.path.join(stats_path, 'MD', f'{subjFolder}_in-MNI_MD_{time}.nii.gz')) \\\n",
    "        or not os.path.exists(os.path.join(stats_path, 'FA', f'{subjFolder}_in-MNI_FA_{time}.nii.gz')):\n",
    "            launch_file_APPLYWARP = os.path.join(launch_files_path, 'APPLYWARP_' + subjFolder + '_' + time + '_launch.txt')\n",
    "\n",
    "            with open(launch_file_APPLYWARP, 'w') as f:\n",
    "                for map_type in ['MD','FA']:\n",
    "                    applywarp_command_to_run = f\"applywarp -v --ref=${{FSLDIR}}/data/standard/MNI152_T1_2mm --in={os.path.join(dti_path, subjFolder, f'dti_{subjFolder}_{time}_{map_type}.nii.gz')} --warp={os.path.join(dti_path, subjFolder, 'reg', f'{subjFolder}_nonlinear_T1_transf')} --premat={os.path.join(dti_path, subjFolder, 'reg', f'{subjFolder}_first_processed_B0_reg_to_native_T1_{time}.mat')} --out={os.path.join(stats_path, map_type, f'{subjFolder}_in-MNI_{map_type}_{time}')}\\n\"\n",
    "                    print(applywarp_command_to_run)\n",
    "                    f.write(applywarp_command_to_run)\n",
    "            os.system(f\"launch -s {launch_file_APPLYWARP} -j schonberglab -p {n_cores_TOPUP} -r inf\")    \n"
   ]
  },
  {
   "cell_type": "markdown",
   "metadata": {},
   "source": [
    "# Statistical Analysis: BETWEEN-GRUOP"
   ]
  },
  {
   "cell_type": "markdown",
   "metadata": {},
   "source": [
    "The analysis is based on this page: https://fsl.fmrib.ox.ac.uk/fsl/fslwiki/GLM#ANOVA:_2-groups.2C_2-levels_per_subject_.282-way_Mixed_Effect_ANOVA.29\n",
    "Specifically:\n",
    "\"Randomise details\n",
    "Due to how the data would need to be permuted, the FEAT model may not be used in randomise. Instead, just as in the paired t-test example, paired differences within-subject would be computed via fslmaths and a two-sample t-test could be used to test whether the run1-run2 difference differed between the two groups.\"\n",
    "\n",
    "Thus the first step (calculating the differenceswithin-subject) is as here: https://fsl.fmrib.ox.ac.uk/fsl/fslwiki/GLM#Single-Group_Paired_Difference_.28Paired_T-Test.29\n",
    "And the second is as here \n"
   ]
  },
  {
   "cell_type": "code",
   "execution_count": 78,
   "metadata": {},
   "outputs": [
    {
     "name": "stdout",
     "output_type": "stream",
     "text": [
      "> Calculate the difference of AFTER minus BEFORE and BEFORE minus AFTER for the MD and FA maps\n"
     ]
    }
   ],
   "source": [
    "print('> Calculate the difference of AFTER minus BEFORE and BEFORE minus AFTER for the MD and FA maps')\n",
    "for subjFolder in subjFoldersDTI:\n",
    "    if not os.path.exists(os.path.join(stats_path, 'MD', f'{subjFolder}_in-MNI_MD_AFTER-minus-BEFORE.nii.gz')) \\\n",
    "    or not os.path.exists(os.path.join(stats_path, 'FA', f'{subjFolder}_in-MNI_FA_AFTER-minus-BEFORE.nii.gz')) \\\n",
    "    or not os.path.exists(os.path.join(stats_path, 'MD', f'{subjFolder}_in-MNI_MD_BEFORE-minus-AFTER.nii.gz')) \\\n",
    "    or not os.path.exists(os.path.join(stats_path, 'FA', f'{subjFolder}_in-MNI_FA_BEFORE-minus-AFTER.nii.gz')):      \n",
    "     \n",
    "        for map_type in ['MD','FA']:          \n",
    "            substraction_command = f\"fslmaths {os.path.join(stats_path, map_type, f'{subjFolder}_in-MNI_{map_type}_after.nii.gz')} -sub {os.path.join(stats_path, map_type, f'{subjFolder}_in-MNI_{map_type}_before.nii.gz')} {os.path.join(stats_path, map_type, f'{subjFolder}_in-MNI_{map_type}_AFTER-minus-BEFORE.nii.gz')}\"\n",
    "            print(substraction_command)\n",
    "            os.system(substraction_command)    \n",
    "            substraction_command2 = f\"fslmaths {os.path.join(stats_path, map_type, f'{subjFolder}_in-MNI_{map_type}_before.nii.gz')} -sub {os.path.join(stats_path, map_type, f'{subjFolder}_in-MNI_{map_type}_after.nii.gz')} {os.path.join(stats_path, map_type, f'{subjFolder}_in-MNI_{map_type}_BEFORE-minus-AFTER.nii.gz')}\"\n",
    "            print(substraction_command2)\n",
    "            os.system(substraction_command2)    "
   ]
  },
  {
   "cell_type": "code",
   "execution_count": 16,
   "metadata": {},
   "outputs": [
    {
     "name": "stdout",
     "output_type": "stream",
     "text": [
      "> Create one file with all subjects of AFTER minus BEFORE and one withh all Before minus AFTER for the MD and FA maps\n",
      "fslmerge -t /export2/DATA/HIS/HIS_server/analysis/dwi_data/stats/MD/ALL_SUBJECTS_AFTER_minus_BEFORE_MD `ls /export2/DATA/HIS/HIS_server/analysis/dwi_data/stats/MD/*in-MNI_MD_AFTER-minus-BEFORE.nii.gz`\n",
      "fslmerge -t /export2/DATA/HIS/HIS_server/analysis/dwi_data/stats/MD/ALL_SUBJECTS_BEFORE-minus-AFTER_MD `ls /export2/DATA/HIS/HIS_server/analysis/dwi_data/stats/MD/*in-MNI_MD_BEFORE-minus-AFTER.nii.gz`\n",
      "fslmerge -t /export2/DATA/HIS/HIS_server/analysis/dwi_data/stats/FA/ALL_SUBJECTS_AFTER_minus_BEFORE_FA `ls /export2/DATA/HIS/HIS_server/analysis/dwi_data/stats/FA/*in-MNI_FA_AFTER-minus-BEFORE.nii.gz`\n",
      "fslmerge -t /export2/DATA/HIS/HIS_server/analysis/dwi_data/stats/FA/ALL_SUBJECTS_BEFORE-minus-AFTER_FA `ls /export2/DATA/HIS/HIS_server/analysis/dwi_data/stats/FA/*in-MNI_FA_BEFORE-minus-AFTER.nii.gz`\n"
     ]
    }
   ],
   "source": [
    "print('> Create one file with all subjects of AFTER minus BEFORE and one withh all Before minus AFTER for the MD and FA maps')\n",
    "for map_type in ['MD','FA']:          \n",
    "    print(f\"fslmerge -t {os.path.join(stats_path, map_type, f'ALL_SUBJECTS_AFTER_minus_BEFORE_{map_type}')} `ls {os.path.join(stats_path, map_type, f'*in-MNI_{map_type}_AFTER-minus-BEFORE.nii.gz')}`\")\n",
    "    os.system(f\"fslmerge -t {os.path.join(stats_path, map_type, f'ALL_SUBJECTS_AFTER_minus_BEFORE_{map_type}')} `ls {os.path.join(stats_path, map_type, f'*in-MNI_{map_type}_AFTER-minus-BEFORE.nii.gz')}`\")\n",
    "    print(f\"fslmerge -t {os.path.join(stats_path, map_type, f'ALL_SUBJECTS_BEFORE_minus_AFTER_{map_type}')} `ls {os.path.join(stats_path, map_type, f'*in-MNI_{map_type}_BEFORE-minus-AFTER.nii.gz')}`\")\n",
    "    os.system(f\"fslmerge -t {os.path.join(stats_path, map_type, f'ALL_SUBJECTS_BEFORE_minus_AFTER_{map_type}')} `ls {os.path.join(stats_path, map_type, f'*in-MNI_{map_type}_BEFORE-minus-AFTER.nii.gz')}`\")"
   ]
  },
  {
   "cell_type": "code",
   "execution_count": 27,
   "metadata": {},
   "outputs": [
    {
     "name": "stdout",
     "output_type": "stream",
     "text": [
      "> Create the between group design matrix (of the calculated differences) - same is unpaired t-test (on the after-before differences)\n",
      "design_ttest2 /export2/DATA/HIS/HIS_server/analysis/dwi_data/stats/models/between_groups/design_unpaired_ttest 56 56\n"
     ]
    },
    {
     "data": {
      "text/plain": [
       "0"
      ]
     },
     "execution_count": 27,
     "metadata": {},
     "output_type": "execute_result"
    }
   ],
   "source": [
    "print('> Create the between group design matrix (of the calculated differences) - same is unpaired t-test (on the after-before differences)')\n",
    "# create the folder\n",
    "try:\n",
    "    os.makedirs(os.path.join(models_path, 'between_groups'), exist_ok=False)\n",
    "    print('>> Created folder: ' + os.path.join(models_path, 'between_groups'))\n",
    "except:\n",
    "    pass\n",
    "\n",
    "#create the design matrix and contrasts:\n",
    "N_1_day_group = len(set([sub for sub in subjFoldersDTI if int(sub.split('-')[-1])<200]))\n",
    "N_3_day_group = len(set([sub for sub in subjFoldersDTI if int(sub.split('-')[-1])>200]))\n",
    "\n",
    "print(f\"design_ttest2 {os.path.join(models_path, 'between_groups','design_unpaired_ttest')} {N_1_day_group} {N_3_day_group}\")\n",
    "os.system(f\"design_ttest2 {os.path.join(models_path, 'between_groups','design_unpaired_ttest')} {N_1_day_group} {N_3_day_group}\")"
   ]
  },
  {
   "cell_type": "markdown",
   "metadata": {},
   "source": [
    "## Run the analyses analyses (through the terminal)"
   ]
  },
  {
   "cell_type": "markdown",
   "metadata": {},
   "source": [
    "### NOTE:\n",
    "* Contrast of group means are meaningeless - I think with randomize (because to check this a paired t-test should be done exchanging before and after and it's not what is done here)"
   ]
  },
  {
   "cell_type": "markdown",
   "metadata": {},
   "source": [
    "### Whole brain - FA"
   ]
  },
  {
   "cell_type": "markdown",
   "metadata": {},
   "source": [
    "Copy these lines to the terminal:\n",
    "\n",
    "cd /export2/DATA/HIS/HIS_server/analysis/dwi_data/stats/FA\n",
    "\n",
    "randomise_parallel -i ALL_SUBJECTS_AFTER_minus_BEFORE_FA.nii.gz -o AFTER_minus_BEFORE_FA_whole_brain -d ../models/between_groups/design_unpaired_ttest.mat -t ../models/between_groups/design_unpaired_ttest.con -n 6000 -C 3.1\n",
    "\n",
    "<!-- randomise_parallel -i ALL_SUBJECTS_BEFORE_minus_AFTER_FA.nii.gz -o BEFORE_minus_AFTER_FA_whole_brain -d ../models/between_groups/design_unpaired_ttest.mat -t ../models/between_groups/design_unpaired_ttest.con -n 6000 -C 3.1 -->"
   ]
  },
  {
   "cell_type": "markdown",
   "metadata": {},
   "source": [
    "After complete running:\n",
    "\n",
    "* Increase in FA in the 1-day relatvie to the 3-days (or a decrease in the 3-day...)\n",
    "\n",
    "cluster -i AFTER_minus_BEFORE_FA_whole_brain_clusterm_corrp_tstat1.nii.gz -t 0.95 -c AFTER_minus_BEFORE_FA_whole_brain_tstat1.nii.gz --scalarname=\"1-p\" > AFTER_minus_BEFORE_FA_whole_brain_cluster_corrp1.txt\n",
    "\n",
    "cat AFTER_minus_BEFORE_FA_whole_brain_cluster_corrp3.txt\n",
    "\n",
    "\n",
    "* Increase in FA in the 3-day relatvie to the 1-days (or a decrease in the 1-day...)\n",
    "\n",
    "cluster -i AFTER_minus_BEFORE_FA_whole_brain_clusterm_corrp_tstat2.nii.gz -t 0.95 -c AFTER_minus_BEFORE_FA_whole_brain_tstat2.nii.gz --scalarname=\"1-p\" > AFTER_minus_BEFORE_FA_whole_brain_cluster_corrp2.txt\n",
    "\n",
    "cat AFTER_minus_BEFORE_FA_whole_brain_cluster_corrp4.txt\n"
   ]
  },
  {
   "cell_type": "markdown",
   "metadata": {},
   "source": [
    ">>>>> NOTHING"
   ]
  },
  {
   "cell_type": "markdown",
   "metadata": {},
   "source": [
    "### Putamen - FA"
   ]
  },
  {
   "cell_type": "markdown",
   "metadata": {},
   "source": [
    "randomise_parallel -i ALL_SUBJECTS_AFTER_minus_BEFORE_FA.nii.gz -o AFTER_minus_BEFORE_FA_Putamen -m /export2/DATA/HIS/HIS_server/DTI_assitance_files/masks/Harvard-Oxford/Putamen-mask.nii.gz -d ../models/between_groups/design_unpaired_ttest.mat -t ../models/between_groups/design_unpaired_ttest.con -n 6000 -C 3.1"
   ]
  },
  {
   "cell_type": "markdown",
   "metadata": {},
   "source": [
    "* After running has been completed:\n",
    "\n",
    "* This will tell us if there is increase in FA in the 1-day compared with the 3-days.\n",
    "\n",
    "cluster -i AFTER_minus_BEFORE_FA_Putamen_clusterm_corrp_tstat1.nii.gz -t 0.95 -c AFTER_minus_BEFORE_FA_Putamen_tstat1.nii.gz --scalarname=\"1-p\" > AFTER_minus_BEFORE_FA_Putamen_cluster_corrp1.txt\n",
    "\n",
    "\n",
    "* [IMPORTANT] This will tell us if there is an increase in FA in the 3-day compared with the 1-days:\n",
    "\n",
    "cluster -i AFTER_minus_BEFORE_FA_Putamen_clusterm_corrp_tstat2.nii.gz -t 0.95 -c AFTER_minus_BEFORE_FA_Putamen_tstat2.nii.gz --scalarname=\"1-p\" > AFTER_minus_BEFORE_FA_Putamen_cluster_corrp2.txt"
   ]
  },
  {
   "cell_type": "markdown",
   "metadata": {},
   "source": [
    ">>>>> NOTHING"
   ]
  },
  {
   "cell_type": "markdown",
   "metadata": {},
   "source": [
    "### Caudate - FA"
   ]
  },
  {
   "cell_type": "markdown",
   "metadata": {},
   "source": [
    "randomise_parallel -i ALL_SUBJECTS_AFTER_minus_BEFORE_FA.nii.gz -o AFTER_minus_BEFORE_FA_Caudate -m /export2/DATA/HIS/HIS_server/DTI_assitance_files/masks/Harvard-Oxford/CaudateHead_Y-larger-than-1-mask.nii.gz -d ../models/between_groups/design_unpaired_ttest.mat -t ../models/between_groups/design_unpaired_ttest.con -n 6000 -C 3.1"
   ]
  },
  {
   "cell_type": "markdown",
   "metadata": {},
   "source": [
    "* After running has been completed:\n",
    "\n",
    "* This will tell us if there is increase in FA in the 1-day compared with the 3-days.\n",
    "\n",
    "cluster -i AFTER_minus_BEFORE_FA_Caudate_clusterm_corrp_tstat1.nii.gz -t 0.95 -c AFTER_minus_BEFORE_FA_Caudate_tstat1.nii.gz --scalarname=\"1-p\" > AFTER_minus_BEFORE_FA_Caudate_cluster_corrp1.txt\n",
    "\n",
    "\n",
    "* [IMPORTANT] This will tell us if there is an increase in FA in the 3-day compared with the 1-days:\n",
    "\n",
    "cluster -i AFTER_minus_BEFORE_FA_Caudate_clusterm_corrp_tstat2.nii.gz -t 0.95 -c AFTER_minus_BEFORE_FA_Caudate_tstat2.nii.gz --scalarname=\"1-p\" > AFTER_minus_BEFORE_FA_Caudate_cluster_corrp2.txt"
   ]
  },
  {
   "cell_type": "markdown",
   "metadata": {},
   "source": [
    ">>>>> NOTHING"
   ]
  },
  {
   "cell_type": "markdown",
   "metadata": {},
   "source": [
    "### vmPFC - FA"
   ]
  },
  {
   "cell_type": "markdown",
   "metadata": {},
   "source": [
    "randomise_parallel -i ALL_SUBJECTS_AFTER_minus_BEFORE_FA.nii.gz -o AFTER_minus_BEFORE_FA_vmPFC -m /export2/DATA/HIS/HIS_server/DTI_assitance_files/masks/Harvard-Oxford/vmPFC-mask.nii.gz -d ../models/between_groups/design_unpaired_ttest.mat -t ../models/between_groups/design_unpaired_ttest.con -n 6000 -C 3.1"
   ]
  },
  {
   "cell_type": "markdown",
   "metadata": {},
   "source": [
    "* After running has been completed:\n",
    "\n",
    "* This will tell us if there is increase in FA in the 1-day compared with the 3-days.\n",
    "\n",
    "cluster -i AFTER_minus_BEFORE_FA_vmPFC_clusterm_corrp_tstat1.nii.gz -t 0.95 -c AFTER_minus_BEFORE_FA_vmPFC_tstat1.nii.gz --scalarname=\"1-p\" > AFTER_minus_BEFORE_FA_vmPFC_cluster_corrp1.txt\n",
    "\n",
    "\n",
    "* [IMPORTANT] This will tell us if there is an increase in FA in the 3-day compared with the 1-days:\n",
    "\n",
    "cluster -i AFTER_minus_BEFORE_FA_vmPFC_clusterm_corrp_tstat2.nii.gz -t 0.95 -c AFTER_minus_BEFORE_FA_vmPFC_tstat2.nii.gz --scalarname=\"1-p\" > AFTER_minus_BEFORE_FA_vmPFC_cluster_corrp2.txt"
   ]
  },
  {
   "cell_type": "markdown",
   "metadata": {},
   "source": [
    ">>>>> NOTHING"
   ]
  },
  {
   "cell_type": "markdown",
   "metadata": {},
   "source": [
    "### Group - MD - whole brain"
   ]
  },
  {
   "cell_type": "markdown",
   "metadata": {},
   "source": [
    "cd /export2/DATA/HIS/HIS_server/analysis/dwi_data/stats/MD\n",
    "\n",
    "<!-- randomise_parallel -i ALL_SUBJECTS_AFTER_minus_BEFORE_MD.nii.gz -o AFTER_minus_BEFORE_MD_whole_brain -d ../models/between_groups/design_unpaired_ttest.mat -t ../models/between_groups/design_unpaired_ttest.con -n 6000 -C 3.1 -->\n",
    "\n",
    "randomise_parallel -i ALL_SUBJECTS_BEFORE_minus_AFTER_MD.nii.gz -o BEFORE_minus_AFTER_MD_whole_brain -d ../models/between_groups/design_unpaired_ttest.mat -t ../models/between_groups/design_unpaired_ttest.con -n 6000 -C 3.1"
   ]
  },
  {
   "cell_type": "markdown",
   "metadata": {},
   "source": [
    "After complete running:\n",
    "\n",
    "cluster -i BEFORE_minus_AFTER_MD_whole_brain_clusterm_corrp_tstat1.nii.gz -t 0.95 -c BEFORE_minus_AFTER_MD_whole_brain_tstat1.nii.gz --scalarname=\"1-p\" > BEFORE_minus_AFTER_MD_whole_brain_cluster_corrp1.txt\n",
    "\n",
    "cat BEFORE_minus_AFTER_MD_whole_brain_cluster_corrp1.txt\n",
    "\n",
    "cluster -i BEFORE_minus_AFTER_MD_whole_brain_clusterm_corrp_tstat2.nii.gz -t 0.95 -c BEFORE_minus_AFTER_MD_whole_brain_tstat2.nii.gz --scalarname=\"1-p\" > BEFORE_minus_AFTER_MD_whole_brain_cluster_corrp2.txt\n",
    "\n",
    "cat BEFORE_minus_AFTER_MD_whole_brain_cluster_corrp2.txt\n"
   ]
  },
  {
   "cell_type": "markdown",
   "metadata": {},
   "source": [
    ">>>>> There is a result in the vmPFC (p=0.057). The MD INCREASE in this area was larger for the 3-days then for the 1-day (or a reduction in 1-day). Perhaps this indicates a TEMPORARY PLASTICITY effect associated with goal-directedness and after the training progresses it comes back to \"baseline\"  "
   ]
  },
  {
   "cell_type": "markdown",
   "metadata": {},
   "source": [
    "### Putamen - MD\n",
    "> I created the masks by resampling the masks I made for the fMRI (based on the Harvard-Oxford atlas)"
   ]
  },
  {
   "cell_type": "markdown",
   "metadata": {},
   "source": [
    "randomise_parallel -i ALL_SUBJECTS_BEFORE_minus_AFTER_MD.nii.gz -o BEFORE_minus_AFTER_MD_Putamen -m /export2/DATA/HIS/HIS_server/DTI_assitance_files/masks/Harvard-Oxford/Putamen-mask.nii.gz -d ../models/between_groups/design_unpaired_ttest.mat -t ../models/between_groups/design_unpaired_ttest.con -n 6000 -C 3.1"
   ]
  },
  {
   "cell_type": "markdown",
   "metadata": {},
   "source": [
    "* After running has been completed:\n",
    "\n",
    "* This will tell us if there is reduction in MD in the 1-day compared with the 3-days.\n",
    "\n",
    "cluster -i BEFORE_minus_AFTER_MD_Putamen_clusterm_corrp_tstat1.nii.gz -t 0.95 -c BEFORE_minus_AFTER_MD_Putamen_tstat1.nii.gz --scalarname=\"1-p\" > BEFORE_minus_AFTER_MD_Putamen_cluster_corrp1.txt\n",
    "\n",
    "cat BEFORE_minus_AFTER_MD_Putamen_cluster_corrp1.txt\n",
    "\n",
    "\n",
    "* [IMPORTANT] This will tell us if there is reduction in MD in the 3-day compared with the 1-days:\n",
    "\n",
    "cluster -i BEFORE_minus_AFTER_MD_Putamen_clusterm_corrp_tstat2.nii.gz -t 0.95 -c BEFORE_minus_AFTER_MD_Putamen_tstat2.nii.gz --scalarname=\"1-p\" > BEFORE_minus_AFTER_MD_Putamen_cluster_corrp2.txt\n",
    "\n",
    "cat BEFORE_minus_AFTER_MD_Putamen_cluster_corrp2.txt\n"
   ]
  },
  {
   "cell_type": "markdown",
   "metadata": {},
   "source": [
    ">>>>> NOTHING"
   ]
  },
  {
   "cell_type": "markdown",
   "metadata": {},
   "source": [
    "### Caudate - MD"
   ]
  },
  {
   "cell_type": "markdown",
   "metadata": {},
   "source": [
    "randomise_parallel -i ALL_SUBJECTS_BEFORE_minus_AFTER_MD.nii.gz -o BEFORE_minus_AFTER_MD_Caudate -m /export2/DATA/HIS/HIS_server/DTI_assitance_files/masks/Harvard-Oxford/CaudateHead_Y-larger-than-1-mask.nii.gz -d ../models/between_groups/design_unpaired_ttest.mat -t ../models/between_groups/design_unpaired_ttest.con -n 6000 -C 3.1"
   ]
  },
  {
   "cell_type": "markdown",
   "metadata": {},
   "source": [
    "* After running has been completed:\n",
    "\n",
    "* This will tell us if there is increase in FA in the 1-day compared with the 3-days.\n",
    "\n",
    "cluster -i BEFORE_minus_AFTER_MD_Caudate_clusterm_corrp_tstat1.nii.gz -t 0.90 -c BEFORE_minus_AFTER_MD_Caudate_tstat1.nii.gz --scalarname=\"1-p\" > BEFORE_minus_AFTER_MD_Caudate_cluster_corrp1.txt\n",
    "\n",
    "\n",
    "* [IMPORTANT] This will tell us if there is an increase in FA in the 3-day compared with the 1-days:\n",
    "\n",
    "cluster -i BEFORE_minus_AFTER_MD_Caudate_clusterm_corrp_tstat2.nii.gz -t 0.90 -c BEFORE_minus_AFTER_MD_Caudate_tstat2.nii.gz --scalarname=\"1-p\" > BEFORE_minus_AFTER_MD_Caudate_cluster_corrp2.txt"
   ]
  },
  {
   "cell_type": "markdown",
   "metadata": {},
   "source": [
    ">>>>> There is a signficant increase cluster in the Head of Caudate meaning more reduction in the 1-day group(!) or decrease in the 3-days. Maybe again there is something temporary!\n",
    "* I need to check what drives this"
   ]
  },
  {
   "cell_type": "markdown",
   "metadata": {},
   "source": [
    "### vmPFC - MD"
   ]
  },
  {
   "cell_type": "markdown",
   "metadata": {},
   "source": [
    "randomise_parallel -i ALL_SUBJECTS_BEFORE_minus_AFTER_MD.nii.gz -o BEFORE_minus_AFTER_MD_vmPFC -m /export2/DATA/HIS/HIS_server/DTI_assitance_files/masks/Harvard-Oxford/vmPFC-mask.nii.gz -d ../models/between_groups/design_unpaired_ttest.mat -t ../models/between_groups/design_unpaired_ttest.con -n 6000 -C 3.1"
   ]
  },
  {
   "cell_type": "markdown",
   "metadata": {},
   "source": [
    "* After running has been completed:\n",
    "\n",
    "* This will tell us if there is increase in FA in the 1-day compared with the 3-days.\n",
    "\n",
    "cluster -i BEFORE_minus_AFTER_MD_vmPFC_clusterm_corrp_tstat1.nii.gz -t 0.90 -c BEFORE_minus_AFTER_MD_vmPFC_tstat1.nii.gz --scalarname=\"1-p\" > BEFORE_minus_AFTER_MDA_vmPFC_cluster_corrp1.txt\n",
    "\n",
    "\n",
    "* [IMPORTANT] This will tell us if there is an increase in FA in the 3-day compared with the 1-days:\n",
    "\n",
    "cluster -i BEFORE_minus_AFTER_MD_vmPFC_clusterm_corrp_tstat2.nii.gz -t 0.90 -c BEFORE_minus_AFTER_MD_vmPFC_tstat2.nii.gz --scalarname=\"1-p\" > BEFORE_minus_AFTER_MD_vmPFC_cluster_corrp2.txt"
   ]
  },
  {
   "cell_type": "markdown",
   "metadata": {},
   "source": [
    ">>>>> There is a signficant increase cluster in the BILATERAL vmPFC (mainly in the ACC) meaning more reduction in the 1-day group(!) or decrease in the 3-days. Maybe again there is something temporary!\n",
    "* I need to check what drives this"
   ]
  },
  {
   "cell_type": "markdown",
   "metadata": {},
   "source": [
    "# *-*-*-*-*-*-*-*-*-*-*-*-*-*-*-*-*-*-*-*-*-*-*-*-*-*"
   ]
  },
  {
   "cell_type": "markdown",
   "metadata": {},
   "source": [
    "# Statistics - individual differences"
   ]
  },
  {
   "cell_type": "markdown",
   "metadata": {},
   "source": [
    "### Create the habit index csv file (by running a dedicated matlab folder)\n"
   ]
  },
  {
   "cell_type": "code",
   "execution_count": 69,
   "metadata": {},
   "outputs": [
    {
     "name": "stdout",
     "output_type": "stream",
     "text": [
      "MATLAB is selecting SOFTWARE OPENGL rendering.\n",
      "\u001b[?1h\u001b=\n",
      "                            < M A T L A B (R) >\n",
      "                  Copyright 1984-2020 The MathWorks, Inc.\n",
      "                  R2020a (9.8.0.1323502) 64-bit (glnxa64)\n",
      "                             February 25, 2020\n",
      "\n",
      " \n",
      "To get started, type doc.\n",
      "For product information, visit www.mathworks.com.\n",
      " \n",
      "** CREATED new habit index file **\n",
      "\u001b[?1l\u001b>"
     ]
    }
   ],
   "source": [
    "# Create the habit index csv file (by running a dedicated matlab folder)\n",
    "!matlab -nodesktop -nosplash -r \"run('/export2/DATA/HIS/HIS_server/codes/create_HABIT_INDEX_table')\";"
   ]
  },
  {
   "cell_type": "markdown",
   "metadata": {},
   "source": [
    "### Prepare and arrange the behavioral data and DTI folder data for all together and for each group seperately"
   ]
  },
  {
   "cell_type": "code",
   "execution_count": 9,
   "metadata": {},
   "outputs": [],
   "source": [
    "# First, create subjects list folder for each group:\n",
    "subjFoldersDTI_short = [sub for sub in subjFoldersDTI if int(sub.split('-')[-1])<200]\n",
    "subjFoldersDTI_long = [sub for sub in subjFoldersDTI if int(sub.split('-')[-1])>200]\n",
    "\n",
    "# Get the behavioral data:\n",
    "behav_all = pd.read_csv(os.path.join(behav_data_path, 'habitIndex_ALL.csv'))\n",
    "# remove subjects that don't have DTI data\n",
    "absent_from_DTI_data = [sub for sub in behav_all.subID if 'sub-' + str(sub) not in subjFoldersDTI]\n",
    "behav_all = behav_all[~behav_all.subID.isin(absent_from_DTI_data)]\n",
    "# now make sure that subject lists are matching:\n",
    "if not ['sub-' + str(sub) for sub in behav_all.subID] == subjFoldersDTI:\n",
    "    raise Exception('Subject lists are not matching')\n",
    "\n",
    "# Repeat for the long training groups:\n",
    "behav_long = pd.read_csv(os.path.join(behav_data_path, 'habitIndex_LONG.csv'))\n",
    "# remove subjects that don't have DTI data\n",
    "absent_from_DTI_data = [sub for sub in behav_long.subID if 'sub-' + str(sub) not in subjFoldersDTI_long]\n",
    "behav_long = behav_long[~behav_long.subID.isin(absent_from_DTI_data)]\n",
    "# now make sure that subject lists are matching:\n",
    "if not ['sub-' + str(sub) for sub in behav_long.subID] == subjFoldersDTI_long:\n",
    "    raise Exception('Subject lists are not matching')\n",
    "    \n",
    "# Repeat for the short training groups:\n",
    "behav_short = pd.read_csv(os.path.join(behav_data_path, 'habitIndex_SHORT.csv'))\n",
    "# remove subjects that don't have DTI data\n",
    "absent_from_DTI_data = [sub for sub in behav_short.subID if 'sub-' + str(sub) not in subjFoldersDTI_short]\n",
    "behav_short = behav_short[~behav_short.subID.isin(absent_from_DTI_data)]\n",
    "# now make sure that subject lists are matching:\n",
    "if not ['sub-' + str(sub) for sub in behav_short.subID] == subjFoldersDTI_short:\n",
    "    raise Exception('Subject lists are not matching')\n",
    "\n"
   ]
  },
  {
   "cell_type": "markdown",
   "metadata": {},
   "source": [
    "### prepare the design matrix"
   ]
  },
  {
   "cell_type": "code",
   "execution_count": 10,
   "metadata": {},
   "outputs": [
    {
     "name": "stdout",
     "output_type": "stream",
     "text": [
      "> Create the individual differences design matrix\n",
      "Text2Vest /export2/DATA/HIS/HIS_server/analysis/dwi_data/stats/models/individual_differences/design_indivdual_diff_LONG_temp.mat /export2/DATA/HIS/HIS_server/analysis/dwi_data/stats/models/individual_differences/design_indivdual_diff_LONG.mat\n",
      "Text2Vest /export2/DATA/HIS/HIS_server/analysis/dwi_data/stats/models/individual_differences/design_indivdual_diff_SHORT_temp.mat /export2/DATA/HIS/HIS_server/analysis/dwi_data/stats/models/individual_differences/design_indivdual_diff_SHORT.mat\n",
      "Text2Vest /export2/DATA/HIS/HIS_server/analysis/dwi_data/stats/models/individual_differences/design_indivdual_diff_temp.mat /export2/DATA/HIS/HIS_server/analysis/dwi_data/stats/models/individual_differences/design_indivdual_diff.con\n"
     ]
    }
   ],
   "source": [
    "print('> Create the individual differences design matrix')\n",
    "# define file names:\n",
    "design_indiv_diff_LONG = os.path.join(models_path, 'individual_differences', 'design_indivdual_diff_LONG.mat')\n",
    "design_indiv_diff_SHORT = os.path.join(models_path, 'individual_differences', 'design_indivdual_diff_SHORT.mat')\n",
    "contrasts_indiv_diff = os.path.join(models_path, 'individual_differences', 'design_indivdual_diff.con')\n",
    "\n",
    "# create the folder\n",
    "try:\n",
    "    os.makedirs(os.path.join(models_path, 'individual_differences'), exist_ok=False)\n",
    "    print('>> Created folder: ' + os.path.join(models_path, 'individual_differences'))\n",
    "except:\n",
    "    pass\n",
    "\n",
    "# write the design matrix files:\n",
    "behav_long.habit_index_mean_centered.to_csv(f\"{design_indiv_diff_LONG.split('.')[0]}_temp.mat\", index=False, header=False)\n",
    "behav_short.habit_index_mean_centered.to_csv(f\"{design_indiv_diff_SHORT.split('.')[0]}_temp.mat\", index=False, header=False)\n",
    "\n",
    "# write the contrast file:\n",
    "with open(f\"{contrasts_indiv_diff.split('.')[0]}_temp.mat\", 'w') as f:\n",
    "    f.write('1\\n-1\\n')\n",
    "\n",
    "# use the fsl command Text2Vect to make the design files good for randomise:\n",
    "print(f\"Text2Vest {design_indiv_diff_LONG.split('.')[0]}_temp.mat {design_indiv_diff_LONG}\")\n",
    "os.system(f\"Text2Vest {design_indiv_diff_LONG.split('.')[0]}_temp.mat {design_indiv_diff_LONG}\")\n",
    "print(f\"Text2Vest {design_indiv_diff_SHORT.split('.')[0]}_temp.mat {design_indiv_diff_SHORT}\")\n",
    "os.system(f\"Text2Vest {design_indiv_diff_SHORT.split('.')[0]}_temp.mat {design_indiv_diff_SHORT}\")\n",
    "print(f\"Text2Vest {contrasts_indiv_diff.split('.')[0]}_temp.mat {contrasts_indiv_diff}\")\n",
    "os.system(f\"Text2Vest {contrasts_indiv_diff.split('.')[0]}_temp.mat {contrasts_indiv_diff}\")\n",
    "\n",
    "# finally, remove the temporary files:\n",
    "os.remove(f\"{design_indiv_diff_LONG.split('.')[0]}_temp.mat\")\n",
    "os.remove(f\"{design_indiv_diff_SHORT.split('.')[0]}_temp.mat\")\n",
    "os.remove(f\"{contrasts_indiv_diff.split('.')[0]}_temp.mat\")"
   ]
  },
  {
   "cell_type": "markdown",
   "metadata": {},
   "source": [
    "### Create one file with each group's participants together"
   ]
  },
  {
   "cell_type": "code",
   "execution_count": null,
   "metadata": {},
   "outputs": [],
   "source": [
    "for map_type in ['MD','FA']:          \n",
    "    print(f\"fslmerge -t {os.path.join(stats_path, map_type, f'LONG_individualDiff_AFTER_minus_BEFORE_{map_type}')} {' '.join([os.path.join(stats_path, map_type, f'{sub}_in-MNI_{map_type}_AFTER-minus-BEFORE.nii.gz') for sub in subjFoldersDTI_long])}\")\n",
    "    os.system(f\"fslmerge -t {os.path.join(stats_path, map_type, f'LONG_individualDiff_AFTER_minus_BEFORE_{map_type}')} {' '.join([os.path.join(stats_path, map_type, f'{sub}_in-MNI_{map_type}_AFTER-minus-BEFORE.nii.gz') for sub in subjFoldersDTI_long])}\")\n",
    "\n",
    "    print(f\"fslmerge -t {os.path.join(stats_path, map_type, f'SHORT_individualDiff_AFTER_minus_BEFORE_{map_type}')} {' '.join([os.path.join(stats_path, map_type, f'{sub}_in-MNI_{map_type}_AFTER-minus-BEFORE.nii.gz') for sub in subjFoldersDTI_short])}\")\n",
    "    os.system(f\"fslmerge -t {os.path.join(stats_path, map_type, f'SHORT_individualDiff_AFTER_minus_BEFORE_{map_type}')} {' '.join([os.path.join(stats_path, map_type, f'{sub}_in-MNI_{map_type}_AFTER-minus-BEFORE.nii.gz') for sub in subjFoldersDTI_short])}\")\n",
    "\n",
    "    print(f\"fslmerge -t {os.path.join(stats_path, map_type, f'LONG_individualDiff_BEFORE_minus_AFTER_{map_type}')} {' '.join([os.path.join(stats_path, map_type, f'{sub}_in-MNI_{map_type}_BEFORE-minus-AFTER.nii.gz') for sub in subjFoldersDTI_long])}\")\n",
    "    os.system(f\"fslmerge -t {os.path.join(stats_path, map_type, f'LONG_individualDiff_BEFORE_minus_AFTER_{map_type}')} {' '.join([os.path.join(stats_path, map_type, f'{sub}_in-MNI_{map_type}_BEFORE-minus-AFTER.nii.gz') for sub in subjFoldersDTI_long])}\")\n",
    "\n",
    "    print(f\"fslmerge -t {os.path.join(stats_path, map_type, f'SHORT_individualDiff_BEFORE_minus_AFTER_{map_type}')} {' '.join([os.path.join(stats_path, map_type, f'{sub}_in-MNI_{map_type}_BEFORE-minus-AFTER.nii.gz') for sub in subjFoldersDTI_short])}\")\n",
    "    os.system(f\"fslmerge -t {os.path.join(stats_path, map_type, f'SHORT_individualDiff_BEFORE_minus_AFTER_{map_type}')} {' '.join([os.path.join(stats_path, map_type, f'{sub}_in-MNI_{map_type}_BEFORE-minus-AFTER.nii.gz') for sub in subjFoldersDTI_short])}\")\n"
   ]
  },
  {
   "cell_type": "markdown",
   "metadata": {},
   "source": [
    "### Settings"
   ]
  },
  {
   "cell_type": "code",
   "execution_count": 28,
   "metadata": {},
   "outputs": [],
   "source": [
    "# a function to run randomise for the individual differences analyses:\n",
    "def runRandomiseIndividualDiffs(group, map_type, region):\n",
    "    print(f'Running randomise for individual differences:\\n--- {group} training group | {map_type} | {region} ---\\n')\n",
    "    print(f'MAKE SURE TO REPLACE IN THE FUNCTION THE the print to os.system before running the command !!!\\n')\n",
    "    print(f\"randomise_parallel \\\n",
    "        -i {os.path.join(stats_path, map_type, f'{group}_individualDiff_AFTER_minus_BEFORE_{map_type}')} \\\n",
    "        -o {os.path.join(stats_path, map_type, f'{group}_individualDiff_AFTER_minus_BEFORE_{map_type}_{region}')} \\\n",
    "        {'' if region=='whole_brain' else f'-m {masks_paths[region]}'} \\\n",
    "        -d {os.path.join(stats_path, 'models', 'individual_differences', f'design_indivdual_diff_{group}.mat')} \\\n",
    "        -t {os.path.join(stats_path, 'models', 'individual_differences', 'design_indivdual_diff.con')}  \\\n",
    "        -n 6000 -C 3.1 -D\")"
   ]
  },
  {
   "cell_type": "markdown",
   "metadata": {},
   "source": [
    "## SHORT TRAINING"
   ]
  },
  {
   "cell_type": "code",
   "execution_count": 29,
   "metadata": {},
   "outputs": [],
   "source": [
    "group = 'SHORT'"
   ]
  },
  {
   "cell_type": "markdown",
   "metadata": {},
   "source": [
    "### Whole brain - FA"
   ]
  },
  {
   "cell_type": "code",
   "execution_count": 30,
   "metadata": {},
   "outputs": [],
   "source": [
    "map_type='FA'\n",
    "region='whole_brain'"
   ]
  },
  {
   "cell_type": "code",
   "execution_count": null,
   "metadata": {},
   "outputs": [],
   "source": [
    "runRandomiseIndividualDiffs(group, map_type, region)"
   ]
  },
  {
   "cell_type": "code",
   "execution_count": null,
   "metadata": {},
   "outputs": [],
   "source": [
    "# Get cluster info:\n",
    "\n",
    "# Test for A POSITIVE relationship between increase in FA and goal-directedness (and vice-versa)\n",
    "print('Test for POSITIVE relationship between increase in FA and goal-directedness')\n",
    "print(os.popen(f'cluster \\\n",
    "    -i {os.path.join(stats_path, map_type, f\"{group}_individualDiff_AFTER_minus_BEFORE_{map_type}_{region}_clusterm_corrp_tstat1.nii.gz\")} \\\n",
    "    -c {os.path.join(stats_path, map_type, f\"{group}_individualDiff_AFTER_minus_BEFORE_{map_type}_{region}_tstat1.nii.gz\")}\\\n",
    "    -t 0.90 \\\n",
    "    --scalarname=corrp' + '\"1-p\"').read())\n",
    "\n",
    "print('Test for NEGATIVE relationship between increase in FA and goal-directedness')\n",
    "print(os.popen(f'cluster \\\n",
    "    -i {os.path.join(stats_path, map_type, f\"{group}_individualDiff_AFTER_minus_BEFORE_{map_type}_{region}_clusterm_corrp_tstat2.nii.gz\")} \\\n",
    "    -c {os.path.join(stats_path, map_type, f\"{group}_individualDiff_AFTER_minus_BEFORE_{map_type}_{region}_tstat2.nii.gz\")}\\\n",
    "    -t 0.90 \\\n",
    "    --scalarname=corrp' + '\"1-p\"').read())\n"
   ]
  },
  {
   "cell_type": "markdown",
   "metadata": {},
   "source": [
    ">>>>> RESULT:"
   ]
  },
  {
   "cell_type": "markdown",
   "metadata": {},
   "source": [
    "### Putamen - FA"
   ]
  },
  {
   "cell_type": "code",
   "execution_count": null,
   "metadata": {},
   "outputs": [],
   "source": [
    "region='Putamen'"
   ]
  },
  {
   "cell_type": "code",
   "execution_count": null,
   "metadata": {},
   "outputs": [],
   "source": [
    "runRandomiseIndividualDiffs(group, map_type, region)"
   ]
  },
  {
   "cell_type": "code",
   "execution_count": null,
   "metadata": {},
   "outputs": [],
   "source": [
    "# Get cluster info:\n",
    "\n",
    "# Test for A POSITIVE relationship between increase in FA and goal-directedness (and vice-versa)\n",
    "print('Test for POSITIVE relationship between increase in FA and goal-directedness')\n",
    "print(os.popen(f'cluster \\\n",
    "    -i {os.path.join(stats_path, map_type, f\"{group}_individualDiff_AFTER_minus_BEFORE_{map_type}_{region}_clusterm_corrp_tstat1.nii.gz\")} \\\n",
    "    -c {os.path.join(stats_path, map_type, f\"{group}_individualDiff_AFTER_minus_BEFORE_{map_type}_{region}_tstat1.nii.gz\")}\\\n",
    "    -t 0.90 \\\n",
    "    --scalarname=corrp' + '\"1-p\"').read())\n",
    "\n",
    "print('Test for NEGATIVE relationship between increase in FA and goal-directedness')\n",
    "print(os.popen(f'cluster \\\n",
    "    -i {os.path.join(stats_path, map_type, f\"{group}_individualDiff_AFTER_minus_BEFORE_{map_type}_{region}_clusterm_corrp_tstat2.nii.gz\")} \\\n",
    "    -c {os.path.join(stats_path, map_type, f\"{group}_individualDiff_AFTER_minus_BEFORE_{map_type}_{region}_tstat2.nii.gz\")}\\\n",
    "    -t 0.90 \\\n",
    "    --scalarname=corrp' + '\"1-p\"').read())\n"
   ]
  },
  {
   "cell_type": "markdown",
   "metadata": {},
   "source": [
    ">>>>> RESULT"
   ]
  },
  {
   "cell_type": "markdown",
   "metadata": {},
   "source": [
    "### Caudate - FA"
   ]
  },
  {
   "cell_type": "code",
   "execution_count": 20,
   "metadata": {},
   "outputs": [],
   "source": [
    "region='Caudate'"
   ]
  },
  {
   "cell_type": "code",
   "execution_count": null,
   "metadata": {},
   "outputs": [],
   "source": [
    "runRandomiseIndividualDiffs(group, map_type, region)"
   ]
  },
  {
   "cell_type": "code",
   "execution_count": null,
   "metadata": {},
   "outputs": [],
   "source": [
    "# Get cluster info:\n",
    "\n",
    "# Test for A POSITIVE relationship between increase in FA and goal-directedness (and vice-versa)\n",
    "print('Test for POSITIVE relationship between increase in FA and goal-directedness')\n",
    "print(os.popen(f'cluster \\\n",
    "    -i {os.path.join(stats_path, map_type, f\"{group}_individualDiff_AFTER_minus_BEFORE_{map_type}_{region}_clusterm_corrp_tstat1.nii.gz\")} \\\n",
    "    -c {os.path.join(stats_path, map_type, f\"{group}_individualDiff_AFTER_minus_BEFORE_{map_type}_{region}_tstat1.nii.gz\")}\\\n",
    "    -t 0.90 \\\n",
    "    --scalarname=corrp' + '\"1-p\"').read())\n",
    "\n",
    "print('Test for NEGATIVE relationship between increase in FA and goal-directedness')\n",
    "print(os.popen(f'cluster \\\n",
    "    -i {os.path.join(stats_path, map_type, f\"{group}_individualDiff_AFTER_minus_BEFORE_{map_type}_{region}_clusterm_corrp_tstat2.nii.gz\")} \\\n",
    "    -c {os.path.join(stats_path, map_type, f\"{group}_individualDiff_AFTER_minus_BEFORE_{map_type}_{region}_tstat2.nii.gz\")}\\\n",
    "    -t 0.90 \\\n",
    "    --scalarname=corrp' + '\"1-p\"').read())\n"
   ]
  },
  {
   "cell_type": "markdown",
   "metadata": {},
   "source": [
    ">>>>> RESULTS:"
   ]
  },
  {
   "cell_type": "markdown",
   "metadata": {},
   "source": [
    "### vmPFC - FA"
   ]
  },
  {
   "cell_type": "code",
   "execution_count": 42,
   "metadata": {},
   "outputs": [],
   "source": [
    "region='vmPFC'"
   ]
  },
  {
   "cell_type": "code",
   "execution_count": null,
   "metadata": {},
   "outputs": [],
   "source": [
    "runRandomiseIndividualDiffs(group, map_type, region)"
   ]
  },
  {
   "cell_type": "code",
   "execution_count": null,
   "metadata": {},
   "outputs": [],
   "source": [
    "# Get cluster info:\n",
    "\n",
    "# Test for A POSITIVE relationship between increase in FA and goal-directedness (and vice-versa)\n",
    "print('Test for POSITIVE relationship between increase in FA and goal-directedness')\n",
    "print(os.popen(f'cluster \\\n",
    "    -i {os.path.join(stats_path, map_type, f\"{group}_individualDiff_AFTER_minus_BEFORE_{map_type}_{region}_clusterm_corrp_tstat1.nii.gz\")} \\\n",
    "    -c {os.path.join(stats_path, map_type, f\"{group}_individualDiff_AFTER_minus_BEFORE_{map_type}_{region}_tstat1.nii.gz\")}\\\n",
    "    -t 0.90 \\\n",
    "    --scalarname=corrp' + '\"1-p\"').read())\n",
    "\n",
    "print('Test for NEGATIVE relationship between increase in FA and goal-directedness')\n",
    "print(os.popen(f'cluster \\\n",
    "    -i {os.path.join(stats_path, map_type, f\"{group}_individualDiff_AFTER_minus_BEFORE_{map_type}_{region}_clusterm_corrp_tstat2.nii.gz\")} \\\n",
    "    -c {os.path.join(stats_path, map_type, f\"{group}_individualDiff_AFTER_minus_BEFORE_{map_type}_{region}_tstat2.nii.gz\")}\\\n",
    "    -t 0.90 \\\n",
    "    --scalarname=corrp' + '\"1-p\"').read())\n"
   ]
  },
  {
   "cell_type": "markdown",
   "metadata": {},
   "source": [
    ">>>>> RESULTS:"
   ]
  },
  {
   "cell_type": "markdown",
   "metadata": {},
   "source": [
    "## LONG TRAINING"
   ]
  },
  {
   "cell_type": "code",
   "execution_count": 45,
   "metadata": {},
   "outputs": [],
   "source": [
    "group = 'LONG'"
   ]
  },
  {
   "cell_type": "markdown",
   "metadata": {},
   "source": [
    "### Whole brain - MD"
   ]
  },
  {
   "cell_type": "code",
   "execution_count": 46,
   "metadata": {},
   "outputs": [],
   "source": [
    "map_type='MD'\n",
    "region='whole_brain'"
   ]
  },
  {
   "cell_type": "code",
   "execution_count": null,
   "metadata": {},
   "outputs": [],
   "source": [
    "runRandomiseIndividualDiffs(group, map_type, region)"
   ]
  },
  {
   "cell_type": "code",
   "execution_count": null,
   "metadata": {},
   "outputs": [],
   "source": [
    "# Get cluster info:\n",
    "\n",
    "# Test for A POSITIVE relationship between increase in FA and goal-directedness (and vice-versa)\n",
    "print('Test for POSITIVE relationship between increase in FA and goal-directedness')\n",
    "print(os.popen(f'cluster \\\n",
    "    -i {os.path.join(stats_path, map_type, f\"{group}_individualDiff_AFTER_minus_BEFORE_{map_type}_{region}_clusterm_corrp_tstat1.nii.gz\")} \\\n",
    "    -c {os.path.join(stats_path, map_type, f\"{group}_individualDiff_AFTER_minus_BEFORE_{map_type}_{region}_tstat1.nii.gz\")}\\\n",
    "    -t 0.90 \\\n",
    "    --scalarname=corrp' + '\"1-p\"').read())\n",
    "\n",
    "print('Test for NEGATIVE relationship between increase in FA and goal-directedness')\n",
    "print(os.popen(f'cluster \\\n",
    "    -i {os.path.join(stats_path, map_type, f\"{group}_individualDiff_AFTER_minus_BEFORE_{map_type}_{region}_clusterm_corrp_tstat2.nii.gz\")} \\\n",
    "    -c {os.path.join(stats_path, map_type, f\"{group}_individualDiff_AFTER_minus_BEFORE_{map_type}_{region}_tstat2.nii.gz\")}\\\n",
    "    -t 0.90 \\\n",
    "    --scalarname=corrp' + '\"1-p\"').read())\n"
   ]
  },
  {
   "cell_type": "markdown",
   "metadata": {},
   "source": [
    ">>>>> RESULT:"
   ]
  },
  {
   "cell_type": "markdown",
   "metadata": {},
   "source": [
    "### Putamen - MA"
   ]
  },
  {
   "cell_type": "code",
   "execution_count": null,
   "metadata": {},
   "outputs": [],
   "source": [
    "region='Putamen'"
   ]
  },
  {
   "cell_type": "code",
   "execution_count": null,
   "metadata": {},
   "outputs": [],
   "source": [
    "runRandomiseIndividualDiffs(group, map_type, region)"
   ]
  },
  {
   "cell_type": "code",
   "execution_count": null,
   "metadata": {},
   "outputs": [],
   "source": [
    "# Get cluster info:\n",
    "\n",
    "# Test for A POSITIVE relationship between increase in FA and goal-directedness (and vice-versa)\n",
    "print('Test for POSITIVE relationship between increase in FA and goal-directedness')\n",
    "print(os.popen(f'cluster \\\n",
    "    -i {os.path.join(stats_path, map_type, f\"{group}_individualDiff_AFTER_minus_BEFORE_{map_type}_{region}_clusterm_corrp_tstat1.nii.gz\")} \\\n",
    "    -c {os.path.join(stats_path, map_type, f\"{group}_individualDiff_AFTER_minus_BEFORE_{map_type}_{region}_tstat1.nii.gz\")}\\\n",
    "    -t 0.90 \\\n",
    "    --scalarname=corrp' + '\"1-p\"').read())\n",
    "\n",
    "print('Test for NEGATIVE relationship between increase in FA and goal-directedness')\n",
    "print(os.popen(f'cluster \\\n",
    "    -i {os.path.join(stats_path, map_type, f\"{group}_individualDiff_AFTER_minus_BEFORE_{map_type}_{region}_clusterm_corrp_tstat2.nii.gz\")} \\\n",
    "    -c {os.path.join(stats_path, map_type, f\"{group}_individualDiff_AFTER_minus_BEFORE_{map_type}_{region}_tstat2.nii.gz\")}\\\n",
    "    -t 0.90 \\\n",
    "    --scalarname=corrp' + '\"1-p\"').read())\n"
   ]
  },
  {
   "cell_type": "markdown",
   "metadata": {},
   "source": [
    ">>>>> RESULT"
   ]
  },
  {
   "cell_type": "markdown",
   "metadata": {},
   "source": [
    "### Caudate - MD"
   ]
  },
  {
   "cell_type": "code",
   "execution_count": null,
   "metadata": {},
   "outputs": [],
   "source": [
    "region='Caudate'"
   ]
  },
  {
   "cell_type": "code",
   "execution_count": null,
   "metadata": {},
   "outputs": [],
   "source": [
    "runRandomiseIndividualDiffs(group, map_type, region)"
   ]
  },
  {
   "cell_type": "code",
   "execution_count": null,
   "metadata": {},
   "outputs": [],
   "source": [
    "# Get cluster info:\n",
    "\n",
    "# Test for A POSITIVE relationship between increase in FA and goal-directedness (and vice-versa)\n",
    "print('Test for POSITIVE relationship between increase in FA and goal-directedness')\n",
    "print(os.popen(f'cluster \\\n",
    "    -i {os.path.join(stats_path, map_type, f\"{group}_individualDiff_AFTER_minus_BEFORE_{map_type}_{region}_clusterm_corrp_tstat1.nii.gz\")} \\\n",
    "    -c {os.path.join(stats_path, map_type, f\"{group}_individualDiff_AFTER_minus_BEFORE_{map_type}_{region}_tstat1.nii.gz\")}\\\n",
    "    -t 0.90 \\\n",
    "    --scalarname=corrp' + '\"1-p\"').read())\n",
    "\n",
    "print('Test for NEGATIVE relationship between increase in FA and goal-directedness')\n",
    "print(os.popen(f'cluster \\\n",
    "    -i {os.path.join(stats_path, map_type, f\"{group}_individualDiff_AFTER_minus_BEFORE_{map_type}_{region}_clusterm_corrp_tstat2.nii.gz\")} \\\n",
    "    -c {os.path.join(stats_path, map_type, f\"{group}_individualDiff_AFTER_minus_BEFORE_{map_type}_{region}_tstat2.nii.gz\")}\\\n",
    "    -t 0.90 \\\n",
    "    --scalarname=corrp' + '\"1-p\"').read())\n"
   ]
  },
  {
   "cell_type": "markdown",
   "metadata": {},
   "source": [
    ">>>>> RESULTS:"
   ]
  },
  {
   "cell_type": "markdown",
   "metadata": {},
   "source": [
    "### vmPFC - MD"
   ]
  },
  {
   "cell_type": "code",
   "execution_count": null,
   "metadata": {},
   "outputs": [],
   "source": [
    "region='vmPFC'"
   ]
  },
  {
   "cell_type": "code",
   "execution_count": null,
   "metadata": {},
   "outputs": [],
   "source": [
    "runRandomiseIndividualDiffs(group, map_type, region)"
   ]
  },
  {
   "cell_type": "code",
   "execution_count": null,
   "metadata": {},
   "outputs": [],
   "source": [
    "# Get cluster info:\n",
    "\n",
    "# Test for A POSITIVE relationship between increase in FA and goal-directedness (and vice-versa)\n",
    "print('Test for POSITIVE relationship between increase in FA and goal-directedness')\n",
    "print(os.popen(f'cluster \\\n",
    "    -i {os.path.join(stats_path, map_type, f\"{group}_individualDiff_AFTER_minus_BEFORE_{map_type}_{region}_clusterm_corrp_tstat1.nii.gz\")} \\\n",
    "    -c {os.path.join(stats_path, map_type, f\"{group}_individualDiff_AFTER_minus_BEFORE_{map_type}_{region}_tstat1.nii.gz\")}\\\n",
    "    -t 0.90 \\\n",
    "    --scalarname=corrp' + '\"1-p\"').read())\n",
    "\n",
    "print('Test for NEGATIVE relationship between increase in FA and goal-directedness')\n",
    "print(os.popen(f'cluster \\\n",
    "    -i {os.path.join(stats_path, map_type, f\"{group}_individualDiff_AFTER_minus_BEFORE_{map_type}_{region}_clusterm_corrp_tstat2.nii.gz\")} \\\n",
    "    -c {os.path.join(stats_path, map_type, f\"{group}_individualDiff_AFTER_minus_BEFORE_{map_type}_{region}_tstat2.nii.gz\")}\\\n",
    "    -t 0.90 \\\n",
    "    --scalarname=corrp' + '\"1-p\"').read())\n"
   ]
  },
  {
   "cell_type": "markdown",
   "metadata": {},
   "source": [
    ">>>>> RESULTS:"
   ]
  },
  {
   "cell_type": "markdown",
   "metadata": {},
   "source": [
    "# *-*-*-*-*-*-*-*-*-*-*-*-*-*-*-*-*-*-*-*-*-*-*-*-*-*"
   ]
  },
  {
   "cell_type": "markdown",
   "metadata": {},
   "source": [
    "# Statistics - Exploratory SUBGROUPS analysis (subgroups of habitual and goal-directed participants are inferred based on the behavioral measure)"
   ]
  },
  {
   "cell_type": "markdown",
   "metadata": {},
   "source": [
    "### Prepare and arrange the behavioral data and the corresponding DTI folders data variables"
   ]
  },
  {
   "cell_type": "code",
   "execution_count": 91,
   "metadata": {},
   "outputs": [],
   "source": [
    "# First, create subjects list folder for each group:\n",
    "subjFoldersDTI_short = [sub for sub in subjFoldersDTI if int(sub.split('-')[-1])<200]\n",
    "subjFoldersDTI_long = [sub for sub in subjFoldersDTI if int(sub.split('-')[-1])>200]\n",
    "\n",
    "# Get the behavioral data:\n",
    "behav_clustered_all = pd.read_csv(os.path.join(behav_data_path, 'clustered_sub_groups.csv'))\n",
    "# remove subjects that don't have DTI data\n",
    "absent_from_DTI_data2 = [sub for sub in behav_clustered_all.ID if 'sub-' + str(sub) not in subjFoldersDTI]\n",
    "behav_clustered_all = behav_clustered_all[~behav_clustered_all.ID.isin(absent_from_DTI_data2)]\n",
    "# now make sure that subject lists are matching:\n",
    "if not ['sub-' + str(sub) for sub in behav_clustered_all.ID] == subjFoldersDTI:\n",
    "    raise Exception('Subject lists are not matching')\n",
    "    #pass # for debugging\n",
    "\n",
    "# create variables foreach group seperately and for the subgroups seperately:\n",
    "behav_clustered_short = behav_clustered_all[behav_clustered_all.ID < 200]\n",
    "behav_clustered_long = behav_clustered_all[behav_clustered_all.ID > 200]\n",
    "behav_clustered_goal_directed = behav_clustered_all[behav_clustered_all.Cluster == 'Outcome-sensitive']\n",
    "behav_clustered_habitual = behav_clustered_all[behav_clustered_all.Cluster == 'Outcome-insensitive']\n",
    "\n",
    "# sort the data according to the subgroups and create matching lists for the DTI data:\n",
    "behav_clustered_short = behav_clustered_short.sort_values(by=['Cluster', 'ID'])\n",
    "subjFoldersDTI_clustered_short = ['sub-' + str(sub) for sub in behav_clustered_short.ID]\n",
    "\n",
    "behav_clustered_long = behav_clustered_long.sort_values(by=['Cluster', 'ID'])\n",
    "subjFoldersDTI_clustered_long = ['sub-' + str(sub) for sub in behav_clustered_long.ID]\n",
    "\n",
    "behav_clustered_goal_directed = behav_clustered_goal_directed.sort_values(by=['group', 'ID'])\n",
    "subjFoldersDTI_clustered_goal_directed = ['sub-' + str(sub) for sub in behav_clustered_goal_directed.ID]\n",
    "\n",
    "behav_clustered_habitual = behav_clustered_habitual.sort_values(by=['group', 'ID'])\n",
    "subjFoldersDTI_clustered_habitual = ['sub-' + str(sub) for sub in behav_clustered_habitual.ID]"
   ]
  },
  {
   "cell_type": "markdown",
   "metadata": {},
   "source": [
    "### prepare the design matrix"
   ]
  },
  {
   "cell_type": "code",
   "execution_count": null,
   "metadata": {},
   "outputs": [],
   "source": [
    "print('> Create the between group design matrix (of the calculated differences) - same is unpaired t-test (on the after-before differences)')\n",
    "# create the folder\n",
    "try:\n",
    "    os.makedirs(os.path.join(models_path, 'sub_groups'), exist_ok=False)\n",
    "    print('>> Created folder: ' + os.path.join(models_path, 'sub_groups'))\n",
    "except:\n",
    "    pass\n",
    "behav_clustered_short\n",
    "\n",
    "# create the design matrix and contrasts:\n",
    "N_1_DAY_in_clustered_goal_directed = len(set([sub for sub in subjFoldersDTI_clustered_goal_directed if int(sub.split('-')[-1])<200]))\n",
    "N_3_DAY_in_clustered_goal_directed = len(set([sub for sub in subjFoldersDTI_clustered_goal_directed if int(sub.split('-')[-1])>200]))\n",
    "print(f\"design_ttest2 {os.path.join(models_path, 'sub_groups','design_unpaired_ttest_subgroups_in_Goal_Directed')} {N_1_DAY_in_clustered_goal_directed} {N_3_DAY_in_clustered_goal_directed}\")\n",
    "os.system(f\"design_ttest2 {os.path.join(models_path, 'sub_groups','design_unpaired_ttest_subgroups_in_Goal_Directed')} {N_1_DAY_in_clustered_goal_directed} {N_3_DAY_in_clustered_goal_directed}\")\n",
    "\n",
    "N_1_DAY_in_clustered_habitual = len(set([sub for sub in subjFoldersDTI_clustered_habitual if int(sub.split('-')[-1])<200]))\n",
    "N_3_DAY_in_clustered_habitual = len(set([sub for sub in subjFoldersDTI_clustered_habitual if int(sub.split('-')[-1])>200]))\n",
    "print(f\"design_ttest2 {os.path.join(models_path, 'sub_groups','design_unpaired_ttest_subgroups_in_Habitual')} {N_1_DAY_in_clustered_habitual} {N_3_DAY_in_clustered_habitual}\")\n",
    "os.system(f\"design_ttest2 {os.path.join(models_path, 'sub_groups','design_unpaired_ttest_subgroups_in_Habitual')} {N_1_DAY_in_clustered_habitual} {N_3_DAY_in_clustered_habitual}\")\n",
    "\n",
    "N_habitual_in_clustered_1_DAY = behav_clustered_short.Cluster.value_counts()['Outcome-insensitive']\n",
    "N_goal_directed_in_clustered_1_DAY = behav_clustered_short.Cluster.value_counts()['Outcome-sensitive']\n",
    "print(f\"design_ttest2 {os.path.join(models_path, 'sub_groups','design_unpaired_ttest_subgroups_in_1_DAY')} {N_habitual_in_clustered_1_DAY} {N_goal_directed_in_clustered_1_DAY}\")\n",
    "os.system(f\"design_ttest2 {os.path.join(models_path, 'sub_groups','design_unpaired_ttest_subgroups_in_1_DAY')} {N_habitual_in_clustered_1_DAY} {N_goal_directed_in_clustered_1_DAY}\")\n",
    "\n",
    "N_habitual_in_clustered_3_DAY = behav_clustered_long.Cluster.value_counts()['Outcome-insensitive']\n",
    "N_goal_directed_in_clustered_3_DAY = behav_clustered_long.Cluster.value_counts()['Outcome-sensitive']\n",
    "print(f\"design_ttest2 {os.path.join(models_path, 'sub_groups','design_unpaired_ttest_subgroups_in_3_DAY')} {N_habitual_in_clustered_3_DAY} {N_goal_directed_in_clustered_3_DAY}\")\n",
    "os.system(f\"design_ttest2 {os.path.join(models_path, 'sub_groups','design_unpaired_ttest_subgroups_in_3_DAY')} {N_habitual_in_clustered_3_DAY} {N_goal_directed_in_clustered_3_DAY}\")\n",
    "\n",
    "\n",
    "***** VERIFY THIS *****\n",
    "\n",
    "\n"
   ]
  },
  {
   "cell_type": "code",
   "execution_count": null,
   "metadata": {},
   "outputs": [
    {
     "name": "stdout",
     "output_type": "stream",
     "text": [
      "> Create the individual differences design matrix\n",
      "Text2Vest /export2/DATA/HIS/HIS_server/analysis/dwi_data/stats/models/individual_differences/design_indivdual_diff_LONG_temp.mat /export2/DATA/HIS/HIS_server/analysis/dwi_data/stats/models/individual_differences/design_indivdual_diff_LONG.mat\n",
      "Text2Vest /export2/DATA/HIS/HIS_server/analysis/dwi_data/stats/models/individual_differences/design_indivdual_diff_SHORT_temp.mat /export2/DATA/HIS/HIS_server/analysis/dwi_data/stats/models/individual_differences/design_indivdual_diff_SHORT.mat\n",
      "Text2Vest /export2/DATA/HIS/HIS_server/analysis/dwi_data/stats/models/individual_differences/design_indivdual_diff_temp.mat /export2/DATA/HIS/HIS_server/analysis/dwi_data/stats/models/individual_differences/design_indivdual_diff.con\n"
     ]
    }
   ],
   "source": [
    "print('> Create the individual differences design matrix')\n",
    "# define file names:\n",
    "design_indiv_diff_LONG = os.path.join(models_path, 'individual_differences', 'design_indivdual_diff_LONG.mat')\n",
    "design_indiv_diff_SHORT = os.path.join(models_path, 'individual_differences', 'design_indivdual_diff_SHORT.mat')\n",
    "contrasts_indiv_diff = os.path.join(models_path, 'individual_differences', 'design_indivdual_diff.con')\n",
    "\n",
    "# create the folder\n",
    "try:\n",
    "    os.makedirs(os.path.join(models_path, 'individual_differences'), exist_ok=False)\n",
    "    print('>> Created folder: ' + os.path.join(models_path, 'individual_differences'))\n",
    "except:\n",
    "    pass\n",
    "\n",
    "# write the design matrix files:\n",
    "behav_long.habit_index_mean_centered.to_csv(f\"{design_indiv_diff_LONG.split('.')[0]}_temp.mat\", index=False, header=False)\n",
    "behav_short.habit_index_mean_centered.to_csv(f\"{design_indiv_diff_SHORT.split('.')[0]}_temp.mat\", index=False, header=False)\n",
    "\n",
    "# write the contrast file:\n",
    "with open(f\"{contrasts_indiv_diff.split('.')[0]}_temp.mat\", 'w') as f:\n",
    "    f.write('1\\n-1\\n')\n",
    "\n",
    "# use the fsl command Text2Vect to make the design files good for randomise:\n",
    "print(f\"Text2Vest {design_indiv_diff_LONG.split('.')[0]}_temp.mat {design_indiv_diff_LONG}\")\n",
    "os.system(f\"Text2Vest {design_indiv_diff_LONG.split('.')[0]}_temp.mat {design_indiv_diff_LONG}\")\n",
    "print(f\"Text2Vest {design_indiv_diff_SHORT.split('.')[0]}_temp.mat {design_indiv_diff_SHORT}\")\n",
    "os.system(f\"Text2Vest {design_indiv_diff_SHORT.split('.')[0]}_temp.mat {design_indiv_diff_SHORT}\")\n",
    "print(f\"Text2Vest {contrasts_indiv_diff.split('.')[0]}_temp.mat {contrasts_indiv_diff}\")\n",
    "os.system(f\"Text2Vest {contrasts_indiv_diff.split('.')[0]}_temp.mat {contrasts_indiv_diff}\")\n",
    "\n",
    "# finally, remove the temporary files:\n",
    "os.remove(f\"{design_indiv_diff_LONG.split('.')[0]}_temp.mat\")\n",
    "os.remove(f\"{design_indiv_diff_SHORT.split('.')[0]}_temp.mat\")\n",
    "os.remove(f\"{contrasts_indiv_diff.split('.')[0]}_temp.mat\")"
   ]
  },
  {
   "cell_type": "markdown",
   "metadata": {},
   "source": [
    "### Create one file with each group's participants together"
   ]
  },
  {
   "cell_type": "code",
   "execution_count": null,
   "metadata": {},
   "outputs": [],
   "source": [
    "for map_type in ['MD','FA']:          \n",
    "    print(f\"fslmerge -t {os.path.join(stats_path, map_type, f'LONG_individualDiff_AFTER_minus_BEFORE_{map_type}')} {' '.join([os.path.join(stats_path, map_type, f'{sub}_in-MNI_{map_type}_AFTER-minus-BEFORE.nii.gz') for sub in subjFoldersDTI_long])}\")\n",
    "    os.system(f\"fslmerge -t {os.path.join(stats_path, map_type, f'LONG_individualDiff_AFTER_minus_BEFORE_{map_type}')} {' '.join([os.path.join(stats_path, map_type, f'{sub}_in-MNI_{map_type}_AFTER-minus-BEFORE.nii.gz') for sub in subjFoldersDTI_long])}\")\n",
    "\n",
    "    print(f\"fslmerge -t {os.path.join(stats_path, map_type, f'SHORT_individualDiff_AFTER_minus_BEFORE_{map_type}')} {' '.join([os.path.join(stats_path, map_type, f'{sub}_in-MNI_{map_type}_AFTER-minus-BEFORE.nii.gz') for sub in subjFoldersDTI_short])}\")\n",
    "    os.system(f\"fslmerge -t {os.path.join(stats_path, map_type, f'SHORT_individualDiff_AFTER_minus_BEFORE_{map_type}')} {' '.join([os.path.join(stats_path, map_type, f'{sub}_in-MNI_{map_type}_AFTER-minus-BEFORE.nii.gz') for sub in subjFoldersDTI_short])}\")\n",
    "\n",
    "    print(f\"fslmerge -t {os.path.join(stats_path, map_type, f'LONG_individualDiff_BEFORE_minus_AFTER_{map_type}')} {' '.join([os.path.join(stats_path, map_type, f'{sub}_in-MNI_{map_type}_BEFORE-minus-AFTER.nii.gz') for sub in subjFoldersDTI_long])}\")\n",
    "    os.system(f\"fslmerge -t {os.path.join(stats_path, map_type, f'LONG_individualDiff_BEFORE_minus_AFTER_{map_type}')} {' '.join([os.path.join(stats_path, map_type, f'{sub}_in-MNI_{map_type}_BEFORE-minus-AFTER.nii.gz') for sub in subjFoldersDTI_long])}\")\n",
    "\n",
    "    print(f\"fslmerge -t {os.path.join(stats_path, map_type, f'SHORT_individualDiff_BEFORE_minus_AFTER_{map_type}')} {' '.join([os.path.join(stats_path, map_type, f'{sub}_in-MNI_{map_type}_BEFORE-minus-AFTER.nii.gz') for sub in subjFoldersDTI_short])}\")\n",
    "    os.system(f\"fslmerge -t {os.path.join(stats_path, map_type, f'SHORT_individualDiff_BEFORE_minus_AFTER_{map_type}')} {' '.join([os.path.join(stats_path, map_type, f'{sub}_in-MNI_{map_type}_BEFORE-minus-AFTER.nii.gz') for sub in subjFoldersDTI_short])}\")\n"
   ]
  },
  {
   "cell_type": "markdown",
   "metadata": {},
   "source": [
    "### Settings"
   ]
  },
  {
   "cell_type": "code",
   "execution_count": null,
   "metadata": {},
   "outputs": [],
   "source": [
    "# a function to run randomise for the individual differences analyses:\n",
    "def runRandomiseIndividualDiffs(group, map_type, region):\n",
    "    print(f'Running randomise for individual differences:\\n--- {group} training group | {map_type} | {region} ---\\n')\n",
    "    print(f'MAKE SURE TO REPLACE IN THE FUNCTION THE the print to os.system before running the command !!!\\n')\n",
    "    print(f\"randomise_parallel \\\n",
    "        -i {os.path.join(stats_path, map_type, f'{group}_individualDiff_AFTER_minus_BEFORE_{map_type}')} \\\n",
    "        -o {os.path.join(stats_path, map_type, f'{group}_individualDiff_AFTER_minus_BEFORE_{map_type}_{region}')} \\\n",
    "        {'' if region=='whole_brain' else f'-m {masks_paths[region]}'} \\\n",
    "        -d {os.path.join(stats_path, 'models', 'individual_differences', f'design_indivdual_diff_{group}.mat')} \\\n",
    "        -t {os.path.join(stats_path, 'models', 'individual_differences', 'design_indivdual_diff.con')}  \\\n",
    "        -n 6000 -C 3.1 -D\")"
   ]
  },
  {
   "cell_type": "markdown",
   "metadata": {},
   "source": [
    "## SHORT TRAINING"
   ]
  },
  {
   "cell_type": "code",
   "execution_count": null,
   "metadata": {},
   "outputs": [],
   "source": [
    "group = 'SHORT'"
   ]
  },
  {
   "cell_type": "markdown",
   "metadata": {},
   "source": [
    "### Whole brain - FA"
   ]
  },
  {
   "cell_type": "code",
   "execution_count": null,
   "metadata": {},
   "outputs": [],
   "source": [
    "map_type='FA'\n",
    "region='whole_brain'"
   ]
  },
  {
   "cell_type": "code",
   "execution_count": null,
   "metadata": {},
   "outputs": [],
   "source": [
    "runRandomiseIndividualDiffs(group, map_type, region)"
   ]
  },
  {
   "cell_type": "code",
   "execution_count": null,
   "metadata": {},
   "outputs": [],
   "source": [
    "# Get cluster info:\n",
    "\n",
    "# Test for A POSITIVE relationship between increase in FA and goal-directedness (and vice-versa)\n",
    "print('Test for POSITIVE relationship between increase in FA and goal-directedness')\n",
    "print(os.popen(f'cluster \\\n",
    "    -i {os.path.join(stats_path, map_type, f\"{group}_individualDiff_AFTER_minus_BEFORE_{map_type}_{region}_clusterm_corrp_tstat1.nii.gz\")} \\\n",
    "    -c {os.path.join(stats_path, map_type, f\"{group}_individualDiff_AFTER_minus_BEFORE_{map_type}_{region}_tstat1.nii.gz\")}\\\n",
    "    -t 0.90 \\\n",
    "    --scalarname=corrp' + '\"1-p\"').read())\n",
    "\n",
    "print('Test for NEGATIVE relationship between increase in FA and goal-directedness')\n",
    "print(os.popen(f'cluster \\\n",
    "    -i {os.path.join(stats_path, map_type, f\"{group}_individualDiff_AFTER_minus_BEFORE_{map_type}_{region}_clusterm_corrp_tstat2.nii.gz\")} \\\n",
    "    -c {os.path.join(stats_path, map_type, f\"{group}_individualDiff_AFTER_minus_BEFORE_{map_type}_{region}_tstat2.nii.gz\")}\\\n",
    "    -t 0.90 \\\n",
    "    --scalarname=corrp' + '\"1-p\"').read())\n"
   ]
  },
  {
   "cell_type": "markdown",
   "metadata": {},
   "source": [
    ">>>>> RESULT:"
   ]
  },
  {
   "cell_type": "markdown",
   "metadata": {},
   "source": [
    "### Putamen - FA"
   ]
  },
  {
   "cell_type": "code",
   "execution_count": null,
   "metadata": {},
   "outputs": [],
   "source": [
    "region='Putamen'"
   ]
  },
  {
   "cell_type": "code",
   "execution_count": null,
   "metadata": {},
   "outputs": [],
   "source": [
    "runRandomiseIndividualDiffs(group, map_type, region)"
   ]
  },
  {
   "cell_type": "code",
   "execution_count": null,
   "metadata": {},
   "outputs": [],
   "source": [
    "# Get cluster info:\n",
    "\n",
    "# Test for A POSITIVE relationship between increase in FA and goal-directedness (and vice-versa)\n",
    "print('Test for POSITIVE relationship between increase in FA and goal-directedness')\n",
    "print(os.popen(f'cluster \\\n",
    "    -i {os.path.join(stats_path, map_type, f\"{group}_individualDiff_AFTER_minus_BEFORE_{map_type}_{region}_clusterm_corrp_tstat1.nii.gz\")} \\\n",
    "    -c {os.path.join(stats_path, map_type, f\"{group}_individualDiff_AFTER_minus_BEFORE_{map_type}_{region}_tstat1.nii.gz\")}\\\n",
    "    -t 0.90 \\\n",
    "    --scalarname=corrp' + '\"1-p\"').read())\n",
    "\n",
    "print('Test for NEGATIVE relationship between increase in FA and goal-directedness')\n",
    "print(os.popen(f'cluster \\\n",
    "    -i {os.path.join(stats_path, map_type, f\"{group}_individualDiff_AFTER_minus_BEFORE_{map_type}_{region}_clusterm_corrp_tstat2.nii.gz\")} \\\n",
    "    -c {os.path.join(stats_path, map_type, f\"{group}_individualDiff_AFTER_minus_BEFORE_{map_type}_{region}_tstat2.nii.gz\")}\\\n",
    "    -t 0.90 \\\n",
    "    --scalarname=corrp' + '\"1-p\"').read())\n"
   ]
  },
  {
   "cell_type": "markdown",
   "metadata": {},
   "source": [
    ">>>>> RESULT"
   ]
  },
  {
   "cell_type": "markdown",
   "metadata": {},
   "source": [
    "### Caudate - FA"
   ]
  },
  {
   "cell_type": "code",
   "execution_count": null,
   "metadata": {},
   "outputs": [],
   "source": [
    "region='Caudate'"
   ]
  },
  {
   "cell_type": "code",
   "execution_count": null,
   "metadata": {},
   "outputs": [],
   "source": [
    "runRandomiseIndividualDiffs(group, map_type, region)"
   ]
  },
  {
   "cell_type": "code",
   "execution_count": null,
   "metadata": {},
   "outputs": [],
   "source": [
    "# Get cluster info:\n",
    "\n",
    "# Test for A POSITIVE relationship between increase in FA and goal-directedness (and vice-versa)\n",
    "print('Test for POSITIVE relationship between increase in FA and goal-directedness')\n",
    "print(os.popen(f'cluster \\\n",
    "    -i {os.path.join(stats_path, map_type, f\"{group}_individualDiff_AFTER_minus_BEFORE_{map_type}_{region}_clusterm_corrp_tstat1.nii.gz\")} \\\n",
    "    -c {os.path.join(stats_path, map_type, f\"{group}_individualDiff_AFTER_minus_BEFORE_{map_type}_{region}_tstat1.nii.gz\")}\\\n",
    "    -t 0.90 \\\n",
    "    --scalarname=corrp' + '\"1-p\"').read())\n",
    "\n",
    "print('Test for NEGATIVE relationship between increase in FA and goal-directedness')\n",
    "print(os.popen(f'cluster \\\n",
    "    -i {os.path.join(stats_path, map_type, f\"{group}_individualDiff_AFTER_minus_BEFORE_{map_type}_{region}_clusterm_corrp_tstat2.nii.gz\")} \\\n",
    "    -c {os.path.join(stats_path, map_type, f\"{group}_individualDiff_AFTER_minus_BEFORE_{map_type}_{region}_tstat2.nii.gz\")}\\\n",
    "    -t 0.90 \\\n",
    "    --scalarname=corrp' + '\"1-p\"').read())\n"
   ]
  },
  {
   "cell_type": "markdown",
   "metadata": {},
   "source": [
    ">>>>> RESULTS:"
   ]
  },
  {
   "cell_type": "markdown",
   "metadata": {},
   "source": [
    "### vmPFC - FA"
   ]
  },
  {
   "cell_type": "code",
   "execution_count": null,
   "metadata": {},
   "outputs": [],
   "source": [
    "region='vmPFC'"
   ]
  },
  {
   "cell_type": "code",
   "execution_count": null,
   "metadata": {},
   "outputs": [],
   "source": [
    "runRandomiseIndividualDiffs(group, map_type, region)"
   ]
  },
  {
   "cell_type": "code",
   "execution_count": null,
   "metadata": {},
   "outputs": [],
   "source": [
    "# Get cluster info:\n",
    "\n",
    "# Test for A POSITIVE relationship between increase in FA and goal-directedness (and vice-versa)\n",
    "print('Test for POSITIVE relationship between increase in FA and goal-directedness')\n",
    "print(os.popen(f'cluster \\\n",
    "    -i {os.path.join(stats_path, map_type, f\"{group}_individualDiff_AFTER_minus_BEFORE_{map_type}_{region}_clusterm_corrp_tstat1.nii.gz\")} \\\n",
    "    -c {os.path.join(stats_path, map_type, f\"{group}_individualDiff_AFTER_minus_BEFORE_{map_type}_{region}_tstat1.nii.gz\")}\\\n",
    "    -t 0.90 \\\n",
    "    --scalarname=corrp' + '\"1-p\"').read())\n",
    "\n",
    "print('Test for NEGATIVE relationship between increase in FA and goal-directedness')\n",
    "print(os.popen(f'cluster \\\n",
    "    -i {os.path.join(stats_path, map_type, f\"{group}_individualDiff_AFTER_minus_BEFORE_{map_type}_{region}_clusterm_corrp_tstat2.nii.gz\")} \\\n",
    "    -c {os.path.join(stats_path, map_type, f\"{group}_individualDiff_AFTER_minus_BEFORE_{map_type}_{region}_tstat2.nii.gz\")}\\\n",
    "    -t 0.90 \\\n",
    "    --scalarname=corrp' + '\"1-p\"').read())\n"
   ]
  },
  {
   "cell_type": "markdown",
   "metadata": {},
   "source": [
    ">>>>> RESULTS:"
   ]
  },
  {
   "cell_type": "markdown",
   "metadata": {},
   "source": [
    "## LONG TRAINING"
   ]
  },
  {
   "cell_type": "code",
   "execution_count": null,
   "metadata": {},
   "outputs": [],
   "source": [
    "group = 'LONG'"
   ]
  },
  {
   "cell_type": "markdown",
   "metadata": {},
   "source": [
    "### Whole brain - MD"
   ]
  },
  {
   "cell_type": "code",
   "execution_count": null,
   "metadata": {},
   "outputs": [],
   "source": [
    "map_type='MD'\n",
    "region='whole_brain'"
   ]
  },
  {
   "cell_type": "code",
   "execution_count": null,
   "metadata": {},
   "outputs": [],
   "source": [
    "runRandomiseIndividualDiffs(group, map_type, region)"
   ]
  },
  {
   "cell_type": "code",
   "execution_count": null,
   "metadata": {},
   "outputs": [],
   "source": [
    "# Get cluster info:\n",
    "\n",
    "# Test for A POSITIVE relationship between increase in FA and goal-directedness (and vice-versa)\n",
    "print('Test for POSITIVE relationship between increase in FA and goal-directedness')\n",
    "print(os.popen(f'cluster \\\n",
    "    -i {os.path.join(stats_path, map_type, f\"{group}_individualDiff_AFTER_minus_BEFORE_{map_type}_{region}_clusterm_corrp_tstat1.nii.gz\")} \\\n",
    "    -c {os.path.join(stats_path, map_type, f\"{group}_individualDiff_AFTER_minus_BEFORE_{map_type}_{region}_tstat1.nii.gz\")}\\\n",
    "    -t 0.90 \\\n",
    "    --scalarname=corrp' + '\"1-p\"').read())\n",
    "\n",
    "print('Test for NEGATIVE relationship between increase in FA and goal-directedness')\n",
    "print(os.popen(f'cluster \\\n",
    "    -i {os.path.join(stats_path, map_type, f\"{group}_individualDiff_AFTER_minus_BEFORE_{map_type}_{region}_clusterm_corrp_tstat2.nii.gz\")} \\\n",
    "    -c {os.path.join(stats_path, map_type, f\"{group}_individualDiff_AFTER_minus_BEFORE_{map_type}_{region}_tstat2.nii.gz\")}\\\n",
    "    -t 0.90 \\\n",
    "    --scalarname=corrp' + '\"1-p\"').read())\n"
   ]
  },
  {
   "cell_type": "markdown",
   "metadata": {},
   "source": [
    ">>>>> RESULT:"
   ]
  },
  {
   "cell_type": "markdown",
   "metadata": {},
   "source": [
    "### Putamen - MA"
   ]
  },
  {
   "cell_type": "code",
   "execution_count": null,
   "metadata": {},
   "outputs": [],
   "source": [
    "region='Putamen'"
   ]
  },
  {
   "cell_type": "code",
   "execution_count": null,
   "metadata": {},
   "outputs": [],
   "source": [
    "runRandomiseIndividualDiffs(group, map_type, region)"
   ]
  },
  {
   "cell_type": "code",
   "execution_count": null,
   "metadata": {},
   "outputs": [],
   "source": [
    "# Get cluster info:\n",
    "\n",
    "# Test for A POSITIVE relationship between increase in FA and goal-directedness (and vice-versa)\n",
    "print('Test for POSITIVE relationship between increase in FA and goal-directedness')\n",
    "print(os.popen(f'cluster \\\n",
    "    -i {os.path.join(stats_path, map_type, f\"{group}_individualDiff_AFTER_minus_BEFORE_{map_type}_{region}_clusterm_corrp_tstat1.nii.gz\")} \\\n",
    "    -c {os.path.join(stats_path, map_type, f\"{group}_individualDiff_AFTER_minus_BEFORE_{map_type}_{region}_tstat1.nii.gz\")}\\\n",
    "    -t 0.90 \\\n",
    "    --scalarname=corrp' + '\"1-p\"').read())\n",
    "\n",
    "print('Test for NEGATIVE relationship between increase in FA and goal-directedness')\n",
    "print(os.popen(f'cluster \\\n",
    "    -i {os.path.join(stats_path, map_type, f\"{group}_individualDiff_AFTER_minus_BEFORE_{map_type}_{region}_clusterm_corrp_tstat2.nii.gz\")} \\\n",
    "    -c {os.path.join(stats_path, map_type, f\"{group}_individualDiff_AFTER_minus_BEFORE_{map_type}_{region}_tstat2.nii.gz\")}\\\n",
    "    -t 0.90 \\\n",
    "    --scalarname=corrp' + '\"1-p\"').read())\n"
   ]
  },
  {
   "cell_type": "markdown",
   "metadata": {},
   "source": [
    ">>>>> RESULT"
   ]
  },
  {
   "cell_type": "markdown",
   "metadata": {},
   "source": [
    "### Caudate - MD"
   ]
  },
  {
   "cell_type": "code",
   "execution_count": null,
   "metadata": {},
   "outputs": [],
   "source": [
    "region='Caudate'"
   ]
  },
  {
   "cell_type": "code",
   "execution_count": null,
   "metadata": {},
   "outputs": [],
   "source": [
    "runRandomiseIndividualDiffs(group, map_type, region)"
   ]
  },
  {
   "cell_type": "code",
   "execution_count": null,
   "metadata": {},
   "outputs": [],
   "source": [
    "# Get cluster info:\n",
    "\n",
    "# Test for A POSITIVE relationship between increase in FA and goal-directedness (and vice-versa)\n",
    "print('Test for POSITIVE relationship between increase in FA and goal-directedness')\n",
    "print(os.popen(f'cluster \\\n",
    "    -i {os.path.join(stats_path, map_type, f\"{group}_individualDiff_AFTER_minus_BEFORE_{map_type}_{region}_clusterm_corrp_tstat1.nii.gz\")} \\\n",
    "    -c {os.path.join(stats_path, map_type, f\"{group}_individualDiff_AFTER_minus_BEFORE_{map_type}_{region}_tstat1.nii.gz\")}\\\n",
    "    -t 0.90 \\\n",
    "    --scalarname=corrp' + '\"1-p\"').read())\n",
    "\n",
    "print('Test for NEGATIVE relationship between increase in FA and goal-directedness')\n",
    "print(os.popen(f'cluster \\\n",
    "    -i {os.path.join(stats_path, map_type, f\"{group}_individualDiff_AFTER_minus_BEFORE_{map_type}_{region}_clusterm_corrp_tstat2.nii.gz\")} \\\n",
    "    -c {os.path.join(stats_path, map_type, f\"{group}_individualDiff_AFTER_minus_BEFORE_{map_type}_{region}_tstat2.nii.gz\")}\\\n",
    "    -t 0.90 \\\n",
    "    --scalarname=corrp' + '\"1-p\"').read())\n"
   ]
  },
  {
   "cell_type": "markdown",
   "metadata": {},
   "source": [
    ">>>>> RESULTS:"
   ]
  },
  {
   "cell_type": "markdown",
   "metadata": {},
   "source": [
    "### vmPFC - MD"
   ]
  },
  {
   "cell_type": "code",
   "execution_count": null,
   "metadata": {},
   "outputs": [],
   "source": [
    "region='vmPFC'"
   ]
  },
  {
   "cell_type": "code",
   "execution_count": null,
   "metadata": {},
   "outputs": [],
   "source": [
    "runRandomiseIndividualDiffs(group, map_type, region)"
   ]
  },
  {
   "cell_type": "code",
   "execution_count": null,
   "metadata": {},
   "outputs": [],
   "source": [
    "# Get cluster info:\n",
    "\n",
    "# Test for A POSITIVE relationship between increase in FA and goal-directedness (and vice-versa)\n",
    "print('Test for POSITIVE relationship between increase in FA and goal-directedness')\n",
    "print(os.popen(f'cluster \\\n",
    "    -i {os.path.join(stats_path, map_type, f\"{group}_individualDiff_AFTER_minus_BEFORE_{map_type}_{region}_clusterm_corrp_tstat1.nii.gz\")} \\\n",
    "    -c {os.path.join(stats_path, map_type, f\"{group}_individualDiff_AFTER_minus_BEFORE_{map_type}_{region}_tstat1.nii.gz\")}\\\n",
    "    -t 0.90 \\\n",
    "    --scalarname=corrp' + '\"1-p\"').read())\n",
    "\n",
    "print('Test for NEGATIVE relationship between increase in FA and goal-directedness')\n",
    "print(os.popen(f'cluster \\\n",
    "    -i {os.path.join(stats_path, map_type, f\"{group}_individualDiff_AFTER_minus_BEFORE_{map_type}_{region}_clusterm_corrp_tstat2.nii.gz\")} \\\n",
    "    -c {os.path.join(stats_path, map_type, f\"{group}_individualDiff_AFTER_minus_BEFORE_{map_type}_{region}_tstat2.nii.gz\")}\\\n",
    "    -t 0.90 \\\n",
    "    --scalarname=corrp' + '\"1-p\"').read())\n"
   ]
  },
  {
   "cell_type": "markdown",
   "metadata": {},
   "source": [
    ">>>>> RESULTS:"
   ]
  }
 ],
 "metadata": {
  "interpreter": {
   "hash": "7504252075d046cca664b6be5d41f96883e23643544d29c440209b91eeb6bd3e"
  },
  "kernelspec": {
   "display_name": "Python 3",
   "language": "python",
   "name": "python3"
  },
  "language_info": {
   "codemirror_mode": {
    "name": "ipython",
    "version": 3
   },
   "file_extension": ".py",
   "mimetype": "text/x-python",
   "name": "python",
   "nbconvert_exporter": "python",
   "pygments_lexer": "ipython3",
   "version": "3.6.8"
  },
  "orig_nbformat": 4
 },
 "nbformat": 4,
 "nbformat_minor": 2
}
