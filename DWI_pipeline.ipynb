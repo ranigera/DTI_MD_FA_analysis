{
 "cells": [
  {
   "cell_type": "markdown",
   "metadata": {},
   "source": [
    "# Analyze DTI"
   ]
  },
  {
   "cell_type": "code",
   "execution_count": 1,
   "metadata": {},
   "outputs": [],
   "source": [
    "# import packages\n",
    "# -----------------------------------------------------------------------------\n",
    "# import pip\n",
    "# pip.main(['install', 'seaborn']) \n",
    "import pandas as pd\n",
    "import numpy as np\n",
    "import matplotlib.pyplot as plt\n",
    "import seaborn as sns\n",
    "import os\n",
    "import subprocess\n",
    "import sys\n",
    "import json"
   ]
  },
  {
   "cell_type": "code",
   "execution_count": 2,
   "metadata": {},
   "outputs": [],
   "source": [
    "# parameters\n",
    "# -----------------------------------------------------------------------------\n",
    "data_path = '/Users/ranigera/Dropbox/DTI_tests'\n",
    "#data_path = '/Volumes/backup_raw_data/Rani_HIS_DATA_HD/BIDS'\n",
    "preproc_path = '/Users/ranigera/Dropbox/DTI_tests/preproc'\n",
    "\n",
    "expectedVolums = {\n",
    "    'AP': 69,\n",
    "    'PA' : 7,\n",
    "    }\n",
    "expectedB0s_indxs = {\n",
    "    'AP_before': [0, 1, 18, 35, 52],\n",
    "    'PA_before': [0, 2, 3, 4, 5, 6],\n",
    "    'AP_after': [0, 1, 18, 35, 52],\n",
    "    'PA_after': [0, 2, 3, 4, 5, 6]\n",
    "    }\n"
   ]
  },
  {
   "cell_type": "code",
   "execution_count": 3,
   "metadata": {},
   "outputs": [
    {
     "name": "stdout",
     "output_type": "stream",
     "text": [
      ">> Get sub folders\n",
      ">> Get exclusion list\n",
      ">> Remove sub folders of excluded participants in case they are there\n"
     ]
    }
   ],
   "source": [
    "# Get folders and remove excluded subjects\n",
    "# -----------------------------------------------------------------------------\n",
    "print('>> Get sub folders')\n",
    "subjFolders = [el for el in os.listdir(data_path) if 'sub' in el]\n",
    "\n",
    "print('>> Get exclusion list')\n",
    "with open('/Users/ranigera/Google_Drive_TAU/Experiments/HIS_STUDY/Analysis/codes/paths_and_vars.py') as txtFile:\n",
    "    txt = txtFile.read()\n",
    "participantsToExclude = [int(el) for el in txt.split('participantsToExclude = [')[1].split(']')[0].replace('\\n','').replace('\\n','').replace(\"'\",\"\").split(',')]\n",
    "\n",
    "print('>> Remove sub folders of excluded participants in case they are there')\n",
    "subjFolders = [el for el in subjFolders if int(el.split('-')[1]) not in participantsToExclude]\n"
   ]
  },
  {
   "cell_type": "markdown",
   "metadata": {},
   "source": [
    "## Check for missing scans or wrong phase encoding directions for ALL SUBJECTS "
   ]
  },
  {
   "cell_type": "code",
   "execution_count": 4,
   "metadata": {},
   "outputs": [
    {
     "name": "stdout",
     "output_type": "stream",
     "text": [
      ">> Verify that all the scans exist and that the phase encoding directions are as they should.\n",
      " *** Scan not found: /Users/ranigera/Dropbox/DTI_tests/sub-211/ses-3/dwi/sub-211_ses-3_acq-ap_run-02_dwi.json\n",
      " *** Scan not found: /Users/ranigera/Dropbox/DTI_tests/sub-211/ses-3/dwi/sub-211_ses-3_acq-pa_run-02_dwi.json\n",
      " *** There is a problem with the scanning directions: /Users/ranigera/Dropbox/DTI_tests/sub-110/ses-1/dwi/sub-110_ses-1_acq-pa_run-01_dwi.json is defined as j-.\n",
      " *** There is a problem with the scanning directions: /Users/ranigera/Dropbox/DTI_tests/sub-110/ses-1/dwi/sub-110_ses-1_acq-pa_run-02_dwi.json is defined as j-.\n"
     ]
    }
   ],
   "source": [
    "print ('>> Verify that all the scans exist and that the phase encoding directions are as they should.')\n",
    "subjectsWithAProblem = []\n",
    "for subjFolder in subjFolders:\n",
    "    sub = int(subjFolder.split(\"-\",1)[1])\n",
    "    group = '1day' if sub < 200 else '3day'\n",
    "    last_sess = group[0]\n",
    "    DWI_path_before = os.path.join(data_path, subjFolder, 'ses-1/dwi/')\n",
    "    DWI_path_after = os.path.join(data_path, subjFolder, f'ses-{last_sess}/dwi/')\n",
    "    scansBaseNames = {\n",
    "        'AP_before': f'{os.path.join(DWI_path_before, \"sub-\" + str(sub) + \"_ses-1_acq-ap_run-01_dwi\")}',\n",
    "        'PA_before' : f'{os.path.join(DWI_path_before, \"sub-\" + str(sub) + \"_ses-1_acq-pa_run-01_dwi\")}',\n",
    "        'AP_after' : f'{os.path.join(DWI_path_after, \"sub-\" + str(sub) + \"_ses-\" + last_sess + \"_acq-ap_run-02_dwi\")}',\n",
    "        'PA_after' : f'{os.path.join(DWI_path_after, \"sub-\" + str(sub) + \"_ses-\" + last_sess + \"_acq-pa_run-02_dwi\")}'\n",
    "        }\n",
    "\n",
    "    for scan in scansBaseNames.keys():\n",
    "        # print(scansBaseNames[scan] + '.json')\n",
    "        # print(scanData['PhaseEncodingDirection'])\n",
    "        if not os.path.exists(scansBaseNames[scan] + '.json'):\n",
    "            subjectsWithAProblem.append(sub)\n",
    "            print(' *** Scan not found: ' + scansBaseNames[scan] + '.json')\n",
    "            continue\n",
    "        with open(scansBaseNames[scan] + '.json') as json_file:        \n",
    "            scanData = json.load(json_file)\n",
    "            if ('acq-ap_' in scansBaseNames[scan] and scanData['PhaseEncodingDirection'] != 'j-') or \\\n",
    "                ('acq-pa_' in scansBaseNames[scan] and scanData['PhaseEncodingDirection'] != 'j'):\n",
    "                subjectsWithAProblem.append(sub)\n",
    "                print(' *** There is a problem with the scanning directions: ' + scansBaseNames[scan] + '.json is defined as ' + scanData['PhaseEncodingDirection'] + '.')\n",
    "                continue\n",
    "\n",
    "subjectsWithAProblem = list(set(subjectsWithAProblem))\n",
    "subjectsWithAProblem.sort()"
   ]
  },
  {
   "cell_type": "markdown",
   "metadata": {},
   "source": [
    "# [TEMP] Working on on subject (for now)"
   ]
  },
  {
   "cell_type": "code",
   "execution_count": 5,
   "metadata": {},
   "outputs": [
    {
     "data": {
      "text/plain": [
       "dict_keys(['AP_before', 'PA_before', 'AP_after', 'PA_after'])"
      ]
     },
     "execution_count": 5,
     "metadata": {},
     "output_type": "execute_result"
    }
   ],
   "source": [
    "scansBaseNames.keys()"
   ]
  },
  {
   "cell_type": "markdown",
   "metadata": {},
   "source": [
    "## Get b0 volume indices and perform bval & bvec QA"
   ]
  },
  {
   "cell_type": "code",
   "execution_count": 6,
   "metadata": {},
   "outputs": [
    {
     "name": "stdout",
     "output_type": "stream",
     "text": [
      "> Verify that data points in the bval files is as expected.\n",
      "> Verify that data points in the bvec files is as expected.\n",
      "> Extract B0s:\n",
      "> Verify that b0 quantity and indices are as expected.\n"
     ]
    }
   ],
   "source": [
    "\n",
    "print('> Verify that data points in the bval files is as expected.')\n",
    "if pd.read_csv(scansBaseNames['AP_before'] + '.bval', header=None, sep=' ').T.shape[0] != expectedVolums['AP'] or \\\n",
    "    pd.read_csv(scansBaseNames['PA_before'] + '.bval', header=None, sep=' ').T.shape[0] != expectedVolums['PA'] or \\\n",
    "    pd.read_csv(scansBaseNames['AP_after'] + '.bval', header=None, sep=' ').T.shape[0] != expectedVolums['AP'] or \\\n",
    "    pd.read_csv(scansBaseNames['PA_after'] + '.bval', header=None, sep=' ').T.shape[0] != expectedVolums['PA']:\n",
    "        print(f' *** The number of data points in the bval for one of the scans for subjetc {sub} is not as expected.')\n",
    "        raise Exception(f'The number of data points in the bval for one of the scans for subjetc {sub} is not as expected.')\n",
    "\n",
    "print('> Verify that data points in the bvec files is as expected.')\n",
    "if pd.read_csv(scansBaseNames['AP_before'] + '.bvec', header=None, sep=' ').T.shape[0] != expectedVolums['AP'] or \\\n",
    "    pd.read_csv(scansBaseNames['PA_before'] + '.bvec', header=None, sep=' ').T.shape[0] != expectedVolums['PA'] or \\\n",
    "    pd.read_csv(scansBaseNames['AP_after'] + '.bvec', header=None, sep=' ').T.shape[0] != expectedVolums['AP'] or \\\n",
    "    pd.read_csv(scansBaseNames['PA_after'] + '.bvec', header=None, sep=' ').T.shape[0] != expectedVolums['PA']:\n",
    "        print(f' *** The number of data points in the bvec for one of the scans for subjetc {sub} is not as expected.')\n",
    "        raise ValueError(f'The number of data points in the bvec for one of the scans for subjetc ' + str(sub) + ' is not as expected.')\n",
    "\n",
    "\n",
    "print('> Extract B0s:')\n",
    "B0s_indxs = {}\n",
    "for scan in scansBaseNames.keys():\n",
    "    B0s=pd.read_csv(scansBaseNames[scan] + '.bval', header=None, sep=' ').T\n",
    "    B0s.columns = ['bval']\n",
    "    B0s_indxs[scan] = list(B0s[B0s.bval < 20].index)\n",
    "\n",
    "print('> Verify that b0 quantity and indices are as expected.')\n",
    "if B0s_indxs != expectedB0s_indxs:\n",
    "    print(f' *** The indices of the b0s for one of the scans for subjetc {sub} are not as expected.')\n",
    "    raise ValueError(f'The indices of the b0s for one of the scans for subjetc ' + str(sub) + ' are not as expected.')\n"
   ]
  },
  {
   "cell_type": "markdown",
   "metadata": {},
   "source": [
    "## Preprocessing"
   ]
  },
  {
   "cell_type": "markdown",
   "metadata": {},
   "source": [
    "### (1) TOPUP\n",
    "* A tool for estimating and correcting susceptibility induced distortions"
   ]
  },
  {
   "cell_type": "markdown",
   "metadata": {},
   "source": [
    "#### Create pre-processing folder"
   ]
  },
  {
   "cell_type": "code",
   "execution_count": 7,
   "metadata": {},
   "outputs": [
    {
     "name": "stdout",
     "output_type": "stream",
     "text": [
      "> Create preprocessing folder\n"
     ]
    }
   ],
   "source": [
    "print('> Create preprocessing folder')\n",
    "try:\n",
    "    os.makedirs(os.path.join(preproc_path, subjFolder), exist_ok=False)\n",
    "except:\n",
    "    pass"
   ]
  },
  {
   "cell_type": "markdown",
   "metadata": {},
   "source": [
    "#### Extract B0 volumes"
   ]
  },
  {
   "cell_type": "code",
   "execution_count": 8,
   "metadata": {},
   "outputs": [
    {
     "name": "stdout",
     "output_type": "stream",
     "text": [
      "> Extract B0s (using the fslroi):\n",
      "fslroi /Users/ranigera/Dropbox/DTI_tests/sub-120/ses-1/dwi/sub-120_ses-1_acq-ap_run-01_dwi.nii.gz /Users/ranigera/Dropbox/DTI_tests/preproc/sub-120/sub-120_AP_before_b0_volInd-0.nii.gz 0 1\n",
      "fslroi /Users/ranigera/Dropbox/DTI_tests/sub-120/ses-1/dwi/sub-120_ses-1_acq-ap_run-01_dwi.nii.gz /Users/ranigera/Dropbox/DTI_tests/preproc/sub-120/sub-120_AP_before_b0_volInd-1.nii.gz 1 1\n",
      "fslroi /Users/ranigera/Dropbox/DTI_tests/sub-120/ses-1/dwi/sub-120_ses-1_acq-ap_run-01_dwi.nii.gz /Users/ranigera/Dropbox/DTI_tests/preproc/sub-120/sub-120_AP_before_b0_volInd-18.nii.gz 18 1\n",
      "fslroi /Users/ranigera/Dropbox/DTI_tests/sub-120/ses-1/dwi/sub-120_ses-1_acq-ap_run-01_dwi.nii.gz /Users/ranigera/Dropbox/DTI_tests/preproc/sub-120/sub-120_AP_before_b0_volInd-35.nii.gz 35 1\n",
      "fslroi /Users/ranigera/Dropbox/DTI_tests/sub-120/ses-1/dwi/sub-120_ses-1_acq-ap_run-01_dwi.nii.gz /Users/ranigera/Dropbox/DTI_tests/preproc/sub-120/sub-120_AP_before_b0_volInd-52.nii.gz 52 1\n",
      "fslroi /Users/ranigera/Dropbox/DTI_tests/sub-120/ses-1/dwi/sub-120_ses-1_acq-pa_run-01_dwi.nii.gz /Users/ranigera/Dropbox/DTI_tests/preproc/sub-120/sub-120_PA_before_b0_volInd-0.nii.gz 0 1\n",
      "fslroi /Users/ranigera/Dropbox/DTI_tests/sub-120/ses-1/dwi/sub-120_ses-1_acq-pa_run-01_dwi.nii.gz /Users/ranigera/Dropbox/DTI_tests/preproc/sub-120/sub-120_PA_before_b0_volInd-2.nii.gz 2 1\n",
      "fslroi /Users/ranigera/Dropbox/DTI_tests/sub-120/ses-1/dwi/sub-120_ses-1_acq-pa_run-01_dwi.nii.gz /Users/ranigera/Dropbox/DTI_tests/preproc/sub-120/sub-120_PA_before_b0_volInd-3.nii.gz 3 1\n",
      "fslroi /Users/ranigera/Dropbox/DTI_tests/sub-120/ses-1/dwi/sub-120_ses-1_acq-pa_run-01_dwi.nii.gz /Users/ranigera/Dropbox/DTI_tests/preproc/sub-120/sub-120_PA_before_b0_volInd-4.nii.gz 4 1\n",
      "fslroi /Users/ranigera/Dropbox/DTI_tests/sub-120/ses-1/dwi/sub-120_ses-1_acq-pa_run-01_dwi.nii.gz /Users/ranigera/Dropbox/DTI_tests/preproc/sub-120/sub-120_PA_before_b0_volInd-5.nii.gz 5 1\n",
      "fslroi /Users/ranigera/Dropbox/DTI_tests/sub-120/ses-1/dwi/sub-120_ses-1_acq-pa_run-01_dwi.nii.gz /Users/ranigera/Dropbox/DTI_tests/preproc/sub-120/sub-120_PA_before_b0_volInd-6.nii.gz 6 1\n",
      "fslroi /Users/ranigera/Dropbox/DTI_tests/sub-120/ses-1/dwi/sub-120_ses-1_acq-ap_run-02_dwi.nii.gz /Users/ranigera/Dropbox/DTI_tests/preproc/sub-120/sub-120_AP_after_b0_volInd-0.nii.gz 0 1\n",
      "fslroi /Users/ranigera/Dropbox/DTI_tests/sub-120/ses-1/dwi/sub-120_ses-1_acq-ap_run-02_dwi.nii.gz /Users/ranigera/Dropbox/DTI_tests/preproc/sub-120/sub-120_AP_after_b0_volInd-1.nii.gz 1 1\n",
      "fslroi /Users/ranigera/Dropbox/DTI_tests/sub-120/ses-1/dwi/sub-120_ses-1_acq-ap_run-02_dwi.nii.gz /Users/ranigera/Dropbox/DTI_tests/preproc/sub-120/sub-120_AP_after_b0_volInd-18.nii.gz 18 1\n",
      "fslroi /Users/ranigera/Dropbox/DTI_tests/sub-120/ses-1/dwi/sub-120_ses-1_acq-ap_run-02_dwi.nii.gz /Users/ranigera/Dropbox/DTI_tests/preproc/sub-120/sub-120_AP_after_b0_volInd-35.nii.gz 35 1\n",
      "fslroi /Users/ranigera/Dropbox/DTI_tests/sub-120/ses-1/dwi/sub-120_ses-1_acq-ap_run-02_dwi.nii.gz /Users/ranigera/Dropbox/DTI_tests/preproc/sub-120/sub-120_AP_after_b0_volInd-52.nii.gz 52 1\n",
      "fslroi /Users/ranigera/Dropbox/DTI_tests/sub-120/ses-1/dwi/sub-120_ses-1_acq-pa_run-02_dwi.nii.gz /Users/ranigera/Dropbox/DTI_tests/preproc/sub-120/sub-120_PA_after_b0_volInd-0.nii.gz 0 1\n",
      "fslroi /Users/ranigera/Dropbox/DTI_tests/sub-120/ses-1/dwi/sub-120_ses-1_acq-pa_run-02_dwi.nii.gz /Users/ranigera/Dropbox/DTI_tests/preproc/sub-120/sub-120_PA_after_b0_volInd-2.nii.gz 2 1\n",
      "fslroi /Users/ranigera/Dropbox/DTI_tests/sub-120/ses-1/dwi/sub-120_ses-1_acq-pa_run-02_dwi.nii.gz /Users/ranigera/Dropbox/DTI_tests/preproc/sub-120/sub-120_PA_after_b0_volInd-3.nii.gz 3 1\n",
      "fslroi /Users/ranigera/Dropbox/DTI_tests/sub-120/ses-1/dwi/sub-120_ses-1_acq-pa_run-02_dwi.nii.gz /Users/ranigera/Dropbox/DTI_tests/preproc/sub-120/sub-120_PA_after_b0_volInd-4.nii.gz 4 1\n",
      "fslroi /Users/ranigera/Dropbox/DTI_tests/sub-120/ses-1/dwi/sub-120_ses-1_acq-pa_run-02_dwi.nii.gz /Users/ranigera/Dropbox/DTI_tests/preproc/sub-120/sub-120_PA_after_b0_volInd-5.nii.gz 5 1\n",
      "fslroi /Users/ranigera/Dropbox/DTI_tests/sub-120/ses-1/dwi/sub-120_ses-1_acq-pa_run-02_dwi.nii.gz /Users/ranigera/Dropbox/DTI_tests/preproc/sub-120/sub-120_PA_after_b0_volInd-6.nii.gz 6 1\n"
     ]
    }
   ],
   "source": [
    "print('> Extract B0s (using the fslroi):')\n",
    "sub_B0s_files = []\n",
    "for scan in scansBaseNames.keys():\n",
    "    for B0ind in B0s_indxs[scan]:\n",
    "        B0_file_name = os.path.join(preproc_path, subjFolder, subjFolder + '_' + scan + \"_b0_volInd-\" + str(B0ind) + \".nii.gz\")\n",
    "        print(f'fslroi {scansBaseNames[scan]}.nii.gz {B0_file_name} {B0ind} 1')\n",
    "        os.system(f'fslroi {scansBaseNames[scan]}.nii.gz {B0_file_name} {B0ind} 1')\n",
    "        sub_B0s_files.append(B0_file_name)\n"
   ]
  },
  {
   "cell_type": "markdown",
   "metadata": {},
   "source": [
    "#### Merge B0 volumes for TOPUP"
   ]
  },
  {
   "cell_type": "code",
   "execution_count": 90,
   "metadata": {},
   "outputs": [
    {
     "name": "stdout",
     "output_type": "stream",
     "text": [
      "> Merge B0s for each session (using the fslmerge):\n",
      "fslmerge -t /Users/ranigera/Dropbox/DTI_tests/preproc/sub-120/sub-120_AP_PA_before_b0s /Users/ranigera/Dropbox/DTI_tests/preproc/sub-120/sub-120_AP_before_b0_volInd-0.nii.gz /Users/ranigera/Dropbox/DTI_tests/preproc/sub-120/sub-120_AP_before_b0_volInd-1.nii.gz /Users/ranigera/Dropbox/DTI_tests/preproc/sub-120/sub-120_AP_before_b0_volInd-18.nii.gz /Users/ranigera/Dropbox/DTI_tests/preproc/sub-120/sub-120_AP_before_b0_volInd-35.nii.gz /Users/ranigera/Dropbox/DTI_tests/preproc/sub-120/sub-120_AP_before_b0_volInd-52.nii.gz /Users/ranigera/Dropbox/DTI_tests/preproc/sub-120/sub-120_PA_before_b0_volInd-0.nii.gz /Users/ranigera/Dropbox/DTI_tests/preproc/sub-120/sub-120_PA_before_b0_volInd-2.nii.gz /Users/ranigera/Dropbox/DTI_tests/preproc/sub-120/sub-120_PA_before_b0_volInd-3.nii.gz /Users/ranigera/Dropbox/DTI_tests/preproc/sub-120/sub-120_PA_before_b0_volInd-4.nii.gz /Users/ranigera/Dropbox/DTI_tests/preproc/sub-120/sub-120_PA_before_b0_volInd-5.nii.gz /Users/ranigera/Dropbox/DTI_tests/preproc/sub-120/sub-120_PA_before_b0_volInd-6.nii.gz\n",
      "fslmerge -t /Users/ranigera/Dropbox/DTI_tests/preproc/sub-120/sub-120_AP_PA_after_b0s /Users/ranigera/Dropbox/DTI_tests/preproc/sub-120/sub-120_AP_after_b0_volInd-0.nii.gz /Users/ranigera/Dropbox/DTI_tests/preproc/sub-120/sub-120_AP_after_b0_volInd-1.nii.gz /Users/ranigera/Dropbox/DTI_tests/preproc/sub-120/sub-120_AP_after_b0_volInd-18.nii.gz /Users/ranigera/Dropbox/DTI_tests/preproc/sub-120/sub-120_AP_after_b0_volInd-35.nii.gz /Users/ranigera/Dropbox/DTI_tests/preproc/sub-120/sub-120_AP_after_b0_volInd-52.nii.gz /Users/ranigera/Dropbox/DTI_tests/preproc/sub-120/sub-120_PA_after_b0_volInd-0.nii.gz /Users/ranigera/Dropbox/DTI_tests/preproc/sub-120/sub-120_PA_after_b0_volInd-2.nii.gz /Users/ranigera/Dropbox/DTI_tests/preproc/sub-120/sub-120_PA_after_b0_volInd-3.nii.gz /Users/ranigera/Dropbox/DTI_tests/preproc/sub-120/sub-120_PA_after_b0_volInd-4.nii.gz /Users/ranigera/Dropbox/DTI_tests/preproc/sub-120/sub-120_PA_after_b0_volInd-5.nii.gz /Users/ranigera/Dropbox/DTI_tests/preproc/sub-120/sub-120_PA_after_b0_volInd-6.nii.gz\n"
     ]
    },
    {
     "data": {
      "text/plain": [
       "0"
      ]
     },
     "execution_count": 90,
     "metadata": {},
     "output_type": "execute_result"
    }
   ],
   "source": [
    "print('> Merge B0s for each session (using the fslmerge):')\n",
    "#print([scan for scan in sub_B0s_files if 'AP_before' in scan])\n",
    "#print([scan for scan in sub_B0s_files if 'PA_before' in scan])\n",
    "print(f'fslmerge -t {os.path.join(preproc_path, subjFolder,subjFolder)}_AP_PA_before_b0s' + ' ' + ' '.join([scan for scan in sub_B0s_files if 'AP_before' in scan]) + ' ' + ' '.join([scan for scan in sub_B0s_files if 'PA_before' in scan]))\n",
    "os.system(f'fslmerge -t {os.path.join(preproc_path, subjFolder,subjFolder)}_AP_PA_before_b0s' + ' ' + ' '.join([scan for scan in sub_B0s_files if 'AP_before' in scan]) + ' ' + ' '.join([scan for scan in sub_B0s_files if 'PA_before' in scan]))\n",
    "print(f'fslmerge -t {os.path.join(preproc_path, subjFolder,subjFolder)}_AP_PA_after_b0s' + ' ' + ' '.join([scan for scan in sub_B0s_files if 'AP_after' in scan]) + ' ' + ' '.join([scan for scan in sub_B0s_files if 'PA_after' in scan]))\n",
    "os.system(f'fslmerge -t {os.path.join(preproc_path, subjFolder,subjFolder)}_AP_PA_after_b0s' + ' ' + ' '.join([scan for scan in sub_B0s_files if 'AP_after' in scan]) + ' ' + ' '.join([scan for scan in sub_B0s_files if 'PA_after' in scan]))\n"
   ]
  },
  {
   "cell_type": "markdown",
   "metadata": {},
   "source": [
    "#### Generate the acqparams.txt files"
   ]
  },
  {
   "cell_type": "code",
   "execution_count": 106,
   "metadata": {},
   "outputs": [
    {
     "name": "stdout",
     "output_type": "stream",
     "text": [
      "> Create the acqparams.txt files (one per session [before and after])\n"
     ]
    }
   ],
   "source": [
    "print('> Create the acqparams.txt files (one per session [''before'' and ''after''])')\n",
    "# first get the totalReadoutTime from the json files\n",
    "total_readout_time = {}\n",
    "for scan in scansBaseNames.keys():\n",
    "    with open(scansBaseNames[scan] + '.json') as json_file:        \n",
    "        scanData = json.load(json_file)\n",
    "        total_readout_time[scan] = scanData['TotalReadoutTime']\n",
    "\n",
    "for time in ['before', 'after']:\n",
    "    acqPars=[f'0 -1 0 {total_readout_time[f\"AP_{time}\"]}' for scan in sub_B0s_files if f'AP_{time}' in scan] + [f'0 1 0 {total_readout_time[f\"PA_{time}\"]}' for scan in sub_B0s_files if f'PA_{time}' in scan]\n",
    "    # write a list of strings to a file (one string per line):\n",
    "    with open(os.path.join(preproc_path, subjFolder, subjFolder + f'_{time}_acqparams.txt'), 'w') as f:\n",
    "        for item in acqPars:\n",
    "            f.write(\"%s\\n\" % item)"
   ]
  },
  {
   "cell_type": "markdown",
   "metadata": {},
   "source": [
    "#### Run TOPUP [currently printing the command]"
   ]
  },
  {
   "cell_type": "code",
   "execution_count": 126,
   "metadata": {},
   "outputs": [
    {
     "name": "stdout",
     "output_type": "stream",
     "text": [
      "qsub -pe smp 4 topup --imain=/Users/ranigera/Dropbox/DTI_tests/preproc/sub-120/sub-120_AP_PA_before_b0s             --datain=/Users/ranigera/Dropbox/DTI_tests/preproc/sub-120/sub-120_before_acqparams.txt             --config=b02b0.cnf             --out=/Users/ranigera/Dropbox/DTI_tests/preproc/sub-120/topup_sub-120_AP_PA_before_b0s             --iout=/Users/ranigera/Dropbox/DTI_tests/preproc/sub-120/topup_sub-120_AP_PA_before_b0s_iout             --fout=/Users/ranigera/Dropbox/DTI_tests/preproc/sub-120/topup_sub-120_AP_PA_before_b0s_fout       \n",
      "qsub -pe smp 4 topup --imain=/Users/ranigera/Dropbox/DTI_tests/preproc/sub-120/sub-120_AP_PA_after_b0s             --datain=/Users/ranigera/Dropbox/DTI_tests/preproc/sub-120/sub-120_after_acqparams.txt             --config=b02b0.cnf             --out=/Users/ranigera/Dropbox/DTI_tests/preproc/sub-120/topup_sub-120_AP_PA_after_b0s             --iout=/Users/ranigera/Dropbox/DTI_tests/preproc/sub-120/topup_sub-120_AP_PA_after_b0s_iout             --fout=/Users/ranigera/Dropbox/DTI_tests/preproc/sub-120/topup_sub-120_AP_PA_after_b0s_fout       \n"
     ]
    }
   ],
   "source": [
    "for time in ['before', 'after']:\n",
    "      print(f\"qsub -pe smp 4 topup --imain={os.path.join(preproc_path, subjFolder,subjFolder)}_AP_PA_{time}_b0s \\\n",
    "            --datain={os.path.join(preproc_path, subjFolder, subjFolder + f'_{time}_acqparams.txt')} \\\n",
    "            --config=b02b0.cnf \\\n",
    "            --out={os.path.join(preproc_path, subjFolder,'topup_' + subjFolder)}_AP_PA_{time}_b0s \\\n",
    "            --iout={os.path.join(preproc_path, subjFolder,'topup_' + subjFolder)}_AP_PA_{time}_b0s_iout \\\n",
    "            --fout={os.path.join(preproc_path, subjFolder,'topup_' + subjFolder)}_AP_PA_{time}_b0s_fout \\\n",
    "      \")"
   ]
  },
  {
   "cell_type": "markdown",
   "metadata": {},
   "source": [
    "### (2) EDDY\n",
    "* A tool for correcting Eddy currents (and motion)"
   ]
  },
  {
   "cell_type": "markdown",
   "metadata": {},
   "source": [
    "#### Average TOPUP corrected (unwarped) B0 volums (the .iout file) [for now it prints the command]"
   ]
  },
  {
   "cell_type": "code",
   "execution_count": 19,
   "metadata": {},
   "outputs": [
    {
     "name": "stdout",
     "output_type": "stream",
     "text": [
      "fslmaths /Users/ranigera/Dropbox/DTI_tests/preproc/sub-120/topup_sub-120_AP_PA_before_b0s_iout -Tmean /Users/ranigera/Dropbox/DTI_tests/preproc/sub-120/topup_sub-120_AP_PA_before_b0s_iout_avg\n",
      "fslmaths /Users/ranigera/Dropbox/DTI_tests/preproc/sub-120/topup_sub-120_AP_PA_after_b0s_iout -Tmean /Users/ranigera/Dropbox/DTI_tests/preproc/sub-120/topup_sub-120_AP_PA_after_b0s_iout_avg\n"
     ]
    }
   ],
   "source": [
    "for time in ['before', 'after']:\n",
    "      print(f\"fslmaths {os.path.join(preproc_path, subjFolder,'topup_' + subjFolder)}_AP_PA_{time}_b0s_iout -Tmean {os.path.join(preproc_path, subjFolder,'topup_' + subjFolder)}_AP_PA_{time}_b0s_iout_avg\")"
   ]
  },
  {
   "cell_type": "markdown",
   "metadata": {},
   "source": [
    "#### Run BET on the averaged B0s volume [for now it prints the command]"
   ]
  },
  {
   "cell_type": "code",
   "execution_count": 20,
   "metadata": {},
   "outputs": [
    {
     "name": "stdout",
     "output_type": "stream",
     "text": [
      "bet /Users/ranigera/Dropbox/DTI_tests/preproc/sub-120/topup_sub-120_AP_PA_before_b0s_iout_avg /Users/ranigera/Dropbox/DTI_tests/preproc/sub-120/topup_sub-120_AP_PA_before_b0s_iout_avg_brain -m -f 0.2\n",
      "bet /Users/ranigera/Dropbox/DTI_tests/preproc/sub-120/topup_sub-120_AP_PA_after_b0s_iout_avg /Users/ranigera/Dropbox/DTI_tests/preproc/sub-120/topup_sub-120_AP_PA_after_b0s_iout_avg_brain -m -f 0.2\n"
     ]
    }
   ],
   "source": [
    "for time in ['before', 'after']:\n",
    "      print(f\"bet {os.path.join(preproc_path, subjFolder,'topup_' + subjFolder)}_AP_PA_{time}_b0s_iout_avg {os.path.join(preproc_path, subjFolder,'topup_' + subjFolder)}_AP_PA_{time}_b0s_iout_avg_brain -m -f 0.2\")"
   ]
  },
  {
   "cell_type": "markdown",
   "metadata": {},
   "source": [
    "#### Create index.txt file\n",
    "This file maps the volumes in the main DTI data to the relevant line in the acqparams.txt and in the movpar.txt (assessed movement parameters from TOPUP) files\n",
    "* details in: https://www.youtube.com/watch?v=1T1cRnX7MpA"
   ]
  },
  {
   "cell_type": "code",
   "execution_count": 37,
   "metadata": {},
   "outputs": [
    {
     "name": "stdout",
     "output_type": "stream",
     "text": [
      "2\n",
      "3\n",
      "4\n",
      "5\n",
      "2\n",
      "3\n",
      "4\n",
      "5\n"
     ]
    }
   ],
   "source": [
    "# create an index.txt file for the EDDY\n",
    "for time in ['before', 'after']:\n",
    "    ind_to_write = 1\n",
    "    with open(os.path.join(preproc_path, subjFolder, f'{time}_index.txt'), 'w') as f:\n",
    "        for i in range(expectedVolums['AP']):   \n",
    "            if i > 0 and i in expectedB0s_indxs[f'AP_{time}']:\n",
    "                ind_to_write += 1\n",
    "                print(ind_to_write)\n",
    "            f.write(\"%s\\n\" %ind_to_write)\n"
   ]
  },
  {
   "cell_type": "markdown",
   "metadata": {},
   "source": [
    "#### Run EDDY [currently printing the command]\n",
    "* Correct for eddy currents and subject movement (and taking to account the suceptibility field calculated by TOPUP)"
   ]
  },
  {
   "cell_type": "code",
   "execution_count": 52,
   "metadata": {},
   "outputs": [
    {
     "name": "stdout",
     "output_type": "stream",
     "text": [
      "eddy --imain=/Users/ranigera/Dropbox/DTI_tests/sub-120/ses-1/dwi/sub-120_ses-1_acq-ap_run-01_dwi.nii.gz \\\n",
      "          --mask=/Users/ranigera/Dropbox/DTI_tests/preproc/sub-120/topup_sub-120_AP_PA_before_b0s_iout_avg_brain_mask \\\n",
      "          --index=/Users/ranigera/Dropbox/DTI_tests/preproc/sub-120/before_index.txt\\\n",
      "          --acqp=/Users/ranigera/Dropbox/DTI_tests/preproc/sub-120/sub-120_before_acqparams.txt \\\n",
      "          --bvecs=/Users/ranigera/Dropbox/DTI_tests/sub-120/ses-1/dwi/sub-120_ses-1_acq-ap_run-01_dwi.bvec \\\n",
      "          --bvals=/Users/ranigera/Dropbox/DTI_tests/sub-120/ses-1/dwi/sub-120_ses-1_acq-ap_run-01_dwi.bval \\\n",
      "          --topup=/Users/ranigera/Dropbox/DTI_tests/preproc/sub-120/topup_sub-120_AP_PA_before_b0s \\\n",
      "          --out=/Users/ranigera/Dropbox/DTI_tests/preproc/sub-120/eddy_unwarped_images_sub-120_before \\\n",
      "          --verbose      \n",
      "eddy --imain=/Users/ranigera/Dropbox/DTI_tests/sub-120/ses-1/dwi/sub-120_ses-1_acq-ap_run-02_dwi.nii.gz \\\n",
      "          --mask=/Users/ranigera/Dropbox/DTI_tests/preproc/sub-120/topup_sub-120_AP_PA_after_b0s_iout_avg_brain_mask \\\n",
      "          --index=/Users/ranigera/Dropbox/DTI_tests/preproc/sub-120/after_index.txt\\\n",
      "          --acqp=/Users/ranigera/Dropbox/DTI_tests/preproc/sub-120/sub-120_after_acqparams.txt \\\n",
      "          --bvecs=/Users/ranigera/Dropbox/DTI_tests/sub-120/ses-1/dwi/sub-120_ses-1_acq-ap_run-02_dwi.bvec \\\n",
      "          --bvals=/Users/ranigera/Dropbox/DTI_tests/sub-120/ses-1/dwi/sub-120_ses-1_acq-ap_run-02_dwi.bval \\\n",
      "          --topup=/Users/ranigera/Dropbox/DTI_tests/preproc/sub-120/topup_sub-120_AP_PA_after_b0s \\\n",
      "          --out=/Users/ranigera/Dropbox/DTI_tests/preproc/sub-120/eddy_unwarped_images_sub-120_after \\\n",
      "          --verbose      \n"
     ]
    }
   ],
   "source": [
    "for time in ['before', 'after']:\n",
    "     print(f\"eddy --imain={scansBaseNames[f'AP_{time}']}.nii.gz \\\\\\n\\\n",
    "          --mask={os.path.join(preproc_path, subjFolder,'topup_' + subjFolder)}_AP_PA_{time}_b0s_iout_avg_brain_mask \\\\\\n\\\n",
    "          --index={os.path.join(preproc_path, subjFolder, time + '_index.txt')}\\\\\\n\\\n",
    "          --acqp={os.path.join(preproc_path, subjFolder, subjFolder + '_' + time + '_acqparams.txt')} \\\\\\n\\\n",
    "          --bvecs={scansBaseNames[f'AP_{time}']}.bvec \\\\\\n\\\n",
    "          --bvals={scansBaseNames[f'AP_{time}']}.bval \\\\\\n\\\n",
    "          --topup={os.path.join(preproc_path, subjFolder,'topup_' + subjFolder)}_AP_PA_{time}_b0s \\\\\\n\\\n",
    "          --out={os.path.join(preproc_path, subjFolder,'eddy_unwarped_images_' + subjFolder)}_{time} \\\\\\n\\\n",
    "          --verbose \\\n",
    "     \")\n",
    "\n"
   ]
  },
  {
   "cell_type": "code",
   "execution_count": 28,
   "metadata": {},
   "outputs": [
    {
     "data": {
      "text/plain": [
       "'/Users/ranigera/Dropbox/DTI_tests/sub-120/ses-1/dwi/sub-120_ses-1_acq-ap_run-02_dwi'"
      ]
     },
     "execution_count": 28,
     "metadata": {},
     "output_type": "execute_result"
    }
   ],
   "source": [
    "scansBaseNames[f'AP_{time}']"
   ]
  },
  {
   "cell_type": "code",
   "execution_count": 27,
   "metadata": {},
   "outputs": [
    {
     "data": {
      "text/plain": [
       "{'AP_before': '/Users/ranigera/Dropbox/DTI_tests/sub-120/ses-1/dwi/sub-120_ses-1_acq-ap_run-01_dwi',\n",
       " 'PA_before': '/Users/ranigera/Dropbox/DTI_tests/sub-120/ses-1/dwi/sub-120_ses-1_acq-pa_run-01_dwi',\n",
       " 'AP_after': '/Users/ranigera/Dropbox/DTI_tests/sub-120/ses-1/dwi/sub-120_ses-1_acq-ap_run-02_dwi',\n",
       " 'PA_after': '/Users/ranigera/Dropbox/DTI_tests/sub-120/ses-1/dwi/sub-120_ses-1_acq-pa_run-02_dwi'}"
      ]
     },
     "execution_count": 27,
     "metadata": {},
     "output_type": "execute_result"
    }
   ],
   "source": [
    "scansBaseNames[f'AP_{time}']"
   ]
  },
  {
   "cell_type": "code",
   "execution_count": null,
   "metadata": {},
   "outputs": [],
   "source": [
    "print('> Extract B0s (using the fslroi):')\n",
    "sub_B0s_files = []\n",
    "for scan in scansBaseNames.keys():\n",
    "    for B0ind in B0s_indxs[scan]:\n",
    "        B0_file_name = os.path.join(preproc_path, subjFolder, subjFolder + '_' + scan + \"_b0_volInd-\" + str(B0ind) + \".nii.gz\")\n",
    "        print(f'fslroi {scansBaseNames[scan]}.nii.gz {B0_file_name} {B0ind} 1')\n",
    "        os.system(f'fslroi {scansBaseNames[scan]}.nii.gz {B0_file_name} {B0ind} 1')\n",
    "        sub_B0s_files.append(B0_file_name)\n"
   ]
  },
  {
   "cell_type": "code",
   "execution_count": 25,
   "metadata": {},
   "outputs": [
    {
     "name": "stdout",
     "output_type": "stream",
     "text": [
      "AP_before\n",
      "PA_before\n",
      "AP_after\n",
      "PA_after\n"
     ]
    }
   ],
   "source": [
    "for scan in scansBaseNames.keys():\n",
    "    print(scan)"
   ]
  },
  {
   "cell_type": "code",
   "execution_count": 18,
   "metadata": {},
   "outputs": [
    {
     "data": {
      "text/plain": [
       "[0, 1, 18, 35, 52]"
      ]
     },
     "execution_count": 18,
     "metadata": {},
     "output_type": "execute_result"
    }
   ],
   "source": [
    " expectedB0s_indxs[f'AP_{time}']"
   ]
  },
  {
   "cell_type": "code",
   "execution_count": null,
   "metadata": {},
   "outputs": [],
   "source": []
  },
  {
   "cell_type": "code",
   "execution_count": null,
   "metadata": {},
   "outputs": [],
   "source": []
  },
  {
   "cell_type": "code",
   "execution_count": null,
   "metadata": {},
   "outputs": [],
   "source": []
  },
  {
   "cell_type": "code",
   "execution_count": 31,
   "metadata": {},
   "outputs": [
    {
     "data": {
      "text/plain": [
       "{'AP_before': '/Users/ranigera/Dropbox/DTI_tests/sub-120/ses-1/dwi/sub-120_ses-1_acq-ap_run-01_dwi',\n",
       " 'PA_before': '/Users/ranigera/Dropbox/DTI_tests/sub-120/ses-1/dwi/sub-120_ses-1_acq-pa_run-01_dwi',\n",
       " 'AP_after': '/Users/ranigera/Dropbox/DTI_tests/sub-120/ses-1/dwi/sub-120_ses-1_acq-ap_run-02_dwi',\n",
       " 'PA_after': '/Users/ranigera/Dropbox/DTI_tests/sub-120/ses-1/dwi/sub-120_ses-1_acq-pa_run-02_dwi'}"
      ]
     },
     "execution_count": 31,
     "metadata": {},
     "output_type": "execute_result"
    }
   ],
   "source": [
    "scansBaseNames"
   ]
  },
  {
   "cell_type": "code",
   "execution_count": 22,
   "metadata": {},
   "outputs": [
    {
     "data": {
      "text/plain": [
       "'sub-120'"
      ]
     },
     "execution_count": 22,
     "metadata": {},
     "output_type": "execute_result"
    }
   ],
   "source": [
    "os.system('ls')\n",
    "subjFolder"
   ]
  },
  {
   "cell_type": "code",
   "execution_count": null,
   "metadata": {},
   "outputs": [],
   "source": [
    "os.system('sub-01_ses-1_acq-ap_run-01_dwi.bval')\n"
   ]
  },
  {
   "cell_type": "code",
   "execution_count": 227,
   "metadata": {},
   "outputs": [
    {
     "data": {
      "text/plain": [
       "True"
      ]
     },
     "execution_count": 227,
     "metadata": {},
     "output_type": "execute_result"
    }
   ],
   "source": [
    "B0s_indxs == expectedB0s_indxs"
   ]
  },
  {
   "cell_type": "code",
   "execution_count": 215,
   "metadata": {},
   "outputs": [
    {
     "ename": "Exception",
     "evalue": "The number of data points in the bval for one of the scans for subjetc 120 is not as expected.",
     "output_type": "error",
     "traceback": [
      "\u001b[0;31m---------------------------------------------------------------------------\u001b[0m",
      "\u001b[0;31mException\u001b[0m                                 Traceback (most recent call last)",
      "Input \u001b[0;32mIn [215]\u001b[0m, in \u001b[0;36m<module>\u001b[0;34m\u001b[0m\n\u001b[0;32m----> 1\u001b[0m \u001b[39mraise\u001b[39;00m \u001b[39mException\u001b[39;00m(\u001b[39mf\u001b[39m\u001b[39m'\u001b[39m\u001b[39mThe number of data points in the bval for one of the scans for subjetc \u001b[39m\u001b[39m{\u001b[39;00msub\u001b[39m}\u001b[39;00m\u001b[39m is not as expected.\u001b[39m\u001b[39m'\u001b[39m)\n",
      "\u001b[0;31mException\u001b[0m: The number of data points in the bval for one of the scans for subjetc 120 is not as expected."
     ]
    }
   ],
   "source": [
    "        raise Exception(f'The number of data points in the bval for one of the scans for subjetc {sub} is not as expected.')\n"
   ]
  },
  {
   "cell_type": "code",
   "execution_count": 206,
   "metadata": {},
   "outputs": [
    {
     "data": {
      "text/plain": [
       "69"
      ]
     },
     "execution_count": 206,
     "metadata": {},
     "output_type": "execute_result"
    }
   ],
   "source": [
    "pd.read_csv(scansBaseNames['AP_before'] + '.bval', header=None, sep=' ').T.shape[0]"
   ]
  },
  {
   "cell_type": "code",
   "execution_count": null,
   "metadata": {},
   "outputs": [],
   "source": [
    "expectedVolums = {\n",
    "    'AP': 69,\n",
    "    'PA' : 7,\n",
    "    }\n",
    "expectedB0s = {\n"
   ]
  },
  {
   "cell_type": "code",
   "execution_count": 45,
   "metadata": {},
   "outputs": [
    {
     "name": "stdout",
     "output_type": "stream",
     "text": [
      "../DTI_tests/sub-110/ses-1/dwi/sub-110_ses-1_acq-ap_run-01_dwi\n",
      "../DTI_tests/sub-110/ses-1/dwi/sub-110_ses-1_acq-pa_run-01_dwi\n",
      "../DTI_tests/sub-110/ses-1/dwi/sub-110_ses-1_acq-ap_run-02_dwi\n",
      "../DTI_tests/sub-110/ses-1/dwi/sub-110_ses-1_acq-pa_run-02_dwi\n"
     ]
    },
    {
     "data": {
      "text/plain": [
       "(None, None)"
      ]
     },
     "execution_count": 45,
     "metadata": {},
     "output_type": "execute_result"
    }
   ],
   "source": [
    "print(scanBaseName_AP_before), print(scanBaseName_PA_before)\n",
    "print(scanBaseName_AP_after), print(scanBaseName_PA_after)"
   ]
  },
  {
   "cell_type": "code",
   "execution_count": 60,
   "metadata": {},
   "outputs": [
    {
     "data": {
      "text/plain": [
       "'ses-3/dwi/'"
      ]
     },
     "execution_count": 60,
     "metadata": {},
     "output_type": "execute_result"
    }
   ],
   "source": [
    "f'ses-{last_sess}/dwi/'"
   ]
  },
  {
   "cell_type": "code",
   "execution_count": 54,
   "metadata": {},
   "outputs": [
    {
     "data": {
      "text/plain": [
       "'../DTI_tests/sub-240/ses-1/dwi/sub-240_ses-1_acq-pa_run-01_dwi.nii.gz'"
      ]
     },
     "execution_count": 54,
     "metadata": {},
     "output_type": "execute_result"
    }
   ],
   "source": [
    "scanBaseName_AP_before  = f'{os.path.join(DWI_path_before, \"sub-\" + str(sub) + \"_ses-1_acq-ap_run-01_dwi\")}'\n",
    "scanBaseName_PA_before  = f'{os.path.join(DWI_path_before, \"sub-\" + str(sub) + \"_ses-1_acq-pa_run-01_dwi\")}'"
   ]
  },
  {
   "cell_type": "code",
   "execution_count": 44,
   "metadata": {},
   "outputs": [
    {
     "ename": "NameError",
     "evalue": "name 'DWI_path' is not defined",
     "output_type": "error",
     "traceback": [
      "\u001b[0;31m---------------------------------------------------------------------------\u001b[0m",
      "\u001b[0;31mNameError\u001b[0m                                 Traceback (most recent call last)",
      "\u001b[1;32m/Users/ranigera/Dropbox/DTI_analysis/test3.ipynb Cell 13'\u001b[0m in \u001b[0;36m<module>\u001b[0;34m\u001b[0m\n\u001b[0;32m----> <a href='vscode-notebook-cell:/Users/ranigera/Dropbox/DTI_analysis/test3.ipynb#ch0000009?line=0'>1</a>\u001b[0m os\u001b[39m.\u001b[39mlistdir(DWI_path)\n",
      "\u001b[0;31mNameError\u001b[0m: name 'DWI_path' is not defined"
     ]
    }
   ],
   "source": [
    "os.listdir(DWI_path)"
   ]
  },
  {
   "cell_type": "code",
   "execution_count": 37,
   "metadata": {},
   "outputs": [
    {
     "data": {
      "text/plain": [
       "['sub-240', '.DS_Store', 'sub-110']"
      ]
     },
     "execution_count": 37,
     "metadata": {},
     "output_type": "execute_result"
    }
   ],
   "source": [
    "os.listdir(data_path)"
   ]
  },
  {
   "cell_type": "code",
   "execution_count": 36,
   "metadata": {},
   "outputs": [
    {
     "data": {
      "text/plain": [
       "True"
      ]
     },
     "execution_count": 36,
     "metadata": {},
     "output_type": "execute_result"
    }
   ],
   "source": [
    "group == '3day'"
   ]
  },
  {
   "cell_type": "code",
   "execution_count": 28,
   "metadata": {},
   "outputs": [
    {
     "data": {
      "text/plain": [
       "False"
      ]
     },
     "execution_count": 28,
     "metadata": {},
     "output_type": "execute_result"
    }
   ],
   "source": [
    "int(299)>300"
   ]
  },
  {
   "cell_type": "code",
   "execution_count": null,
   "metadata": {},
   "outputs": [],
   "source": []
  }
 ],
 "metadata": {
  "interpreter": {
   "hash": "7504252075d046cca664b6be5d41f96883e23643544d29c440209b91eeb6bd3e"
  },
  "kernelspec": {
   "display_name": "Python 3",
   "language": "python",
   "name": "python3"
  },
  "language_info": {
   "codemirror_mode": {
    "name": "ipython",
    "version": 3
   },
   "file_extension": ".py",
   "mimetype": "text/x-python",
   "name": "python",
   "nbconvert_exporter": "python",
   "pygments_lexer": "ipython3",
   "version": "3.8.3"
  },
  "orig_nbformat": 4
 },
 "nbformat": 4,
 "nbformat_minor": 2
}
